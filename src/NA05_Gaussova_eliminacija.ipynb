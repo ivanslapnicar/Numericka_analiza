{
 "cells": [
  {
   "cell_type": "markdown",
   "metadata": {},
   "source": [
    "# Gaussova eliminacija\n",
    "---\n",
    "\n",
    "## Općenito\n",
    "\n",
    "Sustav $Ax=b$\n",
    "se rješava u tri koraka (__bez pivotiranja__):\n",
    "\n",
    "1. $A=LU$ (LU rastav, $O(\\frac{2}{3}n^3)$ operacija),\n",
    "2. $Ly=b$ (donje trokutrasti sustav, $n^2$ operacija),\n",
    "3. $Ux=y$ (gornje torkutasti sustav, $n^2$ operacija).\n",
    "\n",
    "Ukoliko pivotiramo, tada je\n",
    "\n",
    "1. $PA=LU$, \n",
    "2. $Ly=P^T b$,\n",
    "3. $Ux=y$. "
   ]
  },
  {
   "cell_type": "markdown",
   "metadata": {},
   "source": [
    "## LU rastav"
   ]
  },
  {
   "cell_type": "code",
   "execution_count": 1,
   "metadata": {
    "collapsed": false
   },
   "outputs": [
    {
     "data": {
      "text/plain": [
       "mylu (generic function with 1 method)"
      ]
     },
     "execution_count": 1,
     "metadata": {},
     "output_type": "execute_result"
    }
   ],
   "source": [
    "function mylu{T}(A1::Array{T}) # Strang, page 100\n",
    "    A=deepcopy(A1)\n",
    "    n,m=size(A)\n",
    "    U=map(Float64,[zero(A[1,1]) for i=1:n, j=1:n]) # This acccepts blocks and numbers\n",
    "    L=map(Float64,[zero(A[1,1]) for i=1:n, j=1:n])\n",
    "    for k=1:n\n",
    "        L[k,k]=one(A[1,1])\n",
    "        for i=k+1:n\n",
    "            L[i,k]=A[i,k]/A[k,k]\n",
    "            for j=k+1:n\n",
    "                A[i,j]=A[i,j]-L[i,k]*A[k,j]\n",
    "            end\n",
    "        end\n",
    "        for j=k:n\n",
    "            U[k,j]=A[k,j]\n",
    "        end\n",
    "    end\n",
    "    L,U\n",
    "end"
   ]
  },
  {
   "cell_type": "code",
   "execution_count": 2,
   "metadata": {
    "collapsed": false
   },
   "outputs": [
    {
     "data": {
      "text/plain": [
       "6x6 Array{Float64,2}:\n",
       " 0.407875  0.00391919  0.952309  0.553738  0.597253  0.214889\n",
       " 0.207402  0.00839688  0.188561  0.856547  0.273671  0.736088\n",
       " 0.277228  0.899913    0.698302  0.484642  0.284409  0.729688\n",
       " 0.956715  0.809309    0.958642  0.663639  0.680984  0.362086\n",
       " 0.623493  0.733428    0.85406   0.977112  0.49684   0.146818\n",
       " 0.877573  0.379       0.958652  0.579757  0.412833  0.247733"
      ]
     },
     "execution_count": 2,
     "metadata": {},
     "output_type": "execute_result"
    }
   ],
   "source": [
    "A=rand(6,6)\n",
    "# A=[2.0 2;3 4]"
   ]
  },
  {
   "cell_type": "code",
   "execution_count": 3,
   "metadata": {
    "collapsed": false
   },
   "outputs": [
    {
     "data": {
      "text/plain": [
       "(\n",
       "6x6 Array{Float64,2}:\n",
       " 1.0         0.0     0.0       0.0       0.0      0.0\n",
       " 0.508494    1.0     0.0       0.0       0.0      0.0\n",
       " 0.679688  140.108   1.0       0.0       0.0      0.0\n",
       " 2.34561   124.94    0.859905  1.0       0.0      0.0\n",
       " 1.52864   113.591   0.795238  0.365716  1.0      0.0\n",
       " 2.15157    57.8651  0.38621   0.85388   3.85513  1.0,\n",
       "\n",
       "6x6 Array{Float64,2}:\n",
       " 0.407875  0.00391919   0.952309    0.553738   0.597253     0.214889\n",
       " 0.0       0.006404    -0.295682    0.574975  -0.0300283    0.626819\n",
       " 0.0       0.0         41.4784    -80.4501     4.08566    -87.2385  \n",
       " 0.0       0.0          0.0        -3.29317   -0.481478    -3.43994 \n",
       " 0.0       0.0          0.0         0.0       -0.078184    -0.749272\n",
       " 0.0       0.0          0.0         0.0        0.0          3.03269 )"
      ]
     },
     "execution_count": 3,
     "metadata": {},
     "output_type": "execute_result"
    }
   ],
   "source": [
    "L,U=mylu(A)"
   ]
  },
  {
   "cell_type": "code",
   "execution_count": 4,
   "metadata": {
    "collapsed": false
   },
   "outputs": [
    {
     "data": {
      "text/plain": [
       "6x6 Array{Float64,2}:\n",
       " 0.0          0.0  0.0           0.0          0.0           0.0        \n",
       " 0.0          0.0  0.0           0.0          0.0           0.0        \n",
       " 0.0          0.0  2.44249e-15   6.21725e-15  2.22045e-16  -4.21885e-15\n",
       " 1.11022e-16  0.0  1.55431e-15  -1.08802e-14  2.22045e-16   1.06581e-14\n",
       " 0.0          0.0  5.10703e-15   2.22045e-15  0.0          -5.55112e-15\n",
       " 1.11022e-16  0.0  8.88178e-16  -8.88178e-16  0.0          -4.44089e-15"
      ]
     },
     "execution_count": 4,
     "metadata": {},
     "output_type": "execute_result"
    }
   ],
   "source": [
    "L*U-A"
   ]
  },
  {
   "cell_type": "markdown",
   "metadata": {},
   "source": [
    "## Trokutasti sustavi"
   ]
  },
  {
   "cell_type": "code",
   "execution_count": 5,
   "metadata": {
    "collapsed": false
   },
   "outputs": [
    {
     "data": {
      "text/plain": [
       "myL (generic function with 1 method)"
      ]
     },
     "execution_count": 5,
     "metadata": {},
     "output_type": "execute_result"
    }
   ],
   "source": [
    "function myU{T}(U::Array{T},b1::Array{T})\n",
    "    b=deepcopy(b1)\n",
    "    n=length(b)\n",
    "    for i=n:-1:1\n",
    "       for j=n:-1:i+1\n",
    "            b[i]=b[i]-U[i,j]*b[j]\n",
    "       end\n",
    "        b[i]=b[i]/U[i,i]\n",
    "    end\n",
    "    b\n",
    "end\n",
    "\n",
    "function myL{T}(L::Array{T},b1::Array{T})\n",
    "    b=deepcopy(b1)\n",
    "    n=length(b)\n",
    "    for i=1:n\n",
    "        for j=1:i-1\n",
    "            b[i]=b[i]-L[i,j]*b[j]\n",
    "        end\n",
    "        b[i]=b[i]/L[i,i]\n",
    "    end\n",
    "    b\n",
    "end"
   ]
  },
  {
   "cell_type": "code",
   "execution_count": 6,
   "metadata": {
    "collapsed": false
   },
   "outputs": [
    {
     "data": {
      "text/plain": [
       "6-element Array{Float64,1}:\n",
       " 0.457505\n",
       " 0.523093\n",
       " 0.987595\n",
       " 0.535645\n",
       " 0.586494\n",
       " 0.417633"
      ]
     },
     "execution_count": 6,
     "metadata": {},
     "output_type": "execute_result"
    }
   ],
   "source": [
    "b=rand(6)"
   ]
  },
  {
   "cell_type": "code",
   "execution_count": 7,
   "metadata": {
    "collapsed": false
   },
   "outputs": [
    {
     "data": {
      "text/plain": [
       "6-element Array{Float64,1}:\n",
       " -0.472074\n",
       "  0.309572\n",
       "  0.581203\n",
       "  0.185441\n",
       " -0.211651\n",
       "  0.554137"
      ]
     },
     "execution_count": 7,
     "metadata": {},
     "output_type": "execute_result"
    }
   ],
   "source": [
    "# Rijesimo susatav pomocu ugradjene funkcije:\n",
    "x=A\\b"
   ]
  },
  {
   "cell_type": "code",
   "execution_count": 8,
   "metadata": {
    "collapsed": false
   },
   "outputs": [
    {
     "data": {
      "text/plain": [
       "6-element Array{Float64,1}:\n",
       "   0.457505\n",
       "   0.290454\n",
       " -40.0183  \n",
       "  -2.41498 \n",
       "  -0.398652\n",
       "   1.68053 "
      ]
     },
     "execution_count": 8,
     "metadata": {},
     "output_type": "execute_result"
    }
   ],
   "source": [
    "# Rijesimo sustav pomocu nasih funkcija\n",
    "y=myL(L,b)"
   ]
  },
  {
   "cell_type": "code",
   "execution_count": 9,
   "metadata": {
    "collapsed": false
   },
   "outputs": [
    {
     "data": {
      "text/plain": [
       "6-element Array{Float64,1}:\n",
       " -0.472074\n",
       "  0.309572\n",
       "  0.581203\n",
       "  0.185441\n",
       " -0.211651\n",
       "  0.554137"
      ]
     },
     "execution_count": 9,
     "metadata": {},
     "output_type": "execute_result"
    }
   ],
   "source": [
    "x1=myU(U,y)"
   ]
  },
  {
   "cell_type": "code",
   "execution_count": 10,
   "metadata": {
    "collapsed": false
   },
   "outputs": [
    {
     "data": {
      "text/plain": [
       "6-element Array{Float64,1}:\n",
       "  1.83187e-15\n",
       "  3.88578e-15\n",
       "  4.44089e-16\n",
       " -7.29972e-15\n",
       "  2.30371e-15\n",
       "  7.10543e-15"
      ]
     },
     "execution_count": 10,
     "metadata": {},
     "output_type": "execute_result"
    }
   ],
   "source": [
    "# Usporedimo rjesenja\n",
    "x-x1"
   ]
  },
  {
   "cell_type": "markdown",
   "metadata": {},
   "source": [
    "## Brzina\n",
    "\n",
    "Program `mylu()` je jako spor. Između ostalog, alocira nepotrebno tri matrice i ne računa s blok matricama.\n",
    "\n",
    "Program se može reformulirati na načun da su i $L$ i $U$ spremljene u polje $A$, pri čemu se dijagonala od $L$ ne sprema, jer su svi elementi jednaki 1 (vidi [Introduction to Linear Algebra, str. 100][St09]):\n",
    "\n",
    "[St09]: https://books.google.hr/books?id=M19gPgAACAAJ&dq=strang%20introduction&hl=hr&source=gbs_book_other_versions \"Gilbert Strang, 'Introduction to Linear Algebra, 4th Edition', Wellesley-Cambridge Press, 2009\"\n"
   ]
  },
  {
   "cell_type": "code",
   "execution_count": 11,
   "metadata": {
    "collapsed": false
   },
   "outputs": [
    {
     "data": {
      "text/plain": [
       "mylu1 (generic function with 1 method)"
      ]
     },
     "execution_count": 11,
     "metadata": {},
     "output_type": "execute_result"
    }
   ],
   "source": [
    "function mylu1{T}(A1::Array{T}) # Strang, page 100\n",
    "    A=deepcopy(A1)\n",
    "    n,m=size(A)\n",
    "    for k=1:n-1\n",
    "        rho=k+1:n\n",
    "        A[rho,k]=A[rho,k]/A[k,k]\n",
    "        A[rho,rho]=A[rho,rho]-A[rho,k]*A[k,rho]\n",
    "    end\n",
    "    A\n",
    "end"
   ]
  },
  {
   "cell_type": "code",
   "execution_count": 12,
   "metadata": {
    "collapsed": false
   },
   "outputs": [
    {
     "data": {
      "text/plain": [
       "6x6 Array{Float64,2}:\n",
       " 0.407875    0.00391919   0.952309    0.553738   0.597253     0.214889\n",
       " 0.508494    0.006404    -0.295682    0.574975  -0.0300283    0.626819\n",
       " 0.679688  140.108       41.4784    -80.4501     4.08566    -87.2385  \n",
       " 2.34561   124.94         0.859905   -3.29317   -0.481478    -3.43994 \n",
       " 1.52864   113.591        0.795238    0.365716  -0.078184    -0.749272\n",
       " 2.15157    57.8651       0.38621     0.85388    3.85513      3.03269 "
      ]
     },
     "execution_count": 12,
     "metadata": {},
     "output_type": "execute_result"
    }
   ],
   "source": [
    "mylu1(A)"
   ]
  },
  {
   "cell_type": "code",
   "execution_count": 13,
   "metadata": {
    "collapsed": false
   },
   "outputs": [
    {
     "data": {
      "text/plain": [
       "(\n",
       "6x6 Array{Float64,2}:\n",
       " 1.0         0.0     0.0       0.0       0.0      0.0\n",
       " 0.508494    1.0     0.0       0.0       0.0      0.0\n",
       " 0.679688  140.108   1.0       0.0       0.0      0.0\n",
       " 2.34561   124.94    0.859905  1.0       0.0      0.0\n",
       " 1.52864   113.591   0.795238  0.365716  1.0      0.0\n",
       " 2.15157    57.8651  0.38621   0.85388   3.85513  1.0,\n",
       "\n",
       "6x6 Array{Float64,2}:\n",
       " 0.407875  0.00391919   0.952309    0.553738   0.597253     0.214889\n",
       " 0.0       0.006404    -0.295682    0.574975  -0.0300283    0.626819\n",
       " 0.0       0.0         41.4784    -80.4501     4.08566    -87.2385  \n",
       " 0.0       0.0          0.0        -3.29317   -0.481478    -3.43994 \n",
       " 0.0       0.0          0.0         0.0       -0.078184    -0.749272\n",
       " 0.0       0.0          0.0         0.0        0.0          3.03269 )"
      ]
     },
     "execution_count": 13,
     "metadata": {},
     "output_type": "execute_result"
    }
   ],
   "source": [
    "L,U"
   ]
  },
  {
   "cell_type": "markdown",
   "metadata": {},
   "source": [
    "Usporedimo brzine LAPACK-ovog programa `lu()` i našeg naivnog programa `mylu()`na većoj dimenziji. \n",
    "\n",
    "Izvedite program par puta radi točnijeg mjerenja brzine."
   ]
  },
  {
   "cell_type": "code",
   "execution_count": 14,
   "metadata": {
    "collapsed": false
   },
   "outputs": [
    {
     "data": {
      "text/plain": [
       "512x512 Array{Float64,2}:\n",
       " 0.2516     0.191832   0.842952   …  0.374108   0.2304     0.646028 \n",
       " 0.28979    0.36691    0.371066      0.790459   0.811175   0.606334 \n",
       " 0.0459577  0.204151   0.0338093     0.465089   0.598063   0.0977611\n",
       " 0.750103   0.0161151  0.165072      0.647708   0.373439   0.991384 \n",
       " 0.380244   0.360456   0.849208      0.833002   0.725416   0.0904813\n",
       " 0.0891538  0.535158   0.877206   …  0.0909253  0.345141   0.586253 \n",
       " 0.685598   0.251301   0.30524       0.152832   0.334099   0.667848 \n",
       " 0.659047   0.754688   0.732688      0.690562   0.900245   0.465177 \n",
       " 0.724867   0.598233   0.95503       0.733141   0.69062    0.33355  \n",
       " 0.469034   0.252997   0.192736      0.0292803  0.430327   0.469653 \n",
       " 0.684823   0.595011   0.272188   …  0.643129   0.0831563  0.155625 \n",
       " 0.478494   0.525652   0.23624       0.70623    0.845384   0.497098 \n",
       " 0.620253   0.322442   0.845636      0.584924   0.982135   0.188027 \n",
       " ⋮                                ⋱             ⋮                   \n",
       " 0.846117   0.125118   0.257772   …  0.312894   0.321046   0.4083   \n",
       " 0.3629     0.13676    0.530698      0.157016   0.629028   0.301641 \n",
       " 0.813957   0.522526   0.12426       0.296367   0.440007   0.208096 \n",
       " 0.878696   0.564456   0.983329      0.0350628  0.557333   0.211178 \n",
       " 0.504461   0.163224   0.524439      0.557712   0.334978   0.945322 \n",
       " 0.495407   0.382487   0.311294   …  0.664869   0.674824   0.32912  \n",
       " 0.800037   0.24853    0.517137      0.457405   0.164577   0.791004 \n",
       " 0.930651   0.949256   0.61823       0.947844   0.871983   0.430433 \n",
       " 0.672248   0.186022   0.69867       0.861833   0.553173   0.587914 \n",
       " 0.890468   0.781352   0.54299       0.04166    0.024072   0.688767 \n",
       " 0.05051    0.78251    0.0763833  …  0.917684   0.846301   0.29538  \n",
       " 0.473509   0.05956    0.778744      0.781502   0.584185   0.67474  "
      ]
     },
     "execution_count": 14,
     "metadata": {},
     "output_type": "execute_result"
    }
   ],
   "source": [
    "n=512\n",
    "A=rand(n,n)"
   ]
  },
  {
   "cell_type": "code",
   "execution_count": 16,
   "metadata": {
    "collapsed": false
   },
   "outputs": [
    {
     "name": "stdout",
     "output_type": "stream",
     "text": [
      "  0.187391 seconds (55 allocations: 6.010 MB)\n"
     ]
    }
   ],
   "source": [
    "@time lu(A);"
   ]
  },
  {
   "cell_type": "code",
   "execution_count": 18,
   "metadata": {
    "collapsed": false
   },
   "outputs": [
    {
     "name": "stdout",
     "output_type": "stream",
     "text": [
      "  0.383187 seconds (17.26 k allocations: 1.004 GB, 8.63% gc time)\n"
     ]
    }
   ],
   "source": [
    "@time mylu1(A);"
   ]
  },
  {
   "cell_type": "markdown",
   "metadata": {},
   "source": [
    "### Blok varijanta\n",
    "\n",
    "`mylu()` je nekoliko desetaka puta sporiji od `lu()`. `mylu1()` je malo sporiji od `lu()`.\n",
    "\n",
    "Probajmo s blokovima:\n",
    "\n",
    "Preradimo `mylu1()` za rad s blokovima (nemamo ugrađeno pivotiranje!)"
   ]
  },
  {
   "cell_type": "code",
   "execution_count": 19,
   "metadata": {
    "collapsed": false
   },
   "outputs": [
    {
     "data": {
      "text/plain": [
       "mylu2 (generic function with 1 method)"
      ]
     },
     "execution_count": 19,
     "metadata": {},
     "output_type": "execute_result"
    }
   ],
   "source": [
    "function mylu2{T}(A1::Array{T}) # Strang, page 100\n",
    "    A=deepcopy(A1)\n",
    "    n,m=size(A)\n",
    "    for k=1:n-1\n",
    "        for rho=k+1:n\n",
    "            A[rho,k]=A[rho,k]/A[k,k]\n",
    "            for l=k+1:n\n",
    "                A[rho,l]=A[rho,l]-A[rho,k]*A[k,l]\n",
    "            end\n",
    "        end\n",
    "    end\n",
    "    A\n",
    "end"
   ]
  },
  {
   "cell_type": "markdown",
   "metadata": {},
   "source": [
    "Napravimo prvo mali test:"
   ]
  },
  {
   "cell_type": "code",
   "execution_count": 20,
   "metadata": {
    "collapsed": false
   },
   "outputs": [],
   "source": [
    "# Probajte k,l=32,16 i k,l=64,8\n",
    "k,l=4,4\n",
    "Ab=[rand(k,k) for i=1:l, j=1:l];"
   ]
  },
  {
   "cell_type": "code",
   "execution_count": 21,
   "metadata": {
    "collapsed": false
   },
   "outputs": [
    {
     "data": {
      "text/plain": [
       "4x4 Array{Any,2}:\n",
       " 4x4 Array{Float64,2}:\n",
       " 0.084012  0.93731   0.293078  0.371178 \n",
       " 0.949653  0.685362  0.882906  0.0994496\n",
       " 0.962597  0.925026  0.2404    0.0123154\n",
       " 0.390697  0.497566  0.486494  0.535175                           …  4x4 Array{Float64,2}:\n",
       " 0.0486935  0.425281  0.351231  0.256995\n",
       " 0.217795   0.20976   0.822085  0.168398\n",
       " 0.905219   0.529935  0.471659  0.95463 \n",
       " 0.779906   0.127414  0.632476  0.378935                    \n",
       " 4x4 Array{Float64,2}:\n",
       "  0.032512   -0.193367  0.429998   0.686491\n",
       "  0.0275252  -0.809537  0.670505   1.7922  \n",
       " -0.776783    0.205559  0.0149778  1.53059 \n",
       " -0.440224   -1.33219   1.07926    2.32193                  4x4 Array{Float64,2}:\n",
       " -0.548339  0.482542    0.139838   -0.237628 \n",
       " -1.74937   0.282703   -0.0705115  -0.523164 \n",
       " -0.530076  0.0884251  -0.503984   -0.0185226\n",
       " -1.78794   0.200865    0.134915   -1.00068  \n",
       " 4x4 Array{Float64,2}:\n",
       " -0.633159   -0.889003   0.375102    2.18428  \n",
       "  0.286766    0.298826  -0.0243404   0.190864 \n",
       "  1.00028     0.694276  -0.70814    -0.0276161\n",
       "  0.0787504  -0.131988  -0.360954    1.59798       4x4 Array{Float64,2}:\n",
       " 0.421294   0.14806    0.0201796  0.741342\n",
       " 0.525248  -0.163296  -0.272017   0.130102\n",
       " 5.46233   -1.68008    0.108239   1.27646 \n",
       " 5.12175   -0.725581   0.479238   1.30233             \n",
       " 4x4 Array{Float64,2}:\n",
       " -0.947995  -0.893941   0.706582  2.31004\n",
       "  0.246345   0.319351  -0.764312  1.26651\n",
       "  0.10775    0.159837  -0.111219  0.47428\n",
       " -0.46277   -0.798623   0.575594  2.06395                         4x4 Array{Float64,2}:\n",
       " -0.177838  -1.0018    -1.2877    -0.551469\n",
       " -1.95088    1.31194    0.973346   0.524593\n",
       " -3.1813     0.33938    0.797854  -0.19325 \n",
       "  0.604905  -0.532348  -0.697164  -0.4341          "
      ]
     },
     "execution_count": 21,
     "metadata": {},
     "output_type": "execute_result"
    }
   ],
   "source": [
    "A0=mylu2(Ab)"
   ]
  },
  {
   "cell_type": "code",
   "execution_count": 22,
   "metadata": {
    "collapsed": false
   },
   "outputs": [],
   "source": [
    "# Provjera\n",
    "U=triu(A0)\n",
    "L=tril(A0)\n",
    "for i=1:maximum(size(L))\n",
    "    L[i,i]=eye(L[1,1])\n",
    "end"
   ]
  },
  {
   "cell_type": "code",
   "execution_count": 23,
   "metadata": {
    "collapsed": false
   },
   "outputs": [
    {
     "data": {
      "text/plain": [
       "4x4 Array{Any,2}:\n",
       " 4x4 Array{Float64,2}:\n",
       " 0.0  0.0  0.0  0.0\n",
       " 0.0  0.0  0.0  0.0\n",
       " 0.0  0.0  0.0  0.0\n",
       " 0.0  0.0  0.0  0.0                                                                                                                                          …  4x4 Array{Float64,2}:\n",
       " 0.0  0.0  0.0  0.0\n",
       " 0.0  0.0  0.0  0.0\n",
       " 0.0  0.0  0.0  0.0\n",
       " 0.0  0.0  0.0  0.0                                                                        \n",
       " 4x4 Array{Float64,2}:\n",
       " 0.0          0.0          0.0           0.0        \n",
       " 1.11022e-16  0.0          1.11022e-16  -2.22045e-16\n",
       " 0.0          1.11022e-16  1.11022e-16  -2.22045e-16\n",
       " 1.11022e-16  1.11022e-16  4.44089e-16   0.0                 4x4 Array{Float64,2}:\n",
       " 0.0  0.0  0.0  0.0\n",
       " 0.0  0.0  0.0  0.0\n",
       " 0.0  0.0  0.0  0.0\n",
       " 0.0  0.0  0.0  0.0                                                                        \n",
       " 4x4 Array{Float64,2}:\n",
       " 0.0          0.0   1.11022e-16   0.0        \n",
       " 5.55112e-17  0.0  -5.55112e-17  -5.55112e-17\n",
       " 1.59595e-16  0.0   0.0           5.55112e-17\n",
       " 0.0          0.0  -1.11022e-16   0.0                                             4x4 Array{Float64,2}:\n",
       "  0.0          0.0  0.0  0.0        \n",
       "  0.0          0.0  0.0  0.0        \n",
       " -4.44089e-16  0.0  0.0  0.0        \n",
       " -2.22045e-16  0.0  0.0  1.11022e-16    \n",
       " 4x4 Array{Float64,2}:\n",
       " -2.22045e-16  1.11022e-16  0.0          -2.22045e-16\n",
       "  1.11022e-16  0.0          1.11022e-16  -1.11022e-16\n",
       "  2.77556e-17  0.0          0.0           0.0        \n",
       "  1.11022e-16  0.0          2.22045e-16  -3.33067e-16     4x4 Array{Float64,2}:\n",
       " -2.22045e-16   2.22045e-16  0.0  0.0\n",
       " -2.22045e-16   2.22045e-16  0.0  0.0\n",
       "  0.0          -5.55112e-17  0.0  0.0\n",
       "  2.22045e-16   0.0          0.0  0.0"
      ]
     },
     "execution_count": 23,
     "metadata": {},
     "output_type": "execute_result"
    }
   ],
   "source": [
    "Res=L*U-Ab"
   ]
  },
  {
   "cell_type": "code",
   "execution_count": 24,
   "metadata": {
    "collapsed": false
   },
   "outputs": [
    {
     "data": {
      "text/plain": [
       "unblock (generic function with 1 method)"
      ]
     },
     "execution_count": 24,
     "metadata": {},
     "output_type": "execute_result"
    }
   ],
   "source": [
    "# pretvaranje blok matrice u obicnu\n",
    "unblock(A) = mapreduce(identity, hcat, [mapreduce(identity, vcat, A[:,i]) for i = 1:size(A,2)])"
   ]
  },
  {
   "cell_type": "code",
   "execution_count": 25,
   "metadata": {
    "collapsed": false
   },
   "outputs": [
    {
     "data": {
      "text/plain": [
       "8.784958395936023e-16"
      ]
     },
     "execution_count": 25,
     "metadata": {},
     "output_type": "execute_result"
    }
   ],
   "source": [
    "norm(unblock(Res))"
   ]
  },
  {
   "cell_type": "markdown",
   "metadata": {},
   "source": [
    "Sada probajmo veću dimenziju:"
   ]
  },
  {
   "cell_type": "code",
   "execution_count": 26,
   "metadata": {
    "collapsed": true
   },
   "outputs": [],
   "source": [
    "# Probajmo vece dimenzije (n=k*l)\n",
    "k,l=32,16\n",
    "Ab=[rand(k,k) for i=1:l, j=1:l];"
   ]
  },
  {
   "cell_type": "code",
   "execution_count": 27,
   "metadata": {
    "collapsed": false
   },
   "outputs": [
    {
     "name": "stdout",
     "output_type": "stream",
     "text": [
      "  0.081171 seconds (8.79 k allocations: 26.526 MB, 5.77% gc time)\n"
     ]
    }
   ],
   "source": [
    "@time mylu2(Ab);"
   ]
  },
  {
   "cell_type": "markdown",
   "metadata": {},
   "source": [
    "Vidimo da je `mylu2()` gotovo jednako brz kao `lu()`, uz napomenu da `mylu2()` nema ugrađeno pivotiranje. "
   ]
  },
  {
   "cell_type": "markdown",
   "metadata": {},
   "source": [
    "## Pivotiranje\n",
    "\n",
    "Stanardne implementacije uvijek računaju Gaussovu eliminaciju s _parcijalnim pivotiranjem_:\n",
    "\n",
    "> u svakom koraku se retci pivotiranju tako da pivotni element ima najveću apsolutnu vrijednst u danom stupcu. Na taj \n",
    "> način je \n",
    "> \n",
    "> $$|L_{ij}| \\leq 1,$$\n",
    "> \n",
    "> što u praksi dovoljno spriječava rast elemenata.\n"
   ]
  },
  {
   "cell_type": "code",
   "execution_count": 28,
   "metadata": {
    "collapsed": false
   },
   "outputs": [
    {
     "data": {
      "text/plain": [
       "(\n",
       "5x5 Array{Float64,2}:\n",
       " 1.0        0.0        0.0        0.0        0.0\n",
       " 0.455445   1.0        0.0        0.0        0.0\n",
       " 0.332549   0.350739   1.0        0.0        0.0\n",
       " 0.953197  -0.962446  -0.279472   1.0        0.0\n",
       " 0.667283  -0.570325  -0.0843338  0.0826613  1.0,\n",
       "\n",
       "5x5 Array{Float64,2}:\n",
       " 0.945959  0.370105  0.432166   0.978507   0.196637\n",
       " 0.0       0.342623  0.102859  -0.302302   0.822171\n",
       " 0.0       0.0       0.321609  -0.0744019  0.152325\n",
       " 0.0       0.0       0.0       -0.926844   1.18687 \n",
       " 0.0       0.0       0.0        0.0        0.627599,\n",
       "\n",
       "[1,2,3,5,4])"
      ]
     },
     "execution_count": 28,
     "metadata": {},
     "output_type": "execute_result"
    }
   ],
   "source": [
    "A=rand(5,5)\n",
    "L,U,P=lu(A)"
   ]
  },
  {
   "cell_type": "code",
   "execution_count": 29,
   "metadata": {
    "collapsed": false
   },
   "outputs": [
    {
     "data": {
      "text/plain": [
       "5x5 Array{Float64,2}:\n",
       " 0.0          0.0  0.0   0.0          0.0        \n",
       " 0.0          0.0  0.0   0.0          0.0        \n",
       " 0.0          0.0  0.0   0.0          0.0        \n",
       " 1.11022e-16  0.0  0.0  -1.11022e-16  1.11022e-16\n",
       " 0.0          0.0  0.0   0.0          1.11022e-16"
      ]
     },
     "execution_count": 29,
     "metadata": {},
     "output_type": "execute_result"
    }
   ],
   "source": [
    "L*U-A[P,:]"
   ]
  },
  {
   "cell_type": "markdown",
   "metadata": {},
   "source": [
    "### Potpuno pivotiranje\n",
    "\n",
    "Sljedeći program računa Gaussovu eliminaciju s _potpunim pivotiranjem_ - u svakom koraku retci i stupci zamijene na način da se na pivotnu poziciju dovede element koji ima najveću apsolutnu vrijednost u trenutnoj podmatrici."
   ]
  },
  {
   "cell_type": "code",
   "execution_count": 30,
   "metadata": {
    "collapsed": false
   },
   "outputs": [
    {
     "data": {
      "text/plain": [
       "gecp (generic function with 1 method)"
      ]
     },
     "execution_count": 30,
     "metadata": {},
     "output_type": "execute_result"
    }
   ],
   "source": [
    "function gecp{T}(A1::Array{T})\n",
    "    # Gaussova eliminacija s potpunim pivotiranjem\n",
    "    # Izlaz: Pr*L*U*Pc'=A ili Pr'*A*Pc=L*U\n",
    "    A=deepcopy(A1)\n",
    "    n,m=size(A)\n",
    "    Pr=eye(n,n)\n",
    "    Pc=eye(n,n)\n",
    "    D=zeros(n)\n",
    "    for i=1:n-1\n",
    "        am1,im1=findmax(abs(A[i:n,i:n]),1)\n",
    "        am,JJ=findmax(am1)\n",
    "        II=mod(im1[JJ],(n-i+1))\n",
    "        if II==0\n",
    "            II=n-i+1\n",
    "        end\n",
    "        imax=II+i-1\n",
    "        jmax=JJ+i-1\n",
    "        #  zamijena redaka\n",
    "        if (imax != i)\n",
    "            temp = Pr[:,i]\n",
    "            Pr[:,i] = Pr[:,imax]\n",
    "            Pr[:,imax] = temp\n",
    "            temp = A[i,:]\n",
    "            A[i,:] = A[imax,:]\n",
    "            A[imax,:] = temp\n",
    "        end\n",
    "        # zamijena stupaca\n",
    "        if (jmax != i)\n",
    "            temp = Pc[:,i]\n",
    "            Pc[:,i] = Pc[:,jmax]\n",
    "            Pc[:,jmax] = temp\n",
    "            temp = A[:,i]\n",
    "            A[:,i] = A[:,jmax]\n",
    "            A[:,jmax] = temp\n",
    "        end\n",
    "        # eliminacija\n",
    "        D[i]=A[i,i]\n",
    "        A[i+1:n,i] = A[i+1:n,i]/D[i]\n",
    "        A[i+1:n,i+1:n] = A[i+1:n,i+1:n] - A[i+1:n,i]*A[i,i+1:n]\n",
    "        A[i,i+1:n]=A[i,i+1:n]/D[i]\n",
    "    end\n",
    "    D[n]=A[n,n]\n",
    "    L=eye(n,n)+tril(A,-1)\n",
    "    U=eye(n,n)+triu(A,1)\n",
    "    U=diagm(D)*U\n",
    "    L,U,Pr,Pc\n",
    "end"
   ]
  },
  {
   "cell_type": "code",
   "execution_count": 31,
   "metadata": {
    "collapsed": false
   },
   "outputs": [
    {
     "data": {
      "text/plain": [
       "5-element Array{Float64,1}:\n",
       " 0.372761\n",
       " 0.12211 \n",
       " 0.579845\n",
       " 0.667646\n",
       " 0.777744"
      ]
     },
     "execution_count": 31,
     "metadata": {},
     "output_type": "execute_result"
    }
   ],
   "source": [
    "n=5\n",
    "A=rand(n,n)\n",
    "b=rand(n)"
   ]
  },
  {
   "cell_type": "code",
   "execution_count": 32,
   "metadata": {
    "collapsed": false
   },
   "outputs": [
    {
     "data": {
      "text/plain": [
       "(\n",
       "5x5 Array{Float64,2}:\n",
       " 1.0         0.0        0.0        0.0       0.0\n",
       " 0.0498763   1.0        0.0        0.0       0.0\n",
       " 0.49061     0.100543   1.0        0.0       0.0\n",
       " 0.0128666   0.239697   0.0234988  1.0       0.0\n",
       " 0.784974   -0.214723  -0.0554173  0.575376  1.0,\n",
       "\n",
       "5x5 Array{Float64,2}:\n",
       " 0.983708  0.27753   0.461596  0.510677  0.138958  \n",
       " 0.0       0.890938  0.711844  0.615641  0.637985  \n",
       " 0.0       0.0       0.682045  0.234998  0.529192  \n",
       " 0.0       0.0       0.0       0.612271  0.225779  \n",
       " 0.0       0.0       0.0       0.0       0.00218769,\n",
       "\n",
       "5x5 Array{Float64,2}:\n",
       " 0.0  0.0  1.0  0.0  0.0\n",
       " 0.0  1.0  0.0  0.0  0.0\n",
       " 0.0  0.0  0.0  0.0  1.0\n",
       " 1.0  0.0  0.0  0.0  0.0\n",
       " 0.0  0.0  0.0  1.0  0.0,\n",
       "\n",
       "5x5 Array{Float64,2}:\n",
       " 0.0  1.0  0.0  0.0  0.0\n",
       " 1.0  0.0  0.0  0.0  0.0\n",
       " 0.0  0.0  0.0  1.0  0.0\n",
       " 0.0  0.0  0.0  0.0  1.0\n",
       " 0.0  0.0  1.0  0.0  0.0)"
      ]
     },
     "execution_count": 32,
     "metadata": {},
     "output_type": "execute_result"
    }
   ],
   "source": [
    "L,U,Pr,Pc=gecp(A)"
   ]
  },
  {
   "cell_type": "code",
   "execution_count": 33,
   "metadata": {
    "collapsed": false
   },
   "outputs": [
    {
     "data": {
      "text/plain": [
       "5x5 Array{Float64,2}:\n",
       " 0.0  0.0   0.0          0.0          0.0\n",
       " 0.0  0.0   0.0          0.0          0.0\n",
       " 0.0  0.0   0.0          2.77556e-17  0.0\n",
       " 0.0  0.0   0.0          0.0          0.0\n",
       " 0.0  0.0  -1.11022e-16  5.55112e-17  0.0"
      ]
     },
     "execution_count": 33,
     "metadata": {},
     "output_type": "execute_result"
    }
   ],
   "source": [
    "Pr*L*U*Pc'-A"
   ]
  },
  {
   "cell_type": "code",
   "execution_count": 34,
   "metadata": {
    "collapsed": false
   },
   "outputs": [
    {
     "data": {
      "text/plain": [
       "5-element Array{Float64,1}:\n",
       "  0.667646 \n",
       "  0.0888104\n",
       "  0.0362774\n",
       "  0.747014 \n",
       " -0.352973 "
      ]
     },
     "execution_count": 34,
     "metadata": {},
     "output_type": "execute_result"
    }
   ],
   "source": [
    "y=myL(L,Pr'*b)"
   ]
  },
  {
   "cell_type": "code",
   "execution_count": 35,
   "metadata": {
    "collapsed": false
   },
   "outputs": [
    {
     "data": {
      "text/plain": [
       "5-element Array{Float64,1}:\n",
       "  -54.2732 \n",
       "   -9.66901\n",
       "  104.319  \n",
       "   60.7173 \n",
       " -161.345  "
      ]
     },
     "execution_count": 35,
     "metadata": {},
     "output_type": "execute_result"
    }
   ],
   "source": [
    "z=myU(U,y)"
   ]
  },
  {
   "cell_type": "code",
   "execution_count": 36,
   "metadata": {
    "collapsed": false
   },
   "outputs": [
    {
     "data": {
      "text/plain": [
       "5-element Array{Float64,1}:\n",
       "   -9.66901\n",
       "  -54.2732 \n",
       "   60.7173 \n",
       " -161.345  \n",
       "  104.319  "
      ]
     },
     "execution_count": 36,
     "metadata": {},
     "output_type": "execute_result"
    }
   ],
   "source": [
    "x=Pc*z"
   ]
  },
  {
   "cell_type": "code",
   "execution_count": 37,
   "metadata": {
    "collapsed": false
   },
   "outputs": [
    {
     "data": {
      "text/plain": [
       "5-element Array{Float64,1}:\n",
       "  5.9952e-15 \n",
       " -1.42109e-14\n",
       "  9.99201e-15\n",
       "  4.21885e-15\n",
       "  1.75415e-14"
      ]
     },
     "execution_count": 37,
     "metadata": {},
     "output_type": "execute_result"
    }
   ],
   "source": [
    "A*x-b"
   ]
  },
  {
   "cell_type": "markdown",
   "metadata": {},
   "source": [
    "## Točnost\n",
    "\n",
    "Neka je zadan sustav $Ax=b$, pri čemu je matrica $A$ regularna.\n",
    "\n",
    "Da bi primijenili koncepte iz bilježnice [NA04_Pogreska_unatrag_i stabilni_algoritmi](NA04_Pogreska_unatrag_i_stabilni_algoritmi.ipynb), potrebno je:\n",
    "\n",
    "1. napraviti teoriju smetnje za dani problem\n",
    "2. analizirati pogreške algoritma (Gaussove eliminacije)\n",
    "\n",
    "### Teorija smetnje\n",
    "\n",
    "Neka je \n",
    "\n",
    "$$\n",
    "(A+\\delta A)\\hat x=(b+\\delta b)\n",
    "$$\n",
    "\n",
    "za neki $\\hat x=x+\\delta x$.\n",
    "\n",
    "Želimo ocijeniti \n",
    "\n",
    "$$\n",
    "\\frac{\\| \\hat x - x \\|}{\\| x\\|} \\equiv \\frac{\\| \\delta x\\|}{\\| x\\|}.\n",
    "$$\n",
    "\n",
    "Uvedimo oznake (npr. prema [Matrix Computations, poglavlje 2.6.2][GVL13])\n",
    "\n",
    "$$\n",
    "\\delta A=\\varepsilon F, \\quad \\delta b=\\varepsilon f, \\qquad \\hat x=x(\\varepsilon),\n",
    "$$\n",
    "čime smo dobili jednodimenzionalni problem \n",
    "\n",
    "$$\n",
    "(A+\\varepsilon F)x(\\varepsilon)=b+\\varepsilon f.\n",
    "$$\n",
    "\n",
    "za neke (nepoznate) matricu $F$ i vektor $f$. \n",
    "\n",
    "Deriviranje po $\\varepsilon$ daje\n",
    "\n",
    "$$\n",
    "Fx(\\varepsilon)+(A+\\varepsilon F)\\dot x(\\varepsilon)=f.\n",
    "$$\n",
    "\n",
    "Uvrštavanje $\\varepsilon=0$ daje\n",
    "\n",
    "$$\n",
    "F x+A\\dot x(0)=f,\n",
    "$$\n",
    "\n",
    "odnosno\n",
    "\n",
    "$$\n",
    "\\dot x(0)=A^{-1}(f-Fx).\n",
    "$$\n",
    "\n",
    "Taylorov razvoj oko $x(0)$ glasi\n",
    "\n",
    "$$\n",
    "x(\\varepsilon)=x(0)+\\varepsilon \\dot x(0) +O(\\varepsilon^2),\n",
    "$$\n",
    "\n",
    "odnosno, uz zanemarivanje člana $O(\\varepsilon^2)$,\n",
    "\n",
    "$$\n",
    "\\hat x-x=\\varepsilon A^{-1}(f-Fx)=A^{-1} (\\varepsilon f + \\varepsilon F x) = A^{-1} (\\delta b + \\delta A x).\n",
    "$$\n",
    "\n",
    "Svojstva norme povlače\n",
    "\n",
    "$$\n",
    "\\| \\hat x-x\\|\\leq \\| A^{-1} \\| (\\| \\delta b \\|  + \\| \\delta A \\| \\cdot \\|  x\\| ).\n",
    "$$\n",
    "\n",
    "Konačno, zbog $\\| b\\| \\leq \\| A\\| \\| x\\|$, imamo\n",
    "\n",
    "$$\n",
    "\\frac{\\| \\hat x-x\\|}{\\| x\\|}\\leq \\| A\\|  \\cdot \\| A^{-1} \\| \\bigg(\\frac{\\| \\delta b \\|}{\\|b\\|}  + \\frac{\\| \\delta A \\|}{ \\|  A\\|} \\bigg). \\tag{1}\n",
    "$$\n",
    "\n",
    "Broj \n",
    "$$\n",
    "\\kappa(A)\\equiv \\| A\\|  \\cdot \\| A^{-1} \\|\n",
    "$$ \n",
    "\n",
    "je __uvjetovanost__ (__kondicija__)  matrice $A$ i kazuje nam \n",
    "\n",
    "> koliko se relativno uvećaju relativne promjene u polaznim podacima (matrici $A$ i vektoru $b$).\n",
    "\n",
    "Pogledajmo primjer iz [Numeričke matematike, str. 42][RS04]:\n",
    "\n",
    "\n",
    "[GVL13]: https://books.google.hr/books?id=X5YfsuCWpxMC&printsec=frontcover&hl=hr#v=onepage&q&f=false \"G. Golub and C. F Van Loan, 'Matrix Computations', 4th Edition, John Hopkins, Baltimore, 2013\" \n",
    "\n",
    "[RS04]: http://www.mathos.unios.hr/pim/Materijali/Num.pdf \"R. Scitovski, 'Numerička matematika', Sveučilište u Osijeku, Osijek, 2004.\""
   ]
  },
  {
   "cell_type": "code",
   "execution_count": 38,
   "metadata": {
    "collapsed": false
   },
   "outputs": [
    {
     "data": {
      "text/plain": [
       "2x2 Array{Float64,2}:\n",
       " 0.234  0.458\n",
       " 0.383  0.75 "
      ]
     },
     "execution_count": 38,
     "metadata": {},
     "output_type": "execute_result"
    }
   ],
   "source": [
    "A= [0.234 0.458; 0.383 0.750]"
   ]
  },
  {
   "cell_type": "code",
   "execution_count": 39,
   "metadata": {
    "collapsed": false
   },
   "outputs": [
    {
     "data": {
      "text/plain": [
       "2-element Array{Float64,1}:\n",
       " 0.224\n",
       " 0.367"
      ]
     },
     "execution_count": 39,
     "metadata": {},
     "output_type": "execute_result"
    }
   ],
   "source": [
    "b=[0.224;0.367]"
   ]
  },
  {
   "cell_type": "code",
   "execution_count": 40,
   "metadata": {
    "collapsed": false
   },
   "outputs": [
    {
     "data": {
      "text/plain": [
       "2-element Array{Float64,1}:\n",
       " -1.0\n",
       "  1.0"
      ]
     },
     "execution_count": 40,
     "metadata": {},
     "output_type": "execute_result"
    }
   ],
   "source": [
    "x=A\\b"
   ]
  },
  {
   "cell_type": "code",
   "execution_count": 41,
   "metadata": {
    "collapsed": false
   },
   "outputs": [
    {
     "data": {
      "text/plain": [
       "2-element Array{Float64,1}:\n",
       " -0.241744\n",
       "  0.612791"
      ]
     },
     "execution_count": 41,
     "metadata": {},
     "output_type": "execute_result"
    }
   ],
   "source": [
    "δb=[0.00009; 0.000005]\n",
    "x1=A\\(b+δb)"
   ]
  },
  {
   "cell_type": "code",
   "execution_count": 42,
   "metadata": {
    "collapsed": false
   },
   "outputs": [
    {
     "data": {
      "text/plain": [
       "(11322.197586092605,0.0002096449170953002,0.6020311134825742)"
      ]
     },
     "execution_count": 42,
     "metadata": {},
     "output_type": "execute_result"
    }
   ],
   "source": [
    "cond(A), norm(δb)/norm(b), norm(x1-x)/norm(x)"
   ]
  },
  {
   "cell_type": "code",
   "execution_count": 43,
   "metadata": {
    "collapsed": false
   },
   "outputs": [
    {
     "data": {
      "text/plain": [
       "2-element Array{Float64,1}:\n",
       " 0.129518\n",
       " 0.423193"
      ]
     },
     "execution_count": 43,
     "metadata": {},
     "output_type": "execute_result"
    }
   ],
   "source": [
    "δA=[-0.001 0;0 0]\n",
    "x2=(A+δA)\\b"
   ]
  },
  {
   "cell_type": "code",
   "execution_count": 44,
   "metadata": {
    "collapsed": false
   },
   "outputs": [
    {
     "data": {
      "text/plain": [
       "(11322.197586092605,0.0010134105230118603,0.896804787832142)"
      ]
     },
     "execution_count": 44,
     "metadata": {},
     "output_type": "execute_result"
    }
   ],
   "source": [
    "cond(A), norm(δA)/norm(A), norm(x2-x)/norm(x)"
   ]
  },
  {
   "cell_type": "markdown",
   "metadata": {},
   "source": [
    "### Pogreška Gaussove eliminacije\n",
    "\n",
    "Prema [Matrix Computations, poglavlje 3.3][GVL13], za izračunate faktore\n",
    "$\\hat L$ i $\\hat U$ vrijedi\n",
    "\n",
    "$$\n",
    "\\hat L\\cdot \\hat U = A+\\delta A\n",
    "$$\n",
    "\n",
    "gdje je (nejednakost se čita po elementima matrica, $\\varepsilon$ je sada točnost stroja)\n",
    "\n",
    "$$\n",
    "| \\delta A|\\leq 3(n-1) \\varepsilon (|A|+|\\hat L| \\cdot |\\hat U|) +O(\\varepsilon^2).\n",
    "$$\n",
    "\n",
    "Zanemarivanje člana $O(\\varepsilon^2)$ i prelazak na normu daju\n",
    "\n",
    "$$\n",
    "\\|\\delta A \\| \\approx \\leq  O(n)\\varepsilon (\\| A\\| + \\| \\hat L\\| \\cdot \\| \\hat U\\|),\n",
    "$$\n",
    "\n",
    "pa je \n",
    "\n",
    "$$\n",
    " \\frac{\\|\\delta A \\|}{\\|A\\|} \\leq O(n)\\varepsilon \\bigg(1+\\frac{\\| \\hat L\\| \\cdot \\| \\hat U\\|}{\\|A\\|}\\bigg).\n",
    "$$\n",
    "\n",
    "Ukoliko se Gaussova eliminacija radi s pivotiranjem, tada će najvjerojatnije zadnji kvocijent također biti malen \n",
    "($\\approx 1$). Također, pogreška kod rješavanja trokutastih sustava nije veća od navedene pa, uvrštavanjme u (1), slijedi \n",
    "da za relativnu pogrešku izračunatog rješenja vrijedi\n",
    "\n",
    "$$\n",
    "\\frac{\\| \\hat x-x\\|}{\\| x\\|}\\leq \\kappa(A) O(n\\varepsilon).\n",
    "$$\n",
    "\n",
    "> __Ukoliko je kondicija matrice velika, rješenje može biti netočno.__\n",
    "\n",
    "[GVL13]: https://books.google.hr/books?id=X5YfsuCWpxMC&printsec=frontcover&hl=hr#v=onepage&q&f=false \"G. Golub and C. F Van Loan, 'Matrix Computations', 4th Edition, John Hopkins, Baltimore, 2013\" "
   ]
  },
  {
   "cell_type": "code",
   "execution_count": 45,
   "metadata": {
    "collapsed": false
   },
   "outputs": [
    {
     "data": {
      "text/plain": [
       "10-element Array{Float64,1}:\n",
       " 0.358789\n",
       " 0.931848\n",
       " 0.574445\n",
       " 0.486609\n",
       " 0.717028\n",
       " 0.235816\n",
       " 0.151405\n",
       " 0.219889\n",
       " 0.690114\n",
       " 0.408721"
      ]
     },
     "execution_count": 45,
     "metadata": {},
     "output_type": "execute_result"
    }
   ],
   "source": [
    "n=10\n",
    "v=rand(n)"
   ]
  },
  {
   "cell_type": "code",
   "execution_count": 51,
   "metadata": {
    "collapsed": false
   },
   "outputs": [
    {
     "data": {
      "text/plain": [
       "10x10 Array{Float64,2}:\n",
       " 1.0          1.0       1.0         …  1.0          1.0        1.0        \n",
       " 0.358789     0.931848  0.574445       0.219889     0.690114   0.408721   \n",
       " 0.12873      0.868341  0.329987       0.0483514    0.476257   0.167053   \n",
       " 0.0461868    0.809161  0.18956        0.010632     0.328672   0.0682782  \n",
       " 0.0165713    0.754015  0.108892       0.00233786   0.226821   0.0279068  \n",
       " 0.00594562   0.702628  0.0625523   …  0.00051407   0.156532   0.0114061  \n",
       " 0.00213322   0.654742  0.0359329      0.000113039  0.108025   0.00466191 \n",
       " 0.000765378  0.61012   0.0206415      2.4856e-5    0.0745496  0.00190542 \n",
       " 0.000274609  0.568539  0.0118574      5.46557e-6   0.0514477  0.000778787\n",
       " 9.85269e-5   0.529792  0.00681143     1.20182e-6   0.0355048  0.000318307"
      ]
     },
     "execution_count": 51,
     "metadata": {},
     "output_type": "execute_result"
    }
   ],
   "source": [
    "# Vandermonmde-oove matrice imaju veliku kondiciju.\n",
    "A=Array(Float64,n,n)\n",
    "for i=1:n\n",
    "    A[:,i]=v.^(i-1)\n",
    "end\n",
    "A=A'"
   ]
  },
  {
   "cell_type": "code",
   "execution_count": 52,
   "metadata": {
    "collapsed": false
   },
   "outputs": [
    {
     "data": {
      "text/plain": [
       "10-element Array{Float64,1}:\n",
       " 0.480947 \n",
       " 0.850592 \n",
       " 0.0937389\n",
       " 0.856666 \n",
       " 0.499379 \n",
       " 0.293559 \n",
       " 0.853992 \n",
       " 0.484377 \n",
       " 0.656302 \n",
       " 0.328297 "
      ]
     },
     "execution_count": 52,
     "metadata": {},
     "output_type": "execute_result"
    }
   ],
   "source": [
    "b=rand(n)"
   ]
  },
  {
   "cell_type": "code",
   "execution_count": 53,
   "metadata": {
    "collapsed": false
   },
   "outputs": [
    {
     "data": {
      "text/plain": [
       "10-element Array{Float64,1}:\n",
       "    -1.53966e7\n",
       " -3756.92     \n",
       "     4.71478e6\n",
       "    -1.14531e7\n",
       "     1.4306e6 \n",
       "     1.50358e7\n",
       "     5.65474e5\n",
       "    -1.24705e7\n",
       "    -2.51152e6\n",
       "     2.00888e7"
      ]
     },
     "execution_count": 53,
     "metadata": {},
     "output_type": "execute_result"
    }
   ],
   "source": [
    "x=A\\b"
   ]
  },
  {
   "cell_type": "code",
   "execution_count": 54,
   "metadata": {
    "collapsed": false
   },
   "outputs": [
    {
     "data": {
      "text/plain": [
       "3.8254277601125824e8"
      ]
     },
     "execution_count": 54,
     "metadata": {},
     "output_type": "execute_result"
    }
   ],
   "source": [
    "cond(A)"
   ]
  },
  {
   "cell_type": "code",
   "execution_count": 55,
   "metadata": {
    "collapsed": false
   },
   "outputs": [
    {
     "data": {
      "text/plain": [
       "10-element Array{BigFloat,1}:\n",
       " -1.539662225749555787755272658215960142754520428936196302680433935251035627437854e+07\n",
       " -3.756923026284087771981360130199430474029643017529217530542680528021848999984731e+03\n",
       "  4.714781624478642149029375518234507221797516030486818483816124353216226658773933e+06\n",
       " -1.145307112831204465096728008868738511666530485538537138861188557133832954278736e+07\n",
       "  1.430602746757213368256515124007905170329913618840183918555990354799304595765219e+06\n",
       "  1.503582495567228240506773471515540156055929994097531732851584863586229590020181e+07\n",
       "  5.654738055274437047542708625201140494504338703991703473839793907682464121160014e+05\n",
       " -1.247047367028444915369601753688846677520605538194528511149585801040879961685568e+07\n",
       " -2.511522178683646625960071794240639151540314760824441768665211503434148396425707e+06\n",
       "  2.008876350631389421189017042342332106065323443391391098171089438357358211259037e+07"
      ]
     },
     "execution_count": 55,
     "metadata": {},
     "output_type": "execute_result"
    }
   ],
   "source": [
    "Ab=Array(BigFloat,n,n)\n",
    "bb=Array(BigFloat,n)\n",
    "for i=1:n\n",
    "    for j=1:n\n",
    "        Ab[i,j]=convert(BigFloat,A[i,j])\n",
    "    end\n",
    "    bb[i]=convert(BigFloat,b[i])\n",
    "end\n",
    "xb=Ab\\bb"
   ]
  },
  {
   "cell_type": "code",
   "execution_count": 56,
   "metadata": {
    "collapsed": false
   },
   "outputs": [
    {
     "data": {
      "text/plain": [
       "1.780399100548250681495721628097032940747616614043211988638411386262549293497005e-10"
      ]
     },
     "execution_count": 56,
     "metadata": {},
     "output_type": "execute_result"
    }
   ],
   "source": [
    "norm(xb-x)/norm(xb)"
   ]
  },
  {
   "cell_type": "markdown",
   "metadata": {},
   "source": [
    "### Umjetno loša kondicija"
   ]
  },
  {
   "cell_type": "code",
   "execution_count": 57,
   "metadata": {
    "collapsed": false
   },
   "outputs": [
    {
     "name": "stdout",
     "output_type": "stream",
     "text": [
      "(x,cond(A)) = ([-1.0,2.0],6.854101966249685)"
     ]
    },
    {
     "data": {
      "text/plain": [
       "([-1.0,2.0],50000.00017991671,[8.881784197001252e-16,-4.440892098500626e-16])"
      ]
     },
     "execution_count": 57,
     "metadata": {},
     "output_type": "execute_result"
    },
    {
     "name": "stdout",
     "output_type": "stream",
     "text": [
      "\n"
     ]
    }
   ],
   "source": [
    "A=[1 1; 1 2]\n",
    "b=[1;3]\n",
    "x=A\\b\n",
    "@show x,cond(A)\n",
    "A1=[1e-4 1e-4;1 2]\n",
    "b1=[1e-4;3]\n",
    "x1=A1\\b1\n",
    "x,cond(A1),x-x1"
   ]
  },
  {
   "cell_type": "markdown",
   "metadata": {
    "collapsed": true
   },
   "source": [
    "## Rezidual\n",
    "\n",
    "\n",
    "Izračunato rješenje $\\hat x$ sustava $Ax=b$ je točno rješenje nekog sličnog sustava (vidi [Afternotes on Numerical Analysis, str. 128][Ste96]):\n",
    "\n",
    "\n",
    "$$ \n",
    "(A+\\delta A)\\hat x=b. \\tag{1}\n",
    "$$\n",
    "\n",
    "__Rezidual__ (ili __ostatak__) definiramo kao \n",
    "\n",
    "$$\n",
    "r=b-A\\hat x.\n",
    "$$\n",
    "\n",
    "Tada je \n",
    "\n",
    "$$\n",
    "0=b-(A+\\delta A)\\hat x=r- \\delta A\\hat x\n",
    "$$\n",
    "\n",
    "pa je \n",
    "\n",
    "$$ \n",
    "\\| r\\| \\leq \\| \\delta A\\hat x \\| \\leq \\| \\delta A\\| \\cdot \\|\\hat x \\|,\n",
    "$$\n",
    "\n",
    "odnosno\n",
    "\n",
    "$$\n",
    "\\frac{\\|  \\delta A\\|}{\\|A \\|} \\geq \\frac{\\|r\\|}{\\| A\\| \\cdot \\|\\hat x \\|}.\n",
    "$$\n",
    "\n",
    "Dakle,\n",
    "\n",
    "> ako  _relativni rezidual_ \n",
    ">\n",
    "> $$ \\frac{r}{\\| A\\| \\cdot \\|\\hat x \\|}$$\n",
    "> \n",
    "> ima veliku normu, tada __rješenje nije izračunato stabilno.__\n",
    "\n",
    "S druge strane, ako relativni rezidual ima malu normu, tada je rješenje izračunato stabilno. Naime, za\n",
    "\n",
    "$$\n",
    "\\delta A=\\frac{r\\hat x^T}{\\|\\hat x\\|^2}\n",
    "$$\n",
    "\n",
    "vrijedi (1):\n",
    "\n",
    "$$\n",
    "b-(A+\\delta A)\\hat x=(b-A\\hat x)-\\delta A \\hat x = r-\\frac{r\\hat x^T \\hat x}{\\|\\hat x\\|^2}\n",
    "= r-\\frac{r \\|\\hat x^T \\hat x\\|}{\\|\\hat x\\|^2}=r-r=0.\n",
    "$$\n",
    "\n",
    "Također vrijedi\n",
    "\n",
    "$$\n",
    "\\frac{\\|  \\delta A\\|}{\\|A \\|}  \\leq  \\frac{\\|r\\|\\|\\hat x \\|}{\\| A\\| \\cdot \\|\\hat x \\|^2}=\n",
    "\\frac{\\|r\\|}{\\| A\\| \\cdot \\|\\hat x \\|}.\n",
    "$$\n",
    "\n",
    "\n",
    "\n",
    "\n",
    "[Ste96]: https://books.google.hr/books?id=w-2PWh01kWcC&printsec=frontcover&hl=hr#v=onepage&q&f=false    \"G. W. Stewart, 'Afternotes on Numerical Analysis', SIAM, Philadelphia, 1996\""
   ]
  },
  {
   "cell_type": "code",
   "execution_count": 58,
   "metadata": {
    "collapsed": false
   },
   "outputs": [
    {
     "data": {
      "text/plain": [
       "2-element Array{Float64,1}:\n",
       " 0.0\n",
       " 0.0"
      ]
     },
     "execution_count": 58,
     "metadata": {},
     "output_type": "execute_result"
    }
   ],
   "source": [
    "r=b-A*x"
   ]
  },
  {
   "cell_type": "code",
   "execution_count": 59,
   "metadata": {
    "collapsed": false
   },
   "outputs": [
    {
     "data": {
      "text/plain": [
       "0.0"
      ]
     },
     "execution_count": 59,
     "metadata": {},
     "output_type": "execute_result"
    }
   ],
   "source": [
    "norm(r)/(norm(A)*norm(x))"
   ]
  },
  {
   "cell_type": "code",
   "execution_count": null,
   "metadata": {
    "collapsed": true
   },
   "outputs": [],
   "source": []
  }
 ],
 "metadata": {
  "kernelspec": {
   "display_name": "Julia 0.4.0",
   "language": "julia",
   "name": "julia-0.4"
  },
  "language_info": {
   "file_extension": ".jl",
   "mimetype": "application/julia",
   "name": "julia",
   "version": "0.4.0"
  }
 },
 "nbformat": 4,
 "nbformat_minor": 0
}
