{
 "cells": [
  {
   "cell_type": "markdown",
   "metadata": {},
   "source": [
    "# Gaussova eliminacija\n",
    "---\n",
    "\n",
    "## Općenito\n",
    "\n",
    "Sustav $Ax=b$\n",
    "se rješava u tri koraka (__bez pivotiranja__):\n",
    "\n",
    "1. $A=LU$ (LU rastav, $O(\\frac{2}{3}n^3)$ operacija),\n",
    "2. $Ly=b$ (donje trokutrasti sustav, $n^2$ operacija),\n",
    "3. $Ux=y$ (gornje torkutasti sustav, $n^2$ operacija).\n",
    "\n",
    "Ukoliko pivotiramo, tada je\n",
    "\n",
    "1. $PA=LU$, \n",
    "2. $Ly=P^T b$,\n",
    "3. $Ux=y$. "
   ]
  },
  {
   "cell_type": "markdown",
   "metadata": {},
   "source": [
    "## LU rastav"
   ]
  },
  {
   "cell_type": "code",
   "execution_count": 1,
   "metadata": {},
   "outputs": [
    {
     "data": {
      "text/plain": [
       "mylu (generic function with 1 method)"
      ]
     },
     "execution_count": 1,
     "metadata": {},
     "output_type": "execute_result"
    }
   ],
   "source": [
    "function mylu{T}(A1::Array{T}) # Strang, page 100\n",
    "    A=deepcopy(A1)\n",
    "    n,m=size(A)\n",
    "    U=map(Float64,[zero(A[1,1]) for i=1:n, j=1:n]) # This acccepts blocks and numbers\n",
    "    L=map(Float64,[zero(A[1,1]) for i=1:n, j=1:n])\n",
    "    for k=1:n\n",
    "        L[k,k]=one(A[1,1])\n",
    "        for i=k+1:n\n",
    "            L[i,k]=A[i,k]/A[k,k]\n",
    "            for j=k+1:n\n",
    "                A[i,j]=A[i,j]-L[i,k]*A[k,j]\n",
    "            end\n",
    "        end\n",
    "        for j=k:n\n",
    "            U[k,j]=A[k,j]\n",
    "        end\n",
    "    end\n",
    "    L,U\n",
    "end"
   ]
  },
  {
   "cell_type": "code",
   "execution_count": 2,
   "metadata": {},
   "outputs": [
    {
     "data": {
      "text/plain": [
       "6×6 Array{Float64,2}:\n",
       " 0.628172  0.936693  0.478618   0.251959   0.398775  0.69011 \n",
       " 0.406099  0.264524  0.788246   0.98849    0.364594  0.348385\n",
       " 0.775766  0.628616  0.214203   0.917419   0.515457  0.439628\n",
       " 0.578453  0.92768   0.0401973  0.0758994  0.607237  0.117391\n",
       " 0.948931  0.866254  0.169624   0.0889021  0.927775  0.631338\n",
       " 0.44039   0.594936  0.29094    0.352142   0.487217  0.576982"
      ]
     },
     "execution_count": 2,
     "metadata": {},
     "output_type": "execute_result"
    }
   ],
   "source": [
    "A=rand(6,6)\n",
    "# A=[2.0 2;3 4]"
   ]
  },
  {
   "cell_type": "code",
   "execution_count": 3,
   "metadata": {},
   "outputs": [
    {
     "data": {
      "text/plain": [
       "([1.0 0.0 … 0.0 0.0; 0.646477 1.0 … 0.0 0.0; … ; 1.51062 1.60907 … 1.0 0.0; 0.701066 0.181063 … 0.0226192 1.0], [0.628172 0.936693 … 0.398775 0.69011; 0.0 -0.341026 … 0.106796 -0.0977559; … ; 0.0 0.0 … 1.64093 -1.98848; 0.0 0.0 … 0.0 0.446735])"
      ]
     },
     "execution_count": 3,
     "metadata": {},
     "output_type": "execute_result"
    }
   ],
   "source": [
    "L,U=mylu(A)"
   ]
  },
  {
   "cell_type": "code",
   "execution_count": 4,
   "metadata": {},
   "outputs": [
    {
     "data": {
      "text/plain": [
       "6×6 Array{Float64,2}:\n",
       " 0.0  0.0   0.0           0.0           0.0           0.0        \n",
       " 0.0  0.0   0.0           0.0           0.0           0.0        \n",
       " 0.0  0.0  -2.22045e-16  -1.11022e-16   0.0           0.0        \n",
       " 0.0  0.0   0.0           0.0           0.0          -5.55112e-17\n",
       " 0.0  0.0  -8.32667e-17  -4.16334e-17   0.0           2.22045e-16\n",
       " 0.0  0.0   0.0           0.0          -5.55112e-17   1.11022e-16"
      ]
     },
     "execution_count": 4,
     "metadata": {},
     "output_type": "execute_result"
    }
   ],
   "source": [
    "L*U-A"
   ]
  },
  {
   "cell_type": "markdown",
   "metadata": {},
   "source": [
    "## Trokutasti sustavi"
   ]
  },
  {
   "cell_type": "code",
   "execution_count": 5,
   "metadata": {},
   "outputs": [
    {
     "data": {
      "text/plain": [
       "myL (generic function with 1 method)"
      ]
     },
     "execution_count": 5,
     "metadata": {},
     "output_type": "execute_result"
    }
   ],
   "source": [
    "function myU{T}(U::Array{T},b1::Array{T})\n",
    "    b=deepcopy(b1)\n",
    "    n=length(b)\n",
    "    for i=n:-1:1\n",
    "       for j=n:-1:i+1\n",
    "            b[i]=b[i]-U[i,j]*b[j]\n",
    "       end\n",
    "        b[i]=b[i]/U[i,i]\n",
    "    end\n",
    "    b\n",
    "end\n",
    "\n",
    "function myL{T}(L::Array{T},b1::Array{T})\n",
    "    b=deepcopy(b1)\n",
    "    n=length(b)\n",
    "    for i=1:n\n",
    "        for j=1:i-1\n",
    "            b[i]=b[i]-L[i,j]*b[j]\n",
    "        end\n",
    "        b[i]=b[i]/L[i,i]\n",
    "    end\n",
    "    b\n",
    "end"
   ]
  },
  {
   "cell_type": "code",
   "execution_count": 6,
   "metadata": {},
   "outputs": [
    {
     "data": {
      "text/plain": [
       "6-element Array{Float64,1}:\n",
       " 0.569711\n",
       " 0.800761\n",
       " 0.74422 \n",
       " 0.836216\n",
       " 0.385965\n",
       " 0.415807"
      ]
     },
     "execution_count": 6,
     "metadata": {},
     "output_type": "execute_result"
    }
   ],
   "source": [
    "b=rand(6)"
   ]
  },
  {
   "cell_type": "code",
   "execution_count": 9,
   "metadata": {},
   "outputs": [
    {
     "data": {
      "text/plain": [
       "6-element Array{Float64,1}:\n",
       " -0.368128\n",
       "  0.967769\n",
       "  0.357736\n",
       "  0.582959\n",
       "  0.305559\n",
       " -0.790444"
      ]
     },
     "execution_count": 9,
     "metadata": {},
     "output_type": "execute_result"
    }
   ],
   "source": [
    "# Rijesimo susatav pomocu ugradjene funkcije:\n",
    "x=A\\b"
   ]
  },
  {
   "cell_type": "code",
   "execution_count": 10,
   "metadata": {},
   "outputs": [
    {
     "data": {
      "text/plain": [
       "6-element Array{Float64,1}:\n",
       "  0.569711\n",
       "  0.432456\n",
       " -0.629109\n",
       "  0.568045\n",
       "  2.07318 \n",
       " -0.353119"
      ]
     },
     "execution_count": 10,
     "metadata": {},
     "output_type": "execute_result"
    }
   ],
   "source": [
    "# Rijesimo sustav pomocu nasih funkcija\n",
    "y=myL(L,b)"
   ]
  },
  {
   "cell_type": "code",
   "execution_count": 11,
   "metadata": {},
   "outputs": [
    {
     "data": {
      "text/plain": [
       "6-element Array{Float64,1}:\n",
       " -0.368128\n",
       "  0.967769\n",
       "  0.357736\n",
       "  0.582959\n",
       "  0.305559\n",
       " -0.790444"
      ]
     },
     "execution_count": 11,
     "metadata": {},
     "output_type": "execute_result"
    }
   ],
   "source": [
    "x1=myU(U,y)"
   ]
  },
  {
   "cell_type": "code",
   "execution_count": 12,
   "metadata": {},
   "outputs": [
    {
     "data": {
      "text/plain": [
       "6-element Array{Float64,1}:\n",
       "  6.10623e-16\n",
       " -1.11022e-16\n",
       "  0.0        \n",
       " -2.22045e-16\n",
       " -3.33067e-16\n",
       " -1.11022e-16"
      ]
     },
     "execution_count": 12,
     "metadata": {},
     "output_type": "execute_result"
    }
   ],
   "source": [
    "# Usporedimo rjesenja\n",
    "x-x1"
   ]
  },
  {
   "cell_type": "markdown",
   "metadata": {},
   "source": [
    "## Brzina\n",
    "\n",
    "Program `mylu()` je jako spor. Između ostalog, alocira nepotrebno tri matrice i ne računa s blok matricama.\n",
    "\n",
    "Program se može reformulirati na načun da su i $L$ i $U$ spremljene u polje $A$, pri čemu se dijagonala od $L$ ne sprema, jer su svi elementi jednaki 1 (vidi [Introduction to Linear Algebra, str. 100][St09]):\n",
    "\n",
    "[St09]: https://books.google.hr/books?id=M19gPgAACAAJ&dq=strang%20introduction&hl=hr&source=gbs_book_other_versions \"Gilbert Strang, 'Introduction to Linear Algebra, 4th Edition', Wellesley-Cambridge Press, 2009\"\n"
   ]
  },
  {
   "cell_type": "code",
   "execution_count": 15,
   "metadata": {},
   "outputs": [
    {
     "data": {
      "text/plain": [
       "mylu1 (generic function with 1 method)"
      ]
     },
     "execution_count": 15,
     "metadata": {},
     "output_type": "execute_result"
    }
   ],
   "source": [
    "function mylu1{T}(A1::Array{T}) # Strang, page 100\n",
    "    A=deepcopy(A1)\n",
    "    n,m=size(A)\n",
    "    for k=1:n-1\n",
    "        rho=k+1:n\n",
    "        A[rho,k]=A[rho,k]/A[k,k]\n",
    "        A[rho,rho]=A[rho,rho]-A[rho,k]*A[k,rho]'\n",
    "    end\n",
    "    A\n",
    "end"
   ]
  },
  {
   "cell_type": "code",
   "execution_count": 16,
   "metadata": {},
   "outputs": [
    {
     "data": {
      "text/plain": [
       "6×6 Array{Float64,2}:\n",
       " 0.628172   0.936693   0.478618   0.251959   0.398775    0.69011  \n",
       " 0.646477  -0.341026   0.478831   0.825604   0.106796   -0.0977559\n",
       " 1.23496    1.54874   -1.11845   -0.672383  -0.142411   -0.261231 \n",
       " 0.920851  -0.190968   0.276362   0.187367   0.299777   -0.464571 \n",
       " 1.51062    1.60907    1.18365   -4.39937    1.64093    -1.98848  \n",
       " 0.701066   0.181063   0.117395   0.560132   0.0226192   0.446735 "
      ]
     },
     "execution_count": 16,
     "metadata": {},
     "output_type": "execute_result"
    }
   ],
   "source": [
    "mylu1(A)"
   ]
  },
  {
   "cell_type": "code",
   "execution_count": 17,
   "metadata": {},
   "outputs": [
    {
     "data": {
      "text/plain": [
       "([1.0 0.0 … 0.0 0.0; 0.646477 1.0 … 0.0 0.0; … ; 1.51062 1.60907 … 1.0 0.0; 0.701066 0.181063 … 0.0226192 1.0], [0.628172 0.936693 … 0.398775 0.69011; 0.0 -0.341026 … 0.106796 -0.0977559; … ; 0.0 0.0 … 1.64093 -1.98848; 0.0 0.0 … 0.0 0.446735])"
      ]
     },
     "execution_count": 17,
     "metadata": {},
     "output_type": "execute_result"
    }
   ],
   "source": [
    "L,U"
   ]
  },
  {
   "cell_type": "markdown",
   "metadata": {},
   "source": [
    "Usporedimo brzine LAPACK-ovog programa `lu()` i našeg naivnog programa `mylu()`na većoj dimenziji. \n",
    "\n",
    "Izvedite program par puta radi točnijeg mjerenja brzine."
   ]
  },
  {
   "cell_type": "code",
   "execution_count": 18,
   "metadata": {},
   "outputs": [
    {
     "data": {
      "text/plain": [
       "512×512 Array{Float64,2}:\n",
       " 0.802976   0.347976    0.613713   …  0.906       0.800525   0.351915   \n",
       " 0.484721   0.75696     0.810644      0.666111    0.590489   0.806365   \n",
       " 0.690035   0.891139    0.119475      0.439374    0.65861    0.960242   \n",
       " 0.0652302  0.241665    0.978775      0.221564    0.927762   0.130658   \n",
       " 0.444875   0.275888    0.0458507     0.0878088   0.130668   0.000670261\n",
       " 0.106079   0.976306    0.171811   …  0.83509     0.800158   0.33001    \n",
       " 0.727205   0.431685    0.716797      0.00994195  0.846427   0.683664   \n",
       " 0.644863   0.847278    0.169189      0.757541    0.75023    0.547744   \n",
       " 0.649868   0.784643    0.603577      0.0169546   0.618999   0.587095   \n",
       " 0.896996   0.53913     0.492618      0.95369     0.0548147  0.408084   \n",
       " 0.5831     0.00961019  0.638611   …  0.0561616   0.817528   0.122279   \n",
       " 0.686008   0.106396    0.426153      0.345416    0.659706   0.889769   \n",
       " 0.309874   0.62674     0.478444      0.765782    0.131561   0.729443   \n",
       " ⋮                                 ⋱              ⋮                     \n",
       " 0.034336   0.285419    0.459663   …  0.462586    0.643352   0.94733    \n",
       " 0.613432   0.569611    0.0482989     0.130761    0.228392   0.126185   \n",
       " 0.15397    0.44417     0.951083      0.86654     0.144558   0.575467   \n",
       " 0.628249   0.484867    0.919941      0.880412    0.412639   0.680011   \n",
       " 0.831207   0.948907    0.738053      0.627002    0.164685   0.35656    \n",
       " 0.738084   0.234381    0.382972   …  0.767654    0.148708   0.534826   \n",
       " 0.378828   0.917989    0.947436      0.810453    0.827341   0.2452     \n",
       " 0.126872   0.0927376   0.864908      0.0482808   0.353657   0.686336   \n",
       " 0.477108   0.371245    0.0141736     0.569896    0.328444   0.205792   \n",
       " 0.851905   0.183713    0.935847      0.102182    0.66401    0.619411   \n",
       " 0.582451   0.457802    0.795395   …  0.431662    0.794067   0.376795   \n",
       " 0.4021     0.965966    0.292503      0.78511     0.667708   0.595977   "
      ]
     },
     "execution_count": 18,
     "metadata": {},
     "output_type": "execute_result"
    }
   ],
   "source": [
    "n=512\n",
    "A=rand(n,n)"
   ]
  },
  {
   "cell_type": "code",
   "execution_count": 21,
   "metadata": {},
   "outputs": [
    {
     "name": "stdout",
     "output_type": "stream",
     "text": [
      "  0.078868 seconds (21 allocations: 6.009 MiB)\n"
     ]
    }
   ],
   "source": [
    "@time lu(A);"
   ]
  },
  {
   "cell_type": "code",
   "execution_count": 22,
   "metadata": {},
   "outputs": [
    {
     "name": "stdout",
     "output_type": "stream",
     "text": [
      "  0.803263 seconds (9.07 k allocations: 1.003 GiB, 18.86% gc time)\n"
     ]
    }
   ],
   "source": [
    "@time mylu1(A);"
   ]
  },
  {
   "cell_type": "markdown",
   "metadata": {},
   "source": [
    "### Blok varijanta\n",
    "\n",
    "`mylu()` je nekoliko desetaka puta sporiji od `lu()`. `mylu1()` je malo sporiji od `lu()`.\n",
    "\n",
    "Probajmo s blokovima:\n",
    "\n",
    "Preradimo `mylu1()` za rad s blokovima (nemamo ugrađeno pivotiranje!)"
   ]
  },
  {
   "cell_type": "code",
   "execution_count": 23,
   "metadata": {},
   "outputs": [
    {
     "data": {
      "text/plain": [
       "mylu2 (generic function with 1 method)"
      ]
     },
     "execution_count": 23,
     "metadata": {},
     "output_type": "execute_result"
    }
   ],
   "source": [
    "function mylu2{T}(A1::Array{T}) # Strang, page 100\n",
    "    A=deepcopy(A1)\n",
    "    n,m=size(A)\n",
    "    for k=1:n-1\n",
    "        for rho=k+1:n\n",
    "            A[rho,k]=A[rho,k]/A[k,k]\n",
    "            for l=k+1:n\n",
    "                A[rho,l]=A[rho,l]-A[rho,k]*A[k,l]\n",
    "            end\n",
    "        end\n",
    "    end\n",
    "    A\n",
    "end"
   ]
  },
  {
   "cell_type": "markdown",
   "metadata": {},
   "source": [
    "Napravimo prvo mali test:"
   ]
  },
  {
   "cell_type": "code",
   "execution_count": 24,
   "metadata": {},
   "outputs": [],
   "source": [
    "# Probajte k,l=32,16 i k,l=64,8\n",
    "k,l=4,4\n",
    "Ab=[rand(k,k) for i=1:l, j=1:l];"
   ]
  },
  {
   "cell_type": "code",
   "execution_count": 25,
   "metadata": {},
   "outputs": [
    {
     "data": {
      "text/plain": [
       "4×4 Array{Array{Float64,2},2}:\n",
       " [0.928297 0.6371 0.0106939 0.411772; 0.960074 0.172627 0.545185 0.660187; 0.920086 0.744216 0.796063 0.785019; 0.468725 0.233466 0.758991 0.0255357]       …  [0.876171 0.399069 0.43254 0.223368; 0.466518 0.607289 0.650238 0.692858; 0.175976 0.675274 0.3353 0.128007; 0.0768076 0.68086 0.6757 0.617048]              \n",
       " [0.0713834 0.264434 -0.0655305 0.944884; 0.448553 -1.05758 0.633758 0.726483; -0.173222 -0.703436 1.7098 -0.778318; -0.0195787 -0.300495 1.2683 0.142859]     [0.006575 -0.419311 -0.438419 -0.411462; 0.728361 0.536364 0.483295 0.894272; 1.04926 0.44976 1.36813 1.78363; 0.561859 -0.739016 0.101367 0.0946634]        \n",
       " [0.627248 -0.832953 0.72418 0.0918552; 0.192013 -0.925871 1.40663 -0.090687; 0.0457607 0.875003 0.212892 -0.253978; -1.00001 -0.255398 1.71691 -0.553985]     [-1.38135 -1.77644 -1.87972 -2.42792; 0.847216 -0.624806 0.185989 0.716069; -0.277571 0.543918 0.319629 0.125582; -0.403779 1.79695 0.167983 0.545717]       \n",
       " [-0.0242382 0.432484 0.376055 0.341336; -0.669421 0.0767962 1.20189 -1.05718; 0.434883 -0.751689 0.836246 0.626468; 0.282801 0.28602 0.0688674 0.468849]      [0.133454 -1.33712 -2.1662 -1.54347; -0.157178 -0.172773 -0.824892 -0.338176; -0.883354 -0.457851 -0.634045 -1.01823; -0.0922551 0.805783 -0.253215 0.668848]"
      ]
     },
     "execution_count": 25,
     "metadata": {},
     "output_type": "execute_result"
    }
   ],
   "source": [
    "A0=mylu2(Ab)"
   ]
  },
  {
   "cell_type": "code",
   "execution_count": 26,
   "metadata": {},
   "outputs": [],
   "source": [
    "# Provjera\n",
    "U=triu(A0)\n",
    "L=tril(A0)\n",
    "for i=1:maximum(size(L))\n",
    "    L[i,i]=eye(L[1,1])\n",
    "end"
   ]
  },
  {
   "cell_type": "code",
   "execution_count": 27,
   "metadata": {},
   "outputs": [
    {
     "data": {
      "text/plain": [
       "4×4 Array{Array{Float64,2},2}:\n",
       " [0.0 0.0 0.0 0.0; 0.0 0.0 0.0 0.0; 0.0 0.0 0.0 0.0; 0.0 0.0 0.0 0.0]                                                                                                 …  [0.0 0.0 0.0 0.0; 0.0 0.0 0.0 0.0; 0.0 0.0 0.0 0.0; 0.0 0.0 0.0 0.0]                                                    \n",
       " [0.0 1.11022e-16 -1.11022e-16 5.55112e-17; 0.0 0.0 0.0 1.67401e-16; 1.66533e-16 0.0 -1.66533e-16 1.11022e-16; 0.0 0.0 0.0 2.22045e-16]                                  [0.0 0.0 0.0 0.0; 0.0 0.0 0.0 0.0; 0.0 0.0 -1.11022e-16 0.0; 0.0 0.0 0.0 0.0]                                           \n",
       " [-5.55112e-17 0.0 2.77556e-17 1.11022e-16; 0.0 -4.44089e-16 0.0 2.22045e-16; -1.11022e-16 -5.55112e-17 5.55112e-17 -1.11022e-16; -1.11022e-16 -3.33067e-16 0.0 0.0]     [0.0 -2.22045e-16 -2.22045e-16 -2.22045e-16; 1.11022e-16 -1.11022e-16 0.0 0.0; 0.0 0.0 0.0 0.0; 0.0 0.0 0.0 5.55112e-17]\n",
       " [0.0 1.11022e-16 -1.11022e-16 0.0; 4.16334e-17 -5.55112e-17 -5.55112e-17 2.22045e-16; 0.0 -1.11022e-16 0.0 2.22045e-16; 0.0 -5.55112e-17 0.0 0.0]                       [0.0 0.0 2.22045e-16 -2.22045e-16; 0.0 0.0 0.0 -1.11022e-16; -1.11022e-16 1.11022e-16 -1.11022e-16 0.0; 0.0 0.0 0.0 0.0]"
      ]
     },
     "execution_count": 27,
     "metadata": {},
     "output_type": "execute_result"
    }
   ],
   "source": [
    "Res=L*U-Ab"
   ]
  },
  {
   "cell_type": "code",
   "execution_count": 28,
   "metadata": {},
   "outputs": [
    {
     "data": {
      "text/plain": [
       "unblock (generic function with 1 method)"
      ]
     },
     "execution_count": 28,
     "metadata": {},
     "output_type": "execute_result"
    }
   ],
   "source": [
    "# pretvaranje blok matrice u obicnu\n",
    "unblock(A) = mapreduce(identity, hcat, [mapreduce(identity, vcat, A[:,i]) for i = 1:size(A,2)])"
   ]
  },
  {
   "cell_type": "code",
   "execution_count": 29,
   "metadata": {},
   "outputs": [
    {
     "data": {
      "text/plain": [
       "1.1145231103951312e-15"
      ]
     },
     "execution_count": 29,
     "metadata": {},
     "output_type": "execute_result"
    }
   ],
   "source": [
    "norm(unblock(Res))"
   ]
  },
  {
   "cell_type": "markdown",
   "metadata": {},
   "source": [
    "Sada probajmo veću dimenziju:"
   ]
  },
  {
   "cell_type": "code",
   "execution_count": 30,
   "metadata": {
    "collapsed": true
   },
   "outputs": [],
   "source": [
    "# Probajmo vece dimenzije (n=k*l)\n",
    "k,l=32,16\n",
    "Ab=[rand(k,k) for i=1:l, j=1:l];"
   ]
  },
  {
   "cell_type": "code",
   "execution_count": 31,
   "metadata": {},
   "outputs": [
    {
     "name": "stdout",
     "output_type": "stream",
     "text": [
      "  0.108365 seconds (3.95 k allocations: 26.553 MiB, 4.68% gc time)\n"
     ]
    }
   ],
   "source": [
    "@time mylu2(Ab);"
   ]
  },
  {
   "cell_type": "markdown",
   "metadata": {},
   "source": [
    "Vidimo da je `mylu2()` gotovo jednako brz kao `lu()`, uz napomenu da `mylu2()` nema ugrađeno pivotiranje. "
   ]
  },
  {
   "cell_type": "markdown",
   "metadata": {},
   "source": [
    "## Pivotiranje\n",
    "\n",
    "Stanardne implementacije uvijek računaju Gaussovu eliminaciju s _parcijalnim pivotiranjem_:\n",
    "\n",
    "> u svakom koraku se retci pivotiranju tako da pivotni element ima najveću apsolutnu vrijednst u danom stupcu. Na taj \n",
    "> način je \n",
    "> \n",
    "> $$|L_{ij}| \\leq 1,$$\n",
    "> \n",
    "> što u praksi dovoljno spriječava rast elemenata.\n"
   ]
  },
  {
   "cell_type": "code",
   "execution_count": 32,
   "metadata": {},
   "outputs": [
    {
     "data": {
      "text/plain": [
       "([1.0 0.0 … 0.0 0.0; 0.882478 1.0 … 0.0 0.0; … ; 0.659314 0.010039 … 1.0 0.0; 0.523201 0.192506 … -0.0179526 1.0], [0.685735 0.166081 … 0.670698 0.436625; 0.0 0.67506 … -0.303792 0.346482; … ; 0.0 0.0 … -0.398994 -0.546478; 0.0 0.0 … 0.0 -0.446605], [5, 1, 3, 2, 4])"
      ]
     },
     "execution_count": 32,
     "metadata": {},
     "output_type": "execute_result"
    }
   ],
   "source": [
    "A=rand(5,5)\n",
    "L,U,P=lu(A)"
   ]
  },
  {
   "cell_type": "code",
   "execution_count": 33,
   "metadata": {},
   "outputs": [
    {
     "data": {
      "text/plain": [
       "5×5 Array{Float64,2}:\n",
       "  0.0          0.0           0.0          0.0  0.0\n",
       "  0.0          0.0           0.0          0.0  0.0\n",
       " -2.77556e-17  0.0           0.0          0.0  0.0\n",
       " -5.55112e-17  0.0           0.0          0.0  0.0\n",
       " -5.55112e-17  2.77556e-17  -5.55112e-17  0.0  0.0"
      ]
     },
     "execution_count": 33,
     "metadata": {},
     "output_type": "execute_result"
    }
   ],
   "source": [
    "L*U-A[P,:]"
   ]
  },
  {
   "cell_type": "markdown",
   "metadata": {},
   "source": [
    "### Potpuno pivotiranje\n",
    "\n",
    "Sljedeći program računa Gaussovu eliminaciju s _potpunim pivotiranjem_ - u svakom koraku retci i stupci zamijene na način da se na pivotnu poziciju dovede element koji ima najveću apsolutnu vrijednost u trenutnoj podmatrici."
   ]
  },
  {
   "cell_type": "code",
   "execution_count": 40,
   "metadata": {},
   "outputs": [
    {
     "data": {
      "text/plain": [
       "gecp (generic function with 1 method)"
      ]
     },
     "execution_count": 40,
     "metadata": {},
     "output_type": "execute_result"
    }
   ],
   "source": [
    "function gecp{T}(A1::Array{T})\n",
    "    # Gaussova eliminacija s potpunim pivotiranjem\n",
    "    # Izlaz: Pr*L*U*Pc'=A ili Pr'*A*Pc=L*U\n",
    "    A=deepcopy(A1)\n",
    "    n,m=size(A)\n",
    "    Pr=eye(n,n)\n",
    "    Pc=eye(n,n)\n",
    "    D=zeros(n)\n",
    "    for i=1:n-1\n",
    "        am1,im1=findmax(abs.(A[i:n,i:n]),1)\n",
    "        am,JJ=findmax(am1)\n",
    "        II=mod(im1[JJ],(n-i+1))\n",
    "        if II==0\n",
    "            II=n-i+1\n",
    "        end\n",
    "        imax=II+i-1\n",
    "        jmax=JJ+i-1\n",
    "        #  zamijena redaka\n",
    "        if (imax != i)\n",
    "            temp = Pr[:,i]\n",
    "            Pr[:,i] = Pr[:,imax]\n",
    "            Pr[:,imax] = temp\n",
    "            temp = A[i,:]\n",
    "            A[i,:] = A[imax,:]\n",
    "            A[imax,:] = temp\n",
    "        end\n",
    "        # zamijena stupaca\n",
    "        if (jmax != i)\n",
    "            temp = Pc[:,i]\n",
    "            Pc[:,i] = Pc[:,jmax]\n",
    "            Pc[:,jmax] = temp\n",
    "            temp = A[:,i]\n",
    "            A[:,i] = A[:,jmax]\n",
    "            A[:,jmax] = temp\n",
    "        end\n",
    "        # eliminacija\n",
    "        D[i]=A[i,i]\n",
    "        A[i+1:n,i] = A[i+1:n,i]/D[i]\n",
    "        A[i+1:n,i+1:n] = A[i+1:n,i+1:n] - A[i+1:n,i]*A[i,i+1:n]'\n",
    "        A[i,i+1:n]=A[i,i+1:n]/D[i]\n",
    "    end\n",
    "    D[n]=A[n,n]\n",
    "    L=eye(n,n)+tril(A,-1)\n",
    "    U=eye(n,n)+triu(A,1)\n",
    "    U=diagm(D)*U\n",
    "    L,U,Pr,Pc\n",
    "end"
   ]
  },
  {
   "cell_type": "code",
   "execution_count": 41,
   "metadata": {},
   "outputs": [
    {
     "data": {
      "text/plain": [
       "5-element Array{Float64,1}:\n",
       " 0.153087\n",
       " 0.134864\n",
       " 0.559608\n",
       " 0.165416\n",
       " 0.346992"
      ]
     },
     "execution_count": 41,
     "metadata": {},
     "output_type": "execute_result"
    }
   ],
   "source": [
    "n=5\n",
    "A=rand(n,n)\n",
    "b=rand(n)"
   ]
  },
  {
   "cell_type": "code",
   "execution_count": 42,
   "metadata": {},
   "outputs": [
    {
     "data": {
      "text/plain": [
       "([1.0 0.0 … 0.0 0.0; 0.967749 1.0 … 0.0 0.0; … ; 0.309465 -0.336513 … 1.0 0.0; 0.755108 0.870778 … -0.616338 1.0], [0.947858 0.888318 … 0.333876 0.19378; 0.0 -0.72934 … 0.578925 0.0652485; … ; 0.0 0.0 … 0.597666 0.332758; 0.0 0.0 … 0.0 -0.0551635], [0.0 0.0 … 0.0 1.0; 1.0 0.0 … 0.0 0.0; … ; 0.0 1.0 … 0.0 0.0; 0.0 0.0 … 0.0 0.0], [0.0 0.0 … 0.0 0.0; 0.0 0.0 … 0.0 1.0; … ; 0.0 1.0 … 0.0 0.0; 1.0 0.0 … 0.0 0.0])"
      ]
     },
     "execution_count": 42,
     "metadata": {},
     "output_type": "execute_result"
    }
   ],
   "source": [
    "L,U,Pr,Pc=gecp(A)"
   ]
  },
  {
   "cell_type": "code",
   "execution_count": 43,
   "metadata": {},
   "outputs": [
    {
     "data": {
      "text/plain": [
       "5×5 Array{Float64,2}:\n",
       "  5.55112e-17   0.0          -1.11022e-16  0.0          0.0\n",
       "  2.77556e-17   0.0           0.0          0.0          0.0\n",
       " -6.93889e-18  -5.55112e-17   0.0          0.0          0.0\n",
       "  2.77556e-17   0.0           0.0          0.0          0.0\n",
       "  0.0           0.0           0.0          2.77556e-17  0.0"
      ]
     },
     "execution_count": 43,
     "metadata": {},
     "output_type": "execute_result"
    }
   ],
   "source": [
    "Pr*L*U*Pc'-A"
   ]
  },
  {
   "cell_type": "code",
   "execution_count": 44,
   "metadata": {},
   "outputs": [
    {
     "data": {
      "text/plain": [
       "5-element Array{Float64,1}:\n",
       " 0.134864 \n",
       " 0.0349018\n",
       " 0.196133 \n",
       " 0.544047 \n",
       " 0.284517 "
      ]
     },
     "execution_count": 44,
     "metadata": {},
     "output_type": "execute_result"
    }
   ],
   "source": [
    "y=myL(L,Pr'*b)"
   ]
  },
  {
   "cell_type": "code",
   "execution_count": 45,
   "metadata": {},
   "outputs": [
    {
     "data": {
      "text/plain": [
       "5-element Array{Float64,1}:\n",
       " -3.4754 \n",
       "  2.08528\n",
       "  5.33587\n",
       "  3.78191\n",
       " -5.1577 "
      ]
     },
     "execution_count": 45,
     "metadata": {},
     "output_type": "execute_result"
    }
   ],
   "source": [
    "z=myU(U,y)"
   ]
  },
  {
   "cell_type": "code",
   "execution_count": 46,
   "metadata": {},
   "outputs": [
    {
     "data": {
      "text/plain": [
       "5-element Array{Float64,1}:\n",
       "  5.33587\n",
       " -5.1577 \n",
       "  3.78191\n",
       "  2.08528\n",
       " -3.4754 "
      ]
     },
     "execution_count": 46,
     "metadata": {},
     "output_type": "execute_result"
    }
   ],
   "source": [
    "x=Pc*z"
   ]
  },
  {
   "cell_type": "code",
   "execution_count": 47,
   "metadata": {},
   "outputs": [
    {
     "data": {
      "text/plain": [
       "5-element Array{Float64,1}:\n",
       "  8.88178e-16\n",
       " -2.22045e-16\n",
       "  0.0        \n",
       "  4.44089e-16\n",
       "  6.66134e-16"
      ]
     },
     "execution_count": 47,
     "metadata": {},
     "output_type": "execute_result"
    }
   ],
   "source": [
    "A*x-b"
   ]
  },
  {
   "cell_type": "markdown",
   "metadata": {},
   "source": [
    "## Točnost\n",
    "\n",
    "Neka je zadan sustav $Ax=b$, pri čemu je matrica $A$ regularna.\n",
    "\n",
    "Da bi primijenili koncepte iz bilježnice [NA04_Pogreska_unatrag_i stabilni_algoritmi](NA04_Pogreska_unatrag_i_stabilni_algoritmi.ipynb), potrebno je:\n",
    "\n",
    "1. napraviti teoriju smetnje za dani problem\n",
    "2. analizirati pogreške algoritma (Gaussove eliminacije)\n",
    "\n",
    "### Teorija smetnje\n",
    "\n",
    "Neka je \n",
    "\n",
    "$$\n",
    "(A+\\delta A)\\hat x=(b+\\delta b)\n",
    "$$\n",
    "\n",
    "za neki $\\hat x=x+\\delta x$.\n",
    "\n",
    "Želimo ocijeniti \n",
    "\n",
    "$$\n",
    "\\frac{\\| \\hat x - x \\|}{\\| x\\|} \\equiv \\frac{\\| \\delta x\\|}{\\| x\\|}.\n",
    "$$\n",
    "\n",
    "Uvedimo oznake (npr. prema [Matrix Computations, poglavlje 2.6.2][GVL13])\n",
    "\n",
    "$$\n",
    "\\delta A=\\varepsilon F, \\quad \\delta b=\\varepsilon f, \\qquad \\hat x=x(\\varepsilon),\n",
    "$$\n",
    "čime smo dobili jednodimenzionalni problem \n",
    "\n",
    "$$\n",
    "(A+\\varepsilon F)x(\\varepsilon)=b+\\varepsilon f.\n",
    "$$\n",
    "\n",
    "za neke (nepoznate) matricu $F$ i vektor $f$. \n",
    "\n",
    "Deriviranje po $\\varepsilon$ daje\n",
    "\n",
    "$$\n",
    "Fx(\\varepsilon)+(A+\\varepsilon F)\\dot x(\\varepsilon)=f.\n",
    "$$\n",
    "\n",
    "Uvrštavanje $\\varepsilon=0$ daje\n",
    "\n",
    "$$\n",
    "F x+A\\dot x(0)=f,\n",
    "$$\n",
    "\n",
    "odnosno\n",
    "\n",
    "$$\n",
    "\\dot x(0)=A^{-1}(f-Fx).\n",
    "$$\n",
    "\n",
    "Taylorov razvoj oko $x(0)$ glasi\n",
    "\n",
    "$$\n",
    "x(\\varepsilon)=x(0)+\\varepsilon \\dot x(0) +O(\\varepsilon^2),\n",
    "$$\n",
    "\n",
    "odnosno, uz zanemarivanje člana $O(\\varepsilon^2)$,\n",
    "\n",
    "$$\n",
    "\\hat x-x=\\varepsilon A^{-1}(f-Fx)=A^{-1} (\\varepsilon f + \\varepsilon F x) = A^{-1} (\\delta b + \\delta A x).\n",
    "$$\n",
    "\n",
    "Svojstva norme povlače\n",
    "\n",
    "$$\n",
    "\\| \\hat x-x\\|\\leq \\| A^{-1} \\| (\\| \\delta b \\|  + \\| \\delta A \\| \\cdot \\|  x\\| ).\n",
    "$$\n",
    "\n",
    "Konačno, zbog $\\| b\\| \\leq \\| A\\| \\| x\\|$, imamo\n",
    "\n",
    "$$\n",
    "\\frac{\\| \\hat x-x\\|}{\\| x\\|}\\leq \\| A\\|  \\cdot \\| A^{-1} \\| \\bigg(\\frac{\\| \\delta b \\|}{\\|b\\|}  + \\frac{\\| \\delta A \\|}{ \\|  A\\|} \\bigg). \\tag{1}\n",
    "$$\n",
    "\n",
    "Broj \n",
    "$$\n",
    "\\kappa(A)\\equiv \\| A\\|  \\cdot \\| A^{-1} \\|\n",
    "$$ \n",
    "\n",
    "je __uvjetovanost__ (__kondicija__)  matrice $A$ i kazuje nam \n",
    "\n",
    "> koliko se relativno uvećaju relativne promjene u polaznim podacima (matrici $A$ i vektoru $b$).\n",
    "\n",
    "Pogledajmo primjer iz [Numeričke matematike, str. 42][RS04]:\n",
    "\n",
    "\n",
    "[GVL13]: https://books.google.hr/books?id=X5YfsuCWpxMC&printsec=frontcover&hl=hr#v=onepage&q&f=false \"G. Golub and C. F Van Loan, 'Matrix Computations', 4th Edition, John Hopkins, Baltimore, 2013\" \n",
    "\n",
    "[RS04]: http://www.mathos.unios.hr/pim/Materijali/Num.pdf \"R. Scitovski, 'Numerička matematika', Sveučilište u Osijeku, Osijek, 2004.\""
   ]
  },
  {
   "cell_type": "code",
   "execution_count": 48,
   "metadata": {},
   "outputs": [
    {
     "data": {
      "text/plain": [
       "2×2 Array{Float64,2}:\n",
       " 0.234  0.458\n",
       " 0.383  0.75 "
      ]
     },
     "execution_count": 48,
     "metadata": {},
     "output_type": "execute_result"
    }
   ],
   "source": [
    "A= [0.234 0.458; 0.383 0.750]"
   ]
  },
  {
   "cell_type": "code",
   "execution_count": 49,
   "metadata": {},
   "outputs": [
    {
     "data": {
      "text/plain": [
       "2-element Array{Float64,1}:\n",
       " 0.224\n",
       " 0.367"
      ]
     },
     "execution_count": 49,
     "metadata": {},
     "output_type": "execute_result"
    }
   ],
   "source": [
    "b=[0.224;0.367]"
   ]
  },
  {
   "cell_type": "code",
   "execution_count": 50,
   "metadata": {},
   "outputs": [
    {
     "data": {
      "text/plain": [
       "2-element Array{Float64,1}:\n",
       " -1.0\n",
       "  1.0"
      ]
     },
     "execution_count": 50,
     "metadata": {},
     "output_type": "execute_result"
    }
   ],
   "source": [
    "x=A\\b"
   ]
  },
  {
   "cell_type": "code",
   "execution_count": 51,
   "metadata": {},
   "outputs": [
    {
     "data": {
      "text/plain": [
       "2-element Array{Float64,1}:\n",
       " -0.241744\n",
       "  0.612791"
      ]
     },
     "execution_count": 51,
     "metadata": {},
     "output_type": "execute_result"
    }
   ],
   "source": [
    "δb=[0.00009; 0.000005]\n",
    "x1=A\\(b+δb)"
   ]
  },
  {
   "cell_type": "code",
   "execution_count": 52,
   "metadata": {},
   "outputs": [
    {
     "data": {
      "text/plain": [
       "(11322.197586092605, 0.0002096449170953002, 0.6020311134825742)"
      ]
     },
     "execution_count": 52,
     "metadata": {},
     "output_type": "execute_result"
    }
   ],
   "source": [
    "cond(A), norm(δb)/norm(b), norm(x1-x)/norm(x)"
   ]
  },
  {
   "cell_type": "code",
   "execution_count": 53,
   "metadata": {},
   "outputs": [
    {
     "data": {
      "text/plain": [
       "2-element Array{Float64,1}:\n",
       " 0.129518\n",
       " 0.423193"
      ]
     },
     "execution_count": 53,
     "metadata": {},
     "output_type": "execute_result"
    }
   ],
   "source": [
    "δA=[-0.001 0;0 0]\n",
    "x2=(A+δA)\\b"
   ]
  },
  {
   "cell_type": "code",
   "execution_count": 54,
   "metadata": {},
   "outputs": [
    {
     "data": {
      "text/plain": [
       "(11322.197586092605, 0.0010134105230118603, 0.896804787832142)"
      ]
     },
     "execution_count": 54,
     "metadata": {},
     "output_type": "execute_result"
    }
   ],
   "source": [
    "cond(A), norm(δA)/norm(A), norm(x2-x)/norm(x)"
   ]
  },
  {
   "cell_type": "markdown",
   "metadata": {},
   "source": [
    "### Pogreška Gaussove eliminacije\n",
    "\n",
    "Prema [Matrix Computations, poglavlje 3.3][GVL13], za izračunate faktore\n",
    "$\\hat L$ i $\\hat U$ vrijedi\n",
    "\n",
    "$$\n",
    "\\hat L\\cdot \\hat U = A+\\delta A\n",
    "$$\n",
    "\n",
    "gdje je (nejednakost se čita po elementima matrica, $\\varepsilon$ je sada točnost stroja)\n",
    "\n",
    "$$\n",
    "| \\delta A|\\leq 3(n-1) \\varepsilon (|A|+|\\hat L| \\cdot |\\hat U|) +O(\\varepsilon^2).\n",
    "$$\n",
    "\n",
    "Zanemarivanje člana $O(\\varepsilon^2)$ i prelazak na normu daju\n",
    "\n",
    "$$\n",
    "\\|\\delta A \\| \\approx \\leq  O(n)\\varepsilon (\\| A\\| + \\| \\hat L\\| \\cdot \\| \\hat U\\|),\n",
    "$$\n",
    "\n",
    "pa je \n",
    "\n",
    "$$\n",
    " \\frac{\\|\\delta A \\|}{\\|A\\|} \\leq O(n)\\varepsilon \\bigg(1+\\frac{\\| \\hat L\\| \\cdot \\| \\hat U\\|}{\\|A\\|}\\bigg).\n",
    "$$\n",
    "\n",
    "Ukoliko se Gaussova eliminacija radi s pivotiranjem, tada će najvjerojatnije zadnji kvocijent također biti malen \n",
    "($\\approx 1$). Također, pogreška kod rješavanja trokutastih sustava nije veća od navedene pa, uvrštavanjme u (1), slijedi \n",
    "da za relativnu pogrešku izračunatog rješenja vrijedi\n",
    "\n",
    "$$\n",
    "\\frac{\\| \\hat x-x\\|}{\\| x\\|}\\leq \\kappa(A) O(n\\varepsilon).\n",
    "$$\n",
    "\n",
    "> __Ukoliko je kondicija matrice velika, rješenje može biti netočno.__\n",
    "\n",
    "[GVL13]: https://books.google.hr/books?id=X5YfsuCWpxMC&printsec=frontcover&hl=hr#v=onepage&q&f=false \"G. Golub and C. F Van Loan, 'Matrix Computations', 4th Edition, John Hopkins, Baltimore, 2013\" "
   ]
  },
  {
   "cell_type": "code",
   "execution_count": 55,
   "metadata": {},
   "outputs": [
    {
     "data": {
      "text/plain": [
       "10-element Array{Float64,1}:\n",
       " 0.550738\n",
       " 0.978376\n",
       " 0.102306\n",
       " 0.810004\n",
       " 0.110933\n",
       " 0.915747\n",
       " 0.686804\n",
       " 0.440134\n",
       " 0.59432 \n",
       " 0.703396"
      ]
     },
     "execution_count": 55,
     "metadata": {},
     "output_type": "execute_result"
    }
   ],
   "source": [
    "n=10\n",
    "v=rand(n)"
   ]
  },
  {
   "cell_type": "code",
   "execution_count": 57,
   "metadata": {},
   "outputs": [
    {
     "name": "stderr",
     "output_type": "stream",
     "text": [
      "\u001b[1m\u001b[33mWARNING: \u001b[39m\u001b[22m\u001b[33mArray{T}(::Type{T}, m::Int, n::Int) is deprecated, use Array{T}(m, n) instead.\u001b[39m\n",
      "Stacktrace:\n",
      " [1] \u001b[1mdepwarn\u001b[22m\u001b[22m\u001b[1m(\u001b[22m\u001b[22m::String, ::Symbol\u001b[1m)\u001b[22m\u001b[22m at \u001b[1m.\\deprecated.jl:70\u001b[22m\u001b[22m\n",
      " [2] \u001b[1mArray\u001b[22m\u001b[22m\u001b[1m(\u001b[22m\u001b[22m::Type{Float64}, ::Int64, ::Int64\u001b[1m)\u001b[22m\u001b[22m at \u001b[1m.\\deprecated.jl:57\u001b[22m\u001b[22m\n",
      " [3] \u001b[1minclude_string\u001b[22m\u001b[22m\u001b[1m(\u001b[22m\u001b[22m::String, ::String\u001b[1m)\u001b[22m\u001b[22m at \u001b[1m.\\loading.jl:515\u001b[22m\u001b[22m\n",
      " [4] \u001b[1minclude_string\u001b[22m\u001b[22m\u001b[1m(\u001b[22m\u001b[22m::Module, ::String, ::String\u001b[1m)\u001b[22m\u001b[22m at \u001b[1mC:\\Users\\Ivan\\.julia\\v0.6\\Compat\\src\\Compat.jl:407\u001b[22m\u001b[22m\n",
      " [5] \u001b[1mexecute_request\u001b[22m\u001b[22m\u001b[1m(\u001b[22m\u001b[22m::ZMQ.Socket, ::IJulia.Msg\u001b[1m)\u001b[22m\u001b[22m at \u001b[1mC:\\Users\\Ivan\\.julia\\v0.6\\IJulia\\src\\execute_request.jl:154\u001b[22m\u001b[22m\n",
      " [6] \u001b[1meventloop\u001b[22m\u001b[22m\u001b[1m(\u001b[22m\u001b[22m::ZMQ.Socket\u001b[1m)\u001b[22m\u001b[22m at \u001b[1mC:\\Users\\Ivan\\.julia\\v0.6\\IJulia\\src\\eventloop.jl:8\u001b[22m\u001b[22m\n",
      " [7] \u001b[1m(::IJulia.##14#17)\u001b[22m\u001b[22m\u001b[1m(\u001b[22m\u001b[22m\u001b[1m)\u001b[22m\u001b[22m at \u001b[1m.\\task.jl:335\u001b[22m\u001b[22m\n",
      "while loading In[57], in expression starting on line 2\n"
     ]
    },
    {
     "data": {
      "text/plain": [
       "10×10 Array{Float64,2}:\n",
       " 1.0         1.0       1.0          …  1.0          1.0         1.0      \n",
       " 0.550738    0.978376  0.102306        0.440134     0.59432     0.703396 \n",
       " 0.303312    0.95722   0.0104664       0.193718     0.353216    0.494766 \n",
       " 0.167045    0.936522  0.00107077      0.0852621    0.209924    0.348016 \n",
       " 0.0919981   0.916271  0.000109546     0.0375268    0.124762    0.244793 \n",
       " 0.0506668   0.896458  1.12072e-5   …  0.0165168    0.0741484   0.172186 \n",
       " 0.0279041   0.877073  1.14656e-6      0.00726963   0.0440679   0.121115 \n",
       " 0.0153678   0.858108  1.17299e-7      0.00319961   0.0261904   0.0851919\n",
       " 0.00846364  0.839553  1.20003e-8      0.00140826   0.0155655   0.0599237\n",
       " 0.00466125  0.821399  1.2277e-9       0.000619824  0.00925089  0.04215  "
      ]
     },
     "execution_count": 57,
     "metadata": {},
     "output_type": "execute_result"
    }
   ],
   "source": [
    "# Vandermonmde-oove matrice imaju veliku kondiciju.\n",
    "A=Array(Float64,n,n)\n",
    "for i=1:n\n",
    "    A[:,i]=v.^(i-1)\n",
    "end\n",
    "A=A'"
   ]
  },
  {
   "cell_type": "code",
   "execution_count": 58,
   "metadata": {},
   "outputs": [
    {
     "data": {
      "text/plain": [
       "10-element Array{Float64,1}:\n",
       " 0.0627204\n",
       " 0.843522 \n",
       " 0.869844 \n",
       " 0.329481 \n",
       " 0.843062 \n",
       " 0.0603482\n",
       " 0.314869 \n",
       " 0.180867 \n",
       " 0.325915 \n",
       " 0.705797 "
      ]
     },
     "execution_count": 58,
     "metadata": {},
     "output_type": "execute_result"
    }
   ],
   "source": [
    "b=rand(n)"
   ]
  },
  {
   "cell_type": "code",
   "execution_count": 59,
   "metadata": {},
   "outputs": [
    {
     "data": {
      "text/plain": [
       "10-element Array{Float64,1}:\n",
       "     -9.90692e6\n",
       " -99941.2      \n",
       "      1.12137e5\n",
       "     -2.67507e6\n",
       "     -1.25716e5\n",
       "      5.03952e5\n",
       "     -4.94368e7\n",
       " 752831.0      \n",
       "      1.77479e7\n",
       "      4.31276e7"
      ]
     },
     "execution_count": 59,
     "metadata": {},
     "output_type": "execute_result"
    }
   ],
   "source": [
    "x=A\\b"
   ]
  },
  {
   "cell_type": "code",
   "execution_count": 60,
   "metadata": {},
   "outputs": [
    {
     "data": {
      "text/plain": [
       "1.063738558418797e9"
      ]
     },
     "execution_count": 60,
     "metadata": {},
     "output_type": "execute_result"
    }
   ],
   "source": [
    "cond(A)"
   ]
  },
  {
   "cell_type": "code",
   "execution_count": 61,
   "metadata": {},
   "outputs": [
    {
     "name": "stderr",
     "output_type": "stream",
     "text": [
      "\u001b[1m\u001b[33mWARNING: \u001b[39m\u001b[22m\u001b[33mArray{T}(::Type{T}, m::Int, n::Int) is deprecated, use Array{T}(m, n) instead.\u001b[39m\n",
      "Stacktrace:\n",
      " [1] \u001b[1mdepwarn\u001b[22m\u001b[22m\u001b[1m(\u001b[22m\u001b[22m::String, ::Symbol\u001b[1m)\u001b[22m\u001b[22m at \u001b[1m.\\deprecated.jl:70\u001b[22m\u001b[22m\n",
      " [2] \u001b[1mArray\u001b[22m\u001b[22m\u001b[1m(\u001b[22m\u001b[22m::Type{BigFloat}, ::Int64, ::Int64\u001b[1m)\u001b[22m\u001b[22m at \u001b[1m.\\deprecated.jl:57\u001b[22m\u001b[22m\n",
      " [3] \u001b[1minclude_string\u001b[22m\u001b[22m\u001b[1m(\u001b[22m\u001b[22m::String, ::String\u001b[1m)\u001b[22m\u001b[22m at \u001b[1m.\\loading.jl:515\u001b[22m\u001b[22m\n",
      " [4] \u001b[1minclude_string\u001b[22m\u001b[22m\u001b[1m(\u001b[22m\u001b[22m::Module, ::String, ::String\u001b[1m)\u001b[22m\u001b[22m at \u001b[1mC:\\Users\\Ivan\\.julia\\v0.6\\Compat\\src\\Compat.jl:407\u001b[22m\u001b[22m\n",
      " [5] \u001b[1mexecute_request\u001b[22m\u001b[22m\u001b[1m(\u001b[22m\u001b[22m::ZMQ.Socket, ::IJulia.Msg\u001b[1m)\u001b[22m\u001b[22m at \u001b[1mC:\\Users\\Ivan\\.julia\\v0.6\\IJulia\\src\\execute_request.jl:154\u001b[22m\u001b[22m\n",
      " [6] \u001b[1meventloop\u001b[22m\u001b[22m\u001b[1m(\u001b[22m\u001b[22m::ZMQ.Socket\u001b[1m)\u001b[22m\u001b[22m at \u001b[1mC:\\Users\\Ivan\\.julia\\v0.6\\IJulia\\src\\eventloop.jl:8\u001b[22m\u001b[22m\n",
      " [7] \u001b[1m(::IJulia.##14#17)\u001b[22m\u001b[22m\u001b[1m(\u001b[22m\u001b[22m\u001b[1m)\u001b[22m\u001b[22m at \u001b[1m.\\task.jl:335\u001b[22m\u001b[22m\n",
      "while loading In[61], in expression starting on line 1\n",
      "\u001b[1m\u001b[33mWARNING: \u001b[39m\u001b[22m\u001b[33mArray{T}(::Type{T}, m::Int) is deprecated, use Array{T}(m) instead.\u001b[39m\n",
      "Stacktrace:\n",
      " [1] \u001b[1mdepwarn\u001b[22m\u001b[22m\u001b[1m(\u001b[22m\u001b[22m::String, ::Symbol\u001b[1m)\u001b[22m\u001b[22m at \u001b[1m.\\deprecated.jl:70\u001b[22m\u001b[22m\n",
      " [2] \u001b[1mArray\u001b[22m\u001b[22m\u001b[1m(\u001b[22m\u001b[22m::Type{BigFloat}, ::Int64\u001b[1m)\u001b[22m\u001b[22m at \u001b[1m.\\deprecated.jl:57\u001b[22m\u001b[22m\n",
      " [3] \u001b[1minclude_string\u001b[22m\u001b[22m\u001b[1m(\u001b[22m\u001b[22m::String, ::String\u001b[1m)\u001b[22m\u001b[22m at \u001b[1m.\\loading.jl:515\u001b[22m\u001b[22m\n",
      " [4] \u001b[1minclude_string\u001b[22m\u001b[22m\u001b[1m(\u001b[22m\u001b[22m::Module, ::String, ::String\u001b[1m)\u001b[22m\u001b[22m at \u001b[1mC:\\Users\\Ivan\\.julia\\v0.6\\Compat\\src\\Compat.jl:407\u001b[22m\u001b[22m\n",
      " [5] \u001b[1mexecute_request\u001b[22m\u001b[22m\u001b[1m(\u001b[22m\u001b[22m::ZMQ.Socket, ::IJulia.Msg\u001b[1m)\u001b[22m\u001b[22m at \u001b[1mC:\\Users\\Ivan\\.julia\\v0.6\\IJulia\\src\\execute_request.jl:154\u001b[22m\u001b[22m\n",
      " [6] \u001b[1meventloop\u001b[22m\u001b[22m\u001b[1m(\u001b[22m\u001b[22m::ZMQ.Socket\u001b[1m)\u001b[22m\u001b[22m at \u001b[1mC:\\Users\\Ivan\\.julia\\v0.6\\IJulia\\src\\eventloop.jl:8\u001b[22m\u001b[22m\n",
      " [7] \u001b[1m(::IJulia.##14#17)\u001b[22m\u001b[22m\u001b[1m(\u001b[22m\u001b[22m\u001b[1m)\u001b[22m\u001b[22m at \u001b[1m.\\task.jl:335\u001b[22m\u001b[22m\n",
      "while loading In[61], in expression starting on line 2\n"
     ]
    },
    {
     "data": {
      "text/plain": [
       "10-element Array{BigFloat,1}:\n",
       " -9.906919699680192429565028948239296360567481735031523568551406110073146628858168e+06\n",
       " -9.994115024218548008136574780302635968252135850666314506064922619139755217154064e+04\n",
       "  1.121365458431713245288078341594749721051785564635743084842376117403754874930266e+05\n",
       " -2.675065531058043300719704124265528297478353612435699745322771570938373299249514e+06\n",
       " -1.257156999784780305067251121302453961389497386311112464678536540510633371377129e+05\n",
       "  5.039523035990319521220478115621803062353736041449685418935644255628888123593404e+05\n",
       " -4.943684960790880279833583537642937793244241143534765978688277028757285683811566e+07\n",
       "  7.528309965288460335327947594786453669015209868054596897118514262869608233035092e+05\n",
       "  1.774794487251061753950328553189023089170445470290110978886357752589956540409436e+07\n",
       "  4.312762703310641523281089341848223703519377479411813598364471985933704712828216e+07"
      ]
     },
     "execution_count": 61,
     "metadata": {},
     "output_type": "execute_result"
    }
   ],
   "source": [
    "Ab=Array(BigFloat,n,n)\n",
    "bb=Array(BigFloat,n)\n",
    "for i=1:n\n",
    "    for j=1:n\n",
    "        Ab[i,j]=convert(BigFloat,A[i,j])\n",
    "    end\n",
    "    bb[i]=convert(BigFloat,b[i])\n",
    "end\n",
    "xb=Ab\\bb"
   ]
  },
  {
   "cell_type": "code",
   "execution_count": 62,
   "metadata": {},
   "outputs": [
    {
     "data": {
      "text/plain": [
       "3.450120828199102017970343706917639984536169426883718217684612014810441078673437e-10"
      ]
     },
     "execution_count": 62,
     "metadata": {},
     "output_type": "execute_result"
    }
   ],
   "source": [
    "norm(xb-x)/norm(xb)"
   ]
  },
  {
   "cell_type": "markdown",
   "metadata": {},
   "source": [
    "### Umjetno loša kondicija"
   ]
  },
  {
   "cell_type": "code",
   "execution_count": 63,
   "metadata": {},
   "outputs": [
    {
     "name": "stdout",
     "output_type": "stream",
     "text": [
      "(x, cond(A)) = ([-1.0, 2.0], 6.854101966249685)\n"
     ]
    },
    {
     "data": {
      "text/plain": [
       "([-1.0, 2.0], 50000.00017991671, [8.88178e-16, -4.44089e-16])"
      ]
     },
     "execution_count": 63,
     "metadata": {},
     "output_type": "execute_result"
    }
   ],
   "source": [
    "A=[1 1; 1 2]\n",
    "b=[1;3]\n",
    "x=A\\b\n",
    "@show x,cond(A)\n",
    "A1=[1e-4 1e-4;1 2]\n",
    "b1=[1e-4;3]\n",
    "x1=A1\\b1\n",
    "x,cond(A1),x-x1"
   ]
  },
  {
   "cell_type": "markdown",
   "metadata": {
    "collapsed": true
   },
   "source": [
    "## Rezidual\n",
    "\n",
    "\n",
    "Izračunato rješenje $\\hat x$ sustava $Ax=b$ je točno rješenje nekog sličnog sustava (vidi [Afternotes on Numerical Analysis, str. 128][Ste96]):\n",
    "\n",
    "\n",
    "$$ \n",
    "(A+\\delta A)\\hat x=b. \\tag{1}\n",
    "$$\n",
    "\n",
    "__Rezidual__ (ili __ostatak__) definiramo kao \n",
    "\n",
    "$$\n",
    "r=b-A\\hat x.\n",
    "$$\n",
    "\n",
    "Tada je \n",
    "\n",
    "$$\n",
    "0=b-(A+\\delta A)\\hat x=r- \\delta A\\hat x\n",
    "$$\n",
    "\n",
    "pa je \n",
    "\n",
    "$$ \n",
    "\\| r\\| \\leq \\| \\delta A\\hat x \\| \\leq \\| \\delta A\\| \\cdot \\|\\hat x \\|,\n",
    "$$\n",
    "\n",
    "odnosno\n",
    "\n",
    "$$\n",
    "\\frac{\\|  \\delta A\\|}{\\|A \\|} \\geq \\frac{\\|r\\|}{\\| A\\| \\cdot \\|\\hat x \\|}.\n",
    "$$\n",
    "\n",
    "Dakle,\n",
    "\n",
    "> ako  _relativni rezidual_ \n",
    ">\n",
    "> $$ \\frac{r}{\\| A\\| \\cdot \\|\\hat x \\|}$$\n",
    "> \n",
    "> ima veliku normu, tada __rješenje nije izračunato stabilno.__\n",
    "\n",
    "S druge strane, ako relativni rezidual ima malu normu, tada je rješenje izračunato stabilno. Naime, za\n",
    "\n",
    "$$\n",
    "\\delta A=\\frac{r\\hat x^T}{\\|\\hat x\\|^2}\n",
    "$$\n",
    "\n",
    "vrijedi (1):\n",
    "\n",
    "$$\n",
    "b-(A+\\delta A)\\hat x=(b-A\\hat x)-\\delta A \\hat x = r-\\frac{r\\hat x^T \\hat x}{\\|\\hat x\\|^2}\n",
    "= r-\\frac{r \\|\\hat x^T \\hat x\\|}{\\|\\hat x\\|^2}=r-r=0.\n",
    "$$\n",
    "\n",
    "Također vrijedi\n",
    "\n",
    "$$\n",
    "\\frac{\\|  \\delta A\\|}{\\|A \\|}  \\leq  \\frac{\\|r\\|\\|\\hat x \\|}{\\| A\\| \\cdot \\|\\hat x \\|^2}=\n",
    "\\frac{\\|r\\|}{\\| A\\| \\cdot \\|\\hat x \\|}.\n",
    "$$\n",
    "\n",
    "\n",
    "\n",
    "\n",
    "[Ste96]: https://books.google.hr/books?id=w-2PWh01kWcC&printsec=frontcover&hl=hr#v=onepage&q&f=false    \"G. W. Stewart, 'Afternotes on Numerical Analysis', SIAM, Philadelphia, 1996\""
   ]
  },
  {
   "cell_type": "code",
   "execution_count": 64,
   "metadata": {},
   "outputs": [
    {
     "data": {
      "text/plain": [
       "2-element Array{Float64,1}:\n",
       " 0.0\n",
       " 0.0"
      ]
     },
     "execution_count": 64,
     "metadata": {},
     "output_type": "execute_result"
    }
   ],
   "source": [
    "r=b-A*x"
   ]
  },
  {
   "cell_type": "code",
   "execution_count": 65,
   "metadata": {},
   "outputs": [
    {
     "data": {
      "text/plain": [
       "0.0"
      ]
     },
     "execution_count": 65,
     "metadata": {},
     "output_type": "execute_result"
    }
   ],
   "source": [
    "norm(r)/(norm(A)*norm(x))"
   ]
  },
  {
   "cell_type": "code",
   "execution_count": null,
   "metadata": {
    "collapsed": true
   },
   "outputs": [],
   "source": []
  }
 ],
 "metadata": {
  "kernelspec": {
   "display_name": "Julia 0.6.0",
   "language": "julia",
   "name": "julia-0.6"
  },
  "language_info": {
   "file_extension": ".jl",
   "mimetype": "application/julia",
   "name": "julia",
   "version": "0.6.0"
  }
 },
 "nbformat": 4,
 "nbformat_minor": 1
}
