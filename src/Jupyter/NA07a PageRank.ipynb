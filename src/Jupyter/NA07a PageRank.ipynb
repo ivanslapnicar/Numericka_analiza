{
 "cells": [
  {
   "cell_type": "markdown",
   "metadata": {},
   "source": [
    "# PageRank"
   ]
  },
  {
   "cell_type": "markdown",
   "metadata": {
    "collapsed": true
   },
   "source": [
    "## Doba pretraživanja\n",
    "\n",
    "google (and others)\n",
    "\n",
    "\n",
    "* [50 milijardi stranica](http://www.worldwidewebsize.com/), [3.5 milijardi pretraga dnevno](http://www.internetlivestats.com/google-search-statistics/)\n",
    "* __PageRank__\n",
    "* povijest, kontekst - kolačići, spremanja podataka (o Vama), [200+ parametara](http://backlinko.com/google-ranking-factors)\n",
    "[Mol11]: https://www.mathworks.com/moler/exm/chapters/pagerank.pdf \"C, Moler, 'Google PageRank', mathWorks, 2011.\"\n",
    "\n",
    "## PageRank\n",
    "\n",
    "* Teorija grafova i linearna algebra\n",
    "* [C. Moler, Google PageRank][Mol11]\n",
    "\n",
    "\n",
    "[Mol11]: https://www.mathworks.com/moler/exm/chapters/pagerank.pdf \"C, Moler, 'Google PageRank', mathWorks, 2011.\"\n",
    "\n",
    "Neki programi:\n",
    "\n",
    "* https://github.com/purzelrakete/Pagerank.jl\n",
    "\n",
    "* https://gist.github.com/domluna/2b9358ccc89fee7d5e26\n",
    "\n",
    "Probat ćemo primjer iz Molerovog članka."
   ]
  },
  {
   "cell_type": "code",
   "execution_count": 1,
   "metadata": {},
   "outputs": [
    {
     "data": {
      "text/plain": [
       "9-element Array{Int64,1}:\n",
       " 1\n",
       " 1\n",
       " 2\n",
       " 2\n",
       " 3\n",
       " 3\n",
       " 3\n",
       " 4\n",
       " 6"
      ]
     },
     "execution_count": 1,
     "metadata": {},
     "output_type": "execute_result"
    }
   ],
   "source": [
    "i = vec([ 2 6 3 4 4 5 6 1 1])\n",
    "j = vec([ 1 1 2 2 3 3 3 4 6])"
   ]
  },
  {
   "cell_type": "code",
   "execution_count": 2,
   "metadata": {},
   "outputs": [
    {
     "data": {
      "text/plain": [
       "6×6 SparseMatrixCSC{Float64,Int64} with 9 stored entries:\n",
       "  [2, 1]  =  1.0\n",
       "  [6, 1]  =  1.0\n",
       "  [3, 2]  =  1.0\n",
       "  [4, 2]  =  1.0\n",
       "  [4, 3]  =  1.0\n",
       "  [5, 3]  =  1.0\n",
       "  [6, 3]  =  1.0\n",
       "  [1, 4]  =  1.0\n",
       "  [1, 6]  =  1.0"
      ]
     },
     "execution_count": 2,
     "metadata": {},
     "output_type": "execute_result"
    }
   ],
   "source": [
    "using SparseArrays\n",
    "G=sparse(i,j,1.0)"
   ]
  },
  {
   "cell_type": "code",
   "execution_count": 3,
   "metadata": {},
   "outputs": [
    {
     "data": {
      "text/plain": [
       "6×6 Array{Float64,2}:\n",
       " 0.0  0.0  0.0  1.0  0.0  1.0\n",
       " 1.0  0.0  0.0  0.0  0.0  0.0\n",
       " 0.0  1.0  0.0  0.0  0.0  0.0\n",
       " 0.0  1.0  1.0  0.0  0.0  0.0\n",
       " 0.0  0.0  1.0  0.0  0.0  0.0\n",
       " 1.0  0.0  1.0  0.0  0.0  0.0"
      ]
     },
     "execution_count": 3,
     "metadata": {},
     "output_type": "execute_result"
    }
   ],
   "source": [
    "Matrix(G)"
   ]
  },
  {
   "cell_type": "code",
   "execution_count": 4,
   "metadata": {},
   "outputs": [],
   "source": [
    "c=sum(G,dims=1)\n",
    "n=size(G,1)\n",
    "for j=1:n\n",
    "    if c[j]>0\n",
    "        G[:,j]=G[:,j]/c[j]\n",
    "    end\n",
    "end"
   ]
  },
  {
   "cell_type": "code",
   "execution_count": 5,
   "metadata": {},
   "outputs": [
    {
     "data": {
      "text/plain": [
       "6×6 Array{Float64,2}:\n",
       " 0.0  0.0  0.0       1.0  0.0  1.0\n",
       " 0.5  0.0  0.0       0.0  0.0  0.0\n",
       " 0.0  0.5  0.0       0.0  0.0  0.0\n",
       " 0.0  0.5  0.333333  0.0  0.0  0.0\n",
       " 0.0  0.0  0.333333  0.0  0.0  0.0\n",
       " 0.5  0.0  0.333333  0.0  0.0  0.0"
      ]
     },
     "execution_count": 5,
     "metadata": {},
     "output_type": "execute_result"
    }
   ],
   "source": [
    "Matrix(G)"
   ]
  },
  {
   "cell_type": "markdown",
   "metadata": {},
   "source": [
    "* $p$ je vjerojatnost da pratimo neki link\n",
    "* $1-p$ je vjerojatnost da posjetimo slučajnu stranicu\n",
    "* google koristi $p=0.85$ ?"
   ]
  },
  {
   "cell_type": "code",
   "execution_count": 6,
   "metadata": {},
   "outputs": [
    {
     "data": {
      "text/plain": [
       "0.025000000000000005"
      ]
     },
     "execution_count": 6,
     "metadata": {},
     "output_type": "execute_result"
    }
   ],
   "source": [
    "p=0.85\n",
    "δ=(1-p)/n"
   ]
  },
  {
   "cell_type": "code",
   "execution_count": 7,
   "metadata": {},
   "outputs": [
    {
     "data": {
      "text/plain": [
       "1×6 Array{Float64,2}:\n",
       " 0.025  0.025  0.025  0.025  0.166667  0.025"
      ]
     },
     "execution_count": 7,
     "metadata": {},
     "output_type": "execute_result"
    }
   ],
   "source": [
    "z = ((1-p)*(c.!=0) + (c.==0))/n"
   ]
  },
  {
   "cell_type": "code",
   "execution_count": 8,
   "metadata": {},
   "outputs": [
    {
     "data": {
      "text/plain": [
       "6×6 Array{Float64,2}:\n",
       " 0.025  0.025  0.025     0.875  0.166667  0.875\n",
       " 0.45   0.025  0.025     0.025  0.166667  0.025\n",
       " 0.025  0.45   0.025     0.025  0.166667  0.025\n",
       " 0.025  0.45   0.308333  0.025  0.166667  0.025\n",
       " 0.025  0.025  0.308333  0.025  0.166667  0.025\n",
       " 0.45   0.025  0.308333  0.025  0.166667  0.025"
      ]
     },
     "execution_count": 8,
     "metadata": {},
     "output_type": "execute_result"
    }
   ],
   "source": [
    "A=p*G+ones(n)*z"
   ]
  },
  {
   "cell_type": "code",
   "execution_count": 9,
   "metadata": {},
   "outputs": [
    {
     "data": {
      "text/plain": [
       "1×6 Array{Float64,2}:\n",
       " 1.0  1.0  1.0  1.0  1.0  1.0"
      ]
     },
     "execution_count": 9,
     "metadata": {},
     "output_type": "execute_result"
    }
   ],
   "source": [
    "sum(A,dims=1)"
   ]
  },
  {
   "cell_type": "markdown",
   "metadata": {},
   "source": [
    "## Ideja\n",
    "\n",
    "Započnimo slučajnu šetnju iz vektora $x_0=\\begin{bmatrix} 1/n \\\\ 1/n \\\\ \\vdots \\\\ 1/n \\end{bmatrix}$.\n",
    "\n",
    "Sljedeći vektori su  \n",
    "\n",
    "\\begin{align*}\n",
    "x_1&=A\\cdot x_0 \\\\\n",
    "x_2&=A\\cdot x_1 \\\\\n",
    "x_3&=A\\cdot x_2\\\\\n",
    "& \\ \\vdots\n",
    "\\end{align*}\n",
    "\n",
    "Preslikavanje $A(x)=Ax$ nije kontrakcija u smislu Banachovog teorema o fiksnoj točci jer je $\\|A\\|_1=1$, ali se može pokazati da ima fiksnu točku. Također, ako je $x\\geq 0$ (po komponentama), onda je $\\|Ax\\|_1=\\|x\\|_1$.\n",
    "\n",
    "Kada se vektor _stabilizira_:\n",
    "\n",
    "$$\n",
    "A\\cdot x\\approx x,\n",
    "$$\n",
    "\n",
    "tada je $x[i]$ _rang stranice_ $i$."
   ]
  },
  {
   "cell_type": "code",
   "execution_count": 10,
   "metadata": {},
   "outputs": [
    {
     "data": {
      "text/plain": [
       "PageRank (generic function with 1 method)"
      ]
     },
     "execution_count": 10,
     "metadata": {},
     "output_type": "execute_result"
    }
   ],
   "source": [
    "using LinearAlgebra\n",
    "function PageRank(G::SparseMatrixCSC{Float64,Int64},steps::Int)\n",
    "    p=0.85\n",
    "    c=sum(G,dims=1)/p\n",
    "    n=size(G,1)\n",
    "    for i=1:n\n",
    "        G.nzval[G.colptr[i]:G.colptr[i+1]-1]./=c[i]\n",
    "    end\n",
    "    e=ones(n)\n",
    "    x=e/n\n",
    "    z = vec(((1-p)*(c.!=0) + (c.==0))/n)\n",
    "    for j=1:steps\n",
    "        x=G*x.+(z⋅x)\n",
    "    end\n",
    "    x\n",
    "end"
   ]
  },
  {
   "cell_type": "code",
   "execution_count": 11,
   "metadata": {},
   "outputs": [
    {
     "data": {
      "text/plain": [
       "(:m, :n, :colptr, :rowval, :nzval)"
      ]
     },
     "execution_count": 11,
     "metadata": {},
     "output_type": "execute_result"
    }
   ],
   "source": [
    "fieldnames(typeof(G))"
   ]
  },
  {
   "cell_type": "code",
   "execution_count": 12,
   "metadata": {},
   "outputs": [
    {
     "data": {
      "text/plain": [
       "6×6 SparseMatrixCSC{Float64,Int64} with 9 stored entries:\n",
       "  [2, 1]  =  0.5\n",
       "  [6, 1]  =  0.5\n",
       "  [3, 2]  =  0.5\n",
       "  [4, 2]  =  0.5\n",
       "  [4, 3]  =  0.333333\n",
       "  [5, 3]  =  0.333333\n",
       "  [6, 3]  =  0.333333\n",
       "  [1, 4]  =  1.0\n",
       "  [1, 6]  =  1.0"
      ]
     },
     "execution_count": 12,
     "metadata": {},
     "output_type": "execute_result"
    }
   ],
   "source": [
    "G"
   ]
  },
  {
   "cell_type": "code",
   "execution_count": 13,
   "metadata": {},
   "outputs": [
    {
     "data": {
      "text/plain": [
       "7-element Array{Int64,1}:\n",
       "  1\n",
       "  3\n",
       "  5\n",
       "  8\n",
       "  9\n",
       "  9\n",
       " 10"
      ]
     },
     "execution_count": 13,
     "metadata": {},
     "output_type": "execute_result"
    }
   ],
   "source": [
    "G.colptr"
   ]
  },
  {
   "cell_type": "code",
   "execution_count": 14,
   "metadata": {},
   "outputs": [
    {
     "data": {
      "text/plain": [
       "9-element Array{Float64,1}:\n",
       " 0.5\n",
       " 0.5\n",
       " 0.5\n",
       " 0.5\n",
       " 0.3333333333333333\n",
       " 0.3333333333333333\n",
       " 0.3333333333333333\n",
       " 1.0\n",
       " 1.0"
      ]
     },
     "execution_count": 14,
     "metadata": {},
     "output_type": "execute_result"
    }
   ],
   "source": [
    "G.nzval"
   ]
  },
  {
   "cell_type": "code",
   "execution_count": 15,
   "metadata": {},
   "outputs": [
    {
     "data": {
      "text/plain": [
       "9-element Array{Int64,1}:\n",
       " 2\n",
       " 6\n",
       " 3\n",
       " 4\n",
       " 4\n",
       " 5\n",
       " 6\n",
       " 1\n",
       " 1"
      ]
     },
     "execution_count": 15,
     "metadata": {},
     "output_type": "execute_result"
    }
   ],
   "source": [
    "G.rowval"
   ]
  },
  {
   "cell_type": "code",
   "execution_count": 16,
   "metadata": {},
   "outputs": [
    {
     "data": {
      "text/plain": [
       "6-element Array{Float64,1}:\n",
       " 0.16666666666666666\n",
       " 0.16666666666666666\n",
       " 0.16666666666666666\n",
       " 0.16666666666666666\n",
       " 0.16666666666666666\n",
       " 0.16666666666666666"
      ]
     },
     "execution_count": 16,
     "metadata": {},
     "output_type": "execute_result"
    }
   ],
   "source": [
    "# Početni vektor\n",
    "x=ones(n)/n"
   ]
  },
  {
   "cell_type": "code",
   "execution_count": 17,
   "metadata": {},
   "outputs": [
    {
     "data": {
      "text/plain": [
       "6-element Array{Float64,1}:\n",
       " 0.3210244711000534\n",
       " 0.17053803244044888\n",
       " 0.10659550354273961\n",
       " 0.13679458127849142\n",
       " 0.06431030146206607\n",
       " 0.2007371101762007"
      ]
     },
     "execution_count": 17,
     "metadata": {},
     "output_type": "execute_result"
    }
   ],
   "source": [
    "PageRank(G,15)"
   ]
  },
  {
   "cell_type": "markdown",
   "metadata": {},
   "source": [
    "## [Stanford web graph](http://snap.stanford.edu/data/web-Stanford.html)\n",
    "\n",
    "Nešto veći testni problem."
   ]
  },
  {
   "cell_type": "code",
   "execution_count": 18,
   "metadata": {},
   "outputs": [
    {
     "data": {
      "text/plain": [
       "2312497×2 Array{Int64,2}:\n",
       "      1    6548\n",
       "      1   15409\n",
       "   6548   57031\n",
       "  15409   13102\n",
       "      2   17794\n",
       "      2   25202\n",
       "      2   53625\n",
       "      2   54582\n",
       "      2   64930\n",
       "      2   73764\n",
       "      2   84477\n",
       "      2   98628\n",
       "      2  100193\n",
       "      ⋮  \n",
       " 281849  165189\n",
       " 281849  177014\n",
       " 281849  226290\n",
       " 281849  243180\n",
       " 281849  244195\n",
       " 281849  247252\n",
       " 281849  281568\n",
       " 281865  186750\n",
       " 281865  225872\n",
       " 281888  114388\n",
       " 281888  192969\n",
       " 281888  233184"
      ]
     },
     "execution_count": 18,
     "metadata": {},
     "output_type": "execute_result"
    }
   ],
   "source": [
    "using DelimitedFiles\n",
    "W=readdlm(\"../files/web-Stanford.txt\",Int,comments=true)"
   ]
  },
  {
   "cell_type": "code",
   "execution_count": 19,
   "metadata": {},
   "outputs": [],
   "source": [
    "?sparse;"
   ]
  },
  {
   "cell_type": "code",
   "execution_count": 20,
   "metadata": {},
   "outputs": [
    {
     "data": {
      "text/plain": [
       "281903×281903 SparseMatrixCSC{Float64,Int64} with 2312497 stored entries:\n",
       "  [6548  ,      1]  =  1.0\n",
       "  [15409 ,      1]  =  1.0\n",
       "  [17794 ,      2]  =  1.0\n",
       "  [25202 ,      2]  =  1.0\n",
       "  [53625 ,      2]  =  1.0\n",
       "  [54582 ,      2]  =  1.0\n",
       "  [64930 ,      2]  =  1.0\n",
       "  [73764 ,      2]  =  1.0\n",
       "  [84477 ,      2]  =  1.0\n",
       "  [98628 ,      2]  =  1.0\n",
       "  [100193,      2]  =  1.0\n",
       "  [102355,      2]  =  1.0\n",
       "  ⋮\n",
       "  [119658, 281902]  =  1.0\n",
       "  [166893, 281902]  =  1.0\n",
       "  [168703, 281902]  =  1.0\n",
       "  [180771, 281902]  =  1.0\n",
       "  [266504, 281902]  =  1.0\n",
       "  [275189, 281902]  =  1.0\n",
       "  [44103 , 281903]  =  1.0\n",
       "  [56088 , 281903]  =  1.0\n",
       "  [90591 , 281903]  =  1.0\n",
       "  [94440 , 281903]  =  1.0\n",
       "  [216688, 281903]  =  1.0\n",
       "  [256539, 281903]  =  1.0\n",
       "  [260899, 281903]  =  1.0"
      ]
     },
     "execution_count": 20,
     "metadata": {},
     "output_type": "execute_result"
    }
   ],
   "source": [
    "S=sparse(W[:,2],W[:,1],1.0)"
   ]
  },
  {
   "cell_type": "code",
   "execution_count": 21,
   "metadata": {},
   "outputs": [
    {
     "name": "stdout",
     "output_type": "stream",
     "text": [
      "  1.223797 seconds (282.33 k allocations: 485.655 MiB, 21.15% gc time)\n"
     ]
    }
   ],
   "source": [
    "@time x100=PageRank(S,100);"
   ]
  },
  {
   "cell_type": "code",
   "execution_count": 22,
   "metadata": {},
   "outputs": [],
   "source": [
    "x101=PageRank(S,101);"
   ]
  },
  {
   "cell_type": "code",
   "execution_count": 23,
   "metadata": {},
   "outputs": [
    {
     "data": {
      "text/plain": [
       "2.349137499752218e-7"
      ]
     },
     "execution_count": 23,
     "metadata": {},
     "output_type": "execute_result"
    }
   ],
   "source": [
    "maximum(abs,(x101-x100)./x101)"
   ]
  },
  {
   "cell_type": "code",
   "execution_count": 24,
   "metadata": {},
   "outputs": [
    {
     "data": {
      "text/plain": [
       "281903-element Array{Float64,1}:\n",
       " 0.011302854908405054\n",
       " 0.009267830875148786\n",
       " 0.008297272329247906\n",
       " 0.0030231171615424336\n",
       " 0.0030012789016376617\n",
       " 0.002571731261436733\n",
       " 0.0024537137277376732\n",
       " 0.0024307906696690354\n",
       " 0.002391045908292474\n",
       " 0.0023640142856123114\n",
       " 0.0023010006099533765\n",
       " 0.002267415002261176\n",
       " 0.002232447425626789\n",
       " ⋮\n",
       " 5.333685722320649e-7\n",
       " 5.333685722320649e-7\n",
       " 5.333685722320649e-7\n",
       " 5.333685722320649e-7\n",
       " 5.333685722320649e-7\n",
       " 5.333685722320649e-7\n",
       " 5.333685722320649e-7\n",
       " 5.333685722320649e-7\n",
       " 5.333685722320649e-7\n",
       " 5.333685722320649e-7\n",
       " 5.333685722320649e-7\n",
       " 5.333685722320649e-7"
      ]
     },
     "execution_count": 24,
     "metadata": {},
     "output_type": "execute_result"
    }
   ],
   "source": [
    "# Ranks\n",
    "sort(x100,rev=true)"
   ]
  },
  {
   "cell_type": "code",
   "execution_count": 25,
   "metadata": {},
   "outputs": [
    {
     "data": {
      "text/plain": [
       "281903-element Array{Int64,1}:\n",
       "  89073\n",
       " 226411\n",
       " 241454\n",
       " 262860\n",
       " 134832\n",
       " 234704\n",
       " 136821\n",
       "  68889\n",
       " 105607\n",
       "  69358\n",
       "  67756\n",
       " 225872\n",
       " 186750\n",
       "      ⋮\n",
       " 281627\n",
       " 281646\n",
       " 281647\n",
       " 281700\n",
       " 281715\n",
       " 281728\n",
       " 281778\n",
       " 281785\n",
       " 281813\n",
       " 281849\n",
       " 281865\n",
       " 281888"
      ]
     },
     "execution_count": 25,
     "metadata": {},
     "output_type": "execute_result"
    }
   ],
   "source": [
    "# Pages\n",
    "sortperm(x100,rev=true)"
   ]
  },
  {
   "cell_type": "code",
   "execution_count": null,
   "metadata": {},
   "outputs": [],
   "source": []
  }
 ],
 "metadata": {
  "@webio": {
   "lastCommId": null,
   "lastKernelId": null
  },
  "anaconda-cloud": {},
  "kernelspec": {
   "display_name": "Julia 1.5.2",
   "language": "julia",
   "name": "julia-1.5"
  },
  "language_info": {
   "file_extension": ".jl",
   "mimetype": "application/julia",
   "name": "julia",
   "version": "1.5.2"
  }
 },
 "nbformat": 4,
 "nbformat_minor": 1
}
