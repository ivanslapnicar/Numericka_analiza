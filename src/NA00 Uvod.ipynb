{
 "cells": [
  {
   "cell_type": "markdown",
   "metadata": {
    "slideshow": {
     "slide_type": "slide"
    }
   },
   "source": [
    "# Uvod\n",
    "\n",
    "__Numerička analiza je znanost o računanju rješenje problema koji su matematički postavljeni u polju relanih ili kompleksnih brojeva.__  \n",
    "\n",
    "Navedimo dva primjera.\n",
    "\n",
    "## Računanje $\\pi \\approx 3.14159265358979$\n",
    "\n",
    "$\\pi$ je omjer opsega kružnice i njenog promjera. \n",
    "\n",
    "__Arhimedova metoda__\n",
    "\n",
    "Upišite pravilni $n$-terokut u kružnicu radijusa $1$. Izračunajte opseg njegove gornje polovice.\n",
    "To je najlakše napraviti kada je $n=2^k$. Koristeći geometriju,\n",
    "\n",
    "$$\n",
    "p(n) = 2n \\sin \\: \\frac{\\pi}{2n}.\n",
    "$$\n",
    "\n",
    "Premda se ova formula poziva na $\\pi$, vrijednosti $p(n)$ za $n=1,2,\\cdots$, možemo izračunati\n",
    "bez poznavanja $\\pi$ i bez korištenja funkcije $\\sin$ na kalkulatoru (Računanje sinusa zahtijeva poznavanje broja $\\pi$!).\n",
    "\n",
    "\n",
    "Znamo da je\n",
    "\n",
    "$$\n",
    "\\sin \\: \\frac{\\pi}{2} =1, \\quad \\sin \\: \\frac{\\pi}{4} = \\frac{\\sqrt{2}}{2}.\n",
    "$$\n",
    "\n",
    "Dakle, \n",
    "\n",
    "$$\n",
    "p(1)= 2 \\cdot \\sin \\: \\frac{\\pi}{2} =2, \\quad p(2) = 4 \\cdot \\sin \\: \\frac{\\pi}{4} = 2\\sqrt{2}= 2.828427125.\n",
    "$$\n",
    "\n",
    "Ali, što je $p(4) = 8 \\cdot \\sin \\: \\displaystyle\\frac{\\pi}{8}$. Formula za sinus polovice kuta daje\n",
    "\n",
    "\\begin{eqnarray*}\n",
    "\\sin \\: \\frac{\\theta}{2} = \\sqrt{\\frac{1-\\cos \\: \\theta }{2}}, \\\\\n",
    "\\cos \\: \\theta = \\sqrt{1-\\sin^2 \\: \\theta } .\n",
    "\\end{eqnarray*}\n",
    "\n",
    "Vrijedi\n",
    "\n",
    "$$\n",
    "\\sin \\: \\frac{\\pi}{8} = 0.382683432.\n",
    "$$\n",
    "\n",
    "Stoga je\n",
    "\n",
    "$$\n",
    "p(4) = 8 \\cdot \\sin \\: \\frac{\\pi}{8}=3.061467459.\n",
    "$$\n",
    "\n",
    "Nastavljajući postupak imamo\n",
    "\n",
    "n | $\\sin\\displaystyle\\frac{\\pi}{2n}$ | $p(n)$\n",
    ":---|:---|:---\n",
    "1 | 1 | 2\n",
    "2 | $\\sqrt{0.5}$ | 2.82842712\n",
    "4 |  0.382683432 | 3.061467459\n",
    "8 | 0.195090322 | 3.121445152\n",
    "16 | 0.09801714 | 3.136548491\n",
    "32 | 0.049067674 | 3.140331157\n",
    "\n",
    "Ova metoda je spora, ali \"sigurna\". "
   ]
  },
  {
   "cell_type": "code",
   "execution_count": 5,
   "metadata": {},
   "outputs": [
    {
     "data": {
      "text/plain": [
       "π = 3.1415926535897..."
      ]
     },
     "execution_count": 5,
     "metadata": {},
     "output_type": "execute_result"
    }
   ],
   "source": [
    "pi"
   ]
  },
  {
   "cell_type": "code",
   "execution_count": 10,
   "metadata": {},
   "outputs": [
    {
     "name": "stdout",
     "output_type": "stream",
     "text": [
      "2n = 4, približna vrijednost od π = 2.8284271247461903\n",
      "2n = 8, približna vrijednost od π = 3.0614674589207187\n",
      "2n = 16, približna vrijednost od π = 3.121445152258053\n",
      "2n = 32, približna vrijednost od π = 3.1365484905459406\n",
      "2n = 64, približna vrijednost od π = 3.140331156954739\n",
      "2n = 128, približna vrijednost od π = 3.141277250932757\n",
      "2n = 256, približna vrijednost od π = 3.1415138011441455\n",
      "2n = 512, približna vrijednost od π = 3.1415729403678827\n",
      "2n = 1024, približna vrijednost od π = 3.141587725279961\n",
      "2n = 2048, približna vrijednost od π = 3.141591421504635\n",
      "2n = 4096, približna vrijednost od π = 3.141592345611077\n",
      "2n = 8192, približna vrijednost od π = 3.1415925765450043\n",
      "2n = 16384, približna vrijednost od π = 3.1415926334632482\n",
      "2n = 32768, približna vrijednost od π = 3.141592654807589\n",
      "2n = 65536, približna vrijednost od π = 3.1415926453212153\n",
      "2n = 131072, približna vrijednost od π = 3.1415926073757197\n",
      "2n = 262144, približna vrijednost od π = 3.1415929109396727\n",
      "2n = 524288, približna vrijednost od π = 3.141594125195191\n",
      "2n = 1048576, približna vrijednost od π = 3.1415965537048196\n",
      "2n = 2097152, približna vrijednost od π = 3.1415965537048196\n"
     ]
    },
    {
     "data": {
      "text/plain": [
       "(\"točan π\", π)"
      ]
     },
     "execution_count": 10,
     "metadata": {},
     "output_type": "execute_result"
    }
   ],
   "source": [
    "steps=20\n",
    "s=1.0\n",
    "c=0.0\n",
    "for n=1:steps\n",
    "    s=sqrt((1-c)/2)\n",
    "    c=sqrt(1-s^2)\n",
    "    println(\"2n = \", 2^(n+1), \", približna vrijednost od π = \",2^(n+1)*s)\n",
    "end\n",
    "\"točan π\",pi"
   ]
  },
  {
   "cell_type": "markdown",
   "metadata": {},
   "source": [
    "__Zadatak:__ Povečajte broj koraka i objasnite što se događa."
   ]
  },
  {
   "cell_type": "markdown",
   "metadata": {},
   "source": [
    "Kasnije ćemo opisati modernije poboljšanje koje je i brže.\n",
    "Uz $h=1/(2n)$ vrijedi\n",
    "\n",
    "$$\n",
    "p(n) = \\frac{\\sin \\: \\pi h}{h} = \\pi -a_2 h^2 + a_4 h^4 - \\cdots,\n",
    "$$\n",
    "\n",
    "gdje je $a_k = \\displaystyle\\frac{\\pi^{k+1}}{(k+1)!}$. Rakle, ova formula teži k $\\pi$ po stopi približno jednakoj\n",
    "$O(h^2)$. To je _aproksimacijski problem_. Ne postoji konačan algoritam za računanje broja $\\pi$, jer se radi o transcedentnom broju (iracionalan i nije korijen niti jednog polinoma s cjelobrojnim koeficijentima). \n",
    "Međutim, možemo ga aproksimirati po volji točno."
   ]
  },
  {
   "cell_type": "markdown",
   "metadata": {},
   "source": [
    "## Kvdratna jednadžba\n",
    "\n",
    "Sljedeći problem ilustrira potpuno različite fenomene. \n",
    "\n",
    "Izračunajmo korijene $p(x) = ax^2 + bx +c =0$ za realne konstante $a$, $b$ i $c$.\n",
    "\n",
    "Rješenja su\n",
    "\n",
    "$$\n",
    "x_{1,2} = \\frac{ -b \\pm \\sqrt{b^2 - 4ac}}{2a}. \\tag{1}\n",
    "$$\n",
    "\n",
    "Kako ćemo pristupiti izradi programa za računanje ovih korijena?\n",
    "\n",
    "Trebamo riješiti pet posebnih slučajeva.\n",
    "\n",
    "__Slučaj I.__ $a=0, b \\neq 0$.\n",
    "\n",
    "Ovo više nije kvadratna jednadžba, nego linearna. Jedino rješenje je\n",
    "\n",
    "$$\n",
    "x_1 = -c/b.\n",
    "$$\n",
    "\n",
    "__Slučaj II.__ $a=b=0$\n",
    "\n",
    "Ako je $c \\neq 0$, nema rješenja. Ako je $c=0$, bilo koji $x$ je rješenje.\n",
    "\n",
    "Slučajevi koje smo rješavali u srednjoj školi koriste diskriminantu\n",
    "$b^2 - 4ac$.\n",
    "\n",
    "__Slučaj III.__ $b^2 -4ac < 0$. Dva kompleksna rješenje (nisu realna).\n",
    "\n",
    "$$\n",
    "x_{1,2} = -\\frac{b}{2a} \\pm \\mathbf{i} \\frac{\\sqrt{4ac-b^2}}{2a}, \\quad \\mathbf{i}^2 = -1.\n",
    "$$\n",
    "\n",
    "__Slučaj IV.__ $b^2 - 4ac =0$. Jedan dvostruki korijen (realni)\n",
    "\n",
    "$$\n",
    "x_1 = x_2 = -\\frac{b}{2a}.\n",
    "$$\n",
    "\n",
    "__Slučaj V.__ $b^2 -4ac > 0$. Dva različita realna rješenje.\n",
    "Koristimo formulu (1)?"
   ]
  },
  {
   "cell_type": "code",
   "execution_count": 11,
   "metadata": {},
   "outputs": [
    {
     "data": {
      "text/plain": [
       "(-2.0, 0.0)"
      ]
     },
     "execution_count": 11,
     "metadata": {},
     "output_type": "execute_result"
    }
   ],
   "source": [
    "a=1\n",
    "b=2\n",
    "c=10.0^(-17)\n",
    "x₁=(-b-sqrt(b*b-4*a*c))/(2*a)\n",
    "x₂=(-b+sqrt(b*b-4*a*c))/(2*a)\n",
    "\n",
    "x₁,x₂"
   ]
  },
  {
   "cell_type": "markdown",
   "metadata": {},
   "source": [
    "Dva realna rješenja su (prvih 17 znamenki)\n",
    "\n",
    "$$\n",
    "x_1 = -2, \\quad x_2 = -5 \\cdot 10^{-18}.\n",
    "$$\n",
    "\n",
    "Gornji algoritam izračuna $x_1$ točno, ali $x_2 = 0$. Standardni brojevi s plivajućim zarezom (floating-point) u dvostrukoj točnosti, `Float64`, spremaju približno $15$ decimalnih znamenki (54 binarne znamenke) i u tih 15 znamenki je $\\sqrt{b^2 -4ac}-b =0$. To je zato što oduzimamo dva bliska broja, a jedan od njih je približno točan, pa je razlika isključivo \"greške zaokruživanja\". Jednostavno zapažanje rješava ovaj problem.\n",
    "\n",
    "\"Veliki\" korijen kvadratne jednadžbe u __slučaju V__ je\n",
    "\n",
    "$$\n",
    "x_1 = \\frac{ -b - \\mathrm{sign}(b) \\sqrt{b^2 - 4ac}}{2a},\n",
    "$$\n",
    "\n",
    "a dva korijena zadovoljavaju \n",
    "\n",
    "$$\n",
    "x_1 x_2 = \\frac{c}{a}.\n",
    "$$\n",
    "\n",
    "Primjetite da, osim unutar kvadratnog korijena, zbrajamo brojeve istog predznaka!\n",
    "Nakon nekoliko transformacija imamo formulu za sitni korijen\n",
    "\n",
    "$$\n",
    "x_2 = \\frac{c}{a x_1} = \\frac{-2c}{ b + \\mathrm{sign}(b) \\sqrt{b^2 - 4ac}}.\n",
    "$$\n",
    "\n",
    "Koristeći ovu formulu oba korijena računamo blizu točnosti stroja.\n",
    "\n",
    "U ovom primjeru imali smo egzaktnu formulu, ali u aritmetici plivajućeg zareza standarna formula daje rezultate koji se značajno razlikuju od rezultata u realnoj aritmetici."
   ]
  },
  {
   "cell_type": "code",
   "execution_count": 12,
   "metadata": {},
   "outputs": [
    {
     "data": {
      "text/plain": [
       "(-2.0, -4.9999999999999996e-18)"
      ]
     },
     "execution_count": 12,
     "metadata": {},
     "output_type": "execute_result"
    }
   ],
   "source": [
    "x₁=(-b-sign(b)*sqrt(b*b-4*a*c))/(2*a)\n",
    "x₂=-2*c/(b+sign(b)*sqrt(b*b-4*a*c))\n",
    "x₁,x₂"
   ]
  },
  {
   "cell_type": "markdown",
   "metadata": {},
   "source": [
    "Sljedeća funkcija implementira svih pet sučajeva. Probajte funkciju na različitim ulazima tako da pokrijete sve slučajeve."
   ]
  },
  {
   "cell_type": "code",
   "execution_count": 13,
   "metadata": {},
   "outputs": [
    {
     "data": {
      "text/plain": [
       "korijeni (generic function with 1 method)"
      ]
     },
     "execution_count": 13,
     "metadata": {},
     "output_type": "execute_result"
    }
   ],
   "source": [
    "function korijeni(a,b,c)\n",
    "    # Funkcija za računanje korijena kvadratne jednadžbe\n",
    "    # sa zadanim koeficijentima a, b i c.\n",
    "    # Ova funkcija ne vodi računa o skaliranju. \n",
    "    if a==0\n",
    "        #  Provjerimo posebne slučajeve za a=0 \n",
    "        if b==0\n",
    "            if c==0\n",
    "                return \"svi brojevi su rješenja a=b=c=0\"\n",
    "            else\n",
    "                return \"nema rješenja a=b=0, c ne 0\"\n",
    "            end\n",
    "        else\n",
    "            x₁=-c/b\n",
    "            x₂=x₁\n",
    "            poruka=\"jedno rješenje a=0\"\n",
    "        end\n",
    "    else\n",
    "        Δ= b*b-4*a*c\n",
    "        if Δ < 0\n",
    "            # Dva kompleksna rješenja izračunata pomoću realne aritmetike\n",
    "            ximaginarni=sqrt(-Δ)/(2*a)\n",
    "            xrealni=-b/(2*a)\n",
    "            x₁=xrealni+im*ximaginarni\n",
    "            # x₂ je kompleksno konjugirani x₁, \n",
    "            # x₂ = xrealni - im*ximaginarni\n",
    "            x₂=conj(x₁)\n",
    "        else\n",
    "            if b==0\n",
    "                # Julia lako računa s kompleksnim brojevima,\n",
    "                # pa u ovom slučaju možemo koristiti formulu.\n",
    "                x₁=sqrt(-c)/a\n",
    "                x₂=-x₁\n",
    "            else\n",
    "                # Slučaj s dva različita realna korijena.\n",
    "                x₁=(-b-sign(b)*sqrt(Δ))/(2*a)\n",
    "                x₂=-2*c/(b+sign(b)*sqrt(Δ))\n",
    "            end\n",
    "        end\n",
    "        poruka=\"korijeni su dobri\"\n",
    "    end\n",
    "    x₁, x₂, poruka\n",
    "end"
   ]
  },
  {
   "cell_type": "code",
   "execution_count": 14,
   "metadata": {},
   "outputs": [
    {
     "data": {
      "text/plain": [
       "(0.0 + 2.6457513110645907im, 0.0 - 2.6457513110645907im, \"korijeni su dobri\")"
      ]
     },
     "execution_count": 14,
     "metadata": {},
     "output_type": "execute_result"
    }
   ],
   "source": [
    "korijeni(1,0,7)"
   ]
  }
 ],
 "metadata": {
  "@webio": {
   "lastCommId": null,
   "lastKernelId": null
  },
  "anaconda-cloud": {},
  "kernelspec": {
   "display_name": "Julia 1.4.2",
   "language": "julia",
   "name": "julia-1.4"
  },
  "language_info": {
   "file_extension": ".jl",
   "mimetype": "application/julia",
   "name": "julia",
   "version": "1.4.2"
  }
 },
 "nbformat": 4,
 "nbformat_minor": 1
}
