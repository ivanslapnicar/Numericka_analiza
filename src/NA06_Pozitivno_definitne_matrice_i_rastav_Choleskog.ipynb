{
 "cells": [
  {
   "cell_type": "markdown",
   "metadata": {},
   "source": [
    "# Pozitivno definitne matrice i rastav Choleskog\n",
    "---\n",
    "\n",
    "Matrica $A$ je __pozitivno definitna__ ako je simetrična i ako su sve njene svojstvene vrijednosti pozitivne.\n",
    "\n",
    "Pozitivno definitnu matricu možemo rastaviti (bez pivotiranja) kao\n",
    "\n",
    "$$\n",
    "A=L L^T\n",
    "$$\n",
    "pri čemu je $L$ donje trokutasta matrica s pozitivnim dijagonalnim elementima. Taj rastav se zove\n",
    "__rastav Choleskog__ (vidi [Numerička matematika, poglavlje 3.6][RS04]).\n",
    "\n",
    "[RS04]: http://www.mathos.unios.hr/pim/Materijali/Num.pdf \"R. Scitovski, 'Numerička matematika', Sveučilište u Osijeku, Osijek, 2004.\""
   ]
  },
  {
   "cell_type": "code",
   "execution_count": 1,
   "metadata": {
    "collapsed": false
   },
   "outputs": [
    {
     "data": {
      "text/plain": [
       "mychol (generic function with 1 method)"
      ]
     },
     "execution_count": 1,
     "metadata": {},
     "output_type": "execute_result"
    }
   ],
   "source": [
    "function mychol{T}(A1::Array{T})\n",
    "    A=deepcopy(A1)\n",
    "    n,m=size(A)\n",
    "    for k=1:n\n",
    "        A[k,k]=sqrt(A[k,k])\n",
    "        for j=k+1:n\n",
    "            A[k,j]=A[k,j]/A[k,k]\n",
    "        end\n",
    "        for j=k+1:n\n",
    "            for i=k+1:n\n",
    "                A[i,j]=A[i,j]-A[k,i]*A[k,j]\n",
    "            end\n",
    "        end\n",
    "    end\n",
    "    triu(A)\n",
    "end"
   ]
  },
  {
   "cell_type": "code",
   "execution_count": 2,
   "metadata": {
    "collapsed": false
   },
   "outputs": [
    {
     "data": {
      "text/plain": [
       "6x6 Array{Float64,2}:\n",
       " 2.89927  1.50228   1.84545   2.55248  1.98223   1.59149 \n",
       " 1.50228  1.72014   1.0035    1.41814  0.984597  1.2889  \n",
       " 1.84545  1.0035    2.09783   1.46034  0.904655  1.1863  \n",
       " 2.55248  1.41814   1.46034   2.32455  1.87446   1.28668 \n",
       " 1.98223  0.984597  0.904655  1.87446  1.695     0.656778\n",
       " 1.59149  1.2889    1.1863    1.28668  0.656778  1.76067 "
      ]
     },
     "execution_count": 2,
     "metadata": {},
     "output_type": "execute_result"
    }
   ],
   "source": [
    "A=rand(6,6)\n",
    "A=A*A'"
   ]
  },
  {
   "cell_type": "code",
   "execution_count": 3,
   "metadata": {
    "collapsed": false
   },
   "outputs": [
    {
     "data": {
      "text/plain": [
       "6x6 UpperTriangular{Float64,Array{Float64,2}}:\n",
       " 1.70272  0.882283  1.08382     1.49906     1.16415     0.934674 \n",
       " 0.0      0.970423  0.0487025   0.0984633  -0.0438098   0.478406 \n",
       " 0.0      0.0       0.959573   -0.176295   -0.3699      0.156298 \n",
       " 0.0      0.0       0.0         0.191339    0.357636   -0.70034  \n",
       " 0.0      0.0       0.0         0.0         0.270379   -0.377559 \n",
       " 0.0      0.0       0.0         0.0         0.0         0.0269602"
      ]
     },
     "execution_count": 3,
     "metadata": {},
     "output_type": "execute_result"
    }
   ],
   "source": [
    "L=chol(A)"
   ]
  },
  {
   "cell_type": "code",
   "execution_count": 4,
   "metadata": {
    "collapsed": false
   },
   "outputs": [
    {
     "data": {
      "text/plain": [
       "6x6 Array{Float64,2}:\n",
       "  4.44089e-16  0.0   0.0          0.0  -2.22045e-16  0.0        \n",
       "  0.0          0.0   0.0          0.0   0.0          0.0        \n",
       "  0.0          0.0   0.0          0.0  -1.11022e-16  0.0        \n",
       "  0.0          0.0   0.0          0.0   0.0          0.0        \n",
       " -2.22045e-16  0.0  -1.11022e-16  0.0  -4.44089e-16  1.11022e-16\n",
       "  0.0          0.0   0.0          0.0   1.11022e-16  0.0        "
      ]
     },
     "execution_count": 4,
     "metadata": {},
     "output_type": "execute_result"
    }
   ],
   "source": [
    "L'*L-A"
   ]
  },
  {
   "cell_type": "code",
   "execution_count": 5,
   "metadata": {
    "collapsed": false
   },
   "outputs": [
    {
     "data": {
      "text/plain": [
       "6x6 Array{Float64,2}:\n",
       " 1.70272  0.882283  1.08382     1.49906     1.16415     0.934674 \n",
       " 0.0      0.970423  0.0487025   0.0984633  -0.0438098   0.478406 \n",
       " 0.0      0.0       0.959573   -0.176295   -0.3699      0.156298 \n",
       " 0.0      0.0       0.0         0.191339    0.357636   -0.70034  \n",
       " 0.0      0.0       0.0         0.0         0.270379   -0.377559 \n",
       " 0.0      0.0       0.0         0.0         0.0         0.0269602"
      ]
     },
     "execution_count": 5,
     "metadata": {},
     "output_type": "execute_result"
    }
   ],
   "source": [
    "L1=mychol(A)"
   ]
  },
  {
   "cell_type": "code",
   "execution_count": 6,
   "metadata": {
    "collapsed": false
   },
   "outputs": [
    {
     "data": {
      "text/plain": [
       "6x6 Array{Float64,2}:\n",
       "  4.44089e-16  0.0  0.0  0.0  -2.22045e-16  0.0\n",
       "  0.0          0.0  0.0  0.0   0.0          0.0\n",
       "  0.0          0.0  0.0  0.0   0.0          0.0\n",
       "  0.0          0.0  0.0  0.0   0.0          0.0\n",
       " -2.22045e-16  0.0  0.0  0.0   0.0          0.0\n",
       "  0.0          0.0  0.0  0.0   0.0          0.0"
      ]
     },
     "execution_count": 6,
     "metadata": {},
     "output_type": "execute_result"
    }
   ],
   "source": [
    "L1'*L1-A"
   ]
  },
  {
   "cell_type": "code",
   "execution_count": null,
   "metadata": {
    "collapsed": true
   },
   "outputs": [],
   "source": []
  }
 ],
 "metadata": {
  "kernelspec": {
   "display_name": "Julia 0.4.0",
   "language": "julia",
   "name": "julia-0.4"
  },
  "language_info": {
   "file_extension": ".jl",
   "mimetype": "application/julia",
   "name": "julia",
   "version": "0.4.0"
  }
 },
 "nbformat": 4,
 "nbformat_minor": 0
}
