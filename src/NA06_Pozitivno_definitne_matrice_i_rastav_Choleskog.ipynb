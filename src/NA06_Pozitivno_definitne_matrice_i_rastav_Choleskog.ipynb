{
 "cells": [
  {
   "cell_type": "markdown",
   "metadata": {},
   "source": [
    "# Pozitivno definitne matrice i rastav Choleskog\n",
    "---\n",
    "\n",
    "Matrica $A$ je __pozitivno definitna__ ako je simetrična i ako su sve njene svojstvene vrijednosti pozitivne.\n",
    "\n",
    "Pozitivno definitnu matricu možemo rastaviti (bez pivotiranja) kao\n",
    "\n",
    "$$\n",
    "A=L L^T\n",
    "$$\n",
    "pri čemu je $L$ donje trokutasta matrica s pozitivnim dijagonalnim elementima. Taj rastav se zove\n",
    "__rastav Choleskog__ (vidi [Numerička matematika, poglavlje 3.6][RS04]).\n",
    "\n",
    "[RS04]: http://www.mathos.unios.hr/pim/Materijali/Num.pdf \"R. Scitovski, 'Numerička matematika', Sveučilište u Osijeku, Osijek, 2004.\""
   ]
  },
  {
   "cell_type": "code",
   "execution_count": 1,
   "metadata": {},
   "outputs": [
    {
     "data": {
      "text/plain": [
       "mychol (generic function with 1 method)"
      ]
     },
     "execution_count": 1,
     "metadata": {},
     "output_type": "execute_result"
    }
   ],
   "source": [
    "function mychol{T}(A1::Array{T})\n",
    "    A=deepcopy(A1)\n",
    "    n,m=size(A)\n",
    "    for k=1:n\n",
    "        A[k,k]=sqrt(A[k,k])\n",
    "        for j=k+1:n\n",
    "            A[k,j]=A[k,j]/A[k,k]\n",
    "        end\n",
    "        for j=k+1:n\n",
    "            for i=k+1:n\n",
    "                A[i,j]=A[i,j]-A[k,i]*A[k,j]\n",
    "            end\n",
    "        end\n",
    "    end\n",
    "    triu(A)\n",
    "end"
   ]
  },
  {
   "cell_type": "code",
   "execution_count": 2,
   "metadata": {},
   "outputs": [
    {
     "data": {
      "text/plain": [
       "6×6 Array{Float64,2}:\n",
       " 1.9571    1.6599   1.31524  1.4809   1.65909   0.597182\n",
       " 1.6599    3.06244  2.70572  2.20257  1.93266   1.45789 \n",
       " 1.31524   2.70572  2.73275  2.03374  1.6636    1.35546 \n",
       " 1.4809    2.20257  2.03374  2.24089  1.90863   1.01874 \n",
       " 1.65909   1.93266  1.6636   1.90863  1.93876   0.852666\n",
       " 0.597182  1.45789  1.35546  1.01874  0.852666  0.802526"
      ]
     },
     "execution_count": 2,
     "metadata": {},
     "output_type": "execute_result"
    }
   ],
   "source": [
    "A=rand(6,6)\n",
    "A=A*A'"
   ]
  },
  {
   "cell_type": "code",
   "execution_count": 3,
   "metadata": {},
   "outputs": [
    {
     "data": {
      "text/plain": [
       "6×6 UpperTriangular{Float64,Array{Float64,2}}:\n",
       " 1.39896  1.18652  0.940152  1.05857   1.18594    0.426875 \n",
       "  ⋅       1.28631  1.23625   0.735868  0.408546   0.739628 \n",
       "  ⋅        ⋅       0.56617   0.227496  0.0769609  0.0702392\n",
       "  ⋅        ⋅        ⋅        0.725993  0.461557   0.00911  \n",
       "  ⋅        ⋅        ⋅         ⋅        0.382677   0.0905074\n",
       "  ⋅        ⋅        ⋅         ⋅         ⋅         0.245046 "
      ]
     },
     "execution_count": 3,
     "metadata": {},
     "output_type": "execute_result"
    }
   ],
   "source": [
    "L=chol(A)"
   ]
  },
  {
   "cell_type": "code",
   "execution_count": 4,
   "metadata": {},
   "outputs": [
    {
     "data": {
      "text/plain": [
       "6×6 Array{Float64,2}:\n",
       "  0.0          2.22045e-16  0.0  -2.22045e-16   2.22045e-16   0.0        \n",
       "  2.22045e-16  4.44089e-16  0.0   0.0           0.0           0.0        \n",
       "  0.0          0.0          0.0   0.0           0.0           0.0        \n",
       " -2.22045e-16  0.0          0.0   0.0           0.0           0.0        \n",
       "  2.22045e-16  0.0          0.0   0.0           0.0          -1.11022e-16\n",
       "  0.0          0.0          0.0   0.0          -1.11022e-16   0.0        "
      ]
     },
     "execution_count": 4,
     "metadata": {},
     "output_type": "execute_result"
    }
   ],
   "source": [
    "L'*L-A"
   ]
  },
  {
   "cell_type": "code",
   "execution_count": 5,
   "metadata": {},
   "outputs": [
    {
     "data": {
      "text/plain": [
       "6×6 Array{Float64,2}:\n",
       " 1.39896  1.18652  0.940152  1.05857   1.18594    0.426875 \n",
       " 0.0      1.28631  1.23625   0.735868  0.408546   0.739628 \n",
       " 0.0      0.0      0.56617   0.227496  0.0769609  0.0702392\n",
       " 0.0      0.0      0.0       0.725993  0.461557   0.00911  \n",
       " 0.0      0.0      0.0       0.0       0.382677   0.0905074\n",
       " 0.0      0.0      0.0       0.0       0.0        0.245046 "
      ]
     },
     "execution_count": 5,
     "metadata": {},
     "output_type": "execute_result"
    }
   ],
   "source": [
    "L1=mychol(A)"
   ]
  },
  {
   "cell_type": "code",
   "execution_count": 6,
   "metadata": {},
   "outputs": [
    {
     "data": {
      "text/plain": [
       "6×6 Array{Float64,2}:\n",
       "  0.0          2.22045e-16  0.0  -2.22045e-16  2.22045e-16   0.0        \n",
       "  2.22045e-16  0.0          0.0   0.0          0.0           0.0        \n",
       "  0.0          0.0          0.0   0.0          0.0           0.0        \n",
       " -2.22045e-16  0.0          0.0   0.0          2.22045e-16  -2.22045e-16\n",
       "  2.22045e-16  0.0          0.0   2.22045e-16  0.0           0.0        \n",
       "  0.0          0.0          0.0  -2.22045e-16  0.0           0.0        "
      ]
     },
     "execution_count": 6,
     "metadata": {},
     "output_type": "execute_result"
    }
   ],
   "source": [
    "L1'*L1-A"
   ]
  },
  {
   "cell_type": "code",
   "execution_count": null,
   "metadata": {
    "collapsed": true
   },
   "outputs": [],
   "source": []
  }
 ],
 "metadata": {
  "kernelspec": {
   "display_name": "Julia 0.6.0",
   "language": "julia",
   "name": "julia-0.6"
  },
  "language_info": {
   "file_extension": ".jl",
   "mimetype": "application/julia",
   "name": "julia",
   "version": "0.6.0"
  }
 },
 "nbformat": 4,
 "nbformat_minor": 1
}
