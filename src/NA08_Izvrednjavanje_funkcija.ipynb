{
 "cells": [
  {
   "cell_type": "markdown",
   "metadata": {},
   "source": [
    "# Izvrednjavanje funkcija\n",
    "\n",
    "Računalo može izvoditi samo četiri osnovne operacije, `+`, `-`, `*` i `/` pa se sve ostale funkcije \n",
    "računaju pomoću polinoma (npr. Taylorova formula uz ocjenu ostatka ili bolje formule).\n",
    "\n",
    "Neka je zadan polinom _stupnja_ $n$:\n",
    "\n",
    "$$\n",
    "p_n(x)=a_0+a_1 x+a_2x^2+a_3 x^3+\\cdots + a_{n-1}x^{n-1}+a_nx_n,\\quad a_n\\neq 0.\n",
    "$$\n",
    "\n",
    "## Brzina\n",
    "\n",
    "Direktno računanje vrijednosti $p_n(x)$ treba $O(n^2)$ operacija.\n",
    "\n",
    "Uz __pamćenje potencija__ imamo sljedeći algoritam:"
   ]
  },
  {
   "cell_type": "code",
   "execution_count": 1,
   "metadata": {
    "collapsed": true
   },
   "outputs": [],
   "source": [
    "using Polynomials"
   ]
  },
  {
   "cell_type": "code",
   "execution_count": 2,
   "metadata": {
    "collapsed": false
   },
   "outputs": [
    {
     "data": {
      "text/plain": [
       "mypolyval (generic function with 1 method)"
      ]
     },
     "execution_count": 2,
     "metadata": {},
     "output_type": "execute_result"
    }
   ],
   "source": [
    "function mypolyval(p::Poly,x::Number)\n",
    "    s=p[0]\n",
    "    t=one(x)\n",
    "    for i=1:length(p)-1\n",
    "        t*=x\n",
    "        s+=p[i]*t\n",
    "    end\n",
    "    s\n",
    "    end "
   ]
  },
  {
   "cell_type": "code",
   "execution_count": 3,
   "metadata": {
    "collapsed": false
   },
   "outputs": [
    {
     "data": {
      "text/plain": [
       "Poly(1 + 2x + 3x^2 + 4x^3 + 5x^4)"
      ]
     },
     "execution_count": 3,
     "metadata": {},
     "output_type": "execute_result"
    }
   ],
   "source": [
    "p=Poly([1,2,3,4,5])"
   ]
  },
  {
   "cell_type": "code",
   "execution_count": 4,
   "metadata": {
    "collapsed": false
   },
   "outputs": [
    {
     "data": {
      "text/plain": [
       "547"
      ]
     },
     "execution_count": 4,
     "metadata": {},
     "output_type": "execute_result"
    }
   ],
   "source": [
    "mypolyval(p,3)"
   ]
  },
  {
   "cell_type": "markdown",
   "metadata": {},
   "source": [
    "Funkcija `mypolyval()` koristi $2n$ množenje i $n$ zbrajanja."
   ]
  },
  {
   "cell_type": "code",
   "execution_count": 5,
   "metadata": {
    "collapsed": false
   },
   "outputs": [],
   "source": [
    "pbig=Poly(rand(1000));"
   ]
  },
  {
   "cell_type": "code",
   "execution_count": 6,
   "metadata": {
    "collapsed": false
   },
   "outputs": [
    {
     "name": "stdout",
     "output_type": "stream",
     "text": [
      "  "
     ]
    },
    {
     "data": {
      "text/plain": [
       "1.4507152191075652e176"
      ]
     },
     "execution_count": 6,
     "metadata": {},
     "output_type": "execute_result"
    },
    {
     "name": "stdout",
     "output_type": "stream",
     "text": [
      "0.008947 seconds (4.76 k allocations: 233.768 KB)\n"
     ]
    }
   ],
   "source": [
    "@time mypolyval(pbig,1.5)"
   ]
  },
  {
   "cell_type": "code",
   "execution_count": 8,
   "metadata": {
    "collapsed": false
   },
   "outputs": [
    {
     "name": "stdout",
     "output_type": "stream",
     "text": [
      "  "
     ]
    },
    {
     "data": {
      "text/plain": [
       "1.450715219107562e176"
      ]
     },
     "execution_count": 8,
     "metadata": {},
     "output_type": "execute_result"
    },
    {
     "name": "stdout",
     "output_type": "stream",
     "text": [
      "0.000012 seconds (5 allocations: 176 bytes)\n"
     ]
    }
   ],
   "source": [
    "@time polyval(pbig,1.5)"
   ]
  },
  {
   "cell_type": "markdown",
   "metadata": {},
   "source": [
    "__Hornerova shema__ (Horner, 1819, Newton 1669) treba $n$ množenje i $n$ zbrajanja:"
   ]
  },
  {
   "cell_type": "code",
   "execution_count": 9,
   "metadata": {
    "collapsed": false
   },
   "outputs": [
    {
     "data": {
      "text/plain": [
       "myhorner (generic function with 1 method)"
      ]
     },
     "execution_count": 9,
     "metadata": {},
     "output_type": "execute_result"
    }
   ],
   "source": [
    "function myhorner(p::Poly,x::Number)\n",
    "    s=p[end]\n",
    "    for i=length(p)-2:-1:0\n",
    "        # s*=x\n",
    "        # s+=p[i]\n",
    "        s=s*x+p[i]\n",
    "    end\n",
    "    s\n",
    "end"
   ]
  },
  {
   "cell_type": "code",
   "execution_count": 10,
   "metadata": {
    "collapsed": false
   },
   "outputs": [
    {
     "data": {
      "text/plain": [
       "547"
      ]
     },
     "execution_count": 10,
     "metadata": {},
     "output_type": "execute_result"
    }
   ],
   "source": [
    "myhorner(p,3)"
   ]
  },
  {
   "cell_type": "code",
   "execution_count": 11,
   "metadata": {
    "collapsed": false
   },
   "outputs": [
    {
     "name": "stdout",
     "output_type": "stream",
     "text": [
      "  "
     ]
    },
    {
     "data": {
      "text/plain": [
       "1.450715219107562e176"
      ]
     },
     "execution_count": 11,
     "metadata": {},
     "output_type": "execute_result"
    },
    {
     "name": "stdout",
     "output_type": "stream",
     "text": [
      "0.010727 seconds (3.96 k allocations: 180.519 KB)\n"
     ]
    }
   ],
   "source": [
    "@time myhorner(pbig,1.5)"
   ]
  },
  {
   "cell_type": "markdown",
   "metadata": {},
   "source": [
    "Hornerova shema je __optimalna__ u smislu da je općenito za izvrednjavanje polinoma $p_n(x)$ potrebno barem $n$ množenja. \n",
    "\n",
    "(Mogući su, naravno, posebni slučajevi, kao $x^{100}$.) "
   ]
  },
  {
   "cell_type": "markdown",
   "metadata": {},
   "source": [
    "## Točnost\n",
    "\n",
    "Neka je $\\hat q$ vrijednost $p_n(x)$ izračunata u aritmetici s točnošću stroja $\\varepsilon$. Tada vrijedi ocjena\n",
    "(vidi [Accuracy and Stability of Numerical Algorithms, str. 105][Hig96]):\n",
    "\n",
    "$$\n",
    "|p_n(x)-\\hat q| \\leq \\frac{2n\\varepsilon}{1-2n\\varepsilon} \\sum_{i=0}^n |a_i||x|^i.\n",
    "$$\n",
    "\n",
    "[Hig96]: https://books.google.hr/books?id=5tv3HdF-0N8C&printsec=frontcover&hl=hr#v=onepage&q&f=false    \"Nick Higham, 'Accuracy and Stability of Numerical Algorithms', SIAM, Philadelphia, 1996\""
   ]
  },
  {
   "cell_type": "code",
   "execution_count": 12,
   "metadata": {
    "collapsed": false
   },
   "outputs": [
    {
     "data": {
      "text/plain": [
       "41.142135623730965"
      ]
     },
     "execution_count": 12,
     "metadata": {},
     "output_type": "execute_result"
    }
   ],
   "source": [
    "p=Poly([1,2,3,4,5])\n",
    "myhorner(p,sqrt(2))"
   ]
  },
  {
   "cell_type": "code",
   "execution_count": 13,
   "metadata": {
    "collapsed": false
   },
   "outputs": [
    {
     "data": {
      "text/plain": [
       "Poly(1 + 2x + 3x^2 + 4x^3 + 5x^4)"
      ]
     },
     "execution_count": 13,
     "metadata": {},
     "output_type": "execute_result"
    }
   ],
   "source": [
    "pb=Poly(map(BigInt,[1,2,3,4,5]))"
   ]
  },
  {
   "cell_type": "code",
   "execution_count": 14,
   "metadata": {
    "collapsed": false
   },
   "outputs": [
    {
     "data": {
      "text/plain": [
       "4.114213562373095048801688724209698078569671875376948073176679737990732478462071e+01"
      ]
     },
     "execution_count": 14,
     "metadata": {},
     "output_type": "execute_result"
    }
   ],
   "source": [
    "myhorner(pb,sqrt(map(BigFloat,2)))"
   ]
  },
  {
   "cell_type": "code",
   "execution_count": 15,
   "metadata": {
    "collapsed": false
   },
   "outputs": [
    {
     "data": {
      "text/plain": [
       "2.0035837177182715e11"
      ]
     },
     "execution_count": 15,
     "metadata": {},
     "output_type": "execute_result"
    }
   ],
   "source": [
    "myhorner(p,sqrt(200000))"
   ]
  },
  {
   "cell_type": "code",
   "execution_count": 16,
   "metadata": {
    "collapsed": false
   },
   "outputs": [
    {
     "data": {
      "text/plain": [
       "2.003583717718271573513413463506664716901809931137851879604936332676245815123154e+11"
      ]
     },
     "execution_count": 16,
     "metadata": {},
     "output_type": "execute_result"
    }
   ],
   "source": [
    "myhorner(pb,sqrt(map(BigFloat,200000)))"
   ]
  },
  {
   "cell_type": "code",
   "execution_count": 17,
   "metadata": {
    "collapsed": false
   },
   "outputs": [
    {
     "data": {
      "text/plain": [
       "Poly(-3600.0000000000005 + 10074.701294725885x - 10926.667524715478x^2 + 5983.714713523981x^3 - 1813.4835482706842x^4 + 308.2203461105329x^5 - 27.48528137423857x^6 + x^7)"
      ]
     },
     "execution_count": 17,
     "metadata": {},
     "output_type": "execute_result"
    }
   ],
   "source": [
    "r=[1,sqrt(2),3,4,5,6,sqrt(50)]\n",
    "p=poly(r)"
   ]
  },
  {
   "cell_type": "code",
   "execution_count": 18,
   "metadata": {
    "collapsed": false
   },
   "outputs": [
    {
     "data": {
      "text/plain": [
       "Poly(-3.600000000000000379131566326426658519951798233677472418044762658695390200591646e+03 + 1.007470129472588617359567977839658265635786507617888371518728718445601089115371e+04x - 1.092666752471547708236282815742121598471939907533833099921843218238493022909097e+04x^2 + 5.983714713523981214300865042833422625843619822133098010478145789559079048558488e+03x^3 - 1.813483548270684199169749849270990311652746621526228579007918029208923371697892e+03x^4 + 3.082203461105328434184026381162611967403808614536830831056798962741538616683101e+02x^5 - 2.748528137423857065080312622740166261792182922363281250000000000000000000000000e+01x^6 + x^7)"
      ]
     },
     "execution_count": 18,
     "metadata": {},
     "output_type": "execute_result"
    }
   ],
   "source": [
    "pb=poly(map(BigFloat,r))"
   ]
  },
  {
   "cell_type": "code",
   "execution_count": 19,
   "metadata": {
    "collapsed": false
   },
   "outputs": [
    {
     "data": {
      "text/plain": [
       "-16.501829900900248"
      ]
     },
     "execution_count": 19,
     "metadata": {},
     "output_type": "execute_result"
    }
   ],
   "source": [
    "myhorner(p,sqrt(2)+0.1)"
   ]
  },
  {
   "cell_type": "code",
   "execution_count": 20,
   "metadata": {
    "collapsed": false
   },
   "outputs": [
    {
     "data": {
      "text/plain": [
       "-1.650182990089441570965221108407569790203119747704640347484765272697823211215861e+01"
      ]
     },
     "execution_count": 20,
     "metadata": {},
     "output_type": "execute_result"
    }
   ],
   "source": [
    "myhorner(pb,sqrt(map(BigFloat,2))+0.1)"
   ]
  },
  {
   "cell_type": "code",
   "execution_count": 21,
   "metadata": {
    "collapsed": false
   },
   "outputs": [
    {
     "data": {
      "text/plain": [
       "-1.307549271826299e14"
      ]
     },
     "execution_count": 21,
     "metadata": {},
     "output_type": "execute_result"
    }
   ],
   "source": [
    "myhorner(p,-sqrt(10000))"
   ]
  },
  {
   "cell_type": "code",
   "execution_count": 22,
   "metadata": {
    "collapsed": false
   },
   "outputs": [
    {
     "data": {
      "text/plain": [
       "-1.307549271826298681134778698255153254173615274698734585218439050325472949865002e+14"
      ]
     },
     "execution_count": 22,
     "metadata": {},
     "output_type": "execute_result"
    }
   ],
   "source": [
    "myhorner(pb,-sqrt(map(BigFloat,10000)))"
   ]
  },
  {
   "cell_type": "code",
   "execution_count": null,
   "metadata": {
    "collapsed": true
   },
   "outputs": [],
   "source": []
  }
 ],
 "metadata": {
  "kernelspec": {
   "display_name": "Julia 0.4.5",
   "language": "julia",
   "name": "julia-0.4"
  },
  "language_info": {
   "file_extension": ".jl",
   "mimetype": "application/julia",
   "name": "julia",
   "version": "0.4.5"
  }
 },
 "nbformat": 4,
 "nbformat_minor": 0
}
