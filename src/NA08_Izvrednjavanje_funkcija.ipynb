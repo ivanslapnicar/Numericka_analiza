{
 "cells": [
  {
   "cell_type": "markdown",
   "metadata": {},
   "source": [
    "# Izvrednjavanje funkcija\n",
    "\n",
    "Računalo može izvoditi samo četiri osnovne operacije, `+`, `-`, `*` i `/` pa se sve ostale funkcije \n",
    "računaju pomoću polinoma (npr. Taylorova formula uz ocjenu ostatka ili bolje formule).\n",
    "\n",
    "Neka je zadan polinom _stupnja_ $n$:\n",
    "\n",
    "$$\n",
    "p_n(x)=a_0+a_1 x+a_2x^2+a_3 x^3+\\cdots + a_{n-1}x^{n-1}+a_n x^n,\\quad a_n\\neq 0.\n",
    "$$\n",
    "\n",
    "## Brzina\n",
    "\n",
    "Direktno računanje vrijednosti $p_n(x)$ treba $O(n^2)$ operacija.\n",
    "\n",
    "Uz __pamćenje potencija__ imamo sljedeći algoritam:"
   ]
  },
  {
   "cell_type": "code",
   "execution_count": 1,
   "metadata": {
    "collapsed": true
   },
   "outputs": [],
   "source": [
    "using Polynomials"
   ]
  },
  {
   "cell_type": "code",
   "execution_count": 2,
   "metadata": {},
   "outputs": [
    {
     "data": {
      "text/plain": [
       "mypolyval (generic function with 1 method)"
      ]
     },
     "execution_count": 2,
     "metadata": {},
     "output_type": "execute_result"
    }
   ],
   "source": [
    "function mypolyval(p::Poly,x::Number)\n",
    "    s=p[0]\n",
    "    t=one(typeof(p[0]))\n",
    "    for i=1:length(p)-1\n",
    "        t*=x\n",
    "        s+=p[i]*t\n",
    "    end\n",
    "    s\n",
    "    end "
   ]
  },
  {
   "cell_type": "code",
   "execution_count": 3,
   "metadata": {},
   "outputs": [
    {
     "data": {
      "text/html": [
       "1 &#43; 2&#8729;x &#43; 3&#8729;x^2 &#43; 4&#8729;x^3 &#43; 5&#8729;x^4"
      ],
      "text/plain": [
       "Poly(1 + 2*x + 3*x^2 + 4*x^3 + 5*x^4)"
      ]
     },
     "execution_count": 3,
     "metadata": {},
     "output_type": "execute_result"
    }
   ],
   "source": [
    "p=Poly([1,2,3,4,5])"
   ]
  },
  {
   "cell_type": "code",
   "execution_count": 4,
   "metadata": {},
   "outputs": [
    {
     "data": {
      "text/html": [
       "547"
      ],
      "text/plain": [
       "547"
      ]
     },
     "execution_count": 4,
     "metadata": {},
     "output_type": "execute_result"
    }
   ],
   "source": [
    "mypolyval(p,3)"
   ]
  },
  {
   "cell_type": "code",
   "execution_count": 5,
   "metadata": {},
   "outputs": [
    {
     "data": {
      "text/html": [
       "647.962560401659"
      ],
      "text/plain": [
       "647.962560401659"
      ]
     },
     "execution_count": 5,
     "metadata": {},
     "output_type": "execute_result"
    }
   ],
   "source": [
    "mypolyval(p,π)"
   ]
  },
  {
   "cell_type": "markdown",
   "metadata": {},
   "source": [
    "Funkcija `mypolyval()` koristi $2n$ množenje i $n$ zbrajanja."
   ]
  },
  {
   "cell_type": "code",
   "execution_count": 6,
   "metadata": {
    "collapsed": true
   },
   "outputs": [],
   "source": [
    "pbig=Poly(rand(1000));"
   ]
  },
  {
   "cell_type": "code",
   "execution_count": 8,
   "metadata": {},
   "outputs": [
    {
     "name": "stdout",
     "output_type": "stream",
     "text": [
      "  0.000011 seconds (5 allocations: 176 bytes)\n"
     ]
    },
    {
     "data": {
      "text/html": [
       "1.4486799670176103e176"
      ],
      "text/plain": [
       "1.4486799670176103e176"
      ]
     },
     "execution_count": 8,
     "metadata": {},
     "output_type": "execute_result"
    }
   ],
   "source": [
    "@time mypolyval(pbig,1.5)"
   ]
  },
  {
   "cell_type": "code",
   "execution_count": 10,
   "metadata": {},
   "outputs": [
    {
     "name": "stdout",
     "output_type": "stream",
     "text": [
      "  0.000010 seconds (5 allocations: 176 bytes)\n"
     ]
    },
    {
     "data": {
      "text/html": [
       "1.4486799670176067e176"
      ],
      "text/plain": [
       "1.4486799670176067e176"
      ]
     },
     "execution_count": 10,
     "metadata": {},
     "output_type": "execute_result"
    }
   ],
   "source": [
    "@time polyval(pbig,1.5)"
   ]
  },
  {
   "cell_type": "markdown",
   "metadata": {},
   "source": [
    "__Hornerova shema__ (Horner, 1819, Newton 1669) treba $n$ množenja i $n$ zbrajanja:"
   ]
  },
  {
   "cell_type": "code",
   "execution_count": 11,
   "metadata": {},
   "outputs": [
    {
     "data": {
      "text/plain": [
       "myhorner (generic function with 1 method)"
      ]
     },
     "execution_count": 11,
     "metadata": {},
     "output_type": "execute_result"
    }
   ],
   "source": [
    "function myhorner(p::Poly,x::Number)\n",
    "    s=p[end]\n",
    "    for i=length(p)-2:-1:0\n",
    "        # s*=x\n",
    "        # s+=p[i]\n",
    "        s=s*x+p[i]\n",
    "    end\n",
    "    s\n",
    "end"
   ]
  },
  {
   "cell_type": "code",
   "execution_count": 12,
   "metadata": {},
   "outputs": [
    {
     "data": {
      "text/html": [
       "547"
      ],
      "text/plain": [
       "547"
      ]
     },
     "execution_count": 12,
     "metadata": {},
     "output_type": "execute_result"
    }
   ],
   "source": [
    "myhorner(p,3)"
   ]
  },
  {
   "cell_type": "code",
   "execution_count": 14,
   "metadata": {},
   "outputs": [
    {
     "name": "stdout",
     "output_type": "stream",
     "text": [
      "  0.000009 seconds (5 allocations: 176 bytes)\n"
     ]
    },
    {
     "data": {
      "text/html": [
       "1.4486799670176067e176"
      ],
      "text/plain": [
       "1.4486799670176067e176"
      ]
     },
     "execution_count": 14,
     "metadata": {},
     "output_type": "execute_result"
    }
   ],
   "source": [
    "@time myhorner(pbig,1.5)"
   ]
  },
  {
   "cell_type": "markdown",
   "metadata": {},
   "source": [
    "Hornerova shema je __optimalna__ u smislu da je općenito za izvrednjavanje polinoma $p_n(x)$ potrebno barem $n$ množenja. \n",
    "\n",
    "(Mogući su, naravno, posebni slučajevi, kao $x^{100}$.) "
   ]
  },
  {
   "cell_type": "markdown",
   "metadata": {},
   "source": [
    "## Točnost\n",
    "\n",
    "Neka je $\\hat q$ vrijednost $p_n(x)$ izračunata u aritmetici s točnošću stroja $\\varepsilon$. Tada vrijedi ocjena\n",
    "(vidi [Accuracy and Stability of Numerical Algorithms, str. 105][Hig96]):\n",
    "\n",
    "$$\n",
    "\\big|\\, p_n(x)-\\hat q\\,\\big| \\leq \\frac{2n\\varepsilon}{1-2n\\varepsilon} \\sum_{i=0}^n |a_i||x|^i.\n",
    "$$\n",
    "\n",
    "[Hig96]: https://books.google.hr/books?id=5tv3HdF-0N8C&printsec=frontcover&hl=hr#v=onepage&q&f=false    \"Nick Higham, 'Accuracy and Stability of Numerical Algorithms', SIAM, Philadelphia, 1996\""
   ]
  },
  {
   "cell_type": "code",
   "execution_count": 15,
   "metadata": {},
   "outputs": [
    {
     "data": {
      "text/html": [
       "41.142135623730965"
      ],
      "text/plain": [
       "41.142135623730965"
      ]
     },
     "execution_count": 15,
     "metadata": {},
     "output_type": "execute_result"
    }
   ],
   "source": [
    "p=Poly([1,2,3,4,5])\n",
    "myhorner(p,sqrt(2))"
   ]
  },
  {
   "cell_type": "code",
   "execution_count": 16,
   "metadata": {},
   "outputs": [
    {
     "data": {
      "text/html": [
       "1 &#43; 2&#8729;x &#43; 3&#8729;x^2 &#43; 4&#8729;x^3 &#43; 5&#8729;x^4"
      ],
      "text/plain": [
       "Poly(1 + 2*x + 3*x^2 + 4*x^3 + 5*x^4)"
      ]
     },
     "execution_count": 16,
     "metadata": {},
     "output_type": "execute_result"
    }
   ],
   "source": [
    "pb=Poly(map(BigInt,[1,2,3,4,5]))"
   ]
  },
  {
   "cell_type": "code",
   "execution_count": 17,
   "metadata": {},
   "outputs": [
    {
     "data": {
      "text/html": [
       "4.114213562373095048801688724209698078569671875376948073176679737990732478462071e+01"
      ],
      "text/plain": [
       "4.114213562373095048801688724209698078569671875376948073176679737990732478462071e+01"
      ]
     },
     "execution_count": 17,
     "metadata": {},
     "output_type": "execute_result"
    }
   ],
   "source": [
    "myhorner(pb,sqrt(map(BigFloat,2)))"
   ]
  },
  {
   "cell_type": "code",
   "execution_count": 18,
   "metadata": {},
   "outputs": [
    {
     "data": {
      "text/html": [
       "2.0035837177182715e11"
      ],
      "text/plain": [
       "2.0035837177182715e11"
      ]
     },
     "execution_count": 18,
     "metadata": {},
     "output_type": "execute_result"
    }
   ],
   "source": [
    "myhorner(p,sqrt(200000))"
   ]
  },
  {
   "cell_type": "code",
   "execution_count": 19,
   "metadata": {},
   "outputs": [
    {
     "data": {
      "text/html": [
       "2.003583717718271573513413463506664716901809931137851879604936332676245815123154e+11"
      ],
      "text/plain": [
       "2.003583717718271573513413463506664716901809931137851879604936332676245815123154e+11"
      ]
     },
     "execution_count": 19,
     "metadata": {},
     "output_type": "execute_result"
    }
   ],
   "source": [
    "myhorner(pb,sqrt(map(BigFloat,200000)))"
   ]
  },
  {
   "cell_type": "code",
   "execution_count": 20,
   "metadata": {},
   "outputs": [
    {
     "data": {
      "text/html": [
       "&#45;3600.0000000000005 &#43; 10074.701294725885&#8729;x &#45; 10926.667524715478&#8729;x^2 &#43; 5983.714713523981&#8729;x^3 &#45; 1813.4835482706842&#8729;x^4 &#43; 308.2203461105329&#8729;x^5 &#45; 27.48528137423857&#8729;x^6 &#43; 1.0&#8729;x^7"
      ],
      "text/plain": [
       "Poly(-3600.0000000000005 + 10074.701294725885*x - 10926.667524715478*x^2 + 5983.714713523981*x^3 - 1813.4835482706842*x^4 + 308.2203461105329*x^5 - 27.48528137423857*x^6 + 1.0*x^7)"
      ]
     },
     "execution_count": 20,
     "metadata": {},
     "output_type": "execute_result"
    }
   ],
   "source": [
    "r=[1,sqrt(2),3,4,5,6,sqrt(50)]\n",
    "p=poly(r)"
   ]
  },
  {
   "cell_type": "code",
   "execution_count": 21,
   "metadata": {},
   "outputs": [
    {
     "data": {
      "text/html": [
       "&#45;3.600000000000000379131566326426658519951798233677472418044762658695390200591646e+03 &#43; 1.007470129472588617359567977839658265635786507617888371518728718445601089115371e+04&#8729;x &#45; 1.092666752471547708236282815742121598471939907533833099921843218238493022909097e+04&#8729;x^2 &#43; 5.983714713523981214300865042833422625843619822133098010478145789559079048558488e+03&#8729;x^3 &#45; 1.813483548270684199169749849270990311652746621526228579007918029208923371697892e+03&#8729;x^4 &#43; 3.082203461105328434184026381162611967403808614536830831056798962741538616683101e+02&#8729;x^5 &#45; 2.748528137423857065080312622740166261792182922363281250000000000000000000000000e+01&#8729;x^6 &#43; 1.000000000000000000000000000000000000000000000000000000000000000000000000000000&#8729;x^7"
      ],
      "text/plain": [
       "Poly(-3.600000000000000379131566326426658519951798233677472418044762658695390200591646e+03 + 1.007470129472588617359567977839658265635786507617888371518728718445601089115371e+04*x - 1.092666752471547708236282815742121598471939907533833099921843218238493022909097e+04*x^2 + 5.983714713523981214300865042833422625843619822133098010478145789559079048558488e+03*x^3 - 1.813483548270684199169749849270990311652746621526228579007918029208923371697892e+03*x^4 + 3.082203461105328434184026381162611967403808614536830831056798962741538616683101e+02*x^5 - 2.748528137423857065080312622740166261792182922363281250000000000000000000000000e+01*x^6 + 1.000000000000000000000000000000000000000000000000000000000000000000000000000000*x^7)"
      ]
     },
     "execution_count": 21,
     "metadata": {},
     "output_type": "execute_result"
    }
   ],
   "source": [
    "pb=poly(map(BigFloat,r))"
   ]
  },
  {
   "cell_type": "code",
   "execution_count": 22,
   "metadata": {},
   "outputs": [
    {
     "data": {
      "text/html": [
       "-16.501829900900248"
      ],
      "text/plain": [
       "-16.501829900900248"
      ]
     },
     "execution_count": 22,
     "metadata": {},
     "output_type": "execute_result"
    }
   ],
   "source": [
    "myhorner(p,sqrt(2)+0.1)"
   ]
  },
  {
   "cell_type": "code",
   "execution_count": 23,
   "metadata": {},
   "outputs": [
    {
     "data": {
      "text/html": [
       "-1.650182990089441570965221108407569790203119747704640347484765272697823211215861e+01"
      ],
      "text/plain": [
       "-1.650182990089441570965221108407569790203119747704640347484765272697823211215861e+01"
      ]
     },
     "execution_count": 23,
     "metadata": {},
     "output_type": "execute_result"
    }
   ],
   "source": [
    "myhorner(pb,sqrt(map(BigFloat,2))+0.1)"
   ]
  },
  {
   "cell_type": "code",
   "execution_count": 24,
   "metadata": {},
   "outputs": [
    {
     "data": {
      "text/html": [
       "-1.307549271826299e14"
      ],
      "text/plain": [
       "-1.307549271826299e14"
      ]
     },
     "execution_count": 24,
     "metadata": {},
     "output_type": "execute_result"
    }
   ],
   "source": [
    "myhorner(p,-sqrt(10000))"
   ]
  },
  {
   "cell_type": "code",
   "execution_count": 25,
   "metadata": {},
   "outputs": [
    {
     "data": {
      "text/html": [
       "-1.307549271826298681134778698255153254173615274698734585218439050325472949865002e+14"
      ],
      "text/plain": [
       "-1.307549271826298681134778698255153254173615274698734585218439050325472949865002e+14"
      ]
     },
     "execution_count": 25,
     "metadata": {},
     "output_type": "execute_result"
    }
   ],
   "source": [
    "myhorner(pb,-sqrt(map(BigFloat,10000)))"
   ]
  },
  {
   "cell_type": "code",
   "execution_count": null,
   "metadata": {
    "collapsed": true
   },
   "outputs": [],
   "source": []
  }
 ],
 "metadata": {
  "kernelspec": {
   "display_name": "Julia 0.6.0",
   "language": "julia",
   "name": "julia-0.6"
  },
  "language_info": {
   "file_extension": ".jl",
   "mimetype": "application/julia",
   "name": "julia",
   "version": "0.6.0"
  }
 },
 "nbformat": 4,
 "nbformat_minor": 1
}
