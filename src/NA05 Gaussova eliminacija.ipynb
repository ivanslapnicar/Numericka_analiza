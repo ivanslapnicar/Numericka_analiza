{
 "cells": [
  {
   "cell_type": "markdown",
   "metadata": {},
   "source": [
    "# Gaussova eliminacija\n",
    "\n",
    "\n",
    "## Općenito\n",
    "\n",
    "Sustav $Ax=b$\n",
    "se rješava u tri koraka (_bez pivotiranja_ ):\n",
    "\n",
    "1. $A=LU$ (LU rastav, $O(\\frac{2}{3}n^3)$ operacija),\n",
    "2. $Ly=b$ (donje trokutrasti sustav, $n^2$ operacija),\n",
    "3. $Ux=y$ (gornje torkutasti sustav, $n^2$ operacija).\n",
    "\n",
    "S pivotiranjem vrijedi\n",
    "\n",
    "1. $PA=LU$, \n",
    "2. $Ly=P^T b$,\n",
    "3. $Ux=y$. "
   ]
  },
  {
   "cell_type": "markdown",
   "metadata": {},
   "source": [
    "## Primjeri\n",
    "\n",
    "Sljedeći primjeri ukazuju na dva fenomena, jedan od kojih smo već vidjeli, dok drugi nismo. \n",
    "U ovom primjeru $\\epsilon$ je vrijednost koju daje funkcija `eps()`.\n",
    "\n",
    "Promotrimo sustav linearnih jednadžbi \n",
    "\n",
    "\\begin{eqnarray*}\n",
    "\\displaystyle\\frac{\\epsilon}{10} x_1 + x_2 = 1 \\\\\n",
    "x_1 + x_2 = 2\n",
    "\\end{eqnarray*}\n",
    "\n",
    "Dobro približno rješenje je $x_1 = x_2 =1$. Koristimo proširenu matricu sustava:\n",
    "\n",
    "\\begin{align*}\n",
    "&\\left(\\begin{array}{cc|c} \\displaystyle\\displaystyle\\frac{\\epsilon}{10} & 1 & 1 \\\\ 1 & 1 & 2 \\end{array} \\right) \\sim\n",
    "\\left(\\begin{array}{cc|c} \\displaystyle \\displaystyle\\frac{\\epsilon}{10} & 1 & 1 \\\\ 0 & 1-\\displaystyle\\displaystyle\\frac{10}{\\epsilon} & 2-\\displaystyle\\displaystyle\\frac{10}{\\epsilon}\\end{array}\\right)\n",
    "\\approx \\left(\\begin{array}{cc|c}  \\displaystyle\\displaystyle\\frac{\\epsilon}{10} & 1 & 1 \\\\ 0 & -\\displaystyle\\displaystyle\\frac{10}{\\epsilon} & -\\displaystyle\\displaystyle\\frac{10}{\\epsilon}\\end{array}\\right).\n",
    "\\end{align*}\n",
    "\n",
    "Zadnja transformacija je zaokruživanje do na točnost stroja $\\epsilon$.\n",
    "Vrlo značajni \"1\" i \"2\" u zadnjem retku su _nestali prilikom zaokruživanja_ !\n",
    "\n",
    "Rješavanje zadnjeg trokutastog sustava daje $x_1 = 0$, $x_2 = 1$. Uvrštavanje u originalni sustav daje $x_1+x_2 = 1$, što je \"vrlo netočno\"."
   ]
  },
  {
   "cell_type": "code",
   "execution_count": 1,
   "metadata": {},
   "outputs": [
    {
     "data": {
      "text/plain": [
       "2-element Array{Float64,1}:\n",
       " 0.0\n",
       " 1.0"
      ]
     },
     "execution_count": 1,
     "metadata": {},
     "output_type": "execute_result"
    }
   ],
   "source": [
    "[eps()/10 1;0 1-10/eps()]\\[1; 2-10/eps()]"
   ]
  },
  {
   "cell_type": "markdown",
   "metadata": {},
   "source": [
    "I ovdje postoji \"rješenje\" koje se zove _parcijalno pivotiranje_. Stavimo apsolutno najveći element koji još nije poništen u promatranom stupcu na pivotnu odnosno dijagonalnu poziciju:\n",
    "\n",
    "\\begin{align*}\n",
    "&\\left(\\begin{array}{cc|c}     1 & 1 & 2 \\\\\\displaystyle\\frac{\\epsilon}{10} & 1 & 1 \\end{array}\\right) \\sim\n",
    "\\left(\\begin{array}{cc|c}     1 & 1 & 2 \\\\0                   & 1-\\displaystyle\\frac{\\epsilon}{10}&1-\\displaystyle\\frac{\\epsilon}{10}\\end{array}\\right)\n",
    "\\approx   \\left(\\begin{array}{cc|c}     1 & 1 & 2 \\\\0                   & 1                    &1                    \\end{array}\\right)\n",
    "\\end{align*}"
   ]
  },
  {
   "cell_type": "code",
   "execution_count": 2,
   "metadata": {},
   "outputs": [
    {
     "data": {
      "text/plain": [
       "2-element Array{Float64,1}:\n",
       " 1.0\n",
       " 1.0"
      ]
     },
     "execution_count": 2,
     "metadata": {},
     "output_type": "execute_result"
    }
   ],
   "source": [
    "[1 1;0 1-eps()/10]\\[2; 1-eps()/10]"
   ]
  },
  {
   "cell_type": "markdown",
   "metadata": {},
   "source": [
    "Ovo je ispravno rješenje do na točnost stroja.\n",
    "\n",
    "Ponekad promjena algoritma _ne može nikako pomoći_ ! Promotrimo sustav \n",
    "\n",
    "\\begin{align*}\n",
    "(1+2\\epsilon)x_1 + (1+2\\epsilon)x_2 = 2 \\\\\n",
    "(1+\\epsilon)x_1 + x_2 =2\n",
    "\\end{align*}\n",
    "\n",
    "čija proširena matrica glasi\n",
    "\n",
    "$$\n",
    "\\left(\\begin{array}{cc|c}\n",
    "(1+2\\epsilon)&     (1+2\\epsilon )&     2 \\\\\n",
    "(1+\\epsilon)&     1   &2 \\end{array}\\right).\n",
    "$$\n",
    "\n",
    "Pomnožimo prvi redak s $\\alpha = (1+\\epsilon)/(1+2\\epsilon)= 1-\\epsilon + O(\\epsilon^2)$\n",
    "i dodajmo drugom:\n",
    "\n",
    "$$\n",
    "\\left(\\begin{array}{cc|c}\n",
    "(1+2\\epsilon)&     (1+2\\epsilon )&     2 \\\\\n",
    "0           &     -\\epsilon & 2\\epsilon \\end{array}\\right).\n",
    "$$\n",
    "\n",
    "Rješenje je $x_1 = 4$ i $x_2 =-2$, što je točno do na točnost stroja.\n",
    "\n",
    "Mađutim, mala promjena na desnoj strani daje\n",
    "\n",
    "$$\n",
    "\\left(\\begin{array}{cc|c}\n",
    "(1+2\\epsilon)&     (1+2\\epsilon )&     2+4\\epsilon \\\\\n",
    "(1+\\epsilon)&     1   &2 +\\epsilon \\end{array}\\right).\n",
    "$$\n",
    "\n",
    "Točno rješenje je $x_1=x_2=1$, ali zbog zaokruživanja dobije $x_1 =0$, $x_2 =2$. __Objasnite.__\n",
    "Niti jedan trik kojeg smo vidjeli ne daje točno rješenje. "
   ]
  },
  {
   "cell_type": "code",
   "execution_count": 3,
   "metadata": {},
   "outputs": [
    {
     "data": {
      "text/plain": [
       "2-element Array{Float64,1}:\n",
       " 0.0\n",
       " 2.0"
      ]
     },
     "execution_count": 3,
     "metadata": {},
     "output_type": "execute_result"
    }
   ],
   "source": [
    "[1+2*eps() 1+2*eps(); 1+eps() 1]\\[2+4*eps(); 2+eps()]"
   ]
  },
  {
   "cell_type": "code",
   "execution_count": 4,
   "metadata": {},
   "outputs": [
    {
     "data": {
      "text/plain": [
       "2-element Array{BigFloat,1}:\n",
       " 0.0\n",
       " 2.0"
      ]
     },
     "execution_count": 4,
     "metadata": {},
     "output_type": "execute_result"
    }
   ],
   "source": [
    "[BigFloat(1)+2*eps() 1+2*eps(); 1+eps() 1]\\[BigFloat(2)+4*eps(); 2+eps()]"
   ]
  },
  {
   "cell_type": "markdown",
   "metadata": {},
   "source": [
    "__Razlog__  IEEE aritmetika ovaj sustav zaokruži na sustav\n",
    "\n",
    " $$\n",
    "\\left(\\begin{array}{cc|c}\n",
    "(1+2\\epsilon)&     (1+2\\epsilon )&     2+4\\epsilon \\\\\n",
    "(1+\\epsilon)&     1   &2           \\end{array}\\right)\n",
    "$$\n",
    "\n",
    "čija su rješenja $x_1=0$ i $x_2=2$. Ovaj problem je vrlo blizu singularnom sustavu\n",
    "\n",
    "$$\n",
    "\\left(\\begin{array}{cc|c} 1 & 1 & 2 \\\\ 1 & 1 & 2\\end{array}\\right)\n",
    "$$\n",
    "\n",
    "koji ima parametarska rješenja\n",
    "\n",
    "$$\n",
    "\\mathbf{x} =\\begin{pmatrix} x_1 \\\\ x_2\\end{pmatrix} = \\begin{pmatrix} 1\\\\1\\end{pmatrix}+ \n",
    "\\beta \\begin{pmatrix}-1 \\\\1\\end{pmatrix}, \\quad \\beta \\in \\mathbb{R}.\n",
    "$$\n",
    "\n",
    "Primijetimo da su $\\begin{pmatrix} x_1 \\\\ x_2\\end{pmatrix}= \\begin{pmatrix} 1\\\\1\\end{pmatrix}$ i $\\begin{pmatrix} x_1 \\\\ x_2\\end{pmatrix}=\\begin{pmatrix} 0\\\\2\\end{pmatrix}$ dva od tih rješenja.\n",
    "\n",
    "__Pitanje.__ Koja je geometrijska interpretacija ovog sustava?"
   ]
  },
  {
   "cell_type": "markdown",
   "metadata": {},
   "source": [
    "## LU rastav"
   ]
  },
  {
   "cell_type": "code",
   "execution_count": 5,
   "metadata": {},
   "outputs": [
    {
     "data": {
      "text/plain": [
       "mylu (generic function with 1 method)"
      ]
     },
     "execution_count": 5,
     "metadata": {},
     "output_type": "execute_result"
    }
   ],
   "source": [
    "function mylu(A₁::Array{T}) where T # Strang, str. 100\n",
    "    A=copy(A₁)\n",
    "    n,m=size(A)\n",
    "    # Ovo prihvaća brojeve i blok-matrice\n",
    "    U=map(Float64,[zero(A[1,1]) for i=1:n, j=1:n])\n",
    "    L=map(Float64,[zero(A[1,1]) for i=1:n, j=1:n])\n",
    "    for k=1:n\n",
    "        L[k,k]=one(A[1,1])\n",
    "        for i=k+1:n\n",
    "            L[i,k]=A[i,k]/A[k,k]\n",
    "            for j=k+1:n\n",
    "                A[i,j]=A[i,j]-L[i,k]*A[k,j]\n",
    "            end\n",
    "        end\n",
    "        for j=k:n\n",
    "            U[k,j]=A[k,j]\n",
    "        end\n",
    "    end\n",
    "    L,U\n",
    "end"
   ]
  },
  {
   "cell_type": "code",
   "execution_count": 6,
   "metadata": {},
   "outputs": [
    {
     "data": {
      "text/plain": [
       "6×6 Array{Float64,2}:\n",
       " 0.768448  0.586022   0.865412  0.582318  0.20923   0.48\n",
       " 0.940515  0.0521332  0.617492  0.255981  0.918165  0.790201\n",
       " 0.673959  0.26864    0.285698  0.70586   0.614255  0.356221\n",
       " 0.395453  0.108871   0.463847  0.291978  0.802665  0.900925\n",
       " 0.313244  0.163666   0.275819  0.281066  0.555668  0.529253\n",
       " 0.662555  0.473017   0.446568  0.792931  0.940782  0.031831"
      ]
     },
     "execution_count": 6,
     "metadata": {},
     "output_type": "execute_result"
    }
   ],
   "source": [
    "using LinearAlgebra\n",
    "import Random\n",
    "Random.seed!(123)\n",
    "A=rand(6,6)"
   ]
  },
  {
   "cell_type": "code",
   "execution_count": 7,
   "metadata": {},
   "outputs": [],
   "source": [
    "L,U=mylu(A);"
   ]
  },
  {
   "cell_type": "code",
   "execution_count": 8,
   "metadata": {},
   "outputs": [
    {
     "data": {
      "text/plain": [
       "6×6 Array{Float64,2}:\n",
       " 1.0       0.0         0.0         0.0        0.0     0.0\n",
       " 1.22392   1.0         0.0         0.0        0.0     0.0\n",
       " 0.877039  0.368849    1.0         0.0        0.0     0.0\n",
       " 0.514613  0.289733   -0.471902    1.0        0.0     0.0\n",
       " 0.407632  0.113088    0.0869892   0.215088   1.0     0.0\n",
       " 0.862199  0.0484897   0.896224   -0.0434479  2.3274  1.0"
      ]
     },
     "execution_count": 8,
     "metadata": {},
     "output_type": "execute_result"
    }
   ],
   "source": [
    "L"
   ]
  },
  {
   "cell_type": "code",
   "execution_count": 9,
   "metadata": {},
   "outputs": [
    {
     "data": {
      "text/plain": [
       "6×6 Array{Float64,2}:\n",
       " 0.768448   0.586022   0.865412   0.582318  0.20923    0.48\n",
       " 0.0       -0.665108  -0.441699  -0.456726  0.662085   0.202722\n",
       " 0.0        0.0       -0.310382   0.363608  0.186542  -0.139531\n",
       " 0.0        0.0        0.0        0.296226  0.591194   0.52933\n",
       " 0.0        0.0        0.0        0.0       0.25212    0.20895\n",
       " 0.0        0.0        0.0        0.0       0.0       -0.730114"
      ]
     },
     "execution_count": 9,
     "metadata": {},
     "output_type": "execute_result"
    }
   ],
   "source": [
    "U"
   ]
  },
  {
   "cell_type": "code",
   "execution_count": 10,
   "metadata": {},
   "outputs": [
    {
     "data": {
      "text/plain": [
       "6×6 Array{Float64,2}:\n",
       " 0.0  0.0          0.0          0.0  0.0   0.0\n",
       " 0.0  0.0          0.0          0.0  0.0   0.0\n",
       " 0.0  0.0          5.55112e-17  0.0  0.0   0.0\n",
       " 0.0  1.38778e-17  0.0          0.0  0.0   0.0\n",
       " 0.0  0.0          0.0          0.0  0.0  -1.11022e-16\n",
       " 0.0  0.0          0.0          0.0  0.0   0.0"
      ]
     },
     "execution_count": 10,
     "metadata": {},
     "output_type": "execute_result"
    }
   ],
   "source": [
    "L*U-A"
   ]
  },
  {
   "cell_type": "markdown",
   "metadata": {},
   "source": [
    "## Trokutasti sustavi"
   ]
  },
  {
   "cell_type": "code",
   "execution_count": 11,
   "metadata": {},
   "outputs": [
    {
     "data": {
      "text/plain": [
       "myL (generic function with 1 method)"
      ]
     },
     "execution_count": 11,
     "metadata": {},
     "output_type": "execute_result"
    }
   ],
   "source": [
    "function myU(U::Array{T},b₁::Array{T}) where T\n",
    "    b=copy(b₁)\n",
    "    n=length(b)\n",
    "    for i=n:-1:1\n",
    "       for j=n:-1:i+1\n",
    "            b[i]=b[i]-U[i,j]*b[j]\n",
    "       end\n",
    "        b[i]=b[i]/U[i,i]\n",
    "    end\n",
    "    b\n",
    "end\n",
    "\n",
    "function myL(L::Array{T},b₁::Array{T}) where T\n",
    "    b=copy(b₁)\n",
    "    n=length(b)\n",
    "    for i=1:n\n",
    "        for j=1:i-1\n",
    "            b[i]=b[i]-L[i,j]*b[j]\n",
    "        end\n",
    "        b[i]=b[i]/L[i,i]\n",
    "    end\n",
    "    b\n",
    "end"
   ]
  },
  {
   "cell_type": "code",
   "execution_count": 12,
   "metadata": {},
   "outputs": [
    {
     "data": {
      "text/plain": [
       "6-element Array{Float64,1}:\n",
       " 0.9006814789827005\n",
       " 0.9402992421257947\n",
       " 0.6213787149845327\n",
       " 0.34817276542456277\n",
       " 0.57061318926682\n",
       " 0.20399662276026764"
      ]
     },
     "execution_count": 12,
     "metadata": {},
     "output_type": "execute_result"
    }
   ],
   "source": [
    "b=rand(6)"
   ]
  },
  {
   "cell_type": "code",
   "execution_count": 13,
   "metadata": {},
   "outputs": [
    {
     "data": {
      "text/plain": [
       "6-element Array{Float64,1}:\n",
       "  2.724177128392811\n",
       "  4.635862756193173\n",
       " -3.511396551245912\n",
       " -2.6333845620867318\n",
       " -0.19586385967020775\n",
       "  1.4663093725368699"
      ]
     },
     "execution_count": 13,
     "metadata": {},
     "output_type": "execute_result"
    }
   ],
   "source": [
    "# Riješimo sustav koristeći ugrađenu funkciju\n",
    "x=A\\b"
   ]
  },
  {
   "cell_type": "code",
   "execution_count": 14,
   "metadata": {},
   "outputs": [
    {
     "data": {
      "text/plain": [
       "6-element Array{Float64,1}:\n",
       "  0.9006814789827005\n",
       " -0.16205875724336183\n",
       " -0.10877893946554916\n",
       " -0.11970879824874248\n",
       "  0.25700386570333467\n",
       " -1.0705725308278367"
      ]
     },
     "execution_count": 14,
     "metadata": {},
     "output_type": "execute_result"
    }
   ],
   "source": [
    "# Riješimo sustav koristeći naše funkcije\n",
    "y=myL(L,b)"
   ]
  },
  {
   "cell_type": "code",
   "execution_count": 15,
   "metadata": {},
   "outputs": [
    {
     "data": {
      "text/plain": [
       "6-element Array{Float64,1}:\n",
       "  2.724177128392812\n",
       "  4.635862756193177\n",
       " -3.5113965512459138\n",
       " -2.6333845620867335\n",
       " -0.1958638596702071\n",
       "  1.46630937253687"
      ]
     },
     "execution_count": 15,
     "metadata": {},
     "output_type": "execute_result"
    }
   ],
   "source": [
    "x₁=myU(U,y)"
   ]
  },
  {
   "cell_type": "code",
   "execution_count": 16,
   "metadata": {},
   "outputs": [
    {
     "data": {
      "text/plain": [
       "6-element Array{Float64,1}:\n",
       " -8.881784197001252e-16\n",
       " -3.552713678800501e-15\n",
       "  1.7763568394002505e-15\n",
       "  1.7763568394002505e-15\n",
       " -6.38378239159465e-16\n",
       " -2.220446049250313e-16"
      ]
     },
     "execution_count": 16,
     "metadata": {},
     "output_type": "execute_result"
    }
   ],
   "source": [
    "# Usporedimo rješenja\n",
    "x-x₁"
   ]
  },
  {
   "cell_type": "markdown",
   "metadata": {},
   "source": [
    "## Brzina\n",
    "\n",
    "Program `mylu()` je spor. Između ostalog, alocira nepotrebno tri matrice i ne računa s blok matricama.\n",
    "\n",
    "Program se može preformulirati tako da su i $L$ i $U$ spremljene u polje $A$, pri čemu se dijagonala od $L$ ne sprema jer su svi elementi jednaki 1 (vidi [Introduction to Linear Algebra, str. 100][St09]):\n",
    "\n",
    "[St09]: https://books.google.hr/books?id=M19gPgAACAAJ&dq=strang%20introduction&hl=hr&source=gbs_book_other_versions \"Gilbert Strang, 'Introduction to Linear Algebra, 4th Edition', Wellesley-Cambridge Press, 2009\"\n"
   ]
  },
  {
   "cell_type": "code",
   "execution_count": 17,
   "metadata": {},
   "outputs": [
    {
     "data": {
      "text/plain": [
       "mylu₁ (generic function with 1 method)"
      ]
     },
     "execution_count": 17,
     "metadata": {},
     "output_type": "execute_result"
    }
   ],
   "source": [
    "function mylu₁(A₁::Array{T}) where T # Strang, str. 100\n",
    "    A=copy(A₁)\n",
    "    n,m=size(A)\n",
    "    for k=1:n-1\n",
    "        ρ=k+1:n\n",
    "        A[ρ,k]=A[ρ,k]/A[k,k]\n",
    "        A[ρ,ρ]=A[ρ,ρ]-A[ρ,k]*A[k,ρ]'\n",
    "    end\n",
    "    A\n",
    "end"
   ]
  },
  {
   "cell_type": "code",
   "execution_count": 18,
   "metadata": {},
   "outputs": [
    {
     "data": {
      "text/plain": [
       "6×6 Array{Float64,2}:\n",
       " 0.768448   0.586022    0.865412    0.582318   0.20923    0.48\n",
       " 1.22392   -0.665108   -0.441699   -0.456726   0.662085   0.202722\n",
       " 0.877039   0.368849   -0.310382    0.363608   0.186542  -0.139531\n",
       " 0.514613   0.289733   -0.471902    0.296226   0.591194   0.52933\n",
       " 0.407632   0.113088    0.0869892   0.215088   0.25212    0.20895\n",
       " 0.862199   0.0484897   0.896224   -0.0434479  2.3274    -0.730114"
      ]
     },
     "execution_count": 18,
     "metadata": {},
     "output_type": "execute_result"
    }
   ],
   "source": [
    "mylu₁(A)"
   ]
  },
  {
   "cell_type": "code",
   "execution_count": 19,
   "metadata": {},
   "outputs": [
    {
     "data": {
      "text/plain": [
       "6×6 Array{Float64,2}:\n",
       " 1.0       0.0         0.0         0.0        0.0     0.0\n",
       " 1.22392   1.0         0.0         0.0        0.0     0.0\n",
       " 0.877039  0.368849    1.0         0.0        0.0     0.0\n",
       " 0.514613  0.289733   -0.471902    1.0        0.0     0.0\n",
       " 0.407632  0.113088    0.0869892   0.215088   1.0     0.0\n",
       " 0.862199  0.0484897   0.896224   -0.0434479  2.3274  1.0"
      ]
     },
     "execution_count": 19,
     "metadata": {},
     "output_type": "execute_result"
    }
   ],
   "source": [
    "L"
   ]
  },
  {
   "cell_type": "code",
   "execution_count": 20,
   "metadata": {},
   "outputs": [
    {
     "data": {
      "text/plain": [
       "6×6 Array{Float64,2}:\n",
       " 0.768448   0.586022   0.865412   0.582318  0.20923    0.48\n",
       " 0.0       -0.665108  -0.441699  -0.456726  0.662085   0.202722\n",
       " 0.0        0.0       -0.310382   0.363608  0.186542  -0.139531\n",
       " 0.0        0.0        0.0        0.296226  0.591194   0.52933\n",
       " 0.0        0.0        0.0        0.0       0.25212    0.20895\n",
       " 0.0        0.0        0.0        0.0       0.0       -0.730114"
      ]
     },
     "execution_count": 20,
     "metadata": {},
     "output_type": "execute_result"
    }
   ],
   "source": [
    "U"
   ]
  },
  {
   "cell_type": "markdown",
   "metadata": {},
   "source": [
    "Usporedimo brzine LAPACK-ovog programa `lu()` i našeg naivnog programa `mylu()`na većoj dimenziji. \n",
    "\n",
    "Izvedite program par puta radi točnijeg mjerenja brzine."
   ]
  },
  {
   "cell_type": "code",
   "execution_count": 21,
   "metadata": {},
   "outputs": [],
   "source": [
    "n=512\n",
    "A=rand(n,n);"
   ]
  },
  {
   "cell_type": "code",
   "execution_count": 23,
   "metadata": {},
   "outputs": [
    {
     "name": "stdout",
     "output_type": "stream",
     "text": [
      "  0.016983 seconds (4 allocations: 2.004 MiB)\n"
     ]
    }
   ],
   "source": [
    "@time lu(A);"
   ]
  },
  {
   "cell_type": "code",
   "execution_count": 25,
   "metadata": {},
   "outputs": [
    {
     "name": "stdout",
     "output_type": "stream",
     "text": [
      "  0.627635 seconds (5.49 k allocations: 1.003 GiB, 14.65% gc time)\n"
     ]
    }
   ],
   "source": [
    "@time mylu₁(A);"
   ]
  },
  {
   "cell_type": "markdown",
   "metadata": {},
   "source": [
    "### Blok varijanta\n",
    "\n",
    "`mylu()` i `mylu\\_1()` su nekoliko desetaka puta sporiji od `lu()`.\n",
    "\n",
    "Preradimo `mylu\\_1()` za rad s blokovima (još uvijek nemamo ugrađeno pivotiranje!):"
   ]
  },
  {
   "cell_type": "code",
   "execution_count": 26,
   "metadata": {},
   "outputs": [
    {
     "data": {
      "text/plain": [
       "mylu₂ (generic function with 1 method)"
      ]
     },
     "execution_count": 26,
     "metadata": {},
     "output_type": "execute_result"
    }
   ],
   "source": [
    "function mylu₂(A₁::Array{T}) where T # Strang, page 100\n",
    "    A=copy(A₁)\n",
    "    n,m=size(A)\n",
    "    for k=1:n-1\n",
    "        for ρ=k+1:n\n",
    "            A[ρ,k]=A[ρ,k]/A[k,k]\n",
    "            for l=k+1:n\n",
    "                A[ρ,l]=A[ρ,l]-A[ρ,k]*A[k,l]\n",
    "            end\n",
    "        end\n",
    "    end\n",
    "    A\n",
    "end"
   ]
  },
  {
   "cell_type": "markdown",
   "metadata": {},
   "source": [
    "Napravimo prvo mali test:"
   ]
  },
  {
   "cell_type": "code",
   "execution_count": 27,
   "metadata": {},
   "outputs": [],
   "source": [
    "k,l=2,4\n",
    "Ab=[rand(k,k) for i=1:l, j=1:l];"
   ]
  },
  {
   "cell_type": "code",
   "execution_count": 28,
   "metadata": {},
   "outputs": [
    {
     "data": {
      "text/plain": [
       "4×4 Array{Array{Float64,2},2}:\n",
       " [0.19178 0.0976698; 0.234544 0.627093]  …  [0.295925 0.164099; 0.942843 0.830942]\n",
       " [5.80254 -0.70825; 3.25685 -0.331261]      [-0.339473 -0.265039; -0.232242 0.107999]\n",
       " [3.23452 -0.450395; 2.34086 0.764213]      [0.0241067 1.07794; -0.633465 0.531221]\n",
       " [0.838168 0.600568; 0.876648 0.608517]     [-0.124081 0.60866; -0.886185 0.597327]"
      ]
     },
     "execution_count": 28,
     "metadata": {},
     "output_type": "execute_result"
    }
   ],
   "source": [
    "A₀=mylu₂(Ab)"
   ]
  },
  {
   "cell_type": "code",
   "execution_count": 29,
   "metadata": {},
   "outputs": [],
   "source": [
    "# Provjera\n",
    "U=triu(A₀)\n",
    "L=tril(A₀)\n",
    "for i=1:maximum(size(L))\n",
    "    L[i,i]=Matrix{Float64}(I,size(L[1,1])) # eye(L[1,1])\n",
    "end"
   ]
  },
  {
   "cell_type": "code",
   "execution_count": 30,
   "metadata": {},
   "outputs": [
    {
     "data": {
      "text/plain": [
       "4×4 Array{Array{Float64,2},2}:\n",
       " [0.0 0.0; 0.0 0.0]                    …  [0.0 0.0; 0.0 0.0]\n",
       " [0.0 -1.11022e-16; 0.0 -2.77556e-17]     [0.0 0.0; 0.0 0.0]\n",
       " [0.0 0.0; 0.0 0.0]                       [0.0 0.0; 0.0 0.0]\n",
       " [0.0 -5.55112e-17; 0.0 -5.55112e-17]     [0.0 0.0; 0.0 0.0]"
      ]
     },
     "execution_count": 30,
     "metadata": {},
     "output_type": "execute_result"
    }
   ],
   "source": [
    "Rezidual=L*U-Ab"
   ]
  },
  {
   "cell_type": "code",
   "execution_count": 31,
   "metadata": {},
   "outputs": [
    {
     "data": {
      "text/plain": [
       "unblock (generic function with 1 method)"
      ]
     },
     "execution_count": 31,
     "metadata": {},
     "output_type": "execute_result"
    }
   ],
   "source": [
    "# Pretvaranje blok matrice u običnu\n",
    "unblock(A) = mapreduce(identity, hcat, [mapreduce(identity, vcat, A[:,i]) \n",
    "        for i = 1:size(A,2)])"
   ]
  },
  {
   "cell_type": "code",
   "execution_count": 32,
   "metadata": {},
   "outputs": [
    {
     "data": {
      "text/plain": [
       "3.444376352465766e-16"
      ]
     },
     "execution_count": 32,
     "metadata": {},
     "output_type": "execute_result"
    }
   ],
   "source": [
    "norm(unblock(Rezidual))"
   ]
  },
  {
   "cell_type": "markdown",
   "metadata": {},
   "source": [
    "Probajmo veće dimenzije ($n=k\\cdot l$)."
   ]
  },
  {
   "cell_type": "code",
   "execution_count": 33,
   "metadata": {},
   "outputs": [],
   "source": [
    "k,l=32,16 # 64, 8\n",
    "Ab=[rand(k,k) for i=1:l, j=1:l];"
   ]
  },
  {
   "cell_type": "code",
   "execution_count": 35,
   "metadata": {},
   "outputs": [
    {
     "name": "stdout",
     "output_type": "stream",
     "text": [
      "  0.078140 seconds (3.32 k allocations: 22.582 MiB, 9.96% gc time)\n"
     ]
    }
   ],
   "source": [
    "@time mylu₂(Ab);"
   ]
  },
  {
   "cell_type": "markdown",
   "metadata": {},
   "source": [
    "Vidimo da je `mylu\\_2()` gotovo jednako brz kao `lu()` (na jednoj jezgri), uz napomenu da `mylu\\_2()` nema ugrađeno pivotiranje. \n",
    "Program još uvijek nije optimalan jer alocira previše memorije."
   ]
  },
  {
   "cell_type": "markdown",
   "metadata": {},
   "source": [
    "## Pivotiranje\n",
    "\n",
    "Standardne implementacije uvijek računaju Gaussovu eliminaciju s _parcijalnim pivotiranjem_ :\n",
    "\n",
    "u svakom koraku se retci pivotiranju tako da pivotni element ima najveću apsolutnu vrijednost u danom stupcu. Na taj \n",
    "način je \n",
    "\n",
    "$$|L_{ij}| \\leq 1,$$\n",
    "\n",
    "što u praksi dovoljno spriječava rast elemenata."
   ]
  },
  {
   "cell_type": "code",
   "execution_count": 36,
   "metadata": {},
   "outputs": [
    {
     "data": {
      "text/plain": [
       "2×2 Array{Float64,2}:\n",
       " 3.0e-5  1.0\n",
       " 2.0     3.0"
      ]
     },
     "execution_count": 36,
     "metadata": {},
     "output_type": "execute_result"
    }
   ],
   "source": [
    "A=[0.00003 1;2 3]"
   ]
  },
  {
   "cell_type": "code",
   "execution_count": 37,
   "metadata": {},
   "outputs": [
    {
     "data": {
      "text/plain": [
       "2×2 Array{Float64,2}:\n",
       "     1.0  0.0\n",
       " 66666.7  1.0"
      ]
     },
     "execution_count": 37,
     "metadata": {},
     "output_type": "execute_result"
    }
   ],
   "source": [
    "L,U=mylu(A)\n",
    "L"
   ]
  },
  {
   "cell_type": "code",
   "execution_count": 38,
   "metadata": {},
   "outputs": [
    {
     "data": {
      "text/plain": [
       "2×2 Array{Float64,2}:\n",
       " 3.0e-5       1.0\n",
       " 0.0     -66663.7"
      ]
     },
     "execution_count": 38,
     "metadata": {},
     "output_type": "execute_result"
    }
   ],
   "source": [
    "U"
   ]
  },
  {
   "cell_type": "code",
   "execution_count": 39,
   "metadata": {},
   "outputs": [
    {
     "data": {
      "text/plain": [
       "2×2 Array{Float64,2}:\n",
       " 1.0     0.0\n",
       " 1.5e-5  1.0"
      ]
     },
     "execution_count": 39,
     "metadata": {},
     "output_type": "execute_result"
    }
   ],
   "source": [
    "# s pivoritranjem\n",
    "P=[0 1;1 0]\n",
    "L,U=mylu(P*A)\n",
    "L"
   ]
  },
  {
   "cell_type": "code",
   "execution_count": 40,
   "metadata": {},
   "outputs": [
    {
     "data": {
      "text/plain": [
       "2×2 Array{Float64,2}:\n",
       " 2.0  3.0\n",
       " 0.0  0.999955"
      ]
     },
     "execution_count": 40,
     "metadata": {},
     "output_type": "execute_result"
    }
   ],
   "source": [
    "U"
   ]
  },
  {
   "cell_type": "code",
   "execution_count": 41,
   "metadata": {},
   "outputs": [
    {
     "data": {
      "text/plain": [
       "2×2 Array{Float64,2}:\n",
       " 0.0  0.0\n",
       " 0.0  0.0"
      ]
     },
     "execution_count": 41,
     "metadata": {},
     "output_type": "execute_result"
    }
   ],
   "source": [
    "L*U-P*A"
   ]
  },
  {
   "cell_type": "code",
   "execution_count": 42,
   "metadata": {},
   "outputs": [],
   "source": [
    "# Slučajna matrica, standardna funkcija lu()\n",
    "Random.seed!(248)\n",
    "A=rand(5,5)\n",
    "L,U,P=lu(A);"
   ]
  },
  {
   "cell_type": "code",
   "execution_count": 43,
   "metadata": {},
   "outputs": [
    {
     "data": {
      "text/plain": [
       "5-element Array{Int64,1}:\n",
       " 3\n",
       " 4\n",
       " 5\n",
       " 2\n",
       " 1"
      ]
     },
     "execution_count": 43,
     "metadata": {},
     "output_type": "execute_result"
    }
   ],
   "source": [
    "P"
   ]
  },
  {
   "cell_type": "code",
   "execution_count": 44,
   "metadata": {},
   "outputs": [
    {
     "data": {
      "text/plain": [
       "5×5 Array{Float64,2}:\n",
       " 1.0        0.0         0.0       0.0       0.0\n",
       " 0.0820339  1.0         0.0       0.0       0.0\n",
       " 0.437335   0.0959387   1.0       0.0       0.0\n",
       " 0.928548   0.0219166   0.150299  1.0       0.0\n",
       " 0.386654   0.74805    -0.562755  0.803388  1.0"
      ]
     },
     "execution_count": 44,
     "metadata": {},
     "output_type": "execute_result"
    }
   ],
   "source": [
    "L"
   ]
  },
  {
   "cell_type": "code",
   "execution_count": 45,
   "metadata": {},
   "outputs": [
    {
     "data": {
      "text/plain": [
       "5×5 Array{Float64,2}:\n",
       " 0.740619  0.105456  0.288167  0.0134151   0.810915\n",
       " 0.0       0.939039  0.427963  0.871155    0.820178\n",
       " 0.0       0.0       0.697849  0.776953    0.204272\n",
       " 0.0       0.0       0.0       0.649058   -0.21677\n",
       " 0.0       0.0       0.0       0.0         0.183107"
      ]
     },
     "execution_count": 45,
     "metadata": {},
     "output_type": "execute_result"
    }
   ],
   "source": [
    "U"
   ]
  },
  {
   "cell_type": "code",
   "execution_count": 46,
   "metadata": {},
   "outputs": [
    {
     "data": {
      "text/plain": [
       "5×5 Array{Float64,2}:\n",
       " 0.0  0.0           0.0           0.0          0.0\n",
       " 0.0  0.0           0.0           0.0          0.0\n",
       " 0.0  0.0          -1.11022e-16   0.0          0.0\n",
       " 0.0  0.0           0.0           0.0          0.0\n",
       " 0.0  1.11022e-16   6.93889e-18  -1.11022e-16  0.0"
      ]
     },
     "execution_count": 46,
     "metadata": {},
     "output_type": "execute_result"
    }
   ],
   "source": [
    "L*U-A[P,:]"
   ]
  },
  {
   "cell_type": "markdown",
   "metadata": {},
   "source": [
    "### Potpuno pivotiranje\n",
    "\n",
    "Sljedeći program računa Gaussovu eliminaciju s _potpunim pivotiranjem_ - u svakom koraku \n",
    "se retci i stupci zamijene takoda se na pivotnu poziciju dovede element koji ima najveću \n",
    "apsolutnu vrijednost u trenutnoj podmatrici."
   ]
  },
  {
   "cell_type": "code",
   "execution_count": 47,
   "metadata": {},
   "outputs": [
    {
     "data": {
      "text/plain": [
       "gecp (generic function with 1 method)"
      ]
     },
     "execution_count": 47,
     "metadata": {},
     "output_type": "execute_result"
    }
   ],
   "source": [
    "eye(n,m)=Matrix{Float64}(I,n,m)\n",
    "function gecp(A1::Array{T}) where T\n",
    "    # Gaussova eliminacija s potpunim pivotiranjem\n",
    "    # Izlaz: Pr*L*U*Pc'=A ili Pr'*A*Pc=L*U\n",
    "    A=deepcopy(A1)\n",
    "    n,m=size(A)\n",
    "    Pr=eye(n,n)\n",
    "    Pc=eye(n,n)\n",
    "    D=zeros(n)\n",
    "    for i=1:n-1\n",
    "        amax,indm=findmax(abs.(A[i:n,i:n]))\n",
    "        imax=indm[1]+i-1\n",
    "        jmax=indm[2]+i-1\n",
    "        #  zamijena redaka\n",
    "        if (imax != i)\n",
    "            temp = Pr[:,i]\n",
    "            Pr[:,i] = Pr[:,imax]\n",
    "            Pr[:,imax] = temp\n",
    "            temp = A[i,:]\n",
    "            A[i,:] = A[imax,:]\n",
    "            A[imax,:] = temp\n",
    "        end\n",
    "        # zamijena stupaca\n",
    "        if (jmax != i)\n",
    "            temp = Pc[:,i]\n",
    "            Pc[:,i] = Pc[:,jmax]\n",
    "            Pc[:,jmax] = temp\n",
    "            temp = A[:,i]\n",
    "            A[:,i] = A[:,jmax]\n",
    "            A[:,jmax] = temp\n",
    "        end\n",
    "        # eliminacija\n",
    "        D[i]=A[i,i]\n",
    "        A[i+1:n,i] = A[i+1:n,i]/D[i]\n",
    "        A[i+1:n,i+1:n] = A[i+1:n,i+1:n] - A[i+1:n,i]*A[i,i+1:n]'\n",
    "        A[i,i+1:n]=A[i,i+1:n]/D[i]\n",
    "    end\n",
    "    D[n]=A[n,n]\n",
    "    L=eye(n,n)+tril(A,-1)\n",
    "    U=eye(n,n)+triu(A,1)\n",
    "    U=diagm(0=>D)*U\n",
    "    L,U,Pr,Pc\n",
    "end"
   ]
  },
  {
   "cell_type": "code",
   "execution_count": 48,
   "metadata": {},
   "outputs": [
    {
     "data": {
      "text/plain": [
       "5-element Array{Float64,1}:\n",
       " 0.9665983607050483\n",
       " 0.43239336629240754\n",
       " 0.2991638766124043\n",
       " 0.7502210485360699\n",
       " 0.15514720539742077"
      ]
     },
     "execution_count": 48,
     "metadata": {},
     "output_type": "execute_result"
    }
   ],
   "source": [
    "n=5\n",
    "A=rand(n,n)\n",
    "b=rand(n)"
   ]
  },
  {
   "cell_type": "code",
   "execution_count": 49,
   "metadata": {},
   "outputs": [],
   "source": [
    "L,U,Pr,Pc=gecp(A);"
   ]
  },
  {
   "cell_type": "code",
   "execution_count": 50,
   "metadata": {},
   "outputs": [
    {
     "data": {
      "text/plain": [
       "5×5 Array{Float64,2}:\n",
       " 0.0  0.0  1.0  0.0  0.0\n",
       " 1.0  0.0  0.0  0.0  0.0\n",
       " 0.0  0.0  0.0  1.0  0.0\n",
       " 0.0  1.0  0.0  0.0  0.0\n",
       " 0.0  0.0  0.0  0.0  1.0"
      ]
     },
     "execution_count": 50,
     "metadata": {},
     "output_type": "execute_result"
    }
   ],
   "source": [
    "Pr"
   ]
  },
  {
   "cell_type": "code",
   "execution_count": 51,
   "metadata": {},
   "outputs": [
    {
     "data": {
      "text/plain": [
       "5×5 Array{Float64,2}:\n",
       " 0.0   5.20417e-18  0.0  0.0   0.0\n",
       " 0.0   0.0          0.0  0.0   0.0\n",
       " 0.0  -5.55112e-17  0.0  0.0   0.0\n",
       " 0.0   0.0          0.0  0.0   0.0\n",
       " 0.0   0.0          0.0  0.0  -1.11022e-16"
      ]
     },
     "execution_count": 51,
     "metadata": {},
     "output_type": "execute_result"
    }
   ],
   "source": [
    "Pr*L*U*Pc'-A"
   ]
  },
  {
   "cell_type": "code",
   "execution_count": 52,
   "metadata": {},
   "outputs": [
    {
     "data": {
      "text/plain": [
       "5-element Array{Float64,1}:\n",
       "  0.43239336629240754\n",
       "  0.4176544037107001\n",
       "  0.7511943913730601\n",
       " -0.2752062137196889\n",
       " -0.23700743414336084"
      ]
     },
     "execution_count": 52,
     "metadata": {},
     "output_type": "execute_result"
    }
   ],
   "source": [
    "y=myL(L,Pr'*b)"
   ]
  },
  {
   "cell_type": "code",
   "execution_count": 53,
   "metadata": {},
   "outputs": [
    {
     "data": {
      "text/plain": [
       "5-element Array{Float64,1}:\n",
       "  1.664033297394591\n",
       "  2.289212897580302\n",
       " -0.2195060430755223\n",
       " -0.4597332965577868\n",
       " -5.369713074556756"
      ]
     },
     "execution_count": 53,
     "metadata": {},
     "output_type": "execute_result"
    }
   ],
   "source": [
    "z=myU(U,y)"
   ]
  },
  {
   "cell_type": "code",
   "execution_count": 54,
   "metadata": {},
   "outputs": [
    {
     "data": {
      "text/plain": [
       "5-element Array{Float64,1}:\n",
       "  1.664033297394591\n",
       "  2.289212897580302\n",
       " -5.369713074556756\n",
       " -0.4597332965577868\n",
       " -0.2195060430755223"
      ]
     },
     "execution_count": 54,
     "metadata": {},
     "output_type": "execute_result"
    }
   ],
   "source": [
    "x=Pc*z"
   ]
  },
  {
   "cell_type": "code",
   "execution_count": 55,
   "metadata": {},
   "outputs": [
    {
     "data": {
      "text/plain": [
       "5-element Array{Float64,1}:\n",
       " -6.661338147750939e-16\n",
       " -3.885780586188048e-16\n",
       " -1.1102230246251565e-16\n",
       " -3.3306690738754696e-16\n",
       " -3.885780586188048e-16"
      ]
     },
     "execution_count": 55,
     "metadata": {},
     "output_type": "execute_result"
    }
   ],
   "source": [
    "A*x-b"
   ]
  },
  {
   "cell_type": "markdown",
   "metadata": {},
   "source": [
    "## Točnost\n",
    "\n",
    "Neka je zadan sustav $Ax=b$, pri čemu je matrica $A$ regularna.\n",
    "\n",
    "Da bi primijenili koncepte iz bilježnice \n",
    "[NA04 Pogreska unatrag_i stabilni_algoritmi](NA04%20Pogreska%20unatrag%20i%20stabilni%20algoritmi.ipynb), potrebno je:\n",
    "\n",
    "1. napraviti teoriju smetnje za dani problem\n",
    "2. analizirati pogreške algoritma (Gaussove eliminacije)\n",
    "\n",
    "### Teorija smetnje\n",
    "\n",
    "Neka je \n",
    "\n",
    "$$\n",
    "(A+\\delta A)\\hat x=(b+\\delta b)\n",
    "$$\n",
    "\n",
    "za neki $\\hat x=x+\\delta x$.\n",
    "\n",
    "Želimo ocijeniti \n",
    "\n",
    "$$\n",
    "\\frac{\\| \\hat x - x \\|}{\\| x\\|} \\equiv \\frac{\\| \\delta x\\|}{\\| x\\|}.\n",
    "$$\n",
    "\n",
    "Uvedimo oznake (npr. prema [Matrix Computations, poglavlje 2.6.2][GVL13])\n",
    "\n",
    "$$\n",
    "\\delta A=\\varepsilon F, \\quad \\delta b=\\varepsilon f, \\qquad \\hat x=x(\\varepsilon),\n",
    "$$\n",
    "čime smo dobili jednodimenzionalni problem \n",
    "\n",
    "$$\n",
    "(A+\\varepsilon F)\\,x(\\varepsilon)=b+\\varepsilon f.\n",
    "$$\n",
    "\n",
    "za neke (nepoznate) matricu $F$ i vektor $f$. \n",
    "\n",
    "Deriviranje po $\\varepsilon$ daje\n",
    "\n",
    "$$\n",
    "Fx(\\varepsilon)+(A+\\varepsilon F)\\, x(\\varepsilon)=f.\n",
    "$$\n",
    "\n",
    "Uvrštavanje $\\varepsilon=0$ daje\n",
    "\n",
    "$$\n",
    "F x+A\\dot x(0)=f,\n",
    "$$\n",
    "\n",
    "odnosno\n",
    "\n",
    "$$\n",
    "\\dot x(0)=A^{-1}(f-Fx).\n",
    "$$\n",
    "\n",
    "Taylorov razvoj oko $\\varepsilon=0$ glasi\n",
    "\n",
    "$$\n",
    "x(\\varepsilon)=x(0)+\\varepsilon \\dot x(0) +O(\\varepsilon^2),\n",
    "$$\n",
    "\n",
    "odnosno, uz zanemarivanje člana $O(\\varepsilon^2)$,\n",
    "\n",
    "$$\n",
    "\\hat x-x=\\varepsilon A^{-1}(f-Fx)=A^{-1} (\\varepsilon f + \\varepsilon F x) = A^{-1} (\\delta b + \\delta A x).\n",
    "$$\n",
    "\n",
    "Svojstva norme povlače\n",
    "\n",
    "$$\n",
    "\\| \\hat x-x\\|\\leq \\| A^{-1} \\| (\\| \\delta b \\|  + \\| \\delta A \\| \\cdot \\|  x\\| ).\n",
    "$$\n",
    "\n",
    "Konačno, zbog $\\| b\\| \\leq \\| A\\| \\| x\\|$, imamo\n",
    "\n",
    "$$\n",
    "\\frac{\\| \\hat x-x\\|}{\\| x\\|}\\leq \\| A\\|  \\cdot \\| A^{-1} \\| \\bigg(\\frac{\\| \\delta b \\|}{\\|b\\|}  + \\frac{\\| \\delta A \\|}{ \\|  A\\|} \\bigg). \\tag{1}\n",
    "$$\n",
    "\n",
    "Broj \n",
    "$$\n",
    "\\kappa(A)\\equiv \\| A\\|  \\cdot \\| A^{-1} \\|\n",
    "$$ \n",
    "\n",
    "je __uvjetovanost__ (__kondicija__)  matrice $A$ i kazuje nam \n",
    "koliko se relativno uvećaju relativne promjene u polaznim podacima (matrici $A$ i vektoru $b$).\n",
    "\n",
    "Pogledajmo primjer iz [Numeričke matematike, str. 42][RS04]:\n",
    "\n",
    "\n",
    "[GVL13]: https://books.google.hr/books?id=X5YfsuCWpxMC&printsec=frontcover&hl=hr#v=onepage&q&f=false \"G. Golub and C. F Van Loan, 'Matrix Computations', 4th Edition, John Hopkins, Baltimore, 2013\" \n",
    "\n",
    "[RS04]: http://www.mathos.unios.hr/pim/Materijali/Num.pdf \"R. Scitovski, 'Numerička matematika', Sveučilište u Osijeku, Osijek, 2004.\""
   ]
  },
  {
   "cell_type": "code",
   "execution_count": 56,
   "metadata": {},
   "outputs": [
    {
     "data": {
      "text/plain": [
       "2×2 Array{Float64,2}:\n",
       " 0.234  0.458\n",
       " 0.383  0.75"
      ]
     },
     "execution_count": 56,
     "metadata": {},
     "output_type": "execute_result"
    }
   ],
   "source": [
    "A= [0.234 0.458; 0.383 0.750]"
   ]
  },
  {
   "cell_type": "code",
   "execution_count": 57,
   "metadata": {},
   "outputs": [
    {
     "data": {
      "text/plain": [
       "2-element Array{Float64,1}:\n",
       " 0.224\n",
       " 0.367"
      ]
     },
     "execution_count": 57,
     "metadata": {},
     "output_type": "execute_result"
    }
   ],
   "source": [
    "b=[0.224;0.367]"
   ]
  },
  {
   "cell_type": "code",
   "execution_count": 58,
   "metadata": {},
   "outputs": [
    {
     "data": {
      "text/plain": [
       "2-element Array{Float64,1}:\n",
       " -1.0000000000002423\n",
       "  1.0000000000001237"
      ]
     },
     "execution_count": 58,
     "metadata": {},
     "output_type": "execute_result"
    }
   ],
   "source": [
    "x=A\\b"
   ]
  },
  {
   "cell_type": "code",
   "execution_count": 59,
   "metadata": {},
   "outputs": [
    {
     "data": {
      "text/plain": [
       "2-element Array{Float64,1}:\n",
       " -0.24174418604640305\n",
       "  0.6127906976743631"
      ]
     },
     "execution_count": 59,
     "metadata": {},
     "output_type": "execute_result"
    }
   ],
   "source": [
    "δb=[0.00009; 0.000005]\n",
    "x1=A\\(b+δb)"
   ]
  },
  {
   "cell_type": "code",
   "execution_count": 60,
   "metadata": {},
   "outputs": [
    {
     "data": {
      "text/plain": [
       "(11322.197586092605, 0.0002096449170953002, 0.6020311134825742)"
      ]
     },
     "execution_count": 60,
     "metadata": {},
     "output_type": "execute_result"
    }
   ],
   "source": [
    "cond(A), norm(δb)/norm(b), norm(x1-x)/norm(x)"
   ]
  },
  {
   "cell_type": "code",
   "execution_count": 61,
   "metadata": {},
   "outputs": [
    {
     "data": {
      "text/plain": [
       "2-element Array{Float64,1}:\n",
       " 0.12951807228916615\n",
       " 0.42319277108433245"
      ]
     },
     "execution_count": 61,
     "metadata": {},
     "output_type": "execute_result"
    }
   ],
   "source": [
    "δA=[-0.001 0;0 0]\n",
    "x2=(A+δA)\\b"
   ]
  },
  {
   "cell_type": "code",
   "execution_count": 62,
   "metadata": {},
   "outputs": [
    {
     "data": {
      "text/plain": [
       "(11322.197586092605, 0.0010134105190591591, 0.896804787832142)"
      ]
     },
     "execution_count": 62,
     "metadata": {},
     "output_type": "execute_result"
    }
   ],
   "source": [
    "cond(A), norm(δA)/norm(A), norm(x2-x)/norm(x)"
   ]
  },
  {
   "cell_type": "markdown",
   "metadata": {},
   "source": [
    "### Pogreška Gaussove eliminacije\n",
    "\n",
    "Prema [Matrix Computations, poglavlje 3.3][GVL13], za izračunate faktore\n",
    "$\\hat L$ i $\\hat U$ vrijedi\n",
    "\n",
    "$$\n",
    "\\hat L\\cdot \\hat U = A+\\delta A\n",
    "$$\n",
    "\n",
    "gdje je (nejednakost se čita po elementima matrica, $\\varepsilon$ je sada točnost stroja)\n",
    "\n",
    "$$\n",
    "| \\delta A|\\leq 3(n-1) \\varepsilon (|A|+|\\hat L| \\cdot |\\hat U|) +O(\\varepsilon^2).\n",
    "$$\n",
    "\n",
    "Zanemarivanje člana $O(\\varepsilon^2)$ i prelazak na normu daju\n",
    "\n",
    "$$\n",
    "\\|\\delta A \\| \\lesssim O(n)\\varepsilon (\\| A\\| + \\| \\hat L\\| \\cdot \\| \\hat U\\|),\n",
    "$$\n",
    "\n",
    "pa je \n",
    "\n",
    "$$\n",
    " \\frac{\\|\\delta A \\|}{\\|A\\|} \\lesssim O(n)\\varepsilon \\bigg(1+\\frac{\\| \\hat L\\| \\cdot \\| \\hat U\\|}{\\|A\\|}\\bigg).\n",
    "$$\n",
    "\n",
    "Ukoliko se Gaussova eliminacija radi s pivotiranjem, tada će najvjerojatnije zadnji kvocijent također biti malen \n",
    "($\\approx 1$). Također, pogreška kod rješavanja trokutastih sustava nije veća od navedene pa uvrštavanjem u (1) slijedi \n",
    "da za relativnu pogrešku izračunatog rješenja vrijedi \n",
    "\n",
    "$$\n",
    "\\frac{\\| \\hat x-x\\|}{\\| x\\|}\\leq \\kappa(A) O(n\\varepsilon).\n",
    "$$\n",
    "\n",
    "Zaključimo:\n",
    "\n",
    "> _Ukoliko je kondicija matrice velika, rješenje može biti netočno._\n",
    "\n",
    "[GVL13]: https://books.google.hr/books?id=X5YfsuCWpxMC&printsec=frontcover&hl=hr#v=onepage&q&f=false \"G. Golub and C. F Van Loan, 'Matrix Computations', 4th Edition, John Hopkins, Baltimore, 2013\" "
   ]
  },
  {
   "cell_type": "code",
   "execution_count": 63,
   "metadata": {},
   "outputs": [
    {
     "data": {
      "text/plain": [
       "10-element Array{Float64,1}:\n",
       " 0.6614350593639147\n",
       " 0.48650890125687063\n",
       " 0.41728889115919254\n",
       " 0.38869327482214744\n",
       " 0.596574907748231\n",
       " 0.07592661490035035\n",
       " 0.4860952120877726\n",
       " 0.46900411658934393\n",
       " 0.528264975117307\n",
       " 0.7552505181107274"
      ]
     },
     "execution_count": 63,
     "metadata": {},
     "output_type": "execute_result"
    }
   ],
   "source": [
    "n=10\n",
    "v=rand(n)"
   ]
  },
  {
   "cell_type": "code",
   "execution_count": 64,
   "metadata": {},
   "outputs": [
    {
     "data": {
      "text/plain": [
       "10×10 Adjoint{Float64,Array{Float64,2}}:\n",
       " 1.0        1.0         1.0          …  1.0         1.0         1.0\n",
       " 0.661435   0.486509    0.417289        0.469004    0.528265    0.755251\n",
       " 0.437496   0.236691    0.17413         0.219965    0.279064    0.570403\n",
       " 0.289375   0.115152    0.0726625       0.103164    0.14742     0.430797\n",
       " 0.191403   0.0560226   0.0303213       0.0483845   0.0778767   0.32536\n",
       " 0.126601   0.0272555   0.0126527    …  0.0226925   0.0411395   0.245728\n",
       " 0.0837381  0.01326     0.00527984      0.0106429   0.0217326   0.185586\n",
       " 0.0553873  0.00645113  0.00220322      0.00499156  0.0114806   0.140164\n",
       " 0.0366351  0.00313853  0.000919379     0.00234106  0.00606477  0.105859\n",
       " 0.0242318  0.00152692  0.000383647     0.00109797  0.00320381  0.0799502"
      ]
     },
     "execution_count": 64,
     "metadata": {},
     "output_type": "execute_result"
    }
   ],
   "source": [
    "# Vandermonmdeove matrice imaju veliku kondiciju.\n",
    "V=Array{Float64}(undef,n,n)\n",
    "for i=1:n\n",
    "    V[:,i]=v.^(i-1)\n",
    "end\n",
    "V=V'"
   ]
  },
  {
   "cell_type": "code",
   "execution_count": 65,
   "metadata": {},
   "outputs": [
    {
     "data": {
      "text/plain": [
       "10-element Array{Float64,1}:\n",
       " 0.33104889180804165\n",
       " 0.8560704147914053\n",
       " 0.7138667824894915\n",
       " 0.39559547158529984\n",
       " 0.2037555212946418\n",
       " 0.6627753767486095\n",
       " 0.45341074074282517\n",
       " 0.23021537565747785\n",
       " 0.311920548800684\n",
       " 0.31094083311233645"
      ]
     },
     "execution_count": 65,
     "metadata": {},
     "output_type": "execute_result"
    }
   ],
   "source": [
    "bᵥ=rand(n)"
   ]
  },
  {
   "cell_type": "code",
   "execution_count": 66,
   "metadata": {},
   "outputs": [
    {
     "data": {
      "text/plain": [
       "10-element Array{Float64,1}:\n",
       "    -1.9505175985107422e6\n",
       "     1.2442697758199965e11\n",
       "    -1.6094317687911946e8\n",
       "     3.420574394963029e7\n",
       "     1.988657200013696e7\n",
       " -2127.8676386500338\n",
       "    -1.2676305033862157e11\n",
       "     2.7705212826177187e9\n",
       "    -3.256952028159136e8\n",
       " 50183.54666973968"
      ]
     },
     "execution_count": 66,
     "metadata": {},
     "output_type": "execute_result"
    }
   ],
   "source": [
    "xᵥ=V\\bᵥ"
   ]
  },
  {
   "cell_type": "code",
   "execution_count": 67,
   "metadata": {},
   "outputs": [
    {
     "data": {
      "text/plain": [
       "1.804967496870472e13"
      ]
     },
     "execution_count": 67,
     "metadata": {},
     "output_type": "execute_result"
    }
   ],
   "source": [
    "cond(V)"
   ]
  },
  {
   "cell_type": "code",
   "execution_count": 68,
   "metadata": {},
   "outputs": [],
   "source": [
    "Vbig=map(BigFloat,V)\n",
    "bbig=map(BigFloat,bᵥ)\n",
    "xbig=Vbig\\bbig;"
   ]
  },
  {
   "cell_type": "code",
   "execution_count": 70,
   "metadata": {},
   "outputs": [
    {
     "data": {
      "text/plain": [
       "5.8453671489411944e-5"
      ]
     },
     "execution_count": 70,
     "metadata": {},
     "output_type": "execute_result"
    }
   ],
   "source": [
    "map(Float64,norm(xbig-xᵥ)/norm(xbig))"
   ]
  },
  {
   "cell_type": "markdown",
   "metadata": {},
   "source": [
    "### Umjetno loša kondicija"
   ]
  },
  {
   "cell_type": "code",
   "execution_count": 71,
   "metadata": {},
   "outputs": [
    {
     "name": "stdout",
     "output_type": "stream",
     "text": [
      "(x, cond(A)) = ([-1.0, 2.0], 6.854101966249685)\n"
     ]
    },
    {
     "data": {
      "text/plain": [
       "([-1.0, 2.0], 50000.00017991671, [8.881784197001252e-16, -4.440892098500626e-16])"
      ]
     },
     "execution_count": 71,
     "metadata": {},
     "output_type": "execute_result"
    }
   ],
   "source": [
    "A=[1 1; 1 2]\n",
    "b=[1;3]\n",
    "x=A\\b\n",
    "@show x,cond(A)\n",
    "A₁=[1e-4 1e-4;1 2]\n",
    "b₁=[1e-4;3]\n",
    "x₁=A₁\\b₁\n",
    "x,cond(A₁),x-x₁"
   ]
  },
  {
   "cell_type": "markdown",
   "metadata": {},
   "source": [
    "### Procjena kondicije\n",
    "\n",
    "Računanje kondicije prema definiciji $\\kappa(A)=\\|A\\| \\cdot \\|A^{-1}\\|$ zahtijeva računanje matrice inverzne matrice, za što je potrebno $O(n^3)$ operacija. To je isti red veličine operacija koji je potreban za rješavanje zadanog sustava. Prilikom rješavanja sustava na raspolaganju su nam trokutasti faktori $L$ i $U$, što se može iskoristiti kako bi se kondicija približno izračunala u $O(n^2)$ operacija. \n",
    "Detalji se nalaze u [Matrix Computations, poglavlje 3.5.4][GVL13]. \n",
    "LAPACK rutina \n",
    "[dtrcon.f](http://www.netlib.org/lapack/explore-html/d9/d84/dtrcon_8f_source.html) računa približnu kondiciju trokutaste matrice.\n",
    "\n",
    "Izračunajmo približnu kondiciju Vandermondeove matrice iz prethodnog primjera.\n",
    "\n",
    "\n",
    "[GVL13]: #1 \"G. Golub, C. Van Loan,'Matrix Computations', 4th Edition, John Hopkins, baltimore, 2013\"  "
   ]
  },
  {
   "cell_type": "code",
   "execution_count": 72,
   "metadata": {},
   "outputs": [
    {
     "data": {
      "text/latex": [
       "\\begin{verbatim}\n",
       "trcon!(norm, uplo, diag, A)\n",
       "\\end{verbatim}\n",
       "Finds the reciprocal condition number of (upper if \\texttt{uplo = U}, lower if \\texttt{uplo = L}) triangular matrix \\texttt{A}. If \\texttt{diag = N}, \\texttt{A} has non-unit diagonal elements. If \\texttt{diag = U}, all diagonal elements of \\texttt{A} are one. If \\texttt{norm = I}, the condition number is found in the infinity norm. If \\texttt{norm = O} or \\texttt{1}, the condition number is found in the one norm.\n",
       "\n"
      ],
      "text/markdown": [
       "```\n",
       "trcon!(norm, uplo, diag, A)\n",
       "```\n",
       "\n",
       "Finds the reciprocal condition number of (upper if `uplo = U`, lower if `uplo = L`) triangular matrix `A`. If `diag = N`, `A` has non-unit diagonal elements. If `diag = U`, all diagonal elements of `A` are one. If `norm = I`, the condition number is found in the infinity norm. If `norm = O` or `1`, the condition number is found in the one norm.\n"
      ],
      "text/plain": [
       "\u001b[36m  trcon!(norm, uplo, diag, A)\u001b[39m\n",
       "\n",
       "  Finds the reciprocal condition number of (upper if \u001b[36muplo = U\u001b[39m, lower if \u001b[36muplo =\n",
       "  L\u001b[39m) triangular matrix \u001b[36mA\u001b[39m. If \u001b[36mdiag = N\u001b[39m, \u001b[36mA\u001b[39m has non-unit diagonal elements. If\n",
       "  \u001b[36mdiag = U\u001b[39m, all diagonal elements of \u001b[36mA\u001b[39m are one. If \u001b[36mnorm = I\u001b[39m, the condition\n",
       "  number is found in the infinity norm. If \u001b[36mnorm = O\u001b[39m or \u001b[36m1\u001b[39m, the condition number\n",
       "  is found in the one norm."
      ]
     },
     "execution_count": 72,
     "metadata": {},
     "output_type": "execute_result"
    }
   ],
   "source": [
    "?LAPACK.trcon!"
   ]
  },
  {
   "cell_type": "code",
   "execution_count": 73,
   "metadata": {},
   "outputs": [],
   "source": [
    "L,U=lu(V);"
   ]
  },
  {
   "cell_type": "code",
   "execution_count": 74,
   "metadata": {},
   "outputs": [
    {
     "data": {
      "text/plain": [
       "(1.6503694453980852e13, 37.48682914049708, 6.680315740239664e12)"
      ]
     },
     "execution_count": 74,
     "metadata": {},
     "output_type": "execute_result"
    }
   ],
   "source": [
    "cond(V,1),cond(L,1),cond(U,1)"
   ]
  },
  {
   "cell_type": "code",
   "execution_count": 75,
   "metadata": {},
   "outputs": [
    {
     "data": {
      "text/plain": [
       "(37.48682914049708, 6.680315740239664e12)"
      ]
     },
     "execution_count": 75,
     "metadata": {},
     "output_type": "execute_result"
    }
   ],
   "source": [
    "1 ./LAPACK.trcon!('O','L','U',L),1 ./LAPACK.trcon!('O','U','N',U)"
   ]
  },
  {
   "cell_type": "markdown",
   "metadata": {
    "collapsed": true
   },
   "source": [
    "## Rezidual\n",
    "\n",
    "\n",
    "Izračunato rješenje $\\hat x$ sustava $Ax=b$ je točno rješenje nekog sličnog sustava (vidi [Afternotes on Numerical Analysis, str. 128][Ste96]):\n",
    "\n",
    "\n",
    "$$ \n",
    "(A+\\delta A)\\,\\hat x=b. \\tag{1}\n",
    "$$\n",
    "\n",
    "__Rezidual__ (ili __ostatak__) definiramo kao \n",
    "\n",
    "$$\n",
    "r=b-A\\hat x.\n",
    "$$\n",
    "\n",
    "Tada je \n",
    "\n",
    "$$\n",
    "0=b-(A+\\delta A)\\,\\hat x=r- \\delta A\\,\\hat x\n",
    "$$\n",
    "\n",
    "pa je \n",
    "\n",
    "$$ \n",
    "\\| r\\| = \\| \\delta A\\,\\hat x \\| \\leq \\| \\delta A\\| \\cdot \\|\\hat x \\|,\n",
    "$$\n",
    "\n",
    "odnosno\n",
    "\n",
    "$$\n",
    "\\frac{\\|  \\delta A\\|}{\\|A \\|} \\geq \\frac{\\|r\\|}{\\| A\\| \\cdot \\|\\hat x \\|}.\n",
    "$$\n",
    "\n",
    "Dakle,\n",
    "\n",
    "ako  _relativni rezidual_ \n",
    "\n",
    "$$ \\frac{r}{\\| A\\| \\cdot \\|\\hat x \\|}$$\n",
    "\n",
    "ima veliku normu, tada _rješenje nije izračunato stabilno._\n",
    "\n",
    "S druge strane, ako relativni rezidual ima malu normu, tada je _rješenje izračunato stabilno_. Naime, za\n",
    "\n",
    "$$\n",
    "\\delta A=\\frac{r\\hat x^T}{\\|\\hat x\\|^2}\n",
    "$$\n",
    "\n",
    "vrijedi (1):\n",
    "\n",
    "$$\n",
    "b-(A+\\delta A)\\hat x=(b-A\\hat x)-\\delta A \\hat x = r-\\frac{r\\hat x^T \\hat x}{\\|\\hat x\\|^2}\n",
    "= r-\\frac{r \\|\\hat x^T \\hat x\\|}{\\|\\hat x\\|^2}=r-r=0.\n",
    "$$\n",
    "\n",
    "Također vrijedi\n",
    "\n",
    "$$\n",
    "\\frac{\\|  \\delta A\\|}{\\|A \\|}  \\leq  \\frac{\\|r\\|\\|\\hat x \\|}{\\| A\\| \\cdot \\|\\hat x \\|^2}=\n",
    "\\frac{\\|r\\|}{\\| A\\| \\cdot \\|\\hat x \\|}.\n",
    "$$\n",
    "\n",
    "Izračunajmo reziduale za prethodni primjer dimenzije $2$:\n",
    "\n",
    "\n",
    "[Ste96]: https://books.google.hr/books?id=w-2PWh01kWcC&printsec=frontcover&hl=hr#v=onepage&q&f=false    \"G. W. Stewart, 'Afternotes on Numerical Analysis', SIAM, Philadelphia, 1996\""
   ]
  },
  {
   "cell_type": "code",
   "execution_count": 76,
   "metadata": {},
   "outputs": [
    {
     "data": {
      "text/plain": [
       "2-element Array{Float64,1}:\n",
       " 0.0\n",
       " 0.0"
      ]
     },
     "execution_count": 76,
     "metadata": {},
     "output_type": "execute_result"
    }
   ],
   "source": [
    "r=b-A*x"
   ]
  },
  {
   "cell_type": "code",
   "execution_count": 77,
   "metadata": {},
   "outputs": [
    {
     "data": {
      "text/plain": [
       "0.0"
      ]
     },
     "execution_count": 77,
     "metadata": {},
     "output_type": "execute_result"
    }
   ],
   "source": [
    "norm(r)/(norm(A)*norm(x))"
   ]
  },
  {
   "cell_type": "code",
   "execution_count": 78,
   "metadata": {},
   "outputs": [
    {
     "data": {
      "text/plain": [
       "2-element Array{Float64,1}:\n",
       " 4.0657581468206416e-20\n",
       " 0.0"
      ]
     },
     "execution_count": 78,
     "metadata": {},
     "output_type": "execute_result"
    }
   ],
   "source": [
    "r₁=b₁-A₁*x₁"
   ]
  },
  {
   "cell_type": "code",
   "execution_count": 79,
   "metadata": {},
   "outputs": [
    {
     "data": {
      "text/plain": [
       "8.131516277378246e-21"
      ]
     },
     "execution_count": 79,
     "metadata": {},
     "output_type": "execute_result"
    }
   ],
   "source": [
    "norm(r₁)/(norm(A₁)*norm(x₁))"
   ]
  },
  {
   "cell_type": "markdown",
   "metadata": {},
   "source": [
    "Izračunajmo rezidual za Vandermondeov sustav:"
   ]
  },
  {
   "cell_type": "code",
   "execution_count": 80,
   "metadata": {},
   "outputs": [
    {
     "data": {
      "text/plain": [
       "10-element Array{Float64,1}:\n",
       " -3.2326922330128127e-6\n",
       "  6.154785454404177e-6\n",
       " -1.954731272624244e-6\n",
       "  4.324341323247438e-6\n",
       " -1.7407817809456105e-7\n",
       "  2.618816065780294e-6\n",
       "  8.780382501072381e-7\n",
       "  1.6795204071939906e-6\n",
       " -5.394571205297183e-7\n",
       " -5.536515290671673e-8"
      ]
     },
     "execution_count": 80,
     "metadata": {},
     "output_type": "execute_result"
    }
   ],
   "source": [
    "rᵥ=bᵥ-V*xᵥ"
   ]
  },
  {
   "cell_type": "code",
   "execution_count": 81,
   "metadata": {},
   "outputs": [
    {
     "data": {
      "text/plain": [
       "1.343381577803109e-17"
      ]
     },
     "execution_count": 81,
     "metadata": {},
     "output_type": "execute_result"
    }
   ],
   "source": [
    "norm(rᵥ)/(norm(V)*norm(xᵥ))"
   ]
  },
  {
   "cell_type": "markdown",
   "metadata": {},
   "source": [
    "Zaključujemo da je rješenje $x_v$ izračunato stabilno, odnosno s vrlo malom pogreškom unatrag u početnim podatcima. To još uvijek ne znači da je rješenje relativno vrlo točno."
   ]
  },
  {
   "cell_type": "code",
   "execution_count": null,
   "metadata": {},
   "outputs": [],
   "source": []
  }
 ],
 "metadata": {
  "@webio": {
   "lastCommId": "b2cb3e1e39534a3097a733e3f25c38ae",
   "lastKernelId": "2126d79e-47a2-4e24-bc50-de47556ef4ab"
  },
  "kernelspec": {
   "display_name": "Julia 1.4.2",
   "language": "julia",
   "name": "julia-1.4"
  },
  "language_info": {
   "file_extension": ".jl",
   "mimetype": "application/julia",
   "name": "julia",
   "version": "1.4.2"
  }
 },
 "nbformat": 4,
 "nbformat_minor": 1
}
