{
 "cells": [
  {
   "cell_type": "code",
   "execution_count": 2,
   "metadata": {
    "collapsed": false
   },
   "outputs": [],
   "source": [
    "using Interact"
   ]
  },
  {
   "cell_type": "markdown",
   "metadata": {},
   "source": [
    "## Apsolutna i relativna pogreška\n",
    "\n",
    "Neka je $\\alpha$ aproksimacija za $a$. Tada vrijedi\n",
    "\n",
    "$$err=|a-\\alpha| \\\\  relerr=\\frac{err}{|a|}=\\frac{|a-\\alpha|}{|a|}.$$"
   ]
  },
  {
   "cell_type": "code",
   "execution_count": 3,
   "metadata": {
    "collapsed": false
   },
   "outputs": [
    {
     "data": {
      "text/html": [],
      "text/plain": [
       "Interact.Slider{Float64}(Signal{Float64}(7.5, nactions=0),\"α\",7.5,5.0:0.01:10.0,true)"
      ]
     },
     "metadata": {},
     "output_type": "display_data"
    },
    {
     "data": {
      "text/plain": [
       "(7.5,2.5,0.5)"
      ]
     },
     "execution_count": 3,
     "metadata": {
      "comm_id": "82ffdedc-a031-4f42-8c18-9487dc0a65ec",
      "reactive": true
     },
     "output_type": "execute_result"
    }
   ],
   "source": [
    "a=5.0\n",
    "@manipulate for α=a:0.01:2a\n",
    "    err=abs(a-α)\n",
    "    relerr=err/abs(a)\n",
    "    α, err, relerr\n",
    "end"
   ]
  },
  {
   "cell_type": "markdown",
   "metadata": {},
   "source": [
    "## Posebne vrijednosti (_special quantities_) $0$, $-0$, `Inf` i `NaN`\n",
    "\n",
    "Vidi \n",
    "[David Goldberg, What Every Computer Scientist Should Know About Floating-Point Arithmetic](https://docs.oracle.com/cd/E19957-01/806-3568/ncg_goldberg.html)."
   ]
  },
  {
   "cell_type": "markdown",
   "metadata": {},
   "source": [
    "Nula ima predznak:"
   ]
  },
  {
   "cell_type": "code",
   "execution_count": 4,
   "metadata": {
    "collapsed": false
   },
   "outputs": [
    {
     "data": {
      "text/plain": [
       "(-0.0,true)"
      ]
     },
     "execution_count": 4,
     "metadata": {},
     "output_type": "execute_result"
    }
   ],
   "source": [
    "a=1.0\n",
    "b=0.0\n",
    "c=-b\n",
    "c,b==c"
   ]
  },
  {
   "cell_type": "code",
   "execution_count": 5,
   "metadata": {
    "collapsed": false
   },
   "outputs": [
    {
     "data": {
      "text/plain": [
       "true"
      ]
     },
     "execution_count": 5,
     "metadata": {},
     "output_type": "execute_result"
    }
   ],
   "source": [
    "d=a/b\n",
    "e=a/c\n",
    "1/d==1/e"
   ]
  },
  {
   "cell_type": "code",
   "execution_count": 6,
   "metadata": {
    "collapsed": false
   },
   "outputs": [
    {
     "data": {
      "text/plain": [
       "NaN"
      ]
     },
     "execution_count": 6,
     "metadata": {},
     "output_type": "execute_result"
    }
   ],
   "source": [
    "b/c"
   ]
  },
  {
   "cell_type": "markdown",
   "metadata": {},
   "source": [
    "## Točnost stroja $\\varepsilon$\n",
    "\n",
    "Najmanji broj takav da je $1+\\varepsilon\\neq 1$ "
   ]
  },
  {
   "cell_type": "code",
   "execution_count": 7,
   "metadata": {
    "collapsed": false
   },
   "outputs": [
    {
     "name": "stdout",
     "output_type": "stream",
     "text": [
      "a = a / 2 = 1.0"
     ]
    },
    {
     "data": {
      "text/plain": [
       "1.1102230246251565e-16"
      ]
     },
     "execution_count": 7,
     "metadata": {},
     "output_type": "execute_result"
    },
    {
     "name": "stdout",
     "output_type": "stream",
     "text": [
      "\n",
      "a = a / 2 = 0.5\n",
      "a = a / 2 = 0.25\n",
      "a = a / 2 = 0.125\n",
      "a = a / 2 = 0.0625\n",
      "a = a / 2 = 0.03125\n",
      "a = a / 2 = 0.015625\n",
      "a = a / 2 = 0.0078125\n",
      "a = a / 2 = 0.00390625\n",
      "a = a / 2 = 0.001953125\n",
      "a = a / 2 = 0.0009765625\n",
      "a = a / 2 = 0.00048828125\n",
      "a = a / 2 = 0.000244140625\n",
      "a = a / 2 = 0.0001220703125\n",
      "a = a / 2 = 6.103515625e-5\n",
      "a = a / 2 = 3.0517578125e-5\n",
      "a = a / 2 = 1.52587890625e-5\n",
      "a = a / 2 = 7.62939453125e-6\n",
      "a = a / 2 = 3.814697265625e-6\n",
      "a = a / 2 = 1.9073486328125e-6\n",
      "a = a / 2 = 9.5367431640625e-7\n",
      "a = a / 2 = 4.76837158203125e-7\n",
      "a = a / 2 = 2.384185791015625e-7\n",
      "a = a / 2 = 1.1920928955078125e-7\n",
      "a = a / 2 = 5.960464477539063e-8\n",
      "a = a / 2 = 2.9802322387695312e-8\n",
      "a = a / 2 = 1.4901161193847656e-8\n",
      "a = a / 2 = 7.450580596923828e-9\n",
      "a = a / 2 = 3.725290298461914e-9\n",
      "a = a / 2 = 1.862645149230957e-9\n",
      "a = a / 2 = 9.313225746154785e-10\n",
      "a = a / 2 = 4.656612873077393e-10\n",
      "a = a / 2 = 2.3283064365386963e-10\n",
      "a = a / 2 = 1.1641532182693481e-10\n",
      "a = a / 2 = 5.820766091346741e-11\n",
      "a = a / 2 = 2.9103830456733704e-11\n",
      "a = a / 2 = 1.4551915228366852e-11\n",
      "a = a / 2 = 7.275957614183426e-12\n",
      "a = a / 2 = 3.637978807091713e-12\n",
      "a = a / 2 = 1.8189894035458565e-12\n",
      "a = a / 2 = 9.094947017729282e-13\n",
      "a = a / 2 = 4.547473508864641e-13\n",
      "a = a / 2 = 2.2737367544323206e-13\n",
      "a = a / 2 = 1.1368683772161603e-13\n",
      "a = a / 2 = 5.684341886080802e-14\n",
      "a = a / 2 = 2.842170943040401e-14\n",
      "a = a / 2 = 1.4210854715202004e-14\n",
      "a = a / 2 = 7.105427357601002e-15\n",
      "a = a / 2 = 3.552713678800501e-15\n",
      "a = a / 2 = 1.7763568394002505e-15\n",
      "a = a / 2 = 8.881784197001252e-16\n",
      "a = a / 2 = 4.440892098500626e-16\n",
      "a = a / 2 = 2.220446049250313e-16\n",
      "a = a / 2 = 1.1102230246251565e-16\n"
     ]
    }
   ],
   "source": [
    "b=1.0\n",
    "a=2.0\n",
    "while (b+a)!=b\n",
    "    @show a=a/2\n",
    "end\n",
    "a"
   ]
  },
  {
   "cell_type": "code",
   "execution_count": 8,
   "metadata": {
    "collapsed": false
   },
   "outputs": [
    {
     "data": {
      "text/plain": [
       "true"
      ]
     },
     "execution_count": 8,
     "metadata": {},
     "output_type": "execute_result"
    }
   ],
   "source": [
    "1+a==1.0"
   ]
  },
  {
   "cell_type": "code",
   "execution_count": 9,
   "metadata": {
    "collapsed": false
   },
   "outputs": [
    {
     "data": {
      "text/plain": [
       "(2.220446049250313e-16,false)"
      ]
     },
     "execution_count": 9,
     "metadata": {},
     "output_type": "execute_result"
    }
   ],
   "source": [
    "2a, 1+2a==1.0"
   ]
  },
  {
   "cell_type": "markdown",
   "metadata": {},
   "source": [
    "Programi imaju ugrađenu naredbu koja daje $\\varepsilon$"
   ]
  },
  {
   "cell_type": "code",
   "execution_count": 10,
   "metadata": {
    "collapsed": false
   },
   "outputs": [
    {
     "data": {
      "text/plain": [
       "2.220446049250313e-16"
      ]
     },
     "execution_count": 10,
     "metadata": {},
     "output_type": "execute_result"
    }
   ],
   "source": [
    "eps()"
   ]
  },
  {
   "cell_type": "code",
   "execution_count": 11,
   "metadata": {
    "collapsed": false
   },
   "outputs": [
    {
     "data": {
      "text/html": [
       "8 methods for generic function <b>eps</b>:<ul><li> eps() at <a href=\"https://github.com/JuliaLang/julia/tree/0ff703b40afddf9b705bd6a06d3a59cb4c089ea5/base/float.jl#L399\" target=\"_blank\">float.jl:399</a><li> eps(x::<b>AbstractFloat</b>) at <a href=\"https://github.com/JuliaLang/julia/tree/0ff703b40afddf9b705bd6a06d3a59cb4c089ea5/base/float.jl#L395\" target=\"_blank\">float.jl:395</a><li> eps(::<b>Type{Float16}</b>) at <a href=\"https://github.com/JuliaLang/julia/tree/0ff703b40afddf9b705bd6a06d3a59cb4c089ea5/base/float.jl#L396\" target=\"_blank\">float.jl:396</a><li> eps(::<b>Type{Float32}</b>) at <a href=\"https://github.com/JuliaLang/julia/tree/0ff703b40afddf9b705bd6a06d3a59cb4c089ea5/base/float.jl#L397\" target=\"_blank\">float.jl:397</a><li> eps(::<b>Type{Float64}</b>) at <a href=\"https://github.com/JuliaLang/julia/tree/0ff703b40afddf9b705bd6a06d3a59cb4c089ea5/base/float.jl#L398\" target=\"_blank\">float.jl:398</a><li> eps(::<b>Type{BigFloat}</b>) at <a href=\"https://github.com/JuliaLang/julia/tree/0ff703b40afddf9b705bd6a06d3a59cb4c089ea5/base/mpfr.jl#L811\" target=\"_blank\">mpfr.jl:811</a><li> eps(dt::<b>DateTime</b>) at <a href=\"https://github.com/JuliaLang/julia/tree/0ff703b40afddf9b705bd6a06d3a59cb4c089ea5/base/dates/types.jl#L141\" target=\"_blank\">dates/types.jl:141</a><li> eps(dt::<b>Date</b>) at <a href=\"https://github.com/JuliaLang/julia/tree/0ff703b40afddf9b705bd6a06d3a59cb4c089ea5/base/dates/types.jl#L142\" target=\"_blank\">dates/types.jl:142</a></ul>"
      ],
      "text/plain": [
       "# 8 methods for generic function \"eps\":\n",
       "eps() at float.jl:399\n",
       "eps(x::AbstractFloat) at float.jl:395\n",
       "eps(::Type{Float16}) at float.jl:396\n",
       "eps(::Type{Float32}) at float.jl:397\n",
       "eps(::Type{Float64}) at float.jl:398\n",
       "eps(::Type{BigFloat}) at mpfr.jl:811\n",
       "eps(dt::DateTime) at dates/types.jl:141\n",
       "eps(dt::Date) at dates/types.jl:142"
      ]
     },
     "execution_count": 11,
     "metadata": {},
     "output_type": "execute_result"
    }
   ],
   "source": [
    "methods(eps)"
   ]
  },
  {
   "cell_type": "code",
   "execution_count": 12,
   "metadata": {
    "collapsed": false
   },
   "outputs": [
    {
     "data": {
      "text/plain": [
       "(2.220446049250313e-16,2.220446049250313e-16)"
      ]
     },
     "execution_count": 12,
     "metadata": {},
     "output_type": "execute_result"
    }
   ],
   "source": [
    "eps(Float64), 2.0^(-52)"
   ]
  },
  {
   "cell_type": "code",
   "execution_count": 13,
   "metadata": {
    "collapsed": false
   },
   "outputs": [
    {
     "data": {
      "text/plain": [
       "(1.1920929f-7,1.1920928955078125e-7)"
      ]
     },
     "execution_count": 13,
     "metadata": {},
     "output_type": "execute_result"
    }
   ],
   "source": [
    "eps(Float32), 2.0^(-23)"
   ]
  },
  {
   "cell_type": "code",
   "execution_count": 14,
   "metadata": {
    "collapsed": false
   },
   "outputs": [
    {
     "data": {
      "text/plain": [
       "(Float16(0.000977),0.0009765625)"
      ]
     },
     "execution_count": 14,
     "metadata": {},
     "output_type": "execute_result"
    }
   ],
   "source": [
    "eps(Float16), 2.0^(-10)"
   ]
  },
  {
   "cell_type": "code",
   "execution_count": 15,
   "metadata": {
    "collapsed": false
   },
   "outputs": [
    {
     "data": {
      "text/plain": [
       "(1.727233711018888925077270372560079914223200072887256277004740694033718360632485e-77,1.727233711018889e-77)"
      ]
     },
     "execution_count": 15,
     "metadata": {},
     "output_type": "execute_result"
    }
   ],
   "source": [
    "eps(BigFloat), 2.0^(-255)"
   ]
  },
  {
   "cell_type": "markdown",
   "metadata": {},
   "source": [
    "## Katastrofalno kraćenje (_catastrophic cancellation_)\n",
    "\n",
    "U egzaktnoj aritmetici kvadratna jednadžba\n",
    "\n",
    "$$ ax^2 + bx+c=0$$\n",
    "\n",
    "ima rješenja\n",
    "\n",
    "\\begin{align*}\n",
    "x_1&=\\frac{-b-\\sqrt{b^2-4ac}}{2a} \\\\\n",
    "x_2&=\\frac{-b+\\sqrt{b^2-4ac}}{2a}\\equiv \\frac{-b+\\sqrt{b^2-4ac}}{2a}\\cdot \\frac{-b-\\sqrt{b^2-4ac}}{-b-\\sqrt{b^2-4ac}}\n",
    "\\\\ &= \\frac{2c}{-b-\\sqrt{b^2-4ac}}=x_3\n",
    "\\end{align*}\n"
   ]
  },
  {
   "cell_type": "code",
   "execution_count": 16,
   "metadata": {
    "collapsed": false
   },
   "outputs": [
    {
     "data": {
      "text/plain": [
       "(-6.172839449999997e7,-3.3527612686157227e-8,-3.240000029484002e-8)"
      ]
     },
     "execution_count": 16,
     "metadata": {},
     "output_type": "execute_result"
    }
   ],
   "source": [
    "a=2.0\n",
    "b=123456789.0\n",
    "c=4.0\n",
    "\n",
    "x1=(-b-sqrt(b*b-4*a*c))/(2.0*a)\n",
    "x2=(-b+sqrt(b*b-4*a*c))/(2.0*a)\n",
    "x3=(2*c)/(-b-sqrt(b*b-4*a*c))\n",
    "x1,x2,x3"
   ]
  },
  {
   "cell_type": "markdown",
   "metadata": {},
   "source": [
    "Provjerimo s `BigFloat`:"
   ]
  },
  {
   "cell_type": "code",
   "execution_count": 17,
   "metadata": {
    "collapsed": false
   },
   "outputs": [
    {
     "data": {
      "text/plain": [
       "-3.240000029484001968915648868258452417675753633383540995167795107129921671968718e-08"
      ]
     },
     "execution_count": 17,
     "metadata": {},
     "output_type": "execute_result"
    }
   ],
   "source": [
    "a=BigFloat(a)\n",
    "b=BigFloat(b)\n",
    "c=BigFloat(c)\n",
    "x2=(-b+sqrt(b*b-4*a*c))/(2.0*a)"
   ]
  },
  {
   "cell_type": "code",
   "execution_count": null,
   "metadata": {
    "collapsed": true
   },
   "outputs": [],
   "source": []
  }
 ],
 "metadata": {
  "kernelspec": {
   "display_name": "Julia 0.4.0",
   "language": "julia",
   "name": "julia-0.4"
  },
  "language_info": {
   "file_extension": ".jl",
   "mimetype": "application/julia",
   "name": "julia",
   "version": "0.4.0"
  }
 },
 "nbformat": 4,
 "nbformat_minor": 0
}
