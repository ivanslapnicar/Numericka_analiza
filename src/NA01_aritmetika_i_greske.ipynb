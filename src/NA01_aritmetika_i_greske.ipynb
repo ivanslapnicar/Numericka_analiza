{
 "cells": [
  {
   "cell_type": "code",
   "execution_count": 1,
   "metadata": {},
   "outputs": [
    {
     "data": {
      "text/html": [
       "<div id=\"interact-js-shim\">\n",
       "    <script charset=\"utf-8\">\n",
       "(function (IPython, $, _, MathJax) {\n",
       "    $.event.special.destroyed = {\n",
       "\tremove: function(o) {\n",
       "\t    if (o.handler) {\n",
       "\t\to.handler.apply(this, arguments)\n",
       "\t    }\n",
       "\t}\n",
       "    }\n",
       "\n",
       "    var OutputArea = IPython.version >= \"4.0.0\" ? require(\"notebook/js/outputarea\").OutputArea : IPython.OutputArea;\n",
       "\n",
       "    var redrawValue = function (container, type, val) {\n",
       "\tvar selector = $(\"<div/>\");\n",
       "\tvar oa = new OutputArea(_.extend(selector, {\n",
       "\t    selector: selector,\n",
       "\t    prompt_area: true,\n",
       "\t    events: IPython.events,\n",
       "\t    keyboard_manager: IPython.keyboard_manager\n",
       "\t})); // Hack to work with IPython 2.1.0\n",
       "\n",
       "\tswitch (type) {\n",
       "\tcase \"image/png\":\n",
       "            var _src = 'data:' + type + ';base64,' + val;\n",
       "\t    $(container).find(\"img\").attr('src', _src);\n",
       "\t    break;\n",
       "\tcase \"text/latex\":\n",
       "\t\tif (MathJax){\n",
       "\t\t\tvar math = MathJax.Hub.getAllJax(container)[0];\n",
       "\t\t\tMathJax.Hub.Queue([\"Text\", math, val.replace(/^\\${1,2}|\\${1,2}$/g, '')]);\n",
       "\t\t\tbreak;\n",
       "\t\t}\n",
       "\tdefault:\n",
       "\t    var toinsert = OutputArea.append_map[type].apply(\n",
       "\t\toa, [val, {}, selector]\n",
       "\t    );\n",
       "\t    $(container).empty().append(toinsert.contents());\n",
       "\t    selector.remove();\n",
       "\t}\n",
       "    }\n",
       "\n",
       "\n",
       "    $(document).ready(function() {\n",
       "\tfunction initComm(evt, data) {\n",
       "\t    var comm_manager = data.kernel.comm_manager;\n",
       "        //_.extend(comm_manager.targets, require(\"widgets/js/widget\"))\n",
       "\t    comm_manager.register_target(\"Signal\", function (comm) {\n",
       "            comm.on_msg(function (msg) {\n",
       "                var val = msg.content.data.value;\n",
       "                $(\".signal-\" + comm.comm_id).each(function() {\n",
       "                var type = $(this).data(\"type\");\n",
       "                if (typeof(val[type]) !== \"undefined\" && val[type] !== null) {\n",
       "                    redrawValue(this, type, val[type], type);\n",
       "                }\n",
       "                });\n",
       "                delete val;\n",
       "                delete msg.content.data.value;\n",
       "            });\n",
       "\t    });\n",
       "\n",
       "\t    // coordingate with Comm and redraw Signals\n",
       "\t    // XXX: Test using Reactive here to improve performance\n",
       "\t    $([IPython.events]).on(\n",
       "\t\t'output_appended.OutputArea', function (event, type, value, md, toinsert) {\n",
       "\t\t    if (md && md.reactive) {\n",
       "                // console.log(md.comm_id);\n",
       "                toinsert.addClass(\"signal-\" + md.comm_id);\n",
       "                toinsert.data(\"type\", type);\n",
       "                // Signal back indicating the mimetype required\n",
       "                var comm_manager = IPython.notebook.kernel.comm_manager;\n",
       "                var comm = comm_manager.comms[md.comm_id];\n",
       "                comm.then(function (c) {\n",
       "                    c.send({action: \"subscribe_mime\",\n",
       "                       mime: type});\n",
       "                    toinsert.bind(\"destroyed\", function() {\n",
       "                        c.send({action: \"unsubscribe_mime\",\n",
       "                               mime: type});\n",
       "                    });\n",
       "                })\n",
       "\t\t    }\n",
       "\t    });\n",
       "\t}\n",
       "\n",
       "\ttry {\n",
       "\t    // try to initialize right away. otherwise, wait on the status_started event.\n",
       "\t    initComm(undefined, IPython.notebook);\n",
       "\t} catch (e) {\n",
       "\t    $([IPython.events]).on('kernel_created.Kernel kernel_created.Session', initComm);\n",
       "\t}\n",
       "    });\n",
       "})(IPython, jQuery, _, MathJax);\n",
       "</script>\n",
       "    <script>\n",
       "        window.interactLoadedFlag = true\n",
       "       $(\"#interact-js-shim\").bind(\"destroyed\", function () {\n",
       "           if (window.interactLoadedFlag) {\n",
       "               console.warn(\"JavaScript required by Interact will be removed if you remove this cell or run using Interact more than once.\")\n",
       "           }\n",
       "       })\n",
       "       $([IPython.events]).on(\"kernel_starting.Kernel kernel_restarting.Kernel\", function () { window.interactLoadedFlag = false })\n",
       "   </script>\n",
       "</div>"
      ]
     },
     "metadata": {},
     "output_type": "display_data"
    }
   ],
   "source": [
    "using Interact"
   ]
  },
  {
   "cell_type": "markdown",
   "metadata": {},
   "source": [
    "## Apsolutna i relativna pogreška\n",
    "\n",
    "Neka je $\\alpha$ aproksimacija za $a$. Tada vrijedi\n",
    "\n",
    "$$err=|a-\\alpha| \\\\  relerr=\\frac{err}{|a|}=\\frac{|a-\\alpha|}{|a|}.$$"
   ]
  },
  {
   "cell_type": "code",
   "execution_count": 2,
   "metadata": {},
   "outputs": [
    {
     "data": {
      "application/vnd.jupyter.widget-view+json": {
       "model_id": "4526008b-e4bd-47bb-984d-d6889fac9ba0",
       "version_major": 2,
       "version_minor": 0
      }
     },
     "metadata": {},
     "output_type": "display_data"
    },
    {
     "data": {
      "text/html": [],
      "text/plain": [
       "Interact.Options{:SelectionSlider,Float64}(1: \"input\" = 7.5 Float64 , \"α\", 7.5, \"7.5\", 251, Interact.OptionDict(DataStructures.OrderedDict(\"5.0\"=>5.0,\"5.01\"=>5.01,\"5.02\"=>5.02,\"5.03\"=>5.03,\"5.04\"=>5.04,\"5.05\"=>5.05,\"5.06\"=>5.06,\"5.07\"=>5.07,\"5.08\"=>5.08,\"5.09\"=>5.09…), Dict(5.02=>\"5.02\",7.91=>\"7.91\",9.79=>\"9.79\",9.83=>\"9.83\",9.84=>\"9.84\",8.66=>\"8.66\",8.95=>\"8.95\",9.38=>\"9.38\",7.19=>\"7.19\",7.4=>\"7.4\"…)), Any[], Any[], true, \"horizontal\")"
      ]
     },
     "metadata": {},
     "output_type": "display_data"
    },
    {
     "data": {
      "text/plain": [
       "(7.5, 2.5, 0.5)"
      ]
     },
     "execution_count": 2,
     "metadata": {
      "comm_id": "427e60b8-c5f8-4aca-be68-a86f7c5f1a37",
      "reactive": true
     },
     "output_type": "execute_result"
    }
   ],
   "source": [
    "a=5.0\n",
    "@manipulate for α=a:0.01:2a\n",
    "    err=abs(a-α)\n",
    "    relerr=err/abs(a)\n",
    "    α, err, relerr\n",
    "end"
   ]
  },
  {
   "cell_type": "markdown",
   "metadata": {},
   "source": [
    "## Posebne vrijednosti (_special quantities_) $0$, $-0$, `Inf` i `NaN`\n",
    "\n",
    "Vidi \n",
    "[David Goldberg, What Every Computer Scientist Should Know About Floating-Point Arithmetic](https://docs.oracle.com/cd/E19957-01/806-3568/ncg_goldberg.html)."
   ]
  },
  {
   "cell_type": "markdown",
   "metadata": {},
   "source": [
    "Nula ima predznak:"
   ]
  },
  {
   "cell_type": "code",
   "execution_count": 3,
   "metadata": {},
   "outputs": [
    {
     "data": {
      "text/plain": [
       "(-0.0, true)"
      ]
     },
     "execution_count": 3,
     "metadata": {},
     "output_type": "execute_result"
    }
   ],
   "source": [
    "a=1.0\n",
    "b=0.0\n",
    "c=-b\n",
    "c,b==c"
   ]
  },
  {
   "cell_type": "code",
   "execution_count": 4,
   "metadata": {},
   "outputs": [
    {
     "data": {
      "text/plain": [
       "(false, true)"
      ]
     },
     "execution_count": 4,
     "metadata": {},
     "output_type": "execute_result"
    }
   ],
   "source": [
    "d=a/b\n",
    "e=a/c\n",
    "d==e, 1/d==1/e"
   ]
  },
  {
   "cell_type": "code",
   "execution_count": 5,
   "metadata": {},
   "outputs": [
    {
     "data": {
      "text/plain": [
       "NaN"
      ]
     },
     "execution_count": 5,
     "metadata": {},
     "output_type": "execute_result"
    }
   ],
   "source": [
    "b/c"
   ]
  },
  {
   "cell_type": "markdown",
   "metadata": {},
   "source": [
    "## Točnost stroja $\\varepsilon$\n",
    "\n",
    "Najmanji broj takav da je $1+\\varepsilon\\neq 1$ "
   ]
  },
  {
   "cell_type": "code",
   "execution_count": 6,
   "metadata": {},
   "outputs": [
    {
     "name": "stdout",
     "output_type": "stream",
     "text": [
      "a = a / 2 = 1.0\n",
      "a = a / 2 = 0.5\n",
      "a = a / 2 = 0.25\n",
      "a = a / 2 = 0.125\n",
      "a = a / 2 = 0.0625\n",
      "a = a / 2 = 0.03125\n",
      "a = a / 2 = 0.015625\n",
      "a = a / 2 = 0.0078125\n",
      "a = a / 2 = 0.00390625\n",
      "a = a / 2 = 0.001953125\n",
      "a = a / 2 = 0.0009765625\n",
      "a = a / 2 = 0.00048828125\n",
      "a = a / 2 = 0.000244140625\n",
      "a = a / 2 = 0.0001220703125\n",
      "a = a / 2 = 6.103515625e-5\n",
      "a = a / 2 = 3.0517578125e-5\n",
      "a = a / 2 = 1.52587890625e-5\n",
      "a = a / 2 = 7.62939453125e-6\n",
      "a = a / 2 = 3.814697265625e-6\n",
      "a = a / 2 = 1.9073486328125e-6\n",
      "a = a / 2 = 9.5367431640625e-7\n",
      "a = a / 2 = 4.76837158203125e-7\n",
      "a = a / 2 = 2.384185791015625e-7\n",
      "a = a / 2 = 1.1920928955078125e-7\n",
      "a = a / 2 = 5.960464477539063e-8\n",
      "a = a / 2 = 2.9802322387695312e-8\n",
      "a = a / 2 = 1.4901161193847656e-8\n",
      "a = a / 2 = 7.450580596923828e-9\n",
      "a = a / 2 = 3.725290298461914e-9\n",
      "a = a / 2 = 1.862645149230957e-9\n",
      "a = a / 2 = 9.313225746154785e-10\n",
      "a = a / 2 = 4.656612873077393e-10\n",
      "a = a / 2 = 2.3283064365386963e-10\n",
      "a = a / 2 = 1.1641532182693481e-10\n",
      "a = a / 2 = 5.820766091346741e-11\n",
      "a = a / 2 = 2.9103830456733704e-11\n",
      "a = a / 2 = 1.4551915228366852e-11\n",
      "a = a / 2 = 7.275957614183426e-12\n",
      "a = a / 2 = 3.637978807091713e-12\n",
      "a = a / 2 = 1.8189894035458565e-12\n",
      "a = a / 2 = 9.094947017729282e-13\n",
      "a = a / 2 = 4.547473508864641e-13\n",
      "a = a / 2 = 2.2737367544323206e-13\n",
      "a = a / 2 = 1.1368683772161603e-13\n",
      "a = a / 2 = 5.684341886080802e-14\n",
      "a = a / 2 = 2.842170943040401e-14\n",
      "a = a / 2 = 1.4210854715202004e-14\n",
      "a = a / 2 = 7.105427357601002e-15\n",
      "a = a / 2 = 3.552713678800501e-15\n",
      "a = a / 2 = 1.7763568394002505e-15\n",
      "a = a / 2 = 8.881784197001252e-16\n",
      "a = a / 2 = 4.440892098500626e-16\n",
      "a = a / 2 = 2.220446049250313e-16\n",
      "a = a / 2 = 1.1102230246251565e-16\n"
     ]
    },
    {
     "data": {
      "text/plain": [
       "1.1102230246251565e-16"
      ]
     },
     "execution_count": 6,
     "metadata": {},
     "output_type": "execute_result"
    }
   ],
   "source": [
    "b=1.0\n",
    "a=2.0\n",
    "while (b+a)!=b\n",
    "    @show a=a/2\n",
    "end\n",
    "a"
   ]
  },
  {
   "cell_type": "code",
   "execution_count": 7,
   "metadata": {},
   "outputs": [
    {
     "data": {
      "text/plain": [
       "true"
      ]
     },
     "execution_count": 7,
     "metadata": {},
     "output_type": "execute_result"
    }
   ],
   "source": [
    "1+a==1.0"
   ]
  },
  {
   "cell_type": "code",
   "execution_count": 8,
   "metadata": {},
   "outputs": [
    {
     "data": {
      "text/plain": [
       "(2.220446049250313e-16, false)"
      ]
     },
     "execution_count": 8,
     "metadata": {},
     "output_type": "execute_result"
    }
   ],
   "source": [
    "2a, 1+2a==1.0"
   ]
  },
  {
   "cell_type": "markdown",
   "metadata": {},
   "source": [
    "Programi imaju ugrađenu naredbu koja daje $\\varepsilon$"
   ]
  },
  {
   "cell_type": "code",
   "execution_count": 9,
   "metadata": {},
   "outputs": [
    {
     "data": {
      "text/plain": [
       "2.220446049250313e-16"
      ]
     },
     "execution_count": 9,
     "metadata": {},
     "output_type": "execute_result"
    }
   ],
   "source": [
    "eps()"
   ]
  },
  {
   "cell_type": "code",
   "execution_count": 10,
   "metadata": {},
   "outputs": [
    {
     "data": {
      "text/plain": [
       "2.842170943040401e-14"
      ]
     },
     "execution_count": 10,
     "metadata": {},
     "output_type": "execute_result"
    }
   ],
   "source": [
    "# Što je ovo?\n",
    "eps(200.0)"
   ]
  },
  {
   "cell_type": "code",
   "execution_count": 11,
   "metadata": {},
   "outputs": [
    {
     "data": {
      "text/html": [
       "9 methods for generic function <b>eps</b>:<ul><li> eps(t::<b>Base.Dates.Time</b>) at <a href=\"https://github.com/JuliaLang/julia/tree/903644385b91ed8d95e5e3a5716c089dd1f1b08a/base/dates/types.jl#L331\" target=\"_blank\">dates\\types.jl:331</a></li> <li> eps(dt::<b>Date</b>) at <a href=\"https://github.com/JuliaLang/julia/tree/903644385b91ed8d95e5e3a5716c089dd1f1b08a/base/dates/types.jl#L330\" target=\"_blank\">dates\\types.jl:330</a></li> <li> eps(dt::<b>DateTime</b>) at <a href=\"https://github.com/JuliaLang/julia/tree/903644385b91ed8d95e5e3a5716c089dd1f1b08a/base/dates/types.jl#L329\" target=\"_blank\">dates\\types.jl:329</a></li> <li> eps() at <a href=\"https://github.com/JuliaLang/julia/tree/903644385b91ed8d95e5e3a5716c089dd1f1b08a/base/float.jl#L715\" target=\"_blank\">float.jl:715</a></li> <li> eps(x::<b>AbstractFloat</b>) at <a href=\"https://github.com/JuliaLang/julia/tree/903644385b91ed8d95e5e3a5716c089dd1f1b08a/base/float.jl#L711\" target=\"_blank\">float.jl:711</a></li> <li> eps(::<b>Type{Float16}</b>) at <a href=\"https://github.com/JuliaLang/julia/tree/903644385b91ed8d95e5e3a5716c089dd1f1b08a/base/float.jl#L712\" target=\"_blank\">float.jl:712</a></li> <li> eps(::<b>Type{Float32}</b>) at <a href=\"https://github.com/JuliaLang/julia/tree/903644385b91ed8d95e5e3a5716c089dd1f1b08a/base/float.jl#L713\" target=\"_blank\">float.jl:713</a></li> <li> eps(::<b>Type{Float64}</b>) at <a href=\"https://github.com/JuliaLang/julia/tree/903644385b91ed8d95e5e3a5716c089dd1f1b08a/base/float.jl#L714\" target=\"_blank\">float.jl:714</a></li> <li> eps(::<b>Type{BigFloat}</b>) at <a href=\"https://github.com/JuliaLang/julia/tree/903644385b91ed8d95e5e3a5716c089dd1f1b08a/base/mpfr.jl#L854\" target=\"_blank\">mpfr.jl:854</a></li> </ul>"
      ],
      "text/plain": [
       "# 9 methods for generic function \"eps\":\n",
       "eps(t::Base.Dates.Time) in Base.Dates at dates\\types.jl:331\n",
       "eps(dt::Date) in Base.Dates at dates\\types.jl:330\n",
       "eps(dt::DateTime) in Base.Dates at dates\\types.jl:329\n",
       "eps() in Base at float.jl:715\n",
       "eps(x::AbstractFloat) in Base at float.jl:711\n",
       "eps(::Type{Float16}) in Base at float.jl:712\n",
       "eps(::Type{Float32}) in Base at float.jl:713\n",
       "eps(::Type{Float64}) in Base at float.jl:714\n",
       "eps(::Type{BigFloat}) in Base.MPFR at mpfr.jl:854"
      ]
     },
     "execution_count": 11,
     "metadata": {},
     "output_type": "execute_result"
    }
   ],
   "source": [
    "methods(eps)"
   ]
  },
  {
   "cell_type": "code",
   "execution_count": 12,
   "metadata": {},
   "outputs": [
    {
     "data": {
      "text/plain": [
       "(2.220446049250313e-16, 2.220446049250313e-16)"
      ]
     },
     "execution_count": 12,
     "metadata": {},
     "output_type": "execute_result"
    }
   ],
   "source": [
    "eps(Float64), 2.0^(-52)"
   ]
  },
  {
   "cell_type": "code",
   "execution_count": 13,
   "metadata": {},
   "outputs": [
    {
     "data": {
      "text/plain": [
       "(1.1920929f-7, 1.1920928955078125e-7)"
      ]
     },
     "execution_count": 13,
     "metadata": {},
     "output_type": "execute_result"
    }
   ],
   "source": [
    "eps(Float32), 2.0^(-23)"
   ]
  },
  {
   "cell_type": "code",
   "execution_count": 14,
   "metadata": {},
   "outputs": [
    {
     "data": {
      "text/plain": [
       "(Float16(0.000977), 0.0009765625)"
      ]
     },
     "execution_count": 14,
     "metadata": {},
     "output_type": "execute_result"
    }
   ],
   "source": [
    "eps(Float16), 2.0^(-10)"
   ]
  },
  {
   "cell_type": "code",
   "execution_count": 15,
   "metadata": {},
   "outputs": [
    {
     "data": {
      "text/plain": [
       "(1.727233711018888925077270372560079914223200072887256277004740694033718360632485e-77, 1.727233711018889e-77)"
      ]
     },
     "execution_count": 15,
     "metadata": {},
     "output_type": "execute_result"
    }
   ],
   "source": [
    "eps(BigFloat), 2.0^(-255)"
   ]
  },
  {
   "cell_type": "markdown",
   "metadata": {},
   "source": [
    "## Katastrofalno kraćenje (_catastrophic cancellation_)\n",
    "\n",
    "U egzaktnoj aritmetici kvadratna jednadžba\n",
    "\n",
    "$$ ax^2 + bx+c=0$$\n",
    "\n",
    "ima rješenja\n",
    "\n",
    "\\begin{align*}\n",
    "x_1&=\\frac{-b-\\sqrt{b^2-4ac}}{2a} \\\\\n",
    "x_2&=\\frac{-b+\\sqrt{b^2-4ac}}{2a}\\equiv \\frac{-b+\\sqrt{b^2-4ac}}{2a}\\cdot \\frac{-b-\\sqrt{b^2-4ac}}{-b-\\sqrt{b^2-4ac}}\n",
    "\\\\ &= \\frac{2c}{-b-\\sqrt{b^2-4ac}}=x_3\n",
    "\\end{align*}\n"
   ]
  },
  {
   "cell_type": "code",
   "execution_count": 16,
   "metadata": {},
   "outputs": [
    {
     "data": {
      "text/plain": [
       "(-6.172839449999997e7, -3.3527612686157227e-8, -3.240000029484002e-8)"
      ]
     },
     "execution_count": 16,
     "metadata": {},
     "output_type": "execute_result"
    }
   ],
   "source": [
    "a=2.0\n",
    "b=123456789.0\n",
    "c=4.0\n",
    "\n",
    "x1=(-b-sqrt(b*b-4*a*c))/(2.0*a)\n",
    "x2=(-b+sqrt(b*b-4*a*c))/(2.0*a)\n",
    "x3=(2*c)/(-b-sqrt(b*b-4*a*c))\n",
    "x1,x2,x3"
   ]
  },
  {
   "cell_type": "markdown",
   "metadata": {},
   "source": [
    "Provjerimo s `BigFloat`:"
   ]
  },
  {
   "cell_type": "code",
   "execution_count": 17,
   "metadata": {},
   "outputs": [
    {
     "data": {
      "text/plain": [
       "-3.240000029484001968915648868258452417675753633383540995167795107129921671968718e-08"
      ]
     },
     "execution_count": 17,
     "metadata": {},
     "output_type": "execute_result"
    }
   ],
   "source": [
    "a=BigFloat(a)\n",
    "b=BigFloat(b)\n",
    "c=BigFloat(c)\n",
    "x2=(-b+sqrt(b*b-4*a*c))/(2.0*a)"
   ]
  },
  {
   "cell_type": "markdown",
   "metadata": {
    "collapsed": true
   },
   "source": [
    "Još jedan primjer:"
   ]
  },
  {
   "cell_type": "code",
   "execution_count": 18,
   "metadata": {},
   "outputs": [
    {
     "data": {
      "text/plain": [
       "0.0"
      ]
     },
     "execution_count": 18,
     "metadata": {},
     "output_type": "execute_result"
    }
   ],
   "source": [
    "x=1e-10\n",
    "tan(x)-sin(x)"
   ]
  },
  {
   "cell_type": "markdown",
   "metadata": {},
   "source": [
    "Međutim,\n",
    "trignometrijski indentiti daju:\n",
    "\n",
    "\\begin{align*}\n",
    "\\tan x - \\sin x & = \\tan x (1 - \\cos x ) \n",
    "= \\tan x (1-\\cos x)\\frac{1+\\cos x}{1+\\cos x}\\\\ & = \\tan x \\frac{1-\\cos^2 x}{1+\\cos x} \\\\\n",
    "&= \\tan x \\sin^2 x \\frac{1}{1+\\cos x},\n",
    "\\end{align*}\n",
    "\n",
    "a Taylorova formula daje:\n",
    "\n",
    "\\begin{align*}\n",
    "\\tan x &= x + \\frac{x^3}{3} + \\frac{2x^5}{15} + O(x^7) \\\\\n",
    "\\sin x &= x -\\frac{x^3}{6} + \\frac{x^5}{120}+O(x^7) \\\\\n",
    "\\tan x - \\sin x &= \\frac{x^3}{2} + \\frac{7x^5}{120} +O(x^7)\n",
    "\\end{align*}\n",
    "\n",
    "Obe formule daju potpuno točan rezultat:"
   ]
  },
  {
   "cell_type": "code",
   "execution_count": 19,
   "metadata": {},
   "outputs": [
    {
     "data": {
      "text/plain": [
       "(5.0e-31, 5.0e-31)"
      ]
     },
     "execution_count": 19,
     "metadata": {},
     "output_type": "execute_result"
    }
   ],
   "source": [
    "tan(x)*sin(x)^2/(1+cos(x)), x^3/2+7*x^5/120"
   ]
  },
  {
   "cell_type": "code",
   "execution_count": null,
   "metadata": {
    "collapsed": true
   },
   "outputs": [],
   "source": []
  }
 ],
 "metadata": {
  "kernelspec": {
   "display_name": "Julia 0.6.0",
   "language": "julia",
   "name": "julia-0.6"
  },
  "language_info": {
   "file_extension": ".jl",
   "mimetype": "application/julia",
   "name": "julia",
   "version": "0.6.0"
  }
 },
 "nbformat": 4,
 "nbformat_minor": 1
}
