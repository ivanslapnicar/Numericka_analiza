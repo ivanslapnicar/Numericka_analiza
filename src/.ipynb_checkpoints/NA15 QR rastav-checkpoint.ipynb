{
 "cells": [
  {
   "cell_type": "markdown",
   "metadata": {},
   "source": [
    "# QR rastav\n",
    "\n",
    "\n",
    "_QR rastav_ matrice $A$ tipa $m\\times n$,  $m\\geq n$,\n",
    "glasi\n",
    "\n",
    "$$\n",
    "A=QR, \n",
    "$$\n",
    "\n",
    "pri čemu je $Q$ _ortonormirana matrica_ dimenzije $m\\times m$, odnosno\n",
    "\n",
    "$$\n",
    "Q^TQ=Q Q^T=I,\n",
    "$$\n",
    "\n",
    "a $R$ je $m\\times n$ gornje trokutasta matrica.\n",
    "\n",
    "Ortonormiranu matricu kraće zovemo i _ortogonalna matrica_.\n",
    "\n",
    "Na primjer,\n",
    "\n",
    "\\begin{align*}\n",
    "\\begin{bmatrix} a_{11} & a_{12} & a_{13} \\\\\n",
    "a_{21} & a_{22} & a_{23} \\\\\n",
    "a_{31} & a_{32} & a_{33} \\\\\n",
    "a_{41} & a_{42} & a_{43} \\\\\n",
    "a_{51} & a_{52} & a_{53}\n",
    "\\end{bmatrix}=\n",
    "\\begin{bmatrix}\n",
    "q_{11} & q_{12} & q_{13} & q_{14} & q_{15} \\\\\n",
    "q_{21} & q_{22} & q_{23} & q_{24} & q_{25} \\\\\n",
    "q_{31} & q_{32} & q_{33} & q_{34} & q_{35} \\\\\n",
    "q_{41} & q_{42} & q_{43} & q_{44} & q_{45} \\\\\n",
    "q_{51} & q_{52} & q_{53} & q_{54} & q_{55}\n",
    "\\end{bmatrix}\n",
    "\\begin{bmatrix}\n",
    "r_{11} & r_{12} & r_{13} \\\\\n",
    "0 & r_{22} & r_{23} \\\\\n",
    "0 & 0 & r_{33} \\\\\n",
    "0 & 0 & 0 \\\\\n",
    "0 & 0 & 0 \n",
    "\\end{bmatrix}. \\tag{1}\n",
    "\\end{align*}\n",
    "\n",
    "S (1) je definiran i _ekonomični QR rastav_\n",
    "\n",
    "\\begin{align*}\n",
    "\\begin{bmatrix} a_{11} & a_{12} & a_{13} \\\\\n",
    "a_{21} & a_{22} & a_{23} \\\\\n",
    "a_{31} & a_{32} & a_{33} \\\\\n",
    "a_{41} & a_{42} & a_{43} \\\\\n",
    "a_{51} & a_{52} & a_{53}\n",
    "\\end{bmatrix}=\n",
    "\\begin{bmatrix}\n",
    "q_{11} & q_{12} & q_{13} \\\\\n",
    "q_{21} & q_{22} & q_{23} \\\\\n",
    "q_{31} & q_{32} & q_{33} \\\\\n",
    "q_{41} & q_{42} & q_{43} \\\\\n",
    "q_{51} & q_{52} & q_{53}\n",
    "\\end{bmatrix}\n",
    "\\begin{bmatrix}\n",
    "r_{11} & r_{12} & r_{13} \\\\\n",
    "0 & r_{22} & r_{23} \\\\\n",
    "0 & 0 & r_{33}\n",
    "\\end{bmatrix}. \\tag{2}\n",
    "\\end{align*}\n",
    "\n",
    "\n",
    "Izjednačavanje stupaca počevši od prvog daje: \n",
    "\n",
    "\\begin{align*}\n",
    "t&=a_{:1}\\\\\n",
    "r_{11}&=\\|t\\|_2 \\\\\n",
    "q_{:1}&=t\\frac{1}{r_{11}}\\\\\n",
    "r_{12}&= q_{:1}^Ta_{:2} \\\\\n",
    "t&=a_{:2}-q_{:1}r_{12} \\\\\n",
    "r_{22}&=\\|t\\|_2 \\\\\n",
    "q_{:2}&=t\\frac{1}{r_{22}} \\\\\n",
    "r_{13}&=q_{:1}^Ta_{:3} \\\\\n",
    "r_{23}&=q_{:2}^Ta_{:3} \\\\\n",
    "t&=a_{:3}-q_{:1}r_{13}-q_{:2}r_{23}\\\\\n",
    "r_{33}&=\\|t\\|_2 \\\\\n",
    "q_{:3}&=t\\frac{1}{r_{33}}.\n",
    "\\end{align*}\n",
    "\n",
    "Indukcijom slijedi _Gram-Schmidtov postupak ortogonalizacije_."
   ]
  },
  {
   "cell_type": "code",
   "execution_count": 1,
   "metadata": {},
   "outputs": [
    {
     "data": {
      "text/plain": [
       "myGramSchmidtQR (generic function with 1 method)"
      ]
     },
     "execution_count": 1,
     "metadata": {},
     "output_type": "execute_result"
    }
   ],
   "source": [
    "using LinearAlgebra\n",
    "function myGramSchmidtQR(A::Array)\n",
    "    m,n=size(A)\n",
    "    R=zeros(n,n)\n",
    "    Q=Array{Float64}(undef,m,n)\n",
    "    R[1,1]=norm(A[:,1])\n",
    "    Q[:,1]=A[:,1]/R[1,1]\n",
    "    for k=2:n\n",
    "        for i=1:k-1\n",
    "            R[i,k]=Q[:,i]⋅A[:,k]\n",
    "        end\n",
    "        t=A[:,k]-sum([R[i,k]*Q[:,i] for i=1:k-1])\n",
    "        R[k,k]=norm(t)\n",
    "        Q[:,k]=t/R[k,k]\n",
    "    end\n",
    "    Q,R\n",
    "end "
   ]
  },
  {
   "cell_type": "code",
   "execution_count": 2,
   "metadata": {},
   "outputs": [
    {
     "data": {
      "text/plain": [
       "8×5 Array{Float64,2}:\n",
       " 0.768448   0.26864   0.275819  0.20923   0.356221\n",
       " 0.940515   0.108871  0.446568  0.918165  0.900925\n",
       " 0.673959   0.163666  0.582318  0.614255  0.529253\n",
       " 0.395453   0.473017  0.255981  0.802665  0.031831\n",
       " 0.313244   0.865412  0.70586   0.555668  0.900681\n",
       " 0.662555   0.617492  0.291978  0.940782  0.940299\n",
       " 0.586022   0.285698  0.281066  0.48      0.621379\n",
       " 0.0521332  0.463847  0.792931  0.790201  0.348173"
      ]
     },
     "execution_count": 2,
     "metadata": {},
     "output_type": "execute_result"
    }
   ],
   "source": [
    "import Random\n",
    "Random.seed!(123)\n",
    "A=rand(8,5)"
   ]
  },
  {
   "cell_type": "code",
   "execution_count": 3,
   "metadata": {},
   "outputs": [
    {
     "data": {
      "text/plain": [
       "([0.445979 -0.112473 … -0.581217 -0.414126; 0.545841 -0.354798 … 0.296518 0.303573; … ; 0.340106 -0.00596216 … -0.076101 0.141458; 0.0302562 0.432357 … 0.25137 -0.128359], [1.72306 0.857781 … 1.66889 1.61212; 0.0 1.01281 … 0.760568 0.603988; … ; 0.0 0.0 … 0.686493 -0.00271451; 0.0 0.0 … 0.0 0.652889])"
      ]
     },
     "execution_count": 3,
     "metadata": {},
     "output_type": "execute_result"
    }
   ],
   "source": [
    "Q,R=myGramSchmidtQR(A)"
   ]
  },
  {
   "cell_type": "code",
   "execution_count": 4,
   "metadata": {},
   "outputs": [
    {
     "data": {
      "text/plain": [
       "8×5 Array{Float64,2}:\n",
       " 0.445979   -0.112473    -0.144567   -0.581217   -0.414126\n",
       " 0.545841   -0.354798     0.210356    0.296518    0.303573\n",
       " 0.391141   -0.169675     0.45213    -0.0982655  -0.123261\n",
       " 0.229507    0.272659    -0.24854     0.435716   -0.699857\n",
       " 0.181796    0.700501     0.0463297  -0.432191    0.268038\n",
       " 0.384523    0.284018    -0.440047    0.344953    0.350741\n",
       " 0.340106   -0.00596216  -0.0882082  -0.076101    0.141458\n",
       " 0.0302562   0.432357     0.681975    0.25137    -0.128359"
      ]
     },
     "execution_count": 4,
     "metadata": {},
     "output_type": "execute_result"
    }
   ],
   "source": [
    "Q"
   ]
  },
  {
   "cell_type": "code",
   "execution_count": 5,
   "metadata": {},
   "outputs": [
    {
     "data": {
      "text/plain": [
       "5×5 Array{Float64,2}:\n",
       " 1.0           1.75748e-16   1.92453e-16   3.41335e-16   1.11022e-16\n",
       " 1.75748e-16   1.0          -1.1918e-16   -2.4266e-16   -2.22045e-16\n",
       " 1.92453e-16  -1.1918e-16    1.0          -2.02216e-16  -2.77556e-16\n",
       " 3.41335e-16  -2.4266e-16   -2.02216e-16   1.0          -6.10623e-16\n",
       " 1.11022e-16  -2.22045e-16  -2.77556e-16  -6.10623e-16   1.0        "
      ]
     },
     "execution_count": 5,
     "metadata": {},
     "output_type": "execute_result"
    }
   ],
   "source": [
    "Q'*Q"
   ]
  },
  {
   "cell_type": "code",
   "execution_count": 6,
   "metadata": {},
   "outputs": [
    {
     "data": {
      "text/plain": [
       "5×5 Array{Float64,2}:\n",
       " 1.72306  0.857781  1.01346   1.66889    1.61212   \n",
       " 0.0      1.01281   0.700064  0.760568   0.603988  \n",
       " 0.0      0.0       0.67391   0.349435   0.179984  \n",
       " 0.0      0.0       0.0       0.686493  -0.00271451\n",
       " 0.0      0.0       0.0       0.0        0.652889  "
      ]
     },
     "execution_count": 6,
     "metadata": {},
     "output_type": "execute_result"
    }
   ],
   "source": [
    "R"
   ]
  },
  {
   "cell_type": "code",
   "execution_count": 7,
   "metadata": {},
   "outputs": [
    {
     "data": {
      "text/plain": [
       "8×5 Array{Float64,2}:\n",
       " 0.0   0.0           0.0           0.0           0.0        \n",
       " 0.0   2.77556e-17   5.55112e-17  -1.11022e-16   0.0        \n",
       " 0.0   0.0           0.0           0.0           0.0        \n",
       " 0.0   5.55112e-17   0.0           0.0          -2.77556e-17\n",
       " 0.0   0.0          -1.11022e-16  -1.11022e-16   0.0        \n",
       " 0.0   0.0           0.0          -1.11022e-16   0.0        \n",
       " 0.0   0.0           0.0           0.0           0.0        \n",
       " 0.0  -5.55112e-17   0.0           0.0           0.0        "
      ]
     },
     "execution_count": 7,
     "metadata": {},
     "output_type": "execute_result"
    }
   ],
   "source": [
    "# Rezidual\n",
    "A-Q*R"
   ]
  },
  {
   "cell_type": "markdown",
   "metadata": {},
   "source": [
    "Algoritam `myGramSchmidtQR()` je numerički nestabilan pa je bolje koristiti _modificirani Gram-Schmidtov algoritam_ ili _Householderove reflektore_ ili _Givensove rotacije_ (vidi [Matrix Computations, poglavlje 5][GVL13]).\n",
    "\n",
    "[GVL13]: https://books.google.hr/books?id=X5YfsuCWpxMC&printsec=frontcover&hl=hr#v=onepage&q&f=false \"G. Golub and C. F Van Loan, 'Matrix Computations', 4th Edition, John Hopkins, Baltimore, 2013\""
   ]
  },
  {
   "cell_type": "markdown",
   "metadata": {},
   "source": [
    "## Householderovi reflektori\n",
    "\n",
    "_QR rastav vektora_ $x$ jednak je\n",
    "\n",
    "$$\n",
    "H \\begin{bmatrix} x_1 \\\\ x_2 \\\\ \\vdots \\\\ x_m \n",
    "\\end{bmatrix}  =r,\n",
    "$$\n",
    "\n",
    "gdje je \n",
    "\n",
    "$$\n",
    "H=I - \\frac{2}{v^Tv}v v^T, \\qquad  \n",
    "v=\\begin{bmatrix}\n",
    "x_1\\pm \\|x\\|_2 \\\\ x_2 \\\\ x_3 \\\\ \\vdots \\\\ x_m\n",
    "\\end{bmatrix}.\n",
    "$$ \n",
    "\n",
    "_Householderov reflektor_ $H$ je _simetrična_ i _ortogonalna_ matrica (dokažite!). Ovisno o izboru predznaka u definicije vektora $v$ vrijedi\n",
    "\n",
    "$$\n",
    "r=\\begin{bmatrix} \\mp \\|x\\| \\\\ 0 \\\\ \\vdots \\\\ 0\n",
    "\\end{bmatrix}\n",
    "$$\n",
    "\n",
    "Zbog numeričke stabilnost se najčešće uzima\n",
    "\n",
    "$$\n",
    "v_1=x_1+\\mathop{\\mathrm{sign}} (x_1) \\|x\\|_2.\n",
    "$$\n",
    "\n",
    "Matrica $H$ se _ne računa eksplicitno_ već se produkt $Hx$ računa po formuli\n",
    "\n",
    "$$\n",
    "Hx=x-\\frac{2(v^Tx)}{v^Tv}v=x-\\frac{2 (v\\cdot x)}{v\\cdot v}v\n",
    "$$\n",
    "\n",
    "za koju je potrebno $O(6m)$ operacija."
   ]
  },
  {
   "cell_type": "code",
   "execution_count": 9,
   "metadata": {},
   "outputs": [
    {
     "data": {
      "text/plain": [
       "myHouseholderVector (generic function with 1 method)"
      ]
     },
     "execution_count": 9,
     "metadata": {},
     "output_type": "execute_result"
    }
   ],
   "source": [
    "function myHouseholderVector(x::Array)\n",
    "    # Racuna v\n",
    "    v=copy(x)\n",
    "    v[1]=x[1]+sign(x[1])*norm(x)\n",
    "    v\n",
    "end"
   ]
  },
  {
   "cell_type": "code",
   "execution_count": 10,
   "metadata": {},
   "outputs": [
    {
     "data": {
      "text/plain": [
       "8-element Array{Float64,1}:\n",
       " -1.5440972226125644    \n",
       "  1.1102230246251565e-16\n",
       "  1.3877787807814457e-17\n",
       "  1.3877787807814457e-17\n",
       "  1.1102230246251565e-16\n",
       "  1.1102230246251565e-16\n",
       "  6.938893903907228e-18 \n",
       "  1.1102230246251565e-16"
      ]
     },
     "execution_count": 10,
     "metadata": {},
     "output_type": "execute_result"
    }
   ],
   "source": [
    "x=rand(8)\n",
    "v=myHouseholderVector(x)\n",
    "β=(2/(v⋅v))*(v⋅x)\n",
    "x-β*v"
   ]
  },
  {
   "cell_type": "code",
   "execution_count": 11,
   "metadata": {},
   "outputs": [
    {
     "data": {
      "text/plain": [
       "8-element Array{Float64,1}:\n",
       " 0.9466965346845189 \n",
       " 0.5469042903016461 \n",
       " 0.12259443608179899\n",
       " 0.11036456366954162\n",
       " 0.5146798831667527 \n",
       " 0.6281723021414423 \n",
       " 0.03347554990547952\n",
       " 0.7078639932345305 "
      ]
     },
     "execution_count": 11,
     "metadata": {},
     "output_type": "execute_result"
    }
   ],
   "source": [
    "x"
   ]
  },
  {
   "cell_type": "code",
   "execution_count": 12,
   "metadata": {},
   "outputs": [
    {
     "data": {
      "text/plain": [
       "1.544097222612565"
      ]
     },
     "execution_count": 12,
     "metadata": {},
     "output_type": "execute_result"
    }
   ],
   "source": [
    "norm(x)"
   ]
  },
  {
   "cell_type": "markdown",
   "metadata": {},
   "source": [
    "QR rastav matrice se računa rekurzivnim QR rastavom vektora pomoću Householderovih reflektora:"
   ]
  },
  {
   "cell_type": "code",
   "execution_count": 13,
   "metadata": {},
   "outputs": [
    {
     "data": {
      "text/plain": [
       "myHouseholderQR (generic function with 1 method)"
      ]
     },
     "execution_count": 13,
     "metadata": {},
     "output_type": "execute_result"
    }
   ],
   "source": [
    "function myHouseholderQR(A1::Array)\n",
    "    # Racuna Q i R\n",
    "    A=copy(A1)\n",
    "    m,n=size(A)\n",
    "    Q=Matrix{Float64}(I,m,m) # eye\n",
    "    for k=1:n\n",
    "        v=myHouseholderVector(A[k:m,k])\n",
    "        β=(2/(v⋅v))*v\n",
    "        A[k:m,k:n]=A[k:m,k:n]-β*(v'*A[k:m,k:n])\n",
    "        Q[k:m,:]=Q[k:m,:]-β*(v'*Q[k:m,:])\n",
    "    end\n",
    "    R=triu(A)\n",
    "    Q',R\n",
    "end\n",
    "    "
   ]
  },
  {
   "cell_type": "code",
   "execution_count": 14,
   "metadata": {},
   "outputs": [
    {
     "data": {
      "text/plain": [
       "8×5 Array{Float64,2}:\n",
       " 0.768448   0.26864   0.275819  0.20923   0.356221\n",
       " 0.940515   0.108871  0.446568  0.918165  0.900925\n",
       " 0.673959   0.163666  0.582318  0.614255  0.529253\n",
       " 0.395453   0.473017  0.255981  0.802665  0.031831\n",
       " 0.313244   0.865412  0.70586   0.555668  0.900681\n",
       " 0.662555   0.617492  0.291978  0.940782  0.940299\n",
       " 0.586022   0.285698  0.281066  0.48      0.621379\n",
       " 0.0521332  0.463847  0.792931  0.790201  0.348173"
      ]
     },
     "execution_count": 14,
     "metadata": {},
     "output_type": "execute_result"
    }
   ],
   "source": [
    "A"
   ]
  },
  {
   "cell_type": "code",
   "execution_count": 15,
   "metadata": {},
   "outputs": [
    {
     "data": {
      "text/plain": [
       "([-0.445979 -0.112473 … -0.184609 0.445399; -0.545841 -0.354798 … -0.284531 0.161726; … ; -0.340106 -0.00596216 … 0.911612 0.0807266; -0.0302562 0.432357 … 0.0808767 0.47278], [-1.72306 -0.857781 … -1.66889 -1.61212; 0.0 1.01281 … 0.760568 0.603988; … ; 0.0 0.0 … 0.0 0.0; 0.0 0.0 … 0.0 0.0])"
      ]
     },
     "execution_count": 15,
     "metadata": {},
     "output_type": "execute_result"
    }
   ],
   "source": [
    "Q,R=myHouseholderQR(A)"
   ]
  },
  {
   "cell_type": "code",
   "execution_count": 16,
   "metadata": {},
   "outputs": [
    {
     "data": {
      "text/plain": [
       "8×5 Array{Float64,2}:\n",
       " -1.72306      -0.857781     -1.01346      -1.66889      -1.61212    \n",
       " -1.16367e-16   1.01281       0.700064      0.760568      0.603988   \n",
       "  5.11766e-17   3.83323e-17  -0.67391      -0.349435     -0.179984   \n",
       "  8.45621e-17   8.59941e-17   2.78295e-17  -0.686493      0.00271451 \n",
       "  1.58233e-16   1.63517e-16   1.11777e-16   1.2178e-16   -0.652889   \n",
       "  1.5773e-16    2.4082e-16    1.82188e-16   1.02916e-16   2.22045e-16\n",
       "  7.12178e-17   9.25087e-17   4.25446e-17   5.53655e-17   0.0        \n",
       " -4.60282e-17  -5.58089e-17  -4.70489e-17  -2.54873e-16  -2.77556e-17"
      ]
     },
     "execution_count": 16,
     "metadata": {},
     "output_type": "execute_result"
    }
   ],
   "source": [
    "Q'*A"
   ]
  },
  {
   "cell_type": "code",
   "execution_count": 17,
   "metadata": {},
   "outputs": [
    {
     "data": {
      "text/plain": [
       "8×5 Array{Float64,2}:\n",
       " -1.72306  -0.857781  -1.01346   -1.66889   -1.61212   \n",
       "  0.0       1.01281    0.700064   0.760568   0.603988  \n",
       "  0.0       0.0       -0.67391   -0.349435  -0.179984  \n",
       "  0.0       0.0        0.0       -0.686493   0.00271451\n",
       "  0.0       0.0        0.0        0.0       -0.652889  \n",
       "  0.0       0.0        0.0        0.0        0.0       \n",
       "  0.0       0.0        0.0        0.0        0.0       \n",
       "  0.0       0.0        0.0        0.0        0.0       "
      ]
     },
     "execution_count": 17,
     "metadata": {},
     "output_type": "execute_result"
    }
   ],
   "source": [
    "R"
   ]
  },
  {
   "cell_type": "code",
   "execution_count": 18,
   "metadata": {},
   "outputs": [
    {
     "data": {
      "text/plain": [
       "8×8 Array{Float64,2}:\n",
       "  1.0           4.99452e-17   7.24828e-18  …   1.01049e-17  -3.91191e-17\n",
       "  4.99452e-17   1.0           1.72057e-16      4.02516e-17  -4.44521e-17\n",
       "  7.24828e-18   1.72057e-16   1.0             -2.47066e-17   6.02908e-17\n",
       " -1.5599e-16    2.23633e-16   5.29867e-17      5.42868e-17   2.42811e-16\n",
       " -1.34847e-16   1.76465e-16  -1.69376e-17      4.00354e-17   1.34987e-16\n",
       " -1.03196e-16   3.29746e-16   4.17419e-18  …   2.03739e-17   1.5538e-16 \n",
       "  1.01049e-17   4.02516e-17  -2.47066e-17      1.0           3.88409e-17\n",
       " -3.91191e-17  -4.44521e-17   6.02908e-17      3.88409e-17   1.0        "
      ]
     },
     "execution_count": 18,
     "metadata": {},
     "output_type": "execute_result"
    }
   ],
   "source": [
    "Q'*Q"
   ]
  },
  {
   "cell_type": "markdown",
   "metadata": {},
   "source": [
    "Program `myHouseholderQR()` je ilustrativan. Profesionalni programi imaju sljedeća svojstva:\n",
    "\n",
    "* računaju s blok matricama (uobičajena dimenzija bloka je 32 ili 64),\n",
    "* izračuna se vektor $\\hat v=v/v_1$. Vrijedi $\\hat v_1=1$, dok se ostali elemenenti vektora $\\hat v$ spremaju u strogi donji trokut matrice $A$,\n",
    "* ako se traži matrica $Q$, akumulacija se vrši unatrag koristeći spremljene vektore $v$ (tako se smanjuje broj operacija),\n",
    "* postoji opcija vraćanja ekonomičnog rastava,\n",
    "* postoji opcija računanja s _pivotiranjem_ - u svakom koraku se na prvo mjesto dovede stupac s najvećom normom pa je \n",
    "\n",
    "$$\n",
    "AP=QR.\n",
    "$$\n",
    "\n",
    "Vrijedi\n",
    "\n",
    "$$\n",
    "|R_{kk}|\\geq |R_{k+1,k+1}|\n",
    "$$\n",
    "\n",
    "pa se može utvrditi i numerički rank matrice."
   ]
  },
  {
   "cell_type": "code",
   "execution_count": 17,
   "metadata": {},
   "outputs": [],
   "source": [
    "# ?qr"
   ]
  },
  {
   "cell_type": "code",
   "execution_count": 19,
   "metadata": {},
   "outputs": [
    {
     "data": {
      "text/plain": [
       "LinearAlgebra.QRCompactWY{Float64,Array{Float64,2}}\n",
       "Q factor:\n",
       "8×8 LinearAlgebra.QRCompactWYQ{Float64,Array{Float64,2}}:\n",
       " -0.445979   -0.112473     0.144567   …   0.160558  -0.184609    0.445399 \n",
       " -0.545841   -0.354798    -0.210356      -0.494706  -0.284531    0.161726 \n",
       " -0.391141   -0.169675    -0.45213        0.385539   0.0148903  -0.66339  \n",
       " -0.229507    0.272659     0.24854       -0.295448   0.0184688  -0.209603 \n",
       " -0.181796    0.700501    -0.0463297     -0.362887  -0.160778   -0.240692 \n",
       " -0.384523    0.284018     0.440047   …   0.558011  -0.144818    0.0589447\n",
       " -0.340106   -0.00596216   0.0882082     -0.114703   0.911612    0.0807266\n",
       " -0.0302562   0.432357    -0.681975       0.193228   0.0808767   0.47278  \n",
       "R factor:\n",
       "5×5 Array{Float64,2}:\n",
       " -1.72306  -0.857781  -1.01346   -1.66889   -1.61212   \n",
       "  0.0       1.01281    0.700064   0.760568   0.603988  \n",
       "  0.0       0.0       -0.67391   -0.349435  -0.179984  \n",
       "  0.0       0.0        0.0       -0.686493   0.00271451\n",
       "  0.0       0.0        0.0        0.0       -0.652889  "
      ]
     },
     "execution_count": 19,
     "metadata": {},
     "output_type": "execute_result"
    }
   ],
   "source": [
    "F=qr(A)"
   ]
  },
  {
   "cell_type": "code",
   "execution_count": 20,
   "metadata": {},
   "outputs": [
    {
     "data": {
      "text/plain": [
       "8×5 Array{Float64,2}:\n",
       " -1.72306      -0.857781     -1.01346      -1.66889      -1.61212    \n",
       "  0.0           1.01281       0.700064      0.760568      0.603988   \n",
       " -2.22045e-16  -1.38778e-16  -0.67391      -0.349435     -0.179984   \n",
       "  0.0           2.77556e-16  -2.22045e-16  -0.686493      0.00271451 \n",
       " -1.11022e-16   0.0           4.44089e-16  -2.22045e-16  -0.652889   \n",
       "  0.0           1.11022e-16   1.66533e-16   0.0           2.22045e-16\n",
       "  1.11022e-16  -5.55112e-17   5.55112e-17   0.0           1.11022e-16\n",
       " -1.66533e-16   1.11022e-16   0.0           0.0           0.0        "
      ]
     },
     "execution_count": 20,
     "metadata": {},
     "output_type": "execute_result"
    }
   ],
   "source": [
    "F.Q'*A"
   ]
  },
  {
   "cell_type": "code",
   "execution_count": 21,
   "metadata": {},
   "outputs": [
    {
     "data": {
      "text/plain": [
       "8×5 Array{Float64,2}:\n",
       " 0.768448   0.26864   0.275819  0.20923   0.356221\n",
       " 0.940515   0.108871  0.446568  0.918165  0.900925\n",
       " 0.673959   0.163666  0.582318  0.614255  0.529253\n",
       " 0.395453   0.473017  0.255981  0.802665  0.031831\n",
       " 0.313244   0.865412  0.70586   0.555668  0.900681\n",
       " 0.662555   0.617492  0.291978  0.940782  0.940299\n",
       " 0.586022   0.285698  0.281066  0.48      0.621379\n",
       " 0.0521332  0.463847  0.792931  0.790201  0.348173"
      ]
     },
     "execution_count": 21,
     "metadata": {},
     "output_type": "execute_result"
    }
   ],
   "source": [
    "F.Q*F.R"
   ]
  },
  {
   "cell_type": "code",
   "execution_count": 22,
   "metadata": {},
   "outputs": [
    {
     "data": {
      "text/plain": [
       "QRPivoted{Float64,Array{Float64,2}}\n",
       "Q factor:\n",
       "8×8 LinearAlgebra.QRPackedQ{Float64,Array{Float64,2}}:\n",
       " -0.105181  -0.657376   -0.16259    …  -0.418105   -0.280647   -0.0682982\n",
       " -0.461568  -0.291448    0.0230722     -0.0183557  -0.262798    0.531458 \n",
       " -0.30879   -0.242706   -0.109412       0.57546     0.1056     -0.496631 \n",
       " -0.403505   0.200334   -0.681506       0.246128    0.0857566   0.252251 \n",
       " -0.279338   0.0965824   0.643895       0.323668   -0.0771281   0.323665 \n",
       " -0.472938   0.0225186   0.243739   …  -0.117048   -0.204861   -0.529297 \n",
       " -0.241299  -0.252973    0.145506      -0.246011    0.885934    0.0728644\n",
       " -0.397239   0.556817   -0.0378098     -0.504117   -0.0295477  -0.111318 \n",
       "R factor:\n",
       "5×5 Array{Float64,2}:\n",
       " -1.98923  -1.44558   -1.61412   -1.10689   -1.2363   \n",
       "  0.0      -0.937667  -0.473979   0.130204   0.0436452\n",
       "  0.0       0.0        0.76965    0.350337   0.263875 \n",
       "  0.0       0.0        0.0       -0.629825  -0.177484 \n",
       "  0.0       0.0        0.0        0.0       -0.582983 \n",
       "permutation:\n",
       "5-element Array{Int64,1}:\n",
       " 4\n",
       " 1\n",
       " 5\n",
       " 2\n",
       " 3"
      ]
     },
     "execution_count": 22,
     "metadata": {},
     "output_type": "execute_result"
    }
   ],
   "source": [
    "F=qr(A,Val(true))"
   ]
  },
  {
   "cell_type": "code",
   "execution_count": 23,
   "metadata": {},
   "outputs": [
    {
     "data": {
      "text/plain": [
       "5-element Array{Int64,1}:\n",
       " 4\n",
       " 1\n",
       " 5\n",
       " 2\n",
       " 3"
      ]
     },
     "execution_count": 23,
     "metadata": {},
     "output_type": "execute_result"
    }
   ],
   "source": [
    "# Vektor pivotiranja\n",
    "F.p"
   ]
  },
  {
   "cell_type": "code",
   "execution_count": 24,
   "metadata": {},
   "outputs": [
    {
     "data": {
      "text/plain": [
       "5×5 Array{Float64,2}:\n",
       " 0.0  1.0  0.0  0.0  0.0\n",
       " 0.0  0.0  0.0  1.0  0.0\n",
       " 0.0  0.0  0.0  0.0  1.0\n",
       " 1.0  0.0  0.0  0.0  0.0\n",
       " 0.0  0.0  1.0  0.0  0.0"
      ]
     },
     "execution_count": 24,
     "metadata": {},
     "output_type": "execute_result"
    }
   ],
   "source": [
    "# Matrica pivotiranja\n",
    "F.P"
   ]
  },
  {
   "cell_type": "code",
   "execution_count": 24,
   "metadata": {},
   "outputs": [
    {
     "data": {
      "text/plain": [
       "8×5 Array{Float64,2}:\n",
       " 0.0          8.88178e-16  4.44089e-16  4.44089e-16  4.44089e-16\n",
       " 0.0          4.44089e-16  2.22045e-16  1.11022e-16  1.11022e-16\n",
       " 0.0          3.33067e-16  2.22045e-16  1.66533e-16  1.11022e-16\n",
       " 0.0          2.77556e-16  2.22045e-16  2.77556e-16  5.55112e-17\n",
       " 0.0          3.33067e-16  1.11022e-16  1.11022e-16  0.0        \n",
       " 1.11022e-16  3.33067e-16  2.22045e-16  1.11022e-16  2.22045e-16\n",
       " 5.55112e-17  2.22045e-16  1.11022e-16  1.11022e-16  1.11022e-16\n",
       " 1.11022e-16  2.22045e-16  1.11022e-16  1.66533e-16  2.22045e-16"
      ]
     },
     "execution_count": 24,
     "metadata": {},
     "output_type": "execute_result"
    }
   ],
   "source": [
    "# Provjera s matricom\n",
    "F.Q*F.R-A*F.P"
   ]
  },
  {
   "cell_type": "code",
   "execution_count": 25,
   "metadata": {},
   "outputs": [
    {
     "data": {
      "text/plain": [
       "8×5 Array{Float64,2}:\n",
       " 0.0          8.88178e-16  4.44089e-16  4.44089e-16  4.44089e-16\n",
       " 0.0          4.44089e-16  2.22045e-16  1.11022e-16  1.11022e-16\n",
       " 0.0          3.33067e-16  2.22045e-16  1.66533e-16  1.11022e-16\n",
       " 0.0          2.77556e-16  2.22045e-16  2.77556e-16  5.55112e-17\n",
       " 0.0          3.33067e-16  1.11022e-16  1.11022e-16  0.0        \n",
       " 1.11022e-16  3.33067e-16  2.22045e-16  1.11022e-16  2.22045e-16\n",
       " 5.55112e-17  2.22045e-16  1.11022e-16  1.11022e-16  1.11022e-16\n",
       " 1.11022e-16  2.22045e-16  1.11022e-16  1.66533e-16  2.22045e-16"
      ]
     },
     "execution_count": 25,
     "metadata": {},
     "output_type": "execute_result"
    }
   ],
   "source": [
    "# Provjera s vektorom\n",
    "F.Q*F.R-A[:,F.p]"
   ]
  },
  {
   "cell_type": "markdown",
   "metadata": {
    "collapsed": true
   },
   "source": [
    "## Brzina\n",
    "\n",
    "Broj računskih operacija potrebnih za računanje QR rastava matrice $n\\times n$ je $O\\big(\\frac{4}{3}n^3\\big)$ za računanje matrice $R$ i  $O\\big(\\frac{4}{3}n^3\\big)$ za računanje matrice $Q$. \n"
   ]
  },
  {
   "cell_type": "code",
   "execution_count": 33,
   "metadata": {},
   "outputs": [],
   "source": [
    "n=1024\n",
    "A=rand(n,n);"
   ]
  },
  {
   "cell_type": "code",
   "execution_count": 35,
   "metadata": {},
   "outputs": [
    {
     "name": "stdout",
     "output_type": "stream",
     "text": [
      "  0.142051 seconds (12 allocations: 8.563 MiB, 3.07% gc time)\n"
     ]
    }
   ],
   "source": [
    "@time qr(A);"
   ]
  },
  {
   "cell_type": "code",
   "execution_count": 37,
   "metadata": {},
   "outputs": [
    {
     "name": "stdout",
     "output_type": "stream",
     "text": [
      "  0.293482 seconds (12 allocations: 8.282 MiB)\n"
     ]
    }
   ],
   "source": [
    "@time qr(A,Val(true));"
   ]
  },
  {
   "cell_type": "code",
   "execution_count": 38,
   "metadata": {},
   "outputs": [
    {
     "name": "stdout",
     "output_type": "stream",
     "text": [
      " 40.294071 seconds (23.38 k allocations: 26.746 GiB, 9.10% gc time)\n"
     ]
    }
   ],
   "source": [
    "@time myHouseholderQR(A);"
   ]
  },
  {
   "cell_type": "markdown",
   "metadata": {},
   "source": [
    "## Točnost\n",
    "\n",
    "Za matrice $\\hat Q$ i $\\hat R$ izračunate Householder-ovom metodom vrijedi: \n",
    "\n",
    "\\begin{align*}\n",
    "\\hat Q^T\\hat Q& =I+E, \\qquad \\|E \\|_2\\approx \\varepsilon,\\\\ \n",
    "\\| A-\\hat Q\\hat R\\|_2& \\approx \\varepsilon\\|A\\|_2.\n",
    "\\end{align*}\n",
    "\n",
    "Također, postoji egzaktna ortogonalna matrica $Q$ za koju je \n",
    "\n",
    "$$\\| A- Q\\hat R\\|_2\\approx \\varepsilon\\|A\\|_2.\n",
    "$$"
   ]
  }
 ],
 "metadata": {
  "@webio": {
   "lastCommId": null,
   "lastKernelId": null
  },
  "anaconda-cloud": {},
  "kernelspec": {
   "display_name": "Julia 1.0.3",
   "language": "julia",
   "name": "julia-1.0"
  },
  "language_info": {
   "file_extension": ".jl",
   "mimetype": "application/julia",
   "name": "julia",
   "version": "1.0.3"
  }
 },
 "nbformat": 4,
 "nbformat_minor": 1
}
