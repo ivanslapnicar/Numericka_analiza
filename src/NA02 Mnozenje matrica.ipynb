{
 "cells": [
  {
   "cell_type": "markdown",
   "metadata": {},
   "source": [
    "# Množenje matrica\n",
    "\n",
    "\n",
    "\n",
    "Matrice možemo množiti na __tri različita načina__: \n",
    "\n",
    "\\begin{align*}\n",
    "\\begin{bmatrix}    \n",
    "1& 2& 3\\\\\n",
    "  4 &5 &6\\\\\n",
    "  7 &8& 9\n",
    "\\end{bmatrix}\n",
    "\\begin{bmatrix}\n",
    "   1&  2&  0\\\\\n",
    "   4&  3&  2\\\\\n",
    "   1& -1&  1\n",
    " \\end{bmatrix}&=\n",
    " \\begin{bmatrix}\n",
    "   (1\\cdot 1 + 2\\cdot 4+3\\cdot 1) & 1\\cdot 2+2\\cdot 3+3\\cdot(-1))&  \n",
    "    (1\\cdot 0 + 2\\cdot 2 + 3\\cdot 1)\\\\\n",
    "   (4\\cdot 1+5\\cdot 4+6\\cdot 1) & (4\\cdot 2+5\\cdot 3+6\\cdot (-1)) &  \n",
    "   (4\\cdot 0+5\\cdot 2+6\\cdot 1)\\\\\n",
    "   (7\\cdot 1+8\\cdot 5+9\\cdot 1) & (7\\cdot 2+8\\cdot 3+9\\cdot (-1)) &  \n",
    "   (7\\cdot 0+8\\cdot 2+9\\cdot 1)\n",
    " \\end{bmatrix} \\\\ \\\\\n",
    "\\begin{bmatrix}    \n",
    "  1& 2& 3\\\\\n",
    "  4 &5 &6\\\\\n",
    "  7 &8& 9\n",
    "\\end{bmatrix}\n",
    "\\begin{bmatrix}\n",
    "   1&  2&  0\\\\\n",
    "   4&  3&  2\\\\\n",
    "   1& -1&  1\n",
    " \\end{bmatrix}& =\n",
    " \\begin{bmatrix} 1\\\\ 4\\\\ 7 \\end{bmatrix}\n",
    " \\begin{bmatrix} 1&2&0 \\end{bmatrix} + \n",
    " \\begin{bmatrix} 2\\\\ 5\\\\ 8 \\end{bmatrix}\n",
    " \\begin{bmatrix} 4&3&2 \\end{bmatrix} + \n",
    " \\begin{bmatrix} 3\\\\ 6\\\\ 9 \\end{bmatrix}\n",
    " \\begin{bmatrix} 1&-1&1 \\end{bmatrix}\\\\ \\\\\n",
    "\\begin{bmatrix}    \n",
    "  1& 2& 3\\\\\n",
    "  4 &5 &6\\\\\n",
    "  7 &8& 9\n",
    "\\end{bmatrix}\n",
    "\\begin{bmatrix}\n",
    "   1&  2&  0\\\\\n",
    "   4&  3&  2\\\\\n",
    "   1& -1&  1\n",
    " \\end{bmatrix}&=\n",
    " \\begin{bmatrix}\n",
    "   1 \\begin{bmatrix} 1\\\\ 4\\\\ 7\\end{bmatrix}+\n",
    "   4 \\begin{bmatrix} 2\\\\ 5\\\\ 8\\end{bmatrix}+\n",
    "   1 \\begin{bmatrix} 3\\\\ 6\\\\ 9\\end{bmatrix} &\n",
    "   2 \\begin{bmatrix} 1\\\\ 4\\\\ 7\\end{bmatrix}+\n",
    "   3 \\begin{bmatrix} 2\\\\ 5\\\\ 8\\end{bmatrix}+\n",
    "   (-1) \\begin{bmatrix} 3\\\\ 6\\\\ 9\\end{bmatrix} &\n",
    "   0 \\begin{bmatrix} 1\\\\ 4\\\\ 7\\end{bmatrix}+\n",
    "   2 \\begin{bmatrix} 2\\\\ 5\\\\ 8\\end{bmatrix}+\n",
    "   1 \\begin{bmatrix} 3\\\\ 6\\\\ 9\\end{bmatrix}\n",
    " \\end{bmatrix}\n",
    "\\end{align*}\n",
    "\n",
    "Formule se razlikuju u načinu prisutupa memoriji pa stoga i po brzini te u pogreškama zaokruživanja."
   ]
  },
  {
   "cell_type": "code",
   "execution_count": 1,
   "metadata": {},
   "outputs": [
    {
     "name": "stdout",
     "output_type": "stream",
     "text": [
      "(i, j, C[i, j]) = (1, 1, 5.0)\n",
      "(i, j, C[i, j]) = (1, 2, 5.0)\n",
      "(i, j, C[i, j]) = (1, 3, 5.0)\n",
      "(i, j, C[i, j]) = (1, 4, 5.0)\n",
      "(i, j, C[i, j]) = (1, 5, 5.0)\n",
      "(i, j, C[i, j]) = (2, 1, 5.0)\n",
      "(i, j, C[i, j]) = (2, 2, 5.0)\n",
      "(i, j, C[i, j]) = (2, 3, 5.0)\n",
      "(i, j, C[i, j]) = (2, 4, 5.0)\n",
      "(i, j, C[i, j]) = (2, 5, 5.0)\n",
      "(i, j, C[i, j]) = (3, 1, 5.0)\n",
      "(i, j, C[i, j]) = (3, 2, 5.0)\n",
      "(i, j, C[i, j]) = (3, 3, 5.0)\n",
      "(i, j, C[i, j]) = (3, 4, 5.0)\n",
      "(i, j, C[i, j]) = (3, 5, 5.0)\n",
      "(i, j, C[i, j]) = (4, 1, 5.0)\n",
      "(i, j, C[i, j]) = (4, 2, 5.0)\n",
      "(i, j, C[i, j]) = (4, 3, 5.0)\n",
      "(i, j, C[i, j]) = (4, 4, 5.0)\n",
      "(i, j, C[i, j]) = (4, 5, 5.0)\n",
      "(i, j, C[i, j]) = (5, 1, 5.0)\n",
      "(i, j, C[i, j]) = (5, 2, 5.0)\n",
      "(i, j, C[i, j]) = (5, 3, 5.0)\n",
      "(i, j, C[i, j]) = (5, 4, 5.0)\n",
      "(i, j, C[i, j]) = (5, 5, 5.0)\n"
     ]
    },
    {
     "data": {
      "text/plain": [
       "5×5 Array{Float64,2}:\n",
       " 5.0  5.0  5.0  5.0  5.0\n",
       " 5.0  5.0  5.0  5.0  5.0\n",
       " 5.0  5.0  5.0  5.0  5.0\n",
       " 5.0  5.0  5.0  5.0  5.0\n",
       " 5.0  5.0  5.0  5.0  5.0"
      ]
     },
     "execution_count": 1,
     "metadata": {},
     "output_type": "execute_result"
    }
   ],
   "source": [
    "n=5\n",
    "A=ones(5,5)\n",
    "B=ones(5,5)\n",
    "C=zeros(n,n)\n",
    "for i=1:n\n",
    "    for j=1:n\n",
    "        for k=1:n\n",
    "            C[i,j]=C[i,j]+A[i,k]*A[k,j]\n",
    "        end\n",
    "        @show i,j,C[i,j]\n",
    "    end\n",
    "end\n",
    "C"
   ]
  },
  {
   "cell_type": "code",
   "execution_count": 2,
   "metadata": {},
   "outputs": [
    {
     "data": {
      "text/plain": [
       "5×5 Array{Float64,2}:\n",
       " 1.0  1.0  1.0  1.0  1.0\n",
       " 1.0  1.0  1.0  1.0  1.0\n",
       " 1.0  1.0  1.0  1.0  1.0\n",
       " 1.0  1.0  1.0  1.0  1.0\n",
       " 1.0  1.0  1.0  1.0  1.0"
      ]
     },
     "execution_count": 2,
     "metadata": {},
     "output_type": "execute_result"
    }
   ],
   "source": [
    "A"
   ]
  },
  {
   "cell_type": "code",
   "execution_count": 3,
   "metadata": {},
   "outputs": [
    {
     "data": {
      "text/plain": [
       "5×5 Array{Float64,2}:\n",
       " 1.0  1.0  1.0  1.0  1.0\n",
       " 1.0  1.0  1.0  1.0  1.0\n",
       " 1.0  1.0  1.0  1.0  1.0\n",
       " 1.0  1.0  1.0  1.0  1.0\n",
       " 1.0  1.0  1.0  1.0  1.0"
      ]
     },
     "execution_count": 3,
     "metadata": {},
     "output_type": "execute_result"
    }
   ],
   "source": [
    "B"
   ]
  },
  {
   "cell_type": "code",
   "execution_count": 4,
   "metadata": {},
   "outputs": [
    {
     "name": "stdout",
     "output_type": "stream",
     "text": [
      "C[i, j] = (A[i, :] ⋅ B[:, j])[] = 5.0\n",
      "C[i, j] = (A[i, :] ⋅ B[:, j])[] = 5.0\n",
      "C[i, j] = (A[i, :] ⋅ B[:, j])[] = 5.0\n",
      "C[i, j] = (A[i, :] ⋅ B[:, j])[] = 5.0\n",
      "C[i, j] = (A[i, :] ⋅ B[:, j])[] = 5.0\n",
      "C[i, j] = (A[i, :] ⋅ B[:, j])[] = 5.0\n",
      "C[i, j] = (A[i, :] ⋅ B[:, j])[] = 5.0\n",
      "C[i, j] = (A[i, :] ⋅ B[:, j])[] = 5.0\n",
      "C[i, j] = (A[i, :] ⋅ B[:, j])[] = 5.0\n",
      "C[i, j] = (A[i, :] ⋅ B[:, j])[] = 5.0\n",
      "C[i, j] = (A[i, :] ⋅ B[:, j])[] = 5.0\n",
      "C[i, j] = (A[i, :] ⋅ B[:, j])[] = 5.0\n",
      "C[i, j] = (A[i, :] ⋅ B[:, j])[] = 5.0\n",
      "C[i, j] = (A[i, :] ⋅ B[:, j])[] = 5.0\n",
      "C[i, j] = (A[i, :] ⋅ B[:, j])[] = 5.0\n",
      "C[i, j] = (A[i, :] ⋅ B[:, j])[] = 5.0\n",
      "C[i, j] = (A[i, :] ⋅ B[:, j])[] = 5.0\n",
      "C[i, j] = (A[i, :] ⋅ B[:, j])[] = 5.0\n",
      "C[i, j] = (A[i, :] ⋅ B[:, j])[] = 5.0\n",
      "C[i, j] = (A[i, :] ⋅ B[:, j])[] = 5.0\n",
      "C[i, j] = (A[i, :] ⋅ B[:, j])[] = 5.0\n",
      "C[i, j] = (A[i, :] ⋅ B[:, j])[] = 5.0\n",
      "C[i, j] = (A[i, :] ⋅ B[:, j])[] = 5.0\n",
      "C[i, j] = (A[i, :] ⋅ B[:, j])[] = 5.0\n",
      "C[i, j] = (A[i, :] ⋅ B[:, j])[] = 5.0\n"
     ]
    }
   ],
   "source": [
    "# Ili, krace: _dot\n",
    "using LinearAlgebra\n",
    "for i=1:n\n",
    "    for j=1:n\n",
    "        @show C[i,j]=(A[i,:]⋅B[:,j])[]\n",
    "    end\n",
    "end"
   ]
  },
  {
   "cell_type": "code",
   "execution_count": 5,
   "metadata": {},
   "outputs": [
    {
     "name": "stdout",
     "output_type": "stream",
     "text": [
      "C = [1.0 1.0 1.0 1.0 1.0; 1.0 1.0 1.0 1.0 1.0; 1.0 1.0 1.0 1.0 1.0; 1.0 1.0 1.0 1.0 1.0; 1.0 1.0 1.0 1.0 1.0]\n",
      "C = [2.0 2.0 2.0 2.0 2.0; 2.0 2.0 2.0 2.0 2.0; 2.0 2.0 2.0 2.0 2.0; 2.0 2.0 2.0 2.0 2.0; 2.0 2.0 2.0 2.0 2.0]\n",
      "C = [3.0 3.0 3.0 3.0 3.0; 3.0 3.0 3.0 3.0 3.0; 3.0 3.0 3.0 3.0 3.0; 3.0 3.0 3.0 3.0 3.0; 3.0 3.0 3.0 3.0 3.0]\n",
      "C = [4.0 4.0 4.0 4.0 4.0; 4.0 4.0 4.0 4.0 4.0; 4.0 4.0 4.0 4.0 4.0; 4.0 4.0 4.0 4.0 4.0; 4.0 4.0 4.0 4.0 4.0]\n",
      "C = [5.0 5.0 5.0 5.0 5.0; 5.0 5.0 5.0 5.0 5.0; 5.0 5.0 5.0 5.0 5.0; 5.0 5.0 5.0 5.0 5.0; 5.0 5.0 5.0 5.0 5.0]\n"
     ]
    }
   ],
   "source": [
    "C=zeros(n,n)\n",
    "for k=1:n\n",
    "    for j=1:n\n",
    "        for i=1:n\n",
    "            C[i,j]=C[i,j]+A[i,k]*A[k,j]\n",
    "            # @show i,j,C[i,j]\n",
    "        end\n",
    "    end\n",
    "    @show C\n",
    "end"
   ]
  },
  {
   "cell_type": "code",
   "execution_count": 6,
   "metadata": {},
   "outputs": [
    {
     "name": "stdout",
     "output_type": "stream",
     "text": [
      "[1.0 1.0 1.0 1.0 1.0; 1.0 1.0 1.0 1.0 1.0; 1.0 1.0 1.0 1.0 1.0; 1.0 1.0 1.0 1.0 1.0; 1.0 1.0 1.0 1.0 1.0]\n",
      "[2.0 2.0 2.0 2.0 2.0; 2.0 2.0 2.0 2.0 2.0; 2.0 2.0 2.0 2.0 2.0; 2.0 2.0 2.0 2.0 2.0; 2.0 2.0 2.0 2.0 2.0]\n",
      "[3.0 3.0 3.0 3.0 3.0; 3.0 3.0 3.0 3.0 3.0; 3.0 3.0 3.0 3.0 3.0; 3.0 3.0 3.0 3.0 3.0; 3.0 3.0 3.0 3.0 3.0]\n",
      "[4.0 4.0 4.0 4.0 4.0; 4.0 4.0 4.0 4.0 4.0; 4.0 4.0 4.0 4.0 4.0; 4.0 4.0 4.0 4.0 4.0; 4.0 4.0 4.0 4.0 4.0]\n",
      "[5.0 5.0 5.0 5.0 5.0; 5.0 5.0 5.0 5.0 5.0; 5.0 5.0 5.0 5.0 5.0; 5.0 5.0 5.0 5.0 5.0; 5.0 5.0 5.0 5.0 5.0]\n"
     ]
    }
   ],
   "source": [
    "# Ili, krace: _syrk\n",
    "C=zeros(n,n)\n",
    "for i=1:n\n",
    "    C=C+A[:,i]*A[i,:]'\n",
    "    println(C)\n",
    "end"
   ]
  },
  {
   "cell_type": "code",
   "execution_count": 7,
   "metadata": {},
   "outputs": [
    {
     "name": "stdout",
     "output_type": "stream",
     "text": [
      "(i, j, C[i, j]) = (1, 1, 1.0)\n",
      "(i, j, C[i, j]) = (2, 1, 1.0)\n",
      "(i, j, C[i, j]) = (3, 1, 1.0)\n",
      "(i, j, C[i, j]) = (4, 1, 1.0)\n",
      "(i, j, C[i, j]) = (5, 1, 1.0)\n",
      "(i, j, C[i, j]) = (1, 1, 2.0)\n",
      "(i, j, C[i, j]) = (2, 1, 2.0)\n",
      "(i, j, C[i, j]) = (3, 1, 2.0)\n",
      "(i, j, C[i, j]) = (4, 1, 2.0)\n",
      "(i, j, C[i, j]) = (5, 1, 2.0)\n",
      "(i, j, C[i, j]) = (1, 1, 3.0)\n",
      "(i, j, C[i, j]) = (2, 1, 3.0)\n",
      "(i, j, C[i, j]) = (3, 1, 3.0)\n",
      "(i, j, C[i, j]) = (4, 1, 3.0)\n",
      "(i, j, C[i, j]) = (5, 1, 3.0)\n",
      "(i, j, C[i, j]) = (1, 1, 4.0)\n",
      "(i, j, C[i, j]) = (2, 1, 4.0)\n",
      "(i, j, C[i, j]) = (3, 1, 4.0)\n",
      "(i, j, C[i, j]) = (4, 1, 4.0)\n",
      "(i, j, C[i, j]) = (5, 1, 4.0)\n",
      "(i, j, C[i, j]) = (1, 1, 5.0)\n",
      "(i, j, C[i, j]) = (2, 1, 5.0)\n",
      "(i, j, C[i, j]) = (3, 1, 5.0)\n",
      "(i, j, C[i, j]) = (4, 1, 5.0)\n",
      "(i, j, C[i, j]) = (5, 1, 5.0)\n",
      "(i, j, C[i, j]) = (1, 2, 1.0)\n",
      "(i, j, C[i, j]) = (2, 2, 1.0)\n",
      "(i, j, C[i, j]) = (3, 2, 1.0)\n",
      "(i, j, C[i, j]) = (4, 2, 1.0)\n",
      "(i, j, C[i, j]) = (5, 2, 1.0)\n",
      "(i, j, C[i, j]) = (1, 2, 2.0)\n",
      "(i, j, C[i, j]) = (2, 2, 2.0)\n",
      "(i, j, C[i, j]) = (3, 2, 2.0)\n",
      "(i, j, C[i, j]) = (4, 2, 2.0)\n",
      "(i, j, C[i, j]) = (5, 2, 2.0)\n",
      "(i, j, C[i, j]) = (1, 2, 3.0)\n",
      "(i, j, C[i, j]) = (2, 2, 3.0)\n",
      "(i, j, C[i, j]) = (3, 2, 3.0)\n",
      "(i, j, C[i, j]) = (4, 2, 3.0)\n",
      "(i, j, C[i, j]) = (5, 2, 3.0)\n",
      "(i, j, C[i, j]) = (1, 2, 4.0)\n",
      "(i, j, C[i, j]) = (2, 2, 4.0)\n",
      "(i, j, C[i, j]) = (3, 2, 4.0)\n",
      "(i, j, C[i, j]) = (4, 2, 4.0)\n",
      "(i, j, C[i, j]) = (5, 2, 4.0)\n",
      "(i, j, C[i, j]) = (1, 2, 5.0)\n",
      "(i, j, C[i, j]) = (2, 2, 5.0)\n",
      "(i, j, C[i, j]) = (3, 2, 5.0)\n",
      "(i, j, C[i, j]) = (4, 2, 5.0)\n",
      "(i, j, C[i, j]) = (5, 2, 5.0)\n",
      "(i, j, C[i, j]) = (1, 3, 1.0)\n",
      "(i, j, C[i, j]) = (2, 3, 1.0)\n",
      "(i, j, C[i, j]) = (3, 3, 1.0)\n",
      "(i, j, C[i, j]) = (4, 3, 1.0)\n",
      "(i, j, C[i, j]) = (5, 3, 1.0)\n",
      "(i, j, C[i, j]) = (1, 3, 2.0)\n",
      "(i, j, C[i, j]) = (2, 3, 2.0)\n",
      "(i, j, C[i, j]) = (3, 3, 2.0)\n",
      "(i, j, C[i, j]) = (4, 3, 2.0)\n",
      "(i, j, C[i, j]) = (5, 3, 2.0)\n",
      "(i, j, C[i, j]) = (1, 3, 3.0)\n",
      "(i, j, C[i, j]) = (2, 3, 3.0)\n",
      "(i, j, C[i, j]) = (3, 3, 3.0)\n",
      "(i, j, C[i, j]) = (4, 3, 3.0)\n",
      "(i, j, C[i, j]) = (5, 3, 3.0)\n",
      "(i, j, C[i, j]) = (1, 3, 4.0)\n",
      "(i, j, C[i, j]) = (2, 3, 4.0)\n",
      "(i, j, C[i, j]) = (3, 3, 4.0)\n",
      "(i, j, C[i, j]) = (4, 3, 4.0)\n",
      "(i, j, C[i, j]) = (5, 3, 4.0)\n",
      "(i, j, C[i, j]) = (1, 3, 5.0)\n",
      "(i, j, C[i, j]) = (2, 3, 5.0)\n",
      "(i, j, C[i, j]) = (3, 3, 5.0)\n",
      "(i, j, C[i, j]) = (4, 3, 5.0)\n",
      "(i, j, C[i, j]) = (5, 3, 5.0)\n",
      "(i, j, C[i, j]) = (1, 4, 1.0)\n",
      "(i, j, C[i, j]) = (2, 4, 1.0)\n",
      "(i, j, C[i, j]) = (3, 4, 1.0)\n",
      "(i, j, C[i, j]) = (4, 4, 1.0)\n",
      "(i, j, C[i, j]) = (5, 4, 1.0)\n",
      "(i, j, C[i, j]) = (1, 4, 2.0)\n",
      "(i, j, C[i, j]) = (2, 4, 2.0)\n",
      "(i, j, C[i, j]) = (3, 4, 2.0)\n",
      "(i, j, C[i, j]) = (4, 4, 2.0)\n",
      "(i, j, C[i, j]) = (5, 4, 2.0)\n",
      "(i, j, C[i, j]) = (1, 4, 3.0)\n",
      "(i, j, C[i, j]) = (2, 4, 3.0)\n",
      "(i, j, C[i, j]) = (3, 4, 3.0)\n",
      "(i, j, C[i, j]) = (4, 4, 3.0)\n",
      "(i, j, C[i, j]) = (5, 4, 3.0)\n",
      "(i, j, C[i, j]) = (1, 4, 4.0)\n",
      "(i, j, C[i, j]) = (2, 4, 4.0)\n",
      "(i, j, C[i, j]) = (3, 4, 4.0)\n",
      "(i, j, C[i, j]) = (4, 4, 4.0)\n",
      "(i, j, C[i, j]) = (5, 4, 4.0)\n",
      "(i, j, C[i, j]) = (1, 4, 5.0)\n",
      "(i, j, C[i, j]) = (2, 4, 5.0)\n",
      "(i, j, C[i, j]) = (3, 4, 5.0)\n",
      "(i, j, C[i, j]) = (4, 4, 5.0)\n",
      "(i, j, C[i, j]) = (5, 4, 5.0)\n",
      "(i, j, C[i, j]) = (1, 5, 1.0)\n",
      "(i, j, C[i, j]) = (2, 5, 1.0)\n",
      "(i, j, C[i, j]) = (3, 5, 1.0)\n",
      "(i, j, C[i, j]) = (4, 5, 1.0)\n",
      "(i, j, C[i, j]) = (5, 5, 1.0)\n",
      "(i, j, C[i, j]) = (1, 5, 2.0)\n",
      "(i, j, C[i, j]) = (2, 5, 2.0)\n",
      "(i, j, C[i, j]) = (3, 5, 2.0)\n",
      "(i, j, C[i, j]) = (4, 5, 2.0)\n",
      "(i, j, C[i, j]) = (5, 5, 2.0)\n",
      "(i, j, C[i, j]) = (1, 5, 3.0)\n",
      "(i, j, C[i, j]) = (2, 5, 3.0)\n",
      "(i, j, C[i, j]) = (3, 5, 3.0)\n",
      "(i, j, C[i, j]) = (4, 5, 3.0)\n",
      "(i, j, C[i, j]) = (5, 5, 3.0)\n",
      "(i, j, C[i, j]) = (1, 5, 4.0)\n",
      "(i, j, C[i, j]) = (2, 5, 4.0)\n",
      "(i, j, C[i, j]) = (3, 5, 4.0)\n",
      "(i, j, C[i, j]) = (4, 5, 4.0)\n",
      "(i, j, C[i, j]) = (5, 5, 4.0)\n",
      "(i, j, C[i, j]) = (1, 5, 5.0)\n",
      "(i, j, C[i, j]) = (2, 5, 5.0)\n",
      "(i, j, C[i, j]) = (3, 5, 5.0)\n",
      "(i, j, C[i, j]) = (4, 5, 5.0)\n",
      "(i, j, C[i, j]) = (5, 5, 5.0)\n"
     ]
    }
   ],
   "source": [
    "C=zeros(n,n)\n",
    "for j=1:n\n",
    "    for k=1:n\n",
    "        for i=1:n\n",
    "            C[i,j]=C[i,j]+A[i,k]*A[k,j]\n",
    "            @show i,j,C[i,j]\n",
    "        end\n",
    "    end\n",
    "end"
   ]
  },
  {
   "cell_type": "code",
   "execution_count": 8,
   "metadata": {},
   "outputs": [
    {
     "name": "stdout",
     "output_type": "stream",
     "text": [
      "C = [5.0 0.0 0.0 0.0 0.0; 5.0 0.0 0.0 0.0 0.0; 5.0 0.0 0.0 0.0 0.0; 5.0 0.0 0.0 0.0 0.0; 5.0 0.0 0.0 0.0 0.0]\n",
      "C = [5.0 5.0 0.0 0.0 0.0; 5.0 5.0 0.0 0.0 0.0; 5.0 5.0 0.0 0.0 0.0; 5.0 5.0 0.0 0.0 0.0; 5.0 5.0 0.0 0.0 0.0]\n",
      "C = [5.0 5.0 5.0 0.0 0.0; 5.0 5.0 5.0 0.0 0.0; 5.0 5.0 5.0 0.0 0.0; 5.0 5.0 5.0 0.0 0.0; 5.0 5.0 5.0 0.0 0.0]\n",
      "C = [5.0 5.0 5.0 5.0 0.0; 5.0 5.0 5.0 5.0 0.0; 5.0 5.0 5.0 5.0 0.0; 5.0 5.0 5.0 5.0 0.0; 5.0 5.0 5.0 5.0 0.0]\n",
      "C = [5.0 5.0 5.0 5.0 5.0; 5.0 5.0 5.0 5.0 5.0; 5.0 5.0 5.0 5.0 5.0; 5.0 5.0 5.0 5.0 5.0; 5.0 5.0 5.0 5.0 5.0]\n"
     ]
    }
   ],
   "source": [
    "# _axpy\n",
    "C=zeros(n,n)\n",
    "for i=1:n\n",
    "    for k=1:n\n",
    "        C[:,i]=C[:,i]+A[:,k]*B[k,i]\n",
    "    end\n",
    "    @show C\n",
    "end"
   ]
  },
  {
   "cell_type": "markdown",
   "metadata": {},
   "source": [
    "`_axpy` je $y=\\alpha x+y$"
   ]
  },
  {
   "cell_type": "markdown",
   "metadata": {},
   "source": [
    "## Basic Linear Algebra Subroutines - [BLAS](http://www.netlib.org/blas/)\n",
    "\n",
    "Na primjer, [`ddot.f`](http://www.netlib.org/lapack/explore-html/d5/df6/ddot_8f_source.html) - uočite _loop unrolling_ :"
   ]
  },
  {
   "cell_type": "markdown",
   "metadata": {},
   "source": [
    "$x\\cdot y=\\sum_i x_i\\cdot y_i=x_1y_1+x_2y_2+\\cdots +x_ny_n$"
   ]
  },
  {
   "cell_type": "markdown",
   "metadata": {},
   "source": [
    "```\n",
    "DOUBLE PRECISION FUNCTION DDOT(N,DX,INCX,DY,INCY)\n",
    "*     .. Scalar Arguments ..\n",
    "      INTEGER INCX,INCY,N\n",
    "*     ..\n",
    "*     .. Array Arguments ..\n",
    "      DOUBLE PRECISION DX(*),DY(*)\n",
    "*     ..\n",
    "*\n",
    "*  Purpose\n",
    "*  =======\n",
    "*\n",
    "*     forms the dot product of two vectors.\n",
    "*     uses unrolled loops for increments equal to one.\n",
    "*     jack dongarra, linpack, 3/11/78.\n",
    "*     modified 12/3/93, array(1) declarations changed to array(*)\n",
    "*\n",
    "*\n",
    "*     .. Local Scalars ..\n",
    "      DOUBLE PRECISION DTEMP\n",
    "      INTEGER I,IX,IY,M,MP1\n",
    "*     ..\n",
    "*     .. Intrinsic Functions ..\n",
    "      INTRINSIC MOD\n",
    "*     ..\n",
    "      DDOT = 0.0d0\n",
    "      DTEMP = 0.0d0\n",
    "      IF (N.LE.0) RETURN\n",
    "      IF (INCX.EQ.1 .AND. INCY.EQ.1) GO TO 20\n",
    "*\n",
    "*        code for unequal increments or equal increments\n",
    "*          not equal to 1\n",
    "*\n",
    "      IX = 1\n",
    "      IY = 1\n",
    "      IF (INCX.LT.0) IX = (-N+1)*INCX + 1\n",
    "      IF (INCY.LT.0) IY = (-N+1)*INCY + 1\n",
    "      DO 10 I = 1,N\n",
    "          DTEMP = DTEMP + DX(IX)*DY(IY)\n",
    "          IX = IX + INCX\n",
    "          IY = IY + INCY\n",
    "   10 CONTINUE\n",
    "      DDOT = DTEMP\n",
    "      RETURN\n",
    "*\n",
    "*        code for both increments equal to 1\n",
    "*\n",
    "*\n",
    "*        clean-up loop\n",
    "*\n",
    "   20 M = MOD(N,5)\n",
    "      IF (M.EQ.0) GO TO 40\n",
    "      DO 30 I = 1,M\n",
    "          DTEMP = DTEMP + DX(I)*DY(I)\n",
    "   30 CONTINUE\n",
    "      IF (N.LT.5) GO TO 60\n",
    "   40 MP1 = M + 1\n",
    "      DO 50 I = MP1,N,5\n",
    "          DTEMP = DTEMP + DX(I)*DY(I) + DX(I+1)*DY(I+1) +\n",
    "     +            DX(I+2)*DY(I+2) + DX(I+3)*DY(I+3) + DX(I+4)*DY(I+4)\n",
    "   50 CONTINUE\n",
    "   60 DDOT = DTEMP\n",
    "      RETURN\n",
    "      END\n",
    "```\n"
   ]
  },
  {
   "cell_type": "markdown",
   "metadata": {},
   "source": [
    "## Brzina računanja"
   ]
  },
  {
   "cell_type": "code",
   "execution_count": 9,
   "metadata": {},
   "outputs": [
    {
     "data": {
      "text/plain": [
       "AB (generic function with 1 method)"
      ]
     },
     "execution_count": 9,
     "metadata": {},
     "output_type": "execute_result"
    }
   ],
   "source": [
    "function AB(A::Array{T},B::Array{T}) where T\n",
    "    n=maximum(size(A))\n",
    "    C=zeros(n,n)\n",
    "    # C=[zeros(A[1,1]) for i=1:n, j=1:n]\n",
    "    for i=1:n\n",
    "        for j=1:n\n",
    "            for k=1:n\n",
    "                C[i,j]=C[i,j]+(A[i,k]*B[k,j])\n",
    "            end\n",
    "        end\n",
    "    end\n",
    "    C\n",
    "end"
   ]
  },
  {
   "cell_type": "code",
   "execution_count": 10,
   "metadata": {},
   "outputs": [
    {
     "data": {
      "text/plain": [
       "512×512 Array{Float64,2}:\n",
       " 0.559048   0.413611   0.200462    …  0.646388   0.825639    0.640068\n",
       " 0.27127    0.737491   0.388564       0.921612   0.367102    0.843881\n",
       " 0.122202   0.991752   0.00928114     0.93476    0.532063    0.748237\n",
       " 0.738015   0.341299   0.00972434     0.857653   0.00608534  0.51896\n",
       " 0.638761   0.183588   0.899151       0.561811   0.325301    0.143411\n",
       " 0.0652901  0.774461   0.204975    …  0.272434   0.967018    0.748281\n",
       " 0.584242   0.8112     0.357884       0.505416   0.976408    0.909415\n",
       " 0.706169   0.379581   0.585808       0.704145   0.243718    0.305207\n",
       " 0.528885   0.145492   0.824315       0.119248   0.842754    0.114626\n",
       " 0.616225   0.490273   0.444742       0.51363    0.622275    0.419786\n",
       " 0.0310208  0.0751418  0.0126417   …  0.0519811  0.855391    0.37198\n",
       " 0.189579   0.732784   0.129664       0.172251   0.904828    0.536121\n",
       " 0.63662    0.356225   0.307616       0.179324   0.156124    0.634727\n",
       " ⋮                                 ⋱             ⋮           \n",
       " 0.30027    0.0649179  0.64822     …  0.391494   0.0249006   0.999059\n",
       " 0.493236   0.0970124  0.370427       0.0920694  0.116836    0.148462\n",
       " 0.967918   0.0125565  0.504388       0.703096   0.607722    0.167331\n",
       " 0.69818    0.473537   0.888537       0.788239   0.382547    0.92563\n",
       " 0.523547   0.663018   0.713761       0.723771   0.39722     0.426945\n",
       " 0.0878457  0.950592   0.138753    …  0.726395   0.392321    0.875573\n",
       " 0.285738   0.725975   0.378624       0.264598   0.201735    0.178197\n",
       " 0.747188   0.806399   0.868522       0.928336   0.496292    0.722513\n",
       " 0.417774   0.983633   0.884854       0.236933   0.0983728   0.729539\n",
       " 0.163358   0.445808   0.86112        0.301226   0.209713    0.972525\n",
       " 0.959044   0.739682   0.359275    …  0.317637   0.0576987   0.581906\n",
       " 0.253284   0.49463    0.0940568      0.879213   0.306844    0.509805"
      ]
     },
     "execution_count": 10,
     "metadata": {},
     "output_type": "execute_result"
    }
   ],
   "source": [
    "import Random\n",
    "Random.seed!(123)\n",
    "n=512\n",
    "A=rand(n,n)\n",
    "B=rand(n,n)"
   ]
  },
  {
   "cell_type": "code",
   "execution_count": 11,
   "metadata": {},
   "outputs": [
    {
     "name": "stdout",
     "output_type": "stream",
     "text": [
      "  0.634392 seconds (2.71 M allocations: 129.547 MiB, 5.84% gc time)\n"
     ]
    },
    {
     "data": {
      "text/plain": [
       "512×512 Array{Float64,2}:\n",
       " 125.294  137.849  128.283  133.101  …  133.101  131.957  132.134  122.44\n",
       " 133.404  138.214  135.87   142.438     139.673  139.314  136.521  133.358\n",
       " 132.229  134.454  129.782  137.036     133.499  133.537  136.903  130.33\n",
       " 127.078  136.807  125.378  133.505     131.196  128.986  130.346  125.017\n",
       " 128.451  141.94   131.234  137.336     136.539  137.014  136.038  133.836\n",
       " 124.821  136.955  127.681  136.077  …  134.986  129.601  132.208  128.113\n",
       " 119.38   129.222  123.028  130.429     126.979  123.017  125.454  122.223\n",
       " 125.25   132.406  127.474  131.91      128.452  125.549  127.895  128.728\n",
       " 130.791  142.346  134.176  142.037     139.336  133.496  138.348  131.542\n",
       " 124.47   132.181  128.258  135.992     130.816  128.931  129.906  128.264\n",
       " 121.735  135.365  126.839  134.212  …  128.675  127.93   129.583  128.518\n",
       " 123.933  132.163  127.536  132.064     130.49   125.313  130.23   127.398\n",
       " 126.002  131.855  129.414  135.508     132.142  127.721  130.686  129.248\n",
       "   ⋮                                 ⋱                      ⋮      \n",
       " 133.416  137.128  133.344  140.237  …  138.454  132.139  134.452  130.278\n",
       " 127.03   135.787  128.674  135.898     132.38   133.407  134.762  130.125\n",
       " 117.343  123.983  117.352  128.138     122.555  118.923  123.683  119.491\n",
       " 128.523  137.623  130.357  138.062     135.9    130.728  132.17   128.253\n",
       " 129.353  141.349  130.532  137.512     136.155  133.643  133.64   130.314\n",
       " 121.516  129.435  120.642  128.434  …  132.045  125.047  125.544  120.844\n",
       " 131.504  137.12   131.841  140.637     132.288  131.587  134.302  134.6\n",
       " 126.31   135.214  130.167  136.196     130.663  127.481  130.975  128.217\n",
       " 122.839  135.557  129.548  135.104     130.129  130.27   131.148  129.758\n",
       " 129.883  135.249  131.197  136.343     135.174  133.168  133.187  127.42\n",
       " 130.469  139.486  132.887  139.836  …  140.185  135.494  136.685  131.163\n",
       " 127.498  135.891  126.81   138.719     128.764  131.474  134.298  127.961"
      ]
     },
     "execution_count": 11,
     "metadata": {},
     "output_type": "execute_result"
    }
   ],
   "source": [
    "# Izvedite 2 puta, releventno je drugo mjerenje.\n",
    "@time C=A*B"
   ]
  },
  {
   "cell_type": "code",
   "execution_count": 12,
   "metadata": {},
   "outputs": [
    {
     "data": {
      "text/plain": [
       "8.947848533333333e10"
      ]
     },
     "execution_count": 12,
     "metadata": {},
     "output_type": "execute_result"
    }
   ],
   "source": [
    "operacija_u_sekundi=(2*n^3)/0.003"
   ]
  },
  {
   "cell_type": "markdown",
   "metadata": {},
   "source": [
    "__Zadatak.__ Izračunajte najveći $n$ za koji dvije kvadrate matrice dimenzije $n\\times n$ od `Float64` brojeva stanu u memoriju Vašeg računala. Koliko će trajati množenje tih matrica?  "
   ]
  },
  {
   "cell_type": "code",
   "execution_count": 13,
   "metadata": {},
   "outputs": [
    {
     "name": "stdout",
     "output_type": "stream",
     "text": [
      "  0.410540 seconds (56.22 k allocations: 4.935 MiB)\n"
     ]
    }
   ],
   "source": [
    "# Izvedite 2 puta, releventno je drugo mjerenje. Izvođenje našeg programa \n",
    "# je značajno sporije!! \n",
    "@time AB(A,B);"
   ]
  },
  {
   "cell_type": "markdown",
   "metadata": {},
   "source": [
    "### Blok varijanta\n",
    "\n",
    "Da bi ubrzali naš program boljim korištenjem cache memorije, potrebno je računati s blok-matricama (BLAS 3).\n",
    "\n",
    "BLAS razina  |  &nbsp;&nbsp;&nbsp;&nbsp;&nbsp;&nbsp;  operacija &nbsp;&nbsp;&nbsp;&nbsp;&nbsp;&nbsp;&nbsp;&nbsp;&nbsp;&nbsp;&nbsp;&nbsp;  | memorija | broj rač. operacija \n",
    ":---|:-----|:---|:---\n",
    "1 | $y= \\alpha x+y$  | $2n$ | $2n$\n",
    "2 | $y=\\alpha Ax+\\beta y$ | $n^2$ | $2n^2$\n",
    "3 | $C=\\alpha A\\cdot B+\\beta C$| $3n^2$ | $2n^3$\n",
    "\n",
    "__Zadatak.__ Proučite potprograme `daxpy.f`, `dgemmv.f` i `dgemm.f`."
   ]
  },
  {
   "cell_type": "code",
   "execution_count": 14,
   "metadata": {},
   "outputs": [
    {
     "data": {
      "text/plain": [
       "8"
      ]
     },
     "execution_count": 14,
     "metadata": {},
     "output_type": "execute_result"
    }
   ],
   "source": [
    "Threads.nthreads()"
   ]
  },
  {
   "cell_type": "code",
   "execution_count": 15,
   "metadata": {},
   "outputs": [
    {
     "data": {
      "text/plain": [
       "AB (generic function with 1 method)"
      ]
     },
     "execution_count": 15,
     "metadata": {},
     "output_type": "execute_result"
    }
   ],
   "source": [
    "function AB(A::Array{T},B::Array{T}) where T\n",
    "    n=maximum(size(A))\n",
    "    # C=zeros(n,n)\n",
    "    C=[zero(A[1,1]) for i=1:n, j=1:n]\n",
    "    for i=1:n\n",
    "        for j=1:n\n",
    "            for k=1:n\n",
    "                C[i,j]+=(A[i,k]*B[k,j])\n",
    "            end\n",
    "        end\n",
    "    end\n",
    "    C\n",
    "end"
   ]
  },
  {
   "cell_type": "code",
   "execution_count": 16,
   "metadata": {},
   "outputs": [],
   "source": [
    "# Probajte k,l=32,16 i k,l=64,8. Izvedite dva puta.\n",
    "k,l=64,8\n",
    "Ab=[rand(k,k) for i=1:l, j=1:l]\n",
    "Bb=[rand(k,k) for i=1:l, j=1:l];"
   ]
  },
  {
   "cell_type": "code",
   "execution_count": 17,
   "metadata": {},
   "outputs": [
    {
     "name": "stdout",
     "output_type": "stream",
     "text": [
      "  0.112878 seconds (221.29 k allocations: 44.614 MiB, 11.62% gc time)\n"
     ]
    }
   ],
   "source": [
    "# Ovo je bitno brze\n",
    "@time C=AB(Ab,Bb);"
   ]
  },
  {
   "cell_type": "markdown",
   "metadata": {},
   "source": [
    "Za još veću brzinu trebalo bi koristiti sve jezgre, što `*` inače radi. \n",
    "\n",
    "Za korištenje Julie u višenitnom načinu u Linuxu upišite liniju\n",
    "\n",
    "    export JULIA_NUM_THREADS=`nproc`\n",
    "\n",
    "u datoteku  `.bashrc`. Za Windowse, postavite varijablu okruženja JULIA_NUM_THREADS na broj procesora (run msinfo32).\n"
   ]
  },
  {
   "cell_type": "code",
   "execution_count": 18,
   "metadata": {},
   "outputs": [
    {
     "data": {
      "text/plain": [
       "8"
      ]
     },
     "execution_count": 18,
     "metadata": {},
     "output_type": "execute_result"
    }
   ],
   "source": [
    "Threads.nthreads()"
   ]
  },
  {
   "cell_type": "markdown",
   "metadata": {},
   "source": [
    "## Točnost računanja\n",
    "\n",
    "### Osnovne računske operacije\n",
    "\n",
    "Za operacije $\\odot \\in  \\{+,*,/\\}$ vrijedi\n",
    "\n",
    "$$\n",
    "fl(a \\odot b)=(1+\\varepsilon_\\odot)(a\\odot b),\\qquad |\\varepsilon_\\odot|\\leq \\varepsilon.\n",
    "$$\n",
    "\n",
    "\n",
    "### Zbrajanje\n",
    "\n",
    "Ako potpuno točno zbrojimo dva broja koji imaju (male) pogreške iz prethodnih računanja, jednakost\n",
    "\n",
    "$$ a(1+\\varepsilon_a)+b(1+\\varepsilon_b)= (1+\\varepsilon_{ab})(a+b)\n",
    "$$\n",
    "\n",
    "daje\n",
    "\n",
    "$$\n",
    "\\varepsilon_{ab}=\\frac{a\\varepsilon_a+b\\varepsilon_a}{a+b},\n",
    "$$\n",
    "\n",
    "pa je \n",
    "\n",
    "$$\n",
    "|\\varepsilon_{ab}|\\leq \\varepsilon\\, \\frac{|a|+  |b|}{|a+b|}.\n",
    "$$\n",
    "\n",
    "Ako su $a$ i $b$ veliki brojevi različitog predznaka i ako je $a-b$ malo, pogreška može biti velika \n",
    "(_katastrofalno kraćenje_ ).\n",
    "\n",
    "### Skalarni produkt\n",
    "\n",
    "Za vektore $x$ i $y$ iz $\\mathbb{R}^n$, rekurzivna primjena prethodne formule daje apsloutna pogrešku\n",
    "\n",
    "$$|fl(x\\cdot y)-x\\cdot y|\\leq O(n\\varepsilon) |x|\\cdot |y| \\tag{1}$$\n",
    "\n",
    "i relativnu pogrešku\n",
    "\n",
    "$$\\frac{|fl(x\\cdot y)-x\\cdot y|}{|x\\cdot y|}\\leq O(n\\varepsilon) \\frac{|x|\\cdot |y|}{|x\\cdot y|}$$\n",
    "\n",
    "Ukoliko su vektori $x$ i $y$ skoro okomiti, relativna pogreška može biti velika.\n",
    "\n",
    "### Množenje matrica\n",
    "\n",
    "\n",
    "Iz formule (1) za matrice $A$ i $B$ reda $n$ slijedi\n",
    "\n",
    "$$ |fl(A\\cdot B) -A\\cdot B| \\leq O(n\\varepsilon) |A|\\cdot |B|.$$ \n"
   ]
  },
  {
   "cell_type": "code",
   "execution_count": 19,
   "metadata": {},
   "outputs": [],
   "source": [
    "n=1_000_000\n",
    "x=rand(n)\n",
    "y=rand(n) .-0.5;"
   ]
  },
  {
   "cell_type": "code",
   "execution_count": 20,
   "metadata": {},
   "outputs": [
    {
     "data": {
      "text/plain": [
       "-168.72233383786136"
      ]
     },
     "execution_count": 20,
     "metadata": {},
     "output_type": "execute_result"
    }
   ],
   "source": [
    "d=x⋅y"
   ]
  },
  {
   "cell_type": "code",
   "execution_count": 21,
   "metadata": {},
   "outputs": [
    {
     "data": {
      "text/plain": [
       "125087.41579739474"
      ]
     },
     "execution_count": 21,
     "metadata": {},
     "output_type": "execute_result"
    }
   ],
   "source": [
    "ab=abs.(x)⋅abs.(y)"
   ]
  },
  {
   "cell_type": "code",
   "execution_count": 22,
   "metadata": {},
   "outputs": [
    {
     "data": {
      "text/plain": [
       "0.4830772796770104182684235638589598238468170166015625"
      ]
     },
     "execution_count": 22,
     "metadata": {},
     "output_type": "execute_result"
    }
   ],
   "source": [
    "# provjerimo rješenje pomocu `BigFloat` brojeva (70tak tocnih znamenki)\n",
    "xbig=map(BigFloat,x)\n",
    "ybig=map(BigFloat,y)\n",
    "ybig[1]"
   ]
  },
  {
   "cell_type": "code",
   "execution_count": 23,
   "metadata": {},
   "outputs": [
    {
     "data": {
      "text/plain": [
       "-168.722333837861324952963879932667710278851157059295836491538060457340275632987"
      ]
     },
     "execution_count": 23,
     "metadata": {},
     "output_type": "execute_result"
    }
   ],
   "source": [
    "dbig=xbig⋅ybig"
   ]
  },
  {
   "cell_type": "code",
   "execution_count": 24,
   "metadata": {},
   "outputs": [
    {
     "data": {
      "text/plain": [
       "3.123424048475454e-14"
      ]
     },
     "execution_count": 24,
     "metadata": {},
     "output_type": "execute_result"
    }
   ],
   "source": [
    "abserr=map(Float64,abs(d-dbig))"
   ]
  },
  {
   "cell_type": "code",
   "execution_count": 25,
   "metadata": {},
   "outputs": [
    {
     "data": {
      "text/plain": [
       "-1.851221458018118e-16"
      ]
     },
     "execution_count": 25,
     "metadata": {},
     "output_type": "execute_result"
    }
   ],
   "source": [
    "relerr=map(Float64,abserr/d)"
   ]
  },
  {
   "cell_type": "code",
   "execution_count": 26,
   "metadata": {},
   "outputs": [],
   "source": [
    "n=256\n",
    "A=rand(n,n)\n",
    "B=rand(n,n).-0.5;"
   ]
  },
  {
   "cell_type": "code",
   "execution_count": 27,
   "metadata": {},
   "outputs": [],
   "source": [
    "Ab=map(BigFloat,A)\n",
    "Bb=map(BigFloat,B);"
   ]
  },
  {
   "cell_type": "code",
   "execution_count": 28,
   "metadata": {},
   "outputs": [
    {
     "data": {
      "text/plain": [
       "256×256 Array{Float64,2}:\n",
       " 0.0          8.88178e-16  1.94289e-16  …  1.22125e-15  3.33067e-16\n",
       " 4.44089e-16  0.0          4.44089e-16     4.44089e-16  4.44089e-16\n",
       " 8.88178e-16  8.88178e-16  4.44089e-16     1.33227e-15  8.88178e-16\n",
       " 0.0          4.44089e-16  2.22045e-16     2.22045e-16  2.498e-16\n",
       " 0.0          1.77636e-15  4.44089e-16     3.33067e-16  8.88178e-16\n",
       " 4.44089e-16  8.88178e-16  8.88178e-16  …  1.16573e-15  1.72085e-15\n",
       " 4.44089e-16  8.88178e-16  7.77156e-16     0.0          4.44089e-16\n",
       " 0.0          8.88178e-16  4.44089e-16     4.44089e-16  6.66134e-16\n",
       " 1.77636e-15  8.88178e-16  5.68989e-16     0.0          4.996e-16\n",
       " 8.88178e-16  0.0          7.77156e-16     1.33227e-15  8.88178e-16\n",
       " 0.0          1.33227e-15  8.88178e-16  …  2.10942e-15  1.11022e-16\n",
       " 1.33227e-15  8.88178e-16  2.22045e-16     1.33227e-15  2.22045e-16\n",
       " 8.88178e-16  8.88178e-16  2.22045e-16     2.63678e-16  0.0\n",
       " ⋮                                      ⋱               ⋮\n",
       " 0.0          1.11022e-15  4.44089e-16     2.22045e-16  4.44089e-16\n",
       " 1.11022e-15  8.88178e-16  1.11022e-16  …  2.22045e-16  2.22045e-16\n",
       " 8.88178e-16  1.77636e-15  0.0             2.498e-16    1.11022e-15\n",
       " 0.0          4.44089e-16  2.22045e-15     4.44089e-16  8.88178e-16\n",
       " 4.44089e-16  0.0          1.33227e-15     4.44089e-16  5.27356e-16\n",
       " 8.88178e-16  8.88178e-16  8.88178e-16     2.10942e-15  3.46945e-16\n",
       " 0.0          8.88178e-16  7.77156e-16  …  1.11022e-15  8.88178e-16\n",
       " 1.77636e-15  8.88178e-16  6.66134e-16     8.88178e-16  1.33227e-15\n",
       " 0.0          8.88178e-16  4.44089e-16     2.22045e-16  6.66134e-16\n",
       " 8.88178e-16  4.44089e-16  8.88178e-16     5.55112e-16  7.77156e-16\n",
       " 6.66134e-16  8.88178e-16  7.71952e-16     6.66134e-16  2.22045e-16\n",
       " 1.77636e-15  4.44089e-16  0.0          …  5.55112e-16  1.66533e-16"
      ]
     },
     "execution_count": 28,
     "metadata": {},
     "output_type": "execute_result"
    }
   ],
   "source": [
    "C=A*B\n",
    "# ovo traje malo duze\n",
    "Cb=Ab*Bb\n",
    "abserr=abs.(C-map(Float64,Cb))"
   ]
  },
  {
   "cell_type": "code",
   "execution_count": 29,
   "metadata": {},
   "outputs": [
    {
     "data": {
      "text/plain": [
       "256×256 Array{Float64,2}:\n",
       " 1.84106e-12  1.72578e-12  1.88512e-12  …  1.74446e-12  1.73495e-12\n",
       " 1.6719e-12   1.60552e-12  1.7931e-12      1.58596e-12  1.70469e-12\n",
       " 1.74514e-12  1.70415e-12  1.82548e-12     1.60188e-12  1.66942e-12\n",
       " 1.83691e-12  1.79893e-12  1.94598e-12     1.73869e-12  1.77406e-12\n",
       " 1.79903e-12  1.7425e-12   1.9391e-12      1.75306e-12  1.78442e-12\n",
       " 1.80942e-12  1.76822e-12  1.8727e-12   …  1.69369e-12  1.67062e-12\n",
       " 1.72417e-12  1.80633e-12  1.80137e-12     1.73857e-12  1.68673e-12\n",
       " 1.7142e-12   1.72798e-12  1.84647e-12     1.71493e-12  1.65283e-12\n",
       " 1.86284e-12  1.83902e-12  2.01703e-12     1.74358e-12  1.74056e-12\n",
       " 1.79666e-12  1.8152e-12   1.861e-12       1.68721e-12  1.74388e-12\n",
       " 1.84351e-12  1.78491e-12  1.89459e-12  …  1.6955e-12   1.80479e-12\n",
       " 1.71624e-12  1.76455e-12  1.84257e-12     1.67885e-12  1.67151e-12\n",
       " 1.65124e-12  1.6815e-12   1.79609e-12     1.65215e-12  1.618e-12\n",
       " ⋮                                      ⋱               ⋮\n",
       " 1.80498e-12  1.80008e-12  1.82932e-12     1.70963e-12  1.76532e-12\n",
       " 1.77287e-12  1.81903e-12  1.94331e-12  …  1.63891e-12  1.79033e-12\n",
       " 1.81089e-12  1.83523e-12  1.9462e-12      1.69023e-12  1.71618e-12\n",
       " 1.7914e-12   1.69682e-12  1.89259e-12     1.648e-12    1.70046e-12\n",
       " 1.74191e-12  1.79509e-12  1.9267e-12      1.68222e-12  1.75601e-12\n",
       " 1.6696e-12   1.6706e-12   1.76504e-12     1.66901e-12  1.65919e-12\n",
       " 1.76789e-12  1.82107e-12  1.99316e-12  …  1.86207e-12  1.83554e-12\n",
       " 1.81881e-12  1.79856e-12  1.89125e-12     1.75564e-12  1.85783e-12\n",
       " 1.69937e-12  1.76171e-12  1.84888e-12     1.68623e-12  1.71298e-12\n",
       " 1.72065e-12  1.73011e-12  1.83457e-12     1.68407e-12  1.7115e-12\n",
       " 1.8146e-12   1.83325e-12  1.90902e-12     1.69029e-12  1.63235e-12\n",
       " 1.83648e-12  1.78191e-12  1.83605e-12  …  1.74639e-12  1.6965e-12"
      ]
     },
     "execution_count": 29,
     "metadata": {},
     "output_type": "execute_result"
    }
   ],
   "source": [
    "abs.(A)*abs.(B)*n*eps()"
   ]
  },
  {
   "cell_type": "markdown",
   "metadata": {},
   "source": [
    "Ovdje nije lako razabrati relativnu pogrešku pa nam treba pogodnija mjera. \n",
    "U sljedećoj bilježnici objasnit ćemo  _matrične i vektorske norme_."
   ]
  },
  {
   "cell_type": "code",
   "execution_count": null,
   "metadata": {},
   "outputs": [],
   "source": []
  }
 ],
 "metadata": {
  "@webio": {
   "lastCommId": null,
   "lastKernelId": null
  },
  "kernelspec": {
   "display_name": "Julia 1.4.2",
   "language": "julia",
   "name": "julia-1.4"
  },
  "language_info": {
   "file_extension": ".jl",
   "mimetype": "application/julia",
   "name": "julia",
   "version": "1.4.2"
  }
 },
 "nbformat": 4,
 "nbformat_minor": 1
}
