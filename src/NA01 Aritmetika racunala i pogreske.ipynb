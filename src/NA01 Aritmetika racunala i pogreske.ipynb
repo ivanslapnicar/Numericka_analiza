{
 "cells": [
  {
   "cell_type": "markdown",
   "metadata": {},
   "source": [
    "# Aritmetika računala i pogreške"
   ]
  },
  {
   "cell_type": "markdown",
   "metadata": {},
   "source": [
    "## Apsolutna i relativna pogreška\n",
    "\n",
    "Neka je $\\alpha$ aproksimacija za $a$. Tada vrijedi\n",
    "\n",
    "$$err=|a-\\alpha| \\\\  relerr=\\frac{err}{|a|}=\\frac{|a-\\alpha|}{|a|}.$$"
   ]
  },
  {
   "cell_type": "code",
   "execution_count": 1,
   "metadata": {},
   "outputs": [
    {
     "data": {
      "text/plain": [
       "(5.1, 0.09999999999999964, 0.019999999999999928)"
      ]
     },
     "execution_count": 1,
     "metadata": {},
     "output_type": "execute_result"
    }
   ],
   "source": [
    "# Probajte for α=a:0.01:2a\n",
    "a=5.0\n",
    "α=5.1\n",
    "err=abs(a-α)\n",
    "relerr=err/abs(a)\n",
    "α, err, relerr"
   ]
  },
  {
   "cell_type": "markdown",
   "metadata": {},
   "source": [
    "## Aritmetika s plivajućim zarezom\n",
    "\n",
    "Korisna knjiga za IEEE Floating Point standard:\n",
    "\n",
    "M. Overton, Numerical Computing with IEEE Floating Point Arithmetic, SIAM Publications, Philadephia, 2001.\n",
    "\n",
    "Koristan članak: \n",
    "\n",
    "[David Goldberg, What Every Computer Scientist Should Know About Floating-Point Arithmetic](https://docs.oracle.com/cd/E19957-01/806-3568/ncg_goldberg.html).\n",
    "\n",
    "### Brojevi s plivajućim zarezom\n",
    "\n",
    "$x$ je broj s plivajućim zarezom ako ima oblik\n",
    "$$\n",
    "\tx = \\pm d \\cdot \\beta^e \\quad \\beta \\in \\{ 2,10 \\}\n",
    "$$\n",
    "\n",
    "Baza 2 je za računala opće namjene, baza 10 je za džepne kalkulatore.\n",
    "\n",
    "$e$ je eksponent i zadovoljava\n",
    "\n",
    "$$\n",
    "\te_{\\min} \\leq e \\leq e_{\\max}\\quad,\n",
    "\te_{\\min} < 0 < e_{\\max}\n",
    "$$\n",
    "\n",
    "Pretpostavit ćemo aritmetiku s bazom 2, ali će primjeri uglavnom biti u bazi 10.\n",
    "\n",
    "Mantisa $d$ ima oblik\n",
    "\n",
    "\\begin{align*}\n",
    "\td &= 0.d_1 \\dots d_t = d_1 \\beta^{-1} + d_2 \\beta^{-2}\n",
    "\t+ \\dots + d_t \\beta^{-t}\\\\\n",
    "d_i  &\\in \\{ 0,1\\}\\\\\n",
    "\td_1 &= 1 \\qquad \\mbox{ normalizirana }   \\\\\n",
    "\td_1 &= 0 \\qquad \\mbox{ nenormalizirana }   \\\\\n",
    "\\end{align*}\n",
    "\n",
    "Standardni oblik brojeva s plivajućim zarezom je normaliziran, osim pri dnu raspona eksponenata. \n",
    "\n",
    "Prilikom ulaza i izlaza brojevi se konvertiraju iz binarnog u decimalni zapis i natrag.\n",
    "\n",
    "Aritmetika računala je standardizirana kroz IEEE 754 standard za binarnu aritmetiku.  \n",
    "Svi osim nekolicine modernih računala prate ovaj standard."
   ]
  },
  {
   "cell_type": "markdown",
   "metadata": {},
   "source": [
    "### Točnost stroja\n",
    "\n",
    "$$\n",
    "\t\\epsilon_M = \\max_{\\lfloor \\log_2 \n",
    "    \\:|x|\\rfloor \\in\n",
    "\t[e_{\\min},e_{\\max}]} \\frac{|x - fl(x)|}{|x|}  = 2^{-t}\n",
    "$$\n",
    "\n",
    "Skup\n",
    "\n",
    "$$\n",
    "\\{ x \\colon \\lfloor \\log_2 \\: |x| \\rfloor \\in [e_{min},e_{max}] \\}\n",
    "$$\n",
    "\n",
    "je skup svih brojeva unutar normaliziranog raspona brojeva s plivajućim zarezom.\n",
    "$fl(x)$ je $x$ zaokružen na najbliži broj s plivajućim zarezom. Prema tome, _točnost stroja_ je \n",
    "najveća relativna udaljenost između realnog broja koji se nalazi u rasponu brojeva s plivajućim zarezom i najbližeg broja s plivajućim zarezom.\n",
    "\n",
    "Važni primjeri su\n",
    "\n",
    "__IEEE standardna jednostruka točnost__ (`Float32`):  $\\beta = 2$, $t = 24$,\n",
    "\n",
    "\\begin{align*}\n",
    "\t\\epsilon_M  &= 2^{-24} \\approx\t5.9605 \\times 10^{-8}\\\\\n",
    "\te_{\\min} &= - 126,\\quad e_{\\max} = 128.\n",
    "\\end{align*}\n",
    "\n",
    "\n",
    "__IEEE standardna dvostruka točnost__ (`Float 64`): $\\beta =2$, $t = 53$,\n",
    "\n",
    "\\begin{align*}\n",
    "\t\\epsilon_M &= 2^{-53} \\approx 1.1102 \\times 10^{-16}\\\\\n",
    "    e_{\\min} &= -1022,\\quad e_{\\max} = 1024\n",
    "\\end{align*}\n",
    "\n",
    "Izračunajmo točnost stroja kao najmanji pozitivni broj $\\epsilon_M$ takav da je $1+\\epsilon_M\\neq 1$:"
   ]
  },
  {
   "cell_type": "code",
   "execution_count": 2,
   "metadata": {},
   "outputs": [
    {
     "name": "stdout",
     "output_type": "stream",
     "text": [
      "1.0\n",
      "0.5\n",
      "0.25\n",
      "0.125\n",
      "0.0625\n",
      "0.03125\n",
      "0.015625\n",
      "0.0078125\n",
      "0.00390625\n",
      "0.001953125\n",
      "0.0009765625\n",
      "0.00048828125\n",
      "0.000244140625\n",
      "0.0001220703125\n",
      "6.103515625e-5\n",
      "3.0517578125e-5\n",
      "1.52587890625e-5\n",
      "7.62939453125e-6\n",
      "3.814697265625e-6\n",
      "1.9073486328125e-6\n",
      "9.5367431640625e-7\n",
      "4.76837158203125e-7\n",
      "2.384185791015625e-7\n",
      "1.1920928955078125e-7\n",
      "5.960464477539063e-8\n",
      "2.9802322387695312e-8\n",
      "1.4901161193847656e-8\n",
      "7.450580596923828e-9\n",
      "3.725290298461914e-9\n",
      "1.862645149230957e-9\n",
      "9.313225746154785e-10\n",
      "4.656612873077393e-10\n",
      "2.3283064365386963e-10\n",
      "1.1641532182693481e-10\n",
      "5.820766091346741e-11\n",
      "2.9103830456733704e-11\n",
      "1.4551915228366852e-11\n",
      "7.275957614183426e-12\n",
      "3.637978807091713e-12\n",
      "1.8189894035458565e-12\n",
      "9.094947017729282e-13\n",
      "4.547473508864641e-13\n",
      "2.2737367544323206e-13\n",
      "1.1368683772161603e-13\n",
      "5.684341886080802e-14\n",
      "2.842170943040401e-14\n",
      "1.4210854715202004e-14\n",
      "7.105427357601002e-15\n",
      "3.552713678800501e-15\n",
      "1.7763568394002505e-15\n",
      "8.881784197001252e-16\n",
      "4.440892098500626e-16\n",
      "2.220446049250313e-16\n",
      "1.1102230246251565e-16\n"
     ]
    }
   ],
   "source": [
    "b=1.0\n",
    "a=2.0\n",
    "while (b+a)!=b\n",
    "    a=a/2\n",
    "    println(a)\n",
    "end"
   ]
  },
  {
   "cell_type": "markdown",
   "metadata": {},
   "source": [
    "MATLAB naredba `eps` i Julia funkcija `eps()` daju $2.2204 \\times\n",
    "10^{-16}$, što je najveći relativni razmak između dva broja s plivajućim zarezom.\n",
    "Lako se može zaključit da je taj broj $2\\epsilon_M$."
   ]
  },
  {
   "cell_type": "code",
   "execution_count": 3,
   "metadata": {},
   "outputs": [
    {
     "data": {
      "text/plain": [
       "2.220446049250313e-16"
      ]
     },
     "execution_count": 3,
     "metadata": {},
     "output_type": "execute_result"
    }
   ],
   "source": [
    "eps()"
   ]
  },
  {
   "cell_type": "code",
   "execution_count": 4,
   "metadata": {},
   "outputs": [
    {
     "data": {
      "text/plain": [
       "2.842170943040401e-14"
      ]
     },
     "execution_count": 4,
     "metadata": {},
     "output_type": "execute_result"
    }
   ],
   "source": [
    "# Što je ovo?\n",
    "eps(200.0)"
   ]
  },
  {
   "cell_type": "markdown",
   "metadata": {},
   "source": [
    "Julia posebno ima sustav tipova podataka, gdje je tip `Float64` pod-tip tipa `AbstractFloat`, koji ima četiri pod-tipa. Uz standardne tipove `Float64` i `Float32`, tu su i tip `Float16` koji koristi samo dva bajta računalne memorije i tip `BigFloat` čija mantisa ima 256 bitova."
   ]
  },
  {
   "cell_type": "code",
   "execution_count": 5,
   "metadata": {},
   "outputs": [
    {
     "data": {
      "text/plain": [
       "AbstractFloat"
      ]
     },
     "execution_count": 5,
     "metadata": {},
     "output_type": "execute_result"
    }
   ],
   "source": [
    "supertype(Float64)"
   ]
  },
  {
   "cell_type": "code",
   "execution_count": 6,
   "metadata": {},
   "outputs": [
    {
     "data": {
      "text/plain": [
       "4-element Array{Any,1}:\n",
       " BigFloat\n",
       " Float16 \n",
       " Float32 \n",
       " Float64 "
      ]
     },
     "execution_count": 6,
     "metadata": {},
     "output_type": "execute_result"
    }
   ],
   "source": [
    "subtypes(AbstractFloat)"
   ]
  },
  {
   "cell_type": "code",
   "execution_count": 7,
   "metadata": {},
   "outputs": [
    {
     "name": "stdout",
     "output_type": "stream",
     "text": [
      "0.000977\n",
      "1.1920929e-7\n",
      "2.220446049250313e-16\n",
      "1.727233711018888925077270372560079914223200072887256277004740694033718360632485e-77\n"
     ]
    }
   ],
   "source": [
    "for T in (Float16, Float32, Float64, BigFloat)\n",
    "    println(eps(T))\n",
    "end"
   ]
  },
  {
   "cell_type": "markdown",
   "metadata": {},
   "source": [
    "### Osnovne operacije s plivajućim zarezom\n",
    "\n",
    "Započnimo s četiri osnovne operacije, zbrajanjem ($+$), oduzimanjem ($-$), moženjem ($*$) i\n",
    "dijeljenjem ($/$). Neka je $op$ operacija tako da je\n",
    "\n",
    "$$\n",
    "op \\in \\{ + , - , *,/\\}.\n",
    "$$\n",
    "\n",
    "Tada je u aritmetici plivajućeg zareza s točnošću stroja $\\epsilon_M$ razumno očekivti da za svaka dva \n",
    "broja s plivajućim zarezom $x$ i $y$ vrijedi\n",
    "\n",
    "$$\n",
    "fl(x\\;op\\;y) = (x \\; op\\; y)\\;(1 + \\xi),\\quad\n",
    "|\\xi| \\leq \\epsilon_M\n",
    "$$\n",
    "\n",
    "For division, we assume $y \\neq 0$.\n",
    "Any IEEE standard computer must follow this rule.  Rounding is one of two limitations that floating point\n",
    "arithmetic has that real arithmetic does not have. You can quickly conclude from the above rule that as long as all that we do is add numbers of the same sign, multiply, and divide, floating point results will almost always come very close to the corresponding real arithmetic results. The difficulty occurs if we either of $x$ or $y$ is rounded, they have different signs and we add or have the same signs and we subtract. \n",
    "\n",
    "That is, suppose we have\n",
    "\n",
    "$$\n",
    "\\tilde{x}= x(1+\\delta_x), \\quad \\tilde{y} = y(1+\\delta_y)\n",
    "$$\n",
    "\n",
    "where $x$ and $y$ are the exact real results of some computation and $\\tilde{x}$ and $\\tilde{y}$ are rounded floating point results with $|\\delta_x| |\\delta_y| \\leq \\delta$ for some small delta.  Suppose also that $x$ and $y$ have the same sign. If\n",
    "\n",
    "$$\n",
    "z=x+y, \\quad \\tilde{z} = fl(\\tilde{x} -\\tilde{y})\n",
    "$$\n",
    "\n",
    "Then\n",
    "\n",
    "\\begin{align*}\n",
    "\\tilde{z} &=(\\tilde{x}-\\tilde{y})(1+\\xi), \\quad |\\xi| \\leq \\epsilon_M\\\\\n",
    "& x(1+\\delta_x)(1+\\xi) -y(1+\\delta_y)(1+\\xi) \\\\\n",
    "& x-y + \\Delta_z\n",
    "\\end{align*}\n",
    "\n",
    "where\n",
    "\n",
    "$$\n",
    "\\Delta_z = (x-y)\\xi + (x\\delta_x -y\\delta_y)(1+\\xi)\n",
    "$$\n",
    "\n",
    "The best available bound on $|\\Delta_z|$ is\n",
    "\n",
    "\\begin{align*}\n",
    "|\\Delta_z| &\\leq |x-y||\\xi| + (|x||\\delta_x| + |y||\\delta_y|)(1+|\\xi|) \\\\\n",
    "& \\leq |x-y| \\epsilon_M + (|x|+|y|)\\delta(1+\\epsilon_M)\n",
    "\\end{align*}\n",
    "\n",
    "Thus\n",
    "\n",
    "\\begin{align*}\n",
    "|\\delta_z| &= \\frac{|\\tilde{z}-z|}{|z|}\\\\\n",
    "&\\leq \\epsilon_M + (1+\\epsilon_M)\\delta\\frac{|x|+|y|}{|x-y|}\n",
    "\\end{align*}\n",
    "\n",
    "If $|x-y| << |x|+|y|$, the effect of the round in the subtraction is not important, but the error from\n",
    "previous computations on $x$ and $y$ can have a huge effect. The effect is called __propagation__. It can dramatically change the result of a compuation! We will see this issue with some examples later in this lecture.\n",
    "\n",
    "Rounding is the first important limitation of floating point arithmetic.  A second limitation is the number range.\n",
    "\n",
    "\n",
    "\n",
    "__Number Ranges__\n",
    "\n",
    "Floating point arithmetic has a largest and smallest computer number. First, the largest one.\n",
    "\n",
    "__Largest Computer Number__ $\\Omega$\n",
    "\n",
    "In base $2$, with a $t$ bit mantissa, the largest computer number is\n",
    "\n",
    "$$\n",
    "\t\\Omega = (1 - 2^{-t}) \\cdot 2^{e_{\\max}}\n",
    "$$\n",
    "\n",
    "When numbers exceed $\\Omega$, they are stored as `Inf` ($\\infty$) or\n",
    "`-Inf` ($-\\infty$).\n",
    "\n",
    "\n",
    "__IEEE Standard Single Precision (Float32)__\n",
    "\n",
    "$$\n",
    "e_{\\max} = 128,  \\quad \\Omega = 3.4028\\approx 10^{38}\n",
    "$$\n",
    "\n",
    "\n",
    "__IEEE Standard Double Precision (Float64)__\n",
    "\n",
    "$$\n",
    "e_{\\max} = 1024, \\quad \\Omega = 1.79777 \\times 10^{308}\n",
    "$$\n",
    "\n",
    "The  MATLAB __realmax__ command displays this number.\n",
    "\n",
    "\n",
    "\n",
    "__Smallest Computer Number__ $\\omega$\n",
    "\n",
    "The definition of the smallest computer number is somewhat more complex.\n",
    "\n",
    "\n",
    "__IEEE Floating Point Standard__\n",
    "\n",
    "The smallest computer number is given by\n",
    "\n",
    "$$\n",
    "\\omega = 2^{1-t} 2^{e_{\\min}}.\n",
    "$$\n",
    "\n",
    "If a computation produces a number smaller in magnitude than $\\omega$, it produces what is called an \n",
    "__underflow__, it is set to $0$ or\n",
    "$-0$.  If the programmer chooses, an underflow can result in an error, but in most computations, underflows are not harmful.\n",
    "\n",
    "\n",
    "\n",
    "__IEEE Standard Single Precision (Float32)__\n",
    "\n",
    "$$\n",
    "\\omega = 2^{-23- 126} = 2^{-149} \\approx  1.4013 \\times 10^{-45}.\n",
    "$$\n",
    "\n",
    "In MATLAB, this comes from the command\n",
    "\n",
    "$$\n",
    "omega= eps('single')*realmin('single');\n",
    "$$\n",
    "\n",
    "\n",
    "__IEEE Standard Double Precision (Float64)__\n",
    "\n",
    "$$\n",
    "\\omega= 2^{-1022-52} = 2^{-1074} \\approx  4.9407 \\times 10^{-324}\n",
    "$$\n",
    "\n",
    "The appropriate MATLAB command to get this value is\n",
    "\n",
    "$$\n",
    "omega = eps*realmin.\n",
    "$$\n",
    "\n",
    "_Important and Subtle Point_ --- Numbers at the bottom of the exponent\n",
    "range are not normalized.\n",
    "\n",
    "MATLAB function `realmin` yields\n",
    "\n",
    "$$\n",
    "\t\\underline{\\omega_{useful} \\approx 2.2251 \\times 10^{-308}}\n",
    "$$\n",
    "\n",
    "Some people call this the smallest USEFUL floating point\n",
    " number since\n",
    " \n",
    "$$\n",
    "1/\\omega_{useful} \\leq \\Omega\n",
    "$$\n",
    "\n",
    "and $\\omega_{useful}$ is normalized.\n",
    "\n",
    "Smallest floating point number, $\\omega$ has the form\n",
    "\n",
    "$$\n",
    "\t0.0 \\cdots 01 \\times 2^{e_{\\min}} \\quad \\cdots\\quad\n",
    "\t\\underline{\\mbox{Gradual Underflow}}\n",
    "$$\n",
    "\n",
    "Before the IEEE standard most computers had the smallest\n",
    "floating point number as\n",
    "$$\n",
    "\t0.10 \\cdots 0 \\times 2^{e_{\\min}} \\qquad \\cdots\n",
    "\t\\mbox{ normalized}\n",
    "$$\n",
    "\n",
    "Earlier computers, (pre-1985) set numbers below this smallest 'useful' floating point number to zero.\n",
    "This change was one of the more controversial features of the IEEE standard."
   ]
  },
  {
   "cell_type": "code",
   "execution_count": 12,
   "metadata": {},
   "outputs": [
    {
     "data": {
      "text/plain": [
       "(4.49423283715579e307, 1.7976931348623157e308)"
      ]
     },
     "execution_count": 12,
     "metadata": {},
     "output_type": "execute_result"
    }
   ],
   "source": [
    "1/floatmin(),floatmax()"
   ]
  },
  {
   "cell_type": "code",
   "execution_count": 8,
   "metadata": {},
   "outputs": [
    {
     "name": "stdout",
     "output_type": "stream",
     "text": [
      "(Float16(6.104e-5), Float16(6.55e4))\n",
      "(1.1754944f-38, 3.4028235f38)\n",
      "(2.2250738585072014e-308, 1.7976931348623157e308)\n",
      "(8.50969131174083613912978790962048280567755996982969624908264897850135431080301e-1388255822130839284, 5.875653789111587590936911998878442589938516392745498308333779606469323584389875e+1388255822130839282)\n"
     ]
    }
   ],
   "source": [
    "for T in (Float16, Float32, Float64, BigFloat)\n",
    "    println((floatmin(T),floatmax(T)))\n",
    "end"
   ]
  },
  {
   "cell_type": "markdown",
   "metadata": {},
   "source": [
    "## Posebne vrijednosti (_special quantities_) $0$, $-0$, `Inf` i `NaN`\n",
    "\n",
    "Vidi \n"
   ]
  },
  {
   "cell_type": "markdown",
   "metadata": {},
   "source": [
    "Nula ima predznak:"
   ]
  },
  {
   "cell_type": "code",
   "execution_count": 4,
   "metadata": {},
   "outputs": [
    {
     "data": {
      "text/plain": [
       "(-0.0, true)"
      ]
     },
     "execution_count": 4,
     "metadata": {},
     "output_type": "execute_result"
    }
   ],
   "source": [
    "a=1.0\n",
    "b=0.0\n",
    "c=-b\n",
    "c,b==c"
   ]
  },
  {
   "cell_type": "code",
   "execution_count": 5,
   "metadata": {},
   "outputs": [
    {
     "data": {
      "text/plain": [
       "(false, true)"
      ]
     },
     "execution_count": 5,
     "metadata": {},
     "output_type": "execute_result"
    }
   ],
   "source": [
    "d=a/b\n",
    "e=a/c\n",
    "d==e, 1/d==1/e"
   ]
  },
  {
   "cell_type": "code",
   "execution_count": 6,
   "metadata": {},
   "outputs": [
    {
     "data": {
      "text/plain": [
       "NaN"
      ]
     },
     "execution_count": 6,
     "metadata": {},
     "output_type": "execute_result"
    }
   ],
   "source": [
    "b/c"
   ]
  },
  {
   "cell_type": "code",
   "execution_count": 9,
   "metadata": {},
   "outputs": [
    {
     "data": {
      "text/plain": [
       "\"0000000000000000000000000000000000000000000000000000000000000000\""
      ]
     },
     "execution_count": 9,
     "metadata": {},
     "output_type": "execute_result"
    }
   ],
   "source": [
    "bitstring(0)"
   ]
  },
  {
   "cell_type": "code",
   "execution_count": 11,
   "metadata": {},
   "outputs": [
    {
     "data": {
      "text/plain": [
       "\"0000000000000000000000000000000000000000000000000000000000000001\""
      ]
     },
     "execution_count": 11,
     "metadata": {},
     "output_type": "execute_result"
    }
   ],
   "source": [
    "bitstring(1)"
   ]
  },
  {
   "cell_type": "code",
   "execution_count": 12,
   "metadata": {},
   "outputs": [
    {
     "data": {
      "text/plain": [
       "\"0000000000000000000000000000000000000000000000000000000000000000\""
      ]
     },
     "execution_count": 12,
     "metadata": {},
     "output_type": "execute_result"
    }
   ],
   "source": [
    "bitstring(0.0)"
   ]
  },
  {
   "cell_type": "code",
   "execution_count": 13,
   "metadata": {},
   "outputs": [
    {
     "data": {
      "text/plain": [
       "\"1000000000000000000000000000000000000000000000000000000000000000\""
      ]
     },
     "execution_count": 13,
     "metadata": {},
     "output_type": "execute_result"
    }
   ],
   "source": [
    "bitstring(-0.0)"
   ]
  },
  {
   "cell_type": "code",
   "execution_count": 14,
   "metadata": {},
   "outputs": [
    {
     "data": {
      "text/plain": [
       "\"0011111111110000000000000000000000000000000000000000000000000000\""
      ]
     },
     "execution_count": 14,
     "metadata": {},
     "output_type": "execute_result"
    }
   ],
   "source": [
    "bitstring(1.0)"
   ]
  },
  {
   "cell_type": "markdown",
   "metadata": {},
   "source": [
    "__Zadatak.__ Objasnite prethodne binarne zapise. "
   ]
  },
  {
   "cell_type": "markdown",
   "metadata": {},
   "source": [
    "## Točnost stroja $\\varepsilon$\n",
    "\n",
    "je najmanji broj $\\varepsilon$ takav da je $1+\\varepsilon\\neq 1$ "
   ]
  },
  {
   "cell_type": "code",
   "execution_count": 16,
   "metadata": {},
   "outputs": [
    {
     "name": "stdout",
     "output_type": "stream",
     "text": [
      "1.0\n",
      "0.5\n",
      "0.25\n",
      "0.125\n",
      "0.0625\n",
      "0.03125\n",
      "0.015625\n",
      "0.0078125\n",
      "0.00390625\n",
      "0.001953125\n",
      "0.0009765625\n",
      "0.00048828125\n",
      "0.000244140625\n",
      "0.0001220703125\n",
      "6.103515625e-5\n",
      "3.0517578125e-5\n",
      "1.52587890625e-5\n",
      "7.62939453125e-6\n",
      "3.814697265625e-6\n",
      "1.9073486328125e-6\n",
      "9.5367431640625e-7\n",
      "4.76837158203125e-7\n",
      "2.384185791015625e-7\n",
      "1.1920928955078125e-7\n",
      "5.960464477539063e-8\n",
      "2.9802322387695312e-8\n",
      "1.4901161193847656e-8\n",
      "7.450580596923828e-9\n",
      "3.725290298461914e-9\n",
      "1.862645149230957e-9\n",
      "9.313225746154785e-10\n",
      "4.656612873077393e-10\n",
      "2.3283064365386963e-10\n",
      "1.1641532182693481e-10\n",
      "5.820766091346741e-11\n",
      "2.9103830456733704e-11\n",
      "1.4551915228366852e-11\n",
      "7.275957614183426e-12\n",
      "3.637978807091713e-12\n",
      "1.8189894035458565e-12\n",
      "9.094947017729282e-13\n",
      "4.547473508864641e-13\n",
      "2.2737367544323206e-13\n",
      "1.1368683772161603e-13\n",
      "5.684341886080802e-14\n",
      "2.842170943040401e-14\n",
      "1.4210854715202004e-14\n",
      "7.105427357601002e-15\n",
      "3.552713678800501e-15\n",
      "1.7763568394002505e-15\n",
      "8.881784197001252e-16\n",
      "4.440892098500626e-16\n",
      "2.220446049250313e-16\n",
      "1.1102230246251565e-16\n"
     ]
    }
   ],
   "source": [
    "b=1.0\n",
    "a=2.0\n",
    "while (b+a)!=b\n",
    "    a=a/2\n",
    "    println(a)\n",
    "end"
   ]
  },
  {
   "cell_type": "code",
   "execution_count": 17,
   "metadata": {},
   "outputs": [
    {
     "data": {
      "text/plain": [
       "true"
      ]
     },
     "execution_count": 17,
     "metadata": {},
     "output_type": "execute_result"
    }
   ],
   "source": [
    "1+a==1.0"
   ]
  },
  {
   "cell_type": "code",
   "execution_count": 18,
   "metadata": {},
   "outputs": [
    {
     "data": {
      "text/plain": [
       "(2.220446049250313e-16, false)"
      ]
     },
     "execution_count": 18,
     "metadata": {},
     "output_type": "execute_result"
    }
   ],
   "source": [
    "2a, 1+2a==1.0"
   ]
  },
  {
   "cell_type": "markdown",
   "metadata": {},
   "source": [
    "Programi imaju ugrađenu naredbu koja daje $\\varepsilon$"
   ]
  },
  {
   "cell_type": "code",
   "execution_count": 19,
   "metadata": {},
   "outputs": [
    {
     "data": {
      "text/plain": [
       "2.220446049250313e-16"
      ]
     },
     "execution_count": 19,
     "metadata": {},
     "output_type": "execute_result"
    }
   ],
   "source": [
    "eps()"
   ]
  },
  {
   "cell_type": "code",
   "execution_count": 20,
   "metadata": {},
   "outputs": [
    {
     "data": {
      "text/plain": [
       "2.842170943040401e-14"
      ]
     },
     "execution_count": 20,
     "metadata": {},
     "output_type": "execute_result"
    }
   ],
   "source": [
    "# Što je ovo?\n",
    "eps(200.0)"
   ]
  },
  {
   "cell_type": "code",
   "execution_count": 21,
   "metadata": {},
   "outputs": [
    {
     "data": {
      "text/html": [
       "11 methods for generic function <b>eps</b>:<ul><li> eps(t::<b>Dates.Time</b>) in Dates at <a href=\"file:///buildworker/worker/package_linux64/build/usr/share/julia/stdlib/v1.0/Dates/src/types.jl\" target=\"_blank\">/buildworker/worker/package_linux64/build/usr/share/julia/stdlib/v1.0/Dates/src/types.jl:334</a></li> <li> eps(dt::<b>Dates.Date</b>) in Dates at <a href=\"file:///buildworker/worker/package_linux64/build/usr/share/julia/stdlib/v1.0/Dates/src/types.jl\" target=\"_blank\">/buildworker/worker/package_linux64/build/usr/share/julia/stdlib/v1.0/Dates/src/types.jl:333</a></li> <li> eps(dt::<b>Dates.DateTime</b>) in Dates at <a href=\"file:///buildworker/worker/package_linux64/build/usr/share/julia/stdlib/v1.0/Dates/src/types.jl\" target=\"_blank\">/buildworker/worker/package_linux64/build/usr/share/julia/stdlib/v1.0/Dates/src/types.jl:332</a></li> <li> eps() in Base at <a href=\"https://github.com/JuliaLang/julia/tree/d789231e9985537686052db9b2314c0d51656308/base/float.jl#L739\" target=\"_blank\">float.jl:739</a></li> <li> eps(x::<b>AbstractFloat</b>) in Base at <a href=\"https://github.com/JuliaLang/julia/tree/d789231e9985537686052db9b2314c0d51656308/base/float.jl#L735\" target=\"_blank\">float.jl:735</a></li> <li> eps(::<b>Type{Float16}</b>) in Base at <a href=\"https://github.com/JuliaLang/julia/tree/d789231e9985537686052db9b2314c0d51656308/base/float.jl#L736\" target=\"_blank\">float.jl:736</a></li> <li> eps(::<b>Type{Float32}</b>) in Base at <a href=\"https://github.com/JuliaLang/julia/tree/d789231e9985537686052db9b2314c0d51656308/base/float.jl#L737\" target=\"_blank\">float.jl:737</a></li> <li> eps(::<b>Type{Float64}</b>) in Base at <a href=\"https://github.com/JuliaLang/julia/tree/d789231e9985537686052db9b2314c0d51656308/base/float.jl#L738\" target=\"_blank\">float.jl:738</a></li> <li> eps(::<b>Type{BigFloat}</b>) in Base.MPFR at <a href=\"https://github.com/JuliaLang/julia/tree/d789231e9985537686052db9b2314c0d51656308/base/mpfr.jl#L882\" target=\"_blank\">mpfr.jl:882</a></li> <li> eps<i>{T<:FixedPoint}</i>(::<b>Type{T}</b>) in FixedPointNumbers at <a href=\"file:///home/slap/.julia/packages/FixedPointNumbers/3QAEg/src/FixedPointNumbers.jl\" target=\"_blank\">/home/slap/.julia/packages/FixedPointNumbers/3QAEg/src/FixedPointNumbers.jl:121</a></li> <li> eps<i>{T<:FixedPoint}</i>(::<b>T</b>) in FixedPointNumbers at <a href=\"file:///home/slap/.julia/packages/FixedPointNumbers/3QAEg/src/FixedPointNumbers.jl\" target=\"_blank\">/home/slap/.julia/packages/FixedPointNumbers/3QAEg/src/FixedPointNumbers.jl:122</a></li> </ul>"
      ],
      "text/plain": [
       "# 11 methods for generic function \"eps\":\n",
       "[1] eps(t::Dates.Time) in Dates at /buildworker/worker/package_linux64/build/usr/share/julia/stdlib/v1.0/Dates/src/types.jl:334\n",
       "[2] eps(dt::Dates.Date) in Dates at /buildworker/worker/package_linux64/build/usr/share/julia/stdlib/v1.0/Dates/src/types.jl:333\n",
       "[3] eps(dt::Dates.DateTime) in Dates at /buildworker/worker/package_linux64/build/usr/share/julia/stdlib/v1.0/Dates/src/types.jl:332\n",
       "[4] eps() in Base at float.jl:739\n",
       "[5] eps(x::AbstractFloat) in Base at float.jl:735\n",
       "[6] eps(::Type{Float16}) in Base at float.jl:736\n",
       "[7] eps(::Type{Float32}) in Base at float.jl:737\n",
       "[8] eps(::Type{Float64}) in Base at float.jl:738\n",
       "[9] eps(::Type{BigFloat}) in Base.MPFR at mpfr.jl:882\n",
       "[10] eps(::Type{T}) where T<:FixedPointNumbers.FixedPoint in FixedPointNumbers at /home/slap/.julia/packages/FixedPointNumbers/3QAEg/src/FixedPointNumbers.jl:121\n",
       "[11] eps(::T) where T<:FixedPointNumbers.FixedPoint in FixedPointNumbers at /home/slap/.julia/packages/FixedPointNumbers/3QAEg/src/FixedPointNumbers.jl:122"
      ]
     },
     "execution_count": 21,
     "metadata": {},
     "output_type": "execute_result"
    }
   ],
   "source": [
    "methods(eps)"
   ]
  },
  {
   "cell_type": "code",
   "execution_count": 22,
   "metadata": {},
   "outputs": [
    {
     "data": {
      "text/plain": [
       "(2.220446049250313e-16, 2.220446049250313e-16)"
      ]
     },
     "execution_count": 22,
     "metadata": {},
     "output_type": "execute_result"
    }
   ],
   "source": [
    "eps(Float64), 2.0^(-52)"
   ]
  },
  {
   "cell_type": "code",
   "execution_count": 23,
   "metadata": {},
   "outputs": [
    {
     "data": {
      "text/plain": [
       "(1.1920929f-7, 1.1920928955078125e-7)"
      ]
     },
     "execution_count": 23,
     "metadata": {},
     "output_type": "execute_result"
    }
   ],
   "source": [
    "eps(Float32), 2.0^(-23)"
   ]
  },
  {
   "cell_type": "code",
   "execution_count": 24,
   "metadata": {},
   "outputs": [
    {
     "data": {
      "text/plain": [
       "(Float16(0.000977), 0.0009765625)"
      ]
     },
     "execution_count": 24,
     "metadata": {},
     "output_type": "execute_result"
    }
   ],
   "source": [
    "eps(Float16), 2.0^(-10)"
   ]
  },
  {
   "cell_type": "code",
   "execution_count": 25,
   "metadata": {},
   "outputs": [
    {
     "data": {
      "text/plain": [
       "(1.727233711018888925077270372560079914223200072887256277004740694033718360632485e-77, 1.727233711018889e-77)"
      ]
     },
     "execution_count": 25,
     "metadata": {},
     "output_type": "execute_result"
    }
   ],
   "source": [
    "eps(BigFloat), 2.0^(-255)"
   ]
  },
  {
   "cell_type": "markdown",
   "metadata": {},
   "source": [
    "## Katastrofalno kraćenje (_catastrophic cancellation_)\n",
    "\n",
    "U egzaktnoj aritmetici kvadratna jednadžba\n",
    "\n",
    "$$ ax^2 + bx+c=0$$\n",
    "\n",
    "ima rješenja\n",
    "\n",
    "\\begin{align*}\n",
    "x_1&=\\frac{-b-\\sqrt{b^2-4ac}}{2a} \\\\\n",
    "x_2&=\\frac{-b+\\sqrt{b^2-4ac}}{2a}\\equiv \\frac{-b+\\sqrt{b^2-4ac}}{2a}\\cdot \\frac{-b-\\sqrt{b^2-4ac}}{-b-\\sqrt{b^2-4ac}}\n",
    "\\\\ &= \\frac{2c}{-b-\\sqrt{b^2-4ac}}=x_3\n",
    "\\end{align*}\n"
   ]
  },
  {
   "cell_type": "code",
   "execution_count": 26,
   "metadata": {},
   "outputs": [
    {
     "data": {
      "text/plain": [
       "(-6.172839449999997e7, -3.3527612686157227e-8, -3.240000029484002e-8)"
      ]
     },
     "execution_count": 26,
     "metadata": {},
     "output_type": "execute_result"
    }
   ],
   "source": [
    "a=2.0\n",
    "b=123456789.0\n",
    "c=4.0\n",
    "\n",
    "x1=(-b-sqrt(b*b-4*a*c))/(2.0*a)\n",
    "x2=(-b+sqrt(b*b-4*a*c))/(2.0*a)\n",
    "x3=(2*c)/(-b-sqrt(b*b-4*a*c))\n",
    "x1,x2,x3"
   ]
  },
  {
   "cell_type": "markdown",
   "metadata": {},
   "source": [
    "Provjerimo s `BigFloat`:"
   ]
  },
  {
   "cell_type": "code",
   "execution_count": 27,
   "metadata": {},
   "outputs": [
    {
     "data": {
      "text/plain": [
       "-3.240000029484001968915648868258452417675753633383540995167795107129921671968718e-08"
      ]
     },
     "execution_count": 27,
     "metadata": {},
     "output_type": "execute_result"
    }
   ],
   "source": [
    "a=BigFloat(a)\n",
    "b=BigFloat(b)\n",
    "c=BigFloat(c)\n",
    "x2=(-b+sqrt(b*b-4*a*c))/(2.0*a)"
   ]
  },
  {
   "cell_type": "markdown",
   "metadata": {
    "collapsed": true
   },
   "source": [
    "Još jedan primjer:"
   ]
  },
  {
   "cell_type": "code",
   "execution_count": 28,
   "metadata": {},
   "outputs": [
    {
     "data": {
      "text/plain": [
       "0.0"
      ]
     },
     "execution_count": 28,
     "metadata": {},
     "output_type": "execute_result"
    }
   ],
   "source": [
    "x=1e-10\n",
    "tan(x)-sin(x)"
   ]
  },
  {
   "cell_type": "markdown",
   "metadata": {},
   "source": [
    "Međutim,\n",
    "trignometrijski indentiti daju:\n",
    "\n",
    "\\begin{align*}\n",
    "\\tan x - \\sin x & = \\tan x (1 - \\cos x ) \n",
    "= \\tan x (1-\\cos x)\\frac{1+\\cos x}{1+\\cos x}\\\\ & = \\tan x \\frac{1-\\cos^2 x}{1+\\cos x} \\\\\n",
    "&= \\tan x \\sin^2 x \\frac{1}{1+\\cos x},\n",
    "\\end{align*}\n",
    "\n",
    "a Taylorova formula daje:\n",
    "\n",
    "\\begin{align*}\n",
    "\\tan x &= x + \\frac{x^3}{3} + \\frac{2x^5}{15} + O(x^7) \\\\\n",
    "\\sin x &= x -\\frac{x^3}{6} + \\frac{x^5}{120}+O(x^7) \\\\\n",
    "\\tan x - \\sin x &= \\frac{x^3}{2} + \\frac{7x^5}{120} +O(x^7)\n",
    "\\end{align*}\n",
    "\n",
    "Obe formule daju potpuno točan rezultat:"
   ]
  },
  {
   "cell_type": "code",
   "execution_count": 29,
   "metadata": {},
   "outputs": [
    {
     "data": {
      "text/plain": [
       "(5.0e-31, 5.0e-31)"
      ]
     },
     "execution_count": 29,
     "metadata": {},
     "output_type": "execute_result"
    }
   ],
   "source": [
    "tan(x)*sin(x)^2/(1+cos(x)), x^3/2+7*x^5/120"
   ]
  }
 ],
 "metadata": {
  "@webio": {
   "lastCommId": "bba6cbf6d0fd44e185377a4c25b0460c",
   "lastKernelId": "21509007-ef6c-44f8-83a8-fec7fe63f627"
  },
  "kernelspec": {
   "display_name": "Julia 1.1.0",
   "language": "julia",
   "name": "julia-1.1"
  },
  "language_info": {
   "file_extension": ".jl",
   "mimetype": "application/julia",
   "name": "julia",
   "version": "1.1.0"
  }
 },
 "nbformat": 4,
 "nbformat_minor": 1
}
