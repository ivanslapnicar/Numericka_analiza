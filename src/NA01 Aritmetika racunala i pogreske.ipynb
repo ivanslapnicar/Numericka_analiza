{
 "cells": [
  {
   "cell_type": "markdown",
   "metadata": {},
   "source": [
    "# Aritmetika računala i pogreške"
   ]
  },
  {
   "cell_type": "markdown",
   "metadata": {},
   "source": [
    "## Apsolutna i relativna pogreška\n",
    "\n",
    "Neka je $\\alpha$ aproksimacija za $a$. Tada vrijedi\n",
    "\n",
    "$$err=|a-\\alpha| \\\\  relerr=\\frac{err}{|a|}=\\frac{|a-\\alpha|}{|a|}.$$"
   ]
  },
  {
   "cell_type": "code",
   "execution_count": 1,
   "metadata": {},
   "outputs": [
    {
     "data": {
      "text/plain": [
       "(5.1, 0.09999999999999964, 0.019999999999999928)"
      ]
     },
     "execution_count": 1,
     "metadata": {},
     "output_type": "execute_result"
    }
   ],
   "source": [
    "# Probajte for α=a:0.01:2a\n",
    "a=5.0\n",
    "α=5.1\n",
    "err=abs(a-α)\n",
    "relerr=err/abs(a)\n",
    "α, err, relerr"
   ]
  },
  {
   "cell_type": "markdown",
   "metadata": {},
   "source": [
    "## Aritmetika s plivajućim zarezom\n",
    "\n",
    "Korisna knjiga za IEEE Floating Point standard:\n",
    "\n",
    "M. Overton, Numerical Computing with IEEE Floating Point Arithmetic, SIAM Publications, Philadephia, 2001.\n",
    "\n",
    "Koristan članak: \n",
    "\n",
    "[David Goldberg, What Every Computer Scientist Should Know About Floating-Point Arithmetic](https://docs.oracle.com/cd/E19957-01/806-3568/ncg_goldberg.html).\n",
    "\n",
    "### Brojevi s plivajućim zarezom\n",
    "\n",
    "$x$ je broj s plivajućim zarezom ako ima oblik\n",
    "$$\n",
    "\tx = \\pm d \\cdot \\beta^e \\quad \\beta \\in \\{ 2,10 \\}\n",
    "$$\n",
    "\n",
    "Baza 2 je za računala opće namjene, baza 10 je za džepne kalkulatore.\n",
    "\n",
    "$e$ je eksponent i zadovoljava\n",
    "\n",
    "$$\n",
    "\te_{\\min} \\leq e \\leq e_{\\max}\\quad,\n",
    "\te_{\\min} < 0 < e_{\\max}\n",
    "$$\n",
    "\n",
    "Pretpostavit ćemo aritmetiku s bazom 2, ali će primjeri uglavnom biti u bazi 10.\n",
    "\n",
    "Mantisa $d$ ima oblik\n",
    "\n",
    "\\begin{align*}\n",
    "\td &= 0.d_1 \\dots d_t = d_1 \\beta^{-1} + d_2 \\beta^{-2}\n",
    "\t+ \\dots + d_t \\beta^{-t}\\\\\n",
    "d_i  &\\in \\{ 0,1\\}\\\\\n",
    "\td_1 &= 1 \\qquad \\mbox{ normalizirana }   \\\\\n",
    "\td_1 &= 0 \\qquad \\mbox{ nenormalizirana }   \\\\\n",
    "\\end{align*}\n",
    "\n",
    "Standardni oblik brojeva s plivajućim zarezom je normaliziran, osim pri dnu raspona eksponenata. \n",
    "\n",
    "Prilikom ulaza i izlaza brojevi se konvertiraju iz binarnog u decimalni zapis i natrag.\n",
    "\n",
    "Aritmetika računala je standardizirana kroz IEEE 754 standard za binarnu aritmetiku.  \n",
    "Svi osim nekolicine modernih računala prate ovaj standard."
   ]
  },
  {
   "cell_type": "markdown",
   "metadata": {},
   "source": [
    "### Točnost stroja \n",
    "\n",
    "_Točnost stroja_ (eng. _machine precision_) je najmanji broj $\\epsilon$ takav da je $1+\\epsilon\\neq 1$ \n",
    "\n",
    "$$\n",
    "\t\\epsilon = \\max_{\\lfloor \\log_2 \n",
    "    \\:|x|\\rfloor \\in\n",
    "\t[e_{\\min},e_{\\max}]} \\frac{|x - fl(x)|}{|x|}  = 2^{-t}\n",
    "$$\n",
    "\n",
    "Skup\n",
    "\n",
    "$$\n",
    "\\{ x \\colon \\lfloor \\log_2 \\: |x| \\rfloor \\in [e_{min},e_{max}] \\}\n",
    "$$\n",
    "\n",
    "je skup svih brojeva unutar normaliziranog raspona brojeva s plivajućim zarezom.\n",
    "$fl(x)$ je $x$ zaokružen na najbliži broj s plivajućim zarezom. Prema tome, _točnost stroja_ je \n",
    "najveća relativna udaljenost između realnog broja koji se nalazi u rasponu brojeva s plivajućim zarezom i najbližeg broja s plivajućim zarezom.\n",
    "\n",
    "Važni primjeri su\n",
    "\n",
    "_IEEE standardna jednostruka točnost_ (`Float32`):  $\\beta = 2$, $t = 24$,\n",
    "\n",
    "\\begin{align*}\n",
    "\t\\epsilon_M  &= 2^{-24} \\approx\t5.9605 \\times 10^{-8}\\\\\n",
    "\te_{\\min} &= - 126,\\quad e_{\\max} = 128.\n",
    "\\end{align*}\n",
    "\n",
    "\n",
    "_IEEE standardna dvostruka točnost_ (`Float 64`): $\\beta =2$, $t = 53$,\n",
    "\n",
    "\\begin{align*}\n",
    "\t\\epsilon &= 2^{-53} \\approx 1.1102 \\times 10^{-16}\\\\\n",
    "    e_{\\min} &= -1022,\\quad e_{\\max} = 1024\n",
    "\\end{align*}\n",
    "\n",
    "Izračunajmo točnost stroja kao najmanji pozitivni broj $\\epsilon$ takav da je $1+\\epsilon\\neq 1$:"
   ]
  },
  {
   "cell_type": "code",
   "execution_count": 2,
   "metadata": {},
   "outputs": [
    {
     "name": "stdout",
     "output_type": "stream",
     "text": [
      "1.0\n",
      "0.5\n",
      "0.25\n",
      "0.125\n",
      "0.0625\n",
      "0.03125\n",
      "0.015625\n",
      "0.0078125\n",
      "0.00390625\n",
      "0.001953125\n",
      "0.0009765625\n",
      "0.00048828125\n",
      "0.000244140625\n",
      "0.0001220703125\n",
      "6.103515625e-5\n",
      "3.0517578125e-5\n",
      "1.52587890625e-5\n",
      "7.62939453125e-6\n",
      "3.814697265625e-6\n",
      "1.9073486328125e-6\n",
      "9.5367431640625e-7\n",
      "4.76837158203125e-7\n",
      "2.384185791015625e-7\n",
      "1.1920928955078125e-7\n",
      "5.960464477539063e-8\n",
      "2.9802322387695312e-8\n",
      "1.4901161193847656e-8\n",
      "7.450580596923828e-9\n",
      "3.725290298461914e-9\n",
      "1.862645149230957e-9\n",
      "9.313225746154785e-10\n",
      "4.656612873077393e-10\n",
      "2.3283064365386963e-10\n",
      "1.1641532182693481e-10\n",
      "5.820766091346741e-11\n",
      "2.9103830456733704e-11\n",
      "1.4551915228366852e-11\n",
      "7.275957614183426e-12\n",
      "3.637978807091713e-12\n",
      "1.8189894035458565e-12\n",
      "9.094947017729282e-13\n",
      "4.547473508864641e-13\n",
      "2.2737367544323206e-13\n",
      "1.1368683772161603e-13\n",
      "5.684341886080802e-14\n",
      "2.842170943040401e-14\n",
      "1.4210854715202004e-14\n",
      "7.105427357601002e-15\n",
      "3.552713678800501e-15\n",
      "1.7763568394002505e-15\n",
      "8.881784197001252e-16\n",
      "4.440892098500626e-16\n",
      "2.220446049250313e-16\n",
      "1.1102230246251565e-16\n"
     ]
    }
   ],
   "source": [
    "b=1.0\n",
    "a=2.0\n",
    "while (b+a)!=b\n",
    "    a=a/2\n",
    "    println(a)\n",
    "end"
   ]
  },
  {
   "cell_type": "markdown",
   "metadata": {},
   "source": [
    "MATLAB naredba `eps` i Julia funkcija `eps()` daju $2.2204 \\times\n",
    "10^{-16}$, što je najveći relativni razmak između dva broja s plivajućim zarezom.\n",
    "Lako se može zaključit da je taj broj $2\\epsilon_M$."
   ]
  },
  {
   "cell_type": "code",
   "execution_count": 3,
   "metadata": {},
   "outputs": [
    {
     "data": {
      "text/plain": [
       "2.220446049250313e-16"
      ]
     },
     "execution_count": 3,
     "metadata": {},
     "output_type": "execute_result"
    }
   ],
   "source": [
    "eps()"
   ]
  },
  {
   "cell_type": "code",
   "execution_count": 4,
   "metadata": {},
   "outputs": [
    {
     "data": {
      "text/plain": [
       "2.842170943040401e-14"
      ]
     },
     "execution_count": 4,
     "metadata": {},
     "output_type": "execute_result"
    }
   ],
   "source": [
    "# Što je ovo?\n",
    "eps(200.0)"
   ]
  },
  {
   "cell_type": "markdown",
   "metadata": {},
   "source": [
    "Julia posebno ima sustav tipova podataka, gdje je tip `Float64` pod-tip tipa `AbstractFloat`, koji ima četiri pod-tipa. Uz standardne tipove `Float64` i `Float32`, tu su i tip `Float16` koji koristi samo dva bajta računalne memorije i tip `BigFloat` čija mantisa ima 256 bitova."
   ]
  },
  {
   "cell_type": "code",
   "execution_count": 5,
   "metadata": {},
   "outputs": [
    {
     "data": {
      "text/plain": [
       "AbstractFloat"
      ]
     },
     "execution_count": 5,
     "metadata": {},
     "output_type": "execute_result"
    }
   ],
   "source": [
    "supertype(Float64)"
   ]
  },
  {
   "cell_type": "code",
   "execution_count": 6,
   "metadata": {},
   "outputs": [
    {
     "data": {
      "text/plain": [
       "4-element Array{Any,1}:\n",
       " BigFloat\n",
       " Float16 \n",
       " Float32 \n",
       " Float64 "
      ]
     },
     "execution_count": 6,
     "metadata": {},
     "output_type": "execute_result"
    }
   ],
   "source": [
    "subtypes(AbstractFloat)"
   ]
  },
  {
   "cell_type": "code",
   "execution_count": 7,
   "metadata": {},
   "outputs": [
    {
     "name": "stdout",
     "output_type": "stream",
     "text": [
      "0.000977\n",
      "1.1920929e-7\n",
      "2.220446049250313e-16\n",
      "1.727233711018888925077270372560079914223200072887256277004740694033718360632485e-77\n"
     ]
    }
   ],
   "source": [
    "for T in (Float16, Float32, Float64, BigFloat)\n",
    "    println(eps(T))\n",
    "end"
   ]
  },
  {
   "cell_type": "code",
   "execution_count": 8,
   "metadata": {},
   "outputs": [
    {
     "data": {
      "text/plain": [
       "(0.0009765625, 1.1920928955078125e-7, 2.220446049250313e-16, 1.727233711018889e-77)"
      ]
     },
     "execution_count": 8,
     "metadata": {},
     "output_type": "execute_result"
    }
   ],
   "source": [
    "2^(-10), 2^(-23), 2^(-52), 2^(-255)"
   ]
  },
  {
   "cell_type": "markdown",
   "metadata": {},
   "source": [
    "### Osnovne operacije s plivajućim zarezom\n",
    "\n",
    "Započnimo s četiri osnovne operacije, zbrajanjem ($+$), oduzimanjem ($-$), moženjem ($*$) i\n",
    "dijeljenjem ($/$). Neka je $\\odot$ operacija tako da je\n",
    "\n",
    "$$\n",
    "\\odot \\in \\{ + , - , *,/\\}.\n",
    "$$\n",
    "\n",
    "Tada je u aritmetici plivajućeg zareza s točnošću stroja $\\epsilon$ razumno očekivti da za svaka dva \n",
    "broja s plivajućim zarezom $x$ i $y$ vrijedi\n",
    "\n",
    "$$\n",
    "fl(x\\odot y) = (x \\odot y)\\;(1 + \\xi),\\quad\n",
    "|\\xi| \\leq \\epsilon.\n",
    "$$\n",
    "\n",
    "Prilikom dijeljenja pretpostavljamo $y \\neq 0$.\n",
    "Svako računalo koje (deklarirano) koristi IEEE starndard treba poštovati ovo pravilo.\n",
    "Zaokruživanje je jedno ograničenje aritmetike s plivajućim zarezom koje ne postoji u realnoj aritmetici. Iz prethodnog pravila lako zaključujemo da će, kad zbrajamo brojeve istog predznaka, množimo i dijelimo, rezulat dobiven pomoću aritmetike plivajućeg zareza skoro uvijek biti vrlo blizu odgovarajućeg rezultata u realnoj aritmetici. Poteškoće nastaju kada su $x$ ili $x$ zaokruženi i imaju različite predznake pa ih zbrajamo, ili kada imaju isti predznak pa ih oduzimamo. \n",
    "\n",
    "Pretpostavimo da je \n",
    "\n",
    "$$\n",
    "\\tilde{x}= x(1+\\delta_x), \\quad \\tilde{y} = y(1+\\delta_y),\n",
    "$$\n",
    "\n",
    "gdje su $x$ and $y$ točni realni rezultati nekog izračuna, a  $\\tilde{x}$ and $\\tilde{y}$ su  zaokruženi rezultati izračunati u aritmetici plivajućeg zareza s $|\\delta_x|,|\\delta_y| \\leq \\delta$ za neki mali $\\delta$. Pretpostavimo da $x$ i $y$ imaju ist predznak. Neka je\n",
    "\n",
    "$$\n",
    "z=x-y,\\quad  \\tilde{z} = fl(\\tilde{x} -\\tilde{y}).\n",
    "$$\n",
    "\n",
    "Vrijedi\n",
    "\n",
    "\\begin{align*}\n",
    "\\tilde{z} &=(\\tilde{x}-\\tilde{y})(1+\\xi)= x(1+\\delta_x)(1+\\xi) -y(1+\\delta_y)(1+\\xi) \n",
    "=x-y + \\delta_z,\n",
    "\\end{align*}\n",
    "\n",
    "gdje je $|\\xi| \\leq \\epsilon$ i \n",
    "\n",
    "$$\n",
    "\\delta_z = (x-y)\\xi + (x\\delta_x -y\\delta_y)(1+\\xi).\n",
    "$$\n",
    "\n",
    "Najbolja moguća međa za $|\\delta_z|$ je\n",
    "\n",
    "\\begin{align*}\n",
    "|\\delta_z| &\\leq |x-y||\\xi| + (|x||\\delta_x| + |y||\\delta_y|)(1+|\\xi|) \\\\\n",
    "& \\leq |x-y| \\epsilon + (|x|+|y|)\\,\\delta\\,(1+\\epsilon).\n",
    "\\end{align*}\n",
    "\n",
    "Dakle, \n",
    "\n",
    "\\begin{align*}\n",
    "|\\delta_z| &= \\frac{|\\tilde{z}-z|}{|z|}\n",
    "\\leq \\epsilon + (1+\\epsilon)\\,\\delta\\,\\frac{|x|+|y|}{|x-y|}.\n",
    "\\end{align*}\n",
    "\n",
    "Ako je $|x-y| \\ll |x|+|y|$, posljedice zaokruživanja prilikom oduzimanja su zanemarive, ali \n",
    "pogreške u prethodnim računanjima $x$ i $y$ mogu imati značajan utjecaj. Taj efekt se zove _propagacija_ ili _katastrofalno kraćenje_ i može drastično promijeniti rezulat izračuna! Na kraju bilježnice dat ćemo primjere. \n",
    "\n",
    "Zaokruživanje je prvo značajno ograničenje aritmetike s plivajućim zarezom. Drugo ograničenje su rasponi brojeva. "
   ]
  },
  {
   "cell_type": "markdown",
   "metadata": {},
   "source": [
    "### Rasponi brojeva\n",
    "\n",
    "Aritmietika s plivajućim zarezom ima najvaći i najmanji broj. \n",
    "Promotrimo prvo najveći broj. \n",
    "\n",
    "__Najveći broj u računalu__\n",
    "\n",
    "U bazi $2$ s mantisom koja ima  $t$ bitova najveći broj je\n",
    "\n",
    "$$\n",
    "\t\\Omega = (1 - 2^{-t}) \\cdot 2^{e_{\\max}}\n",
    "$$\n",
    "\n",
    "Brojevi veći od $\\Omega$ (kažemo da nastaje _pretek_ ili eng. _overflow_) spremaju se kao `Inf` ($\\infty$) ili `-Inf` ($-\\infty$).\n",
    "\n",
    "\n",
    "_IEEE standardna jednostruka točnost_ (`Float32`):\n",
    "\n",
    "$$\n",
    "e_{\\max} = 128,  \\quad \\Omega = 3.4028\\approx 10^{38}\n",
    "$$žan fini detalj\n",
    "\n",
    "\n",
    "_IEEE standardna dvostruka točnost_ (`Float64`):\n",
    "\n",
    "$$\n",
    "e_{\\max} = 1024, \\quad \\Omega = 1.79777 \\times 10^{308}\n",
    "$$\n",
    "\n",
    "MATLAB naredba `realmax` i Julia funkcija `floatmax()` prikazuju ovaj broj."
   ]
  },
  {
   "cell_type": "markdown",
   "metadata": {},
   "source": [
    "__Najmanji broj u računalu__\n",
    "\n",
    "Definicija najmanjeg broja je nešto složenija.\n",
    "\n",
    "Najmanji broj u računalu je\n",
    "\n",
    "$$\n",
    "\\omega = 2^{1-t} 2^{e_{\\min}}.\n",
    "$$\n",
    "\n",
    "Ako izračun daje broj koji je po apsolutnoj vrijednosti manji od $\\omega$, nastaje _podtek_ (eng. _underflow_) i broj se stavlja na $0$ ili $-0$. \n",
    "Programer može odabrati i da podtek javlja grešku, ali u većini izračuna podtek nije škodljiv. \n",
    "\n",
    "\n",
    "_IEEE standardna jednostruka točnost_ (`Float32`):\n",
    "\n",
    "$$\n",
    "\\omega = 2^{-23- 126} = 2^{-149} \\approx  1.4013 \\times 10^{-45}.\n",
    "$$\n",
    "\n",
    "Odgovarajuća MATLAB naredba je `omega= eps('single')*realmin('single')`.\n",
    "\n",
    "\n",
    "_IEEE standardna dvostruka točnost_ (`Float64`):\n",
    "\n",
    "$$\n",
    "\\omega= 2^{-1022-52} = 2^{-1074} \\approx  4.9407 \\times 10^{-324}\n",
    "$$\n",
    "\n",
    "Ovu vrijednost daju MATLAB naredba \n",
    "`omega = eps*realmin` i Julia naredba `floatmin()*eps()`.\n",
    "\n",
    "\n",
    "_Važan fini detalj_ \n",
    "\n",
    "Brojevi pri dnu raspona eksponenata su normalizirani. \n",
    "MATLAB funkcija `realmin` daje \n",
    "\n",
    "$$\n",
    "\\omega_{koristan} \\approx 2.2251 \\times 10^{-308}.\n",
    "$$\n",
    "\n",
    "Ovaj broj možemo smatrati najmanjim KORISNIM brojem u aritmetici s plivajućim zarezom jer je \n",
    "\n",
    "$$\n",
    "1/\\omega_{koristan} \\leq \\Omega,\n",
    "$$\n",
    "\n",
    "pri čemu je $\\omega_{koristan}$ normaliziran.\n",
    "\n",
    "Najmanji broj s plivajućim zarezom, $\\omega$, ima oblik\n",
    "\n",
    "$$\n",
    "0.0 \\cdots 01 \\times 2^{e_{\\min}} \\quad \\cdots\\quad\n",
    "\\mbox{postepeni podtek}\n",
    "$$\n",
    "\n",
    "Prije IEEE standarda kod većine računala je najmanji broj bio\n",
    "$$\n",
    "\t0.10 \\cdots 0 \\times 2^{e_{\\min}} \\qquad \\cdots\n",
    "\t\\mbox{ normaliziran}\n",
    "$$\n",
    "\n",
    "Starija računala (prije 1985) su brojeve manje od najmanjeg korisnog broja postavljala na nulu, što je IEEE standard promijenio. \n",
    "Sledeći primjer ilustrira razlog the promjene:\n",
    "\n",
    "__Primjer__ $\\beta = 10$, $-5 \\leq e \\leq 5$\n",
    "\n",
    "\\begin{eqnarray*}\n",
    "\tx & = 0.1957 \\times 10^{-5}   \\\\\n",
    "\ty & = 0.1942 \\times 10^{-5}\n",
    "\\end{eqnarray*}\n",
    "\n",
    "Izračunajmo  $fl(x - y)$. Što se događa?\n",
    "\n",
    "$$\n",
    "0.1957 \\times 10^{-5}-0.1942 \\times 10^{-5}  =0.0015 \\times 10^{-5}\n",
    "$$\n",
    "\n",
    "Filozofija starijih računala je bila staviti $fl(x - y)=0$.\n",
    "\n",
    "Postepeni podtek računa  $fl(x - y)=0.0015 \\times 10^{-5}$, odnosno postepeni podtek garantira da za bilo koja dva broja s plivajućim zarezom vrijedi\n",
    "\n",
    "$$\n",
    "fl(x - y) = 0 \\mbox{ ako i samo ako je } x = y.\n",
    "$$"
   ]
  },
  {
   "cell_type": "code",
   "execution_count": 9,
   "metadata": {},
   "outputs": [
    {
     "name": "stdout",
     "output_type": "stream",
     "text": [
      "(Float16(6.104e-5), Float16(6.55e4))\n",
      "(1.1754944f-38, 3.4028235f38)\n",
      "(2.2250738585072014e-308, 1.7976931348623157e308)\n",
      "(8.50969131174083613912978790962048280567755996982969624908264897850135431080301e-1388255822130839284, 5.875653789111587590936911998878442589938516392745498308333779606469323584389875e+1388255822130839282)\n"
     ]
    }
   ],
   "source": [
    "for T in (Float16, Float32, Float64, BigFloat)\n",
    "    println((floatmin(T),floatmax(T)))\n",
    "end"
   ]
  },
  {
   "cell_type": "code",
   "execution_count": 10,
   "metadata": {},
   "outputs": [
    {
     "data": {
      "text/plain": [
       "(4.49423283715579e307, 1.7976931348623157e308)"
      ]
     },
     "execution_count": 10,
     "metadata": {},
     "output_type": "execute_result"
    }
   ],
   "source": [
    "1/floatmin(),floatmax()"
   ]
  },
  {
   "cell_type": "code",
   "execution_count": 11,
   "metadata": {},
   "outputs": [
    {
     "name": "stdout",
     "output_type": "stream",
     "text": [
      "6.0e-8\n",
      "1.0e-45\n",
      "5.0e-324\n"
     ]
    }
   ],
   "source": [
    "for T in (Float16, Float32, Float64)\n",
    "    println((floatmin(T)*eps(T)))\n",
    "end"
   ]
  },
  {
   "cell_type": "markdown",
   "metadata": {},
   "source": [
    "###  Posebne vrijednosti (_special quantities_) $0$, $-0$, `Inf` i `NaN`\n",
    "\n",
    "Nula ima predznak:"
   ]
  },
  {
   "cell_type": "code",
   "execution_count": 12,
   "metadata": {},
   "outputs": [
    {
     "data": {
      "text/plain": [
       "(-0.0, true)"
      ]
     },
     "execution_count": 12,
     "metadata": {},
     "output_type": "execute_result"
    }
   ],
   "source": [
    "a=1.0\n",
    "b=0.0\n",
    "c=-b\n",
    "c,b==c"
   ]
  },
  {
   "cell_type": "code",
   "execution_count": 13,
   "metadata": {},
   "outputs": [
    {
     "data": {
      "text/plain": [
       "(false, true)"
      ]
     },
     "execution_count": 13,
     "metadata": {},
     "output_type": "execute_result"
    }
   ],
   "source": [
    "d=a/b\n",
    "e=a/c\n",
    "d==e, 1/d==1/e"
   ]
  },
  {
   "cell_type": "code",
   "execution_count": 14,
   "metadata": {},
   "outputs": [
    {
     "data": {
      "text/plain": [
       "NaN"
      ]
     },
     "execution_count": 14,
     "metadata": {},
     "output_type": "execute_result"
    }
   ],
   "source": [
    "b/c"
   ]
  },
  {
   "cell_type": "code",
   "execution_count": 15,
   "metadata": {},
   "outputs": [
    {
     "data": {
      "text/plain": [
       "\"0000000000000000000000000000000000000000000000000000000000000000\""
      ]
     },
     "execution_count": 15,
     "metadata": {},
     "output_type": "execute_result"
    }
   ],
   "source": [
    "bitstring(0)"
   ]
  },
  {
   "cell_type": "code",
   "execution_count": 16,
   "metadata": {},
   "outputs": [
    {
     "data": {
      "text/plain": [
       "\"0000000000000000000000000000000000000000000000000000000000000001\""
      ]
     },
     "execution_count": 16,
     "metadata": {},
     "output_type": "execute_result"
    }
   ],
   "source": [
    "bitstring(1)"
   ]
  },
  {
   "cell_type": "code",
   "execution_count": 17,
   "metadata": {},
   "outputs": [
    {
     "data": {
      "text/plain": [
       "\"0000000000000000000000000000000000000000000000000000000000000000\""
      ]
     },
     "execution_count": 17,
     "metadata": {},
     "output_type": "execute_result"
    }
   ],
   "source": [
    "bitstring(0.0)"
   ]
  },
  {
   "cell_type": "code",
   "execution_count": 18,
   "metadata": {},
   "outputs": [
    {
     "data": {
      "text/plain": [
       "\"1000000000000000000000000000000000000000000000000000000000000000\""
      ]
     },
     "execution_count": 18,
     "metadata": {},
     "output_type": "execute_result"
    }
   ],
   "source": [
    "bitstring(-0.0)"
   ]
  },
  {
   "cell_type": "code",
   "execution_count": 19,
   "metadata": {},
   "outputs": [
    {
     "data": {
      "text/plain": [
       "\"0011111111110000000000000000000000000000000000000000000000000000\""
      ]
     },
     "execution_count": 19,
     "metadata": {},
     "output_type": "execute_result"
    }
   ],
   "source": [
    "bitstring(1.0)"
   ]
  },
  {
   "cell_type": "markdown",
   "metadata": {},
   "source": [
    "__Zadatak.__ Objasnite prethodne binarne zapise. "
   ]
  },
  {
   "cell_type": "markdown",
   "metadata": {},
   "source": [
    "### Primjeri\n",
    "\n",
    "__Korištenje razlike kvadrata__\n",
    "\n",
    "Izračunajmo \n",
    "\n",
    "$$\n",
    "f(x) = \\sqrt{1 + x^2} - 1, \\quad \\mbox{$x$ je blizu nule}.\n",
    "$$\n",
    "\n",
    "Korištenje gornje formule u standradnoj dvostrukoj točnosti daje \n",
    "$f(10^{-12}) = 0$."
   ]
  },
  {
   "cell_type": "code",
   "execution_count": 20,
   "metadata": {},
   "outputs": [
    {
     "name": "stdout",
     "output_type": "stream",
     "text": [
      "(1.0e-6, 5.000444502911705e-13)\n",
      "(1.0e-7, 4.884981308350689e-15)\n",
      "(1.0e-8, 0.0)\n",
      "(1.0e-9, 0.0)\n"
     ]
    }
   ],
   "source": [
    "f(x)=sqrt(1+x^2)-1\n",
    "x=1e-6\n",
    "for k=1:4\n",
    "    println((x,f(x)))\n",
    "    x=x/10\n",
    "end"
   ]
  },
  {
   "cell_type": "markdown",
   "metadata": {},
   "source": [
    "Trika s razlikom kvadrata daje\n",
    "\n",
    "\\begin{eqnarray*}\n",
    "f(x) & \\equiv (\\sqrt{1 + x^2} - 1) \\left( \\frac{\\sqrt{1 + x^2} + 1}{\\sqrt{1 + x^2} + 1}\\right) \\\\\n",
    "& = \\frac{x^2}{\\sqrt{1+x^2} + 1}\\equiv f_1(x),\n",
    "\\end{eqnarray*}\n",
    "\n",
    "odnosno $f_1(10^{-12}) = 0.5 \\cdot 10^{-24}$. Ovaj odgovor je točan koliko možemo \n",
    "očekivati u standardnoj svotrukoj točnosti."
   ]
  },
  {
   "cell_type": "code",
   "execution_count": 21,
   "metadata": {},
   "outputs": [
    {
     "name": "stdout",
     "output_type": "stream",
     "text": [
      "(1.0e-6, 4.99999999999875e-13)\n",
      "(1.0e-7, 4.999999999999987e-15)\n",
      "(1.0e-8, 5.0000000000000005e-17)\n",
      "(1.0e-9, 5.0e-19)\n",
      "(1.0e-10, 5.0000000000000005e-21)\n",
      "(1.0000000000000001e-11, 5.000000000000001e-23)\n",
      "(1.0000000000000002e-12, 5.000000000000001e-25)\n",
      "(1.0000000000000002e-13, 5.0000000000000016e-27)\n",
      "(1.0000000000000002e-14, 5.0000000000000015e-29)\n",
      "(1.0e-15, 5.0e-31)\n"
     ]
    }
   ],
   "source": [
    "f₁(x)=x^2/(1+sqrt(1+x^2))\n",
    "x=1e-6\n",
    "for k=1:10\n",
    "    println((x, f₁(x)))\n",
    "    x=x/10\n",
    "end"
   ]
  },
  {
   "cell_type": "markdown",
   "metadata": {},
   "source": [
    "__Kvadratna jednadžba__\n",
    "\n",
    "U egzaktnoj aritmetici kvadratna jednadžba\n",
    "\n",
    "$$ ax^2 + bx+c=0$$\n",
    "\n",
    "ima rješenja\n",
    "\n",
    "\\begin{align*}\n",
    "x_1&=\\frac{-b-\\sqrt{b^2-4ac}}{2a} \\\\\n",
    "x_2&\\equiv\\frac{-b+\\sqrt{b^2-4ac}}{2a}= \\frac{-b+\\sqrt{b^2-4ac}}{2a}\\cdot \\frac{-b-\\sqrt{b^2-4ac}}{-b-\\sqrt{b^2-4ac}}\n",
    "\\\\ &= \\frac{2c}{-b-\\sqrt{b^2-4ac}}\\equiv x_3.\n",
    "\\end{align*}"
   ]
  },
  {
   "cell_type": "code",
   "execution_count": 22,
   "metadata": {},
   "outputs": [
    {
     "data": {
      "text/plain": [
       "(-6.172839449999997e7, -3.3527612686157227e-8, -3.240000029484002e-8)"
      ]
     },
     "execution_count": 22,
     "metadata": {},
     "output_type": "execute_result"
    }
   ],
   "source": [
    "a=2.0\n",
    "b=123456789.0\n",
    "c=4.0\n",
    "\n",
    "x₁=(-b-sqrt(b*b-4*a*c))/(2.0*a)\n",
    "x₂=(-b+sqrt(b*b-4*a*c))/(2.0*a)\n",
    "x₃=(2*c)/(-b-sqrt(b*b-4*a*c))\n",
    "x₁,x₂,x₃"
   ]
  },
  {
   "cell_type": "markdown",
   "metadata": {},
   "source": [
    "Provjerimo s `BigFloat`:"
   ]
  },
  {
   "cell_type": "code",
   "execution_count": 23,
   "metadata": {},
   "outputs": [
    {
     "data": {
      "text/plain": [
       "-3.240000029484001968915648868258452417675753633383540995167795107129921671968718e-08"
      ]
     },
     "execution_count": 23,
     "metadata": {},
     "output_type": "execute_result"
    }
   ],
   "source": [
    "a=BigFloat(a)\n",
    "b=BigFloat(b)\n",
    "c=BigFloat(c)\n",
    "x₂=(-b+sqrt(b*b-4*a*c))/(2.0*a)"
   ]
  },
  {
   "cell_type": "markdown",
   "metadata": {
    "collapsed": true
   },
   "source": [
    "__Tangens i sinus__"
   ]
  },
  {
   "cell_type": "code",
   "execution_count": 24,
   "metadata": {},
   "outputs": [
    {
     "data": {
      "text/plain": [
       "0.0"
      ]
     },
     "execution_count": 24,
     "metadata": {},
     "output_type": "execute_result"
    }
   ],
   "source": [
    "x=1e-10\n",
    "tan(x)-sin(x)"
   ]
  },
  {
   "cell_type": "markdown",
   "metadata": {},
   "source": [
    "Međutim,\n",
    "trignometrijski indentiti daju:\n",
    "\n",
    "\\begin{align*}\n",
    "\\tan x - \\sin x & = \\tan x (1 - \\cos x ) \n",
    "= \\tan x (1-\\cos x)\\frac{1+\\cos x}{1+\\cos x}\\\\ & = \\tan x \\frac{1-\\cos^2 x}{1+\\cos x} \\\\\n",
    "&= \\tan x \\sin^2 x \\frac{1}{1+\\cos x},\n",
    "\\end{align*}\n",
    "\n",
    "a Taylorova formula daje:\n",
    "\n",
    "\\begin{align*}\n",
    "\\tan x &= x + \\frac{x^3}{3} + \\frac{2x^5}{15} + O(x^7) \\\\\n",
    "\\sin x &= x -\\frac{x^3}{6} + \\frac{x^5}{120}+O(x^7) \\\\\n",
    "\\tan x - \\sin x &= \\frac{x^3}{2} + \\frac{7x^5}{120} +O(x^7)\n",
    "\\end{align*}\n",
    "\n",
    "Obe formule daju potpuno točan rezultat:"
   ]
  },
  {
   "cell_type": "code",
   "execution_count": 25,
   "metadata": {},
   "outputs": [
    {
     "data": {
      "text/plain": [
       "(5.0e-31, 5.0e-31)"
      ]
     },
     "execution_count": 25,
     "metadata": {},
     "output_type": "execute_result"
    }
   ],
   "source": [
    "tan(x)*sin(x)^2/(1+cos(x)), x^3/2+7*x^5/120"
   ]
  },
  {
   "cell_type": "markdown",
   "metadata": {},
   "source": [
    "__Apsolutna vrijednost kompleksnog broja__\n",
    "\n",
    "Da bi izbjegli podtek ili pretek, umjesto standardne formule \n",
    "\n",
    "$$\n",
    "|z|=|x+iy|=\\sqrt{x^2+y^2}\n",
    "$$\n",
    "\n",
    "trebamo koristiti sljedeće formule (objasnite):\n",
    "\n",
    "$$\n",
    "M = \\max \\{ |x|,|y|\\}, \\quad m = \\min \\{ |x|,|y| \\}, \\quad r = \\frac{m}{M}, \\quad \n",
    "|z| = M \\sqrt{1+r^2}.\n",
    "$$"
   ]
  },
  {
   "cell_type": "code",
   "execution_count": 26,
   "metadata": {},
   "outputs": [
    {
     "data": {
      "text/plain": [
       "2.0e-170 + 3.0e-175im"
      ]
     },
     "execution_count": 26,
     "metadata": {},
     "output_type": "execute_result"
    }
   ],
   "source": [
    "z=2e-170+3e-175*im"
   ]
  },
  {
   "cell_type": "code",
   "execution_count": 27,
   "metadata": {},
   "outputs": [
    {
     "data": {
      "text/plain": [
       "(0.0, 2.000000000225e-170)"
      ]
     },
     "execution_count": 27,
     "metadata": {},
     "output_type": "execute_result"
    }
   ],
   "source": [
    "sqrt(real(z)^2+imag(z)^2), abs(z)"
   ]
  }
 ],
 "metadata": {
  "@webio": {
   "lastCommId": null,
   "lastKernelId": null
  },
  "kernelspec": {
   "display_name": "Julia 1.1.0",
   "language": "julia",
   "name": "julia-1.1"
  },
  "language_info": {
   "file_extension": ".jl",
   "mimetype": "application/julia",
   "name": "julia",
   "version": "1.1.0"
  }
 },
 "nbformat": 4,
 "nbformat_minor": 1
}
