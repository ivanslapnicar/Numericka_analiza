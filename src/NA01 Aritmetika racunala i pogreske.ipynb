{
 "cells": [
  {
   "cell_type": "markdown",
   "metadata": {},
   "source": [
    "# Aritmetika računala i pogreške"
   ]
  },
  {
   "cell_type": "code",
   "execution_count": 2,
   "metadata": {},
   "outputs": [
    {
     "data": {
      "text/html": [
       "    <script class='js-collapse-script'>\n",
       "        var curMatch =\n",
       "            window.location.href\n",
       "            .match(/(.*?)\\/notebooks\\/.*\\.ipynb/);\n",
       "\n",
       "        curMatch = curMatch ||\n",
       "            window.location.href\n",
       "            .match(/(.*?)\\/apps\\/.*\\.ipynb/);\n",
       "\n",
       "        if ( curMatch ) {\n",
       "            $('head').append('<base href=\"' + curMatch[1] + '/\">');\n",
       "        }\n",
       "    </script>\n"
      ],
      "text/plain": [
       "HTML{String}(\"    <script class='js-collapse-script'>\\n        var curMatch =\\n            window.location.href\\n            .match(/(.*?)\\\\/notebooks\\\\/.*\\\\.ipynb/);\\n\\n        curMatch = curMatch ||\\n            window.location.href\\n            .match(/(.*?)\\\\/apps\\\\/.*\\\\.ipynb/);\\n\\n        if ( curMatch ) {\\n            \\$('head').append('<base href=\\\"' + curMatch[1] + '/\\\">');\\n        }\\n    </script>\\n\")"
      ]
     },
     "metadata": {},
     "output_type": "display_data"
    },
    {
     "data": {
      "text/html": [
       "<script class='js-collapse-script' src='/assetserver/e7d90514119538df54979f48525164e12dc566a4-assets/webio/dist/bundle.js'></script>"
      ],
      "text/plain": [
       "HTML{String}(\"<script class='js-collapse-script' src='/assetserver/e7d90514119538df54979f48525164e12dc566a4-assets/webio/dist/bundle.js'></script>\")"
      ]
     },
     "metadata": {},
     "output_type": "display_data"
    },
    {
     "data": {
      "text/html": [
       "<script class='js-collapse-script' src='/assetserver/e7d90514119538df54979f48525164e12dc566a4-assets/providers/ijulia_setup.js'></script>"
      ],
      "text/plain": [
       "HTML{String}(\"<script class='js-collapse-script' src='/assetserver/e7d90514119538df54979f48525164e12dc566a4-assets/providers/ijulia_setup.js'></script>\")"
      ]
     },
     "metadata": {},
     "output_type": "display_data"
    },
    {
     "data": {
      "text/html": [
       "  <script class='js-collapse-script'>\n",
       "    $('.js-collapse-script').parent('.output_subarea').css('padding', '0');\n",
       "  </script>\n"
      ],
      "text/plain": [
       "HTML{String}(\"  <script class='js-collapse-script'>\\n    \\$('.js-collapse-script').parent('.output_subarea').css('padding', '0');\\n  </script>\\n\")"
      ]
     },
     "metadata": {},
     "output_type": "display_data"
    }
   ],
   "source": [
    "using Interact"
   ]
  },
  {
   "cell_type": "markdown",
   "metadata": {},
   "source": [
    "## Apsolutna i relativna pogreška\n",
    "\n",
    "Neka je $\\alpha$ aproksimacija za $a$. Tada vrijedi\n",
    "\n",
    "$$err=|a-\\alpha| \\\\  relerr=\\frac{err}{|a|}=\\frac{|a-\\alpha|}{|a|}.$$"
   ]
  },
  {
   "cell_type": "code",
   "execution_count": 3,
   "metadata": {},
   "outputs": [
    {
     "data": {
      "text/html": [
       "<div class='tex2jax_ignore interactbulma'>\n",
       "<div class='display:none'></div><unsafe-script style='display:none'>\n",
       "WebIO.mount(this.previousSibling,{&quot;props&quot;:{},&quot;nodeType&quot;:&quot;DOM&quot;,&quot;type&quot;:&quot;node&quot;,&quot;instanceArgs&quot;:{&quot;namespace&quot;:&quot;html&quot;,&quot;tag&quot;:&quot;div&quot;},&quot;children&quot;:[{&quot;props&quot;:{&quot;className&quot;:&quot;field&quot;},&quot;nodeType&quot;:&quot;DOM&quot;,&quot;type&quot;:&quot;node&quot;,&quot;instanceArgs&quot;:{&quot;namespace&quot;:&quot;html&quot;,&quot;tag&quot;:&quot;div&quot;},&quot;children&quot;:[{&quot;props&quot;:{},&quot;nodeType&quot;:&quot;Scope&quot;,&quot;type&quot;:&quot;node&quot;,&quot;instanceArgs&quot;:{&quot;imports&quot;:{&quot;data&quot;:[{&quot;name&quot;:&quot;knockout&quot;,&quot;type&quot;:&quot;js&quot;,&quot;url&quot;:&quot;/assetserver/27cbd44e25b909412b0d87966683f64289745106-knockout.js&quot;},{&quot;name&quot;:&quot;knockout_punches&quot;,&quot;type&quot;:&quot;js&quot;,&quot;url&quot;:&quot;/assetserver/56561062aa4d03e8243389a010f5c0a30214a8f5-knockout_punches.js&quot;},{&quot;name&quot;:null,&quot;type&quot;:&quot;js&quot;,&quot;url&quot;:&quot;/assetserver/e5ca3f028a88bbc599508ec18455ff7f32a57738-all.js&quot;},{&quot;name&quot;:null,&quot;type&quot;:&quot;css&quot;,&quot;url&quot;:&quot;/assetserver/cd6612182ed14ed2f7a6c28b9ef5032fd329d5f9-style.css&quot;},{&quot;name&quot;:null,&quot;type&quot;:&quot;css&quot;,&quot;url&quot;:&quot;/assetserver/96422857b4adf50846b952efb36aa41345a12d47-main.css&quot;}],&quot;type&quot;:&quot;async_block&quot;},&quot;id&quot;:&quot;knockout-component-949e24f4-4925-4d2e-aa0e-c64f92ccb4c9&quot;,&quot;handlers&quot;:{&quot;formatted_vals&quot;:[(function (val){return (val!=this.model[&quot;formatted_vals&quot;]()) ? (this.valueFromJulia[&quot;formatted_vals&quot;]=true, this.model[&quot;formatted_vals&quot;](val)) : undefined})],&quot;_promises&quot;:{&quot;importsLoaded&quot;:[function (ko, koPunches) {\n",
       "    ko.punches.enableAll();\n",
       "    ko.bindingHandlers.numericValue = {\n",
       "        init : function(element, valueAccessor, allBindings, data, context) {\n",
       "            var stringified = ko.observable(ko.unwrap(valueAccessor()));\n",
       "            stringified.subscribe(function(value) {\n",
       "                var val = parseFloat(value);\n",
       "                if (!isNaN(val)) {\n",
       "                    valueAccessor()(val);\n",
       "                }\n",
       "            })\n",
       "            valueAccessor().subscribe(function(value) {\n",
       "                var str = JSON.stringify(value);\n",
       "                if ((str == &quot;0&quot;) &amp;&amp; ([&quot;-0&quot;, &quot;-0.&quot;].indexOf(stringified()) &gt;= 0))\n",
       "                     return;\n",
       "                 if ([&quot;null&quot;, &quot;&quot;].indexOf(str) &gt;= 0)\n",
       "                     return;\n",
       "                stringified(str);\n",
       "            })\n",
       "            ko.applyBindingsToNode(element, { value: stringified, valueUpdate: allBindings.get(&#39;valueUpdate&#39;)}, context);\n",
       "        }\n",
       "    };\n",
       "    var json_data = JSON.parse(&quot;{\\&quot;formatted_vals\\&quot;:[\\&quot;5.0\\&quot;,\\&quot;5.01\\&quot;,\\&quot;5.02\\&quot;,\\&quot;5.03\\&quot;,\\&quot;5.04\\&quot;,\\&quot;5.05\\&quot;,\\&quot;5.06\\&quot;,\\&quot;5.07\\&quot;,\\&quot;5.08\\&quot;,\\&quot;5.09\\&quot;,\\&quot;5.1\\&quot;,\\&quot;5.11\\&quot;,\\&quot;5.12\\&quot;,\\&quot;5.13\\&quot;,\\&quot;5.14\\&quot;,\\&quot;5.15\\&quot;,\\&quot;5.16\\&quot;,\\&quot;5.17\\&quot;,\\&quot;5.18\\&quot;,\\&quot;5.19\\&quot;,\\&quot;5.2\\&quot;,\\&quot;5.21\\&quot;,\\&quot;5.22\\&quot;,\\&quot;5.23\\&quot;,\\&quot;5.24\\&quot;,\\&quot;5.25\\&quot;,\\&quot;5.26\\&quot;,\\&quot;5.27\\&quot;,\\&quot;5.28\\&quot;,\\&quot;5.29\\&quot;,\\&quot;5.3\\&quot;,\\&quot;5.31\\&quot;,\\&quot;5.32\\&quot;,\\&quot;5.33\\&quot;,\\&quot;5.34\\&quot;,\\&quot;5.35\\&quot;,\\&quot;5.36\\&quot;,\\&quot;5.37\\&quot;,\\&quot;5.38\\&quot;,\\&quot;5.39\\&quot;,\\&quot;5.4\\&quot;,\\&quot;5.41\\&quot;,\\&quot;5.42\\&quot;,\\&quot;5.43\\&quot;,\\&quot;5.44\\&quot;,\\&quot;5.45\\&quot;,\\&quot;5.46\\&quot;,\\&quot;5.47\\&quot;,\\&quot;5.48\\&quot;,\\&quot;5.49\\&quot;,\\&quot;5.5\\&quot;,\\&quot;5.51\\&quot;,\\&quot;5.52\\&quot;,\\&quot;5.53\\&quot;,\\&quot;5.54\\&quot;,\\&quot;5.55\\&quot;,\\&quot;5.56\\&quot;,\\&quot;5.57\\&quot;,\\&quot;5.58\\&quot;,\\&quot;5.59\\&quot;,\\&quot;5.6\\&quot;,\\&quot;5.61\\&quot;,\\&quot;5.62\\&quot;,\\&quot;5.63\\&quot;,\\&quot;5.64\\&quot;,\\&quot;5.65\\&quot;,\\&quot;5.66\\&quot;,\\&quot;5.67\\&quot;,\\&quot;5.68\\&quot;,\\&quot;5.69\\&quot;,\\&quot;5.7\\&quot;,\\&quot;5.71\\&quot;,\\&quot;5.72\\&quot;,\\&quot;5.73\\&quot;,\\&quot;5.74\\&quot;,\\&quot;5.75\\&quot;,\\&quot;5.76\\&quot;,\\&quot;5.77\\&quot;,\\&quot;5.78\\&quot;,\\&quot;5.79\\&quot;,\\&quot;5.8\\&quot;,\\&quot;5.81\\&quot;,\\&quot;5.82\\&quot;,\\&quot;5.83\\&quot;,\\&quot;5.84\\&quot;,\\&quot;5.85\\&quot;,\\&quot;5.86\\&quot;,\\&quot;5.87\\&quot;,\\&quot;5.88\\&quot;,\\&quot;5.89\\&quot;,\\&quot;5.9\\&quot;,\\&quot;5.91\\&quot;,\\&quot;5.92\\&quot;,\\&quot;5.93\\&quot;,\\&quot;5.94\\&quot;,\\&quot;5.95\\&quot;,\\&quot;5.96\\&quot;,\\&quot;5.97\\&quot;,\\&quot;5.98\\&quot;,\\&quot;5.99\\&quot;,\\&quot;6.0\\&quot;,\\&quot;6.01\\&quot;,\\&quot;6.02\\&quot;,\\&quot;6.03\\&quot;,\\&quot;6.04\\&quot;,\\&quot;6.05\\&quot;,\\&quot;6.06\\&quot;,\\&quot;6.07\\&quot;,\\&quot;6.08\\&quot;,\\&quot;6.09\\&quot;,\\&quot;6.1\\&quot;,\\&quot;6.11\\&quot;,\\&quot;6.12\\&quot;,\\&quot;6.13\\&quot;,\\&quot;6.14\\&quot;,\\&quot;6.15\\&quot;,\\&quot;6.16\\&quot;,\\&quot;6.17\\&quot;,\\&quot;6.18\\&quot;,\\&quot;6.19\\&quot;,\\&quot;6.2\\&quot;,\\&quot;6.21\\&quot;,\\&quot;6.22\\&quot;,\\&quot;6.23\\&quot;,\\&quot;6.24\\&quot;,\\&quot;6.25\\&quot;,\\&quot;6.26\\&quot;,\\&quot;6.27\\&quot;,\\&quot;6.28\\&quot;,\\&quot;6.29\\&quot;,\\&quot;6.3\\&quot;,\\&quot;6.31\\&quot;,\\&quot;6.32\\&quot;,\\&quot;6.33\\&quot;,\\&quot;6.34\\&quot;,\\&quot;6.35\\&quot;,\\&quot;6.36\\&quot;,\\&quot;6.37\\&quot;,\\&quot;6.38\\&quot;,\\&quot;6.39\\&quot;,\\&quot;6.4\\&quot;,\\&quot;6.41\\&quot;,\\&quot;6.42\\&quot;,\\&quot;6.43\\&quot;,\\&quot;6.44\\&quot;,\\&quot;6.45\\&quot;,\\&quot;6.46\\&quot;,\\&quot;6.47\\&quot;,\\&quot;6.48\\&quot;,\\&quot;6.49\\&quot;,\\&quot;6.5\\&quot;,\\&quot;6.51\\&quot;,\\&quot;6.52\\&quot;,\\&quot;6.53\\&quot;,\\&quot;6.54\\&quot;,\\&quot;6.55\\&quot;,\\&quot;6.56\\&quot;,\\&quot;6.57\\&quot;,\\&quot;6.58\\&quot;,\\&quot;6.59\\&quot;,\\&quot;6.6\\&quot;,\\&quot;6.61\\&quot;,\\&quot;6.62\\&quot;,\\&quot;6.63\\&quot;,\\&quot;6.64\\&quot;,\\&quot;6.65\\&quot;,\\&quot;6.66\\&quot;,\\&quot;6.67\\&quot;,\\&quot;6.68\\&quot;,\\&quot;6.69\\&quot;,\\&quot;6.7\\&quot;,\\&quot;6.71\\&quot;,\\&quot;6.72\\&quot;,\\&quot;6.73\\&quot;,\\&quot;6.74\\&quot;,\\&quot;6.75\\&quot;,\\&quot;6.76\\&quot;,\\&quot;6.77\\&quot;,\\&quot;6.78\\&quot;,\\&quot;6.79\\&quot;,\\&quot;6.8\\&quot;,\\&quot;6.81\\&quot;,\\&quot;6.82\\&quot;,\\&quot;6.83\\&quot;,\\&quot;6.84\\&quot;,\\&quot;6.85\\&quot;,\\&quot;6.86\\&quot;,\\&quot;6.87\\&quot;,\\&quot;6.88\\&quot;,\\&quot;6.89\\&quot;,\\&quot;6.9\\&quot;,\\&quot;6.91\\&quot;,\\&quot;6.92\\&quot;,\\&quot;6.93\\&quot;,\\&quot;6.94\\&quot;,\\&quot;6.95\\&quot;,\\&quot;6.96\\&quot;,\\&quot;6.97\\&quot;,\\&quot;6.98\\&quot;,\\&quot;6.99\\&quot;,\\&quot;7.0\\&quot;,\\&quot;7.01\\&quot;,\\&quot;7.02\\&quot;,\\&quot;7.03\\&quot;,\\&quot;7.04\\&quot;,\\&quot;7.05\\&quot;,\\&quot;7.06\\&quot;,\\&quot;7.07\\&quot;,\\&quot;7.08\\&quot;,\\&quot;7.09\\&quot;,\\&quot;7.1\\&quot;,\\&quot;7.11\\&quot;,\\&quot;7.12\\&quot;,\\&quot;7.13\\&quot;,\\&quot;7.14\\&quot;,\\&quot;7.15\\&quot;,\\&quot;7.16\\&quot;,\\&quot;7.17\\&quot;,\\&quot;7.18\\&quot;,\\&quot;7.19\\&quot;,\\&quot;7.2\\&quot;,\\&quot;7.21\\&quot;,\\&quot;7.22\\&quot;,\\&quot;7.23\\&quot;,\\&quot;7.24\\&quot;,\\&quot;7.25\\&quot;,\\&quot;7.26\\&quot;,\\&quot;7.27\\&quot;,\\&quot;7.28\\&quot;,\\&quot;7.29\\&quot;,\\&quot;7.3\\&quot;,\\&quot;7.31\\&quot;,\\&quot;7.32\\&quot;,\\&quot;7.33\\&quot;,\\&quot;7.34\\&quot;,\\&quot;7.35\\&quot;,\\&quot;7.36\\&quot;,\\&quot;7.37\\&quot;,\\&quot;7.38\\&quot;,\\&quot;7.39\\&quot;,\\&quot;7.4\\&quot;,\\&quot;7.41\\&quot;,\\&quot;7.42\\&quot;,\\&quot;7.43\\&quot;,\\&quot;7.44\\&quot;,\\&quot;7.45\\&quot;,\\&quot;7.46\\&quot;,\\&quot;7.47\\&quot;,\\&quot;7.48\\&quot;,\\&quot;7.49\\&quot;,\\&quot;7.5\\&quot;,\\&quot;7.51\\&quot;,\\&quot;7.52\\&quot;,\\&quot;7.53\\&quot;,\\&quot;7.54\\&quot;,\\&quot;7.55\\&quot;,\\&quot;7.56\\&quot;,\\&quot;7.57\\&quot;,\\&quot;7.58\\&quot;,\\&quot;7.59\\&quot;,\\&quot;7.6\\&quot;,\\&quot;7.61\\&quot;,\\&quot;7.62\\&quot;,\\&quot;7.63\\&quot;,\\&quot;7.64\\&quot;,\\&quot;7.65\\&quot;,\\&quot;7.66\\&quot;,\\&quot;7.67\\&quot;,\\&quot;7.68\\&quot;,\\&quot;7.69\\&quot;,\\&quot;7.7\\&quot;,\\&quot;7.71\\&quot;,\\&quot;7.72\\&quot;,\\&quot;7.73\\&quot;,\\&quot;7.74\\&quot;,\\&quot;7.75\\&quot;,\\&quot;7.76\\&quot;,\\&quot;7.77\\&quot;,\\&quot;7.78\\&quot;,\\&quot;7.79\\&quot;,\\&quot;7.8\\&quot;,\\&quot;7.81\\&quot;,\\&quot;7.82\\&quot;,\\&quot;7.83\\&quot;,\\&quot;7.84\\&quot;,\\&quot;7.85\\&quot;,\\&quot;7.86\\&quot;,\\&quot;7.87\\&quot;,\\&quot;7.88\\&quot;,\\&quot;7.89\\&quot;,\\&quot;7.9\\&quot;,\\&quot;7.91\\&quot;,\\&quot;7.92\\&quot;,\\&quot;7.93\\&quot;,\\&quot;7.94\\&quot;,\\&quot;7.95\\&quot;,\\&quot;7.96\\&quot;,\\&quot;7.97\\&quot;,\\&quot;7.98\\&quot;,\\&quot;7.99\\&quot;,\\&quot;8.0\\&quot;,\\&quot;8.01\\&quot;,\\&quot;8.02\\&quot;,\\&quot;8.03\\&quot;,\\&quot;8.04\\&quot;,\\&quot;8.05\\&quot;,\\&quot;8.06\\&quot;,\\&quot;8.07\\&quot;,\\&quot;8.08\\&quot;,\\&quot;8.09\\&quot;,\\&quot;8.1\\&quot;,\\&quot;8.11\\&quot;,\\&quot;8.12\\&quot;,\\&quot;8.13\\&quot;,\\&quot;8.14\\&quot;,\\&quot;8.15\\&quot;,\\&quot;8.16\\&quot;,\\&quot;8.17\\&quot;,\\&quot;8.18\\&quot;,\\&quot;8.19\\&quot;,\\&quot;8.2\\&quot;,\\&quot;8.21\\&quot;,\\&quot;8.22\\&quot;,\\&quot;8.23\\&quot;,\\&quot;8.24\\&quot;,\\&quot;8.25\\&quot;,\\&quot;8.26\\&quot;,\\&quot;8.27\\&quot;,\\&quot;8.28\\&quot;,\\&quot;8.29\\&quot;,\\&quot;8.3\\&quot;,\\&quot;8.31\\&quot;,\\&quot;8.32\\&quot;,\\&quot;8.33\\&quot;,\\&quot;8.34\\&quot;,\\&quot;8.35\\&quot;,\\&quot;8.36\\&quot;,\\&quot;8.37\\&quot;,\\&quot;8.38\\&quot;,\\&quot;8.39\\&quot;,\\&quot;8.4\\&quot;,\\&quot;8.41\\&quot;,\\&quot;8.42\\&quot;,\\&quot;8.43\\&quot;,\\&quot;8.44\\&quot;,\\&quot;8.45\\&quot;,\\&quot;8.46\\&quot;,\\&quot;8.47\\&quot;,\\&quot;8.48\\&quot;,\\&quot;8.49\\&quot;,\\&quot;8.5\\&quot;,\\&quot;8.51\\&quot;,\\&quot;8.52\\&quot;,\\&quot;8.53\\&quot;,\\&quot;8.54\\&quot;,\\&quot;8.55\\&quot;,\\&quot;8.56\\&quot;,\\&quot;8.57\\&quot;,\\&quot;8.58\\&quot;,\\&quot;8.59\\&quot;,\\&quot;8.6\\&quot;,\\&quot;8.61\\&quot;,\\&quot;8.62\\&quot;,\\&quot;8.63\\&quot;,\\&quot;8.64\\&quot;,\\&quot;8.65\\&quot;,\\&quot;8.66\\&quot;,\\&quot;8.67\\&quot;,\\&quot;8.68\\&quot;,\\&quot;8.69\\&quot;,\\&quot;8.7\\&quot;,\\&quot;8.71\\&quot;,\\&quot;8.72\\&quot;,\\&quot;8.73\\&quot;,\\&quot;8.74\\&quot;,\\&quot;8.75\\&quot;,\\&quot;8.76\\&quot;,\\&quot;8.77\\&quot;,\\&quot;8.78\\&quot;,\\&quot;8.79\\&quot;,\\&quot;8.8\\&quot;,\\&quot;8.81\\&quot;,\\&quot;8.82\\&quot;,\\&quot;8.83\\&quot;,\\&quot;8.84\\&quot;,\\&quot;8.85\\&quot;,\\&quot;8.86\\&quot;,\\&quot;8.87\\&quot;,\\&quot;8.88\\&quot;,\\&quot;8.89\\&quot;,\\&quot;8.9\\&quot;,\\&quot;8.91\\&quot;,\\&quot;8.92\\&quot;,\\&quot;8.93\\&quot;,\\&quot;8.94\\&quot;,\\&quot;8.95\\&quot;,\\&quot;8.96\\&quot;,\\&quot;8.97\\&quot;,\\&quot;8.98\\&quot;,\\&quot;8.99\\&quot;,\\&quot;9.0\\&quot;,\\&quot;9.01\\&quot;,\\&quot;9.02\\&quot;,\\&quot;9.03\\&quot;,\\&quot;9.04\\&quot;,\\&quot;9.05\\&quot;,\\&quot;9.06\\&quot;,\\&quot;9.07\\&quot;,\\&quot;9.08\\&quot;,\\&quot;9.09\\&quot;,\\&quot;9.1\\&quot;,\\&quot;9.11\\&quot;,\\&quot;9.12\\&quot;,\\&quot;9.13\\&quot;,\\&quot;9.14\\&quot;,\\&quot;9.15\\&quot;,\\&quot;9.16\\&quot;,\\&quot;9.17\\&quot;,\\&quot;9.18\\&quot;,\\&quot;9.19\\&quot;,\\&quot;9.2\\&quot;,\\&quot;9.21\\&quot;,\\&quot;9.22\\&quot;,\\&quot;9.23\\&quot;,\\&quot;9.24\\&quot;,\\&quot;9.25\\&quot;,\\&quot;9.26\\&quot;,\\&quot;9.27\\&quot;,\\&quot;9.28\\&quot;,\\&quot;9.29\\&quot;,\\&quot;9.3\\&quot;,\\&quot;9.31\\&quot;,\\&quot;9.32\\&quot;,\\&quot;9.33\\&quot;,\\&quot;9.34\\&quot;,\\&quot;9.35\\&quot;,\\&quot;9.36\\&quot;,\\&quot;9.37\\&quot;,\\&quot;9.38\\&quot;,\\&quot;9.39\\&quot;,\\&quot;9.4\\&quot;,\\&quot;9.41\\&quot;,\\&quot;9.42\\&quot;,\\&quot;9.43\\&quot;,\\&quot;9.44\\&quot;,\\&quot;9.45\\&quot;,\\&quot;9.46\\&quot;,\\&quot;9.47\\&quot;,\\&quot;9.48\\&quot;,\\&quot;9.49\\&quot;,\\&quot;9.5\\&quot;,\\&quot;9.51\\&quot;,\\&quot;9.52\\&quot;,\\&quot;9.53\\&quot;,\\&quot;9.54\\&quot;,\\&quot;9.55\\&quot;,\\&quot;9.56\\&quot;,\\&quot;9.57\\&quot;,\\&quot;9.58\\&quot;,\\&quot;9.59\\&quot;,\\&quot;9.6\\&quot;,\\&quot;9.61\\&quot;,\\&quot;9.62\\&quot;,\\&quot;9.63\\&quot;,\\&quot;9.64\\&quot;,\\&quot;9.65\\&quot;,\\&quot;9.66\\&quot;,\\&quot;9.67\\&quot;,\\&quot;9.68\\&quot;,\\&quot;9.69\\&quot;,\\&quot;9.7\\&quot;,\\&quot;9.71\\&quot;,\\&quot;9.72\\&quot;,\\&quot;9.73\\&quot;,\\&quot;9.74\\&quot;,\\&quot;9.75\\&quot;,\\&quot;9.76\\&quot;,\\&quot;9.77\\&quot;,\\&quot;9.78\\&quot;,\\&quot;9.79\\&quot;,\\&quot;9.8\\&quot;,\\&quot;9.81\\&quot;,\\&quot;9.82\\&quot;,\\&quot;9.83\\&quot;,\\&quot;9.84\\&quot;,\\&quot;9.85\\&quot;,\\&quot;9.86\\&quot;,\\&quot;9.87\\&quot;,\\&quot;9.88\\&quot;,\\&quot;9.89\\&quot;,\\&quot;9.9\\&quot;,\\&quot;9.91\\&quot;,\\&quot;9.92\\&quot;,\\&quot;9.93\\&quot;,\\&quot;9.94\\&quot;,\\&quot;9.95\\&quot;,\\&quot;9.96\\&quot;,\\&quot;9.97\\&quot;,\\&quot;9.98\\&quot;,\\&quot;9.99\\&quot;,\\&quot;10.0\\&quot;],\\&quot;changes\\&quot;:0,\\&quot;formatted_value\\&quot;:\\&quot;7.5\\&quot;,\\&quot;index\\&quot;:251}&quot;);\n",
       "    var self = this;\n",
       "    function AppViewModel() {\n",
       "        for (var key in json_data) {\n",
       "            var el = json_data[key];\n",
       "            this[key] = Array.isArray(el) ? ko.observableArray(el) : ko.observable(el);\n",
       "        }\n",
       "        \n",
       "        \n",
       "        [this[&quot;formatted_vals&quot;].subscribe((function (val){!(this.valueFromJulia[&quot;formatted_vals&quot;]) ? (WebIO.setval({&quot;name&quot;:&quot;formatted_vals&quot;,&quot;scope&quot;:&quot;knockout-component-949e24f4-4925-4d2e-aa0e-c64f92ccb4c9&quot;,&quot;id&quot;:&quot;ob_03&quot;,&quot;type&quot;:&quot;observable&quot;},val)) : undefined; return this.valueFromJulia[&quot;formatted_vals&quot;]=false}),self),this[&quot;changes&quot;].subscribe((function (val){!(this.valueFromJulia[&quot;changes&quot;]) ? (WebIO.setval({&quot;name&quot;:&quot;changes&quot;,&quot;scope&quot;:&quot;knockout-component-949e24f4-4925-4d2e-aa0e-c64f92ccb4c9&quot;,&quot;id&quot;:&quot;ob_05&quot;,&quot;type&quot;:&quot;observable&quot;},val)) : undefined; return this.valueFromJulia[&quot;changes&quot;]=false}),self),this[&quot;formatted_value&quot;].subscribe((function (val){!(this.valueFromJulia[&quot;formatted_value&quot;]) ? (WebIO.setval({&quot;name&quot;:&quot;formatted_value&quot;,&quot;scope&quot;:&quot;knockout-component-949e24f4-4925-4d2e-aa0e-c64f92ccb4c9&quot;,&quot;id&quot;:&quot;ob_04&quot;,&quot;type&quot;:&quot;observable&quot;},val)) : undefined; return this.valueFromJulia[&quot;formatted_value&quot;]=false}),self),this[&quot;index&quot;].subscribe((function (val){!(this.valueFromJulia[&quot;index&quot;]) ? (WebIO.setval({&quot;name&quot;:&quot;index&quot;,&quot;scope&quot;:&quot;knockout-component-949e24f4-4925-4d2e-aa0e-c64f92ccb4c9&quot;,&quot;id&quot;:&quot;ob_02&quot;,&quot;type&quot;:&quot;observable&quot;},val)) : undefined; return this.valueFromJulia[&quot;index&quot;]=false}),self)]\n",
       "        \n",
       "    }\n",
       "    self.model = new AppViewModel();\n",
       "    self.valueFromJulia = {};\n",
       "    for (var key in json_data) {\n",
       "        self.valueFromJulia[key] = false;\n",
       "    }\n",
       "    ko.applyBindings(self.model, self.dom);\n",
       "}\n",
       "]},&quot;changes&quot;:[(function (val){return (val!=this.model[&quot;changes&quot;]()) ? (this.valueFromJulia[&quot;changes&quot;]=true, this.model[&quot;changes&quot;](val)) : undefined})],&quot;formatted_value&quot;:[(function (val){return (val!=this.model[&quot;formatted_value&quot;]()) ? (this.valueFromJulia[&quot;formatted_value&quot;]=true, this.model[&quot;formatted_value&quot;](val)) : undefined})],&quot;index&quot;:[(function (val){return (val!=this.model[&quot;index&quot;]()) ? (this.valueFromJulia[&quot;index&quot;]=true, this.model[&quot;index&quot;](val)) : undefined}),(function (val){return WebIO.setval({&quot;name&quot;:&quot;formatted_value&quot;,&quot;scope&quot;:&quot;knockout-component-949e24f4-4925-4d2e-aa0e-c64f92ccb4c9&quot;,&quot;id&quot;:&quot;ob_04&quot;,&quot;type&quot;:&quot;observable&quot;},WebIO.getval({&quot;name&quot;:&quot;formatted_vals&quot;,&quot;scope&quot;:&quot;knockout-component-949e24f4-4925-4d2e-aa0e-c64f92ccb4c9&quot;,&quot;id&quot;:&quot;ob_03&quot;,&quot;type&quot;:&quot;observable&quot;})[(WebIO.getval({&quot;name&quot;:&quot;index&quot;,&quot;scope&quot;:&quot;knockout-component-949e24f4-4925-4d2e-aa0e-c64f92ccb4c9&quot;,&quot;id&quot;:&quot;ob_02&quot;,&quot;type&quot;:&quot;observable&quot;})-1)])})]},&quot;systemjs_options&quot;:null,&quot;observables&quot;:{&quot;formatted_vals&quot;:{&quot;sync&quot;:false,&quot;id&quot;:&quot;ob_03&quot;,&quot;value&quot;:[&quot;5.0&quot;,&quot;5.01&quot;,&quot;5.02&quot;,&quot;5.03&quot;,&quot;5.04&quot;,&quot;5.05&quot;,&quot;5.06&quot;,&quot;5.07&quot;,&quot;5.08&quot;,&quot;5.09&quot;,&quot;5.1&quot;,&quot;5.11&quot;,&quot;5.12&quot;,&quot;5.13&quot;,&quot;5.14&quot;,&quot;5.15&quot;,&quot;5.16&quot;,&quot;5.17&quot;,&quot;5.18&quot;,&quot;5.19&quot;,&quot;5.2&quot;,&quot;5.21&quot;,&quot;5.22&quot;,&quot;5.23&quot;,&quot;5.24&quot;,&quot;5.25&quot;,&quot;5.26&quot;,&quot;5.27&quot;,&quot;5.28&quot;,&quot;5.29&quot;,&quot;5.3&quot;,&quot;5.31&quot;,&quot;5.32&quot;,&quot;5.33&quot;,&quot;5.34&quot;,&quot;5.35&quot;,&quot;5.36&quot;,&quot;5.37&quot;,&quot;5.38&quot;,&quot;5.39&quot;,&quot;5.4&quot;,&quot;5.41&quot;,&quot;5.42&quot;,&quot;5.43&quot;,&quot;5.44&quot;,&quot;5.45&quot;,&quot;5.46&quot;,&quot;5.47&quot;,&quot;5.48&quot;,&quot;5.49&quot;,&quot;5.5&quot;,&quot;5.51&quot;,&quot;5.52&quot;,&quot;5.53&quot;,&quot;5.54&quot;,&quot;5.55&quot;,&quot;5.56&quot;,&quot;5.57&quot;,&quot;5.58&quot;,&quot;5.59&quot;,&quot;5.6&quot;,&quot;5.61&quot;,&quot;5.62&quot;,&quot;5.63&quot;,&quot;5.64&quot;,&quot;5.65&quot;,&quot;5.66&quot;,&quot;5.67&quot;,&quot;5.68&quot;,&quot;5.69&quot;,&quot;5.7&quot;,&quot;5.71&quot;,&quot;5.72&quot;,&quot;5.73&quot;,&quot;5.74&quot;,&quot;5.75&quot;,&quot;5.76&quot;,&quot;5.77&quot;,&quot;5.78&quot;,&quot;5.79&quot;,&quot;5.8&quot;,&quot;5.81&quot;,&quot;5.82&quot;,&quot;5.83&quot;,&quot;5.84&quot;,&quot;5.85&quot;,&quot;5.86&quot;,&quot;5.87&quot;,&quot;5.88&quot;,&quot;5.89&quot;,&quot;5.9&quot;,&quot;5.91&quot;,&quot;5.92&quot;,&quot;5.93&quot;,&quot;5.94&quot;,&quot;5.95&quot;,&quot;5.96&quot;,&quot;5.97&quot;,&quot;5.98&quot;,&quot;5.99&quot;,&quot;6.0&quot;,&quot;6.01&quot;,&quot;6.02&quot;,&quot;6.03&quot;,&quot;6.04&quot;,&quot;6.05&quot;,&quot;6.06&quot;,&quot;6.07&quot;,&quot;6.08&quot;,&quot;6.09&quot;,&quot;6.1&quot;,&quot;6.11&quot;,&quot;6.12&quot;,&quot;6.13&quot;,&quot;6.14&quot;,&quot;6.15&quot;,&quot;6.16&quot;,&quot;6.17&quot;,&quot;6.18&quot;,&quot;6.19&quot;,&quot;6.2&quot;,&quot;6.21&quot;,&quot;6.22&quot;,&quot;6.23&quot;,&quot;6.24&quot;,&quot;6.25&quot;,&quot;6.26&quot;,&quot;6.27&quot;,&quot;6.28&quot;,&quot;6.29&quot;,&quot;6.3&quot;,&quot;6.31&quot;,&quot;6.32&quot;,&quot;6.33&quot;,&quot;6.34&quot;,&quot;6.35&quot;,&quot;6.36&quot;,&quot;6.37&quot;,&quot;6.38&quot;,&quot;6.39&quot;,&quot;6.4&quot;,&quot;6.41&quot;,&quot;6.42&quot;,&quot;6.43&quot;,&quot;6.44&quot;,&quot;6.45&quot;,&quot;6.46&quot;,&quot;6.47&quot;,&quot;6.48&quot;,&quot;6.49&quot;,&quot;6.5&quot;,&quot;6.51&quot;,&quot;6.52&quot;,&quot;6.53&quot;,&quot;6.54&quot;,&quot;6.55&quot;,&quot;6.56&quot;,&quot;6.57&quot;,&quot;6.58&quot;,&quot;6.59&quot;,&quot;6.6&quot;,&quot;6.61&quot;,&quot;6.62&quot;,&quot;6.63&quot;,&quot;6.64&quot;,&quot;6.65&quot;,&quot;6.66&quot;,&quot;6.67&quot;,&quot;6.68&quot;,&quot;6.69&quot;,&quot;6.7&quot;,&quot;6.71&quot;,&quot;6.72&quot;,&quot;6.73&quot;,&quot;6.74&quot;,&quot;6.75&quot;,&quot;6.76&quot;,&quot;6.77&quot;,&quot;6.78&quot;,&quot;6.79&quot;,&quot;6.8&quot;,&quot;6.81&quot;,&quot;6.82&quot;,&quot;6.83&quot;,&quot;6.84&quot;,&quot;6.85&quot;,&quot;6.86&quot;,&quot;6.87&quot;,&quot;6.88&quot;,&quot;6.89&quot;,&quot;6.9&quot;,&quot;6.91&quot;,&quot;6.92&quot;,&quot;6.93&quot;,&quot;6.94&quot;,&quot;6.95&quot;,&quot;6.96&quot;,&quot;6.97&quot;,&quot;6.98&quot;,&quot;6.99&quot;,&quot;7.0&quot;,&quot;7.01&quot;,&quot;7.02&quot;,&quot;7.03&quot;,&quot;7.04&quot;,&quot;7.05&quot;,&quot;7.06&quot;,&quot;7.07&quot;,&quot;7.08&quot;,&quot;7.09&quot;,&quot;7.1&quot;,&quot;7.11&quot;,&quot;7.12&quot;,&quot;7.13&quot;,&quot;7.14&quot;,&quot;7.15&quot;,&quot;7.16&quot;,&quot;7.17&quot;,&quot;7.18&quot;,&quot;7.19&quot;,&quot;7.2&quot;,&quot;7.21&quot;,&quot;7.22&quot;,&quot;7.23&quot;,&quot;7.24&quot;,&quot;7.25&quot;,&quot;7.26&quot;,&quot;7.27&quot;,&quot;7.28&quot;,&quot;7.29&quot;,&quot;7.3&quot;,&quot;7.31&quot;,&quot;7.32&quot;,&quot;7.33&quot;,&quot;7.34&quot;,&quot;7.35&quot;,&quot;7.36&quot;,&quot;7.37&quot;,&quot;7.38&quot;,&quot;7.39&quot;,&quot;7.4&quot;,&quot;7.41&quot;,&quot;7.42&quot;,&quot;7.43&quot;,&quot;7.44&quot;,&quot;7.45&quot;,&quot;7.46&quot;,&quot;7.47&quot;,&quot;7.48&quot;,&quot;7.49&quot;,&quot;7.5&quot;,&quot;7.51&quot;,&quot;7.52&quot;,&quot;7.53&quot;,&quot;7.54&quot;,&quot;7.55&quot;,&quot;7.56&quot;,&quot;7.57&quot;,&quot;7.58&quot;,&quot;7.59&quot;,&quot;7.6&quot;,&quot;7.61&quot;,&quot;7.62&quot;,&quot;7.63&quot;,&quot;7.64&quot;,&quot;7.65&quot;,&quot;7.66&quot;,&quot;7.67&quot;,&quot;7.68&quot;,&quot;7.69&quot;,&quot;7.7&quot;,&quot;7.71&quot;,&quot;7.72&quot;,&quot;7.73&quot;,&quot;7.74&quot;,&quot;7.75&quot;,&quot;7.76&quot;,&quot;7.77&quot;,&quot;7.78&quot;,&quot;7.79&quot;,&quot;7.8&quot;,&quot;7.81&quot;,&quot;7.82&quot;,&quot;7.83&quot;,&quot;7.84&quot;,&quot;7.85&quot;,&quot;7.86&quot;,&quot;7.87&quot;,&quot;7.88&quot;,&quot;7.89&quot;,&quot;7.9&quot;,&quot;7.91&quot;,&quot;7.92&quot;,&quot;7.93&quot;,&quot;7.94&quot;,&quot;7.95&quot;,&quot;7.96&quot;,&quot;7.97&quot;,&quot;7.98&quot;,&quot;7.99&quot;,&quot;8.0&quot;,&quot;8.01&quot;,&quot;8.02&quot;,&quot;8.03&quot;,&quot;8.04&quot;,&quot;8.05&quot;,&quot;8.06&quot;,&quot;8.07&quot;,&quot;8.08&quot;,&quot;8.09&quot;,&quot;8.1&quot;,&quot;8.11&quot;,&quot;8.12&quot;,&quot;8.13&quot;,&quot;8.14&quot;,&quot;8.15&quot;,&quot;8.16&quot;,&quot;8.17&quot;,&quot;8.18&quot;,&quot;8.19&quot;,&quot;8.2&quot;,&quot;8.21&quot;,&quot;8.22&quot;,&quot;8.23&quot;,&quot;8.24&quot;,&quot;8.25&quot;,&quot;8.26&quot;,&quot;8.27&quot;,&quot;8.28&quot;,&quot;8.29&quot;,&quot;8.3&quot;,&quot;8.31&quot;,&quot;8.32&quot;,&quot;8.33&quot;,&quot;8.34&quot;,&quot;8.35&quot;,&quot;8.36&quot;,&quot;8.37&quot;,&quot;8.38&quot;,&quot;8.39&quot;,&quot;8.4&quot;,&quot;8.41&quot;,&quot;8.42&quot;,&quot;8.43&quot;,&quot;8.44&quot;,&quot;8.45&quot;,&quot;8.46&quot;,&quot;8.47&quot;,&quot;8.48&quot;,&quot;8.49&quot;,&quot;8.5&quot;,&quot;8.51&quot;,&quot;8.52&quot;,&quot;8.53&quot;,&quot;8.54&quot;,&quot;8.55&quot;,&quot;8.56&quot;,&quot;8.57&quot;,&quot;8.58&quot;,&quot;8.59&quot;,&quot;8.6&quot;,&quot;8.61&quot;,&quot;8.62&quot;,&quot;8.63&quot;,&quot;8.64&quot;,&quot;8.65&quot;,&quot;8.66&quot;,&quot;8.67&quot;,&quot;8.68&quot;,&quot;8.69&quot;,&quot;8.7&quot;,&quot;8.71&quot;,&quot;8.72&quot;,&quot;8.73&quot;,&quot;8.74&quot;,&quot;8.75&quot;,&quot;8.76&quot;,&quot;8.77&quot;,&quot;8.78&quot;,&quot;8.79&quot;,&quot;8.8&quot;,&quot;8.81&quot;,&quot;8.82&quot;,&quot;8.83&quot;,&quot;8.84&quot;,&quot;8.85&quot;,&quot;8.86&quot;,&quot;8.87&quot;,&quot;8.88&quot;,&quot;8.89&quot;,&quot;8.9&quot;,&quot;8.91&quot;,&quot;8.92&quot;,&quot;8.93&quot;,&quot;8.94&quot;,&quot;8.95&quot;,&quot;8.96&quot;,&quot;8.97&quot;,&quot;8.98&quot;,&quot;8.99&quot;,&quot;9.0&quot;,&quot;9.01&quot;,&quot;9.02&quot;,&quot;9.03&quot;,&quot;9.04&quot;,&quot;9.05&quot;,&quot;9.06&quot;,&quot;9.07&quot;,&quot;9.08&quot;,&quot;9.09&quot;,&quot;9.1&quot;,&quot;9.11&quot;,&quot;9.12&quot;,&quot;9.13&quot;,&quot;9.14&quot;,&quot;9.15&quot;,&quot;9.16&quot;,&quot;9.17&quot;,&quot;9.18&quot;,&quot;9.19&quot;,&quot;9.2&quot;,&quot;9.21&quot;,&quot;9.22&quot;,&quot;9.23&quot;,&quot;9.24&quot;,&quot;9.25&quot;,&quot;9.26&quot;,&quot;9.27&quot;,&quot;9.28&quot;,&quot;9.29&quot;,&quot;9.3&quot;,&quot;9.31&quot;,&quot;9.32&quot;,&quot;9.33&quot;,&quot;9.34&quot;,&quot;9.35&quot;,&quot;9.36&quot;,&quot;9.37&quot;,&quot;9.38&quot;,&quot;9.39&quot;,&quot;9.4&quot;,&quot;9.41&quot;,&quot;9.42&quot;,&quot;9.43&quot;,&quot;9.44&quot;,&quot;9.45&quot;,&quot;9.46&quot;,&quot;9.47&quot;,&quot;9.48&quot;,&quot;9.49&quot;,&quot;9.5&quot;,&quot;9.51&quot;,&quot;9.52&quot;,&quot;9.53&quot;,&quot;9.54&quot;,&quot;9.55&quot;,&quot;9.56&quot;,&quot;9.57&quot;,&quot;9.58&quot;,&quot;9.59&quot;,&quot;9.6&quot;,&quot;9.61&quot;,&quot;9.62&quot;,&quot;9.63&quot;,&quot;9.64&quot;,&quot;9.65&quot;,&quot;9.66&quot;,&quot;9.67&quot;,&quot;9.68&quot;,&quot;9.69&quot;,&quot;9.7&quot;,&quot;9.71&quot;,&quot;9.72&quot;,&quot;9.73&quot;,&quot;9.74&quot;,&quot;9.75&quot;,&quot;9.76&quot;,&quot;9.77&quot;,&quot;9.78&quot;,&quot;9.79&quot;,&quot;9.8&quot;,&quot;9.81&quot;,&quot;9.82&quot;,&quot;9.83&quot;,&quot;9.84&quot;,&quot;9.85&quot;,&quot;9.86&quot;,&quot;9.87&quot;,&quot;9.88&quot;,&quot;9.89&quot;,&quot;9.9&quot;,&quot;9.91&quot;,&quot;9.92&quot;,&quot;9.93&quot;,&quot;9.94&quot;,&quot;9.95&quot;,&quot;9.96&quot;,&quot;9.97&quot;,&quot;9.98&quot;,&quot;9.99&quot;,&quot;10.0&quot;]},&quot;changes&quot;:{&quot;sync&quot;:false,&quot;id&quot;:&quot;ob_05&quot;,&quot;value&quot;:0},&quot;formatted_value&quot;:{&quot;sync&quot;:false,&quot;id&quot;:&quot;ob_04&quot;,&quot;value&quot;:&quot;7.5&quot;},&quot;index&quot;:{&quot;sync&quot;:true,&quot;id&quot;:&quot;ob_02&quot;,&quot;value&quot;:251}}},&quot;children&quot;:[{&quot;props&quot;:{&quot;attributes&quot;:{&quot;class&quot;:&quot;interact-flex-row&quot;}},&quot;nodeType&quot;:&quot;DOM&quot;,&quot;type&quot;:&quot;node&quot;,&quot;instanceArgs&quot;:{&quot;namespace&quot;:&quot;html&quot;,&quot;tag&quot;:&quot;div&quot;},&quot;children&quot;:[{&quot;props&quot;:{&quot;attributes&quot;:{&quot;class&quot;:&quot;interact-flex-row-left&quot;}},&quot;nodeType&quot;:&quot;DOM&quot;,&quot;type&quot;:&quot;node&quot;,&quot;instanceArgs&quot;:{&quot;namespace&quot;:&quot;html&quot;,&quot;tag&quot;:&quot;div&quot;},&quot;children&quot;:[{&quot;props&quot;:{&quot;className&quot;:&quot;interact &quot;,&quot;style&quot;:{&quot;padding&quot;:&quot;5px 10px 0px 10px&quot;}},&quot;nodeType&quot;:&quot;DOM&quot;,&quot;type&quot;:&quot;node&quot;,&quot;instanceArgs&quot;:{&quot;namespace&quot;:&quot;html&quot;,&quot;tag&quot;:&quot;label&quot;},&quot;children&quot;:[&quot;α&quot;]}]},{&quot;props&quot;:{&quot;attributes&quot;:{&quot;class&quot;:&quot;interact-flex-row-center&quot;}},&quot;nodeType&quot;:&quot;DOM&quot;,&quot;type&quot;:&quot;node&quot;,&quot;instanceArgs&quot;:{&quot;namespace&quot;:&quot;html&quot;,&quot;tag&quot;:&quot;div&quot;},&quot;children&quot;:[{&quot;props&quot;:{&quot;max&quot;:501,&quot;min&quot;:1,&quot;attributes&quot;:{&quot;type&quot;:&quot;range&quot;,&quot;data-bind&quot;:&quot;numericValue: index, valueUpdate: &#39;input&#39;, event: {change : function () {this.changes(this.changes()+1)}}&quot;,&quot;orient&quot;:&quot;horizontal&quot;},&quot;step&quot;:1,&quot;className&quot;:&quot;slider slider is-fullwidth&quot;,&quot;style&quot;:{}},&quot;nodeType&quot;:&quot;DOM&quot;,&quot;type&quot;:&quot;node&quot;,&quot;instanceArgs&quot;:{&quot;namespace&quot;:&quot;html&quot;,&quot;tag&quot;:&quot;input&quot;},&quot;children&quot;:[]}]},{&quot;props&quot;:{&quot;attributes&quot;:{&quot;class&quot;:&quot;interact-flex-row-right&quot;}},&quot;nodeType&quot;:&quot;DOM&quot;,&quot;type&quot;:&quot;node&quot;,&quot;instanceArgs&quot;:{&quot;namespace&quot;:&quot;html&quot;,&quot;tag&quot;:&quot;div&quot;},&quot;children&quot;:[{&quot;props&quot;:{&quot;attributes&quot;:{&quot;data-bind&quot;:&quot;text: formatted_value&quot;}},&quot;nodeType&quot;:&quot;DOM&quot;,&quot;type&quot;:&quot;node&quot;,&quot;instanceArgs&quot;:{&quot;namespace&quot;:&quot;html&quot;,&quot;tag&quot;:&quot;p&quot;},&quot;children&quot;:[]}]}]}]}]},{&quot;props&quot;:{},&quot;nodeType&quot;:&quot;Scope&quot;,&quot;type&quot;:&quot;node&quot;,&quot;instanceArgs&quot;:{&quot;imports&quot;:{&quot;data&quot;:[],&quot;type&quot;:&quot;async_block&quot;},&quot;id&quot;:&quot;scope-3c1c145a-15e5-4f99-9c04-e62fe1ae1309&quot;,&quot;handlers&quot;:{&quot;obs-output&quot;:[function (updated_htmlstr) {\n",
       "    var el = this.dom.querySelector(&quot;#out&quot;);\n",
       "    WebIO.propUtils.setInnerHtml(el, updated_htmlstr);\n",
       "}]},&quot;systemjs_options&quot;:null,&quot;observables&quot;:{&quot;obs-output&quot;:{&quot;sync&quot;:false,&quot;id&quot;:&quot;ob_08&quot;,&quot;value&quot;:&quot;&lt;div class=&#39;display:none&#39;&gt;&lt;/div&gt;&lt;unsafe-script style=&#39;display:none&#39;&gt;\\nWebIO.mount(this.previousSibling,{&amp;quot;props&amp;quot;:{&amp;quot;attributes&amp;quot;:{&amp;quot;class&amp;quot;:&amp;quot;interact-flex-row&amp;quot;}},&amp;quot;nodeType&amp;quot;:&amp;quot;DOM&amp;quot;,&amp;quot;type&amp;quot;:&amp;quot;node&amp;quot;,&amp;quot;instanceArgs&amp;quot;:{&amp;quot;namespace&amp;quot;:&amp;quot;html&amp;quot;,&amp;quot;tag&amp;quot;:&amp;quot;div&amp;quot;},&amp;quot;children&amp;quot;:[{&amp;quot;props&amp;quot;:{&amp;quot;setInnerHtml&amp;quot;:&amp;quot;&amp;lt;pre&amp;gt;(7.5, 2.5, 0.5)&amp;lt;/pre&amp;gt;&amp;quot;},&amp;quot;nodeType&amp;quot;:&amp;quot;DOM&amp;quot;,&amp;quot;type&amp;quot;:&amp;quot;node&amp;quot;,&amp;quot;instanceArgs&amp;quot;:{&amp;quot;namespace&amp;quot;:&amp;quot;html&amp;quot;,&amp;quot;tag&amp;quot;:&amp;quot;div&amp;quot;},&amp;quot;children&amp;quot;:[]}]})&lt;/unsafe-script&gt;&quot;}}},&quot;children&quot;:[{&quot;props&quot;:{&quot;id&quot;:&quot;out&quot;,&quot;setInnerHtml&quot;:&quot;&lt;div class=&#39;display:none&#39;&gt;&lt;/div&gt;&lt;unsafe-script style=&#39;display:none&#39;&gt;\\nWebIO.mount(this.previousSibling,{&amp;quot;props&amp;quot;:{&amp;quot;attributes&amp;quot;:{&amp;quot;class&amp;quot;:&amp;quot;interact-flex-row&amp;quot;}},&amp;quot;nodeType&amp;quot;:&amp;quot;DOM&amp;quot;,&amp;quot;type&amp;quot;:&amp;quot;node&amp;quot;,&amp;quot;instanceArgs&amp;quot;:{&amp;quot;namespace&amp;quot;:&amp;quot;html&amp;quot;,&amp;quot;tag&amp;quot;:&amp;quot;div&amp;quot;},&amp;quot;children&amp;quot;:[{&amp;quot;props&amp;quot;:{&amp;quot;setInnerHtml&amp;quot;:&amp;quot;&amp;lt;pre&amp;gt;(7.5, 2.5, 0.5)&amp;lt;/pre&amp;gt;&amp;quot;},&amp;quot;nodeType&amp;quot;:&amp;quot;DOM&amp;quot;,&amp;quot;type&amp;quot;:&amp;quot;node&amp;quot;,&amp;quot;instanceArgs&amp;quot;:{&amp;quot;namespace&amp;quot;:&amp;quot;html&amp;quot;,&amp;quot;tag&amp;quot;:&amp;quot;div&amp;quot;},&amp;quot;children&amp;quot;:[]}]})&lt;/unsafe-script&gt;&quot;},&quot;nodeType&quot;:&quot;DOM&quot;,&quot;type&quot;:&quot;node&quot;,&quot;instanceArgs&quot;:{&quot;namespace&quot;:&quot;html&quot;,&quot;tag&quot;:&quot;div&quot;},&quot;children&quot;:[]}]}]})</unsafe-script>\n",
       "</div>"
      ],
      "text/plain": [
       "Widget{:manipulate,Any}(OrderedDict{Symbol,Any}(:α=>Widget{:slider,Float64}(OrderedDict{Symbol,Any}(:changes=>Observable{Int64} with 1 listeners. Value:\n",
       "0,:index=>Observable{Any} with 2 listeners. Value:\n",
       "251,:formatted_vals=>Observable{Any} with 1 listeners. Value:\n",
       "[\"5.0\", \"5.01\", \"5.02\", \"5.03\", \"5.04\", \"5.05\", \"5.06\", \"5.07\", \"5.08\", \"5.09\"  …  \"9.91\", \"9.92\", \"9.93\", \"9.94\", \"9.95\", \"9.96\", \"9.97\", \"9.98\", \"9.99\", \"10.0\"],:formatted_value=>Observable{String} with 1 listeners. Value:\n",
       "\"7.5\",:value=>Observable{Float64} with 2 listeners. Value:\n",
       "7.5), Observable{Float64} with 2 listeners. Value:\n",
       "7.5, Scope(\"knockout-component-949e24f4-4925-4d2e-aa0e-c64f92ccb4c9\", Node{DOM}(DOM(:html, :div), Any[Node{DOM}(DOM(:html, :div), Any[Node{DOM}(DOM(:html, :label), Any[\"α\"], Dict{Symbol,Any}(:className=>\"interact \",:style=>Dict{Any,Any}(:padding=>\"5px 10px 0px 10px\")), 1)], Dict{Symbol,Any}(:attributes=>Dict(\"class\"=>\"interact-flex-row-left\")), 2), Node{DOM}(DOM(:html, :div), Any[Node{DOM}(DOM(:html, :input), Any[], Dict{Symbol,Any}(:max=>501,:min=>1,:attributes=>Dict{Any,Any}(:type=>\"range\",Symbol(\"data-bind\")=>\"numericValue: index, valueUpdate: 'input', event: {change : function () {this.changes(this.changes()+1)}}\",\"orient\"=>\"horizontal\"),:step=>1,:className=>\"slider slider is-fullwidth\",:style=>Dict{Any,Any}()), 0)], Dict{Symbol,Any}(:attributes=>Dict(\"class\"=>\"interact-flex-row-center\")), 1), Node{DOM}(DOM(:html, :div), Any[Node{DOM}(DOM(:html, :p), Any[], Dict{Symbol,Any}(:attributes=>Dict(\"data-bind\"=>\"text: formatted_value\")), 0)], Dict{Symbol,Any}(:attributes=>Dict(\"class\"=>\"interact-flex-row-right\")), 1)], Dict{Symbol,Any}(:attributes=>Dict(\"class\"=>\"interact-flex-row\")), 7), Dict{String,Tuple{Observables.AbstractObservable,Union{Nothing, Bool}}}(\"formatted_vals\"=>(Observable{Any} with 1 listeners. Value:\n",
       "[\"5.0\", \"5.01\", \"5.02\", \"5.03\", \"5.04\", \"5.05\", \"5.06\", \"5.07\", \"5.08\", \"5.09\"  …  \"9.91\", \"9.92\", \"9.93\", \"9.94\", \"9.95\", \"9.96\", \"9.97\", \"9.98\", \"9.99\", \"10.0\"], nothing),\"changes\"=>(Observable{Int64} with 1 listeners. Value:\n",
       "0, nothing),\"formatted_value\"=>(Observable{String} with 1 listeners. Value:\n",
       "\"7.5\", nothing),\"index\"=>(Observable{Any} with 2 listeners. Value:\n",
       "251, nothing)), Set(String[]), nothing, Any[\"knockout\"=>\"/home/slap/.julia/packages/Knockout/JIqpG/src/../assets/knockout.js\", \"knockout_punches\"=>\"/home/slap/.julia/packages/Knockout/JIqpG/src/../assets/knockout_punches.js\", \"/home/slap/.julia/packages/InteractBase/PTCUD/src/../assets/all.js\", \"/home/slap/.julia/packages/InteractBase/PTCUD/src/../assets/style.css\", \"/home/slap/.julia/packages/InteractBulma/PH56C/src/../assets/main.css\"], Dict{Any,Any}(\"formatted_vals\"=>Any[JSString(\"(function (val){return (val!=this.model[\\\"formatted_vals\\\"]()) ? (this.valueFromJulia[\\\"formatted_vals\\\"]=true, this.model[\\\"formatted_vals\\\"](val)) : undefined})\")],\"_promises\"=>Dict{Any,Any}(\"importsLoaded\"=>Any[JSString(\"function (ko, koPunches) {\\n    ko.punches.enableAll();\\n    ko.bindingHandlers.numericValue = {\\n        init : function(element, valueAccessor, allBindings, data, context) {\\n            var stringified = ko.observable(ko.unwrap(valueAccessor()));\\n            stringified.subscribe(function(value) {\\n                var val = parseFloat(value);\\n                if (!isNaN(val)) {\\n                    valueAccessor()(val);\\n                }\\n            })\\n            valueAccessor().subscribe(function(value) {\\n                var str = JSON.stringify(value);\\n                if ((str == \\\"0\\\") && ([\\\"-0\\\", \\\"-0.\\\"].indexOf(stringified()) >= 0))\\n                     return;\\n                 if ([\\\"null\\\", \\\"\\\"].indexOf(str) >= 0)\\n                     return;\\n                stringified(str);\\n            })\\n            ko.applyBindingsToNode(element, { value: stringified, valueUpdate: allBindings.get('valueUpdate')}, context);\\n        }\\n    };\\n    var json_data = JSON.parse(\\\"{\\\\\\\"formatted_vals\\\\\\\":[\\\\\\\"5.0\\\\\\\",\\\\\\\"5.01\\\\\\\",\\\\\\\"5.02\\\\\\\",\\\\\\\"5.03\\\\\\\",\\\\\\\"5.04\\\\\\\",\\\\\\\"5.05\\\\\\\",\\\\\\\"5.06\\\\\\\",\\\\\\\"5.07\\\\\\\",\\\\\\\"5.08\\\\\\\",\\\\\\\"5.09\\\\\\\",\\\\\\\"5.1\\\\\\\",\\\\\\\"5.11\\\\\\\",\\\\\\\"5.12\\\\\\\",\\\\\\\"5.13\\\\\\\",\\\\\\\"5.14\\\\\\\",\\\\\\\"5.15\\\\\\\",\\\\\\\"5.16\\\\\\\",\\\\\\\"5.17\\\\\\\",\\\\\\\"5.18\\\\\\\",\\\\\\\"5.19\\\\\\\",\\\\\\\"5.2\\\\\\\",\\\\\\\"5.21\\\\\\\",\\\\\\\"5.22\\\\\\\",\\\\\\\"5.23\\\\\\\",\\\\\\\"5.24\\\\\\\",\\\\\\\"5.25\\\\\\\",\\\\\\\"5.26\\\\\\\",\\\\\\\"5.27\\\\\\\",\\\\\\\"5.28\\\\\\\",\\\\\\\"5.29\\\\\\\",\\\\\\\"5.3\\\\\\\",\\\\\\\"5.31\\\\\\\",\\\\\\\"5.32\\\\\\\",\\\\\\\"5.33\\\\\\\",\\\\\\\"5.34\\\\\\\",\\\\\\\"5.35\\\\\\\",\\\\\\\"5.36\\\\\\\",\\\\\\\"5.37\\\\\\\",\\\\\\\"5.38\\\\\\\",\\\\\\\"5.39\\\\\\\",\\\\\\\"5.4\\\\\\\",\\\\\\\"5.41\\\\\\\",\\\\\\\"5.42\\\\\\\",\\\\\\\"5.43\\\\\\\",\\\\\\\"5.44\\\\\\\",\\\\\\\"5.45\\\\\\\",\\\\\\\"5.46\\\\\\\",\\\\\\\"5.47\\\\\\\",\\\\\\\"5.48\\\\\\\",\\\\\\\"5.49\\\\\\\",\\\\\\\"5.5\\\\\\\",\\\\\\\"5.51\\\\\\\",\\\\\\\"5.52\\\\\\\",\\\\\\\"5.53\\\\\\\",\\\\\\\"5.54\\\\\\\",\\\\\\\"5.55\\\\\\\",\\\\\\\"5.56\\\\\\\",\\\\\\\"5.57\\\\\\\",\\\\\\\"5.58\\\\\\\",\\\\\\\"5.59\\\\\\\",\\\\\\\"5.6\\\\\\\",\\\\\\\"5.61\\\\\\\",\\\\\\\"5.62\\\\\\\",\\\\\\\"5.63\\\\\\\",\\\\\\\"5.64\\\\\\\",\\\\\\\"5.65\\\\\\\",\\\\\\\"5.66\\\\\\\",\\\\\\\"5.67\\\\\\\",\\\\\\\"5.68\\\\\\\",\\\\\\\"5.69\\\\\\\",\\\\\\\"5.7\\\\\\\",\\\\\\\"5.71\\\\\\\",\\\\\\\"5.72\\\\\\\",\\\\\\\"5.73\\\\\\\",\\\\\\\"5.74\\\\\\\",\\\\\\\"5.75\\\\\\\",\\\\\\\"5.76\\\\\\\",\\\\\\\"5.77\\\\\\\",\\\\\\\"5.78\\\\\\\",\\\\\\\"5.79\\\\\\\",\\\\\\\"5.8\\\\\\\",\\\\\\\"5.81\\\\\\\",\\\\\\\"5.82\\\\\\\",\\\\\\\"5.83\\\\\\\",\\\\\\\"5.84\\\\\\\",\\\\\\\"5.85\\\\\\\",\\\\\\\"5.86\\\\\\\",\\\\\\\"5.87\\\\\\\",\\\\\\\"5.88\\\\\\\",\\\\\\\"5.89\\\\\\\",\\\\\\\"5.9\\\\\\\",\\\\\\\"5.91\\\\\\\",\\\\\\\"5.92\\\\\\\",\\\\\\\"5.93\\\\\\\",\\\\\\\"5.94\\\\\\\",\\\\\\\"5.95\\\\\\\",\\\\\\\"5.96\\\\\\\",\\\\\\\"5.97\\\\\\\",\\\\\\\"5.98\\\\\\\",\\\\\\\"5.99\\\\\\\",\\\\\\\"6.0\\\\\\\",\\\\\\\"6.01\\\\\\\",\\\\\\\"6.02\\\\\\\",\\\\\\\"6.03\\\\\\\",\\\\\\\"6.04\\\\\\\",\\\\\\\"6.05\\\\\\\",\\\\\\\"6.06\\\\\\\",\\\\\\\"6.07\\\\\\\",\\\\\\\"6.08\\\\\\\",\\\\\\\"6.09\\\\\\\",\\\\\\\"6.1\\\\\\\",\\\\\\\"6.11\\\\\\\",\\\\\\\"6.12\\\\\\\",\\\\\\\"6.13\\\\\\\",\\\\\\\"6.14\\\\\\\",\\\\\\\"6.15\\\\\\\",\\\\\\\"6.16\\\\\\\",\\\\\\\"6.17\\\\\\\",\\\\\\\"6.18\\\\\\\",\\\\\\\"6.19\\\\\\\",\\\\\\\"6.2\\\\\\\",\\\\\\\"6.21\\\\\\\",\\\\\\\"6.22\\\\\\\",\\\\\\\"6.23\\\\\\\",\\\\\\\"6.24\\\\\\\",\\\\\\\"6.25\\\\\\\",\\\\\\\"6.26\\\\\\\",\\\\\\\"6.27\\\\\\\",\\\\\\\"6.28\\\\\\\",\\\\\\\"6.29\\\\\\\",\\\\\\\"6.3\\\\\\\",\\\\\\\"6.31\\\\\\\",\\\\\\\"6.32\\\\\\\",\\\\\\\"6.33\\\\\\\",\\\\\\\"6.34\\\\\\\",\\\\\\\"6.35\\\\\\\",\\\\\\\"6.36\\\\\\\",\\\\\\\"6.37\\\\\\\",\\\\\\\"6.38\\\\\\\",\\\\\\\"6.39\\\\\\\",\\\\\\\"6.4\\\\\\\",\\\\\\\"6.41\\\\\\\",\\\\\\\"6.42\\\\\\\",\\\\\\\"6.43\\\\\\\",\\\\\\\"6.44\\\\\\\",\\\\\\\"6.45\\\\\\\",\\\\\\\"6.46\\\\\\\",\\\\\\\"6.47\\\\\\\",\\\\\\\"6.48\\\\\\\",\\\\\\\"6.49\\\\\\\",\\\\\\\"6.5\\\\\\\",\\\\\\\"6.51\\\\\\\",\\\\\\\"6.52\\\\\\\",\\\\\\\"6.53\\\\\\\",\\\\\\\"6.54\\\\\\\",\\\\\\\"6.55\\\\\\\",\\\\\\\"6.56\\\\\\\",\\\\\\\"6.57\\\\\\\",\\\\\\\"6.58\\\\\\\",\\\\\\\"6.59\\\\\\\",\\\\\\\"6.6\\\\\\\",\\\\\\\"6.61\\\\\\\",\\\\\\\"6.62\\\\\\\",\\\\\\\"6.63\\\\\\\",\\\\\\\"6.64\\\\\\\",\\\\\\\"6.65\\\\\\\",\\\\\\\"6.66\\\\\\\",\\\\\\\"6.67\\\\\\\",\\\\\\\"6.68\\\\\\\",\\\\\\\"6.69\\\\\\\",\\\\\\\"6.7\\\\\\\",\\\\\\\"6.71\\\\\\\",\\\\\\\"6.72\\\\\\\",\\\\\\\"6.73\\\\\\\",\\\\\\\"6.74\\\\\\\",\\\\\\\"6.75\\\\\\\",\\\\\\\"6.76\\\\\\\",\\\\\\\"6.77\\\\\\\",\\\\\\\"6.78\\\\\\\",\\\\\\\"6.79\\\\\\\",\\\\\\\"6.8\\\\\\\",\\\\\\\"6.81\\\\\\\",\\\\\\\"6.82\\\\\\\",\\\\\\\"6.83\\\\\\\",\\\\\\\"6.84\\\\\\\",\\\\\\\"6.85\\\\\\\",\\\\\\\"6.86\\\\\\\",\\\\\\\"6.87\\\\\\\",\\\\\\\"6.88\\\\\\\",\\\\\\\"6.89\\\\\\\",\\\\\\\"6.9\\\\\\\",\\\\\\\"6.91\\\\\\\",\\\\\\\"6.92\\\\\\\",\\\\\\\"6.93\\\\\\\",\\\\\\\"6.94\\\\\\\",\\\\\\\"6.95\\\\\\\",\\\\\\\"6.96\\\\\\\",\\\\\\\"6.97\\\\\\\",\\\\\\\"6.98\\\\\\\",\\\\\\\"6.99\\\\\\\",\\\\\\\"7.0\\\\\\\",\\\\\\\"7.01\\\\\\\",\\\\\\\"7.02\\\\\\\",\\\\\\\"7.03\\\\\\\",\\\\\\\"7.04\\\\\\\",\\\\\\\"7.05\\\\\\\",\\\\\\\"7.06\\\\\\\",\\\\\\\"7.07\\\\\\\",\\\\\\\"7.08\\\\\\\",\\\\\\\"7.09\\\\\\\",\\\\\\\"7.1\\\\\\\",\\\\\\\"7.11\\\\\\\",\\\\\\\"7.12\\\\\\\",\\\\\\\"7.13\\\\\\\",\\\\\\\"7.14\\\\\\\",\\\\\\\"7.15\\\\\\\",\\\\\\\"7.16\\\\\\\",\\\\\\\"7.17\\\\\\\",\\\\\\\"7.18\\\\\\\",\\\\\\\"7.19\\\\\\\",\\\\\\\"7.2\\\\\\\",\\\\\\\"7.21\\\\\\\",\\\\\\\"7.22\\\\\\\",\\\\\\\"7.23\\\\\\\",\\\\\\\"7.24\\\\\\\",\\\\\\\"7.25\\\\\\\",\\\\\\\"7.26\\\\\\\",\\\\\\\"7.27\\\\\\\",\\\\\\\"7.28\\\\\\\",\\\\\\\"7.29\\\\\\\",\\\\\\\"7.3\\\\\\\",\\\\\\\"7.31\\\\\\\",\\\\\\\"7.32\\\\\\\",\\\\\\\"7.33\\\\\\\",\\\\\\\"7.34\\\\\\\",\\\\\\\"7.35\\\\\\\",\\\\\\\"7.36\\\\\\\",\\\\\\\"7.37\\\\\\\",\\\\\\\"7.38\\\\\\\",\\\\\\\"7.39\\\\\\\",\\\\\\\"7.4\\\\\\\",\\\\\\\"7.41\\\\\\\",\\\\\\\"7.42\\\\\\\",\\\\\\\"7.43\\\\\\\",\\\\\\\"7.44\\\\\\\",\\\\\\\"7.45\\\\\\\",\\\\\\\"7.46\\\\\\\",\\\\\\\"7.47\\\\\\\",\\\\\\\"7.48\\\\\\\",\\\\\\\"7.49\\\\\\\",\\\\\\\"7.5\\\\\\\",\\\\\\\"7.51\\\\\\\",\\\\\\\"7.52\\\\\\\",\\\\\\\"7.53\\\\\\\",\\\\\\\"7.54\\\\\\\",\\\\\\\"7.55\\\\\\\",\\\\\\\"7.56\\\\\\\",\\\\\\\"7.57\\\\\\\",\\\\\\\"7.58\\\\\\\",\\\\\\\"7.59\\\\\\\",\\\\\\\"7.6\\\\\\\",\\\\\\\"7.61\\\\\\\",\\\\\\\"7.62\\\\\\\",\\\\\\\"7.63\\\\\\\",\\\\\\\"7.64\\\\\\\",\\\\\\\"7.65\\\\\\\",\\\\\\\"7.66\\\\\\\",\\\\\\\"7.67\\\\\\\",\\\\\\\"7.68\\\\\\\",\\\\\\\"7.69\\\\\\\",\\\\\\\"7.7\\\\\\\",\\\\\\\"7.71\\\\\\\",\\\\\\\"7.72\\\\\\\",\\\\\\\"7.73\\\\\\\",\\\\\\\"7.74\\\\\\\",\\\\\\\"7.75\\\\\\\",\\\\\\\"7.76\\\\\\\",\\\\\\\"7.77\\\\\\\",\\\\\\\"7.78\\\\\\\",\\\\\\\"7.79\\\\\\\",\\\\\\\"7.8\\\\\\\",\\\\\\\"7.81\\\\\\\",\\\\\\\"7.82\\\\\\\",\\\\\\\"7.83\\\\\\\",\\\\\\\"7.84\\\\\\\",\\\\\\\"7.85\\\\\\\",\\\\\\\"7.86\\\\\\\",\\\\\\\"7.87\\\\\\\",\\\\\\\"7.88\\\\\\\",\\\\\\\"7.89\\\\\\\",\\\\\\\"7.9\\\\\\\",\\\\\\\"7.91\\\\\\\",\\\\\\\"7.92\\\\\\\",\\\\\\\"7.93\\\\\\\",\\\\\\\"7.94\\\\\\\",\\\\\\\"7.95\\\\\\\",\\\\\\\"7.96\\\\\\\",\\\\\\\"7.97\\\\\\\",\\\\\\\"7.98\\\\\\\",\\\\\\\"7.99\\\\\\\",\\\\\\\"8.0\\\\\\\",\\\\\\\"8.01\\\\\\\",\\\\\\\"8.02\\\\\\\",\\\\\\\"8.03\\\\\\\",\\\\\\\"8.04\\\\\\\",\\\\\\\"8.05\\\\\\\",\\\\\\\"8.06\\\\\\\",\\\\\\\"8.07\\\\\\\",\\\\\\\"8.08\\\\\\\",\\\\\\\"8.09\\\\\\\",\\\\\\\"8.1\\\\\\\",\\\\\\\"8.11\\\\\\\",\\\\\\\"8.12\\\\\\\",\\\\\\\"8.13\\\\\\\",\\\\\\\"8.14\\\\\\\",\\\\\\\"8.15\\\\\\\",\\\\\\\"8.16\\\\\\\",\\\\\\\"8.17\\\\\\\",\\\\\\\"8.18\\\\\\\",\\\\\\\"8.19\\\\\\\",\\\\\\\"8.2\\\\\\\",\\\\\\\"8.21\\\\\\\",\\\\\\\"8.22\\\\\\\",\\\\\\\"8.23\\\\\\\",\\\\\\\"8.24\\\\\\\",\\\\\\\"8.25\\\\\\\",\\\\\\\"8.26\\\\\\\",\\\\\\\"8.27\\\\\\\",\\\\\\\"8.28\\\\\\\",\\\\\\\"8.29\\\\\\\",\\\\\\\"8.3\\\\\\\",\\\\\\\"8.31\\\\\\\",\\\\\\\"8.32\\\\\\\",\\\\\\\"8.33\\\\\\\",\\\\\\\"8.34\\\\\\\",\\\\\\\"8.35\\\\\\\",\\\\\\\"8.36\\\\\\\",\\\\\\\"8.37\\\\\\\",\\\\\\\"8.38\\\\\\\",\\\\\\\"8.39\\\\\\\",\\\\\\\"8.4\\\\\\\",\\\\\\\"8.41\\\\\\\",\\\\\\\"8.42\\\\\\\",\\\\\\\"8.43\\\\\\\",\\\\\\\"8.44\\\\\\\",\\\\\\\"8.45\\\\\\\",\\\\\\\"8.46\\\\\\\",\\\\\\\"8.47\\\\\\\",\\\\\\\"8.48\\\\\\\",\\\\\\\"8.49\\\\\\\",\\\\\\\"8.5\\\\\\\",\\\\\\\"8.51\\\\\\\",\\\\\\\"8.52\\\\\\\",\\\\\\\"8.53\\\\\\\",\\\\\\\"8.54\\\\\\\",\\\\\\\"8.55\\\\\\\",\\\\\\\"8.56\\\\\\\",\\\\\\\"8.57\\\\\\\",\\\\\\\"8.58\\\\\\\",\\\\\\\"8.59\\\\\\\",\\\\\\\"8.6\\\\\\\",\\\\\\\"8.61\\\\\\\",\\\\\\\"8.62\\\\\\\",\\\\\\\"8.63\\\\\\\",\\\\\\\"8.64\\\\\\\",\\\\\\\"8.65\\\\\\\",\\\\\\\"8.66\\\\\\\",\\\\\\\"8.67\\\\\\\",\\\\\\\"8.68\\\\\\\",\\\\\\\"8.69\\\\\\\",\\\\\\\"8.7\\\\\\\",\\\\\\\"8.71\\\\\\\",\\\\\\\"8.72\\\\\\\",\\\\\\\"8.73\\\\\\\",\\\\\\\"8.74\\\\\\\",\\\\\\\"8.75\\\\\\\",\\\\\\\"8.76\\\\\\\",\\\\\\\"8.77\\\\\\\",\\\\\\\"8.78\\\\\\\",\\\\\\\"8.79\\\\\\\",\\\\\\\"8.8\\\\\\\",\\\\\\\"8.81\\\\\\\",\\\\\\\"8.82\\\\\\\",\\\\\\\"8.83\\\\\\\",\\\\\\\"8.84\\\\\\\",\\\\\\\"8.85\\\\\\\",\\\\\\\"8.86\\\\\\\",\\\\\\\"8.87\\\\\\\",\\\\\\\"8.88\\\\\\\",\\\\\\\"8.89\\\\\\\",\\\\\\\"8.9\\\\\\\",\\\\\\\"8.91\\\\\\\",\\\\\\\"8.92\\\\\\\",\\\\\\\"8.93\\\\\\\",\\\\\\\"8.94\\\\\\\",\\\\\\\"8.95\\\\\\\",\\\\\\\"8.96\\\\\\\",\\\\\\\"8.97\\\\\\\",\\\\\\\"8.98\\\\\\\",\\\\\\\"8.99\\\\\\\",\\\\\\\"9.0\\\\\\\",\\\\\\\"9.01\\\\\\\",\\\\\\\"9.02\\\\\\\",\\\\\\\"9.03\\\\\\\",\\\\\\\"9.04\\\\\\\",\\\\\\\"9.05\\\\\\\",\\\\\\\"9.06\\\\\\\",\\\\\\\"9.07\\\\\\\",\\\\\\\"9.08\\\\\\\",\\\\\\\"9.09\\\\\\\",\\\\\\\"9.1\\\\\\\",\\\\\\\"9.11\\\\\\\",\\\\\\\"9.12\\\\\\\",\\\\\\\"9.13\\\\\\\",\\\\\\\"9.14\\\\\\\",\\\\\\\"9.15\\\\\\\",\\\\\\\"9.16\\\\\\\",\\\\\\\"9.17\\\\\\\",\\\\\\\"9.18\\\\\\\",\\\\\\\"9.19\\\\\\\",\\\\\\\"9.2\\\\\\\",\\\\\\\"9.21\\\\\\\",\\\\\\\"9.22\\\\\\\",\\\\\\\"9.23\\\\\\\",\\\\\\\"9.24\\\\\\\",\\\\\\\"9.25\\\\\\\",\\\\\\\"9.26\\\\\\\",\\\\\\\"9.27\\\\\\\",\\\\\\\"9.28\\\\\\\",\\\\\\\"9.29\\\\\\\",\\\\\\\"9.3\\\\\\\",\\\\\\\"9.31\\\\\\\",\\\\\\\"9.32\\\\\\\",\\\\\\\"9.33\\\\\\\",\\\\\\\"9.34\\\\\\\",\\\\\\\"9.35\\\\\\\",\\\\\\\"9.36\\\\\\\",\\\\\\\"9.37\\\\\\\",\\\\\\\"9.38\\\\\\\",\\\\\\\"9.39\\\\\\\",\\\\\\\"9.4\\\\\\\",\\\\\\\"9.41\\\\\\\",\\\\\\\"9.42\\\\\\\",\\\\\\\"9.43\\\\\\\",\\\\\\\"9.44\\\\\\\",\\\\\\\"9.45\\\\\\\",\\\\\\\"9.46\\\\\\\",\\\\\\\"9.47\\\\\\\",\\\\\\\"9.48\\\\\\\",\\\\\\\"9.49\\\\\\\",\\\\\\\"9.5\\\\\\\",\\\\\\\"9.51\\\\\\\",\\\\\\\"9.52\\\\\\\",\\\\\\\"9.53\\\\\\\",\\\\\\\"9.54\\\\\\\",\\\\\\\"9.55\\\\\\\",\\\\\\\"9.56\\\\\\\",\\\\\\\"9.57\\\\\\\",\\\\\\\"9.58\\\\\\\",\\\\\\\"9.59\\\\\\\",\\\\\\\"9.6\\\\\\\",\\\\\\\"9.61\\\\\\\",\\\\\\\"9.62\\\\\\\",\\\\\\\"9.63\\\\\\\",\\\\\\\"9.64\\\\\\\",\\\\\\\"9.65\\\\\\\",\\\\\\\"9.66\\\\\\\",\\\\\\\"9.67\\\\\\\",\\\\\\\"9.68\\\\\\\",\\\\\\\"9.69\\\\\\\",\\\\\\\"9.7\\\\\\\",\\\\\\\"9.71\\\\\\\",\\\\\\\"9.72\\\\\\\",\\\\\\\"9.73\\\\\\\",\\\\\\\"9.74\\\\\\\",\\\\\\\"9.75\\\\\\\",\\\\\\\"9.76\\\\\\\",\\\\\\\"9.77\\\\\\\",\\\\\\\"9.78\\\\\\\",\\\\\\\"9.79\\\\\\\",\\\\\\\"9.8\\\\\\\",\\\\\\\"9.81\\\\\\\",\\\\\\\"9.82\\\\\\\",\\\\\\\"9.83\\\\\\\",\\\\\\\"9.84\\\\\\\",\\\\\\\"9.85\\\\\\\",\\\\\\\"9.86\\\\\\\",\\\\\\\"9.87\\\\\\\",\\\\\\\"9.88\\\\\\\",\\\\\\\"9.89\\\\\\\",\\\\\\\"9.9\\\\\\\",\\\\\\\"9.91\\\\\\\",\\\\\\\"9.92\\\\\\\",\\\\\\\"9.93\\\\\\\",\\\\\\\"9.94\\\\\\\",\\\\\\\"9.95\\\\\\\",\\\\\\\"9.96\\\\\\\",\\\\\\\"9.97\\\\\\\",\\\\\\\"9.98\\\\\\\",\\\\\\\"9.99\\\\\\\",\\\\\\\"10.0\\\\\\\"],\\\\\\\"changes\\\\\\\":0,\\\\\\\"formatted_value\\\\\\\":\\\\\\\"7.5\\\\\\\",\\\\\\\"index\\\\\\\":251}\\\");\\n    var self = this;\\n    function AppViewModel() {\\n        for (var key in json_data) {\\n            var el = json_data[key];\\n            this[key] = Array.isArray(el) ? ko.observableArray(el) : ko.observable(el);\\n        }\\n        \\n        \\n        [this[\\\"formatted_vals\\\"].subscribe((function (val){!(this.valueFromJulia[\\\"formatted_vals\\\"]) ? (WebIO.setval({\\\"name\\\":\\\"formatted_vals\\\",\\\"scope\\\":\\\"knockout-component-949e24f4-4925-4d2e-aa0e-c64f92ccb4c9\\\",\\\"id\\\":\\\"ob_03\\\",\\\"type\\\":\\\"observable\\\"},val)) : undefined; return this.valueFromJulia[\\\"formatted_vals\\\"]=false}),self),this[\\\"changes\\\"].subscribe((function (val){!(this.valueFromJulia[\\\"changes\\\"]) ? (WebIO.setval({\\\"name\\\":\\\"changes\\\",\\\"scope\\\":\\\"knockout-component-949e24f4-4925-4d2e-aa0e-c64f92ccb4c9\\\",\\\"id\\\":\\\"ob_05\\\",\\\"type\\\":\\\"observable\\\"},val)) : undefined; return this.valueFromJulia[\\\"changes\\\"]=false}),self),this[\\\"formatted_value\\\"].subscribe((function (val){!(this.valueFromJulia[\\\"formatted_value\\\"]) ? (WebIO.setval({\\\"name\\\":\\\"formatted_value\\\",\\\"scope\\\":\\\"knockout-component-949e24f4-4925-4d2e-aa0e-c64f92ccb4c9\\\",\\\"id\\\":\\\"ob_04\\\",\\\"type\\\":\\\"observable\\\"},val)) : undefined; return this.valueFromJulia[\\\"formatted_value\\\"]=false}),self),this[\\\"index\\\"].subscribe((function (val){!(this.valueFromJulia[\\\"index\\\"]) ? (WebIO.setval({\\\"name\\\":\\\"index\\\",\\\"scope\\\":\\\"knockout-component-949e24f4-4925-4d2e-aa0e-c64f92ccb4c9\\\",\\\"id\\\":\\\"ob_02\\\",\\\"type\\\":\\\"observable\\\"},val)) : undefined; return this.valueFromJulia[\\\"index\\\"]=false}),self)]\\n        \\n    }\\n    self.model = new AppViewModel();\\n    self.valueFromJulia = {};\\n    for (var key in json_data) {\\n        self.valueFromJulia[key] = false;\\n    }\\n    ko.applyBindings(self.model, self.dom);\\n}\\n\")]),\"changes\"=>Any[JSString(\"(function (val){return (val!=this.model[\\\"changes\\\"]()) ? (this.valueFromJulia[\\\"changes\\\"]=true, this.model[\\\"changes\\\"](val)) : undefined})\")],\"formatted_value\"=>Any[JSString(\"(function (val){return (val!=this.model[\\\"formatted_value\\\"]()) ? (this.valueFromJulia[\\\"formatted_value\\\"]=true, this.model[\\\"formatted_value\\\"](val)) : undefined})\")],\"index\"=>Any[JSString(\"(function (val){return (val!=this.model[\\\"index\\\"]()) ? (this.valueFromJulia[\\\"index\\\"]=true, this.model[\\\"index\\\"](val)) : undefined})\"), JSString(\"(function (val){return WebIO.setval({\\\"name\\\":\\\"formatted_value\\\",\\\"scope\\\":\\\"knockout-component-949e24f4-4925-4d2e-aa0e-c64f92ccb4c9\\\",\\\"id\\\":\\\"ob_04\\\",\\\"type\\\":\\\"observable\\\"},WebIO.getval({\\\"name\\\":\\\"formatted_vals\\\",\\\"scope\\\":\\\"knockout-component-949e24f4-4925-4d2e-aa0e-c64f92ccb4c9\\\",\\\"id\\\":\\\"ob_03\\\",\\\"type\\\":\\\"observable\\\"})[(WebIO.getval({\\\"name\\\":\\\"index\\\",\\\"scope\\\":\\\"knockout-component-949e24f4-4925-4d2e-aa0e-c64f92ccb4c9\\\",\\\"id\\\":\\\"ob_02\\\",\\\"type\\\":\\\"observable\\\"})-1)])})\")]), ConnectionPool(Channel{Any}(sz_max:9223372036854775807,sz_curr:4), Set(AbstractConnection[]), Channel{AbstractConnection}(sz_max:32,sz_curr:0))), ##52#53{#dom#15{##dom#13#14{Dict{Any,Any},DOM}},typeof(scope)}(#dom#15{##dom#13#14{Dict{Any,Any},DOM}}(##dom#13#14{Dict{Any,Any},DOM}(Dict{Any,Any}(:className=>\"field\"), DOM(:html, :div))), scope))), Observable{Any} with 0 listeners. Value:\n",
       "(7.5, 2.5, 0.5), nothing, getfield(InteractBase, Symbol(\"##142#143\"))())"
      ]
     },
     "execution_count": 3,
     "metadata": {},
     "output_type": "execute_result"
    }
   ],
   "source": [
    "a=5.0\n",
    "@manipulate for α=a:0.01:2a\n",
    "    err=abs(a-α)\n",
    "    relerr=err/abs(a)\n",
    "    α, err, relerr\n",
    "end"
   ]
  },
  {
   "cell_type": "markdown",
   "metadata": {},
   "source": [
    "## Posebne vrijednosti (_special quantities_) $0$, $-0$, `Inf` i `NaN`\n",
    "\n",
    "Vidi \n",
    "[David Goldberg, What Every Computer Scientist Should Know About Floating-Point Arithmetic](https://docs.oracle.com/cd/E19957-01/806-3568/ncg_goldberg.html)."
   ]
  },
  {
   "cell_type": "markdown",
   "metadata": {},
   "source": [
    "Nula ima predznak:"
   ]
  },
  {
   "cell_type": "code",
   "execution_count": 4,
   "metadata": {},
   "outputs": [
    {
     "data": {
      "text/plain": [
       "(-0.0, true)"
      ]
     },
     "execution_count": 4,
     "metadata": {},
     "output_type": "execute_result"
    }
   ],
   "source": [
    "a=1.0\n",
    "b=0.0\n",
    "c=-b\n",
    "c,b==c"
   ]
  },
  {
   "cell_type": "code",
   "execution_count": 5,
   "metadata": {},
   "outputs": [
    {
     "data": {
      "text/plain": [
       "(false, true)"
      ]
     },
     "execution_count": 5,
     "metadata": {},
     "output_type": "execute_result"
    }
   ],
   "source": [
    "d=a/b\n",
    "e=a/c\n",
    "d==e, 1/d==1/e"
   ]
  },
  {
   "cell_type": "code",
   "execution_count": 6,
   "metadata": {},
   "outputs": [
    {
     "data": {
      "text/plain": [
       "NaN"
      ]
     },
     "execution_count": 6,
     "metadata": {},
     "output_type": "execute_result"
    }
   ],
   "source": [
    "b/c"
   ]
  },
  {
   "cell_type": "code",
   "execution_count": 9,
   "metadata": {},
   "outputs": [
    {
     "data": {
      "text/plain": [
       "\"0000000000000000000000000000000000000000000000000000000000000000\""
      ]
     },
     "execution_count": 9,
     "metadata": {},
     "output_type": "execute_result"
    }
   ],
   "source": [
    "bitstring(0)"
   ]
  },
  {
   "cell_type": "code",
   "execution_count": 11,
   "metadata": {},
   "outputs": [
    {
     "data": {
      "text/plain": [
       "\"0000000000000000000000000000000000000000000000000000000000000001\""
      ]
     },
     "execution_count": 11,
     "metadata": {},
     "output_type": "execute_result"
    }
   ],
   "source": [
    "bitstring(1)"
   ]
  },
  {
   "cell_type": "code",
   "execution_count": 12,
   "metadata": {},
   "outputs": [
    {
     "data": {
      "text/plain": [
       "\"0000000000000000000000000000000000000000000000000000000000000000\""
      ]
     },
     "execution_count": 12,
     "metadata": {},
     "output_type": "execute_result"
    }
   ],
   "source": [
    "bitstring(0.0)"
   ]
  },
  {
   "cell_type": "code",
   "execution_count": 13,
   "metadata": {},
   "outputs": [
    {
     "data": {
      "text/plain": [
       "\"1000000000000000000000000000000000000000000000000000000000000000\""
      ]
     },
     "execution_count": 13,
     "metadata": {},
     "output_type": "execute_result"
    }
   ],
   "source": [
    "bitstring(-0.0)"
   ]
  },
  {
   "cell_type": "code",
   "execution_count": 14,
   "metadata": {},
   "outputs": [
    {
     "data": {
      "text/plain": [
       "\"0011111111110000000000000000000000000000000000000000000000000000\""
      ]
     },
     "execution_count": 14,
     "metadata": {},
     "output_type": "execute_result"
    }
   ],
   "source": [
    "bitstring(1.0)"
   ]
  },
  {
   "cell_type": "markdown",
   "metadata": {},
   "source": [
    "__Zadatak.__ Objasnite prethodne binarne zapise. "
   ]
  },
  {
   "cell_type": "markdown",
   "metadata": {},
   "source": [
    "## Točnost stroja $\\varepsilon$\n",
    "\n",
    "je najmanji broj $\\varepsilon$ takav da je $1+\\varepsilon\\neq 1$ "
   ]
  },
  {
   "cell_type": "code",
   "execution_count": 16,
   "metadata": {},
   "outputs": [
    {
     "name": "stdout",
     "output_type": "stream",
     "text": [
      "1.0\n",
      "0.5\n",
      "0.25\n",
      "0.125\n",
      "0.0625\n",
      "0.03125\n",
      "0.015625\n",
      "0.0078125\n",
      "0.00390625\n",
      "0.001953125\n",
      "0.0009765625\n",
      "0.00048828125\n",
      "0.000244140625\n",
      "0.0001220703125\n",
      "6.103515625e-5\n",
      "3.0517578125e-5\n",
      "1.52587890625e-5\n",
      "7.62939453125e-6\n",
      "3.814697265625e-6\n",
      "1.9073486328125e-6\n",
      "9.5367431640625e-7\n",
      "4.76837158203125e-7\n",
      "2.384185791015625e-7\n",
      "1.1920928955078125e-7\n",
      "5.960464477539063e-8\n",
      "2.9802322387695312e-8\n",
      "1.4901161193847656e-8\n",
      "7.450580596923828e-9\n",
      "3.725290298461914e-9\n",
      "1.862645149230957e-9\n",
      "9.313225746154785e-10\n",
      "4.656612873077393e-10\n",
      "2.3283064365386963e-10\n",
      "1.1641532182693481e-10\n",
      "5.820766091346741e-11\n",
      "2.9103830456733704e-11\n",
      "1.4551915228366852e-11\n",
      "7.275957614183426e-12\n",
      "3.637978807091713e-12\n",
      "1.8189894035458565e-12\n",
      "9.094947017729282e-13\n",
      "4.547473508864641e-13\n",
      "2.2737367544323206e-13\n",
      "1.1368683772161603e-13\n",
      "5.684341886080802e-14\n",
      "2.842170943040401e-14\n",
      "1.4210854715202004e-14\n",
      "7.105427357601002e-15\n",
      "3.552713678800501e-15\n",
      "1.7763568394002505e-15\n",
      "8.881784197001252e-16\n",
      "4.440892098500626e-16\n",
      "2.220446049250313e-16\n",
      "1.1102230246251565e-16\n"
     ]
    }
   ],
   "source": [
    "b=1.0\n",
    "a=2.0\n",
    "while (b+a)!=b\n",
    "    a=a/2\n",
    "    println(a)\n",
    "end"
   ]
  },
  {
   "cell_type": "code",
   "execution_count": 17,
   "metadata": {},
   "outputs": [
    {
     "data": {
      "text/plain": [
       "true"
      ]
     },
     "execution_count": 17,
     "metadata": {},
     "output_type": "execute_result"
    }
   ],
   "source": [
    "1+a==1.0"
   ]
  },
  {
   "cell_type": "code",
   "execution_count": 18,
   "metadata": {},
   "outputs": [
    {
     "data": {
      "text/plain": [
       "(2.220446049250313e-16, false)"
      ]
     },
     "execution_count": 18,
     "metadata": {},
     "output_type": "execute_result"
    }
   ],
   "source": [
    "2a, 1+2a==1.0"
   ]
  },
  {
   "cell_type": "markdown",
   "metadata": {},
   "source": [
    "Programi imaju ugrađenu naredbu koja daje $\\varepsilon$"
   ]
  },
  {
   "cell_type": "code",
   "execution_count": 19,
   "metadata": {},
   "outputs": [
    {
     "data": {
      "text/plain": [
       "2.220446049250313e-16"
      ]
     },
     "execution_count": 19,
     "metadata": {},
     "output_type": "execute_result"
    }
   ],
   "source": [
    "eps()"
   ]
  },
  {
   "cell_type": "code",
   "execution_count": 20,
   "metadata": {},
   "outputs": [
    {
     "data": {
      "text/plain": [
       "2.842170943040401e-14"
      ]
     },
     "execution_count": 20,
     "metadata": {},
     "output_type": "execute_result"
    }
   ],
   "source": [
    "# Što je ovo?\n",
    "eps(200.0)"
   ]
  },
  {
   "cell_type": "code",
   "execution_count": 21,
   "metadata": {},
   "outputs": [
    {
     "data": {
      "text/html": [
       "11 methods for generic function <b>eps</b>:<ul><li> eps(t::<b>Dates.Time</b>) in Dates at <a href=\"file:///buildworker/worker/package_linux64/build/usr/share/julia/stdlib/v1.0/Dates/src/types.jl\" target=\"_blank\">/buildworker/worker/package_linux64/build/usr/share/julia/stdlib/v1.0/Dates/src/types.jl:334</a></li> <li> eps(dt::<b>Dates.Date</b>) in Dates at <a href=\"file:///buildworker/worker/package_linux64/build/usr/share/julia/stdlib/v1.0/Dates/src/types.jl\" target=\"_blank\">/buildworker/worker/package_linux64/build/usr/share/julia/stdlib/v1.0/Dates/src/types.jl:333</a></li> <li> eps(dt::<b>Dates.DateTime</b>) in Dates at <a href=\"file:///buildworker/worker/package_linux64/build/usr/share/julia/stdlib/v1.0/Dates/src/types.jl\" target=\"_blank\">/buildworker/worker/package_linux64/build/usr/share/julia/stdlib/v1.0/Dates/src/types.jl:332</a></li> <li> eps() in Base at <a href=\"https://github.com/JuliaLang/julia/tree/d789231e9985537686052db9b2314c0d51656308/base/float.jl#L739\" target=\"_blank\">float.jl:739</a></li> <li> eps(x::<b>AbstractFloat</b>) in Base at <a href=\"https://github.com/JuliaLang/julia/tree/d789231e9985537686052db9b2314c0d51656308/base/float.jl#L735\" target=\"_blank\">float.jl:735</a></li> <li> eps(::<b>Type{Float16}</b>) in Base at <a href=\"https://github.com/JuliaLang/julia/tree/d789231e9985537686052db9b2314c0d51656308/base/float.jl#L736\" target=\"_blank\">float.jl:736</a></li> <li> eps(::<b>Type{Float32}</b>) in Base at <a href=\"https://github.com/JuliaLang/julia/tree/d789231e9985537686052db9b2314c0d51656308/base/float.jl#L737\" target=\"_blank\">float.jl:737</a></li> <li> eps(::<b>Type{Float64}</b>) in Base at <a href=\"https://github.com/JuliaLang/julia/tree/d789231e9985537686052db9b2314c0d51656308/base/float.jl#L738\" target=\"_blank\">float.jl:738</a></li> <li> eps(::<b>Type{BigFloat}</b>) in Base.MPFR at <a href=\"https://github.com/JuliaLang/julia/tree/d789231e9985537686052db9b2314c0d51656308/base/mpfr.jl#L882\" target=\"_blank\">mpfr.jl:882</a></li> <li> eps<i>{T<:FixedPoint}</i>(::<b>Type{T}</b>) in FixedPointNumbers at <a href=\"file:///home/slap/.julia/packages/FixedPointNumbers/3QAEg/src/FixedPointNumbers.jl\" target=\"_blank\">/home/slap/.julia/packages/FixedPointNumbers/3QAEg/src/FixedPointNumbers.jl:121</a></li> <li> eps<i>{T<:FixedPoint}</i>(::<b>T</b>) in FixedPointNumbers at <a href=\"file:///home/slap/.julia/packages/FixedPointNumbers/3QAEg/src/FixedPointNumbers.jl\" target=\"_blank\">/home/slap/.julia/packages/FixedPointNumbers/3QAEg/src/FixedPointNumbers.jl:122</a></li> </ul>"
      ],
      "text/plain": [
       "# 11 methods for generic function \"eps\":\n",
       "[1] eps(t::Dates.Time) in Dates at /buildworker/worker/package_linux64/build/usr/share/julia/stdlib/v1.0/Dates/src/types.jl:334\n",
       "[2] eps(dt::Dates.Date) in Dates at /buildworker/worker/package_linux64/build/usr/share/julia/stdlib/v1.0/Dates/src/types.jl:333\n",
       "[3] eps(dt::Dates.DateTime) in Dates at /buildworker/worker/package_linux64/build/usr/share/julia/stdlib/v1.0/Dates/src/types.jl:332\n",
       "[4] eps() in Base at float.jl:739\n",
       "[5] eps(x::AbstractFloat) in Base at float.jl:735\n",
       "[6] eps(::Type{Float16}) in Base at float.jl:736\n",
       "[7] eps(::Type{Float32}) in Base at float.jl:737\n",
       "[8] eps(::Type{Float64}) in Base at float.jl:738\n",
       "[9] eps(::Type{BigFloat}) in Base.MPFR at mpfr.jl:882\n",
       "[10] eps(::Type{T}) where T<:FixedPointNumbers.FixedPoint in FixedPointNumbers at /home/slap/.julia/packages/FixedPointNumbers/3QAEg/src/FixedPointNumbers.jl:121\n",
       "[11] eps(::T) where T<:FixedPointNumbers.FixedPoint in FixedPointNumbers at /home/slap/.julia/packages/FixedPointNumbers/3QAEg/src/FixedPointNumbers.jl:122"
      ]
     },
     "execution_count": 21,
     "metadata": {},
     "output_type": "execute_result"
    }
   ],
   "source": [
    "methods(eps)"
   ]
  },
  {
   "cell_type": "code",
   "execution_count": 22,
   "metadata": {},
   "outputs": [
    {
     "data": {
      "text/plain": [
       "(2.220446049250313e-16, 2.220446049250313e-16)"
      ]
     },
     "execution_count": 22,
     "metadata": {},
     "output_type": "execute_result"
    }
   ],
   "source": [
    "eps(Float64), 2.0^(-52)"
   ]
  },
  {
   "cell_type": "code",
   "execution_count": 23,
   "metadata": {},
   "outputs": [
    {
     "data": {
      "text/plain": [
       "(1.1920929f-7, 1.1920928955078125e-7)"
      ]
     },
     "execution_count": 23,
     "metadata": {},
     "output_type": "execute_result"
    }
   ],
   "source": [
    "eps(Float32), 2.0^(-23)"
   ]
  },
  {
   "cell_type": "code",
   "execution_count": 24,
   "metadata": {},
   "outputs": [
    {
     "data": {
      "text/plain": [
       "(Float16(0.000977), 0.0009765625)"
      ]
     },
     "execution_count": 24,
     "metadata": {},
     "output_type": "execute_result"
    }
   ],
   "source": [
    "eps(Float16), 2.0^(-10)"
   ]
  },
  {
   "cell_type": "code",
   "execution_count": 25,
   "metadata": {},
   "outputs": [
    {
     "data": {
      "text/plain": [
       "(1.727233711018888925077270372560079914223200072887256277004740694033718360632485e-77, 1.727233711018889e-77)"
      ]
     },
     "execution_count": 25,
     "metadata": {},
     "output_type": "execute_result"
    }
   ],
   "source": [
    "eps(BigFloat), 2.0^(-255)"
   ]
  },
  {
   "cell_type": "markdown",
   "metadata": {},
   "source": [
    "## Katastrofalno kraćenje (_catastrophic cancellation_)\n",
    "\n",
    "U egzaktnoj aritmetici kvadratna jednadžba\n",
    "\n",
    "$$ ax^2 + bx+c=0$$\n",
    "\n",
    "ima rješenja\n",
    "\n",
    "\\begin{align*}\n",
    "x_1&=\\frac{-b-\\sqrt{b^2-4ac}}{2a} \\\\\n",
    "x_2&=\\frac{-b+\\sqrt{b^2-4ac}}{2a}\\equiv \\frac{-b+\\sqrt{b^2-4ac}}{2a}\\cdot \\frac{-b-\\sqrt{b^2-4ac}}{-b-\\sqrt{b^2-4ac}}\n",
    "\\\\ &= \\frac{2c}{-b-\\sqrt{b^2-4ac}}=x_3\n",
    "\\end{align*}\n"
   ]
  },
  {
   "cell_type": "code",
   "execution_count": 26,
   "metadata": {},
   "outputs": [
    {
     "data": {
      "text/plain": [
       "(-6.172839449999997e7, -3.3527612686157227e-8, -3.240000029484002e-8)"
      ]
     },
     "execution_count": 26,
     "metadata": {},
     "output_type": "execute_result"
    }
   ],
   "source": [
    "a=2.0\n",
    "b=123456789.0\n",
    "c=4.0\n",
    "\n",
    "x1=(-b-sqrt(b*b-4*a*c))/(2.0*a)\n",
    "x2=(-b+sqrt(b*b-4*a*c))/(2.0*a)\n",
    "x3=(2*c)/(-b-sqrt(b*b-4*a*c))\n",
    "x1,x2,x3"
   ]
  },
  {
   "cell_type": "markdown",
   "metadata": {},
   "source": [
    "Provjerimo s `BigFloat`:"
   ]
  },
  {
   "cell_type": "code",
   "execution_count": 27,
   "metadata": {},
   "outputs": [
    {
     "data": {
      "text/plain": [
       "-3.240000029484001968915648868258452417675753633383540995167795107129921671968718e-08"
      ]
     },
     "execution_count": 27,
     "metadata": {},
     "output_type": "execute_result"
    }
   ],
   "source": [
    "a=BigFloat(a)\n",
    "b=BigFloat(b)\n",
    "c=BigFloat(c)\n",
    "x2=(-b+sqrt(b*b-4*a*c))/(2.0*a)"
   ]
  },
  {
   "cell_type": "markdown",
   "metadata": {
    "collapsed": true
   },
   "source": [
    "Još jedan primjer:"
   ]
  },
  {
   "cell_type": "code",
   "execution_count": 28,
   "metadata": {},
   "outputs": [
    {
     "data": {
      "text/plain": [
       "0.0"
      ]
     },
     "execution_count": 28,
     "metadata": {},
     "output_type": "execute_result"
    }
   ],
   "source": [
    "x=1e-10\n",
    "tan(x)-sin(x)"
   ]
  },
  {
   "cell_type": "markdown",
   "metadata": {},
   "source": [
    "Međutim,\n",
    "trignometrijski indentiti daju:\n",
    "\n",
    "\\begin{align*}\n",
    "\\tan x - \\sin x & = \\tan x (1 - \\cos x ) \n",
    "= \\tan x (1-\\cos x)\\frac{1+\\cos x}{1+\\cos x}\\\\ & = \\tan x \\frac{1-\\cos^2 x}{1+\\cos x} \\\\\n",
    "&= \\tan x \\sin^2 x \\frac{1}{1+\\cos x},\n",
    "\\end{align*}\n",
    "\n",
    "a Taylorova formula daje:\n",
    "\n",
    "\\begin{align*}\n",
    "\\tan x &= x + \\frac{x^3}{3} + \\frac{2x^5}{15} + O(x^7) \\\\\n",
    "\\sin x &= x -\\frac{x^3}{6} + \\frac{x^5}{120}+O(x^7) \\\\\n",
    "\\tan x - \\sin x &= \\frac{x^3}{2} + \\frac{7x^5}{120} +O(x^7)\n",
    "\\end{align*}\n",
    "\n",
    "Obe formule daju potpuno točan rezultat:"
   ]
  },
  {
   "cell_type": "code",
   "execution_count": 29,
   "metadata": {},
   "outputs": [
    {
     "data": {
      "text/plain": [
       "(5.0e-31, 5.0e-31)"
      ]
     },
     "execution_count": 29,
     "metadata": {},
     "output_type": "execute_result"
    }
   ],
   "source": [
    "tan(x)*sin(x)^2/(1+cos(x)), x^3/2+7*x^5/120"
   ]
  }
 ],
 "metadata": {
  "@webio": {
   "lastCommId": "80e302e0a15145ecae5f45008892b1e3",
   "lastKernelId": "fa0b8aea-342a-46f0-b00a-51befb15f97e"
  },
  "kernelspec": {
   "display_name": "Julia 1.0.2",
   "language": "julia",
   "name": "julia-1.0"
  },
  "language_info": {
   "file_extension": ".jl",
   "mimetype": "application/julia",
   "name": "julia",
   "version": "1.0.2"
  }
 },
 "nbformat": 4,
 "nbformat_minor": 1
}
