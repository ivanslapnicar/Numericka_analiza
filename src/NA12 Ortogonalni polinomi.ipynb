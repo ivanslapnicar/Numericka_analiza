{
 "cells": [
  {
   "cell_type": "markdown",
   "metadata": {},
   "source": [
    "# Ortogonalni polinomi\n",
    "\n",
    "\n",
    "Neka je \n",
    "\n",
    "$$\n",
    "L(x_0,x_1,\\ldots,x_n)\n",
    "$$\n",
    "\n",
    "(pot)prostor razapet linearno nezavisnim vektorima (ili funkcijama) $x_0,x_1,\\ldots,x_n$.\n",
    "\n",
    "Radi se o skupu svih linearnih kombinacija zadanih vektora. \n",
    "\n",
    "Koristeći _Gram-Schmidtov postupak ortogonalizacije_ možemo izračunati _ortogonalnu bazu_ tog (pot)prostora \n",
    "\n",
    "$$\n",
    "y_0,y_1,\\ldots,y_n, \n",
    "$$\n",
    "\n",
    "za koju vrijedi\n",
    "\n",
    "$$\n",
    "(y_i,y_j)=0,\\quad i\\neq j. \\tag{1}\n",
    "$$\n",
    "\n",
    "Neka je \n",
    "\n",
    "\\begin{align}\n",
    "y_0&=x_0\\\\\n",
    "y_1&=x_1-\\frac{(x_1,y_0)}{(y_0,y_0)}y_0\\\\\n",
    "y_2&=x_2-\\frac{(x_2,y_0)}{(y_0,y_0)}y_0-\\frac{(x_2,y_1)}{(y_1,y_1)}y_1\\\\\n",
    "& \\vdots \\\\\n",
    "y_n&=x_n-\\sum_{j=0}^{n-1} \\frac{(x_n,y_j)}{(y_j,y_j)}y_j.\n",
    "\\end{align}\n",
    "\n",
    "Svaki $y_j$ je linearna kombinacija od $x_0,x_1,\\ldots,x_j$ pa su $y_j$ linearno nezavisni i vrijedi\n",
    "\n",
    "$$\n",
    "L(x_0,x_1,\\ldots,x_n)=L(y_0,y_1,\\ldots,y_n).\n",
    "$$\n",
    "\n",
    "Direktnom provjerom se vidi da vrijedi (1).\n",
    "\n",
    "_Težinski skalarni produkt_  funkcija $f$ i $g$ na intervalu $[a,b]$ s težinom $\\omega(x)>0$ je\n",
    "\n",
    "$$\n",
    "(f,g)_\\omega=\\int_a^b f(x)g(x)\\omega(x)\\, dx\n",
    "$$\n",
    "\n",
    "Funkcije $f$ i $g$ su _ortogonalne_ ako je $(f,g)_\\omega=0$.\n",
    "\n",
    "_Ortogonalni polinomi_ nastaju ortogonalizacijom polinoma\n",
    "\n",
    "$$\n",
    "1,x,x^2,x^2,\\ldots,x^n. \\tag{2}\n",
    "$$\n",
    "\n",
    "Različiti odabiri težinske funkcije daju različite sustave ortogonalnih polinoma.  "
   ]
  },
  {
   "cell_type": "markdown",
   "metadata": {},
   "source": [
    "## Legendreovi polinomi\n",
    "\n",
    "Ortogonalizirajmo sustav (2) uz\n",
    "\n",
    "$$\n",
    "[a,b]=[-1,1], \\quad \\omega(x)=1,\n",
    "$$\n",
    "\n",
    "koristeći paket `SymPy.jl` za simboličko računanje. "
   ]
  },
  {
   "cell_type": "code",
   "execution_count": 1,
   "metadata": {},
   "outputs": [],
   "source": [
    "using SymPy"
   ]
  },
  {
   "cell_type": "code",
   "execution_count": 2,
   "metadata": {},
   "outputs": [],
   "source": [
    "a=-1\n",
    "b=1\n",
    "n=8\n",
    "P=Array{Any,1}(missing,n)\n",
    "x=Sym(\"x\")\n",
    "P[1]=x^0\n",
    "ω(x)=1\n",
    "for k=2:n\n",
    "    P[k]=x^(k-1)\n",
    "    for j=1:k-1\n",
    "        P[k]=P[k]-integrate(x->x^(k-1)*P[j]*ω(x),a,b)*P[j]/integrate(x->P[j]*P[j]*ω(x),a,b)\n",
    "    end\n",
    "end"
   ]
  },
  {
   "cell_type": "markdown",
   "metadata": {},
   "source": [
    "Julia indeksiranje započima s 1 pa su svi indeksi pomaknuti, odnosno\n",
    "\n",
    "$$\n",
    "P_0(x)=P[1], \\ P_1(x)=P[2], \\ldots\n",
    "$$"
   ]
  },
  {
   "cell_type": "code",
   "execution_count": 3,
   "metadata": {},
   "outputs": [
    {
     "data": {
      "text/latex": [
       "\\begin{equation*}1\\end{equation*}"
      ],
      "text/plain": [
       "1"
      ]
     },
     "execution_count": 3,
     "metadata": {},
     "output_type": "execute_result"
    }
   ],
   "source": [
    "P[1]"
   ]
  },
  {
   "cell_type": "code",
   "execution_count": 4,
   "metadata": {},
   "outputs": [
    {
     "data": {
      "text/latex": [
       "\\begin{equation*}x^{3} - \\frac{3 x}{5}\\end{equation*}"
      ],
      "text/plain": [
       " 3   3⋅x\n",
       "x  - ───\n",
       "      5 "
      ]
     },
     "execution_count": 4,
     "metadata": {},
     "output_type": "execute_result"
    }
   ],
   "source": [
    "P[4]"
   ]
  },
  {
   "cell_type": "code",
   "execution_count": 5,
   "metadata": {},
   "outputs": [
    {
     "data": {
      "text/latex": [
       "\\begin{equation*}x^{5} - \\frac{10 x^{3}}{9} + \\frac{5 x}{21}\\end{equation*}"
      ],
      "text/plain": [
       "         3      \n",
       " 5   10⋅x    5⋅x\n",
       "x  - ───── + ───\n",
       "       9      21"
      ]
     },
     "execution_count": 5,
     "metadata": {},
     "output_type": "execute_result"
    }
   ],
   "source": [
    "P[6]"
   ]
  },
  {
   "cell_type": "code",
   "execution_count": 6,
   "metadata": {},
   "outputs": [
    {
     "data": {
      "text/latex": [
       "\\begin{equation*}x^{6} - \\frac{15 x^{4}}{11} + \\frac{5 x^{2}}{11} - \\frac{5}{231}\\end{equation*}"
      ],
      "text/plain": [
       "         4      2      \n",
       " 6   15⋅x    5⋅x     5 \n",
       "x  - ───── + ──── - ───\n",
       "       11     11    231"
      ]
     },
     "execution_count": 6,
     "metadata": {},
     "output_type": "execute_result"
    }
   ],
   "source": [
    "P[7]"
   ]
  },
  {
   "cell_type": "code",
   "execution_count": 7,
   "metadata": {},
   "outputs": [
    {
     "data": {
      "text/latex": [
       "\\begin{equation*}x^{7} - \\frac{21 x^{5}}{13} + \\frac{105 x^{3}}{143} - \\frac{35 x}{429}\\end{equation*}"
      ],
      "text/plain": [
       "         5        3       \n",
       " 7   21⋅x    105⋅x    35⋅x\n",
       "x  - ───── + ────── - ────\n",
       "       13     143     429 "
      ]
     },
     "execution_count": 7,
     "metadata": {},
     "output_type": "execute_result"
    }
   ],
   "source": [
    "P[8]"
   ]
  },
  {
   "cell_type": "markdown",
   "metadata": {},
   "source": [
    "Polinomi $P_n$ su do na množenje konstantom jednaki _Legendreovim_ polinomima\n",
    "\n",
    "$$\n",
    "L_n(x)=\\frac{1}{2^n n!}\\frac{d^n}{dx^n}(x^2-1)^n, \\quad n=0,1,2,3,\\ldots\n",
    "$$"
   ]
  },
  {
   "cell_type": "code",
   "execution_count": 8,
   "metadata": {},
   "outputs": [],
   "source": [
    "n=8\n",
    "L=Array{Any,1}(missing,n)\n",
    "L[1]=x^0\n",
    "for k=1:n-1\n",
    "    L[k+1]=expand(diff((x^2-1)^k/(2^k*factorial(k)),x,k))\n",
    "end"
   ]
  },
  {
   "cell_type": "code",
   "execution_count": 9,
   "metadata": {},
   "outputs": [
    {
     "data": {
      "text/plain": [
       "(1, 1)"
      ]
     },
     "execution_count": 9,
     "metadata": {},
     "output_type": "execute_result"
    }
   ],
   "source": [
    "L[1], P[1]"
   ]
  },
  {
   "cell_type": "code",
   "execution_count": 10,
   "metadata": {},
   "outputs": [
    {
     "data": {
      "text/plain": [
       "(x, x)"
      ]
     },
     "execution_count": 10,
     "metadata": {},
     "output_type": "execute_result"
    }
   ],
   "source": [
    "L[2],P[2]"
   ]
  },
  {
   "cell_type": "code",
   "execution_count": 11,
   "metadata": {},
   "outputs": [
    {
     "data": {
      "text/plain": [
       "(5*x^3/2 - 3*x/2, x^3 - 3*x/5)"
      ]
     },
     "execution_count": 11,
     "metadata": {},
     "output_type": "execute_result"
    }
   ],
   "source": [
    "L[4],P[4]"
   ]
  },
  {
   "cell_type": "code",
   "execution_count": 12,
   "metadata": {},
   "outputs": [
    {
     "data": {
      "text/latex": [
       "\\begin{equation*}\\frac{231 x^{6}}{16} - \\frac{315 x^{4}}{16} + \\frac{105 x^{2}}{16} - \\frac{5}{16}\\end{equation*}"
      ],
      "text/plain": [
       "     6        4        2     \n",
       "231⋅x    315⋅x    105⋅x    5 \n",
       "────── - ────── + ────── - ──\n",
       "  16       16       16     16"
      ]
     },
     "execution_count": 12,
     "metadata": {},
     "output_type": "execute_result"
    }
   ],
   "source": [
    "L[7]"
   ]
  },
  {
   "cell_type": "code",
   "execution_count": 13,
   "metadata": {},
   "outputs": [
    {
     "data": {
      "text/latex": [
       "\\begin{equation*}x^{6} - \\frac{15 x^{4}}{11} + \\frac{5 x^{2}}{11} - \\frac{5}{231}\\end{equation*}"
      ],
      "text/plain": [
       "         4      2      \n",
       " 6   15⋅x    5⋅x     5 \n",
       "x  - ───── + ──── - ───\n",
       "       11     11    231"
      ]
     },
     "execution_count": 13,
     "metadata": {},
     "output_type": "execute_result"
    }
   ],
   "source": [
    "P[7]"
   ]
  },
  {
   "cell_type": "code",
   "execution_count": 14,
   "metadata": {},
   "outputs": [
    {
     "data": {
      "text/latex": [
       "\\begin{equation*}x^{6} - \\frac{15 x^{4}}{11} + \\frac{5 x^{2}}{11} - \\frac{5}{231}\\end{equation*}"
      ],
      "text/plain": [
       "         4      2      \n",
       " 6   15⋅x    5⋅x     5 \n",
       "x  - ───── + ──── - ───\n",
       "       11     11    231"
      ]
     },
     "execution_count": 14,
     "metadata": {},
     "output_type": "execute_result"
    }
   ],
   "source": [
    "L[7]*16/231"
   ]
  },
  {
   "cell_type": "markdown",
   "metadata": {},
   "source": [
    "Pored ortogonalnosti, vrijede sljedeća svojstva:\n",
    "\n",
    "* $L_n(x)$  ima $n$ različitih nul-točaka na intervalu $[-1,1]$, \n",
    "* vrijedi _tročlana rekurzivna formula_: \n",
    "\n",
    "$$ \n",
    "L_{n+1}(x)=\\frac{2n+1}{n+1}\\,x\\, L_n(x)-\\frac{n}{n+1} L_{n-1}(x).\n",
    "$$\n",
    "\n",
    "Izračunajmo polinome numerički i nacrtajmo ih:"
   ]
  },
  {
   "cell_type": "code",
   "execution_count": 15,
   "metadata": {},
   "outputs": [],
   "source": [
    "using Polynomials\n",
    "using Plots"
   ]
  },
  {
   "cell_type": "code",
   "execution_count": 16,
   "metadata": {},
   "outputs": [],
   "source": [
    "n=40\n",
    "L=Array{Any,1}(missing,n)\n",
    "L[1]=Polynomials.Poly([1])\n",
    "L[2]=Polynomials.Poly([0,1])\n",
    "for i=3:n\n",
    "    L[i]=(2*i-3)*L[2]*L[i-1]/(i-1)-(i-2)*L[i-2]/(i-1)\n",
    "    # @show i, length(L[i])\n",
    "end"
   ]
  },
  {
   "cell_type": "code",
   "execution_count": 17,
   "metadata": {},
   "outputs": [
    {
     "data": {
      "text/html": [
       "&#45;0.3125 &#43; 6.5625&#8729;x<sup>2</sup> &#45; 19.6875&#8729;x<sup>4</sup> &#43; 14.4375&#8729;x<sup>6</sup>"
      ],
      "text/latex": [
       "$-0.3125 + 6.5625\\cdot x^{2} - 19.6875\\cdot x^{4} + 14.4375\\cdot x^{6}$"
      ],
      "text/plain": [
       "Poly(-0.3125 + 6.5625*x^2 - 19.6875*x^4 + 14.4375*x^6)"
      ]
     },
     "execution_count": 17,
     "metadata": {},
     "output_type": "execute_result"
    }
   ],
   "source": [
    "L[7]"
   ]
  },
  {
   "cell_type": "code",
   "execution_count": 21,
   "metadata": {},
   "outputs": [
    {
     "data": {
      "image/svg+xml": [
       "<?xml version=\"1.0\" encoding=\"utf-8\"?>\n",
       "<svg xmlns=\"http://www.w3.org/2000/svg\" xmlns:xlink=\"http://www.w3.org/1999/xlink\" width=\"600\" height=\"400\" viewBox=\"0 0 2400 1600\">\n",
       "<defs>\n",
       "  <clipPath id=\"clip7100\">\n",
       "    <rect x=\"0\" y=\"0\" width=\"2400\" height=\"1600\"/>\n",
       "  </clipPath>\n",
       "</defs>\n",
       "<polygon clip-path=\"url(#clip7100)\" points=\"\n",
       "0,1600 2400,1600 2400,0 0,0 \n",
       "  \" fill=\"#ffffff\" fill-rule=\"evenodd\" fill-opacity=\"1\"/>\n",
       "<defs>\n",
       "  <clipPath id=\"clip7101\">\n",
       "    <rect x=\"480\" y=\"0\" width=\"1681\" height=\"1600\"/>\n",
       "  </clipPath>\n",
       "</defs>\n",
       "<polygon clip-path=\"url(#clip7100)\" points=\"\n",
       "182.008,1487.47 2352.76,1487.47 2352.76,47.2441 182.008,47.2441 \n",
       "  \" fill=\"#ffffff\" fill-rule=\"evenodd\" fill-opacity=\"1\"/>\n",
       "<defs>\n",
       "  <clipPath id=\"clip7102\">\n",
       "    <rect x=\"182\" y=\"47\" width=\"2172\" height=\"1441\"/>\n",
       "  </clipPath>\n",
       "</defs>\n",
       "<polyline clip-path=\"url(#clip7102)\" style=\"stroke:#000000; stroke-width:2; stroke-opacity:0.1; fill:none\" points=\"\n",
       "  243.444,1487.47 243.444,47.2441 \n",
       "  \"/>\n",
       "<polyline clip-path=\"url(#clip7102)\" style=\"stroke:#000000; stroke-width:2; stroke-opacity:0.1; fill:none\" points=\"\n",
       "  755.413,1487.47 755.413,47.2441 \n",
       "  \"/>\n",
       "<polyline clip-path=\"url(#clip7102)\" style=\"stroke:#000000; stroke-width:2; stroke-opacity:0.1; fill:none\" points=\"\n",
       "  1267.38,1487.47 1267.38,47.2441 \n",
       "  \"/>\n",
       "<polyline clip-path=\"url(#clip7102)\" style=\"stroke:#000000; stroke-width:2; stroke-opacity:0.1; fill:none\" points=\"\n",
       "  1779.35,1487.47 1779.35,47.2441 \n",
       "  \"/>\n",
       "<polyline clip-path=\"url(#clip7102)\" style=\"stroke:#000000; stroke-width:2; stroke-opacity:0.1; fill:none\" points=\"\n",
       "  2291.32,1487.47 2291.32,47.2441 \n",
       "  \"/>\n",
       "<polyline clip-path=\"url(#clip7102)\" style=\"stroke:#000000; stroke-width:2; stroke-opacity:0.1; fill:none\" points=\"\n",
       "  182.008,1446.71 2352.76,1446.71 \n",
       "  \"/>\n",
       "<polyline clip-path=\"url(#clip7102)\" style=\"stroke:#000000; stroke-width:2; stroke-opacity:0.1; fill:none\" points=\"\n",
       "  182.008,1107.04 2352.76,1107.04 \n",
       "  \"/>\n",
       "<polyline clip-path=\"url(#clip7102)\" style=\"stroke:#000000; stroke-width:2; stroke-opacity:0.1; fill:none\" points=\"\n",
       "  182.008,767.359 2352.76,767.359 \n",
       "  \"/>\n",
       "<polyline clip-path=\"url(#clip7102)\" style=\"stroke:#000000; stroke-width:2; stroke-opacity:0.1; fill:none\" points=\"\n",
       "  182.008,427.682 2352.76,427.682 \n",
       "  \"/>\n",
       "<polyline clip-path=\"url(#clip7102)\" style=\"stroke:#000000; stroke-width:2; stroke-opacity:0.1; fill:none\" points=\"\n",
       "  182.008,88.0048 2352.76,88.0048 \n",
       "  \"/>\n",
       "<polyline clip-path=\"url(#clip7100)\" style=\"stroke:#000000; stroke-width:4; stroke-opacity:1; fill:none\" points=\"\n",
       "  182.008,1487.47 2352.76,1487.47 \n",
       "  \"/>\n",
       "<polyline clip-path=\"url(#clip7100)\" style=\"stroke:#000000; stroke-width:4; stroke-opacity:1; fill:none\" points=\"\n",
       "  182.008,1487.47 182.008,47.2441 \n",
       "  \"/>\n",
       "<polyline clip-path=\"url(#clip7100)\" style=\"stroke:#000000; stroke-width:4; stroke-opacity:1; fill:none\" points=\"\n",
       "  243.444,1487.47 243.444,1465.87 \n",
       "  \"/>\n",
       "<polyline clip-path=\"url(#clip7100)\" style=\"stroke:#000000; stroke-width:4; stroke-opacity:1; fill:none\" points=\"\n",
       "  755.413,1487.47 755.413,1465.87 \n",
       "  \"/>\n",
       "<polyline clip-path=\"url(#clip7100)\" style=\"stroke:#000000; stroke-width:4; stroke-opacity:1; fill:none\" points=\"\n",
       "  1267.38,1487.47 1267.38,1465.87 \n",
       "  \"/>\n",
       "<polyline clip-path=\"url(#clip7100)\" style=\"stroke:#000000; stroke-width:4; stroke-opacity:1; fill:none\" points=\"\n",
       "  1779.35,1487.47 1779.35,1465.87 \n",
       "  \"/>\n",
       "<polyline clip-path=\"url(#clip7100)\" style=\"stroke:#000000; stroke-width:4; stroke-opacity:1; fill:none\" points=\"\n",
       "  2291.32,1487.47 2291.32,1465.87 \n",
       "  \"/>\n",
       "<polyline clip-path=\"url(#clip7100)\" style=\"stroke:#000000; stroke-width:4; stroke-opacity:1; fill:none\" points=\"\n",
       "  182.008,1446.71 214.569,1446.71 \n",
       "  \"/>\n",
       "<polyline clip-path=\"url(#clip7100)\" style=\"stroke:#000000; stroke-width:4; stroke-opacity:1; fill:none\" points=\"\n",
       "  182.008,1107.04 214.569,1107.04 \n",
       "  \"/>\n",
       "<polyline clip-path=\"url(#clip7100)\" style=\"stroke:#000000; stroke-width:4; stroke-opacity:1; fill:none\" points=\"\n",
       "  182.008,767.359 214.569,767.359 \n",
       "  \"/>\n",
       "<polyline clip-path=\"url(#clip7100)\" style=\"stroke:#000000; stroke-width:4; stroke-opacity:1; fill:none\" points=\"\n",
       "  182.008,427.682 214.569,427.682 \n",
       "  \"/>\n",
       "<polyline clip-path=\"url(#clip7100)\" style=\"stroke:#000000; stroke-width:4; stroke-opacity:1; fill:none\" points=\"\n",
       "  182.008,88.0048 214.569,88.0048 \n",
       "  \"/>\n",
       "<g clip-path=\"url(#clip7100)\">\n",
       "<text style=\"fill:#000000; fill-opacity:1; font-family:Arial,Helvetica Neue,Helvetica,sans-serif; font-size:48px; text-anchor:middle;\" transform=\"rotate(0, 243.444, 1541.47)\" x=\"243.444\" y=\"1541.47\">-1.0</text>\n",
       "</g>\n",
       "<g clip-path=\"url(#clip7100)\">\n",
       "<text style=\"fill:#000000; fill-opacity:1; font-family:Arial,Helvetica Neue,Helvetica,sans-serif; font-size:48px; text-anchor:middle;\" transform=\"rotate(0, 755.413, 1541.47)\" x=\"755.413\" y=\"1541.47\">-0.5</text>\n",
       "</g>\n",
       "<g clip-path=\"url(#clip7100)\">\n",
       "<text style=\"fill:#000000; fill-opacity:1; font-family:Arial,Helvetica Neue,Helvetica,sans-serif; font-size:48px; text-anchor:middle;\" transform=\"rotate(0, 1267.38, 1541.47)\" x=\"1267.38\" y=\"1541.47\">0.0</text>\n",
       "</g>\n",
       "<g clip-path=\"url(#clip7100)\">\n",
       "<text style=\"fill:#000000; fill-opacity:1; font-family:Arial,Helvetica Neue,Helvetica,sans-serif; font-size:48px; text-anchor:middle;\" transform=\"rotate(0, 1779.35, 1541.47)\" x=\"1779.35\" y=\"1541.47\">0.5</text>\n",
       "</g>\n",
       "<g clip-path=\"url(#clip7100)\">\n",
       "<text style=\"fill:#000000; fill-opacity:1; font-family:Arial,Helvetica Neue,Helvetica,sans-serif; font-size:48px; text-anchor:middle;\" transform=\"rotate(0, 2291.32, 1541.47)\" x=\"2291.32\" y=\"1541.47\">1.0</text>\n",
       "</g>\n",
       "<g clip-path=\"url(#clip7100)\">\n",
       "<text style=\"fill:#000000; fill-opacity:1; font-family:Arial,Helvetica Neue,Helvetica,sans-serif; font-size:48px; text-anchor:end;\" transform=\"rotate(0, 158.008, 1464.21)\" x=\"158.008\" y=\"1464.21\">-1.0</text>\n",
       "</g>\n",
       "<g clip-path=\"url(#clip7100)\">\n",
       "<text style=\"fill:#000000; fill-opacity:1; font-family:Arial,Helvetica Neue,Helvetica,sans-serif; font-size:48px; text-anchor:end;\" transform=\"rotate(0, 158.008, 1124.54)\" x=\"158.008\" y=\"1124.54\">-0.5</text>\n",
       "</g>\n",
       "<g clip-path=\"url(#clip7100)\">\n",
       "<text style=\"fill:#000000; fill-opacity:1; font-family:Arial,Helvetica Neue,Helvetica,sans-serif; font-size:48px; text-anchor:end;\" transform=\"rotate(0, 158.008, 784.859)\" x=\"158.008\" y=\"784.859\">0.0</text>\n",
       "</g>\n",
       "<g clip-path=\"url(#clip7100)\">\n",
       "<text style=\"fill:#000000; fill-opacity:1; font-family:Arial,Helvetica Neue,Helvetica,sans-serif; font-size:48px; text-anchor:end;\" transform=\"rotate(0, 158.008, 445.182)\" x=\"158.008\" y=\"445.182\">0.5</text>\n",
       "</g>\n",
       "<g clip-path=\"url(#clip7100)\">\n",
       "<text style=\"fill:#000000; fill-opacity:1; font-family:Arial,Helvetica Neue,Helvetica,sans-serif; font-size:48px; text-anchor:end;\" transform=\"rotate(0, 158.008, 105.505)\" x=\"158.008\" y=\"105.505\">1.0</text>\n",
       "</g>\n",
       "<polyline clip-path=\"url(#clip7102)\" style=\"stroke:#009af9; stroke-width:4; stroke-opacity:1; fill:none\" points=\"\n",
       "  243.444,1446.71 250.293,517.903 257.142,610.018 263.992,854.556 270.841,968.976 277.69,933.454 284.539,817.174 291.388,695.008 298.237,615.733 305.086,597.119 \n",
       "  311.935,632.939 318.784,703.413 325.633,784.739 332.482,855.926 339.331,902.607 346.181,918.264 353.03,903.569 359.879,864.632 366.728,810.785 373.577,752.405 \n",
       "  380.426,699.105 387.275,658.438 394.124,635.181 400.973,631.136 407.822,645.356 414.671,674.678 421.52,714.422 428.37,759.15 435.219,803.387 442.068,842.226 \n",
       "  448.917,871.788 455.766,889.503 462.615,894.222 469.464,886.174 476.313,866.804 483.162,838.508 490.011,804.326 496.86,767.61 503.709,731.702 510.558,699.652 \n",
       "  517.408,673.991 524.257,656.565 531.106,648.45 537.955,649.92 544.804,660.498 551.653,679.038 558.502,703.868 565.351,732.941 572.2,764.014 579.049,794.811 \n",
       "  585.898,823.191 592.747,847.277 599.597,865.57 606.446,877.025 613.295,881.088 620.144,877.709 626.993,867.309 633.842,850.736 640.691,829.185 647.54,804.107 \n",
       "  654.389,777.113 661.238,749.865 668.087,723.98 674.936,700.94 681.786,682.01 688.635,668.178 695.484,660.112 702.333,658.14 709.182,662.242 716.031,672.067 \n",
       "  722.88,686.968 729.729,706.047 736.578,728.207 743.427,752.225 750.276,776.815 757.125,800.695 763.975,822.654 770.824,841.611 777.673,856.662 784.522,867.119 \n",
       "  791.371,872.54 798.22,872.736 805.069,867.781 811.918,857.99 818.767,843.907 825.616,826.266 832.465,805.951 839.314,783.956 846.163,761.332 853.013,739.136 \n",
       "  859.862,718.387 866.711,700.017 873.56,684.833 880.409,673.485 887.258,666.438 894.107,663.957 900.956,666.102 907.805,672.727 914.654,683.492 921.503,697.883 \n",
       "  928.352,715.234 935.202,734.766 942.051,755.613 948.9,776.868 955.749,797.618 962.598,816.986 969.447,834.162 976.296,848.441 983.145,859.247 989.994,866.156 \n",
       "  996.843,868.91 1003.69,867.426 1010.54,861.798 1017.39,852.288 1024.24,839.313 1031.09,823.428 1037.94,805.301 1044.79,785.683 1051.64,765.379 1058.49,745.216 \n",
       "  1065.33,726.004 1072.18,708.512 1079.03,693.432 1085.88,681.354 1092.73,672.747 1099.58,667.936 1106.43,667.095 1113.28,670.24 1120.13,677.231 1126.98,687.774 \n",
       "  1133.82,701.443 1140.67,717.686 1147.52,735.858 1154.37,755.24 1161.22,775.068 1168.07,794.567 1174.92,812.975 1181.77,829.578 1188.62,843.733 1195.47,854.894 \n",
       "  1202.32,862.632 1209.16,866.654 1216.01,866.81 1222.86,863.098 1229.71,855.667 1236.56,844.81 1243.41,830.951 1250.26,814.627 1257.11,796.472 1263.96,777.191 \n",
       "  1270.81,757.528 1277.66,738.247 1284.5,720.092 1291.35,703.768 1298.2,689.908 1305.05,679.051 1311.9,671.621 1318.75,667.909 1325.6,668.065 1332.45,672.087 \n",
       "  1339.3,679.825 1346.15,690.986 1353,705.141 1359.84,721.743 1366.69,740.152 1373.54,759.651 1380.39,779.479 1387.24,798.861 1394.09,817.033 1400.94,833.276 \n",
       "  1407.79,846.944 1414.64,857.488 1421.49,864.478 1428.34,867.624 1435.18,866.783 1442.03,861.972 1448.88,853.365 1455.73,841.287 1462.58,826.207 1469.43,808.715 \n",
       "  1476.28,789.503 1483.13,769.339 1489.98,749.036 1496.83,729.418 1503.68,711.291 1510.52,695.406 1517.37,682.431 1524.22,672.92 1531.07,667.293 1537.92,665.809 \n",
       "  1544.77,668.563 1551.62,675.472 1558.47,686.278 1565.32,700.557 1572.17,717.733 1579.02,737.101 1585.86,757.851 1592.71,779.106 1599.56,799.953 1606.41,819.484 \n",
       "  1613.26,836.836 1620.11,851.227 1626.96,861.992 1633.81,868.617 1640.66,870.762 1647.51,868.281 1654.36,861.234 1661.2,849.886 1668.05,834.702 1674.9,816.332 \n",
       "  1681.75,795.583 1688.6,773.387 1695.45,750.763 1702.3,728.768 1709.15,708.453 1716,690.812 1722.85,676.729 1729.69,666.938 1736.54,661.982 1743.39,662.179 \n",
       "  1750.24,667.6 1757.09,678.057 1763.94,693.108 1770.79,712.065 1777.64,734.024 1784.49,757.904 1791.34,782.493 1798.19,806.512 1805.03,828.672 1811.88,847.75 \n",
       "  1818.73,862.652 1825.58,872.477 1832.43,876.579 1839.28,874.607 1846.13,866.541 1852.98,852.709 1859.83,833.778 1866.68,810.738 1873.53,784.854 1880.37,757.606 \n",
       "  1887.22,730.611 1894.07,705.534 1900.92,683.983 1907.77,667.41 1914.62,657.01 1921.47,653.63 1928.32,657.694 1935.17,669.149 1942.02,687.442 1948.87,711.528 \n",
       "  1955.71,739.907 1962.56,770.705 1969.41,801.777 1976.26,830.851 1983.11,855.681 1989.96,874.221 1996.81,884.798 2003.66,886.269 2010.51,878.153 2017.36,860.728 \n",
       "  2024.21,835.067 2031.05,803.017 2037.9,767.109 2044.75,730.393 2051.6,696.211 2058.45,667.915 2065.3,648.544 2072.15,640.497 2079,645.216 2085.85,662.931 \n",
       "  2092.7,692.493 2099.55,731.332 2106.39,775.569 2113.24,820.297 2120.09,860.04 2126.94,889.362 2133.79,903.583 2140.64,899.538 2147.49,876.281 2154.34,835.614 \n",
       "  2161.19,782.314 2168.04,723.934 2174.89,670.087 2181.73,631.15 2188.58,616.455 2195.43,632.111 2202.28,678.793 2209.13,749.98 2215.98,831.306 2222.83,901.78 \n",
       "  2229.68,937.6 2236.53,918.985 2243.38,839.711 2250.23,717.545 2257.07,601.265 2263.92,565.742 2270.77,680.163 2277.62,924.701 2284.47,1016.82 2291.32,88.0053 \n",
       "  \n",
       "  \"/>\n",
       "<polygon clip-path=\"url(#clip7100)\" points=\"\n",
       "1989.93,251.724 2280.76,251.724 2280.76,130.764 1989.93,130.764 \n",
       "  \" fill=\"#ffffff\" fill-rule=\"evenodd\" fill-opacity=\"1\"/>\n",
       "<polyline clip-path=\"url(#clip7100)\" style=\"stroke:#000000; stroke-width:4; stroke-opacity:1; fill:none\" points=\"\n",
       "  1989.93,251.724 2280.76,251.724 2280.76,130.764 1989.93,130.764 1989.93,251.724 \n",
       "  \"/>\n",
       "<polyline clip-path=\"url(#clip7100)\" style=\"stroke:#009af9; stroke-width:4; stroke-opacity:1; fill:none\" points=\"\n",
       "  2013.93,191.244 2157.93,191.244 \n",
       "  \"/>\n",
       "<g clip-path=\"url(#clip7100)\">\n",
       "<text style=\"fill:#000000; fill-opacity:1; font-family:Arial,Helvetica Neue,Helvetica,sans-serif; font-size:48px; text-anchor:start;\" transform=\"rotate(0, 2181.93, 208.744)\" x=\"2181.93\" y=\"208.744\">y1</text>\n",
       "</g>\n",
       "</svg>\n"
      ]
     },
     "execution_count": 21,
     "metadata": {},
     "output_type": "execute_result"
    }
   ],
   "source": [
    "xx=range(-1,stop=1,length=300)\n",
    "# Probajte rezne vrijednosti k od 1 do 40\n",
    "k=30\n",
    "yy=polyval(L[k],xx)\n",
    "plot(xx,yy)"
   ]
  },
  {
   "cell_type": "markdown",
   "metadata": {},
   "source": [
    "## Čebiševljevi polinomi\n",
    "\n",
    "_Čebiševljevi polinomi_ $T_n(x)$ nastaju ortogonalizacijom sustava (2) uz\n",
    "\n",
    "$$\n",
    "[a,b]=[-1,1], \\quad \\omega(x)=\\frac{1}{\\sqrt{1-x^2}}.\n",
    "$$\n",
    "\n",
    "Čebiševljevi polinomi imaju sljedeća svojstva:\n",
    "\n",
    "* vrijedi \n",
    "\n",
    "$$\n",
    "T_n(x)=\\cos(n\\arccos x),\\quad n=0,1,2,3,\\ldots,\n",
    "$$\n",
    "\n",
    "* $T_n(x)$  ima $n$ različitih nul-točaka na intervalu $[-1,1]$, \n",
    "\n",
    "$$ \n",
    "x_k=\\cos \\bigg(\\frac{2k-1}{n}\\frac{\\pi}{2} \\bigg), \\quad k=1,\\ldots,n,\n",
    "$$\n",
    "\n",
    "* vrijedi _tročlana rekurzivna formula_: \n",
    "\n",
    "\\begin{align*}\n",
    "T_0(x)&=1,\\\\\n",
    "T_1(x)&=x, \\\\ \n",
    "T_{n+1}(x)&=2\\,x\\,T_n(x)-T_{n-1}(x),\\quad n=1,2,3,\\ldots.\n",
    "\\end{align*}\n",
    " \n",
    "__Napomena__:\n",
    "\n",
    "Rekurzivna formula slijedi iz _adicione formule_\n",
    "\n",
    "$$\n",
    "\\cos(n+1)\\varphi+\\cos(n-1)\\varphi=2\\cos\\varphi\\cos n\\varphi.\n",
    "$$\n",
    "\n",
    "Ortogonalnost se dokazuje pomoću supstitucije \n",
    "\n",
    "$$\n",
    "\\arccos x=\\varphi.\n",
    "$$"
   ]
  },
  {
   "cell_type": "code",
   "execution_count": 22,
   "metadata": {},
   "outputs": [],
   "source": [
    "# Simbolički\n",
    "n=8\n",
    "T=Array{Any,1}(missing,n)\n",
    "T[1]=x^0\n",
    "T[2]=x\n",
    "for k=2:n-1\n",
    "    T[k+1]=expand(2*x*T[k]-T[k-1])\n",
    "end"
   ]
  },
  {
   "cell_type": "code",
   "execution_count": 23,
   "metadata": {},
   "outputs": [
    {
     "data": {
      "text/latex": [
       "\\begin{equation*}2 x^{2} - 1\\end{equation*}"
      ],
      "text/plain": [
       "   2    \n",
       "2⋅x  - 1"
      ]
     },
     "execution_count": 23,
     "metadata": {},
     "output_type": "execute_result"
    }
   ],
   "source": [
    "T[3]"
   ]
  },
  {
   "cell_type": "code",
   "execution_count": 24,
   "metadata": {},
   "outputs": [
    {
     "data": {
      "text/latex": [
       "\\begin{equation*}32 x^{6} - 48 x^{4} + 18 x^{2} - 1\\end{equation*}"
      ],
      "text/plain": [
       "    6       4       2    \n",
       "32⋅x  - 48⋅x  + 18⋅x  - 1"
      ]
     },
     "execution_count": 24,
     "metadata": {},
     "output_type": "execute_result"
    }
   ],
   "source": [
    "T[7]"
   ]
  },
  {
   "cell_type": "code",
   "execution_count": 25,
   "metadata": {},
   "outputs": [
    {
     "data": {
      "text/latex": [
       "\\begin{equation*}64 x^{7} - 112 x^{5} + 56 x^{3} - 7 x\\end{equation*}"
      ],
      "text/plain": [
       "    7        5       3      \n",
       "64⋅x  - 112⋅x  + 56⋅x  - 7⋅x"
      ]
     },
     "execution_count": 25,
     "metadata": {},
     "output_type": "execute_result"
    }
   ],
   "source": [
    "T[8]"
   ]
  },
  {
   "cell_type": "code",
   "execution_count": 26,
   "metadata": {},
   "outputs": [],
   "source": [
    "# Numerički\n",
    "n=50\n",
    "T=Array{Any,1}(missing,n)\n",
    "T[1]=Polynomials.Poly([1])\n",
    "T[2]=Polynomials.Poly([0,1])\n",
    "for i=3:n\n",
    "    T[i]=2*T[2]*T[i-1]-T[i-2]\n",
    "    # @show i, length(T[i])\n",
    "end"
   ]
  },
  {
   "cell_type": "code",
   "execution_count": 30,
   "metadata": {},
   "outputs": [
    {
     "data": {
      "image/svg+xml": [
       "<?xml version=\"1.0\" encoding=\"utf-8\"?>\n",
       "<svg xmlns=\"http://www.w3.org/2000/svg\" xmlns:xlink=\"http://www.w3.org/1999/xlink\" width=\"600\" height=\"400\" viewBox=\"0 0 2400 1600\">\n",
       "<defs>\n",
       "  <clipPath id=\"clip8700\">\n",
       "    <rect x=\"0\" y=\"0\" width=\"2400\" height=\"1600\"/>\n",
       "  </clipPath>\n",
       "</defs>\n",
       "<polygon clip-path=\"url(#clip8700)\" points=\"\n",
       "0,1600 2400,1600 2400,0 0,0 \n",
       "  \" fill=\"#ffffff\" fill-rule=\"evenodd\" fill-opacity=\"1\"/>\n",
       "<defs>\n",
       "  <clipPath id=\"clip8701\">\n",
       "    <rect x=\"480\" y=\"0\" width=\"1681\" height=\"1600\"/>\n",
       "  </clipPath>\n",
       "</defs>\n",
       "<polygon clip-path=\"url(#clip8700)\" points=\"\n",
       "182.008,1487.47 2352.76,1487.47 2352.76,47.2441 182.008,47.2441 \n",
       "  \" fill=\"#ffffff\" fill-rule=\"evenodd\" fill-opacity=\"1\"/>\n",
       "<defs>\n",
       "  <clipPath id=\"clip8702\">\n",
       "    <rect x=\"182\" y=\"47\" width=\"2172\" height=\"1441\"/>\n",
       "  </clipPath>\n",
       "</defs>\n",
       "<polyline clip-path=\"url(#clip8702)\" style=\"stroke:#000000; stroke-width:2; stroke-opacity:0.1; fill:none\" points=\"\n",
       "  243.444,1487.47 243.444,47.2441 \n",
       "  \"/>\n",
       "<polyline clip-path=\"url(#clip8702)\" style=\"stroke:#000000; stroke-width:2; stroke-opacity:0.1; fill:none\" points=\"\n",
       "  755.413,1487.47 755.413,47.2441 \n",
       "  \"/>\n",
       "<polyline clip-path=\"url(#clip8702)\" style=\"stroke:#000000; stroke-width:2; stroke-opacity:0.1; fill:none\" points=\"\n",
       "  1267.38,1487.47 1267.38,47.2441 \n",
       "  \"/>\n",
       "<polyline clip-path=\"url(#clip8702)\" style=\"stroke:#000000; stroke-width:2; stroke-opacity:0.1; fill:none\" points=\"\n",
       "  1779.35,1487.47 1779.35,47.2441 \n",
       "  \"/>\n",
       "<polyline clip-path=\"url(#clip8702)\" style=\"stroke:#000000; stroke-width:2; stroke-opacity:0.1; fill:none\" points=\"\n",
       "  2291.32,1487.47 2291.32,47.2441 \n",
       "  \"/>\n",
       "<polyline clip-path=\"url(#clip8702)\" style=\"stroke:#000000; stroke-width:2; stroke-opacity:0.1; fill:none\" points=\"\n",
       "  182.008,1446.72 2352.76,1446.72 \n",
       "  \"/>\n",
       "<polyline clip-path=\"url(#clip8702)\" style=\"stroke:#000000; stroke-width:2; stroke-opacity:0.1; fill:none\" points=\"\n",
       "  182.008,1107.04 2352.76,1107.04 \n",
       "  \"/>\n",
       "<polyline clip-path=\"url(#clip8702)\" style=\"stroke:#000000; stroke-width:2; stroke-opacity:0.1; fill:none\" points=\"\n",
       "  182.008,767.363 2352.76,767.363 \n",
       "  \"/>\n",
       "<polyline clip-path=\"url(#clip8702)\" style=\"stroke:#000000; stroke-width:2; stroke-opacity:0.1; fill:none\" points=\"\n",
       "  182.008,427.684 2352.76,427.684 \n",
       "  \"/>\n",
       "<polyline clip-path=\"url(#clip8702)\" style=\"stroke:#000000; stroke-width:2; stroke-opacity:0.1; fill:none\" points=\"\n",
       "  182.008,88.0053 2352.76,88.0053 \n",
       "  \"/>\n",
       "<polyline clip-path=\"url(#clip8700)\" style=\"stroke:#000000; stroke-width:4; stroke-opacity:1; fill:none\" points=\"\n",
       "  182.008,1487.47 2352.76,1487.47 \n",
       "  \"/>\n",
       "<polyline clip-path=\"url(#clip8700)\" style=\"stroke:#000000; stroke-width:4; stroke-opacity:1; fill:none\" points=\"\n",
       "  182.008,1487.47 182.008,47.2441 \n",
       "  \"/>\n",
       "<polyline clip-path=\"url(#clip8700)\" style=\"stroke:#000000; stroke-width:4; stroke-opacity:1; fill:none\" points=\"\n",
       "  243.444,1487.47 243.444,1465.87 \n",
       "  \"/>\n",
       "<polyline clip-path=\"url(#clip8700)\" style=\"stroke:#000000; stroke-width:4; stroke-opacity:1; fill:none\" points=\"\n",
       "  755.413,1487.47 755.413,1465.87 \n",
       "  \"/>\n",
       "<polyline clip-path=\"url(#clip8700)\" style=\"stroke:#000000; stroke-width:4; stroke-opacity:1; fill:none\" points=\"\n",
       "  1267.38,1487.47 1267.38,1465.87 \n",
       "  \"/>\n",
       "<polyline clip-path=\"url(#clip8700)\" style=\"stroke:#000000; stroke-width:4; stroke-opacity:1; fill:none\" points=\"\n",
       "  1779.35,1487.47 1779.35,1465.87 \n",
       "  \"/>\n",
       "<polyline clip-path=\"url(#clip8700)\" style=\"stroke:#000000; stroke-width:4; stroke-opacity:1; fill:none\" points=\"\n",
       "  2291.32,1487.47 2291.32,1465.87 \n",
       "  \"/>\n",
       "<polyline clip-path=\"url(#clip8700)\" style=\"stroke:#000000; stroke-width:4; stroke-opacity:1; fill:none\" points=\"\n",
       "  182.008,1446.72 214.569,1446.72 \n",
       "  \"/>\n",
       "<polyline clip-path=\"url(#clip8700)\" style=\"stroke:#000000; stroke-width:4; stroke-opacity:1; fill:none\" points=\"\n",
       "  182.008,1107.04 214.569,1107.04 \n",
       "  \"/>\n",
       "<polyline clip-path=\"url(#clip8700)\" style=\"stroke:#000000; stroke-width:4; stroke-opacity:1; fill:none\" points=\"\n",
       "  182.008,767.363 214.569,767.363 \n",
       "  \"/>\n",
       "<polyline clip-path=\"url(#clip8700)\" style=\"stroke:#000000; stroke-width:4; stroke-opacity:1; fill:none\" points=\"\n",
       "  182.008,427.684 214.569,427.684 \n",
       "  \"/>\n",
       "<polyline clip-path=\"url(#clip8700)\" style=\"stroke:#000000; stroke-width:4; stroke-opacity:1; fill:none\" points=\"\n",
       "  182.008,88.0053 214.569,88.0053 \n",
       "  \"/>\n",
       "<g clip-path=\"url(#clip8700)\">\n",
       "<text style=\"fill:#000000; fill-opacity:1; font-family:Arial,Helvetica Neue,Helvetica,sans-serif; font-size:48px; text-anchor:middle;\" transform=\"rotate(0, 243.444, 1541.47)\" x=\"243.444\" y=\"1541.47\">-1.0</text>\n",
       "</g>\n",
       "<g clip-path=\"url(#clip8700)\">\n",
       "<text style=\"fill:#000000; fill-opacity:1; font-family:Arial,Helvetica Neue,Helvetica,sans-serif; font-size:48px; text-anchor:middle;\" transform=\"rotate(0, 755.413, 1541.47)\" x=\"755.413\" y=\"1541.47\">-0.5</text>\n",
       "</g>\n",
       "<g clip-path=\"url(#clip8700)\">\n",
       "<text style=\"fill:#000000; fill-opacity:1; font-family:Arial,Helvetica Neue,Helvetica,sans-serif; font-size:48px; text-anchor:middle;\" transform=\"rotate(0, 1267.38, 1541.47)\" x=\"1267.38\" y=\"1541.47\">0.0</text>\n",
       "</g>\n",
       "<g clip-path=\"url(#clip8700)\">\n",
       "<text style=\"fill:#000000; fill-opacity:1; font-family:Arial,Helvetica Neue,Helvetica,sans-serif; font-size:48px; text-anchor:middle;\" transform=\"rotate(0, 1779.35, 1541.47)\" x=\"1779.35\" y=\"1541.47\">0.5</text>\n",
       "</g>\n",
       "<g clip-path=\"url(#clip8700)\">\n",
       "<text style=\"fill:#000000; fill-opacity:1; font-family:Arial,Helvetica Neue,Helvetica,sans-serif; font-size:48px; text-anchor:middle;\" transform=\"rotate(0, 2291.32, 1541.47)\" x=\"2291.32\" y=\"1541.47\">1.0</text>\n",
       "</g>\n",
       "<g clip-path=\"url(#clip8700)\">\n",
       "<text style=\"fill:#000000; fill-opacity:1; font-family:Arial,Helvetica Neue,Helvetica,sans-serif; font-size:48px; text-anchor:end;\" transform=\"rotate(0, 158.008, 1464.22)\" x=\"158.008\" y=\"1464.22\">-1.0</text>\n",
       "</g>\n",
       "<g clip-path=\"url(#clip8700)\">\n",
       "<text style=\"fill:#000000; fill-opacity:1; font-family:Arial,Helvetica Neue,Helvetica,sans-serif; font-size:48px; text-anchor:end;\" transform=\"rotate(0, 158.008, 1124.54)\" x=\"158.008\" y=\"1124.54\">-0.5</text>\n",
       "</g>\n",
       "<g clip-path=\"url(#clip8700)\">\n",
       "<text style=\"fill:#000000; fill-opacity:1; font-family:Arial,Helvetica Neue,Helvetica,sans-serif; font-size:48px; text-anchor:end;\" transform=\"rotate(0, 158.008, 784.863)\" x=\"158.008\" y=\"784.863\">0.0</text>\n",
       "</g>\n",
       "<g clip-path=\"url(#clip8700)\">\n",
       "<text style=\"fill:#000000; fill-opacity:1; font-family:Arial,Helvetica Neue,Helvetica,sans-serif; font-size:48px; text-anchor:end;\" transform=\"rotate(0, 158.008, 445.184)\" x=\"158.008\" y=\"445.184\">0.5</text>\n",
       "</g>\n",
       "<g clip-path=\"url(#clip8700)\">\n",
       "<text style=\"fill:#000000; fill-opacity:1; font-family:Arial,Helvetica Neue,Helvetica,sans-serif; font-size:48px; text-anchor:end;\" transform=\"rotate(0, 158.008, 105.505)\" x=\"158.008\" y=\"105.505\">1.0</text>\n",
       "</g>\n",
       "<polyline clip-path=\"url(#clip8702)\" style=\"stroke:#009af9; stroke-width:4; stroke-opacity:1; fill:none\" points=\"\n",
       "  243.444,88.0053 250.293,1440.75 257.142,1065.77 263.992,438.655 270.841,110.011 277.69,158.649 284.539,463.986 291.388,857.989 298.237,1199.89 305.086,1403.84 \n",
       "  311.935,1440.19 318.784,1323.69 325.633,1097.36 332.482,816.693 339.331,536.845 346.181,303.762 353.03,149.136 359.879,88.743 366.728,123.324 373.577,241.182 \n",
       "  380.426,421.724 387.275,639.303 394.124,866.865 400.973,1079.05 407.822,1254.61 414.671,1377.92 421.52,1439.83 428.37,1437.67 435.219,1374.8 442.068,1259.59 \n",
       "  448.917,1104.2 455.766,923.199 462.615,732.187 469.464,546.463 476.313,379.922 483.162,244.162 490.011,147.856 496.86,96.3905 503.709,91.7671 510.558,132.737 \n",
       "  517.408,215.128 524.257,332.33 531.106,475.88 537.955,636.111 544.804,802.812 551.653,965.868 558.502,1115.84 565.351,1244.45 572.2,1344.98 579.049,1412.56 \n",
       "  585.898,1444.3 592.747,1439.33 599.597,1398.79 606.446,1325.58 613.295,1224.18 620.144,1100.34 626.993,960.707 633.842,812.482 640.691,663.036 647.54,519.559 \n",
       "  654.389,388.728 661.238,276.424 668.087,187.497 674.936,125.587 681.786,93.0187 688.635,90.7456 695.484,118.365 702.333,174.188 709.182,255.356 716.031,358.012 \n",
       "  722.88,477.487 729.729,608.532 736.578,745.546 743.427,882.818 750.276,1014.76 757.125,1136.12 763.975,1242.2 770.824,1328.99 777.673,1393.32 784.522,1432.97 \n",
       "  791.371,1446.71 798.22,1434.32 805.069,1396.57 811.918,1335.18 818.767,1252.71 825.616,1152.45 832.465,1038.31 839.314,914.596 846.163,785.93 853.013,657.011 \n",
       "  859.862,532.477 866.711,416.734 873.56,313.811 880.409,227.224 887.258,159.864 894.107,113.915 900.956,90.7893 907.805,91.0965 914.654,114.637 921.503,160.425 \n",
       "  928.352,226.735 935.202,311.173 942.051,410.768 948.9,522.08 955.749,641.32 962.598,764.48 969.447,887.471 976.296,1006.25 983.145,1116.95 989.994,1216.02 \n",
       "  996.843,1300.31 1003.69,1367.17 1010.54,1414.55 1017.39,1441.04 1024.24,1445.88 1031.09,1429.05 1037.94,1391.17 1044.79,1333.56 1051.64,1258.12 1058.49,1167.31 \n",
       "  1065.33,1064.04 1072.18,951.616 1079.03,833.57 1085.88,713.607 1092.73,595.462 1099.58,482.793 1106.43,379.066 1113.28,287.454 1120.13,210.742 1126.98,151.243 \n",
       "  1133.82,110.734 1140.67,90.4045 1147.52,90.8237 1154.37,111.929 1161.22,153.028 1168.07,212.828 1174.92,289.473 1181.77,380.603 1188.62,483.429 1195.47,594.818 \n",
       "  1202.32,711.385 1209.16,829.599 1216.01,945.884 1222.86,1056.73 1229.71,1158.8 1236.56,1249.02 1243.41,1324.68 1250.26,1383.51 1257.11,1423.73 1263.96,1444.15 \n",
       "  1270.81,1444.15 1277.66,1423.73 1284.5,1383.51 1291.35,1324.68 1298.2,1249.02 1305.05,1158.8 1311.9,1056.73 1318.75,945.884 1325.6,829.599 1332.45,711.385 \n",
       "  1339.3,594.818 1346.15,483.429 1353,380.603 1359.84,289.473 1366.69,212.828 1373.54,153.028 1380.39,111.929 1387.24,90.8237 1394.09,90.4045 1400.94,110.734 \n",
       "  1407.79,151.243 1414.64,210.742 1421.49,287.454 1428.34,379.066 1435.18,482.793 1442.03,595.462 1448.88,713.607 1455.73,833.57 1462.58,951.616 1469.43,1064.04 \n",
       "  1476.28,1167.31 1483.13,1258.12 1489.98,1333.56 1496.83,1391.17 1503.68,1429.05 1510.52,1445.88 1517.37,1441.04 1524.22,1414.55 1531.07,1367.17 1537.92,1300.31 \n",
       "  1544.77,1216.02 1551.62,1116.95 1558.47,1006.25 1565.32,887.471 1572.17,764.48 1579.02,641.32 1585.86,522.08 1592.71,410.768 1599.56,311.173 1606.41,226.735 \n",
       "  1613.26,160.425 1620.11,114.637 1626.96,91.0965 1633.81,90.7893 1640.66,113.915 1647.51,159.864 1654.36,227.224 1661.2,313.811 1668.05,416.734 1674.9,532.477 \n",
       "  1681.75,657.011 1688.6,785.93 1695.45,914.596 1702.3,1038.31 1709.15,1152.45 1716,1252.71 1722.85,1335.18 1729.69,1396.57 1736.54,1434.32 1743.39,1446.71 \n",
       "  1750.24,1432.97 1757.09,1393.32 1763.94,1328.99 1770.79,1242.2 1777.64,1136.12 1784.49,1014.76 1791.34,882.818 1798.19,745.546 1805.03,608.532 1811.88,477.487 \n",
       "  1818.73,358.012 1825.58,255.356 1832.43,174.188 1839.28,118.365 1846.13,90.7456 1852.98,93.0187 1859.83,125.587 1866.68,187.497 1873.53,276.424 1880.37,388.728 \n",
       "  1887.22,519.559 1894.07,663.036 1900.92,812.482 1907.77,960.707 1914.62,1100.34 1921.47,1224.18 1928.32,1325.58 1935.17,1398.79 1942.02,1439.33 1948.87,1444.3 \n",
       "  1955.71,1412.56 1962.56,1344.98 1969.41,1244.45 1976.26,1115.84 1983.11,965.868 1989.96,802.812 1996.81,636.111 2003.66,475.88 2010.51,332.33 2017.36,215.128 \n",
       "  2024.21,132.737 2031.05,91.7671 2037.9,96.3905 2044.75,147.856 2051.6,244.162 2058.45,379.922 2065.3,546.463 2072.15,732.187 2079,923.199 2085.85,1104.2 \n",
       "  2092.7,1259.59 2099.55,1374.8 2106.39,1437.67 2113.24,1439.83 2120.09,1377.92 2126.94,1254.61 2133.79,1079.05 2140.64,866.865 2147.49,639.303 2154.34,421.724 \n",
       "  2161.19,241.182 2168.04,123.324 2174.89,88.743 2181.73,149.136 2188.58,303.762 2195.43,536.845 2202.28,816.693 2209.13,1097.36 2215.98,1323.69 2222.83,1440.19 \n",
       "  2229.68,1403.84 2236.53,1199.89 2243.38,857.989 2250.23,463.986 2257.07,158.649 2263.92,110.011 2270.77,438.655 2277.62,1065.77 2284.47,1440.75 2291.32,88.0053 \n",
       "  \n",
       "  \"/>\n",
       "<polygon clip-path=\"url(#clip8700)\" points=\"\n",
       "1989.93,251.724 2280.76,251.724 2280.76,130.764 1989.93,130.764 \n",
       "  \" fill=\"#ffffff\" fill-rule=\"evenodd\" fill-opacity=\"1\"/>\n",
       "<polyline clip-path=\"url(#clip8700)\" style=\"stroke:#000000; stroke-width:4; stroke-opacity:1; fill:none\" points=\"\n",
       "  1989.93,251.724 2280.76,251.724 2280.76,130.764 1989.93,130.764 1989.93,251.724 \n",
       "  \"/>\n",
       "<polyline clip-path=\"url(#clip8700)\" style=\"stroke:#009af9; stroke-width:4; stroke-opacity:1; fill:none\" points=\"\n",
       "  2013.93,191.244 2157.93,191.244 \n",
       "  \"/>\n",
       "<g clip-path=\"url(#clip8700)\">\n",
       "<text style=\"fill:#000000; fill-opacity:1; font-family:Arial,Helvetica Neue,Helvetica,sans-serif; font-size:48px; text-anchor:start;\" transform=\"rotate(0, 2181.93, 208.744)\" x=\"2181.93\" y=\"208.744\">y1</text>\n",
       "</g>\n",
       "</svg>\n"
      ]
     },
     "execution_count": 30,
     "metadata": {},
     "output_type": "execute_result"
    }
   ],
   "source": [
    "xx=range(-1,stop=1,length=300)\n",
    "# Probajte razne vrijednosti k od 1 do 50\n",
    "k=27\n",
    "yy=polyval(T[k],xx)\n",
    "plot(xx,yy)"
   ]
  },
  {
   "cell_type": "markdown",
   "metadata": {
    "collapsed": true
   },
   "source": [
    "## Promjena intervala\n",
    "\n",
    "Ortogonalni sustav funkcija $\\Phi_i$ na intervalu $[-1,1]$ pomoću transformacije \n",
    "\n",
    "$$\n",
    "\\gamma :[a,b]\\to [-1,1],\\quad \\gamma(x)=\\frac{2x}{b-a}-\\frac{a+b}{b-a}\n",
    "$$\n",
    "\n",
    "prelazi u ortogonalni sustav funkcija na intervalu $[a,b]$\n",
    "\n",
    "$$\n",
    "\\Psi_i(x)=\\Phi_i(\\gamma(x)).\n",
    "$$"
   ]
  },
  {
   "cell_type": "code",
   "execution_count": 31,
   "metadata": {},
   "outputs": [
    {
     "data": {
      "image/svg+xml": [
       "<?xml version=\"1.0\" encoding=\"utf-8\"?>\n",
       "<svg xmlns=\"http://www.w3.org/2000/svg\" xmlns:xlink=\"http://www.w3.org/1999/xlink\" width=\"600\" height=\"400\" viewBox=\"0 0 2400 1600\">\n",
       "<defs>\n",
       "  <clipPath id=\"clip9100\">\n",
       "    <rect x=\"0\" y=\"0\" width=\"2400\" height=\"1600\"/>\n",
       "  </clipPath>\n",
       "</defs>\n",
       "<polygon clip-path=\"url(#clip9100)\" points=\"\n",
       "0,1600 2400,1600 2400,0 0,0 \n",
       "  \" fill=\"#ffffff\" fill-rule=\"evenodd\" fill-opacity=\"1\"/>\n",
       "<defs>\n",
       "  <clipPath id=\"clip9101\">\n",
       "    <rect x=\"480\" y=\"0\" width=\"1681\" height=\"1600\"/>\n",
       "  </clipPath>\n",
       "</defs>\n",
       "<polygon clip-path=\"url(#clip9100)\" points=\"\n",
       "182.008,1487.47 2352.76,1487.47 2352.76,47.2441 182.008,47.2441 \n",
       "  \" fill=\"#ffffff\" fill-rule=\"evenodd\" fill-opacity=\"1\"/>\n",
       "<defs>\n",
       "  <clipPath id=\"clip9102\">\n",
       "    <rect x=\"182\" y=\"47\" width=\"2172\" height=\"1441\"/>\n",
       "  </clipPath>\n",
       "</defs>\n",
       "<polyline clip-path=\"url(#clip9102)\" style=\"stroke:#000000; stroke-width:2; stroke-opacity:0.1; fill:none\" points=\"\n",
       "  243.444,1487.47 243.444,47.2441 \n",
       "  \"/>\n",
       "<polyline clip-path=\"url(#clip9102)\" style=\"stroke:#000000; stroke-width:2; stroke-opacity:0.1; fill:none\" points=\"\n",
       "  926.069,1487.47 926.069,47.2441 \n",
       "  \"/>\n",
       "<polyline clip-path=\"url(#clip9102)\" style=\"stroke:#000000; stroke-width:2; stroke-opacity:0.1; fill:none\" points=\"\n",
       "  1608.69,1487.47 1608.69,47.2441 \n",
       "  \"/>\n",
       "<polyline clip-path=\"url(#clip9102)\" style=\"stroke:#000000; stroke-width:2; stroke-opacity:0.1; fill:none\" points=\"\n",
       "  2291.32,1487.47 2291.32,47.2441 \n",
       "  \"/>\n",
       "<polyline clip-path=\"url(#clip9102)\" style=\"stroke:#000000; stroke-width:2; stroke-opacity:0.1; fill:none\" points=\"\n",
       "  182.008,1447.16 2352.76,1447.16 \n",
       "  \"/>\n",
       "<polyline clip-path=\"url(#clip9102)\" style=\"stroke:#000000; stroke-width:2; stroke-opacity:0.1; fill:none\" points=\"\n",
       "  182.008,1107.38 2352.76,1107.38 \n",
       "  \"/>\n",
       "<polyline clip-path=\"url(#clip9102)\" style=\"stroke:#000000; stroke-width:2; stroke-opacity:0.1; fill:none\" points=\"\n",
       "  182.008,767.585 2352.76,767.585 \n",
       "  \"/>\n",
       "<polyline clip-path=\"url(#clip9102)\" style=\"stroke:#000000; stroke-width:2; stroke-opacity:0.1; fill:none\" points=\"\n",
       "  182.008,427.795 2352.76,427.795 \n",
       "  \"/>\n",
       "<polyline clip-path=\"url(#clip9102)\" style=\"stroke:#000000; stroke-width:2; stroke-opacity:0.1; fill:none\" points=\"\n",
       "  182.008,88.0053 2352.76,88.0053 \n",
       "  \"/>\n",
       "<polyline clip-path=\"url(#clip9100)\" style=\"stroke:#000000; stroke-width:4; stroke-opacity:1; fill:none\" points=\"\n",
       "  182.008,1487.47 2352.76,1487.47 \n",
       "  \"/>\n",
       "<polyline clip-path=\"url(#clip9100)\" style=\"stroke:#000000; stroke-width:4; stroke-opacity:1; fill:none\" points=\"\n",
       "  182.008,1487.47 182.008,47.2441 \n",
       "  \"/>\n",
       "<polyline clip-path=\"url(#clip9100)\" style=\"stroke:#000000; stroke-width:4; stroke-opacity:1; fill:none\" points=\"\n",
       "  243.444,1487.47 243.444,1465.87 \n",
       "  \"/>\n",
       "<polyline clip-path=\"url(#clip9100)\" style=\"stroke:#000000; stroke-width:4; stroke-opacity:1; fill:none\" points=\"\n",
       "  926.069,1487.47 926.069,1465.87 \n",
       "  \"/>\n",
       "<polyline clip-path=\"url(#clip9100)\" style=\"stroke:#000000; stroke-width:4; stroke-opacity:1; fill:none\" points=\"\n",
       "  1608.69,1487.47 1608.69,1465.87 \n",
       "  \"/>\n",
       "<polyline clip-path=\"url(#clip9100)\" style=\"stroke:#000000; stroke-width:4; stroke-opacity:1; fill:none\" points=\"\n",
       "  2291.32,1487.47 2291.32,1465.87 \n",
       "  \"/>\n",
       "<polyline clip-path=\"url(#clip9100)\" style=\"stroke:#000000; stroke-width:4; stroke-opacity:1; fill:none\" points=\"\n",
       "  182.008,1447.16 214.569,1447.16 \n",
       "  \"/>\n",
       "<polyline clip-path=\"url(#clip9100)\" style=\"stroke:#000000; stroke-width:4; stroke-opacity:1; fill:none\" points=\"\n",
       "  182.008,1107.38 214.569,1107.38 \n",
       "  \"/>\n",
       "<polyline clip-path=\"url(#clip9100)\" style=\"stroke:#000000; stroke-width:4; stroke-opacity:1; fill:none\" points=\"\n",
       "  182.008,767.585 214.569,767.585 \n",
       "  \"/>\n",
       "<polyline clip-path=\"url(#clip9100)\" style=\"stroke:#000000; stroke-width:4; stroke-opacity:1; fill:none\" points=\"\n",
       "  182.008,427.795 214.569,427.795 \n",
       "  \"/>\n",
       "<polyline clip-path=\"url(#clip9100)\" style=\"stroke:#000000; stroke-width:4; stroke-opacity:1; fill:none\" points=\"\n",
       "  182.008,88.0053 214.569,88.0053 \n",
       "  \"/>\n",
       "<g clip-path=\"url(#clip9100)\">\n",
       "<text style=\"fill:#000000; fill-opacity:1; font-family:Arial,Helvetica Neue,Helvetica,sans-serif; font-size:48px; text-anchor:middle;\" transform=\"rotate(0, 243.444, 1541.47)\" x=\"243.444\" y=\"1541.47\">1</text>\n",
       "</g>\n",
       "<g clip-path=\"url(#clip9100)\">\n",
       "<text style=\"fill:#000000; fill-opacity:1; font-family:Arial,Helvetica Neue,Helvetica,sans-serif; font-size:48px; text-anchor:middle;\" transform=\"rotate(0, 926.069, 1541.47)\" x=\"926.069\" y=\"1541.47\">2</text>\n",
       "</g>\n",
       "<g clip-path=\"url(#clip9100)\">\n",
       "<text style=\"fill:#000000; fill-opacity:1; font-family:Arial,Helvetica Neue,Helvetica,sans-serif; font-size:48px; text-anchor:middle;\" transform=\"rotate(0, 1608.69, 1541.47)\" x=\"1608.69\" y=\"1541.47\">3</text>\n",
       "</g>\n",
       "<g clip-path=\"url(#clip9100)\">\n",
       "<text style=\"fill:#000000; fill-opacity:1; font-family:Arial,Helvetica Neue,Helvetica,sans-serif; font-size:48px; text-anchor:middle;\" transform=\"rotate(0, 2291.32, 1541.47)\" x=\"2291.32\" y=\"1541.47\">4</text>\n",
       "</g>\n",
       "<g clip-path=\"url(#clip9100)\">\n",
       "<text style=\"fill:#000000; fill-opacity:1; font-family:Arial,Helvetica Neue,Helvetica,sans-serif; font-size:48px; text-anchor:end;\" transform=\"rotate(0, 158.008, 1464.66)\" x=\"158.008\" y=\"1464.66\">-1.0</text>\n",
       "</g>\n",
       "<g clip-path=\"url(#clip9100)\">\n",
       "<text style=\"fill:#000000; fill-opacity:1; font-family:Arial,Helvetica Neue,Helvetica,sans-serif; font-size:48px; text-anchor:end;\" transform=\"rotate(0, 158.008, 1124.88)\" x=\"158.008\" y=\"1124.88\">-0.5</text>\n",
       "</g>\n",
       "<g clip-path=\"url(#clip9100)\">\n",
       "<text style=\"fill:#000000; fill-opacity:1; font-family:Arial,Helvetica Neue,Helvetica,sans-serif; font-size:48px; text-anchor:end;\" transform=\"rotate(0, 158.008, 785.085)\" x=\"158.008\" y=\"785.085\">0.0</text>\n",
       "</g>\n",
       "<g clip-path=\"url(#clip9100)\">\n",
       "<text style=\"fill:#000000; fill-opacity:1; font-family:Arial,Helvetica Neue,Helvetica,sans-serif; font-size:48px; text-anchor:end;\" transform=\"rotate(0, 158.008, 445.295)\" x=\"158.008\" y=\"445.295\">0.5</text>\n",
       "</g>\n",
       "<g clip-path=\"url(#clip9100)\">\n",
       "<text style=\"fill:#000000; fill-opacity:1; font-family:Arial,Helvetica Neue,Helvetica,sans-serif; font-size:48px; text-anchor:end;\" transform=\"rotate(0, 158.008, 105.505)\" x=\"158.008\" y=\"105.505\">1.0</text>\n",
       "</g>\n",
       "<polyline clip-path=\"url(#clip9102)\" style=\"stroke:#009af9; stroke-width:4; stroke-opacity:1; fill:none\" points=\"\n",
       "  243.444,88.0053 250.293,955.942 257.142,1356.83 263.992,1445.54 270.841,1340.48 277.69,1130.11 284.539,878.567 291.388,630.464 298.237,414.961 305.086,249.185 \n",
       "  311.935,141.104 318.784,91.9022 325.633,97.9381 332.482,152.329 339.331,246.225 346.181,369.807 353.03,513.063 359.879,666.359 366.728,820.859 373.577,968.806 \n",
       "  380.426,1103.69 387.275,1220.33 394.124,1314.89 400.973,1384.83 407.822,1428.83 414.671,1446.68 421.52,1439.13 428.37,1407.76 435.219,1354.83 442.068,1283.12 \n",
       "  448.917,1195.82 455.766,1096.32 462.615,988.193 469.464,874.974 476.313,760.129 483.162,646.944 490.011,538.455 496.86,437.393 503.709,346.139 510.558,266.693 \n",
       "  517.408,200.654 524.257,149.212 531.106,113.153 537.955,92.8636 544.804,88.356 551.653,99.288 558.502,124.995 565.351,164.525 572.2,216.673 579.049,280.024 \n",
       "  585.898,352.992 592.747,433.86 599.597,520.823 606.446,612.025 613.295,705.597 620.144,799.693 626.993,892.524 633.842,982.385 640.691,1067.68 647.54,1146.95 \n",
       "  654.389,1218.9 661.238,1282.38 668.087,1336.43 674.936,1380.3 681.786,1413.42 688.635,1435.4 695.484,1446.06 702.333,1445.42 709.182,1433.66 716.031,1411.15 \n",
       "  722.88,1378.41 729.729,1336.12 736.578,1285.07 743.427,1226.18 750.276,1160.47 757.125,1089.04 763.975,1013.05 770.824,933.681 777.673,852.171 784.522,769.745 \n",
       "  791.371,687.619 798.22,606.981 805.069,528.976 811.918,454.686 818.767,385.125 825.616,321.22 832.465,263.804 839.314,213.606 846.163,171.244 853.013,137.221 \n",
       "  859.862,111.918 866.711,95.5948 873.56,88.386 880.409,90.3053 887.258,101.246 894.107,120.985 900.956,149.19 907.805,185.421 914.654,229.143 921.503,279.733 \n",
       "  928.352,336.488 935.202,398.635 942.051,465.345 948.9,535.74 955.749,608.907 962.598,683.91 969.447,759.799 976.296,835.624 983.145,910.448 989.994,983.352 \n",
       "  996.843,1053.45 1003.69,1119.91 1010.54,1181.93 1017.39,1238.78 1024.24,1289.81 1031.09,1334.42 1037.94,1372.12 1044.79,1402.48 1051.64,1425.17 1058.49,1439.96 \n",
       "  1065.33,1446.71 1072.18,1445.37 1079.03,1435.99 1085.88,1418.71 1092.73,1393.76 1099.58,1361.47 1106.43,1322.23 1113.28,1276.53 1120.13,1224.92 1126.98,1168.02 \n",
       "  1133.82,1106.51 1140.67,1041.1 1147.52,972.577 1154.37,901.727 1161.22,829.377 1168.07,756.363 1174.92,683.527 1181.77,611.704 1188.62,541.717 1195.47,474.365 \n",
       "  1202.32,410.416 1209.16,350.598 1216.01,295.588 1222.86,246.011 1229.71,202.427 1236.56,165.329 1243.41,135.135 1250.26,112.188 1257.11,96.7437 1263.96,88.9781 \n",
       "  1270.81,88.9781 1277.66,96.7437 1284.5,112.188 1291.35,135.135 1298.2,165.329 1305.05,202.427 1311.9,246.011 1318.75,295.588 1325.6,350.598 1332.45,410.416 \n",
       "  1339.3,474.365 1346.15,541.717 1353,611.704 1359.84,683.527 1366.69,756.363 1373.54,829.377 1380.39,901.727 1387.24,972.577 1394.09,1041.1 1400.94,1106.51 \n",
       "  1407.79,1168.02 1414.64,1224.92 1421.49,1276.53 1428.34,1322.23 1435.18,1361.47 1442.03,1393.76 1448.88,1418.71 1455.73,1435.99 1462.58,1445.37 1469.43,1446.71 \n",
       "  1476.28,1439.96 1483.13,1425.17 1489.98,1402.48 1496.83,1372.12 1503.68,1334.42 1510.52,1289.81 1517.37,1238.78 1524.22,1181.93 1531.07,1119.91 1537.92,1053.45 \n",
       "  1544.77,983.352 1551.62,910.448 1558.47,835.624 1565.32,759.799 1572.17,683.91 1579.02,608.907 1585.86,535.74 1592.71,465.345 1599.56,398.635 1606.41,336.488 \n",
       "  1613.26,279.733 1620.11,229.143 1626.96,185.421 1633.81,149.19 1640.66,120.985 1647.51,101.246 1654.36,90.3053 1661.2,88.386 1668.05,95.5948 1674.9,111.918 \n",
       "  1681.75,137.221 1688.6,171.244 1695.45,213.606 1702.3,263.804 1709.15,321.22 1716,385.125 1722.85,454.686 1729.69,528.976 1736.54,606.981 1743.39,687.619 \n",
       "  1750.24,769.745 1757.09,852.171 1763.94,933.681 1770.79,1013.05 1777.64,1089.04 1784.49,1160.47 1791.34,1226.18 1798.19,1285.07 1805.03,1336.12 1811.88,1378.41 \n",
       "  1818.73,1411.15 1825.58,1433.66 1832.43,1445.42 1839.28,1446.06 1846.13,1435.4 1852.98,1413.42 1859.83,1380.3 1866.68,1336.43 1873.53,1282.38 1880.37,1218.9 \n",
       "  1887.22,1146.95 1894.07,1067.68 1900.92,982.385 1907.77,892.524 1914.62,799.693 1921.47,705.597 1928.32,612.025 1935.17,520.823 1942.02,433.86 1948.87,352.992 \n",
       "  1955.71,280.024 1962.56,216.673 1969.41,164.525 1976.26,124.995 1983.11,99.288 1989.96,88.356 1996.81,92.8636 2003.66,113.153 2010.51,149.212 2017.36,200.654 \n",
       "  2024.21,266.693 2031.05,346.139 2037.9,437.393 2044.75,538.455 2051.6,646.944 2058.45,760.129 2065.3,874.974 2072.15,988.193 2079,1096.32 2085.85,1195.82 \n",
       "  2092.7,1283.12 2099.55,1354.83 2106.39,1407.76 2113.24,1439.13 2120.09,1446.68 2126.94,1428.83 2133.79,1384.83 2140.64,1314.89 2147.49,1220.33 2154.34,1103.69 \n",
       "  2161.19,968.806 2168.04,820.859 2174.89,666.359 2181.73,513.063 2188.58,369.807 2195.43,246.225 2202.28,152.329 2209.13,97.9381 2215.98,91.9022 2222.83,141.104 \n",
       "  2229.68,249.185 2236.53,414.961 2243.38,630.464 2250.23,878.567 2257.07,1130.11 2263.92,1340.48 2270.77,1445.54 2277.62,1356.83 2284.47,955.942 2291.32,88.0053 \n",
       "  \n",
       "  \"/>\n",
       "<polygon clip-path=\"url(#clip9100)\" points=\"\n",
       "1989.93,251.724 2280.76,251.724 2280.76,130.764 1989.93,130.764 \n",
       "  \" fill=\"#ffffff\" fill-rule=\"evenodd\" fill-opacity=\"1\"/>\n",
       "<polyline clip-path=\"url(#clip9100)\" style=\"stroke:#000000; stroke-width:4; stroke-opacity:1; fill:none\" points=\"\n",
       "  1989.93,251.724 2280.76,251.724 2280.76,130.764 1989.93,130.764 1989.93,251.724 \n",
       "  \"/>\n",
       "<polyline clip-path=\"url(#clip9100)\" style=\"stroke:#009af9; stroke-width:4; stroke-opacity:1; fill:none\" points=\"\n",
       "  2013.93,191.244 2157.93,191.244 \n",
       "  \"/>\n",
       "<g clip-path=\"url(#clip9100)\">\n",
       "<text style=\"fill:#000000; fill-opacity:1; font-family:Arial,Helvetica Neue,Helvetica,sans-serif; font-size:48px; text-anchor:start;\" transform=\"rotate(0, 2181.93, 208.744)\" x=\"2181.93\" y=\"208.744\">y1</text>\n",
       "</g>\n",
       "</svg>\n"
      ]
     },
     "execution_count": 31,
     "metadata": {},
     "output_type": "execute_result"
    }
   ],
   "source": [
    "a=1\n",
    "b=4\n",
    "xx=collect(range(a,stop=b,length=300))\n",
    "γ=2*xx/(b-a).-(b+a)/(b-a)\n",
    "# Probajte razn vrijednosti k od 1 do 50\n",
    "k=17\n",
    "yy=polyval(T[k],γ)\n",
    "plot(xx,yy)"
   ]
  }
 ],
 "metadata": {
  "kernelspec": {
   "display_name": "Julia 1.1.0",
   "language": "julia",
   "name": "julia-1.1"
  },
  "language_info": {
   "file_extension": ".jl",
   "mimetype": "application/julia",
   "name": "julia",
   "version": "1.1.0"
  }
 },
 "nbformat": 4,
 "nbformat_minor": 1
}
