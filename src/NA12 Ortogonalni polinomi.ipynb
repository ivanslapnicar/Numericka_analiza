{
 "cells": [
  {
   "cell_type": "markdown",
   "metadata": {},
   "source": [
    "# Ortogonalni polinomi\n",
    "\n",
    "\n",
    "Neka je \n",
    "\n",
    "$$\n",
    "L(x_0,x_1,\\ldots,x_n)\n",
    "$$\n",
    "\n",
    "(pot)prostor razapet linearno nezavisnim vektorima (ili funkcijama) $x_0,x_1,\\ldots,x_n$.\n",
    "\n",
    "Radi se o skupu svih linearnih kombinacija zadanih vektora. \n",
    "\n",
    "Koristeći _Gram-Schmidtov postupak ortogonalizacije_ možemo izračunati _ortogonalnu bazu_ tog (pot)prostora \n",
    "\n",
    "$$\n",
    "y_0,y_1,\\ldots,y_n, \n",
    "$$\n",
    "\n",
    "za koju vrijedi\n",
    "\n",
    "$$\n",
    "(y_i,y_j)=0,\\quad i\\neq j. \\tag{1}\n",
    "$$\n",
    "\n",
    "Neka je \n",
    "\n",
    "\\begin{align}\n",
    "y_0&=x_0\\\\\n",
    "y_1&=x_1-\\frac{(x_1,y_0)}{(y_0,y_0)}y_0\\\\\n",
    "y_2&=x_2-\\frac{(x_2,y_0)}{(y_0,y_0)}y_0-\\frac{(x_2,y_1)}{(y_1,y_1)}y_1\\\\\n",
    "& \\vdots \\\\\n",
    "y_n&=x_n-\\sum_{j=0}^{n-1} \\frac{(x_n,y_j)}{(y_j,y_j)}y_j.\n",
    "\\end{align}\n",
    "\n",
    "Svaki $y_j$ je linearna kombinacija od $x_0,x_1,\\ldots,x_j$ pa su $y_j$ linearno nezavisni i vrijedi\n",
    "\n",
    "$$\n",
    "L(x_0,x_1,\\ldots,x_n)=L(y_0,y_1,\\ldots,y_n).\n",
    "$$\n",
    "\n",
    "Direktnom provjerom se vidi da vrijedi (1).\n",
    "\n",
    "_Težinski skalarni produkt_  funkcija $f$ i $g$ na intervalu $[a,b]$ s težinom $\\omega(x)>0$ je\n",
    "\n",
    "$$\n",
    "(f,g)_\\omega=\\int_a^b f(x)g(x)\\omega(x)\\, dx\n",
    "$$\n",
    "\n",
    "Funkcije $f$ i $g$ su _ortogonalne_ ako je $(f,g)_\\omega=0$.\n",
    "\n",
    "_Ortogonalni polinomi_ nastaju ortogonalizacijom polinoma\n",
    "\n",
    "$$\n",
    "1,x,x^2,x^2,\\ldots,x^n. \\tag{2}\n",
    "$$\n",
    "\n",
    "Različiti odabiri težinske funkcije daju različite sustave ortogonalnih polinoma.  "
   ]
  },
  {
   "cell_type": "markdown",
   "metadata": {},
   "source": [
    "## Legendreovi polinomi\n",
    "\n",
    "Ortogonalizirajmo sustav (2) uz\n",
    "\n",
    "$$\n",
    "[a,b]=[-1,1], \\quad \\omega(x)=1,\n",
    "$$\n",
    "\n",
    "koristeći paket `SymPy.jl` za simboličko računanje. "
   ]
  },
  {
   "cell_type": "code",
   "execution_count": 2,
   "metadata": {},
   "outputs": [],
   "source": [
    "using SymPy"
   ]
  },
  {
   "cell_type": "code",
   "execution_count": 4,
   "metadata": {},
   "outputs": [],
   "source": [
    "a=-1\n",
    "b=1\n",
    "n=8\n",
    "P=Array{Any,1}(missing,n)\n",
    "x=Sym(\"x\")\n",
    "P[1]=x^0\n",
    "ω(x)=1\n",
    "for k=2:n\n",
    "    P[k]=x^(k-1)\n",
    "    for j=1:k-1\n",
    "        P[k]=P[k]-integrate(x->x^(k-1)*P[j]*ω(x),a,b)*P[j]/integrate(x->P[j]*P[j]*ω(x),a,b)\n",
    "    end\n",
    "end"
   ]
  },
  {
   "cell_type": "markdown",
   "metadata": {},
   "source": [
    "Julia indeksiranje započima s 1 pa su svi indeksi pomaknuti, odnosno\n",
    "\n",
    "$$\n",
    "P_0(x)=P[1], \\ P_1(x)=P[2], \\ldots\n",
    "$$"
   ]
  },
  {
   "cell_type": "code",
   "execution_count": 5,
   "metadata": {},
   "outputs": [
    {
     "data": {
      "text/latex": [
       "\\begin{equation*}1\\end{equation*}"
      ],
      "text/plain": [
       "1"
      ]
     },
     "execution_count": 5,
     "metadata": {},
     "output_type": "execute_result"
    }
   ],
   "source": [
    "P[1]"
   ]
  },
  {
   "cell_type": "code",
   "execution_count": 6,
   "metadata": {},
   "outputs": [
    {
     "data": {
      "text/latex": [
       "\\begin{equation*}x^{3} - \\frac{3 x}{5}\\end{equation*}"
      ],
      "text/plain": [
       " 3   3*x\n",
       "x  - ---\n",
       "      5 "
      ]
     },
     "execution_count": 6,
     "metadata": {},
     "output_type": "execute_result"
    }
   ],
   "source": [
    "P[4]"
   ]
  },
  {
   "cell_type": "code",
   "execution_count": 7,
   "metadata": {},
   "outputs": [
    {
     "data": {
      "text/latex": [
       "\\begin{equation*}x^{5} - \\frac{10 x^{3}}{9} + \\frac{5 x}{21}\\end{equation*}"
      ],
      "text/plain": [
       "         3      \n",
       " 5   10*x    5*x\n",
       "x  - ----- + ---\n",
       "       9      21"
      ]
     },
     "execution_count": 7,
     "metadata": {},
     "output_type": "execute_result"
    }
   ],
   "source": [
    "P[6]"
   ]
  },
  {
   "cell_type": "code",
   "execution_count": 8,
   "metadata": {},
   "outputs": [
    {
     "data": {
      "text/latex": [
       "\\begin{equation*}x^{6} - \\frac{15 x^{4}}{11} + \\frac{5 x^{2}}{11} - \\frac{5}{231}\\end{equation*}"
      ],
      "text/plain": [
       "         4      2      \n",
       " 6   15*x    5*x     5 \n",
       "x  - ----- + ---- - ---\n",
       "       11     11    231"
      ]
     },
     "execution_count": 8,
     "metadata": {},
     "output_type": "execute_result"
    }
   ],
   "source": [
    "P[7]"
   ]
  },
  {
   "cell_type": "code",
   "execution_count": 9,
   "metadata": {},
   "outputs": [
    {
     "data": {
      "text/latex": [
       "\\begin{equation*}x^{7} - \\frac{21 x^{5}}{13} + \\frac{105 x^{3}}{143} - \\frac{35 x}{429}\\end{equation*}"
      ],
      "text/plain": [
       "         5        3       \n",
       " 7   21*x    105*x    35*x\n",
       "x  - ----- + ------ - ----\n",
       "       13     143     429 "
      ]
     },
     "execution_count": 9,
     "metadata": {},
     "output_type": "execute_result"
    }
   ],
   "source": [
    "P[8]"
   ]
  },
  {
   "cell_type": "markdown",
   "metadata": {},
   "source": [
    "Polinomi $P_n$ su do na množenje konstantom jednaki _Legendreovim_ polinomima\n",
    "\n",
    "$$\n",
    "L_n(x)=\\frac{1}{2^n n!}\\frac{d^n}{dx^n}(x^2-1)^n, \\quad n=0,1,2,3,\\ldots\n",
    "$$"
   ]
  },
  {
   "cell_type": "code",
   "execution_count": 10,
   "metadata": {},
   "outputs": [],
   "source": [
    "n=8\n",
    "L=Array{Any,1}(missing,n)\n",
    "L[1]=x^0\n",
    "for k=1:n-1\n",
    "    L[k+1]=expand(diff((x^2-1)^k/(2^k*factorial(k)),x,k))\n",
    "end"
   ]
  },
  {
   "cell_type": "code",
   "execution_count": 11,
   "metadata": {},
   "outputs": [
    {
     "data": {
      "text/plain": [
       "(1, 1)"
      ]
     },
     "execution_count": 11,
     "metadata": {},
     "output_type": "execute_result"
    }
   ],
   "source": [
    "L[1], P[1]"
   ]
  },
  {
   "cell_type": "code",
   "execution_count": 12,
   "metadata": {},
   "outputs": [
    {
     "data": {
      "text/plain": [
       "(x, x)"
      ]
     },
     "execution_count": 12,
     "metadata": {},
     "output_type": "execute_result"
    }
   ],
   "source": [
    "L[2],P[2]"
   ]
  },
  {
   "cell_type": "code",
   "execution_count": 13,
   "metadata": {},
   "outputs": [
    {
     "data": {
      "text/plain": [
       "(5*x^3/2 - 3*x/2, x^3 - 3*x/5)"
      ]
     },
     "execution_count": 13,
     "metadata": {},
     "output_type": "execute_result"
    }
   ],
   "source": [
    "L[4],P[4]"
   ]
  },
  {
   "cell_type": "code",
   "execution_count": 14,
   "metadata": {},
   "outputs": [
    {
     "data": {
      "text/latex": [
       "\\begin{equation*}\\frac{231 x^{6}}{16} - \\frac{315 x^{4}}{16} + \\frac{105 x^{2}}{16} - \\frac{5}{16}\\end{equation*}"
      ],
      "text/plain": [
       "     6        4        2     \n",
       "231*x    315*x    105*x    5 \n",
       "------ - ------ + ------ - --\n",
       "  16       16       16     16"
      ]
     },
     "execution_count": 14,
     "metadata": {},
     "output_type": "execute_result"
    }
   ],
   "source": [
    "L[7]"
   ]
  },
  {
   "cell_type": "code",
   "execution_count": 15,
   "metadata": {},
   "outputs": [
    {
     "data": {
      "text/latex": [
       "\\begin{equation*}x^{6} - \\frac{15 x^{4}}{11} + \\frac{5 x^{2}}{11} - \\frac{5}{231}\\end{equation*}"
      ],
      "text/plain": [
       "         4      2      \n",
       " 6   15*x    5*x     5 \n",
       "x  - ----- + ---- - ---\n",
       "       11     11    231"
      ]
     },
     "execution_count": 15,
     "metadata": {},
     "output_type": "execute_result"
    }
   ],
   "source": [
    "P[7]"
   ]
  },
  {
   "cell_type": "code",
   "execution_count": 16,
   "metadata": {},
   "outputs": [
    {
     "data": {
      "text/latex": [
       "\\begin{equation*}x^{6} - \\frac{15 x^{4}}{11} + \\frac{5 x^{2}}{11} - \\frac{5}{231}\\end{equation*}"
      ],
      "text/plain": [
       "         4      2      \n",
       " 6   15*x    5*x     5 \n",
       "x  - ----- + ---- - ---\n",
       "       11     11    231"
      ]
     },
     "execution_count": 16,
     "metadata": {},
     "output_type": "execute_result"
    }
   ],
   "source": [
    "L[7]*16/231"
   ]
  },
  {
   "cell_type": "markdown",
   "metadata": {},
   "source": [
    "Pored ortogonalnosti, vrijede sljedeća svojstva:\n",
    "\n",
    "* $L_n(x)$  ima $n$ različitih nul-točaka na intervalu $[-1,1]$, \n",
    "* vrijedi _tročlana rekurzivna formula_: \n",
    "\n",
    "$$ \n",
    "L_{n+1}(x)=\\frac{2n+1}{n+1}\\,x\\, L_n(x)-\\frac{n}{n+1} L_{n-1}(x).\n",
    "$$\n",
    "\n",
    "Izračunajmo polinome numerički i nacrtajmo ih:"
   ]
  },
  {
   "cell_type": "code",
   "execution_count": 17,
   "metadata": {},
   "outputs": [],
   "source": [
    "using Polynomials\n",
    "using Plots"
   ]
  },
  {
   "cell_type": "code",
   "execution_count": 18,
   "metadata": {},
   "outputs": [],
   "source": [
    "n=40\n",
    "L=Array{Any,1}(missing,n)\n",
    "L[1]=Polynomials.Poly([1])\n",
    "L[2]=Polynomials.Poly([0,1])\n",
    "for i=3:n\n",
    "    L[i]=(2*i-3)*L[2]*L[i-1]/(i-1)-(i-2)*L[i-2]/(i-1)\n",
    "    # @show i, length(L[i])\n",
    "end"
   ]
  },
  {
   "cell_type": "code",
   "execution_count": 19,
   "metadata": {},
   "outputs": [
    {
     "data": {
      "text/html": [
       "&#45;0.3125 &#43; 6.5625&#8729;x^2 &#45; 19.6875&#8729;x^4 &#43; 14.4375&#8729;x^6"
      ],
      "text/latex": [
       "$-0.3125 + 6.5625\\cdot x^{2} - 19.6875\\cdot x^{4} + 14.4375\\cdot x^{6}$"
      ],
      "text/plain": [
       "Poly(-0.3125 + 6.5625*x^2 - 19.6875*x^4 + 14.4375*x^6)"
      ]
     },
     "execution_count": 19,
     "metadata": {},
     "output_type": "execute_result"
    }
   ],
   "source": [
    "L[7]"
   ]
  },
  {
   "cell_type": "code",
   "execution_count": 21,
   "metadata": {},
   "outputs": [
    {
     "data": {
      "image/svg+xml": [
       "<?xml version=\"1.0\" encoding=\"utf-8\"?>\n",
       "<svg xmlns=\"http://www.w3.org/2000/svg\" xmlns:xlink=\"http://www.w3.org/1999/xlink\" width=\"600\" height=\"400\" viewBox=\"0 0 2400 1600\">\n",
       "<defs>\n",
       "  <clipPath id=\"clip5100\">\n",
       "    <rect x=\"0\" y=\"0\" width=\"2400\" height=\"1600\"/>\n",
       "  </clipPath>\n",
       "</defs>\n",
       "<polygon clip-path=\"url(#clip5100)\" points=\"\n",
       "0,1600 2400,1600 2400,0 0,0 \n",
       "  \" fill=\"#ffffff\" fill-rule=\"evenodd\" fill-opacity=\"1\"/>\n",
       "<defs>\n",
       "  <clipPath id=\"clip5101\">\n",
       "    <rect x=\"480\" y=\"0\" width=\"1681\" height=\"1600\"/>\n",
       "  </clipPath>\n",
       "</defs>\n",
       "<polygon clip-path=\"url(#clip5100)\" points=\"\n",
       "189.504,1503.47 2321.26,1503.47 2321.26,47.2441 189.504,47.2441 \n",
       "  \" fill=\"#ffffff\" fill-rule=\"evenodd\" fill-opacity=\"1\"/>\n",
       "<defs>\n",
       "  <clipPath id=\"clip5102\">\n",
       "    <rect x=\"189\" y=\"47\" width=\"2133\" height=\"1457\"/>\n",
       "  </clipPath>\n",
       "</defs>\n",
       "<polyline clip-path=\"url(#clip5102)\" style=\"stroke:#000000; stroke-width:2; stroke-opacity:0.1; fill:none\" points=\"\n",
       "  249.837,1503.47 249.837,47.2441 \n",
       "  \"/>\n",
       "<polyline clip-path=\"url(#clip5102)\" style=\"stroke:#000000; stroke-width:2; stroke-opacity:0.1; fill:none\" points=\"\n",
       "  752.609,1503.47 752.609,47.2441 \n",
       "  \"/>\n",
       "<polyline clip-path=\"url(#clip5102)\" style=\"stroke:#000000; stroke-width:2; stroke-opacity:0.1; fill:none\" points=\"\n",
       "  1255.38,1503.47 1255.38,47.2441 \n",
       "  \"/>\n",
       "<polyline clip-path=\"url(#clip5102)\" style=\"stroke:#000000; stroke-width:2; stroke-opacity:0.1; fill:none\" points=\"\n",
       "  1758.15,1503.47 1758.15,47.2441 \n",
       "  \"/>\n",
       "<polyline clip-path=\"url(#clip5102)\" style=\"stroke:#000000; stroke-width:2; stroke-opacity:0.1; fill:none\" points=\"\n",
       "  2260.93,1503.47 2260.93,47.2441 \n",
       "  \"/>\n",
       "<polyline clip-path=\"url(#clip5102)\" style=\"stroke:#000000; stroke-width:2; stroke-opacity:0.1; fill:none\" points=\"\n",
       "  189.504,1462.26 2321.26,1462.26 \n",
       "  \"/>\n",
       "<polyline clip-path=\"url(#clip5102)\" style=\"stroke:#000000; stroke-width:2; stroke-opacity:0.1; fill:none\" points=\"\n",
       "  189.504,1118.81 2321.26,1118.81 \n",
       "  \"/>\n",
       "<polyline clip-path=\"url(#clip5102)\" style=\"stroke:#000000; stroke-width:2; stroke-opacity:0.1; fill:none\" points=\"\n",
       "  189.504,775.359 2321.26,775.359 \n",
       "  \"/>\n",
       "<polyline clip-path=\"url(#clip5102)\" style=\"stroke:#000000; stroke-width:2; stroke-opacity:0.1; fill:none\" points=\"\n",
       "  189.504,431.909 2321.26,431.909 \n",
       "  \"/>\n",
       "<polyline clip-path=\"url(#clip5102)\" style=\"stroke:#000000; stroke-width:2; stroke-opacity:0.1; fill:none\" points=\"\n",
       "  189.504,88.4576 2321.26,88.4576 \n",
       "  \"/>\n",
       "<polyline clip-path=\"url(#clip5100)\" style=\"stroke:#000000; stroke-width:4; stroke-opacity:1; fill:none\" points=\"\n",
       "  189.504,1503.47 2321.26,1503.47 \n",
       "  \"/>\n",
       "<polyline clip-path=\"url(#clip5100)\" style=\"stroke:#000000; stroke-width:4; stroke-opacity:1; fill:none\" points=\"\n",
       "  189.504,1503.47 189.504,47.2441 \n",
       "  \"/>\n",
       "<polyline clip-path=\"url(#clip5100)\" style=\"stroke:#000000; stroke-width:4; stroke-opacity:1; fill:none\" points=\"\n",
       "  249.837,1503.47 249.837,1481.63 \n",
       "  \"/>\n",
       "<polyline clip-path=\"url(#clip5100)\" style=\"stroke:#000000; stroke-width:4; stroke-opacity:1; fill:none\" points=\"\n",
       "  752.609,1503.47 752.609,1481.63 \n",
       "  \"/>\n",
       "<polyline clip-path=\"url(#clip5100)\" style=\"stroke:#000000; stroke-width:4; stroke-opacity:1; fill:none\" points=\"\n",
       "  1255.38,1503.47 1255.38,1481.63 \n",
       "  \"/>\n",
       "<polyline clip-path=\"url(#clip5100)\" style=\"stroke:#000000; stroke-width:4; stroke-opacity:1; fill:none\" points=\"\n",
       "  1758.15,1503.47 1758.15,1481.63 \n",
       "  \"/>\n",
       "<polyline clip-path=\"url(#clip5100)\" style=\"stroke:#000000; stroke-width:4; stroke-opacity:1; fill:none\" points=\"\n",
       "  2260.93,1503.47 2260.93,1481.63 \n",
       "  \"/>\n",
       "<polyline clip-path=\"url(#clip5100)\" style=\"stroke:#000000; stroke-width:4; stroke-opacity:1; fill:none\" points=\"\n",
       "  189.504,1462.26 221.48,1462.26 \n",
       "  \"/>\n",
       "<polyline clip-path=\"url(#clip5100)\" style=\"stroke:#000000; stroke-width:4; stroke-opacity:1; fill:none\" points=\"\n",
       "  189.504,1118.81 221.48,1118.81 \n",
       "  \"/>\n",
       "<polyline clip-path=\"url(#clip5100)\" style=\"stroke:#000000; stroke-width:4; stroke-opacity:1; fill:none\" points=\"\n",
       "  189.504,775.359 221.48,775.359 \n",
       "  \"/>\n",
       "<polyline clip-path=\"url(#clip5100)\" style=\"stroke:#000000; stroke-width:4; stroke-opacity:1; fill:none\" points=\"\n",
       "  189.504,431.909 221.48,431.909 \n",
       "  \"/>\n",
       "<polyline clip-path=\"url(#clip5100)\" style=\"stroke:#000000; stroke-width:4; stroke-opacity:1; fill:none\" points=\"\n",
       "  189.504,88.4576 221.48,88.4576 \n",
       "  \"/>\n",
       "<g clip-path=\"url(#clip5100)\">\n",
       "<text style=\"fill:#000000; fill-opacity:1; font-family:Arial,Helvetica Neue,Helvetica,sans-serif; font-size:48px; text-anchor:middle;\" transform=\"rotate(0, 249.837, 1557.47)\" x=\"249.837\" y=\"1557.47\">-1.0</text>\n",
       "</g>\n",
       "<g clip-path=\"url(#clip5100)\">\n",
       "<text style=\"fill:#000000; fill-opacity:1; font-family:Arial,Helvetica Neue,Helvetica,sans-serif; font-size:48px; text-anchor:middle;\" transform=\"rotate(0, 752.609, 1557.47)\" x=\"752.609\" y=\"1557.47\">-0.5</text>\n",
       "</g>\n",
       "<g clip-path=\"url(#clip5100)\">\n",
       "<text style=\"fill:#000000; fill-opacity:1; font-family:Arial,Helvetica Neue,Helvetica,sans-serif; font-size:48px; text-anchor:middle;\" transform=\"rotate(0, 1255.38, 1557.47)\" x=\"1255.38\" y=\"1557.47\">0.0</text>\n",
       "</g>\n",
       "<g clip-path=\"url(#clip5100)\">\n",
       "<text style=\"fill:#000000; fill-opacity:1; font-family:Arial,Helvetica Neue,Helvetica,sans-serif; font-size:48px; text-anchor:middle;\" transform=\"rotate(0, 1758.15, 1557.47)\" x=\"1758.15\" y=\"1557.47\">0.5</text>\n",
       "</g>\n",
       "<g clip-path=\"url(#clip5100)\">\n",
       "<text style=\"fill:#000000; fill-opacity:1; font-family:Arial,Helvetica Neue,Helvetica,sans-serif; font-size:48px; text-anchor:middle;\" transform=\"rotate(0, 2260.93, 1557.47)\" x=\"2260.93\" y=\"1557.47\">1.0</text>\n",
       "</g>\n",
       "<g clip-path=\"url(#clip5100)\">\n",
       "<text style=\"fill:#000000; fill-opacity:1; font-family:Arial,Helvetica Neue,Helvetica,sans-serif; font-size:48px; text-anchor:end;\" transform=\"rotate(0, 165.504, 1479.76)\" x=\"165.504\" y=\"1479.76\">-1.0</text>\n",
       "</g>\n",
       "<g clip-path=\"url(#clip5100)\">\n",
       "<text style=\"fill:#000000; fill-opacity:1; font-family:Arial,Helvetica Neue,Helvetica,sans-serif; font-size:48px; text-anchor:end;\" transform=\"rotate(0, 165.504, 1136.31)\" x=\"165.504\" y=\"1136.31\">-0.5</text>\n",
       "</g>\n",
       "<g clip-path=\"url(#clip5100)\">\n",
       "<text style=\"fill:#000000; fill-opacity:1; font-family:Arial,Helvetica Neue,Helvetica,sans-serif; font-size:48px; text-anchor:end;\" transform=\"rotate(0, 165.504, 792.859)\" x=\"165.504\" y=\"792.859\">0.0</text>\n",
       "</g>\n",
       "<g clip-path=\"url(#clip5100)\">\n",
       "<text style=\"fill:#000000; fill-opacity:1; font-family:Arial,Helvetica Neue,Helvetica,sans-serif; font-size:48px; text-anchor:end;\" transform=\"rotate(0, 165.504, 449.409)\" x=\"165.504\" y=\"449.409\">0.5</text>\n",
       "</g>\n",
       "<g clip-path=\"url(#clip5100)\">\n",
       "<text style=\"fill:#000000; fill-opacity:1; font-family:Arial,Helvetica Neue,Helvetica,sans-serif; font-size:48px; text-anchor:end;\" transform=\"rotate(0, 165.504, 105.958)\" x=\"165.504\" y=\"105.958\">1.0</text>\n",
       "</g>\n",
       "<polyline clip-path=\"url(#clip5102)\" style=\"stroke:#009af9; stroke-width:4; stroke-opacity:1; fill:none\" points=\"\n",
       "  249.837,1462.26 256.563,523.132 263.289,616.27 270.015,863.525 276.741,979.216 283.467,943.299 290.193,825.727 296.919,702.204 303.645,622.049 310.371,603.228 \n",
       "  317.097,639.445 323.823,710.703 330.549,792.932 337.276,864.91 344.002,912.11 350.728,927.94 357.454,913.082 364.18,873.713 370.906,819.267 377.632,760.239 \n",
       "  384.358,706.346 391.084,665.228 397.81,641.713 404.536,637.623 411.262,652.001 417.988,681.649 424.714,721.834 431.44,767.059 438.166,811.787 444.892,851.057 \n",
       "  451.618,880.948 458.345,898.86 465.071,903.631 471.797,895.494 478.523,875.909 485.249,847.298 491.975,812.737 498.701,775.613 505.427,739.306 512.153,706.9 \n",
       "  518.879,680.953 525.605,663.335 532.331,655.129 539.057,656.616 545.783,667.31 552.509,686.057 559.235,711.163 565.961,740.559 572.687,771.977 579.414,803.116 \n",
       "  586.14,831.811 592.866,856.165 599.592,874.661 606.318,886.243 613.044,890.352 619.77,886.935 626.496,876.419 633.222,859.663 639.948,837.872 646.674,812.516 \n",
       "  653.4,785.221 660.126,757.67 666.852,731.498 673.578,708.202 680.304,689.062 687.03,675.076 693.756,666.921 700.482,664.927 707.209,669.074 713.935,679.008 \n",
       "  720.661,694.075 727.387,713.365 734.113,735.772 740.839,760.057 747.565,784.92 754.291,809.065 761.017,831.268 767.743,850.436 774.469,865.654 781.195,876.228 \n",
       "  787.921,881.708 794.647,881.907 801.373,876.896 808.099,866.997 814.825,852.758 821.551,834.92 828.278,814.38 835.004,792.141 841.73,769.265 848.456,746.822 \n",
       "  855.182,725.843 861.908,707.269 868.634,691.916 875.36,680.442 882.086,673.317 888.812,670.809 895.538,672.977 902.264,679.676 908.99,690.561 915.716,705.111 \n",
       "  922.442,722.655 929.168,742.404 935.894,763.482 942.62,784.973 949.347,805.954 956.073,825.537 962.799,842.904 969.525,857.342 976.251,868.268 982.977,875.253 \n",
       "  989.703,878.038 996.429,876.538 1003.15,870.848 1009.88,861.231 1016.61,848.112 1023.33,832.051 1030.06,813.722 1036.79,793.886 1043.51,773.357 1050.24,752.97 \n",
       "  1056.96,733.545 1063.69,715.858 1070.42,700.61 1077.14,688.399 1083.87,679.696 1090.59,674.831 1097.32,673.981 1104.05,677.161 1110.77,684.229 1117.5,694.89 \n",
       "  1124.22,708.71 1130.95,725.134 1137.68,743.508 1144.4,763.105 1151.13,783.154 1157.85,802.869 1164.58,821.482 1171.31,838.269 1178.03,852.581 1184.76,863.866 \n",
       "  1191.48,871.691 1198.21,875.757 1204.94,875.914 1211.66,872.161 1218.39,864.648 1225.11,853.671 1231.84,839.657 1238.57,823.152 1245.29,804.796 1252.02,785.3 \n",
       "  1258.75,765.419 1265.47,745.923 1272.2,727.567 1278.92,711.062 1285.65,697.048 1292.38,686.07 1299.1,678.558 1305.83,674.804 1312.55,674.961 1319.28,679.028 \n",
       "  1326.01,686.853 1332.73,698.138 1339.46,712.449 1346.18,729.237 1352.91,747.85 1359.64,767.565 1366.36,787.614 1373.09,807.211 1379.81,825.585 1386.54,842.009 \n",
       "  1393.27,855.829 1399.99,866.49 1406.72,873.557 1413.44,876.738 1420.17,875.887 1426.9,871.023 1433.62,862.32 1440.35,850.109 1447.07,834.861 1453.8,817.174 \n",
       "  1460.53,797.749 1467.25,777.361 1473.98,756.832 1480.7,736.997 1487.43,718.668 1494.16,702.607 1500.88,689.487 1507.61,679.871 1514.34,674.181 1521.06,672.681 \n",
       "  1527.79,675.466 1534.51,682.451 1541.24,693.377 1547.97,707.814 1554.69,725.182 1561.42,744.765 1568.14,765.746 1574.87,787.237 1581.6,808.315 1588.32,828.063 \n",
       "  1595.05,845.608 1601.77,860.158 1608.5,871.043 1615.23,877.741 1621.95,879.91 1628.68,877.402 1635.4,870.277 1642.13,858.802 1648.86,843.45 1655.58,824.876 \n",
       "  1662.31,803.896 1669.03,781.454 1675.76,758.578 1682.49,736.339 1689.21,715.799 1695.94,697.961 1702.66,683.722 1709.39,673.823 1716.12,668.812 1722.84,669.011 \n",
       "  1729.57,674.491 1736.29,685.065 1743.02,700.283 1749.75,719.45 1756.47,741.654 1763.2,765.799 1769.93,790.661 1776.65,814.947 1783.38,837.353 1790.1,856.643 \n",
       "  1796.83,871.71 1803.56,881.645 1810.28,885.792 1817.01,883.798 1823.73,875.643 1830.46,861.657 1837.19,842.516 1843.91,819.22 1850.64,793.048 1857.36,765.498 \n",
       "  1864.09,738.203 1870.82,712.847 1877.54,691.056 1884.27,674.299 1890.99,663.784 1897.72,660.367 1904.45,664.475 1911.17,676.057 1917.9,694.554 1924.62,718.908 \n",
       "  1931.35,747.602 1938.08,778.742 1944.8,810.16 1951.53,839.556 1958.25,864.662 1964.98,883.408 1971.71,894.103 1978.43,895.59 1985.16,887.384 1991.88,869.765 \n",
       "  1998.61,843.819 2005.34,811.413 2012.06,775.106 2018.79,737.982 2025.52,703.421 2032.24,674.81 2038.97,655.224 2045.69,647.088 2052.42,651.859 2059.15,669.771 \n",
       "  2065.87,699.661 2072.6,738.932 2079.32,783.66 2086.05,828.885 2092.78,869.07 2099.5,898.718 2106.23,913.096 2112.95,909.006 2119.68,885.491 2126.41,844.373 \n",
       "  2133.13,790.48 2139.86,731.452 2146.58,677.006 2153.31,637.637 2160.04,622.779 2166.76,638.609 2173.49,685.809 2180.21,757.787 2186.94,840.016 2193.67,911.274 \n",
       "  2200.39,947.491 2207.12,928.67 2213.84,848.515 2220.57,724.992 2227.3,607.419 2234.02,571.503 2240.75,687.194 2247.48,934.449 2254.2,1027.59 2260.93,88.4582 \n",
       "  \n",
       "  \"/>\n",
       "<polygon clip-path=\"url(#clip5100)\" points=\"\n",
       "1958.43,251.724 2249.26,251.724 2249.26,130.764 1958.43,130.764 \n",
       "  \" fill=\"#ffffff\" fill-rule=\"evenodd\" fill-opacity=\"1\"/>\n",
       "<polyline clip-path=\"url(#clip5100)\" style=\"stroke:#000000; stroke-width:4; stroke-opacity:1; fill:none\" points=\"\n",
       "  1958.43,251.724 2249.26,251.724 2249.26,130.764 1958.43,130.764 1958.43,251.724 \n",
       "  \"/>\n",
       "<polyline clip-path=\"url(#clip5100)\" style=\"stroke:#009af9; stroke-width:4; stroke-opacity:1; fill:none\" points=\"\n",
       "  1982.43,191.244 2126.43,191.244 \n",
       "  \"/>\n",
       "<g clip-path=\"url(#clip5100)\">\n",
       "<text style=\"fill:#000000; fill-opacity:1; font-family:Arial,Helvetica Neue,Helvetica,sans-serif; font-size:48px; text-anchor:start;\" transform=\"rotate(0, 2150.43, 208.744)\" x=\"2150.43\" y=\"208.744\">y1</text>\n",
       "</g>\n",
       "</svg>\n"
      ]
     },
     "execution_count": 21,
     "metadata": {},
     "output_type": "execute_result"
    }
   ],
   "source": [
    "xx=range(-1,stop=1,length=300)\n",
    "# Probajte razne vrijednosti k od 1 do 40\n",
    "k=30\n",
    "yy=polyval(L[k],xx)\n",
    "plot(xx,yy)"
   ]
  },
  {
   "cell_type": "markdown",
   "metadata": {},
   "source": [
    "## Čebiševljevi polinomi\n",
    "\n",
    "_Čebiševljevi polinomi_ $T_n(x)$ nastaju ortogonalizacijom sustava (2) uz\n",
    "\n",
    "$$\n",
    "[a,b]=[-1,1], \\quad \\omega(x)=\\frac{1}{\\sqrt{1-x^2}}.\n",
    "$$\n",
    "\n",
    "Čebiševljevi polinomi imaju sljedeća svojstva:\n",
    "\n",
    "* vrijedi \n",
    "\n",
    "$$\n",
    "T_n(x)=\\cos(n\\arccos x),\\quad n=0,1,2,3,\\ldots,\n",
    "$$\n",
    "\n",
    "* $T_n(x)$  ima $n$ različitih nul-točaka na intervalu $[-1,1]$, \n",
    "\n",
    "$$ \n",
    "x_k=\\cos \\bigg(\\frac{2k-1}{n}\\frac{\\pi}{2} \\bigg), \\quad k=1,\\ldots,n,\n",
    "$$\n",
    "\n",
    "* vrijedi _tročlana rekurzivna formula_: \n",
    "\n",
    "\\begin{align*}\n",
    "T_0(x)&=1,\\\\\n",
    "T_1(x)&=x, \\\\ \n",
    "T_{n+1}(x)&=2\\,x\\,T_n(x)-T_{n-1}(x),\\quad n=1,2,3,\\ldots.\n",
    "\\end{align*}\n",
    " \n",
    "__Napomena__:\n",
    "\n",
    "Rekurzivna formula slijedi iz _adicione formule_\n",
    "\n",
    "$$\n",
    "\\cos(n+1)\\varphi+\\cos(n-1)\\varphi=2\\cos\\varphi\\cos n\\varphi.\n",
    "$$\n",
    "\n",
    "Ortogonalnost se dokazuje pomoću supstitucije \n",
    "\n",
    "$$\n",
    "\\arccos x=\\varphi.\n",
    "$$"
   ]
  },
  {
   "cell_type": "code",
   "execution_count": 22,
   "metadata": {},
   "outputs": [],
   "source": [
    "# Simbolički\n",
    "n=8\n",
    "T=Array{Any,1}(missing,n)\n",
    "T[1]=x^0\n",
    "T[2]=x\n",
    "for k=2:n-1\n",
    "    T[k+1]=expand(2*x*T[k]-T[k-1])\n",
    "end"
   ]
  },
  {
   "cell_type": "code",
   "execution_count": 23,
   "metadata": {},
   "outputs": [
    {
     "data": {
      "text/latex": [
       "\\begin{equation*}2 x^{2} - 1\\end{equation*}"
      ],
      "text/plain": [
       "   2    \n",
       "2*x  - 1"
      ]
     },
     "execution_count": 23,
     "metadata": {},
     "output_type": "execute_result"
    }
   ],
   "source": [
    "T[3]"
   ]
  },
  {
   "cell_type": "code",
   "execution_count": 24,
   "metadata": {},
   "outputs": [
    {
     "data": {
      "text/latex": [
       "\\begin{equation*}32 x^{6} - 48 x^{4} + 18 x^{2} - 1\\end{equation*}"
      ],
      "text/plain": [
       "    6       4       2    \n",
       "32*x  - 48*x  + 18*x  - 1"
      ]
     },
     "execution_count": 24,
     "metadata": {},
     "output_type": "execute_result"
    }
   ],
   "source": [
    "T[7]"
   ]
  },
  {
   "cell_type": "code",
   "execution_count": 25,
   "metadata": {},
   "outputs": [
    {
     "data": {
      "text/latex": [
       "\\begin{equation*}64 x^{7} - 112 x^{5} + 56 x^{3} - 7 x\\end{equation*}"
      ],
      "text/plain": [
       "    7        5       3      \n",
       "64*x  - 112*x  + 56*x  - 7*x"
      ]
     },
     "execution_count": 25,
     "metadata": {},
     "output_type": "execute_result"
    }
   ],
   "source": [
    "T[8]"
   ]
  },
  {
   "cell_type": "code",
   "execution_count": 26,
   "metadata": {},
   "outputs": [],
   "source": [
    "# Numerički\n",
    "n=50\n",
    "T=Array{Any,1}(missing,n)\n",
    "T[1]=Polynomials.Poly([1])\n",
    "T[2]=Polynomials.Poly([0,1])\n",
    "for i=3:n\n",
    "    T[i]=2*T[2]*T[i-1]-T[i-2]\n",
    "    # @show i, length(T[i])\n",
    "end"
   ]
  },
  {
   "cell_type": "code",
   "execution_count": 27,
   "metadata": {},
   "outputs": [
    {
     "data": {
      "image/svg+xml": [
       "<?xml version=\"1.0\" encoding=\"utf-8\"?>\n",
       "<svg xmlns=\"http://www.w3.org/2000/svg\" xmlns:xlink=\"http://www.w3.org/1999/xlink\" width=\"600\" height=\"400\" viewBox=\"0 0 2400 1600\">\n",
       "<defs>\n",
       "  <clipPath id=\"clip5500\">\n",
       "    <rect x=\"0\" y=\"0\" width=\"2400\" height=\"1600\"/>\n",
       "  </clipPath>\n",
       "</defs>\n",
       "<polygon clip-path=\"url(#clip5500)\" points=\"\n",
       "0,1600 2400,1600 2400,0 0,0 \n",
       "  \" fill=\"#ffffff\" fill-rule=\"evenodd\" fill-opacity=\"1\"/>\n",
       "<defs>\n",
       "  <clipPath id=\"clip5501\">\n",
       "    <rect x=\"480\" y=\"0\" width=\"1681\" height=\"1600\"/>\n",
       "  </clipPath>\n",
       "</defs>\n",
       "<polygon clip-path=\"url(#clip5500)\" points=\"\n",
       "189.504,1503.47 2321.26,1503.47 2321.26,47.2441 189.504,47.2441 \n",
       "  \" fill=\"#ffffff\" fill-rule=\"evenodd\" fill-opacity=\"1\"/>\n",
       "<defs>\n",
       "  <clipPath id=\"clip5502\">\n",
       "    <rect x=\"189\" y=\"47\" width=\"2133\" height=\"1457\"/>\n",
       "  </clipPath>\n",
       "</defs>\n",
       "<polyline clip-path=\"url(#clip5502)\" style=\"stroke:#000000; stroke-width:2; stroke-opacity:0.1; fill:none\" points=\"\n",
       "  249.837,1503.47 249.837,47.2441 \n",
       "  \"/>\n",
       "<polyline clip-path=\"url(#clip5502)\" style=\"stroke:#000000; stroke-width:2; stroke-opacity:0.1; fill:none\" points=\"\n",
       "  752.609,1503.47 752.609,47.2441 \n",
       "  \"/>\n",
       "<polyline clip-path=\"url(#clip5502)\" style=\"stroke:#000000; stroke-width:2; stroke-opacity:0.1; fill:none\" points=\"\n",
       "  1255.38,1503.47 1255.38,47.2441 \n",
       "  \"/>\n",
       "<polyline clip-path=\"url(#clip5502)\" style=\"stroke:#000000; stroke-width:2; stroke-opacity:0.1; fill:none\" points=\"\n",
       "  1758.15,1503.47 1758.15,47.2441 \n",
       "  \"/>\n",
       "<polyline clip-path=\"url(#clip5502)\" style=\"stroke:#000000; stroke-width:2; stroke-opacity:0.1; fill:none\" points=\"\n",
       "  2260.93,1503.47 2260.93,47.2441 \n",
       "  \"/>\n",
       "<polyline clip-path=\"url(#clip5502)\" style=\"stroke:#000000; stroke-width:2; stroke-opacity:0.1; fill:none\" points=\"\n",
       "  189.504,1462.27 2321.26,1462.27 \n",
       "  \"/>\n",
       "<polyline clip-path=\"url(#clip5502)\" style=\"stroke:#000000; stroke-width:2; stroke-opacity:0.1; fill:none\" points=\"\n",
       "  189.504,1118.82 2321.26,1118.82 \n",
       "  \"/>\n",
       "<polyline clip-path=\"url(#clip5502)\" style=\"stroke:#000000; stroke-width:2; stroke-opacity:0.1; fill:none\" points=\"\n",
       "  189.504,775.363 2321.26,775.363 \n",
       "  \"/>\n",
       "<polyline clip-path=\"url(#clip5502)\" style=\"stroke:#000000; stroke-width:2; stroke-opacity:0.1; fill:none\" points=\"\n",
       "  189.504,431.911 2321.26,431.911 \n",
       "  \"/>\n",
       "<polyline clip-path=\"url(#clip5502)\" style=\"stroke:#000000; stroke-width:2; stroke-opacity:0.1; fill:none\" points=\"\n",
       "  189.504,88.4582 2321.26,88.4582 \n",
       "  \"/>\n",
       "<polyline clip-path=\"url(#clip5500)\" style=\"stroke:#000000; stroke-width:4; stroke-opacity:1; fill:none\" points=\"\n",
       "  189.504,1503.47 2321.26,1503.47 \n",
       "  \"/>\n",
       "<polyline clip-path=\"url(#clip5500)\" style=\"stroke:#000000; stroke-width:4; stroke-opacity:1; fill:none\" points=\"\n",
       "  189.504,1503.47 189.504,47.2441 \n",
       "  \"/>\n",
       "<polyline clip-path=\"url(#clip5500)\" style=\"stroke:#000000; stroke-width:4; stroke-opacity:1; fill:none\" points=\"\n",
       "  249.837,1503.47 249.837,1481.63 \n",
       "  \"/>\n",
       "<polyline clip-path=\"url(#clip5500)\" style=\"stroke:#000000; stroke-width:4; stroke-opacity:1; fill:none\" points=\"\n",
       "  752.609,1503.47 752.609,1481.63 \n",
       "  \"/>\n",
       "<polyline clip-path=\"url(#clip5500)\" style=\"stroke:#000000; stroke-width:4; stroke-opacity:1; fill:none\" points=\"\n",
       "  1255.38,1503.47 1255.38,1481.63 \n",
       "  \"/>\n",
       "<polyline clip-path=\"url(#clip5500)\" style=\"stroke:#000000; stroke-width:4; stroke-opacity:1; fill:none\" points=\"\n",
       "  1758.15,1503.47 1758.15,1481.63 \n",
       "  \"/>\n",
       "<polyline clip-path=\"url(#clip5500)\" style=\"stroke:#000000; stroke-width:4; stroke-opacity:1; fill:none\" points=\"\n",
       "  2260.93,1503.47 2260.93,1481.63 \n",
       "  \"/>\n",
       "<polyline clip-path=\"url(#clip5500)\" style=\"stroke:#000000; stroke-width:4; stroke-opacity:1; fill:none\" points=\"\n",
       "  189.504,1462.27 221.48,1462.27 \n",
       "  \"/>\n",
       "<polyline clip-path=\"url(#clip5500)\" style=\"stroke:#000000; stroke-width:4; stroke-opacity:1; fill:none\" points=\"\n",
       "  189.504,1118.82 221.48,1118.82 \n",
       "  \"/>\n",
       "<polyline clip-path=\"url(#clip5500)\" style=\"stroke:#000000; stroke-width:4; stroke-opacity:1; fill:none\" points=\"\n",
       "  189.504,775.363 221.48,775.363 \n",
       "  \"/>\n",
       "<polyline clip-path=\"url(#clip5500)\" style=\"stroke:#000000; stroke-width:4; stroke-opacity:1; fill:none\" points=\"\n",
       "  189.504,431.911 221.48,431.911 \n",
       "  \"/>\n",
       "<polyline clip-path=\"url(#clip5500)\" style=\"stroke:#000000; stroke-width:4; stroke-opacity:1; fill:none\" points=\"\n",
       "  189.504,88.4582 221.48,88.4582 \n",
       "  \"/>\n",
       "<g clip-path=\"url(#clip5500)\">\n",
       "<text style=\"fill:#000000; fill-opacity:1; font-family:Arial,Helvetica Neue,Helvetica,sans-serif; font-size:48px; text-anchor:middle;\" transform=\"rotate(0, 249.837, 1557.47)\" x=\"249.837\" y=\"1557.47\">-1.0</text>\n",
       "</g>\n",
       "<g clip-path=\"url(#clip5500)\">\n",
       "<text style=\"fill:#000000; fill-opacity:1; font-family:Arial,Helvetica Neue,Helvetica,sans-serif; font-size:48px; text-anchor:middle;\" transform=\"rotate(0, 752.609, 1557.47)\" x=\"752.609\" y=\"1557.47\">-0.5</text>\n",
       "</g>\n",
       "<g clip-path=\"url(#clip5500)\">\n",
       "<text style=\"fill:#000000; fill-opacity:1; font-family:Arial,Helvetica Neue,Helvetica,sans-serif; font-size:48px; text-anchor:middle;\" transform=\"rotate(0, 1255.38, 1557.47)\" x=\"1255.38\" y=\"1557.47\">0.0</text>\n",
       "</g>\n",
       "<g clip-path=\"url(#clip5500)\">\n",
       "<text style=\"fill:#000000; fill-opacity:1; font-family:Arial,Helvetica Neue,Helvetica,sans-serif; font-size:48px; text-anchor:middle;\" transform=\"rotate(0, 1758.15, 1557.47)\" x=\"1758.15\" y=\"1557.47\">0.5</text>\n",
       "</g>\n",
       "<g clip-path=\"url(#clip5500)\">\n",
       "<text style=\"fill:#000000; fill-opacity:1; font-family:Arial,Helvetica Neue,Helvetica,sans-serif; font-size:48px; text-anchor:middle;\" transform=\"rotate(0, 2260.93, 1557.47)\" x=\"2260.93\" y=\"1557.47\">1.0</text>\n",
       "</g>\n",
       "<g clip-path=\"url(#clip5500)\">\n",
       "<text style=\"fill:#000000; fill-opacity:1; font-family:Arial,Helvetica Neue,Helvetica,sans-serif; font-size:48px; text-anchor:end;\" transform=\"rotate(0, 165.504, 1479.77)\" x=\"165.504\" y=\"1479.77\">-1.0</text>\n",
       "</g>\n",
       "<g clip-path=\"url(#clip5500)\">\n",
       "<text style=\"fill:#000000; fill-opacity:1; font-family:Arial,Helvetica Neue,Helvetica,sans-serif; font-size:48px; text-anchor:end;\" transform=\"rotate(0, 165.504, 1136.32)\" x=\"165.504\" y=\"1136.32\">-0.5</text>\n",
       "</g>\n",
       "<g clip-path=\"url(#clip5500)\">\n",
       "<text style=\"fill:#000000; fill-opacity:1; font-family:Arial,Helvetica Neue,Helvetica,sans-serif; font-size:48px; text-anchor:end;\" transform=\"rotate(0, 165.504, 792.863)\" x=\"165.504\" y=\"792.863\">0.0</text>\n",
       "</g>\n",
       "<g clip-path=\"url(#clip5500)\">\n",
       "<text style=\"fill:#000000; fill-opacity:1; font-family:Arial,Helvetica Neue,Helvetica,sans-serif; font-size:48px; text-anchor:end;\" transform=\"rotate(0, 165.504, 449.411)\" x=\"165.504\" y=\"449.411\">0.5</text>\n",
       "</g>\n",
       "<g clip-path=\"url(#clip5500)\">\n",
       "<text style=\"fill:#000000; fill-opacity:1; font-family:Arial,Helvetica Neue,Helvetica,sans-serif; font-size:48px; text-anchor:end;\" transform=\"rotate(0, 165.504, 105.958)\" x=\"165.504\" y=\"105.958\">1.0</text>\n",
       "</g>\n",
       "<polyline clip-path=\"url(#clip5502)\" style=\"stroke:#009af9; stroke-width:4; stroke-opacity:1; fill:none\" points=\"\n",
       "  249.837,88.4582 256.563,1456.23 263.289,1077.08 270.015,443.004 276.741,110.708 283.467,159.887 290.193,468.615 296.919,866.996 303.645,1212.69 310.371,1418.91 \n",
       "  317.097,1455.67 323.823,1337.87 330.549,1109.03 337.276,825.241 344.002,542.285 350.728,306.612 357.454,150.267 364.18,89.204 370.906,124.169 377.632,243.336 \n",
       "  384.358,425.884 391.084,645.881 397.81,875.97 404.536,1090.52 411.262,1268.02 417.988,1392.7 424.714,1455.3 431.44,1453.12 438.166,1389.55 444.892,1273.06 \n",
       "  451.618,1115.94 458.345,932.93 465.071,739.796 471.797,552.009 478.523,383.618 485.249,246.35 491.975,148.974 498.701,96.9364 505.427,92.2617 512.153,133.687 \n",
       "  518.879,216.993 525.605,335.498 532.331,480.642 539.057,642.653 545.783,811.206 552.509,976.073 559.235,1127.71 565.961,1257.75 572.687,1359.4 579.414,1427.73 \n",
       "  586.14,1459.82 592.866,1454.8 599.592,1413.8 606.318,1339.78 613.044,1237.26 619.77,1112.04 626.496,970.855 633.222,820.983 639.948,669.877 646.674,524.806 \n",
       "  653.4,392.522 660.126,278.97 666.852,189.055 673.578,126.457 680.304,93.5272 687.03,91.2289 693.756,119.155 700.482,175.598 707.209,257.668 713.935,361.464 \n",
       "  720.661,482.267 727.387,614.767 734.113,753.303 740.839,892.1 747.565,1025.51 754.291,1148.22 761.017,1255.48 767.743,1343.23 774.469,1408.28 781.195,1448.37 \n",
       "  787.921,1462.26 794.647,1449.73 801.373,1411.56 808.099,1349.49 814.825,1266.1 821.551,1164.73 828.278,1049.32 835.004,924.232 841.73,794.136 848.456,663.785 \n",
       "  855.182,537.867 861.908,420.839 868.634,316.773 875.36,229.223 882.086,161.115 888.812,114.655 895.538,91.2731 902.264,91.5837 908.99,115.386 915.716,161.682 \n",
       "  922.442,228.729 929.168,314.105 935.894,414.807 942.62,527.355 949.347,647.919 956.073,772.448 962.799,896.805 969.525,1016.9 976.251,1128.84 982.977,1229.01 \n",
       "  989.703,1314.23 996.429,1381.84 1003.15,1429.74 1009.88,1456.52 1016.61,1461.42 1023.33,1444.4 1030.06,1406.1 1036.79,1347.85 1043.51,1271.57 1050.24,1179.75 \n",
       "  1056.96,1075.34 1063.69,961.663 1070.42,842.305 1077.14,721.01 1083.87,601.552 1090.59,487.631 1097.32,382.752 1104.05,290.123 1110.77,212.559 1117.5,152.399 \n",
       "  1124.22,111.44 1130.95,90.884 1137.68,91.3079 1144.4,112.647 1151.13,154.203 1157.85,214.668 1164.58,292.164 1171.31,384.306 1178.03,488.275 1184.76,600.902 \n",
       "  1191.48,718.764 1198.21,838.29 1204.94,955.867 1211.66,1067.95 1218.39,1171.15 1225.11,1262.37 1231.84,1338.87 1238.57,1398.35 1245.29,1439.03 1252.02,1459.67 \n",
       "  1258.75,1459.67 1265.47,1439.03 1272.2,1398.35 1278.92,1338.87 1285.65,1262.37 1292.38,1171.15 1299.1,1067.95 1305.83,955.867 1312.55,838.29 1319.28,718.764 \n",
       "  1326.01,600.902 1332.73,488.275 1339.46,384.306 1346.18,292.164 1352.91,214.668 1359.64,154.203 1366.36,112.647 1373.09,91.3079 1379.81,90.884 1386.54,111.44 \n",
       "  1393.27,152.399 1399.99,212.559 1406.72,290.123 1413.44,382.752 1420.17,487.631 1426.9,601.552 1433.62,721.01 1440.35,842.305 1447.07,961.663 1453.8,1075.34 \n",
       "  1460.53,1179.75 1467.25,1271.57 1473.98,1347.85 1480.7,1406.1 1487.43,1444.4 1494.16,1461.42 1500.88,1456.52 1507.61,1429.74 1514.34,1381.84 1521.06,1314.23 \n",
       "  1527.79,1229.01 1534.51,1128.84 1541.24,1016.9 1547.97,896.805 1554.69,772.448 1561.42,647.919 1568.14,527.355 1574.87,414.807 1581.6,314.105 1588.32,228.729 \n",
       "  1595.05,161.682 1601.77,115.386 1608.5,91.5837 1615.23,91.2731 1621.95,114.655 1628.68,161.115 1635.4,229.223 1642.13,316.773 1648.86,420.839 1655.58,537.867 \n",
       "  1662.31,663.785 1669.03,794.136 1675.76,924.232 1682.49,1049.32 1689.21,1164.73 1695.94,1266.1 1702.66,1349.49 1709.39,1411.56 1716.12,1449.73 1722.84,1462.26 \n",
       "  1729.57,1448.37 1736.29,1408.28 1743.02,1343.23 1749.75,1255.48 1756.47,1148.22 1763.2,1025.51 1769.93,892.1 1776.65,753.303 1783.38,614.767 1790.1,482.267 \n",
       "  1796.83,361.464 1803.56,257.668 1810.28,175.598 1817.01,119.155 1823.73,91.2289 1830.46,93.5272 1837.19,126.457 1843.91,189.055 1850.64,278.97 1857.36,392.522 \n",
       "  1864.09,524.806 1870.82,669.877 1877.54,820.983 1884.27,970.855 1890.99,1112.04 1897.72,1237.26 1904.45,1339.78 1911.17,1413.8 1917.9,1454.8 1924.62,1459.82 \n",
       "  1931.35,1427.73 1938.08,1359.4 1944.8,1257.75 1951.53,1127.71 1958.25,976.073 1964.98,811.206 1971.71,642.653 1978.43,480.642 1985.16,335.498 1991.88,216.993 \n",
       "  1998.61,133.687 2005.34,92.2617 2012.06,96.9364 2018.79,148.974 2025.52,246.35 2032.24,383.618 2038.97,552.009 2045.69,739.796 2052.42,932.93 2059.15,1115.94 \n",
       "  2065.87,1273.06 2072.6,1389.55 2079.32,1453.12 2086.05,1455.3 2092.78,1392.7 2099.5,1268.02 2106.23,1090.52 2112.95,875.97 2119.68,645.881 2126.41,425.884 \n",
       "  2133.13,243.336 2139.86,124.169 2146.58,89.204 2153.31,150.267 2160.04,306.612 2166.76,542.285 2173.49,825.241 2180.21,1109.03 2186.94,1337.87 2193.67,1455.67 \n",
       "  2200.39,1418.91 2207.12,1212.69 2213.84,866.996 2220.57,468.615 2227.3,159.887 2234.02,110.708 2240.75,443.004 2247.48,1077.08 2254.2,1456.23 2260.93,88.4582 \n",
       "  \n",
       "  \"/>\n",
       "<polygon clip-path=\"url(#clip5500)\" points=\"\n",
       "1958.43,251.724 2249.26,251.724 2249.26,130.764 1958.43,130.764 \n",
       "  \" fill=\"#ffffff\" fill-rule=\"evenodd\" fill-opacity=\"1\"/>\n",
       "<polyline clip-path=\"url(#clip5500)\" style=\"stroke:#000000; stroke-width:4; stroke-opacity:1; fill:none\" points=\"\n",
       "  1958.43,251.724 2249.26,251.724 2249.26,130.764 1958.43,130.764 1958.43,251.724 \n",
       "  \"/>\n",
       "<polyline clip-path=\"url(#clip5500)\" style=\"stroke:#009af9; stroke-width:4; stroke-opacity:1; fill:none\" points=\"\n",
       "  1982.43,191.244 2126.43,191.244 \n",
       "  \"/>\n",
       "<g clip-path=\"url(#clip5500)\">\n",
       "<text style=\"fill:#000000; fill-opacity:1; font-family:Arial,Helvetica Neue,Helvetica,sans-serif; font-size:48px; text-anchor:start;\" transform=\"rotate(0, 2150.43, 208.744)\" x=\"2150.43\" y=\"208.744\">y1</text>\n",
       "</g>\n",
       "</svg>\n"
      ]
     },
     "execution_count": 27,
     "metadata": {},
     "output_type": "execute_result"
    }
   ],
   "source": [
    "xx=range(-1,stop=1,length=300)\n",
    "# Probajte razne vrijednosti k od 1 do 50\n",
    "k=27\n",
    "yy=polyval(T[k],xx)\n",
    "plot(xx,yy)"
   ]
  },
  {
   "cell_type": "markdown",
   "metadata": {
    "collapsed": true
   },
   "source": [
    "## Promjena intervala\n",
    "\n",
    "Ortogonalni sustav funkcija $\\Phi_i$ na intervalu $[-1,1]$ pomoću transformacije \n",
    "\n",
    "$$\n",
    "\\gamma :[a,b]\\to [-1,1],\\quad \\gamma(x)=\\frac{2x}{b-a}-\\frac{a+b}{b-a}\n",
    "$$\n",
    "\n",
    "prelazi u ortogonalni sustav funkcija na intervalu $[a,b]$\n",
    "\n",
    "$$\n",
    "\\Psi_i(x)=\\Phi_i(\\gamma(x)).\n",
    "$$"
   ]
  },
  {
   "cell_type": "code",
   "execution_count": 28,
   "metadata": {},
   "outputs": [
    {
     "data": {
      "image/svg+xml": [
       "<?xml version=\"1.0\" encoding=\"utf-8\"?>\n",
       "<svg xmlns=\"http://www.w3.org/2000/svg\" xmlns:xlink=\"http://www.w3.org/1999/xlink\" width=\"600\" height=\"400\" viewBox=\"0 0 2400 1600\">\n",
       "<defs>\n",
       "  <clipPath id=\"clip5900\">\n",
       "    <rect x=\"0\" y=\"0\" width=\"2400\" height=\"1600\"/>\n",
       "  </clipPath>\n",
       "</defs>\n",
       "<polygon clip-path=\"url(#clip5900)\" points=\"\n",
       "0,1600 2400,1600 2400,0 0,0 \n",
       "  \" fill=\"#ffffff\" fill-rule=\"evenodd\" fill-opacity=\"1\"/>\n",
       "<defs>\n",
       "  <clipPath id=\"clip5901\">\n",
       "    <rect x=\"480\" y=\"0\" width=\"1681\" height=\"1600\"/>\n",
       "  </clipPath>\n",
       "</defs>\n",
       "<polygon clip-path=\"url(#clip5900)\" points=\"\n",
       "189.504,1503.47 2321.26,1503.47 2321.26,47.2441 189.504,47.2441 \n",
       "  \" fill=\"#ffffff\" fill-rule=\"evenodd\" fill-opacity=\"1\"/>\n",
       "<defs>\n",
       "  <clipPath id=\"clip5902\">\n",
       "    <rect x=\"189\" y=\"47\" width=\"2133\" height=\"1457\"/>\n",
       "  </clipPath>\n",
       "</defs>\n",
       "<polyline clip-path=\"url(#clip5902)\" style=\"stroke:#000000; stroke-width:2; stroke-opacity:0.1; fill:none\" points=\"\n",
       "  249.837,1503.47 249.837,47.2441 \n",
       "  \"/>\n",
       "<polyline clip-path=\"url(#clip5902)\" style=\"stroke:#000000; stroke-width:2; stroke-opacity:0.1; fill:none\" points=\"\n",
       "  920.2,1503.47 920.2,47.2441 \n",
       "  \"/>\n",
       "<polyline clip-path=\"url(#clip5902)\" style=\"stroke:#000000; stroke-width:2; stroke-opacity:0.1; fill:none\" points=\"\n",
       "  1590.56,1503.47 1590.56,47.2441 \n",
       "  \"/>\n",
       "<polyline clip-path=\"url(#clip5902)\" style=\"stroke:#000000; stroke-width:2; stroke-opacity:0.1; fill:none\" points=\"\n",
       "  2260.93,1503.47 2260.93,47.2441 \n",
       "  \"/>\n",
       "<polyline clip-path=\"url(#clip5902)\" style=\"stroke:#000000; stroke-width:2; stroke-opacity:0.1; fill:none\" points=\"\n",
       "  189.504,1462.72 2321.26,1462.72 \n",
       "  \"/>\n",
       "<polyline clip-path=\"url(#clip5902)\" style=\"stroke:#000000; stroke-width:2; stroke-opacity:0.1; fill:none\" points=\"\n",
       "  189.504,1119.15 2321.26,1119.15 \n",
       "  \"/>\n",
       "<polyline clip-path=\"url(#clip5902)\" style=\"stroke:#000000; stroke-width:2; stroke-opacity:0.1; fill:none\" points=\"\n",
       "  189.504,775.588 2321.26,775.588 \n",
       "  \"/>\n",
       "<polyline clip-path=\"url(#clip5902)\" style=\"stroke:#000000; stroke-width:2; stroke-opacity:0.1; fill:none\" points=\"\n",
       "  189.504,432.023 2321.26,432.023 \n",
       "  \"/>\n",
       "<polyline clip-path=\"url(#clip5902)\" style=\"stroke:#000000; stroke-width:2; stroke-opacity:0.1; fill:none\" points=\"\n",
       "  189.504,88.4582 2321.26,88.4582 \n",
       "  \"/>\n",
       "<polyline clip-path=\"url(#clip5900)\" style=\"stroke:#000000; stroke-width:4; stroke-opacity:1; fill:none\" points=\"\n",
       "  189.504,1503.47 2321.26,1503.47 \n",
       "  \"/>\n",
       "<polyline clip-path=\"url(#clip5900)\" style=\"stroke:#000000; stroke-width:4; stroke-opacity:1; fill:none\" points=\"\n",
       "  189.504,1503.47 189.504,47.2441 \n",
       "  \"/>\n",
       "<polyline clip-path=\"url(#clip5900)\" style=\"stroke:#000000; stroke-width:4; stroke-opacity:1; fill:none\" points=\"\n",
       "  249.837,1503.47 249.837,1481.63 \n",
       "  \"/>\n",
       "<polyline clip-path=\"url(#clip5900)\" style=\"stroke:#000000; stroke-width:4; stroke-opacity:1; fill:none\" points=\"\n",
       "  920.2,1503.47 920.2,1481.63 \n",
       "  \"/>\n",
       "<polyline clip-path=\"url(#clip5900)\" style=\"stroke:#000000; stroke-width:4; stroke-opacity:1; fill:none\" points=\"\n",
       "  1590.56,1503.47 1590.56,1481.63 \n",
       "  \"/>\n",
       "<polyline clip-path=\"url(#clip5900)\" style=\"stroke:#000000; stroke-width:4; stroke-opacity:1; fill:none\" points=\"\n",
       "  2260.93,1503.47 2260.93,1481.63 \n",
       "  \"/>\n",
       "<polyline clip-path=\"url(#clip5900)\" style=\"stroke:#000000; stroke-width:4; stroke-opacity:1; fill:none\" points=\"\n",
       "  189.504,1462.72 221.48,1462.72 \n",
       "  \"/>\n",
       "<polyline clip-path=\"url(#clip5900)\" style=\"stroke:#000000; stroke-width:4; stroke-opacity:1; fill:none\" points=\"\n",
       "  189.504,1119.15 221.48,1119.15 \n",
       "  \"/>\n",
       "<polyline clip-path=\"url(#clip5900)\" style=\"stroke:#000000; stroke-width:4; stroke-opacity:1; fill:none\" points=\"\n",
       "  189.504,775.588 221.48,775.588 \n",
       "  \"/>\n",
       "<polyline clip-path=\"url(#clip5900)\" style=\"stroke:#000000; stroke-width:4; stroke-opacity:1; fill:none\" points=\"\n",
       "  189.504,432.023 221.48,432.023 \n",
       "  \"/>\n",
       "<polyline clip-path=\"url(#clip5900)\" style=\"stroke:#000000; stroke-width:4; stroke-opacity:1; fill:none\" points=\"\n",
       "  189.504,88.4582 221.48,88.4582 \n",
       "  \"/>\n",
       "<g clip-path=\"url(#clip5900)\">\n",
       "<text style=\"fill:#000000; fill-opacity:1; font-family:Arial,Helvetica Neue,Helvetica,sans-serif; font-size:48px; text-anchor:middle;\" transform=\"rotate(0, 249.837, 1557.47)\" x=\"249.837\" y=\"1557.47\">1</text>\n",
       "</g>\n",
       "<g clip-path=\"url(#clip5900)\">\n",
       "<text style=\"fill:#000000; fill-opacity:1; font-family:Arial,Helvetica Neue,Helvetica,sans-serif; font-size:48px; text-anchor:middle;\" transform=\"rotate(0, 920.2, 1557.47)\" x=\"920.2\" y=\"1557.47\">2</text>\n",
       "</g>\n",
       "<g clip-path=\"url(#clip5900)\">\n",
       "<text style=\"fill:#000000; fill-opacity:1; font-family:Arial,Helvetica Neue,Helvetica,sans-serif; font-size:48px; text-anchor:middle;\" transform=\"rotate(0, 1590.56, 1557.47)\" x=\"1590.56\" y=\"1557.47\">3</text>\n",
       "</g>\n",
       "<g clip-path=\"url(#clip5900)\">\n",
       "<text style=\"fill:#000000; fill-opacity:1; font-family:Arial,Helvetica Neue,Helvetica,sans-serif; font-size:48px; text-anchor:middle;\" transform=\"rotate(0, 2260.93, 1557.47)\" x=\"2260.93\" y=\"1557.47\">4</text>\n",
       "</g>\n",
       "<g clip-path=\"url(#clip5900)\">\n",
       "<text style=\"fill:#000000; fill-opacity:1; font-family:Arial,Helvetica Neue,Helvetica,sans-serif; font-size:48px; text-anchor:end;\" transform=\"rotate(0, 165.504, 1480.22)\" x=\"165.504\" y=\"1480.22\">-1.0</text>\n",
       "</g>\n",
       "<g clip-path=\"url(#clip5900)\">\n",
       "<text style=\"fill:#000000; fill-opacity:1; font-family:Arial,Helvetica Neue,Helvetica,sans-serif; font-size:48px; text-anchor:end;\" transform=\"rotate(0, 165.504, 1136.65)\" x=\"165.504\" y=\"1136.65\">-0.5</text>\n",
       "</g>\n",
       "<g clip-path=\"url(#clip5900)\">\n",
       "<text style=\"fill:#000000; fill-opacity:1; font-family:Arial,Helvetica Neue,Helvetica,sans-serif; font-size:48px; text-anchor:end;\" transform=\"rotate(0, 165.504, 793.088)\" x=\"165.504\" y=\"793.088\">0.0</text>\n",
       "</g>\n",
       "<g clip-path=\"url(#clip5900)\">\n",
       "<text style=\"fill:#000000; fill-opacity:1; font-family:Arial,Helvetica Neue,Helvetica,sans-serif; font-size:48px; text-anchor:end;\" transform=\"rotate(0, 165.504, 449.523)\" x=\"165.504\" y=\"449.523\">0.5</text>\n",
       "</g>\n",
       "<g clip-path=\"url(#clip5900)\">\n",
       "<text style=\"fill:#000000; fill-opacity:1; font-family:Arial,Helvetica Neue,Helvetica,sans-serif; font-size:48px; text-anchor:end;\" transform=\"rotate(0, 165.504, 105.958)\" x=\"165.504\" y=\"105.958\">1.0</text>\n",
       "</g>\n",
       "<polyline clip-path=\"url(#clip5902)\" style=\"stroke:#009af9; stroke-width:4; stroke-opacity:1; fill:none\" points=\"\n",
       "  249.837,88.4582 256.563,966.037 263.289,1371.38 270.015,1461.08 276.741,1354.85 283.467,1142.14 290.193,887.803 296.919,636.944 303.645,419.046 310.371,251.428 \n",
       "  317.097,142.146 323.823,92.3984 330.549,98.5012 337.276,153.496 344.002,248.435 350.728,373.391 357.454,518.238 364.18,673.237 370.906,829.454 377.632,979.044 \n",
       "  384.358,1115.42 391.084,1233.36 397.81,1328.97 404.536,1399.69 411.262,1444.18 417.988,1462.23 424.714,1454.59 431.44,1422.88 438.166,1369.36 444.892,1296.85 \n",
       "  451.618,1208.57 458.345,1107.98 465.071,998.646 471.797,884.169 478.523,768.049 485.249,653.606 491.975,543.912 498.701,441.727 505.427,349.46 512.153,269.131 \n",
       "  518.879,202.358 525.605,150.345 532.331,113.885 539.057,93.3704 545.783,88.8127 552.509,99.8661 559.235,125.859 565.961,165.828 572.687,218.555 579.414,282.61 \n",
       "  586.14,356.388 592.866,438.155 599.592,526.084 606.318,618.299 613.044,712.91 619.77,808.052 626.496,901.915 633.222,992.773 639.948,1079.02 646.674,1159.17 \n",
       "  653.4,1231.91 660.126,1296.1 666.852,1350.76 673.578,1395.11 680.304,1428.59 687.03,1450.82 693.756,1461.6 700.482,1460.95 707.209,1449.06 713.935,1426.3 \n",
       "  720.661,1393.2 727.387,1350.43 734.113,1298.82 740.839,1239.28 747.565,1172.84 754.291,1100.62 761.017,1023.78 767.743,943.529 774.469,861.113 781.195,777.771 \n",
       "  787.921,694.733 794.647,613.2 801.373,534.327 808.099,459.212 814.825,388.879 821.551,324.264 828.278,266.209 835.004,215.454 841.73,172.622 848.456,138.221 \n",
       "  855.182,112.637 861.908,96.132 868.634,88.8431 875.36,90.7837 882.086,101.846 888.812,121.805 895.538,150.322 902.264,186.956 908.99,231.164 915.716,282.316 \n",
       "  922.442,339.701 929.168,402.539 935.894,469.989 942.62,541.166 949.347,615.147 956.073,690.982 962.799,767.715 969.525,844.383 976.251,920.038 982.977,993.752 \n",
       "  989.703,1064.63 996.429,1131.82 1003.15,1194.53 1009.88,1252.02 1016.61,1303.61 1023.33,1348.72 1030.06,1386.84 1036.79,1417.53 1043.51,1440.48 1050.24,1455.44 \n",
       "  1056.96,1462.26 1063.69,1460.91 1070.42,1451.42 1077.14,1433.95 1083.87,1408.72 1090.59,1376.07 1097.32,1336.39 1104.05,1290.19 1110.77,1238 1117.5,1180.47 \n",
       "  1124.22,1118.27 1130.95,1052.14 1137.68,982.857 1144.4,911.22 1151.13,838.066 1157.85,764.241 1164.58,690.595 1171.31,617.974 1178.03,547.21 1184.76,479.11 \n",
       "  1191.48,414.451 1198.21,353.968 1204.94,298.347 1211.66,248.219 1218.39,204.151 1225.11,166.641 1231.84,136.112 1238.57,112.909 1245.29,97.2937 1252.02,89.4417 \n",
       "  1258.75,89.4417 1265.47,97.2937 1272.2,112.909 1278.92,136.112 1285.65,166.641 1292.38,204.151 1299.1,248.219 1305.83,298.347 1312.55,353.968 1319.28,414.451 \n",
       "  1326.01,479.11 1332.73,547.21 1339.46,617.974 1346.18,690.595 1352.91,764.241 1359.64,838.066 1366.36,911.22 1373.09,982.857 1379.81,1052.14 1386.54,1118.27 \n",
       "  1393.27,1180.47 1399.99,1238 1406.72,1290.19 1413.44,1336.39 1420.17,1376.07 1426.9,1408.72 1433.62,1433.95 1440.35,1451.42 1447.07,1460.91 1453.8,1462.26 \n",
       "  1460.53,1455.44 1467.25,1440.48 1473.98,1417.53 1480.7,1386.84 1487.43,1348.72 1494.16,1303.61 1500.88,1252.02 1507.61,1194.53 1514.34,1131.82 1521.06,1064.63 \n",
       "  1527.79,993.752 1534.51,920.038 1541.24,844.383 1547.97,767.715 1554.69,690.982 1561.42,615.147 1568.14,541.166 1574.87,469.989 1581.6,402.539 1588.32,339.701 \n",
       "  1595.05,282.316 1601.77,231.164 1608.5,186.956 1615.23,150.322 1621.95,121.805 1628.68,101.846 1635.4,90.7837 1642.13,88.8431 1648.86,96.132 1655.58,112.637 \n",
       "  1662.31,138.221 1669.03,172.622 1675.76,215.454 1682.49,266.209 1689.21,324.264 1695.94,388.879 1702.66,459.212 1709.39,534.327 1716.12,613.2 1722.84,694.733 \n",
       "  1729.57,777.771 1736.29,861.113 1743.02,943.529 1749.75,1023.78 1756.47,1100.62 1763.2,1172.84 1769.93,1239.28 1776.65,1298.82 1783.38,1350.43 1790.1,1393.2 \n",
       "  1796.83,1426.3 1803.56,1449.06 1810.28,1460.95 1817.01,1461.6 1823.73,1450.82 1830.46,1428.59 1837.19,1395.11 1843.91,1350.76 1850.64,1296.1 1857.36,1231.91 \n",
       "  1864.09,1159.17 1870.82,1079.02 1877.54,992.773 1884.27,901.915 1890.99,808.052 1897.72,712.91 1904.45,618.299 1911.17,526.084 1917.9,438.155 1924.62,356.388 \n",
       "  1931.35,282.61 1938.08,218.555 1944.8,165.828 1951.53,125.859 1958.25,99.8661 1964.98,88.8127 1971.71,93.3704 1978.43,113.885 1985.16,150.345 1991.88,202.358 \n",
       "  1998.61,269.131 2005.34,349.46 2012.06,441.727 2018.79,543.912 2025.52,653.606 2032.24,768.049 2038.97,884.169 2045.69,998.646 2052.42,1107.98 2059.15,1208.57 \n",
       "  2065.87,1296.85 2072.6,1369.36 2079.32,1422.88 2086.05,1454.59 2092.78,1462.23 2099.5,1444.18 2106.23,1399.69 2112.95,1328.97 2119.68,1233.36 2126.41,1115.42 \n",
       "  2133.13,979.044 2139.86,829.454 2146.58,673.237 2153.31,518.238 2160.04,373.391 2166.76,248.435 2173.49,153.496 2180.21,98.5012 2186.94,92.3984 2193.67,142.146 \n",
       "  2200.39,251.428 2207.12,419.046 2213.84,636.944 2220.57,887.803 2227.3,1142.14 2234.02,1354.85 2240.75,1461.08 2247.48,1371.38 2254.2,966.037 2260.93,88.4582 \n",
       "  \n",
       "  \"/>\n",
       "<polygon clip-path=\"url(#clip5900)\" points=\"\n",
       "1958.43,251.724 2249.26,251.724 2249.26,130.764 1958.43,130.764 \n",
       "  \" fill=\"#ffffff\" fill-rule=\"evenodd\" fill-opacity=\"1\"/>\n",
       "<polyline clip-path=\"url(#clip5900)\" style=\"stroke:#000000; stroke-width:4; stroke-opacity:1; fill:none\" points=\"\n",
       "  1958.43,251.724 2249.26,251.724 2249.26,130.764 1958.43,130.764 1958.43,251.724 \n",
       "  \"/>\n",
       "<polyline clip-path=\"url(#clip5900)\" style=\"stroke:#009af9; stroke-width:4; stroke-opacity:1; fill:none\" points=\"\n",
       "  1982.43,191.244 2126.43,191.244 \n",
       "  \"/>\n",
       "<g clip-path=\"url(#clip5900)\">\n",
       "<text style=\"fill:#000000; fill-opacity:1; font-family:Arial,Helvetica Neue,Helvetica,sans-serif; font-size:48px; text-anchor:start;\" transform=\"rotate(0, 2150.43, 208.744)\" x=\"2150.43\" y=\"208.744\">y1</text>\n",
       "</g>\n",
       "</svg>\n"
      ]
     },
     "execution_count": 28,
     "metadata": {},
     "output_type": "execute_result"
    }
   ],
   "source": [
    "a=1\n",
    "b=4\n",
    "xx=collect(range(a,stop=b,length=300))\n",
    "γ=2*xx/(b-a).-(b+a)/(b-a)\n",
    "# Probajte razn vrijednosti k od 1 do 50\n",
    "k=17\n",
    "yy=polyval(T[k],γ)\n",
    "plot(xx,yy)"
   ]
  },
  {
   "cell_type": "code",
   "execution_count": null,
   "metadata": {},
   "outputs": [],
   "source": []
  }
 ],
 "metadata": {
  "kernelspec": {
   "display_name": "Julia 1.1.0",
   "language": "julia",
   "name": "julia-1.1"
  },
  "language_info": {
   "file_extension": ".jl",
   "mimetype": "application/julia",
   "name": "julia",
   "version": "1.1.0"
  }
 },
 "nbformat": 4,
 "nbformat_minor": 1
}
