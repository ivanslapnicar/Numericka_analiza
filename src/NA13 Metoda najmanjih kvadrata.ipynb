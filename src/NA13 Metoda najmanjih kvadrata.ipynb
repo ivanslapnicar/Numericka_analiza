{
 "cells": [
  {
   "cell_type": "markdown",
   "metadata": {},
   "source": [
    "# Metoda najmanjih kvadrata\n",
    "\n",
    "\n",
    "Neka je zadan sustav s više jednadžbi od nepoznanica:\n",
    "\n",
    "$$Ax=b, \\quad m>n.\n",
    "$$\n",
    "\n",
    "Ako sustav ima rješenje, tada je je $Ax-b=0$, odnosno $\\| Ax-b\\|=0$ za svaku vektorsku  normu.\n",
    "\n",
    "Ako sustav nema rješenje, tada je prirodno tražiti rješenje za koje je \n",
    "\n",
    "$$\n",
    "\\|Ax-b \\|_{1,2,\\infty}\\to \\min\n",
    "$$\n",
    "\n",
    "za odabranu vektorsku normu.\n",
    "\n",
    "Ako je $\\mathop{\\mathrm{rang}} A=n$, tada se _jedinstveno_ rješenje $x$ za koje \n",
    "\n",
    "$$\n",
    "\\|Ax-b \\|_{2}\\to \\min\n",
    "$$\n",
    "\n",
    "dobije rješavanjem sustava _normalnih jednadžbi_:\n",
    "\n",
    "$$\n",
    "A^T A x=A^T b. \\tag{*}\n",
    "$$\n",
    "\n",
    "_Dokaz_: Definirajmo\n",
    "\n",
    "$$\n",
    "Q(x)=\\|Ax-b\\|_2^2=(x^TA^T-b^T)(Ax-b)=x^TA^T A x -2x^T A^T b+b^Tb.\n",
    "$$\n",
    "\n",
    "Vrijedi\n",
    "\n",
    "\\begin{align*}\n",
    "Q(x+h)&=(x^T+h^T)A^TA(x+h)-2(x^T+h^T)A^Tb+b^Tb \\\\\n",
    "&=Q(x) +2h^T(A^TAx-A^Tb)+h^TA^TAh\\\\ &= Q(x)+\\|Ah\\|_2^2 \\\\\n",
    "&\\geq Q(x),\n",
    "\\end{align*}\n",
    "\n",
    "pa se minimum zaista postiže u $x$.\n",
    "\n",
    "Rješenje je jedinstveno jer $Q(x)=Q(y)$ povlači $\\|Ax\\|_2=0$ pa je ili $h=0$ ili $\\mathop{\\mathrm{rang}} A<n$ što je kontradikcija. _QED_\n",
    "\n",
    "_Geometrijsko značenje_: Vektori $Ax$ i $Ax -b$ su međusobno okomiti, \n",
    "\n",
    "$$\n",
    "(Ax)^T\\cdot (Ax - b)=x^T (A^TAx - A^Tb)=0. \n",
    "$$ \n",
    "\n",
    "Dakle, $Ax$ je ortogonalna projekcija vektora $b$ na skup $\\{Ay:\\ y \\textrm{ proizvoljan}\\}$.\n",
    "\n",
    "_Kvaliteta prilagodbe_: Rješenje $x$ zove se _kvadratična prilagodba_ \n",
    "sustavu $A x=b$ u smislu najmanjih kvadrata. Kvalitetu prilagodbe mjerimo s\n",
    "\n",
    "$$\n",
    "q=\\sqrt{\\frac{Q(x)}{Q(0)}}=\\frac{\\|A x - b\\|_2}{\\|b\\|_2 }.\n",
    "$$"
   ]
  },
  {
   "cell_type": "markdown",
   "metadata": {},
   "source": [
    "## Primjer\n",
    "\n",
    "Riješimo sustav \n",
    "\\begin{align*}\n",
    "x+y&=0\\\\\n",
    "y+z&=1\\\\\n",
    "x+z&=0\\\\\n",
    "-x+y+z&=1\\\\\n",
    "-x-z&=0\n",
    "\\end{align*}\n",
    "u smislu najmanjih kvadrata."
   ]
  },
  {
   "cell_type": "code",
   "execution_count": 1,
   "metadata": {},
   "outputs": [
    {
     "data": {
      "text/plain": [
       "5×3 Array{Rational{Int64},2}:\n",
       "  1//1  1//1   0//1\n",
       "  0//1  1//1   1//1\n",
       "  1//1  0//1   1//1\n",
       " -1//1  1//1   1//1\n",
       " -1//1  0//1  -1//1"
      ]
     },
     "execution_count": 1,
     "metadata": {},
     "output_type": "execute_result"
    }
   ],
   "source": [
    "A=[1//1 1 0;0 1 1;1 0 1;-1 1 1;-1 0 -1]"
   ]
  },
  {
   "cell_type": "code",
   "execution_count": 2,
   "metadata": {},
   "outputs": [
    {
     "data": {
      "text/plain": [
       "5-element Array{Rational{Int64},1}:\n",
       " 0//1\n",
       " 1//1\n",
       " 0//1\n",
       " 1//1\n",
       " 0//1"
      ]
     },
     "execution_count": 2,
     "metadata": {},
     "output_type": "execute_result"
    }
   ],
   "source": [
    "b=collect([0//1,1,0,1,0])"
   ]
  },
  {
   "cell_type": "code",
   "execution_count": 3,
   "metadata": {},
   "outputs": [
    {
     "data": {
      "text/plain": [
       "3-element Array{Rational{Int64},1}:\n",
       " -10//29\n",
       "  12//29\n",
       "  11//29"
      ]
     },
     "execution_count": 3,
     "metadata": {},
     "output_type": "execute_result"
    }
   ],
   "source": [
    "x=(A'*A)\\(A'*b)"
   ]
  },
  {
   "cell_type": "code",
   "execution_count": 4,
   "metadata": {},
   "outputs": [
    {
     "data": {
      "text/plain": [
       "0.430923819458906"
      ]
     },
     "execution_count": 4,
     "metadata": {},
     "output_type": "execute_result"
    }
   ],
   "source": [
    "using LinearAlgebra\n",
    "# Kvaliteta prilagodbe\n",
    "q=sqrt(norm(A*x-b)/norm(b))"
   ]
  },
  {
   "cell_type": "markdown",
   "metadata": {},
   "source": [
    "Ako je sustav predefiniran, standardna naredba odmah računa kvadratičnu prilagodbu, pri čemu se koristi QR rastav:"
   ]
  },
  {
   "cell_type": "code",
   "execution_count": 5,
   "metadata": {},
   "outputs": [
    {
     "data": {
      "text/plain": [
       "3-element Array{Float64,1}:\n",
       " -0.3448275862068966 \n",
       "  0.4137931034482762 \n",
       "  0.37931034482758635"
      ]
     },
     "execution_count": 5,
     "metadata": {},
     "output_type": "execute_result"
    }
   ],
   "source": [
    "x1=float(A)\\float(b)"
   ]
  },
  {
   "cell_type": "code",
   "execution_count": 6,
   "metadata": {},
   "outputs": [
    {
     "data": {
      "text/plain": [
       "3-element Array{Float64,1}:\n",
       " -0.3448275862068966 \n",
       "  0.41379310344827586\n",
       "  0.3793103448275862 "
      ]
     },
     "execution_count": 6,
     "metadata": {},
     "output_type": "execute_result"
    }
   ],
   "source": [
    "float(x)"
   ]
  },
  {
   "cell_type": "markdown",
   "metadata": {},
   "source": [
    "## Primjer"
   ]
  },
  {
   "cell_type": "code",
   "execution_count": 7,
   "metadata": {},
   "outputs": [],
   "source": [
    "import Random\n",
    "Random.seed!(123);\n",
    "A=rand(20,10)\n",
    "b=rand(20);"
   ]
  },
  {
   "cell_type": "code",
   "execution_count": 8,
   "metadata": {},
   "outputs": [
    {
     "data": {
      "text/plain": [
       "10-element Array{Float64,1}:\n",
       "  0.09126520276532517 \n",
       "  0.2325329372697541  \n",
       " -0.2386770736951056  \n",
       " -0.16294801609881096 \n",
       "  0.08926547724020202 \n",
       "  0.26318463398367886 \n",
       "  0.5435390650803674  \n",
       " -0.11240823390574459 \n",
       " -0.045249764335416116\n",
       " -0.01306538784642572 "
      ]
     },
     "execution_count": 8,
     "metadata": {},
     "output_type": "execute_result"
    }
   ],
   "source": [
    "x=A\\b"
   ]
  },
  {
   "cell_type": "code",
   "execution_count": 9,
   "metadata": {},
   "outputs": [
    {
     "data": {
      "text/plain": [
       "0.680981882736473"
      ]
     },
     "execution_count": 9,
     "metadata": {},
     "output_type": "execute_result"
    }
   ],
   "source": [
    "q=sqrt(norm(A*x-b)/norm(b))"
   ]
  },
  {
   "cell_type": "markdown",
   "metadata": {},
   "source": [
    "## Točnost\n",
    "\n",
    "_Osjetljivost problema najmanjih kvadarata_ dana je sljedećim ocjenama (vidi [Matrix Computations, poglavlje 5][GVL13]):\n",
    "\n",
    "Za matricu $A$ _kondiciju_ definiramo na sljedeći način:\n",
    "\n",
    "$$\n",
    "\\kappa_2(A)=\\sqrt{\\kappa(A^TA)}=\\|A\\|_2 \\|(A^TA)^{-1} A^T\\|_2.\n",
    "$$\n",
    "\n",
    "Neka su $x$ i $\\hat x$, kvadratične prilagodbe sustava $Ax=b$ i \n",
    "$(A+\\delta A)\\hat x=b+\\delta b$. _Reziduali_ su definirani s\n",
    "\n",
    "\\begin{align*}\n",
    "r&=Ax-b\\\\\n",
    "\\hat r&=(A+\\delta A)\\hat x-(b+\\delta b).\n",
    "\\end{align*}\n",
    "\n",
    "Neka je \n",
    "\n",
    "$$\n",
    "\\epsilon=\\max \\bigg\\{ \\frac{\\|\\delta A\\|_2}{\\|A\\|_2},\\frac{\\|\\delta b\\|_2}{\\|b\\|_2}\\bigg\\}\n",
    "$$\n",
    "\n",
    "i neka je \n",
    "\n",
    "$$\n",
    "q=\\frac {\\|r\\|_2}{\\|b\\|_2}\\equiv\\sin\\theta <1.\n",
    "$$\n",
    "\n",
    "Vrijedi:\n",
    "\n",
    "\\begin{align*}\n",
    "\\frac{\\|\\hat x-x\\|_2}{\\|x\\|_2}&\\leq \\epsilon \\bigg[\\frac{2\\,\\kappa_2(A)}{\\cos \\theta} +\\tan\\theta \\,\\kappa_2^2(A)\\bigg]+O(\\epsilon^2),\\\\\n",
    "\\frac{\\|\\hat r-r\\|_2}{\\|b\\|_2}&\\leq \\epsilon\\,[1+ 2\\,\\kappa_2(A)](m-n)+O(\\epsilon^2).\n",
    "\\end{align*}\n",
    "\n",
    "Vidimo da je rezidual manje osjetljiv od samog mjesta na kojem se postiže.\n",
    "\n",
    "[GVL13]: https://books.google.hr/books?id=X5YfsuCWpxMC&printsec=frontcover&hl=hr#v=onepage&q&f=false \"G. Golub and C. F Van Loan, 'Matrix Computations', 4th Edition, John Hopkins, Baltimore, 2013\""
   ]
  },
  {
   "cell_type": "code",
   "execution_count": 10,
   "metadata": {},
   "outputs": [
    {
     "data": {
      "text/plain": [
       "17.551938062895363"
      ]
     },
     "execution_count": 10,
     "metadata": {},
     "output_type": "execute_result"
    }
   ],
   "source": [
    "cond(A)"
   ]
  },
  {
   "cell_type": "code",
   "execution_count": 11,
   "metadata": {},
   "outputs": [
    {
     "data": {
      "text/plain": [
       "20×10 Array{Float64,2}:\n",
       "  3.70804e-5  -1.46483e-5   3.78108e-5  …  -3.40051e-6   2.97237e-7\n",
       " -2.92476e-5  -3.01169e-5  -7.11582e-7     -3.10979e-5  -7.3709e-6 \n",
       " -3.62478e-5  -4.62203e-5  -2.18e-5         3.34273e-5   1.22474e-5\n",
       " -1.4055e-5   -2.2101e-5    2.47534e-5     -3.17975e-5  -2.09256e-5\n",
       "  9.99739e-6  -3.74349e-5   4.32239e-5     -2.72284e-5  -4.57705e-5\n",
       " -1.5921e-5   -4.15485e-5   4.53109e-6  …  -1.20715e-5   1.95729e-5\n",
       "  1.56878e-5  -3.85177e-6   2.79167e-6     -3.39768e-5  -4.07255e-6\n",
       " -2.53126e-5   2.53036e-5  -8.00883e-6     -5.53739e-6  -1.31477e-5\n",
       "  2.30285e-5   2.34625e-5  -1.08889e-5      3.90731e-6  -2.69901e-5\n",
       "  2.9528e-5   -1.62549e-6   4.34735e-5     -4.67067e-5   3.4356e-5 \n",
       "  4.91776e-6  -1.25858e-5   2.52665e-5  …   1.57212e-5  -3.02322e-5\n",
       " -6.00838e-6  -1.4645e-5   -3.7536e-5       1.70556e-5   3.07931e-5\n",
       " -3.54482e-5  -4.57917e-5   4.34059e-5     -2.36215e-5  -7.05426e-6\n",
       "  1.69838e-6  -3.42984e-5   4.95414e-5     -1.88728e-5  -3.29889e-5\n",
       "  4.96909e-5   4.42417e-5  -1.32862e-6     -3.70811e-5   2.87517e-5\n",
       "  3.80923e-5   3.61648e-5   6.22363e-6  …  -3.25223e-5   1.18442e-5\n",
       " -4.28172e-5   1.33864e-5   3.72266e-5      2.20163e-5   3.23573e-5\n",
       " -4.69022e-6   1.68004e-5   3.71808e-5     -4.6524e-6    5.6063e-6 \n",
       " -2.18221e-5  -8.96464e-6  -2.35e-5         8.03785e-6   1.71421e-5\n",
       " -4.7337e-5    3.4914e-5    3.55016e-5      4.07858e-5   4.00353e-5"
      ]
     },
     "execution_count": 11,
     "metadata": {},
     "output_type": "execute_result"
    }
   ],
   "source": [
    "δA=1e-4*(rand(20,10).-0.5)"
   ]
  },
  {
   "cell_type": "code",
   "execution_count": 12,
   "metadata": {},
   "outputs": [
    {
     "data": {
      "text/plain": [
       "10-element Array{Float64,1}:\n",
       "  0.09124152035466926 \n",
       "  0.23255326896117623 \n",
       " -0.23868978883842978 \n",
       " -0.16295402718226257 \n",
       "  0.08928215497482134 \n",
       "  0.2631596591254607  \n",
       "  0.5434960758646433  \n",
       " -0.11242053952020317 \n",
       " -0.045216901317028727\n",
       " -0.012995050999963615"
      ]
     },
     "execution_count": 12,
     "metadata": {},
     "output_type": "execute_result"
    }
   ],
   "source": [
    "x1=(A+δA)\\b"
   ]
  },
  {
   "cell_type": "code",
   "execution_count": 13,
   "metadata": {},
   "outputs": [
    {
     "data": {
      "text/plain": [
       "20-element Array{Float64,1}:\n",
       "  0.2803107040893481   \n",
       " -0.0017144735606669792\n",
       "  0.03004676820080554  \n",
       "  0.15179286006350468  \n",
       "  0.1353865009669706   \n",
       " -0.17325632694031812  \n",
       "  0.23916745374473725  \n",
       "  0.4051146670932987   \n",
       " -0.0632610007767091   \n",
       " -0.03770546855670226  \n",
       " -0.33426093733658285  \n",
       " -0.05250034421081995  \n",
       "  0.16806160830261396  \n",
       " -0.024255067059543056 \n",
       " -0.20720391104453117  \n",
       " -0.21422109905026326  \n",
       " -0.09908169394354904  \n",
       "  0.10596216301245173  \n",
       " -0.27006014566494485  \n",
       " -0.4573228908867511   "
      ]
     },
     "execution_count": 13,
     "metadata": {},
     "output_type": "execute_result"
    }
   ],
   "source": [
    "r=A*x-b\n",
    "r1=(A+δA)*x-b"
   ]
  },
  {
   "cell_type": "code",
   "execution_count": 14,
   "metadata": {},
   "outputs": [
    {
     "data": {
      "text/plain": [
       "(0.0001376041299271895, 4.6690121366237984e-5)"
      ]
     },
     "execution_count": 14,
     "metadata": {},
     "output_type": "execute_result"
    }
   ],
   "source": [
    "norm(x1-x)/norm(x), norm(r1-r)/norm(b)"
   ]
  },
  {
   "cell_type": "markdown",
   "metadata": {},
   "source": [
    "__Napomena__: Ako je $\\mathop{\\mathrm{rang}}A =n$, matrica $A^TA$ je simetrična i pozitivno definitna pa se sustav (*) može riješiti metodom Choleskog.\n",
    "\n",
    "Za izračunato rješenje $\\hat x$ vrijedi\n",
    "\n",
    "$$\n",
    "(A^TA +E)\\hat x=A^Tb,\n",
    "$$\n",
    "\n",
    "gdje je \n",
    "\n",
    "$$ \n",
    "\\|A\\|_2\\approx \\varepsilon \\| A^TA\\|_2,\n",
    "$$\n",
    "\n",
    "pa za relativnu pogrešku vrijedi ocjena\n",
    "\n",
    "$$\n",
    "\\frac{\\|\\hat x -x\\|_2}{\\|x\\|_2}\\approx \\varepsilon \\kappa_2(A^TA) =\\varepsilon \\kappa^2_2(A).\n",
    "$$\n",
    "\n",
    "\n",
    "Dakle, relativna pogreška rješenja dobivenog pomoću metode normalnih jednadžbi ovisi o _kvadratu kondicije_ pa je bolje koristiti QR rastav."
   ]
  },
  {
   "cell_type": "code",
   "execution_count": null,
   "metadata": {},
   "outputs": [],
   "source": []
  }
 ],
 "metadata": {
  "@webio": {
   "lastCommId": "7cb74e938a9c4239894bad1a99dc8164",
   "lastKernelId": "4755204b-e54c-4467-b40e-b410a691a64d"
  },
  "anaconda-cloud": {},
  "kernelspec": {
   "display_name": "Julia 1.0.2",
   "language": "julia",
   "name": "julia-1.0"
  },
  "language_info": {
   "file_extension": ".jl",
   "mimetype": "application/julia",
   "name": "julia",
   "version": "1.0.2"
  }
 },
 "nbformat": 4,
 "nbformat_minor": 1
}
