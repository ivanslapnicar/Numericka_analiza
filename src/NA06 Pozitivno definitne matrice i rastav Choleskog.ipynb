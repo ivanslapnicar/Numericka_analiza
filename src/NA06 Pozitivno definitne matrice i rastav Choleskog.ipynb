{
 "cells": [
  {
   "cell_type": "markdown",
   "metadata": {},
   "source": [
    "# Pozitivno definitne matrice i rastav Choleskog\n",
    "\n",
    "\n",
    "Matrica $A$ je _pozitivno definitna_ ako je simetrična i ako su sve njene svojstvene vrijednosti pozitivne.\n",
    "\n",
    "Pozitivno definitnu matricu možemo rastaviti (bez pivotiranja) kao\n",
    "\n",
    "$$\n",
    "A=L L^T\n",
    "$$\n",
    "pri čemu je $L$ donje trokutasta matrica s pozitivnim dijagonalnim elementima. Taj rastav se zove\n",
    "_rastav Choleskog_ (vidi [Numerička matematika, poglavlje 3.6][RS04]).\n",
    "\n",
    "[RS04]: http://www.mathos.unios.hr/pim/Materijali/Num.pdf \"R. Scitovski, 'Numerička matematika', Sveučilište u Osijeku, Osijek, 2004.\""
   ]
  },
  {
   "cell_type": "code",
   "execution_count": 1,
   "metadata": {},
   "outputs": [
    {
     "data": {
      "text/plain": [
       "mychol (generic function with 1 method)"
      ]
     },
     "execution_count": 1,
     "metadata": {},
     "output_type": "execute_result"
    }
   ],
   "source": [
    "function mychol(A1::Matrix{T}) where T\n",
    "    A=deepcopy(A1)\n",
    "    n,m=size(A)\n",
    "    for k=1:n\n",
    "        A[k,k]=sqrt(A[k,k])\n",
    "        for j=k+1:n\n",
    "            A[k,j]=A[k,j]/A[k,k]\n",
    "        end\n",
    "        for j=k+1:n\n",
    "            for i=k+1:n\n",
    "                A[i,j]=A[i,j]-A[k,i]*A[k,j]\n",
    "            end\n",
    "        end\n",
    "    end\n",
    "    triu(A)\n",
    "end"
   ]
  },
  {
   "cell_type": "code",
   "execution_count": 2,
   "metadata": {},
   "outputs": [
    {
     "data": {
      "text/plain": [
       "6×6 Array{Float64,2}:\n",
       " 1.73467   0.886266  1.86937   0.819411  1.15637   0.385209\n",
       " 0.886266  0.94086   1.17082   0.783678  0.745589  0.525754\n",
       " 1.86937   1.17082   2.52575   1.4456    1.43582   0.780204\n",
       " 0.819411  0.783678  1.4456    1.29509   0.904931  0.563724\n",
       " 1.15637   0.745589  1.43582   0.904931  0.962101  0.372583\n",
       " 0.385209  0.525754  0.780204  0.563724  0.372583  0.454198"
      ]
     },
     "execution_count": 2,
     "metadata": {},
     "output_type": "execute_result"
    }
   ],
   "source": [
    "A=rand(6,6)\n",
    "A=A*A'"
   ]
  },
  {
   "cell_type": "code",
   "execution_count": 3,
   "metadata": {},
   "outputs": [
    {
     "data": {
      "text/plain": [
       "Cholesky{Float64,Array{Float64,2}}\n",
       "U factor:\n",
       "6×6 UpperTriangular{Float64,Array{Float64,2}}:\n",
       " 1.31707  0.672907  1.41934   0.622147  0.877987   0.292474 \n",
       "  ⋅       0.69861   0.308803  0.52251   0.221561   0.470858 \n",
       "  ⋅        ⋅        0.644878  0.622145  0.188011   0.340657 \n",
       "  ⋅        ⋅         ⋅        0.49794   0.252955  -0.153038 \n",
       "  ⋅        ⋅         ⋅         ⋅        0.206921  -0.0670038\n",
       "  ⋅        ⋅         ⋅         ⋅         ⋅         0.0547008"
      ]
     },
     "execution_count": 3,
     "metadata": {},
     "output_type": "execute_result"
    }
   ],
   "source": [
    "using LinearAlgebra\n",
    "L=cholesky(A)"
   ]
  },
  {
   "cell_type": "code",
   "execution_count": 4,
   "metadata": {},
   "outputs": [
    {
     "data": {
      "text/plain": [
       "6×6 UpperTriangular{Float64,Array{Float64,2}}:\n",
       " 1.31707  0.672907  1.41934   0.622147  0.877987   0.292474 \n",
       "  ⋅       0.69861   0.308803  0.52251   0.221561   0.470858 \n",
       "  ⋅        ⋅        0.644878  0.622145  0.188011   0.340657 \n",
       "  ⋅        ⋅         ⋅        0.49794   0.252955  -0.153038 \n",
       "  ⋅        ⋅         ⋅         ⋅        0.206921  -0.0670038\n",
       "  ⋅        ⋅         ⋅         ⋅         ⋅         0.0547008"
      ]
     },
     "execution_count": 4,
     "metadata": {},
     "output_type": "execute_result"
    }
   ],
   "source": [
    "# Izvadimo L iz strukture\n",
    "L=L.U"
   ]
  },
  {
   "cell_type": "code",
   "execution_count": 5,
   "metadata": {},
   "outputs": [
    {
     "data": {
      "text/plain": [
       "6×6 Array{Float64,2}:\n",
       "  2.22045e-16  -1.11022e-16  -2.22045e-16   0.0          0.0  -5.55112e-17\n",
       " -1.11022e-16   0.0           0.0          -1.11022e-16  0.0   0.0        \n",
       " -2.22045e-16   0.0           0.0           0.0          0.0   0.0        \n",
       "  0.0          -1.11022e-16   0.0           0.0          0.0   0.0        \n",
       "  0.0           0.0           0.0           0.0          0.0   0.0        \n",
       " -5.55112e-17   0.0           0.0           0.0          0.0   0.0        "
      ]
     },
     "execution_count": 5,
     "metadata": {},
     "output_type": "execute_result"
    }
   ],
   "source": [
    "L'*L-A"
   ]
  },
  {
   "cell_type": "code",
   "execution_count": 6,
   "metadata": {},
   "outputs": [
    {
     "data": {
      "text/plain": [
       "6×6 Array{Float64,2}:\n",
       " 1.31707  0.672907  1.41934   0.622147  0.877987   0.292474 \n",
       " 0.0      0.69861   0.308803  0.52251   0.221561   0.470858 \n",
       " 0.0      0.0       0.644878  0.622145  0.188011   0.340657 \n",
       " 0.0      0.0       0.0       0.49794   0.252955  -0.153038 \n",
       " 0.0      0.0       0.0       0.0       0.206921  -0.0670038\n",
       " 0.0      0.0       0.0       0.0       0.0        0.0547008"
      ]
     },
     "execution_count": 6,
     "metadata": {},
     "output_type": "execute_result"
    }
   ],
   "source": [
    "L1=mychol(A)"
   ]
  },
  {
   "cell_type": "code",
   "execution_count": 7,
   "metadata": {},
   "outputs": [
    {
     "data": {
      "text/plain": [
       "6×6 Array{Float64,2}:\n",
       "  2.22045e-16  0.0  0.0           0.0           0.0          -5.55112e-17\n",
       "  0.0          0.0  0.0           0.0           0.0           0.0        \n",
       "  0.0          0.0  0.0           2.22045e-16   0.0           0.0        \n",
       "  0.0          0.0  2.22045e-16   2.22045e-16  -1.11022e-16   0.0        \n",
       "  0.0          0.0  0.0          -1.11022e-16   0.0           0.0        \n",
       " -5.55112e-17  0.0  0.0           0.0           0.0           0.0        "
      ]
     },
     "execution_count": 7,
     "metadata": {},
     "output_type": "execute_result"
    }
   ],
   "source": [
    "L1'*L1-A"
   ]
  },
  {
   "cell_type": "code",
   "execution_count": null,
   "metadata": {},
   "outputs": [],
   "source": []
  }
 ],
 "metadata": {
  "@webio": {
   "lastCommId": "0a1896e424ee4778a4cf116f76a64818",
   "lastKernelId": "ad9dbee0-076c-4b09-911b-36bcc7913b12"
  },
  "kernelspec": {
   "display_name": "Julia 1.1.0",
   "language": "julia",
   "name": "julia-1.1"
  },
  "language_info": {
   "file_extension": ".jl",
   "mimetype": "application/julia",
   "name": "julia",
   "version": "1.1.0"
  }
 },
 "nbformat": 4,
 "nbformat_minor": 1
}
