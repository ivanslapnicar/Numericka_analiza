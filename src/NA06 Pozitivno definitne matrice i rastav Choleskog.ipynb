{
 "cells": [
  {
   "cell_type": "markdown",
   "metadata": {},
   "source": [
    "# Pozitivno definitne matrice i rastav Choleskog\n",
    "\n",
    "\n",
    "Matrica $A$ je _pozitivno definitna_ ako je simetrična i ako su sve njene svojstvene vrijednosti pozitivne.\n",
    "\n",
    "Pozitivno definitnu matricu možemo rastaviti (bez pivotiranja) kao\n",
    "\n",
    "$$\n",
    "A=L L^T\n",
    "$$\n",
    "pri čemu je $L$ donje trokutasta matrica s pozitivnim dijagonalnim elementima. Taj rastav se zove\n",
    "_rastav Choleskog_ (vidi [Numerička matematika, poglavlje 3.6][RS04]).\n",
    "\n",
    "[RS04]: http://www.mathos.unios.hr/pim/Materijali/Num.pdf \"R. Scitovski, 'Numerička matematika', Sveučilište u Osijeku, Osijek, 2004.\""
   ]
  },
  {
   "cell_type": "code",
   "execution_count": 3,
   "metadata": {},
   "outputs": [
    {
     "data": {
      "text/plain": [
       "mychol (generic function with 1 method)"
      ]
     },
     "execution_count": 3,
     "metadata": {},
     "output_type": "execute_result"
    }
   ],
   "source": [
    "function mychol(A1::Matrix{T}) where T\n",
    "    A=deepcopy(A1)\n",
    "    n,m=size(A)\n",
    "    for k=1:n\n",
    "        A[k,k]=sqrt(A[k,k])\n",
    "        for j=k+1:n\n",
    "            A[k,j]=A[k,j]/A[k,k]\n",
    "        end\n",
    "        for j=k+1:n\n",
    "            for i=k+1:n\n",
    "                A[i,j]=A[i,j]-A[k,i]*A[k,j]\n",
    "            end\n",
    "        end\n",
    "    end\n",
    "    triu(A)\n",
    "end"
   ]
  },
  {
   "cell_type": "code",
   "execution_count": 4,
   "metadata": {},
   "outputs": [
    {
     "data": {
      "text/plain": [
       "6×6 Array{Float64,2}:\n",
       " 1.51852   0.567093  0.84542   1.35719   1.68831  1.35483 \n",
       " 0.567093  1.77169   1.01373   1.5487    1.12786  0.946211\n",
       " 0.84542   1.01373   1.59152   0.985045  1.04408  1.51581 \n",
       " 1.35719   1.5487    0.985045  2.35711   1.92383  1.47364 \n",
       " 1.68831   1.12786   1.04408   1.92383   2.18443  1.57358 \n",
       " 1.35483   0.946211  1.51581   1.47364   1.57358  2.15678 "
      ]
     },
     "execution_count": 4,
     "metadata": {},
     "output_type": "execute_result"
    }
   ],
   "source": [
    "A=rand(6,6)\n",
    "A=A*A'"
   ]
  },
  {
   "cell_type": "code",
   "execution_count": 5,
   "metadata": {},
   "outputs": [
    {
     "data": {
      "text/plain": [
       "Cholesky{Float64,Array{Float64,2}}\n",
       "U factor:\n",
       "6×6 UpperTriangular{Float64,Array{Float64,2}}:\n",
       " 1.23228  0.460197  0.68606    1.10136    1.37007     1.09945  \n",
       "  ⋅       1.24896   0.558873   0.83418    0.398216    0.352492 \n",
       "  ⋅        ⋅        0.899169  -0.263306  -0.131698    0.627825 \n",
       "  ⋅        ⋅         ⋅         0.615568   0.0780295   0.217724 \n",
       "  ⋅        ⋅         ⋅          ⋅         0.354029   -0.0209308\n",
       "  ⋅        ⋅         ⋅          ⋅          ⋅          0.617855 "
      ]
     },
     "execution_count": 5,
     "metadata": {},
     "output_type": "execute_result"
    }
   ],
   "source": [
    "using LinearAlgebra\n",
    "L=cholesky(A)"
   ]
  },
  {
   "cell_type": "code",
   "execution_count": 6,
   "metadata": {},
   "outputs": [
    {
     "data": {
      "text/plain": [
       "6×6 UpperTriangular{Float64,Array{Float64,2}}:\n",
       " 1.23228  0.460197  0.68606    1.10136    1.37007     1.09945  \n",
       "  ⋅       1.24896   0.558873   0.83418    0.398216    0.352492 \n",
       "  ⋅        ⋅        0.899169  -0.263306  -0.131698    0.627825 \n",
       "  ⋅        ⋅         ⋅         0.615568   0.0780295   0.217724 \n",
       "  ⋅        ⋅         ⋅          ⋅         0.354029   -0.0209308\n",
       "  ⋅        ⋅         ⋅          ⋅          ⋅          0.617855 "
      ]
     },
     "execution_count": 6,
     "metadata": {},
     "output_type": "execute_result"
    }
   ],
   "source": [
    "# Izvadimo L iz strukture\n",
    "L=L.U"
   ]
  },
  {
   "cell_type": "code",
   "execution_count": 7,
   "metadata": {},
   "outputs": [
    {
     "data": {
      "text/plain": [
       "6×6 Array{Float64,2}:\n",
       "  0.0          0.0  0.0  0.0  0.0          -2.22045e-16\n",
       "  0.0          0.0  0.0  0.0  0.0           0.0        \n",
       "  0.0          0.0  0.0  0.0  0.0           0.0        \n",
       "  0.0          0.0  0.0  0.0  0.0           0.0        \n",
       "  0.0          0.0  0.0  0.0  0.0           2.22045e-16\n",
       " -2.22045e-16  0.0  0.0  0.0  2.22045e-16   0.0        "
      ]
     },
     "execution_count": 7,
     "metadata": {},
     "output_type": "execute_result"
    }
   ],
   "source": [
    "L'*L-A"
   ]
  },
  {
   "cell_type": "code",
   "execution_count": 8,
   "metadata": {},
   "outputs": [
    {
     "data": {
      "text/plain": [
       "6×6 Array{Float64,2}:\n",
       " 1.23228  0.460197  0.68606    1.10136    1.37007     1.09945  \n",
       " 0.0      1.24896   0.558873   0.83418    0.398216    0.352492 \n",
       " 0.0      0.0       0.899169  -0.263306  -0.131698    0.627825 \n",
       " 0.0      0.0       0.0        0.615568   0.0780295   0.217724 \n",
       " 0.0      0.0       0.0        0.0        0.354029   -0.0209308\n",
       " 0.0      0.0       0.0        0.0        0.0         0.617855 "
      ]
     },
     "execution_count": 8,
     "metadata": {},
     "output_type": "execute_result"
    }
   ],
   "source": [
    "L1=mychol(A)"
   ]
  },
  {
   "cell_type": "code",
   "execution_count": 9,
   "metadata": {},
   "outputs": [
    {
     "data": {
      "text/plain": [
       "6×6 Array{Float64,2}:\n",
       "  0.0          0.0  0.0   0.0           0.0          -2.22045e-16\n",
       "  0.0          0.0  0.0   0.0           0.0           0.0        \n",
       "  0.0          0.0  0.0   0.0           0.0           0.0        \n",
       "  0.0          0.0  0.0   0.0          -2.22045e-16   2.22045e-16\n",
       "  0.0          0.0  0.0  -2.22045e-16  -4.44089e-16   0.0        \n",
       " -2.22045e-16  0.0  0.0   2.22045e-16   0.0          -4.44089e-16"
      ]
     },
     "execution_count": 9,
     "metadata": {},
     "output_type": "execute_result"
    }
   ],
   "source": [
    "L1'*L1-A"
   ]
  }
 ],
 "metadata": {
  "@webio": {
   "lastCommId": "0a1896e424ee4778a4cf116f76a64818",
   "lastKernelId": "ad9dbee0-076c-4b09-911b-36bcc7913b12"
  },
  "kernelspec": {
   "display_name": "Julia 1.1.0",
   "language": "julia",
   "name": "julia-1.1"
  },
  "language_info": {
   "file_extension": ".jl",
   "mimetype": "application/julia",
   "name": "julia",
   "version": "1.1.0"
  }
 },
 "nbformat": 4,
 "nbformat_minor": 1
}
