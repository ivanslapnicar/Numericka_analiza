{
 "cells": [
  {
   "cell_type": "markdown",
   "metadata": {},
   "source": [
    "# Pozitivno definitne matrice i rastav Choleskog\n",
    "\n",
    "\n",
    "Matrica $A$ je _pozitivno definitna_ ako je simetrična i ako su sve njene svojstvene vrijednosti pozitivne.\n",
    "\n",
    "Pozitivno definitnu matricu možemo rastaviti (bez pivotiranja) kao\n",
    "\n",
    "$$\n",
    "A=L L^T\n",
    "$$\n",
    "pri čemu je $L$ donje trokutasta matrica s pozitivnim dijagonalnim elementima. Taj rastav se zove\n",
    "_rastav Choleskog_ (vidi [Numerička matematika, poglavlje 3.6][RS04]).\n",
    "\n",
    "Iz\n",
    "\n",
    "$$A=\\begin{pmatrix}\\alpha & a^T \\cr a  & B \\end{pmatrix}=\n",
    "\\begin{pmatrix} \\beta & 0 \\cr l & I \\end{pmatrix}\n",
    "\\begin{pmatrix} \\beta & l^T \\cr 0 & C \\end{pmatrix}\n",
    "=LL^T=\\begin{pmatrix} \\beta^2 & \\beta l^T \\cr l\\beta & ll^T+ C\\end{pmatrix}$$\n",
    "\n",
    "slijedi \n",
    "\n",
    "$$\\beta=\\sqrt{\\alpha},\\quad l=a\\beta^{-1}=a\\alpha^{-1/2},\\quad C=B-ll^T=B-a\\alpha^{-1}a^T.$$\n",
    "\n",
    "Indukcija daje sljedeći algoritam:\n",
    "\n",
    "\n",
    "[RS04]: http://www.mathos.unios.hr/pim/Materijali/Num.pdf \"R. Scitovski, 'Numerička matematika', Sveučilište u Osijeku, Osijek, 2004.\""
   ]
  },
  {
   "cell_type": "code",
   "execution_count": 1,
   "metadata": {},
   "outputs": [
    {
     "data": {
      "text/plain": [
       "mychol (generic function with 1 method)"
      ]
     },
     "execution_count": 1,
     "metadata": {},
     "output_type": "execute_result"
    }
   ],
   "source": [
    "function mychol(A1::Matrix{T}) where T\n",
    "    A=deepcopy(A1)\n",
    "    n,m=size(A)\n",
    "    for k=1:n\n",
    "        A[k,k]=sqrt(A[k,k])\n",
    "        for j=k+1:n\n",
    "            A[k,j]=A[k,j]/A[k,k]\n",
    "        end\n",
    "        for j=k+1:n\n",
    "            for i=k+1:n\n",
    "                A[i,j]=A[i,j]-A[k,i]*A[k,j]\n",
    "            end\n",
    "        end\n",
    "    end\n",
    "    triu(A)\n",
    "end"
   ]
  },
  {
   "cell_type": "code",
   "execution_count": 2,
   "metadata": {},
   "outputs": [
    {
     "data": {
      "text/plain": [
       "6×6 Array{Float64,2}:\n",
       " 2.53913  1.58538   1.81906   2.4308    1.00402   1.90612\n",
       " 1.58538  1.7502    1.60636   1.68311   0.844808  0.979984\n",
       " 1.81906  1.60636   2.07303   2.12672   0.567601  1.11579\n",
       " 2.4308   1.68311   2.12672   3.22033   0.990018  1.86583\n",
       " 1.00402  0.844808  0.567601  0.990018  0.755723  0.878713\n",
       " 1.90612  0.979984  1.11579   1.86583   0.878713  1.63993"
      ]
     },
     "execution_count": 2,
     "metadata": {},
     "output_type": "execute_result"
    }
   ],
   "source": [
    "A=rand(6,6)\n",
    "A=A*A'"
   ]
  },
  {
   "cell_type": "code",
   "execution_count": 3,
   "metadata": {},
   "outputs": [
    {
     "data": {
      "text/plain": [
       "Cholesky{Float64,Array{Float64,2}}\n",
       "U factor:\n",
       "6×6 UpperTriangular{Float64,Array{Float64,2}}:\n",
       " 1.59346  0.994925  1.14157   1.52548    0.630089   1.19621\n",
       "  ⋅       0.871967  0.539681  0.189655   0.249913  -0.241012\n",
       "  ⋅        ⋅        0.691797  0.408963  -0.414233  -0.173021\n",
       "  ⋅        ⋅         ⋅        0.830672   0.181584   0.189605\n",
       "  ⋅        ⋅         ⋅         ⋅         0.302808   0.26131\n",
       "  ⋅        ⋅         ⋅         ⋅          ⋅         0.129441"
      ]
     },
     "execution_count": 3,
     "metadata": {},
     "output_type": "execute_result"
    }
   ],
   "source": [
    "using LinearAlgebra\n",
    "# Ugrađena funkcija\n",
    "C=cholesky(A)"
   ]
  },
  {
   "cell_type": "code",
   "execution_count": 4,
   "metadata": {},
   "outputs": [
    {
     "data": {
      "text/plain": [
       "6×6 UpperTriangular{Float64,Array{Float64,2}}:\n",
       " 1.59346  0.994925  1.14157   1.52548    0.630089   1.19621\n",
       "  ⋅       0.871967  0.539681  0.189655   0.249913  -0.241012\n",
       "  ⋅        ⋅        0.691797  0.408963  -0.414233  -0.173021\n",
       "  ⋅        ⋅         ⋅        0.830672   0.181584   0.189605\n",
       "  ⋅        ⋅         ⋅         ⋅         0.302808   0.26131\n",
       "  ⋅        ⋅         ⋅         ⋅          ⋅         0.129441"
      ]
     },
     "execution_count": 4,
     "metadata": {},
     "output_type": "execute_result"
    }
   ],
   "source": [
    "# Izvadimo L iz strukture\n",
    "L=C.U"
   ]
  },
  {
   "cell_type": "code",
   "execution_count": 5,
   "metadata": {},
   "outputs": [
    {
     "data": {
      "text/plain": [
       "6×6 Array{Float64,2}:\n",
       " -4.44089e-16   0.0          0.0  0.0  0.0  -2.22045e-16\n",
       "  0.0          -2.22045e-16  0.0  0.0  0.0   0.0\n",
       "  0.0           0.0          0.0  0.0  0.0   0.0\n",
       "  0.0           0.0          0.0  0.0  0.0   0.0\n",
       "  0.0           0.0          0.0  0.0  0.0   0.0\n",
       " -2.22045e-16   0.0          0.0  0.0  0.0   0.0"
      ]
     },
     "execution_count": 5,
     "metadata": {},
     "output_type": "execute_result"
    }
   ],
   "source": [
    "L'*L-A"
   ]
  },
  {
   "cell_type": "code",
   "execution_count": 6,
   "metadata": {
    "scrolled": true
   },
   "outputs": [
    {
     "data": {
      "text/plain": [
       "6×6 Array{Float64,2}:\n",
       " 1.59346  0.994925  1.14157   1.52548    0.630089   1.19621\n",
       " 0.0      0.871967  0.539681  0.189655   0.249913  -0.241012\n",
       " 0.0      0.0       0.691797  0.408963  -0.414233  -0.173021\n",
       " 0.0      0.0       0.0       0.830672   0.181584   0.189605\n",
       " 0.0      0.0       0.0       0.0        0.302808   0.26131\n",
       " 0.0      0.0       0.0       0.0        0.0        0.129441"
      ]
     },
     "execution_count": 6,
     "metadata": {},
     "output_type": "execute_result"
    }
   ],
   "source": [
    "L₁=mychol(A)"
   ]
  },
  {
   "cell_type": "code",
   "execution_count": 7,
   "metadata": {},
   "outputs": [
    {
     "data": {
      "text/plain": [
       "6×6 Array{Float64,2}:\n",
       " -4.44089e-16  0.0  0.0  0.0   0.0           2.22045e-16\n",
       "  0.0          0.0  0.0  0.0   0.0           0.0\n",
       "  0.0          0.0  0.0  0.0   0.0           0.0\n",
       "  0.0          0.0  0.0  0.0   0.0           0.0\n",
       "  0.0          0.0  0.0  0.0   0.0          -1.11022e-16\n",
       "  2.22045e-16  0.0  0.0  0.0  -1.11022e-16   0.0"
      ]
     },
     "execution_count": 7,
     "metadata": {},
     "output_type": "execute_result"
    }
   ],
   "source": [
    "L₁'*L₁-A"
   ]
  },
  {
   "cell_type": "code",
   "execution_count": null,
   "metadata": {},
   "outputs": [],
   "source": []
  }
 ],
 "metadata": {
  "@webio": {
   "lastCommId": "0a1896e424ee4778a4cf116f76a64818",
   "lastKernelId": "ad9dbee0-076c-4b09-911b-36bcc7913b12"
  },
  "kernelspec": {
   "display_name": "Julia 1.5.2",
   "language": "julia",
   "name": "julia-1.5"
  },
  "language_info": {
   "file_extension": ".jl",
   "mimetype": "application/julia",
   "name": "julia",
   "version": "1.5.2"
  }
 },
 "nbformat": 4,
 "nbformat_minor": 1
}
