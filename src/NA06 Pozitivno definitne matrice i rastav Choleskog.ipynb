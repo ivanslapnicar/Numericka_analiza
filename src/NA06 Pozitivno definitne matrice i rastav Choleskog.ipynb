{
 "cells": [
  {
   "cell_type": "markdown",
   "metadata": {},
   "source": [
    "# Pozitivno definitne matrice i rastav Choleskog\n",
    "\n",
    "\n",
    "Matrica $A$ je _pozitivno definitna_ ako je simetrična i ako su sve njene svojstvene vrijednosti pozitivne.\n",
    "\n",
    "Pozitivno definitnu matricu možemo rastaviti (bez pivotiranja) kao\n",
    "\n",
    "$$\n",
    "A=L L^T\n",
    "$$\n",
    "pri čemu je $L$ donje trokutasta matrica s pozitivnim dijagonalnim elementima. Taj rastav se zove\n",
    "_rastav Choleskog_ (vidi [Numerička matematika, poglavlje 3.6][RS04]).\n",
    "\n",
    "[RS04]: http://www.mathos.unios.hr/pim/Materijali/Num.pdf \"R. Scitovski, 'Numerička matematika', Sveučilište u Osijeku, Osijek, 2004.\""
   ]
  },
  {
   "cell_type": "code",
   "execution_count": 1,
   "metadata": {},
   "outputs": [
    {
     "data": {
      "text/plain": [
       "mychol (generic function with 1 method)"
      ]
     },
     "execution_count": 1,
     "metadata": {},
     "output_type": "execute_result"
    }
   ],
   "source": [
    "function mychol(A1::Matrix{T}) where T\n",
    "    A=deepcopy(A1)\n",
    "    n,m=size(A)\n",
    "    for k=1:n\n",
    "        A[k,k]=sqrt(A[k,k])\n",
    "        for j=k+1:n\n",
    "            A[k,j]=A[k,j]/A[k,k]\n",
    "        end\n",
    "        for j=k+1:n\n",
    "            for i=k+1:n\n",
    "                A[i,j]=A[i,j]-A[k,i]*A[k,j]\n",
    "            end\n",
    "        end\n",
    "    end\n",
    "    triu(A)\n",
    "end"
   ]
  },
  {
   "cell_type": "code",
   "execution_count": 2,
   "metadata": {},
   "outputs": [
    {
     "data": {
      "text/plain": [
       "6×6 Array{Float64,2}:\n",
       " 2.38174  1.28863   2.00753  1.49714   1.83188  1.05943 \n",
       " 1.28863  1.19608   1.18516  1.20255   1.1794   0.767138\n",
       " 2.00753  1.18516   2.47333  1.39582   1.89505  1.34749 \n",
       " 1.49714  1.20255   1.39582  1.56095   1.33103  0.697144\n",
       " 1.83188  1.1794    1.89505  1.33103   1.7713   1.16629 \n",
       " 1.05943  0.767138  1.34749  0.697144  1.16629  1.11772 "
      ]
     },
     "execution_count": 2,
     "metadata": {},
     "output_type": "execute_result"
    }
   ],
   "source": [
    "A=rand(6,6)\n",
    "A=A*A'"
   ]
  },
  {
   "cell_type": "code",
   "execution_count": 11,
   "metadata": {},
   "outputs": [
    {
     "data": {
      "text/plain": [
       "Cholesky{Float64,Array{Float64,2}}\n",
       "U factor:\n",
       "6×6 UpperTriangular{Float64,Array{Float64,2}}:\n",
       " 1.54329  0.834989  1.30081   0.970095   1.187       0.686477\n",
       "  ⋅       0.706308  0.140165  0.555753   0.26655     0.274578\n",
       "  ⋅        ⋅        0.872682  0.0641787  0.359383    0.476723\n",
       "  ⋅        ⋅         ⋅        0.553972   0.0150268  -0.274377\n",
       "  ⋅        ⋅         ⋅         ⋅         0.40238     0.275994\n",
       "  ⋅        ⋅         ⋅         ⋅          ⋅          0.438583"
      ]
     },
     "execution_count": 11,
     "metadata": {},
     "output_type": "execute_result"
    }
   ],
   "source": [
    "using LinearAlgebra\n",
    "L=cholesky(A)"
   ]
  },
  {
   "cell_type": "code",
   "execution_count": 12,
   "metadata": {},
   "outputs": [
    {
     "data": {
      "text/plain": [
       "6×6 UpperTriangular{Float64,Array{Float64,2}}:\n",
       " 1.54329  0.834989  1.30081   0.970095   1.187       0.686477\n",
       "  ⋅       0.706308  0.140165  0.555753   0.26655     0.274578\n",
       "  ⋅        ⋅        0.872682  0.0641787  0.359383    0.476723\n",
       "  ⋅        ⋅         ⋅        0.553972   0.0150268  -0.274377\n",
       "  ⋅        ⋅         ⋅         ⋅         0.40238     0.275994\n",
       "  ⋅        ⋅         ⋅         ⋅          ⋅          0.438583"
      ]
     },
     "execution_count": 12,
     "metadata": {},
     "output_type": "execute_result"
    }
   ],
   "source": [
    "# Izvadimo L iz strukture\n",
    "L=L.U"
   ]
  },
  {
   "cell_type": "code",
   "execution_count": 13,
   "metadata": {},
   "outputs": [
    {
     "data": {
      "text/plain": [
       "6×6 Array{Float64,2}:\n",
       " 0.0          0.0  0.0  0.0   2.22045e-16   0.0        \n",
       " 0.0          0.0  0.0  0.0   0.0           0.0        \n",
       " 0.0          0.0  0.0  0.0   0.0           0.0        \n",
       " 0.0          0.0  0.0  0.0   0.0           0.0        \n",
       " 2.22045e-16  0.0  0.0  0.0   0.0          -2.22045e-16\n",
       " 0.0          0.0  0.0  0.0  -2.22045e-16   0.0        "
      ]
     },
     "execution_count": 13,
     "metadata": {},
     "output_type": "execute_result"
    }
   ],
   "source": [
    "L'*L-A"
   ]
  },
  {
   "cell_type": "code",
   "execution_count": 14,
   "metadata": {},
   "outputs": [
    {
     "data": {
      "text/plain": [
       "6×6 Array{Float64,2}:\n",
       " 1.54329  0.834989  1.30081   0.970095   1.187       0.686477\n",
       " 0.0      0.706308  0.140165  0.555753   0.26655     0.274578\n",
       " 0.0      0.0       0.872682  0.0641787  0.359383    0.476723\n",
       " 0.0      0.0       0.0       0.553972   0.0150268  -0.274377\n",
       " 0.0      0.0       0.0       0.0        0.40238     0.275994\n",
       " 0.0      0.0       0.0       0.0        0.0         0.438583"
      ]
     },
     "execution_count": 14,
     "metadata": {},
     "output_type": "execute_result"
    }
   ],
   "source": [
    "L1=mychol(A)"
   ]
  },
  {
   "cell_type": "code",
   "execution_count": 15,
   "metadata": {},
   "outputs": [
    {
     "data": {
      "text/plain": [
       "6×6 Array{Float64,2}:\n",
       " 0.0          0.0  0.0  0.0          2.22045e-16  0.0        \n",
       " 0.0          0.0  0.0  0.0          0.0          0.0        \n",
       " 0.0          0.0  0.0  0.0          0.0          0.0        \n",
       " 0.0          0.0  0.0  0.0          0.0          1.11022e-16\n",
       " 2.22045e-16  0.0  0.0  0.0          0.0          0.0        \n",
       " 0.0          0.0  0.0  1.11022e-16  0.0          0.0        "
      ]
     },
     "execution_count": 15,
     "metadata": {},
     "output_type": "execute_result"
    }
   ],
   "source": [
    "L1'*L1-A"
   ]
  },
  {
   "cell_type": "code",
   "execution_count": null,
   "metadata": {},
   "outputs": [],
   "source": []
  }
 ],
 "metadata": {
  "@webio": {
   "lastCommId": "0a1896e424ee4778a4cf116f76a64818",
   "lastKernelId": "ad9dbee0-076c-4b09-911b-36bcc7913b12"
  },
  "kernelspec": {
   "display_name": "Julia 1.0.2",
   "language": "julia",
   "name": "julia-1.0"
  },
  "language_info": {
   "file_extension": ".jl",
   "mimetype": "application/julia",
   "name": "julia",
   "version": "1.0.2"
  }
 },
 "nbformat": 4,
 "nbformat_minor": 1
}
