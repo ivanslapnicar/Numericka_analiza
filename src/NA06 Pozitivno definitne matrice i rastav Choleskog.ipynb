{
 "cells": [
  {
   "cell_type": "markdown",
   "metadata": {},
   "source": [
    "# Pozitivno definitne matrice i rastav Choleskog\n",
    "\n",
    "\n",
    "Matrica $A$ je _pozitivno definitna_ ako je simetrična i ako su sve njene svojstvene vrijednosti pozitivne.\n",
    "\n",
    "Pozitivno definitnu matricu možemo rastaviti (bez pivotiranja) kao\n",
    "\n",
    "$$\n",
    "A=L L^T\n",
    "$$\n",
    "pri čemu je $L$ donje trokutasta matrica s pozitivnim dijagonalnim elementima. Taj rastav se zove\n",
    "_rastav Choleskog_ (vidi [Numerička matematika, poglavlje 3.6][RS04]).\n",
    "\n",
    "[RS04]: http://www.mathos.unios.hr/pim/Materijali/Num.pdf \"R. Scitovski, 'Numerička matematika', Sveučilište u Osijeku, Osijek, 2004.\""
   ]
  },
  {
   "cell_type": "code",
   "execution_count": 1,
   "metadata": {},
   "outputs": [
    {
     "data": {
      "text/plain": [
       "mychol (generic function with 1 method)"
      ]
     },
     "execution_count": 1,
     "metadata": {},
     "output_type": "execute_result"
    }
   ],
   "source": [
    "function mychol{T}(A1::Array{T})\n",
    "    A=deepcopy(A1)\n",
    "    n,m=size(A)\n",
    "    for k=1:n\n",
    "        A[k,k]=sqrt(A[k,k])\n",
    "        for j=k+1:n\n",
    "            A[k,j]=A[k,j]/A[k,k]\n",
    "        end\n",
    "        for j=k+1:n\n",
    "            for i=k+1:n\n",
    "                A[i,j]=A[i,j]-A[k,i]*A[k,j]\n",
    "            end\n",
    "        end\n",
    "    end\n",
    "    triu(A)\n",
    "end"
   ]
  },
  {
   "cell_type": "code",
   "execution_count": 2,
   "metadata": {},
   "outputs": [
    {
     "data": {
      "text/plain": [
       "6×6 Array{Float64,2}:\n",
       " 1.0053    0.564041  0.155442  0.47471   0.920182  0.228271\n",
       " 0.564041  1.96055   1.21705   1.38418   1.65399   1.57079 \n",
       " 0.155442  1.21705   1.16517   0.790639  1.06097   1.21644 \n",
       " 0.47471   1.38418   0.790639  1.27492   1.27403   1.06542 \n",
       " 0.920182  1.65399   1.06097   1.27403   1.73067   1.23123 \n",
       " 0.228271  1.57079   1.21644   1.06542   1.23123   1.52464 "
      ]
     },
     "execution_count": 2,
     "metadata": {},
     "output_type": "execute_result"
    }
   ],
   "source": [
    "A=rand(6,6)\n",
    "A=A*A'"
   ]
  },
  {
   "cell_type": "code",
   "execution_count": 3,
   "metadata": {},
   "outputs": [
    {
     "data": {
      "text/plain": [
       "6×6 UpperTriangular{Float64,Array{Float64,2}}:\n",
       " 1.00265  0.562553  0.155031   0.473457   0.917754   0.227669  \n",
       "  ⋅       1.28222   0.881156   0.871801   0.887292   1.12517   \n",
       "  ⋅        ⋅        0.6039    -0.0843774  0.226597   0.314122  \n",
       "  ⋅        ⋅         ⋅         0.532547   0.159782   0.00601989\n",
       "  ⋅        ⋅         ⋅          ⋅         0.155671  -0.309648  \n",
       "  ⋅        ⋅         ⋅          ⋅          ⋅         0.110502  "
      ]
     },
     "execution_count": 3,
     "metadata": {},
     "output_type": "execute_result"
    }
   ],
   "source": [
    "L=chol(A)"
   ]
  },
  {
   "cell_type": "code",
   "execution_count": 4,
   "metadata": {},
   "outputs": [
    {
     "data": {
      "text/plain": [
       "6×6 Array{Float64,2}:\n",
       " 0.0  0.0  0.0   0.0          0.0   0.0        \n",
       " 0.0  0.0  0.0   0.0          0.0   0.0        \n",
       " 0.0  0.0  0.0   0.0          0.0   0.0        \n",
       " 0.0  0.0  0.0   0.0          0.0  -2.22045e-16\n",
       " 0.0  0.0  0.0   0.0          0.0   0.0        \n",
       " 0.0  0.0  0.0  -2.22045e-16  0.0   0.0        "
      ]
     },
     "execution_count": 4,
     "metadata": {},
     "output_type": "execute_result"
    }
   ],
   "source": [
    "L'*L-A"
   ]
  },
  {
   "cell_type": "code",
   "execution_count": 5,
   "metadata": {},
   "outputs": [
    {
     "data": {
      "text/plain": [
       "6×6 Array{Float64,2}:\n",
       " 1.00265  0.562553  0.155031   0.473457   0.917754   0.227669  \n",
       " 0.0      1.28222   0.881156   0.871801   0.887292   1.12517   \n",
       " 0.0      0.0       0.6039    -0.0843774  0.226597   0.314122  \n",
       " 0.0      0.0       0.0        0.532547   0.159782   0.00601989\n",
       " 0.0      0.0       0.0        0.0        0.155671  -0.309648  \n",
       " 0.0      0.0       0.0        0.0        0.0        0.110502  "
      ]
     },
     "execution_count": 5,
     "metadata": {},
     "output_type": "execute_result"
    }
   ],
   "source": [
    "L1=mychol(A)"
   ]
  },
  {
   "cell_type": "code",
   "execution_count": 6,
   "metadata": {},
   "outputs": [
    {
     "data": {
      "text/plain": [
       "6×6 Array{Float64,2}:\n",
       " 0.0  0.0  0.0  0.0  0.0  0.0\n",
       " 0.0  0.0  0.0  0.0  0.0  0.0\n",
       " 0.0  0.0  0.0  0.0  0.0  0.0\n",
       " 0.0  0.0  0.0  0.0  0.0  0.0\n",
       " 0.0  0.0  0.0  0.0  0.0  0.0\n",
       " 0.0  0.0  0.0  0.0  0.0  0.0"
      ]
     },
     "execution_count": 6,
     "metadata": {},
     "output_type": "execute_result"
    }
   ],
   "source": [
    "L1'*L1-A"
   ]
  }
 ],
 "metadata": {
  "kernelspec": {
   "display_name": "Julia 0.6.2",
   "language": "julia",
   "name": "julia-0.6"
  },
  "language_info": {
   "file_extension": ".jl",
   "mimetype": "application/julia",
   "name": "julia",
   "version": "0.6.2"
  }
 },
 "nbformat": 4,
 "nbformat_minor": 1
}
