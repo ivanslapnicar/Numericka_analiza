{
 "cells": [
  {
   "cell_type": "markdown",
   "metadata": {},
   "source": [
    "# Prirodni kubični splajn\n",
    "\n",
    "\n",
    "Neka je zadana funkcija $f(x)$ na intervalu $[a,b]$.\n",
    "\n",
    "Odaberimo $n+1$ točku \n",
    "\n",
    "$$\n",
    "a\\equiv x_0<x_1<x_2<\\cdots <x_n\\equiv b\n",
    "$$ \n",
    "\n",
    "i izračunajmo vrijednosti \n",
    "\n",
    "$$\n",
    "y_i=f(x_i), \\quad i=0,1,\\ldots,n.\n",
    "$$\n",
    " \n",
    "Na intervalu $[x_{i-1},x_i]$ funkciju $f$ aproksimiramo kubičnim polinomom $C_i$,\n",
    "tako da je na intervalu $[a,b]$ funkcija $f$ aproksimirana funkcijom \n",
    "\n",
    "$$\n",
    "C(x)=C_i(x), \\quad x\\in[x_{i-1},x_i]\n",
    "$$\n",
    "\n",
    "Od funkcije $C(x)$ tražimo \n",
    "\n",
    "* _neprekidnost_,\n",
    "* _neprekidnost prve derivacije_ i\n",
    "* _neprekidnost druge derivacije_.\n",
    "\n",
    "Dakle,\n",
    "\n",
    "\\begin{align*}\n",
    "C_i(x_{i-1})&=y_{i-1}, \\quad i=1,\\ldots,n, \\\\\n",
    "C_i(x_{i})&=y_{i} \\quad i=1,\\ldots, n,\\\\\n",
    "C'_i(x_i)&=C'_{i+1}(x_i), \\quad i=1,\\ldots,n-1, \\\\\n",
    "C'_i(x_i)&=C'_{i+1}(x_i), \\quad i=1,\\ldots,n-1,\n",
    "\\end{align*}\n",
    "\n",
    "pa imamo sustav od $4n-2$ jednadžbe i $4n$ nepoznanica (svaki od $n$ polinoma ima 4 koeficijenta).\n",
    "\n",
    "Vrijede sljedeće tvrdnje:\n",
    "\n",
    "$$\n",
    "C_i(x)=y_{i-1}-s_{i-1}\\frac{h_i^2}{6}+b_i(x-x_{i-1})+\\frac{s_{i-1}}{6h_i}(x_i-x)^3\n",
    "+\\frac{s_i}{6h_i}(x-x_{i-1})^3,\n",
    "$$\n",
    "\n",
    "gdje je \n",
    "\n",
    "\\begin{align*}\n",
    "b_i&=d_i-(s_i-s_{i-1})\\frac{h_i}{6},\\\\\n",
    "d_i&=\\frac{y_i-y_{i-1}}{h_i},\\\\\n",
    "h_i&=x_i-x_{i-1},\n",
    "\\end{align*}\n",
    "\n",
    "a brojevi $s_i$, $i=0,1,\\ldots,n$, zadovoljavaju sustav jednadžbi \n",
    "\n",
    "$$\n",
    "s_{i-1}h_i+2s_i(h_i+h_{i+1})+s_{i+1}h_{i+1}=6(d_{i+1}-d_i),\\quad i=1,\\ldots,n-1.\n",
    "$$\n",
    "\n",
    "Ako zadamo $s_0$ i $s_n$, sustav će imati jedinstveno rješenje. \n",
    "\n",
    "Najčešće sz zadani _prirodni uvjeti_:\n",
    "$$\n",
    "s_0=0, \\quad s_n=0.\n",
    "$$ \n",
    "\n",
    "U tom slučaju, $s_1,\\ldots,s_{n-1}$ su rješenja sustava\n",
    "\n",
    "$$\n",
    "\\begin{bmatrix} 2(h_1+h_2) & h_2 & 0 & \\cdots & 0 & 0 \\\\\n",
    "h_2 & 2(h_2+h_3) & h_3 & \\cdots & 0 & 0 \\\\\n",
    "0 & h_3 & 2(h_3+h_4) & \\cdots & 0 & 0 \\\\\n",
    "\\vdots & \\vdots & \\vdots & \\ddots & \\vdots & \\vdots \\\\\n",
    "0 & 0 & 0 & \\cdots & 2(h_{n-2}+h_{n-1}) & h_{n-1} \\\\\n",
    "0 & 0 & 0 & \\cdots & h_{n-1}  & 2(h_{n-1}+h_{n})\\\\\n",
    "\\end{bmatrix}\n",
    "\\begin{bmatrix}\n",
    "s_1\\\\ s_2 \\\\ s_3 \\\\ \\vdots \\\\ s_{n-2} \\\\ s_{n-1}\n",
    "\\end{bmatrix}\n",
    "=\n",
    "\\begin{bmatrix}\n",
    "6(d_2-d_1)\\\\\n",
    "6(d_3-d_2)\\\\\n",
    "6(d_4-d_3) \\\\\n",
    "\\vdots \\\\\n",
    "6(d_{n-1}-d_{n-2}\\\\\n",
    "6(d_n-d_{n-1})\n",
    "\\end{bmatrix}.\n",
    "$$\n",
    "\n",
    "Dokaz se nalazi u udžbeniku [Numerička matematika, str. 29][RS04].\n",
    "\n",
    "[RS04]: http://www.mathos.unios.hr/pim/Materijali/Num.pdf \"R. Scitovski, 'Numerička matematika', Sveučilište u Osijeku, Osijek, 2004.\"\n",
    "\n",
    "Matrica sustava je _tridijagonalna_ i _pozitivno definitna_ pa se sustav može riješiti metodom Choleskog (bez pivotiranja) u $O(n)$ operacija. \n",
    "\n",
    "\n",
    "\n",
    "Vrijede _ocjene pogreške_:\n",
    "\n",
    "\\begin{align*}\n",
    "\\max |f(x)-C(x)| &\\leq \\frac{5}{384} \\max h_i^4 \\\\\n",
    "\\max |f'(x)-C'(x)| &\\leq \\frac{1}{24} \\max h_i^3 \\\\\n",
    "\\max |f''(x)-C''(x)| &\\leq \\frac{3}{8} \\max h_i^2. \n",
    "\\end{align*}\n",
    "\n",
    "Ocjene se mogu promatrati i na svakom intervalu posebno."
   ]
  },
  {
   "cell_type": "markdown",
   "metadata": {},
   "source": [
    "## Primjer - Interpolacija slučajnih točaka"
   ]
  },
  {
   "cell_type": "code",
   "execution_count": 1,
   "metadata": {},
   "outputs": [
    {
     "data": {
      "text/plain": [
       "Matrix (generic function with 1 method)"
      ]
     },
     "execution_count": 1,
     "metadata": {},
     "output_type": "execute_result"
    }
   ],
   "source": [
    "using Polynomials\n",
    "using Plots\n",
    "include(\"Vandermonde.jl\")"
   ]
  },
  {
   "cell_type": "code",
   "execution_count": 2,
   "metadata": {},
   "outputs": [
    {
     "data": {
      "text/plain": [
       "4×4 SymTridiagonal{Float64,Array{Float64,1}}:\n",
       " 0.698622  0.267102    ⋅          ⋅      \n",
       " 0.267102  0.557011   0.0114039   ⋅      \n",
       "  ⋅        0.0114039  0.211786   0.094489\n",
       "  ⋅         ⋅         0.094489   0.533113"
      ]
     },
     "execution_count": 2,
     "metadata": {},
     "output_type": "execute_result"
    }
   ],
   "source": [
    "# Broj intervala\n",
    "using Random, LinearAlgebra\n",
    "Random.seed!(123)\n",
    "n=5\n",
    "x=sort(rand(n+1))\n",
    "y=rand(n+1)\n",
    "h=x[2:end]-x[1:end-1]\n",
    "d=(y[2:end]-y[1:end-1])./h\n",
    "H=SymTridiagonal(2*(h[1:end-1]+h[2:end]),h[2:end-1])"
   ]
  },
  {
   "cell_type": "code",
   "execution_count": 3,
   "metadata": {},
   "outputs": [
    {
     "data": {
      "text/plain": [
       "6-element Array{Float64,1}:\n",
       "    0.0             \n",
       "  155.9339732397957 \n",
       " -243.76386679866204\n",
       "  456.4451554182228 \n",
       "  -67.19294096640769\n",
       "    0.0             "
      ]
     },
     "execution_count": 3,
     "metadata": {},
     "output_type": "execute_result"
    }
   ],
   "source": [
    "b1=6*(d[2:end]-d[1:end-1])\n",
    "s=H\\b1\n",
    "s=[0;s;0]"
   ]
  },
  {
   "cell_type": "code",
   "execution_count": 4,
   "metadata": {},
   "outputs": [
    {
     "data": {
      "text/plain": [
       "5-element Array{getfield(Main, Symbol(\"##4#6\")){Int64},1}:\n",
       " getfield(Main, Symbol(\"##4#6\")){Int64}(1)\n",
       " getfield(Main, Symbol(\"##4#6\")){Int64}(2)\n",
       " getfield(Main, Symbol(\"##4#6\")){Int64}(3)\n",
       " getfield(Main, Symbol(\"##4#6\")){Int64}(4)\n",
       " getfield(Main, Symbol(\"##4#6\")){Int64}(5)"
      ]
     },
     "execution_count": 4,
     "metadata": {},
     "output_type": "execute_result"
    }
   ],
   "source": [
    "# Definirajmo polinome\n",
    "b=d-(s[2:end]-s[1:end-1]).*h/6\n",
    "C=Array{Any}(undef,n)\n",
    "C=[xx -> \n",
    "    y[i]-s[i]*h[i]^2/6+b[i]*(xx-x[i])+s[i]*(x[i+1]-xx)^3/(6*h[i])+s[i+1]*(xx-x[i])^3/(6*h[i]) \n",
    "    for i=1:n]"
   ]
  },
  {
   "cell_type": "code",
   "execution_count": 5,
   "metadata": {},
   "outputs": [],
   "source": [
    "# Definirajmo točke za crtanje\n",
    "lsize=200\n",
    "xx=range(x[1],x[end],length=lsize)\n",
    "ySpline=Array{Float64}(undef,lsize)\n",
    "for i=1:lsize\n",
    "    for k=1:n\n",
    "        if xx[i]<=x[k+1]\n",
    "            ySpline[i]=C[k](xx[i])\n",
    "            break\n",
    "        end\n",
    "    end\n",
    "end"
   ]
  },
  {
   "cell_type": "code",
   "execution_count": 6,
   "metadata": {},
   "outputs": [
    {
     "data": {
      "image/svg+xml": [
       "<?xml version=\"1.0\" encoding=\"utf-8\"?>\n",
       "<svg xmlns=\"http://www.w3.org/2000/svg\" xmlns:xlink=\"http://www.w3.org/1999/xlink\" width=\"600\" height=\"400\" viewBox=\"0 0 2400 1600\">\n",
       "<defs>\n",
       "  <clipPath id=\"clip0800\">\n",
       "    <rect x=\"0\" y=\"0\" width=\"2400\" height=\"1600\"/>\n",
       "  </clipPath>\n",
       "</defs>\n",
       "<polygon clip-path=\"url(#clip0800)\" points=\"\n",
       "0,1600 2400,1600 2400,0 0,0 \n",
       "  \" fill=\"#ffffff\" fill-rule=\"evenodd\" fill-opacity=\"1\"/>\n",
       "<defs>\n",
       "  <clipPath id=\"clip0801\">\n",
       "    <rect x=\"480\" y=\"0\" width=\"1681\" height=\"1600\"/>\n",
       "  </clipPath>\n",
       "</defs>\n",
       "<polygon clip-path=\"url(#clip0800)\" points=\"\n",
       "153.898,1487.47 2352.76,1487.47 2352.76,47.2441 153.898,47.2441 \n",
       "  \" fill=\"#ffffff\" fill-rule=\"evenodd\" fill-opacity=\"1\"/>\n",
       "<defs>\n",
       "  <clipPath id=\"clip0802\">\n",
       "    <rect x=\"153\" y=\"47\" width=\"2200\" height=\"1441\"/>\n",
       "  </clipPath>\n",
       "</defs>\n",
       "<polyline clip-path=\"url(#clip0802)\" style=\"stroke:#000000; stroke-width:2; stroke-opacity:0.1; fill:none\" points=\"\n",
       "  172.332,1487.47 172.332,47.2441 \n",
       "  \"/>\n",
       "<polyline clip-path=\"url(#clip0802)\" style=\"stroke:#000000; stroke-width:2; stroke-opacity:0.1; fill:none\" points=\"\n",
       "  503.033,1487.47 503.033,47.2441 \n",
       "  \"/>\n",
       "<polyline clip-path=\"url(#clip0802)\" style=\"stroke:#000000; stroke-width:2; stroke-opacity:0.1; fill:none\" points=\"\n",
       "  833.735,1487.47 833.735,47.2441 \n",
       "  \"/>\n",
       "<polyline clip-path=\"url(#clip0802)\" style=\"stroke:#000000; stroke-width:2; stroke-opacity:0.1; fill:none\" points=\"\n",
       "  1164.44,1487.47 1164.44,47.2441 \n",
       "  \"/>\n",
       "<polyline clip-path=\"url(#clip0802)\" style=\"stroke:#000000; stroke-width:2; stroke-opacity:0.1; fill:none\" points=\"\n",
       "  1495.14,1487.47 1495.14,47.2441 \n",
       "  \"/>\n",
       "<polyline clip-path=\"url(#clip0802)\" style=\"stroke:#000000; stroke-width:2; stroke-opacity:0.1; fill:none\" points=\"\n",
       "  1825.84,1487.47 1825.84,47.2441 \n",
       "  \"/>\n",
       "<polyline clip-path=\"url(#clip0802)\" style=\"stroke:#000000; stroke-width:2; stroke-opacity:0.1; fill:none\" points=\"\n",
       "  2156.54,1487.47 2156.54,47.2441 \n",
       "  \"/>\n",
       "<polyline clip-path=\"url(#clip0802)\" style=\"stroke:#000000; stroke-width:2; stroke-opacity:0.1; fill:none\" points=\"\n",
       "  153.898,1288.3 2352.76,1288.3 \n",
       "  \"/>\n",
       "<polyline clip-path=\"url(#clip0802)\" style=\"stroke:#000000; stroke-width:2; stroke-opacity:0.1; fill:none\" points=\"\n",
       "  153.898,961.503 2352.76,961.503 \n",
       "  \"/>\n",
       "<polyline clip-path=\"url(#clip0802)\" style=\"stroke:#000000; stroke-width:2; stroke-opacity:0.1; fill:none\" points=\"\n",
       "  153.898,634.707 2352.76,634.707 \n",
       "  \"/>\n",
       "<polyline clip-path=\"url(#clip0802)\" style=\"stroke:#000000; stroke-width:2; stroke-opacity:0.1; fill:none\" points=\"\n",
       "  153.898,307.912 2352.76,307.912 \n",
       "  \"/>\n",
       "<polyline clip-path=\"url(#clip0800)\" style=\"stroke:#000000; stroke-width:4; stroke-opacity:1; fill:none\" points=\"\n",
       "  153.898,1487.47 2352.76,1487.47 \n",
       "  \"/>\n",
       "<polyline clip-path=\"url(#clip0800)\" style=\"stroke:#000000; stroke-width:4; stroke-opacity:1; fill:none\" points=\"\n",
       "  153.898,1487.47 153.898,47.2441 \n",
       "  \"/>\n",
       "<polyline clip-path=\"url(#clip0800)\" style=\"stroke:#000000; stroke-width:4; stroke-opacity:1; fill:none\" points=\"\n",
       "  172.332,1487.47 172.332,1465.87 \n",
       "  \"/>\n",
       "<polyline clip-path=\"url(#clip0800)\" style=\"stroke:#000000; stroke-width:4; stroke-opacity:1; fill:none\" points=\"\n",
       "  503.033,1487.47 503.033,1465.87 \n",
       "  \"/>\n",
       "<polyline clip-path=\"url(#clip0800)\" style=\"stroke:#000000; stroke-width:4; stroke-opacity:1; fill:none\" points=\"\n",
       "  833.735,1487.47 833.735,1465.87 \n",
       "  \"/>\n",
       "<polyline clip-path=\"url(#clip0800)\" style=\"stroke:#000000; stroke-width:4; stroke-opacity:1; fill:none\" points=\"\n",
       "  1164.44,1487.47 1164.44,1465.87 \n",
       "  \"/>\n",
       "<polyline clip-path=\"url(#clip0800)\" style=\"stroke:#000000; stroke-width:4; stroke-opacity:1; fill:none\" points=\"\n",
       "  1495.14,1487.47 1495.14,1465.87 \n",
       "  \"/>\n",
       "<polyline clip-path=\"url(#clip0800)\" style=\"stroke:#000000; stroke-width:4; stroke-opacity:1; fill:none\" points=\"\n",
       "  1825.84,1487.47 1825.84,1465.87 \n",
       "  \"/>\n",
       "<polyline clip-path=\"url(#clip0800)\" style=\"stroke:#000000; stroke-width:4; stroke-opacity:1; fill:none\" points=\"\n",
       "  2156.54,1487.47 2156.54,1465.87 \n",
       "  \"/>\n",
       "<polyline clip-path=\"url(#clip0800)\" style=\"stroke:#000000; stroke-width:4; stroke-opacity:1; fill:none\" points=\"\n",
       "  153.898,1288.3 186.881,1288.3 \n",
       "  \"/>\n",
       "<polyline clip-path=\"url(#clip0800)\" style=\"stroke:#000000; stroke-width:4; stroke-opacity:1; fill:none\" points=\"\n",
       "  153.898,961.503 186.881,961.503 \n",
       "  \"/>\n",
       "<polyline clip-path=\"url(#clip0800)\" style=\"stroke:#000000; stroke-width:4; stroke-opacity:1; fill:none\" points=\"\n",
       "  153.898,634.707 186.881,634.707 \n",
       "  \"/>\n",
       "<polyline clip-path=\"url(#clip0800)\" style=\"stroke:#000000; stroke-width:4; stroke-opacity:1; fill:none\" points=\"\n",
       "  153.898,307.912 186.881,307.912 \n",
       "  \"/>\n",
       "<g clip-path=\"url(#clip0800)\">\n",
       "<text style=\"fill:#000000; fill-opacity:1; font-family:Arial,Helvetica Neue,Helvetica,sans-serif; font-size:48px; text-anchor:middle;\" transform=\"rotate(0, 172.332, 1541.47)\" x=\"172.332\" y=\"1541.47\">0.3</text>\n",
       "</g>\n",
       "<g clip-path=\"url(#clip0800)\">\n",
       "<text style=\"fill:#000000; fill-opacity:1; font-family:Arial,Helvetica Neue,Helvetica,sans-serif; font-size:48px; text-anchor:middle;\" transform=\"rotate(0, 503.033, 1541.47)\" x=\"503.033\" y=\"1541.47\">0.4</text>\n",
       "</g>\n",
       "<g clip-path=\"url(#clip0800)\">\n",
       "<text style=\"fill:#000000; fill-opacity:1; font-family:Arial,Helvetica Neue,Helvetica,sans-serif; font-size:48px; text-anchor:middle;\" transform=\"rotate(0, 833.735, 1541.47)\" x=\"833.735\" y=\"1541.47\">0.5</text>\n",
       "</g>\n",
       "<g clip-path=\"url(#clip0800)\">\n",
       "<text style=\"fill:#000000; fill-opacity:1; font-family:Arial,Helvetica Neue,Helvetica,sans-serif; font-size:48px; text-anchor:middle;\" transform=\"rotate(0, 1164.44, 1541.47)\" x=\"1164.44\" y=\"1541.47\">0.6</text>\n",
       "</g>\n",
       "<g clip-path=\"url(#clip0800)\">\n",
       "<text style=\"fill:#000000; fill-opacity:1; font-family:Arial,Helvetica Neue,Helvetica,sans-serif; font-size:48px; text-anchor:middle;\" transform=\"rotate(0, 1495.14, 1541.47)\" x=\"1495.14\" y=\"1541.47\">0.7</text>\n",
       "</g>\n",
       "<g clip-path=\"url(#clip0800)\">\n",
       "<text style=\"fill:#000000; fill-opacity:1; font-family:Arial,Helvetica Neue,Helvetica,sans-serif; font-size:48px; text-anchor:middle;\" transform=\"rotate(0, 1825.84, 1541.47)\" x=\"1825.84\" y=\"1541.47\">0.8</text>\n",
       "</g>\n",
       "<g clip-path=\"url(#clip0800)\">\n",
       "<text style=\"fill:#000000; fill-opacity:1; font-family:Arial,Helvetica Neue,Helvetica,sans-serif; font-size:48px; text-anchor:middle;\" transform=\"rotate(0, 2156.54, 1541.47)\" x=\"2156.54\" y=\"1541.47\">0.9</text>\n",
       "</g>\n",
       "<g clip-path=\"url(#clip0800)\">\n",
       "<text style=\"fill:#000000; fill-opacity:1; font-family:Arial,Helvetica Neue,Helvetica,sans-serif; font-size:48px; text-anchor:end;\" transform=\"rotate(0, 129.898, 1305.8)\" x=\"129.898\" y=\"1305.8\">0.0</text>\n",
       "</g>\n",
       "<g clip-path=\"url(#clip0800)\">\n",
       "<text style=\"fill:#000000; fill-opacity:1; font-family:Arial,Helvetica Neue,Helvetica,sans-serif; font-size:48px; text-anchor:end;\" transform=\"rotate(0, 129.898, 979.003)\" x=\"129.898\" y=\"979.003\">0.2</text>\n",
       "</g>\n",
       "<g clip-path=\"url(#clip0800)\">\n",
       "<text style=\"fill:#000000; fill-opacity:1; font-family:Arial,Helvetica Neue,Helvetica,sans-serif; font-size:48px; text-anchor:end;\" transform=\"rotate(0, 129.898, 652.207)\" x=\"129.898\" y=\"652.207\">0.4</text>\n",
       "</g>\n",
       "<g clip-path=\"url(#clip0800)\">\n",
       "<text style=\"fill:#000000; fill-opacity:1; font-family:Arial,Helvetica Neue,Helvetica,sans-serif; font-size:48px; text-anchor:end;\" transform=\"rotate(0, 129.898, 325.412)\" x=\"129.898\" y=\"325.412\">0.6</text>\n",
       "</g>\n",
       "<circle clip-path=\"url(#clip0802)\" style=\"fill:#000000; stroke:none; fill-opacity:1\" cx=\"216.13\" cy=\"330.752\" r=\"18\"/>\n",
       "<circle clip-path=\"url(#clip0802)\" style=\"fill:#009af9; stroke:none; fill-opacity:1\" cx=\"216.13\" cy=\"330.752\" r=\"14\"/>\n",
       "<circle clip-path=\"url(#clip0802)\" style=\"fill:#000000; stroke:none; fill-opacity:1\" cx=\"487.997\" cy=\"1203.11\" r=\"18\"/>\n",
       "<circle clip-path=\"url(#clip0802)\" style=\"fill:#009af9; stroke:none; fill-opacity:1\" cx=\"487.997\" cy=\"1203.11\" r=\"14\"/>\n",
       "<circle clip-path=\"url(#clip0802)\" style=\"fill:#000000; stroke:none; fill-opacity:1\" cx=\"1371.31\" cy=\"849.347\" r=\"18\"/>\n",
       "<circle clip-path=\"url(#clip0802)\" style=\"fill:#009af9; stroke:none; fill-opacity:1\" cx=\"1371.31\" cy=\"849.347\" r=\"14\"/>\n",
       "<circle clip-path=\"url(#clip0802)\" style=\"fill:#000000; stroke:none; fill-opacity:1\" cx=\"1409.02\" cy=\"1110.41\" r=\"18\"/>\n",
       "<circle clip-path=\"url(#clip0802)\" style=\"fill:#009af9; stroke:none; fill-opacity:1\" cx=\"1409.02\" cy=\"1110.41\" r=\"14\"/>\n",
       "<circle clip-path=\"url(#clip0802)\" style=\"fill:#000000; stroke:none; fill-opacity:1\" cx=\"1721.49\" cy=\"1020.87\" r=\"18\"/>\n",
       "<circle clip-path=\"url(#clip0802)\" style=\"fill:#009af9; stroke:none; fill-opacity:1\" cx=\"1721.49\" cy=\"1020.87\" r=\"14\"/>\n",
       "<circle clip-path=\"url(#clip0802)\" style=\"fill:#000000; stroke:none; fill-opacity:1\" cx=\"2290.52\" cy=\"515.4\" r=\"18\"/>\n",
       "<circle clip-path=\"url(#clip0802)\" style=\"fill:#009af9; stroke:none; fill-opacity:1\" cx=\"2290.52\" cy=\"515.4\" r=\"14\"/>\n",
       "<polyline clip-path=\"url(#clip0802)\" style=\"stroke:#e26f46; stroke-width:4; stroke-opacity:1; fill:none\" points=\"\n",
       "  216.13,330.752 226.554,375.188 236.978,419.528 247.402,463.673 257.826,507.528 268.25,550.994 278.674,593.974 289.098,636.372 299.523,678.091 309.947,719.033 \n",
       "  320.371,759.102 330.795,798.2 341.219,836.23 351.643,873.096 362.067,908.699 372.491,942.944 382.915,975.732 393.339,1006.97 403.763,1036.55 414.188,1064.39 \n",
       "  424.612,1090.39 435.036,1114.44 445.46,1136.45 455.884,1156.33 466.308,1173.98 476.732,1189.29 487.156,1202.18 497.58,1212.57 508.004,1220.5 518.428,1226.04 \n",
       "  528.853,1229.28 539.277,1230.28 549.701,1229.13 560.125,1225.9 570.549,1220.67 580.973,1213.51 591.397,1204.51 601.821,1193.73 612.245,1181.26 622.669,1167.16 \n",
       "  633.093,1151.53 643.518,1134.43 653.942,1115.94 664.366,1096.14 674.79,1075.11 685.214,1052.91 695.638,1029.63 706.062,1005.35 716.486,980.132 726.91,954.064 \n",
       "  737.334,927.22 747.758,899.676 758.183,871.509 768.607,842.795 779.031,813.611 789.455,784.034 799.879,754.139 810.303,724.004 820.727,693.706 831.151,663.32 \n",
       "  841.575,632.923 851.999,602.592 862.423,572.404 872.848,542.435 883.272,512.762 893.696,483.46 904.12,454.608 914.544,426.281 924.968,398.556 935.392,371.51 \n",
       "  945.816,345.218 956.24,319.759 966.664,295.207 977.089,271.641 987.513,249.136 997.937,227.769 1008.36,207.617 1018.78,188.755 1029.21,171.262 1039.63,155.213 \n",
       "  1050.06,140.685 1060.48,127.754 1070.91,116.497 1081.33,106.991 1091.75,99.3124 1102.18,93.5375 1112.6,89.7429 1123.03,88.0053 1133.45,88.4013 1143.87,91.0074 \n",
       "  1154.3,95.9001 1164.72,103.156 1175.15,112.852 1185.57,125.064 1195.99,139.87 1206.42,157.345 1216.84,177.566 1227.27,200.61 1237.69,226.553 1248.11,255.472 \n",
       "  1258.54,287.444 1268.96,322.545 1279.39,360.851 1289.81,402.439 1300.24,447.387 1310.66,495.77 1321.08,547.664 1331.51,603.147 1341.93,662.296 1352.36,725.186 \n",
       "  1362.78,791.894 1373.2,862.494 1383.63,936.186 1394.05,1010.12 1404.48,1081.16 1414.9,1146.25 1425.32,1204.15 1435.75,1255.08 1446.17,1299.32 1456.6,1337.16 \n",
       "  1467.02,1368.89 1477.44,1394.79 1487.87,1415.14 1498.29,1430.22 1508.72,1440.32 1519.14,1445.72 1529.57,1446.71 1539.99,1443.57 1550.41,1436.58 1560.84,1426.03 \n",
       "  1571.26,1412.2 1581.69,1395.37 1592.11,1375.83 1602.53,1353.86 1612.96,1329.74 1623.38,1303.76 1633.81,1276.2 1644.23,1247.35 1654.65,1217.49 1665.08,1186.9 \n",
       "  1675.5,1155.86 1685.93,1124.67 1696.35,1093.6 1706.77,1062.93 1717.2,1032.96 1727.62,1003.95 1738.05,976.012 1748.47,949.136 1758.9,923.299 1769.32,898.481 \n",
       "  1779.74,874.663 1790.17,851.823 1800.59,829.943 1811.02,809.002 1821.44,788.981 1831.86,769.858 1842.29,751.615 1852.71,734.232 1863.14,717.687 1873.56,701.962 \n",
       "  1883.98,687.036 1894.41,672.89 1904.83,659.503 1915.26,646.855 1925.68,634.927 1936.1,623.699 1946.53,613.149 1956.95,603.259 1967.38,594.009 1977.8,585.378 \n",
       "  1988.23,577.347 1998.65,569.895 2009.07,563.003 2019.5,556.65 2029.92,550.817 2040.35,545.484 2050.77,540.63 2061.19,536.235 2071.62,532.281 2082.04,528.746 \n",
       "  2092.47,525.61 2102.89,522.855 2113.31,520.459 2123.74,518.403 2134.16,516.666 2144.59,515.23 2155.01,514.073 2165.43,513.176 2175.86,512.518 2186.28,512.081 \n",
       "  2196.71,511.843 2207.13,511.785 2217.56,511.887 2227.98,512.129 2238.4,512.491 2248.83,512.953 2259.25,513.495 2269.68,514.096 2280.1,514.738 2290.52,515.4 \n",
       "  \n",
       "  \"/>\n",
       "<polygon clip-path=\"url(#clip0800)\" points=\"\n",
       "1989.93,312.204 2280.76,312.204 2280.76,130.764 1989.93,130.764 \n",
       "  \" fill=\"#ffffff\" fill-rule=\"evenodd\" fill-opacity=\"1\"/>\n",
       "<polyline clip-path=\"url(#clip0800)\" style=\"stroke:#000000; stroke-width:4; stroke-opacity:1; fill:none\" points=\"\n",
       "  1989.93,312.204 2280.76,312.204 2280.76,130.764 1989.93,130.764 1989.93,312.204 \n",
       "  \"/>\n",
       "<circle clip-path=\"url(#clip0800)\" style=\"fill:#000000; stroke:none; fill-opacity:1\" cx=\"2097.93\" cy=\"191.244\" r=\"25\"/>\n",
       "<circle clip-path=\"url(#clip0800)\" style=\"fill:#009af9; stroke:none; fill-opacity:1\" cx=\"2097.93\" cy=\"191.244\" r=\"21\"/>\n",
       "<g clip-path=\"url(#clip0800)\">\n",
       "<text style=\"fill:#000000; fill-opacity:1; font-family:Arial,Helvetica Neue,Helvetica,sans-serif; font-size:48px; text-anchor:start;\" transform=\"rotate(0, 2181.93, 208.744)\" x=\"2181.93\" y=\"208.744\">y1</text>\n",
       "</g>\n",
       "<polyline clip-path=\"url(#clip0800)\" style=\"stroke:#e26f46; stroke-width:4; stroke-opacity:1; fill:none\" points=\"\n",
       "  2013.93,251.724 2157.93,251.724 \n",
       "  \"/>\n",
       "<g clip-path=\"url(#clip0800)\">\n",
       "<text style=\"fill:#000000; fill-opacity:1; font-family:Arial,Helvetica Neue,Helvetica,sans-serif; font-size:48px; text-anchor:start;\" transform=\"rotate(0, 2181.93, 269.224)\" x=\"2181.93\" y=\"269.224\">y2</text>\n",
       "</g>\n",
       "</svg>\n"
      ]
     },
     "execution_count": 6,
     "metadata": {},
     "output_type": "execute_result"
    }
   ],
   "source": [
    "# Crtanje\n",
    "scatter(x,y)\n",
    "plot!(xx,ySpline)"
   ]
  },
  {
   "cell_type": "markdown",
   "metadata": {},
   "source": [
    "Usporedimo splajn s interpolacijskim polinomom:"
   ]
  },
  {
   "cell_type": "code",
   "execution_count": 7,
   "metadata": {},
   "outputs": [
    {
     "data": {
      "image/svg+xml": [
       "<?xml version=\"1.0\" encoding=\"utf-8\"?>\n",
       "<svg xmlns=\"http://www.w3.org/2000/svg\" xmlns:xlink=\"http://www.w3.org/1999/xlink\" width=\"600\" height=\"400\" viewBox=\"0 0 2400 1600\">\n",
       "<defs>\n",
       "  <clipPath id=\"clip1200\">\n",
       "    <rect x=\"0\" y=\"0\" width=\"2400\" height=\"1600\"/>\n",
       "  </clipPath>\n",
       "</defs>\n",
       "<polygon clip-path=\"url(#clip1200)\" points=\"\n",
       "0,1600 2400,1600 2400,0 0,0 \n",
       "  \" fill=\"#ffffff\" fill-rule=\"evenodd\" fill-opacity=\"1\"/>\n",
       "<defs>\n",
       "  <clipPath id=\"clip1201\">\n",
       "    <rect x=\"480\" y=\"0\" width=\"1681\" height=\"1600\"/>\n",
       "  </clipPath>\n",
       "</defs>\n",
       "<polygon clip-path=\"url(#clip1200)\" points=\"\n",
       "182.008,1487.47 2352.76,1487.47 2352.76,47.2441 182.008,47.2441 \n",
       "  \" fill=\"#ffffff\" fill-rule=\"evenodd\" fill-opacity=\"1\"/>\n",
       "<defs>\n",
       "  <clipPath id=\"clip1202\">\n",
       "    <rect x=\"182\" y=\"47\" width=\"2172\" height=\"1441\"/>\n",
       "  </clipPath>\n",
       "</defs>\n",
       "<polyline clip-path=\"url(#clip1202)\" style=\"stroke:#000000; stroke-width:2; stroke-opacity:0.1; fill:none\" points=\"\n",
       "  200.206,1487.47 200.206,47.2441 \n",
       "  \"/>\n",
       "<polyline clip-path=\"url(#clip1202)\" style=\"stroke:#000000; stroke-width:2; stroke-opacity:0.1; fill:none\" points=\"\n",
       "  526.68,1487.47 526.68,47.2441 \n",
       "  \"/>\n",
       "<polyline clip-path=\"url(#clip1202)\" style=\"stroke:#000000; stroke-width:2; stroke-opacity:0.1; fill:none\" points=\"\n",
       "  853.154,1487.47 853.154,47.2441 \n",
       "  \"/>\n",
       "<polyline clip-path=\"url(#clip1202)\" style=\"stroke:#000000; stroke-width:2; stroke-opacity:0.1; fill:none\" points=\"\n",
       "  1179.63,1487.47 1179.63,47.2441 \n",
       "  \"/>\n",
       "<polyline clip-path=\"url(#clip1202)\" style=\"stroke:#000000; stroke-width:2; stroke-opacity:0.1; fill:none\" points=\"\n",
       "  1506.1,1487.47 1506.1,47.2441 \n",
       "  \"/>\n",
       "<polyline clip-path=\"url(#clip1202)\" style=\"stroke:#000000; stroke-width:2; stroke-opacity:0.1; fill:none\" points=\"\n",
       "  1832.58,1487.47 1832.58,47.2441 \n",
       "  \"/>\n",
       "<polyline clip-path=\"url(#clip1202)\" style=\"stroke:#000000; stroke-width:2; stroke-opacity:0.1; fill:none\" points=\"\n",
       "  2159.05,1487.47 2159.05,47.2441 \n",
       "  \"/>\n",
       "<polyline clip-path=\"url(#clip1202)\" style=\"stroke:#000000; stroke-width:2; stroke-opacity:0.1; fill:none\" points=\"\n",
       "  182.008,1466.76 2352.76,1466.76 \n",
       "  \"/>\n",
       "<polyline clip-path=\"url(#clip1202)\" style=\"stroke:#000000; stroke-width:2; stroke-opacity:0.1; fill:none\" points=\"\n",
       "  182.008,1225.25 2352.76,1225.25 \n",
       "  \"/>\n",
       "<polyline clip-path=\"url(#clip1202)\" style=\"stroke:#000000; stroke-width:2; stroke-opacity:0.1; fill:none\" points=\"\n",
       "  182.008,983.745 2352.76,983.745 \n",
       "  \"/>\n",
       "<polyline clip-path=\"url(#clip1202)\" style=\"stroke:#000000; stroke-width:2; stroke-opacity:0.1; fill:none\" points=\"\n",
       "  182.008,742.235 2352.76,742.235 \n",
       "  \"/>\n",
       "<polyline clip-path=\"url(#clip1202)\" style=\"stroke:#000000; stroke-width:2; stroke-opacity:0.1; fill:none\" points=\"\n",
       "  182.008,500.726 2352.76,500.726 \n",
       "  \"/>\n",
       "<polyline clip-path=\"url(#clip1202)\" style=\"stroke:#000000; stroke-width:2; stroke-opacity:0.1; fill:none\" points=\"\n",
       "  182.008,259.217 2352.76,259.217 \n",
       "  \"/>\n",
       "<polyline clip-path=\"url(#clip1200)\" style=\"stroke:#000000; stroke-width:4; stroke-opacity:1; fill:none\" points=\"\n",
       "  182.008,1487.47 2352.76,1487.47 \n",
       "  \"/>\n",
       "<polyline clip-path=\"url(#clip1200)\" style=\"stroke:#000000; stroke-width:4; stroke-opacity:1; fill:none\" points=\"\n",
       "  182.008,1487.47 182.008,47.2441 \n",
       "  \"/>\n",
       "<polyline clip-path=\"url(#clip1200)\" style=\"stroke:#000000; stroke-width:4; stroke-opacity:1; fill:none\" points=\"\n",
       "  200.206,1487.47 200.206,1465.87 \n",
       "  \"/>\n",
       "<polyline clip-path=\"url(#clip1200)\" style=\"stroke:#000000; stroke-width:4; stroke-opacity:1; fill:none\" points=\"\n",
       "  526.68,1487.47 526.68,1465.87 \n",
       "  \"/>\n",
       "<polyline clip-path=\"url(#clip1200)\" style=\"stroke:#000000; stroke-width:4; stroke-opacity:1; fill:none\" points=\"\n",
       "  853.154,1487.47 853.154,1465.87 \n",
       "  \"/>\n",
       "<polyline clip-path=\"url(#clip1200)\" style=\"stroke:#000000; stroke-width:4; stroke-opacity:1; fill:none\" points=\"\n",
       "  1179.63,1487.47 1179.63,1465.87 \n",
       "  \"/>\n",
       "<polyline clip-path=\"url(#clip1200)\" style=\"stroke:#000000; stroke-width:4; stroke-opacity:1; fill:none\" points=\"\n",
       "  1506.1,1487.47 1506.1,1465.87 \n",
       "  \"/>\n",
       "<polyline clip-path=\"url(#clip1200)\" style=\"stroke:#000000; stroke-width:4; stroke-opacity:1; fill:none\" points=\"\n",
       "  1832.58,1487.47 1832.58,1465.87 \n",
       "  \"/>\n",
       "<polyline clip-path=\"url(#clip1200)\" style=\"stroke:#000000; stroke-width:4; stroke-opacity:1; fill:none\" points=\"\n",
       "  2159.05,1487.47 2159.05,1465.87 \n",
       "  \"/>\n",
       "<polyline clip-path=\"url(#clip1200)\" style=\"stroke:#000000; stroke-width:4; stroke-opacity:1; fill:none\" points=\"\n",
       "  182.008,1466.76 214.569,1466.76 \n",
       "  \"/>\n",
       "<polyline clip-path=\"url(#clip1200)\" style=\"stroke:#000000; stroke-width:4; stroke-opacity:1; fill:none\" points=\"\n",
       "  182.008,1225.25 214.569,1225.25 \n",
       "  \"/>\n",
       "<polyline clip-path=\"url(#clip1200)\" style=\"stroke:#000000; stroke-width:4; stroke-opacity:1; fill:none\" points=\"\n",
       "  182.008,983.745 214.569,983.745 \n",
       "  \"/>\n",
       "<polyline clip-path=\"url(#clip1200)\" style=\"stroke:#000000; stroke-width:4; stroke-opacity:1; fill:none\" points=\"\n",
       "  182.008,742.235 214.569,742.235 \n",
       "  \"/>\n",
       "<polyline clip-path=\"url(#clip1200)\" style=\"stroke:#000000; stroke-width:4; stroke-opacity:1; fill:none\" points=\"\n",
       "  182.008,500.726 214.569,500.726 \n",
       "  \"/>\n",
       "<polyline clip-path=\"url(#clip1200)\" style=\"stroke:#000000; stroke-width:4; stroke-opacity:1; fill:none\" points=\"\n",
       "  182.008,259.217 214.569,259.217 \n",
       "  \"/>\n",
       "<g clip-path=\"url(#clip1200)\">\n",
       "<text style=\"fill:#000000; fill-opacity:1; font-family:Arial,Helvetica Neue,Helvetica,sans-serif; font-size:48px; text-anchor:middle;\" transform=\"rotate(0, 200.206, 1541.47)\" x=\"200.206\" y=\"1541.47\">0.3</text>\n",
       "</g>\n",
       "<g clip-path=\"url(#clip1200)\">\n",
       "<text style=\"fill:#000000; fill-opacity:1; font-family:Arial,Helvetica Neue,Helvetica,sans-serif; font-size:48px; text-anchor:middle;\" transform=\"rotate(0, 526.68, 1541.47)\" x=\"526.68\" y=\"1541.47\">0.4</text>\n",
       "</g>\n",
       "<g clip-path=\"url(#clip1200)\">\n",
       "<text style=\"fill:#000000; fill-opacity:1; font-family:Arial,Helvetica Neue,Helvetica,sans-serif; font-size:48px; text-anchor:middle;\" transform=\"rotate(0, 853.154, 1541.47)\" x=\"853.154\" y=\"1541.47\">0.5</text>\n",
       "</g>\n",
       "<g clip-path=\"url(#clip1200)\">\n",
       "<text style=\"fill:#000000; fill-opacity:1; font-family:Arial,Helvetica Neue,Helvetica,sans-serif; font-size:48px; text-anchor:middle;\" transform=\"rotate(0, 1179.63, 1541.47)\" x=\"1179.63\" y=\"1541.47\">0.6</text>\n",
       "</g>\n",
       "<g clip-path=\"url(#clip1200)\">\n",
       "<text style=\"fill:#000000; fill-opacity:1; font-family:Arial,Helvetica Neue,Helvetica,sans-serif; font-size:48px; text-anchor:middle;\" transform=\"rotate(0, 1506.1, 1541.47)\" x=\"1506.1\" y=\"1541.47\">0.7</text>\n",
       "</g>\n",
       "<g clip-path=\"url(#clip1200)\">\n",
       "<text style=\"fill:#000000; fill-opacity:1; font-family:Arial,Helvetica Neue,Helvetica,sans-serif; font-size:48px; text-anchor:middle;\" transform=\"rotate(0, 1832.58, 1541.47)\" x=\"1832.58\" y=\"1541.47\">0.8</text>\n",
       "</g>\n",
       "<g clip-path=\"url(#clip1200)\">\n",
       "<text style=\"fill:#000000; fill-opacity:1; font-family:Arial,Helvetica Neue,Helvetica,sans-serif; font-size:48px; text-anchor:middle;\" transform=\"rotate(0, 2159.05, 1541.47)\" x=\"2159.05\" y=\"1541.47\">0.9</text>\n",
       "</g>\n",
       "<g clip-path=\"url(#clip1200)\">\n",
       "<text style=\"fill:#000000; fill-opacity:1; font-family:Arial,Helvetica Neue,Helvetica,sans-serif; font-size:48px; text-anchor:end;\" transform=\"rotate(0, 158.008, 1484.26)\" x=\"158.008\" y=\"1484.26\">-0.5</text>\n",
       "</g>\n",
       "<g clip-path=\"url(#clip1200)\">\n",
       "<text style=\"fill:#000000; fill-opacity:1; font-family:Arial,Helvetica Neue,Helvetica,sans-serif; font-size:48px; text-anchor:end;\" transform=\"rotate(0, 158.008, 1242.75)\" x=\"158.008\" y=\"1242.75\">0.0</text>\n",
       "</g>\n",
       "<g clip-path=\"url(#clip1200)\">\n",
       "<text style=\"fill:#000000; fill-opacity:1; font-family:Arial,Helvetica Neue,Helvetica,sans-serif; font-size:48px; text-anchor:end;\" transform=\"rotate(0, 158.008, 1001.24)\" x=\"158.008\" y=\"1001.24\">0.5</text>\n",
       "</g>\n",
       "<g clip-path=\"url(#clip1200)\">\n",
       "<text style=\"fill:#000000; fill-opacity:1; font-family:Arial,Helvetica Neue,Helvetica,sans-serif; font-size:48px; text-anchor:end;\" transform=\"rotate(0, 158.008, 759.735)\" x=\"158.008\" y=\"759.735\">1.0</text>\n",
       "</g>\n",
       "<g clip-path=\"url(#clip1200)\">\n",
       "<text style=\"fill:#000000; fill-opacity:1; font-family:Arial,Helvetica Neue,Helvetica,sans-serif; font-size:48px; text-anchor:end;\" transform=\"rotate(0, 158.008, 518.226)\" x=\"158.008\" y=\"518.226\">1.5</text>\n",
       "</g>\n",
       "<g clip-path=\"url(#clip1200)\">\n",
       "<text style=\"fill:#000000; fill-opacity:1; font-family:Arial,Helvetica Neue,Helvetica,sans-serif; font-size:48px; text-anchor:end;\" transform=\"rotate(0, 158.008, 276.717)\" x=\"158.008\" y=\"276.717\">2.0</text>\n",
       "</g>\n",
       "<circle clip-path=\"url(#clip1202)\" style=\"fill:#000000; stroke:none; fill-opacity:1\" cx=\"243.444\" cy=\"942.194\" r=\"18\"/>\n",
       "<circle clip-path=\"url(#clip1202)\" style=\"fill:#009af9; stroke:none; fill-opacity:1\" cx=\"243.444\" cy=\"942.194\" r=\"14\"/>\n",
       "<circle clip-path=\"url(#clip1202)\" style=\"fill:#000000; stroke:none; fill-opacity:1\" cx=\"511.836\" cy=\"1200.07\" r=\"18\"/>\n",
       "<circle clip-path=\"url(#clip1202)\" style=\"fill:#009af9; stroke:none; fill-opacity:1\" cx=\"511.836\" cy=\"1200.07\" r=\"14\"/>\n",
       "<circle clip-path=\"url(#clip1202)\" style=\"fill:#000000; stroke:none; fill-opacity:1\" cx=\"1383.85\" cy=\"1095.5\" r=\"18\"/>\n",
       "<circle clip-path=\"url(#clip1202)\" style=\"fill:#009af9; stroke:none; fill-opacity:1\" cx=\"1383.85\" cy=\"1095.5\" r=\"14\"/>\n",
       "<circle clip-path=\"url(#clip1202)\" style=\"fill:#000000; stroke:none; fill-opacity:1\" cx=\"1421.08\" cy=\"1172.67\" r=\"18\"/>\n",
       "<circle clip-path=\"url(#clip1202)\" style=\"fill:#009af9; stroke:none; fill-opacity:1\" cx=\"1421.08\" cy=\"1172.67\" r=\"14\"/>\n",
       "<circle clip-path=\"url(#clip1202)\" style=\"fill:#000000; stroke:none; fill-opacity:1\" cx=\"1729.56\" cy=\"1146.2\" r=\"18\"/>\n",
       "<circle clip-path=\"url(#clip1202)\" style=\"fill:#009af9; stroke:none; fill-opacity:1\" cx=\"1729.56\" cy=\"1146.2\" r=\"14\"/>\n",
       "<circle clip-path=\"url(#clip1202)\" style=\"fill:#000000; stroke:none; fill-opacity:1\" cx=\"2291.32\" cy=\"996.778\" r=\"18\"/>\n",
       "<circle clip-path=\"url(#clip1202)\" style=\"fill:#009af9; stroke:none; fill-opacity:1\" cx=\"2291.32\" cy=\"996.778\" r=\"14\"/>\n",
       "<polyline clip-path=\"url(#clip1202)\" style=\"stroke:#e26f46; stroke-width:4; stroke-opacity:1; fill:none\" points=\"\n",
       "  243.444,942.194 253.735,955.33 264.026,968.437 274.317,981.487 284.608,994.451 294.898,1007.3 305.189,1020.01 315.48,1032.54 325.771,1044.87 336.062,1056.97 \n",
       "  346.353,1068.82 356.643,1080.38 366.934,1091.62 377.225,1102.52 387.516,1113.04 397.807,1123.16 408.098,1132.86 418.388,1142.09 428.679,1150.84 438.97,1159.07 \n",
       "  449.261,1166.75 459.552,1173.86 469.843,1180.37 480.133,1186.24 490.424,1191.46 500.715,1195.99 511.006,1199.8 521.297,1202.87 531.588,1205.21 541.878,1206.85 \n",
       "  552.169,1207.81 562.46,1208.1 572.751,1207.76 583.042,1206.81 593.333,1205.26 603.623,1203.15 613.914,1200.48 624.205,1197.3 634.496,1193.61 644.787,1189.45 \n",
       "  655.078,1184.82 665.368,1179.77 675.659,1174.3 685.95,1168.45 696.241,1162.23 706.532,1155.67 716.823,1148.79 727.113,1141.61 737.404,1134.16 747.695,1126.45 \n",
       "  757.986,1118.52 768.277,1110.37 778.568,1102.05 788.858,1093.56 799.149,1084.93 809.44,1076.19 819.731,1067.35 830.022,1058.44 840.313,1049.49 850.603,1040.5 \n",
       "  860.894,1031.52 871.185,1022.55 881.476,1013.63 891.767,1004.77 902.057,995.998 912.348,987.336 922.639,978.807 932.93,970.434 943.221,962.238 953.512,954.243 \n",
       "  963.802,946.471 974.093,938.945 984.384,931.687 994.675,924.721 1004.97,918.068 1015.26,911.752 1025.55,905.794 1035.84,900.219 1046.13,895.048 1056.42,890.303 \n",
       "  1066.71,886.009 1077,882.186 1087.29,878.859 1097.58,876.049 1107.87,873.779 1118.16,872.072 1128.46,870.95 1138.75,870.436 1149.04,870.553 1159.33,871.324 \n",
       "  1169.62,872.77 1179.91,874.915 1190.2,877.781 1200.49,881.391 1210.78,885.768 1221.07,890.934 1231.36,896.911 1241.65,903.723 1251.95,911.392 1262.24,919.941 \n",
       "  1272.53,929.392 1282.82,939.768 1293.11,951.092 1303.4,963.386 1313.69,976.673 1323.98,990.975 1334.27,1006.32 1344.56,1022.72 1354.85,1040.2 1365.14,1058.79 \n",
       "  1375.44,1078.51 1385.73,1099.38 1396.02,1121.17 1406.31,1143.02 1416.6,1164.02 1426.89,1183.26 1437.18,1200.38 1447.47,1215.43 1457.76,1228.51 1468.05,1239.7 \n",
       "  1478.34,1249.08 1488.63,1256.73 1498.93,1262.75 1509.22,1267.21 1519.51,1270.19 1529.8,1271.79 1540.09,1272.08 1550.38,1271.15 1560.67,1269.09 1570.96,1265.97 \n",
       "  1581.25,1261.88 1591.54,1256.9 1601.83,1251.13 1612.12,1244.63 1622.42,1237.5 1632.71,1229.82 1643,1221.68 1653.29,1213.15 1663.58,1204.32 1673.87,1195.28 \n",
       "  1684.16,1186.1 1694.45,1176.88 1704.74,1167.7 1715.03,1158.63 1725.32,1149.77 1735.61,1141.2 1745.91,1132.94 1756.2,1124.99 1766.49,1117.36 1776.78,1110.02 \n",
       "  1787.07,1102.98 1797.36,1096.23 1807.65,1089.76 1817.94,1083.57 1828.23,1077.65 1838.52,1072 1848.81,1066.61 1859.1,1061.47 1869.4,1056.58 1879.69,1051.93 \n",
       "  1889.98,1047.52 1900.27,1043.33 1910.56,1039.38 1920.85,1035.64 1931.14,1032.11 1941.43,1028.79 1951.72,1025.67 1962.01,1022.75 1972.3,1020.02 1982.59,1017.46 \n",
       "  1992.89,1015.09 2003.18,1012.89 2013.47,1010.85 2023.76,1008.97 2034.05,1007.25 2044.34,1005.67 2054.63,1004.24 2064.92,1002.94 2075.21,1001.77 2085.5,1000.72 \n",
       "  2095.79,999.796 2106.08,998.982 2116.38,998.274 2126.67,997.666 2136.96,997.152 2147.25,996.728 2157.54,996.386 2167.83,996.121 2178.12,995.926 2188.41,995.797 \n",
       "  2198.7,995.727 2208.99,995.71 2219.28,995.74 2229.57,995.811 2239.87,995.918 2250.16,996.055 2260.45,996.215 2270.74,996.393 2281.03,996.582 2291.32,996.778 \n",
       "  \n",
       "  \"/>\n",
       "<polyline clip-path=\"url(#clip1202)\" style=\"stroke:#3da44d; stroke-width:4; stroke-opacity:1; fill:none\" points=\"\n",
       "  243.444,942.194 253.735,1023.1 264.026,1095.66 274.317,1160.25 284.608,1217.27 294.898,1267.06 305.189,1310 315.48,1346.43 325.771,1376.69 336.062,1401.11 \n",
       "  346.353,1420.01 356.643,1433.71 366.934,1442.51 377.225,1446.71 387.516,1446.6 397.807,1442.45 408.098,1434.54 418.388,1423.14 428.679,1408.49 438.97,1390.85 \n",
       "  449.261,1370.45 459.552,1347.53 469.843,1322.32 480.133,1295.03 490.424,1265.86 500.715,1235.03 511.006,1202.74 521.297,1169.15 531.588,1134.47 541.878,1098.86 \n",
       "  552.169,1062.49 562.46,1025.53 572.751,988.119 583.042,950.415 593.333,912.558 603.623,874.683 613.914,836.919 624.205,799.388 634.496,762.208 644.787,725.49 \n",
       "  655.078,689.338 665.368,653.853 675.659,619.128 685.95,585.251 696.241,552.305 706.532,520.368 716.823,489.513 727.113,459.805 737.404,431.308 747.695,404.078 \n",
       "  757.986,378.169 768.277,353.626 778.568,330.494 788.858,308.811 799.149,288.61 809.44,269.922 819.731,252.771 830.022,237.179 840.313,223.163 850.603,210.736 \n",
       "  860.894,199.907 871.185,190.681 881.476,183.061 891.767,177.045 902.057,172.627 912.348,169.799 922.639,168.548 932.93,168.861 943.221,170.718 953.512,174.099 \n",
       "  963.802,178.979 974.093,185.332 984.384,193.127 994.675,202.333 1004.97,212.916 1015.26,224.838 1025.55,238.059 1035.84,252.538 1046.13,268.232 1056.42,285.095 \n",
       "  1066.71,303.079 1077,322.134 1087.29,342.21 1097.58,363.254 1107.87,385.211 1118.16,408.026 1128.46,431.641 1138.75,455.999 1149.04,481.04 1159.33,506.703 \n",
       "  1169.62,532.927 1179.91,559.649 1190.2,586.808 1200.49,614.339 1210.78,642.177 1221.07,670.259 1231.36,698.519 1241.65,726.892 1251.95,755.313 1262.24,783.715 \n",
       "  1272.53,812.035 1282.82,840.206 1293.11,868.162 1303.4,895.841 1313.69,923.177 1323.98,950.106 1334.27,976.565 1344.56,1002.49 1354.85,1027.82 1365.14,1052.5 \n",
       "  1375.44,1076.47 1385.73,1099.66 1396.02,1122.02 1406.31,1143.49 1416.6,1164.03 1426.89,1183.57 1437.18,1202.06 1447.47,1219.46 1457.76,1235.71 1468.05,1250.77 \n",
       "  1478.34,1264.6 1488.63,1277.16 1498.93,1288.39 1509.22,1298.28 1519.51,1306.77 1529.8,1313.84 1540.09,1319.46 1550.38,1323.6 1560.67,1326.23 1570.96,1327.34 \n",
       "  1581.25,1326.9 1591.54,1324.9 1601.83,1321.33 1612.12,1316.17 1622.42,1309.42 1632.71,1301.08 1643,1291.15 1653.29,1279.63 1663.58,1266.53 1673.87,1251.87 \n",
       "  1684.16,1235.65 1694.45,1217.91 1704.74,1198.66 1715.03,1177.93 1725.32,1155.75 1735.61,1132.17 1745.91,1107.22 1756.2,1080.95 1766.49,1053.41 1776.78,1024.66 \n",
       "  1787.07,994.76 1797.36,963.772 1807.65,931.768 1817.94,898.826 1828.23,865.026 1838.52,830.456 1848.81,795.208 1859.1,759.379 1869.4,723.074 1879.69,686.402 \n",
       "  1889.98,649.479 1900.27,612.425 1910.56,575.368 1920.85,538.443 1931.14,501.788 1941.43,465.55 1951.72,429.882 1962.01,394.943 1972.3,360.9 1982.59,327.925 \n",
       "  1992.89,296.197 2003.18,265.905 2013.47,237.24 2023.76,210.404 2034.05,185.605 2044.34,163.06 2054.63,142.989 2064.92,125.625 2075.21,111.205 2085.5,99.9757 \n",
       "  2095.79,92.19 2106.08,88.11 2116.38,88.0053 2126.67,92.1539 2136.96,100.842 2147.25,114.364 2157.54,133.022 2167.83,157.129 2178.12,187.003 2188.41,222.975 \n",
       "  2198.7,265.381 2208.99,314.568 2219.28,370.891 2229.57,434.715 2239.87,506.415 2250.16,586.372 2260.45,674.981 2270.74,772.642 2281.03,879.767 2291.32,996.778 \n",
       "  \n",
       "  \"/>\n",
       "<polygon clip-path=\"url(#clip1200)\" points=\"\n",
       "1989.93,372.684 2280.76,372.684 2280.76,130.764 1989.93,130.764 \n",
       "  \" fill=\"#ffffff\" fill-rule=\"evenodd\" fill-opacity=\"1\"/>\n",
       "<polyline clip-path=\"url(#clip1200)\" style=\"stroke:#000000; stroke-width:4; stroke-opacity:1; fill:none\" points=\"\n",
       "  1989.93,372.684 2280.76,372.684 2280.76,130.764 1989.93,130.764 1989.93,372.684 \n",
       "  \"/>\n",
       "<circle clip-path=\"url(#clip1200)\" style=\"fill:#000000; stroke:none; fill-opacity:1\" cx=\"2097.93\" cy=\"191.244\" r=\"25\"/>\n",
       "<circle clip-path=\"url(#clip1200)\" style=\"fill:#009af9; stroke:none; fill-opacity:1\" cx=\"2097.93\" cy=\"191.244\" r=\"21\"/>\n",
       "<g clip-path=\"url(#clip1200)\">\n",
       "<text style=\"fill:#000000; fill-opacity:1; font-family:Arial,Helvetica Neue,Helvetica,sans-serif; font-size:48px; text-anchor:start;\" transform=\"rotate(0, 2181.93, 208.744)\" x=\"2181.93\" y=\"208.744\">y1</text>\n",
       "</g>\n",
       "<polyline clip-path=\"url(#clip1200)\" style=\"stroke:#e26f46; stroke-width:4; stroke-opacity:1; fill:none\" points=\"\n",
       "  2013.93,251.724 2157.93,251.724 \n",
       "  \"/>\n",
       "<g clip-path=\"url(#clip1200)\">\n",
       "<text style=\"fill:#000000; fill-opacity:1; font-family:Arial,Helvetica Neue,Helvetica,sans-serif; font-size:48px; text-anchor:start;\" transform=\"rotate(0, 2181.93, 269.224)\" x=\"2181.93\" y=\"269.224\">y2</text>\n",
       "</g>\n",
       "<polyline clip-path=\"url(#clip1200)\" style=\"stroke:#3da44d; stroke-width:4; stroke-opacity:1; fill:none\" points=\"\n",
       "  2013.93,312.204 2157.93,312.204 \n",
       "  \"/>\n",
       "<g clip-path=\"url(#clip1200)\">\n",
       "<text style=\"fill:#000000; fill-opacity:1; font-family:Arial,Helvetica Neue,Helvetica,sans-serif; font-size:48px; text-anchor:start;\" transform=\"rotate(0, 2181.93, 329.704)\" x=\"2181.93\" y=\"329.704\">y3</text>\n",
       "</g>\n",
       "</svg>\n"
      ]
     },
     "execution_count": 7,
     "metadata": {},
     "output_type": "execute_result"
    }
   ],
   "source": [
    "A=Vandermonde(x)\n",
    "p=Poly(A\\y)\n",
    "yPoly=polyval(p,xx)\n",
    "scatter(x,y)\n",
    "plot!(xx,[ySpline yPoly])"
   ]
  },
  {
   "cell_type": "markdown",
   "metadata": {},
   "source": [
    "Usporedimo splajn s interpolacijskim polinomom kada mijenjamo jednu točku:"
   ]
  },
  {
   "cell_type": "code",
   "execution_count": 8,
   "metadata": {},
   "outputs": [
    {
     "data": {
      "text/html": [
       "<script>\n",
       "// Immediately-invoked-function-expression to avoid global variables.\n",
       "(function() {\n",
       "    var warning_div = document.getElementById(\"webio-warning-6621655647250808943\");\n",
       "    var hide = function () {\n",
       "        var script = document.getElementById(\"webio-setup-18267970948629578914\");\n",
       "        var parent = script && script.parentElement;\n",
       "        var grandparent = parent && parent.parentElement;\n",
       "        if (grandparent) {\n",
       "            grandparent.style.display = \"none\";\n",
       "        }\n",
       "        warning_div.style.display = \"none\";\n",
       "    };\n",
       "    if (typeof Jupyter !== \"undefined\") {\n",
       "        console.log(\"WebIO detected Jupyter notebook environment.\");\n",
       "        // Jupyter notebook.\n",
       "        var extensions = (\n",
       "            Jupyter\n",
       "            && Jupyter.notebook.config.data\n",
       "            && Jupyter.notebook.config.data.load_extensions\n",
       "        );\n",
       "        if (extensions && extensions[\"webio-jupyter-notebook\"]) {\n",
       "            // Extension already loaded.\n",
       "            console.log(\"Jupyter WebIO nbextension detected; not loading ad-hoc.\");\n",
       "            hide();\n",
       "            return;\n",
       "        }\n",
       "    } else if (window.location.pathname.includes(\"/lab\")) {\n",
       "        // Guessing JupyterLa\n",
       "        console.log(\"Jupyter Lab detected; make sure the @webio/jupyter-lab-provider labextension is installed.\");\n",
       "        hide();\n",
       "        return;\n",
       "    }\n",
       "})();\n",
       "\n",
       "</script>\n",
       "<p\n",
       "    id=\"webio-warning-6621655647250808943\"\n",
       "    class=\"output_text output_stderr\"\n",
       "    style=\"padding: 1em; font-weight: bold;\"\n",
       ">\n",
       "    Unable to load WebIO. Please make sure WebIO works for your Jupyter client.\n",
       "    For troubleshooting, please see <a href=\"https://juliagizmos.github.io/WebIO.jl/latest/providers/ijulia/\">\n",
       "    the WebIO/IJulia documentation</a>.\n",
       "    <!-- TODO: link to installation docs. -->\n",
       "</p>\n"
      ],
      "text/plain": [
       "HTML{String}(\"<script>\\n// Immediately-invoked-function-expression to avoid global variables.\\n(function() {\\n    var warning_div = document.getElementById(\\\"webio-warning-6621655647250808943\\\");\\n    var hide = function () {\\n        var script = document.getElementById(\\\"webio-setup-18267970948629578914\\\");\\n        var parent = script && script.parentElement;\\n        var grandparent = parent && parent.parentElement;\\n        if (grandparent) {\\n            grandparent.style.display = \\\"none\\\";\\n        }\\n        warning_div.style.display = \\\"none\\\";\\n    };\\n    if (typeof Jupyter !== \\\"undefined\\\") {\\n        console.log(\\\"WebIO detected Jupyter notebook environment.\\\");\\n        // Jupyter notebook.\\n        var extensions = (\\n            Jupyter\\n            && Jupyter.notebook.config.data\\n            && Jupyter.notebook.config.data.load_extensions\\n        );\\n        if (extensions && extensions[\\\"webio-jupyter-notebook\\\"]) {\\n            // Extension already loaded.\\n            console.log(\\\"Jupyter WebIO nbextension detected; not loading ad-hoc.\\\");\\n            hide();\\n            return;\\n        }\\n    } else if (window.location.pathname.includes(\\\"/lab\\\")) {\\n        // Guessing JupyterLa\\n        console.log(\\\"Jupyter Lab detected; make sure the @webio/jupyter-lab-provider labextension is installed.\\\");\\n        hide();\\n        return;\\n    }\\n})();\\n\\n</script>\\n<p\\n    id=\\\"webio-warning-6621655647250808943\\\"\\n    class=\\\"output_text output_stderr\\\"\\n    style=\\\"padding: 1em; font-weight: bold;\\\"\\n>\\n    Unable to load WebIO. Please make sure WebIO works for your Jupyter client.\\n    For troubleshooting, please see <a href=\\\"https://juliagizmos.github.io/WebIO.jl/latest/providers/ijulia/\\\">\\n    the WebIO/IJulia documentation</a>.\\n    <!-- TODO: link to installation docs. -->\\n</p>\\n\")"
      ]
     },
     "metadata": {},
     "output_type": "display_data"
    }
   ],
   "source": [
    "using Interact"
   ]
  },
  {
   "cell_type": "code",
   "execution_count": 10,
   "metadata": {},
   "outputs": [
    {
     "data": {
      "application/vnd.webio.node+json": {
       "children": [
        {
         "children": [
          {
           "children": [
            {
             "children": [
              {
               "children": [
                {
                 "children": [
                  "xp"
                 ],
                 "instanceArgs": {
                  "namespace": "html",
                  "tag": "label"
                 },
                 "nodeType": "DOM",
                 "props": {
                  "className": "interact ",
                  "style": {
                   "padding": "5px 10px 0px 10px"
                  }
                 },
                 "type": "node"
                }
               ],
               "instanceArgs": {
                "namespace": "html",
                "tag": "div"
               },
               "nodeType": "DOM",
               "props": {
                "className": "interact-flex-row-left"
               },
               "type": "node"
              },
              {
               "children": [
                {
                 "children": [],
                 "instanceArgs": {
                  "namespace": "html",
                  "tag": "input"
                 },
                 "nodeType": "DOM",
                 "props": {
                  "attributes": {
                   "data-bind": "numericValue: index, valueUpdate: 'input', event: {change: function (){this.changes(this.changes()+1)}}",
                   "orient": "horizontal",
                   "type": "range"
                  },
                  "className": "slider slider is-fullwidth",
                  "max": 28,
                  "min": 1,
                  "step": 1,
                  "style": {}
                 },
                 "type": "node"
                }
               ],
               "instanceArgs": {
                "namespace": "html",
                "tag": "div"
               },
               "nodeType": "DOM",
               "props": {
                "className": "interact-flex-row-center"
               },
               "type": "node"
              },
              {
               "children": [
                {
                 "children": [],
                 "instanceArgs": {
                  "namespace": "html",
                  "tag": "p"
                 },
                 "nodeType": "DOM",
                 "props": {
                  "attributes": {
                   "data-bind": "text: formatted_val"
                  }
                 },
                 "type": "node"
                }
               ],
               "instanceArgs": {
                "namespace": "html",
                "tag": "div"
               },
               "nodeType": "DOM",
               "props": {
                "className": "interact-flex-row-right"
               },
               "type": "node"
              }
             ],
             "instanceArgs": {
              "namespace": "html",
              "tag": "div"
             },
             "nodeType": "DOM",
             "props": {
              "className": "interact-flex-row interact-widget"
             },
             "type": "node"
            }
           ],
           "instanceArgs": {
            "handlers": {
             "changes": [
              "(function (val){return (val!=this.model[\"changes\"]()) ? (this.valueFromJulia[\"changes\"]=true, this.model[\"changes\"](val)) : undefined})"
             ],
             "index": [
              "(function (val){return (val!=this.model[\"index\"]()) ? (this.valueFromJulia[\"index\"]=true, this.model[\"index\"](val)) : undefined})"
             ]
            },
            "id": "10968646931912011571",
            "imports": {
             "data": [
              {
               "name": "knockout",
               "type": "js",
               "url": "/assetserver/2b9036ad2bf63f6f8ec7e0ef518784e2d189a641-knockout.js"
              },
              {
               "name": "knockout_punches",
               "type": "js",
               "url": "/assetserver/25c70325a7f555432ff81bbe4a02595ace6c3789-knockout_punches.js"
              },
              {
               "name": null,
               "type": "js",
               "url": "/assetserver/58938f6a69194ca059786346a0ab1343062c07a8-all.js"
              },
              {
               "name": null,
               "type": "css",
               "url": "/assetserver/a767dce781720d28636657e9fdb402d5dd95a43f-style.css"
              },
              {
               "name": null,
               "type": "css",
               "url": "/assetserver/0a45021d6c37e0a7c348c567eabbeee2c0f10e1f-bulma_confined.min.css"
              }
             ],
             "type": "async_block"
            },
            "mount_callbacks": [
             "function () {\n    var handler = (function (ko, koPunches) {\n    ko.punches.enableAll();\n    ko.bindingHandlers.numericValue = {\n        init: function(element, valueAccessor, allBindings, data, context) {\n            var stringified = ko.observable(ko.unwrap(valueAccessor()));\n            stringified.subscribe(function(value) {\n                var val = parseFloat(value);\n                if (!isNaN(val)) {\n                    valueAccessor()(val);\n                }\n            });\n            valueAccessor().subscribe(function(value) {\n                var str = JSON.stringify(value);\n                if ((str == \"0\") && ([\"-0\", \"-0.\"].indexOf(stringified()) >= 0))\n                     return;\n                 if ([\"null\", \"\"].indexOf(str) >= 0)\n                     return;\n                stringified(str);\n            });\n            ko.applyBindingsToNode(\n                element,\n                {\n                    value: stringified,\n                    valueUpdate: allBindings.get('valueUpdate'),\n                },\n                context,\n            );\n        }\n    };\n    var json_data = {\"formatted_vals\":[\"0.395453\",\"0.405453\",\"0.415453\",\"0.425453\",\"0.435453\",\"0.445453\",\"0.455453\",\"0.465453\",\"0.475453\",\"0.485453\",\"0.495453\",\"0.505453\",\"0.515453\",\"0.525453\",\"0.535453\",\"0.545453\",\"0.555453\",\"0.565453\",\"0.575453\",\"0.585453\",\"0.595453\",\"0.605453\",\"0.615453\",\"0.625453\",\"0.635453\",\"0.645453\",\"0.655453\",\"0.665453\"],\"changes\":WebIO.getval({\"name\":\"changes\",\"scope\":\"10968646931912011571\",\"id\":\"ob_12\",\"type\":\"observable\"}),\"index\":WebIO.getval({\"name\":\"index\",\"scope\":\"10968646931912011571\",\"id\":\"ob_11\",\"type\":\"observable\"})};\n    var self = this;\n    function AppViewModel() {\n        for (var key in json_data) {\n            var el = json_data[key];\n            this[key] = Array.isArray(el) ? ko.observableArray(el) : ko.observable(el);\n        }\n        \n        [this[\"formatted_val\"]=ko.computed(    function(){\n        return this.formatted_vals()[parseInt(this.index())-(1)];\n    }\n,this)]\n        [this[\"changes\"].subscribe((function (val){!(this.valueFromJulia[\"changes\"]) ? (WebIO.setval({\"name\":\"changes\",\"scope\":\"10968646931912011571\",\"id\":\"ob_12\",\"type\":\"observable\"},val)) : undefined; return this.valueFromJulia[\"changes\"]=false}),self),this[\"index\"].subscribe((function (val){!(this.valueFromJulia[\"index\"]) ? (WebIO.setval({\"name\":\"index\",\"scope\":\"10968646931912011571\",\"id\":\"ob_11\",\"type\":\"observable\"},val)) : undefined; return this.valueFromJulia[\"index\"]=false}),self)]\n        \n    }\n    self.model = new AppViewModel();\n    self.valueFromJulia = {};\n    for (var key in json_data) {\n        self.valueFromJulia[key] = false;\n    }\n    ko.applyBindings(self.model, self.dom);\n}\n);\n    (WebIO.importBlock({\"data\":[{\"name\":\"knockout\",\"type\":\"js\",\"url\":\"/assetserver/2b9036ad2bf63f6f8ec7e0ef518784e2d189a641-knockout.js\"},{\"name\":\"knockout_punches\",\"type\":\"js\",\"url\":\"/assetserver/25c70325a7f555432ff81bbe4a02595ace6c3789-knockout_punches.js\"}],\"type\":\"async_block\"})).then((imports) => handler.apply(this, imports));\n}\n"
            ],
            "observables": {
             "changes": {
              "id": "ob_12",
              "sync": false,
              "value": 0
             },
             "index": {
              "id": "ob_11",
              "sync": true,
              "value": 14
             }
            },
            "systemjs_options": null
           },
           "nodeType": "Scope",
           "props": {},
           "type": "node"
          }
         ],
         "instanceArgs": {
          "namespace": "html",
          "tag": "div"
         },
         "nodeType": "DOM",
         "props": {
          "className": "field interact-widget"
         },
         "type": "node"
        },
        {
         "children": [
          {
           "children": [],
           "instanceArgs": {
            "id": "ob_18",
            "name": "obs-node"
           },
           "nodeType": "ObservableNode",
           "props": {},
           "type": "node"
          }
         ],
         "instanceArgs": {
          "handlers": {},
          "id": "16614716690937021318",
          "imports": {
           "data": [],
           "type": "async_block"
          },
          "mount_callbacks": [],
          "observables": {
           "obs-node": {
            "id": "ob_18",
            "sync": false,
            "value": {
             "children": [
              {
               "children": [],
               "instanceArgs": {
                "namespace": "html",
                "tag": "div"
               },
               "nodeType": "DOM",
               "props": {
                "setInnerHtml": "<?xml version=\"1.0\" encoding=\"utf-8\"?>\n<svg xmlns=\"http://www.w3.org/2000/svg\" xmlns:xlink=\"http://www.w3.org/1999/xlink\" width=\"600\" height=\"400\" viewBox=\"0 0 2400 1600\">\n<defs>\n  <clipPath id=\"clip2800\">\n    <rect x=\"0\" y=\"0\" width=\"2400\" height=\"1600\"/>\n  </clipPath>\n</defs>\n<polygon clip-path=\"url(#clip2800)\" points=\"\n0,1600 2400,1600 2400,0 0,0 \n  \" fill=\"#ffffff\" fill-rule=\"evenodd\" fill-opacity=\"1\"/>\n<defs>\n  <clipPath id=\"clip2801\">\n    <rect x=\"480\" y=\"0\" width=\"1681\" height=\"1600\"/>\n  </clipPath>\n</defs>\n<polygon clip-path=\"url(#clip2800)\" points=\"\n153.898,1487.47 2352.76,1487.47 2352.76,47.2441 153.898,47.2441 \n  \" fill=\"#ffffff\" fill-rule=\"evenodd\" fill-opacity=\"1\"/>\n<defs>\n  <clipPath id=\"clip2802\">\n    <rect x=\"153\" y=\"47\" width=\"2200\" height=\"1441\"/>\n  </clipPath>\n</defs>\n<polyline clip-path=\"url(#clip2802)\" style=\"stroke:#000000; stroke-width:2; stroke-opacity:0.1; fill:none\" points=\"\n  172.332,1487.47 172.332,47.2441 \n  \"/>\n<polyline clip-path=\"url(#clip2802)\" style=\"stroke:#000000; stroke-width:2; stroke-opacity:0.1; fill:none\" points=\"\n  503.033,1487.47 503.033,47.2441 \n  \"/>\n<polyline clip-path=\"url(#clip2802)\" style=\"stroke:#000000; stroke-width:2; stroke-opacity:0.1; fill:none\" points=\"\n  833.735,1487.47 833.735,47.2441 \n  \"/>\n<polyline clip-path=\"url(#clip2802)\" style=\"stroke:#000000; stroke-width:2; stroke-opacity:0.1; fill:none\" points=\"\n  1164.44,1487.47 1164.44,47.2441 \n  \"/>\n<polyline clip-path=\"url(#clip2802)\" style=\"stroke:#000000; stroke-width:2; stroke-opacity:0.1; fill:none\" points=\"\n  1495.14,1487.47 1495.14,47.2441 \n  \"/>\n<polyline clip-path=\"url(#clip2802)\" style=\"stroke:#000000; stroke-width:2; stroke-opacity:0.1; fill:none\" points=\"\n  1825.84,1487.47 1825.84,47.2441 \n  \"/>\n<polyline clip-path=\"url(#clip2802)\" style=\"stroke:#000000; stroke-width:2; stroke-opacity:0.1; fill:none\" points=\"\n  2156.54,1487.47 2156.54,47.2441 \n  \"/>\n<polyline clip-path=\"url(#clip2802)\" style=\"stroke:#000000; stroke-width:2; stroke-opacity:0.1; fill:none\" points=\"\n  153.898,1264.68 2352.76,1264.68 \n  \"/>\n<polyline clip-path=\"url(#clip2802)\" style=\"stroke:#000000; stroke-width:2; stroke-opacity:0.1; fill:none\" points=\"\n  153.898,1029.27 2352.76,1029.27 \n  \"/>\n<polyline clip-path=\"url(#clip2802)\" style=\"stroke:#000000; stroke-width:2; stroke-opacity:0.1; fill:none\" points=\"\n  153.898,793.864 2352.76,793.864 \n  \"/>\n<polyline clip-path=\"url(#clip2802)\" style=\"stroke:#000000; stroke-width:2; stroke-opacity:0.1; fill:none\" points=\"\n  153.898,558.454 2352.76,558.454 \n  \"/>\n<polyline clip-path=\"url(#clip2802)\" style=\"stroke:#000000; stroke-width:2; stroke-opacity:0.1; fill:none\" points=\"\n  153.898,323.044 2352.76,323.044 \n  \"/>\n<polyline clip-path=\"url(#clip2802)\" style=\"stroke:#000000; stroke-width:2; stroke-opacity:0.1; fill:none\" points=\"\n  153.898,87.6341 2352.76,87.6341 \n  \"/>\n<polyline clip-path=\"url(#clip2800)\" style=\"stroke:#000000; stroke-width:4; stroke-opacity:1; fill:none\" points=\"\n  153.898,1487.47 2352.76,1487.47 \n  \"/>\n<polyline clip-path=\"url(#clip2800)\" style=\"stroke:#000000; stroke-width:4; stroke-opacity:1; fill:none\" points=\"\n  153.898,1487.47 153.898,47.2441 \n  \"/>\n<polyline clip-path=\"url(#clip2800)\" style=\"stroke:#000000; stroke-width:4; stroke-opacity:1; fill:none\" points=\"\n  172.332,1487.47 172.332,1465.87 \n  \"/>\n<polyline clip-path=\"url(#clip2800)\" style=\"stroke:#000000; stroke-width:4; stroke-opacity:1; fill:none\" points=\"\n  503.033,1487.47 503.033,1465.87 \n  \"/>\n<polyline clip-path=\"url(#clip2800)\" style=\"stroke:#000000; stroke-width:4; stroke-opacity:1; fill:none\" points=\"\n  833.735,1487.47 833.735,1465.87 \n  \"/>\n<polyline clip-path=\"url(#clip2800)\" style=\"stroke:#000000; stroke-width:4; stroke-opacity:1; fill:none\" points=\"\n  1164.44,1487.47 1164.44,1465.87 \n  \"/>\n<polyline clip-path=\"url(#clip2800)\" style=\"stroke:#000000; stroke-width:4; stroke-opacity:1; fill:none\" points=\"\n  1495.14,1487.47 1495.14,1465.87 \n  \"/>\n<polyline clip-path=\"url(#clip2800)\" style=\"stroke:#000000; stroke-width:4; stroke-opacity:1; fill:none\" points=\"\n  1825.84,1487.47 1825.84,1465.87 \n  \"/>\n<polyline clip-path=\"url(#clip2800)\" style=\"stroke:#000000; stroke-width:4; stroke-opacity:1; fill:none\" points=\"\n  2156.54,1487.47 2156.54,1465.87 \n  \"/>\n<polyline clip-path=\"url(#clip2800)\" style=\"stroke:#000000; stroke-width:4; stroke-opacity:1; fill:none\" points=\"\n  153.898,1264.68 186.881,1264.68 \n  \"/>\n<polyline clip-path=\"url(#clip2800)\" style=\"stroke:#000000; stroke-width:4; stroke-opacity:1; fill:none\" points=\"\n  153.898,1029.27 186.881,1029.27 \n  \"/>\n<polyline clip-path=\"url(#clip2800)\" style=\"stroke:#000000; stroke-width:4; stroke-opacity:1; fill:none\" points=\"\n  153.898,793.864 186.881,793.864 \n  \"/>\n<polyline clip-path=\"url(#clip2800)\" style=\"stroke:#000000; stroke-width:4; stroke-opacity:1; fill:none\" points=\"\n  153.898,558.454 186.881,558.454 \n  \"/>\n<polyline clip-path=\"url(#clip2800)\" style=\"stroke:#000000; stroke-width:4; stroke-opacity:1; fill:none\" points=\"\n  153.898,323.044 186.881,323.044 \n  \"/>\n<polyline clip-path=\"url(#clip2800)\" style=\"stroke:#000000; stroke-width:4; stroke-opacity:1; fill:none\" points=\"\n  153.898,87.6341 186.881,87.6341 \n  \"/>\n<g clip-path=\"url(#clip2800)\">\n<text style=\"fill:#000000; fill-opacity:1; font-family:Arial,Helvetica Neue,Helvetica,sans-serif; font-size:48px; text-anchor:middle;\" transform=\"rotate(0, 172.332, 1541.47)\" x=\"172.332\" y=\"1541.47\">0.3</text>\n</g>\n<g clip-path=\"url(#clip2800)\">\n<text style=\"fill:#000000; fill-opacity:1; font-family:Arial,Helvetica Neue,Helvetica,sans-serif; font-size:48px; text-anchor:middle;\" transform=\"rotate(0, 503.033, 1541.47)\" x=\"503.033\" y=\"1541.47\">0.4</text>\n</g>\n<g clip-path=\"url(#clip2800)\">\n<text style=\"fill:#000000; fill-opacity:1; font-family:Arial,Helvetica Neue,Helvetica,sans-serif; font-size:48px; text-anchor:middle;\" transform=\"rotate(0, 833.735, 1541.47)\" x=\"833.735\" y=\"1541.47\">0.5</text>\n</g>\n<g clip-path=\"url(#clip2800)\">\n<text style=\"fill:#000000; fill-opacity:1; font-family:Arial,Helvetica Neue,Helvetica,sans-serif; font-size:48px; text-anchor:middle;\" transform=\"rotate(0, 1164.44, 1541.47)\" x=\"1164.44\" y=\"1541.47\">0.6</text>\n</g>\n<g clip-path=\"url(#clip2800)\">\n<text style=\"fill:#000000; fill-opacity:1; font-family:Arial,Helvetica Neue,Helvetica,sans-serif; font-size:48px; text-anchor:middle;\" transform=\"rotate(0, 1495.14, 1541.47)\" x=\"1495.14\" y=\"1541.47\">0.7</text>\n</g>\n<g clip-path=\"url(#clip2800)\">\n<text style=\"fill:#000000; fill-opacity:1; font-family:Arial,Helvetica Neue,Helvetica,sans-serif; font-size:48px; text-anchor:middle;\" transform=\"rotate(0, 1825.84, 1541.47)\" x=\"1825.84\" y=\"1541.47\">0.8</text>\n</g>\n<g clip-path=\"url(#clip2800)\">\n<text style=\"fill:#000000; fill-opacity:1; font-family:Arial,Helvetica Neue,Helvetica,sans-serif; font-size:48px; text-anchor:middle;\" transform=\"rotate(0, 2156.54, 1541.47)\" x=\"2156.54\" y=\"1541.47\">0.9</text>\n</g>\n<g clip-path=\"url(#clip2800)\">\n<text style=\"fill:#000000; fill-opacity:1; font-family:Arial,Helvetica Neue,Helvetica,sans-serif; font-size:48px; text-anchor:end;\" transform=\"rotate(0, 129.898, 1282.18)\" x=\"129.898\" y=\"1282.18\">0.1</text>\n</g>\n<g clip-path=\"url(#clip2800)\">\n<text style=\"fill:#000000; fill-opacity:1; font-family:Arial,Helvetica Neue,Helvetica,sans-serif; font-size:48px; text-anchor:end;\" transform=\"rotate(0, 129.898, 1046.77)\" x=\"129.898\" y=\"1046.77\">0.2</text>\n</g>\n<g clip-path=\"url(#clip2800)\">\n<text style=\"fill:#000000; fill-opacity:1; font-family:Arial,Helvetica Neue,Helvetica,sans-serif; font-size:48px; text-anchor:end;\" transform=\"rotate(0, 129.898, 811.364)\" x=\"129.898\" y=\"811.364\">0.3</text>\n</g>\n<g clip-path=\"url(#clip2800)\">\n<text style=\"fill:#000000; fill-opacity:1; font-family:Arial,Helvetica Neue,Helvetica,sans-serif; font-size:48px; text-anchor:end;\" transform=\"rotate(0, 129.898, 575.954)\" x=\"129.898\" y=\"575.954\">0.4</text>\n</g>\n<g clip-path=\"url(#clip2800)\">\n<text style=\"fill:#000000; fill-opacity:1; font-family:Arial,Helvetica Neue,Helvetica,sans-serif; font-size:48px; text-anchor:end;\" transform=\"rotate(0, 129.898, 340.544)\" x=\"129.898\" y=\"340.544\">0.5</text>\n</g>\n<g clip-path=\"url(#clip2800)\">\n<text style=\"fill:#000000; fill-opacity:1; font-family:Arial,Helvetica Neue,Helvetica,sans-serif; font-size:48px; text-anchor:end;\" transform=\"rotate(0, 129.898, 105.134)\" x=\"129.898\" y=\"105.134\">0.6</text>\n</g>\n<circle clip-path=\"url(#clip2802)\" style=\"fill:#000000; stroke:none; fill-opacity:1\" cx=\"216.13\" cy=\"120.539\" r=\"18\"/>\n<circle clip-path=\"url(#clip2802)\" style=\"fill:#009af9; stroke:none; fill-opacity:1\" cx=\"216.13\" cy=\"120.539\" r=\"14\"/>\n<circle clip-path=\"url(#clip2802)\" style=\"fill:#000000; stroke:none; fill-opacity:1\" cx=\"487.997\" cy=\"1377.37\" r=\"18\"/>\n<circle clip-path=\"url(#clip2802)\" style=\"fill:#009af9; stroke:none; fill-opacity:1\" cx=\"487.997\" cy=\"1377.37\" r=\"14\"/>\n<circle clip-path=\"url(#clip2802)\" style=\"fill:#000000; stroke:none; fill-opacity:1\" cx=\"917.909\" cy=\"867.69\" r=\"18\"/>\n<circle clip-path=\"url(#clip2802)\" style=\"fill:#009af9; stroke:none; fill-opacity:1\" cx=\"917.909\" cy=\"867.69\" r=\"14\"/>\n<circle clip-path=\"url(#clip2802)\" style=\"fill:#000000; stroke:none; fill-opacity:1\" cx=\"1409.02\" cy=\"1243.8\" r=\"18\"/>\n<circle clip-path=\"url(#clip2802)\" style=\"fill:#009af9; stroke:none; fill-opacity:1\" cx=\"1409.02\" cy=\"1243.8\" r=\"14\"/>\n<circle clip-path=\"url(#clip2802)\" style=\"fill:#000000; stroke:none; fill-opacity:1\" cx=\"1721.49\" cy=\"1114.81\" r=\"18\"/>\n<circle clip-path=\"url(#clip2802)\" style=\"fill:#009af9; stroke:none; fill-opacity:1\" cx=\"1721.49\" cy=\"1114.81\" r=\"14\"/>\n<circle clip-path=\"url(#clip2802)\" style=\"fill:#000000; stroke:none; fill-opacity:1\" cx=\"2290.52\" cy=\"386.565\" r=\"18\"/>\n<circle clip-path=\"url(#clip2802)\" style=\"fill:#009af9; stroke:none; fill-opacity:1\" cx=\"2290.52\" cy=\"386.565\" r=\"14\"/>\n<polyline clip-path=\"url(#clip2802)\" style=\"stroke:#e26f46; stroke-width:4; stroke-opacity:1; fill:none\" points=\"\n  216.13,120.539 226.554,182.701 236.978,244.739 247.402,306.53 257.826,367.951 268.25,428.878 278.674,489.188 289.098,548.757 299.523,607.463 309.947,665.181 \n  320.371,721.788 330.795,777.161 341.219,831.177 351.643,883.712 362.067,934.642 372.491,983.844 382.915,1031.19 393.339,1076.57 403.763,1119.85 414.188,1160.91 \n  424.612,1199.62 435.036,1235.86 445.46,1269.51 455.884,1300.45 466.308,1328.54 476.732,1353.68 487.156,1375.73 497.58,1394.6 508.004,1410.36 518.428,1423.14 \n  528.853,1433.04 539.277,1440.19 549.701,1444.71 560.125,1446.71 570.549,1446.33 580.973,1443.66 591.397,1438.85 601.821,1431.99 612.245,1423.22 622.669,1412.66 \n  633.093,1400.41 643.518,1386.61 653.942,1371.37 664.366,1354.8 674.79,1337.04 685.214,1318.19 695.638,1298.39 706.062,1277.74 716.486,1256.36 726.91,1234.38 \n  737.334,1211.92 747.758,1189.09 758.183,1166.01 768.607,1142.81 779.031,1119.6 789.455,1096.49 799.879,1073.62 810.303,1051.1 820.727,1029.05 831.151,1007.59 \n  841.575,986.83 851.999,966.9 862.423,947.916 872.848,929.998 883.272,913.265 893.696,897.835 904.12,883.828 914.544,871.364 924.968,860.552 935.392,851.402 \n  945.816,843.856 956.24,837.859 966.664,833.354 977.089,830.284 987.513,828.593 997.937,828.223 1008.36,829.119 1018.78,831.223 1029.21,834.48 1039.63,838.832 \n  1050.06,844.222 1060.48,850.595 1070.91,857.893 1081.33,866.059 1091.75,875.038 1102.18,884.772 1112.6,895.205 1123.03,906.28 1133.45,917.941 1143.87,930.13 \n  1154.3,942.792 1164.72,955.869 1175.15,969.305 1185.57,983.044 1195.99,997.028 1206.42,1011.2 1216.84,1025.51 1227.27,1039.89 1237.69,1054.29 1248.11,1068.65 \n  1258.54,1082.92 1268.96,1097.03 1279.39,1110.94 1289.81,1124.59 1300.24,1137.91 1310.66,1150.86 1321.08,1163.37 1331.51,1175.39 1341.93,1186.87 1352.36,1197.74 \n  1362.78,1207.95 1373.2,1217.44 1383.63,1226.16 1394.05,1234.04 1404.48,1241.04 1414.9,1247.1 1425.32,1252.21 1435.75,1256.39 1446.17,1259.67 1456.6,1262.08 \n  1467.02,1263.65 1477.44,1264.4 1487.87,1264.36 1498.29,1263.56 1508.72,1262.02 1519.14,1259.78 1529.57,1256.85 1539.99,1253.28 1550.41,1249.08 1560.84,1244.28 \n  1571.26,1238.91 1581.69,1233 1592.11,1226.57 1602.53,1219.66 1612.96,1212.28 1623.38,1204.47 1633.81,1196.26 1644.23,1187.66 1654.65,1178.71 1665.08,1169.44 \n  1675.5,1159.87 1685.93,1150.03 1696.35,1139.95 1706.77,1129.66 1717.2,1119.18 1727.62,1108.53 1738.05,1097.74 1748.47,1086.81 1758.9,1075.73 1769.32,1064.51 \n  1779.74,1053.16 1790.17,1041.67 1800.59,1030.05 1811.02,1018.31 1821.44,1006.44 1831.86,994.442 1842.29,982.327 1852.71,970.096 1863.14,957.749 1873.56,945.291 \n  1883.98,932.724 1894.41,920.05 1904.83,907.273 1915.26,894.395 1925.68,881.418 1936.1,868.346 1946.53,855.182 1956.95,841.927 1967.38,828.585 1977.8,815.158 \n  1988.23,801.65 1998.65,788.062 2009.07,774.398 2019.5,760.661 2029.92,746.852 2040.35,732.975 2050.77,719.033 2061.19,705.028 2071.62,690.963 2082.04,676.841 \n  2092.47,662.664 2102.89,648.435 2113.31,634.157 2123.74,619.833 2134.16,605.465 2144.59,591.057 2155.01,576.61 2165.43,562.127 2175.86,547.612 2186.28,533.067 \n  2196.71,518.495 2207.13,503.898 2217.56,489.279 2227.98,474.641 2238.4,459.987 2248.83,445.319 2259.25,430.64 2269.68,415.953 2280.1,401.261 2290.52,386.565 \n  \n  \"/>\n<polyline clip-path=\"url(#clip2802)\" style=\"stroke:#3da44d; stroke-width:4; stroke-opacity:1; fill:none\" points=\"\n  216.13,120.539 226.554,240.203 236.978,352.01 247.402,456.265 257.826,553.269 268.25,643.314 278.674,726.688 289.098,803.669 299.523,874.53 309.947,939.538 \n  320.371,998.954 330.795,1053.03 341.219,1102.02 351.643,1146.15 362.067,1185.67 372.491,1220.81 382.915,1251.78 393.339,1278.8 403.763,1302.09 414.188,1321.86 \n  424.612,1338.29 435.036,1351.59 445.46,1361.93 455.884,1369.52 466.308,1374.52 476.732,1377.1 487.156,1377.43 497.58,1375.68 508.004,1372 518.428,1366.53 \n  528.853,1359.43 539.277,1350.84 549.701,1340.89 560.125,1329.72 570.549,1317.44 580.973,1304.19 591.397,1290.07 601.821,1275.21 612.245,1259.7 622.669,1243.66 \n  633.093,1227.18 643.518,1210.35 653.942,1193.27 664.366,1176.02 674.79,1158.69 685.214,1141.35 695.638,1124.07 706.062,1106.93 716.486,1090 726.91,1073.33 \n  737.334,1056.99 747.758,1041.02 758.183,1025.49 768.607,1010.43 779.031,995.904 789.455,981.939 799.879,968.576 810.303,955.852 820.727,943.797 831.151,932.441 \n  841.575,921.807 851.999,911.92 862.423,902.797 872.848,894.457 883.272,886.914 893.696,880.177 904.12,874.257 914.544,869.159 924.968,864.887 935.392,861.442 \n  945.816,858.823 956.24,857.027 966.664,856.047 977.089,855.876 987.513,856.505 997.937,857.92 1008.36,860.109 1018.78,863.056 1029.21,866.743 1039.63,871.151 \n  1050.06,876.258 1060.48,882.043 1070.91,888.481 1081.33,895.547 1091.75,903.213 1102.18,911.451 1112.6,920.233 1123.03,929.526 1133.45,939.299 1143.87,949.519 \n  1154.3,960.153 1164.72,971.164 1175.15,982.518 1185.57,994.178 1195.99,1006.11 1206.42,1018.26 1216.84,1030.61 1227.27,1043.12 1237.69,1055.74 1248.11,1068.43 \n  1258.54,1081.15 1268.96,1093.87 1279.39,1106.54 1289.81,1119.12 1300.24,1131.57 1310.66,1143.85 1321.08,1155.92 1331.51,1167.73 1341.93,1179.26 1352.36,1190.45 \n  1362.78,1201.28 1373.2,1211.69 1383.63,1221.65 1394.05,1231.13 1404.48,1240.08 1414.9,1248.46 1425.32,1256.25 1435.75,1263.41 1446.17,1269.89 1456.6,1275.68 \n  1467.02,1280.73 1477.44,1285.02 1487.87,1288.51 1498.29,1291.18 1508.72,1293 1519.14,1293.94 1529.57,1293.98 1539.99,1293.09 1550.41,1291.26 1560.84,1288.46 \n  1571.26,1284.67 1581.69,1279.88 1592.11,1274.08 1602.53,1267.24 1612.96,1259.37 1623.38,1250.45 1633.81,1240.48 1644.23,1229.44 1654.65,1217.35 1665.08,1204.19 \n  1675.5,1189.97 1685.93,1174.71 1696.35,1158.39 1706.77,1141.04 1717.2,1122.67 1727.62,1103.3 1738.05,1082.93 1748.47,1061.6 1758.9,1039.32 1769.32,1016.13 \n  1779.74,992.056 1790.17,967.129 1800.59,941.387 1811.02,914.87 1821.44,887.622 1831.86,859.689 1842.29,831.12 1852.71,801.971 1863.14,772.299 1873.56,742.164 \n  1883.98,711.631 1894.41,680.769 1904.83,649.65 1915.26,618.351 1925.68,586.953 1936.1,555.539 1946.53,524.199 1956.95,493.026 1967.38,462.117 1977.8,431.572 \n  1988.23,401.5 1998.65,372.009 2009.07,343.216 2019.5,315.24 2029.92,288.204 2040.35,262.24 2050.77,237.48 2061.19,214.063 2071.62,192.134 2082.04,171.842 \n  2092.47,153.339 2102.89,136.787 2113.31,122.349 2123.74,110.195 2134.16,100.5 2144.59,93.4453 2155.01,89.2165 2165.43,88.0053 2175.86,90.0094 2186.28,95.4317 \n  2196.71,104.481 2207.13,117.372 2217.56,134.326 2227.98,155.569 2238.4,181.334 2248.83,211.86 2259.25,247.391 2269.68,288.18 2280.1,334.483 2290.52,386.565 \n  \n  \"/>\n<polygon clip-path=\"url(#clip2800)\" points=\"\n1989.93,372.684 2280.76,372.684 2280.76,130.764 1989.93,130.764 \n  \" fill=\"#ffffff\" fill-rule=\"evenodd\" fill-opacity=\"1\"/>\n<polyline clip-path=\"url(#clip2800)\" style=\"stroke:#000000; stroke-width:4; stroke-opacity:1; fill:none\" points=\"\n  1989.93,372.684 2280.76,372.684 2280.76,130.764 1989.93,130.764 1989.93,372.684 \n  \"/>\n<circle clip-path=\"url(#clip2800)\" style=\"fill:#000000; stroke:none; fill-opacity:1\" cx=\"2097.93\" cy=\"191.244\" r=\"25\"/>\n<circle clip-path=\"url(#clip2800)\" style=\"fill:#009af9; stroke:none; fill-opacity:1\" cx=\"2097.93\" cy=\"191.244\" r=\"21\"/>\n<g clip-path=\"url(#clip2800)\">\n<text style=\"fill:#000000; fill-opacity:1; font-family:Arial,Helvetica Neue,Helvetica,sans-serif; font-size:48px; text-anchor:start;\" transform=\"rotate(0, 2181.93, 208.744)\" x=\"2181.93\" y=\"208.744\">y1</text>\n</g>\n<polyline clip-path=\"url(#clip2800)\" style=\"stroke:#e26f46; stroke-width:4; stroke-opacity:1; fill:none\" points=\"\n  2013.93,251.724 2157.93,251.724 \n  \"/>\n<g clip-path=\"url(#clip2800)\">\n<text style=\"fill:#000000; fill-opacity:1; font-family:Arial,Helvetica Neue,Helvetica,sans-serif; font-size:48px; text-anchor:start;\" transform=\"rotate(0, 2181.93, 269.224)\" x=\"2181.93\" y=\"269.224\">y2</text>\n</g>\n<polyline clip-path=\"url(#clip2800)\" style=\"stroke:#3da44d; stroke-width:4; stroke-opacity:1; fill:none\" points=\"\n  2013.93,312.204 2157.93,312.204 \n  \"/>\n<g clip-path=\"url(#clip2800)\">\n<text style=\"fill:#000000; fill-opacity:1; font-family:Arial,Helvetica Neue,Helvetica,sans-serif; font-size:48px; text-anchor:start;\" transform=\"rotate(0, 2181.93, 329.704)\" x=\"2181.93\" y=\"329.704\">y3</text>\n</g>\n</svg>\n"
               },
               "type": "node"
              }
             ],
             "instanceArgs": {
              "namespace": "html",
              "tag": "div"
             },
             "nodeType": "DOM",
             "props": {
              "className": "interact-flex-row interact-widget"
             },
             "type": "node"
            }
           }
          },
          "systemjs_options": null
         },
         "nodeType": "Scope",
         "props": {},
         "type": "node"
        }
       ],
       "instanceArgs": {
        "namespace": "html",
        "tag": "div"
       },
       "nodeType": "DOM",
       "props": {},
       "type": "node"
      },
      "text/html": [
       "<div\n",
       "    class=\"webio-mountpoint\"\n",
       "    data-webio-mountpoint=\"10707044540954839997\"\n",
       ">\n",
       "    <script>\n",
       "    if (window.require && require.defined && require.defined(\"nbextensions/webio-jupyter-notebook\")) {\n",
       "        console.log(\"Jupyter WebIO extension detected, not mounting.\");\n",
       "    } else if (window.WebIO) {\n",
       "        WebIO.mount(\n",
       "            document.querySelector('[data-webio-mountpoint=\"10707044540954839997\"]'),\n",
       "            {\"props\":{},\"nodeType\":\"DOM\",\"type\":\"node\",\"instanceArgs\":{\"namespace\":\"html\",\"tag\":\"div\"},\"children\":[{\"props\":{\"className\":\"field interact-widget\"},\"nodeType\":\"DOM\",\"type\":\"node\",\"instanceArgs\":{\"namespace\":\"html\",\"tag\":\"div\"},\"children\":[{\"props\":{},\"nodeType\":\"Scope\",\"type\":\"node\",\"instanceArgs\":{\"imports\":{\"data\":[{\"name\":\"knockout\",\"type\":\"js\",\"url\":\"\\/assetserver\\/2b9036ad2bf63f6f8ec7e0ef518784e2d189a641-knockout.js\"},{\"name\":\"knockout_punches\",\"type\":\"js\",\"url\":\"\\/assetserver\\/25c70325a7f555432ff81bbe4a02595ace6c3789-knockout_punches.js\"},{\"name\":null,\"type\":\"js\",\"url\":\"\\/assetserver\\/58938f6a69194ca059786346a0ab1343062c07a8-all.js\"},{\"name\":null,\"type\":\"css\",\"url\":\"\\/assetserver\\/a767dce781720d28636657e9fdb402d5dd95a43f-style.css\"},{\"name\":null,\"type\":\"css\",\"url\":\"\\/assetserver\\/0a45021d6c37e0a7c348c567eabbeee2c0f10e1f-bulma_confined.min.css\"}],\"type\":\"async_block\"},\"id\":\"10968646931912011571\",\"handlers\":{\"changes\":[\"(function (val){return (val!=this.model[\\\"changes\\\"]()) ? (this.valueFromJulia[\\\"changes\\\"]=true, this.model[\\\"changes\\\"](val)) : undefined})\"],\"index\":[\"(function (val){return (val!=this.model[\\\"index\\\"]()) ? (this.valueFromJulia[\\\"index\\\"]=true, this.model[\\\"index\\\"](val)) : undefined})\"]},\"systemjs_options\":null,\"mount_callbacks\":[\"function () {\\n    var handler = (function (ko, koPunches) {\\n    ko.punches.enableAll();\\n    ko.bindingHandlers.numericValue = {\\n        init: function(element, valueAccessor, allBindings, data, context) {\\n            var stringified = ko.observable(ko.unwrap(valueAccessor()));\\n            stringified.subscribe(function(value) {\\n                var val = parseFloat(value);\\n                if (!isNaN(val)) {\\n                    valueAccessor()(val);\\n                }\\n            });\\n            valueAccessor().subscribe(function(value) {\\n                var str = JSON.stringify(value);\\n                if ((str == \\\"0\\\") && ([\\\"-0\\\", \\\"-0.\\\"].indexOf(stringified()) >= 0))\\n                     return;\\n                 if ([\\\"null\\\", \\\"\\\"].indexOf(str) >= 0)\\n                     return;\\n                stringified(str);\\n            });\\n            ko.applyBindingsToNode(\\n                element,\\n                {\\n                    value: stringified,\\n                    valueUpdate: allBindings.get('valueUpdate'),\\n                },\\n                context,\\n            );\\n        }\\n    };\\n    var json_data = {\\\"formatted_vals\\\":[\\\"0.395453\\\",\\\"0.405453\\\",\\\"0.415453\\\",\\\"0.425453\\\",\\\"0.435453\\\",\\\"0.445453\\\",\\\"0.455453\\\",\\\"0.465453\\\",\\\"0.475453\\\",\\\"0.485453\\\",\\\"0.495453\\\",\\\"0.505453\\\",\\\"0.515453\\\",\\\"0.525453\\\",\\\"0.535453\\\",\\\"0.545453\\\",\\\"0.555453\\\",\\\"0.565453\\\",\\\"0.575453\\\",\\\"0.585453\\\",\\\"0.595453\\\",\\\"0.605453\\\",\\\"0.615453\\\",\\\"0.625453\\\",\\\"0.635453\\\",\\\"0.645453\\\",\\\"0.655453\\\",\\\"0.665453\\\"],\\\"changes\\\":WebIO.getval({\\\"name\\\":\\\"changes\\\",\\\"scope\\\":\\\"10968646931912011571\\\",\\\"id\\\":\\\"ob_12\\\",\\\"type\\\":\\\"observable\\\"}),\\\"index\\\":WebIO.getval({\\\"name\\\":\\\"index\\\",\\\"scope\\\":\\\"10968646931912011571\\\",\\\"id\\\":\\\"ob_11\\\",\\\"type\\\":\\\"observable\\\"})};\\n    var self = this;\\n    function AppViewModel() {\\n        for (var key in json_data) {\\n            var el = json_data[key];\\n            this[key] = Array.isArray(el) ? ko.observableArray(el) : ko.observable(el);\\n        }\\n        \\n        [this[\\\"formatted_val\\\"]=ko.computed(    function(){\\n        return this.formatted_vals()[parseInt(this.index())-(1)];\\n    }\\n,this)]\\n        [this[\\\"changes\\\"].subscribe((function (val){!(this.valueFromJulia[\\\"changes\\\"]) ? (WebIO.setval({\\\"name\\\":\\\"changes\\\",\\\"scope\\\":\\\"10968646931912011571\\\",\\\"id\\\":\\\"ob_12\\\",\\\"type\\\":\\\"observable\\\"},val)) : undefined; return this.valueFromJulia[\\\"changes\\\"]=false}),self),this[\\\"index\\\"].subscribe((function (val){!(this.valueFromJulia[\\\"index\\\"]) ? (WebIO.setval({\\\"name\\\":\\\"index\\\",\\\"scope\\\":\\\"10968646931912011571\\\",\\\"id\\\":\\\"ob_11\\\",\\\"type\\\":\\\"observable\\\"},val)) : undefined; return this.valueFromJulia[\\\"index\\\"]=false}),self)]\\n        \\n    }\\n    self.model = new AppViewModel();\\n    self.valueFromJulia = {};\\n    for (var key in json_data) {\\n        self.valueFromJulia[key] = false;\\n    }\\n    ko.applyBindings(self.model, self.dom);\\n}\\n);\\n    (WebIO.importBlock({\\\"data\\\":[{\\\"name\\\":\\\"knockout\\\",\\\"type\\\":\\\"js\\\",\\\"url\\\":\\\"\\/assetserver\\/2b9036ad2bf63f6f8ec7e0ef518784e2d189a641-knockout.js\\\"},{\\\"name\\\":\\\"knockout_punches\\\",\\\"type\\\":\\\"js\\\",\\\"url\\\":\\\"\\/assetserver\\/25c70325a7f555432ff81bbe4a02595ace6c3789-knockout_punches.js\\\"}],\\\"type\\\":\\\"async_block\\\"})).then((imports) => handler.apply(this, imports));\\n}\\n\"],\"observables\":{\"changes\":{\"sync\":false,\"id\":\"ob_12\",\"value\":0},\"index\":{\"sync\":true,\"id\":\"ob_11\",\"value\":14}}},\"children\":[{\"props\":{\"className\":\"interact-flex-row interact-widget\"},\"nodeType\":\"DOM\",\"type\":\"node\",\"instanceArgs\":{\"namespace\":\"html\",\"tag\":\"div\"},\"children\":[{\"props\":{\"className\":\"interact-flex-row-left\"},\"nodeType\":\"DOM\",\"type\":\"node\",\"instanceArgs\":{\"namespace\":\"html\",\"tag\":\"div\"},\"children\":[{\"props\":{\"className\":\"interact \",\"style\":{\"padding\":\"5px 10px 0px 10px\"}},\"nodeType\":\"DOM\",\"type\":\"node\",\"instanceArgs\":{\"namespace\":\"html\",\"tag\":\"label\"},\"children\":[\"xp\"]}]},{\"props\":{\"className\":\"interact-flex-row-center\"},\"nodeType\":\"DOM\",\"type\":\"node\",\"instanceArgs\":{\"namespace\":\"html\",\"tag\":\"div\"},\"children\":[{\"props\":{\"max\":28,\"min\":1,\"attributes\":{\"type\":\"range\",\"data-bind\":\"numericValue: index, valueUpdate: 'input', event: {change: function (){this.changes(this.changes()+1)}}\",\"orient\":\"horizontal\"},\"step\":1,\"className\":\"slider slider is-fullwidth\",\"style\":{}},\"nodeType\":\"DOM\",\"type\":\"node\",\"instanceArgs\":{\"namespace\":\"html\",\"tag\":\"input\"},\"children\":[]}]},{\"props\":{\"className\":\"interact-flex-row-right\"},\"nodeType\":\"DOM\",\"type\":\"node\",\"instanceArgs\":{\"namespace\":\"html\",\"tag\":\"div\"},\"children\":[{\"props\":{\"attributes\":{\"data-bind\":\"text: formatted_val\"}},\"nodeType\":\"DOM\",\"type\":\"node\",\"instanceArgs\":{\"namespace\":\"html\",\"tag\":\"p\"},\"children\":[]}]}]}]}]},{\"props\":{},\"nodeType\":\"Scope\",\"type\":\"node\",\"instanceArgs\":{\"imports\":{\"data\":[],\"type\":\"async_block\"},\"id\":\"9900289638233237711\",\"handlers\":{},\"systemjs_options\":null,\"mount_callbacks\":[],\"observables\":{\"obs-node\":{\"sync\":false,\"id\":\"ob_16\",\"value\":{\"props\":{\"className\":\"interact-flex-row interact-widget\"},\"nodeType\":\"DOM\",\"type\":\"node\",\"instanceArgs\":{\"namespace\":\"html\",\"tag\":\"div\"},\"children\":[{\"props\":{\"setInnerHtml\":\"<?xml version=\\\"1.0\\\" encoding=\\\"utf-8\\\"?>\\n<svg xmlns=\\\"http:\\/\\/www.w3.org\\/2000\\/svg\\\" xmlns:xlink=\\\"http:\\/\\/www.w3.org\\/1999\\/xlink\\\" width=\\\"600\\\" height=\\\"400\\\" viewBox=\\\"0 0 2400 1600\\\">\\n<defs>\\n  <clipPath id=\\\"clip2400\\\">\\n    <rect x=\\\"0\\\" y=\\\"0\\\" width=\\\"2400\\\" height=\\\"1600\\\"\\/>\\n  <\\/clipPath>\\n<\\/defs>\\n<polygon clip-path=\\\"url(#clip2400)\\\" points=\\\"\\n0,1600 2400,1600 2400,0 0,0 \\n  \\\" fill=\\\"#ffffff\\\" fill-rule=\\\"evenodd\\\" fill-opacity=\\\"1\\\"\\/>\\n<defs>\\n  <clipPath id=\\\"clip2401\\\">\\n    <rect x=\\\"480\\\" y=\\\"0\\\" width=\\\"1681\\\" height=\\\"1600\\\"\\/>\\n  <\\/clipPath>\\n<\\/defs>\\n<polygon clip-path=\\\"url(#clip2400)\\\" points=\\\"\\n153.898,1487.47 2352.76,1487.47 2352.76,47.2441 153.898,47.2441 \\n  \\\" fill=\\\"#ffffff\\\" fill-rule=\\\"evenodd\\\" fill-opacity=\\\"1\\\"\\/>\\n<defs>\\n  <clipPath id=\\\"clip2402\\\">\\n    <rect x=\\\"153\\\" y=\\\"47\\\" width=\\\"2200\\\" height=\\\"1441\\\"\\/>\\n  <\\/clipPath>\\n<\\/defs>\\n<polyline clip-path=\\\"url(#clip2402)\\\" style=\\\"stroke:#000000; stroke-width:2; stroke-opacity:0.1; fill:none\\\" points=\\\"\\n  172.332,1487.47 172.332,47.2441 \\n  \\\"\\/>\\n<polyline clip-path=\\\"url(#clip2402)\\\" style=\\\"stroke:#000000; stroke-width:2; stroke-opacity:0.1; fill:none\\\" points=\\\"\\n  503.033,1487.47 503.033,47.2441 \\n  \\\"\\/>\\n<polyline clip-path=\\\"url(#clip2402)\\\" style=\\\"stroke:#000000; stroke-width:2; stroke-opacity:0.1; fill:none\\\" points=\\\"\\n  833.735,1487.47 833.735,47.2441 \\n  \\\"\\/>\\n<polyline clip-path=\\\"url(#clip2402)\\\" style=\\\"stroke:#000000; stroke-width:2; stroke-opacity:0.1; fill:none\\\" points=\\\"\\n  1164.44,1487.47 1164.44,47.2441 \\n  \\\"\\/>\\n<polyline clip-path=\\\"url(#clip2402)\\\" style=\\\"stroke:#000000; stroke-width:2; stroke-opacity:0.1; fill:none\\\" points=\\\"\\n  1495.14,1487.47 1495.14,47.2441 \\n  \\\"\\/>\\n<polyline clip-path=\\\"url(#clip2402)\\\" style=\\\"stroke:#000000; stroke-width:2; stroke-opacity:0.1; fill:none\\\" points=\\\"\\n  1825.84,1487.47 1825.84,47.2441 \\n  \\\"\\/>\\n<polyline clip-path=\\\"url(#clip2402)\\\" style=\\\"stroke:#000000; stroke-width:2; stroke-opacity:0.1; fill:none\\\" points=\\\"\\n  2156.54,1487.47 2156.54,47.2441 \\n  \\\"\\/>\\n<polyline clip-path=\\\"url(#clip2402)\\\" style=\\\"stroke:#000000; stroke-width:2; stroke-opacity:0.1; fill:none\\\" points=\\\"\\n  153.898,1264.68 2352.76,1264.68 \\n  \\\"\\/>\\n<polyline clip-path=\\\"url(#clip2402)\\\" style=\\\"stroke:#000000; stroke-width:2; stroke-opacity:0.1; fill:none\\\" points=\\\"\\n  153.898,1029.27 2352.76,1029.27 \\n  \\\"\\/>\\n<polyline clip-path=\\\"url(#clip2402)\\\" style=\\\"stroke:#000000; stroke-width:2; stroke-opacity:0.1; fill:none\\\" points=\\\"\\n  153.898,793.864 2352.76,793.864 \\n  \\\"\\/>\\n<polyline clip-path=\\\"url(#clip2402)\\\" style=\\\"stroke:#000000; stroke-width:2; stroke-opacity:0.1; fill:none\\\" points=\\\"\\n  153.898,558.454 2352.76,558.454 \\n  \\\"\\/>\\n<polyline clip-path=\\\"url(#clip2402)\\\" style=\\\"stroke:#000000; stroke-width:2; stroke-opacity:0.1; fill:none\\\" points=\\\"\\n  153.898,323.044 2352.76,323.044 \\n  \\\"\\/>\\n<polyline clip-path=\\\"url(#clip2402)\\\" style=\\\"stroke:#000000; stroke-width:2; stroke-opacity:0.1; fill:none\\\" points=\\\"\\n  153.898,87.6341 2352.76,87.6341 \\n  \\\"\\/>\\n<polyline clip-path=\\\"url(#clip2400)\\\" style=\\\"stroke:#000000; stroke-width:4; stroke-opacity:1; fill:none\\\" points=\\\"\\n  153.898,1487.47 2352.76,1487.47 \\n  \\\"\\/>\\n<polyline clip-path=\\\"url(#clip2400)\\\" style=\\\"stroke:#000000; stroke-width:4; stroke-opacity:1; fill:none\\\" points=\\\"\\n  153.898,1487.47 153.898,47.2441 \\n  \\\"\\/>\\n<polyline clip-path=\\\"url(#clip2400)\\\" style=\\\"stroke:#000000; stroke-width:4; stroke-opacity:1; fill:none\\\" points=\\\"\\n  172.332,1487.47 172.332,1465.87 \\n  \\\"\\/>\\n<polyline clip-path=\\\"url(#clip2400)\\\" style=\\\"stroke:#000000; stroke-width:4; stroke-opacity:1; fill:none\\\" points=\\\"\\n  503.033,1487.47 503.033,1465.87 \\n  \\\"\\/>\\n<polyline clip-path=\\\"url(#clip2400)\\\" style=\\\"stroke:#000000; stroke-width:4; stroke-opacity:1; fill:none\\\" points=\\\"\\n  833.735,1487.47 833.735,1465.87 \\n  \\\"\\/>\\n<polyline clip-path=\\\"url(#clip2400)\\\" style=\\\"stroke:#000000; stroke-width:4; stroke-opacity:1; fill:none\\\" points=\\\"\\n  1164.44,1487.47 1164.44,1465.87 \\n  \\\"\\/>\\n<polyline clip-path=\\\"url(#clip2400)\\\" style=\\\"stroke:#000000; stroke-width:4; stroke-opacity:1; fill:none\\\" points=\\\"\\n  1495.14,1487.47 1495.14,1465.87 \\n  \\\"\\/>\\n<polyline clip-path=\\\"url(#clip2400)\\\" style=\\\"stroke:#000000; stroke-width:4; stroke-opacity:1; fill:none\\\" points=\\\"\\n  1825.84,1487.47 1825.84,1465.87 \\n  \\\"\\/>\\n<polyline clip-path=\\\"url(#clip2400)\\\" style=\\\"stroke:#000000; stroke-width:4; stroke-opacity:1; fill:none\\\" points=\\\"\\n  2156.54,1487.47 2156.54,1465.87 \\n  \\\"\\/>\\n<polyline clip-path=\\\"url(#clip2400)\\\" style=\\\"stroke:#000000; stroke-width:4; stroke-opacity:1; fill:none\\\" points=\\\"\\n  153.898,1264.68 186.881,1264.68 \\n  \\\"\\/>\\n<polyline clip-path=\\\"url(#clip2400)\\\" style=\\\"stroke:#000000; stroke-width:4; stroke-opacity:1; fill:none\\\" points=\\\"\\n  153.898,1029.27 186.881,1029.27 \\n  \\\"\\/>\\n<polyline clip-path=\\\"url(#clip2400)\\\" style=\\\"stroke:#000000; stroke-width:4; stroke-opacity:1; fill:none\\\" points=\\\"\\n  153.898,793.864 186.881,793.864 \\n  \\\"\\/>\\n<polyline clip-path=\\\"url(#clip2400)\\\" style=\\\"stroke:#000000; stroke-width:4; stroke-opacity:1; fill:none\\\" points=\\\"\\n  153.898,558.454 186.881,558.454 \\n  \\\"\\/>\\n<polyline clip-path=\\\"url(#clip2400)\\\" style=\\\"stroke:#000000; stroke-width:4; stroke-opacity:1; fill:none\\\" points=\\\"\\n  153.898,323.044 186.881,323.044 \\n  \\\"\\/>\\n<polyline clip-path=\\\"url(#clip2400)\\\" style=\\\"stroke:#000000; stroke-width:4; stroke-opacity:1; fill:none\\\" points=\\\"\\n  153.898,87.6341 186.881,87.6341 \\n  \\\"\\/>\\n<g clip-path=\\\"url(#clip2400)\\\">\\n<text style=\\\"fill:#000000; fill-opacity:1; font-family:Arial,Helvetica Neue,Helvetica,sans-serif; font-size:48px; text-anchor:middle;\\\" transform=\\\"rotate(0, 172.332, 1541.47)\\\" x=\\\"172.332\\\" y=\\\"1541.47\\\">0.3<\\/text>\\n<\\/g>\\n<g clip-path=\\\"url(#clip2400)\\\">\\n<text style=\\\"fill:#000000; fill-opacity:1; font-family:Arial,Helvetica Neue,Helvetica,sans-serif; font-size:48px; text-anchor:middle;\\\" transform=\\\"rotate(0, 503.033, 1541.47)\\\" x=\\\"503.033\\\" y=\\\"1541.47\\\">0.4<\\/text>\\n<\\/g>\\n<g clip-path=\\\"url(#clip2400)\\\">\\n<text style=\\\"fill:#000000; fill-opacity:1; font-family:Arial,Helvetica Neue,Helvetica,sans-serif; font-size:48px; text-anchor:middle;\\\" transform=\\\"rotate(0, 833.735, 1541.47)\\\" x=\\\"833.735\\\" y=\\\"1541.47\\\">0.5<\\/text>\\n<\\/g>\\n<g clip-path=\\\"url(#clip2400)\\\">\\n<text style=\\\"fill:#000000; fill-opacity:1; font-family:Arial,Helvetica Neue,Helvetica,sans-serif; font-size:48px; text-anchor:middle;\\\" transform=\\\"rotate(0, 1164.44, 1541.47)\\\" x=\\\"1164.44\\\" y=\\\"1541.47\\\">0.6<\\/text>\\n<\\/g>\\n<g clip-path=\\\"url(#clip2400)\\\">\\n<text style=\\\"fill:#000000; fill-opacity:1; font-family:Arial,Helvetica Neue,Helvetica,sans-serif; font-size:48px; text-anchor:middle;\\\" transform=\\\"rotate(0, 1495.14, 1541.47)\\\" x=\\\"1495.14\\\" y=\\\"1541.47\\\">0.7<\\/text>\\n<\\/g>\\n<g clip-path=\\\"url(#clip2400)\\\">\\n<text style=\\\"fill:#000000; fill-opacity:1; font-family:Arial,Helvetica Neue,Helvetica,sans-serif; font-size:48px; text-anchor:middle;\\\" transform=\\\"rotate(0, 1825.84, 1541.47)\\\" x=\\\"1825.84\\\" y=\\\"1541.47\\\">0.8<\\/text>\\n<\\/g>\\n<g clip-path=\\\"url(#clip2400)\\\">\\n<text style=\\\"fill:#000000; fill-opacity:1; font-family:Arial,Helvetica Neue,Helvetica,sans-serif; font-size:48px; text-anchor:middle;\\\" transform=\\\"rotate(0, 2156.54, 1541.47)\\\" x=\\\"2156.54\\\" y=\\\"1541.47\\\">0.9<\\/text>\\n<\\/g>\\n<g clip-path=\\\"url(#clip2400)\\\">\\n<text style=\\\"fill:#000000; fill-opacity:1; font-family:Arial,Helvetica Neue,Helvetica,sans-serif; font-size:48px; text-anchor:end;\\\" transform=\\\"rotate(0, 129.898, 1282.18)\\\" x=\\\"129.898\\\" y=\\\"1282.18\\\">0.1<\\/text>\\n<\\/g>\\n<g clip-path=\\\"url(#clip2400)\\\">\\n<text style=\\\"fill:#000000; fill-opacity:1; font-family:Arial,Helvetica Neue,Helvetica,sans-serif; font-size:48px; text-anchor:end;\\\" transform=\\\"rotate(0, 129.898, 1046.77)\\\" x=\\\"129.898\\\" y=\\\"1046.77\\\">0.2<\\/text>\\n<\\/g>\\n<g clip-path=\\\"url(#clip2400)\\\">\\n<text style=\\\"fill:#000000; fill-opacity:1; font-family:Arial,Helvetica Neue,Helvetica,sans-serif; font-size:48px; text-anchor:end;\\\" transform=\\\"rotate(0, 129.898, 811.364)\\\" x=\\\"129.898\\\" y=\\\"811.364\\\">0.3<\\/text>\\n<\\/g>\\n<g clip-path=\\\"url(#clip2400)\\\">\\n<text style=\\\"fill:#000000; fill-opacity:1; font-family:Arial,Helvetica Neue,Helvetica,sans-serif; font-size:48px; text-anchor:end;\\\" transform=\\\"rotate(0, 129.898, 575.954)\\\" x=\\\"129.898\\\" y=\\\"575.954\\\">0.4<\\/text>\\n<\\/g>\\n<g clip-path=\\\"url(#clip2400)\\\">\\n<text style=\\\"fill:#000000; fill-opacity:1; font-family:Arial,Helvetica Neue,Helvetica,sans-serif; font-size:48px; text-anchor:end;\\\" transform=\\\"rotate(0, 129.898, 340.544)\\\" x=\\\"129.898\\\" y=\\\"340.544\\\">0.5<\\/text>\\n<\\/g>\\n<g clip-path=\\\"url(#clip2400)\\\">\\n<text style=\\\"fill:#000000; fill-opacity:1; font-family:Arial,Helvetica Neue,Helvetica,sans-serif; font-size:48px; text-anchor:end;\\\" transform=\\\"rotate(0, 129.898, 105.134)\\\" x=\\\"129.898\\\" y=\\\"105.134\\\">0.6<\\/text>\\n<\\/g>\\n<circle clip-path=\\\"url(#clip2402)\\\" style=\\\"fill:#000000; stroke:none; fill-opacity:1\\\" cx=\\\"216.13\\\" cy=\\\"120.539\\\" r=\\\"18\\\"\\/>\\n<circle clip-path=\\\"url(#clip2402)\\\" style=\\\"fill:#009af9; stroke:none; fill-opacity:1\\\" cx=\\\"216.13\\\" cy=\\\"120.539\\\" r=\\\"14\\\"\\/>\\n<circle clip-path=\\\"url(#clip2402)\\\" style=\\\"fill:#000000; stroke:none; fill-opacity:1\\\" cx=\\\"487.997\\\" cy=\\\"1377.37\\\" r=\\\"18\\\"\\/>\\n<circle clip-path=\\\"url(#clip2402)\\\" style=\\\"fill:#009af9; stroke:none; fill-opacity:1\\\" cx=\\\"487.997\\\" cy=\\\"1377.37\\\" r=\\\"14\\\"\\/>\\n<circle clip-path=\\\"url(#clip2402)\\\" style=\\\"fill:#000000; stroke:none; fill-opacity:1\\\" cx=\\\"917.909\\\" cy=\\\"867.69\\\" r=\\\"18\\\"\\/>\\n<circle clip-path=\\\"url(#clip2402)\\\" style=\\\"fill:#009af9; stroke:none; fill-opacity:1\\\" cx=\\\"917.909\\\" cy=\\\"867.69\\\" r=\\\"14\\\"\\/>\\n<circle clip-path=\\\"url(#clip2402)\\\" style=\\\"fill:#000000; stroke:none; fill-opacity:1\\\" cx=\\\"1409.02\\\" cy=\\\"1243.8\\\" r=\\\"18\\\"\\/>\\n<circle clip-path=\\\"url(#clip2402)\\\" style=\\\"fill:#009af9; stroke:none; fill-opacity:1\\\" cx=\\\"1409.02\\\" cy=\\\"1243.8\\\" r=\\\"14\\\"\\/>\\n<circle clip-path=\\\"url(#clip2402)\\\" style=\\\"fill:#000000; stroke:none; fill-opacity:1\\\" cx=\\\"1721.49\\\" cy=\\\"1114.81\\\" r=\\\"18\\\"\\/>\\n<circle clip-path=\\\"url(#clip2402)\\\" style=\\\"fill:#009af9; stroke:none; fill-opacity:1\\\" cx=\\\"1721.49\\\" cy=\\\"1114.81\\\" r=\\\"14\\\"\\/>\\n<circle clip-path=\\\"url(#clip2402)\\\" style=\\\"fill:#000000; stroke:none; fill-opacity:1\\\" cx=\\\"2290.52\\\" cy=\\\"386.565\\\" r=\\\"18\\\"\\/>\\n<circle clip-path=\\\"url(#clip2402)\\\" style=\\\"fill:#009af9; stroke:none; fill-opacity:1\\\" cx=\\\"2290.52\\\" cy=\\\"386.565\\\" r=\\\"14\\\"\\/>\\n<polyline clip-path=\\\"url(#clip2402)\\\" style=\\\"stroke:#e26f46; stroke-width:4; stroke-opacity:1; fill:none\\\" points=\\\"\\n  216.13,120.539 226.554,182.701 236.978,244.739 247.402,306.53 257.826,367.951 268.25,428.878 278.674,489.188 289.098,548.757 299.523,607.463 309.947,665.181 \\n  320.371,721.788 330.795,777.161 341.219,831.177 351.643,883.712 362.067,934.642 372.491,983.844 382.915,1031.19 393.339,1076.57 403.763,1119.85 414.188,1160.91 \\n  424.612,1199.62 435.036,1235.86 445.46,1269.51 455.884,1300.45 466.308,1328.54 476.732,1353.68 487.156,1375.73 497.58,1394.6 508.004,1410.36 518.428,1423.14 \\n  528.853,1433.04 539.277,1440.19 549.701,1444.71 560.125,1446.71 570.549,1446.33 580.973,1443.66 591.397,1438.85 601.821,1431.99 612.245,1423.22 622.669,1412.66 \\n  633.093,1400.41 643.518,1386.61 653.942,1371.37 664.366,1354.8 674.79,1337.04 685.214,1318.19 695.638,1298.39 706.062,1277.74 716.486,1256.36 726.91,1234.38 \\n  737.334,1211.92 747.758,1189.09 758.183,1166.01 768.607,1142.81 779.031,1119.6 789.455,1096.49 799.879,1073.62 810.303,1051.1 820.727,1029.05 831.151,1007.59 \\n  841.575,986.83 851.999,966.9 862.423,947.916 872.848,929.998 883.272,913.265 893.696,897.835 904.12,883.828 914.544,871.364 924.968,860.552 935.392,851.402 \\n  945.816,843.856 956.24,837.859 966.664,833.354 977.089,830.284 987.513,828.593 997.937,828.223 1008.36,829.119 1018.78,831.223 1029.21,834.48 1039.63,838.832 \\n  1050.06,844.222 1060.48,850.595 1070.91,857.893 1081.33,866.059 1091.75,875.038 1102.18,884.772 1112.6,895.205 1123.03,906.28 1133.45,917.941 1143.87,930.13 \\n  1154.3,942.792 1164.72,955.869 1175.15,969.305 1185.57,983.044 1195.99,997.028 1206.42,1011.2 1216.84,1025.51 1227.27,1039.89 1237.69,1054.29 1248.11,1068.65 \\n  1258.54,1082.92 1268.96,1097.03 1279.39,1110.94 1289.81,1124.59 1300.24,1137.91 1310.66,1150.86 1321.08,1163.37 1331.51,1175.39 1341.93,1186.87 1352.36,1197.74 \\n  1362.78,1207.95 1373.2,1217.44 1383.63,1226.16 1394.05,1234.04 1404.48,1241.04 1414.9,1247.1 1425.32,1252.21 1435.75,1256.39 1446.17,1259.67 1456.6,1262.08 \\n  1467.02,1263.65 1477.44,1264.4 1487.87,1264.36 1498.29,1263.56 1508.72,1262.02 1519.14,1259.78 1529.57,1256.85 1539.99,1253.28 1550.41,1249.08 1560.84,1244.28 \\n  1571.26,1238.91 1581.69,1233 1592.11,1226.57 1602.53,1219.66 1612.96,1212.28 1623.38,1204.47 1633.81,1196.26 1644.23,1187.66 1654.65,1178.71 1665.08,1169.44 \\n  1675.5,1159.87 1685.93,1150.03 1696.35,1139.95 1706.77,1129.66 1717.2,1119.18 1727.62,1108.53 1738.05,1097.74 1748.47,1086.81 1758.9,1075.73 1769.32,1064.51 \\n  1779.74,1053.16 1790.17,1041.67 1800.59,1030.05 1811.02,1018.31 1821.44,1006.44 1831.86,994.442 1842.29,982.327 1852.71,970.096 1863.14,957.749 1873.56,945.291 \\n  1883.98,932.724 1894.41,920.05 1904.83,907.273 1915.26,894.395 1925.68,881.418 1936.1,868.346 1946.53,855.182 1956.95,841.927 1967.38,828.585 1977.8,815.158 \\n  1988.23,801.65 1998.65,788.062 2009.07,774.398 2019.5,760.661 2029.92,746.852 2040.35,732.975 2050.77,719.033 2061.19,705.028 2071.62,690.963 2082.04,676.841 \\n  2092.47,662.664 2102.89,648.435 2113.31,634.157 2123.74,619.833 2134.16,605.465 2144.59,591.057 2155.01,576.61 2165.43,562.127 2175.86,547.612 2186.28,533.067 \\n  2196.71,518.495 2207.13,503.898 2217.56,489.279 2227.98,474.641 2238.4,459.987 2248.83,445.319 2259.25,430.64 2269.68,415.953 2280.1,401.261 2290.52,386.565 \\n  \\n  \\\"\\/>\\n<polyline clip-path=\\\"url(#clip2402)\\\" style=\\\"stroke:#3da44d; stroke-width:4; stroke-opacity:1; fill:none\\\" points=\\\"\\n  216.13,120.539 226.554,240.203 236.978,352.01 247.402,456.265 257.826,553.269 268.25,643.314 278.674,726.688 289.098,803.669 299.523,874.53 309.947,939.538 \\n  320.371,998.954 330.795,1053.03 341.219,1102.02 351.643,1146.15 362.067,1185.67 372.491,1220.81 382.915,1251.78 393.339,1278.8 403.763,1302.09 414.188,1321.86 \\n  424.612,1338.29 435.036,1351.59 445.46,1361.93 455.884,1369.52 466.308,1374.52 476.732,1377.1 487.156,1377.43 497.58,1375.68 508.004,1372 518.428,1366.53 \\n  528.853,1359.43 539.277,1350.84 549.701,1340.89 560.125,1329.72 570.549,1317.44 580.973,1304.19 591.397,1290.07 601.821,1275.21 612.245,1259.7 622.669,1243.66 \\n  633.093,1227.18 643.518,1210.35 653.942,1193.27 664.366,1176.02 674.79,1158.69 685.214,1141.35 695.638,1124.07 706.062,1106.93 716.486,1090 726.91,1073.33 \\n  737.334,1056.99 747.758,1041.02 758.183,1025.49 768.607,1010.43 779.031,995.904 789.455,981.939 799.879,968.576 810.303,955.852 820.727,943.797 831.151,932.441 \\n  841.575,921.807 851.999,911.92 862.423,902.797 872.848,894.457 883.272,886.914 893.696,880.177 904.12,874.257 914.544,869.159 924.968,864.887 935.392,861.442 \\n  945.816,858.823 956.24,857.027 966.664,856.047 977.089,855.876 987.513,856.505 997.937,857.92 1008.36,860.109 1018.78,863.056 1029.21,866.743 1039.63,871.151 \\n  1050.06,876.258 1060.48,882.043 1070.91,888.481 1081.33,895.547 1091.75,903.213 1102.18,911.451 1112.6,920.233 1123.03,929.526 1133.45,939.299 1143.87,949.519 \\n  1154.3,960.153 1164.72,971.164 1175.15,982.518 1185.57,994.178 1195.99,1006.11 1206.42,1018.26 1216.84,1030.61 1227.27,1043.12 1237.69,1055.74 1248.11,1068.43 \\n  1258.54,1081.15 1268.96,1093.87 1279.39,1106.54 1289.81,1119.12 1300.24,1131.57 1310.66,1143.85 1321.08,1155.92 1331.51,1167.73 1341.93,1179.26 1352.36,1190.45 \\n  1362.78,1201.28 1373.2,1211.69 1383.63,1221.65 1394.05,1231.13 1404.48,1240.08 1414.9,1248.46 1425.32,1256.25 1435.75,1263.41 1446.17,1269.89 1456.6,1275.68 \\n  1467.02,1280.73 1477.44,1285.02 1487.87,1288.51 1498.29,1291.18 1508.72,1293 1519.14,1293.94 1529.57,1293.98 1539.99,1293.09 1550.41,1291.26 1560.84,1288.46 \\n  1571.26,1284.67 1581.69,1279.88 1592.11,1274.08 1602.53,1267.24 1612.96,1259.37 1623.38,1250.45 1633.81,1240.48 1644.23,1229.44 1654.65,1217.35 1665.08,1204.19 \\n  1675.5,1189.97 1685.93,1174.71 1696.35,1158.39 1706.77,1141.04 1717.2,1122.67 1727.62,1103.3 1738.05,1082.93 1748.47,1061.6 1758.9,1039.32 1769.32,1016.13 \\n  1779.74,992.056 1790.17,967.129 1800.59,941.387 1811.02,914.87 1821.44,887.622 1831.86,859.689 1842.29,831.12 1852.71,801.971 1863.14,772.299 1873.56,742.164 \\n  1883.98,711.631 1894.41,680.769 1904.83,649.65 1915.26,618.351 1925.68,586.953 1936.1,555.539 1946.53,524.199 1956.95,493.026 1967.38,462.117 1977.8,431.572 \\n  1988.23,401.5 1998.65,372.009 2009.07,343.216 2019.5,315.24 2029.92,288.204 2040.35,262.24 2050.77,237.48 2061.19,214.063 2071.62,192.134 2082.04,171.842 \\n  2092.47,153.339 2102.89,136.787 2113.31,122.349 2123.74,110.195 2134.16,100.5 2144.59,93.4453 2155.01,89.2165 2165.43,88.0053 2175.86,90.0094 2186.28,95.4317 \\n  2196.71,104.481 2207.13,117.372 2217.56,134.326 2227.98,155.569 2238.4,181.334 2248.83,211.86 2259.25,247.391 2269.68,288.18 2280.1,334.483 2290.52,386.565 \\n  \\n  \\\"\\/>\\n<polygon clip-path=\\\"url(#clip2400)\\\" points=\\\"\\n1989.93,372.684 2280.76,372.684 2280.76,130.764 1989.93,130.764 \\n  \\\" fill=\\\"#ffffff\\\" fill-rule=\\\"evenodd\\\" fill-opacity=\\\"1\\\"\\/>\\n<polyline clip-path=\\\"url(#clip2400)\\\" style=\\\"stroke:#000000; stroke-width:4; stroke-opacity:1; fill:none\\\" points=\\\"\\n  1989.93,372.684 2280.76,372.684 2280.76,130.764 1989.93,130.764 1989.93,372.684 \\n  \\\"\\/>\\n<circle clip-path=\\\"url(#clip2400)\\\" style=\\\"fill:#000000; stroke:none; fill-opacity:1\\\" cx=\\\"2097.93\\\" cy=\\\"191.244\\\" r=\\\"25\\\"\\/>\\n<circle clip-path=\\\"url(#clip2400)\\\" style=\\\"fill:#009af9; stroke:none; fill-opacity:1\\\" cx=\\\"2097.93\\\" cy=\\\"191.244\\\" r=\\\"21\\\"\\/>\\n<g clip-path=\\\"url(#clip2400)\\\">\\n<text style=\\\"fill:#000000; fill-opacity:1; font-family:Arial,Helvetica Neue,Helvetica,sans-serif; font-size:48px; text-anchor:start;\\\" transform=\\\"rotate(0, 2181.93, 208.744)\\\" x=\\\"2181.93\\\" y=\\\"208.744\\\">y1<\\/text>\\n<\\/g>\\n<polyline clip-path=\\\"url(#clip2400)\\\" style=\\\"stroke:#e26f46; stroke-width:4; stroke-opacity:1; fill:none\\\" points=\\\"\\n  2013.93,251.724 2157.93,251.724 \\n  \\\"\\/>\\n<g clip-path=\\\"url(#clip2400)\\\">\\n<text style=\\\"fill:#000000; fill-opacity:1; font-family:Arial,Helvetica Neue,Helvetica,sans-serif; font-size:48px; text-anchor:start;\\\" transform=\\\"rotate(0, 2181.93, 269.224)\\\" x=\\\"2181.93\\\" y=\\\"269.224\\\">y2<\\/text>\\n<\\/g>\\n<polyline clip-path=\\\"url(#clip2400)\\\" style=\\\"stroke:#3da44d; stroke-width:4; stroke-opacity:1; fill:none\\\" points=\\\"\\n  2013.93,312.204 2157.93,312.204 \\n  \\\"\\/>\\n<g clip-path=\\\"url(#clip2400)\\\">\\n<text style=\\\"fill:#000000; fill-opacity:1; font-family:Arial,Helvetica Neue,Helvetica,sans-serif; font-size:48px; text-anchor:start;\\\" transform=\\\"rotate(0, 2181.93, 329.704)\\\" x=\\\"2181.93\\\" y=\\\"329.704\\\">y3<\\/text>\\n<\\/g>\\n<\\/svg>\\n\"},\"nodeType\":\"DOM\",\"type\":\"node\",\"instanceArgs\":{\"namespace\":\"html\",\"tag\":\"div\"},\"children\":[]}]}}}},\"children\":[{\"props\":{},\"nodeType\":\"ObservableNode\",\"type\":\"node\",\"instanceArgs\":{\"id\":\"ob_16\",\"name\":\"obs-node\"},\"children\":[]}]}]},\n",
       "            window,\n",
       "        );\n",
       "    } else {\n",
       "        document\n",
       "            .querySelector('[data-webio-mountpoint=\"10707044540954839997\"]')\n",
       "            .innerHTML = (\n",
       "                '<strong>WebIO not detected. Please read ' +\n",
       "                '<a href=\"https://juliagizmos.github.io/WebIO.jl/latest/troubleshooting/not-detected/\">the troubleshooting guide</a> ' +\n",
       "                'for more information on how to resolve this issue.' +\n",
       "                '</strong>'\n",
       "            );\n",
       "    }\n",
       "    </script>\n",
       "</div>\n"
      ],
      "text/plain": [
       "Node{WebIO.DOM}(WebIO.DOM(:html, :div), Any[Node{DOM}(DOM(:html, :div), Any[Scope(Node{DOM}(DOM(:html, :div), Any[Node{DOM}(DOM(:html, :div), Any[Node{DOM}(DOM(:html, :label), Any[\"xp\"], Dict{Symbol,Any}(:className=>\"interact \",:style=>Dict{Any,Any}(:padding=>\"5px 10px 0px 10px\")))], Dict{Symbol,Any}(:className=>\"interact-flex-row-left\")), Node{DOM}(DOM(:html, :div), Any[Node{DOM}(DOM(:html, :input), Any[], Dict{Symbol,Any}(:max=>28,:min=>1,:attributes=>Dict{Any,Any}(:type=>\"range\",Symbol(\"data-bind\")=>\"numericValue: index, valueUpdate: 'input', event: {change: function (){this.changes(this.changes()+1)}}\",\"orient\"=>\"horizontal\"),:step=>1,:className=>\"slider slider is-fullwidth\",:style=>Dict{Any,Any}()))], Dict{Symbol,Any}(:className=>\"interact-flex-row-center\")), Node{DOM}(DOM(:html, :div), Any[Node{DOM}(DOM(:html, :p), Any[], Dict{Symbol,Any}(:attributes=>Dict(\"data-bind\"=>\"text: formatted_val\")))], Dict{Symbol,Any}(:className=>\"interact-flex-row-right\"))], Dict{Symbol,Any}(:className=>\"interact-flex-row interact-widget\")), Dict{String,Tuple{Observables.AbstractObservable,Union{Nothing, Bool}}}(\"changes\"=>(Observable{Int64} with 1 listeners. Value:\n",
       "0, nothing),\"index\"=>(Observable{Any} with 2 listeners. Value:\n",
       "14, nothing)), Set(String[]), nothing, Asset[Asset(\"js\", \"knockout\", \"/home/slap/.julia/packages/Knockout/1sDlc/src/../assets/knockout.js\"), Asset(\"js\", \"knockout_punches\", \"/home/slap/.julia/packages/Knockout/1sDlc/src/../assets/knockout_punches.js\"), Asset(\"js\", nothing, \"/home/slap/.julia/packages/InteractBase/9mFwe/src/../assets/all.js\"), Asset(\"css\", nothing, \"/home/slap/.julia/packages/InteractBase/9mFwe/src/../assets/style.css\"), Asset(\"css\", nothing, \"/home/slap/.julia/packages/Interact/SbgIk/src/../assets/bulma_confined.min.css\")], Dict{Any,Any}(\"changes\"=>Any[JSString(\"(function (val){return (val!=this.model[\\\"changes\\\"]()) ? (this.valueFromJulia[\\\"changes\\\"]=true, this.model[\\\"changes\\\"](val)) : undefined})\")],\"index\"=>Any[JSString(\"(function (val){return (val!=this.model[\\\"index\\\"]()) ? (this.valueFromJulia[\\\"index\\\"]=true, this.model[\\\"index\\\"](val)) : undefined})\")]), ConnectionPool(Channel{Any}(sz_max:32,sz_curr:0), Set(AbstractConnection[]), Condition(Any[Task (runnable) @0x00007ff540164280])), WebIO.JSString[JSString(\"function () {\\n    var handler = (function (ko, koPunches) {\\n    ko.punches.enableAll();\\n    ko.bindingHandlers.numericValue = {\\n        init: function(element, valueAccessor, allBindings, data, context) {\\n            var stringified = ko.observable(ko.unwrap(valueAccessor()));\\n            stringified.subscribe(function(value) {\\n                var val = parseFloat(value);\\n                if (!isNaN(val)) {\\n                    valueAccessor()(val);\\n                }\\n            });\\n            valueAccessor().subscribe(function(value) {\\n                var str = JSON.stringify(value);\\n                if ((str == \\\"0\\\") && ([\\\"-0\\\", \\\"-0.\\\"].indexOf(stringified()) >= 0))\\n                     return;\\n                 if ([\\\"null\\\", \\\"\\\"].indexOf(str) >= 0)\\n                     return;\\n                stringified(str);\\n            });\\n            ko.applyBindingsToNode(\\n                element,\\n                {\\n                    value: stringified,\\n                    valueUpdate: allBindings.get('valueUpdate'),\\n                },\\n                context,\\n            );\\n        }\\n    };\\n    var json_data = {\\\"formatted_vals\\\":[\\\"0.395453\\\",\\\"0.405453\\\",\\\"0.415453\\\",\\\"0.425453\\\",\\\"0.435453\\\",\\\"0.445453\\\",\\\"0.455453\\\",\\\"0.465453\\\",\\\"0.475453\\\",\\\"0.485453\\\",\\\"0.495453\\\",\\\"0.505453\\\",\\\"0.515453\\\",\\\"0.525453\\\",\\\"0.535453\\\",\\\"0.545453\\\",\\\"0.555453\\\",\\\"0.565453\\\",\\\"0.575453\\\",\\\"0.585453\\\",\\\"0.595453\\\",\\\"0.605453\\\",\\\"0.615453\\\",\\\"0.625453\\\",\\\"0.635453\\\",\\\"0.645453\\\",\\\"0.655453\\\",\\\"0.665453\\\"],\\\"changes\\\":WebIO.getval({\\\"name\\\":\\\"changes\\\",\\\"scope\\\":\\\"10968646931912011571\\\",\\\"id\\\":\\\"ob_12\\\",\\\"type\\\":\\\"observable\\\"}),\\\"index\\\":WebIO.getval({\\\"name\\\":\\\"index\\\",\\\"scope\\\":\\\"10968646931912011571\\\",\\\"id\\\":\\\"ob_11\\\",\\\"type\\\":\\\"observable\\\"})};\\n    var self = this;\\n    function AppViewModel() {\\n        for (var key in json_data) {\\n            var el = json_data[key];\\n            this[key] = Array.isArray(el) ? ko.observableArray(el) : ko.observable(el);\\n        }\\n        \\n        [this[\\\"formatted_val\\\"]=ko.computed(    function(){\\n        return this.formatted_vals()[parseInt(this.index())-(1)];\\n    }\\n,this)]\\n        [this[\\\"changes\\\"].subscribe((function (val){!(this.valueFromJulia[\\\"changes\\\"]) ? (WebIO.setval({\\\"name\\\":\\\"changes\\\",\\\"scope\\\":\\\"10968646931912011571\\\",\\\"id\\\":\\\"ob_12\\\",\\\"type\\\":\\\"observable\\\"},val)) : undefined; return this.valueFromJulia[\\\"changes\\\"]=false}),self),this[\\\"index\\\"].subscribe((function (val){!(this.valueFromJulia[\\\"index\\\"]) ? (WebIO.setval({\\\"name\\\":\\\"index\\\",\\\"scope\\\":\\\"10968646931912011571\\\",\\\"id\\\":\\\"ob_11\\\",\\\"type\\\":\\\"observable\\\"},val)) : undefined; return this.valueFromJulia[\\\"index\\\"]=false}),self)]\\n        \\n    }\\n    self.model = new AppViewModel();\\n    self.valueFromJulia = {};\\n    for (var key in json_data) {\\n        self.valueFromJulia[key] = false;\\n    }\\n    ko.applyBindings(self.model, self.dom);\\n}\\n);\\n    (WebIO.importBlock({\\\"data\\\":[{\\\"name\\\":\\\"knockout\\\",\\\"type\\\":\\\"js\\\",\\\"url\\\":\\\"/assetserver/2b9036ad2bf63f6f8ec7e0ef518784e2d189a641-knockout.js\\\"},{\\\"name\\\":\\\"knockout_punches\\\",\\\"type\\\":\\\"js\\\",\\\"url\\\":\\\"/assetserver/25c70325a7f555432ff81bbe4a02595ace6c3789-knockout_punches.js\\\"}],\\\"type\\\":\\\"async_block\\\"})).then((imports) => handler.apply(this, imports));\\n}\\n\")])], Dict{Symbol,Any}(:className=>\"field interact-widget\")), Observable{Any} with 0 listeners. Value:\n",
       "Node{DOM}(DOM(:html, :div), Any[Plot{Plots.GRBackend() n=3}], Dict{Symbol,Any}(:className=>\"interact-flex-row interact-widget\"))], Dict{Symbol,Any}())"
      ]
     },
     "execution_count": 10,
     "metadata": {
      "application/vnd.webio.node+json": {
       "kernelId": null
      }
     },
     "output_type": "execute_result"
    }
   ],
   "source": [
    "# Traje duze!\n",
    "point=3\n",
    "xc=deepcopy(x)\n",
    "\n",
    "ySpline=Array{Float64}(undef,lsize)\n",
    "yPoly=Array{Float64}(undef,lsize)\n",
    "C=Array{Any}(undef,n)\n",
    "\n",
    "@manipulate for xp=xc[point-1]:0.01:xc[point+1]\n",
    "    xc[point]=xp\n",
    "    h=xc[2:end]-xc[1:end-1]\n",
    "    d=(y[2:end]-y[1:end-1])./h\n",
    "    H=SymTridiagonal(2*(h[1:end-1]+h[2:end]),h[2:end-1])\n",
    "    b1=6*(d[2:end]-d[1:end-1])\n",
    "    s=H\\b1\n",
    "    s=[0;s;0]\n",
    "    b=d-(s[2:end]-s[1:end-1]).*h/6\n",
    "    C=[xx-> \n",
    "    y[i]-s[i]*h[i]^2/6+b[i]*(xx-xc[i])+s[i]*(xc[i+1]-xx)^3/(6*h[i])+s[i+1]*(xx-xc[i])^3/(6*h[i])\n",
    "        for i=1:n]\n",
    "    for i=1:lsize\n",
    "        for k=1:n\n",
    "            if xx[i]<=xc[k+1]\n",
    "                ySpline[i]=C[k](xx[i])\n",
    "                break\n",
    "            end\n",
    "        end\n",
    "    end\n",
    "    A=Vandermonde(xc)\n",
    "    p=Poly(A\\y)\n",
    "    yPoly=polyval(p,xx)\n",
    "    scatter(xc,y)\n",
    "    plot!(xx,[ySpline yPoly])\n",
    "end"
   ]
  },
  {
   "cell_type": "markdown",
   "metadata": {},
   "source": [
    "## Primjer - Interpolacija funkcije $\\sin(x)$"
   ]
  },
  {
   "cell_type": "code",
   "execution_count": 12,
   "metadata": {},
   "outputs": [
    {
     "data": {
      "application/vnd.webio.node+json": {
       "children": [
        {
         "children": [
          {
           "children": [
            {
             "children": [
              {
               "children": [
                {
                 "children": [
                  "xp"
                 ],
                 "instanceArgs": {
                  "namespace": "html",
                  "tag": "label"
                 },
                 "nodeType": "DOM",
                 "props": {
                  "className": "interact ",
                  "style": {
                   "padding": "5px 10px 0px 10px"
                  }
                 },
                 "type": "node"
                }
               ],
               "instanceArgs": {
                "namespace": "html",
                "tag": "div"
               },
               "nodeType": "DOM",
               "props": {
                "className": "interact-flex-row-left"
               },
               "type": "node"
              },
              {
               "children": [
                {
                 "children": [],
                 "instanceArgs": {
                  "namespace": "html",
                  "tag": "input"
                 },
                 "nodeType": "DOM",
                 "props": {
                  "attributes": {
                   "data-bind": "numericValue: index, valueUpdate: 'input', event: {change: function (){this.changes(this.changes()+1)}}",
                   "orient": "horizontal",
                   "type": "range"
                  },
                  "className": "slider slider is-fullwidth",
                  "max": 126,
                  "min": 1,
                  "step": 1,
                  "style": {}
                 },
                 "type": "node"
                }
               ],
               "instanceArgs": {
                "namespace": "html",
                "tag": "div"
               },
               "nodeType": "DOM",
               "props": {
                "className": "interact-flex-row-center"
               },
               "type": "node"
              },
              {
               "children": [
                {
                 "children": [],
                 "instanceArgs": {
                  "namespace": "html",
                  "tag": "p"
                 },
                 "nodeType": "DOM",
                 "props": {
                  "attributes": {
                   "data-bind": "text: formatted_val"
                  }
                 },
                 "type": "node"
                }
               ],
               "instanceArgs": {
                "namespace": "html",
                "tag": "div"
               },
               "nodeType": "DOM",
               "props": {
                "className": "interact-flex-row-right"
               },
               "type": "node"
              }
             ],
             "instanceArgs": {
              "namespace": "html",
              "tag": "div"
             },
             "nodeType": "DOM",
             "props": {
              "className": "interact-flex-row interact-widget"
             },
             "type": "node"
            }
           ],
           "instanceArgs": {
            "handlers": {
             "changes": [
              "(function (val){return (val!=this.model[\"changes\"]()) ? (this.valueFromJulia[\"changes\"]=true, this.model[\"changes\"](val)) : undefined})"
             ],
             "index": [
              "(function (val){return (val!=this.model[\"index\"]()) ? (this.valueFromJulia[\"index\"]=true, this.model[\"index\"](val)) : undefined})"
             ]
            },
            "id": "12153351645861031345",
            "imports": {
             "data": [
              {
               "name": "knockout",
               "type": "js",
               "url": "/assetserver/2b9036ad2bf63f6f8ec7e0ef518784e2d189a641-knockout.js"
              },
              {
               "name": "knockout_punches",
               "type": "js",
               "url": "/assetserver/25c70325a7f555432ff81bbe4a02595ace6c3789-knockout_punches.js"
              },
              {
               "name": null,
               "type": "js",
               "url": "/assetserver/58938f6a69194ca059786346a0ab1343062c07a8-all.js"
              },
              {
               "name": null,
               "type": "css",
               "url": "/assetserver/a767dce781720d28636657e9fdb402d5dd95a43f-style.css"
              },
              {
               "name": null,
               "type": "css",
               "url": "/assetserver/0a45021d6c37e0a7c348c567eabbeee2c0f10e1f-bulma_confined.min.css"
              }
             ],
             "type": "async_block"
            },
            "mount_callbacks": [
             "function () {\n    var handler = (function (ko, koPunches) {\n    ko.punches.enableAll();\n    ko.bindingHandlers.numericValue = {\n        init: function(element, valueAccessor, allBindings, data, context) {\n            var stringified = ko.observable(ko.unwrap(valueAccessor()));\n            stringified.subscribe(function(value) {\n                var val = parseFloat(value);\n                if (!isNaN(val)) {\n                    valueAccessor()(val);\n                }\n            });\n            valueAccessor().subscribe(function(value) {\n                var str = JSON.stringify(value);\n                if ((str == \"0\") && ([\"-0\", \"-0.\"].indexOf(stringified()) >= 0))\n                     return;\n                 if ([\"null\", \"\"].indexOf(str) >= 0)\n                     return;\n                stringified(str);\n            });\n            ko.applyBindingsToNode(\n                element,\n                {\n                    value: stringified,\n                    valueUpdate: allBindings.get('valueUpdate'),\n                },\n                context,\n            );\n        }\n    };\n    var json_data = {\"formatted_vals\":[\"0.628319\",\"0.638319\",\"0.648319\",\"0.658319\",\"0.668319\",\"0.678319\",\"0.688319\",\"0.698319\",\"0.708319\",\"0.718319\",\"0.728319\",\"0.738319\",\"0.748319\",\"0.758319\",\"0.768319\",\"0.778319\",\"0.788319\",\"0.798319\",\"0.808319\",\"0.818319\",\"0.828319\",\"0.838319\",\"0.848319\",\"0.858319\",\"0.868319\",\"0.878319\",\"0.888319\",\"0.898319\",\"0.908319\",\"0.918319\",\"0.928319\",\"0.938319\",\"0.948319\",\"0.958319\",\"0.968319\",\"0.978319\",\"0.988319\",\"0.998319\",\"1.00832\",\"1.01832\",\"1.02832\",\"1.03832\",\"1.04832\",\"1.05832\",\"1.06832\",\"1.07832\",\"1.08832\",\"1.09832\",\"1.10832\",\"1.11832\",\"1.12832\",\"1.13832\",\"1.14832\",\"1.15832\",\"1.16832\",\"1.17832\",\"1.18832\",\"1.19832\",\"1.20832\",\"1.21832\",\"1.22832\",\"1.23832\",\"1.24832\",\"1.25832\",\"1.26832\",\"1.27832\",\"1.28832\",\"1.29832\",\"1.30832\",\"1.31832\",\"1.32832\",\"1.33832\",\"1.34832\",\"1.35832\",\"1.36832\",\"1.37832\",\"1.38832\",\"1.39832\",\"1.40832\",\"1.41832\",\"1.42832\",\"1.43832\",\"1.44832\",\"1.45832\",\"1.46832\",\"1.47832\",\"1.48832\",\"1.49832\",\"1.50832\",\"1.51832\",\"1.52832\",\"1.53832\",\"1.54832\",\"1.55832\",\"1.56832\",\"1.57832\",\"1.58832\",\"1.59832\",\"1.60832\",\"1.61832\",\"1.62832\",\"1.63832\",\"1.64832\",\"1.65832\",\"1.66832\",\"1.67832\",\"1.68832\",\"1.69832\",\"1.70832\",\"1.71832\",\"1.72832\",\"1.73832\",\"1.74832\",\"1.75832\",\"1.76832\",\"1.77832\",\"1.78832\",\"1.79832\",\"1.80832\",\"1.81832\",\"1.82832\",\"1.83832\",\"1.84832\",\"1.85832\",\"1.86832\",\"1.87832\"],\"changes\":WebIO.getval({\"name\":\"changes\",\"scope\":\"12153351645861031345\",\"id\":\"ob_30\",\"type\":\"observable\"}),\"index\":WebIO.getval({\"name\":\"index\",\"scope\":\"12153351645861031345\",\"id\":\"ob_29\",\"type\":\"observable\"})};\n    var self = this;\n    function AppViewModel() {\n        for (var key in json_data) {\n            var el = json_data[key];\n            this[key] = Array.isArray(el) ? ko.observableArray(el) : ko.observable(el);\n        }\n        \n        [this[\"formatted_val\"]=ko.computed(    function(){\n        return this.formatted_vals()[parseInt(this.index())-(1)];\n    }\n,this)]\n        [this[\"changes\"].subscribe((function (val){!(this.valueFromJulia[\"changes\"]) ? (WebIO.setval({\"name\":\"changes\",\"scope\":\"12153351645861031345\",\"id\":\"ob_30\",\"type\":\"observable\"},val)) : undefined; return this.valueFromJulia[\"changes\"]=false}),self),this[\"index\"].subscribe((function (val){!(this.valueFromJulia[\"index\"]) ? (WebIO.setval({\"name\":\"index\",\"scope\":\"12153351645861031345\",\"id\":\"ob_29\",\"type\":\"observable\"},val)) : undefined; return this.valueFromJulia[\"index\"]=false}),self)]\n        \n    }\n    self.model = new AppViewModel();\n    self.valueFromJulia = {};\n    for (var key in json_data) {\n        self.valueFromJulia[key] = false;\n    }\n    ko.applyBindings(self.model, self.dom);\n}\n);\n    (WebIO.importBlock({\"data\":[{\"name\":\"knockout\",\"type\":\"js\",\"url\":\"/assetserver/2b9036ad2bf63f6f8ec7e0ef518784e2d189a641-knockout.js\"},{\"name\":\"knockout_punches\",\"type\":\"js\",\"url\":\"/assetserver/25c70325a7f555432ff81bbe4a02595ace6c3789-knockout_punches.js\"}],\"type\":\"async_block\"})).then((imports) => handler.apply(this, imports));\n}\n"
            ],
            "observables": {
             "changes": {
              "id": "ob_30",
              "sync": false,
              "value": 0
             },
             "index": {
              "id": "ob_29",
              "sync": true,
              "value": 63
             }
            },
            "systemjs_options": null
           },
           "nodeType": "Scope",
           "props": {},
           "type": "node"
          }
         ],
         "instanceArgs": {
          "namespace": "html",
          "tag": "div"
         },
         "nodeType": "DOM",
         "props": {
          "className": "field interact-widget"
         },
         "type": "node"
        },
        {
         "children": [
          {
           "children": [],
           "instanceArgs": {
            "id": "ob_36",
            "name": "obs-node"
           },
           "nodeType": "ObservableNode",
           "props": {},
           "type": "node"
          }
         ],
         "instanceArgs": {
          "handlers": {},
          "id": "17989362650706861529",
          "imports": {
           "data": [],
           "type": "async_block"
          },
          "mount_callbacks": [],
          "observables": {
           "obs-node": {
            "id": "ob_36",
            "sync": false,
            "value": {
             "children": [
              {
               "children": [],
               "instanceArgs": {
                "namespace": "html",
                "tag": "div"
               },
               "nodeType": "DOM",
               "props": {
                "setInnerHtml": "<?xml version=\"1.0\" encoding=\"utf-8\"?>\n<svg xmlns=\"http://www.w3.org/2000/svg\" xmlns:xlink=\"http://www.w3.org/1999/xlink\" width=\"600\" height=\"400\" viewBox=\"0 0 2400 1600\">\n<defs>\n  <clipPath id=\"clip4400\">\n    <rect x=\"0\" y=\"0\" width=\"2400\" height=\"1600\"/>\n  </clipPath>\n</defs>\n<polygon clip-path=\"url(#clip4400)\" points=\"\n0,1600 2400,1600 2400,0 0,0 \n  \" fill=\"#ffffff\" fill-rule=\"evenodd\" fill-opacity=\"1\"/>\n<defs>\n  <clipPath id=\"clip4401\">\n    <rect x=\"480\" y=\"0\" width=\"1681\" height=\"1600\"/>\n  </clipPath>\n</defs>\n<polygon clip-path=\"url(#clip4400)\" points=\"\n180.66,1487.47 2352.76,1487.47 2352.76,47.2441 180.66,47.2441 \n  \" fill=\"#ffffff\" fill-rule=\"evenodd\" fill-opacity=\"1\"/>\n<defs>\n  <clipPath id=\"clip4402\">\n    <rect x=\"180\" y=\"47\" width=\"2173\" height=\"1441\"/>\n  </clipPath>\n</defs>\n<polyline clip-path=\"url(#clip4402)\" style=\"stroke:#000000; stroke-width:2; stroke-opacity:0.1; fill:none\" points=\"\n  242.135,1487.47 242.135,47.2441 \n  \"/>\n<polyline clip-path=\"url(#clip4402)\" style=\"stroke:#000000; stroke-width:2; stroke-opacity:0.1; fill:none\" points=\"\n  894.398,1487.47 894.398,47.2441 \n  \"/>\n<polyline clip-path=\"url(#clip4402)\" style=\"stroke:#000000; stroke-width:2; stroke-opacity:0.1; fill:none\" points=\"\n  1546.66,1487.47 1546.66,47.2441 \n  \"/>\n<polyline clip-path=\"url(#clip4402)\" style=\"stroke:#000000; stroke-width:2; stroke-opacity:0.1; fill:none\" points=\"\n  2198.93,1487.47 2198.93,47.2441 \n  \"/>\n<polyline clip-path=\"url(#clip4402)\" style=\"stroke:#000000; stroke-width:2; stroke-opacity:0.1; fill:none\" points=\"\n  180.66,1446.71 2352.76,1446.71 \n  \"/>\n<polyline clip-path=\"url(#clip4402)\" style=\"stroke:#000000; stroke-width:2; stroke-opacity:0.1; fill:none\" points=\"\n  180.66,1106.93 2352.76,1106.93 \n  \"/>\n<polyline clip-path=\"url(#clip4402)\" style=\"stroke:#000000; stroke-width:2; stroke-opacity:0.1; fill:none\" points=\"\n  180.66,767.141 2352.76,767.141 \n  \"/>\n<polyline clip-path=\"url(#clip4402)\" style=\"stroke:#000000; stroke-width:2; stroke-opacity:0.1; fill:none\" points=\"\n  180.66,427.355 2352.76,427.355 \n  \"/>\n<polyline clip-path=\"url(#clip4402)\" style=\"stroke:#000000; stroke-width:2; stroke-opacity:0.1; fill:none\" points=\"\n  180.66,87.5695 2352.76,87.5695 \n  \"/>\n<polyline clip-path=\"url(#clip4400)\" style=\"stroke:#000000; stroke-width:4; stroke-opacity:1; fill:none\" points=\"\n  180.66,1487.47 2352.76,1487.47 \n  \"/>\n<polyline clip-path=\"url(#clip4400)\" style=\"stroke:#000000; stroke-width:4; stroke-opacity:1; fill:none\" points=\"\n  180.66,1487.47 180.66,47.2441 \n  \"/>\n<polyline clip-path=\"url(#clip4400)\" style=\"stroke:#000000; stroke-width:4; stroke-opacity:1; fill:none\" points=\"\n  242.135,1487.47 242.135,1465.87 \n  \"/>\n<polyline clip-path=\"url(#clip4400)\" style=\"stroke:#000000; stroke-width:4; stroke-opacity:1; fill:none\" points=\"\n  894.398,1487.47 894.398,1465.87 \n  \"/>\n<polyline clip-path=\"url(#clip4400)\" style=\"stroke:#000000; stroke-width:4; stroke-opacity:1; fill:none\" points=\"\n  1546.66,1487.47 1546.66,1465.87 \n  \"/>\n<polyline clip-path=\"url(#clip4400)\" style=\"stroke:#000000; stroke-width:4; stroke-opacity:1; fill:none\" points=\"\n  2198.93,1487.47 2198.93,1465.87 \n  \"/>\n<polyline clip-path=\"url(#clip4400)\" style=\"stroke:#000000; stroke-width:4; stroke-opacity:1; fill:none\" points=\"\n  180.66,1446.71 213.242,1446.71 \n  \"/>\n<polyline clip-path=\"url(#clip4400)\" style=\"stroke:#000000; stroke-width:4; stroke-opacity:1; fill:none\" points=\"\n  180.66,1106.93 213.242,1106.93 \n  \"/>\n<polyline clip-path=\"url(#clip4400)\" style=\"stroke:#000000; stroke-width:4; stroke-opacity:1; fill:none\" points=\"\n  180.66,767.141 213.242,767.141 \n  \"/>\n<polyline clip-path=\"url(#clip4400)\" style=\"stroke:#000000; stroke-width:4; stroke-opacity:1; fill:none\" points=\"\n  180.66,427.355 213.242,427.355 \n  \"/>\n<polyline clip-path=\"url(#clip4400)\" style=\"stroke:#000000; stroke-width:4; stroke-opacity:1; fill:none\" points=\"\n  180.66,87.5695 213.242,87.5695 \n  \"/>\n<g clip-path=\"url(#clip4400)\">\n<text style=\"fill:#000000; fill-opacity:1; font-family:Arial,Helvetica Neue,Helvetica,sans-serif; font-size:48px; text-anchor:middle;\" transform=\"rotate(0, 242.135, 1541.47)\" x=\"242.135\" y=\"1541.47\">0</text>\n</g>\n<g clip-path=\"url(#clip4400)\">\n<text style=\"fill:#000000; fill-opacity:1; font-family:Arial,Helvetica Neue,Helvetica,sans-serif; font-size:48px; text-anchor:middle;\" transform=\"rotate(0, 894.398, 1541.47)\" x=\"894.398\" y=\"1541.47\">1</text>\n</g>\n<g clip-path=\"url(#clip4400)\">\n<text style=\"fill:#000000; fill-opacity:1; font-family:Arial,Helvetica Neue,Helvetica,sans-serif; font-size:48px; text-anchor:middle;\" transform=\"rotate(0, 1546.66, 1541.47)\" x=\"1546.66\" y=\"1541.47\">2</text>\n</g>\n<g clip-path=\"url(#clip4400)\">\n<text style=\"fill:#000000; fill-opacity:1; font-family:Arial,Helvetica Neue,Helvetica,sans-serif; font-size:48px; text-anchor:middle;\" transform=\"rotate(0, 2198.93, 1541.47)\" x=\"2198.93\" y=\"1541.47\">3</text>\n</g>\n<g clip-path=\"url(#clip4400)\">\n<text style=\"fill:#000000; fill-opacity:1; font-family:Arial,Helvetica Neue,Helvetica,sans-serif; font-size:48px; text-anchor:end;\" transform=\"rotate(0, 156.66, 1464.21)\" x=\"156.66\" y=\"1464.21\">0.00</text>\n</g>\n<g clip-path=\"url(#clip4400)\">\n<text style=\"fill:#000000; fill-opacity:1; font-family:Arial,Helvetica Neue,Helvetica,sans-serif; font-size:48px; text-anchor:end;\" transform=\"rotate(0, 156.66, 1124.43)\" x=\"156.66\" y=\"1124.43\">0.25</text>\n</g>\n<g clip-path=\"url(#clip4400)\">\n<text style=\"fill:#000000; fill-opacity:1; font-family:Arial,Helvetica Neue,Helvetica,sans-serif; font-size:48px; text-anchor:end;\" transform=\"rotate(0, 156.66, 784.641)\" x=\"156.66\" y=\"784.641\">0.50</text>\n</g>\n<g clip-path=\"url(#clip4400)\">\n<text style=\"fill:#000000; fill-opacity:1; font-family:Arial,Helvetica Neue,Helvetica,sans-serif; font-size:48px; text-anchor:end;\" transform=\"rotate(0, 156.66, 444.855)\" x=\"156.66\" y=\"444.855\">0.75</text>\n</g>\n<g clip-path=\"url(#clip4400)\">\n<text style=\"fill:#000000; fill-opacity:1; font-family:Arial,Helvetica Neue,Helvetica,sans-serif; font-size:48px; text-anchor:end;\" transform=\"rotate(0, 156.66, 105.069)\" x=\"156.66\" y=\"105.069\">1.00</text>\n</g>\n<circle clip-path=\"url(#clip4402)\" style=\"fill:#000000; stroke:none; fill-opacity:1\" cx=\"242.135\" cy=\"1446.71\" r=\"18\"/>\n<circle clip-path=\"url(#clip4402)\" style=\"fill:#009af9; stroke:none; fill-opacity:1\" cx=\"242.135\" cy=\"1446.71\" r=\"14\"/>\n<circle clip-path=\"url(#clip4402)\" style=\"fill:#000000; stroke:none; fill-opacity:1\" cx=\"651.964\" cy=\"647.829\" r=\"18\"/>\n<circle clip-path=\"url(#clip4402)\" style=\"fill:#009af9; stroke:none; fill-opacity:1\" cx=\"651.964\" cy=\"647.829\" r=\"14\"/>\n<circle clip-path=\"url(#clip4402)\" style=\"fill:#000000; stroke:none; fill-opacity:1\" cx=\"1056.37\" cy=\"157.629\" r=\"18\"/>\n<circle clip-path=\"url(#clip4402)\" style=\"fill:#009af9; stroke:none; fill-opacity:1\" cx=\"1056.37\" cy=\"157.629\" r=\"14\"/>\n<circle clip-path=\"url(#clip4402)\" style=\"fill:#000000; stroke:none; fill-opacity:1\" cx=\"1471.62\" cy=\"154.091\" r=\"18\"/>\n<circle clip-path=\"url(#clip4402)\" style=\"fill:#009af9; stroke:none; fill-opacity:1\" cx=\"1471.62\" cy=\"154.091\" r=\"14\"/>\n<circle clip-path=\"url(#clip4402)\" style=\"fill:#000000; stroke:none; fill-opacity:1\" cx=\"1881.45\" cy=\"647.829\" r=\"18\"/>\n<circle clip-path=\"url(#clip4402)\" style=\"fill:#009af9; stroke:none; fill-opacity:1\" cx=\"1881.45\" cy=\"647.829\" r=\"14\"/>\n<circle clip-path=\"url(#clip4402)\" style=\"fill:#000000; stroke:none; fill-opacity:1\" cx=\"2291.28\" cy=\"1446.71\" r=\"18\"/>\n<circle clip-path=\"url(#clip4402)\" style=\"fill:#009af9; stroke:none; fill-opacity:1\" cx=\"2291.28\" cy=\"1446.71\" r=\"14\"/>\n<polyline clip-path=\"url(#clip4402)\" style=\"stroke:#e26f46; stroke-width:4; stroke-opacity:1; fill:none\" points=\"\n  242.135,1446.71 252.432,1425.28 262.729,1403.85 273.026,1382.43 283.324,1361.03 293.621,1339.64 303.918,1318.28 314.215,1296.96 324.512,1275.67 334.81,1254.42 \n  345.107,1233.22 355.404,1212.06 365.701,1190.97 375.999,1169.94 386.296,1148.97 396.593,1128.08 406.89,1107.27 417.187,1086.53 427.485,1065.89 437.782,1045.34 \n  448.079,1024.88 458.376,1004.53 468.674,984.289 478.971,964.161 489.268,944.151 499.565,924.266 509.862,904.509 520.16,884.887 530.457,865.404 540.754,846.065 \n  551.051,826.877 561.349,807.843 571.646,788.969 581.943,770.261 592.24,751.723 602.537,733.361 612.835,715.179 623.132,697.184 633.429,679.379 643.726,661.771 \n  654.024,644.364 664.321,627.163 674.618,610.171 684.915,593.392 695.212,576.829 705.51,560.485 715.807,544.363 726.104,528.467 736.401,512.8 746.698,497.364 \n  756.996,482.164 767.293,467.202 777.59,452.481 787.887,438.005 798.185,423.778 808.482,409.802 818.779,396.08 829.076,382.616 839.373,369.413 849.671,356.474 \n  859.968,343.802 870.265,331.401 880.562,319.274 890.86,307.424 901.157,295.854 911.454,284.567 921.751,273.568 932.048,262.858 942.346,252.441 952.643,242.321 \n  962.94,232.5 973.237,222.982 983.535,213.77 993.832,204.868 1004.13,196.277 1014.43,188.003 1024.72,180.047 1035.02,172.414 1045.32,165.106 1055.62,158.126 \n  1065.91,151.478 1076.21,145.162 1086.51,139.178 1096.8,133.526 1107.1,128.206 1117.4,123.219 1127.7,118.563 1137.99,114.24 1148.29,110.249 1158.59,106.59 \n  1168.88,103.264 1179.18,100.27 1189.48,97.608 1199.78,95.2787 1210.07,93.2817 1220.37,91.6172 1230.67,90.2851 1240.97,89.2856 1251.26,88.6185 1261.56,88.284 \n  1271.86,88.282 1282.15,88.6127 1292.45,89.2759 1302.75,90.2718 1313.05,91.6004 1323.34,93.2617 1333.64,95.2557 1343.94,97.5825 1354.23,100.242 1364.53,103.234 \n  1374.83,106.56 1385.13,110.218 1395.42,114.209 1405.72,118.533 1416.02,123.189 1426.32,128.179 1436.61,133.502 1446.91,139.158 1457.21,145.147 1467.5,151.469 \n  1477.8,158.124 1488.1,165.11 1498.4,172.424 1508.69,180.063 1518.99,188.023 1529.29,196.302 1539.58,204.896 1549.88,213.802 1560.18,223.017 1570.48,232.538 \n  1580.77,242.36 1591.07,252.482 1601.37,262.9 1611.66,273.611 1621.96,284.611 1632.26,295.898 1642.56,307.468 1652.85,319.318 1663.15,331.444 1673.45,343.845 \n  1683.75,356.515 1694.04,369.453 1704.34,382.654 1714.64,396.117 1724.93,409.837 1735.23,423.811 1745.53,438.036 1755.83,452.51 1766.12,467.228 1776.42,482.187 \n  1786.72,497.385 1797.01,512.818 1807.31,528.484 1817.61,544.377 1827.91,560.497 1838.2,576.838 1848.5,593.399 1858.8,610.176 1869.1,627.165 1879.39,644.364 \n  1889.69,661.769 1899.99,679.376 1910.28,697.179 1920.58,715.173 1930.88,733.353 1941.18,751.714 1951.47,770.251 1961.77,788.959 1972.07,807.831 1982.36,826.864 \n  1992.66,846.052 2002.96,865.39 2013.26,884.872 2023.55,904.495 2033.85,924.251 2044.15,944.137 2054.45,964.146 2064.74,984.275 2075.04,1004.52 2085.34,1024.87 \n  2095.63,1045.32 2105.93,1065.87 2116.23,1086.52 2126.53,1107.25 2136.82,1128.07 2147.12,1148.96 2157.42,1169.93 2167.71,1190.96 2178.01,1212.05 2188.31,1233.21 \n  2198.61,1254.41 2208.9,1275.66 2219.2,1296.95 2229.5,1318.28 2239.8,1339.64 2250.09,1361.02 2260.39,1382.43 2270.69,1403.85 2280.98,1425.28 2291.28,1446.71 \n  \n  \"/>\n<polyline clip-path=\"url(#clip4402)\" style=\"stroke:#3da44d; stroke-width:4; stroke-opacity:1; fill:none\" points=\"\n  242.135,1446.71 252.432,1425.55 262.729,1404.36 273.026,1383.16 283.324,1361.93 293.621,1340.7 303.918,1319.48 314.215,1298.26 324.512,1277.05 334.81,1255.87 \n  345.107,1234.72 355.404,1213.6 365.701,1192.53 375.999,1171.5 386.296,1150.53 396.593,1129.62 406.89,1108.78 417.187,1088.01 427.485,1067.33 437.782,1046.73 \n  448.079,1026.22 458.376,1005.81 468.674,985.513 478.971,965.322 489.268,945.248 499.565,925.296 509.862,905.472 520.16,885.782 530.457,866.23 540.754,846.823 \n  551.051,827.566 561.349,808.464 571.646,789.521 581.943,770.745 592.24,752.138 602.537,733.707 612.835,715.456 623.132,697.39 633.429,679.513 643.726,661.831 \n  654.024,644.348 664.321,627.069 674.618,609.997 684.915,593.137 695.212,576.494 705.51,560.072 715.807,543.874 726.104,527.906 736.401,512.17 746.698,496.671 \n  756.996,481.413 767.293,466.399 777.59,451.634 787.887,437.12 798.185,422.861 808.482,408.861 818.779,395.122 829.076,381.65 839.373,368.445 849.671,355.513 \n  859.968,342.855 870.265,330.475 880.562,318.376 890.86,306.561 901.157,295.032 911.454,283.792 921.751,272.844 932.048,262.19 942.346,251.833 952.643,241.775 \n  962.94,232.018 973.237,222.565 983.535,213.419 993.832,204.58 1004.13,196.051 1014.43,187.834 1024.72,179.932 1035.02,172.345 1045.32,165.075 1055.62,158.125 \n  1065.91,151.495 1076.21,145.187 1086.51,139.203 1096.8,133.544 1107.1,128.211 1117.4,123.206 1127.7,118.529 1137.99,114.181 1148.29,110.165 1158.59,106.48 \n  1168.88,103.127 1179.18,100.107 1189.48,97.4212 1199.78,95.0696 1210.07,93.0529 1220.37,91.3715 1230.67,90.0258 1240.97,89.0162 1251.26,88.3428 1261.56,88.0058 \n  1271.86,88.0053 1282.15,88.3413 1292.45,89.0137 1302.75,90.0223 1313.05,91.3669 1323.34,93.0473 1333.64,95.0631 1343.94,97.4137 1354.23,100.099 1364.53,103.118 \n  1374.83,106.469 1385.13,110.154 1395.42,114.169 1405.72,118.516 1416.02,123.192 1426.32,128.197 1436.61,133.529 1446.91,139.187 1457.21,145.171 1467.5,151.478 \n  1477.8,158.107 1488.1,165.057 1498.4,172.326 1508.69,179.913 1518.99,187.815 1529.29,196.031 1539.58,204.56 1549.88,213.398 1560.18,222.545 1570.48,231.997 \n  1580.77,241.754 1591.07,251.812 1601.37,262.169 1611.66,272.823 1621.96,283.771 1632.26,295.011 1642.56,306.541 1652.85,318.357 1663.15,330.456 1673.45,342.836 \n  1683.75,355.494 1694.04,368.427 1704.34,381.632 1714.64,395.106 1724.93,408.844 1735.23,422.845 1745.53,437.105 1755.83,451.62 1766.12,466.387 1776.42,481.401 \n  1786.72,496.661 1797.01,512.16 1807.31,527.897 1817.61,543.867 1827.91,560.065 1838.2,576.489 1848.5,593.133 1858.8,609.994 1869.1,627.067 1879.39,644.348 \n  1889.69,661.832 1899.99,679.516 1910.28,697.393 1920.58,715.461 1930.88,733.713 1941.18,752.146 1951.47,770.754 1961.77,789.532 1972.07,808.475 1982.36,827.579 \n  1992.66,846.837 2002.96,866.245 2013.26,885.798 2023.55,905.489 2033.85,925.314 2044.15,945.267 2054.45,965.342 2064.74,985.534 2075.04,1005.84 2085.34,1026.24 \n  2095.63,1046.75 2105.93,1067.35 2116.23,1088.04 2126.53,1108.8 2136.82,1129.64 2147.12,1150.55 2157.42,1171.52 2167.71,1192.55 2178.01,1213.62 2188.31,1234.74 \n  2198.61,1255.89 2208.9,1277.07 2219.2,1298.28 2229.5,1319.49 2239.8,1340.72 2250.09,1361.95 2260.39,1383.16 2270.69,1404.37 2280.98,1425.56 2291.28,1446.71 \n  \n  \"/>\n<polygon clip-path=\"url(#clip4400)\" points=\"\n1989.93,372.684 2280.76,372.684 2280.76,130.764 1989.93,130.764 \n  \" fill=\"#ffffff\" fill-rule=\"evenodd\" fill-opacity=\"1\"/>\n<polyline clip-path=\"url(#clip4400)\" style=\"stroke:#000000; stroke-width:4; stroke-opacity:1; fill:none\" points=\"\n  1989.93,372.684 2280.76,372.684 2280.76,130.764 1989.93,130.764 1989.93,372.684 \n  \"/>\n<circle clip-path=\"url(#clip4400)\" style=\"fill:#000000; stroke:none; fill-opacity:1\" cx=\"2097.93\" cy=\"191.244\" r=\"25\"/>\n<circle clip-path=\"url(#clip4400)\" style=\"fill:#009af9; stroke:none; fill-opacity:1\" cx=\"2097.93\" cy=\"191.244\" r=\"21\"/>\n<g clip-path=\"url(#clip4400)\">\n<text style=\"fill:#000000; fill-opacity:1; font-family:Arial,Helvetica Neue,Helvetica,sans-serif; font-size:48px; text-anchor:start;\" transform=\"rotate(0, 2181.93, 208.744)\" x=\"2181.93\" y=\"208.744\">y1</text>\n</g>\n<polyline clip-path=\"url(#clip4400)\" style=\"stroke:#e26f46; stroke-width:4; stroke-opacity:1; fill:none\" points=\"\n  2013.93,251.724 2157.93,251.724 \n  \"/>\n<g clip-path=\"url(#clip4400)\">\n<text style=\"fill:#000000; fill-opacity:1; font-family:Arial,Helvetica Neue,Helvetica,sans-serif; font-size:48px; text-anchor:start;\" transform=\"rotate(0, 2181.93, 269.224)\" x=\"2181.93\" y=\"269.224\">y2</text>\n</g>\n<polyline clip-path=\"url(#clip4400)\" style=\"stroke:#3da44d; stroke-width:4; stroke-opacity:1; fill:none\" points=\"\n  2013.93,312.204 2157.93,312.204 \n  \"/>\n<g clip-path=\"url(#clip4400)\">\n<text style=\"fill:#000000; fill-opacity:1; font-family:Arial,Helvetica Neue,Helvetica,sans-serif; font-size:48px; text-anchor:start;\" transform=\"rotate(0, 2181.93, 329.704)\" x=\"2181.93\" y=\"329.704\">y3</text>\n</g>\n</svg>\n"
               },
               "type": "node"
              }
             ],
             "instanceArgs": {
              "namespace": "html",
              "tag": "div"
             },
             "nodeType": "DOM",
             "props": {
              "className": "interact-flex-row interact-widget"
             },
             "type": "node"
            }
           }
          },
          "systemjs_options": null
         },
         "nodeType": "Scope",
         "props": {},
         "type": "node"
        }
       ],
       "instanceArgs": {
        "namespace": "html",
        "tag": "div"
       },
       "nodeType": "DOM",
       "props": {},
       "type": "node"
      },
      "text/html": [
       "<div\n",
       "    class=\"webio-mountpoint\"\n",
       "    data-webio-mountpoint=\"9360001239043903420\"\n",
       ">\n",
       "    <script>\n",
       "    if (window.require && require.defined && require.defined(\"nbextensions/webio-jupyter-notebook\")) {\n",
       "        console.log(\"Jupyter WebIO extension detected, not mounting.\");\n",
       "    } else if (window.WebIO) {\n",
       "        WebIO.mount(\n",
       "            document.querySelector('[data-webio-mountpoint=\"9360001239043903420\"]'),\n",
       "            {\"props\":{},\"nodeType\":\"DOM\",\"type\":\"node\",\"instanceArgs\":{\"namespace\":\"html\",\"tag\":\"div\"},\"children\":[{\"props\":{\"className\":\"field interact-widget\"},\"nodeType\":\"DOM\",\"type\":\"node\",\"instanceArgs\":{\"namespace\":\"html\",\"tag\":\"div\"},\"children\":[{\"props\":{},\"nodeType\":\"Scope\",\"type\":\"node\",\"instanceArgs\":{\"imports\":{\"data\":[{\"name\":\"knockout\",\"type\":\"js\",\"url\":\"\\/assetserver\\/2b9036ad2bf63f6f8ec7e0ef518784e2d189a641-knockout.js\"},{\"name\":\"knockout_punches\",\"type\":\"js\",\"url\":\"\\/assetserver\\/25c70325a7f555432ff81bbe4a02595ace6c3789-knockout_punches.js\"},{\"name\":null,\"type\":\"js\",\"url\":\"\\/assetserver\\/58938f6a69194ca059786346a0ab1343062c07a8-all.js\"},{\"name\":null,\"type\":\"css\",\"url\":\"\\/assetserver\\/a767dce781720d28636657e9fdb402d5dd95a43f-style.css\"},{\"name\":null,\"type\":\"css\",\"url\":\"\\/assetserver\\/0a45021d6c37e0a7c348c567eabbeee2c0f10e1f-bulma_confined.min.css\"}],\"type\":\"async_block\"},\"id\":\"12153351645861031345\",\"handlers\":{\"changes\":[\"(function (val){return (val!=this.model[\\\"changes\\\"]()) ? (this.valueFromJulia[\\\"changes\\\"]=true, this.model[\\\"changes\\\"](val)) : undefined})\"],\"index\":[\"(function (val){return (val!=this.model[\\\"index\\\"]()) ? (this.valueFromJulia[\\\"index\\\"]=true, this.model[\\\"index\\\"](val)) : undefined})\"]},\"systemjs_options\":null,\"mount_callbacks\":[\"function () {\\n    var handler = (function (ko, koPunches) {\\n    ko.punches.enableAll();\\n    ko.bindingHandlers.numericValue = {\\n        init: function(element, valueAccessor, allBindings, data, context) {\\n            var stringified = ko.observable(ko.unwrap(valueAccessor()));\\n            stringified.subscribe(function(value) {\\n                var val = parseFloat(value);\\n                if (!isNaN(val)) {\\n                    valueAccessor()(val);\\n                }\\n            });\\n            valueAccessor().subscribe(function(value) {\\n                var str = JSON.stringify(value);\\n                if ((str == \\\"0\\\") && ([\\\"-0\\\", \\\"-0.\\\"].indexOf(stringified()) >= 0))\\n                     return;\\n                 if ([\\\"null\\\", \\\"\\\"].indexOf(str) >= 0)\\n                     return;\\n                stringified(str);\\n            });\\n            ko.applyBindingsToNode(\\n                element,\\n                {\\n                    value: stringified,\\n                    valueUpdate: allBindings.get('valueUpdate'),\\n                },\\n                context,\\n            );\\n        }\\n    };\\n    var json_data = {\\\"formatted_vals\\\":[\\\"0.628319\\\",\\\"0.638319\\\",\\\"0.648319\\\",\\\"0.658319\\\",\\\"0.668319\\\",\\\"0.678319\\\",\\\"0.688319\\\",\\\"0.698319\\\",\\\"0.708319\\\",\\\"0.718319\\\",\\\"0.728319\\\",\\\"0.738319\\\",\\\"0.748319\\\",\\\"0.758319\\\",\\\"0.768319\\\",\\\"0.778319\\\",\\\"0.788319\\\",\\\"0.798319\\\",\\\"0.808319\\\",\\\"0.818319\\\",\\\"0.828319\\\",\\\"0.838319\\\",\\\"0.848319\\\",\\\"0.858319\\\",\\\"0.868319\\\",\\\"0.878319\\\",\\\"0.888319\\\",\\\"0.898319\\\",\\\"0.908319\\\",\\\"0.918319\\\",\\\"0.928319\\\",\\\"0.938319\\\",\\\"0.948319\\\",\\\"0.958319\\\",\\\"0.968319\\\",\\\"0.978319\\\",\\\"0.988319\\\",\\\"0.998319\\\",\\\"1.00832\\\",\\\"1.01832\\\",\\\"1.02832\\\",\\\"1.03832\\\",\\\"1.04832\\\",\\\"1.05832\\\",\\\"1.06832\\\",\\\"1.07832\\\",\\\"1.08832\\\",\\\"1.09832\\\",\\\"1.10832\\\",\\\"1.11832\\\",\\\"1.12832\\\",\\\"1.13832\\\",\\\"1.14832\\\",\\\"1.15832\\\",\\\"1.16832\\\",\\\"1.17832\\\",\\\"1.18832\\\",\\\"1.19832\\\",\\\"1.20832\\\",\\\"1.21832\\\",\\\"1.22832\\\",\\\"1.23832\\\",\\\"1.24832\\\",\\\"1.25832\\\",\\\"1.26832\\\",\\\"1.27832\\\",\\\"1.28832\\\",\\\"1.29832\\\",\\\"1.30832\\\",\\\"1.31832\\\",\\\"1.32832\\\",\\\"1.33832\\\",\\\"1.34832\\\",\\\"1.35832\\\",\\\"1.36832\\\",\\\"1.37832\\\",\\\"1.38832\\\",\\\"1.39832\\\",\\\"1.40832\\\",\\\"1.41832\\\",\\\"1.42832\\\",\\\"1.43832\\\",\\\"1.44832\\\",\\\"1.45832\\\",\\\"1.46832\\\",\\\"1.47832\\\",\\\"1.48832\\\",\\\"1.49832\\\",\\\"1.50832\\\",\\\"1.51832\\\",\\\"1.52832\\\",\\\"1.53832\\\",\\\"1.54832\\\",\\\"1.55832\\\",\\\"1.56832\\\",\\\"1.57832\\\",\\\"1.58832\\\",\\\"1.59832\\\",\\\"1.60832\\\",\\\"1.61832\\\",\\\"1.62832\\\",\\\"1.63832\\\",\\\"1.64832\\\",\\\"1.65832\\\",\\\"1.66832\\\",\\\"1.67832\\\",\\\"1.68832\\\",\\\"1.69832\\\",\\\"1.70832\\\",\\\"1.71832\\\",\\\"1.72832\\\",\\\"1.73832\\\",\\\"1.74832\\\",\\\"1.75832\\\",\\\"1.76832\\\",\\\"1.77832\\\",\\\"1.78832\\\",\\\"1.79832\\\",\\\"1.80832\\\",\\\"1.81832\\\",\\\"1.82832\\\",\\\"1.83832\\\",\\\"1.84832\\\",\\\"1.85832\\\",\\\"1.86832\\\",\\\"1.87832\\\"],\\\"changes\\\":WebIO.getval({\\\"name\\\":\\\"changes\\\",\\\"scope\\\":\\\"12153351645861031345\\\",\\\"id\\\":\\\"ob_30\\\",\\\"type\\\":\\\"observable\\\"}),\\\"index\\\":WebIO.getval({\\\"name\\\":\\\"index\\\",\\\"scope\\\":\\\"12153351645861031345\\\",\\\"id\\\":\\\"ob_29\\\",\\\"type\\\":\\\"observable\\\"})};\\n    var self = this;\\n    function AppViewModel() {\\n        for (var key in json_data) {\\n            var el = json_data[key];\\n            this[key] = Array.isArray(el) ? ko.observableArray(el) : ko.observable(el);\\n        }\\n        \\n        [this[\\\"formatted_val\\\"]=ko.computed(    function(){\\n        return this.formatted_vals()[parseInt(this.index())-(1)];\\n    }\\n,this)]\\n        [this[\\\"changes\\\"].subscribe((function (val){!(this.valueFromJulia[\\\"changes\\\"]) ? (WebIO.setval({\\\"name\\\":\\\"changes\\\",\\\"scope\\\":\\\"12153351645861031345\\\",\\\"id\\\":\\\"ob_30\\\",\\\"type\\\":\\\"observable\\\"},val)) : undefined; return this.valueFromJulia[\\\"changes\\\"]=false}),self),this[\\\"index\\\"].subscribe((function (val){!(this.valueFromJulia[\\\"index\\\"]) ? (WebIO.setval({\\\"name\\\":\\\"index\\\",\\\"scope\\\":\\\"12153351645861031345\\\",\\\"id\\\":\\\"ob_29\\\",\\\"type\\\":\\\"observable\\\"},val)) : undefined; return this.valueFromJulia[\\\"index\\\"]=false}),self)]\\n        \\n    }\\n    self.model = new AppViewModel();\\n    self.valueFromJulia = {};\\n    for (var key in json_data) {\\n        self.valueFromJulia[key] = false;\\n    }\\n    ko.applyBindings(self.model, self.dom);\\n}\\n);\\n    (WebIO.importBlock({\\\"data\\\":[{\\\"name\\\":\\\"knockout\\\",\\\"type\\\":\\\"js\\\",\\\"url\\\":\\\"\\/assetserver\\/2b9036ad2bf63f6f8ec7e0ef518784e2d189a641-knockout.js\\\"},{\\\"name\\\":\\\"knockout_punches\\\",\\\"type\\\":\\\"js\\\",\\\"url\\\":\\\"\\/assetserver\\/25c70325a7f555432ff81bbe4a02595ace6c3789-knockout_punches.js\\\"}],\\\"type\\\":\\\"async_block\\\"})).then((imports) => handler.apply(this, imports));\\n}\\n\"],\"observables\":{\"changes\":{\"sync\":false,\"id\":\"ob_30\",\"value\":0},\"index\":{\"sync\":true,\"id\":\"ob_29\",\"value\":63}}},\"children\":[{\"props\":{\"className\":\"interact-flex-row interact-widget\"},\"nodeType\":\"DOM\",\"type\":\"node\",\"instanceArgs\":{\"namespace\":\"html\",\"tag\":\"div\"},\"children\":[{\"props\":{\"className\":\"interact-flex-row-left\"},\"nodeType\":\"DOM\",\"type\":\"node\",\"instanceArgs\":{\"namespace\":\"html\",\"tag\":\"div\"},\"children\":[{\"props\":{\"className\":\"interact \",\"style\":{\"padding\":\"5px 10px 0px 10px\"}},\"nodeType\":\"DOM\",\"type\":\"node\",\"instanceArgs\":{\"namespace\":\"html\",\"tag\":\"label\"},\"children\":[\"xp\"]}]},{\"props\":{\"className\":\"interact-flex-row-center\"},\"nodeType\":\"DOM\",\"type\":\"node\",\"instanceArgs\":{\"namespace\":\"html\",\"tag\":\"div\"},\"children\":[{\"props\":{\"max\":126,\"min\":1,\"attributes\":{\"type\":\"range\",\"data-bind\":\"numericValue: index, valueUpdate: 'input', event: {change: function (){this.changes(this.changes()+1)}}\",\"orient\":\"horizontal\"},\"step\":1,\"className\":\"slider slider is-fullwidth\",\"style\":{}},\"nodeType\":\"DOM\",\"type\":\"node\",\"instanceArgs\":{\"namespace\":\"html\",\"tag\":\"input\"},\"children\":[]}]},{\"props\":{\"className\":\"interact-flex-row-right\"},\"nodeType\":\"DOM\",\"type\":\"node\",\"instanceArgs\":{\"namespace\":\"html\",\"tag\":\"div\"},\"children\":[{\"props\":{\"attributes\":{\"data-bind\":\"text: formatted_val\"}},\"nodeType\":\"DOM\",\"type\":\"node\",\"instanceArgs\":{\"namespace\":\"html\",\"tag\":\"p\"},\"children\":[]}]}]}]}]},{\"props\":{},\"nodeType\":\"Scope\",\"type\":\"node\",\"instanceArgs\":{\"imports\":{\"data\":[],\"type\":\"async_block\"},\"id\":\"9998846275320182009\",\"handlers\":{},\"systemjs_options\":null,\"mount_callbacks\":[],\"observables\":{\"obs-node\":{\"sync\":false,\"id\":\"ob_34\",\"value\":{\"props\":{\"className\":\"interact-flex-row interact-widget\"},\"nodeType\":\"DOM\",\"type\":\"node\",\"instanceArgs\":{\"namespace\":\"html\",\"tag\":\"div\"},\"children\":[{\"props\":{\"setInnerHtml\":\"<?xml version=\\\"1.0\\\" encoding=\\\"utf-8\\\"?>\\n<svg xmlns=\\\"http:\\/\\/www.w3.org\\/2000\\/svg\\\" xmlns:xlink=\\\"http:\\/\\/www.w3.org\\/1999\\/xlink\\\" width=\\\"600\\\" height=\\\"400\\\" viewBox=\\\"0 0 2400 1600\\\">\\n<defs>\\n  <clipPath id=\\\"clip4000\\\">\\n    <rect x=\\\"0\\\" y=\\\"0\\\" width=\\\"2400\\\" height=\\\"1600\\\"\\/>\\n  <\\/clipPath>\\n<\\/defs>\\n<polygon clip-path=\\\"url(#clip4000)\\\" points=\\\"\\n0,1600 2400,1600 2400,0 0,0 \\n  \\\" fill=\\\"#ffffff\\\" fill-rule=\\\"evenodd\\\" fill-opacity=\\\"1\\\"\\/>\\n<defs>\\n  <clipPath id=\\\"clip4001\\\">\\n    <rect x=\\\"480\\\" y=\\\"0\\\" width=\\\"1681\\\" height=\\\"1600\\\"\\/>\\n  <\\/clipPath>\\n<\\/defs>\\n<polygon clip-path=\\\"url(#clip4000)\\\" points=\\\"\\n180.66,1487.47 2352.76,1487.47 2352.76,47.2441 180.66,47.2441 \\n  \\\" fill=\\\"#ffffff\\\" fill-rule=\\\"evenodd\\\" fill-opacity=\\\"1\\\"\\/>\\n<defs>\\n  <clipPath id=\\\"clip4002\\\">\\n    <rect x=\\\"180\\\" y=\\\"47\\\" width=\\\"2173\\\" height=\\\"1441\\\"\\/>\\n  <\\/clipPath>\\n<\\/defs>\\n<polyline clip-path=\\\"url(#clip4002)\\\" style=\\\"stroke:#000000; stroke-width:2; stroke-opacity:0.1; fill:none\\\" points=\\\"\\n  242.135,1487.47 242.135,47.2441 \\n  \\\"\\/>\\n<polyline clip-path=\\\"url(#clip4002)\\\" style=\\\"stroke:#000000; stroke-width:2; stroke-opacity:0.1; fill:none\\\" points=\\\"\\n  894.398,1487.47 894.398,47.2441 \\n  \\\"\\/>\\n<polyline clip-path=\\\"url(#clip4002)\\\" style=\\\"stroke:#000000; stroke-width:2; stroke-opacity:0.1; fill:none\\\" points=\\\"\\n  1546.66,1487.47 1546.66,47.2441 \\n  \\\"\\/>\\n<polyline clip-path=\\\"url(#clip4002)\\\" style=\\\"stroke:#000000; stroke-width:2; stroke-opacity:0.1; fill:none\\\" points=\\\"\\n  2198.93,1487.47 2198.93,47.2441 \\n  \\\"\\/>\\n<polyline clip-path=\\\"url(#clip4002)\\\" style=\\\"stroke:#000000; stroke-width:2; stroke-opacity:0.1; fill:none\\\" points=\\\"\\n  180.66,1446.71 2352.76,1446.71 \\n  \\\"\\/>\\n<polyline clip-path=\\\"url(#clip4002)\\\" style=\\\"stroke:#000000; stroke-width:2; stroke-opacity:0.1; fill:none\\\" points=\\\"\\n  180.66,1106.93 2352.76,1106.93 \\n  \\\"\\/>\\n<polyline clip-path=\\\"url(#clip4002)\\\" style=\\\"stroke:#000000; stroke-width:2; stroke-opacity:0.1; fill:none\\\" points=\\\"\\n  180.66,767.141 2352.76,767.141 \\n  \\\"\\/>\\n<polyline clip-path=\\\"url(#clip4002)\\\" style=\\\"stroke:#000000; stroke-width:2; stroke-opacity:0.1; fill:none\\\" points=\\\"\\n  180.66,427.355 2352.76,427.355 \\n  \\\"\\/>\\n<polyline clip-path=\\\"url(#clip4002)\\\" style=\\\"stroke:#000000; stroke-width:2; stroke-opacity:0.1; fill:none\\\" points=\\\"\\n  180.66,87.5695 2352.76,87.5695 \\n  \\\"\\/>\\n<polyline clip-path=\\\"url(#clip4000)\\\" style=\\\"stroke:#000000; stroke-width:4; stroke-opacity:1; fill:none\\\" points=\\\"\\n  180.66,1487.47 2352.76,1487.47 \\n  \\\"\\/>\\n<polyline clip-path=\\\"url(#clip4000)\\\" style=\\\"stroke:#000000; stroke-width:4; stroke-opacity:1; fill:none\\\" points=\\\"\\n  180.66,1487.47 180.66,47.2441 \\n  \\\"\\/>\\n<polyline clip-path=\\\"url(#clip4000)\\\" style=\\\"stroke:#000000; stroke-width:4; stroke-opacity:1; fill:none\\\" points=\\\"\\n  242.135,1487.47 242.135,1465.87 \\n  \\\"\\/>\\n<polyline clip-path=\\\"url(#clip4000)\\\" style=\\\"stroke:#000000; stroke-width:4; stroke-opacity:1; fill:none\\\" points=\\\"\\n  894.398,1487.47 894.398,1465.87 \\n  \\\"\\/>\\n<polyline clip-path=\\\"url(#clip4000)\\\" style=\\\"stroke:#000000; stroke-width:4; stroke-opacity:1; fill:none\\\" points=\\\"\\n  1546.66,1487.47 1546.66,1465.87 \\n  \\\"\\/>\\n<polyline clip-path=\\\"url(#clip4000)\\\" style=\\\"stroke:#000000; stroke-width:4; stroke-opacity:1; fill:none\\\" points=\\\"\\n  2198.93,1487.47 2198.93,1465.87 \\n  \\\"\\/>\\n<polyline clip-path=\\\"url(#clip4000)\\\" style=\\\"stroke:#000000; stroke-width:4; stroke-opacity:1; fill:none\\\" points=\\\"\\n  180.66,1446.71 213.242,1446.71 \\n  \\\"\\/>\\n<polyline clip-path=\\\"url(#clip4000)\\\" style=\\\"stroke:#000000; stroke-width:4; stroke-opacity:1; fill:none\\\" points=\\\"\\n  180.66,1106.93 213.242,1106.93 \\n  \\\"\\/>\\n<polyline clip-path=\\\"url(#clip4000)\\\" style=\\\"stroke:#000000; stroke-width:4; stroke-opacity:1; fill:none\\\" points=\\\"\\n  180.66,767.141 213.242,767.141 \\n  \\\"\\/>\\n<polyline clip-path=\\\"url(#clip4000)\\\" style=\\\"stroke:#000000; stroke-width:4; stroke-opacity:1; fill:none\\\" points=\\\"\\n  180.66,427.355 213.242,427.355 \\n  \\\"\\/>\\n<polyline clip-path=\\\"url(#clip4000)\\\" style=\\\"stroke:#000000; stroke-width:4; stroke-opacity:1; fill:none\\\" points=\\\"\\n  180.66,87.5695 213.242,87.5695 \\n  \\\"\\/>\\n<g clip-path=\\\"url(#clip4000)\\\">\\n<text style=\\\"fill:#000000; fill-opacity:1; font-family:Arial,Helvetica Neue,Helvetica,sans-serif; font-size:48px; text-anchor:middle;\\\" transform=\\\"rotate(0, 242.135, 1541.47)\\\" x=\\\"242.135\\\" y=\\\"1541.47\\\">0<\\/text>\\n<\\/g>\\n<g clip-path=\\\"url(#clip4000)\\\">\\n<text style=\\\"fill:#000000; fill-opacity:1; font-family:Arial,Helvetica Neue,Helvetica,sans-serif; font-size:48px; text-anchor:middle;\\\" transform=\\\"rotate(0, 894.398, 1541.47)\\\" x=\\\"894.398\\\" y=\\\"1541.47\\\">1<\\/text>\\n<\\/g>\\n<g clip-path=\\\"url(#clip4000)\\\">\\n<text style=\\\"fill:#000000; fill-opacity:1; font-family:Arial,Helvetica Neue,Helvetica,sans-serif; font-size:48px; text-anchor:middle;\\\" transform=\\\"rotate(0, 1546.66, 1541.47)\\\" x=\\\"1546.66\\\" y=\\\"1541.47\\\">2<\\/text>\\n<\\/g>\\n<g clip-path=\\\"url(#clip4000)\\\">\\n<text style=\\\"fill:#000000; fill-opacity:1; font-family:Arial,Helvetica Neue,Helvetica,sans-serif; font-size:48px; text-anchor:middle;\\\" transform=\\\"rotate(0, 2198.93, 1541.47)\\\" x=\\\"2198.93\\\" y=\\\"1541.47\\\">3<\\/text>\\n<\\/g>\\n<g clip-path=\\\"url(#clip4000)\\\">\\n<text style=\\\"fill:#000000; fill-opacity:1; font-family:Arial,Helvetica Neue,Helvetica,sans-serif; font-size:48px; text-anchor:end;\\\" transform=\\\"rotate(0, 156.66, 1464.21)\\\" x=\\\"156.66\\\" y=\\\"1464.21\\\">0.00<\\/text>\\n<\\/g>\\n<g clip-path=\\\"url(#clip4000)\\\">\\n<text style=\\\"fill:#000000; fill-opacity:1; font-family:Arial,Helvetica Neue,Helvetica,sans-serif; font-size:48px; text-anchor:end;\\\" transform=\\\"rotate(0, 156.66, 1124.43)\\\" x=\\\"156.66\\\" y=\\\"1124.43\\\">0.25<\\/text>\\n<\\/g>\\n<g clip-path=\\\"url(#clip4000)\\\">\\n<text style=\\\"fill:#000000; fill-opacity:1; font-family:Arial,Helvetica Neue,Helvetica,sans-serif; font-size:48px; text-anchor:end;\\\" transform=\\\"rotate(0, 156.66, 784.641)\\\" x=\\\"156.66\\\" y=\\\"784.641\\\">0.50<\\/text>\\n<\\/g>\\n<g clip-path=\\\"url(#clip4000)\\\">\\n<text style=\\\"fill:#000000; fill-opacity:1; font-family:Arial,Helvetica Neue,Helvetica,sans-serif; font-size:48px; text-anchor:end;\\\" transform=\\\"rotate(0, 156.66, 444.855)\\\" x=\\\"156.66\\\" y=\\\"444.855\\\">0.75<\\/text>\\n<\\/g>\\n<g clip-path=\\\"url(#clip4000)\\\">\\n<text style=\\\"fill:#000000; fill-opacity:1; font-family:Arial,Helvetica Neue,Helvetica,sans-serif; font-size:48px; text-anchor:end;\\\" transform=\\\"rotate(0, 156.66, 105.069)\\\" x=\\\"156.66\\\" y=\\\"105.069\\\">1.00<\\/text>\\n<\\/g>\\n<circle clip-path=\\\"url(#clip4002)\\\" style=\\\"fill:#000000; stroke:none; fill-opacity:1\\\" cx=\\\"242.135\\\" cy=\\\"1446.71\\\" r=\\\"18\\\"\\/>\\n<circle clip-path=\\\"url(#clip4002)\\\" style=\\\"fill:#009af9; stroke:none; fill-opacity:1\\\" cx=\\\"242.135\\\" cy=\\\"1446.71\\\" r=\\\"14\\\"\\/>\\n<circle clip-path=\\\"url(#clip4002)\\\" style=\\\"fill:#000000; stroke:none; fill-opacity:1\\\" cx=\\\"651.964\\\" cy=\\\"647.829\\\" r=\\\"18\\\"\\/>\\n<circle clip-path=\\\"url(#clip4002)\\\" style=\\\"fill:#009af9; stroke:none; fill-opacity:1\\\" cx=\\\"651.964\\\" cy=\\\"647.829\\\" r=\\\"14\\\"\\/>\\n<circle clip-path=\\\"url(#clip4002)\\\" style=\\\"fill:#000000; stroke:none; fill-opacity:1\\\" cx=\\\"1056.37\\\" cy=\\\"157.629\\\" r=\\\"18\\\"\\/>\\n<circle clip-path=\\\"url(#clip4002)\\\" style=\\\"fill:#009af9; stroke:none; fill-opacity:1\\\" cx=\\\"1056.37\\\" cy=\\\"157.629\\\" r=\\\"14\\\"\\/>\\n<circle clip-path=\\\"url(#clip4002)\\\" style=\\\"fill:#000000; stroke:none; fill-opacity:1\\\" cx=\\\"1471.62\\\" cy=\\\"154.091\\\" r=\\\"18\\\"\\/>\\n<circle clip-path=\\\"url(#clip4002)\\\" style=\\\"fill:#009af9; stroke:none; fill-opacity:1\\\" cx=\\\"1471.62\\\" cy=\\\"154.091\\\" r=\\\"14\\\"\\/>\\n<circle clip-path=\\\"url(#clip4002)\\\" style=\\\"fill:#000000; stroke:none; fill-opacity:1\\\" cx=\\\"1881.45\\\" cy=\\\"647.829\\\" r=\\\"18\\\"\\/>\\n<circle clip-path=\\\"url(#clip4002)\\\" style=\\\"fill:#009af9; stroke:none; fill-opacity:1\\\" cx=\\\"1881.45\\\" cy=\\\"647.829\\\" r=\\\"14\\\"\\/>\\n<circle clip-path=\\\"url(#clip4002)\\\" style=\\\"fill:#000000; stroke:none; fill-opacity:1\\\" cx=\\\"2291.28\\\" cy=\\\"1446.71\\\" r=\\\"18\\\"\\/>\\n<circle clip-path=\\\"url(#clip4002)\\\" style=\\\"fill:#009af9; stroke:none; fill-opacity:1\\\" cx=\\\"2291.28\\\" cy=\\\"1446.71\\\" r=\\\"14\\\"\\/>\\n<polyline clip-path=\\\"url(#clip4002)\\\" style=\\\"stroke:#e26f46; stroke-width:4; stroke-opacity:1; fill:none\\\" points=\\\"\\n  242.135,1446.71 252.432,1425.28 262.729,1403.85 273.026,1382.43 283.324,1361.03 293.621,1339.64 303.918,1318.28 314.215,1296.96 324.512,1275.67 334.81,1254.42 \\n  345.107,1233.22 355.404,1212.06 365.701,1190.97 375.999,1169.94 386.296,1148.97 396.593,1128.08 406.89,1107.27 417.187,1086.53 427.485,1065.89 437.782,1045.34 \\n  448.079,1024.88 458.376,1004.53 468.674,984.289 478.971,964.161 489.268,944.151 499.565,924.266 509.862,904.509 520.16,884.887 530.457,865.404 540.754,846.065 \\n  551.051,826.877 561.349,807.843 571.646,788.969 581.943,770.261 592.24,751.723 602.537,733.361 612.835,715.179 623.132,697.184 633.429,679.379 643.726,661.771 \\n  654.024,644.364 664.321,627.163 674.618,610.171 684.915,593.392 695.212,576.829 705.51,560.485 715.807,544.363 726.104,528.467 736.401,512.8 746.698,497.364 \\n  756.996,482.164 767.293,467.202 777.59,452.481 787.887,438.005 798.185,423.778 808.482,409.802 818.779,396.08 829.076,382.616 839.373,369.413 849.671,356.474 \\n  859.968,343.802 870.265,331.401 880.562,319.274 890.86,307.424 901.157,295.854 911.454,284.567 921.751,273.568 932.048,262.858 942.346,252.441 952.643,242.321 \\n  962.94,232.5 973.237,222.982 983.535,213.77 993.832,204.868 1004.13,196.277 1014.43,188.003 1024.72,180.047 1035.02,172.414 1045.32,165.106 1055.62,158.126 \\n  1065.91,151.478 1076.21,145.162 1086.51,139.178 1096.8,133.526 1107.1,128.206 1117.4,123.219 1127.7,118.563 1137.99,114.24 1148.29,110.249 1158.59,106.59 \\n  1168.88,103.264 1179.18,100.27 1189.48,97.608 1199.78,95.2787 1210.07,93.2817 1220.37,91.6172 1230.67,90.2851 1240.97,89.2856 1251.26,88.6185 1261.56,88.284 \\n  1271.86,88.282 1282.15,88.6127 1292.45,89.2759 1302.75,90.2718 1313.05,91.6004 1323.34,93.2617 1333.64,95.2557 1343.94,97.5825 1354.23,100.242 1364.53,103.234 \\n  1374.83,106.56 1385.13,110.218 1395.42,114.209 1405.72,118.533 1416.02,123.189 1426.32,128.179 1436.61,133.502 1446.91,139.158 1457.21,145.147 1467.5,151.469 \\n  1477.8,158.124 1488.1,165.11 1498.4,172.424 1508.69,180.063 1518.99,188.023 1529.29,196.302 1539.58,204.896 1549.88,213.802 1560.18,223.017 1570.48,232.538 \\n  1580.77,242.36 1591.07,252.482 1601.37,262.9 1611.66,273.611 1621.96,284.611 1632.26,295.898 1642.56,307.468 1652.85,319.318 1663.15,331.444 1673.45,343.845 \\n  1683.75,356.515 1694.04,369.453 1704.34,382.654 1714.64,396.117 1724.93,409.837 1735.23,423.811 1745.53,438.036 1755.83,452.51 1766.12,467.228 1776.42,482.187 \\n  1786.72,497.385 1797.01,512.818 1807.31,528.484 1817.61,544.377 1827.91,560.497 1838.2,576.838 1848.5,593.399 1858.8,610.176 1869.1,627.165 1879.39,644.364 \\n  1889.69,661.769 1899.99,679.376 1910.28,697.179 1920.58,715.173 1930.88,733.353 1941.18,751.714 1951.47,770.251 1961.77,788.959 1972.07,807.831 1982.36,826.864 \\n  1992.66,846.052 2002.96,865.39 2013.26,884.872 2023.55,904.495 2033.85,924.251 2044.15,944.137 2054.45,964.146 2064.74,984.275 2075.04,1004.52 2085.34,1024.87 \\n  2095.63,1045.32 2105.93,1065.87 2116.23,1086.52 2126.53,1107.25 2136.82,1128.07 2147.12,1148.96 2157.42,1169.93 2167.71,1190.96 2178.01,1212.05 2188.31,1233.21 \\n  2198.61,1254.41 2208.9,1275.66 2219.2,1296.95 2229.5,1318.28 2239.8,1339.64 2250.09,1361.02 2260.39,1382.43 2270.69,1403.85 2280.98,1425.28 2291.28,1446.71 \\n  \\n  \\\"\\/>\\n<polyline clip-path=\\\"url(#clip4002)\\\" style=\\\"stroke:#3da44d; stroke-width:4; stroke-opacity:1; fill:none\\\" points=\\\"\\n  242.135,1446.71 252.432,1425.55 262.729,1404.36 273.026,1383.16 283.324,1361.93 293.621,1340.7 303.918,1319.48 314.215,1298.26 324.512,1277.05 334.81,1255.87 \\n  345.107,1234.72 355.404,1213.6 365.701,1192.53 375.999,1171.5 386.296,1150.53 396.593,1129.62 406.89,1108.78 417.187,1088.01 427.485,1067.33 437.782,1046.73 \\n  448.079,1026.22 458.376,1005.81 468.674,985.513 478.971,965.322 489.268,945.248 499.565,925.296 509.862,905.472 520.16,885.782 530.457,866.23 540.754,846.823 \\n  551.051,827.566 561.349,808.464 571.646,789.521 581.943,770.745 592.24,752.138 602.537,733.707 612.835,715.456 623.132,697.39 633.429,679.513 643.726,661.831 \\n  654.024,644.348 664.321,627.069 674.618,609.997 684.915,593.137 695.212,576.494 705.51,560.072 715.807,543.874 726.104,527.906 736.401,512.17 746.698,496.671 \\n  756.996,481.413 767.293,466.399 777.59,451.634 787.887,437.12 798.185,422.861 808.482,408.861 818.779,395.122 829.076,381.65 839.373,368.445 849.671,355.513 \\n  859.968,342.855 870.265,330.475 880.562,318.376 890.86,306.561 901.157,295.032 911.454,283.792 921.751,272.844 932.048,262.19 942.346,251.833 952.643,241.775 \\n  962.94,232.018 973.237,222.565 983.535,213.419 993.832,204.58 1004.13,196.051 1014.43,187.834 1024.72,179.932 1035.02,172.345 1045.32,165.075 1055.62,158.125 \\n  1065.91,151.495 1076.21,145.187 1086.51,139.203 1096.8,133.544 1107.1,128.211 1117.4,123.206 1127.7,118.529 1137.99,114.181 1148.29,110.165 1158.59,106.48 \\n  1168.88,103.127 1179.18,100.107 1189.48,97.4212 1199.78,95.0696 1210.07,93.0529 1220.37,91.3715 1230.67,90.0258 1240.97,89.0162 1251.26,88.3428 1261.56,88.0058 \\n  1271.86,88.0053 1282.15,88.3413 1292.45,89.0137 1302.75,90.0223 1313.05,91.3669 1323.34,93.0473 1333.64,95.0631 1343.94,97.4137 1354.23,100.099 1364.53,103.118 \\n  1374.83,106.469 1385.13,110.154 1395.42,114.169 1405.72,118.516 1416.02,123.192 1426.32,128.197 1436.61,133.529 1446.91,139.187 1457.21,145.171 1467.5,151.478 \\n  1477.8,158.107 1488.1,165.057 1498.4,172.326 1508.69,179.913 1518.99,187.815 1529.29,196.031 1539.58,204.56 1549.88,213.398 1560.18,222.545 1570.48,231.997 \\n  1580.77,241.754 1591.07,251.812 1601.37,262.169 1611.66,272.823 1621.96,283.771 1632.26,295.011 1642.56,306.541 1652.85,318.357 1663.15,330.456 1673.45,342.836 \\n  1683.75,355.494 1694.04,368.427 1704.34,381.632 1714.64,395.106 1724.93,408.844 1735.23,422.845 1745.53,437.105 1755.83,451.62 1766.12,466.387 1776.42,481.401 \\n  1786.72,496.661 1797.01,512.16 1807.31,527.897 1817.61,543.867 1827.91,560.065 1838.2,576.489 1848.5,593.133 1858.8,609.994 1869.1,627.067 1879.39,644.348 \\n  1889.69,661.832 1899.99,679.516 1910.28,697.393 1920.58,715.461 1930.88,733.713 1941.18,752.146 1951.47,770.754 1961.77,789.532 1972.07,808.475 1982.36,827.579 \\n  1992.66,846.837 2002.96,866.245 2013.26,885.798 2023.55,905.489 2033.85,925.314 2044.15,945.267 2054.45,965.342 2064.74,985.534 2075.04,1005.84 2085.34,1026.24 \\n  2095.63,1046.75 2105.93,1067.35 2116.23,1088.04 2126.53,1108.8 2136.82,1129.64 2147.12,1150.55 2157.42,1171.52 2167.71,1192.55 2178.01,1213.62 2188.31,1234.74 \\n  2198.61,1255.89 2208.9,1277.07 2219.2,1298.28 2229.5,1319.49 2239.8,1340.72 2250.09,1361.95 2260.39,1383.16 2270.69,1404.37 2280.98,1425.56 2291.28,1446.71 \\n  \\n  \\\"\\/>\\n<polygon clip-path=\\\"url(#clip4000)\\\" points=\\\"\\n1989.93,372.684 2280.76,372.684 2280.76,130.764 1989.93,130.764 \\n  \\\" fill=\\\"#ffffff\\\" fill-rule=\\\"evenodd\\\" fill-opacity=\\\"1\\\"\\/>\\n<polyline clip-path=\\\"url(#clip4000)\\\" style=\\\"stroke:#000000; stroke-width:4; stroke-opacity:1; fill:none\\\" points=\\\"\\n  1989.93,372.684 2280.76,372.684 2280.76,130.764 1989.93,130.764 1989.93,372.684 \\n  \\\"\\/>\\n<circle clip-path=\\\"url(#clip4000)\\\" style=\\\"fill:#000000; stroke:none; fill-opacity:1\\\" cx=\\\"2097.93\\\" cy=\\\"191.244\\\" r=\\\"25\\\"\\/>\\n<circle clip-path=\\\"url(#clip4000)\\\" style=\\\"fill:#009af9; stroke:none; fill-opacity:1\\\" cx=\\\"2097.93\\\" cy=\\\"191.244\\\" r=\\\"21\\\"\\/>\\n<g clip-path=\\\"url(#clip4000)\\\">\\n<text style=\\\"fill:#000000; fill-opacity:1; font-family:Arial,Helvetica Neue,Helvetica,sans-serif; font-size:48px; text-anchor:start;\\\" transform=\\\"rotate(0, 2181.93, 208.744)\\\" x=\\\"2181.93\\\" y=\\\"208.744\\\">y1<\\/text>\\n<\\/g>\\n<polyline clip-path=\\\"url(#clip4000)\\\" style=\\\"stroke:#e26f46; stroke-width:4; stroke-opacity:1; fill:none\\\" points=\\\"\\n  2013.93,251.724 2157.93,251.724 \\n  \\\"\\/>\\n<g clip-path=\\\"url(#clip4000)\\\">\\n<text style=\\\"fill:#000000; fill-opacity:1; font-family:Arial,Helvetica Neue,Helvetica,sans-serif; font-size:48px; text-anchor:start;\\\" transform=\\\"rotate(0, 2181.93, 269.224)\\\" x=\\\"2181.93\\\" y=\\\"269.224\\\">y2<\\/text>\\n<\\/g>\\n<polyline clip-path=\\\"url(#clip4000)\\\" style=\\\"stroke:#3da44d; stroke-width:4; stroke-opacity:1; fill:none\\\" points=\\\"\\n  2013.93,312.204 2157.93,312.204 \\n  \\\"\\/>\\n<g clip-path=\\\"url(#clip4000)\\\">\\n<text style=\\\"fill:#000000; fill-opacity:1; font-family:Arial,Helvetica Neue,Helvetica,sans-serif; font-size:48px; text-anchor:start;\\\" transform=\\\"rotate(0, 2181.93, 329.704)\\\" x=\\\"2181.93\\\" y=\\\"329.704\\\">y3<\\/text>\\n<\\/g>\\n<\\/svg>\\n\"},\"nodeType\":\"DOM\",\"type\":\"node\",\"instanceArgs\":{\"namespace\":\"html\",\"tag\":\"div\"},\"children\":[]}]}}}},\"children\":[{\"props\":{},\"nodeType\":\"ObservableNode\",\"type\":\"node\",\"instanceArgs\":{\"id\":\"ob_34\",\"name\":\"obs-node\"},\"children\":[]}]}]},\n",
       "            window,\n",
       "        );\n",
       "    } else {\n",
       "        document\n",
       "            .querySelector('[data-webio-mountpoint=\"9360001239043903420\"]')\n",
       "            .innerHTML = (\n",
       "                '<strong>WebIO not detected. Please read ' +\n",
       "                '<a href=\"https://juliagizmos.github.io/WebIO.jl/latest/troubleshooting/not-detected/\">the troubleshooting guide</a> ' +\n",
       "                'for more information on how to resolve this issue.' +\n",
       "                '</strong>'\n",
       "            );\n",
       "    }\n",
       "    </script>\n",
       "</div>\n"
      ],
      "text/plain": [
       "Node{WebIO.DOM}(WebIO.DOM(:html, :div), Any[Node{DOM}(DOM(:html, :div), Any[Scope(Node{DOM}(DOM(:html, :div), Any[Node{DOM}(DOM(:html, :div), Any[Node{DOM}(DOM(:html, :label), Any[\"xp\"], Dict{Symbol,Any}(:className=>\"interact \",:style=>Dict{Any,Any}(:padding=>\"5px 10px 0px 10px\")))], Dict{Symbol,Any}(:className=>\"interact-flex-row-left\")), Node{DOM}(DOM(:html, :div), Any[Node{DOM}(DOM(:html, :input), Any[], Dict{Symbol,Any}(:max=>126,:min=>1,:attributes=>Dict{Any,Any}(:type=>\"range\",Symbol(\"data-bind\")=>\"numericValue: index, valueUpdate: 'input', event: {change: function (){this.changes(this.changes()+1)}}\",\"orient\"=>\"horizontal\"),:step=>1,:className=>\"slider slider is-fullwidth\",:style=>Dict{Any,Any}()))], Dict{Symbol,Any}(:className=>\"interact-flex-row-center\")), Node{DOM}(DOM(:html, :div), Any[Node{DOM}(DOM(:html, :p), Any[], Dict{Symbol,Any}(:attributes=>Dict(\"data-bind\"=>\"text: formatted_val\")))], Dict{Symbol,Any}(:className=>\"interact-flex-row-right\"))], Dict{Symbol,Any}(:className=>\"interact-flex-row interact-widget\")), Dict{String,Tuple{Observables.AbstractObservable,Union{Nothing, Bool}}}(\"changes\"=>(Observable{Int64} with 1 listeners. Value:\n",
       "0, nothing),\"index\"=>(Observable{Any} with 2 listeners. Value:\n",
       "63, nothing)), Set(String[]), nothing, Asset[Asset(\"js\", \"knockout\", \"/home/slap/.julia/packages/Knockout/1sDlc/src/../assets/knockout.js\"), Asset(\"js\", \"knockout_punches\", \"/home/slap/.julia/packages/Knockout/1sDlc/src/../assets/knockout_punches.js\"), Asset(\"js\", nothing, \"/home/slap/.julia/packages/InteractBase/9mFwe/src/../assets/all.js\"), Asset(\"css\", nothing, \"/home/slap/.julia/packages/InteractBase/9mFwe/src/../assets/style.css\"), Asset(\"css\", nothing, \"/home/slap/.julia/packages/Interact/SbgIk/src/../assets/bulma_confined.min.css\")], Dict{Any,Any}(\"changes\"=>Any[JSString(\"(function (val){return (val!=this.model[\\\"changes\\\"]()) ? (this.valueFromJulia[\\\"changes\\\"]=true, this.model[\\\"changes\\\"](val)) : undefined})\")],\"index\"=>Any[JSString(\"(function (val){return (val!=this.model[\\\"index\\\"]()) ? (this.valueFromJulia[\\\"index\\\"]=true, this.model[\\\"index\\\"](val)) : undefined})\")]), ConnectionPool(Channel{Any}(sz_max:32,sz_curr:0), Set(AbstractConnection[]), Condition(Any[Task (runnable) @0x00007ff542fbf340])), WebIO.JSString[JSString(\"function () {\\n    var handler = (function (ko, koPunches) {\\n    ko.punches.enableAll();\\n    ko.bindingHandlers.numericValue = {\\n        init: function(element, valueAccessor, allBindings, data, context) {\\n            var stringified = ko.observable(ko.unwrap(valueAccessor()));\\n            stringified.subscribe(function(value) {\\n                var val = parseFloat(value);\\n                if (!isNaN(val)) {\\n                    valueAccessor()(val);\\n                }\\n            });\\n            valueAccessor().subscribe(function(value) {\\n                var str = JSON.stringify(value);\\n                if ((str == \\\"0\\\") && ([\\\"-0\\\", \\\"-0.\\\"].indexOf(stringified()) >= 0))\\n                     return;\\n                 if ([\\\"null\\\", \\\"\\\"].indexOf(str) >= 0)\\n                     return;\\n                stringified(str);\\n            });\\n            ko.applyBindingsToNode(\\n                element,\\n                {\\n                    value: stringified,\\n                    valueUpdate: allBindings.get('valueUpdate'),\\n                },\\n                context,\\n            );\\n        }\\n    };\\n    var json_data = {\\\"formatted_vals\\\":[\\\"0.628319\\\",\\\"0.638319\\\",\\\"0.648319\\\",\\\"0.658319\\\",\\\"0.668319\\\",\\\"0.678319\\\",\\\"0.688319\\\",\\\"0.698319\\\",\\\"0.708319\\\",\\\"0.718319\\\",\\\"0.728319\\\",\\\"0.738319\\\",\\\"0.748319\\\",\\\"0.758319\\\",\\\"0.768319\\\",\\\"0.778319\\\",\\\"0.788319\\\",\\\"0.798319\\\",\\\"0.808319\\\",\\\"0.818319\\\",\\\"0.828319\\\",\\\"0.838319\\\",\\\"0.848319\\\",\\\"0.858319\\\",\\\"0.868319\\\",\\\"0.878319\\\",\\\"0.888319\\\",\\\"0.898319\\\",\\\"0.908319\\\",\\\"0.918319\\\",\\\"0.928319\\\",\\\"0.938319\\\",\\\"0.948319\\\",\\\"0.958319\\\",\\\"0.968319\\\",\\\"0.978319\\\",\\\"0.988319\\\",\\\"0.998319\\\",\\\"1.00832\\\",\\\"1.01832\\\",\\\"1.02832\\\",\\\"1.03832\\\",\\\"1.04832\\\",\\\"1.05832\\\",\\\"1.06832\\\",\\\"1.07832\\\",\\\"1.08832\\\",\\\"1.09832\\\",\\\"1.10832\\\",\\\"1.11832\\\",\\\"1.12832\\\",\\\"1.13832\\\",\\\"1.14832\\\",\\\"1.15832\\\",\\\"1.16832\\\",\\\"1.17832\\\",\\\"1.18832\\\",\\\"1.19832\\\",\\\"1.20832\\\",\\\"1.21832\\\",\\\"1.22832\\\",\\\"1.23832\\\",\\\"1.24832\\\",\\\"1.25832\\\",\\\"1.26832\\\",\\\"1.27832\\\",\\\"1.28832\\\",\\\"1.29832\\\",\\\"1.30832\\\",\\\"1.31832\\\",\\\"1.32832\\\",\\\"1.33832\\\",\\\"1.34832\\\",\\\"1.35832\\\",\\\"1.36832\\\",\\\"1.37832\\\",\\\"1.38832\\\",\\\"1.39832\\\",\\\"1.40832\\\",\\\"1.41832\\\",\\\"1.42832\\\",\\\"1.43832\\\",\\\"1.44832\\\",\\\"1.45832\\\",\\\"1.46832\\\",\\\"1.47832\\\",\\\"1.48832\\\",\\\"1.49832\\\",\\\"1.50832\\\",\\\"1.51832\\\",\\\"1.52832\\\",\\\"1.53832\\\",\\\"1.54832\\\",\\\"1.55832\\\",\\\"1.56832\\\",\\\"1.57832\\\",\\\"1.58832\\\",\\\"1.59832\\\",\\\"1.60832\\\",\\\"1.61832\\\",\\\"1.62832\\\",\\\"1.63832\\\",\\\"1.64832\\\",\\\"1.65832\\\",\\\"1.66832\\\",\\\"1.67832\\\",\\\"1.68832\\\",\\\"1.69832\\\",\\\"1.70832\\\",\\\"1.71832\\\",\\\"1.72832\\\",\\\"1.73832\\\",\\\"1.74832\\\",\\\"1.75832\\\",\\\"1.76832\\\",\\\"1.77832\\\",\\\"1.78832\\\",\\\"1.79832\\\",\\\"1.80832\\\",\\\"1.81832\\\",\\\"1.82832\\\",\\\"1.83832\\\",\\\"1.84832\\\",\\\"1.85832\\\",\\\"1.86832\\\",\\\"1.87832\\\"],\\\"changes\\\":WebIO.getval({\\\"name\\\":\\\"changes\\\",\\\"scope\\\":\\\"12153351645861031345\\\",\\\"id\\\":\\\"ob_30\\\",\\\"type\\\":\\\"observable\\\"}),\\\"index\\\":WebIO.getval({\\\"name\\\":\\\"index\\\",\\\"scope\\\":\\\"12153351645861031345\\\",\\\"id\\\":\\\"ob_29\\\",\\\"type\\\":\\\"observable\\\"})};\\n    var self = this;\\n    function AppViewModel() {\\n        for (var key in json_data) {\\n            var el = json_data[key];\\n            this[key] = Array.isArray(el) ? ko.observableArray(el) : ko.observable(el);\\n        }\\n        \\n        [this[\\\"formatted_val\\\"]=ko.computed(    function(){\\n        return this.formatted_vals()[parseInt(this.index())-(1)];\\n    }\\n,this)]\\n        [this[\\\"changes\\\"].subscribe((function (val){!(this.valueFromJulia[\\\"changes\\\"]) ? (WebIO.setval({\\\"name\\\":\\\"changes\\\",\\\"scope\\\":\\\"12153351645861031345\\\",\\\"id\\\":\\\"ob_30\\\",\\\"type\\\":\\\"observable\\\"},val)) : undefined; return this.valueFromJulia[\\\"changes\\\"]=false}),self),this[\\\"index\\\"].subscribe((function (val){!(this.valueFromJulia[\\\"index\\\"]) ? (WebIO.setval({\\\"name\\\":\\\"index\\\",\\\"scope\\\":\\\"12153351645861031345\\\",\\\"id\\\":\\\"ob_29\\\",\\\"type\\\":\\\"observable\\\"},val)) : undefined; return this.valueFromJulia[\\\"index\\\"]=false}),self)]\\n        \\n    }\\n    self.model = new AppViewModel();\\n    self.valueFromJulia = {};\\n    for (var key in json_data) {\\n        self.valueFromJulia[key] = false;\\n    }\\n    ko.applyBindings(self.model, self.dom);\\n}\\n);\\n    (WebIO.importBlock({\\\"data\\\":[{\\\"name\\\":\\\"knockout\\\",\\\"type\\\":\\\"js\\\",\\\"url\\\":\\\"/assetserver/2b9036ad2bf63f6f8ec7e0ef518784e2d189a641-knockout.js\\\"},{\\\"name\\\":\\\"knockout_punches\\\",\\\"type\\\":\\\"js\\\",\\\"url\\\":\\\"/assetserver/25c70325a7f555432ff81bbe4a02595ace6c3789-knockout_punches.js\\\"}],\\\"type\\\":\\\"async_block\\\"})).then((imports) => handler.apply(this, imports));\\n}\\n\")])], Dict{Symbol,Any}(:className=>\"field interact-widget\")), Observable{Any} with 0 listeners. Value:\n",
       "Node{DOM}(DOM(:html, :div), Any[Plot{Plots.GRBackend() n=3}], Dict{Symbol,Any}(:className=>\"interact-flex-row interact-widget\"))], Dict{Symbol,Any}())"
      ]
     },
     "execution_count": 12,
     "metadata": {
      "application/vnd.webio.node+json": {
       "kernelId": null
      }
     },
     "output_type": "execute_result"
    }
   ],
   "source": [
    "n=5\n",
    "a=0\n",
    "b=pi\n",
    "f(x)=sin.(x)\n",
    "\n",
    "x=range(a,b,length=n+1)\n",
    "y=f(x)\n",
    "lsize=200\n",
    "xx=range(a,b,length=lsize)\n",
    "ySpline=Array{Float64}(undef,lsize)\n",
    "yPoly=Array{Float64}(undef,lsize)\n",
    "yFun=f(xx)\n",
    "\n",
    "point=3\n",
    "xc=collect(deepcopy(x))\n",
    "yc=deepcopy(y)\n",
    "@manipulate for xp=xc[point-1]:0.01:xc[point+1]\n",
    "    # Splajn\n",
    "    xc[point]=xp\n",
    "    yc[point]=f(xp)\n",
    "    \n",
    "    h=xc[2:end]-xc[1:end-1]\n",
    "    d=(yc[2:end]-yc[1:end-1])./h\n",
    "    H=SymTridiagonal(2*(h[1:end-1]+h[2:end]),h[2:end-1])\n",
    "    b1=6*(d[2:end]-d[1:end-1])\n",
    "    s=H\\b1\n",
    "    s=[0;s;0]\n",
    "    b=d-(s[2:end]-s[1:end-1]).*h/6\n",
    "    C=Array{Any}(undef,n)\n",
    "    C=[xx-> \n",
    "    yc[i]-s[i]*h[i]^2/6+b[i]*(xx-xc[i])+s[i]*(xc[i+1]-xx)^3/(6*h[i])+s[i+1]*(xx-xc[i])^3/(6*h[i])\n",
    "        for i=1:n]\n",
    "    for i=1:lsize\n",
    "        for k=1:n\n",
    "            if xx[i]<=xc[k+1]\n",
    "                ySpline[i]=C[k](xx[i])\n",
    "                break\n",
    "            end\n",
    "        end\n",
    "    end\n",
    "    \n",
    "    # Polinom\n",
    "    A=Vandermonde(xc)\n",
    "    p=Poly(A\\yc)\n",
    "    yPoly=polyval(p,xx)\n",
    "    \n",
    "    scatter(xc,yc)\n",
    "    plot!(xx,[ySpline yPoly])\n",
    "    # Pogreske\n",
    "    #=\n",
    "    norm(ySpline[2:end-1]-yFun[2:end-1],Inf), \n",
    "    norm((ySpline[2:end-1]-yFun[2:end-1])./yFun[2:end-1],Inf),\n",
    "    norm(yPoly[2:end-1]-yFun[2:end-1],Inf),\n",
    "    norm((yPoly[2:end-1]-yFun[2:end-1])./yFun[2:end-1],Inf)\n",
    "    =#\n",
    "end"
   ]
  },
  {
   "cell_type": "markdown",
   "metadata": {},
   "source": [
    "## Primjer - Interpolacija funkcije $f(x)=1-|x-1|$, $x\\in[0,2]$"
   ]
  },
  {
   "cell_type": "code",
   "execution_count": 14,
   "metadata": {},
   "outputs": [
    {
     "data": {
      "application/vnd.webio.node+json": {
       "children": [
        {
         "children": [
          {
           "children": [
            {
             "children": [
              {
               "children": [
                {
                 "children": [
                  "xp"
                 ],
                 "instanceArgs": {
                  "namespace": "html",
                  "tag": "label"
                 },
                 "nodeType": "DOM",
                 "props": {
                  "className": "interact ",
                  "style": {
                   "padding": "5px 10px 0px 10px"
                  }
                 },
                 "type": "node"
                }
               ],
               "instanceArgs": {
                "namespace": "html",
                "tag": "div"
               },
               "nodeType": "DOM",
               "props": {
                "className": "interact-flex-row-left"
               },
               "type": "node"
              },
              {
               "children": [
                {
                 "children": [],
                 "instanceArgs": {
                  "namespace": "html",
                  "tag": "input"
                 },
                 "nodeType": "DOM",
                 "props": {
                  "attributes": {
                   "data-bind": "numericValue: index, valueUpdate: 'input', event: {change: function (){this.changes(this.changes()+1)}}",
                   "orient": "horizontal",
                   "type": "range"
                  },
                  "className": "slider slider is-fullwidth",
                  "max": 41,
                  "min": 1,
                  "step": 1,
                  "style": {}
                 },
                 "type": "node"
                }
               ],
               "instanceArgs": {
                "namespace": "html",
                "tag": "div"
               },
               "nodeType": "DOM",
               "props": {
                "className": "interact-flex-row-center"
               },
               "type": "node"
              },
              {
               "children": [
                {
                 "children": [],
                 "instanceArgs": {
                  "namespace": "html",
                  "tag": "p"
                 },
                 "nodeType": "DOM",
                 "props": {
                  "attributes": {
                   "data-bind": "text: formatted_val"
                  }
                 },
                 "type": "node"
                }
               ],
               "instanceArgs": {
                "namespace": "html",
                "tag": "div"
               },
               "nodeType": "DOM",
               "props": {
                "className": "interact-flex-row-right"
               },
               "type": "node"
              }
             ],
             "instanceArgs": {
              "namespace": "html",
              "tag": "div"
             },
             "nodeType": "DOM",
             "props": {
              "className": "interact-flex-row interact-widget"
             },
             "type": "node"
            }
           ],
           "instanceArgs": {
            "handlers": {
             "changes": [
              "(function (val){return (val!=this.model[\"changes\"]()) ? (this.valueFromJulia[\"changes\"]=true, this.model[\"changes\"](val)) : undefined})"
             ],
             "index": [
              "(function (val){return (val!=this.model[\"index\"]()) ? (this.valueFromJulia[\"index\"]=true, this.model[\"index\"](val)) : undefined})"
             ]
            },
            "id": "12278274611539708718",
            "imports": {
             "data": [
              {
               "name": "knockout",
               "type": "js",
               "url": "/assetserver/2b9036ad2bf63f6f8ec7e0ef518784e2d189a641-knockout.js"
              },
              {
               "name": "knockout_punches",
               "type": "js",
               "url": "/assetserver/25c70325a7f555432ff81bbe4a02595ace6c3789-knockout_punches.js"
              },
              {
               "name": null,
               "type": "js",
               "url": "/assetserver/58938f6a69194ca059786346a0ab1343062c07a8-all.js"
              },
              {
               "name": null,
               "type": "css",
               "url": "/assetserver/a767dce781720d28636657e9fdb402d5dd95a43f-style.css"
              },
              {
               "name": null,
               "type": "css",
               "url": "/assetserver/0a45021d6c37e0a7c348c567eabbeee2c0f10e1f-bulma_confined.min.css"
              }
             ],
             "type": "async_block"
            },
            "mount_callbacks": [
             "function () {\n    var handler = (function (ko, koPunches) {\n    ko.punches.enableAll();\n    ko.bindingHandlers.numericValue = {\n        init: function(element, valueAccessor, allBindings, data, context) {\n            var stringified = ko.observable(ko.unwrap(valueAccessor()));\n            stringified.subscribe(function(value) {\n                var val = parseFloat(value);\n                if (!isNaN(val)) {\n                    valueAccessor()(val);\n                }\n            });\n            valueAccessor().subscribe(function(value) {\n                var str = JSON.stringify(value);\n                if ((str == \"0\") && ([\"-0\", \"-0.\"].indexOf(stringified()) >= 0))\n                     return;\n                 if ([\"null\", \"\"].indexOf(str) >= 0)\n                     return;\n                stringified(str);\n            });\n            ko.applyBindingsToNode(\n                element,\n                {\n                    value: stringified,\n                    valueUpdate: allBindings.get('valueUpdate'),\n                },\n                context,\n            );\n        }\n    };\n    var json_data = {\"formatted_vals\":[\"0.2\",\"0.21\",\"0.22\",\"0.23\",\"0.24\",\"0.25\",\"0.26\",\"0.27\",\"0.28\",\"0.29\",\"0.3\",\"0.31\",\"0.32\",\"0.33\",\"0.34\",\"0.35\",\"0.36\",\"0.37\",\"0.38\",\"0.39\",\"0.4\",\"0.41\",\"0.42\",\"0.43\",\"0.44\",\"0.45\",\"0.46\",\"0.47\",\"0.48\",\"0.49\",\"0.5\",\"0.51\",\"0.52\",\"0.53\",\"0.54\",\"0.55\",\"0.56\",\"0.57\",\"0.58\",\"0.59\",\"0.6\"],\"changes\":WebIO.getval({\"name\":\"changes\",\"scope\":\"12278274611539708718\",\"id\":\"ob_48\",\"type\":\"observable\"}),\"index\":WebIO.getval({\"name\":\"index\",\"scope\":\"12278274611539708718\",\"id\":\"ob_47\",\"type\":\"observable\"})};\n    var self = this;\n    function AppViewModel() {\n        for (var key in json_data) {\n            var el = json_data[key];\n            this[key] = Array.isArray(el) ? ko.observableArray(el) : ko.observable(el);\n        }\n        \n        [this[\"formatted_val\"]=ko.computed(    function(){\n        return this.formatted_vals()[parseInt(this.index())-(1)];\n    }\n,this)]\n        [this[\"changes\"].subscribe((function (val){!(this.valueFromJulia[\"changes\"]) ? (WebIO.setval({\"name\":\"changes\",\"scope\":\"12278274611539708718\",\"id\":\"ob_48\",\"type\":\"observable\"},val)) : undefined; return this.valueFromJulia[\"changes\"]=false}),self),this[\"index\"].subscribe((function (val){!(this.valueFromJulia[\"index\"]) ? (WebIO.setval({\"name\":\"index\",\"scope\":\"12278274611539708718\",\"id\":\"ob_47\",\"type\":\"observable\"},val)) : undefined; return this.valueFromJulia[\"index\"]=false}),self)]\n        \n    }\n    self.model = new AppViewModel();\n    self.valueFromJulia = {};\n    for (var key in json_data) {\n        self.valueFromJulia[key] = false;\n    }\n    ko.applyBindings(self.model, self.dom);\n}\n);\n    (WebIO.importBlock({\"data\":[{\"name\":\"knockout\",\"type\":\"js\",\"url\":\"/assetserver/2b9036ad2bf63f6f8ec7e0ef518784e2d189a641-knockout.js\"},{\"name\":\"knockout_punches\",\"type\":\"js\",\"url\":\"/assetserver/25c70325a7f555432ff81bbe4a02595ace6c3789-knockout_punches.js\"}],\"type\":\"async_block\"})).then((imports) => handler.apply(this, imports));\n}\n"
            ],
            "observables": {
             "changes": {
              "id": "ob_48",
              "sync": false,
              "value": 0
             },
             "index": {
              "id": "ob_47",
              "sync": true,
              "value": 21
             }
            },
            "systemjs_options": null
           },
           "nodeType": "Scope",
           "props": {},
           "type": "node"
          }
         ],
         "instanceArgs": {
          "namespace": "html",
          "tag": "div"
         },
         "nodeType": "DOM",
         "props": {
          "className": "field interact-widget"
         },
         "type": "node"
        },
        {
         "children": [
          {
           "children": [],
           "instanceArgs": {
            "id": "ob_54",
            "name": "obs-node"
           },
           "nodeType": "ObservableNode",
           "props": {},
           "type": "node"
          }
         ],
         "instanceArgs": {
          "handlers": {},
          "id": "13181962173020982735",
          "imports": {
           "data": [],
           "type": "async_block"
          },
          "mount_callbacks": [],
          "observables": {
           "obs-node": {
            "id": "ob_54",
            "sync": false,
            "value": {
             "children": [
              {
               "children": [],
               "instanceArgs": {
                "namespace": "html",
                "tag": "div"
               },
               "nodeType": "DOM",
               "props": {
                "setInnerHtml": "<?xml version=\"1.0\" encoding=\"utf-8\"?>\n<svg xmlns=\"http://www.w3.org/2000/svg\" xmlns:xlink=\"http://www.w3.org/1999/xlink\" width=\"600\" height=\"400\" viewBox=\"0 0 2400 1600\">\n<defs>\n  <clipPath id=\"clip6000\">\n    <rect x=\"0\" y=\"0\" width=\"2400\" height=\"1600\"/>\n  </clipPath>\n</defs>\n<polygon clip-path=\"url(#clip6000)\" points=\"\n0,1600 2400,1600 2400,0 0,0 \n  \" fill=\"#ffffff\" fill-rule=\"evenodd\" fill-opacity=\"1\"/>\n<defs>\n  <clipPath id=\"clip6001\">\n    <rect x=\"480\" y=\"0\" width=\"1681\" height=\"1600\"/>\n  </clipPath>\n</defs>\n<polygon clip-path=\"url(#clip6000)\" points=\"\n180.66,1487.47 2352.76,1487.47 2352.76,47.2441 180.66,47.2441 \n  \" fill=\"#ffffff\" fill-rule=\"evenodd\" fill-opacity=\"1\"/>\n<defs>\n  <clipPath id=\"clip6002\">\n    <rect x=\"180\" y=\"47\" width=\"2173\" height=\"1441\"/>\n  </clipPath>\n</defs>\n<polyline clip-path=\"url(#clip6002)\" style=\"stroke:#000000; stroke-width:2; stroke-opacity:0.1; fill:none\" points=\"\n  242.135,1487.47 242.135,47.2441 \n  \"/>\n<polyline clip-path=\"url(#clip6002)\" style=\"stroke:#000000; stroke-width:2; stroke-opacity:0.1; fill:none\" points=\"\n  754.421,1487.47 754.421,47.2441 \n  \"/>\n<polyline clip-path=\"url(#clip6002)\" style=\"stroke:#000000; stroke-width:2; stroke-opacity:0.1; fill:none\" points=\"\n  1266.71,1487.47 1266.71,47.2441 \n  \"/>\n<polyline clip-path=\"url(#clip6002)\" style=\"stroke:#000000; stroke-width:2; stroke-opacity:0.1; fill:none\" points=\"\n  1778.99,1487.47 1778.99,47.2441 \n  \"/>\n<polyline clip-path=\"url(#clip6002)\" style=\"stroke:#000000; stroke-width:2; stroke-opacity:0.1; fill:none\" points=\"\n  2291.28,1487.47 2291.28,47.2441 \n  \"/>\n<polyline clip-path=\"url(#clip6002)\" style=\"stroke:#000000; stroke-width:2; stroke-opacity:0.1; fill:none\" points=\"\n  180.66,1446.71 2352.76,1446.71 \n  \"/>\n<polyline clip-path=\"url(#clip6002)\" style=\"stroke:#000000; stroke-width:2; stroke-opacity:0.1; fill:none\" points=\"\n  180.66,1107.04 2352.76,1107.04 \n  \"/>\n<polyline clip-path=\"url(#clip6002)\" style=\"stroke:#000000; stroke-width:2; stroke-opacity:0.1; fill:none\" points=\"\n  180.66,767.359 2352.76,767.359 \n  \"/>\n<polyline clip-path=\"url(#clip6002)\" style=\"stroke:#000000; stroke-width:2; stroke-opacity:0.1; fill:none\" points=\"\n  180.66,427.682 2352.76,427.682 \n  \"/>\n<polyline clip-path=\"url(#clip6002)\" style=\"stroke:#000000; stroke-width:2; stroke-opacity:0.1; fill:none\" points=\"\n  180.66,88.0053 2352.76,88.0053 \n  \"/>\n<polyline clip-path=\"url(#clip6000)\" style=\"stroke:#000000; stroke-width:4; stroke-opacity:1; fill:none\" points=\"\n  180.66,1487.47 2352.76,1487.47 \n  \"/>\n<polyline clip-path=\"url(#clip6000)\" style=\"stroke:#000000; stroke-width:4; stroke-opacity:1; fill:none\" points=\"\n  180.66,1487.47 180.66,47.2441 \n  \"/>\n<polyline clip-path=\"url(#clip6000)\" style=\"stroke:#000000; stroke-width:4; stroke-opacity:1; fill:none\" points=\"\n  242.135,1487.47 242.135,1465.87 \n  \"/>\n<polyline clip-path=\"url(#clip6000)\" style=\"stroke:#000000; stroke-width:4; stroke-opacity:1; fill:none\" points=\"\n  754.421,1487.47 754.421,1465.87 \n  \"/>\n<polyline clip-path=\"url(#clip6000)\" style=\"stroke:#000000; stroke-width:4; stroke-opacity:1; fill:none\" points=\"\n  1266.71,1487.47 1266.71,1465.87 \n  \"/>\n<polyline clip-path=\"url(#clip6000)\" style=\"stroke:#000000; stroke-width:4; stroke-opacity:1; fill:none\" points=\"\n  1778.99,1487.47 1778.99,1465.87 \n  \"/>\n<polyline clip-path=\"url(#clip6000)\" style=\"stroke:#000000; stroke-width:4; stroke-opacity:1; fill:none\" points=\"\n  2291.28,1487.47 2291.28,1465.87 \n  \"/>\n<polyline clip-path=\"url(#clip6000)\" style=\"stroke:#000000; stroke-width:4; stroke-opacity:1; fill:none\" points=\"\n  180.66,1446.71 213.242,1446.71 \n  \"/>\n<polyline clip-path=\"url(#clip6000)\" style=\"stroke:#000000; stroke-width:4; stroke-opacity:1; fill:none\" points=\"\n  180.66,1107.04 213.242,1107.04 \n  \"/>\n<polyline clip-path=\"url(#clip6000)\" style=\"stroke:#000000; stroke-width:4; stroke-opacity:1; fill:none\" points=\"\n  180.66,767.359 213.242,767.359 \n  \"/>\n<polyline clip-path=\"url(#clip6000)\" style=\"stroke:#000000; stroke-width:4; stroke-opacity:1; fill:none\" points=\"\n  180.66,427.682 213.242,427.682 \n  \"/>\n<polyline clip-path=\"url(#clip6000)\" style=\"stroke:#000000; stroke-width:4; stroke-opacity:1; fill:none\" points=\"\n  180.66,88.0053 213.242,88.0053 \n  \"/>\n<g clip-path=\"url(#clip6000)\">\n<text style=\"fill:#000000; fill-opacity:1; font-family:Arial,Helvetica Neue,Helvetica,sans-serif; font-size:48px; text-anchor:middle;\" transform=\"rotate(0, 242.135, 1541.47)\" x=\"242.135\" y=\"1541.47\">0.0</text>\n</g>\n<g clip-path=\"url(#clip6000)\">\n<text style=\"fill:#000000; fill-opacity:1; font-family:Arial,Helvetica Neue,Helvetica,sans-serif; font-size:48px; text-anchor:middle;\" transform=\"rotate(0, 754.421, 1541.47)\" x=\"754.421\" y=\"1541.47\">0.5</text>\n</g>\n<g clip-path=\"url(#clip6000)\">\n<text style=\"fill:#000000; fill-opacity:1; font-family:Arial,Helvetica Neue,Helvetica,sans-serif; font-size:48px; text-anchor:middle;\" transform=\"rotate(0, 1266.71, 1541.47)\" x=\"1266.71\" y=\"1541.47\">1.0</text>\n</g>\n<g clip-path=\"url(#clip6000)\">\n<text style=\"fill:#000000; fill-opacity:1; font-family:Arial,Helvetica Neue,Helvetica,sans-serif; font-size:48px; text-anchor:middle;\" transform=\"rotate(0, 1778.99, 1541.47)\" x=\"1778.99\" y=\"1541.47\">1.5</text>\n</g>\n<g clip-path=\"url(#clip6000)\">\n<text style=\"fill:#000000; fill-opacity:1; font-family:Arial,Helvetica Neue,Helvetica,sans-serif; font-size:48px; text-anchor:middle;\" transform=\"rotate(0, 2291.28, 1541.47)\" x=\"2291.28\" y=\"1541.47\">2.0</text>\n</g>\n<g clip-path=\"url(#clip6000)\">\n<text style=\"fill:#000000; fill-opacity:1; font-family:Arial,Helvetica Neue,Helvetica,sans-serif; font-size:48px; text-anchor:end;\" transform=\"rotate(0, 156.66, 1464.21)\" x=\"156.66\" y=\"1464.21\">0.00</text>\n</g>\n<g clip-path=\"url(#clip6000)\">\n<text style=\"fill:#000000; fill-opacity:1; font-family:Arial,Helvetica Neue,Helvetica,sans-serif; font-size:48px; text-anchor:end;\" transform=\"rotate(0, 156.66, 1124.54)\" x=\"156.66\" y=\"1124.54\">0.25</text>\n</g>\n<g clip-path=\"url(#clip6000)\">\n<text style=\"fill:#000000; fill-opacity:1; font-family:Arial,Helvetica Neue,Helvetica,sans-serif; font-size:48px; text-anchor:end;\" transform=\"rotate(0, 156.66, 784.859)\" x=\"156.66\" y=\"784.859\">0.50</text>\n</g>\n<g clip-path=\"url(#clip6000)\">\n<text style=\"fill:#000000; fill-opacity:1; font-family:Arial,Helvetica Neue,Helvetica,sans-serif; font-size:48px; text-anchor:end;\" transform=\"rotate(0, 156.66, 445.182)\" x=\"156.66\" y=\"445.182\">0.75</text>\n</g>\n<g clip-path=\"url(#clip6000)\">\n<text style=\"fill:#000000; fill-opacity:1; font-family:Arial,Helvetica Neue,Helvetica,sans-serif; font-size:48px; text-anchor:end;\" transform=\"rotate(0, 156.66, 105.505)\" x=\"156.66\" y=\"105.505\">1.00</text>\n</g>\n<circle clip-path=\"url(#clip6002)\" style=\"fill:#000000; stroke:none; fill-opacity:1\" cx=\"242.135\" cy=\"1446.71\" r=\"18\"/>\n<circle clip-path=\"url(#clip6002)\" style=\"fill:#009af9; stroke:none; fill-opacity:1\" cx=\"242.135\" cy=\"1446.71\" r=\"14\"/>\n<circle clip-path=\"url(#clip6002)\" style=\"fill:#000000; stroke:none; fill-opacity:1\" cx=\"447.049\" cy=\"1174.97\" r=\"18\"/>\n<circle clip-path=\"url(#clip6002)\" style=\"fill:#009af9; stroke:none; fill-opacity:1\" cx=\"447.049\" cy=\"1174.97\" r=\"14\"/>\n<circle clip-path=\"url(#clip6002)\" style=\"fill:#000000; stroke:none; fill-opacity:1\" cx=\"651.964\" cy=\"917.608\" r=\"18\"/>\n<circle clip-path=\"url(#clip6002)\" style=\"fill:#009af9; stroke:none; fill-opacity:1\" cx=\"651.964\" cy=\"917.608\" r=\"14\"/>\n<circle clip-path=\"url(#clip6002)\" style=\"fill:#000000; stroke:none; fill-opacity:1\" cx=\"856.879\" cy=\"631.489\" r=\"18\"/>\n<circle clip-path=\"url(#clip6002)\" style=\"fill:#009af9; stroke:none; fill-opacity:1\" cx=\"856.879\" cy=\"631.489\" r=\"14\"/>\n<circle clip-path=\"url(#clip6002)\" style=\"fill:#000000; stroke:none; fill-opacity:1\" cx=\"1061.79\" cy=\"359.747\" r=\"18\"/>\n<circle clip-path=\"url(#clip6002)\" style=\"fill:#009af9; stroke:none; fill-opacity:1\" cx=\"1061.79\" cy=\"359.747\" r=\"14\"/>\n<circle clip-path=\"url(#clip6002)\" style=\"fill:#000000; stroke:none; fill-opacity:1\" cx=\"1266.71\" cy=\"88.0053\" r=\"18\"/>\n<circle clip-path=\"url(#clip6002)\" style=\"fill:#009af9; stroke:none; fill-opacity:1\" cx=\"1266.71\" cy=\"88.0053\" r=\"14\"/>\n<circle clip-path=\"url(#clip6002)\" style=\"fill:#000000; stroke:none; fill-opacity:1\" cx=\"1471.62\" cy=\"359.747\" r=\"18\"/>\n<circle clip-path=\"url(#clip6002)\" style=\"fill:#009af9; stroke:none; fill-opacity:1\" cx=\"1471.62\" cy=\"359.747\" r=\"14\"/>\n<circle clip-path=\"url(#clip6002)\" style=\"fill:#000000; stroke:none; fill-opacity:1\" cx=\"1676.54\" cy=\"631.489\" r=\"18\"/>\n<circle clip-path=\"url(#clip6002)\" style=\"fill:#009af9; stroke:none; fill-opacity:1\" cx=\"1676.54\" cy=\"631.489\" r=\"14\"/>\n<circle clip-path=\"url(#clip6002)\" style=\"fill:#000000; stroke:none; fill-opacity:1\" cx=\"1881.45\" cy=\"903.23\" r=\"18\"/>\n<circle clip-path=\"url(#clip6002)\" style=\"fill:#009af9; stroke:none; fill-opacity:1\" cx=\"1881.45\" cy=\"903.23\" r=\"14\"/>\n<circle clip-path=\"url(#clip6002)\" style=\"fill:#000000; stroke:none; fill-opacity:1\" cx=\"2086.37\" cy=\"1174.97\" r=\"18\"/>\n<circle clip-path=\"url(#clip6002)\" style=\"fill:#009af9; stroke:none; fill-opacity:1\" cx=\"2086.37\" cy=\"1174.97\" r=\"14\"/>\n<circle clip-path=\"url(#clip6002)\" style=\"fill:#000000; stroke:none; fill-opacity:1\" cx=\"2291.28\" cy=\"1446.71\" r=\"18\"/>\n<circle clip-path=\"url(#clip6002)\" style=\"fill:#009af9; stroke:none; fill-opacity:1\" cx=\"2291.28\" cy=\"1446.71\" r=\"14\"/>\n<polyline clip-path=\"url(#clip6002)\" style=\"stroke:#e26f46; stroke-width:4; stroke-opacity:1; fill:none\" points=\"\n  242.135,1446.71 252.432,1432.71 262.729,1418.71 273.026,1404.72 283.324,1390.75 293.621,1376.8 303.918,1362.88 314.215,1348.99 324.512,1335.13 334.81,1321.32 \n  345.107,1307.55 355.404,1293.84 365.701,1280.18 375.999,1266.59 386.296,1253.07 396.593,1239.62 406.89,1226.25 417.187,1212.97 427.485,1199.77 437.782,1186.68 \n  448.079,1173.68 458.376,1160.78 468.674,1147.97 478.971,1135.23 489.268,1122.55 499.565,1109.91 509.862,1097.3 520.16,1084.7 530.457,1072.1 540.754,1059.47 \n  551.051,1046.81 561.349,1034.1 571.646,1021.32 581.943,1008.45 592.24,995.494 602.537,982.421 612.835,969.22 623.132,955.874 633.429,942.369 643.726,928.688 \n  654.024,914.817 664.321,900.752 674.618,886.511 684.915,872.12 695.212,857.603 705.51,842.982 715.807,828.283 726.104,813.528 736.401,798.741 746.698,783.947 \n  756.996,769.169 767.293,754.432 777.59,739.758 787.887,725.172 798.185,710.697 808.482,696.358 818.779,682.177 829.076,668.18 839.373,654.39 849.671,640.83 \n  859.968,627.525 870.265,614.472 880.562,601.63 890.86,588.951 901.157,576.388 911.454,563.894 921.751,551.422 932.048,538.925 942.346,526.357 952.643,513.67 \n  962.94,500.817 973.237,487.751 983.535,474.425 993.832,460.793 1004.13,446.807 1014.43,432.42 1024.72,417.585 1035.02,402.256 1045.32,386.385 1055.62,369.925 \n  1065.91,352.832 1076.21,335.143 1086.51,317.005 1096.8,298.571 1107.1,279.993 1117.4,261.426 1127.7,243.022 1137.99,224.934 1148.29,207.316 1158.59,190.321 \n  1168.88,174.102 1179.18,158.812 1189.48,144.604 1199.78,131.632 1210.07,120.048 1220.37,110.006 1230.67,101.66 1240.97,95.161 1251.26,90.6637 1261.56,88.3209 \n  1271.86,88.2795 1282.15,90.54 1292.45,94.9569 1302.75,101.378 1313.05,109.652 1323.34,119.627 1333.64,131.15 1343.94,144.07 1354.23,158.235 1364.53,173.494 \n  1374.83,189.693 1385.13,206.681 1395.42,224.307 1405.72,242.417 1416.02,260.862 1426.32,279.487 1436.61,298.143 1446.91,316.676 1457.21,334.935 1467.5,352.767 \n  1477.8,370.029 1488.1,386.678 1498.4,402.753 1508.69,418.296 1518.99,433.346 1529.29,447.944 1539.58,462.131 1549.88,475.949 1560.18,489.436 1570.48,502.635 \n  1580.77,515.586 1591.07,528.33 1601.37,540.906 1611.66,553.357 1621.96,565.723 1632.26,578.043 1642.56,590.36 1652.85,602.714 1663.15,615.145 1673.45,627.695 \n  1683.75,640.4 1694.04,653.269 1704.34,666.29 1714.64,679.453 1724.93,692.747 1735.23,706.16 1745.53,719.683 1755.83,733.304 1766.12,747.012 1776.42,760.797 \n  1786.72,774.647 1797.01,788.551 1807.31,802.499 1817.61,816.48 1827.91,830.483 1838.2,844.497 1848.5,858.511 1858.8,872.515 1869.1,886.496 1879.39,900.445 \n  1889.69,914.352 1899.99,928.215 1910.28,942.038 1920.58,955.824 1930.88,969.574 1941.18,983.293 1951.47,996.983 1961.77,1010.65 1972.07,1024.29 1982.36,1037.91 \n  1992.66,1051.51 2002.96,1065.1 2013.26,1078.67 2023.55,1092.24 2033.85,1105.8 2044.15,1119.36 2054.45,1132.92 2064.74,1146.48 2075.04,1160.04 2085.34,1173.61 \n  2095.63,1187.2 2105.93,1200.79 2116.23,1214.4 2126.53,1228.01 2136.82,1241.64 2147.12,1255.27 2157.42,1268.91 2167.71,1282.56 2178.01,1296.22 2188.31,1309.88 \n  2198.61,1323.54 2208.9,1337.22 2219.2,1350.89 2229.5,1364.57 2239.8,1378.26 2250.09,1391.95 2260.39,1405.64 2270.69,1419.33 2280.98,1433.02 2291.28,1446.71 \n  \n  \"/>\n<polyline clip-path=\"url(#clip6002)\" style=\"stroke:#3da44d; stroke-width:4; stroke-opacity:1; fill:none\" points=\"\n  242.135,1446.71 252.432,1094.59 262.729,832.676 273.026,646.363 283.324,522.74 293.621,450.46 303.918,419.589 314.215,421.481 324.512,448.654 334.81,494.677 \n  345.107,554.064 355.404,622.18 365.701,695.146 375.999,769.762 386.296,843.424 396.593,914.058 406.89,980.053 417.187,1040.2 427.485,1093.65 437.782,1139.85 \n  448.079,1178.49 458.376,1209.5 468.674,1232.98 478.971,1249.17 489.268,1258.44 499.565,1261.24 509.862,1258.09 520.16,1249.56 530.457,1236.26 540.754,1218.8 \n  551.051,1197.8 561.349,1173.86 571.646,1147.58 581.943,1119.51 592.24,1090.19 602.537,1060.09 612.835,1029.66 623.132,999.319 633.429,969.406 643.726,940.234 \n  654.024,912.065 664.321,885.113 674.618,859.549 684.915,835.499 695.212,813.051 705.51,792.25 715.807,773.111 726.104,755.612 736.401,739.704 746.698,725.311 \n  756.996,712.336 767.293,700.661 777.59,690.154 787.887,680.668 798.185,672.049 808.482,664.135 818.779,656.762 829.076,649.765 839.373,642.981 849.671,636.25 \n  859.968,629.421 870.265,622.35 880.562,614.905 890.86,606.964 901.157,598.419 911.454,589.177 921.751,579.159 932.048,568.303 942.346,556.563 952.643,543.908 \n  962.94,530.325 973.237,515.819 983.535,500.407 993.832,484.126 1004.13,467.024 1014.43,449.165 1024.72,430.627 1035.02,411.499 1045.32,391.88 1055.62,371.88 \n  1065.91,351.619 1076.21,331.22 1086.51,310.815 1096.8,290.54 1107.1,270.531 1117.4,250.928 1127.7,231.871 1137.99,213.495 1148.29,195.936 1158.59,179.322 \n  1168.88,163.779 1179.18,149.424 1189.48,136.364 1199.78,124.7 1210.07,114.522 1220.37,105.909 1230.67,98.9269 1240.97,93.6306 1251.26,90.0617 1261.56,88.2485 \n  1271.86,88.2055 1282.15,89.9337 1292.45,93.4201 1302.75,98.6383 1313.05,105.548 1323.34,114.097 1333.64,124.219 1343.94,135.838 1354.23,148.864 1364.53,163.198 \n  1374.83,178.733 1385.13,195.352 1395.42,212.932 1405.72,231.342 1416.02,250.448 1426.32,270.113 1436.61,290.198 1446.91,310.561 1457.21,331.065 1467.5,351.573 \n  1477.8,371.951 1488.1,392.073 1498.4,411.819 1508.69,431.075 1518.99,449.739 1529.29,467.72 1539.58,484.936 1549.88,501.322 1560.18,516.824 1570.48,531.403 \n  1580.77,545.037 1591.07,557.719 1601.37,569.459 1611.66,580.283 1621.96,590.234 1632.26,599.371 1642.56,607.77 1652.85,615.522 1663.15,622.731 1673.45,629.516 \n  1683.75,636.01 1694.04,642.353 1704.34,648.698 1714.64,655.202 1724.93,662.029 1735.23,669.345 1745.53,677.316 1755.83,686.105 1766.12,695.871 1776.42,706.763 \n  1786.72,718.918 1797.01,732.46 1807.31,747.492 1817.61,764.098 1827.91,782.335 1838.2,802.232 1848.5,823.787 1858.8,846.964 1869.1,871.686 1879.39,897.841 \n  1889.69,925.27 1899.99,953.772 1910.28,983.1 1920.58,1012.96 1930.88,1043.01 1941.18,1072.87 1951.47,1102.1 1961.77,1130.23 1972.07,1156.75 1982.36,1181.11 \n  1992.66,1202.73 2002.96,1221.02 2013.26,1235.38 2023.55,1245.19 2033.85,1249.86 2044.15,1248.82 2054.45,1241.55 2064.74,1227.58 2075.04,1206.56 2085.34,1178.21 \n  2095.63,1142.43 2105.93,1099.27 2116.23,1048.98 2126.53,992.097 2136.82,929.418 2147.12,862.091 2157.42,791.661 2167.71,720.123 2178.01,649.987 2188.31,584.35 \n  2198.61,526.969 2208.9,482.344 2219.2,455.805 2229.5,453.609 2239.8,483.045 2250.09,552.544 2260.39,671.797 2270.69,851.887 2280.98,1105.43 2291.28,1446.71 \n  \n  \"/>\n<polygon clip-path=\"url(#clip6000)\" points=\"\n1989.93,372.684 2280.76,372.684 2280.76,130.764 1989.93,130.764 \n  \" fill=\"#ffffff\" fill-rule=\"evenodd\" fill-opacity=\"1\"/>\n<polyline clip-path=\"url(#clip6000)\" style=\"stroke:#000000; stroke-width:4; stroke-opacity:1; fill:none\" points=\"\n  1989.93,372.684 2280.76,372.684 2280.76,130.764 1989.93,130.764 1989.93,372.684 \n  \"/>\n<circle clip-path=\"url(#clip6000)\" style=\"fill:#000000; stroke:none; fill-opacity:1\" cx=\"2097.93\" cy=\"191.244\" r=\"25\"/>\n<circle clip-path=\"url(#clip6000)\" style=\"fill:#009af9; stroke:none; fill-opacity:1\" cx=\"2097.93\" cy=\"191.244\" r=\"21\"/>\n<g clip-path=\"url(#clip6000)\">\n<text style=\"fill:#000000; fill-opacity:1; font-family:Arial,Helvetica Neue,Helvetica,sans-serif; font-size:48px; text-anchor:start;\" transform=\"rotate(0, 2181.93, 208.744)\" x=\"2181.93\" y=\"208.744\">y1</text>\n</g>\n<polyline clip-path=\"url(#clip6000)\" style=\"stroke:#e26f46; stroke-width:4; stroke-opacity:1; fill:none\" points=\"\n  2013.93,251.724 2157.93,251.724 \n  \"/>\n<g clip-path=\"url(#clip6000)\">\n<text style=\"fill:#000000; fill-opacity:1; font-family:Arial,Helvetica Neue,Helvetica,sans-serif; font-size:48px; text-anchor:start;\" transform=\"rotate(0, 2181.93, 269.224)\" x=\"2181.93\" y=\"269.224\">y2</text>\n</g>\n<polyline clip-path=\"url(#clip6000)\" style=\"stroke:#3da44d; stroke-width:4; stroke-opacity:1; fill:none\" points=\"\n  2013.93,312.204 2157.93,312.204 \n  \"/>\n<g clip-path=\"url(#clip6000)\">\n<text style=\"fill:#000000; fill-opacity:1; font-family:Arial,Helvetica Neue,Helvetica,sans-serif; font-size:48px; text-anchor:start;\" transform=\"rotate(0, 2181.93, 329.704)\" x=\"2181.93\" y=\"329.704\">y3</text>\n</g>\n</svg>\n"
               },
               "type": "node"
              }
             ],
             "instanceArgs": {
              "namespace": "html",
              "tag": "div"
             },
             "nodeType": "DOM",
             "props": {
              "className": "interact-flex-row interact-widget"
             },
             "type": "node"
            }
           }
          },
          "systemjs_options": null
         },
         "nodeType": "Scope",
         "props": {},
         "type": "node"
        }
       ],
       "instanceArgs": {
        "namespace": "html",
        "tag": "div"
       },
       "nodeType": "DOM",
       "props": {},
       "type": "node"
      },
      "text/html": [
       "<div\n",
       "    class=\"webio-mountpoint\"\n",
       "    data-webio-mountpoint=\"7980068015088366939\"\n",
       ">\n",
       "    <script>\n",
       "    if (window.require && require.defined && require.defined(\"nbextensions/webio-jupyter-notebook\")) {\n",
       "        console.log(\"Jupyter WebIO extension detected, not mounting.\");\n",
       "    } else if (window.WebIO) {\n",
       "        WebIO.mount(\n",
       "            document.querySelector('[data-webio-mountpoint=\"7980068015088366939\"]'),\n",
       "            {\"props\":{},\"nodeType\":\"DOM\",\"type\":\"node\",\"instanceArgs\":{\"namespace\":\"html\",\"tag\":\"div\"},\"children\":[{\"props\":{\"className\":\"field interact-widget\"},\"nodeType\":\"DOM\",\"type\":\"node\",\"instanceArgs\":{\"namespace\":\"html\",\"tag\":\"div\"},\"children\":[{\"props\":{},\"nodeType\":\"Scope\",\"type\":\"node\",\"instanceArgs\":{\"imports\":{\"data\":[{\"name\":\"knockout\",\"type\":\"js\",\"url\":\"\\/assetserver\\/2b9036ad2bf63f6f8ec7e0ef518784e2d189a641-knockout.js\"},{\"name\":\"knockout_punches\",\"type\":\"js\",\"url\":\"\\/assetserver\\/25c70325a7f555432ff81bbe4a02595ace6c3789-knockout_punches.js\"},{\"name\":null,\"type\":\"js\",\"url\":\"\\/assetserver\\/58938f6a69194ca059786346a0ab1343062c07a8-all.js\"},{\"name\":null,\"type\":\"css\",\"url\":\"\\/assetserver\\/a767dce781720d28636657e9fdb402d5dd95a43f-style.css\"},{\"name\":null,\"type\":\"css\",\"url\":\"\\/assetserver\\/0a45021d6c37e0a7c348c567eabbeee2c0f10e1f-bulma_confined.min.css\"}],\"type\":\"async_block\"},\"id\":\"12278274611539708718\",\"handlers\":{\"changes\":[\"(function (val){return (val!=this.model[\\\"changes\\\"]()) ? (this.valueFromJulia[\\\"changes\\\"]=true, this.model[\\\"changes\\\"](val)) : undefined})\"],\"index\":[\"(function (val){return (val!=this.model[\\\"index\\\"]()) ? (this.valueFromJulia[\\\"index\\\"]=true, this.model[\\\"index\\\"](val)) : undefined})\"]},\"systemjs_options\":null,\"mount_callbacks\":[\"function () {\\n    var handler = (function (ko, koPunches) {\\n    ko.punches.enableAll();\\n    ko.bindingHandlers.numericValue = {\\n        init: function(element, valueAccessor, allBindings, data, context) {\\n            var stringified = ko.observable(ko.unwrap(valueAccessor()));\\n            stringified.subscribe(function(value) {\\n                var val = parseFloat(value);\\n                if (!isNaN(val)) {\\n                    valueAccessor()(val);\\n                }\\n            });\\n            valueAccessor().subscribe(function(value) {\\n                var str = JSON.stringify(value);\\n                if ((str == \\\"0\\\") && ([\\\"-0\\\", \\\"-0.\\\"].indexOf(stringified()) >= 0))\\n                     return;\\n                 if ([\\\"null\\\", \\\"\\\"].indexOf(str) >= 0)\\n                     return;\\n                stringified(str);\\n            });\\n            ko.applyBindingsToNode(\\n                element,\\n                {\\n                    value: stringified,\\n                    valueUpdate: allBindings.get('valueUpdate'),\\n                },\\n                context,\\n            );\\n        }\\n    };\\n    var json_data = {\\\"formatted_vals\\\":[\\\"0.2\\\",\\\"0.21\\\",\\\"0.22\\\",\\\"0.23\\\",\\\"0.24\\\",\\\"0.25\\\",\\\"0.26\\\",\\\"0.27\\\",\\\"0.28\\\",\\\"0.29\\\",\\\"0.3\\\",\\\"0.31\\\",\\\"0.32\\\",\\\"0.33\\\",\\\"0.34\\\",\\\"0.35\\\",\\\"0.36\\\",\\\"0.37\\\",\\\"0.38\\\",\\\"0.39\\\",\\\"0.4\\\",\\\"0.41\\\",\\\"0.42\\\",\\\"0.43\\\",\\\"0.44\\\",\\\"0.45\\\",\\\"0.46\\\",\\\"0.47\\\",\\\"0.48\\\",\\\"0.49\\\",\\\"0.5\\\",\\\"0.51\\\",\\\"0.52\\\",\\\"0.53\\\",\\\"0.54\\\",\\\"0.55\\\",\\\"0.56\\\",\\\"0.57\\\",\\\"0.58\\\",\\\"0.59\\\",\\\"0.6\\\"],\\\"changes\\\":WebIO.getval({\\\"name\\\":\\\"changes\\\",\\\"scope\\\":\\\"12278274611539708718\\\",\\\"id\\\":\\\"ob_48\\\",\\\"type\\\":\\\"observable\\\"}),\\\"index\\\":WebIO.getval({\\\"name\\\":\\\"index\\\",\\\"scope\\\":\\\"12278274611539708718\\\",\\\"id\\\":\\\"ob_47\\\",\\\"type\\\":\\\"observable\\\"})};\\n    var self = this;\\n    function AppViewModel() {\\n        for (var key in json_data) {\\n            var el = json_data[key];\\n            this[key] = Array.isArray(el) ? ko.observableArray(el) : ko.observable(el);\\n        }\\n        \\n        [this[\\\"formatted_val\\\"]=ko.computed(    function(){\\n        return this.formatted_vals()[parseInt(this.index())-(1)];\\n    }\\n,this)]\\n        [this[\\\"changes\\\"].subscribe((function (val){!(this.valueFromJulia[\\\"changes\\\"]) ? (WebIO.setval({\\\"name\\\":\\\"changes\\\",\\\"scope\\\":\\\"12278274611539708718\\\",\\\"id\\\":\\\"ob_48\\\",\\\"type\\\":\\\"observable\\\"},val)) : undefined; return this.valueFromJulia[\\\"changes\\\"]=false}),self),this[\\\"index\\\"].subscribe((function (val){!(this.valueFromJulia[\\\"index\\\"]) ? (WebIO.setval({\\\"name\\\":\\\"index\\\",\\\"scope\\\":\\\"12278274611539708718\\\",\\\"id\\\":\\\"ob_47\\\",\\\"type\\\":\\\"observable\\\"},val)) : undefined; return this.valueFromJulia[\\\"index\\\"]=false}),self)]\\n        \\n    }\\n    self.model = new AppViewModel();\\n    self.valueFromJulia = {};\\n    for (var key in json_data) {\\n        self.valueFromJulia[key] = false;\\n    }\\n    ko.applyBindings(self.model, self.dom);\\n}\\n);\\n    (WebIO.importBlock({\\\"data\\\":[{\\\"name\\\":\\\"knockout\\\",\\\"type\\\":\\\"js\\\",\\\"url\\\":\\\"\\/assetserver\\/2b9036ad2bf63f6f8ec7e0ef518784e2d189a641-knockout.js\\\"},{\\\"name\\\":\\\"knockout_punches\\\",\\\"type\\\":\\\"js\\\",\\\"url\\\":\\\"\\/assetserver\\/25c70325a7f555432ff81bbe4a02595ace6c3789-knockout_punches.js\\\"}],\\\"type\\\":\\\"async_block\\\"})).then((imports) => handler.apply(this, imports));\\n}\\n\"],\"observables\":{\"changes\":{\"sync\":false,\"id\":\"ob_48\",\"value\":0},\"index\":{\"sync\":true,\"id\":\"ob_47\",\"value\":21}}},\"children\":[{\"props\":{\"className\":\"interact-flex-row interact-widget\"},\"nodeType\":\"DOM\",\"type\":\"node\",\"instanceArgs\":{\"namespace\":\"html\",\"tag\":\"div\"},\"children\":[{\"props\":{\"className\":\"interact-flex-row-left\"},\"nodeType\":\"DOM\",\"type\":\"node\",\"instanceArgs\":{\"namespace\":\"html\",\"tag\":\"div\"},\"children\":[{\"props\":{\"className\":\"interact \",\"style\":{\"padding\":\"5px 10px 0px 10px\"}},\"nodeType\":\"DOM\",\"type\":\"node\",\"instanceArgs\":{\"namespace\":\"html\",\"tag\":\"label\"},\"children\":[\"xp\"]}]},{\"props\":{\"className\":\"interact-flex-row-center\"},\"nodeType\":\"DOM\",\"type\":\"node\",\"instanceArgs\":{\"namespace\":\"html\",\"tag\":\"div\"},\"children\":[{\"props\":{\"max\":41,\"min\":1,\"attributes\":{\"type\":\"range\",\"data-bind\":\"numericValue: index, valueUpdate: 'input', event: {change: function (){this.changes(this.changes()+1)}}\",\"orient\":\"horizontal\"},\"step\":1,\"className\":\"slider slider is-fullwidth\",\"style\":{}},\"nodeType\":\"DOM\",\"type\":\"node\",\"instanceArgs\":{\"namespace\":\"html\",\"tag\":\"input\"},\"children\":[]}]},{\"props\":{\"className\":\"interact-flex-row-right\"},\"nodeType\":\"DOM\",\"type\":\"node\",\"instanceArgs\":{\"namespace\":\"html\",\"tag\":\"div\"},\"children\":[{\"props\":{\"attributes\":{\"data-bind\":\"text: formatted_val\"}},\"nodeType\":\"DOM\",\"type\":\"node\",\"instanceArgs\":{\"namespace\":\"html\",\"tag\":\"p\"},\"children\":[]}]}]}]}]},{\"props\":{},\"nodeType\":\"Scope\",\"type\":\"node\",\"instanceArgs\":{\"imports\":{\"data\":[],\"type\":\"async_block\"},\"id\":\"10919201148845735300\",\"handlers\":{},\"systemjs_options\":null,\"mount_callbacks\":[],\"observables\":{\"obs-node\":{\"sync\":false,\"id\":\"ob_52\",\"value\":{\"props\":{\"className\":\"interact-flex-row interact-widget\"},\"nodeType\":\"DOM\",\"type\":\"node\",\"instanceArgs\":{\"namespace\":\"html\",\"tag\":\"div\"},\"children\":[{\"props\":{\"setInnerHtml\":\"<?xml version=\\\"1.0\\\" encoding=\\\"utf-8\\\"?>\\n<svg xmlns=\\\"http:\\/\\/www.w3.org\\/2000\\/svg\\\" xmlns:xlink=\\\"http:\\/\\/www.w3.org\\/1999\\/xlink\\\" width=\\\"600\\\" height=\\\"400\\\" viewBox=\\\"0 0 2400 1600\\\">\\n<defs>\\n  <clipPath id=\\\"clip5600\\\">\\n    <rect x=\\\"0\\\" y=\\\"0\\\" width=\\\"2400\\\" height=\\\"1600\\\"\\/>\\n  <\\/clipPath>\\n<\\/defs>\\n<polygon clip-path=\\\"url(#clip5600)\\\" points=\\\"\\n0,1600 2400,1600 2400,0 0,0 \\n  \\\" fill=\\\"#ffffff\\\" fill-rule=\\\"evenodd\\\" fill-opacity=\\\"1\\\"\\/>\\n<defs>\\n  <clipPath id=\\\"clip5601\\\">\\n    <rect x=\\\"480\\\" y=\\\"0\\\" width=\\\"1681\\\" height=\\\"1600\\\"\\/>\\n  <\\/clipPath>\\n<\\/defs>\\n<polygon clip-path=\\\"url(#clip5600)\\\" points=\\\"\\n180.66,1487.47 2352.76,1487.47 2352.76,47.2441 180.66,47.2441 \\n  \\\" fill=\\\"#ffffff\\\" fill-rule=\\\"evenodd\\\" fill-opacity=\\\"1\\\"\\/>\\n<defs>\\n  <clipPath id=\\\"clip5602\\\">\\n    <rect x=\\\"180\\\" y=\\\"47\\\" width=\\\"2173\\\" height=\\\"1441\\\"\\/>\\n  <\\/clipPath>\\n<\\/defs>\\n<polyline clip-path=\\\"url(#clip5602)\\\" style=\\\"stroke:#000000; stroke-width:2; stroke-opacity:0.1; fill:none\\\" points=\\\"\\n  242.135,1487.47 242.135,47.2441 \\n  \\\"\\/>\\n<polyline clip-path=\\\"url(#clip5602)\\\" style=\\\"stroke:#000000; stroke-width:2; stroke-opacity:0.1; fill:none\\\" points=\\\"\\n  754.421,1487.47 754.421,47.2441 \\n  \\\"\\/>\\n<polyline clip-path=\\\"url(#clip5602)\\\" style=\\\"stroke:#000000; stroke-width:2; stroke-opacity:0.1; fill:none\\\" points=\\\"\\n  1266.71,1487.47 1266.71,47.2441 \\n  \\\"\\/>\\n<polyline clip-path=\\\"url(#clip5602)\\\" style=\\\"stroke:#000000; stroke-width:2; stroke-opacity:0.1; fill:none\\\" points=\\\"\\n  1778.99,1487.47 1778.99,47.2441 \\n  \\\"\\/>\\n<polyline clip-path=\\\"url(#clip5602)\\\" style=\\\"stroke:#000000; stroke-width:2; stroke-opacity:0.1; fill:none\\\" points=\\\"\\n  2291.28,1487.47 2291.28,47.2441 \\n  \\\"\\/>\\n<polyline clip-path=\\\"url(#clip5602)\\\" style=\\\"stroke:#000000; stroke-width:2; stroke-opacity:0.1; fill:none\\\" points=\\\"\\n  180.66,1446.71 2352.76,1446.71 \\n  \\\"\\/>\\n<polyline clip-path=\\\"url(#clip5602)\\\" style=\\\"stroke:#000000; stroke-width:2; stroke-opacity:0.1; fill:none\\\" points=\\\"\\n  180.66,1107.04 2352.76,1107.04 \\n  \\\"\\/>\\n<polyline clip-path=\\\"url(#clip5602)\\\" style=\\\"stroke:#000000; stroke-width:2; stroke-opacity:0.1; fill:none\\\" points=\\\"\\n  180.66,767.359 2352.76,767.359 \\n  \\\"\\/>\\n<polyline clip-path=\\\"url(#clip5602)\\\" style=\\\"stroke:#000000; stroke-width:2; stroke-opacity:0.1; fill:none\\\" points=\\\"\\n  180.66,427.682 2352.76,427.682 \\n  \\\"\\/>\\n<polyline clip-path=\\\"url(#clip5602)\\\" style=\\\"stroke:#000000; stroke-width:2; stroke-opacity:0.1; fill:none\\\" points=\\\"\\n  180.66,88.0053 2352.76,88.0053 \\n  \\\"\\/>\\n<polyline clip-path=\\\"url(#clip5600)\\\" style=\\\"stroke:#000000; stroke-width:4; stroke-opacity:1; fill:none\\\" points=\\\"\\n  180.66,1487.47 2352.76,1487.47 \\n  \\\"\\/>\\n<polyline clip-path=\\\"url(#clip5600)\\\" style=\\\"stroke:#000000; stroke-width:4; stroke-opacity:1; fill:none\\\" points=\\\"\\n  180.66,1487.47 180.66,47.2441 \\n  \\\"\\/>\\n<polyline clip-path=\\\"url(#clip5600)\\\" style=\\\"stroke:#000000; stroke-width:4; stroke-opacity:1; fill:none\\\" points=\\\"\\n  242.135,1487.47 242.135,1465.87 \\n  \\\"\\/>\\n<polyline clip-path=\\\"url(#clip5600)\\\" style=\\\"stroke:#000000; stroke-width:4; stroke-opacity:1; fill:none\\\" points=\\\"\\n  754.421,1487.47 754.421,1465.87 \\n  \\\"\\/>\\n<polyline clip-path=\\\"url(#clip5600)\\\" style=\\\"stroke:#000000; stroke-width:4; stroke-opacity:1; fill:none\\\" points=\\\"\\n  1266.71,1487.47 1266.71,1465.87 \\n  \\\"\\/>\\n<polyline clip-path=\\\"url(#clip5600)\\\" style=\\\"stroke:#000000; stroke-width:4; stroke-opacity:1; fill:none\\\" points=\\\"\\n  1778.99,1487.47 1778.99,1465.87 \\n  \\\"\\/>\\n<polyline clip-path=\\\"url(#clip5600)\\\" style=\\\"stroke:#000000; stroke-width:4; stroke-opacity:1; fill:none\\\" points=\\\"\\n  2291.28,1487.47 2291.28,1465.87 \\n  \\\"\\/>\\n<polyline clip-path=\\\"url(#clip5600)\\\" style=\\\"stroke:#000000; stroke-width:4; stroke-opacity:1; fill:none\\\" points=\\\"\\n  180.66,1446.71 213.242,1446.71 \\n  \\\"\\/>\\n<polyline clip-path=\\\"url(#clip5600)\\\" style=\\\"stroke:#000000; stroke-width:4; stroke-opacity:1; fill:none\\\" points=\\\"\\n  180.66,1107.04 213.242,1107.04 \\n  \\\"\\/>\\n<polyline clip-path=\\\"url(#clip5600)\\\" style=\\\"stroke:#000000; stroke-width:4; stroke-opacity:1; fill:none\\\" points=\\\"\\n  180.66,767.359 213.242,767.359 \\n  \\\"\\/>\\n<polyline clip-path=\\\"url(#clip5600)\\\" style=\\\"stroke:#000000; stroke-width:4; stroke-opacity:1; fill:none\\\" points=\\\"\\n  180.66,427.682 213.242,427.682 \\n  \\\"\\/>\\n<polyline clip-path=\\\"url(#clip5600)\\\" style=\\\"stroke:#000000; stroke-width:4; stroke-opacity:1; fill:none\\\" points=\\\"\\n  180.66,88.0053 213.242,88.0053 \\n  \\\"\\/>\\n<g clip-path=\\\"url(#clip5600)\\\">\\n<text style=\\\"fill:#000000; fill-opacity:1; font-family:Arial,Helvetica Neue,Helvetica,sans-serif; font-size:48px; text-anchor:middle;\\\" transform=\\\"rotate(0, 242.135, 1541.47)\\\" x=\\\"242.135\\\" y=\\\"1541.47\\\">0.0<\\/text>\\n<\\/g>\\n<g clip-path=\\\"url(#clip5600)\\\">\\n<text style=\\\"fill:#000000; fill-opacity:1; font-family:Arial,Helvetica Neue,Helvetica,sans-serif; font-size:48px; text-anchor:middle;\\\" transform=\\\"rotate(0, 754.421, 1541.47)\\\" x=\\\"754.421\\\" y=\\\"1541.47\\\">0.5<\\/text>\\n<\\/g>\\n<g clip-path=\\\"url(#clip5600)\\\">\\n<text style=\\\"fill:#000000; fill-opacity:1; font-family:Arial,Helvetica Neue,Helvetica,sans-serif; font-size:48px; text-anchor:middle;\\\" transform=\\\"rotate(0, 1266.71, 1541.47)\\\" x=\\\"1266.71\\\" y=\\\"1541.47\\\">1.0<\\/text>\\n<\\/g>\\n<g clip-path=\\\"url(#clip5600)\\\">\\n<text style=\\\"fill:#000000; fill-opacity:1; font-family:Arial,Helvetica Neue,Helvetica,sans-serif; font-size:48px; text-anchor:middle;\\\" transform=\\\"rotate(0, 1778.99, 1541.47)\\\" x=\\\"1778.99\\\" y=\\\"1541.47\\\">1.5<\\/text>\\n<\\/g>\\n<g clip-path=\\\"url(#clip5600)\\\">\\n<text style=\\\"fill:#000000; fill-opacity:1; font-family:Arial,Helvetica Neue,Helvetica,sans-serif; font-size:48px; text-anchor:middle;\\\" transform=\\\"rotate(0, 2291.28, 1541.47)\\\" x=\\\"2291.28\\\" y=\\\"1541.47\\\">2.0<\\/text>\\n<\\/g>\\n<g clip-path=\\\"url(#clip5600)\\\">\\n<text style=\\\"fill:#000000; fill-opacity:1; font-family:Arial,Helvetica Neue,Helvetica,sans-serif; font-size:48px; text-anchor:end;\\\" transform=\\\"rotate(0, 156.66, 1464.21)\\\" x=\\\"156.66\\\" y=\\\"1464.21\\\">0.00<\\/text>\\n<\\/g>\\n<g clip-path=\\\"url(#clip5600)\\\">\\n<text style=\\\"fill:#000000; fill-opacity:1; font-family:Arial,Helvetica Neue,Helvetica,sans-serif; font-size:48px; text-anchor:end;\\\" transform=\\\"rotate(0, 156.66, 1124.54)\\\" x=\\\"156.66\\\" y=\\\"1124.54\\\">0.25<\\/text>\\n<\\/g>\\n<g clip-path=\\\"url(#clip5600)\\\">\\n<text style=\\\"fill:#000000; fill-opacity:1; font-family:Arial,Helvetica Neue,Helvetica,sans-serif; font-size:48px; text-anchor:end;\\\" transform=\\\"rotate(0, 156.66, 784.859)\\\" x=\\\"156.66\\\" y=\\\"784.859\\\">0.50<\\/text>\\n<\\/g>\\n<g clip-path=\\\"url(#clip5600)\\\">\\n<text style=\\\"fill:#000000; fill-opacity:1; font-family:Arial,Helvetica Neue,Helvetica,sans-serif; font-size:48px; text-anchor:end;\\\" transform=\\\"rotate(0, 156.66, 445.182)\\\" x=\\\"156.66\\\" y=\\\"445.182\\\">0.75<\\/text>\\n<\\/g>\\n<g clip-path=\\\"url(#clip5600)\\\">\\n<text style=\\\"fill:#000000; fill-opacity:1; font-family:Arial,Helvetica Neue,Helvetica,sans-serif; font-size:48px; text-anchor:end;\\\" transform=\\\"rotate(0, 156.66, 105.505)\\\" x=\\\"156.66\\\" y=\\\"105.505\\\">1.00<\\/text>\\n<\\/g>\\n<circle clip-path=\\\"url(#clip5602)\\\" style=\\\"fill:#000000; stroke:none; fill-opacity:1\\\" cx=\\\"242.135\\\" cy=\\\"1446.71\\\" r=\\\"18\\\"\\/>\\n<circle clip-path=\\\"url(#clip5602)\\\" style=\\\"fill:#009af9; stroke:none; fill-opacity:1\\\" cx=\\\"242.135\\\" cy=\\\"1446.71\\\" r=\\\"14\\\"\\/>\\n<circle clip-path=\\\"url(#clip5602)\\\" style=\\\"fill:#000000; stroke:none; fill-opacity:1\\\" cx=\\\"447.049\\\" cy=\\\"1174.97\\\" r=\\\"18\\\"\\/>\\n<circle clip-path=\\\"url(#clip5602)\\\" style=\\\"fill:#009af9; stroke:none; fill-opacity:1\\\" cx=\\\"447.049\\\" cy=\\\"1174.97\\\" r=\\\"14\\\"\\/>\\n<circle clip-path=\\\"url(#clip5602)\\\" style=\\\"fill:#000000; stroke:none; fill-opacity:1\\\" cx=\\\"651.964\\\" cy=\\\"917.608\\\" r=\\\"18\\\"\\/>\\n<circle clip-path=\\\"url(#clip5602)\\\" style=\\\"fill:#009af9; stroke:none; fill-opacity:1\\\" cx=\\\"651.964\\\" cy=\\\"917.608\\\" r=\\\"14\\\"\\/>\\n<circle clip-path=\\\"url(#clip5602)\\\" style=\\\"fill:#000000; stroke:none; fill-opacity:1\\\" cx=\\\"856.879\\\" cy=\\\"631.489\\\" r=\\\"18\\\"\\/>\\n<circle clip-path=\\\"url(#clip5602)\\\" style=\\\"fill:#009af9; stroke:none; fill-opacity:1\\\" cx=\\\"856.879\\\" cy=\\\"631.489\\\" r=\\\"14\\\"\\/>\\n<circle clip-path=\\\"url(#clip5602)\\\" style=\\\"fill:#000000; stroke:none; fill-opacity:1\\\" cx=\\\"1061.79\\\" cy=\\\"359.747\\\" r=\\\"18\\\"\\/>\\n<circle clip-path=\\\"url(#clip5602)\\\" style=\\\"fill:#009af9; stroke:none; fill-opacity:1\\\" cx=\\\"1061.79\\\" cy=\\\"359.747\\\" r=\\\"14\\\"\\/>\\n<circle clip-path=\\\"url(#clip5602)\\\" style=\\\"fill:#000000; stroke:none; fill-opacity:1\\\" cx=\\\"1266.71\\\" cy=\\\"88.0053\\\" r=\\\"18\\\"\\/>\\n<circle clip-path=\\\"url(#clip5602)\\\" style=\\\"fill:#009af9; stroke:none; fill-opacity:1\\\" cx=\\\"1266.71\\\" cy=\\\"88.0053\\\" r=\\\"14\\\"\\/>\\n<circle clip-path=\\\"url(#clip5602)\\\" style=\\\"fill:#000000; stroke:none; fill-opacity:1\\\" cx=\\\"1471.62\\\" cy=\\\"359.747\\\" r=\\\"18\\\"\\/>\\n<circle clip-path=\\\"url(#clip5602)\\\" style=\\\"fill:#009af9; stroke:none; fill-opacity:1\\\" cx=\\\"1471.62\\\" cy=\\\"359.747\\\" r=\\\"14\\\"\\/>\\n<circle clip-path=\\\"url(#clip5602)\\\" style=\\\"fill:#000000; stroke:none; fill-opacity:1\\\" cx=\\\"1676.54\\\" cy=\\\"631.489\\\" r=\\\"18\\\"\\/>\\n<circle clip-path=\\\"url(#clip5602)\\\" style=\\\"fill:#009af9; stroke:none; fill-opacity:1\\\" cx=\\\"1676.54\\\" cy=\\\"631.489\\\" r=\\\"14\\\"\\/>\\n<circle clip-path=\\\"url(#clip5602)\\\" style=\\\"fill:#000000; stroke:none; fill-opacity:1\\\" cx=\\\"1881.45\\\" cy=\\\"903.23\\\" r=\\\"18\\\"\\/>\\n<circle clip-path=\\\"url(#clip5602)\\\" style=\\\"fill:#009af9; stroke:none; fill-opacity:1\\\" cx=\\\"1881.45\\\" cy=\\\"903.23\\\" r=\\\"14\\\"\\/>\\n<circle clip-path=\\\"url(#clip5602)\\\" style=\\\"fill:#000000; stroke:none; fill-opacity:1\\\" cx=\\\"2086.37\\\" cy=\\\"1174.97\\\" r=\\\"18\\\"\\/>\\n<circle clip-path=\\\"url(#clip5602)\\\" style=\\\"fill:#009af9; stroke:none; fill-opacity:1\\\" cx=\\\"2086.37\\\" cy=\\\"1174.97\\\" r=\\\"14\\\"\\/>\\n<circle clip-path=\\\"url(#clip5602)\\\" style=\\\"fill:#000000; stroke:none; fill-opacity:1\\\" cx=\\\"2291.28\\\" cy=\\\"1446.71\\\" r=\\\"18\\\"\\/>\\n<circle clip-path=\\\"url(#clip5602)\\\" style=\\\"fill:#009af9; stroke:none; fill-opacity:1\\\" cx=\\\"2291.28\\\" cy=\\\"1446.71\\\" r=\\\"14\\\"\\/>\\n<polyline clip-path=\\\"url(#clip5602)\\\" style=\\\"stroke:#e26f46; stroke-width:4; stroke-opacity:1; fill:none\\\" points=\\\"\\n  242.135,1446.71 252.432,1432.71 262.729,1418.71 273.026,1404.72 283.324,1390.75 293.621,1376.8 303.918,1362.88 314.215,1348.99 324.512,1335.13 334.81,1321.32 \\n  345.107,1307.55 355.404,1293.84 365.701,1280.18 375.999,1266.59 386.296,1253.07 396.593,1239.62 406.89,1226.25 417.187,1212.97 427.485,1199.77 437.782,1186.68 \\n  448.079,1173.68 458.376,1160.78 468.674,1147.97 478.971,1135.23 489.268,1122.55 499.565,1109.91 509.862,1097.3 520.16,1084.7 530.457,1072.1 540.754,1059.47 \\n  551.051,1046.81 561.349,1034.1 571.646,1021.32 581.943,1008.45 592.24,995.494 602.537,982.421 612.835,969.22 623.132,955.874 633.429,942.369 643.726,928.688 \\n  654.024,914.817 664.321,900.752 674.618,886.511 684.915,872.12 695.212,857.603 705.51,842.982 715.807,828.283 726.104,813.528 736.401,798.741 746.698,783.947 \\n  756.996,769.169 767.293,754.432 777.59,739.758 787.887,725.172 798.185,710.697 808.482,696.358 818.779,682.177 829.076,668.18 839.373,654.39 849.671,640.83 \\n  859.968,627.525 870.265,614.472 880.562,601.63 890.86,588.951 901.157,576.388 911.454,563.894 921.751,551.422 932.048,538.925 942.346,526.357 952.643,513.67 \\n  962.94,500.817 973.237,487.751 983.535,474.425 993.832,460.793 1004.13,446.807 1014.43,432.42 1024.72,417.585 1035.02,402.256 1045.32,386.385 1055.62,369.925 \\n  1065.91,352.832 1076.21,335.143 1086.51,317.005 1096.8,298.571 1107.1,279.993 1117.4,261.426 1127.7,243.022 1137.99,224.934 1148.29,207.316 1158.59,190.321 \\n  1168.88,174.102 1179.18,158.812 1189.48,144.604 1199.78,131.632 1210.07,120.048 1220.37,110.006 1230.67,101.66 1240.97,95.161 1251.26,90.6637 1261.56,88.3209 \\n  1271.86,88.2795 1282.15,90.54 1292.45,94.9569 1302.75,101.378 1313.05,109.652 1323.34,119.627 1333.64,131.15 1343.94,144.07 1354.23,158.235 1364.53,173.494 \\n  1374.83,189.693 1385.13,206.681 1395.42,224.307 1405.72,242.417 1416.02,260.862 1426.32,279.487 1436.61,298.143 1446.91,316.676 1457.21,334.935 1467.5,352.767 \\n  1477.8,370.029 1488.1,386.678 1498.4,402.753 1508.69,418.296 1518.99,433.346 1529.29,447.944 1539.58,462.131 1549.88,475.949 1560.18,489.436 1570.48,502.635 \\n  1580.77,515.586 1591.07,528.33 1601.37,540.906 1611.66,553.357 1621.96,565.723 1632.26,578.043 1642.56,590.36 1652.85,602.714 1663.15,615.145 1673.45,627.695 \\n  1683.75,640.4 1694.04,653.269 1704.34,666.29 1714.64,679.453 1724.93,692.747 1735.23,706.16 1745.53,719.683 1755.83,733.304 1766.12,747.012 1776.42,760.797 \\n  1786.72,774.647 1797.01,788.551 1807.31,802.499 1817.61,816.48 1827.91,830.483 1838.2,844.497 1848.5,858.511 1858.8,872.515 1869.1,886.496 1879.39,900.445 \\n  1889.69,914.352 1899.99,928.215 1910.28,942.038 1920.58,955.824 1930.88,969.574 1941.18,983.293 1951.47,996.983 1961.77,1010.65 1972.07,1024.29 1982.36,1037.91 \\n  1992.66,1051.51 2002.96,1065.1 2013.26,1078.67 2023.55,1092.24 2033.85,1105.8 2044.15,1119.36 2054.45,1132.92 2064.74,1146.48 2075.04,1160.04 2085.34,1173.61 \\n  2095.63,1187.2 2105.93,1200.79 2116.23,1214.4 2126.53,1228.01 2136.82,1241.64 2147.12,1255.27 2157.42,1268.91 2167.71,1282.56 2178.01,1296.22 2188.31,1309.88 \\n  2198.61,1323.54 2208.9,1337.22 2219.2,1350.89 2229.5,1364.57 2239.8,1378.26 2250.09,1391.95 2260.39,1405.64 2270.69,1419.33 2280.98,1433.02 2291.28,1446.71 \\n  \\n  \\\"\\/>\\n<polyline clip-path=\\\"url(#clip5602)\\\" style=\\\"stroke:#3da44d; stroke-width:4; stroke-opacity:1; fill:none\\\" points=\\\"\\n  242.135,1446.71 252.432,1094.59 262.729,832.676 273.026,646.363 283.324,522.74 293.621,450.46 303.918,419.589 314.215,421.481 324.512,448.654 334.81,494.677 \\n  345.107,554.064 355.404,622.18 365.701,695.146 375.999,769.762 386.296,843.424 396.593,914.058 406.89,980.053 417.187,1040.2 427.485,1093.65 437.782,1139.85 \\n  448.079,1178.49 458.376,1209.5 468.674,1232.98 478.971,1249.17 489.268,1258.44 499.565,1261.24 509.862,1258.09 520.16,1249.56 530.457,1236.26 540.754,1218.8 \\n  551.051,1197.8 561.349,1173.86 571.646,1147.58 581.943,1119.51 592.24,1090.19 602.537,1060.09 612.835,1029.66 623.132,999.319 633.429,969.406 643.726,940.234 \\n  654.024,912.065 664.321,885.113 674.618,859.549 684.915,835.499 695.212,813.051 705.51,792.25 715.807,773.111 726.104,755.612 736.401,739.704 746.698,725.311 \\n  756.996,712.336 767.293,700.661 777.59,690.154 787.887,680.668 798.185,672.049 808.482,664.135 818.779,656.762 829.076,649.765 839.373,642.981 849.671,636.25 \\n  859.968,629.421 870.265,622.35 880.562,614.905 890.86,606.964 901.157,598.419 911.454,589.177 921.751,579.159 932.048,568.303 942.346,556.563 952.643,543.908 \\n  962.94,530.325 973.237,515.819 983.535,500.407 993.832,484.126 1004.13,467.024 1014.43,449.165 1024.72,430.627 1035.02,411.499 1045.32,391.88 1055.62,371.88 \\n  1065.91,351.619 1076.21,331.22 1086.51,310.815 1096.8,290.54 1107.1,270.531 1117.4,250.928 1127.7,231.871 1137.99,213.495 1148.29,195.936 1158.59,179.322 \\n  1168.88,163.779 1179.18,149.424 1189.48,136.364 1199.78,124.7 1210.07,114.522 1220.37,105.909 1230.67,98.9269 1240.97,93.6306 1251.26,90.0617 1261.56,88.2485 \\n  1271.86,88.2055 1282.15,89.9337 1292.45,93.4201 1302.75,98.6383 1313.05,105.548 1323.34,114.097 1333.64,124.219 1343.94,135.838 1354.23,148.864 1364.53,163.198 \\n  1374.83,178.733 1385.13,195.352 1395.42,212.932 1405.72,231.342 1416.02,250.448 1426.32,270.113 1436.61,290.198 1446.91,310.561 1457.21,331.065 1467.5,351.573 \\n  1477.8,371.951 1488.1,392.073 1498.4,411.819 1508.69,431.075 1518.99,449.739 1529.29,467.72 1539.58,484.936 1549.88,501.322 1560.18,516.824 1570.48,531.403 \\n  1580.77,545.037 1591.07,557.719 1601.37,569.459 1611.66,580.283 1621.96,590.234 1632.26,599.371 1642.56,607.77 1652.85,615.522 1663.15,622.731 1673.45,629.516 \\n  1683.75,636.01 1694.04,642.353 1704.34,648.698 1714.64,655.202 1724.93,662.029 1735.23,669.345 1745.53,677.316 1755.83,686.105 1766.12,695.871 1776.42,706.763 \\n  1786.72,718.918 1797.01,732.46 1807.31,747.492 1817.61,764.098 1827.91,782.335 1838.2,802.232 1848.5,823.787 1858.8,846.964 1869.1,871.686 1879.39,897.841 \\n  1889.69,925.27 1899.99,953.772 1910.28,983.1 1920.58,1012.96 1930.88,1043.01 1941.18,1072.87 1951.47,1102.1 1961.77,1130.23 1972.07,1156.75 1982.36,1181.11 \\n  1992.66,1202.73 2002.96,1221.02 2013.26,1235.38 2023.55,1245.19 2033.85,1249.86 2044.15,1248.82 2054.45,1241.55 2064.74,1227.58 2075.04,1206.56 2085.34,1178.21 \\n  2095.63,1142.43 2105.93,1099.27 2116.23,1048.98 2126.53,992.097 2136.82,929.418 2147.12,862.091 2157.42,791.661 2167.71,720.123 2178.01,649.987 2188.31,584.35 \\n  2198.61,526.969 2208.9,482.344 2219.2,455.805 2229.5,453.609 2239.8,483.045 2250.09,552.544 2260.39,671.797 2270.69,851.887 2280.98,1105.43 2291.28,1446.71 \\n  \\n  \\\"\\/>\\n<polygon clip-path=\\\"url(#clip5600)\\\" points=\\\"\\n1989.93,372.684 2280.76,372.684 2280.76,130.764 1989.93,130.764 \\n  \\\" fill=\\\"#ffffff\\\" fill-rule=\\\"evenodd\\\" fill-opacity=\\\"1\\\"\\/>\\n<polyline clip-path=\\\"url(#clip5600)\\\" style=\\\"stroke:#000000; stroke-width:4; stroke-opacity:1; fill:none\\\" points=\\\"\\n  1989.93,372.684 2280.76,372.684 2280.76,130.764 1989.93,130.764 1989.93,372.684 \\n  \\\"\\/>\\n<circle clip-path=\\\"url(#clip5600)\\\" style=\\\"fill:#000000; stroke:none; fill-opacity:1\\\" cx=\\\"2097.93\\\" cy=\\\"191.244\\\" r=\\\"25\\\"\\/>\\n<circle clip-path=\\\"url(#clip5600)\\\" style=\\\"fill:#009af9; stroke:none; fill-opacity:1\\\" cx=\\\"2097.93\\\" cy=\\\"191.244\\\" r=\\\"21\\\"\\/>\\n<g clip-path=\\\"url(#clip5600)\\\">\\n<text style=\\\"fill:#000000; fill-opacity:1; font-family:Arial,Helvetica Neue,Helvetica,sans-serif; font-size:48px; text-anchor:start;\\\" transform=\\\"rotate(0, 2181.93, 208.744)\\\" x=\\\"2181.93\\\" y=\\\"208.744\\\">y1<\\/text>\\n<\\/g>\\n<polyline clip-path=\\\"url(#clip5600)\\\" style=\\\"stroke:#e26f46; stroke-width:4; stroke-opacity:1; fill:none\\\" points=\\\"\\n  2013.93,251.724 2157.93,251.724 \\n  \\\"\\/>\\n<g clip-path=\\\"url(#clip5600)\\\">\\n<text style=\\\"fill:#000000; fill-opacity:1; font-family:Arial,Helvetica Neue,Helvetica,sans-serif; font-size:48px; text-anchor:start;\\\" transform=\\\"rotate(0, 2181.93, 269.224)\\\" x=\\\"2181.93\\\" y=\\\"269.224\\\">y2<\\/text>\\n<\\/g>\\n<polyline clip-path=\\\"url(#clip5600)\\\" style=\\\"stroke:#3da44d; stroke-width:4; stroke-opacity:1; fill:none\\\" points=\\\"\\n  2013.93,312.204 2157.93,312.204 \\n  \\\"\\/>\\n<g clip-path=\\\"url(#clip5600)\\\">\\n<text style=\\\"fill:#000000; fill-opacity:1; font-family:Arial,Helvetica Neue,Helvetica,sans-serif; font-size:48px; text-anchor:start;\\\" transform=\\\"rotate(0, 2181.93, 329.704)\\\" x=\\\"2181.93\\\" y=\\\"329.704\\\">y3<\\/text>\\n<\\/g>\\n<\\/svg>\\n\"},\"nodeType\":\"DOM\",\"type\":\"node\",\"instanceArgs\":{\"namespace\":\"html\",\"tag\":\"div\"},\"children\":[]}]}}}},\"children\":[{\"props\":{},\"nodeType\":\"ObservableNode\",\"type\":\"node\",\"instanceArgs\":{\"id\":\"ob_52\",\"name\":\"obs-node\"},\"children\":[]}]}]},\n",
       "            window,\n",
       "        );\n",
       "    } else {\n",
       "        document\n",
       "            .querySelector('[data-webio-mountpoint=\"7980068015088366939\"]')\n",
       "            .innerHTML = (\n",
       "                '<strong>WebIO not detected. Please read ' +\n",
       "                '<a href=\"https://juliagizmos.github.io/WebIO.jl/latest/troubleshooting/not-detected/\">the troubleshooting guide</a> ' +\n",
       "                'for more information on how to resolve this issue.' +\n",
       "                '</strong>'\n",
       "            );\n",
       "    }\n",
       "    </script>\n",
       "</div>\n"
      ],
      "text/plain": [
       "Node{WebIO.DOM}(WebIO.DOM(:html, :div), Any[Node{DOM}(DOM(:html, :div), Any[Scope(Node{DOM}(DOM(:html, :div), Any[Node{DOM}(DOM(:html, :div), Any[Node{DOM}(DOM(:html, :label), Any[\"xp\"], Dict{Symbol,Any}(:className=>\"interact \",:style=>Dict{Any,Any}(:padding=>\"5px 10px 0px 10px\")))], Dict{Symbol,Any}(:className=>\"interact-flex-row-left\")), Node{DOM}(DOM(:html, :div), Any[Node{DOM}(DOM(:html, :input), Any[], Dict{Symbol,Any}(:max=>41,:min=>1,:attributes=>Dict{Any,Any}(:type=>\"range\",Symbol(\"data-bind\")=>\"numericValue: index, valueUpdate: 'input', event: {change: function (){this.changes(this.changes()+1)}}\",\"orient\"=>\"horizontal\"),:step=>1,:className=>\"slider slider is-fullwidth\",:style=>Dict{Any,Any}()))], Dict{Symbol,Any}(:className=>\"interact-flex-row-center\")), Node{DOM}(DOM(:html, :div), Any[Node{DOM}(DOM(:html, :p), Any[], Dict{Symbol,Any}(:attributes=>Dict(\"data-bind\"=>\"text: formatted_val\")))], Dict{Symbol,Any}(:className=>\"interact-flex-row-right\"))], Dict{Symbol,Any}(:className=>\"interact-flex-row interact-widget\")), Dict{String,Tuple{Observables.AbstractObservable,Union{Nothing, Bool}}}(\"changes\"=>(Observable{Int64} with 1 listeners. Value:\n",
       "0, nothing),\"index\"=>(Observable{Any} with 2 listeners. Value:\n",
       "21, nothing)), Set(String[]), nothing, Asset[Asset(\"js\", \"knockout\", \"/home/slap/.julia/packages/Knockout/1sDlc/src/../assets/knockout.js\"), Asset(\"js\", \"knockout_punches\", \"/home/slap/.julia/packages/Knockout/1sDlc/src/../assets/knockout_punches.js\"), Asset(\"js\", nothing, \"/home/slap/.julia/packages/InteractBase/9mFwe/src/../assets/all.js\"), Asset(\"css\", nothing, \"/home/slap/.julia/packages/InteractBase/9mFwe/src/../assets/style.css\"), Asset(\"css\", nothing, \"/home/slap/.julia/packages/Interact/SbgIk/src/../assets/bulma_confined.min.css\")], Dict{Any,Any}(\"changes\"=>Any[JSString(\"(function (val){return (val!=this.model[\\\"changes\\\"]()) ? (this.valueFromJulia[\\\"changes\\\"]=true, this.model[\\\"changes\\\"](val)) : undefined})\")],\"index\"=>Any[JSString(\"(function (val){return (val!=this.model[\\\"index\\\"]()) ? (this.valueFromJulia[\\\"index\\\"]=true, this.model[\\\"index\\\"](val)) : undefined})\")]), ConnectionPool(Channel{Any}(sz_max:32,sz_curr:0), Set(AbstractConnection[]), Condition(Any[Task (runnable) @0x00007ff5a9780eb0])), WebIO.JSString[JSString(\"function () {\\n    var handler = (function (ko, koPunches) {\\n    ko.punches.enableAll();\\n    ko.bindingHandlers.numericValue = {\\n        init: function(element, valueAccessor, allBindings, data, context) {\\n            var stringified = ko.observable(ko.unwrap(valueAccessor()));\\n            stringified.subscribe(function(value) {\\n                var val = parseFloat(value);\\n                if (!isNaN(val)) {\\n                    valueAccessor()(val);\\n                }\\n            });\\n            valueAccessor().subscribe(function(value) {\\n                var str = JSON.stringify(value);\\n                if ((str == \\\"0\\\") && ([\\\"-0\\\", \\\"-0.\\\"].indexOf(stringified()) >= 0))\\n                     return;\\n                 if ([\\\"null\\\", \\\"\\\"].indexOf(str) >= 0)\\n                     return;\\n                stringified(str);\\n            });\\n            ko.applyBindingsToNode(\\n                element,\\n                {\\n                    value: stringified,\\n                    valueUpdate: allBindings.get('valueUpdate'),\\n                },\\n                context,\\n            );\\n        }\\n    };\\n    var json_data = {\\\"formatted_vals\\\":[\\\"0.2\\\",\\\"0.21\\\",\\\"0.22\\\",\\\"0.23\\\",\\\"0.24\\\",\\\"0.25\\\",\\\"0.26\\\",\\\"0.27\\\",\\\"0.28\\\",\\\"0.29\\\",\\\"0.3\\\",\\\"0.31\\\",\\\"0.32\\\",\\\"0.33\\\",\\\"0.34\\\",\\\"0.35\\\",\\\"0.36\\\",\\\"0.37\\\",\\\"0.38\\\",\\\"0.39\\\",\\\"0.4\\\",\\\"0.41\\\",\\\"0.42\\\",\\\"0.43\\\",\\\"0.44\\\",\\\"0.45\\\",\\\"0.46\\\",\\\"0.47\\\",\\\"0.48\\\",\\\"0.49\\\",\\\"0.5\\\",\\\"0.51\\\",\\\"0.52\\\",\\\"0.53\\\",\\\"0.54\\\",\\\"0.55\\\",\\\"0.56\\\",\\\"0.57\\\",\\\"0.58\\\",\\\"0.59\\\",\\\"0.6\\\"],\\\"changes\\\":WebIO.getval({\\\"name\\\":\\\"changes\\\",\\\"scope\\\":\\\"12278274611539708718\\\",\\\"id\\\":\\\"ob_48\\\",\\\"type\\\":\\\"observable\\\"}),\\\"index\\\":WebIO.getval({\\\"name\\\":\\\"index\\\",\\\"scope\\\":\\\"12278274611539708718\\\",\\\"id\\\":\\\"ob_47\\\",\\\"type\\\":\\\"observable\\\"})};\\n    var self = this;\\n    function AppViewModel() {\\n        for (var key in json_data) {\\n            var el = json_data[key];\\n            this[key] = Array.isArray(el) ? ko.observableArray(el) : ko.observable(el);\\n        }\\n        \\n        [this[\\\"formatted_val\\\"]=ko.computed(    function(){\\n        return this.formatted_vals()[parseInt(this.index())-(1)];\\n    }\\n,this)]\\n        [this[\\\"changes\\\"].subscribe((function (val){!(this.valueFromJulia[\\\"changes\\\"]) ? (WebIO.setval({\\\"name\\\":\\\"changes\\\",\\\"scope\\\":\\\"12278274611539708718\\\",\\\"id\\\":\\\"ob_48\\\",\\\"type\\\":\\\"observable\\\"},val)) : undefined; return this.valueFromJulia[\\\"changes\\\"]=false}),self),this[\\\"index\\\"].subscribe((function (val){!(this.valueFromJulia[\\\"index\\\"]) ? (WebIO.setval({\\\"name\\\":\\\"index\\\",\\\"scope\\\":\\\"12278274611539708718\\\",\\\"id\\\":\\\"ob_47\\\",\\\"type\\\":\\\"observable\\\"},val)) : undefined; return this.valueFromJulia[\\\"index\\\"]=false}),self)]\\n        \\n    }\\n    self.model = new AppViewModel();\\n    self.valueFromJulia = {};\\n    for (var key in json_data) {\\n        self.valueFromJulia[key] = false;\\n    }\\n    ko.applyBindings(self.model, self.dom);\\n}\\n);\\n    (WebIO.importBlock({\\\"data\\\":[{\\\"name\\\":\\\"knockout\\\",\\\"type\\\":\\\"js\\\",\\\"url\\\":\\\"/assetserver/2b9036ad2bf63f6f8ec7e0ef518784e2d189a641-knockout.js\\\"},{\\\"name\\\":\\\"knockout_punches\\\",\\\"type\\\":\\\"js\\\",\\\"url\\\":\\\"/assetserver/25c70325a7f555432ff81bbe4a02595ace6c3789-knockout_punches.js\\\"}],\\\"type\\\":\\\"async_block\\\"})).then((imports) => handler.apply(this, imports));\\n}\\n\")])], Dict{Symbol,Any}(:className=>\"field interact-widget\")), Observable{Any} with 0 listeners. Value:\n",
       "Node{DOM}(DOM(:html, :div), Any[Plot{Plots.GRBackend() n=3}], Dict{Symbol,Any}(:className=>\"interact-flex-row interact-widget\"))], Dict{Symbol,Any}())"
      ]
     },
     "execution_count": 14,
     "metadata": {
      "application/vnd.webio.node+json": {
       "kernelId": null
      }
     },
     "output_type": "execute_result"
    }
   ],
   "source": [
    "n=10\n",
    "a=0\n",
    "b=2\n",
    "f(x)=1 .-abs.(x .-1)\n",
    "\n",
    "# Ravnomjerno raspoređene točke\n",
    "x=collect(range(a,b,length=n+1))\n",
    "y=f(x)\n",
    "lsize=200\n",
    "xx=range(a,b,length=lsize)\n",
    "ySpline=Array{Float64}(undef,lsize)\n",
    "yPoly=Array{Float64}(undef,lsize)\n",
    "yFun=f(xx)\n",
    "\n",
    "point=3\n",
    "xc=deepcopy(x)\n",
    "yc=deepcopy(y)\n",
    "@manipulate for xp=xc[point-1]:0.01:xc[point+1]\n",
    "    # Splajn\n",
    "    xc[point]=xp\n",
    "    yc[point]=sin(xp)\n",
    "    h=xc[2:end]-xc[1:end-1]\n",
    "    d=(yc[2:end]-yc[1:end-1])./h\n",
    "    H=SymTridiagonal(2*(h[1:end-1]+h[2:end]),h[2:end-1])\n",
    "    b1=6*(d[2:end]-d[1:end-1])\n",
    "    s=H\\b1\n",
    "    s=[0;s;0]\n",
    "    b=d-(s[2:end]-s[1:end-1]).*h/6\n",
    "    C=Array{Any}(undef,n)\n",
    "    C=[xx-> \n",
    "    yc[i]-s[i]*h[i]^2/6+b[i]*(xx-xc[i])+s[i]*(xc[i+1]-xx)^3/(6*h[i])+s[i+1]*(xx-xc[i])^3/(6*h[i])\n",
    "        for i=1:n]\n",
    "    for i=1:lsize\n",
    "        for k=1:n\n",
    "            if xx[i]<=xc[k+1]\n",
    "                ySpline[i]=C[k](xx[i])\n",
    "                break\n",
    "            end\n",
    "        end\n",
    "    end\n",
    "    \n",
    "    # Polinom\n",
    "    A=Vandermonde(xc)\n",
    "    p=Poly(A\\yc)\n",
    "    yPoly=polyval(p,xx)\n",
    "    \n",
    "    scatter(xc,yc)\n",
    "    plot!(xx,[ySpline yPoly])\n",
    "end"
   ]
  }
 ],
 "metadata": {
  "@webio": {
   "lastCommId": null,
   "lastKernelId": null
  },
  "kernelspec": {
   "display_name": "Julia 1.1.0",
   "language": "julia",
   "name": "julia-1.1"
  },
  "language_info": {
   "file_extension": ".jl",
   "mimetype": "application/julia",
   "name": "julia",
   "version": "1.1.0"
  }
 },
 "nbformat": 4,
 "nbformat_minor": 1
}
