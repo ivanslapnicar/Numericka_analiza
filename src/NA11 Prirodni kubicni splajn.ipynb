{
 "cells": [
  {
   "cell_type": "markdown",
   "metadata": {},
   "source": [
    "# Prirodni kubični splajn\n",
    "\n",
    "\n",
    "Neka je zadana funkcija $f(x)$ na intervalu $[a,b]$.\n",
    "\n",
    "Odaberimo $n+1$ točku \n",
    "\n",
    "$$\n",
    "a\\equiv x_0<x_1<x_2<\\cdots <x_n\\equiv b\n",
    "$$ \n",
    "\n",
    "i izračunajmo vrijednosti \n",
    "\n",
    "$$\n",
    "y_i=f(x_i), \\quad i=0,1,\\ldots,n.\n",
    "$$\n",
    " \n",
    "Na intervalu $[x_{i-1},x_i]$ funkciju $f$ aproksimiramo kubičnim polinomom $C_i$,\n",
    "tako da je na intervalu $[a,b]$ funkcija $f$ aproksimirana funkcijom \n",
    "\n",
    "$$\n",
    "C(x)=C_i(x), \\quad x\\in[x_{i-1},x_i]\n",
    "$$\n",
    "\n",
    "Od funkcije $C(x)$ tražimo \n",
    "\n",
    "* _neprekidnost_,\n",
    "* _neprekidnost prve derivacije_ i\n",
    "* _neprekidnost druge derivacije_.\n",
    "\n",
    "Dakle,\n",
    "\n",
    "\\begin{align*}\n",
    "C_i(x_{i-1})&=y_{i-1}, \\quad i=1,\\ldots,n, \\\\\n",
    "C_i(x_{i})&=y_{i} \\quad i=1,\\ldots, n,\\\\\n",
    "C'_i(x_i)&=C'_{i+1}(x_i), \\quad i=1,\\ldots,n-1, \\\\\n",
    "C'_i(x_i)&=C'_{i+1}(x_i), \\quad i=1,\\ldots,n-1,\n",
    "\\end{align*}\n",
    "\n",
    "pa imamo sustav od $4n-2$ jednadžbe i $4n$ nepoznanica (svaki od $n$ polinoma ima 4 koeficijenta).\n",
    "\n",
    "Vrijede sljedeće tvrdnje:\n",
    "\n",
    "$$\n",
    "C_i(x)=y_{i-1}-s_{i-1}\\frac{h_i^2}{6}+b_i(x-x_{i-1})+\\frac{s_{i-1}}{6h_i}(x_i-x)^3\n",
    "+\\frac{s_i}{6h_i}(x-x_{i-1})^3,\n",
    "$$\n",
    "\n",
    "gdje je \n",
    "\n",
    "\\begin{align*}\n",
    "b_i&=d_i-(s_i-s_{i-1})\\frac{h_i}{6},\\\\\n",
    "d_i&=\\frac{y_i-y_{i-1}}{h_i},\\\\\n",
    "h_i&=x_i-x_{i-1},\n",
    "\\end{align*}\n",
    "\n",
    "a brojevi $s_i$, $i=0,1,\\ldots,n$, zadovoljavaju sustav jednadžbi \n",
    "\n",
    "$$\n",
    "s_{i-1}h_i+2s_i(h_i+h_{i+1})+s_{i+1}h_{i+1}=6(d_{i+1}-d_i),\\quad i=1,\\ldots,n-1.\n",
    "$$\n",
    "\n",
    "Ako zadamo $s_0$ i $s_n$, sustav će imati jedinstveno rješenje. \n",
    "\n",
    "Najčešće sz zadani _prirodni uvjeti_:\n",
    "$$\n",
    "s_0=0, \\quad s_n=0.\n",
    "$$ \n",
    "\n",
    "U tom slučaju, $s_1,\\ldots,s_{n-1}$ su rješenja sustava\n",
    "\n",
    "$$\n",
    "\\begin{bmatrix} 2(h_1+h_2) & h_2 & 0 & \\cdots & 0 & 0 \\\\\n",
    "h_2 & 2(h_2+h_3) & h_3 & \\cdots & 0 & 0 \\\\\n",
    "0 & h_3 & 2(h_3+h_4) & \\cdots & 0 & 0 \\\\\n",
    "\\vdots & \\vdots & \\vdots & \\ddots & \\vdots & \\vdots \\\\\n",
    "0 & 0 & 0 & \\cdots & 2(h_{n-2}+h_{n-1}) & h_{n-1} \\\\\n",
    "0 & 0 & 0 & \\cdots & h_{n-1}  & 2(h_{n-1}+h_{n})\\\\\n",
    "\\end{bmatrix}\n",
    "\\begin{bmatrix}\n",
    "s_1\\\\ s_2 \\\\ s_3 \\\\ \\vdots \\\\ s_{n-2} \\\\ s_{n-1}\n",
    "\\end{bmatrix}\n",
    "=\n",
    "\\begin{bmatrix}\n",
    "6(d_2-d_1)\\\\\n",
    "6(d_3-d_2)\\\\\n",
    "6(d_4-d_3) \\\\\n",
    "\\vdots \\\\\n",
    "6(d_{n-1}-d_{n-2}\\\\\n",
    "6(d_n-d_{n-1})\n",
    "\\end{bmatrix}.\n",
    "$$\n",
    "\n",
    "Dokaz se nalazi u udžbeniku [Numerička matematika, str. 29][RS04].\n",
    "\n",
    "[RS04]: http://www.mathos.unios.hr/pim/Materijali/Num.pdf \"R. Scitovski, 'Numerička matematika', Sveučilište u Osijeku, Osijek, 2004.\"\n",
    "\n",
    "Matrica sustava je _tridijagonalna_ i _pozitivno definitna_ pa se sustav može riješiti metodom Choleskog (bez pivotiranja) u $O(n)$ operacija. \n",
    "\n",
    "\n",
    "\n",
    "Vrijede _ocjene pogreške_:\n",
    "\n",
    "\\begin{align*}\n",
    "\\max |f(x)-C(x)| &\\leq \\frac{5}{384} \\max h_i^4 \\\\\n",
    "\\max |f'(x)-C'(x)| &\\leq \\frac{1}{24} \\max h_i^3 \\\\\n",
    "\\max |f''(x)-C''(x)| &\\leq \\frac{3}{8} \\max h_i^2. \n",
    "\\end{align*}\n",
    "\n",
    "Ocjene se mogu promatrati i na svakom intervalu posebno."
   ]
  },
  {
   "cell_type": "markdown",
   "metadata": {},
   "source": [
    "## Primjer - Interpolacija slučajnih točaka"
   ]
  },
  {
   "cell_type": "code",
   "execution_count": 2,
   "metadata": {},
   "outputs": [
    {
     "data": {
      "text/plain": [
       "Matrix (generic function with 1 method)"
      ]
     },
     "execution_count": 2,
     "metadata": {},
     "output_type": "execute_result"
    }
   ],
   "source": [
    "using Polynomials\n",
    "using Plots\n",
    "include(\"Vandermonde.jl\")"
   ]
  },
  {
   "cell_type": "code",
   "execution_count": 3,
   "metadata": {},
   "outputs": [
    {
     "data": {
      "text/plain": [
       "4×4 SymTridiagonal{Float64,Array{Float64,1}}:\n",
       " 0.698622  0.267102    ⋅          ⋅      \n",
       " 0.267102  0.557011   0.0114039   ⋅      \n",
       "  ⋅        0.0114039  0.211786   0.094489\n",
       "  ⋅         ⋅         0.094489   0.533113"
      ]
     },
     "execution_count": 3,
     "metadata": {},
     "output_type": "execute_result"
    }
   ],
   "source": [
    "# Broj intervala\n",
    "using Random, LinearAlgebra\n",
    "Random.seed!(123)\n",
    "n=5\n",
    "x=sort(rand(n+1))\n",
    "y=rand(n+1)\n",
    "h=x[2:end]-x[1:end-1]\n",
    "d=(y[2:end]-y[1:end-1])./h\n",
    "H=SymTridiagonal(2*(h[1:end-1]+h[2:end]),h[2:end-1])"
   ]
  },
  {
   "cell_type": "code",
   "execution_count": 4,
   "metadata": {},
   "outputs": [
    {
     "data": {
      "text/plain": [
       "6-element Array{Float64,1}:\n",
       "    0.0             \n",
       "  155.9339732397957 \n",
       " -243.76386679866204\n",
       "  456.4451554182228 \n",
       "  -67.19294096640769\n",
       "    0.0             "
      ]
     },
     "execution_count": 4,
     "metadata": {},
     "output_type": "execute_result"
    }
   ],
   "source": [
    "b1=6*(d[2:end]-d[1:end-1])\n",
    "s=H\\b1\n",
    "s=[0;s;0]"
   ]
  },
  {
   "cell_type": "code",
   "execution_count": 5,
   "metadata": {},
   "outputs": [
    {
     "data": {
      "text/plain": [
       "5-element Array{getfield(Main, Symbol(\"##4#6\")){Int64},1}:\n",
       " getfield(Main, Symbol(\"##4#6\")){Int64}(1)\n",
       " getfield(Main, Symbol(\"##4#6\")){Int64}(2)\n",
       " getfield(Main, Symbol(\"##4#6\")){Int64}(3)\n",
       " getfield(Main, Symbol(\"##4#6\")){Int64}(4)\n",
       " getfield(Main, Symbol(\"##4#6\")){Int64}(5)"
      ]
     },
     "execution_count": 5,
     "metadata": {},
     "output_type": "execute_result"
    }
   ],
   "source": [
    "# Definirajmo polinome\n",
    "b=d-(s[2:end]-s[1:end-1]).*h/6\n",
    "C=Array{Any}(undef,n)\n",
    "C=[xx -> \n",
    "    y[i]-s[i]*h[i]^2/6+b[i]*(xx-x[i])+s[i]*(x[i+1]-xx)^3/(6*h[i])+s[i+1]*(xx-x[i])^3/(6*h[i]) \n",
    "    for i=1:n]"
   ]
  },
  {
   "cell_type": "code",
   "execution_count": 6,
   "metadata": {},
   "outputs": [],
   "source": [
    "# Definirajmo točke za crtanje\n",
    "lsize=200\n",
    "xx=range(x[1],x[end],length=lsize)\n",
    "ySpline=Array{Float64}(undef,lsize)\n",
    "for i=1:lsize\n",
    "    for k=1:n\n",
    "        if xx[i]<=x[k+1]\n",
    "            ySpline[i]=C[k](xx[i])\n",
    "            break\n",
    "        end\n",
    "    end\n",
    "end"
   ]
  },
  {
   "cell_type": "code",
   "execution_count": 7,
   "metadata": {},
   "outputs": [
    {
     "data": {
      "image/svg+xml": [
       "<?xml version=\"1.0\" encoding=\"utf-8\"?>\n",
       "<svg xmlns=\"http://www.w3.org/2000/svg\" xmlns:xlink=\"http://www.w3.org/1999/xlink\" width=\"600\" height=\"400\" viewBox=\"0 0 2400 1600\">\n",
       "<defs>\n",
       "  <clipPath id=\"clip8100\">\n",
       "    <rect x=\"0\" y=\"0\" width=\"2400\" height=\"1600\"/>\n",
       "  </clipPath>\n",
       "</defs>\n",
       "<polygon clip-path=\"url(#clip8100)\" points=\"\n",
       "0,1600 2400,1600 2400,0 0,0 \n",
       "  \" fill=\"#ffffff\" fill-rule=\"evenodd\" fill-opacity=\"1\"/>\n",
       "<defs>\n",
       "  <clipPath id=\"clip8101\">\n",
       "    <rect x=\"480\" y=\"0\" width=\"1681\" height=\"1600\"/>\n",
       "  </clipPath>\n",
       "</defs>\n",
       "<polygon clip-path=\"url(#clip8100)\" points=\"\n",
       "161.394,1503.47 2321.26,1503.47 2321.26,47.2441 161.394,47.2441 \n",
       "  \" fill=\"#ffffff\" fill-rule=\"evenodd\" fill-opacity=\"1\"/>\n",
       "<defs>\n",
       "  <clipPath id=\"clip8102\">\n",
       "    <rect x=\"161\" y=\"47\" width=\"2161\" height=\"1457\"/>\n",
       "  </clipPath>\n",
       "</defs>\n",
       "<polyline clip-path=\"url(#clip8102)\" style=\"stroke:#000000; stroke-width:2; stroke-opacity:0.1; fill:none\" points=\"\n",
       "  179.501,1503.47 179.501,47.2441 \n",
       "  \"/>\n",
       "<polyline clip-path=\"url(#clip8102)\" style=\"stroke:#000000; stroke-width:2; stroke-opacity:0.1; fill:none\" points=\"\n",
       "  504.338,1503.47 504.338,47.2441 \n",
       "  \"/>\n",
       "<polyline clip-path=\"url(#clip8102)\" style=\"stroke:#000000; stroke-width:2; stroke-opacity:0.1; fill:none\" points=\"\n",
       "  829.175,1503.47 829.175,47.2441 \n",
       "  \"/>\n",
       "<polyline clip-path=\"url(#clip8102)\" style=\"stroke:#000000; stroke-width:2; stroke-opacity:0.1; fill:none\" points=\"\n",
       "  1154.01,1503.47 1154.01,47.2441 \n",
       "  \"/>\n",
       "<polyline clip-path=\"url(#clip8102)\" style=\"stroke:#000000; stroke-width:2; stroke-opacity:0.1; fill:none\" points=\"\n",
       "  1478.85,1503.47 1478.85,47.2441 \n",
       "  \"/>\n",
       "<polyline clip-path=\"url(#clip8102)\" style=\"stroke:#000000; stroke-width:2; stroke-opacity:0.1; fill:none\" points=\"\n",
       "  1803.69,1503.47 1803.69,47.2441 \n",
       "  \"/>\n",
       "<polyline clip-path=\"url(#clip8102)\" style=\"stroke:#000000; stroke-width:2; stroke-opacity:0.1; fill:none\" points=\"\n",
       "  2128.52,1503.47 2128.52,47.2441 \n",
       "  \"/>\n",
       "<polyline clip-path=\"url(#clip8102)\" style=\"stroke:#000000; stroke-width:2; stroke-opacity:0.1; fill:none\" points=\"\n",
       "  161.394,1302.09 2321.26,1302.09 \n",
       "  \"/>\n",
       "<polyline clip-path=\"url(#clip8102)\" style=\"stroke:#000000; stroke-width:2; stroke-opacity:0.1; fill:none\" points=\"\n",
       "  161.394,971.659 2321.26,971.659 \n",
       "  \"/>\n",
       "<polyline clip-path=\"url(#clip8102)\" style=\"stroke:#000000; stroke-width:2; stroke-opacity:0.1; fill:none\" points=\"\n",
       "  161.394,641.234 2321.26,641.234 \n",
       "  \"/>\n",
       "<polyline clip-path=\"url(#clip8102)\" style=\"stroke:#000000; stroke-width:2; stroke-opacity:0.1; fill:none\" points=\"\n",
       "  161.394,310.808 2321.26,310.808 \n",
       "  \"/>\n",
       "<polyline clip-path=\"url(#clip8100)\" style=\"stroke:#000000; stroke-width:4; stroke-opacity:1; fill:none\" points=\"\n",
       "  161.394,1503.47 2321.26,1503.47 \n",
       "  \"/>\n",
       "<polyline clip-path=\"url(#clip8100)\" style=\"stroke:#000000; stroke-width:4; stroke-opacity:1; fill:none\" points=\"\n",
       "  161.394,1503.47 161.394,47.2441 \n",
       "  \"/>\n",
       "<polyline clip-path=\"url(#clip8100)\" style=\"stroke:#000000; stroke-width:4; stroke-opacity:1; fill:none\" points=\"\n",
       "  179.501,1503.47 179.501,1481.63 \n",
       "  \"/>\n",
       "<polyline clip-path=\"url(#clip8100)\" style=\"stroke:#000000; stroke-width:4; stroke-opacity:1; fill:none\" points=\"\n",
       "  504.338,1503.47 504.338,1481.63 \n",
       "  \"/>\n",
       "<polyline clip-path=\"url(#clip8100)\" style=\"stroke:#000000; stroke-width:4; stroke-opacity:1; fill:none\" points=\"\n",
       "  829.175,1503.47 829.175,1481.63 \n",
       "  \"/>\n",
       "<polyline clip-path=\"url(#clip8100)\" style=\"stroke:#000000; stroke-width:4; stroke-opacity:1; fill:none\" points=\"\n",
       "  1154.01,1503.47 1154.01,1481.63 \n",
       "  \"/>\n",
       "<polyline clip-path=\"url(#clip8100)\" style=\"stroke:#000000; stroke-width:4; stroke-opacity:1; fill:none\" points=\"\n",
       "  1478.85,1503.47 1478.85,1481.63 \n",
       "  \"/>\n",
       "<polyline clip-path=\"url(#clip8100)\" style=\"stroke:#000000; stroke-width:4; stroke-opacity:1; fill:none\" points=\"\n",
       "  1803.69,1503.47 1803.69,1481.63 \n",
       "  \"/>\n",
       "<polyline clip-path=\"url(#clip8100)\" style=\"stroke:#000000; stroke-width:4; stroke-opacity:1; fill:none\" points=\"\n",
       "  2128.52,1503.47 2128.52,1481.63 \n",
       "  \"/>\n",
       "<polyline clip-path=\"url(#clip8100)\" style=\"stroke:#000000; stroke-width:4; stroke-opacity:1; fill:none\" points=\"\n",
       "  161.394,1302.09 193.792,1302.09 \n",
       "  \"/>\n",
       "<polyline clip-path=\"url(#clip8100)\" style=\"stroke:#000000; stroke-width:4; stroke-opacity:1; fill:none\" points=\"\n",
       "  161.394,971.659 193.792,971.659 \n",
       "  \"/>\n",
       "<polyline clip-path=\"url(#clip8100)\" style=\"stroke:#000000; stroke-width:4; stroke-opacity:1; fill:none\" points=\"\n",
       "  161.394,641.234 193.792,641.234 \n",
       "  \"/>\n",
       "<polyline clip-path=\"url(#clip8100)\" style=\"stroke:#000000; stroke-width:4; stroke-opacity:1; fill:none\" points=\"\n",
       "  161.394,310.808 193.792,310.808 \n",
       "  \"/>\n",
       "<g clip-path=\"url(#clip8100)\">\n",
       "<text style=\"fill:#000000; fill-opacity:1; font-family:Arial,Helvetica Neue,Helvetica,sans-serif; font-size:48px; text-anchor:middle;\" transform=\"rotate(0, 179.501, 1557.47)\" x=\"179.501\" y=\"1557.47\">0.3</text>\n",
       "</g>\n",
       "<g clip-path=\"url(#clip8100)\">\n",
       "<text style=\"fill:#000000; fill-opacity:1; font-family:Arial,Helvetica Neue,Helvetica,sans-serif; font-size:48px; text-anchor:middle;\" transform=\"rotate(0, 504.338, 1557.47)\" x=\"504.338\" y=\"1557.47\">0.4</text>\n",
       "</g>\n",
       "<g clip-path=\"url(#clip8100)\">\n",
       "<text style=\"fill:#000000; fill-opacity:1; font-family:Arial,Helvetica Neue,Helvetica,sans-serif; font-size:48px; text-anchor:middle;\" transform=\"rotate(0, 829.175, 1557.47)\" x=\"829.175\" y=\"1557.47\">0.5</text>\n",
       "</g>\n",
       "<g clip-path=\"url(#clip8100)\">\n",
       "<text style=\"fill:#000000; fill-opacity:1; font-family:Arial,Helvetica Neue,Helvetica,sans-serif; font-size:48px; text-anchor:middle;\" transform=\"rotate(0, 1154.01, 1557.47)\" x=\"1154.01\" y=\"1557.47\">0.6</text>\n",
       "</g>\n",
       "<g clip-path=\"url(#clip8100)\">\n",
       "<text style=\"fill:#000000; fill-opacity:1; font-family:Arial,Helvetica Neue,Helvetica,sans-serif; font-size:48px; text-anchor:middle;\" transform=\"rotate(0, 1478.85, 1557.47)\" x=\"1478.85\" y=\"1557.47\">0.7</text>\n",
       "</g>\n",
       "<g clip-path=\"url(#clip8100)\">\n",
       "<text style=\"fill:#000000; fill-opacity:1; font-family:Arial,Helvetica Neue,Helvetica,sans-serif; font-size:48px; text-anchor:middle;\" transform=\"rotate(0, 1803.69, 1557.47)\" x=\"1803.69\" y=\"1557.47\">0.8</text>\n",
       "</g>\n",
       "<g clip-path=\"url(#clip8100)\">\n",
       "<text style=\"fill:#000000; fill-opacity:1; font-family:Arial,Helvetica Neue,Helvetica,sans-serif; font-size:48px; text-anchor:middle;\" transform=\"rotate(0, 2128.52, 1557.47)\" x=\"2128.52\" y=\"1557.47\">0.9</text>\n",
       "</g>\n",
       "<g clip-path=\"url(#clip8100)\">\n",
       "<text style=\"fill:#000000; fill-opacity:1; font-family:Arial,Helvetica Neue,Helvetica,sans-serif; font-size:48px; text-anchor:end;\" transform=\"rotate(0, 137.394, 1319.59)\" x=\"137.394\" y=\"1319.59\">0.0</text>\n",
       "</g>\n",
       "<g clip-path=\"url(#clip8100)\">\n",
       "<text style=\"fill:#000000; fill-opacity:1; font-family:Arial,Helvetica Neue,Helvetica,sans-serif; font-size:48px; text-anchor:end;\" transform=\"rotate(0, 137.394, 989.159)\" x=\"137.394\" y=\"989.159\">0.2</text>\n",
       "</g>\n",
       "<g clip-path=\"url(#clip8100)\">\n",
       "<text style=\"fill:#000000; fill-opacity:1; font-family:Arial,Helvetica Neue,Helvetica,sans-serif; font-size:48px; text-anchor:end;\" transform=\"rotate(0, 137.394, 658.734)\" x=\"137.394\" y=\"658.734\">0.4</text>\n",
       "</g>\n",
       "<g clip-path=\"url(#clip8100)\">\n",
       "<text style=\"fill:#000000; fill-opacity:1; font-family:Arial,Helvetica Neue,Helvetica,sans-serif; font-size:48px; text-anchor:end;\" transform=\"rotate(0, 137.394, 328.308)\" x=\"137.394\" y=\"328.308\">0.6</text>\n",
       "</g>\n",
       "<circle clip-path=\"url(#clip8102)\" style=\"fill:#000000; stroke:none; fill-opacity:1\" cx=\"222.522\" cy=\"333.901\" r=\"18\"/>\n",
       "<circle clip-path=\"url(#clip8102)\" style=\"fill:#009af9; stroke:none; fill-opacity:1\" cx=\"222.522\" cy=\"333.901\" r=\"14\"/>\n",
       "<circle clip-path=\"url(#clip8102)\" style=\"fill:#000000; stroke:none; fill-opacity:1\" cx=\"489.568\" cy=\"1215.95\" r=\"18\"/>\n",
       "<circle clip-path=\"url(#clip8102)\" style=\"fill:#009af9; stroke:none; fill-opacity:1\" cx=\"489.568\" cy=\"1215.95\" r=\"14\"/>\n",
       "<circle clip-path=\"url(#clip8102)\" style=\"fill:#000000; stroke:none; fill-opacity:1\" cx=\"1357.21\" cy=\"858.258\" r=\"18\"/>\n",
       "<circle clip-path=\"url(#clip8102)\" style=\"fill:#009af9; stroke:none; fill-opacity:1\" cx=\"1357.21\" cy=\"858.258\" r=\"14\"/>\n",
       "<circle clip-path=\"url(#clip8102)\" style=\"fill:#000000; stroke:none; fill-opacity:1\" cx=\"1394.26\" cy=\"1122.22\" r=\"18\"/>\n",
       "<circle clip-path=\"url(#clip8102)\" style=\"fill:#009af9; stroke:none; fill-opacity:1\" cx=\"1394.26\" cy=\"1122.22\" r=\"14\"/>\n",
       "<circle clip-path=\"url(#clip8102)\" style=\"fill:#000000; stroke:none; fill-opacity:1\" cx=\"1701.19\" cy=\"1031.69\" r=\"18\"/>\n",
       "<circle clip-path=\"url(#clip8102)\" style=\"fill:#009af9; stroke:none; fill-opacity:1\" cx=\"1701.19\" cy=\"1031.69\" r=\"14\"/>\n",
       "<circle clip-path=\"url(#clip8102)\" style=\"fill:#000000; stroke:none; fill-opacity:1\" cx=\"2260.13\" cy=\"520.601\" r=\"18\"/>\n",
       "<circle clip-path=\"url(#clip8102)\" style=\"fill:#009af9; stroke:none; fill-opacity:1\" cx=\"2260.13\" cy=\"520.601\" r=\"14\"/>\n",
       "<polyline clip-path=\"url(#clip8102)\" style=\"stroke:#e26f46; stroke-width:4; stroke-opacity:1; fill:none\" points=\"\n",
       "  222.522,333.901 232.762,378.832 243.001,423.664 253.24,468.3 263.479,512.641 273.719,556.59 283.958,600.048 294.197,642.917 304.436,685.1 314.675,726.497 \n",
       "  324.915,767.01 335.154,806.543 345.393,844.995 355.632,882.27 365.872,918.269 376.111,952.894 386.35,986.047 396.589,1017.63 406.829,1047.54 417.068,1075.69 \n",
       "  427.307,1101.97 437.546,1126.29 447.786,1148.55 458.025,1168.65 468.264,1186.49 478.503,1201.98 488.743,1215.01 498.982,1225.52 509.221,1233.53 519.46,1239.14 \n",
       "  529.7,1242.41 539.939,1243.42 550.178,1242.26 560.417,1238.99 570.657,1233.7 580.896,1226.47 591.135,1217.36 601.374,1206.46 611.614,1193.85 621.853,1179.61 \n",
       "  632.092,1163.8 642.331,1146.51 652.57,1127.82 662.81,1107.8 673.049,1086.52 683.288,1064.08 693.527,1040.54 703.767,1015.99 714.006,990.495 724.245,964.138 \n",
       "  734.484,936.996 744.724,909.146 754.963,880.666 765.202,851.633 775.441,822.125 785.681,792.219 795.92,761.992 806.159,731.523 816.398,700.887 826.638,670.164 \n",
       "  836.877,639.43 847.116,608.762 857.355,578.238 867.595,547.936 877.834,517.933 888.073,488.307 898.312,459.134 908.552,430.492 918.791,402.459 929.03,375.112 \n",
       "  939.269,348.529 949.509,322.786 959.748,297.962 969.987,274.134 980.226,251.379 990.466,229.774 1000.7,209.398 1010.94,190.327 1021.18,172.64 1031.42,156.412 \n",
       "  1041.66,141.723 1051.9,128.648 1062.14,117.267 1072.38,107.655 1082.62,99.8909 1092.86,94.0518 1103.1,90.2151 1113.34,88.4582 1123.58,88.8585 1133.81,91.4936 \n",
       "  1144.05,96.4407 1154.29,103.777 1164.53,113.581 1174.77,125.929 1185.01,140.899 1195.25,158.568 1205.49,179.014 1215.73,202.314 1225.97,228.545 1236.21,257.786 \n",
       "  1246.45,290.112 1256.69,325.603 1266.93,364.335 1277.16,406.385 1287.4,451.832 1297.64,500.752 1307.88,553.224 1318.12,609.323 1328.36,669.129 1338.6,732.717 \n",
       "  1348.84,800.167 1359.08,871.551 1369.32,946.061 1379.56,1020.82 1389.8,1092.64 1400.04,1158.46 1410.27,1217 1420.51,1268.49 1430.75,1313.23 1440.99,1351.49 \n",
       "  1451.23,1383.58 1461.47,1409.76 1471.71,1430.33 1481.95,1445.58 1492.19,1455.8 1502.43,1461.26 1512.67,1462.26 1522.91,1459.08 1533.15,1452.02 1543.38,1441.35 \n",
       "  1553.62,1427.36 1563.86,1410.34 1574.1,1390.59 1584.34,1368.37 1594.58,1343.99 1604.82,1317.72 1615.06,1289.86 1625.3,1260.68 1635.54,1230.49 1645.78,1199.56 \n",
       "  1656.02,1168.18 1666.26,1136.64 1676.49,1105.22 1686.73,1074.22 1696.97,1043.91 1707.21,1014.58 1717.45,986.33 1727.69,959.155 1737.93,933.031 1748.17,907.938 \n",
       "  1758.41,883.855 1768.65,860.762 1778.89,838.638 1789.13,817.465 1799.37,797.221 1809.6,777.886 1819.84,759.44 1830.08,741.864 1840.32,725.135 1850.56,709.236 \n",
       "  1860.8,694.144 1871.04,679.841 1881.28,666.305 1891.52,653.517 1901.76,641.456 1912,630.103 1922.24,619.436 1932.48,609.436 1942.72,600.083 1952.95,591.357 \n",
       "  1963.19,583.236 1973.43,575.701 1983.67,568.733 1993.91,562.309 2004.15,556.411 2014.39,551.019 2024.63,546.111 2034.87,541.668 2045.11,537.669 2055.35,534.095 \n",
       "  2065.59,530.925 2075.83,528.139 2086.06,525.716 2096.3,523.637 2106.54,521.881 2116.78,520.429 2127.02,519.259 2137.26,518.352 2147.5,517.687 2157.74,517.245 \n",
       "  2167.98,517.005 2178.22,516.946 2188.46,517.049 2198.7,517.294 2208.94,517.66 2219.17,518.127 2229.41,518.674 2239.65,519.283 2249.89,519.932 2260.13,520.601 \n",
       "  \n",
       "  \"/>\n",
       "<polygon clip-path=\"url(#clip8100)\" points=\"\n",
       "1958.43,312.204 2249.26,312.204 2249.26,130.764 1958.43,130.764 \n",
       "  \" fill=\"#ffffff\" fill-rule=\"evenodd\" fill-opacity=\"1\"/>\n",
       "<polyline clip-path=\"url(#clip8100)\" style=\"stroke:#000000; stroke-width:4; stroke-opacity:1; fill:none\" points=\"\n",
       "  1958.43,312.204 2249.26,312.204 2249.26,130.764 1958.43,130.764 1958.43,312.204 \n",
       "  \"/>\n",
       "<circle clip-path=\"url(#clip8100)\" style=\"fill:#000000; stroke:none; fill-opacity:1\" cx=\"2066.43\" cy=\"191.244\" r=\"25\"/>\n",
       "<circle clip-path=\"url(#clip8100)\" style=\"fill:#009af9; stroke:none; fill-opacity:1\" cx=\"2066.43\" cy=\"191.244\" r=\"21\"/>\n",
       "<g clip-path=\"url(#clip8100)\">\n",
       "<text style=\"fill:#000000; fill-opacity:1; font-family:Arial,Helvetica Neue,Helvetica,sans-serif; font-size:48px; text-anchor:start;\" transform=\"rotate(0, 2150.43, 208.744)\" x=\"2150.43\" y=\"208.744\">y1</text>\n",
       "</g>\n",
       "<polyline clip-path=\"url(#clip8100)\" style=\"stroke:#e26f46; stroke-width:4; stroke-opacity:1; fill:none\" points=\"\n",
       "  1982.43,251.724 2126.43,251.724 \n",
       "  \"/>\n",
       "<g clip-path=\"url(#clip8100)\">\n",
       "<text style=\"fill:#000000; fill-opacity:1; font-family:Arial,Helvetica Neue,Helvetica,sans-serif; font-size:48px; text-anchor:start;\" transform=\"rotate(0, 2150.43, 269.224)\" x=\"2150.43\" y=\"269.224\">y2</text>\n",
       "</g>\n",
       "</svg>\n"
      ]
     },
     "execution_count": 7,
     "metadata": {},
     "output_type": "execute_result"
    }
   ],
   "source": [
    "# Crtanje\n",
    "scatter(x,y)\n",
    "plot!(xx,ySpline)"
   ]
  },
  {
   "cell_type": "markdown",
   "metadata": {},
   "source": [
    "Usporedimo splajn s interpolacijskim polinomom:"
   ]
  },
  {
   "cell_type": "code",
   "execution_count": 8,
   "metadata": {},
   "outputs": [
    {
     "data": {
      "image/svg+xml": [
       "<?xml version=\"1.0\" encoding=\"utf-8\"?>\n",
       "<svg xmlns=\"http://www.w3.org/2000/svg\" xmlns:xlink=\"http://www.w3.org/1999/xlink\" width=\"600\" height=\"400\" viewBox=\"0 0 2400 1600\">\n",
       "<defs>\n",
       "  <clipPath id=\"clip8500\">\n",
       "    <rect x=\"0\" y=\"0\" width=\"2400\" height=\"1600\"/>\n",
       "  </clipPath>\n",
       "</defs>\n",
       "<polygon clip-path=\"url(#clip8500)\" points=\"\n",
       "0,1600 2400,1600 2400,0 0,0 \n",
       "  \" fill=\"#ffffff\" fill-rule=\"evenodd\" fill-opacity=\"1\"/>\n",
       "<defs>\n",
       "  <clipPath id=\"clip8501\">\n",
       "    <rect x=\"480\" y=\"0\" width=\"1681\" height=\"1600\"/>\n",
       "  </clipPath>\n",
       "</defs>\n",
       "<polygon clip-path=\"url(#clip8500)\" points=\"\n",
       "189.504,1503.47 2321.26,1503.47 2321.26,47.2441 189.504,47.2441 \n",
       "  \" fill=\"#ffffff\" fill-rule=\"evenodd\" fill-opacity=\"1\"/>\n",
       "<defs>\n",
       "  <clipPath id=\"clip8502\">\n",
       "    <rect x=\"189\" y=\"47\" width=\"2133\" height=\"1457\"/>\n",
       "  </clipPath>\n",
       "</defs>\n",
       "<polyline clip-path=\"url(#clip8502)\" style=\"stroke:#000000; stroke-width:2; stroke-opacity:0.1; fill:none\" points=\"\n",
       "  207.375,1503.47 207.375,47.2441 \n",
       "  \"/>\n",
       "<polyline clip-path=\"url(#clip8502)\" style=\"stroke:#000000; stroke-width:2; stroke-opacity:0.1; fill:none\" points=\"\n",
       "  527.985,1503.47 527.985,47.2441 \n",
       "  \"/>\n",
       "<polyline clip-path=\"url(#clip8502)\" style=\"stroke:#000000; stroke-width:2; stroke-opacity:0.1; fill:none\" points=\"\n",
       "  848.594,1503.47 848.594,47.2441 \n",
       "  \"/>\n",
       "<polyline clip-path=\"url(#clip8502)\" style=\"stroke:#000000; stroke-width:2; stroke-opacity:0.1; fill:none\" points=\"\n",
       "  1169.2,1503.47 1169.2,47.2441 \n",
       "  \"/>\n",
       "<polyline clip-path=\"url(#clip8502)\" style=\"stroke:#000000; stroke-width:2; stroke-opacity:0.1; fill:none\" points=\"\n",
       "  1489.81,1503.47 1489.81,47.2441 \n",
       "  \"/>\n",
       "<polyline clip-path=\"url(#clip8502)\" style=\"stroke:#000000; stroke-width:2; stroke-opacity:0.1; fill:none\" points=\"\n",
       "  1810.42,1503.47 1810.42,47.2441 \n",
       "  \"/>\n",
       "<polyline clip-path=\"url(#clip8502)\" style=\"stroke:#000000; stroke-width:2; stroke-opacity:0.1; fill:none\" points=\"\n",
       "  2131.03,1503.47 2131.03,47.2441 \n",
       "  \"/>\n",
       "<polyline clip-path=\"url(#clip8502)\" style=\"stroke:#000000; stroke-width:2; stroke-opacity:0.1; fill:none\" points=\"\n",
       "  189.504,1482.53 2321.26,1482.53 \n",
       "  \"/>\n",
       "<polyline clip-path=\"url(#clip8502)\" style=\"stroke:#000000; stroke-width:2; stroke-opacity:0.1; fill:none\" points=\"\n",
       "  189.504,1238.34 2321.26,1238.34 \n",
       "  \"/>\n",
       "<polyline clip-path=\"url(#clip8502)\" style=\"stroke:#000000; stroke-width:2; stroke-opacity:0.1; fill:none\" points=\"\n",
       "  189.504,994.148 2321.26,994.148 \n",
       "  \"/>\n",
       "<polyline clip-path=\"url(#clip8502)\" style=\"stroke:#000000; stroke-width:2; stroke-opacity:0.1; fill:none\" points=\"\n",
       "  189.504,749.956 2321.26,749.956 \n",
       "  \"/>\n",
       "<polyline clip-path=\"url(#clip8502)\" style=\"stroke:#000000; stroke-width:2; stroke-opacity:0.1; fill:none\" points=\"\n",
       "  189.504,505.764 2321.26,505.764 \n",
       "  \"/>\n",
       "<polyline clip-path=\"url(#clip8502)\" style=\"stroke:#000000; stroke-width:2; stroke-opacity:0.1; fill:none\" points=\"\n",
       "  189.504,261.572 2321.26,261.572 \n",
       "  \"/>\n",
       "<polyline clip-path=\"url(#clip8500)\" style=\"stroke:#000000; stroke-width:4; stroke-opacity:1; fill:none\" points=\"\n",
       "  189.504,1503.47 2321.26,1503.47 \n",
       "  \"/>\n",
       "<polyline clip-path=\"url(#clip8500)\" style=\"stroke:#000000; stroke-width:4; stroke-opacity:1; fill:none\" points=\"\n",
       "  189.504,1503.47 189.504,47.2441 \n",
       "  \"/>\n",
       "<polyline clip-path=\"url(#clip8500)\" style=\"stroke:#000000; stroke-width:4; stroke-opacity:1; fill:none\" points=\"\n",
       "  207.375,1503.47 207.375,1481.63 \n",
       "  \"/>\n",
       "<polyline clip-path=\"url(#clip8500)\" style=\"stroke:#000000; stroke-width:4; stroke-opacity:1; fill:none\" points=\"\n",
       "  527.985,1503.47 527.985,1481.63 \n",
       "  \"/>\n",
       "<polyline clip-path=\"url(#clip8500)\" style=\"stroke:#000000; stroke-width:4; stroke-opacity:1; fill:none\" points=\"\n",
       "  848.594,1503.47 848.594,1481.63 \n",
       "  \"/>\n",
       "<polyline clip-path=\"url(#clip8500)\" style=\"stroke:#000000; stroke-width:4; stroke-opacity:1; fill:none\" points=\"\n",
       "  1169.2,1503.47 1169.2,1481.63 \n",
       "  \"/>\n",
       "<polyline clip-path=\"url(#clip8500)\" style=\"stroke:#000000; stroke-width:4; stroke-opacity:1; fill:none\" points=\"\n",
       "  1489.81,1503.47 1489.81,1481.63 \n",
       "  \"/>\n",
       "<polyline clip-path=\"url(#clip8500)\" style=\"stroke:#000000; stroke-width:4; stroke-opacity:1; fill:none\" points=\"\n",
       "  1810.42,1503.47 1810.42,1481.63 \n",
       "  \"/>\n",
       "<polyline clip-path=\"url(#clip8500)\" style=\"stroke:#000000; stroke-width:4; stroke-opacity:1; fill:none\" points=\"\n",
       "  2131.03,1503.47 2131.03,1481.63 \n",
       "  \"/>\n",
       "<polyline clip-path=\"url(#clip8500)\" style=\"stroke:#000000; stroke-width:4; stroke-opacity:1; fill:none\" points=\"\n",
       "  189.504,1482.53 221.48,1482.53 \n",
       "  \"/>\n",
       "<polyline clip-path=\"url(#clip8500)\" style=\"stroke:#000000; stroke-width:4; stroke-opacity:1; fill:none\" points=\"\n",
       "  189.504,1238.34 221.48,1238.34 \n",
       "  \"/>\n",
       "<polyline clip-path=\"url(#clip8500)\" style=\"stroke:#000000; stroke-width:4; stroke-opacity:1; fill:none\" points=\"\n",
       "  189.504,994.148 221.48,994.148 \n",
       "  \"/>\n",
       "<polyline clip-path=\"url(#clip8500)\" style=\"stroke:#000000; stroke-width:4; stroke-opacity:1; fill:none\" points=\"\n",
       "  189.504,749.956 221.48,749.956 \n",
       "  \"/>\n",
       "<polyline clip-path=\"url(#clip8500)\" style=\"stroke:#000000; stroke-width:4; stroke-opacity:1; fill:none\" points=\"\n",
       "  189.504,505.764 221.48,505.764 \n",
       "  \"/>\n",
       "<polyline clip-path=\"url(#clip8500)\" style=\"stroke:#000000; stroke-width:4; stroke-opacity:1; fill:none\" points=\"\n",
       "  189.504,261.572 221.48,261.572 \n",
       "  \"/>\n",
       "<g clip-path=\"url(#clip8500)\">\n",
       "<text style=\"fill:#000000; fill-opacity:1; font-family:Arial,Helvetica Neue,Helvetica,sans-serif; font-size:48px; text-anchor:middle;\" transform=\"rotate(0, 207.375, 1557.47)\" x=\"207.375\" y=\"1557.47\">0.3</text>\n",
       "</g>\n",
       "<g clip-path=\"url(#clip8500)\">\n",
       "<text style=\"fill:#000000; fill-opacity:1; font-family:Arial,Helvetica Neue,Helvetica,sans-serif; font-size:48px; text-anchor:middle;\" transform=\"rotate(0, 527.985, 1557.47)\" x=\"527.985\" y=\"1557.47\">0.4</text>\n",
       "</g>\n",
       "<g clip-path=\"url(#clip8500)\">\n",
       "<text style=\"fill:#000000; fill-opacity:1; font-family:Arial,Helvetica Neue,Helvetica,sans-serif; font-size:48px; text-anchor:middle;\" transform=\"rotate(0, 848.594, 1557.47)\" x=\"848.594\" y=\"1557.47\">0.5</text>\n",
       "</g>\n",
       "<g clip-path=\"url(#clip8500)\">\n",
       "<text style=\"fill:#000000; fill-opacity:1; font-family:Arial,Helvetica Neue,Helvetica,sans-serif; font-size:48px; text-anchor:middle;\" transform=\"rotate(0, 1169.2, 1557.47)\" x=\"1169.2\" y=\"1557.47\">0.6</text>\n",
       "</g>\n",
       "<g clip-path=\"url(#clip8500)\">\n",
       "<text style=\"fill:#000000; fill-opacity:1; font-family:Arial,Helvetica Neue,Helvetica,sans-serif; font-size:48px; text-anchor:middle;\" transform=\"rotate(0, 1489.81, 1557.47)\" x=\"1489.81\" y=\"1557.47\">0.7</text>\n",
       "</g>\n",
       "<g clip-path=\"url(#clip8500)\">\n",
       "<text style=\"fill:#000000; fill-opacity:1; font-family:Arial,Helvetica Neue,Helvetica,sans-serif; font-size:48px; text-anchor:middle;\" transform=\"rotate(0, 1810.42, 1557.47)\" x=\"1810.42\" y=\"1557.47\">0.8</text>\n",
       "</g>\n",
       "<g clip-path=\"url(#clip8500)\">\n",
       "<text style=\"fill:#000000; fill-opacity:1; font-family:Arial,Helvetica Neue,Helvetica,sans-serif; font-size:48px; text-anchor:middle;\" transform=\"rotate(0, 2131.03, 1557.47)\" x=\"2131.03\" y=\"1557.47\">0.9</text>\n",
       "</g>\n",
       "<g clip-path=\"url(#clip8500)\">\n",
       "<text style=\"fill:#000000; fill-opacity:1; font-family:Arial,Helvetica Neue,Helvetica,sans-serif; font-size:48px; text-anchor:end;\" transform=\"rotate(0, 165.504, 1500.03)\" x=\"165.504\" y=\"1500.03\">-0.5</text>\n",
       "</g>\n",
       "<g clip-path=\"url(#clip8500)\">\n",
       "<text style=\"fill:#000000; fill-opacity:1; font-family:Arial,Helvetica Neue,Helvetica,sans-serif; font-size:48px; text-anchor:end;\" transform=\"rotate(0, 165.504, 1255.84)\" x=\"165.504\" y=\"1255.84\">0.0</text>\n",
       "</g>\n",
       "<g clip-path=\"url(#clip8500)\">\n",
       "<text style=\"fill:#000000; fill-opacity:1; font-family:Arial,Helvetica Neue,Helvetica,sans-serif; font-size:48px; text-anchor:end;\" transform=\"rotate(0, 165.504, 1011.65)\" x=\"165.504\" y=\"1011.65\">0.5</text>\n",
       "</g>\n",
       "<g clip-path=\"url(#clip8500)\">\n",
       "<text style=\"fill:#000000; fill-opacity:1; font-family:Arial,Helvetica Neue,Helvetica,sans-serif; font-size:48px; text-anchor:end;\" transform=\"rotate(0, 165.504, 767.456)\" x=\"165.504\" y=\"767.456\">1.0</text>\n",
       "</g>\n",
       "<g clip-path=\"url(#clip8500)\">\n",
       "<text style=\"fill:#000000; fill-opacity:1; font-family:Arial,Helvetica Neue,Helvetica,sans-serif; font-size:48px; text-anchor:end;\" transform=\"rotate(0, 165.504, 523.264)\" x=\"165.504\" y=\"523.264\">1.5</text>\n",
       "</g>\n",
       "<g clip-path=\"url(#clip8500)\">\n",
       "<text style=\"fill:#000000; fill-opacity:1; font-family:Arial,Helvetica Neue,Helvetica,sans-serif; font-size:48px; text-anchor:end;\" transform=\"rotate(0, 165.504, 279.072)\" x=\"165.504\" y=\"279.072\">2.0</text>\n",
       "</g>\n",
       "<circle clip-path=\"url(#clip8502)\" style=\"fill:#000000; stroke:none; fill-opacity:1\" cx=\"249.837\" cy=\"952.137\" r=\"18\"/>\n",
       "<circle clip-path=\"url(#clip8502)\" style=\"fill:#009af9; stroke:none; fill-opacity:1\" cx=\"249.837\" cy=\"952.137\" r=\"14\"/>\n",
       "<circle clip-path=\"url(#clip8502)\" style=\"fill:#000000; stroke:none; fill-opacity:1\" cx=\"513.407\" cy=\"1212.88\" r=\"18\"/>\n",
       "<circle clip-path=\"url(#clip8502)\" style=\"fill:#009af9; stroke:none; fill-opacity:1\" cx=\"513.407\" cy=\"1212.88\" r=\"14\"/>\n",
       "<circle clip-path=\"url(#clip8502)\" style=\"fill:#000000; stroke:none; fill-opacity:1\" cx=\"1369.76\" cy=\"1107.14\" r=\"18\"/>\n",
       "<circle clip-path=\"url(#clip8502)\" style=\"fill:#009af9; stroke:none; fill-opacity:1\" cx=\"1369.76\" cy=\"1107.14\" r=\"14\"/>\n",
       "<circle clip-path=\"url(#clip8502)\" style=\"fill:#000000; stroke:none; fill-opacity:1\" cx=\"1406.32\" cy=\"1185.17\" r=\"18\"/>\n",
       "<circle clip-path=\"url(#clip8502)\" style=\"fill:#009af9; stroke:none; fill-opacity:1\" cx=\"1406.32\" cy=\"1185.17\" r=\"14\"/>\n",
       "<circle clip-path=\"url(#clip8502)\" style=\"fill:#000000; stroke:none; fill-opacity:1\" cx=\"1709.26\" cy=\"1158.41\" r=\"18\"/>\n",
       "<circle clip-path=\"url(#clip8502)\" style=\"fill:#009af9; stroke:none; fill-opacity:1\" cx=\"1709.26\" cy=\"1158.41\" r=\"14\"/>\n",
       "<circle clip-path=\"url(#clip8502)\" style=\"fill:#000000; stroke:none; fill-opacity:1\" cx=\"2260.93\" cy=\"1007.33\" r=\"18\"/>\n",
       "<circle clip-path=\"url(#clip8502)\" style=\"fill:#009af9; stroke:none; fill-opacity:1\" cx=\"2260.93\" cy=\"1007.33\" r=\"14\"/>\n",
       "<polyline clip-path=\"url(#clip8502)\" style=\"stroke:#e26f46; stroke-width:4; stroke-opacity:1; fill:none\" points=\"\n",
       "  249.837,952.137 259.943,965.418 270.049,978.671 280.155,991.866 290.261,1004.97 300.367,1017.97 310.473,1030.81 320.579,1043.48 330.685,1055.95 340.791,1068.19 \n",
       "  350.897,1080.17 361.003,1091.85 371.109,1103.22 381.215,1114.24 391.321,1124.88 401.427,1135.12 411.533,1144.92 421.639,1154.25 431.744,1163.1 441.85,1171.42 \n",
       "  451.956,1179.19 462.062,1186.38 472.168,1192.95 482.274,1198.9 492.38,1204.17 502.486,1208.75 512.592,1212.6 522.698,1215.71 532.804,1218.08 542.91,1219.73 \n",
       "  553.016,1220.7 563.122,1221 573.228,1220.66 583.334,1219.69 593.44,1218.13 603.546,1215.99 613.652,1213.3 623.758,1210.07 633.864,1206.35 643.97,1202.13 \n",
       "  654.076,1197.46 664.182,1192.35 674.288,1186.83 684.394,1180.91 694.5,1174.62 704.606,1167.98 714.712,1161.03 724.818,1153.77 734.924,1146.23 745.03,1138.44 \n",
       "  755.136,1130.42 765.242,1122.18 775.348,1113.77 785.454,1105.18 795.56,1096.46 805.666,1087.62 815.772,1078.68 825.878,1069.68 835.984,1060.62 846.09,1051.54 \n",
       "  856.196,1042.45 866.302,1033.39 876.408,1024.36 886.514,1015.41 896.62,1006.54 906.726,997.78 916.832,989.156 926.938,980.69 937.044,972.403 947.15,964.319 \n",
       "  957.256,956.461 967.362,948.851 977.467,941.513 987.573,934.469 997.679,927.742 1007.79,921.356 1017.89,915.332 1028,909.695 1038.1,904.466 1048.21,899.669 \n",
       "  1058.32,895.327 1068.42,891.462 1078.53,888.097 1088.63,885.256 1098.74,882.961 1108.85,881.235 1118.95,880.101 1129.06,879.581 1139.16,879.7 1149.27,880.479 \n",
       "  1159.38,881.941 1169.48,884.11 1179.59,887.008 1189.69,890.658 1199.8,895.083 1209.91,900.306 1220.01,906.35 1230.12,913.238 1240.22,920.992 1250.33,929.636 \n",
       "  1260.43,939.192 1270.54,949.684 1280.65,961.133 1290.75,973.564 1300.86,986.998 1310.96,1001.46 1321.07,1016.97 1331.18,1033.55 1341.28,1051.23 1351.39,1070.03 \n",
       "  1361.49,1089.97 1371.6,1111.07 1381.71,1133.1 1391.81,1155.2 1401.92,1176.43 1412.02,1195.88 1422.13,1213.19 1432.24,1228.41 1442.34,1241.64 1452.45,1252.95 \n",
       "  1462.55,1262.43 1472.66,1270.17 1482.77,1276.25 1492.87,1280.76 1502.98,1283.78 1513.08,1285.39 1523.19,1285.69 1533.3,1284.75 1543.4,1282.66 1553.51,1279.51 \n",
       "  1563.61,1275.37 1573.72,1270.34 1583.83,1264.5 1593.93,1257.94 1604.04,1250.73 1614.14,1242.96 1624.25,1234.73 1634.36,1226.1 1644.46,1217.18 1654.57,1208.03 \n",
       "  1664.67,1198.76 1674.78,1189.43 1684.89,1180.15 1694.99,1170.98 1705.1,1162.02 1715.2,1153.35 1725.31,1145 1735.42,1136.97 1745.52,1129.24 1755.63,1121.83 \n",
       "  1765.73,1114.71 1775.84,1107.88 1785.95,1101.34 1796.05,1095.08 1806.16,1089.1 1816.26,1083.38 1826.37,1077.93 1836.48,1072.73 1846.58,1067.79 1856.69,1063.09 \n",
       "  1866.79,1058.63 1876.9,1054.4 1887.01,1050.4 1897.11,1046.62 1907.22,1043.05 1917.32,1039.7 1927.43,1036.54 1937.54,1033.59 1947.64,1030.82 1957.75,1028.24 \n",
       "  1967.85,1025.84 1977.96,1023.61 1988.07,1021.55 1998.17,1019.66 2008.28,1017.91 2018.38,1016.32 2028.49,1014.87 2038.6,1013.55 2048.7,1012.37 2058.81,1011.32 \n",
       "  2068.91,1010.38 2079.02,1009.55 2089.13,1008.84 2099.23,1008.22 2109.34,1007.71 2119.44,1007.28 2129.55,1006.93 2139.66,1006.66 2149.76,1006.47 2159.87,1006.33 \n",
       "  2169.97,1006.26 2180.08,1006.25 2190.19,1006.28 2200.29,1006.35 2210.4,1006.46 2220.5,1006.6 2230.61,1006.76 2240.72,1006.94 2250.82,1007.13 2260.93,1007.33 \n",
       "  \n",
       "  \"/>\n",
       "<polyline clip-path=\"url(#clip8502)\" style=\"stroke:#3da44d; stroke-width:4; stroke-opacity:1; fill:none\" points=\"\n",
       "  249.837,952.137 259.943,1033.94 270.049,1107.3 280.155,1172.62 290.261,1230.27 300.367,1280.62 310.473,1324.03 320.579,1360.87 330.685,1391.46 340.791,1416.15 \n",
       "  350.897,1435.26 361.003,1449.12 371.109,1458.01 381.215,1462.26 391.321,1462.15 401.427,1457.95 411.533,1449.96 421.639,1438.42 431.744,1423.61 441.85,1405.77 \n",
       "  451.956,1385.15 462.062,1361.98 472.168,1336.48 482.274,1308.89 492.38,1279.4 502.486,1248.23 512.592,1215.57 522.698,1181.62 532.804,1146.55 542.91,1110.54 \n",
       "  553.016,1073.77 563.122,1036.4 573.228,998.571 583.334,960.449 593.44,922.171 603.546,883.875 613.652,845.691 623.758,807.744 633.864,770.151 643.97,733.025 \n",
       "  654.076,696.471 664.182,660.592 674.288,625.481 684.394,591.228 694.5,557.916 704.606,525.624 714.712,494.426 724.818,464.388 734.924,435.575 745.03,408.042 \n",
       "  755.136,381.845 765.242,357.03 775.348,333.641 785.454,311.717 795.56,291.292 805.666,272.396 815.772,255.055 825.878,239.289 835.984,225.117 846.09,212.552 \n",
       "  856.196,201.603 866.302,192.275 876.408,184.57 886.514,178.487 896.62,174.02 906.726,171.16 916.832,169.896 926.938,170.212 937.044,172.09 947.15,175.508 \n",
       "  957.256,180.442 967.362,186.866 977.467,194.748 987.573,204.056 997.679,214.757 1007.79,226.811 1017.89,240.179 1028,254.819 1038.1,270.687 1048.21,287.737 \n",
       "  1058.32,305.921 1068.42,325.188 1078.53,345.487 1088.63,366.764 1098.74,388.965 1108.85,412.034 1118.95,435.911 1129.06,460.54 1139.16,485.859 1149.27,511.807 \n",
       "  1159.38,538.322 1169.48,565.342 1179.59,592.802 1189.69,620.639 1199.8,648.787 1209.91,677.18 1220.01,705.754 1230.12,734.443 1240.22,763.179 1250.33,791.897 \n",
       "  1260.43,820.531 1270.54,849.015 1280.65,877.282 1290.75,905.268 1300.86,932.908 1310.96,960.136 1321.07,986.889 1331.18,1013.1 1341.28,1038.72 1351.39,1063.67 \n",
       "  1361.49,1087.9 1371.6,1111.35 1381.71,1133.96 1391.81,1155.67 1401.92,1176.43 1412.02,1196.19 1422.13,1214.89 1432.24,1232.48 1442.34,1248.91 1452.45,1264.15 \n",
       "  1462.55,1278.13 1472.66,1290.82 1482.77,1302.18 1492.87,1312.17 1502.98,1320.76 1513.08,1327.91 1523.19,1333.59 1533.3,1337.78 1543.4,1340.44 1553.51,1341.56 \n",
       "  1563.61,1341.12 1573.72,1339.1 1583.83,1335.48 1593.93,1330.27 1604.04,1323.44 1614.14,1315.01 1624.25,1304.97 1634.36,1293.32 1644.46,1280.08 1654.57,1265.25 \n",
       "  1664.67,1248.86 1674.78,1230.91 1684.89,1211.45 1694.99,1190.49 1705.1,1168.07 1715.2,1144.22 1725.31,1118.99 1735.42,1092.43 1745.52,1064.59 1755.63,1035.52 \n",
       "  1765.73,1005.29 1775.84,973.954 1785.95,941.595 1796.05,908.286 1806.16,874.111 1816.26,839.157 1826.37,803.517 1836.48,767.291 1846.58,730.582 1856.69,693.503 \n",
       "  1866.79,656.169 1876.9,618.704 1887.01,581.236 1897.11,543.9 1907.22,506.837 1917.32,470.197 1927.43,434.133 1937.54,398.806 1947.64,364.385 1957.75,331.043 \n",
       "  1967.85,298.963 1977.96,268.334 1988.07,239.35 1998.17,212.217 2008.28,187.143 2018.38,164.346 2028.49,144.053 2038.6,126.496 2048.7,111.916 2058.81,100.562 \n",
       "  2068.91,92.6894 2079.02,88.564 2089.13,88.4582 2099.23,92.6528 2109.34,101.437 2119.44,115.109 2129.55,133.975 2139.66,158.349 2149.76,188.556 2159.87,224.927 \n",
       "  2169.97,267.804 2180.08,317.537 2190.19,374.486 2200.29,439.02 2210.4,511.516 2220.5,592.362 2230.61,681.954 2240.72,780.7 2250.82,889.016 2260.93,1007.33 \n",
       "  \n",
       "  \"/>\n",
       "<polygon clip-path=\"url(#clip8500)\" points=\"\n",
       "1958.43,372.684 2249.26,372.684 2249.26,130.764 1958.43,130.764 \n",
       "  \" fill=\"#ffffff\" fill-rule=\"evenodd\" fill-opacity=\"1\"/>\n",
       "<polyline clip-path=\"url(#clip8500)\" style=\"stroke:#000000; stroke-width:4; stroke-opacity:1; fill:none\" points=\"\n",
       "  1958.43,372.684 2249.26,372.684 2249.26,130.764 1958.43,130.764 1958.43,372.684 \n",
       "  \"/>\n",
       "<circle clip-path=\"url(#clip8500)\" style=\"fill:#000000; stroke:none; fill-opacity:1\" cx=\"2066.43\" cy=\"191.244\" r=\"25\"/>\n",
       "<circle clip-path=\"url(#clip8500)\" style=\"fill:#009af9; stroke:none; fill-opacity:1\" cx=\"2066.43\" cy=\"191.244\" r=\"21\"/>\n",
       "<g clip-path=\"url(#clip8500)\">\n",
       "<text style=\"fill:#000000; fill-opacity:1; font-family:Arial,Helvetica Neue,Helvetica,sans-serif; font-size:48px; text-anchor:start;\" transform=\"rotate(0, 2150.43, 208.744)\" x=\"2150.43\" y=\"208.744\">y1</text>\n",
       "</g>\n",
       "<polyline clip-path=\"url(#clip8500)\" style=\"stroke:#e26f46; stroke-width:4; stroke-opacity:1; fill:none\" points=\"\n",
       "  1982.43,251.724 2126.43,251.724 \n",
       "  \"/>\n",
       "<g clip-path=\"url(#clip8500)\">\n",
       "<text style=\"fill:#000000; fill-opacity:1; font-family:Arial,Helvetica Neue,Helvetica,sans-serif; font-size:48px; text-anchor:start;\" transform=\"rotate(0, 2150.43, 269.224)\" x=\"2150.43\" y=\"269.224\">y2</text>\n",
       "</g>\n",
       "<polyline clip-path=\"url(#clip8500)\" style=\"stroke:#3da44d; stroke-width:4; stroke-opacity:1; fill:none\" points=\"\n",
       "  1982.43,312.204 2126.43,312.204 \n",
       "  \"/>\n",
       "<g clip-path=\"url(#clip8500)\">\n",
       "<text style=\"fill:#000000; fill-opacity:1; font-family:Arial,Helvetica Neue,Helvetica,sans-serif; font-size:48px; text-anchor:start;\" transform=\"rotate(0, 2150.43, 329.704)\" x=\"2150.43\" y=\"329.704\">y3</text>\n",
       "</g>\n",
       "</svg>\n"
      ]
     },
     "execution_count": 8,
     "metadata": {},
     "output_type": "execute_result"
    }
   ],
   "source": [
    "A=Vandermonde(x)\n",
    "p=Poly(A\\y)\n",
    "yPoly=polyval(p,xx)\n",
    "scatter(x,y)\n",
    "plot!(xx,[ySpline yPoly])"
   ]
  },
  {
   "cell_type": "markdown",
   "metadata": {},
   "source": [
    "Usporedimo splajn s interpolacijskim polinomom kada mijenjamo jednu točku:"
   ]
  },
  {
   "cell_type": "code",
   "execution_count": 9,
   "metadata": {},
   "outputs": [
    {
     "name": "stderr",
     "output_type": "stream",
     "text": [
      "┌ Info: Precompiling Interact [c601a237-2ae4-5e1e-952c-7a85b0c7eef1]\n",
      "└ @ Base loading.jl:1186\n"
     ]
    },
    {
     "data": {
      "text/html": [
       "<script>\n",
       "// Immediately-invoked-function-expression to avoid global variables.\n",
       "(function() {\n",
       "    var warning_div = document.getElementById(\"webio-warning-6624111395982740874\");\n",
       "    var hide = function () {\n",
       "        var script = document.getElementById(\"webio-setup-18269507326616743052\");\n",
       "        var parent = script && script.parentElement;\n",
       "        var grandparent = parent && parent.parentElement;\n",
       "        if (grandparent) {\n",
       "            grandparent.style.display = \"none\";\n",
       "        }\n",
       "        warning_div.style.display = \"none\";\n",
       "    };\n",
       "    if (typeof Jupyter !== \"undefined\") {\n",
       "        console.log(\"WebIO detected Jupyter notebook environment.\");\n",
       "        // Jupyter notebook.\n",
       "        var extensions = (\n",
       "            Jupyter\n",
       "            && Jupyter.notebook.config.data\n",
       "            && Jupyter.notebook.config.data.load_extensions\n",
       "        );\n",
       "        if (extensions && extensions[\"webio-jupyter-notebook\"]) {\n",
       "            // Extension already loaded.\n",
       "            console.log(\"Jupyter WebIO nbextension detected; not loading ad-hoc.\");\n",
       "            hide();\n",
       "            return;\n",
       "        }\n",
       "    } else if (window.location.pathname.includes(\"/lab\")) {\n",
       "        // Guessing JupyterLa\n",
       "        console.log(\"Jupyter Lab detected; make sure the @webio/jupyter-lab-provider labextension is installed.\");\n",
       "        hide();\n",
       "        return;\n",
       "    }\n",
       "})();\n",
       "\n",
       "</script>\n",
       "<p\n",
       "    id=\"webio-warning-6624111395982740874\"\n",
       "    class=\"output_text output_stderr\"\n",
       "    style=\"padding: 1em; font-weight: bold;\"\n",
       ">\n",
       "    Unable to load WebIO. Please make sure WebIO works for your Jupyter client.\n",
       "    For troubleshooting, please see <a href=\"https://juliagizmos.github.io/WebIO.jl/latest/providers/ijulia/\">\n",
       "    the WebIO/IJulia documentation</a>.\n",
       "    <!-- TODO: link to installation docs. -->\n",
       "</p>\n"
      ],
      "text/plain": [
       "HTML{String}(\"<script>\\n// Immediately-invoked-function-expression to avoid global variables.\\n(function() {\\n    var warning_div = document.getElementById(\\\"webio-warning-6624111395982740874\\\");\\n    var hide = function () {\\n        var script = document.getElementById(\\\"webio-setup-18269507326616743052\\\");\\n        var parent = script && script.parentElement;\\n        var grandparent = parent && parent.parentElement;\\n        if (grandparent) {\\n            grandparent.style.display = \\\"none\\\";\\n        }\\n        warning_div.style.display = \\\"none\\\";\\n    };\\n    if (typeof Jupyter !== \\\"undefined\\\") {\\n        console.log(\\\"WebIO detected Jupyter notebook environment.\\\");\\n        // Jupyter notebook.\\n        var extensions = (\\n            Jupyter\\n            && Jupyter.notebook.config.data\\n            && Jupyter.notebook.config.data.load_extensions\\n        );\\n        if (extensions && extensions[\\\"webio-jupyter-notebook\\\"]) {\\n            // Extension already loaded.\\n            console.log(\\\"Jupyter WebIO nbextension detected; not loading ad-hoc.\\\");\\n            hide();\\n            return;\\n        }\\n    } else if (window.location.pathname.includes(\\\"/lab\\\")) {\\n        // Guessing JupyterLa\\n        console.log(\\\"Jupyter Lab detected; make sure the @webio/jupyter-lab-provider labextension is installed.\\\");\\n        hide();\\n        return;\\n    }\\n})();\\n\\n</script>\\n<p\\n    id=\\\"webio-warning-6624111395982740874\\\"\\n    class=\\\"output_text output_stderr\\\"\\n    style=\\\"padding: 1em; font-weight: bold;\\\"\\n>\\n    Unable to load WebIO. Please make sure WebIO works for your Jupyter client.\\n    For troubleshooting, please see <a href=\\\"https://juliagizmos.github.io/WebIO.jl/latest/providers/ijulia/\\\">\\n    the WebIO/IJulia documentation</a>.\\n    <!-- TODO: link to installation docs. -->\\n</p>\\n\")"
      ]
     },
     "metadata": {},
     "output_type": "display_data"
    }
   ],
   "source": [
    "using Interact"
   ]
  },
  {
   "cell_type": "code",
   "execution_count": 10,
   "metadata": {},
   "outputs": [
    {
     "data": {
      "application/vnd.webio.node+json": {
       "children": [
        {
         "children": [
          {
           "children": [
            {
             "children": [
              {
               "children": [
                {
                 "children": [
                  "xp"
                 ],
                 "instanceArgs": {
                  "namespace": "html",
                  "tag": "label"
                 },
                 "nodeType": "DOM",
                 "props": {
                  "className": "interact ",
                  "style": {
                   "padding": "5px 10px 0px 10px"
                  }
                 },
                 "type": "node"
                }
               ],
               "instanceArgs": {
                "namespace": "html",
                "tag": "div"
               },
               "nodeType": "DOM",
               "props": {
                "className": "interact-flex-row-left"
               },
               "type": "node"
              },
              {
               "children": [
                {
                 "children": [],
                 "instanceArgs": {
                  "namespace": "html",
                  "tag": "input"
                 },
                 "nodeType": "DOM",
                 "props": {
                  "attributes": {
                   "data-bind": "numericValue: index, valueUpdate: 'input', event: {change: function (){this.changes(this.changes()+1)}}",
                   "orient": "horizontal",
                   "type": "range"
                  },
                  "className": "slider slider is-fullwidth",
                  "max": 28,
                  "min": 1,
                  "step": 1,
                  "style": {}
                 },
                 "type": "node"
                }
               ],
               "instanceArgs": {
                "namespace": "html",
                "tag": "div"
               },
               "nodeType": "DOM",
               "props": {
                "className": "interact-flex-row-center"
               },
               "type": "node"
              },
              {
               "children": [
                {
                 "children": [],
                 "instanceArgs": {
                  "namespace": "html",
                  "tag": "p"
                 },
                 "nodeType": "DOM",
                 "props": {
                  "attributes": {
                   "data-bind": "text: formatted_val"
                  }
                 },
                 "type": "node"
                }
               ],
               "instanceArgs": {
                "namespace": "html",
                "tag": "div"
               },
               "nodeType": "DOM",
               "props": {
                "className": "interact-flex-row-right"
               },
               "type": "node"
              }
             ],
             "instanceArgs": {
              "namespace": "html",
              "tag": "div"
             },
             "nodeType": "DOM",
             "props": {
              "className": "interact-flex-row interact-widget"
             },
             "type": "node"
            }
           ],
           "instanceArgs": {
            "handlers": {
             "changes": [
              "(function (val){return (val!=this.model[\"changes\"]()) ? (this.valueFromJulia[\"changes\"]=true, this.model[\"changes\"](val)) : undefined})"
             ],
             "index": [
              "(function (val){return (val!=this.model[\"index\"]()) ? (this.valueFromJulia[\"index\"]=true, this.model[\"index\"](val)) : undefined})"
             ]
            },
            "id": "15298820052026283394",
            "imports": {
             "data": [
              {
               "name": "knockout",
               "type": "js",
               "url": "/assetserver/ec445c3635ad2e3755ac5e718c92ca301fdedb35-knockout.js"
              },
              {
               "name": "knockout_punches",
               "type": "js",
               "url": "/assetserver/83339d7be4b13cb796b32e311e1735b268343ced-knockout_punches.js"
              },
              {
               "name": null,
               "type": "js",
               "url": "/assetserver/5e8d29053a00bcb07412eb45a5e45e831da5deaf-all.js"
              },
              {
               "name": null,
               "type": "css",
               "url": "/assetserver/b0f8e5f50bb72f5435b24a25266064ee5434da5d-style.css"
              },
              {
               "name": null,
               "type": "css",
               "url": "/assetserver/e98c00e65cdd8ca07b622d8a89a3d4249e190915-bulma_confined.min.css"
              }
             ],
             "type": "async_block"
            },
            "mount_callbacks": [
             "function () {\n    var handler = (function (ko, koPunches) {\n    ko.punches.enableAll();\n    ko.bindingHandlers.numericValue = {\n        init: function(element, valueAccessor, allBindings, data, context) {\n            var stringified = ko.observable(ko.unwrap(valueAccessor()));\n            stringified.subscribe(function(value) {\n                var val = parseFloat(value);\n                if (!isNaN(val)) {\n                    valueAccessor()(val);\n                }\n            });\n            valueAccessor().subscribe(function(value) {\n                var str = JSON.stringify(value);\n                if ((str == \"0\") && ([\"-0\", \"-0.\"].indexOf(stringified()) >= 0))\n                     return;\n                 if ([\"null\", \"\"].indexOf(str) >= 0)\n                     return;\n                stringified(str);\n            });\n            ko.applyBindingsToNode(\n                element,\n                {\n                    value: stringified,\n                    valueUpdate: allBindings.get('valueUpdate'),\n                },\n                context,\n            );\n        }\n    };\n    var json_data = {\"formatted_vals\":[\"0.395453\",\"0.405453\",\"0.415453\",\"0.425453\",\"0.435453\",\"0.445453\",\"0.455453\",\"0.465453\",\"0.475453\",\"0.485453\",\"0.495453\",\"0.505453\",\"0.515453\",\"0.525453\",\"0.535453\",\"0.545453\",\"0.555453\",\"0.565453\",\"0.575453\",\"0.585453\",\"0.595453\",\"0.605453\",\"0.615453\",\"0.625453\",\"0.635453\",\"0.645453\",\"0.655453\",\"0.665453\"],\"changes\":WebIO.getval({\"name\":\"changes\",\"scope\":\"15298820052026283394\",\"id\":\"ob_03\",\"type\":\"observable\"}),\"index\":WebIO.getval({\"name\":\"index\",\"scope\":\"15298820052026283394\",\"id\":\"ob_02\",\"type\":\"observable\"})};\n    var self = this;\n    function AppViewModel() {\n        for (var key in json_data) {\n            var el = json_data[key];\n            this[key] = Array.isArray(el) ? ko.observableArray(el) : ko.observable(el);\n        }\n        \n        [this[\"formatted_val\"]=ko.computed(    function(){\n        return this.formatted_vals()[parseInt(this.index())-(1)];\n    }\n,this)]\n        [this[\"changes\"].subscribe((function (val){!(this.valueFromJulia[\"changes\"]) ? (WebIO.setval({\"name\":\"changes\",\"scope\":\"15298820052026283394\",\"id\":\"ob_03\",\"type\":\"observable\"},val)) : undefined; return this.valueFromJulia[\"changes\"]=false}),self),this[\"index\"].subscribe((function (val){!(this.valueFromJulia[\"index\"]) ? (WebIO.setval({\"name\":\"index\",\"scope\":\"15298820052026283394\",\"id\":\"ob_02\",\"type\":\"observable\"},val)) : undefined; return this.valueFromJulia[\"index\"]=false}),self)]\n        \n    }\n    self.model = new AppViewModel();\n    self.valueFromJulia = {};\n    for (var key in json_data) {\n        self.valueFromJulia[key] = false;\n    }\n    ko.applyBindings(self.model, self.dom);\n}\n);\n    (WebIO.importBlock({\"data\":[{\"name\":\"knockout\",\"type\":\"js\",\"url\":\"/assetserver/ec445c3635ad2e3755ac5e718c92ca301fdedb35-knockout.js\"},{\"name\":\"knockout_punches\",\"type\":\"js\",\"url\":\"/assetserver/83339d7be4b13cb796b32e311e1735b268343ced-knockout_punches.js\"}],\"type\":\"async_block\"})).then((imports) => handler.apply(this, imports));\n}\n"
            ],
            "observables": {
             "changes": {
              "id": "ob_03",
              "sync": false,
              "value": 0
             },
             "index": {
              "id": "ob_02",
              "sync": true,
              "value": 14
             }
            },
            "systemjs_options": null
           },
           "nodeType": "Scope",
           "props": {},
           "type": "node"
          }
         ],
         "instanceArgs": {
          "namespace": "html",
          "tag": "div"
         },
         "nodeType": "DOM",
         "props": {
          "className": "field interact-widget"
         },
         "type": "node"
        },
        {
         "children": [
          {
           "children": [],
           "instanceArgs": {
            "id": "ob_09",
            "name": "obs-node"
           },
           "nodeType": "ObservableNode",
           "props": {},
           "type": "node"
          }
         ],
         "instanceArgs": {
          "handlers": {},
          "id": "13931784214104234933",
          "imports": {
           "data": [],
           "type": "async_block"
          },
          "mount_callbacks": [],
          "observables": {
           "obs-node": {
            "id": "ob_09",
            "sync": false,
            "value": {
             "children": [
              {
               "children": [],
               "instanceArgs": {
                "namespace": "html",
                "tag": "div"
               },
               "nodeType": "DOM",
               "props": {
                "setInnerHtml": "<?xml version=\"1.0\" encoding=\"utf-8\"?>\n<svg xmlns=\"http://www.w3.org/2000/svg\" xmlns:xlink=\"http://www.w3.org/1999/xlink\" width=\"600\" height=\"400\" viewBox=\"0 0 2400 1600\">\n<defs>\n  <clipPath id=\"clip9300\">\n    <rect x=\"0\" y=\"0\" width=\"2400\" height=\"1600\"/>\n  </clipPath>\n</defs>\n<polygon clip-path=\"url(#clip9300)\" points=\"\n0,1600 2400,1600 2400,0 0,0 \n  \" fill=\"#ffffff\" fill-rule=\"evenodd\" fill-opacity=\"1\"/>\n<defs>\n  <clipPath id=\"clip9301\">\n    <rect x=\"480\" y=\"0\" width=\"1681\" height=\"1600\"/>\n  </clipPath>\n</defs>\n<polygon clip-path=\"url(#clip9300)\" points=\"\n161.394,1503.47 2321.26,1503.47 2321.26,47.2441 161.394,47.2441 \n  \" fill=\"#ffffff\" fill-rule=\"evenodd\" fill-opacity=\"1\"/>\n<defs>\n  <clipPath id=\"clip9302\">\n    <rect x=\"161\" y=\"47\" width=\"2161\" height=\"1457\"/>\n  </clipPath>\n</defs>\n<polyline clip-path=\"url(#clip9302)\" style=\"stroke:#000000; stroke-width:2; stroke-opacity:0.1; fill:none\" points=\"\n  179.501,1503.47 179.501,47.2441 \n  \"/>\n<polyline clip-path=\"url(#clip9302)\" style=\"stroke:#000000; stroke-width:2; stroke-opacity:0.1; fill:none\" points=\"\n  504.338,1503.47 504.338,47.2441 \n  \"/>\n<polyline clip-path=\"url(#clip9302)\" style=\"stroke:#000000; stroke-width:2; stroke-opacity:0.1; fill:none\" points=\"\n  829.175,1503.47 829.175,47.2441 \n  \"/>\n<polyline clip-path=\"url(#clip9302)\" style=\"stroke:#000000; stroke-width:2; stroke-opacity:0.1; fill:none\" points=\"\n  1154.01,1503.47 1154.01,47.2441 \n  \"/>\n<polyline clip-path=\"url(#clip9302)\" style=\"stroke:#000000; stroke-width:2; stroke-opacity:0.1; fill:none\" points=\"\n  1478.85,1503.47 1478.85,47.2441 \n  \"/>\n<polyline clip-path=\"url(#clip9302)\" style=\"stroke:#000000; stroke-width:2; stroke-opacity:0.1; fill:none\" points=\"\n  1803.69,1503.47 1803.69,47.2441 \n  \"/>\n<polyline clip-path=\"url(#clip9302)\" style=\"stroke:#000000; stroke-width:2; stroke-opacity:0.1; fill:none\" points=\"\n  2128.52,1503.47 2128.52,47.2441 \n  \"/>\n<polyline clip-path=\"url(#clip9302)\" style=\"stroke:#000000; stroke-width:2; stroke-opacity:0.1; fill:none\" points=\"\n  161.394,1278.21 2321.26,1278.21 \n  \"/>\n<polyline clip-path=\"url(#clip9302)\" style=\"stroke:#000000; stroke-width:2; stroke-opacity:0.1; fill:none\" points=\"\n  161.394,1040.18 2321.26,1040.18 \n  \"/>\n<polyline clip-path=\"url(#clip9302)\" style=\"stroke:#000000; stroke-width:2; stroke-opacity:0.1; fill:none\" points=\"\n  161.394,802.159 2321.26,802.159 \n  \"/>\n<polyline clip-path=\"url(#clip9302)\" style=\"stroke:#000000; stroke-width:2; stroke-opacity:0.1; fill:none\" points=\"\n  161.394,564.133 2321.26,564.133 \n  \"/>\n<polyline clip-path=\"url(#clip9302)\" style=\"stroke:#000000; stroke-width:2; stroke-opacity:0.1; fill:none\" points=\"\n  161.394,326.108 2321.26,326.108 \n  \"/>\n<polyline clip-path=\"url(#clip9302)\" style=\"stroke:#000000; stroke-width:2; stroke-opacity:0.1; fill:none\" points=\"\n  161.394,88.0828 2321.26,88.0828 \n  \"/>\n<polyline clip-path=\"url(#clip9300)\" style=\"stroke:#000000; stroke-width:4; stroke-opacity:1; fill:none\" points=\"\n  161.394,1503.47 2321.26,1503.47 \n  \"/>\n<polyline clip-path=\"url(#clip9300)\" style=\"stroke:#000000; stroke-width:4; stroke-opacity:1; fill:none\" points=\"\n  161.394,1503.47 161.394,47.2441 \n  \"/>\n<polyline clip-path=\"url(#clip9300)\" style=\"stroke:#000000; stroke-width:4; stroke-opacity:1; fill:none\" points=\"\n  179.501,1503.47 179.501,1481.63 \n  \"/>\n<polyline clip-path=\"url(#clip9300)\" style=\"stroke:#000000; stroke-width:4; stroke-opacity:1; fill:none\" points=\"\n  504.338,1503.47 504.338,1481.63 \n  \"/>\n<polyline clip-path=\"url(#clip9300)\" style=\"stroke:#000000; stroke-width:4; stroke-opacity:1; fill:none\" points=\"\n  829.175,1503.47 829.175,1481.63 \n  \"/>\n<polyline clip-path=\"url(#clip9300)\" style=\"stroke:#000000; stroke-width:4; stroke-opacity:1; fill:none\" points=\"\n  1154.01,1503.47 1154.01,1481.63 \n  \"/>\n<polyline clip-path=\"url(#clip9300)\" style=\"stroke:#000000; stroke-width:4; stroke-opacity:1; fill:none\" points=\"\n  1478.85,1503.47 1478.85,1481.63 \n  \"/>\n<polyline clip-path=\"url(#clip9300)\" style=\"stroke:#000000; stroke-width:4; stroke-opacity:1; fill:none\" points=\"\n  1803.69,1503.47 1803.69,1481.63 \n  \"/>\n<polyline clip-path=\"url(#clip9300)\" style=\"stroke:#000000; stroke-width:4; stroke-opacity:1; fill:none\" points=\"\n  2128.52,1503.47 2128.52,1481.63 \n  \"/>\n<polyline clip-path=\"url(#clip9300)\" style=\"stroke:#000000; stroke-width:4; stroke-opacity:1; fill:none\" points=\"\n  161.394,1278.21 193.792,1278.21 \n  \"/>\n<polyline clip-path=\"url(#clip9300)\" style=\"stroke:#000000; stroke-width:4; stroke-opacity:1; fill:none\" points=\"\n  161.394,1040.18 193.792,1040.18 \n  \"/>\n<polyline clip-path=\"url(#clip9300)\" style=\"stroke:#000000; stroke-width:4; stroke-opacity:1; fill:none\" points=\"\n  161.394,802.159 193.792,802.159 \n  \"/>\n<polyline clip-path=\"url(#clip9300)\" style=\"stroke:#000000; stroke-width:4; stroke-opacity:1; fill:none\" points=\"\n  161.394,564.133 193.792,564.133 \n  \"/>\n<polyline clip-path=\"url(#clip9300)\" style=\"stroke:#000000; stroke-width:4; stroke-opacity:1; fill:none\" points=\"\n  161.394,326.108 193.792,326.108 \n  \"/>\n<polyline clip-path=\"url(#clip9300)\" style=\"stroke:#000000; stroke-width:4; stroke-opacity:1; fill:none\" points=\"\n  161.394,88.0828 193.792,88.0828 \n  \"/>\n<g clip-path=\"url(#clip9300)\">\n<text style=\"fill:#000000; fill-opacity:1; font-family:Arial,Helvetica Neue,Helvetica,sans-serif; font-size:48px; text-anchor:middle;\" transform=\"rotate(0, 179.501, 1557.47)\" x=\"179.501\" y=\"1557.47\">0.3</text>\n</g>\n<g clip-path=\"url(#clip9300)\">\n<text style=\"fill:#000000; fill-opacity:1; font-family:Arial,Helvetica Neue,Helvetica,sans-serif; font-size:48px; text-anchor:middle;\" transform=\"rotate(0, 504.338, 1557.47)\" x=\"504.338\" y=\"1557.47\">0.4</text>\n</g>\n<g clip-path=\"url(#clip9300)\">\n<text style=\"fill:#000000; fill-opacity:1; font-family:Arial,Helvetica Neue,Helvetica,sans-serif; font-size:48px; text-anchor:middle;\" transform=\"rotate(0, 829.175, 1557.47)\" x=\"829.175\" y=\"1557.47\">0.5</text>\n</g>\n<g clip-path=\"url(#clip9300)\">\n<text style=\"fill:#000000; fill-opacity:1; font-family:Arial,Helvetica Neue,Helvetica,sans-serif; font-size:48px; text-anchor:middle;\" transform=\"rotate(0, 1154.01, 1557.47)\" x=\"1154.01\" y=\"1557.47\">0.6</text>\n</g>\n<g clip-path=\"url(#clip9300)\">\n<text style=\"fill:#000000; fill-opacity:1; font-family:Arial,Helvetica Neue,Helvetica,sans-serif; font-size:48px; text-anchor:middle;\" transform=\"rotate(0, 1478.85, 1557.47)\" x=\"1478.85\" y=\"1557.47\">0.7</text>\n</g>\n<g clip-path=\"url(#clip9300)\">\n<text style=\"fill:#000000; fill-opacity:1; font-family:Arial,Helvetica Neue,Helvetica,sans-serif; font-size:48px; text-anchor:middle;\" transform=\"rotate(0, 1803.69, 1557.47)\" x=\"1803.69\" y=\"1557.47\">0.8</text>\n</g>\n<g clip-path=\"url(#clip9300)\">\n<text style=\"fill:#000000; fill-opacity:1; font-family:Arial,Helvetica Neue,Helvetica,sans-serif; font-size:48px; text-anchor:middle;\" transform=\"rotate(0, 2128.52, 1557.47)\" x=\"2128.52\" y=\"1557.47\">0.9</text>\n</g>\n<g clip-path=\"url(#clip9300)\">\n<text style=\"fill:#000000; fill-opacity:1; font-family:Arial,Helvetica Neue,Helvetica,sans-serif; font-size:48px; text-anchor:end;\" transform=\"rotate(0, 137.394, 1295.71)\" x=\"137.394\" y=\"1295.71\">0.1</text>\n</g>\n<g clip-path=\"url(#clip9300)\">\n<text style=\"fill:#000000; fill-opacity:1; font-family:Arial,Helvetica Neue,Helvetica,sans-serif; font-size:48px; text-anchor:end;\" transform=\"rotate(0, 137.394, 1057.68)\" x=\"137.394\" y=\"1057.68\">0.2</text>\n</g>\n<g clip-path=\"url(#clip9300)\">\n<text style=\"fill:#000000; fill-opacity:1; font-family:Arial,Helvetica Neue,Helvetica,sans-serif; font-size:48px; text-anchor:end;\" transform=\"rotate(0, 137.394, 819.659)\" x=\"137.394\" y=\"819.659\">0.3</text>\n</g>\n<g clip-path=\"url(#clip9300)\">\n<text style=\"fill:#000000; fill-opacity:1; font-family:Arial,Helvetica Neue,Helvetica,sans-serif; font-size:48px; text-anchor:end;\" transform=\"rotate(0, 137.394, 581.633)\" x=\"137.394\" y=\"581.633\">0.4</text>\n</g>\n<g clip-path=\"url(#clip9300)\">\n<text style=\"fill:#000000; fill-opacity:1; font-family:Arial,Helvetica Neue,Helvetica,sans-serif; font-size:48px; text-anchor:end;\" transform=\"rotate(0, 137.394, 343.608)\" x=\"137.394\" y=\"343.608\">0.5</text>\n</g>\n<g clip-path=\"url(#clip9300)\">\n<text style=\"fill:#000000; fill-opacity:1; font-family:Arial,Helvetica Neue,Helvetica,sans-serif; font-size:48px; text-anchor:end;\" transform=\"rotate(0, 137.394, 105.583)\" x=\"137.394\" y=\"105.583\">0.6</text>\n</g>\n<circle clip-path=\"url(#clip9302)\" style=\"fill:#000000; stroke:none; fill-opacity:1\" cx=\"222.522\" cy=\"121.354\" r=\"18\"/>\n<circle clip-path=\"url(#clip9302)\" style=\"fill:#009af9; stroke:none; fill-opacity:1\" cx=\"222.522\" cy=\"121.354\" r=\"14\"/>\n<circle clip-path=\"url(#clip9302)\" style=\"fill:#000000; stroke:none; fill-opacity:1\" cx=\"489.568\" cy=\"1392.14\" r=\"18\"/>\n<circle clip-path=\"url(#clip9302)\" style=\"fill:#009af9; stroke:none; fill-opacity:1\" cx=\"489.568\" cy=\"1392.14\" r=\"14\"/>\n<circle clip-path=\"url(#clip9302)\" style=\"fill:#000000; stroke:none; fill-opacity:1\" cx=\"911.856\" cy=\"876.805\" r=\"18\"/>\n<circle clip-path=\"url(#clip9302)\" style=\"fill:#009af9; stroke:none; fill-opacity:1\" cx=\"911.856\" cy=\"876.805\" r=\"14\"/>\n<circle clip-path=\"url(#clip9302)\" style=\"fill:#000000; stroke:none; fill-opacity:1\" cx=\"1394.26\" cy=\"1257.09\" r=\"18\"/>\n<circle clip-path=\"url(#clip9302)\" style=\"fill:#009af9; stroke:none; fill-opacity:1\" cx=\"1394.26\" cy=\"1257.09\" r=\"14\"/>\n<circle clip-path=\"url(#clip9302)\" style=\"fill:#000000; stroke:none; fill-opacity:1\" cx=\"1701.19\" cy=\"1126.67\" r=\"18\"/>\n<circle clip-path=\"url(#clip9302)\" style=\"fill:#009af9; stroke:none; fill-opacity:1\" cx=\"1701.19\" cy=\"1126.67\" r=\"14\"/>\n<circle clip-path=\"url(#clip9302)\" style=\"fill:#000000; stroke:none; fill-opacity:1\" cx=\"2260.13\" cy=\"390.335\" r=\"18\"/>\n<circle clip-path=\"url(#clip9302)\" style=\"fill:#009af9; stroke:none; fill-opacity:1\" cx=\"2260.13\" cy=\"390.335\" r=\"14\"/>\n<polyline clip-path=\"url(#clip9302)\" style=\"stroke:#e26f46; stroke-width:4; stroke-opacity:1; fill:none\" points=\"\n  222.522,121.354 232.762,184.206 243.001,246.933 253.24,309.41 263.479,371.513 273.719,433.117 283.958,494.097 294.197,554.329 304.436,613.686 314.675,672.046 \n  324.915,729.282 335.154,785.27 345.393,839.886 355.632,893.004 365.872,944.5 376.111,994.249 386.35,1042.13 396.589,1088.01 406.829,1131.76 417.068,1173.28 \n  427.307,1212.42 437.546,1249.06 447.786,1283.09 458.025,1314.37 468.264,1342.78 478.503,1368.19 488.743,1390.49 498.982,1409.57 509.221,1425.51 519.46,1438.42 \n  529.7,1448.43 539.939,1455.66 550.178,1460.23 560.417,1462.26 570.657,1461.87 580.896,1459.18 591.135,1454.31 601.374,1447.38 611.614,1438.51 621.853,1427.83 \n  632.092,1415.45 642.331,1401.49 652.57,1386.08 662.81,1369.33 673.049,1351.37 683.288,1332.31 693.527,1312.29 703.767,1291.41 714.006,1269.79 724.245,1247.57 \n  734.484,1224.86 744.724,1201.77 754.963,1178.44 765.202,1154.98 775.441,1131.51 785.681,1108.15 795.92,1085.03 806.159,1062.25 816.398,1039.96 826.638,1018.25 \n  836.877,997.268 847.116,977.117 857.355,957.922 867.595,939.805 877.834,922.885 888.073,907.284 898.312,893.122 908.552,880.519 918.791,869.588 929.03,860.335 \n  939.269,852.706 949.509,846.642 959.748,842.087 969.987,838.983 980.226,837.273 990.466,836.899 1000.7,837.805 1010.94,839.933 1021.18,843.226 1031.42,847.626 \n  1041.66,853.076 1051.9,859.519 1062.14,866.898 1072.38,875.156 1082.62,884.234 1092.86,894.077 1103.1,904.626 1113.34,915.824 1123.58,927.614 1133.81,939.939 \n  1144.05,952.741 1154.29,965.964 1164.53,979.549 1174.77,993.44 1185.01,1007.58 1195.25,1021.91 1205.49,1036.37 1215.73,1050.91 1225.97,1065.47 1236.21,1080 \n  1246.45,1094.42 1256.69,1108.7 1266.93,1122.76 1277.16,1136.56 1287.4,1150.03 1297.64,1163.12 1307.88,1175.77 1318.12,1187.93 1328.36,1199.53 1338.6,1210.52 \n  1348.84,1220.84 1359.08,1230.44 1369.32,1239.25 1379.56,1247.23 1389.8,1254.31 1400.04,1260.43 1410.27,1265.59 1420.51,1269.82 1430.75,1273.14 1440.99,1275.58 \n  1451.23,1277.16 1461.47,1277.92 1471.71,1277.88 1481.95,1277.07 1492.19,1275.52 1502.43,1273.25 1512.67,1270.29 1522.91,1266.68 1533.15,1262.43 1543.38,1257.58 \n  1553.62,1252.15 1563.86,1246.17 1574.1,1239.68 1584.34,1232.68 1594.58,1225.22 1604.82,1217.33 1615.06,1209.02 1625.3,1200.33 1635.54,1191.28 1645.78,1181.91 \n  1656.02,1172.23 1666.26,1162.29 1676.49,1152.09 1686.73,1141.68 1696.97,1131.09 1707.21,1120.32 1717.45,1109.41 1727.69,1098.36 1737.93,1087.15 1748.17,1075.81 \n  1758.41,1064.33 1768.65,1052.72 1778.89,1040.97 1789.13,1029.1 1799.37,1017.09 1809.6,1004.96 1819.84,992.715 1830.08,980.348 1840.32,967.864 1850.56,955.268 \n  1860.8,942.561 1871.04,929.747 1881.28,916.827 1891.52,903.806 1901.76,890.685 1912,877.468 1922.24,864.157 1932.48,850.755 1942.72,837.265 1952.95,823.689 \n  1963.19,810.031 1973.43,796.292 1983.67,782.476 1993.91,768.586 2004.15,754.624 2014.39,740.593 2024.63,726.496 2034.87,712.336 2045.11,698.114 2055.35,683.835 \n  2065.59,669.501 2075.83,655.114 2086.06,640.678 2096.3,626.194 2106.54,611.667 2116.78,597.098 2127.02,582.491 2137.26,567.847 2147.5,553.171 2157.74,538.464 \n  2167.98,523.73 2178.22,508.971 2188.46,494.19 2198.7,479.389 2208.94,464.572 2219.17,449.741 2229.41,434.899 2239.65,420.049 2249.89,405.193 2260.13,390.335 \n  \n  \"/>\n<polyline clip-path=\"url(#clip9302)\" style=\"stroke:#3da44d; stroke-width:4; stroke-opacity:1; fill:none\" points=\"\n  222.522,121.354 232.762,242.347 243.001,355.395 253.24,460.809 263.479,558.891 273.719,649.936 283.958,734.236 294.197,812.072 304.436,883.721 314.675,949.451 \n  324.915,1009.53 335.154,1064.2 345.393,1113.73 355.632,1158.36 365.872,1198.32 376.111,1233.84 386.35,1265.16 396.589,1292.49 406.829,1316.04 417.068,1336.02 \n  427.307,1352.63 437.546,1366.08 447.786,1376.54 458.025,1384.21 468.264,1389.26 478.503,1391.87 488.743,1392.21 498.982,1390.44 509.221,1386.71 519.46,1381.19 \n  529.7,1374.01 539.939,1365.32 550.178,1355.26 560.417,1343.96 570.657,1331.55 580.896,1318.15 591.135,1303.88 601.374,1288.85 611.614,1273.17 621.853,1256.95 \n  632.092,1240.28 642.331,1223.27 652.57,1206 662.81,1188.56 673.049,1171.03 683.288,1153.5 693.527,1136.04 703.767,1118.71 714.006,1101.58 724.245,1084.73 \n  734.484,1068.2 744.724,1052.06 754.963,1036.36 765.202,1021.13 775.441,1006.44 785.681,992.322 795.92,978.812 806.159,965.946 816.398,953.758 826.638,942.275 \n  836.877,931.523 847.116,921.526 857.355,912.302 867.595,903.869 877.834,896.242 888.073,889.431 898.312,883.445 908.552,878.29 918.791,873.971 929.03,870.487 \n  939.269,867.839 949.509,866.023 959.748,865.032 969.987,864.86 980.226,865.495 990.466,866.926 1000.7,869.14 1010.94,872.119 1021.18,875.847 1031.42,880.304 \n  1041.66,885.468 1051.9,891.317 1062.14,897.827 1072.38,904.971 1082.62,912.722 1092.86,921.052 1103.1,929.931 1113.34,939.327 1123.58,949.209 1133.81,959.543 \n  1144.05,970.295 1154.29,981.428 1164.53,992.908 1174.77,1004.7 1185.01,1016.76 1195.25,1029.05 1205.49,1041.54 1215.73,1054.18 1225.97,1066.94 1236.21,1079.77 \n  1246.45,1092.64 1256.69,1105.49 1266.93,1118.3 1277.16,1131.02 1287.4,1143.61 1297.64,1156.03 1307.88,1168.23 1318.12,1180.18 1328.36,1191.84 1338.6,1203.15 \n  1348.84,1214.1 1359.08,1224.63 1369.32,1234.7 1379.56,1244.28 1389.8,1253.33 1400.04,1261.81 1410.27,1269.68 1420.51,1276.92 1430.75,1283.48 1440.99,1289.33 \n  1451.23,1294.44 1461.47,1298.77 1471.71,1302.3 1481.95,1305 1492.19,1306.84 1502.43,1307.79 1512.67,1307.83 1522.91,1306.93 1533.15,1305.08 1543.38,1302.25 \n  1553.62,1298.42 1563.86,1293.58 1574.1,1287.71 1584.34,1280.8 1594.58,1272.84 1604.82,1263.82 1615.06,1253.73 1625.3,1242.57 1635.54,1230.34 1645.78,1217.04 \n  1656.02,1202.67 1666.26,1187.23 1676.49,1170.74 1686.73,1153.2 1696.97,1134.62 1707.21,1115.03 1717.45,1094.44 1727.69,1072.87 1737.93,1050.34 1748.17,1026.9 \n  1758.41,1002.55 1768.65,977.349 1778.89,951.321 1789.13,924.509 1799.37,896.958 1809.6,868.714 1819.84,839.829 1830.08,810.356 1840.32,780.354 1850.56,749.884 \n  1860.8,719.012 1871.04,687.807 1881.28,656.342 1891.52,624.696 1901.76,592.949 1912,561.186 1922.24,529.498 1932.48,497.978 1942.72,466.725 1952.95,435.842 \n  1963.19,405.435 1973.43,375.617 1983.67,346.504 1993.91,318.217 2004.15,290.881 2014.39,264.628 2024.63,239.593 2034.87,215.916 2045.11,193.744 2055.35,173.226 \n  2065.59,154.518 2075.83,137.782 2086.06,123.183 2096.3,110.894 2106.54,101.092 2116.78,93.9586 2127.02,89.6827 2137.26,88.4582 2147.5,90.4845 2157.74,95.967 \n  2167.98,105.117 2178.22,118.151 2188.46,135.294 2198.7,156.773 2208.94,182.824 2219.17,213.689 2229.41,249.615 2239.65,290.857 2249.89,337.674 2260.13,390.335 \n  \n  \"/>\n<polygon clip-path=\"url(#clip9300)\" points=\"\n1958.43,372.684 2249.26,372.684 2249.26,130.764 1958.43,130.764 \n  \" fill=\"#ffffff\" fill-rule=\"evenodd\" fill-opacity=\"1\"/>\n<polyline clip-path=\"url(#clip9300)\" style=\"stroke:#000000; stroke-width:4; stroke-opacity:1; fill:none\" points=\"\n  1958.43,372.684 2249.26,372.684 2249.26,130.764 1958.43,130.764 1958.43,372.684 \n  \"/>\n<circle clip-path=\"url(#clip9300)\" style=\"fill:#000000; stroke:none; fill-opacity:1\" cx=\"2066.43\" cy=\"191.244\" r=\"25\"/>\n<circle clip-path=\"url(#clip9300)\" style=\"fill:#009af9; stroke:none; fill-opacity:1\" cx=\"2066.43\" cy=\"191.244\" r=\"21\"/>\n<g clip-path=\"url(#clip9300)\">\n<text style=\"fill:#000000; fill-opacity:1; font-family:Arial,Helvetica Neue,Helvetica,sans-serif; font-size:48px; text-anchor:start;\" transform=\"rotate(0, 2150.43, 208.744)\" x=\"2150.43\" y=\"208.744\">y1</text>\n</g>\n<polyline clip-path=\"url(#clip9300)\" style=\"stroke:#e26f46; stroke-width:4; stroke-opacity:1; fill:none\" points=\"\n  1982.43,251.724 2126.43,251.724 \n  \"/>\n<g clip-path=\"url(#clip9300)\">\n<text style=\"fill:#000000; fill-opacity:1; font-family:Arial,Helvetica Neue,Helvetica,sans-serif; font-size:48px; text-anchor:start;\" transform=\"rotate(0, 2150.43, 269.224)\" x=\"2150.43\" y=\"269.224\">y2</text>\n</g>\n<polyline clip-path=\"url(#clip9300)\" style=\"stroke:#3da44d; stroke-width:4; stroke-opacity:1; fill:none\" points=\"\n  1982.43,312.204 2126.43,312.204 \n  \"/>\n<g clip-path=\"url(#clip9300)\">\n<text style=\"fill:#000000; fill-opacity:1; font-family:Arial,Helvetica Neue,Helvetica,sans-serif; font-size:48px; text-anchor:start;\" transform=\"rotate(0, 2150.43, 329.704)\" x=\"2150.43\" y=\"329.704\">y3</text>\n</g>\n</svg>\n"
               },
               "type": "node"
              }
             ],
             "instanceArgs": {
              "namespace": "html",
              "tag": "div"
             },
             "nodeType": "DOM",
             "props": {
              "className": "interact-flex-row interact-widget"
             },
             "type": "node"
            }
           }
          },
          "systemjs_options": null
         },
         "nodeType": "Scope",
         "props": {},
         "type": "node"
        }
       ],
       "instanceArgs": {
        "namespace": "html",
        "tag": "div"
       },
       "nodeType": "DOM",
       "props": {},
       "type": "node"
      },
      "text/html": [
       "<div\n",
       "    class=\"webio-mountpoint\"\n",
       "    data-webio-mountpoint=\"4774682700647765268\"\n",
       ">\n",
       "    <script>\n",
       "    if (window.require && require.defined && require.defined(\"nbextensions/webio-jupyter-notebook\")) {\n",
       "        console.log(\"Jupyter WebIO extension detected, not mounting.\");\n",
       "    } else if (window.WebIO) {\n",
       "        WebIO.mount(\n",
       "            document.querySelector('[data-webio-mountpoint=\"4774682700647765268\"]'),\n",
       "            {\"props\":{},\"nodeType\":\"DOM\",\"type\":\"node\",\"instanceArgs\":{\"namespace\":\"html\",\"tag\":\"div\"},\"children\":[{\"props\":{\"className\":\"field interact-widget\"},\"nodeType\":\"DOM\",\"type\":\"node\",\"instanceArgs\":{\"namespace\":\"html\",\"tag\":\"div\"},\"children\":[{\"props\":{},\"nodeType\":\"Scope\",\"type\":\"node\",\"instanceArgs\":{\"imports\":{\"data\":[{\"name\":\"knockout\",\"type\":\"js\",\"url\":\"\\/assetserver\\/ec445c3635ad2e3755ac5e718c92ca301fdedb35-knockout.js\"},{\"name\":\"knockout_punches\",\"type\":\"js\",\"url\":\"\\/assetserver\\/83339d7be4b13cb796b32e311e1735b268343ced-knockout_punches.js\"},{\"name\":null,\"type\":\"js\",\"url\":\"\\/assetserver\\/5e8d29053a00bcb07412eb45a5e45e831da5deaf-all.js\"},{\"name\":null,\"type\":\"css\",\"url\":\"\\/assetserver\\/b0f8e5f50bb72f5435b24a25266064ee5434da5d-style.css\"},{\"name\":null,\"type\":\"css\",\"url\":\"\\/assetserver\\/e98c00e65cdd8ca07b622d8a89a3d4249e190915-bulma_confined.min.css\"}],\"type\":\"async_block\"},\"id\":\"15298820052026283394\",\"handlers\":{\"changes\":[\"(function (val){return (val!=this.model[\\\"changes\\\"]()) ? (this.valueFromJulia[\\\"changes\\\"]=true, this.model[\\\"changes\\\"](val)) : undefined})\"],\"index\":[\"(function (val){return (val!=this.model[\\\"index\\\"]()) ? (this.valueFromJulia[\\\"index\\\"]=true, this.model[\\\"index\\\"](val)) : undefined})\"]},\"systemjs_options\":null,\"mount_callbacks\":[\"function () {\\n    var handler = (function (ko, koPunches) {\\n    ko.punches.enableAll();\\n    ko.bindingHandlers.numericValue = {\\n        init: function(element, valueAccessor, allBindings, data, context) {\\n            var stringified = ko.observable(ko.unwrap(valueAccessor()));\\n            stringified.subscribe(function(value) {\\n                var val = parseFloat(value);\\n                if (!isNaN(val)) {\\n                    valueAccessor()(val);\\n                }\\n            });\\n            valueAccessor().subscribe(function(value) {\\n                var str = JSON.stringify(value);\\n                if ((str == \\\"0\\\") && ([\\\"-0\\\", \\\"-0.\\\"].indexOf(stringified()) >= 0))\\n                     return;\\n                 if ([\\\"null\\\", \\\"\\\"].indexOf(str) >= 0)\\n                     return;\\n                stringified(str);\\n            });\\n            ko.applyBindingsToNode(\\n                element,\\n                {\\n                    value: stringified,\\n                    valueUpdate: allBindings.get('valueUpdate'),\\n                },\\n                context,\\n            );\\n        }\\n    };\\n    var json_data = {\\\"formatted_vals\\\":[\\\"0.395453\\\",\\\"0.405453\\\",\\\"0.415453\\\",\\\"0.425453\\\",\\\"0.435453\\\",\\\"0.445453\\\",\\\"0.455453\\\",\\\"0.465453\\\",\\\"0.475453\\\",\\\"0.485453\\\",\\\"0.495453\\\",\\\"0.505453\\\",\\\"0.515453\\\",\\\"0.525453\\\",\\\"0.535453\\\",\\\"0.545453\\\",\\\"0.555453\\\",\\\"0.565453\\\",\\\"0.575453\\\",\\\"0.585453\\\",\\\"0.595453\\\",\\\"0.605453\\\",\\\"0.615453\\\",\\\"0.625453\\\",\\\"0.635453\\\",\\\"0.645453\\\",\\\"0.655453\\\",\\\"0.665453\\\"],\\\"changes\\\":WebIO.getval({\\\"name\\\":\\\"changes\\\",\\\"scope\\\":\\\"15298820052026283394\\\",\\\"id\\\":\\\"ob_03\\\",\\\"type\\\":\\\"observable\\\"}),\\\"index\\\":WebIO.getval({\\\"name\\\":\\\"index\\\",\\\"scope\\\":\\\"15298820052026283394\\\",\\\"id\\\":\\\"ob_02\\\",\\\"type\\\":\\\"observable\\\"})};\\n    var self = this;\\n    function AppViewModel() {\\n        for (var key in json_data) {\\n            var el = json_data[key];\\n            this[key] = Array.isArray(el) ? ko.observableArray(el) : ko.observable(el);\\n        }\\n        \\n        [this[\\\"formatted_val\\\"]=ko.computed(    function(){\\n        return this.formatted_vals()[parseInt(this.index())-(1)];\\n    }\\n,this)]\\n        [this[\\\"changes\\\"].subscribe((function (val){!(this.valueFromJulia[\\\"changes\\\"]) ? (WebIO.setval({\\\"name\\\":\\\"changes\\\",\\\"scope\\\":\\\"15298820052026283394\\\",\\\"id\\\":\\\"ob_03\\\",\\\"type\\\":\\\"observable\\\"},val)) : undefined; return this.valueFromJulia[\\\"changes\\\"]=false}),self),this[\\\"index\\\"].subscribe((function (val){!(this.valueFromJulia[\\\"index\\\"]) ? (WebIO.setval({\\\"name\\\":\\\"index\\\",\\\"scope\\\":\\\"15298820052026283394\\\",\\\"id\\\":\\\"ob_02\\\",\\\"type\\\":\\\"observable\\\"},val)) : undefined; return this.valueFromJulia[\\\"index\\\"]=false}),self)]\\n        \\n    }\\n    self.model = new AppViewModel();\\n    self.valueFromJulia = {};\\n    for (var key in json_data) {\\n        self.valueFromJulia[key] = false;\\n    }\\n    ko.applyBindings(self.model, self.dom);\\n}\\n);\\n    (WebIO.importBlock({\\\"data\\\":[{\\\"name\\\":\\\"knockout\\\",\\\"type\\\":\\\"js\\\",\\\"url\\\":\\\"\\/assetserver\\/ec445c3635ad2e3755ac5e718c92ca301fdedb35-knockout.js\\\"},{\\\"name\\\":\\\"knockout_punches\\\",\\\"type\\\":\\\"js\\\",\\\"url\\\":\\\"\\/assetserver\\/83339d7be4b13cb796b32e311e1735b268343ced-knockout_punches.js\\\"}],\\\"type\\\":\\\"async_block\\\"})).then((imports) => handler.apply(this, imports));\\n}\\n\"],\"observables\":{\"changes\":{\"sync\":false,\"id\":\"ob_03\",\"value\":0},\"index\":{\"sync\":true,\"id\":\"ob_02\",\"value\":14}}},\"children\":[{\"props\":{\"className\":\"interact-flex-row interact-widget\"},\"nodeType\":\"DOM\",\"type\":\"node\",\"instanceArgs\":{\"namespace\":\"html\",\"tag\":\"div\"},\"children\":[{\"props\":{\"className\":\"interact-flex-row-left\"},\"nodeType\":\"DOM\",\"type\":\"node\",\"instanceArgs\":{\"namespace\":\"html\",\"tag\":\"div\"},\"children\":[{\"props\":{\"className\":\"interact \",\"style\":{\"padding\":\"5px 10px 0px 10px\"}},\"nodeType\":\"DOM\",\"type\":\"node\",\"instanceArgs\":{\"namespace\":\"html\",\"tag\":\"label\"},\"children\":[\"xp\"]}]},{\"props\":{\"className\":\"interact-flex-row-center\"},\"nodeType\":\"DOM\",\"type\":\"node\",\"instanceArgs\":{\"namespace\":\"html\",\"tag\":\"div\"},\"children\":[{\"props\":{\"max\":28,\"min\":1,\"attributes\":{\"type\":\"range\",\"data-bind\":\"numericValue: index, valueUpdate: 'input', event: {change: function (){this.changes(this.changes()+1)}}\",\"orient\":\"horizontal\"},\"step\":1,\"className\":\"slider slider is-fullwidth\",\"style\":{}},\"nodeType\":\"DOM\",\"type\":\"node\",\"instanceArgs\":{\"namespace\":\"html\",\"tag\":\"input\"},\"children\":[]}]},{\"props\":{\"className\":\"interact-flex-row-right\"},\"nodeType\":\"DOM\",\"type\":\"node\",\"instanceArgs\":{\"namespace\":\"html\",\"tag\":\"div\"},\"children\":[{\"props\":{\"attributes\":{\"data-bind\":\"text: formatted_val\"}},\"nodeType\":\"DOM\",\"type\":\"node\",\"instanceArgs\":{\"namespace\":\"html\",\"tag\":\"p\"},\"children\":[]}]}]}]}]},{\"props\":{},\"nodeType\":\"Scope\",\"type\":\"node\",\"instanceArgs\":{\"imports\":{\"data\":[],\"type\":\"async_block\"},\"id\":\"14999218065309325998\",\"handlers\":{},\"systemjs_options\":null,\"mount_callbacks\":[],\"observables\":{\"obs-node\":{\"sync\":false,\"id\":\"ob_07\",\"value\":{\"props\":{\"className\":\"interact-flex-row interact-widget\"},\"nodeType\":\"DOM\",\"type\":\"node\",\"instanceArgs\":{\"namespace\":\"html\",\"tag\":\"div\"},\"children\":[{\"props\":{\"setInnerHtml\":\"<?xml version=\\\"1.0\\\" encoding=\\\"utf-8\\\"?>\\n<svg xmlns=\\\"http:\\/\\/www.w3.org\\/2000\\/svg\\\" xmlns:xlink=\\\"http:\\/\\/www.w3.org\\/1999\\/xlink\\\" width=\\\"600\\\" height=\\\"400\\\" viewBox=\\\"0 0 2400 1600\\\">\\n<defs>\\n  <clipPath id=\\\"clip8900\\\">\\n    <rect x=\\\"0\\\" y=\\\"0\\\" width=\\\"2400\\\" height=\\\"1600\\\"\\/>\\n  <\\/clipPath>\\n<\\/defs>\\n<polygon clip-path=\\\"url(#clip8900)\\\" points=\\\"\\n0,1600 2400,1600 2400,0 0,0 \\n  \\\" fill=\\\"#ffffff\\\" fill-rule=\\\"evenodd\\\" fill-opacity=\\\"1\\\"\\/>\\n<defs>\\n  <clipPath id=\\\"clip8901\\\">\\n    <rect x=\\\"480\\\" y=\\\"0\\\" width=\\\"1681\\\" height=\\\"1600\\\"\\/>\\n  <\\/clipPath>\\n<\\/defs>\\n<polygon clip-path=\\\"url(#clip8900)\\\" points=\\\"\\n161.394,1503.47 2321.26,1503.47 2321.26,47.2441 161.394,47.2441 \\n  \\\" fill=\\\"#ffffff\\\" fill-rule=\\\"evenodd\\\" fill-opacity=\\\"1\\\"\\/>\\n<defs>\\n  <clipPath id=\\\"clip8902\\\">\\n    <rect x=\\\"161\\\" y=\\\"47\\\" width=\\\"2161\\\" height=\\\"1457\\\"\\/>\\n  <\\/clipPath>\\n<\\/defs>\\n<polyline clip-path=\\\"url(#clip8902)\\\" style=\\\"stroke:#000000; stroke-width:2; stroke-opacity:0.1; fill:none\\\" points=\\\"\\n  179.501,1503.47 179.501,47.2441 \\n  \\\"\\/>\\n<polyline clip-path=\\\"url(#clip8902)\\\" style=\\\"stroke:#000000; stroke-width:2; stroke-opacity:0.1; fill:none\\\" points=\\\"\\n  504.338,1503.47 504.338,47.2441 \\n  \\\"\\/>\\n<polyline clip-path=\\\"url(#clip8902)\\\" style=\\\"stroke:#000000; stroke-width:2; stroke-opacity:0.1; fill:none\\\" points=\\\"\\n  829.175,1503.47 829.175,47.2441 \\n  \\\"\\/>\\n<polyline clip-path=\\\"url(#clip8902)\\\" style=\\\"stroke:#000000; stroke-width:2; stroke-opacity:0.1; fill:none\\\" points=\\\"\\n  1154.01,1503.47 1154.01,47.2441 \\n  \\\"\\/>\\n<polyline clip-path=\\\"url(#clip8902)\\\" style=\\\"stroke:#000000; stroke-width:2; stroke-opacity:0.1; fill:none\\\" points=\\\"\\n  1478.85,1503.47 1478.85,47.2441 \\n  \\\"\\/>\\n<polyline clip-path=\\\"url(#clip8902)\\\" style=\\\"stroke:#000000; stroke-width:2; stroke-opacity:0.1; fill:none\\\" points=\\\"\\n  1803.69,1503.47 1803.69,47.2441 \\n  \\\"\\/>\\n<polyline clip-path=\\\"url(#clip8902)\\\" style=\\\"stroke:#000000; stroke-width:2; stroke-opacity:0.1; fill:none\\\" points=\\\"\\n  2128.52,1503.47 2128.52,47.2441 \\n  \\\"\\/>\\n<polyline clip-path=\\\"url(#clip8902)\\\" style=\\\"stroke:#000000; stroke-width:2; stroke-opacity:0.1; fill:none\\\" points=\\\"\\n  161.394,1278.21 2321.26,1278.21 \\n  \\\"\\/>\\n<polyline clip-path=\\\"url(#clip8902)\\\" style=\\\"stroke:#000000; stroke-width:2; stroke-opacity:0.1; fill:none\\\" points=\\\"\\n  161.394,1040.18 2321.26,1040.18 \\n  \\\"\\/>\\n<polyline clip-path=\\\"url(#clip8902)\\\" style=\\\"stroke:#000000; stroke-width:2; stroke-opacity:0.1; fill:none\\\" points=\\\"\\n  161.394,802.159 2321.26,802.159 \\n  \\\"\\/>\\n<polyline clip-path=\\\"url(#clip8902)\\\" style=\\\"stroke:#000000; stroke-width:2; stroke-opacity:0.1; fill:none\\\" points=\\\"\\n  161.394,564.133 2321.26,564.133 \\n  \\\"\\/>\\n<polyline clip-path=\\\"url(#clip8902)\\\" style=\\\"stroke:#000000; stroke-width:2; stroke-opacity:0.1; fill:none\\\" points=\\\"\\n  161.394,326.108 2321.26,326.108 \\n  \\\"\\/>\\n<polyline clip-path=\\\"url(#clip8902)\\\" style=\\\"stroke:#000000; stroke-width:2; stroke-opacity:0.1; fill:none\\\" points=\\\"\\n  161.394,88.0828 2321.26,88.0828 \\n  \\\"\\/>\\n<polyline clip-path=\\\"url(#clip8900)\\\" style=\\\"stroke:#000000; stroke-width:4; stroke-opacity:1; fill:none\\\" points=\\\"\\n  161.394,1503.47 2321.26,1503.47 \\n  \\\"\\/>\\n<polyline clip-path=\\\"url(#clip8900)\\\" style=\\\"stroke:#000000; stroke-width:4; stroke-opacity:1; fill:none\\\" points=\\\"\\n  161.394,1503.47 161.394,47.2441 \\n  \\\"\\/>\\n<polyline clip-path=\\\"url(#clip8900)\\\" style=\\\"stroke:#000000; stroke-width:4; stroke-opacity:1; fill:none\\\" points=\\\"\\n  179.501,1503.47 179.501,1481.63 \\n  \\\"\\/>\\n<polyline clip-path=\\\"url(#clip8900)\\\" style=\\\"stroke:#000000; stroke-width:4; stroke-opacity:1; fill:none\\\" points=\\\"\\n  504.338,1503.47 504.338,1481.63 \\n  \\\"\\/>\\n<polyline clip-path=\\\"url(#clip8900)\\\" style=\\\"stroke:#000000; stroke-width:4; stroke-opacity:1; fill:none\\\" points=\\\"\\n  829.175,1503.47 829.175,1481.63 \\n  \\\"\\/>\\n<polyline clip-path=\\\"url(#clip8900)\\\" style=\\\"stroke:#000000; stroke-width:4; stroke-opacity:1; fill:none\\\" points=\\\"\\n  1154.01,1503.47 1154.01,1481.63 \\n  \\\"\\/>\\n<polyline clip-path=\\\"url(#clip8900)\\\" style=\\\"stroke:#000000; stroke-width:4; stroke-opacity:1; fill:none\\\" points=\\\"\\n  1478.85,1503.47 1478.85,1481.63 \\n  \\\"\\/>\\n<polyline clip-path=\\\"url(#clip8900)\\\" style=\\\"stroke:#000000; stroke-width:4; stroke-opacity:1; fill:none\\\" points=\\\"\\n  1803.69,1503.47 1803.69,1481.63 \\n  \\\"\\/>\\n<polyline clip-path=\\\"url(#clip8900)\\\" style=\\\"stroke:#000000; stroke-width:4; stroke-opacity:1; fill:none\\\" points=\\\"\\n  2128.52,1503.47 2128.52,1481.63 \\n  \\\"\\/>\\n<polyline clip-path=\\\"url(#clip8900)\\\" style=\\\"stroke:#000000; stroke-width:4; stroke-opacity:1; fill:none\\\" points=\\\"\\n  161.394,1278.21 193.792,1278.21 \\n  \\\"\\/>\\n<polyline clip-path=\\\"url(#clip8900)\\\" style=\\\"stroke:#000000; stroke-width:4; stroke-opacity:1; fill:none\\\" points=\\\"\\n  161.394,1040.18 193.792,1040.18 \\n  \\\"\\/>\\n<polyline clip-path=\\\"url(#clip8900)\\\" style=\\\"stroke:#000000; stroke-width:4; stroke-opacity:1; fill:none\\\" points=\\\"\\n  161.394,802.159 193.792,802.159 \\n  \\\"\\/>\\n<polyline clip-path=\\\"url(#clip8900)\\\" style=\\\"stroke:#000000; stroke-width:4; stroke-opacity:1; fill:none\\\" points=\\\"\\n  161.394,564.133 193.792,564.133 \\n  \\\"\\/>\\n<polyline clip-path=\\\"url(#clip8900)\\\" style=\\\"stroke:#000000; stroke-width:4; stroke-opacity:1; fill:none\\\" points=\\\"\\n  161.394,326.108 193.792,326.108 \\n  \\\"\\/>\\n<polyline clip-path=\\\"url(#clip8900)\\\" style=\\\"stroke:#000000; stroke-width:4; stroke-opacity:1; fill:none\\\" points=\\\"\\n  161.394,88.0828 193.792,88.0828 \\n  \\\"\\/>\\n<g clip-path=\\\"url(#clip8900)\\\">\\n<text style=\\\"fill:#000000; fill-opacity:1; font-family:Arial,Helvetica Neue,Helvetica,sans-serif; font-size:48px; text-anchor:middle;\\\" transform=\\\"rotate(0, 179.501, 1557.47)\\\" x=\\\"179.501\\\" y=\\\"1557.47\\\">0.3<\\/text>\\n<\\/g>\\n<g clip-path=\\\"url(#clip8900)\\\">\\n<text style=\\\"fill:#000000; fill-opacity:1; font-family:Arial,Helvetica Neue,Helvetica,sans-serif; font-size:48px; text-anchor:middle;\\\" transform=\\\"rotate(0, 504.338, 1557.47)\\\" x=\\\"504.338\\\" y=\\\"1557.47\\\">0.4<\\/text>\\n<\\/g>\\n<g clip-path=\\\"url(#clip8900)\\\">\\n<text style=\\\"fill:#000000; fill-opacity:1; font-family:Arial,Helvetica Neue,Helvetica,sans-serif; font-size:48px; text-anchor:middle;\\\" transform=\\\"rotate(0, 829.175, 1557.47)\\\" x=\\\"829.175\\\" y=\\\"1557.47\\\">0.5<\\/text>\\n<\\/g>\\n<g clip-path=\\\"url(#clip8900)\\\">\\n<text style=\\\"fill:#000000; fill-opacity:1; font-family:Arial,Helvetica Neue,Helvetica,sans-serif; font-size:48px; text-anchor:middle;\\\" transform=\\\"rotate(0, 1154.01, 1557.47)\\\" x=\\\"1154.01\\\" y=\\\"1557.47\\\">0.6<\\/text>\\n<\\/g>\\n<g clip-path=\\\"url(#clip8900)\\\">\\n<text style=\\\"fill:#000000; fill-opacity:1; font-family:Arial,Helvetica Neue,Helvetica,sans-serif; font-size:48px; text-anchor:middle;\\\" transform=\\\"rotate(0, 1478.85, 1557.47)\\\" x=\\\"1478.85\\\" y=\\\"1557.47\\\">0.7<\\/text>\\n<\\/g>\\n<g clip-path=\\\"url(#clip8900)\\\">\\n<text style=\\\"fill:#000000; fill-opacity:1; font-family:Arial,Helvetica Neue,Helvetica,sans-serif; font-size:48px; text-anchor:middle;\\\" transform=\\\"rotate(0, 1803.69, 1557.47)\\\" x=\\\"1803.69\\\" y=\\\"1557.47\\\">0.8<\\/text>\\n<\\/g>\\n<g clip-path=\\\"url(#clip8900)\\\">\\n<text style=\\\"fill:#000000; fill-opacity:1; font-family:Arial,Helvetica Neue,Helvetica,sans-serif; font-size:48px; text-anchor:middle;\\\" transform=\\\"rotate(0, 2128.52, 1557.47)\\\" x=\\\"2128.52\\\" y=\\\"1557.47\\\">0.9<\\/text>\\n<\\/g>\\n<g clip-path=\\\"url(#clip8900)\\\">\\n<text style=\\\"fill:#000000; fill-opacity:1; font-family:Arial,Helvetica Neue,Helvetica,sans-serif; font-size:48px; text-anchor:end;\\\" transform=\\\"rotate(0, 137.394, 1295.71)\\\" x=\\\"137.394\\\" y=\\\"1295.71\\\">0.1<\\/text>\\n<\\/g>\\n<g clip-path=\\\"url(#clip8900)\\\">\\n<text style=\\\"fill:#000000; fill-opacity:1; font-family:Arial,Helvetica Neue,Helvetica,sans-serif; font-size:48px; text-anchor:end;\\\" transform=\\\"rotate(0, 137.394, 1057.68)\\\" x=\\\"137.394\\\" y=\\\"1057.68\\\">0.2<\\/text>\\n<\\/g>\\n<g clip-path=\\\"url(#clip8900)\\\">\\n<text style=\\\"fill:#000000; fill-opacity:1; font-family:Arial,Helvetica Neue,Helvetica,sans-serif; font-size:48px; text-anchor:end;\\\" transform=\\\"rotate(0, 137.394, 819.659)\\\" x=\\\"137.394\\\" y=\\\"819.659\\\">0.3<\\/text>\\n<\\/g>\\n<g clip-path=\\\"url(#clip8900)\\\">\\n<text style=\\\"fill:#000000; fill-opacity:1; font-family:Arial,Helvetica Neue,Helvetica,sans-serif; font-size:48px; text-anchor:end;\\\" transform=\\\"rotate(0, 137.394, 581.633)\\\" x=\\\"137.394\\\" y=\\\"581.633\\\">0.4<\\/text>\\n<\\/g>\\n<g clip-path=\\\"url(#clip8900)\\\">\\n<text style=\\\"fill:#000000; fill-opacity:1; font-family:Arial,Helvetica Neue,Helvetica,sans-serif; font-size:48px; text-anchor:end;\\\" transform=\\\"rotate(0, 137.394, 343.608)\\\" x=\\\"137.394\\\" y=\\\"343.608\\\">0.5<\\/text>\\n<\\/g>\\n<g clip-path=\\\"url(#clip8900)\\\">\\n<text style=\\\"fill:#000000; fill-opacity:1; font-family:Arial,Helvetica Neue,Helvetica,sans-serif; font-size:48px; text-anchor:end;\\\" transform=\\\"rotate(0, 137.394, 105.583)\\\" x=\\\"137.394\\\" y=\\\"105.583\\\">0.6<\\/text>\\n<\\/g>\\n<circle clip-path=\\\"url(#clip8902)\\\" style=\\\"fill:#000000; stroke:none; fill-opacity:1\\\" cx=\\\"222.522\\\" cy=\\\"121.354\\\" r=\\\"18\\\"\\/>\\n<circle clip-path=\\\"url(#clip8902)\\\" style=\\\"fill:#009af9; stroke:none; fill-opacity:1\\\" cx=\\\"222.522\\\" cy=\\\"121.354\\\" r=\\\"14\\\"\\/>\\n<circle clip-path=\\\"url(#clip8902)\\\" style=\\\"fill:#000000; stroke:none; fill-opacity:1\\\" cx=\\\"489.568\\\" cy=\\\"1392.14\\\" r=\\\"18\\\"\\/>\\n<circle clip-path=\\\"url(#clip8902)\\\" style=\\\"fill:#009af9; stroke:none; fill-opacity:1\\\" cx=\\\"489.568\\\" cy=\\\"1392.14\\\" r=\\\"14\\\"\\/>\\n<circle clip-path=\\\"url(#clip8902)\\\" style=\\\"fill:#000000; stroke:none; fill-opacity:1\\\" cx=\\\"911.856\\\" cy=\\\"876.805\\\" r=\\\"18\\\"\\/>\\n<circle clip-path=\\\"url(#clip8902)\\\" style=\\\"fill:#009af9; stroke:none; fill-opacity:1\\\" cx=\\\"911.856\\\" cy=\\\"876.805\\\" r=\\\"14\\\"\\/>\\n<circle clip-path=\\\"url(#clip8902)\\\" style=\\\"fill:#000000; stroke:none; fill-opacity:1\\\" cx=\\\"1394.26\\\" cy=\\\"1257.09\\\" r=\\\"18\\\"\\/>\\n<circle clip-path=\\\"url(#clip8902)\\\" style=\\\"fill:#009af9; stroke:none; fill-opacity:1\\\" cx=\\\"1394.26\\\" cy=\\\"1257.09\\\" r=\\\"14\\\"\\/>\\n<circle clip-path=\\\"url(#clip8902)\\\" style=\\\"fill:#000000; stroke:none; fill-opacity:1\\\" cx=\\\"1701.19\\\" cy=\\\"1126.67\\\" r=\\\"18\\\"\\/>\\n<circle clip-path=\\\"url(#clip8902)\\\" style=\\\"fill:#009af9; stroke:none; fill-opacity:1\\\" cx=\\\"1701.19\\\" cy=\\\"1126.67\\\" r=\\\"14\\\"\\/>\\n<circle clip-path=\\\"url(#clip8902)\\\" style=\\\"fill:#000000; stroke:none; fill-opacity:1\\\" cx=\\\"2260.13\\\" cy=\\\"390.335\\\" r=\\\"18\\\"\\/>\\n<circle clip-path=\\\"url(#clip8902)\\\" style=\\\"fill:#009af9; stroke:none; fill-opacity:1\\\" cx=\\\"2260.13\\\" cy=\\\"390.335\\\" r=\\\"14\\\"\\/>\\n<polyline clip-path=\\\"url(#clip8902)\\\" style=\\\"stroke:#e26f46; stroke-width:4; stroke-opacity:1; fill:none\\\" points=\\\"\\n  222.522,121.354 232.762,184.206 243.001,246.933 253.24,309.41 263.479,371.513 273.719,433.117 283.958,494.097 294.197,554.329 304.436,613.686 314.675,672.046 \\n  324.915,729.282 335.154,785.27 345.393,839.886 355.632,893.004 365.872,944.5 376.111,994.249 386.35,1042.13 396.589,1088.01 406.829,1131.76 417.068,1173.28 \\n  427.307,1212.42 437.546,1249.06 447.786,1283.09 458.025,1314.37 468.264,1342.78 478.503,1368.19 488.743,1390.49 498.982,1409.57 509.221,1425.51 519.46,1438.42 \\n  529.7,1448.43 539.939,1455.66 550.178,1460.23 560.417,1462.26 570.657,1461.87 580.896,1459.18 591.135,1454.31 601.374,1447.38 611.614,1438.51 621.853,1427.83 \\n  632.092,1415.45 642.331,1401.49 652.57,1386.08 662.81,1369.33 673.049,1351.37 683.288,1332.31 693.527,1312.29 703.767,1291.41 714.006,1269.79 724.245,1247.57 \\n  734.484,1224.86 744.724,1201.77 754.963,1178.44 765.202,1154.98 775.441,1131.51 785.681,1108.15 795.92,1085.03 806.159,1062.25 816.398,1039.96 826.638,1018.25 \\n  836.877,997.268 847.116,977.117 857.355,957.922 867.595,939.805 877.834,922.885 888.073,907.284 898.312,893.122 908.552,880.519 918.791,869.588 929.03,860.335 \\n  939.269,852.706 949.509,846.642 959.748,842.087 969.987,838.983 980.226,837.273 990.466,836.899 1000.7,837.805 1010.94,839.933 1021.18,843.226 1031.42,847.626 \\n  1041.66,853.076 1051.9,859.519 1062.14,866.898 1072.38,875.156 1082.62,884.234 1092.86,894.077 1103.1,904.626 1113.34,915.824 1123.58,927.614 1133.81,939.939 \\n  1144.05,952.741 1154.29,965.964 1164.53,979.549 1174.77,993.44 1185.01,1007.58 1195.25,1021.91 1205.49,1036.37 1215.73,1050.91 1225.97,1065.47 1236.21,1080 \\n  1246.45,1094.42 1256.69,1108.7 1266.93,1122.76 1277.16,1136.56 1287.4,1150.03 1297.64,1163.12 1307.88,1175.77 1318.12,1187.93 1328.36,1199.53 1338.6,1210.52 \\n  1348.84,1220.84 1359.08,1230.44 1369.32,1239.25 1379.56,1247.23 1389.8,1254.31 1400.04,1260.43 1410.27,1265.59 1420.51,1269.82 1430.75,1273.14 1440.99,1275.58 \\n  1451.23,1277.16 1461.47,1277.92 1471.71,1277.88 1481.95,1277.07 1492.19,1275.52 1502.43,1273.25 1512.67,1270.29 1522.91,1266.68 1533.15,1262.43 1543.38,1257.58 \\n  1553.62,1252.15 1563.86,1246.17 1574.1,1239.68 1584.34,1232.68 1594.58,1225.22 1604.82,1217.33 1615.06,1209.02 1625.3,1200.33 1635.54,1191.28 1645.78,1181.91 \\n  1656.02,1172.23 1666.26,1162.29 1676.49,1152.09 1686.73,1141.68 1696.97,1131.09 1707.21,1120.32 1717.45,1109.41 1727.69,1098.36 1737.93,1087.15 1748.17,1075.81 \\n  1758.41,1064.33 1768.65,1052.72 1778.89,1040.97 1789.13,1029.1 1799.37,1017.09 1809.6,1004.96 1819.84,992.715 1830.08,980.348 1840.32,967.864 1850.56,955.268 \\n  1860.8,942.561 1871.04,929.747 1881.28,916.827 1891.52,903.806 1901.76,890.685 1912,877.468 1922.24,864.157 1932.48,850.755 1942.72,837.265 1952.95,823.689 \\n  1963.19,810.031 1973.43,796.292 1983.67,782.476 1993.91,768.586 2004.15,754.624 2014.39,740.593 2024.63,726.496 2034.87,712.336 2045.11,698.114 2055.35,683.835 \\n  2065.59,669.501 2075.83,655.114 2086.06,640.678 2096.3,626.194 2106.54,611.667 2116.78,597.098 2127.02,582.491 2137.26,567.847 2147.5,553.171 2157.74,538.464 \\n  2167.98,523.73 2178.22,508.971 2188.46,494.19 2198.7,479.389 2208.94,464.572 2219.17,449.741 2229.41,434.899 2239.65,420.049 2249.89,405.193 2260.13,390.335 \\n  \\n  \\\"\\/>\\n<polyline clip-path=\\\"url(#clip8902)\\\" style=\\\"stroke:#3da44d; stroke-width:4; stroke-opacity:1; fill:none\\\" points=\\\"\\n  222.522,121.354 232.762,242.347 243.001,355.395 253.24,460.809 263.479,558.891 273.719,649.936 283.958,734.236 294.197,812.072 304.436,883.721 314.675,949.451 \\n  324.915,1009.53 335.154,1064.2 345.393,1113.73 355.632,1158.36 365.872,1198.32 376.111,1233.84 386.35,1265.16 396.589,1292.49 406.829,1316.04 417.068,1336.02 \\n  427.307,1352.63 437.546,1366.08 447.786,1376.54 458.025,1384.21 468.264,1389.26 478.503,1391.87 488.743,1392.21 498.982,1390.44 509.221,1386.71 519.46,1381.19 \\n  529.7,1374.01 539.939,1365.32 550.178,1355.26 560.417,1343.96 570.657,1331.55 580.896,1318.15 591.135,1303.88 601.374,1288.85 611.614,1273.17 621.853,1256.95 \\n  632.092,1240.28 642.331,1223.27 652.57,1206 662.81,1188.56 673.049,1171.03 683.288,1153.5 693.527,1136.04 703.767,1118.71 714.006,1101.58 724.245,1084.73 \\n  734.484,1068.2 744.724,1052.06 754.963,1036.36 765.202,1021.13 775.441,1006.44 785.681,992.322 795.92,978.812 806.159,965.946 816.398,953.758 826.638,942.275 \\n  836.877,931.523 847.116,921.526 857.355,912.302 867.595,903.869 877.834,896.242 888.073,889.431 898.312,883.445 908.552,878.29 918.791,873.971 929.03,870.487 \\n  939.269,867.839 949.509,866.023 959.748,865.032 969.987,864.86 980.226,865.495 990.466,866.926 1000.7,869.14 1010.94,872.119 1021.18,875.847 1031.42,880.304 \\n  1041.66,885.468 1051.9,891.317 1062.14,897.827 1072.38,904.971 1082.62,912.722 1092.86,921.052 1103.1,929.931 1113.34,939.327 1123.58,949.209 1133.81,959.543 \\n  1144.05,970.295 1154.29,981.428 1164.53,992.908 1174.77,1004.7 1185.01,1016.76 1195.25,1029.05 1205.49,1041.54 1215.73,1054.18 1225.97,1066.94 1236.21,1079.77 \\n  1246.45,1092.64 1256.69,1105.49 1266.93,1118.3 1277.16,1131.02 1287.4,1143.61 1297.64,1156.03 1307.88,1168.23 1318.12,1180.18 1328.36,1191.84 1338.6,1203.15 \\n  1348.84,1214.1 1359.08,1224.63 1369.32,1234.7 1379.56,1244.28 1389.8,1253.33 1400.04,1261.81 1410.27,1269.68 1420.51,1276.92 1430.75,1283.48 1440.99,1289.33 \\n  1451.23,1294.44 1461.47,1298.77 1471.71,1302.3 1481.95,1305 1492.19,1306.84 1502.43,1307.79 1512.67,1307.83 1522.91,1306.93 1533.15,1305.08 1543.38,1302.25 \\n  1553.62,1298.42 1563.86,1293.58 1574.1,1287.71 1584.34,1280.8 1594.58,1272.84 1604.82,1263.82 1615.06,1253.73 1625.3,1242.57 1635.54,1230.34 1645.78,1217.04 \\n  1656.02,1202.67 1666.26,1187.23 1676.49,1170.74 1686.73,1153.2 1696.97,1134.62 1707.21,1115.03 1717.45,1094.44 1727.69,1072.87 1737.93,1050.34 1748.17,1026.9 \\n  1758.41,1002.55 1768.65,977.349 1778.89,951.321 1789.13,924.509 1799.37,896.958 1809.6,868.714 1819.84,839.829 1830.08,810.356 1840.32,780.354 1850.56,749.884 \\n  1860.8,719.012 1871.04,687.807 1881.28,656.342 1891.52,624.696 1901.76,592.949 1912,561.186 1922.24,529.498 1932.48,497.978 1942.72,466.725 1952.95,435.842 \\n  1963.19,405.435 1973.43,375.617 1983.67,346.504 1993.91,318.217 2004.15,290.881 2014.39,264.628 2024.63,239.593 2034.87,215.916 2045.11,193.744 2055.35,173.226 \\n  2065.59,154.518 2075.83,137.782 2086.06,123.183 2096.3,110.894 2106.54,101.092 2116.78,93.9586 2127.02,89.6827 2137.26,88.4582 2147.5,90.4845 2157.74,95.967 \\n  2167.98,105.117 2178.22,118.151 2188.46,135.294 2198.7,156.773 2208.94,182.824 2219.17,213.689 2229.41,249.615 2239.65,290.857 2249.89,337.674 2260.13,390.335 \\n  \\n  \\\"\\/>\\n<polygon clip-path=\\\"url(#clip8900)\\\" points=\\\"\\n1958.43,372.684 2249.26,372.684 2249.26,130.764 1958.43,130.764 \\n  \\\" fill=\\\"#ffffff\\\" fill-rule=\\\"evenodd\\\" fill-opacity=\\\"1\\\"\\/>\\n<polyline clip-path=\\\"url(#clip8900)\\\" style=\\\"stroke:#000000; stroke-width:4; stroke-opacity:1; fill:none\\\" points=\\\"\\n  1958.43,372.684 2249.26,372.684 2249.26,130.764 1958.43,130.764 1958.43,372.684 \\n  \\\"\\/>\\n<circle clip-path=\\\"url(#clip8900)\\\" style=\\\"fill:#000000; stroke:none; fill-opacity:1\\\" cx=\\\"2066.43\\\" cy=\\\"191.244\\\" r=\\\"25\\\"\\/>\\n<circle clip-path=\\\"url(#clip8900)\\\" style=\\\"fill:#009af9; stroke:none; fill-opacity:1\\\" cx=\\\"2066.43\\\" cy=\\\"191.244\\\" r=\\\"21\\\"\\/>\\n<g clip-path=\\\"url(#clip8900)\\\">\\n<text style=\\\"fill:#000000; fill-opacity:1; font-family:Arial,Helvetica Neue,Helvetica,sans-serif; font-size:48px; text-anchor:start;\\\" transform=\\\"rotate(0, 2150.43, 208.744)\\\" x=\\\"2150.43\\\" y=\\\"208.744\\\">y1<\\/text>\\n<\\/g>\\n<polyline clip-path=\\\"url(#clip8900)\\\" style=\\\"stroke:#e26f46; stroke-width:4; stroke-opacity:1; fill:none\\\" points=\\\"\\n  1982.43,251.724 2126.43,251.724 \\n  \\\"\\/>\\n<g clip-path=\\\"url(#clip8900)\\\">\\n<text style=\\\"fill:#000000; fill-opacity:1; font-family:Arial,Helvetica Neue,Helvetica,sans-serif; font-size:48px; text-anchor:start;\\\" transform=\\\"rotate(0, 2150.43, 269.224)\\\" x=\\\"2150.43\\\" y=\\\"269.224\\\">y2<\\/text>\\n<\\/g>\\n<polyline clip-path=\\\"url(#clip8900)\\\" style=\\\"stroke:#3da44d; stroke-width:4; stroke-opacity:1; fill:none\\\" points=\\\"\\n  1982.43,312.204 2126.43,312.204 \\n  \\\"\\/>\\n<g clip-path=\\\"url(#clip8900)\\\">\\n<text style=\\\"fill:#000000; fill-opacity:1; font-family:Arial,Helvetica Neue,Helvetica,sans-serif; font-size:48px; text-anchor:start;\\\" transform=\\\"rotate(0, 2150.43, 329.704)\\\" x=\\\"2150.43\\\" y=\\\"329.704\\\">y3<\\/text>\\n<\\/g>\\n<\\/svg>\\n\"},\"nodeType\":\"DOM\",\"type\":\"node\",\"instanceArgs\":{\"namespace\":\"html\",\"tag\":\"div\"},\"children\":[]}]}}}},\"children\":[{\"props\":{},\"nodeType\":\"ObservableNode\",\"type\":\"node\",\"instanceArgs\":{\"id\":\"ob_07\",\"name\":\"obs-node\"},\"children\":[]}]}]},\n",
       "            window,\n",
       "        );\n",
       "    } else {\n",
       "        document\n",
       "            .querySelector('[data-webio-mountpoint=\"4774682700647765268\"]')\n",
       "            .innerHTML = (\n",
       "                '<strong>WebIO not detected. Please read ' +\n",
       "                '<a href=\"https://juliagizmos.github.io/WebIO.jl/latest/troubleshooting/not-detected/\">the troubleshooting guide</a> ' +\n",
       "                'for more information on how to resolve this issue.' +\n",
       "                '</strong>'\n",
       "            );\n",
       "    }\n",
       "    </script>\n",
       "</div>\n"
      ],
      "text/plain": [
       "Node{WebIO.DOM}(WebIO.DOM(:html, :div), Any[Node{DOM}(DOM(:html, :div), Any[Scope(Node{DOM}(DOM(:html, :div), Any[Node{DOM}(DOM(:html, :div), Any[Node{DOM}(DOM(:html, :label), Any[\"xp\"], Dict{Symbol,Any}(:className=>\"interact \",:style=>Dict{Any,Any}(:padding=>\"5px 10px 0px 10px\")))], Dict{Symbol,Any}(:className=>\"interact-flex-row-left\")), Node{DOM}(DOM(:html, :div), Any[Node{DOM}(DOM(:html, :input), Any[], Dict{Symbol,Any}(:max=>28,:min=>1,:attributes=>Dict{Any,Any}(:type=>\"range\",Symbol(\"data-bind\")=>\"numericValue: index, valueUpdate: 'input', event: {change: function (){this.changes(this.changes()+1)}}\",\"orient\"=>\"horizontal\"),:step=>1,:className=>\"slider slider is-fullwidth\",:style=>Dict{Any,Any}()))], Dict{Symbol,Any}(:className=>\"interact-flex-row-center\")), Node{DOM}(DOM(:html, :div), Any[Node{DOM}(DOM(:html, :p), Any[], Dict{Symbol,Any}(:attributes=>Dict(\"data-bind\"=>\"text: formatted_val\")))], Dict{Symbol,Any}(:className=>\"interact-flex-row-right\"))], Dict{Symbol,Any}(:className=>\"interact-flex-row interact-widget\")), Dict{String,Tuple{Observables.AbstractObservable,Union{Nothing, Bool}}}(\"changes\"=>(Observable{Int64} with 1 listeners. Value:\n",
       "0, nothing),\"index\"=>(Observable{Any} with 2 listeners. Value:\n",
       "14, nothing)), Set(String[]), nothing, Asset[Asset(\"js\", \"knockout\", \"C:\\\\Users\\\\Ivan_Slapnicar\\\\.julia\\\\packages\\\\Knockout\\\\1sDlc\\\\src\\\\..\\\\assets\\\\knockout.js\"), Asset(\"js\", \"knockout_punches\", \"C:\\\\Users\\\\Ivan_Slapnicar\\\\.julia\\\\packages\\\\Knockout\\\\1sDlc\\\\src\\\\..\\\\assets\\\\knockout_punches.js\"), Asset(\"js\", nothing, \"C:\\\\Users\\\\Ivan_Slapnicar\\\\.julia\\\\packages\\\\InteractBase\\\\9mFwe\\\\src\\\\..\\\\assets\\\\all.js\"), Asset(\"css\", nothing, \"C:\\\\Users\\\\Ivan_Slapnicar\\\\.julia\\\\packages\\\\InteractBase\\\\9mFwe\\\\src\\\\..\\\\assets\\\\style.css\"), Asset(\"css\", nothing, \"C:\\\\Users\\\\Ivan_Slapnicar\\\\.julia\\\\packages\\\\Interact\\\\0klKX\\\\src\\\\..\\\\assets\\\\bulma_confined.min.css\")], Dict{Any,Any}(\"changes\"=>Any[JSString(\"(function (val){return (val!=this.model[\\\"changes\\\"]()) ? (this.valueFromJulia[\\\"changes\\\"]=true, this.model[\\\"changes\\\"](val)) : undefined})\")],\"index\"=>Any[JSString(\"(function (val){return (val!=this.model[\\\"index\\\"]()) ? (this.valueFromJulia[\\\"index\\\"]=true, this.model[\\\"index\\\"](val)) : undefined})\")]), ConnectionPool(Channel{Any}(sz_max:32,sz_curr:0), Set(AbstractConnection[]), Condition(Any[Task (runnable) @0x0000000023847990])), WebIO.JSString[JSString(\"function () {\\n    var handler = (function (ko, koPunches) {\\n    ko.punches.enableAll();\\n    ko.bindingHandlers.numericValue = {\\n        init: function(element, valueAccessor, allBindings, data, context) {\\n            var stringified = ko.observable(ko.unwrap(valueAccessor()));\\n            stringified.subscribe(function(value) {\\n                var val = parseFloat(value);\\n                if (!isNaN(val)) {\\n                    valueAccessor()(val);\\n                }\\n            });\\n            valueAccessor().subscribe(function(value) {\\n                var str = JSON.stringify(value);\\n                if ((str == \\\"0\\\") && ([\\\"-0\\\", \\\"-0.\\\"].indexOf(stringified()) >= 0))\\n                     return;\\n                 if ([\\\"null\\\", \\\"\\\"].indexOf(str) >= 0)\\n                     return;\\n                stringified(str);\\n            });\\n            ko.applyBindingsToNode(\\n                element,\\n                {\\n                    value: stringified,\\n                    valueUpdate: allBindings.get('valueUpdate'),\\n                },\\n                context,\\n            );\\n        }\\n    };\\n    var json_data = {\\\"formatted_vals\\\":[\\\"0.395453\\\",\\\"0.405453\\\",\\\"0.415453\\\",\\\"0.425453\\\",\\\"0.435453\\\",\\\"0.445453\\\",\\\"0.455453\\\",\\\"0.465453\\\",\\\"0.475453\\\",\\\"0.485453\\\",\\\"0.495453\\\",\\\"0.505453\\\",\\\"0.515453\\\",\\\"0.525453\\\",\\\"0.535453\\\",\\\"0.545453\\\",\\\"0.555453\\\",\\\"0.565453\\\",\\\"0.575453\\\",\\\"0.585453\\\",\\\"0.595453\\\",\\\"0.605453\\\",\\\"0.615453\\\",\\\"0.625453\\\",\\\"0.635453\\\",\\\"0.645453\\\",\\\"0.655453\\\",\\\"0.665453\\\"],\\\"changes\\\":WebIO.getval({\\\"name\\\":\\\"changes\\\",\\\"scope\\\":\\\"15298820052026283394\\\",\\\"id\\\":\\\"ob_03\\\",\\\"type\\\":\\\"observable\\\"}),\\\"index\\\":WebIO.getval({\\\"name\\\":\\\"index\\\",\\\"scope\\\":\\\"15298820052026283394\\\",\\\"id\\\":\\\"ob_02\\\",\\\"type\\\":\\\"observable\\\"})};\\n    var self = this;\\n    function AppViewModel() {\\n        for (var key in json_data) {\\n            var el = json_data[key];\\n            this[key] = Array.isArray(el) ? ko.observableArray(el) : ko.observable(el);\\n        }\\n        \\n        [this[\\\"formatted_val\\\"]=ko.computed(    function(){\\n        return this.formatted_vals()[parseInt(this.index())-(1)];\\n    }\\n,this)]\\n        [this[\\\"changes\\\"].subscribe((function (val){!(this.valueFromJulia[\\\"changes\\\"]) ? (WebIO.setval({\\\"name\\\":\\\"changes\\\",\\\"scope\\\":\\\"15298820052026283394\\\",\\\"id\\\":\\\"ob_03\\\",\\\"type\\\":\\\"observable\\\"},val)) : undefined; return this.valueFromJulia[\\\"changes\\\"]=false}),self),this[\\\"index\\\"].subscribe((function (val){!(this.valueFromJulia[\\\"index\\\"]) ? (WebIO.setval({\\\"name\\\":\\\"index\\\",\\\"scope\\\":\\\"15298820052026283394\\\",\\\"id\\\":\\\"ob_02\\\",\\\"type\\\":\\\"observable\\\"},val)) : undefined; return this.valueFromJulia[\\\"index\\\"]=false}),self)]\\n        \\n    }\\n    self.model = new AppViewModel();\\n    self.valueFromJulia = {};\\n    for (var key in json_data) {\\n        self.valueFromJulia[key] = false;\\n    }\\n    ko.applyBindings(self.model, self.dom);\\n}\\n);\\n    (WebIO.importBlock({\\\"data\\\":[{\\\"name\\\":\\\"knockout\\\",\\\"type\\\":\\\"js\\\",\\\"url\\\":\\\"/assetserver/ec445c3635ad2e3755ac5e718c92ca301fdedb35-knockout.js\\\"},{\\\"name\\\":\\\"knockout_punches\\\",\\\"type\\\":\\\"js\\\",\\\"url\\\":\\\"/assetserver/83339d7be4b13cb796b32e311e1735b268343ced-knockout_punches.js\\\"}],\\\"type\\\":\\\"async_block\\\"})).then((imports) => handler.apply(this, imports));\\n}\\n\")])], Dict{Symbol,Any}(:className=>\"field interact-widget\")), Observable{Any} with 0 listeners. Value:\n",
       "Node{DOM}(DOM(:html, :div), Any[Plot{Plots.GRBackend() n=3}], Dict{Symbol,Any}(:className=>\"interact-flex-row interact-widget\"))], Dict{Symbol,Any}())"
      ]
     },
     "execution_count": 10,
     "metadata": {
      "application/vnd.webio.node+json": {
       "kernelId": "a21352aa-39ed-4531-b9d0-b914ff794ca1"
      }
     },
     "output_type": "execute_result"
    }
   ],
   "source": [
    "# Traje duze!\n",
    "point=3\n",
    "xc=deepcopy(x)\n",
    "\n",
    "ySpline=Array{Float64}(undef,lsize)\n",
    "yPoly=Array{Float64}(undef,lsize)\n",
    "C=Array{Any}(undef,n)\n",
    "\n",
    "@manipulate for xp=xc[point-1]:0.01:xc[point+1]\n",
    "    xc[point]=xp\n",
    "    h=xc[2:end]-xc[1:end-1]\n",
    "    d=(y[2:end]-y[1:end-1])./h\n",
    "    H=SymTridiagonal(2*(h[1:end-1]+h[2:end]),h[2:end-1])\n",
    "    b1=6*(d[2:end]-d[1:end-1])\n",
    "    s=H\\b1\n",
    "    s=[0;s;0]\n",
    "    b=d-(s[2:end]-s[1:end-1]).*h/6\n",
    "    C=[xx-> \n",
    "    y[i]-s[i]*h[i]^2/6+b[i]*(xx-xc[i])+s[i]*(xc[i+1]-xx)^3/(6*h[i])+s[i+1]*(xx-xc[i])^3/(6*h[i])\n",
    "        for i=1:n]\n",
    "    for i=1:lsize\n",
    "        for k=1:n\n",
    "            if xx[i]<=xc[k+1]\n",
    "                ySpline[i]=C[k](xx[i])\n",
    "                break\n",
    "            end\n",
    "        end\n",
    "    end\n",
    "    A=Vandermonde(xc)\n",
    "    p=Poly(A\\y)\n",
    "    yPoly=polyval(p,xx)\n",
    "    scatter(xc,y)\n",
    "    plot!(xx,[ySpline yPoly])\n",
    "end"
   ]
  },
  {
   "cell_type": "markdown",
   "metadata": {},
   "source": [
    "## Primjer - Interpolacija funkcije $\\sin(x)$"
   ]
  },
  {
   "cell_type": "code",
   "execution_count": 11,
   "metadata": {},
   "outputs": [
    {
     "data": {
      "application/vnd.webio.node+json": {
       "children": [
        {
         "children": [
          {
           "children": [
            {
             "children": [
              {
               "children": [
                {
                 "children": [
                  "xp"
                 ],
                 "instanceArgs": {
                  "namespace": "html",
                  "tag": "label"
                 },
                 "nodeType": "DOM",
                 "props": {
                  "className": "interact ",
                  "style": {
                   "padding": "5px 10px 0px 10px"
                  }
                 },
                 "type": "node"
                }
               ],
               "instanceArgs": {
                "namespace": "html",
                "tag": "div"
               },
               "nodeType": "DOM",
               "props": {
                "className": "interact-flex-row-left"
               },
               "type": "node"
              },
              {
               "children": [
                {
                 "children": [],
                 "instanceArgs": {
                  "namespace": "html",
                  "tag": "input"
                 },
                 "nodeType": "DOM",
                 "props": {
                  "attributes": {
                   "data-bind": "numericValue: index, valueUpdate: 'input', event: {change: function (){this.changes(this.changes()+1)}}",
                   "orient": "horizontal",
                   "type": "range"
                  },
                  "className": "slider slider is-fullwidth",
                  "max": 126,
                  "min": 1,
                  "step": 1,
                  "style": {}
                 },
                 "type": "node"
                }
               ],
               "instanceArgs": {
                "namespace": "html",
                "tag": "div"
               },
               "nodeType": "DOM",
               "props": {
                "className": "interact-flex-row-center"
               },
               "type": "node"
              },
              {
               "children": [
                {
                 "children": [],
                 "instanceArgs": {
                  "namespace": "html",
                  "tag": "p"
                 },
                 "nodeType": "DOM",
                 "props": {
                  "attributes": {
                   "data-bind": "text: formatted_val"
                  }
                 },
                 "type": "node"
                }
               ],
               "instanceArgs": {
                "namespace": "html",
                "tag": "div"
               },
               "nodeType": "DOM",
               "props": {
                "className": "interact-flex-row-right"
               },
               "type": "node"
              }
             ],
             "instanceArgs": {
              "namespace": "html",
              "tag": "div"
             },
             "nodeType": "DOM",
             "props": {
              "className": "interact-flex-row interact-widget"
             },
             "type": "node"
            }
           ],
           "instanceArgs": {
            "handlers": {
             "changes": [
              "(function (val){return (val!=this.model[\"changes\"]()) ? (this.valueFromJulia[\"changes\"]=true, this.model[\"changes\"](val)) : undefined})"
             ],
             "index": [
              "(function (val){return (val!=this.model[\"index\"]()) ? (this.valueFromJulia[\"index\"]=true, this.model[\"index\"](val)) : undefined})"
             ]
            },
            "id": "12390228259067677744",
            "imports": {
             "data": [
              {
               "name": "knockout",
               "type": "js",
               "url": "/assetserver/ec445c3635ad2e3755ac5e718c92ca301fdedb35-knockout.js"
              },
              {
               "name": "knockout_punches",
               "type": "js",
               "url": "/assetserver/83339d7be4b13cb796b32e311e1735b268343ced-knockout_punches.js"
              },
              {
               "name": null,
               "type": "js",
               "url": "/assetserver/5e8d29053a00bcb07412eb45a5e45e831da5deaf-all.js"
              },
              {
               "name": null,
               "type": "css",
               "url": "/assetserver/b0f8e5f50bb72f5435b24a25266064ee5434da5d-style.css"
              },
              {
               "name": null,
               "type": "css",
               "url": "/assetserver/e98c00e65cdd8ca07b622d8a89a3d4249e190915-bulma_confined.min.css"
              }
             ],
             "type": "async_block"
            },
            "mount_callbacks": [
             "function () {\n    var handler = (function (ko, koPunches) {\n    ko.punches.enableAll();\n    ko.bindingHandlers.numericValue = {\n        init: function(element, valueAccessor, allBindings, data, context) {\n            var stringified = ko.observable(ko.unwrap(valueAccessor()));\n            stringified.subscribe(function(value) {\n                var val = parseFloat(value);\n                if (!isNaN(val)) {\n                    valueAccessor()(val);\n                }\n            });\n            valueAccessor().subscribe(function(value) {\n                var str = JSON.stringify(value);\n                if ((str == \"0\") && ([\"-0\", \"-0.\"].indexOf(stringified()) >= 0))\n                     return;\n                 if ([\"null\", \"\"].indexOf(str) >= 0)\n                     return;\n                stringified(str);\n            });\n            ko.applyBindingsToNode(\n                element,\n                {\n                    value: stringified,\n                    valueUpdate: allBindings.get('valueUpdate'),\n                },\n                context,\n            );\n        }\n    };\n    var json_data = {\"formatted_vals\":[\"0.628319\",\"0.638319\",\"0.648319\",\"0.658319\",\"0.668319\",\"0.678319\",\"0.688319\",\"0.698319\",\"0.708319\",\"0.718319\",\"0.728319\",\"0.738319\",\"0.748319\",\"0.758319\",\"0.768319\",\"0.778319\",\"0.788319\",\"0.798319\",\"0.808319\",\"0.818319\",\"0.828319\",\"0.838319\",\"0.848319\",\"0.858319\",\"0.868319\",\"0.878319\",\"0.888319\",\"0.898319\",\"0.908319\",\"0.918319\",\"0.928319\",\"0.938319\",\"0.948319\",\"0.958319\",\"0.968319\",\"0.978319\",\"0.988319\",\"0.998319\",\"1.00832\",\"1.01832\",\"1.02832\",\"1.03832\",\"1.04832\",\"1.05832\",\"1.06832\",\"1.07832\",\"1.08832\",\"1.09832\",\"1.10832\",\"1.11832\",\"1.12832\",\"1.13832\",\"1.14832\",\"1.15832\",\"1.16832\",\"1.17832\",\"1.18832\",\"1.19832\",\"1.20832\",\"1.21832\",\"1.22832\",\"1.23832\",\"1.24832\",\"1.25832\",\"1.26832\",\"1.27832\",\"1.28832\",\"1.29832\",\"1.30832\",\"1.31832\",\"1.32832\",\"1.33832\",\"1.34832\",\"1.35832\",\"1.36832\",\"1.37832\",\"1.38832\",\"1.39832\",\"1.40832\",\"1.41832\",\"1.42832\",\"1.43832\",\"1.44832\",\"1.45832\",\"1.46832\",\"1.47832\",\"1.48832\",\"1.49832\",\"1.50832\",\"1.51832\",\"1.52832\",\"1.53832\",\"1.54832\",\"1.55832\",\"1.56832\",\"1.57832\",\"1.58832\",\"1.59832\",\"1.60832\",\"1.61832\",\"1.62832\",\"1.63832\",\"1.64832\",\"1.65832\",\"1.66832\",\"1.67832\",\"1.68832\",\"1.69832\",\"1.70832\",\"1.71832\",\"1.72832\",\"1.73832\",\"1.74832\",\"1.75832\",\"1.76832\",\"1.77832\",\"1.78832\",\"1.79832\",\"1.80832\",\"1.81832\",\"1.82832\",\"1.83832\",\"1.84832\",\"1.85832\",\"1.86832\",\"1.87832\"],\"changes\":WebIO.getval({\"name\":\"changes\",\"scope\":\"12390228259067677744\",\"id\":\"ob_12\",\"type\":\"observable\"}),\"index\":WebIO.getval({\"name\":\"index\",\"scope\":\"12390228259067677744\",\"id\":\"ob_11\",\"type\":\"observable\"})};\n    var self = this;\n    function AppViewModel() {\n        for (var key in json_data) {\n            var el = json_data[key];\n            this[key] = Array.isArray(el) ? ko.observableArray(el) : ko.observable(el);\n        }\n        \n        [this[\"formatted_val\"]=ko.computed(    function(){\n        return this.formatted_vals()[parseInt(this.index())-(1)];\n    }\n,this)]\n        [this[\"changes\"].subscribe((function (val){!(this.valueFromJulia[\"changes\"]) ? (WebIO.setval({\"name\":\"changes\",\"scope\":\"12390228259067677744\",\"id\":\"ob_12\",\"type\":\"observable\"},val)) : undefined; return this.valueFromJulia[\"changes\"]=false}),self),this[\"index\"].subscribe((function (val){!(this.valueFromJulia[\"index\"]) ? (WebIO.setval({\"name\":\"index\",\"scope\":\"12390228259067677744\",\"id\":\"ob_11\",\"type\":\"observable\"},val)) : undefined; return this.valueFromJulia[\"index\"]=false}),self)]\n        \n    }\n    self.model = new AppViewModel();\n    self.valueFromJulia = {};\n    for (var key in json_data) {\n        self.valueFromJulia[key] = false;\n    }\n    ko.applyBindings(self.model, self.dom);\n}\n);\n    (WebIO.importBlock({\"data\":[{\"name\":\"knockout\",\"type\":\"js\",\"url\":\"/assetserver/ec445c3635ad2e3755ac5e718c92ca301fdedb35-knockout.js\"},{\"name\":\"knockout_punches\",\"type\":\"js\",\"url\":\"/assetserver/83339d7be4b13cb796b32e311e1735b268343ced-knockout_punches.js\"}],\"type\":\"async_block\"})).then((imports) => handler.apply(this, imports));\n}\n"
            ],
            "observables": {
             "changes": {
              "id": "ob_12",
              "sync": false,
              "value": 0
             },
             "index": {
              "id": "ob_11",
              "sync": true,
              "value": 63
             }
            },
            "systemjs_options": null
           },
           "nodeType": "Scope",
           "props": {},
           "type": "node"
          }
         ],
         "instanceArgs": {
          "namespace": "html",
          "tag": "div"
         },
         "nodeType": "DOM",
         "props": {
          "className": "field interact-widget"
         },
         "type": "node"
        },
        {
         "children": [
          {
           "children": [],
           "instanceArgs": {
            "id": "ob_18",
            "name": "obs-node"
           },
           "nodeType": "ObservableNode",
           "props": {},
           "type": "node"
          }
         ],
         "instanceArgs": {
          "handlers": {},
          "id": "14807702088736807535",
          "imports": {
           "data": [],
           "type": "async_block"
          },
          "mount_callbacks": [],
          "observables": {
           "obs-node": {
            "id": "ob_18",
            "sync": false,
            "value": {
             "children": [
              {
               "children": [],
               "instanceArgs": {
                "namespace": "html",
                "tag": "div"
               },
               "nodeType": "DOM",
               "props": {
                "setInnerHtml": "<?xml version=\"1.0\" encoding=\"utf-8\"?>\n<svg xmlns=\"http://www.w3.org/2000/svg\" xmlns:xlink=\"http://www.w3.org/1999/xlink\" width=\"600\" height=\"400\" viewBox=\"0 0 2400 1600\">\n<defs>\n  <clipPath id=\"clip9300\">\n    <rect x=\"0\" y=\"0\" width=\"2400\" height=\"1600\"/>\n  </clipPath>\n</defs>\n<polygon clip-path=\"url(#clip9300)\" points=\"\n0,1600 2400,1600 2400,0 0,0 \n  \" fill=\"#ffffff\" fill-rule=\"evenodd\" fill-opacity=\"1\"/>\n<defs>\n  <clipPath id=\"clip9301\">\n    <rect x=\"480\" y=\"0\" width=\"1681\" height=\"1600\"/>\n  </clipPath>\n</defs>\n<polygon clip-path=\"url(#clip9300)\" points=\"\n188.156,1503.47 2321.26,1503.47 2321.26,47.2441 188.156,47.2441 \n  \" fill=\"#ffffff\" fill-rule=\"evenodd\" fill-opacity=\"1\"/>\n<defs>\n  <clipPath id=\"clip9302\">\n    <rect x=\"188\" y=\"47\" width=\"2134\" height=\"1457\"/>\n  </clipPath>\n</defs>\n<polyline clip-path=\"url(#clip9302)\" style=\"stroke:#000000; stroke-width:2; stroke-opacity:0.1; fill:none\" points=\"\n  248.527,1503.47 248.527,47.2441 \n  \"/>\n<polyline clip-path=\"url(#clip9302)\" style=\"stroke:#000000; stroke-width:2; stroke-opacity:0.1; fill:none\" points=\"\n  889.082,1503.47 889.082,47.2441 \n  \"/>\n<polyline clip-path=\"url(#clip9302)\" style=\"stroke:#000000; stroke-width:2; stroke-opacity:0.1; fill:none\" points=\"\n  1529.64,1503.47 1529.64,47.2441 \n  \"/>\n<polyline clip-path=\"url(#clip9302)\" style=\"stroke:#000000; stroke-width:2; stroke-opacity:0.1; fill:none\" points=\"\n  2170.19,1503.47 2170.19,47.2441 \n  \"/>\n<polyline clip-path=\"url(#clip9302)\" style=\"stroke:#000000; stroke-width:2; stroke-opacity:0.1; fill:none\" points=\"\n  188.156,1462.26 2321.26,1462.26 \n  \"/>\n<polyline clip-path=\"url(#clip9302)\" style=\"stroke:#000000; stroke-width:2; stroke-opacity:0.1; fill:none\" points=\"\n  188.156,1118.7 2321.26,1118.7 \n  \"/>\n<polyline clip-path=\"url(#clip9302)\" style=\"stroke:#000000; stroke-width:2; stroke-opacity:0.1; fill:none\" points=\"\n  188.156,775.139 2321.26,775.139 \n  \"/>\n<polyline clip-path=\"url(#clip9302)\" style=\"stroke:#000000; stroke-width:2; stroke-opacity:0.1; fill:none\" points=\"\n  188.156,431.578 2321.26,431.578 \n  \"/>\n<polyline clip-path=\"url(#clip9302)\" style=\"stroke:#000000; stroke-width:2; stroke-opacity:0.1; fill:none\" points=\"\n  188.156,88.0175 2321.26,88.0175 \n  \"/>\n<polyline clip-path=\"url(#clip9300)\" style=\"stroke:#000000; stroke-width:4; stroke-opacity:1; fill:none\" points=\"\n  188.156,1503.47 2321.26,1503.47 \n  \"/>\n<polyline clip-path=\"url(#clip9300)\" style=\"stroke:#000000; stroke-width:4; stroke-opacity:1; fill:none\" points=\"\n  188.156,1503.47 188.156,47.2441 \n  \"/>\n<polyline clip-path=\"url(#clip9300)\" style=\"stroke:#000000; stroke-width:4; stroke-opacity:1; fill:none\" points=\"\n  248.527,1503.47 248.527,1481.63 \n  \"/>\n<polyline clip-path=\"url(#clip9300)\" style=\"stroke:#000000; stroke-width:4; stroke-opacity:1; fill:none\" points=\"\n  889.082,1503.47 889.082,1481.63 \n  \"/>\n<polyline clip-path=\"url(#clip9300)\" style=\"stroke:#000000; stroke-width:4; stroke-opacity:1; fill:none\" points=\"\n  1529.64,1503.47 1529.64,1481.63 \n  \"/>\n<polyline clip-path=\"url(#clip9300)\" style=\"stroke:#000000; stroke-width:4; stroke-opacity:1; fill:none\" points=\"\n  2170.19,1503.47 2170.19,1481.63 \n  \"/>\n<polyline clip-path=\"url(#clip9300)\" style=\"stroke:#000000; stroke-width:4; stroke-opacity:1; fill:none\" points=\"\n  188.156,1462.26 220.153,1462.26 \n  \"/>\n<polyline clip-path=\"url(#clip9300)\" style=\"stroke:#000000; stroke-width:4; stroke-opacity:1; fill:none\" points=\"\n  188.156,1118.7 220.153,1118.7 \n  \"/>\n<polyline clip-path=\"url(#clip9300)\" style=\"stroke:#000000; stroke-width:4; stroke-opacity:1; fill:none\" points=\"\n  188.156,775.139 220.153,775.139 \n  \"/>\n<polyline clip-path=\"url(#clip9300)\" style=\"stroke:#000000; stroke-width:4; stroke-opacity:1; fill:none\" points=\"\n  188.156,431.578 220.153,431.578 \n  \"/>\n<polyline clip-path=\"url(#clip9300)\" style=\"stroke:#000000; stroke-width:4; stroke-opacity:1; fill:none\" points=\"\n  188.156,88.0175 220.153,88.0175 \n  \"/>\n<g clip-path=\"url(#clip9300)\">\n<text style=\"fill:#000000; fill-opacity:1; font-family:Arial,Helvetica Neue,Helvetica,sans-serif; font-size:48px; text-anchor:middle;\" transform=\"rotate(0, 248.527, 1557.47)\" x=\"248.527\" y=\"1557.47\">0</text>\n</g>\n<g clip-path=\"url(#clip9300)\">\n<text style=\"fill:#000000; fill-opacity:1; font-family:Arial,Helvetica Neue,Helvetica,sans-serif; font-size:48px; text-anchor:middle;\" transform=\"rotate(0, 889.082, 1557.47)\" x=\"889.082\" y=\"1557.47\">1</text>\n</g>\n<g clip-path=\"url(#clip9300)\">\n<text style=\"fill:#000000; fill-opacity:1; font-family:Arial,Helvetica Neue,Helvetica,sans-serif; font-size:48px; text-anchor:middle;\" transform=\"rotate(0, 1529.64, 1557.47)\" x=\"1529.64\" y=\"1557.47\">2</text>\n</g>\n<g clip-path=\"url(#clip9300)\">\n<text style=\"fill:#000000; fill-opacity:1; font-family:Arial,Helvetica Neue,Helvetica,sans-serif; font-size:48px; text-anchor:middle;\" transform=\"rotate(0, 2170.19, 1557.47)\" x=\"2170.19\" y=\"1557.47\">3</text>\n</g>\n<g clip-path=\"url(#clip9300)\">\n<text style=\"fill:#000000; fill-opacity:1; font-family:Arial,Helvetica Neue,Helvetica,sans-serif; font-size:48px; text-anchor:end;\" transform=\"rotate(0, 164.156, 1479.76)\" x=\"164.156\" y=\"1479.76\">0.00</text>\n</g>\n<g clip-path=\"url(#clip9300)\">\n<text style=\"fill:#000000; fill-opacity:1; font-family:Arial,Helvetica Neue,Helvetica,sans-serif; font-size:48px; text-anchor:end;\" transform=\"rotate(0, 164.156, 1136.2)\" x=\"164.156\" y=\"1136.2\">0.25</text>\n</g>\n<g clip-path=\"url(#clip9300)\">\n<text style=\"fill:#000000; fill-opacity:1; font-family:Arial,Helvetica Neue,Helvetica,sans-serif; font-size:48px; text-anchor:end;\" transform=\"rotate(0, 164.156, 792.639)\" x=\"164.156\" y=\"792.639\">0.50</text>\n</g>\n<g clip-path=\"url(#clip9300)\">\n<text style=\"fill:#000000; fill-opacity:1; font-family:Arial,Helvetica Neue,Helvetica,sans-serif; font-size:48px; text-anchor:end;\" transform=\"rotate(0, 164.156, 449.078)\" x=\"164.156\" y=\"449.078\">0.75</text>\n</g>\n<g clip-path=\"url(#clip9300)\">\n<text style=\"fill:#000000; fill-opacity:1; font-family:Arial,Helvetica Neue,Helvetica,sans-serif; font-size:48px; text-anchor:end;\" transform=\"rotate(0, 164.156, 105.517)\" x=\"164.156\" y=\"105.517\">1.00</text>\n</g>\n<circle clip-path=\"url(#clip9302)\" style=\"fill:#000000; stroke:none; fill-opacity:1\" cx=\"248.527\" cy=\"1462.26\" r=\"18\"/>\n<circle clip-path=\"url(#clip9302)\" style=\"fill:#009af9; stroke:none; fill-opacity:1\" cx=\"248.527\" cy=\"1462.26\" r=\"14\"/>\n<circle clip-path=\"url(#clip9302)\" style=\"fill:#000000; stroke:none; fill-opacity:1\" cx=\"651\" cy=\"654.501\" r=\"18\"/>\n<circle clip-path=\"url(#clip9302)\" style=\"fill:#009af9; stroke:none; fill-opacity:1\" cx=\"651\" cy=\"654.501\" r=\"14\"/>\n<circle clip-path=\"url(#clip9302)\" style=\"fill:#000000; stroke:none; fill-opacity:1\" cx=\"1048.14\" cy=\"158.855\" r=\"18\"/>\n<circle clip-path=\"url(#clip9302)\" style=\"fill:#009af9; stroke:none; fill-opacity:1\" cx=\"1048.14\" cy=\"158.855\" r=\"14\"/>\n<circle clip-path=\"url(#clip9302)\" style=\"fill:#000000; stroke:none; fill-opacity:1\" cx=\"1455.94\" cy=\"155.278\" r=\"18\"/>\n<circle clip-path=\"url(#clip9302)\" style=\"fill:#009af9; stroke:none; fill-opacity:1\" cx=\"1455.94\" cy=\"155.278\" r=\"14\"/>\n<circle clip-path=\"url(#clip9302)\" style=\"fill:#000000; stroke:none; fill-opacity:1\" cx=\"1858.42\" cy=\"654.501\" r=\"18\"/>\n<circle clip-path=\"url(#clip9302)\" style=\"fill:#009af9; stroke:none; fill-opacity:1\" cx=\"1858.42\" cy=\"654.501\" r=\"14\"/>\n<circle clip-path=\"url(#clip9302)\" style=\"fill:#000000; stroke:none; fill-opacity:1\" cx=\"2260.89\" cy=\"1462.26\" r=\"18\"/>\n<circle clip-path=\"url(#clip9302)\" style=\"fill:#009af9; stroke:none; fill-opacity:1\" cx=\"2260.89\" cy=\"1462.26\" r=\"14\"/>\n<polyline clip-path=\"url(#clip9302)\" style=\"stroke:#e26f46; stroke-width:4; stroke-opacity:1; fill:none\" points=\"\n  248.527,1462.26 258.64,1440.59 268.752,1418.92 278.864,1397.26 288.977,1375.62 299.089,1354 309.201,1332.4 319.314,1310.84 329.426,1289.31 339.539,1267.83 \n  349.651,1246.39 359.763,1225.01 369.876,1203.68 379.988,1182.41 390.1,1161.21 400.213,1140.09 410.325,1119.04 420.438,1098.08 430.55,1077.2 440.662,1056.42 \n  450.775,1035.74 460.887,1015.17 470.999,994.699 481.112,974.347 491.224,954.115 501.336,934.009 511.449,914.033 521.561,894.192 531.674,874.493 541.786,854.94 \n  551.898,835.538 562.011,816.293 572.123,797.209 582.235,778.293 592.348,759.549 602.46,740.983 612.573,722.6 622.685,704.404 632.797,686.402 642.91,668.598 \n  653.022,650.997 663.134,633.605 673.247,616.425 683.359,599.46 693.472,582.712 703.584,566.187 713.696,549.886 723.809,533.813 733.921,517.972 744.033,502.364 \n  754.146,486.995 764.258,471.867 774.371,456.983 784.483,442.347 794.595,427.961 804.708,413.829 814.82,399.955 824.932,386.342 835.045,372.992 845.157,359.909 \n  855.269,347.097 865.382,334.558 875.494,322.296 885.607,310.314 895.719,298.616 905.831,287.204 915.944,276.082 926.056,265.253 936.168,254.721 946.281,244.488 \n  956.393,234.558 966.506,224.934 976.618,215.62 986.73,206.619 996.843,197.933 1006.96,189.567 1017.07,181.523 1027.18,173.804 1037.29,166.415 1047.4,159.358 \n  1057.52,152.636 1067.63,146.25 1077.74,140.199 1087.85,134.485 1097.97,129.106 1108.08,124.063 1118.19,119.355 1128.3,114.984 1138.42,110.949 1148.53,107.25 \n  1158.64,103.886 1168.75,100.859 1178.87,98.1675 1188.98,95.8123 1199.09,93.7932 1209.2,92.1102 1219.31,90.7633 1229.43,89.7526 1239.54,89.0781 1249.65,88.7399 \n  1259.76,88.7379 1269.88,89.0722 1279.99,89.7429 1290.1,90.7498 1300.21,92.0932 1310.33,93.7729 1320.44,95.7891 1330.55,98.1417 1340.66,100.831 1350.78,103.856 \n  1360.89,107.219 1371,110.917 1381.11,114.953 1391.23,119.325 1401.34,124.033 1411.45,129.078 1421.56,134.46 1431.67,140.179 1441.79,146.234 1451.9,152.627 \n  1462.01,159.355 1472.12,166.419 1482.24,173.815 1492.35,181.538 1502.46,189.587 1512.57,197.958 1522.69,206.648 1532.8,215.653 1542.91,224.97 1553.02,234.596 \n  1563.14,244.528 1573.25,254.763 1583.36,265.296 1593.47,276.126 1603.58,287.248 1613.7,298.661 1623.81,310.359 1633.92,322.34 1644.03,334.602 1654.15,347.14 \n  1664.26,359.951 1674.37,373.032 1684.48,386.38 1694.6,399.992 1704.71,413.865 1714.82,427.994 1724.93,442.378 1735.05,457.012 1745.16,471.893 1755.27,487.019 \n  1765.38,502.386 1775.5,517.991 1785.61,533.83 1795.72,549.9 1805.83,566.198 1815.94,582.722 1826.06,599.466 1836.17,616.429 1846.28,633.608 1856.39,650.998 \n  1866.51,668.596 1876.62,686.398 1886.73,704.399 1896.84,722.593 1906.96,740.975 1917.07,759.541 1927.18,778.283 1937.29,797.198 1947.41,816.281 1957.52,835.525 \n  1967.63,854.926 1977.74,874.479 1987.85,894.178 1997.97,914.018 2008.08,933.994 2018.19,954.1 2028.3,974.332 2038.42,994.685 2048.53,1015.15 2058.64,1035.73 \n  2068.75,1056.41 2078.87,1077.19 2088.98,1098.06 2099.09,1119.03 2109.2,1140.08 2119.32,1161.2 2129.43,1182.4 2139.54,1203.67 2149.65,1225 2159.77,1246.38 \n  2169.88,1267.82 2179.99,1289.31 2190.1,1310.83 2200.21,1332.4 2210.33,1353.99 2220.44,1375.62 2230.55,1397.26 2240.66,1418.92 2250.78,1440.59 2260.89,1462.26 \n  \n  \"/>\n<polyline clip-path=\"url(#clip9302)\" style=\"stroke:#3da44d; stroke-width:4; stroke-opacity:1; fill:none\" points=\"\n  248.527,1462.26 258.64,1440.87 268.752,1419.44 278.864,1398 288.977,1376.54 299.089,1355.07 309.201,1333.61 319.314,1312.16 329.426,1290.72 339.539,1269.3 \n  349.651,1247.91 359.763,1226.56 369.876,1205.25 379.988,1183.99 390.1,1162.78 400.213,1141.64 410.325,1120.57 420.438,1099.57 430.55,1078.66 440.662,1057.83 \n  450.775,1037.1 460.887,1016.46 470.999,995.936 481.112,975.521 491.224,955.224 501.336,935.05 511.449,915.006 521.561,895.097 531.674,875.328 541.786,855.706 \n  551.898,836.235 562.011,816.92 572.123,797.768 582.235,778.782 592.348,759.969 602.46,741.333 612.573,722.879 622.685,704.612 632.797,686.537 642.91,668.659 \n  653.022,650.982 663.134,633.51 673.247,616.249 683.359,599.202 693.472,582.374 703.584,565.769 713.696,549.392 723.809,533.246 733.921,517.335 744.033,501.664 \n  754.146,486.237 764.258,471.056 774.371,456.126 784.483,441.451 794.595,427.034 804.708,412.878 814.82,398.987 824.932,385.365 835.045,372.014 845.157,358.938 \n  855.269,346.139 865.382,333.622 875.494,321.388 885.607,309.442 895.719,297.785 905.831,286.42 915.944,275.35 926.056,264.578 936.168,254.105 946.281,243.936 \n  956.393,234.071 966.506,224.513 976.618,215.265 986.73,206.328 996.843,197.704 1006.96,189.396 1017.07,181.406 1027.18,173.734 1037.29,166.384 1047.4,159.356 \n  1057.52,152.653 1067.63,146.275 1077.74,140.225 1087.85,134.503 1097.97,129.11 1108.08,124.049 1118.19,119.321 1128.3,114.925 1138.42,110.864 1148.53,107.138 \n  1158.64,103.748 1168.75,100.694 1178.87,97.9786 1188.98,95.6009 1199.09,93.5618 1209.2,91.8617 1219.31,90.5011 1229.43,89.4803 1239.54,88.7994 1249.65,88.4587 \n  1259.76,88.4582 1269.88,88.7979 1279.99,89.4777 1290.1,90.4975 1300.21,91.8571 1310.33,93.5562 1320.44,95.5943 1330.55,97.971 1340.66,100.686 1350.78,103.738 \n  1360.89,107.127 1371,110.853 1381.11,114.913 1391.23,119.308 1401.34,124.036 1411.45,129.096 1421.56,134.487 1431.67,140.209 1441.79,146.258 1451.9,152.636 \n  1462.01,159.338 1472.12,166.366 1482.24,173.716 1492.35,181.386 1502.46,189.377 1512.57,197.684 1522.69,206.307 1532.8,215.244 1542.91,224.492 1553.02,234.05 \n  1563.14,243.915 1573.25,254.084 1583.36,264.557 1593.47,275.329 1603.58,286.399 1613.7,297.764 1623.81,309.421 1633.92,321.368 1644.03,333.602 1654.15,346.12 \n  1664.26,358.919 1674.37,371.995 1684.48,385.347 1694.6,398.97 1704.71,412.862 1714.82,427.018 1724.93,441.436 1735.05,456.112 1745.16,471.043 1755.27,486.225 \n  1765.38,501.653 1775.5,517.325 1785.61,533.237 1795.72,549.384 1805.83,565.763 1815.94,582.368 1826.06,599.198 1836.17,616.246 1846.28,633.508 1856.39,650.981 \n  1866.51,668.66 1876.62,686.54 1886.73,704.616 1896.84,722.884 1906.96,741.339 1917.07,759.977 1927.18,778.791 1937.29,797.778 1947.41,816.932 1957.52,836.248 \n  1967.63,855.72 1977.74,875.344 1987.85,895.114 1997.97,915.024 2008.08,935.069 2018.19,955.244 2028.3,975.542 2038.42,995.958 2048.53,1016.49 2058.64,1037.12 \n  2068.75,1057.85 2078.87,1078.68 2088.98,1099.6 2099.09,1120.59 2109.2,1141.67 2119.32,1162.81 2129.43,1184.01 2139.54,1205.27 2149.65,1226.58 2159.77,1247.93 \n  2169.88,1269.32 2179.99,1290.74 2190.1,1312.17 2200.21,1333.63 2210.33,1355.09 2220.44,1376.55 2230.55,1398.01 2240.66,1419.45 2250.78,1440.87 2260.89,1462.26 \n  \n  \"/>\n<polygon clip-path=\"url(#clip9300)\" points=\"\n1958.43,372.684 2249.26,372.684 2249.26,130.764 1958.43,130.764 \n  \" fill=\"#ffffff\" fill-rule=\"evenodd\" fill-opacity=\"1\"/>\n<polyline clip-path=\"url(#clip9300)\" style=\"stroke:#000000; stroke-width:4; stroke-opacity:1; fill:none\" points=\"\n  1958.43,372.684 2249.26,372.684 2249.26,130.764 1958.43,130.764 1958.43,372.684 \n  \"/>\n<circle clip-path=\"url(#clip9300)\" style=\"fill:#000000; stroke:none; fill-opacity:1\" cx=\"2066.43\" cy=\"191.244\" r=\"25\"/>\n<circle clip-path=\"url(#clip9300)\" style=\"fill:#009af9; stroke:none; fill-opacity:1\" cx=\"2066.43\" cy=\"191.244\" r=\"21\"/>\n<g clip-path=\"url(#clip9300)\">\n<text style=\"fill:#000000; fill-opacity:1; font-family:Arial,Helvetica Neue,Helvetica,sans-serif; font-size:48px; text-anchor:start;\" transform=\"rotate(0, 2150.43, 208.744)\" x=\"2150.43\" y=\"208.744\">y1</text>\n</g>\n<polyline clip-path=\"url(#clip9300)\" style=\"stroke:#e26f46; stroke-width:4; stroke-opacity:1; fill:none\" points=\"\n  1982.43,251.724 2126.43,251.724 \n  \"/>\n<g clip-path=\"url(#clip9300)\">\n<text style=\"fill:#000000; fill-opacity:1; font-family:Arial,Helvetica Neue,Helvetica,sans-serif; font-size:48px; text-anchor:start;\" transform=\"rotate(0, 2150.43, 269.224)\" x=\"2150.43\" y=\"269.224\">y2</text>\n</g>\n<polyline clip-path=\"url(#clip9300)\" style=\"stroke:#3da44d; stroke-width:4; stroke-opacity:1; fill:none\" points=\"\n  1982.43,312.204 2126.43,312.204 \n  \"/>\n<g clip-path=\"url(#clip9300)\">\n<text style=\"fill:#000000; fill-opacity:1; font-family:Arial,Helvetica Neue,Helvetica,sans-serif; font-size:48px; text-anchor:start;\" transform=\"rotate(0, 2150.43, 329.704)\" x=\"2150.43\" y=\"329.704\">y3</text>\n</g>\n</svg>\n"
               },
               "type": "node"
              }
             ],
             "instanceArgs": {
              "namespace": "html",
              "tag": "div"
             },
             "nodeType": "DOM",
             "props": {
              "className": "interact-flex-row interact-widget"
             },
             "type": "node"
            }
           }
          },
          "systemjs_options": null
         },
         "nodeType": "Scope",
         "props": {},
         "type": "node"
        }
       ],
       "instanceArgs": {
        "namespace": "html",
        "tag": "div"
       },
       "nodeType": "DOM",
       "props": {},
       "type": "node"
      },
      "text/html": [
       "<div\n",
       "    class=\"webio-mountpoint\"\n",
       "    data-webio-mountpoint=\"10707044540954839997\"\n",
       ">\n",
       "    <script>\n",
       "    if (window.require && require.defined && require.defined(\"nbextensions/webio-jupyter-notebook\")) {\n",
       "        console.log(\"Jupyter WebIO extension detected, not mounting.\");\n",
       "    } else if (window.WebIO) {\n",
       "        WebIO.mount(\n",
       "            document.querySelector('[data-webio-mountpoint=\"10707044540954839997\"]'),\n",
       "            {\"props\":{},\"nodeType\":\"DOM\",\"type\":\"node\",\"instanceArgs\":{\"namespace\":\"html\",\"tag\":\"div\"},\"children\":[{\"props\":{\"className\":\"field interact-widget\"},\"nodeType\":\"DOM\",\"type\":\"node\",\"instanceArgs\":{\"namespace\":\"html\",\"tag\":\"div\"},\"children\":[{\"props\":{},\"nodeType\":\"Scope\",\"type\":\"node\",\"instanceArgs\":{\"imports\":{\"data\":[{\"name\":\"knockout\",\"type\":\"js\",\"url\":\"\\/assetserver\\/ec445c3635ad2e3755ac5e718c92ca301fdedb35-knockout.js\"},{\"name\":\"knockout_punches\",\"type\":\"js\",\"url\":\"\\/assetserver\\/83339d7be4b13cb796b32e311e1735b268343ced-knockout_punches.js\"},{\"name\":null,\"type\":\"js\",\"url\":\"\\/assetserver\\/5e8d29053a00bcb07412eb45a5e45e831da5deaf-all.js\"},{\"name\":null,\"type\":\"css\",\"url\":\"\\/assetserver\\/b0f8e5f50bb72f5435b24a25266064ee5434da5d-style.css\"},{\"name\":null,\"type\":\"css\",\"url\":\"\\/assetserver\\/e98c00e65cdd8ca07b622d8a89a3d4249e190915-bulma_confined.min.css\"}],\"type\":\"async_block\"},\"id\":\"12390228259067677744\",\"handlers\":{\"changes\":[\"(function (val){return (val!=this.model[\\\"changes\\\"]()) ? (this.valueFromJulia[\\\"changes\\\"]=true, this.model[\\\"changes\\\"](val)) : undefined})\"],\"index\":[\"(function (val){return (val!=this.model[\\\"index\\\"]()) ? (this.valueFromJulia[\\\"index\\\"]=true, this.model[\\\"index\\\"](val)) : undefined})\"]},\"systemjs_options\":null,\"mount_callbacks\":[\"function () {\\n    var handler = (function (ko, koPunches) {\\n    ko.punches.enableAll();\\n    ko.bindingHandlers.numericValue = {\\n        init: function(element, valueAccessor, allBindings, data, context) {\\n            var stringified = ko.observable(ko.unwrap(valueAccessor()));\\n            stringified.subscribe(function(value) {\\n                var val = parseFloat(value);\\n                if (!isNaN(val)) {\\n                    valueAccessor()(val);\\n                }\\n            });\\n            valueAccessor().subscribe(function(value) {\\n                var str = JSON.stringify(value);\\n                if ((str == \\\"0\\\") && ([\\\"-0\\\", \\\"-0.\\\"].indexOf(stringified()) >= 0))\\n                     return;\\n                 if ([\\\"null\\\", \\\"\\\"].indexOf(str) >= 0)\\n                     return;\\n                stringified(str);\\n            });\\n            ko.applyBindingsToNode(\\n                element,\\n                {\\n                    value: stringified,\\n                    valueUpdate: allBindings.get('valueUpdate'),\\n                },\\n                context,\\n            );\\n        }\\n    };\\n    var json_data = {\\\"formatted_vals\\\":[\\\"0.628319\\\",\\\"0.638319\\\",\\\"0.648319\\\",\\\"0.658319\\\",\\\"0.668319\\\",\\\"0.678319\\\",\\\"0.688319\\\",\\\"0.698319\\\",\\\"0.708319\\\",\\\"0.718319\\\",\\\"0.728319\\\",\\\"0.738319\\\",\\\"0.748319\\\",\\\"0.758319\\\",\\\"0.768319\\\",\\\"0.778319\\\",\\\"0.788319\\\",\\\"0.798319\\\",\\\"0.808319\\\",\\\"0.818319\\\",\\\"0.828319\\\",\\\"0.838319\\\",\\\"0.848319\\\",\\\"0.858319\\\",\\\"0.868319\\\",\\\"0.878319\\\",\\\"0.888319\\\",\\\"0.898319\\\",\\\"0.908319\\\",\\\"0.918319\\\",\\\"0.928319\\\",\\\"0.938319\\\",\\\"0.948319\\\",\\\"0.958319\\\",\\\"0.968319\\\",\\\"0.978319\\\",\\\"0.988319\\\",\\\"0.998319\\\",\\\"1.00832\\\",\\\"1.01832\\\",\\\"1.02832\\\",\\\"1.03832\\\",\\\"1.04832\\\",\\\"1.05832\\\",\\\"1.06832\\\",\\\"1.07832\\\",\\\"1.08832\\\",\\\"1.09832\\\",\\\"1.10832\\\",\\\"1.11832\\\",\\\"1.12832\\\",\\\"1.13832\\\",\\\"1.14832\\\",\\\"1.15832\\\",\\\"1.16832\\\",\\\"1.17832\\\",\\\"1.18832\\\",\\\"1.19832\\\",\\\"1.20832\\\",\\\"1.21832\\\",\\\"1.22832\\\",\\\"1.23832\\\",\\\"1.24832\\\",\\\"1.25832\\\",\\\"1.26832\\\",\\\"1.27832\\\",\\\"1.28832\\\",\\\"1.29832\\\",\\\"1.30832\\\",\\\"1.31832\\\",\\\"1.32832\\\",\\\"1.33832\\\",\\\"1.34832\\\",\\\"1.35832\\\",\\\"1.36832\\\",\\\"1.37832\\\",\\\"1.38832\\\",\\\"1.39832\\\",\\\"1.40832\\\",\\\"1.41832\\\",\\\"1.42832\\\",\\\"1.43832\\\",\\\"1.44832\\\",\\\"1.45832\\\",\\\"1.46832\\\",\\\"1.47832\\\",\\\"1.48832\\\",\\\"1.49832\\\",\\\"1.50832\\\",\\\"1.51832\\\",\\\"1.52832\\\",\\\"1.53832\\\",\\\"1.54832\\\",\\\"1.55832\\\",\\\"1.56832\\\",\\\"1.57832\\\",\\\"1.58832\\\",\\\"1.59832\\\",\\\"1.60832\\\",\\\"1.61832\\\",\\\"1.62832\\\",\\\"1.63832\\\",\\\"1.64832\\\",\\\"1.65832\\\",\\\"1.66832\\\",\\\"1.67832\\\",\\\"1.68832\\\",\\\"1.69832\\\",\\\"1.70832\\\",\\\"1.71832\\\",\\\"1.72832\\\",\\\"1.73832\\\",\\\"1.74832\\\",\\\"1.75832\\\",\\\"1.76832\\\",\\\"1.77832\\\",\\\"1.78832\\\",\\\"1.79832\\\",\\\"1.80832\\\",\\\"1.81832\\\",\\\"1.82832\\\",\\\"1.83832\\\",\\\"1.84832\\\",\\\"1.85832\\\",\\\"1.86832\\\",\\\"1.87832\\\"],\\\"changes\\\":WebIO.getval({\\\"name\\\":\\\"changes\\\",\\\"scope\\\":\\\"12390228259067677744\\\",\\\"id\\\":\\\"ob_12\\\",\\\"type\\\":\\\"observable\\\"}),\\\"index\\\":WebIO.getval({\\\"name\\\":\\\"index\\\",\\\"scope\\\":\\\"12390228259067677744\\\",\\\"id\\\":\\\"ob_11\\\",\\\"type\\\":\\\"observable\\\"})};\\n    var self = this;\\n    function AppViewModel() {\\n        for (var key in json_data) {\\n            var el = json_data[key];\\n            this[key] = Array.isArray(el) ? ko.observableArray(el) : ko.observable(el);\\n        }\\n        \\n        [this[\\\"formatted_val\\\"]=ko.computed(    function(){\\n        return this.formatted_vals()[parseInt(this.index())-(1)];\\n    }\\n,this)]\\n        [this[\\\"changes\\\"].subscribe((function (val){!(this.valueFromJulia[\\\"changes\\\"]) ? (WebIO.setval({\\\"name\\\":\\\"changes\\\",\\\"scope\\\":\\\"12390228259067677744\\\",\\\"id\\\":\\\"ob_12\\\",\\\"type\\\":\\\"observable\\\"},val)) : undefined; return this.valueFromJulia[\\\"changes\\\"]=false}),self),this[\\\"index\\\"].subscribe((function (val){!(this.valueFromJulia[\\\"index\\\"]) ? (WebIO.setval({\\\"name\\\":\\\"index\\\",\\\"scope\\\":\\\"12390228259067677744\\\",\\\"id\\\":\\\"ob_11\\\",\\\"type\\\":\\\"observable\\\"},val)) : undefined; return this.valueFromJulia[\\\"index\\\"]=false}),self)]\\n        \\n    }\\n    self.model = new AppViewModel();\\n    self.valueFromJulia = {};\\n    for (var key in json_data) {\\n        self.valueFromJulia[key] = false;\\n    }\\n    ko.applyBindings(self.model, self.dom);\\n}\\n);\\n    (WebIO.importBlock({\\\"data\\\":[{\\\"name\\\":\\\"knockout\\\",\\\"type\\\":\\\"js\\\",\\\"url\\\":\\\"\\/assetserver\\/ec445c3635ad2e3755ac5e718c92ca301fdedb35-knockout.js\\\"},{\\\"name\\\":\\\"knockout_punches\\\",\\\"type\\\":\\\"js\\\",\\\"url\\\":\\\"\\/assetserver\\/83339d7be4b13cb796b32e311e1735b268343ced-knockout_punches.js\\\"}],\\\"type\\\":\\\"async_block\\\"})).then((imports) => handler.apply(this, imports));\\n}\\n\"],\"observables\":{\"changes\":{\"sync\":false,\"id\":\"ob_12\",\"value\":0},\"index\":{\"sync\":true,\"id\":\"ob_11\",\"value\":63}}},\"children\":[{\"props\":{\"className\":\"interact-flex-row interact-widget\"},\"nodeType\":\"DOM\",\"type\":\"node\",\"instanceArgs\":{\"namespace\":\"html\",\"tag\":\"div\"},\"children\":[{\"props\":{\"className\":\"interact-flex-row-left\"},\"nodeType\":\"DOM\",\"type\":\"node\",\"instanceArgs\":{\"namespace\":\"html\",\"tag\":\"div\"},\"children\":[{\"props\":{\"className\":\"interact \",\"style\":{\"padding\":\"5px 10px 0px 10px\"}},\"nodeType\":\"DOM\",\"type\":\"node\",\"instanceArgs\":{\"namespace\":\"html\",\"tag\":\"label\"},\"children\":[\"xp\"]}]},{\"props\":{\"className\":\"interact-flex-row-center\"},\"nodeType\":\"DOM\",\"type\":\"node\",\"instanceArgs\":{\"namespace\":\"html\",\"tag\":\"div\"},\"children\":[{\"props\":{\"max\":126,\"min\":1,\"attributes\":{\"type\":\"range\",\"data-bind\":\"numericValue: index, valueUpdate: 'input', event: {change: function (){this.changes(this.changes()+1)}}\",\"orient\":\"horizontal\"},\"step\":1,\"className\":\"slider slider is-fullwidth\",\"style\":{}},\"nodeType\":\"DOM\",\"type\":\"node\",\"instanceArgs\":{\"namespace\":\"html\",\"tag\":\"input\"},\"children\":[]}]},{\"props\":{\"className\":\"interact-flex-row-right\"},\"nodeType\":\"DOM\",\"type\":\"node\",\"instanceArgs\":{\"namespace\":\"html\",\"tag\":\"div\"},\"children\":[{\"props\":{\"attributes\":{\"data-bind\":\"text: formatted_val\"}},\"nodeType\":\"DOM\",\"type\":\"node\",\"instanceArgs\":{\"namespace\":\"html\",\"tag\":\"p\"},\"children\":[]}]}]}]}]},{\"props\":{},\"nodeType\":\"Scope\",\"type\":\"node\",\"instanceArgs\":{\"imports\":{\"data\":[],\"type\":\"async_block\"},\"id\":\"13740961538012503280\",\"handlers\":{},\"systemjs_options\":null,\"mount_callbacks\":[],\"observables\":{\"obs-node\":{\"sync\":false,\"id\":\"ob_16\",\"value\":{\"props\":{\"className\":\"interact-flex-row interact-widget\"},\"nodeType\":\"DOM\",\"type\":\"node\",\"instanceArgs\":{\"namespace\":\"html\",\"tag\":\"div\"},\"children\":[{\"props\":{\"setInnerHtml\":\"<?xml version=\\\"1.0\\\" encoding=\\\"utf-8\\\"?>\\n<svg xmlns=\\\"http:\\/\\/www.w3.org\\/2000\\/svg\\\" xmlns:xlink=\\\"http:\\/\\/www.w3.org\\/1999\\/xlink\\\" width=\\\"600\\\" height=\\\"400\\\" viewBox=\\\"0 0 2400 1600\\\">\\n<defs>\\n  <clipPath id=\\\"clip8900\\\">\\n    <rect x=\\\"0\\\" y=\\\"0\\\" width=\\\"2400\\\" height=\\\"1600\\\"\\/>\\n  <\\/clipPath>\\n<\\/defs>\\n<polygon clip-path=\\\"url(#clip8900)\\\" points=\\\"\\n0,1600 2400,1600 2400,0 0,0 \\n  \\\" fill=\\\"#ffffff\\\" fill-rule=\\\"evenodd\\\" fill-opacity=\\\"1\\\"\\/>\\n<defs>\\n  <clipPath id=\\\"clip8901\\\">\\n    <rect x=\\\"480\\\" y=\\\"0\\\" width=\\\"1681\\\" height=\\\"1600\\\"\\/>\\n  <\\/clipPath>\\n<\\/defs>\\n<polygon clip-path=\\\"url(#clip8900)\\\" points=\\\"\\n188.156,1503.47 2321.26,1503.47 2321.26,47.2441 188.156,47.2441 \\n  \\\" fill=\\\"#ffffff\\\" fill-rule=\\\"evenodd\\\" fill-opacity=\\\"1\\\"\\/>\\n<defs>\\n  <clipPath id=\\\"clip8902\\\">\\n    <rect x=\\\"188\\\" y=\\\"47\\\" width=\\\"2134\\\" height=\\\"1457\\\"\\/>\\n  <\\/clipPath>\\n<\\/defs>\\n<polyline clip-path=\\\"url(#clip8902)\\\" style=\\\"stroke:#000000; stroke-width:2; stroke-opacity:0.1; fill:none\\\" points=\\\"\\n  248.527,1503.47 248.527,47.2441 \\n  \\\"\\/>\\n<polyline clip-path=\\\"url(#clip8902)\\\" style=\\\"stroke:#000000; stroke-width:2; stroke-opacity:0.1; fill:none\\\" points=\\\"\\n  889.082,1503.47 889.082,47.2441 \\n  \\\"\\/>\\n<polyline clip-path=\\\"url(#clip8902)\\\" style=\\\"stroke:#000000; stroke-width:2; stroke-opacity:0.1; fill:none\\\" points=\\\"\\n  1529.64,1503.47 1529.64,47.2441 \\n  \\\"\\/>\\n<polyline clip-path=\\\"url(#clip8902)\\\" style=\\\"stroke:#000000; stroke-width:2; stroke-opacity:0.1; fill:none\\\" points=\\\"\\n  2170.19,1503.47 2170.19,47.2441 \\n  \\\"\\/>\\n<polyline clip-path=\\\"url(#clip8902)\\\" style=\\\"stroke:#000000; stroke-width:2; stroke-opacity:0.1; fill:none\\\" points=\\\"\\n  188.156,1462.26 2321.26,1462.26 \\n  \\\"\\/>\\n<polyline clip-path=\\\"url(#clip8902)\\\" style=\\\"stroke:#000000; stroke-width:2; stroke-opacity:0.1; fill:none\\\" points=\\\"\\n  188.156,1118.7 2321.26,1118.7 \\n  \\\"\\/>\\n<polyline clip-path=\\\"url(#clip8902)\\\" style=\\\"stroke:#000000; stroke-width:2; stroke-opacity:0.1; fill:none\\\" points=\\\"\\n  188.156,775.139 2321.26,775.139 \\n  \\\"\\/>\\n<polyline clip-path=\\\"url(#clip8902)\\\" style=\\\"stroke:#000000; stroke-width:2; stroke-opacity:0.1; fill:none\\\" points=\\\"\\n  188.156,431.578 2321.26,431.578 \\n  \\\"\\/>\\n<polyline clip-path=\\\"url(#clip8902)\\\" style=\\\"stroke:#000000; stroke-width:2; stroke-opacity:0.1; fill:none\\\" points=\\\"\\n  188.156,88.0175 2321.26,88.0175 \\n  \\\"\\/>\\n<polyline clip-path=\\\"url(#clip8900)\\\" style=\\\"stroke:#000000; stroke-width:4; stroke-opacity:1; fill:none\\\" points=\\\"\\n  188.156,1503.47 2321.26,1503.47 \\n  \\\"\\/>\\n<polyline clip-path=\\\"url(#clip8900)\\\" style=\\\"stroke:#000000; stroke-width:4; stroke-opacity:1; fill:none\\\" points=\\\"\\n  188.156,1503.47 188.156,47.2441 \\n  \\\"\\/>\\n<polyline clip-path=\\\"url(#clip8900)\\\" style=\\\"stroke:#000000; stroke-width:4; stroke-opacity:1; fill:none\\\" points=\\\"\\n  248.527,1503.47 248.527,1481.63 \\n  \\\"\\/>\\n<polyline clip-path=\\\"url(#clip8900)\\\" style=\\\"stroke:#000000; stroke-width:4; stroke-opacity:1; fill:none\\\" points=\\\"\\n  889.082,1503.47 889.082,1481.63 \\n  \\\"\\/>\\n<polyline clip-path=\\\"url(#clip8900)\\\" style=\\\"stroke:#000000; stroke-width:4; stroke-opacity:1; fill:none\\\" points=\\\"\\n  1529.64,1503.47 1529.64,1481.63 \\n  \\\"\\/>\\n<polyline clip-path=\\\"url(#clip8900)\\\" style=\\\"stroke:#000000; stroke-width:4; stroke-opacity:1; fill:none\\\" points=\\\"\\n  2170.19,1503.47 2170.19,1481.63 \\n  \\\"\\/>\\n<polyline clip-path=\\\"url(#clip8900)\\\" style=\\\"stroke:#000000; stroke-width:4; stroke-opacity:1; fill:none\\\" points=\\\"\\n  188.156,1462.26 220.153,1462.26 \\n  \\\"\\/>\\n<polyline clip-path=\\\"url(#clip8900)\\\" style=\\\"stroke:#000000; stroke-width:4; stroke-opacity:1; fill:none\\\" points=\\\"\\n  188.156,1118.7 220.153,1118.7 \\n  \\\"\\/>\\n<polyline clip-path=\\\"url(#clip8900)\\\" style=\\\"stroke:#000000; stroke-width:4; stroke-opacity:1; fill:none\\\" points=\\\"\\n  188.156,775.139 220.153,775.139 \\n  \\\"\\/>\\n<polyline clip-path=\\\"url(#clip8900)\\\" style=\\\"stroke:#000000; stroke-width:4; stroke-opacity:1; fill:none\\\" points=\\\"\\n  188.156,431.578 220.153,431.578 \\n  \\\"\\/>\\n<polyline clip-path=\\\"url(#clip8900)\\\" style=\\\"stroke:#000000; stroke-width:4; stroke-opacity:1; fill:none\\\" points=\\\"\\n  188.156,88.0175 220.153,88.0175 \\n  \\\"\\/>\\n<g clip-path=\\\"url(#clip8900)\\\">\\n<text style=\\\"fill:#000000; fill-opacity:1; font-family:Arial,Helvetica Neue,Helvetica,sans-serif; font-size:48px; text-anchor:middle;\\\" transform=\\\"rotate(0, 248.527, 1557.47)\\\" x=\\\"248.527\\\" y=\\\"1557.47\\\">0<\\/text>\\n<\\/g>\\n<g clip-path=\\\"url(#clip8900)\\\">\\n<text style=\\\"fill:#000000; fill-opacity:1; font-family:Arial,Helvetica Neue,Helvetica,sans-serif; font-size:48px; text-anchor:middle;\\\" transform=\\\"rotate(0, 889.082, 1557.47)\\\" x=\\\"889.082\\\" y=\\\"1557.47\\\">1<\\/text>\\n<\\/g>\\n<g clip-path=\\\"url(#clip8900)\\\">\\n<text style=\\\"fill:#000000; fill-opacity:1; font-family:Arial,Helvetica Neue,Helvetica,sans-serif; font-size:48px; text-anchor:middle;\\\" transform=\\\"rotate(0, 1529.64, 1557.47)\\\" x=\\\"1529.64\\\" y=\\\"1557.47\\\">2<\\/text>\\n<\\/g>\\n<g clip-path=\\\"url(#clip8900)\\\">\\n<text style=\\\"fill:#000000; fill-opacity:1; font-family:Arial,Helvetica Neue,Helvetica,sans-serif; font-size:48px; text-anchor:middle;\\\" transform=\\\"rotate(0, 2170.19, 1557.47)\\\" x=\\\"2170.19\\\" y=\\\"1557.47\\\">3<\\/text>\\n<\\/g>\\n<g clip-path=\\\"url(#clip8900)\\\">\\n<text style=\\\"fill:#000000; fill-opacity:1; font-family:Arial,Helvetica Neue,Helvetica,sans-serif; font-size:48px; text-anchor:end;\\\" transform=\\\"rotate(0, 164.156, 1479.76)\\\" x=\\\"164.156\\\" y=\\\"1479.76\\\">0.00<\\/text>\\n<\\/g>\\n<g clip-path=\\\"url(#clip8900)\\\">\\n<text style=\\\"fill:#000000; fill-opacity:1; font-family:Arial,Helvetica Neue,Helvetica,sans-serif; font-size:48px; text-anchor:end;\\\" transform=\\\"rotate(0, 164.156, 1136.2)\\\" x=\\\"164.156\\\" y=\\\"1136.2\\\">0.25<\\/text>\\n<\\/g>\\n<g clip-path=\\\"url(#clip8900)\\\">\\n<text style=\\\"fill:#000000; fill-opacity:1; font-family:Arial,Helvetica Neue,Helvetica,sans-serif; font-size:48px; text-anchor:end;\\\" transform=\\\"rotate(0, 164.156, 792.639)\\\" x=\\\"164.156\\\" y=\\\"792.639\\\">0.50<\\/text>\\n<\\/g>\\n<g clip-path=\\\"url(#clip8900)\\\">\\n<text style=\\\"fill:#000000; fill-opacity:1; font-family:Arial,Helvetica Neue,Helvetica,sans-serif; font-size:48px; text-anchor:end;\\\" transform=\\\"rotate(0, 164.156, 449.078)\\\" x=\\\"164.156\\\" y=\\\"449.078\\\">0.75<\\/text>\\n<\\/g>\\n<g clip-path=\\\"url(#clip8900)\\\">\\n<text style=\\\"fill:#000000; fill-opacity:1; font-family:Arial,Helvetica Neue,Helvetica,sans-serif; font-size:48px; text-anchor:end;\\\" transform=\\\"rotate(0, 164.156, 105.517)\\\" x=\\\"164.156\\\" y=\\\"105.517\\\">1.00<\\/text>\\n<\\/g>\\n<circle clip-path=\\\"url(#clip8902)\\\" style=\\\"fill:#000000; stroke:none; fill-opacity:1\\\" cx=\\\"248.527\\\" cy=\\\"1462.26\\\" r=\\\"18\\\"\\/>\\n<circle clip-path=\\\"url(#clip8902)\\\" style=\\\"fill:#009af9; stroke:none; fill-opacity:1\\\" cx=\\\"248.527\\\" cy=\\\"1462.26\\\" r=\\\"14\\\"\\/>\\n<circle clip-path=\\\"url(#clip8902)\\\" style=\\\"fill:#000000; stroke:none; fill-opacity:1\\\" cx=\\\"651\\\" cy=\\\"654.501\\\" r=\\\"18\\\"\\/>\\n<circle clip-path=\\\"url(#clip8902)\\\" style=\\\"fill:#009af9; stroke:none; fill-opacity:1\\\" cx=\\\"651\\\" cy=\\\"654.501\\\" r=\\\"14\\\"\\/>\\n<circle clip-path=\\\"url(#clip8902)\\\" style=\\\"fill:#000000; stroke:none; fill-opacity:1\\\" cx=\\\"1048.14\\\" cy=\\\"158.855\\\" r=\\\"18\\\"\\/>\\n<circle clip-path=\\\"url(#clip8902)\\\" style=\\\"fill:#009af9; stroke:none; fill-opacity:1\\\" cx=\\\"1048.14\\\" cy=\\\"158.855\\\" r=\\\"14\\\"\\/>\\n<circle clip-path=\\\"url(#clip8902)\\\" style=\\\"fill:#000000; stroke:none; fill-opacity:1\\\" cx=\\\"1455.94\\\" cy=\\\"155.278\\\" r=\\\"18\\\"\\/>\\n<circle clip-path=\\\"url(#clip8902)\\\" style=\\\"fill:#009af9; stroke:none; fill-opacity:1\\\" cx=\\\"1455.94\\\" cy=\\\"155.278\\\" r=\\\"14\\\"\\/>\\n<circle clip-path=\\\"url(#clip8902)\\\" style=\\\"fill:#000000; stroke:none; fill-opacity:1\\\" cx=\\\"1858.42\\\" cy=\\\"654.501\\\" r=\\\"18\\\"\\/>\\n<circle clip-path=\\\"url(#clip8902)\\\" style=\\\"fill:#009af9; stroke:none; fill-opacity:1\\\" cx=\\\"1858.42\\\" cy=\\\"654.501\\\" r=\\\"14\\\"\\/>\\n<circle clip-path=\\\"url(#clip8902)\\\" style=\\\"fill:#000000; stroke:none; fill-opacity:1\\\" cx=\\\"2260.89\\\" cy=\\\"1462.26\\\" r=\\\"18\\\"\\/>\\n<circle clip-path=\\\"url(#clip8902)\\\" style=\\\"fill:#009af9; stroke:none; fill-opacity:1\\\" cx=\\\"2260.89\\\" cy=\\\"1462.26\\\" r=\\\"14\\\"\\/>\\n<polyline clip-path=\\\"url(#clip8902)\\\" style=\\\"stroke:#e26f46; stroke-width:4; stroke-opacity:1; fill:none\\\" points=\\\"\\n  248.527,1462.26 258.64,1440.59 268.752,1418.92 278.864,1397.26 288.977,1375.62 299.089,1354 309.201,1332.4 319.314,1310.84 329.426,1289.31 339.539,1267.83 \\n  349.651,1246.39 359.763,1225.01 369.876,1203.68 379.988,1182.41 390.1,1161.21 400.213,1140.09 410.325,1119.04 420.438,1098.08 430.55,1077.2 440.662,1056.42 \\n  450.775,1035.74 460.887,1015.17 470.999,994.699 481.112,974.347 491.224,954.115 501.336,934.009 511.449,914.033 521.561,894.192 531.674,874.493 541.786,854.94 \\n  551.898,835.538 562.011,816.293 572.123,797.209 582.235,778.293 592.348,759.549 602.46,740.983 612.573,722.6 622.685,704.404 632.797,686.402 642.91,668.598 \\n  653.022,650.997 663.134,633.605 673.247,616.425 683.359,599.46 693.472,582.712 703.584,566.187 713.696,549.886 723.809,533.813 733.921,517.972 744.033,502.364 \\n  754.146,486.995 764.258,471.867 774.371,456.983 784.483,442.347 794.595,427.961 804.708,413.829 814.82,399.955 824.932,386.342 835.045,372.992 845.157,359.909 \\n  855.269,347.097 865.382,334.558 875.494,322.296 885.607,310.314 895.719,298.616 905.831,287.204 915.944,276.082 926.056,265.253 936.168,254.721 946.281,244.488 \\n  956.393,234.558 966.506,224.934 976.618,215.62 986.73,206.619 996.843,197.933 1006.96,189.567 1017.07,181.523 1027.18,173.804 1037.29,166.415 1047.4,159.358 \\n  1057.52,152.636 1067.63,146.25 1077.74,140.199 1087.85,134.485 1097.97,129.106 1108.08,124.063 1118.19,119.355 1128.3,114.984 1138.42,110.949 1148.53,107.25 \\n  1158.64,103.886 1168.75,100.859 1178.87,98.1675 1188.98,95.8123 1199.09,93.7932 1209.2,92.1102 1219.31,90.7633 1229.43,89.7526 1239.54,89.0781 1249.65,88.7399 \\n  1259.76,88.7379 1269.88,89.0722 1279.99,89.7429 1290.1,90.7498 1300.21,92.0932 1310.33,93.7729 1320.44,95.7891 1330.55,98.1417 1340.66,100.831 1350.78,103.856 \\n  1360.89,107.219 1371,110.917 1381.11,114.953 1391.23,119.325 1401.34,124.033 1411.45,129.078 1421.56,134.46 1431.67,140.179 1441.79,146.234 1451.9,152.627 \\n  1462.01,159.355 1472.12,166.419 1482.24,173.815 1492.35,181.538 1502.46,189.587 1512.57,197.958 1522.69,206.648 1532.8,215.653 1542.91,224.97 1553.02,234.596 \\n  1563.14,244.528 1573.25,254.763 1583.36,265.296 1593.47,276.126 1603.58,287.248 1613.7,298.661 1623.81,310.359 1633.92,322.34 1644.03,334.602 1654.15,347.14 \\n  1664.26,359.951 1674.37,373.032 1684.48,386.38 1694.6,399.992 1704.71,413.865 1714.82,427.994 1724.93,442.378 1735.05,457.012 1745.16,471.893 1755.27,487.019 \\n  1765.38,502.386 1775.5,517.991 1785.61,533.83 1795.72,549.9 1805.83,566.198 1815.94,582.722 1826.06,599.466 1836.17,616.429 1846.28,633.608 1856.39,650.998 \\n  1866.51,668.596 1876.62,686.398 1886.73,704.399 1896.84,722.593 1906.96,740.975 1917.07,759.541 1927.18,778.283 1937.29,797.198 1947.41,816.281 1957.52,835.525 \\n  1967.63,854.926 1977.74,874.479 1987.85,894.178 1997.97,914.018 2008.08,933.994 2018.19,954.1 2028.3,974.332 2038.42,994.685 2048.53,1015.15 2058.64,1035.73 \\n  2068.75,1056.41 2078.87,1077.19 2088.98,1098.06 2099.09,1119.03 2109.2,1140.08 2119.32,1161.2 2129.43,1182.4 2139.54,1203.67 2149.65,1225 2159.77,1246.38 \\n  2169.88,1267.82 2179.99,1289.31 2190.1,1310.83 2200.21,1332.4 2210.33,1353.99 2220.44,1375.62 2230.55,1397.26 2240.66,1418.92 2250.78,1440.59 2260.89,1462.26 \\n  \\n  \\\"\\/>\\n<polyline clip-path=\\\"url(#clip8902)\\\" style=\\\"stroke:#3da44d; stroke-width:4; stroke-opacity:1; fill:none\\\" points=\\\"\\n  248.527,1462.26 258.64,1440.87 268.752,1419.44 278.864,1398 288.977,1376.54 299.089,1355.07 309.201,1333.61 319.314,1312.16 329.426,1290.72 339.539,1269.3 \\n  349.651,1247.91 359.763,1226.56 369.876,1205.25 379.988,1183.99 390.1,1162.78 400.213,1141.64 410.325,1120.57 420.438,1099.57 430.55,1078.66 440.662,1057.83 \\n  450.775,1037.1 460.887,1016.46 470.999,995.936 481.112,975.521 491.224,955.224 501.336,935.05 511.449,915.006 521.561,895.097 531.674,875.328 541.786,855.706 \\n  551.898,836.235 562.011,816.92 572.123,797.768 582.235,778.782 592.348,759.969 602.46,741.333 612.573,722.879 622.685,704.612 632.797,686.537 642.91,668.659 \\n  653.022,650.982 663.134,633.51 673.247,616.249 683.359,599.202 693.472,582.374 703.584,565.769 713.696,549.392 723.809,533.246 733.921,517.335 744.033,501.664 \\n  754.146,486.237 764.258,471.056 774.371,456.126 784.483,441.451 794.595,427.034 804.708,412.878 814.82,398.987 824.932,385.365 835.045,372.014 845.157,358.938 \\n  855.269,346.139 865.382,333.622 875.494,321.388 885.607,309.442 895.719,297.785 905.831,286.42 915.944,275.35 926.056,264.578 936.168,254.105 946.281,243.936 \\n  956.393,234.071 966.506,224.513 976.618,215.265 986.73,206.328 996.843,197.704 1006.96,189.396 1017.07,181.406 1027.18,173.734 1037.29,166.384 1047.4,159.356 \\n  1057.52,152.653 1067.63,146.275 1077.74,140.225 1087.85,134.503 1097.97,129.11 1108.08,124.049 1118.19,119.321 1128.3,114.925 1138.42,110.864 1148.53,107.138 \\n  1158.64,103.748 1168.75,100.694 1178.87,97.9786 1188.98,95.6009 1199.09,93.5618 1209.2,91.8617 1219.31,90.5011 1229.43,89.4803 1239.54,88.7994 1249.65,88.4587 \\n  1259.76,88.4582 1269.88,88.7979 1279.99,89.4777 1290.1,90.4975 1300.21,91.8571 1310.33,93.5562 1320.44,95.5943 1330.55,97.971 1340.66,100.686 1350.78,103.738 \\n  1360.89,107.127 1371,110.853 1381.11,114.913 1391.23,119.308 1401.34,124.036 1411.45,129.096 1421.56,134.487 1431.67,140.209 1441.79,146.258 1451.9,152.636 \\n  1462.01,159.338 1472.12,166.366 1482.24,173.716 1492.35,181.386 1502.46,189.377 1512.57,197.684 1522.69,206.307 1532.8,215.244 1542.91,224.492 1553.02,234.05 \\n  1563.14,243.915 1573.25,254.084 1583.36,264.557 1593.47,275.329 1603.58,286.399 1613.7,297.764 1623.81,309.421 1633.92,321.368 1644.03,333.602 1654.15,346.12 \\n  1664.26,358.919 1674.37,371.995 1684.48,385.347 1694.6,398.97 1704.71,412.862 1714.82,427.018 1724.93,441.436 1735.05,456.112 1745.16,471.043 1755.27,486.225 \\n  1765.38,501.653 1775.5,517.325 1785.61,533.237 1795.72,549.384 1805.83,565.763 1815.94,582.368 1826.06,599.198 1836.17,616.246 1846.28,633.508 1856.39,650.981 \\n  1866.51,668.66 1876.62,686.54 1886.73,704.616 1896.84,722.884 1906.96,741.339 1917.07,759.977 1927.18,778.791 1937.29,797.778 1947.41,816.932 1957.52,836.248 \\n  1967.63,855.72 1977.74,875.344 1987.85,895.114 1997.97,915.024 2008.08,935.069 2018.19,955.244 2028.3,975.542 2038.42,995.958 2048.53,1016.49 2058.64,1037.12 \\n  2068.75,1057.85 2078.87,1078.68 2088.98,1099.6 2099.09,1120.59 2109.2,1141.67 2119.32,1162.81 2129.43,1184.01 2139.54,1205.27 2149.65,1226.58 2159.77,1247.93 \\n  2169.88,1269.32 2179.99,1290.74 2190.1,1312.17 2200.21,1333.63 2210.33,1355.09 2220.44,1376.55 2230.55,1398.01 2240.66,1419.45 2250.78,1440.87 2260.89,1462.26 \\n  \\n  \\\"\\/>\\n<polygon clip-path=\\\"url(#clip8900)\\\" points=\\\"\\n1958.43,372.684 2249.26,372.684 2249.26,130.764 1958.43,130.764 \\n  \\\" fill=\\\"#ffffff\\\" fill-rule=\\\"evenodd\\\" fill-opacity=\\\"1\\\"\\/>\\n<polyline clip-path=\\\"url(#clip8900)\\\" style=\\\"stroke:#000000; stroke-width:4; stroke-opacity:1; fill:none\\\" points=\\\"\\n  1958.43,372.684 2249.26,372.684 2249.26,130.764 1958.43,130.764 1958.43,372.684 \\n  \\\"\\/>\\n<circle clip-path=\\\"url(#clip8900)\\\" style=\\\"fill:#000000; stroke:none; fill-opacity:1\\\" cx=\\\"2066.43\\\" cy=\\\"191.244\\\" r=\\\"25\\\"\\/>\\n<circle clip-path=\\\"url(#clip8900)\\\" style=\\\"fill:#009af9; stroke:none; fill-opacity:1\\\" cx=\\\"2066.43\\\" cy=\\\"191.244\\\" r=\\\"21\\\"\\/>\\n<g clip-path=\\\"url(#clip8900)\\\">\\n<text style=\\\"fill:#000000; fill-opacity:1; font-family:Arial,Helvetica Neue,Helvetica,sans-serif; font-size:48px; text-anchor:start;\\\" transform=\\\"rotate(0, 2150.43, 208.744)\\\" x=\\\"2150.43\\\" y=\\\"208.744\\\">y1<\\/text>\\n<\\/g>\\n<polyline clip-path=\\\"url(#clip8900)\\\" style=\\\"stroke:#e26f46; stroke-width:4; stroke-opacity:1; fill:none\\\" points=\\\"\\n  1982.43,251.724 2126.43,251.724 \\n  \\\"\\/>\\n<g clip-path=\\\"url(#clip8900)\\\">\\n<text style=\\\"fill:#000000; fill-opacity:1; font-family:Arial,Helvetica Neue,Helvetica,sans-serif; font-size:48px; text-anchor:start;\\\" transform=\\\"rotate(0, 2150.43, 269.224)\\\" x=\\\"2150.43\\\" y=\\\"269.224\\\">y2<\\/text>\\n<\\/g>\\n<polyline clip-path=\\\"url(#clip8900)\\\" style=\\\"stroke:#3da44d; stroke-width:4; stroke-opacity:1; fill:none\\\" points=\\\"\\n  1982.43,312.204 2126.43,312.204 \\n  \\\"\\/>\\n<g clip-path=\\\"url(#clip8900)\\\">\\n<text style=\\\"fill:#000000; fill-opacity:1; font-family:Arial,Helvetica Neue,Helvetica,sans-serif; font-size:48px; text-anchor:start;\\\" transform=\\\"rotate(0, 2150.43, 329.704)\\\" x=\\\"2150.43\\\" y=\\\"329.704\\\">y3<\\/text>\\n<\\/g>\\n<\\/svg>\\n\"},\"nodeType\":\"DOM\",\"type\":\"node\",\"instanceArgs\":{\"namespace\":\"html\",\"tag\":\"div\"},\"children\":[]}]}}}},\"children\":[{\"props\":{},\"nodeType\":\"ObservableNode\",\"type\":\"node\",\"instanceArgs\":{\"id\":\"ob_16\",\"name\":\"obs-node\"},\"children\":[]}]}]},\n",
       "            window,\n",
       "        );\n",
       "    } else {\n",
       "        document\n",
       "            .querySelector('[data-webio-mountpoint=\"10707044540954839997\"]')\n",
       "            .innerHTML = (\n",
       "                '<strong>WebIO not detected. Please read ' +\n",
       "                '<a href=\"https://juliagizmos.github.io/WebIO.jl/latest/troubleshooting/not-detected/\">the troubleshooting guide</a> ' +\n",
       "                'for more information on how to resolve this issue.' +\n",
       "                '</strong>'\n",
       "            );\n",
       "    }\n",
       "    </script>\n",
       "</div>\n"
      ],
      "text/plain": [
       "Node{WebIO.DOM}(WebIO.DOM(:html, :div), Any[Node{DOM}(DOM(:html, :div), Any[Scope(Node{DOM}(DOM(:html, :div), Any[Node{DOM}(DOM(:html, :div), Any[Node{DOM}(DOM(:html, :label), Any[\"xp\"], Dict{Symbol,Any}(:className=>\"interact \",:style=>Dict{Any,Any}(:padding=>\"5px 10px 0px 10px\")))], Dict{Symbol,Any}(:className=>\"interact-flex-row-left\")), Node{DOM}(DOM(:html, :div), Any[Node{DOM}(DOM(:html, :input), Any[], Dict{Symbol,Any}(:max=>126,:min=>1,:attributes=>Dict{Any,Any}(:type=>\"range\",Symbol(\"data-bind\")=>\"numericValue: index, valueUpdate: 'input', event: {change: function (){this.changes(this.changes()+1)}}\",\"orient\"=>\"horizontal\"),:step=>1,:className=>\"slider slider is-fullwidth\",:style=>Dict{Any,Any}()))], Dict{Symbol,Any}(:className=>\"interact-flex-row-center\")), Node{DOM}(DOM(:html, :div), Any[Node{DOM}(DOM(:html, :p), Any[], Dict{Symbol,Any}(:attributes=>Dict(\"data-bind\"=>\"text: formatted_val\")))], Dict{Symbol,Any}(:className=>\"interact-flex-row-right\"))], Dict{Symbol,Any}(:className=>\"interact-flex-row interact-widget\")), Dict{String,Tuple{Observables.AbstractObservable,Union{Nothing, Bool}}}(\"changes\"=>(Observable{Int64} with 1 listeners. Value:\n",
       "0, nothing),\"index\"=>(Observable{Any} with 2 listeners. Value:\n",
       "63, nothing)), Set(String[]), nothing, Asset[Asset(\"js\", \"knockout\", \"C:\\\\Users\\\\Ivan_Slapnicar\\\\.julia\\\\packages\\\\Knockout\\\\1sDlc\\\\src\\\\..\\\\assets\\\\knockout.js\"), Asset(\"js\", \"knockout_punches\", \"C:\\\\Users\\\\Ivan_Slapnicar\\\\.julia\\\\packages\\\\Knockout\\\\1sDlc\\\\src\\\\..\\\\assets\\\\knockout_punches.js\"), Asset(\"js\", nothing, \"C:\\\\Users\\\\Ivan_Slapnicar\\\\.julia\\\\packages\\\\InteractBase\\\\9mFwe\\\\src\\\\..\\\\assets\\\\all.js\"), Asset(\"css\", nothing, \"C:\\\\Users\\\\Ivan_Slapnicar\\\\.julia\\\\packages\\\\InteractBase\\\\9mFwe\\\\src\\\\..\\\\assets\\\\style.css\"), Asset(\"css\", nothing, \"C:\\\\Users\\\\Ivan_Slapnicar\\\\.julia\\\\packages\\\\Interact\\\\0klKX\\\\src\\\\..\\\\assets\\\\bulma_confined.min.css\")], Dict{Any,Any}(\"changes\"=>Any[JSString(\"(function (val){return (val!=this.model[\\\"changes\\\"]()) ? (this.valueFromJulia[\\\"changes\\\"]=true, this.model[\\\"changes\\\"](val)) : undefined})\")],\"index\"=>Any[JSString(\"(function (val){return (val!=this.model[\\\"index\\\"]()) ? (this.valueFromJulia[\\\"index\\\"]=true, this.model[\\\"index\\\"](val)) : undefined})\")]), ConnectionPool(Channel{Any}(sz_max:32,sz_curr:0), Set(AbstractConnection[]), Condition(Any[Task (runnable) @0x0000000008279fb0])), WebIO.JSString[JSString(\"function () {\\n    var handler = (function (ko, koPunches) {\\n    ko.punches.enableAll();\\n    ko.bindingHandlers.numericValue = {\\n        init: function(element, valueAccessor, allBindings, data, context) {\\n            var stringified = ko.observable(ko.unwrap(valueAccessor()));\\n            stringified.subscribe(function(value) {\\n                var val = parseFloat(value);\\n                if (!isNaN(val)) {\\n                    valueAccessor()(val);\\n                }\\n            });\\n            valueAccessor().subscribe(function(value) {\\n                var str = JSON.stringify(value);\\n                if ((str == \\\"0\\\") && ([\\\"-0\\\", \\\"-0.\\\"].indexOf(stringified()) >= 0))\\n                     return;\\n                 if ([\\\"null\\\", \\\"\\\"].indexOf(str) >= 0)\\n                     return;\\n                stringified(str);\\n            });\\n            ko.applyBindingsToNode(\\n                element,\\n                {\\n                    value: stringified,\\n                    valueUpdate: allBindings.get('valueUpdate'),\\n                },\\n                context,\\n            );\\n        }\\n    };\\n    var json_data = {\\\"formatted_vals\\\":[\\\"0.628319\\\",\\\"0.638319\\\",\\\"0.648319\\\",\\\"0.658319\\\",\\\"0.668319\\\",\\\"0.678319\\\",\\\"0.688319\\\",\\\"0.698319\\\",\\\"0.708319\\\",\\\"0.718319\\\",\\\"0.728319\\\",\\\"0.738319\\\",\\\"0.748319\\\",\\\"0.758319\\\",\\\"0.768319\\\",\\\"0.778319\\\",\\\"0.788319\\\",\\\"0.798319\\\",\\\"0.808319\\\",\\\"0.818319\\\",\\\"0.828319\\\",\\\"0.838319\\\",\\\"0.848319\\\",\\\"0.858319\\\",\\\"0.868319\\\",\\\"0.878319\\\",\\\"0.888319\\\",\\\"0.898319\\\",\\\"0.908319\\\",\\\"0.918319\\\",\\\"0.928319\\\",\\\"0.938319\\\",\\\"0.948319\\\",\\\"0.958319\\\",\\\"0.968319\\\",\\\"0.978319\\\",\\\"0.988319\\\",\\\"0.998319\\\",\\\"1.00832\\\",\\\"1.01832\\\",\\\"1.02832\\\",\\\"1.03832\\\",\\\"1.04832\\\",\\\"1.05832\\\",\\\"1.06832\\\",\\\"1.07832\\\",\\\"1.08832\\\",\\\"1.09832\\\",\\\"1.10832\\\",\\\"1.11832\\\",\\\"1.12832\\\",\\\"1.13832\\\",\\\"1.14832\\\",\\\"1.15832\\\",\\\"1.16832\\\",\\\"1.17832\\\",\\\"1.18832\\\",\\\"1.19832\\\",\\\"1.20832\\\",\\\"1.21832\\\",\\\"1.22832\\\",\\\"1.23832\\\",\\\"1.24832\\\",\\\"1.25832\\\",\\\"1.26832\\\",\\\"1.27832\\\",\\\"1.28832\\\",\\\"1.29832\\\",\\\"1.30832\\\",\\\"1.31832\\\",\\\"1.32832\\\",\\\"1.33832\\\",\\\"1.34832\\\",\\\"1.35832\\\",\\\"1.36832\\\",\\\"1.37832\\\",\\\"1.38832\\\",\\\"1.39832\\\",\\\"1.40832\\\",\\\"1.41832\\\",\\\"1.42832\\\",\\\"1.43832\\\",\\\"1.44832\\\",\\\"1.45832\\\",\\\"1.46832\\\",\\\"1.47832\\\",\\\"1.48832\\\",\\\"1.49832\\\",\\\"1.50832\\\",\\\"1.51832\\\",\\\"1.52832\\\",\\\"1.53832\\\",\\\"1.54832\\\",\\\"1.55832\\\",\\\"1.56832\\\",\\\"1.57832\\\",\\\"1.58832\\\",\\\"1.59832\\\",\\\"1.60832\\\",\\\"1.61832\\\",\\\"1.62832\\\",\\\"1.63832\\\",\\\"1.64832\\\",\\\"1.65832\\\",\\\"1.66832\\\",\\\"1.67832\\\",\\\"1.68832\\\",\\\"1.69832\\\",\\\"1.70832\\\",\\\"1.71832\\\",\\\"1.72832\\\",\\\"1.73832\\\",\\\"1.74832\\\",\\\"1.75832\\\",\\\"1.76832\\\",\\\"1.77832\\\",\\\"1.78832\\\",\\\"1.79832\\\",\\\"1.80832\\\",\\\"1.81832\\\",\\\"1.82832\\\",\\\"1.83832\\\",\\\"1.84832\\\",\\\"1.85832\\\",\\\"1.86832\\\",\\\"1.87832\\\"],\\\"changes\\\":WebIO.getval({\\\"name\\\":\\\"changes\\\",\\\"scope\\\":\\\"12390228259067677744\\\",\\\"id\\\":\\\"ob_12\\\",\\\"type\\\":\\\"observable\\\"}),\\\"index\\\":WebIO.getval({\\\"name\\\":\\\"index\\\",\\\"scope\\\":\\\"12390228259067677744\\\",\\\"id\\\":\\\"ob_11\\\",\\\"type\\\":\\\"observable\\\"})};\\n    var self = this;\\n    function AppViewModel() {\\n        for (var key in json_data) {\\n            var el = json_data[key];\\n            this[key] = Array.isArray(el) ? ko.observableArray(el) : ko.observable(el);\\n        }\\n        \\n        [this[\\\"formatted_val\\\"]=ko.computed(    function(){\\n        return this.formatted_vals()[parseInt(this.index())-(1)];\\n    }\\n,this)]\\n        [this[\\\"changes\\\"].subscribe((function (val){!(this.valueFromJulia[\\\"changes\\\"]) ? (WebIO.setval({\\\"name\\\":\\\"changes\\\",\\\"scope\\\":\\\"12390228259067677744\\\",\\\"id\\\":\\\"ob_12\\\",\\\"type\\\":\\\"observable\\\"},val)) : undefined; return this.valueFromJulia[\\\"changes\\\"]=false}),self),this[\\\"index\\\"].subscribe((function (val){!(this.valueFromJulia[\\\"index\\\"]) ? (WebIO.setval({\\\"name\\\":\\\"index\\\",\\\"scope\\\":\\\"12390228259067677744\\\",\\\"id\\\":\\\"ob_11\\\",\\\"type\\\":\\\"observable\\\"},val)) : undefined; return this.valueFromJulia[\\\"index\\\"]=false}),self)]\\n        \\n    }\\n    self.model = new AppViewModel();\\n    self.valueFromJulia = {};\\n    for (var key in json_data) {\\n        self.valueFromJulia[key] = false;\\n    }\\n    ko.applyBindings(self.model, self.dom);\\n}\\n);\\n    (WebIO.importBlock({\\\"data\\\":[{\\\"name\\\":\\\"knockout\\\",\\\"type\\\":\\\"js\\\",\\\"url\\\":\\\"/assetserver/ec445c3635ad2e3755ac5e718c92ca301fdedb35-knockout.js\\\"},{\\\"name\\\":\\\"knockout_punches\\\",\\\"type\\\":\\\"js\\\",\\\"url\\\":\\\"/assetserver/83339d7be4b13cb796b32e311e1735b268343ced-knockout_punches.js\\\"}],\\\"type\\\":\\\"async_block\\\"})).then((imports) => handler.apply(this, imports));\\n}\\n\")])], Dict{Symbol,Any}(:className=>\"field interact-widget\")), Observable{Any} with 0 listeners. Value:\n",
       "Node{DOM}(DOM(:html, :div), Any[Plot{Plots.GRBackend() n=3}], Dict{Symbol,Any}(:className=>\"interact-flex-row interact-widget\"))], Dict{Symbol,Any}())"
      ]
     },
     "execution_count": 11,
     "metadata": {
      "application/vnd.webio.node+json": {
       "kernelId": "a21352aa-39ed-4531-b9d0-b914ff794ca1"
      }
     },
     "output_type": "execute_result"
    }
   ],
   "source": [
    "n=5\n",
    "a=0\n",
    "b=pi\n",
    "f(x)=sin.(x)\n",
    "\n",
    "x=range(a,b,length=n+1)\n",
    "y=f(x)\n",
    "lsize=200\n",
    "xx=range(a,b,length=lsize)\n",
    "ySpline=Array{Float64}(undef,lsize)\n",
    "yPoly=Array{Float64}(undef,lsize)\n",
    "yFun=f(xx)\n",
    "\n",
    "point=3\n",
    "xc=collect(deepcopy(x))\n",
    "yc=deepcopy(y)\n",
    "@manipulate for xp=xc[point-1]:0.01:xc[point+1]\n",
    "    # Splajn\n",
    "    xc[point]=xp\n",
    "    yc[point]=f(xp)\n",
    "    \n",
    "    h=xc[2:end]-xc[1:end-1]\n",
    "    d=(yc[2:end]-yc[1:end-1])./h\n",
    "    H=SymTridiagonal(2*(h[1:end-1]+h[2:end]),h[2:end-1])\n",
    "    b1=6*(d[2:end]-d[1:end-1])\n",
    "    s=H\\b1\n",
    "    s=[0;s;0]\n",
    "    b=d-(s[2:end]-s[1:end-1]).*h/6\n",
    "    C=Array{Any}(undef,n)\n",
    "    C=[xx-> \n",
    "    yc[i]-s[i]*h[i]^2/6+b[i]*(xx-xc[i])+s[i]*(xc[i+1]-xx)^3/(6*h[i])+s[i+1]*(xx-xc[i])^3/(6*h[i])\n",
    "        for i=1:n]\n",
    "    for i=1:lsize\n",
    "        for k=1:n\n",
    "            if xx[i]<=xc[k+1]\n",
    "                ySpline[i]=C[k](xx[i])\n",
    "                break\n",
    "            end\n",
    "        end\n",
    "    end\n",
    "    \n",
    "    # Polinom\n",
    "    A=Vandermonde(xc)\n",
    "    p=Poly(A\\yc)\n",
    "    yPoly=polyval(p,xx)\n",
    "    \n",
    "    scatter(xc,yc)\n",
    "    plot!(xx,[ySpline yPoly])\n",
    "    # Pogreske\n",
    "    #=\n",
    "    norm(ySpline[2:end-1]-yFun[2:end-1],Inf), \n",
    "    norm((ySpline[2:end-1]-yFun[2:end-1])./yFun[2:end-1],Inf),\n",
    "    norm(yPoly[2:end-1]-yFun[2:end-1],Inf),\n",
    "    norm((yPoly[2:end-1]-yFun[2:end-1])./yFun[2:end-1],Inf)\n",
    "    =#\n",
    "end"
   ]
  },
  {
   "cell_type": "markdown",
   "metadata": {},
   "source": [
    "## Primjer - Interpolacija funkcije $f(x)=1-|x-1|$, $x\\in[0,2]$"
   ]
  },
  {
   "cell_type": "code",
   "execution_count": 12,
   "metadata": {},
   "outputs": [
    {
     "data": {
      "application/vnd.webio.node+json": {
       "children": [
        {
         "children": [
          {
           "children": [
            {
             "children": [
              {
               "children": [
                {
                 "children": [
                  "xp"
                 ],
                 "instanceArgs": {
                  "namespace": "html",
                  "tag": "label"
                 },
                 "nodeType": "DOM",
                 "props": {
                  "className": "interact ",
                  "style": {
                   "padding": "5px 10px 0px 10px"
                  }
                 },
                 "type": "node"
                }
               ],
               "instanceArgs": {
                "namespace": "html",
                "tag": "div"
               },
               "nodeType": "DOM",
               "props": {
                "className": "interact-flex-row-left"
               },
               "type": "node"
              },
              {
               "children": [
                {
                 "children": [],
                 "instanceArgs": {
                  "namespace": "html",
                  "tag": "input"
                 },
                 "nodeType": "DOM",
                 "props": {
                  "attributes": {
                   "data-bind": "numericValue: index, valueUpdate: 'input', event: {change: function (){this.changes(this.changes()+1)}}",
                   "orient": "horizontal",
                   "type": "range"
                  },
                  "className": "slider slider is-fullwidth",
                  "max": 41,
                  "min": 1,
                  "step": 1,
                  "style": {}
                 },
                 "type": "node"
                }
               ],
               "instanceArgs": {
                "namespace": "html",
                "tag": "div"
               },
               "nodeType": "DOM",
               "props": {
                "className": "interact-flex-row-center"
               },
               "type": "node"
              },
              {
               "children": [
                {
                 "children": [],
                 "instanceArgs": {
                  "namespace": "html",
                  "tag": "p"
                 },
                 "nodeType": "DOM",
                 "props": {
                  "attributes": {
                   "data-bind": "text: formatted_val"
                  }
                 },
                 "type": "node"
                }
               ],
               "instanceArgs": {
                "namespace": "html",
                "tag": "div"
               },
               "nodeType": "DOM",
               "props": {
                "className": "interact-flex-row-right"
               },
               "type": "node"
              }
             ],
             "instanceArgs": {
              "namespace": "html",
              "tag": "div"
             },
             "nodeType": "DOM",
             "props": {
              "className": "interact-flex-row interact-widget"
             },
             "type": "node"
            }
           ],
           "instanceArgs": {
            "handlers": {
             "changes": [
              "(function (val){return (val!=this.model[\"changes\"]()) ? (this.valueFromJulia[\"changes\"]=true, this.model[\"changes\"](val)) : undefined})"
             ],
             "index": [
              "(function (val){return (val!=this.model[\"index\"]()) ? (this.valueFromJulia[\"index\"]=true, this.model[\"index\"](val)) : undefined})"
             ]
            },
            "id": "12282855697836136315",
            "imports": {
             "data": [
              {
               "name": "knockout",
               "type": "js",
               "url": "/assetserver/ec445c3635ad2e3755ac5e718c92ca301fdedb35-knockout.js"
              },
              {
               "name": "knockout_punches",
               "type": "js",
               "url": "/assetserver/83339d7be4b13cb796b32e311e1735b268343ced-knockout_punches.js"
              },
              {
               "name": null,
               "type": "js",
               "url": "/assetserver/5e8d29053a00bcb07412eb45a5e45e831da5deaf-all.js"
              },
              {
               "name": null,
               "type": "css",
               "url": "/assetserver/b0f8e5f50bb72f5435b24a25266064ee5434da5d-style.css"
              },
              {
               "name": null,
               "type": "css",
               "url": "/assetserver/e98c00e65cdd8ca07b622d8a89a3d4249e190915-bulma_confined.min.css"
              }
             ],
             "type": "async_block"
            },
            "mount_callbacks": [
             "function () {\n    var handler = (function (ko, koPunches) {\n    ko.punches.enableAll();\n    ko.bindingHandlers.numericValue = {\n        init: function(element, valueAccessor, allBindings, data, context) {\n            var stringified = ko.observable(ko.unwrap(valueAccessor()));\n            stringified.subscribe(function(value) {\n                var val = parseFloat(value);\n                if (!isNaN(val)) {\n                    valueAccessor()(val);\n                }\n            });\n            valueAccessor().subscribe(function(value) {\n                var str = JSON.stringify(value);\n                if ((str == \"0\") && ([\"-0\", \"-0.\"].indexOf(stringified()) >= 0))\n                     return;\n                 if ([\"null\", \"\"].indexOf(str) >= 0)\n                     return;\n                stringified(str);\n            });\n            ko.applyBindingsToNode(\n                element,\n                {\n                    value: stringified,\n                    valueUpdate: allBindings.get('valueUpdate'),\n                },\n                context,\n            );\n        }\n    };\n    var json_data = {\"formatted_vals\":[\"0.2\",\"0.21\",\"0.22\",\"0.23\",\"0.24\",\"0.25\",\"0.26\",\"0.27\",\"0.28\",\"0.29\",\"0.3\",\"0.31\",\"0.32\",\"0.33\",\"0.34\",\"0.35\",\"0.36\",\"0.37\",\"0.38\",\"0.39\",\"0.4\",\"0.41\",\"0.42\",\"0.43\",\"0.44\",\"0.45\",\"0.46\",\"0.47\",\"0.48\",\"0.49\",\"0.5\",\"0.51\",\"0.52\",\"0.53\",\"0.54\",\"0.55\",\"0.56\",\"0.57\",\"0.58\",\"0.59\",\"0.6\"],\"changes\":WebIO.getval({\"name\":\"changes\",\"scope\":\"12282855697836136315\",\"id\":\"ob_21\",\"type\":\"observable\"}),\"index\":WebIO.getval({\"name\":\"index\",\"scope\":\"12282855697836136315\",\"id\":\"ob_20\",\"type\":\"observable\"})};\n    var self = this;\n    function AppViewModel() {\n        for (var key in json_data) {\n            var el = json_data[key];\n            this[key] = Array.isArray(el) ? ko.observableArray(el) : ko.observable(el);\n        }\n        \n        [this[\"formatted_val\"]=ko.computed(    function(){\n        return this.formatted_vals()[parseInt(this.index())-(1)];\n    }\n,this)]\n        [this[\"changes\"].subscribe((function (val){!(this.valueFromJulia[\"changes\"]) ? (WebIO.setval({\"name\":\"changes\",\"scope\":\"12282855697836136315\",\"id\":\"ob_21\",\"type\":\"observable\"},val)) : undefined; return this.valueFromJulia[\"changes\"]=false}),self),this[\"index\"].subscribe((function (val){!(this.valueFromJulia[\"index\"]) ? (WebIO.setval({\"name\":\"index\",\"scope\":\"12282855697836136315\",\"id\":\"ob_20\",\"type\":\"observable\"},val)) : undefined; return this.valueFromJulia[\"index\"]=false}),self)]\n        \n    }\n    self.model = new AppViewModel();\n    self.valueFromJulia = {};\n    for (var key in json_data) {\n        self.valueFromJulia[key] = false;\n    }\n    ko.applyBindings(self.model, self.dom);\n}\n);\n    (WebIO.importBlock({\"data\":[{\"name\":\"knockout\",\"type\":\"js\",\"url\":\"/assetserver/ec445c3635ad2e3755ac5e718c92ca301fdedb35-knockout.js\"},{\"name\":\"knockout_punches\",\"type\":\"js\",\"url\":\"/assetserver/83339d7be4b13cb796b32e311e1735b268343ced-knockout_punches.js\"}],\"type\":\"async_block\"})).then((imports) => handler.apply(this, imports));\n}\n"
            ],
            "observables": {
             "changes": {
              "id": "ob_21",
              "sync": false,
              "value": 0
             },
             "index": {
              "id": "ob_20",
              "sync": true,
              "value": 21
             }
            },
            "systemjs_options": null
           },
           "nodeType": "Scope",
           "props": {},
           "type": "node"
          }
         ],
         "instanceArgs": {
          "namespace": "html",
          "tag": "div"
         },
         "nodeType": "DOM",
         "props": {
          "className": "field interact-widget"
         },
         "type": "node"
        },
        {
         "children": [
          {
           "children": [],
           "instanceArgs": {
            "id": "ob_27",
            "name": "obs-node"
           },
           "nodeType": "ObservableNode",
           "props": {},
           "type": "node"
          }
         ],
         "instanceArgs": {
          "handlers": {},
          "id": "12094325593717578976",
          "imports": {
           "data": [],
           "type": "async_block"
          },
          "mount_callbacks": [],
          "observables": {
           "obs-node": {
            "id": "ob_27",
            "sync": false,
            "value": {
             "children": [
              {
               "children": [],
               "instanceArgs": {
                "namespace": "html",
                "tag": "div"
               },
               "nodeType": "DOM",
               "props": {
                "setInnerHtml": "<?xml version=\"1.0\" encoding=\"utf-8\"?>\n<svg xmlns=\"http://www.w3.org/2000/svg\" xmlns:xlink=\"http://www.w3.org/1999/xlink\" width=\"600\" height=\"400\" viewBox=\"0 0 2400 1600\">\n<defs>\n  <clipPath id=\"clip8900\">\n    <rect x=\"0\" y=\"0\" width=\"2400\" height=\"1600\"/>\n  </clipPath>\n</defs>\n<polygon clip-path=\"url(#clip8900)\" points=\"\n0,1600 2400,1600 2400,0 0,0 \n  \" fill=\"#ffffff\" fill-rule=\"evenodd\" fill-opacity=\"1\"/>\n<defs>\n  <clipPath id=\"clip8901\">\n    <rect x=\"480\" y=\"0\" width=\"1681\" height=\"1600\"/>\n  </clipPath>\n</defs>\n<polygon clip-path=\"url(#clip8900)\" points=\"\n188.156,1503.47 2321.26,1503.47 2321.26,47.2441 188.156,47.2441 \n  \" fill=\"#ffffff\" fill-rule=\"evenodd\" fill-opacity=\"1\"/>\n<defs>\n  <clipPath id=\"clip8902\">\n    <rect x=\"188\" y=\"47\" width=\"2134\" height=\"1457\"/>\n  </clipPath>\n</defs>\n<polyline clip-path=\"url(#clip8902)\" style=\"stroke:#000000; stroke-width:2; stroke-opacity:0.1; fill:none\" points=\"\n  248.527,1503.47 248.527,47.2441 \n  \"/>\n<polyline clip-path=\"url(#clip8902)\" style=\"stroke:#000000; stroke-width:2; stroke-opacity:0.1; fill:none\" points=\"\n  751.618,1503.47 751.618,47.2441 \n  \"/>\n<polyline clip-path=\"url(#clip8902)\" style=\"stroke:#000000; stroke-width:2; stroke-opacity:0.1; fill:none\" points=\"\n  1254.71,1503.47 1254.71,47.2441 \n  \"/>\n<polyline clip-path=\"url(#clip8902)\" style=\"stroke:#000000; stroke-width:2; stroke-opacity:0.1; fill:none\" points=\"\n  1757.8,1503.47 1757.8,47.2441 \n  \"/>\n<polyline clip-path=\"url(#clip8902)\" style=\"stroke:#000000; stroke-width:2; stroke-opacity:0.1; fill:none\" points=\"\n  2260.89,1503.47 2260.89,47.2441 \n  \"/>\n<polyline clip-path=\"url(#clip8902)\" style=\"stroke:#000000; stroke-width:2; stroke-opacity:0.1; fill:none\" points=\"\n  188.156,1462.26 2321.26,1462.26 \n  \"/>\n<polyline clip-path=\"url(#clip8902)\" style=\"stroke:#000000; stroke-width:2; stroke-opacity:0.1; fill:none\" points=\"\n  188.156,1118.81 2321.26,1118.81 \n  \"/>\n<polyline clip-path=\"url(#clip8902)\" style=\"stroke:#000000; stroke-width:2; stroke-opacity:0.1; fill:none\" points=\"\n  188.156,775.359 2321.26,775.359 \n  \"/>\n<polyline clip-path=\"url(#clip8902)\" style=\"stroke:#000000; stroke-width:2; stroke-opacity:0.1; fill:none\" points=\"\n  188.156,431.909 2321.26,431.909 \n  \"/>\n<polyline clip-path=\"url(#clip8902)\" style=\"stroke:#000000; stroke-width:2; stroke-opacity:0.1; fill:none\" points=\"\n  188.156,88.4582 2321.26,88.4582 \n  \"/>\n<polyline clip-path=\"url(#clip8900)\" style=\"stroke:#000000; stroke-width:4; stroke-opacity:1; fill:none\" points=\"\n  188.156,1503.47 2321.26,1503.47 \n  \"/>\n<polyline clip-path=\"url(#clip8900)\" style=\"stroke:#000000; stroke-width:4; stroke-opacity:1; fill:none\" points=\"\n  188.156,1503.47 188.156,47.2441 \n  \"/>\n<polyline clip-path=\"url(#clip8900)\" style=\"stroke:#000000; stroke-width:4; stroke-opacity:1; fill:none\" points=\"\n  248.527,1503.47 248.527,1481.63 \n  \"/>\n<polyline clip-path=\"url(#clip8900)\" style=\"stroke:#000000; stroke-width:4; stroke-opacity:1; fill:none\" points=\"\n  751.618,1503.47 751.618,1481.63 \n  \"/>\n<polyline clip-path=\"url(#clip8900)\" style=\"stroke:#000000; stroke-width:4; stroke-opacity:1; fill:none\" points=\"\n  1254.71,1503.47 1254.71,1481.63 \n  \"/>\n<polyline clip-path=\"url(#clip8900)\" style=\"stroke:#000000; stroke-width:4; stroke-opacity:1; fill:none\" points=\"\n  1757.8,1503.47 1757.8,1481.63 \n  \"/>\n<polyline clip-path=\"url(#clip8900)\" style=\"stroke:#000000; stroke-width:4; stroke-opacity:1; fill:none\" points=\"\n  2260.89,1503.47 2260.89,1481.63 \n  \"/>\n<polyline clip-path=\"url(#clip8900)\" style=\"stroke:#000000; stroke-width:4; stroke-opacity:1; fill:none\" points=\"\n  188.156,1462.26 220.153,1462.26 \n  \"/>\n<polyline clip-path=\"url(#clip8900)\" style=\"stroke:#000000; stroke-width:4; stroke-opacity:1; fill:none\" points=\"\n  188.156,1118.81 220.153,1118.81 \n  \"/>\n<polyline clip-path=\"url(#clip8900)\" style=\"stroke:#000000; stroke-width:4; stroke-opacity:1; fill:none\" points=\"\n  188.156,775.359 220.153,775.359 \n  \"/>\n<polyline clip-path=\"url(#clip8900)\" style=\"stroke:#000000; stroke-width:4; stroke-opacity:1; fill:none\" points=\"\n  188.156,431.909 220.153,431.909 \n  \"/>\n<polyline clip-path=\"url(#clip8900)\" style=\"stroke:#000000; stroke-width:4; stroke-opacity:1; fill:none\" points=\"\n  188.156,88.4582 220.153,88.4582 \n  \"/>\n<g clip-path=\"url(#clip8900)\">\n<text style=\"fill:#000000; fill-opacity:1; font-family:Arial,Helvetica Neue,Helvetica,sans-serif; font-size:48px; text-anchor:middle;\" transform=\"rotate(0, 248.527, 1557.47)\" x=\"248.527\" y=\"1557.47\">0.0</text>\n</g>\n<g clip-path=\"url(#clip8900)\">\n<text style=\"fill:#000000; fill-opacity:1; font-family:Arial,Helvetica Neue,Helvetica,sans-serif; font-size:48px; text-anchor:middle;\" transform=\"rotate(0, 751.618, 1557.47)\" x=\"751.618\" y=\"1557.47\">0.5</text>\n</g>\n<g clip-path=\"url(#clip8900)\">\n<text style=\"fill:#000000; fill-opacity:1; font-family:Arial,Helvetica Neue,Helvetica,sans-serif; font-size:48px; text-anchor:middle;\" transform=\"rotate(0, 1254.71, 1557.47)\" x=\"1254.71\" y=\"1557.47\">1.0</text>\n</g>\n<g clip-path=\"url(#clip8900)\">\n<text style=\"fill:#000000; fill-opacity:1; font-family:Arial,Helvetica Neue,Helvetica,sans-serif; font-size:48px; text-anchor:middle;\" transform=\"rotate(0, 1757.8, 1557.47)\" x=\"1757.8\" y=\"1557.47\">1.5</text>\n</g>\n<g clip-path=\"url(#clip8900)\">\n<text style=\"fill:#000000; fill-opacity:1; font-family:Arial,Helvetica Neue,Helvetica,sans-serif; font-size:48px; text-anchor:middle;\" transform=\"rotate(0, 2260.89, 1557.47)\" x=\"2260.89\" y=\"1557.47\">2.0</text>\n</g>\n<g clip-path=\"url(#clip8900)\">\n<text style=\"fill:#000000; fill-opacity:1; font-family:Arial,Helvetica Neue,Helvetica,sans-serif; font-size:48px; text-anchor:end;\" transform=\"rotate(0, 164.156, 1479.76)\" x=\"164.156\" y=\"1479.76\">0.00</text>\n</g>\n<g clip-path=\"url(#clip8900)\">\n<text style=\"fill:#000000; fill-opacity:1; font-family:Arial,Helvetica Neue,Helvetica,sans-serif; font-size:48px; text-anchor:end;\" transform=\"rotate(0, 164.156, 1136.31)\" x=\"164.156\" y=\"1136.31\">0.25</text>\n</g>\n<g clip-path=\"url(#clip8900)\">\n<text style=\"fill:#000000; fill-opacity:1; font-family:Arial,Helvetica Neue,Helvetica,sans-serif; font-size:48px; text-anchor:end;\" transform=\"rotate(0, 164.156, 792.859)\" x=\"164.156\" y=\"792.859\">0.50</text>\n</g>\n<g clip-path=\"url(#clip8900)\">\n<text style=\"fill:#000000; fill-opacity:1; font-family:Arial,Helvetica Neue,Helvetica,sans-serif; font-size:48px; text-anchor:end;\" transform=\"rotate(0, 164.156, 449.409)\" x=\"164.156\" y=\"449.409\">0.75</text>\n</g>\n<g clip-path=\"url(#clip8900)\">\n<text style=\"fill:#000000; fill-opacity:1; font-family:Arial,Helvetica Neue,Helvetica,sans-serif; font-size:48px; text-anchor:end;\" transform=\"rotate(0, 164.156, 105.958)\" x=\"164.156\" y=\"105.958\">1.00</text>\n</g>\n<circle clip-path=\"url(#clip8902)\" style=\"fill:#000000; stroke:none; fill-opacity:1\" cx=\"248.527\" cy=\"1462.26\" r=\"18\"/>\n<circle clip-path=\"url(#clip8902)\" style=\"fill:#009af9; stroke:none; fill-opacity:1\" cx=\"248.527\" cy=\"1462.26\" r=\"14\"/>\n<circle clip-path=\"url(#clip8902)\" style=\"fill:#000000; stroke:none; fill-opacity:1\" cx=\"449.763\" cy=\"1187.5\" r=\"18\"/>\n<circle clip-path=\"url(#clip8902)\" style=\"fill:#009af9; stroke:none; fill-opacity:1\" cx=\"449.763\" cy=\"1187.5\" r=\"14\"/>\n<circle clip-path=\"url(#clip8902)\" style=\"fill:#000000; stroke:none; fill-opacity:1\" cx=\"651\" cy=\"927.277\" r=\"18\"/>\n<circle clip-path=\"url(#clip8902)\" style=\"fill:#009af9; stroke:none; fill-opacity:1\" cx=\"651\" cy=\"927.277\" r=\"14\"/>\n<circle clip-path=\"url(#clip8902)\" style=\"fill:#000000; stroke:none; fill-opacity:1\" cx=\"852.236\" cy=\"637.979\" r=\"18\"/>\n<circle clip-path=\"url(#clip8902)\" style=\"fill:#009af9; stroke:none; fill-opacity:1\" cx=\"852.236\" cy=\"637.979\" r=\"14\"/>\n<circle clip-path=\"url(#clip8902)\" style=\"fill:#000000; stroke:none; fill-opacity:1\" cx=\"1053.47\" cy=\"363.219\" r=\"18\"/>\n<circle clip-path=\"url(#clip8902)\" style=\"fill:#009af9; stroke:none; fill-opacity:1\" cx=\"1053.47\" cy=\"363.219\" r=\"14\"/>\n<circle clip-path=\"url(#clip8902)\" style=\"fill:#000000; stroke:none; fill-opacity:1\" cx=\"1254.71\" cy=\"88.4582\" r=\"18\"/>\n<circle clip-path=\"url(#clip8902)\" style=\"fill:#009af9; stroke:none; fill-opacity:1\" cx=\"1254.71\" cy=\"88.4582\" r=\"14\"/>\n<circle clip-path=\"url(#clip8902)\" style=\"fill:#000000; stroke:none; fill-opacity:1\" cx=\"1455.94\" cy=\"363.219\" r=\"18\"/>\n<circle clip-path=\"url(#clip8902)\" style=\"fill:#009af9; stroke:none; fill-opacity:1\" cx=\"1455.94\" cy=\"363.219\" r=\"14\"/>\n<circle clip-path=\"url(#clip8902)\" style=\"fill:#000000; stroke:none; fill-opacity:1\" cx=\"1657.18\" cy=\"637.979\" r=\"18\"/>\n<circle clip-path=\"url(#clip8902)\" style=\"fill:#009af9; stroke:none; fill-opacity:1\" cx=\"1657.18\" cy=\"637.979\" r=\"14\"/>\n<circle clip-path=\"url(#clip8902)\" style=\"fill:#000000; stroke:none; fill-opacity:1\" cx=\"1858.42\" cy=\"912.74\" r=\"18\"/>\n<circle clip-path=\"url(#clip8902)\" style=\"fill:#009af9; stroke:none; fill-opacity:1\" cx=\"1858.42\" cy=\"912.74\" r=\"14\"/>\n<circle clip-path=\"url(#clip8902)\" style=\"fill:#000000; stroke:none; fill-opacity:1\" cx=\"2059.65\" cy=\"1187.5\" r=\"18\"/>\n<circle clip-path=\"url(#clip8902)\" style=\"fill:#009af9; stroke:none; fill-opacity:1\" cx=\"2059.65\" cy=\"1187.5\" r=\"14\"/>\n<circle clip-path=\"url(#clip8902)\" style=\"fill:#000000; stroke:none; fill-opacity:1\" cx=\"2260.89\" cy=\"1462.26\" r=\"18\"/>\n<circle clip-path=\"url(#clip8902)\" style=\"fill:#009af9; stroke:none; fill-opacity:1\" cx=\"2260.89\" cy=\"1462.26\" r=\"14\"/>\n<polyline clip-path=\"url(#clip8902)\" style=\"stroke:#e26f46; stroke-width:4; stroke-opacity:1; fill:none\" points=\"\n  248.527,1462.26 258.64,1448.1 268.752,1433.95 278.864,1419.81 288.977,1405.68 299.089,1391.57 309.201,1377.49 319.314,1363.45 329.426,1349.44 339.539,1335.47 \n  349.651,1321.55 359.763,1307.69 369.876,1293.88 379.988,1280.14 390.1,1266.47 400.213,1252.87 410.325,1239.35 420.438,1225.92 430.55,1212.58 440.662,1199.33 \n  450.775,1186.19 460.887,1173.15 470.999,1160.2 481.112,1147.32 491.224,1134.5 501.336,1121.72 511.449,1108.97 521.561,1096.23 531.674,1083.48 541.786,1070.72 \n  551.898,1057.91 562.011,1045.06 572.123,1032.14 582.235,1019.13 592.348,1006.03 602.46,992.81 612.573,979.462 622.685,965.968 632.797,952.313 642.91,938.481 \n  653.022,924.456 663.134,910.233 673.247,895.835 683.359,881.284 693.472,866.605 703.584,851.822 713.696,836.959 723.809,822.041 733.921,807.09 744.033,792.131 \n  754.146,777.189 764.258,762.288 774.371,747.451 784.483,732.703 794.595,718.067 804.708,703.569 814.82,689.231 824.932,675.078 835.045,661.135 845.157,647.425 \n  855.269,633.971 865.382,620.774 875.494,607.789 885.607,594.969 895.719,582.266 905.831,569.634 915.944,557.023 926.056,544.388 936.168,531.68 946.281,518.851 \n  956.393,505.855 966.506,492.644 976.618,479.171 986.73,465.387 996.843,451.245 1006.96,436.699 1017.07,421.699 1027.18,406.2 1037.29,390.152 1047.4,373.51 \n  1057.52,356.227 1067.63,338.341 1077.74,320.002 1087.85,301.363 1097.97,282.579 1108.08,263.805 1118.19,245.197 1128.3,226.908 1138.42,209.095 1148.53,191.911 \n  1158.64,175.511 1168.75,160.051 1178.87,145.686 1188.98,132.569 1199.09,120.857 1209.2,110.704 1219.31,102.264 1229.43,95.6933 1239.54,91.1461 1249.65,88.7773 \n  1259.76,88.7353 1269.88,91.021 1279.99,95.4869 1290.1,101.98 1300.21,110.346 1310.33,120.431 1320.44,132.082 1330.55,145.146 1340.66,159.468 1350.78,174.896 \n  1360.89,191.275 1371,208.452 1381.11,226.274 1391.23,244.586 1401.34,263.235 1411.45,282.068 1421.56,300.93 1431.67,319.669 1441.79,338.131 1451.9,356.161 \n  1462.01,373.615 1472.12,390.449 1482.24,406.703 1492.35,422.418 1502.46,437.635 1512.57,452.395 1522.69,466.741 1532.8,480.711 1542.91,494.349 1553.02,507.695 \n  1563.14,520.789 1573.25,533.674 1583.36,546.391 1593.47,558.98 1603.58,571.482 1613.7,583.94 1623.81,596.394 1633.92,608.885 1644.03,621.454 1654.15,634.143 \n  1664.26,646.99 1674.37,660.001 1684.48,673.167 1694.6,686.476 1704.71,699.918 1714.82,713.481 1724.93,727.154 1735.05,740.926 1745.16,754.786 1755.27,768.724 \n  1765.38,782.728 1775.5,796.787 1785.61,810.89 1795.72,825.026 1805.83,839.185 1815.94,853.354 1826.06,867.524 1836.17,881.683 1846.28,895.82 1856.39,909.924 \n  1866.51,923.985 1876.62,938.002 1886.73,951.979 1896.84,965.918 1906.96,979.821 1917.07,993.692 1927.18,1007.53 1937.29,1021.35 1947.41,1035.14 1957.52,1048.91 \n  1967.63,1062.67 1977.74,1076.4 1987.85,1090.13 1997.97,1103.85 2008.08,1117.56 2018.19,1131.27 2028.3,1144.98 2038.42,1158.69 2048.53,1172.4 2058.64,1186.13 \n  2068.75,1199.86 2078.87,1213.61 2088.98,1227.36 2099.09,1241.13 2109.2,1254.91 2119.32,1268.69 2129.43,1282.48 2139.54,1296.28 2149.65,1310.09 2159.77,1323.9 \n  2169.88,1337.72 2179.99,1351.55 2190.1,1365.38 2200.21,1379.21 2210.33,1393.05 2220.44,1406.89 2230.55,1420.73 2240.66,1434.57 2250.78,1448.42 2260.89,1462.26 \n  \n  \"/>\n<polyline clip-path=\"url(#clip8902)\" style=\"stroke:#3da44d; stroke-width:4; stroke-opacity:1; fill:none\" points=\"\n  248.527,1462.26 258.64,1106.22 268.752,841.402 278.864,653.018 288.977,528.023 299.089,454.94 309.201,423.726 319.314,425.639 329.426,453.114 339.539,499.647 \n  349.651,559.694 359.763,628.567 369.876,702.344 379.988,777.789 390.1,852.269 400.213,923.688 410.325,990.415 420.438,1051.23 430.55,1105.28 440.662,1151.99 \n  450.775,1191.06 460.887,1222.42 470.999,1246.16 481.112,1262.53 491.224,1271.9 501.336,1274.72 511.449,1271.54 521.561,1262.92 531.674,1249.47 541.786,1231.82 \n  551.898,1210.58 562.011,1186.38 572.123,1159.81 582.235,1131.43 592.348,1101.77 602.46,1071.34 612.573,1040.58 622.685,1009.9 632.797,979.651 642.91,950.155 \n  653.022,921.673 663.134,894.421 673.247,868.573 683.359,844.256 693.472,821.558 703.584,800.527 713.696,781.175 723.809,763.481 733.921,747.396 744.033,732.844 \n  754.146,719.725 764.258,707.92 774.371,697.296 784.483,687.705 794.595,678.99 804.708,670.989 814.82,663.534 824.932,656.459 835.045,649.599 845.157,642.793 \n  855.269,635.888 865.382,628.739 875.494,621.211 885.607,613.182 895.719,604.542 905.831,595.198 915.944,585.068 926.056,574.092 936.168,562.221 946.281,549.425 \n  956.393,535.692 966.506,521.024 976.618,505.442 986.73,488.979 996.843,471.687 1006.96,453.63 1017.07,434.886 1027.18,415.545 1037.29,395.709 1047.4,375.487 \n  1057.52,355 1067.63,334.375 1077.74,313.743 1087.85,293.242 1097.97,273.012 1108.08,253.191 1118.19,233.922 1128.3,215.342 1138.42,197.588 1148.53,180.79 \n  1158.64,165.074 1168.75,150.559 1178.87,137.354 1188.98,125.561 1199.09,115.27 1209.2,106.561 1219.31,99.501 1229.43,94.1459 1239.54,90.5374 1249.65,88.704 \n  1259.76,88.6606 1269.88,90.4079 1279.99,93.9331 1290.1,99.2093 1300.21,106.196 1310.33,114.84 1320.44,125.075 1330.55,136.822 1340.66,149.993 1350.78,164.486 \n  1360.89,180.194 1371,196.998 1381.11,214.772 1391.23,233.387 1401.34,252.706 1411.45,272.589 1421.56,292.897 1431.67,313.487 1441.79,334.218 1451.9,354.954 \n  1462.01,375.559 1472.12,395.904 1482.24,415.869 1492.35,435.339 1502.46,454.211 1512.57,472.391 1522.69,489.799 1532.8,506.367 1542.91,522.04 1553.02,536.781 \n  1563.14,550.567 1573.25,563.39 1583.36,575.26 1593.47,586.205 1603.58,596.266 1613.7,605.505 1623.81,613.997 1633.92,621.835 1644.03,629.124 1654.15,635.985 \n  1664.26,642.55 1674.37,648.964 1684.48,655.38 1694.6,661.956 1704.71,668.859 1714.82,676.256 1724.93,684.315 1735.05,693.202 1745.16,703.077 1755.27,714.089 \n  1765.38,726.38 1775.5,740.072 1785.61,755.271 1795.72,772.062 1805.83,790.501 1815.94,810.62 1826.06,832.414 1836.17,855.848 1846.28,880.845 1856.39,907.29 \n  1866.51,935.024 1876.62,963.843 1886.73,993.496 1896.84,1023.69 1906.96,1054.07 1917.07,1084.26 1927.18,1113.82 1937.29,1142.26 1947.41,1169.07 1957.52,1193.7 \n  1967.63,1215.57 1977.74,1234.06 1987.85,1248.58 1997.97,1258.5 2008.08,1263.22 2018.19,1262.17 2028.3,1254.81 2038.42,1240.7 2048.53,1219.44 2058.64,1190.78 \n  2068.75,1154.6 2078.87,1110.95 2088.98,1060.11 2099.09,1002.59 2109.2,939.218 2119.32,871.144 2129.43,799.931 2139.54,727.598 2149.65,656.683 2159.77,590.317 \n  2169.88,532.299 2179.99,487.178 2190.1,460.343 2200.21,458.123 2210.33,487.887 2220.44,558.157 2230.55,678.735 2240.66,860.827 2250.78,1117.19 2260.89,1462.26 \n  \n  \"/>\n<polygon clip-path=\"url(#clip8900)\" points=\"\n1958.43,372.684 2249.26,372.684 2249.26,130.764 1958.43,130.764 \n  \" fill=\"#ffffff\" fill-rule=\"evenodd\" fill-opacity=\"1\"/>\n<polyline clip-path=\"url(#clip8900)\" style=\"stroke:#000000; stroke-width:4; stroke-opacity:1; fill:none\" points=\"\n  1958.43,372.684 2249.26,372.684 2249.26,130.764 1958.43,130.764 1958.43,372.684 \n  \"/>\n<circle clip-path=\"url(#clip8900)\" style=\"fill:#000000; stroke:none; fill-opacity:1\" cx=\"2066.43\" cy=\"191.244\" r=\"25\"/>\n<circle clip-path=\"url(#clip8900)\" style=\"fill:#009af9; stroke:none; fill-opacity:1\" cx=\"2066.43\" cy=\"191.244\" r=\"21\"/>\n<g clip-path=\"url(#clip8900)\">\n<text style=\"fill:#000000; fill-opacity:1; font-family:Arial,Helvetica Neue,Helvetica,sans-serif; font-size:48px; text-anchor:start;\" transform=\"rotate(0, 2150.43, 208.744)\" x=\"2150.43\" y=\"208.744\">y1</text>\n</g>\n<polyline clip-path=\"url(#clip8900)\" style=\"stroke:#e26f46; stroke-width:4; stroke-opacity:1; fill:none\" points=\"\n  1982.43,251.724 2126.43,251.724 \n  \"/>\n<g clip-path=\"url(#clip8900)\">\n<text style=\"fill:#000000; fill-opacity:1; font-family:Arial,Helvetica Neue,Helvetica,sans-serif; font-size:48px; text-anchor:start;\" transform=\"rotate(0, 2150.43, 269.224)\" x=\"2150.43\" y=\"269.224\">y2</text>\n</g>\n<polyline clip-path=\"url(#clip8900)\" style=\"stroke:#3da44d; stroke-width:4; stroke-opacity:1; fill:none\" points=\"\n  1982.43,312.204 2126.43,312.204 \n  \"/>\n<g clip-path=\"url(#clip8900)\">\n<text style=\"fill:#000000; fill-opacity:1; font-family:Arial,Helvetica Neue,Helvetica,sans-serif; font-size:48px; text-anchor:start;\" transform=\"rotate(0, 2150.43, 329.704)\" x=\"2150.43\" y=\"329.704\">y3</text>\n</g>\n</svg>\n"
               },
               "type": "node"
              }
             ],
             "instanceArgs": {
              "namespace": "html",
              "tag": "div"
             },
             "nodeType": "DOM",
             "props": {
              "className": "interact-flex-row interact-widget"
             },
             "type": "node"
            }
           }
          },
          "systemjs_options": null
         },
         "nodeType": "Scope",
         "props": {},
         "type": "node"
        }
       ],
       "instanceArgs": {
        "namespace": "html",
        "tag": "div"
       },
       "nodeType": "DOM",
       "props": {},
       "type": "node"
      },
      "text/html": [
       "<div\n",
       "    class=\"webio-mountpoint\"\n",
       "    data-webio-mountpoint=\"11501706784753871739\"\n",
       ">\n",
       "    <script>\n",
       "    if (window.require && require.defined && require.defined(\"nbextensions/webio-jupyter-notebook\")) {\n",
       "        console.log(\"Jupyter WebIO extension detected, not mounting.\");\n",
       "    } else if (window.WebIO) {\n",
       "        WebIO.mount(\n",
       "            document.querySelector('[data-webio-mountpoint=\"11501706784753871739\"]'),\n",
       "            {\"props\":{},\"nodeType\":\"DOM\",\"type\":\"node\",\"instanceArgs\":{\"namespace\":\"html\",\"tag\":\"div\"},\"children\":[{\"props\":{\"className\":\"field interact-widget\"},\"nodeType\":\"DOM\",\"type\":\"node\",\"instanceArgs\":{\"namespace\":\"html\",\"tag\":\"div\"},\"children\":[{\"props\":{},\"nodeType\":\"Scope\",\"type\":\"node\",\"instanceArgs\":{\"imports\":{\"data\":[{\"name\":\"knockout\",\"type\":\"js\",\"url\":\"\\/assetserver\\/ec445c3635ad2e3755ac5e718c92ca301fdedb35-knockout.js\"},{\"name\":\"knockout_punches\",\"type\":\"js\",\"url\":\"\\/assetserver\\/83339d7be4b13cb796b32e311e1735b268343ced-knockout_punches.js\"},{\"name\":null,\"type\":\"js\",\"url\":\"\\/assetserver\\/5e8d29053a00bcb07412eb45a5e45e831da5deaf-all.js\"},{\"name\":null,\"type\":\"css\",\"url\":\"\\/assetserver\\/b0f8e5f50bb72f5435b24a25266064ee5434da5d-style.css\"},{\"name\":null,\"type\":\"css\",\"url\":\"\\/assetserver\\/e98c00e65cdd8ca07b622d8a89a3d4249e190915-bulma_confined.min.css\"}],\"type\":\"async_block\"},\"id\":\"12282855697836136315\",\"handlers\":{\"changes\":[\"(function (val){return (val!=this.model[\\\"changes\\\"]()) ? (this.valueFromJulia[\\\"changes\\\"]=true, this.model[\\\"changes\\\"](val)) : undefined})\"],\"index\":[\"(function (val){return (val!=this.model[\\\"index\\\"]()) ? (this.valueFromJulia[\\\"index\\\"]=true, this.model[\\\"index\\\"](val)) : undefined})\"]},\"systemjs_options\":null,\"mount_callbacks\":[\"function () {\\n    var handler = (function (ko, koPunches) {\\n    ko.punches.enableAll();\\n    ko.bindingHandlers.numericValue = {\\n        init: function(element, valueAccessor, allBindings, data, context) {\\n            var stringified = ko.observable(ko.unwrap(valueAccessor()));\\n            stringified.subscribe(function(value) {\\n                var val = parseFloat(value);\\n                if (!isNaN(val)) {\\n                    valueAccessor()(val);\\n                }\\n            });\\n            valueAccessor().subscribe(function(value) {\\n                var str = JSON.stringify(value);\\n                if ((str == \\\"0\\\") && ([\\\"-0\\\", \\\"-0.\\\"].indexOf(stringified()) >= 0))\\n                     return;\\n                 if ([\\\"null\\\", \\\"\\\"].indexOf(str) >= 0)\\n                     return;\\n                stringified(str);\\n            });\\n            ko.applyBindingsToNode(\\n                element,\\n                {\\n                    value: stringified,\\n                    valueUpdate: allBindings.get('valueUpdate'),\\n                },\\n                context,\\n            );\\n        }\\n    };\\n    var json_data = {\\\"formatted_vals\\\":[\\\"0.2\\\",\\\"0.21\\\",\\\"0.22\\\",\\\"0.23\\\",\\\"0.24\\\",\\\"0.25\\\",\\\"0.26\\\",\\\"0.27\\\",\\\"0.28\\\",\\\"0.29\\\",\\\"0.3\\\",\\\"0.31\\\",\\\"0.32\\\",\\\"0.33\\\",\\\"0.34\\\",\\\"0.35\\\",\\\"0.36\\\",\\\"0.37\\\",\\\"0.38\\\",\\\"0.39\\\",\\\"0.4\\\",\\\"0.41\\\",\\\"0.42\\\",\\\"0.43\\\",\\\"0.44\\\",\\\"0.45\\\",\\\"0.46\\\",\\\"0.47\\\",\\\"0.48\\\",\\\"0.49\\\",\\\"0.5\\\",\\\"0.51\\\",\\\"0.52\\\",\\\"0.53\\\",\\\"0.54\\\",\\\"0.55\\\",\\\"0.56\\\",\\\"0.57\\\",\\\"0.58\\\",\\\"0.59\\\",\\\"0.6\\\"],\\\"changes\\\":WebIO.getval({\\\"name\\\":\\\"changes\\\",\\\"scope\\\":\\\"12282855697836136315\\\",\\\"id\\\":\\\"ob_21\\\",\\\"type\\\":\\\"observable\\\"}),\\\"index\\\":WebIO.getval({\\\"name\\\":\\\"index\\\",\\\"scope\\\":\\\"12282855697836136315\\\",\\\"id\\\":\\\"ob_20\\\",\\\"type\\\":\\\"observable\\\"})};\\n    var self = this;\\n    function AppViewModel() {\\n        for (var key in json_data) {\\n            var el = json_data[key];\\n            this[key] = Array.isArray(el) ? ko.observableArray(el) : ko.observable(el);\\n        }\\n        \\n        [this[\\\"formatted_val\\\"]=ko.computed(    function(){\\n        return this.formatted_vals()[parseInt(this.index())-(1)];\\n    }\\n,this)]\\n        [this[\\\"changes\\\"].subscribe((function (val){!(this.valueFromJulia[\\\"changes\\\"]) ? (WebIO.setval({\\\"name\\\":\\\"changes\\\",\\\"scope\\\":\\\"12282855697836136315\\\",\\\"id\\\":\\\"ob_21\\\",\\\"type\\\":\\\"observable\\\"},val)) : undefined; return this.valueFromJulia[\\\"changes\\\"]=false}),self),this[\\\"index\\\"].subscribe((function (val){!(this.valueFromJulia[\\\"index\\\"]) ? (WebIO.setval({\\\"name\\\":\\\"index\\\",\\\"scope\\\":\\\"12282855697836136315\\\",\\\"id\\\":\\\"ob_20\\\",\\\"type\\\":\\\"observable\\\"},val)) : undefined; return this.valueFromJulia[\\\"index\\\"]=false}),self)]\\n        \\n    }\\n    self.model = new AppViewModel();\\n    self.valueFromJulia = {};\\n    for (var key in json_data) {\\n        self.valueFromJulia[key] = false;\\n    }\\n    ko.applyBindings(self.model, self.dom);\\n}\\n);\\n    (WebIO.importBlock({\\\"data\\\":[{\\\"name\\\":\\\"knockout\\\",\\\"type\\\":\\\"js\\\",\\\"url\\\":\\\"\\/assetserver\\/ec445c3635ad2e3755ac5e718c92ca301fdedb35-knockout.js\\\"},{\\\"name\\\":\\\"knockout_punches\\\",\\\"type\\\":\\\"js\\\",\\\"url\\\":\\\"\\/assetserver\\/83339d7be4b13cb796b32e311e1735b268343ced-knockout_punches.js\\\"}],\\\"type\\\":\\\"async_block\\\"})).then((imports) => handler.apply(this, imports));\\n}\\n\"],\"observables\":{\"changes\":{\"sync\":false,\"id\":\"ob_21\",\"value\":0},\"index\":{\"sync\":true,\"id\":\"ob_20\",\"value\":21}}},\"children\":[{\"props\":{\"className\":\"interact-flex-row interact-widget\"},\"nodeType\":\"DOM\",\"type\":\"node\",\"instanceArgs\":{\"namespace\":\"html\",\"tag\":\"div\"},\"children\":[{\"props\":{\"className\":\"interact-flex-row-left\"},\"nodeType\":\"DOM\",\"type\":\"node\",\"instanceArgs\":{\"namespace\":\"html\",\"tag\":\"div\"},\"children\":[{\"props\":{\"className\":\"interact \",\"style\":{\"padding\":\"5px 10px 0px 10px\"}},\"nodeType\":\"DOM\",\"type\":\"node\",\"instanceArgs\":{\"namespace\":\"html\",\"tag\":\"label\"},\"children\":[\"xp\"]}]},{\"props\":{\"className\":\"interact-flex-row-center\"},\"nodeType\":\"DOM\",\"type\":\"node\",\"instanceArgs\":{\"namespace\":\"html\",\"tag\":\"div\"},\"children\":[{\"props\":{\"max\":41,\"min\":1,\"attributes\":{\"type\":\"range\",\"data-bind\":\"numericValue: index, valueUpdate: 'input', event: {change: function (){this.changes(this.changes()+1)}}\",\"orient\":\"horizontal\"},\"step\":1,\"className\":\"slider slider is-fullwidth\",\"style\":{}},\"nodeType\":\"DOM\",\"type\":\"node\",\"instanceArgs\":{\"namespace\":\"html\",\"tag\":\"input\"},\"children\":[]}]},{\"props\":{\"className\":\"interact-flex-row-right\"},\"nodeType\":\"DOM\",\"type\":\"node\",\"instanceArgs\":{\"namespace\":\"html\",\"tag\":\"div\"},\"children\":[{\"props\":{\"attributes\":{\"data-bind\":\"text: formatted_val\"}},\"nodeType\":\"DOM\",\"type\":\"node\",\"instanceArgs\":{\"namespace\":\"html\",\"tag\":\"p\"},\"children\":[]}]}]}]}]},{\"props\":{},\"nodeType\":\"Scope\",\"type\":\"node\",\"instanceArgs\":{\"imports\":{\"data\":[],\"type\":\"async_block\"},\"id\":\"17181748928731797953\",\"handlers\":{},\"systemjs_options\":null,\"mount_callbacks\":[],\"observables\":{\"obs-node\":{\"sync\":false,\"id\":\"ob_25\",\"value\":{\"props\":{\"className\":\"interact-flex-row interact-widget\"},\"nodeType\":\"DOM\",\"type\":\"node\",\"instanceArgs\":{\"namespace\":\"html\",\"tag\":\"div\"},\"children\":[{\"props\":{\"setInnerHtml\":\"<?xml version=\\\"1.0\\\" encoding=\\\"utf-8\\\"?>\\n<svg xmlns=\\\"http:\\/\\/www.w3.org\\/2000\\/svg\\\" xmlns:xlink=\\\"http:\\/\\/www.w3.org\\/1999\\/xlink\\\" width=\\\"600\\\" height=\\\"400\\\" viewBox=\\\"0 0 2400 1600\\\">\\n<defs>\\n  <clipPath id=\\\"clip8500\\\">\\n    <rect x=\\\"0\\\" y=\\\"0\\\" width=\\\"2400\\\" height=\\\"1600\\\"\\/>\\n  <\\/clipPath>\\n<\\/defs>\\n<polygon clip-path=\\\"url(#clip8500)\\\" points=\\\"\\n0,1600 2400,1600 2400,0 0,0 \\n  \\\" fill=\\\"#ffffff\\\" fill-rule=\\\"evenodd\\\" fill-opacity=\\\"1\\\"\\/>\\n<defs>\\n  <clipPath id=\\\"clip8501\\\">\\n    <rect x=\\\"480\\\" y=\\\"0\\\" width=\\\"1681\\\" height=\\\"1600\\\"\\/>\\n  <\\/clipPath>\\n<\\/defs>\\n<polygon clip-path=\\\"url(#clip8500)\\\" points=\\\"\\n188.156,1503.47 2321.26,1503.47 2321.26,47.2441 188.156,47.2441 \\n  \\\" fill=\\\"#ffffff\\\" fill-rule=\\\"evenodd\\\" fill-opacity=\\\"1\\\"\\/>\\n<defs>\\n  <clipPath id=\\\"clip8502\\\">\\n    <rect x=\\\"188\\\" y=\\\"47\\\" width=\\\"2134\\\" height=\\\"1457\\\"\\/>\\n  <\\/clipPath>\\n<\\/defs>\\n<polyline clip-path=\\\"url(#clip8502)\\\" style=\\\"stroke:#000000; stroke-width:2; stroke-opacity:0.1; fill:none\\\" points=\\\"\\n  248.527,1503.47 248.527,47.2441 \\n  \\\"\\/>\\n<polyline clip-path=\\\"url(#clip8502)\\\" style=\\\"stroke:#000000; stroke-width:2; stroke-opacity:0.1; fill:none\\\" points=\\\"\\n  751.618,1503.47 751.618,47.2441 \\n  \\\"\\/>\\n<polyline clip-path=\\\"url(#clip8502)\\\" style=\\\"stroke:#000000; stroke-width:2; stroke-opacity:0.1; fill:none\\\" points=\\\"\\n  1254.71,1503.47 1254.71,47.2441 \\n  \\\"\\/>\\n<polyline clip-path=\\\"url(#clip8502)\\\" style=\\\"stroke:#000000; stroke-width:2; stroke-opacity:0.1; fill:none\\\" points=\\\"\\n  1757.8,1503.47 1757.8,47.2441 \\n  \\\"\\/>\\n<polyline clip-path=\\\"url(#clip8502)\\\" style=\\\"stroke:#000000; stroke-width:2; stroke-opacity:0.1; fill:none\\\" points=\\\"\\n  2260.89,1503.47 2260.89,47.2441 \\n  \\\"\\/>\\n<polyline clip-path=\\\"url(#clip8502)\\\" style=\\\"stroke:#000000; stroke-width:2; stroke-opacity:0.1; fill:none\\\" points=\\\"\\n  188.156,1462.26 2321.26,1462.26 \\n  \\\"\\/>\\n<polyline clip-path=\\\"url(#clip8502)\\\" style=\\\"stroke:#000000; stroke-width:2; stroke-opacity:0.1; fill:none\\\" points=\\\"\\n  188.156,1118.81 2321.26,1118.81 \\n  \\\"\\/>\\n<polyline clip-path=\\\"url(#clip8502)\\\" style=\\\"stroke:#000000; stroke-width:2; stroke-opacity:0.1; fill:none\\\" points=\\\"\\n  188.156,775.359 2321.26,775.359 \\n  \\\"\\/>\\n<polyline clip-path=\\\"url(#clip8502)\\\" style=\\\"stroke:#000000; stroke-width:2; stroke-opacity:0.1; fill:none\\\" points=\\\"\\n  188.156,431.909 2321.26,431.909 \\n  \\\"\\/>\\n<polyline clip-path=\\\"url(#clip8502)\\\" style=\\\"stroke:#000000; stroke-width:2; stroke-opacity:0.1; fill:none\\\" points=\\\"\\n  188.156,88.4582 2321.26,88.4582 \\n  \\\"\\/>\\n<polyline clip-path=\\\"url(#clip8500)\\\" style=\\\"stroke:#000000; stroke-width:4; stroke-opacity:1; fill:none\\\" points=\\\"\\n  188.156,1503.47 2321.26,1503.47 \\n  \\\"\\/>\\n<polyline clip-path=\\\"url(#clip8500)\\\" style=\\\"stroke:#000000; stroke-width:4; stroke-opacity:1; fill:none\\\" points=\\\"\\n  188.156,1503.47 188.156,47.2441 \\n  \\\"\\/>\\n<polyline clip-path=\\\"url(#clip8500)\\\" style=\\\"stroke:#000000; stroke-width:4; stroke-opacity:1; fill:none\\\" points=\\\"\\n  248.527,1503.47 248.527,1481.63 \\n  \\\"\\/>\\n<polyline clip-path=\\\"url(#clip8500)\\\" style=\\\"stroke:#000000; stroke-width:4; stroke-opacity:1; fill:none\\\" points=\\\"\\n  751.618,1503.47 751.618,1481.63 \\n  \\\"\\/>\\n<polyline clip-path=\\\"url(#clip8500)\\\" style=\\\"stroke:#000000; stroke-width:4; stroke-opacity:1; fill:none\\\" points=\\\"\\n  1254.71,1503.47 1254.71,1481.63 \\n  \\\"\\/>\\n<polyline clip-path=\\\"url(#clip8500)\\\" style=\\\"stroke:#000000; stroke-width:4; stroke-opacity:1; fill:none\\\" points=\\\"\\n  1757.8,1503.47 1757.8,1481.63 \\n  \\\"\\/>\\n<polyline clip-path=\\\"url(#clip8500)\\\" style=\\\"stroke:#000000; stroke-width:4; stroke-opacity:1; fill:none\\\" points=\\\"\\n  2260.89,1503.47 2260.89,1481.63 \\n  \\\"\\/>\\n<polyline clip-path=\\\"url(#clip8500)\\\" style=\\\"stroke:#000000; stroke-width:4; stroke-opacity:1; fill:none\\\" points=\\\"\\n  188.156,1462.26 220.153,1462.26 \\n  \\\"\\/>\\n<polyline clip-path=\\\"url(#clip8500)\\\" style=\\\"stroke:#000000; stroke-width:4; stroke-opacity:1; fill:none\\\" points=\\\"\\n  188.156,1118.81 220.153,1118.81 \\n  \\\"\\/>\\n<polyline clip-path=\\\"url(#clip8500)\\\" style=\\\"stroke:#000000; stroke-width:4; stroke-opacity:1; fill:none\\\" points=\\\"\\n  188.156,775.359 220.153,775.359 \\n  \\\"\\/>\\n<polyline clip-path=\\\"url(#clip8500)\\\" style=\\\"stroke:#000000; stroke-width:4; stroke-opacity:1; fill:none\\\" points=\\\"\\n  188.156,431.909 220.153,431.909 \\n  \\\"\\/>\\n<polyline clip-path=\\\"url(#clip8500)\\\" style=\\\"stroke:#000000; stroke-width:4; stroke-opacity:1; fill:none\\\" points=\\\"\\n  188.156,88.4582 220.153,88.4582 \\n  \\\"\\/>\\n<g clip-path=\\\"url(#clip8500)\\\">\\n<text style=\\\"fill:#000000; fill-opacity:1; font-family:Arial,Helvetica Neue,Helvetica,sans-serif; font-size:48px; text-anchor:middle;\\\" transform=\\\"rotate(0, 248.527, 1557.47)\\\" x=\\\"248.527\\\" y=\\\"1557.47\\\">0.0<\\/text>\\n<\\/g>\\n<g clip-path=\\\"url(#clip8500)\\\">\\n<text style=\\\"fill:#000000; fill-opacity:1; font-family:Arial,Helvetica Neue,Helvetica,sans-serif; font-size:48px; text-anchor:middle;\\\" transform=\\\"rotate(0, 751.618, 1557.47)\\\" x=\\\"751.618\\\" y=\\\"1557.47\\\">0.5<\\/text>\\n<\\/g>\\n<g clip-path=\\\"url(#clip8500)\\\">\\n<text style=\\\"fill:#000000; fill-opacity:1; font-family:Arial,Helvetica Neue,Helvetica,sans-serif; font-size:48px; text-anchor:middle;\\\" transform=\\\"rotate(0, 1254.71, 1557.47)\\\" x=\\\"1254.71\\\" y=\\\"1557.47\\\">1.0<\\/text>\\n<\\/g>\\n<g clip-path=\\\"url(#clip8500)\\\">\\n<text style=\\\"fill:#000000; fill-opacity:1; font-family:Arial,Helvetica Neue,Helvetica,sans-serif; font-size:48px; text-anchor:middle;\\\" transform=\\\"rotate(0, 1757.8, 1557.47)\\\" x=\\\"1757.8\\\" y=\\\"1557.47\\\">1.5<\\/text>\\n<\\/g>\\n<g clip-path=\\\"url(#clip8500)\\\">\\n<text style=\\\"fill:#000000; fill-opacity:1; font-family:Arial,Helvetica Neue,Helvetica,sans-serif; font-size:48px; text-anchor:middle;\\\" transform=\\\"rotate(0, 2260.89, 1557.47)\\\" x=\\\"2260.89\\\" y=\\\"1557.47\\\">2.0<\\/text>\\n<\\/g>\\n<g clip-path=\\\"url(#clip8500)\\\">\\n<text style=\\\"fill:#000000; fill-opacity:1; font-family:Arial,Helvetica Neue,Helvetica,sans-serif; font-size:48px; text-anchor:end;\\\" transform=\\\"rotate(0, 164.156, 1479.76)\\\" x=\\\"164.156\\\" y=\\\"1479.76\\\">0.00<\\/text>\\n<\\/g>\\n<g clip-path=\\\"url(#clip8500)\\\">\\n<text style=\\\"fill:#000000; fill-opacity:1; font-family:Arial,Helvetica Neue,Helvetica,sans-serif; font-size:48px; text-anchor:end;\\\" transform=\\\"rotate(0, 164.156, 1136.31)\\\" x=\\\"164.156\\\" y=\\\"1136.31\\\">0.25<\\/text>\\n<\\/g>\\n<g clip-path=\\\"url(#clip8500)\\\">\\n<text style=\\\"fill:#000000; fill-opacity:1; font-family:Arial,Helvetica Neue,Helvetica,sans-serif; font-size:48px; text-anchor:end;\\\" transform=\\\"rotate(0, 164.156, 792.859)\\\" x=\\\"164.156\\\" y=\\\"792.859\\\">0.50<\\/text>\\n<\\/g>\\n<g clip-path=\\\"url(#clip8500)\\\">\\n<text style=\\\"fill:#000000; fill-opacity:1; font-family:Arial,Helvetica Neue,Helvetica,sans-serif; font-size:48px; text-anchor:end;\\\" transform=\\\"rotate(0, 164.156, 449.409)\\\" x=\\\"164.156\\\" y=\\\"449.409\\\">0.75<\\/text>\\n<\\/g>\\n<g clip-path=\\\"url(#clip8500)\\\">\\n<text style=\\\"fill:#000000; fill-opacity:1; font-family:Arial,Helvetica Neue,Helvetica,sans-serif; font-size:48px; text-anchor:end;\\\" transform=\\\"rotate(0, 164.156, 105.958)\\\" x=\\\"164.156\\\" y=\\\"105.958\\\">1.00<\\/text>\\n<\\/g>\\n<circle clip-path=\\\"url(#clip8502)\\\" style=\\\"fill:#000000; stroke:none; fill-opacity:1\\\" cx=\\\"248.527\\\" cy=\\\"1462.26\\\" r=\\\"18\\\"\\/>\\n<circle clip-path=\\\"url(#clip8502)\\\" style=\\\"fill:#009af9; stroke:none; fill-opacity:1\\\" cx=\\\"248.527\\\" cy=\\\"1462.26\\\" r=\\\"14\\\"\\/>\\n<circle clip-path=\\\"url(#clip8502)\\\" style=\\\"fill:#000000; stroke:none; fill-opacity:1\\\" cx=\\\"449.763\\\" cy=\\\"1187.5\\\" r=\\\"18\\\"\\/>\\n<circle clip-path=\\\"url(#clip8502)\\\" style=\\\"fill:#009af9; stroke:none; fill-opacity:1\\\" cx=\\\"449.763\\\" cy=\\\"1187.5\\\" r=\\\"14\\\"\\/>\\n<circle clip-path=\\\"url(#clip8502)\\\" style=\\\"fill:#000000; stroke:none; fill-opacity:1\\\" cx=\\\"651\\\" cy=\\\"927.277\\\" r=\\\"18\\\"\\/>\\n<circle clip-path=\\\"url(#clip8502)\\\" style=\\\"fill:#009af9; stroke:none; fill-opacity:1\\\" cx=\\\"651\\\" cy=\\\"927.277\\\" r=\\\"14\\\"\\/>\\n<circle clip-path=\\\"url(#clip8502)\\\" style=\\\"fill:#000000; stroke:none; fill-opacity:1\\\" cx=\\\"852.236\\\" cy=\\\"637.979\\\" r=\\\"18\\\"\\/>\\n<circle clip-path=\\\"url(#clip8502)\\\" style=\\\"fill:#009af9; stroke:none; fill-opacity:1\\\" cx=\\\"852.236\\\" cy=\\\"637.979\\\" r=\\\"14\\\"\\/>\\n<circle clip-path=\\\"url(#clip8502)\\\" style=\\\"fill:#000000; stroke:none; fill-opacity:1\\\" cx=\\\"1053.47\\\" cy=\\\"363.219\\\" r=\\\"18\\\"\\/>\\n<circle clip-path=\\\"url(#clip8502)\\\" style=\\\"fill:#009af9; stroke:none; fill-opacity:1\\\" cx=\\\"1053.47\\\" cy=\\\"363.219\\\" r=\\\"14\\\"\\/>\\n<circle clip-path=\\\"url(#clip8502)\\\" style=\\\"fill:#000000; stroke:none; fill-opacity:1\\\" cx=\\\"1254.71\\\" cy=\\\"88.4582\\\" r=\\\"18\\\"\\/>\\n<circle clip-path=\\\"url(#clip8502)\\\" style=\\\"fill:#009af9; stroke:none; fill-opacity:1\\\" cx=\\\"1254.71\\\" cy=\\\"88.4582\\\" r=\\\"14\\\"\\/>\\n<circle clip-path=\\\"url(#clip8502)\\\" style=\\\"fill:#000000; stroke:none; fill-opacity:1\\\" cx=\\\"1455.94\\\" cy=\\\"363.219\\\" r=\\\"18\\\"\\/>\\n<circle clip-path=\\\"url(#clip8502)\\\" style=\\\"fill:#009af9; stroke:none; fill-opacity:1\\\" cx=\\\"1455.94\\\" cy=\\\"363.219\\\" r=\\\"14\\\"\\/>\\n<circle clip-path=\\\"url(#clip8502)\\\" style=\\\"fill:#000000; stroke:none; fill-opacity:1\\\" cx=\\\"1657.18\\\" cy=\\\"637.979\\\" r=\\\"18\\\"\\/>\\n<circle clip-path=\\\"url(#clip8502)\\\" style=\\\"fill:#009af9; stroke:none; fill-opacity:1\\\" cx=\\\"1657.18\\\" cy=\\\"637.979\\\" r=\\\"14\\\"\\/>\\n<circle clip-path=\\\"url(#clip8502)\\\" style=\\\"fill:#000000; stroke:none; fill-opacity:1\\\" cx=\\\"1858.42\\\" cy=\\\"912.74\\\" r=\\\"18\\\"\\/>\\n<circle clip-path=\\\"url(#clip8502)\\\" style=\\\"fill:#009af9; stroke:none; fill-opacity:1\\\" cx=\\\"1858.42\\\" cy=\\\"912.74\\\" r=\\\"14\\\"\\/>\\n<circle clip-path=\\\"url(#clip8502)\\\" style=\\\"fill:#000000; stroke:none; fill-opacity:1\\\" cx=\\\"2059.65\\\" cy=\\\"1187.5\\\" r=\\\"18\\\"\\/>\\n<circle clip-path=\\\"url(#clip8502)\\\" style=\\\"fill:#009af9; stroke:none; fill-opacity:1\\\" cx=\\\"2059.65\\\" cy=\\\"1187.5\\\" r=\\\"14\\\"\\/>\\n<circle clip-path=\\\"url(#clip8502)\\\" style=\\\"fill:#000000; stroke:none; fill-opacity:1\\\" cx=\\\"2260.89\\\" cy=\\\"1462.26\\\" r=\\\"18\\\"\\/>\\n<circle clip-path=\\\"url(#clip8502)\\\" style=\\\"fill:#009af9; stroke:none; fill-opacity:1\\\" cx=\\\"2260.89\\\" cy=\\\"1462.26\\\" r=\\\"14\\\"\\/>\\n<polyline clip-path=\\\"url(#clip8502)\\\" style=\\\"stroke:#e26f46; stroke-width:4; stroke-opacity:1; fill:none\\\" points=\\\"\\n  248.527,1462.26 258.64,1448.1 268.752,1433.95 278.864,1419.81 288.977,1405.68 299.089,1391.57 309.201,1377.49 319.314,1363.45 329.426,1349.44 339.539,1335.47 \\n  349.651,1321.55 359.763,1307.69 369.876,1293.88 379.988,1280.14 390.1,1266.47 400.213,1252.87 410.325,1239.35 420.438,1225.92 430.55,1212.58 440.662,1199.33 \\n  450.775,1186.19 460.887,1173.15 470.999,1160.2 481.112,1147.32 491.224,1134.5 501.336,1121.72 511.449,1108.97 521.561,1096.23 531.674,1083.48 541.786,1070.72 \\n  551.898,1057.91 562.011,1045.06 572.123,1032.14 582.235,1019.13 592.348,1006.03 602.46,992.81 612.573,979.462 622.685,965.968 632.797,952.313 642.91,938.481 \\n  653.022,924.456 663.134,910.233 673.247,895.835 683.359,881.284 693.472,866.605 703.584,851.822 713.696,836.959 723.809,822.041 733.921,807.09 744.033,792.131 \\n  754.146,777.189 764.258,762.288 774.371,747.451 784.483,732.703 794.595,718.067 804.708,703.569 814.82,689.231 824.932,675.078 835.045,661.135 845.157,647.425 \\n  855.269,633.971 865.382,620.774 875.494,607.789 885.607,594.969 895.719,582.266 905.831,569.634 915.944,557.023 926.056,544.388 936.168,531.68 946.281,518.851 \\n  956.393,505.855 966.506,492.644 976.618,479.171 986.73,465.387 996.843,451.245 1006.96,436.699 1017.07,421.699 1027.18,406.2 1037.29,390.152 1047.4,373.51 \\n  1057.52,356.227 1067.63,338.341 1077.74,320.002 1087.85,301.363 1097.97,282.579 1108.08,263.805 1118.19,245.197 1128.3,226.908 1138.42,209.095 1148.53,191.911 \\n  1158.64,175.511 1168.75,160.051 1178.87,145.686 1188.98,132.569 1199.09,120.857 1209.2,110.704 1219.31,102.264 1229.43,95.6933 1239.54,91.1461 1249.65,88.7773 \\n  1259.76,88.7353 1269.88,91.021 1279.99,95.4869 1290.1,101.98 1300.21,110.346 1310.33,120.431 1320.44,132.082 1330.55,145.146 1340.66,159.468 1350.78,174.896 \\n  1360.89,191.275 1371,208.452 1381.11,226.274 1391.23,244.586 1401.34,263.235 1411.45,282.068 1421.56,300.93 1431.67,319.669 1441.79,338.131 1451.9,356.161 \\n  1462.01,373.615 1472.12,390.449 1482.24,406.703 1492.35,422.418 1502.46,437.635 1512.57,452.395 1522.69,466.741 1532.8,480.711 1542.91,494.349 1553.02,507.695 \\n  1563.14,520.789 1573.25,533.674 1583.36,546.391 1593.47,558.98 1603.58,571.482 1613.7,583.94 1623.81,596.394 1633.92,608.885 1644.03,621.454 1654.15,634.143 \\n  1664.26,646.99 1674.37,660.001 1684.48,673.167 1694.6,686.476 1704.71,699.918 1714.82,713.481 1724.93,727.154 1735.05,740.926 1745.16,754.786 1755.27,768.724 \\n  1765.38,782.728 1775.5,796.787 1785.61,810.89 1795.72,825.026 1805.83,839.185 1815.94,853.354 1826.06,867.524 1836.17,881.683 1846.28,895.82 1856.39,909.924 \\n  1866.51,923.985 1876.62,938.002 1886.73,951.979 1896.84,965.918 1906.96,979.821 1917.07,993.692 1927.18,1007.53 1937.29,1021.35 1947.41,1035.14 1957.52,1048.91 \\n  1967.63,1062.67 1977.74,1076.4 1987.85,1090.13 1997.97,1103.85 2008.08,1117.56 2018.19,1131.27 2028.3,1144.98 2038.42,1158.69 2048.53,1172.4 2058.64,1186.13 \\n  2068.75,1199.86 2078.87,1213.61 2088.98,1227.36 2099.09,1241.13 2109.2,1254.91 2119.32,1268.69 2129.43,1282.48 2139.54,1296.28 2149.65,1310.09 2159.77,1323.9 \\n  2169.88,1337.72 2179.99,1351.55 2190.1,1365.38 2200.21,1379.21 2210.33,1393.05 2220.44,1406.89 2230.55,1420.73 2240.66,1434.57 2250.78,1448.42 2260.89,1462.26 \\n  \\n  \\\"\\/>\\n<polyline clip-path=\\\"url(#clip8502)\\\" style=\\\"stroke:#3da44d; stroke-width:4; stroke-opacity:1; fill:none\\\" points=\\\"\\n  248.527,1462.26 258.64,1106.22 268.752,841.402 278.864,653.018 288.977,528.023 299.089,454.94 309.201,423.726 319.314,425.639 329.426,453.114 339.539,499.647 \\n  349.651,559.694 359.763,628.567 369.876,702.344 379.988,777.789 390.1,852.269 400.213,923.688 410.325,990.415 420.438,1051.23 430.55,1105.28 440.662,1151.99 \\n  450.775,1191.06 460.887,1222.42 470.999,1246.16 481.112,1262.53 491.224,1271.9 501.336,1274.72 511.449,1271.54 521.561,1262.92 531.674,1249.47 541.786,1231.82 \\n  551.898,1210.58 562.011,1186.38 572.123,1159.81 582.235,1131.43 592.348,1101.77 602.46,1071.34 612.573,1040.58 622.685,1009.9 632.797,979.651 642.91,950.155 \\n  653.022,921.673 663.134,894.421 673.247,868.573 683.359,844.256 693.472,821.558 703.584,800.527 713.696,781.175 723.809,763.481 733.921,747.396 744.033,732.844 \\n  754.146,719.725 764.258,707.92 774.371,697.296 784.483,687.705 794.595,678.99 804.708,670.989 814.82,663.534 824.932,656.459 835.045,649.599 845.157,642.793 \\n  855.269,635.888 865.382,628.739 875.494,621.211 885.607,613.182 895.719,604.542 905.831,595.198 915.944,585.068 926.056,574.092 936.168,562.221 946.281,549.425 \\n  956.393,535.692 966.506,521.024 976.618,505.442 986.73,488.979 996.843,471.687 1006.96,453.63 1017.07,434.886 1027.18,415.545 1037.29,395.709 1047.4,375.487 \\n  1057.52,355 1067.63,334.375 1077.74,313.743 1087.85,293.242 1097.97,273.012 1108.08,253.191 1118.19,233.922 1128.3,215.342 1138.42,197.588 1148.53,180.79 \\n  1158.64,165.074 1168.75,150.559 1178.87,137.354 1188.98,125.561 1199.09,115.27 1209.2,106.561 1219.31,99.501 1229.43,94.1459 1239.54,90.5374 1249.65,88.704 \\n  1259.76,88.6606 1269.88,90.4079 1279.99,93.9331 1290.1,99.2093 1300.21,106.196 1310.33,114.84 1320.44,125.075 1330.55,136.822 1340.66,149.993 1350.78,164.486 \\n  1360.89,180.194 1371,196.998 1381.11,214.772 1391.23,233.387 1401.34,252.706 1411.45,272.589 1421.56,292.897 1431.67,313.487 1441.79,334.218 1451.9,354.954 \\n  1462.01,375.559 1472.12,395.904 1482.24,415.869 1492.35,435.339 1502.46,454.211 1512.57,472.391 1522.69,489.799 1532.8,506.367 1542.91,522.04 1553.02,536.781 \\n  1563.14,550.567 1573.25,563.39 1583.36,575.26 1593.47,586.205 1603.58,596.266 1613.7,605.505 1623.81,613.997 1633.92,621.835 1644.03,629.124 1654.15,635.985 \\n  1664.26,642.55 1674.37,648.964 1684.48,655.38 1694.6,661.956 1704.71,668.859 1714.82,676.256 1724.93,684.315 1735.05,693.202 1745.16,703.077 1755.27,714.089 \\n  1765.38,726.38 1775.5,740.072 1785.61,755.271 1795.72,772.062 1805.83,790.501 1815.94,810.62 1826.06,832.414 1836.17,855.848 1846.28,880.845 1856.39,907.29 \\n  1866.51,935.024 1876.62,963.843 1886.73,993.496 1896.84,1023.69 1906.96,1054.07 1917.07,1084.26 1927.18,1113.82 1937.29,1142.26 1947.41,1169.07 1957.52,1193.7 \\n  1967.63,1215.57 1977.74,1234.06 1987.85,1248.58 1997.97,1258.5 2008.08,1263.22 2018.19,1262.17 2028.3,1254.81 2038.42,1240.7 2048.53,1219.44 2058.64,1190.78 \\n  2068.75,1154.6 2078.87,1110.95 2088.98,1060.11 2099.09,1002.59 2109.2,939.218 2119.32,871.144 2129.43,799.931 2139.54,727.598 2149.65,656.683 2159.77,590.317 \\n  2169.88,532.299 2179.99,487.178 2190.1,460.343 2200.21,458.123 2210.33,487.887 2220.44,558.157 2230.55,678.735 2240.66,860.827 2250.78,1117.19 2260.89,1462.26 \\n  \\n  \\\"\\/>\\n<polygon clip-path=\\\"url(#clip8500)\\\" points=\\\"\\n1958.43,372.684 2249.26,372.684 2249.26,130.764 1958.43,130.764 \\n  \\\" fill=\\\"#ffffff\\\" fill-rule=\\\"evenodd\\\" fill-opacity=\\\"1\\\"\\/>\\n<polyline clip-path=\\\"url(#clip8500)\\\" style=\\\"stroke:#000000; stroke-width:4; stroke-opacity:1; fill:none\\\" points=\\\"\\n  1958.43,372.684 2249.26,372.684 2249.26,130.764 1958.43,130.764 1958.43,372.684 \\n  \\\"\\/>\\n<circle clip-path=\\\"url(#clip8500)\\\" style=\\\"fill:#000000; stroke:none; fill-opacity:1\\\" cx=\\\"2066.43\\\" cy=\\\"191.244\\\" r=\\\"25\\\"\\/>\\n<circle clip-path=\\\"url(#clip8500)\\\" style=\\\"fill:#009af9; stroke:none; fill-opacity:1\\\" cx=\\\"2066.43\\\" cy=\\\"191.244\\\" r=\\\"21\\\"\\/>\\n<g clip-path=\\\"url(#clip8500)\\\">\\n<text style=\\\"fill:#000000; fill-opacity:1; font-family:Arial,Helvetica Neue,Helvetica,sans-serif; font-size:48px; text-anchor:start;\\\" transform=\\\"rotate(0, 2150.43, 208.744)\\\" x=\\\"2150.43\\\" y=\\\"208.744\\\">y1<\\/text>\\n<\\/g>\\n<polyline clip-path=\\\"url(#clip8500)\\\" style=\\\"stroke:#e26f46; stroke-width:4; stroke-opacity:1; fill:none\\\" points=\\\"\\n  1982.43,251.724 2126.43,251.724 \\n  \\\"\\/>\\n<g clip-path=\\\"url(#clip8500)\\\">\\n<text style=\\\"fill:#000000; fill-opacity:1; font-family:Arial,Helvetica Neue,Helvetica,sans-serif; font-size:48px; text-anchor:start;\\\" transform=\\\"rotate(0, 2150.43, 269.224)\\\" x=\\\"2150.43\\\" y=\\\"269.224\\\">y2<\\/text>\\n<\\/g>\\n<polyline clip-path=\\\"url(#clip8500)\\\" style=\\\"stroke:#3da44d; stroke-width:4; stroke-opacity:1; fill:none\\\" points=\\\"\\n  1982.43,312.204 2126.43,312.204 \\n  \\\"\\/>\\n<g clip-path=\\\"url(#clip8500)\\\">\\n<text style=\\\"fill:#000000; fill-opacity:1; font-family:Arial,Helvetica Neue,Helvetica,sans-serif; font-size:48px; text-anchor:start;\\\" transform=\\\"rotate(0, 2150.43, 329.704)\\\" x=\\\"2150.43\\\" y=\\\"329.704\\\">y3<\\/text>\\n<\\/g>\\n<\\/svg>\\n\"},\"nodeType\":\"DOM\",\"type\":\"node\",\"instanceArgs\":{\"namespace\":\"html\",\"tag\":\"div\"},\"children\":[]}]}}}},\"children\":[{\"props\":{},\"nodeType\":\"ObservableNode\",\"type\":\"node\",\"instanceArgs\":{\"id\":\"ob_25\",\"name\":\"obs-node\"},\"children\":[]}]}]},\n",
       "            window,\n",
       "        );\n",
       "    } else {\n",
       "        document\n",
       "            .querySelector('[data-webio-mountpoint=\"11501706784753871739\"]')\n",
       "            .innerHTML = (\n",
       "                '<strong>WebIO not detected. Please read ' +\n",
       "                '<a href=\"https://juliagizmos.github.io/WebIO.jl/latest/troubleshooting/not-detected/\">the troubleshooting guide</a> ' +\n",
       "                'for more information on how to resolve this issue.' +\n",
       "                '</strong>'\n",
       "            );\n",
       "    }\n",
       "    </script>\n",
       "</div>\n"
      ],
      "text/plain": [
       "Node{WebIO.DOM}(WebIO.DOM(:html, :div), Any[Node{DOM}(DOM(:html, :div), Any[Scope(Node{DOM}(DOM(:html, :div), Any[Node{DOM}(DOM(:html, :div), Any[Node{DOM}(DOM(:html, :label), Any[\"xp\"], Dict{Symbol,Any}(:className=>\"interact \",:style=>Dict{Any,Any}(:padding=>\"5px 10px 0px 10px\")))], Dict{Symbol,Any}(:className=>\"interact-flex-row-left\")), Node{DOM}(DOM(:html, :div), Any[Node{DOM}(DOM(:html, :input), Any[], Dict{Symbol,Any}(:max=>41,:min=>1,:attributes=>Dict{Any,Any}(:type=>\"range\",Symbol(\"data-bind\")=>\"numericValue: index, valueUpdate: 'input', event: {change: function (){this.changes(this.changes()+1)}}\",\"orient\"=>\"horizontal\"),:step=>1,:className=>\"slider slider is-fullwidth\",:style=>Dict{Any,Any}()))], Dict{Symbol,Any}(:className=>\"interact-flex-row-center\")), Node{DOM}(DOM(:html, :div), Any[Node{DOM}(DOM(:html, :p), Any[], Dict{Symbol,Any}(:attributes=>Dict(\"data-bind\"=>\"text: formatted_val\")))], Dict{Symbol,Any}(:className=>\"interact-flex-row-right\"))], Dict{Symbol,Any}(:className=>\"interact-flex-row interact-widget\")), Dict{String,Tuple{Observables.AbstractObservable,Union{Nothing, Bool}}}(\"changes\"=>(Observable{Int64} with 1 listeners. Value:\n",
       "0, nothing),\"index\"=>(Observable{Any} with 2 listeners. Value:\n",
       "21, nothing)), Set(String[]), nothing, Asset[Asset(\"js\", \"knockout\", \"C:\\\\Users\\\\Ivan_Slapnicar\\\\.julia\\\\packages\\\\Knockout\\\\1sDlc\\\\src\\\\..\\\\assets\\\\knockout.js\"), Asset(\"js\", \"knockout_punches\", \"C:\\\\Users\\\\Ivan_Slapnicar\\\\.julia\\\\packages\\\\Knockout\\\\1sDlc\\\\src\\\\..\\\\assets\\\\knockout_punches.js\"), Asset(\"js\", nothing, \"C:\\\\Users\\\\Ivan_Slapnicar\\\\.julia\\\\packages\\\\InteractBase\\\\9mFwe\\\\src\\\\..\\\\assets\\\\all.js\"), Asset(\"css\", nothing, \"C:\\\\Users\\\\Ivan_Slapnicar\\\\.julia\\\\packages\\\\InteractBase\\\\9mFwe\\\\src\\\\..\\\\assets\\\\style.css\"), Asset(\"css\", nothing, \"C:\\\\Users\\\\Ivan_Slapnicar\\\\.julia\\\\packages\\\\Interact\\\\0klKX\\\\src\\\\..\\\\assets\\\\bulma_confined.min.css\")], Dict{Any,Any}(\"changes\"=>Any[JSString(\"(function (val){return (val!=this.model[\\\"changes\\\"]()) ? (this.valueFromJulia[\\\"changes\\\"]=true, this.model[\\\"changes\\\"](val)) : undefined})\")],\"index\"=>Any[JSString(\"(function (val){return (val!=this.model[\\\"index\\\"]()) ? (this.valueFromJulia[\\\"index\\\"]=true, this.model[\\\"index\\\"](val)) : undefined})\")]), ConnectionPool(Channel{Any}(sz_max:32,sz_curr:0), Set(AbstractConnection[]), Condition(Any[Task (runnable) @0x000000002382b0f0])), WebIO.JSString[JSString(\"function () {\\n    var handler = (function (ko, koPunches) {\\n    ko.punches.enableAll();\\n    ko.bindingHandlers.numericValue = {\\n        init: function(element, valueAccessor, allBindings, data, context) {\\n            var stringified = ko.observable(ko.unwrap(valueAccessor()));\\n            stringified.subscribe(function(value) {\\n                var val = parseFloat(value);\\n                if (!isNaN(val)) {\\n                    valueAccessor()(val);\\n                }\\n            });\\n            valueAccessor().subscribe(function(value) {\\n                var str = JSON.stringify(value);\\n                if ((str == \\\"0\\\") && ([\\\"-0\\\", \\\"-0.\\\"].indexOf(stringified()) >= 0))\\n                     return;\\n                 if ([\\\"null\\\", \\\"\\\"].indexOf(str) >= 0)\\n                     return;\\n                stringified(str);\\n            });\\n            ko.applyBindingsToNode(\\n                element,\\n                {\\n                    value: stringified,\\n                    valueUpdate: allBindings.get('valueUpdate'),\\n                },\\n                context,\\n            );\\n        }\\n    };\\n    var json_data = {\\\"formatted_vals\\\":[\\\"0.2\\\",\\\"0.21\\\",\\\"0.22\\\",\\\"0.23\\\",\\\"0.24\\\",\\\"0.25\\\",\\\"0.26\\\",\\\"0.27\\\",\\\"0.28\\\",\\\"0.29\\\",\\\"0.3\\\",\\\"0.31\\\",\\\"0.32\\\",\\\"0.33\\\",\\\"0.34\\\",\\\"0.35\\\",\\\"0.36\\\",\\\"0.37\\\",\\\"0.38\\\",\\\"0.39\\\",\\\"0.4\\\",\\\"0.41\\\",\\\"0.42\\\",\\\"0.43\\\",\\\"0.44\\\",\\\"0.45\\\",\\\"0.46\\\",\\\"0.47\\\",\\\"0.48\\\",\\\"0.49\\\",\\\"0.5\\\",\\\"0.51\\\",\\\"0.52\\\",\\\"0.53\\\",\\\"0.54\\\",\\\"0.55\\\",\\\"0.56\\\",\\\"0.57\\\",\\\"0.58\\\",\\\"0.59\\\",\\\"0.6\\\"],\\\"changes\\\":WebIO.getval({\\\"name\\\":\\\"changes\\\",\\\"scope\\\":\\\"12282855697836136315\\\",\\\"id\\\":\\\"ob_21\\\",\\\"type\\\":\\\"observable\\\"}),\\\"index\\\":WebIO.getval({\\\"name\\\":\\\"index\\\",\\\"scope\\\":\\\"12282855697836136315\\\",\\\"id\\\":\\\"ob_20\\\",\\\"type\\\":\\\"observable\\\"})};\\n    var self = this;\\n    function AppViewModel() {\\n        for (var key in json_data) {\\n            var el = json_data[key];\\n            this[key] = Array.isArray(el) ? ko.observableArray(el) : ko.observable(el);\\n        }\\n        \\n        [this[\\\"formatted_val\\\"]=ko.computed(    function(){\\n        return this.formatted_vals()[parseInt(this.index())-(1)];\\n    }\\n,this)]\\n        [this[\\\"changes\\\"].subscribe((function (val){!(this.valueFromJulia[\\\"changes\\\"]) ? (WebIO.setval({\\\"name\\\":\\\"changes\\\",\\\"scope\\\":\\\"12282855697836136315\\\",\\\"id\\\":\\\"ob_21\\\",\\\"type\\\":\\\"observable\\\"},val)) : undefined; return this.valueFromJulia[\\\"changes\\\"]=false}),self),this[\\\"index\\\"].subscribe((function (val){!(this.valueFromJulia[\\\"index\\\"]) ? (WebIO.setval({\\\"name\\\":\\\"index\\\",\\\"scope\\\":\\\"12282855697836136315\\\",\\\"id\\\":\\\"ob_20\\\",\\\"type\\\":\\\"observable\\\"},val)) : undefined; return this.valueFromJulia[\\\"index\\\"]=false}),self)]\\n        \\n    }\\n    self.model = new AppViewModel();\\n    self.valueFromJulia = {};\\n    for (var key in json_data) {\\n        self.valueFromJulia[key] = false;\\n    }\\n    ko.applyBindings(self.model, self.dom);\\n}\\n);\\n    (WebIO.importBlock({\\\"data\\\":[{\\\"name\\\":\\\"knockout\\\",\\\"type\\\":\\\"js\\\",\\\"url\\\":\\\"/assetserver/ec445c3635ad2e3755ac5e718c92ca301fdedb35-knockout.js\\\"},{\\\"name\\\":\\\"knockout_punches\\\",\\\"type\\\":\\\"js\\\",\\\"url\\\":\\\"/assetserver/83339d7be4b13cb796b32e311e1735b268343ced-knockout_punches.js\\\"}],\\\"type\\\":\\\"async_block\\\"})).then((imports) => handler.apply(this, imports));\\n}\\n\")])], Dict{Symbol,Any}(:className=>\"field interact-widget\")), Observable{Any} with 0 listeners. Value:\n",
       "Node{DOM}(DOM(:html, :div), Any[Plot{Plots.GRBackend() n=3}], Dict{Symbol,Any}(:className=>\"interact-flex-row interact-widget\"))], Dict{Symbol,Any}())"
      ]
     },
     "execution_count": 12,
     "metadata": {
      "application/vnd.webio.node+json": {
       "kernelId": "a21352aa-39ed-4531-b9d0-b914ff794ca1"
      }
     },
     "output_type": "execute_result"
    }
   ],
   "source": [
    "n=10\n",
    "a=0\n",
    "b=2\n",
    "f(x)=1 .-abs.(x .-1)\n",
    "\n",
    "# Ravnomjerno raspoređene točke\n",
    "x=collect(range(a,b,length=n+1))\n",
    "y=f(x)\n",
    "lsize=200\n",
    "xx=range(a,b,length=lsize)\n",
    "ySpline=Array{Float64}(undef,lsize)\n",
    "yPoly=Array{Float64}(undef,lsize)\n",
    "yFun=f(xx)\n",
    "\n",
    "point=3\n",
    "xc=deepcopy(x)\n",
    "yc=deepcopy(y)\n",
    "@manipulate for xp=xc[point-1]:0.01:xc[point+1]\n",
    "    # Splajn\n",
    "    xc[point]=xp\n",
    "    yc[point]=sin(xp)\n",
    "    h=xc[2:end]-xc[1:end-1]\n",
    "    d=(yc[2:end]-yc[1:end-1])./h\n",
    "    H=SymTridiagonal(2*(h[1:end-1]+h[2:end]),h[2:end-1])\n",
    "    b1=6*(d[2:end]-d[1:end-1])\n",
    "    s=H\\b1\n",
    "    s=[0;s;0]\n",
    "    b=d-(s[2:end]-s[1:end-1]).*h/6\n",
    "    C=Array{Any}(undef,n)\n",
    "    C=[xx-> \n",
    "    yc[i]-s[i]*h[i]^2/6+b[i]*(xx-xc[i])+s[i]*(xc[i+1]-xx)^3/(6*h[i])+s[i+1]*(xx-xc[i])^3/(6*h[i])\n",
    "        for i=1:n]\n",
    "    for i=1:lsize\n",
    "        for k=1:n\n",
    "            if xx[i]<=xc[k+1]\n",
    "                ySpline[i]=C[k](xx[i])\n",
    "                break\n",
    "            end\n",
    "        end\n",
    "    end\n",
    "    \n",
    "    # Polinom\n",
    "    A=Vandermonde(xc)\n",
    "    p=Poly(A\\yc)\n",
    "    yPoly=polyval(p,xx)\n",
    "    \n",
    "    scatter(xc,yc)\n",
    "    plot!(xx,[ySpline yPoly])\n",
    "end"
   ]
  }
 ],
 "metadata": {
  "@webio": {
   "lastCommId": "b7f5babea2b94b2a8ed27f455b1aaad8",
   "lastKernelId": "a21352aa-39ed-4531-b9d0-b914ff794ca1"
  },
  "kernelspec": {
   "display_name": "Julia 1.1.0",
   "language": "julia",
   "name": "julia-1.1"
  },
  "language_info": {
   "file_extension": ".jl",
   "mimetype": "application/julia",
   "name": "julia",
   "version": "1.1.0"
  }
 },
 "nbformat": 4,
 "nbformat_minor": 1
}
