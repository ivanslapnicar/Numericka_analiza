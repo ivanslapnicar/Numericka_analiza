{
 "cells": [
  {
   "cell_type": "markdown",
   "metadata": {},
   "source": [
    "# Teorija smetnje, pogreška unatrag i stabilni algoritmi\n",
    "\n",
    "\n",
    "\n",
    "## Teorija smetnje\n",
    "\n",
    "Odgovorimo na sljedeće pitanje:\n",
    "\n",
    "> _Koliko se mijenja rezulat u ovisnosti o promjeni ulaznih podataka?_\n",
    "\n",
    "Za funkciju $f(x)$ i za neki ulazni podatak $x$, želimo dobiti ocjenu za\n",
    "__apsolutnu pogrešku__ u odnosu na __promjenu__ ulaznog podatka za $\\delta x$,\n",
    "\n",
    "$$\n",
    "\\| f(x+\\delta x)-f(x)\\|\\leq \\kappa \\|\\delta x\\|,\n",
    "$$\n",
    "\n",
    " i __relativnu pogrešku__ u odnosu na __relativnu promjenu__ ulaznog podataka $\\displaystyle\\frac{\\| \\delta x\\|}{\\|x\\|}$,\n",
    "\n",
    "$$\n",
    "\\frac{\\| f(x+\\delta x)-f(x)\\|}{\\| f(x) \\|}\\leq \\kappa \\frac{\\| \\delta x \\|}{ \\|x\\|},\n",
    "$$\n",
    "\n",
    "\n",
    "Vrijedi\n",
    "\n",
    "$$\n",
    "\\| f(x+\\delta x)-f(x)\\| = \\frac{\\| f(x+\\delta x)-f(x)\\|}{\\| \\delta x \\|} \\|\\delta x\\| \\equiv \\kappa \\|\\delta x\\|.\n",
    "$$\n",
    "\n",
    "Veličina $\\kappa$ je __uvjetovanost__ ili __kondicija__. Ona podsjeća na derivaciju, a kazuje koliko se najviše uveća smetnja u ulaznim podacima.\n",
    "\n",
    "Slično, u izrazu\n",
    "\n",
    "$$\n",
    "\\frac{\\| f(x+\\delta x)-f(x)\\|}{\\| f(x) \\|}= \\frac{\\| f(x+\\delta x)-f(x)\\|\\cdot  \\|x\\| }{\\|\\delta x\\| \\cdot\\| f(x)\\|}\n",
    "\\cdot \\frac{\\|\\delta x\\|}{\\|x\\|} \\equiv \\kappa \\frac{\\|\\delta x\\|}{\\|x\\|}\n",
    "$$\n",
    "\n",
    "$\\kappa$ nam kazuje koliko se najviše relativno uveća relativna smetnja u ulaznim podacima."
   ]
  },
  {
   "cell_type": "markdown",
   "metadata": {},
   "source": [
    "## Pogreška unatrag\n",
    "\n",
    "Neka vrijednost funkcije $f(x)$ računamo pomoću algoritma $\\mathrm{alg(x)}$.\n",
    "__Pogreška algoritma__ je \n",
    "\n",
    "$$\n",
    "\\|\\mathrm{alg(x)}-f(x)\\|,\n",
    "$$\n",
    "\n",
    "a __relativna pogreška algoritma__ je \n",
    "\n",
    "$$\n",
    "\\frac{\\| \\mathrm{alg}(x)-f(x)\\|}{\\| f(x) \\|}.\n",
    "$$\n",
    "\n",
    "Ove pogreške je teško ili čak nemoguće procijeniti direktno. Stoga se promatra __pogreška unatrag__,\n",
    "\n",
    "$$\n",
    "\\mathrm{alg}(x)=f(x+\\delta x),\n",
    "$$\n",
    "odnosno\n",
    "\n",
    "> izračunata vrijednost funkcije $f$ za ulazni podatak $x$ jednaka je točnoj vrijednosti funkcije $f$ u smetanom ulaznom podatku za neku (nepoznatu) smetnju. "
   ]
  },
  {
   "cell_type": "markdown",
   "metadata": {},
   "source": [
    "## Stabilni algoritmi\n",
    "\n",
    "\n",
    "Algoritam je __stabilan__ ako uvijek vrijedi \n",
    "\n",
    "$$\n",
    "\\mathrm{alg}(x)=f(x+\\delta x)\n",
    "$$\n",
    "\n",
    "za neki mali $ \\delta x$."
   ]
  },
  {
   "cell_type": "code",
   "execution_count": null,
   "metadata": {},
   "outputs": [],
   "source": []
  }
 ],
 "metadata": {
  "@webio": {
   "lastCommId": "9c2f3d65cd874b7998abbf89f0526faa",
   "lastKernelId": "4c410ce1-862f-4391-beb9-90db45912316"
  },
  "kernelspec": {
   "display_name": "Julia 1.4.2",
   "language": "julia",
   "name": "julia-1.4"
  },
  "language_info": {
   "file_extension": ".jl",
   "mimetype": "application/julia",
   "name": "julia",
   "version": "1.4.2"
  }
 },
 "nbformat": 4,
 "nbformat_minor": 1
}
