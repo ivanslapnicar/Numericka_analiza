{
 "cells": [
  {
   "cell_type": "markdown",
   "metadata": {},
   "source": [
    "# Numerička integracija\n",
    "\n",
    "\n",
    "## Newton-Cotesove formule\n",
    "\n",
    "Funkcija $f(x):[a,b]\\to\\mathbb{R}$ se interpolira polinomom stupnja $n$ kroz $n+1$ ravnomjerno raspoređenih točaka te se integral aproksimira integralom interpolacijskog polinoma. Polinom možemo računati u Lagrangeovom obliku  \n",
    "(vidi bilježnicu [NA09 Interpolacijski polinomi.ipynb](NA09%20Interpolacijski%20polinomi.ipynb)):\n",
    "\n",
    "$$\n",
    "L_k(x)=\\prod_{{i=0}\\atop {i\\neq k}}^n \\frac{x-x_i}{x_k-x_i}\n",
    "$$\n",
    "\n",
    "Tada je \n",
    "\n",
    "$$\n",
    "f(x)\\approx P_n(x)=\\sum_{k=0}^n f(x_k) L_k(x),\n",
    "$$\n",
    "\n",
    "pa je \n",
    "\n",
    "$$\n",
    "\\int_a^b f(x)\\, dx\\approx \\int_a^b P_n(x) \\, dx=\\sum_{k=0}^n f(x_k) \\int_a^b L_k(x)\\, dx =(b-a)\\sum_{k=0}^n \\omega_k f(x_k). \\tag{1}\n",
    "$$\n",
    "\n",
    "Uz supstituciju $x=a+(b-a)\\,t$, _težine_ $\\omega_k$ su\n",
    "\n",
    "$$\n",
    "\\omega_k=\\frac{1}{b-a}\\int_a^b L_k(x)\\, dx = \\int_0^1 \\prod_{{i=0}\\atop {i\\neq k}}^n \\frac{nt-i}{k-i} \\, dt.\n",
    "$$\n",
    "\n",
    "### Trapezna formula\n",
    "\n",
    "Za $n=1$ Newton-Cotesova formula (1) daje \n",
    "\n",
    "$$\\omega_0=\\omega_1=\\frac{1}{2}.$$\n",
    "\n",
    "Interval $[a,b]$ podjelimo na $n$ jednakih podintervala,\n",
    "\n",
    "$$[x_{i-1},x_{i}],\\quad  i=1,2,\\ldots,n,$$ \n",
    "\n",
    "i uvedimo oznake\n",
    "\n",
    "$$ \n",
    "\\Delta x=\\frac{b-a}{n}, \\quad y_i=f(x_i).\n",
    "$$\n",
    "\n",
    "Primijena Newton-Cotesove formule na svaki podinterval i zbrajanje daje _trapeznu formulu_:\n",
    "\n",
    "$$\n",
    "I_n=\\Delta x\\bigg( \\frac{y_0}{2} +y_1+y_2+\\cdots +y_{n-1}+\\frac{y_n}{2}\\bigg).\n",
    "$$\n",
    "\n",
    "Vrijedi\n",
    "\n",
    "$$\n",
    "\\int_a^b f(x)\\, dx=I_n+R,\n",
    "$$ \n",
    "\n",
    "pri čemu je _pogreška_ $R$ omeđena s\n",
    "\n",
    "$$\n",
    "|R|\\leq \\frac{b-a}{12}(\\Delta x)^2 \\max_{x\\in(a,b)} |f''(x)|.\n",
    "$$\n",
    "\n",
    "Izvod trapezne formule i ocjene pogreške dan je u knjigama\n",
    "[Numerička matematika, poglavlje 7.1][RS04] i \n",
    "[Matematika 2, poglavlje 2.7.2][IS08].\n",
    "\n",
    "[RS04]: http://www.mathos.unios.hr/pim/Materijali/Num.pdf \"R. Scitovski, 'Numerička matematika', Sveučilište u Osijeku, Osijek, 2004.\"\n",
    "\n",
    "[IS08]: http://lavica.fesb.hr/mat2/predavanja/node42.html \"I. Slapničar, 'Matematika 2', FESB, Split, 2008.\"\n",
    "\n",
    "### Simpsonova formula\n",
    "\n",
    "Za $n=2$ Newton-Cotesova formula (1) daje \n",
    "\n",
    "$$\\omega_0=\\frac{1}{6},\\quad \\omega_1=\\frac{2}{3},\\quad \\omega_2=\\frac{1}{6}.$$\n",
    "\n",
    "Interval $[a,b]$ podjelimo na paran broj $n$ jednakih podintervala, na svaki podinterval\n",
    "\n",
    "$$[x_{2i-1},x_{2i+1}],\\quad i=1,2,\\ldots,\\frac{n}{2},$$\n",
    "\n",
    "primijenimo  Newton-Cotesovu formulu i zbrojimo, što daje _Simpsonovu formulu_:\n",
    "\n",
    "$$\n",
    "I_n=\\frac{\\Delta x}{3}\\big(y_0 +4(y_1+y_3\\cdots +y_{n-1})+2(y_2+y_4+\\cdots+y_{n-2})+y_n\\big).\n",
    "$$\n",
    "\n",
    "Vrijedi\n",
    "\n",
    "$$\n",
    "\\int_a^b f(x)\\, dx =I_n+R,\n",
    "$$\n",
    "\n",
    "pri čemu je _pogreška_ $R$ omeđena s\n",
    "\n",
    "$$\n",
    "|R|\\leq \\frac{b-a}{180}(\\Delta x)^4 \\max_{x\\in(a,b)} |f^{(4)}(x)|. \\tag{2}\n",
    "$$\n",
    "\n",
    "Za detalje vidi knjige \n",
    "[Numerička matematika, poglavlje 7.3][RS04] i \n",
    "[Matematika 2, poglavlje 2.7.3][IS08].\n",
    "\n",
    "### Richardsonova ekstrapolacija\n",
    "\n",
    "Ocjena pogreške pomoću formula (2) i (3) može biti složena. _Richardsonova ekstrapolacija_ nam omogućuje da, uz određene uvjete, pogrešku procijenimo koristeći aproksimaciju integrala s $n/2$ točaka.\n",
    "Ako se u ocjeni pogreške javlja član $(\\Delta x)^m$  ($m=2$ za trapeznu formulu i $m=4$ za Simpsonovu formulu), tada je pogreška približno manja od broja (vidi [Matematika 2, poglavlje 2.7.4][IS08])\n",
    "\n",
    "$$\n",
    "E=\\frac{\\big(\\frac{n}{2}\\big)^m}{n^m-\\big(\\frac{n}{2}\\big)^m}(I_n-I_{n/2}).\n",
    "$$\n",
    "\n",
    "Predznak broja $E$ daje i predznak pogreške, ondosno, ako je $E>0$, tada je približno\n",
    "\n",
    "$$\\int_a^b f(x)\\, dx\\in[I_n,I_n+E],$$\n",
    "\n",
    "a ako je $E\\leq 0$, tada je približno\n",
    "\n",
    "$$\\int_a^b f(x)\\, dx\\in[I_n+E,I_n].$$"
   ]
  },
  {
   "cell_type": "code",
   "execution_count": 1,
   "metadata": {},
   "outputs": [
    {
     "data": {
      "text/plain": [
       "mytrapez (generic function with 1 method)"
      ]
     },
     "execution_count": 1,
     "metadata": {},
     "output_type": "execute_result"
    }
   ],
   "source": [
    "function mytrapez(f::Function,a::Number,b::Number,n::Int64)\n",
    "    # n je broj intervala\n",
    "    X=range(a,stop=b,length=n+1)\n",
    "    Y=map(f,X)\n",
    "    Δx=(b-a)/n\n",
    "    I=Δx*(Y[1]/2+sum(Y[2:end-1])+Y[end]/2)\n",
    "    # Richardsonova ekstrapolacija\n",
    "    Ihalf=2*Δx*(Y[1]/2+sum(Y[3:2:end-2])+Y[end]/2)\n",
    "    E=(n/2)^2*(I-Ihalf)/(n^2-(n/2)^2)\n",
    "    I,E\n",
    "end "
   ]
  },
  {
   "cell_type": "code",
   "execution_count": 2,
   "metadata": {},
   "outputs": [
    {
     "data": {
      "text/plain": [
       "mySimpson (generic function with 1 method)"
      ]
     },
     "execution_count": 2,
     "metadata": {},
     "output_type": "execute_result"
    }
   ],
   "source": [
    "function mySimpson(f::Function,a::Number,b::Number,n::Int64)\n",
    "    # n je broj intervala, djeljiv s 4\n",
    "    X=range(a,stop=b,length=n+1)\n",
    "    Y=map(f,X)\n",
    "    Δx=(b-a)/n\n",
    "    I=Δx/3*(Y[1]+4*sum(Y[2:2:end-1])+2*sum(Y[3:2:end-2])+Y[end])\n",
    "    # Richardsonova ekstrapolacija\n",
    "    Ihalf=2*Δx/3*(Y[1]+4*sum(Y[3:4:end-2])+2*sum(Y[5:4:end-4])+Y[end])\n",
    "    E=(n/2)^4*(I-Ihalf)/(n^4-(n/2)^4)\n",
    "    I,E\n",
    "end "
   ]
  },
  {
   "cell_type": "markdown",
   "metadata": {},
   "source": [
    "### Primjer 1 - Eliptički integral\n",
    "\n",
    "\n",
    "\n",
    "Izračunajmo opseg elipse s polu-osima $2$ i $1$ (vidi  [Matematika 2, poglavlje 2.7.1][IS08]). Elipsa je parametarski zadana s\n",
    "\n",
    "$$\n",
    "x=2\\cos t,\\quad y=\\sin t,\\quad t\\in[0,\\pi/2]\n",
    "$$\n",
    "\n",
    "pa je četvrtina opsega jednaka\n",
    "\n",
    "$$\n",
    "\\frac{O}{4}\\int\\limits_0^{\\pi/2} \\sqrt{(-2\\sin t)^2+(\\cos t)^2}\\, dt\n",
    "=2\\int\\limits_0^{\\pi/2} \\sqrt{1-\\frac{3}{4}(\\cos t)^2}\\, dt.\n",
    "$$\n",
    "\n",
    "Radi se o eliptičkom integralu druge vrste koji nije elementarno rješiv, ali se može naći u [tablicama](http://nvlpubs.nist.gov/nistpubs/jres/50/jresv50n1p43_A1b.pdf).\n",
    "\n",
    "Vidimo da je $O\\approx 8\\cdot 1.21125$.\n",
    "\n",
    "[IS08]: http://lavica.fesb.hr/mat2/predavanja/node46.html \"I. Slapničar, 'Matematika 2', FESB, Split, 2008.\""
   ]
  },
  {
   "cell_type": "code",
   "execution_count": 3,
   "metadata": {},
   "outputs": [
    {
     "data": {
      "text/plain": [
       "(1.2110515487742433, 0.00036371987130023875)"
      ]
     },
     "execution_count": 3,
     "metadata": {},
     "output_type": "execute_result"
    }
   ],
   "source": [
    "f1(x)=sqrt(1-(3.0)/4*cos(x)^2)\n",
    "mytrapez(f1,0,π/2,4)"
   ]
  },
  {
   "cell_type": "code",
   "execution_count": 4,
   "metadata": {},
   "outputs": [
    {
     "data": {
      "text/plain": [
       "(1.2110560275664024, 1.172757710943273e-7)"
      ]
     },
     "execution_count": 4,
     "metadata": {},
     "output_type": "execute_result"
    }
   ],
   "source": [
    "mytrapez(f1,0,pi/2,10)"
   ]
  },
  {
   "cell_type": "code",
   "execution_count": 5,
   "metadata": {},
   "outputs": [
    {
     "data": {
      "text/plain": [
       "(1.2110560275684594, 6.439293542825908e-15)"
      ]
     },
     "execution_count": 5,
     "metadata": {},
     "output_type": "execute_result"
    }
   ],
   "source": [
    "mytrapez(f1,0,pi/2,24)"
   ]
  },
  {
   "cell_type": "code",
   "execution_count": 6,
   "metadata": {},
   "outputs": [
    {
     "data": {
      "text/plain": [
       "(1.2114152686455435, -0.000611077902412586)"
      ]
     },
     "execution_count": 6,
     "metadata": {},
     "output_type": "execute_result"
    }
   ],
   "source": [
    "mySimpson(f1,0,π/2,4)"
   ]
  },
  {
   "cell_type": "code",
   "execution_count": 7,
   "metadata": {},
   "outputs": [
    {
     "data": {
      "text/plain": [
       "(1.2110560276465434, -9.950273232028905e-8)"
      ]
     },
     "execution_count": 7,
     "metadata": {},
     "output_type": "execute_result"
    }
   ],
   "source": [
    "mySimpson(f1,0,π/2,16)"
   ]
  },
  {
   "cell_type": "code",
   "execution_count": 8,
   "metadata": {},
   "outputs": [
    {
     "data": {
      "text/plain": [
       "(1.211056027568466, -6.556223564047059e-10)"
      ]
     },
     "execution_count": 8,
     "metadata": {},
     "output_type": "execute_result"
    }
   ],
   "source": [
    "mySimpson(f1,0,π/2,24)"
   ]
  },
  {
   "cell_type": "markdown",
   "metadata": {},
   "source": [
    "### Primjer 2 - $\\pi$\n",
    "\n",
    "Vrijedi \n",
    "\n",
    "$$\n",
    "\\int_0^1 \\frac{4}{1+x^2}\\, dx=\\pi.\n",
    "$$\n",
    "\n",
    "Aproksimirajmo $\\pi$ numeričkom integracijom i provjerimo pogrešku (vidi [Numerička matematika, poglavlje 7.3][RS04]).\n",
    "\n",
    "Pomoću trapezne formula možemo dobiti najviše pet točnih decimala. \n",
    "Simpsonova formula je točnija, ali je konvergencija spora.\n",
    "\n",
    "[RS04]: http://www.mathos.unios.hr/pim/Materijali/Num.pdf \"R. Scitovski, 'Numerička matematika', Sveučilište u Osijeku, Osijek, 2004.\""
   ]
  },
  {
   "cell_type": "code",
   "execution_count": 9,
   "metadata": {},
   "outputs": [
    {
     "data": {
      "text/plain": [
       "3.141592653589793238462643383279502884197169399375105820974944592307816406286198"
      ]
     },
     "execution_count": 9,
     "metadata": {},
     "output_type": "execute_result"
    }
   ],
   "source": [
    "πbig=BigFloat(pi)"
   ]
  },
  {
   "cell_type": "code",
   "execution_count": 10,
   "metadata": {},
   "outputs": [
    {
     "name": "stdout",
     "output_type": "stream",
     "text": [
      "πapprox = mytrapez(f2, 0, 1, 10) = (3.1399259889071587, 0.0016666250320562053)\n"
     ]
    },
    {
     "data": {
      "text/plain": [
       "-1.666664682634555812309880018294349956446743125105820974944592307816406286198029e-03"
      ]
     },
     "execution_count": 10,
     "metadata": {},
     "output_type": "execute_result"
    }
   ],
   "source": [
    "f2(x)=4/(1+x^2)\n",
    "@show πapprox=mytrapez(f2,0,1,10)\n",
    "πapprox[1]-πbig"
   ]
  },
  {
   "cell_type": "code",
   "execution_count": 11,
   "metadata": {},
   "outputs": [
    {
     "name": "stdout",
     "output_type": "stream",
     "text": [
      "πapprox = mytrapez(f2, 0, 1, 100) = (3.141575986923129, 1.66666666251795e-5)\n"
     ]
    },
    {
     "data": {
      "text/plain": [
       "-1.666666666423378282120949501593475335226070323082097494459230781640628619802945e-05"
      ]
     },
     "execution_count": 11,
     "metadata": {},
     "output_type": "execute_result"
    }
   ],
   "source": [
    "@show πapprox=mytrapez(f2,0,1,100)\n",
    "πapprox[1]-πbig"
   ]
  },
  {
   "cell_type": "code",
   "execution_count": 12,
   "metadata": {},
   "outputs": [
    {
     "name": "stdout",
     "output_type": "stream",
     "text": [
      "πapprox = mySimpson(f2, 0, 1, 16) = (3.141592651224822, 9.91774099882529e-9)\n"
     ]
    },
    {
     "data": {
      "text/plain": [
       "-2.364971452347017073514000073718958950156355820974944592307816406286198029453625e-09"
      ]
     },
     "execution_count": 12,
     "metadata": {},
     "output_type": "execute_result"
    }
   ],
   "source": [
    "@show πapprox=mySimpson(f2,0,1,16)\n",
    "πapprox[1]-πbig"
   ]
  },
  {
   "cell_type": "code",
   "execution_count": 13,
   "metadata": {},
   "outputs": [
    {
     "name": "stdout",
     "output_type": "stream",
     "text": [
      "πapprox = mySimpson(f2, 0, 1, 64) = (3.1415926535892162, 2.4253192047278085e-12)\n"
     ]
    },
    {
     "data": {
      "text/plain": [
       "-5.769943482751460737218416213332177344808209749445923078164062861980294536250318e-13"
      ]
     },
     "execution_count": 13,
     "metadata": {},
     "output_type": "execute_result"
    }
   ],
   "source": [
    "@show πapprox=mySimpson(f2,0,1,64)\n",
    "πapprox[1]-πbig"
   ]
  },
  {
   "cell_type": "markdown",
   "metadata": {},
   "source": [
    "## Gaussova kvadratura\n",
    "\n",
    "Slično kao u formuli (1), integral aproksimiramo sumom umnožaka vrijednosti funkcije i odgovarajućih težina:\n",
    "\n",
    "$$\n",
    "\\int_{a}^b \\omega(x) f(x)\\, dx=\\sum_{k=1}^n \\omega_k f(x_k),\n",
    "$$\n",
    "\n",
    "gdje je $\\omega(x)$ neka _težinska funkcija_.\n",
    "\n",
    "Točke $x_k$ su nul-točke odgovarajućeg ortogonalnog polinoma $P_{n}(x)$ reda $n+1$, na primjer, _Legendreovih polinoma_ za $\\omega(x)=1$ i _Čebiševljevih polinoma_ za \n",
    "\n",
    "$$\\omega(x)=\\displaystyle\\frac{1}{\\sqrt{1-x^2}}$$\n",
    "\n",
    "(vidi bilježnicu [NA09 Interpolacijski polinomi.ipynb](NA09%20Interpolacijski%20polinomi.ipynb)).\n",
    "\n",
    "Težine su jednake\n",
    "\n",
    "$$\n",
    "\\omega_k=\\int_a^b \\omega(x) \\prod_{{i=1}\\atop {i\\neq k}}^n\\frac{x-x_i}{x_k-x_i} \\, dx.\n",
    "$$\n",
    "\n",
    "_Pogreška_ je dana s\n",
    "\n",
    "$$\n",
    "E=\\frac{f^{(2n)}(\\xi)}{(2n)!}\\int_a^b \\omega(x) P_n^2(x)\\, dx.\n",
    "$$\n",
    "\n",
    "Za detalje vidi [Numerical Analysis, poglavlje 7.3][KC96].\n",
    "\n",
    "[KC96]: https://books.google.hr/books?id=kPDtAp3UZtIC&hl=hr&source=gbs_book_other_versions \"David Kincaid and Ward Cheney, 'Numerical Analysis: Mathematics of Scientific Computing', 2nd Edition, American Mathematical Society, 2002\"\n",
    "\n",
    "__Napomena__: Legendreovi i Čebiševljevi polinomi su definirani na intervalu $[-1,1]$ pa  \n",
    "koristimo transformaciju\n",
    "\n",
    "$$\n",
    "\\int_{a}^b \\omega(x) f(x)\\, dx = \\frac{b-a}{2} \\int_{-1}^1 f\\bigg(\\frac{b-a}{2}x+\\frac{a+b}{2}\\bigg) dx. \\tag{3}\n",
    "$$"
   ]
  },
  {
   "cell_type": "markdown",
   "metadata": {},
   "source": [
    "### Postojeće rutine\n",
    "\n",
    "Profesionalne rutine za numeričku integraciju su složene, a većina programa ima ugrađene odgovarajuće rutine.\n",
    "Tako, na primjer, \n",
    "\n",
    "* Ṁatlab ima rutinu `quad` koja koristi adaptivnu Simpsonovu formulu, a \n",
    "* Julia u paketu [`QuadGK.jl`](https://github.com/JuliaMath/QuadGK.jl) ima rutinu `quadgk()` i računa integral u $O(n^2)$ operacija.\n",
    "\n",
    "Julia također ima i paket  [`FastGaussQuadrature.jl`](https://github.com/ajt60gaibb/FastGaussQuadrature.jl) koji brzo računa točke i težine za zadani $n$ i razne težinske funkcije pa se pomoću točaka i težina lako izračuna integral u $O(n)$ operacija."
   ]
  },
  {
   "cell_type": "code",
   "execution_count": 14,
   "metadata": {},
   "outputs": [],
   "source": [
    "using QuadGK"
   ]
  },
  {
   "cell_type": "code",
   "execution_count": 15,
   "metadata": {},
   "outputs": [
    {
     "name": "stdout",
     "output_type": "stream",
     "text": [
      "search: \u001b[0m\u001b[1mq\u001b[22m\u001b[0m\u001b[1mu\u001b[22m\u001b[0m\u001b[1ma\u001b[22m\u001b[0m\u001b[1md\u001b[22m\u001b[0m\u001b[1mg\u001b[22m\u001b[0m\u001b[1mk\u001b[22m \u001b[0m\u001b[1mQ\u001b[22m\u001b[0m\u001b[1mu\u001b[22m\u001b[0m\u001b[1ma\u001b[22m\u001b[0m\u001b[1md\u001b[22m\u001b[0m\u001b[1mG\u001b[22m\u001b[0m\u001b[1mK\u001b[22m\n",
      "\n"
     ]
    },
    {
     "data": {
      "text/latex": [
       "\\begin{verbatim}\n",
       "quadgk(f, a,b,c...; rtol=sqrt(eps), atol=0, maxevals=10^7, order=7, norm=norm)\n",
       "\\end{verbatim}\n",
       "Numerically integrate the function \\texttt{f(x)} from \\texttt{a} to \\texttt{b}, and optionally over additional intervals \\texttt{b} to \\texttt{c} and so on. Keyword options include a relative error tolerance \\texttt{rtol} (defaults to \\texttt{sqrt(eps)} in the precision of the endpoints), an absolute error tolerance \\texttt{atol} (defaults to 0), a maximum number of function evaluations \\texttt{maxevals} (defaults to \\texttt{10\\^{}7}), and the \\texttt{order} of the integration rule (defaults to 7).\n",
       "\n",
       "Returns a pair \\texttt{(I,E)} of the estimated integral \\texttt{I} and an estimated upper bound on the absolute error \\texttt{E}. If \\texttt{maxevals} is not exceeded then \\texttt{E <= max(atol, rtol*norm(I))} will hold. (Note that it is useful to specify a positive \\texttt{atol} in cases where \\texttt{norm(I)} may be zero.)\n",
       "\n",
       "The endpoints \\texttt{a} et cetera can also be complex (in which case the integral is performed over straight-line segments in the complex plane). If the endpoints are \\texttt{BigFloat}, then the integration will be performed in \\texttt{BigFloat} precision as well.\n",
       "\n",
       "\\begin{quote}\n",
       "\\textbf{note}\n",
       "\n",
       "Note\n",
       "\n",
       "It is advisable to increase the integration \\texttt{order} in rough proportion to the precision, for smooth integrands.\n",
       "\n",
       "\\end{quote}\n",
       "More generally, the precision is set by the precision of the integration endpoints (promoted to floating-point types).\n",
       "\n",
       "The integrand \\texttt{f(x)} can return any numeric scalar, vector, or matrix type, or in fact any type supporting \\texttt{+}, \\texttt{-}, multiplication by real values, and a \\texttt{norm} (i.e., any normed vector space). Alternatively, a different norm can be specified by passing a \\texttt{norm}-like function as the \\texttt{norm} keyword argument (which defaults to \\texttt{norm}).\n",
       "\n",
       "\\begin{quote}\n",
       "\\textbf{note}\n",
       "\n",
       "Note\n",
       "\n",
       "Only one-dimensional integrals are provided by this function. For multi-dimensional integration (cubature), there are many different algorithms (often much better than simple nested 1d integrals) and the optimal choice tends to be very problem-dependent. See the Julia external-package listing for available algorithms for multidimensional integration or other specialized tasks (such as integrals of highly oscillatory or singular functions).\n",
       "\n",
       "\\end{quote}\n",
       "The algorithm is an adaptive Gauss-Kronrod integration technique: the integral in each interval is estimated using a Kronrod rule (\\texttt{2*order+1} points) and the error is estimated using an embedded Gauss rule (\\texttt{order} points). The interval with the largest error is then subdivided into two intervals and the process is repeated until the desired error tolerance is achieved.\n",
       "\n",
       "These quadrature rules work best for smooth functions within each interval, so if your function has a known discontinuity or other singularity, it is best to subdivide your interval to put the singularity at an endpoint. For example, if \\texttt{f} has a discontinuity at \\texttt{x=0.7} and you want to integrate from 0 to 1, you should use \\texttt{quadgk(f, 0,0.7,1)} to subdivide the interval at the point of discontinuity. The integrand is never evaluated exactly at the endpoints of the intervals, so it is possible to integrate functions that diverge at the endpoints as long as the singularity is integrable (for example, a \\texttt{log(x)} or \\texttt{1/sqrt(x)} singularity).\n",
       "\n",
       "For real-valued endpoints, the starting and/or ending points may be infinite. (A coordinate transformation is performed internally to map the infinite interval to a finite one.)\n",
       "\n"
      ],
      "text/markdown": [
       "```\n",
       "quadgk(f, a,b,c...; rtol=sqrt(eps), atol=0, maxevals=10^7, order=7, norm=norm)\n",
       "```\n",
       "\n",
       "Numerically integrate the function `f(x)` from `a` to `b`, and optionally over additional intervals `b` to `c` and so on. Keyword options include a relative error tolerance `rtol` (defaults to `sqrt(eps)` in the precision of the endpoints), an absolute error tolerance `atol` (defaults to 0), a maximum number of function evaluations `maxevals` (defaults to `10^7`), and the `order` of the integration rule (defaults to 7).\n",
       "\n",
       "Returns a pair `(I,E)` of the estimated integral `I` and an estimated upper bound on the absolute error `E`. If `maxevals` is not exceeded then `E <= max(atol, rtol*norm(I))` will hold. (Note that it is useful to specify a positive `atol` in cases where `norm(I)` may be zero.)\n",
       "\n",
       "The endpoints `a` et cetera can also be complex (in which case the integral is performed over straight-line segments in the complex plane). If the endpoints are `BigFloat`, then the integration will be performed in `BigFloat` precision as well.\n",
       "\n",
       "!!! note\n",
       "    It is advisable to increase the integration `order` in rough proportion to the precision, for smooth integrands.\n",
       "\n",
       "\n",
       "More generally, the precision is set by the precision of the integration endpoints (promoted to floating-point types).\n",
       "\n",
       "The integrand `f(x)` can return any numeric scalar, vector, or matrix type, or in fact any type supporting `+`, `-`, multiplication by real values, and a `norm` (i.e., any normed vector space). Alternatively, a different norm can be specified by passing a `norm`-like function as the `norm` keyword argument (which defaults to `norm`).\n",
       "\n",
       "!!! note\n",
       "    Only one-dimensional integrals are provided by this function. For multi-dimensional integration (cubature), there are many different algorithms (often much better than simple nested 1d integrals) and the optimal choice tends to be very problem-dependent. See the Julia external-package listing for available algorithms for multidimensional integration or other specialized tasks (such as integrals of highly oscillatory or singular functions).\n",
       "\n",
       "\n",
       "The algorithm is an adaptive Gauss-Kronrod integration technique: the integral in each interval is estimated using a Kronrod rule (`2*order+1` points) and the error is estimated using an embedded Gauss rule (`order` points). The interval with the largest error is then subdivided into two intervals and the process is repeated until the desired error tolerance is achieved.\n",
       "\n",
       "These quadrature rules work best for smooth functions within each interval, so if your function has a known discontinuity or other singularity, it is best to subdivide your interval to put the singularity at an endpoint. For example, if `f` has a discontinuity at `x=0.7` and you want to integrate from 0 to 1, you should use `quadgk(f, 0,0.7,1)` to subdivide the interval at the point of discontinuity. The integrand is never evaluated exactly at the endpoints of the intervals, so it is possible to integrate functions that diverge at the endpoints as long as the singularity is integrable (for example, a `log(x)` or `1/sqrt(x)` singularity).\n",
       "\n",
       "For real-valued endpoints, the starting and/or ending points may be infinite. (A coordinate transformation is performed internally to map the infinite interval to a finite one.)\n"
      ],
      "text/plain": [
       "\u001b[36m  quadgk(f, a,b,c...; rtol=sqrt(eps), atol=0, maxevals=10^7, order=7, norm=norm)\u001b[39m\n",
       "\n",
       "  Numerically integrate the function \u001b[36mf(x)\u001b[39m from \u001b[36ma\u001b[39m to \u001b[36mb\u001b[39m, and optionally over\n",
       "  additional intervals \u001b[36mb\u001b[39m to \u001b[36mc\u001b[39m and so on. Keyword options include a relative\n",
       "  error tolerance \u001b[36mrtol\u001b[39m (defaults to \u001b[36msqrt(eps)\u001b[39m in the precision of the\n",
       "  endpoints), an absolute error tolerance \u001b[36matol\u001b[39m (defaults to 0), a maximum\n",
       "  number of function evaluations \u001b[36mmaxevals\u001b[39m (defaults to \u001b[36m10^7\u001b[39m), and the \u001b[36morder\u001b[39m of\n",
       "  the integration rule (defaults to 7).\n",
       "\n",
       "  Returns a pair \u001b[36m(I,E)\u001b[39m of the estimated integral \u001b[36mI\u001b[39m and an estimated upper\n",
       "  bound on the absolute error \u001b[36mE\u001b[39m. If \u001b[36mmaxevals\u001b[39m is not exceeded then \u001b[36mE <=\n",
       "  max(atol, rtol*norm(I))\u001b[39m will hold. (Note that it is useful to specify a\n",
       "  positive \u001b[36matol\u001b[39m in cases where \u001b[36mnorm(I)\u001b[39m may be zero.)\n",
       "\n",
       "  The endpoints \u001b[36ma\u001b[39m et cetera can also be complex (in which case the integral is\n",
       "  performed over straight-line segments in the complex plane). If the\n",
       "  endpoints are \u001b[36mBigFloat\u001b[39m, then the integration will be performed in \u001b[36mBigFloat\u001b[39m\n",
       "  precision as well.\n",
       "\n",
       "\u001b[36m\u001b[1m  │ \u001b[22m\u001b[39m\u001b[36m\u001b[1mNote\u001b[22m\u001b[39m\n",
       "\u001b[36m\u001b[1m  │\u001b[22m\u001b[39m\n",
       "\u001b[36m\u001b[1m  │\u001b[22m\u001b[39m  It is advisable to increase the integration \u001b[36morder\u001b[39m in rough\n",
       "\u001b[36m\u001b[1m  │\u001b[22m\u001b[39m  proportion to the precision, for smooth integrands.\n",
       "\n",
       "  More generally, the precision is set by the precision of the integration\n",
       "  endpoints (promoted to floating-point types).\n",
       "\n",
       "  The integrand \u001b[36mf(x)\u001b[39m can return any numeric scalar, vector, or matrix type, or\n",
       "  in fact any type supporting \u001b[36m+\u001b[39m, \u001b[36m-\u001b[39m, multiplication by real values, and a \u001b[36mnorm\u001b[39m\n",
       "  (i.e., any normed vector space). Alternatively, a different norm can be\n",
       "  specified by passing a \u001b[36mnorm\u001b[39m-like function as the \u001b[36mnorm\u001b[39m keyword argument\n",
       "  (which defaults to \u001b[36mnorm\u001b[39m).\n",
       "\n",
       "\u001b[36m\u001b[1m  │ \u001b[22m\u001b[39m\u001b[36m\u001b[1mNote\u001b[22m\u001b[39m\n",
       "\u001b[36m\u001b[1m  │\u001b[22m\u001b[39m\n",
       "\u001b[36m\u001b[1m  │\u001b[22m\u001b[39m  Only one-dimensional integrals are provided by this function. For\n",
       "\u001b[36m\u001b[1m  │\u001b[22m\u001b[39m  multi-dimensional integration (cubature), there are many different\n",
       "\u001b[36m\u001b[1m  │\u001b[22m\u001b[39m  algorithms (often much better than simple nested 1d integrals) and\n",
       "\u001b[36m\u001b[1m  │\u001b[22m\u001b[39m  the optimal choice tends to be very problem-dependent. See the\n",
       "\u001b[36m\u001b[1m  │\u001b[22m\u001b[39m  Julia external-package listing for available algorithms for\n",
       "\u001b[36m\u001b[1m  │\u001b[22m\u001b[39m  multidimensional integration or other specialized tasks (such as\n",
       "\u001b[36m\u001b[1m  │\u001b[22m\u001b[39m  integrals of highly oscillatory or singular functions).\n",
       "\n",
       "  The algorithm is an adaptive Gauss-Kronrod integration technique: the\n",
       "  integral in each interval is estimated using a Kronrod rule (\u001b[36m2*order+1\u001b[39m\n",
       "  points) and the error is estimated using an embedded Gauss rule (\u001b[36morder\u001b[39m\n",
       "  points). The interval with the largest error is then subdivided into two\n",
       "  intervals and the process is repeated until the desired error tolerance is\n",
       "  achieved.\n",
       "\n",
       "  These quadrature rules work best for smooth functions within each interval,\n",
       "  so if your function has a known discontinuity or other singularity, it is\n",
       "  best to subdivide your interval to put the singularity at an endpoint. For\n",
       "  example, if \u001b[36mf\u001b[39m has a discontinuity at \u001b[36mx=0.7\u001b[39m and you want to integrate from 0\n",
       "  to 1, you should use \u001b[36mquadgk(f, 0,0.7,1)\u001b[39m to subdivide the interval at the\n",
       "  point of discontinuity. The integrand is never evaluated exactly at the\n",
       "  endpoints of the intervals, so it is possible to integrate functions that\n",
       "  diverge at the endpoints as long as the singularity is integrable (for\n",
       "  example, a \u001b[36mlog(x)\u001b[39m or \u001b[36m1/sqrt(x)\u001b[39m singularity).\n",
       "\n",
       "  For real-valued endpoints, the starting and/or ending points may be\n",
       "  infinite. (A coordinate transformation is performed internally to map the\n",
       "  infinite interval to a finite one.)"
      ]
     },
     "execution_count": 15,
     "metadata": {},
     "output_type": "execute_result"
    }
   ],
   "source": [
    "? quadgk"
   ]
  },
  {
   "cell_type": "code",
   "execution_count": 16,
   "metadata": {},
   "outputs": [
    {
     "data": {
      "text/plain": [
       "(1.2110560275684594, 8.948231045025068e-11)"
      ]
     },
     "execution_count": 16,
     "metadata": {},
     "output_type": "execute_result"
    }
   ],
   "source": [
    "quadgk(f1,0,π/2)"
   ]
  },
  {
   "cell_type": "code",
   "execution_count": 17,
   "metadata": {},
   "outputs": [
    {
     "data": {
      "text/plain": [
       "(3.1415926535897936, 2.6639561667707312e-9)"
      ]
     },
     "execution_count": 17,
     "metadata": {},
     "output_type": "execute_result"
    }
   ],
   "source": [
    "quadgk(f2,0,1)"
   ]
  },
  {
   "cell_type": "code",
   "execution_count": 18,
   "metadata": {},
   "outputs": [
    {
     "data": {
      "text/plain": [
       "(1.0, 4.5074000326453615e-11)"
      ]
     },
     "execution_count": 18,
     "metadata": {},
     "output_type": "execute_result"
    }
   ],
   "source": [
    "# Granice mogu biti i beskonačne\n",
    "quadgk(x->exp(-x),0,Inf)"
   ]
  },
  {
   "cell_type": "code",
   "execution_count": 19,
   "metadata": {},
   "outputs": [],
   "source": [
    "using FastGaussQuadrature"
   ]
  },
  {
   "cell_type": "code",
   "execution_count": 20,
   "metadata": {},
   "outputs": [
    {
     "data": {
      "text/latex": [
       "\\begin{tabular}\n",
       "{l | r | l}\n",
       "name & size & summary \\\\\n",
       "\\hline\n",
       "FastGaussQuadrature & 445.386 KiB & Module \\\\\n",
       "besselroots & 0 bytes & typeof(besselroots) \\\\\n",
       "gausschebyshev & 0 bytes & typeof(gausschebyshev) \\\\\n",
       "gausshermite & 0 bytes & typeof(gausshermite) \\\\\n",
       "gaussjacobi & 0 bytes & typeof(gaussjacobi) \\\\\n",
       "gausslaguerre & 0 bytes & typeof(gausslaguerre) \\\\\n",
       "gausslegendre & 0 bytes & typeof(gausslegendre) \\\\\n",
       "gausslobatto & 0 bytes & typeof(gausslobatto) \\\\\n",
       "gaussradau & 0 bytes & typeof(gaussradau) \\\\\n",
       "\\end{tabular}\n"
      ],
      "text/markdown": [
       "| name                |        size | summary                |\n",
       "|:------------------- | -----------:|:---------------------- |\n",
       "| FastGaussQuadrature | 445.386 KiB | Module                 |\n",
       "| besselroots         |     0 bytes | typeof(besselroots)    |\n",
       "| gausschebyshev      |     0 bytes | typeof(gausschebyshev) |\n",
       "| gausshermite        |     0 bytes | typeof(gausshermite)   |\n",
       "| gaussjacobi         |     0 bytes | typeof(gaussjacobi)    |\n",
       "| gausslaguerre       |     0 bytes | typeof(gausslaguerre)  |\n",
       "| gausslegendre       |     0 bytes | typeof(gausslegendre)  |\n",
       "| gausslobatto        |     0 bytes | typeof(gausslobatto)   |\n",
       "| gaussradau          |     0 bytes | typeof(gaussradau)     |\n"
      ],
      "text/plain": [
       "name                       size summary               \n",
       "––––––––––––––––––– ––––––––––– ––––––––––––––––––––––\n",
       "FastGaussQuadrature 445.386 KiB Module                \n",
       "besselroots             0 bytes typeof(besselroots)   \n",
       "gausschebyshev          0 bytes typeof(gausschebyshev)\n",
       "gausshermite            0 bytes typeof(gausshermite)  \n",
       "gaussjacobi             0 bytes typeof(gaussjacobi)   \n",
       "gausslaguerre           0 bytes typeof(gausslaguerre) \n",
       "gausslegendre           0 bytes typeof(gausslegendre) \n",
       "gausslobatto            0 bytes typeof(gausslobatto)  \n",
       "gaussradau              0 bytes typeof(gaussradau)    "
      ]
     },
     "execution_count": 20,
     "metadata": {},
     "output_type": "execute_result"
    }
   ],
   "source": [
    "varinfo(FastGaussQuadrature)"
   ]
  },
  {
   "cell_type": "code",
   "execution_count": 21,
   "metadata": {},
   "outputs": [
    {
     "data": {
      "text/html": [
       "2 methods for generic function <b>gausschebyshev</b>:<ul><li> gausschebyshev(n::<b>Integer</b>) in FastGaussQuadrature at <a href=\"file://C:/Users/Ivan_Slapnicar/.julia/packages/FastGaussQuadrature/G3Izs/src/gausschebyshev.jl\" target=\"_blank\">C:\\Users\\Ivan_Slapnicar\\.julia\\packages\\FastGaussQuadrature\\G3Izs\\src\\gausschebyshev.jl:5</a></li> <li> gausschebyshev(n::<b>Integer</b>, kind::<b>Integer</b>) in FastGaussQuadrature at <a href=\"file://C:/Users/Ivan_Slapnicar/.julia/packages/FastGaussQuadrature/G3Izs/src/gausschebyshev.jl\" target=\"_blank\">C:\\Users\\Ivan_Slapnicar\\.julia\\packages\\FastGaussQuadrature\\G3Izs\\src\\gausschebyshev.jl:5</a></li> </ul>"
      ],
      "text/plain": [
       "# 2 methods for generic function \"gausschebyshev\":\n",
       "[1] gausschebyshev(n::Integer) in FastGaussQuadrature at C:\\Users\\Ivan_Slapnicar\\.julia\\packages\\FastGaussQuadrature\\G3Izs\\src\\gausschebyshev.jl:5\n",
       "[2] gausschebyshev(n::Integer, kind::Integer) in FastGaussQuadrature at C:\\Users\\Ivan_Slapnicar\\.julia\\packages\\FastGaussQuadrature\\G3Izs\\src\\gausschebyshev.jl:5"
      ]
     },
     "execution_count": 21,
     "metadata": {},
     "output_type": "execute_result"
    }
   ],
   "source": [
    "# Na primjer\n",
    "methods(gausschebyshev)"
   ]
  },
  {
   "cell_type": "code",
   "execution_count": 22,
   "metadata": {},
   "outputs": [
    {
     "data": {
      "text/plain": [
       "([-0.995185, -0.95694, -0.881921, -0.77301, -0.634393, -0.471397, -0.290285, -0.0980171, 0.0980171, 0.290285, 0.471397, 0.634393, 0.77301, 0.881921, 0.95694, 0.995185], [0.19635, 0.19635, 0.19635, 0.19635, 0.19635, 0.19635, 0.19635, 0.19635, 0.19635, 0.19635, 0.19635, 0.19635, 0.19635, 0.19635, 0.19635, 0.19635])"
      ]
     },
     "execution_count": 22,
     "metadata": {},
     "output_type": "execute_result"
    }
   ],
   "source": [
    "gausschebyshev(16)"
   ]
  },
  {
   "cell_type": "code",
   "execution_count": 23,
   "metadata": {},
   "outputs": [
    {
     "data": {
      "text/plain": [
       "mapnodes (generic function with 1 method)"
      ]
     },
     "execution_count": 23,
     "metadata": {},
     "output_type": "execute_result"
    }
   ],
   "source": [
    "# Sada računajmo integrale. U našem slučaju je ω(x)=1 \n",
    "# pa nam trebaju Legendreovi polinomi\n",
    "a=0\n",
    "b=π/2\n",
    "ξ,ω=gausslegendre(32)\n",
    "mapnodes(x)=(b-a)*x/2 .+(a+b)/2"
   ]
  },
  {
   "cell_type": "code",
   "execution_count": 24,
   "metadata": {},
   "outputs": [
    {
     "data": {
      "text/plain": [
       "1.2110560275684594"
      ]
     },
     "execution_count": 24,
     "metadata": {},
     "output_type": "execute_result"
    }
   ],
   "source": [
    "# 1/8 opsega elipse\n",
    "using LinearAlgebra\n",
    "(b-a)/2*dot(ω,map(f1,mapnodes(ξ)))"
   ]
  },
  {
   "cell_type": "code",
   "execution_count": 25,
   "metadata": {},
   "outputs": [
    {
     "data": {
      "text/plain": [
       "3.141592653589793"
      ]
     },
     "execution_count": 25,
     "metadata": {},
     "output_type": "execute_result"
    }
   ],
   "source": [
    "# π\n",
    "a=0\n",
    "b=1\n",
    "(b-a)/2*dot(ω,map(f2,mapnodes(ξ)))"
   ]
  },
  {
   "cell_type": "markdown",
   "metadata": {},
   "source": [
    "## Clenshaw-Curtisova kvadratura\n",
    "\n",
    "Uz supstituciju $x=\\cos\\theta$, vrijedi\n",
    "\n",
    "$$\n",
    "I\\equiv \\int\\limits_{-1}^1f(x)\\, dx =\\int\\limits_0^\\pi f(\\cos\\theta)\\sin\\theta \\, d\\theta.\n",
    "$$\n",
    "\n",
    "Integral na desnoj strani se računa integriranjem Fourierovog reda parnog proširenja podintegralne funkcije:\n",
    "\n",
    "$$\n",
    "I\\approx a_0+\\sum_{k=1}^n \\frac{2a_{2k}}{1-(2k)^2},\n",
    "$$\n",
    "pri čemu se koeficijenti $a_k$ računaju formulom\n",
    "\n",
    "$$\n",
    "a_k=\\frac{2}{\\pi}\\int\\limits_0^\\pi f(\\cos\\theta)\\cos(k\\theta)\\,d\\theta.\n",
    "$$\n",
    "\n",
    "Koeficijenti $a_k$ se mogu računati numeričkom integracijom ili korištenjem brze Fourierove transformacije (FFT), što je puno brže.\n",
    "Za detalje vidi [Homer Reid, Clenshaw-Curtis Quadrature](http://homerreid.dyndns.org/teaching/18.330/Notes/ClenshawCurtis.pdf).\n",
    "\n",
    "Ukoliko se integrira na intervalu $[a,b]$, prebacivanje u interval $[-1,1]$ vrši se kao u formuli (3)."
   ]
  },
  {
   "cell_type": "code",
   "execution_count": 26,
   "metadata": {},
   "outputs": [
    {
     "data": {
      "text/plain": [
       "myClenshawCurtis (generic function with 1 method)"
      ]
     },
     "execution_count": 26,
     "metadata": {},
     "output_type": "execute_result"
    }
   ],
   "source": [
    "# Naivna implementacija\n",
    "function myClenshawCurtis(f::Function,a::Number,b::Number,n::Int64)\n",
    "    mapnodes(x)=(b-a)*x/2+(a+b)/2\n",
    "    z=Vector{Float64}(undef,n)\n",
    "    g(x)=f(mapnodes(x))\n",
    "    for i=1:n\n",
    "        h(x)=g(cos(x))*cos(2*(i-1)*x)\n",
    "        z[i]=2*quadgk(h,0,pi)[1]/pi\n",
    "    end\n",
    "    return (z[1]+2*sum([z[i]/(1-4*(i-1)^2) for i=2:n]))*(b-a)/2\n",
    "end"
   ]
  },
  {
   "cell_type": "code",
   "execution_count": 27,
   "metadata": {},
   "outputs": [
    {
     "data": {
      "text/plain": [
       "myClenshawCurtis (generic function with 2 methods)"
      ]
     },
     "execution_count": 27,
     "metadata": {},
     "output_type": "execute_result"
    }
   ],
   "source": [
    "# Implementcija pomoću trapeznog pravila s m podintervala\n",
    "function myClenshawCurtis(f::Function,a::Number,b::Number,n::Int64,m::Int64)\n",
    "    mapnodes(x)=(b-a)*x/2+(a+b)/2\n",
    "    z=Vector{Float64}(undef,n)\n",
    "    g(x)=f(mapnodes(x))\n",
    "    ls=range(0,stop=pi,length=m+1)\n",
    "    u=map(x->g(cos(x)),ls)\n",
    "    for i=1:n\n",
    "        v=map(x->cos(2*(i-1)*x),ls)\n",
    "        z[i]=(u[1]*v[1]+2*(u[2:end-1]⋅v[2:end-1])+v[end]*u[end])/m\n",
    "    end\n",
    "    return (z[1]+2*sum([z[i]/(1-4*(i-1)^2) for i=2:n]))*(b-a)/2\n",
    "end"
   ]
  },
  {
   "cell_type": "code",
   "execution_count": 28,
   "metadata": {},
   "outputs": [
    {
     "data": {
      "text/plain": [
       "1.2110560274835651"
      ]
     },
     "execution_count": 28,
     "metadata": {},
     "output_type": "execute_result"
    }
   ],
   "source": [
    "myClenshawCurtis(f1,0,pi/2,8)"
   ]
  },
  {
   "cell_type": "code",
   "execution_count": 29,
   "metadata": {},
   "outputs": [
    {
     "data": {
      "text/plain": [
       "1.2110560274835651"
      ]
     },
     "execution_count": 29,
     "metadata": {},
     "output_type": "execute_result"
    }
   ],
   "source": [
    "myClenshawCurtis(f1,0,pi/2,8,50)"
   ]
  },
  {
   "cell_type": "code",
   "execution_count": 30,
   "metadata": {},
   "outputs": [
    {
     "data": {
      "text/plain": [
       "(3.1415926535897936, π = 3.1415926535897...)"
      ]
     },
     "execution_count": 30,
     "metadata": {},
     "output_type": "execute_result"
    }
   ],
   "source": [
    "myClenshawCurtis(f2,0,1,16,50),pi"
   ]
  },
  {
   "cell_type": "code",
   "execution_count": 31,
   "metadata": {},
   "outputs": [
    {
     "data": {
      "text/plain": [
       "1.0000000000000009"
      ]
     },
     "execution_count": 31,
     "metadata": {},
     "output_type": "execute_result"
    }
   ],
   "source": [
    "myClenshawCurtis(x->exp(-x),0,1000,100,200)"
   ]
  },
  {
   "cell_type": "code",
   "execution_count": 32,
   "metadata": {},
   "outputs": [
    {
     "data": {
      "text/plain": [
       "myClenshawCurtis (generic function with 2 methods)"
      ]
     },
     "execution_count": 32,
     "metadata": {},
     "output_type": "execute_result"
    }
   ],
   "source": [
    "# Najbrža implementacija pomoću fft(), 2^n je broj točaka\n",
    "using FFTW\n",
    "function myClenshawCurtis(f::Function,a::Number,b::Number,n::Int64)\n",
    "    mapnodes(x)=(b-a)*x/2+(a+b)/2\n",
    "    g(x)=f(mapnodes(x))\n",
    "    w=map(x->g(cos(x)),range(0,stop=2*pi,length=2^n))\n",
    "    w[1]=(w[1]+w[end])/2\n",
    "    z=real(fft(w))\n",
    "    z/=2^(n-1)\n",
    "    return (z[1]+2*sum([z[i]/(1-(i-1)^2) for i=3:2:2^(n-1)]))*(b-a)/2\n",
    "end"
   ]
  },
  {
   "cell_type": "code",
   "execution_count": 33,
   "metadata": {},
   "outputs": [
    {
     "data": {
      "text/plain": [
       "1.2113091816227997"
      ]
     },
     "execution_count": 33,
     "metadata": {},
     "output_type": "execute_result"
    }
   ],
   "source": [
    "myClenshawCurtis(f1,0,pi/2,11)"
   ]
  },
  {
   "cell_type": "code",
   "execution_count": 34,
   "metadata": {},
   "outputs": [
    {
     "data": {
      "text/plain": [
       "(3.141571198232438, π = 3.1415926535897...)"
      ]
     },
     "execution_count": 34,
     "metadata": {},
     "output_type": "execute_result"
    }
   ],
   "source": [
    "myClenshawCurtis(f2,0,1,16),pi"
   ]
  }
 ],
 "metadata": {
  "@webio": {
   "lastCommId": "dbd767cd17f9434d806dc46e927d9008",
   "lastKernelId": "4c711a4c-6022-42a9-8453-dc6889239859"
  },
  "kernelspec": {
   "display_name": "Julia 1.0.2",
   "language": "julia",
   "name": "julia-1.0"
  },
  "language_info": {
   "file_extension": ".jl",
   "mimetype": "application/julia",
   "name": "julia",
   "version": "1.0.2"
  }
 },
 "nbformat": 4,
 "nbformat_minor": 1
}
