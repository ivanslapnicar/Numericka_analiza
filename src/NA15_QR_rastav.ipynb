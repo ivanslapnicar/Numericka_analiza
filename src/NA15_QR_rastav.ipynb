{
 "cells": [
  {
   "cell_type": "markdown",
   "metadata": {},
   "source": [
    "# QR rastav\n",
    "\n",
    "---\n",
    "\n",
    "__QR rastav__ matrice $A$ tipa $m\\times n$,  $m\\geq n$,\n",
    "glasi\n",
    "\n",
    "$$\n",
    "A=QR, \n",
    "$$\n",
    "\n",
    "pri čemu je $Q$ __ortonormirana matrica__ dimenzije $m\\times m$, odnosno\n",
    "\\[\n",
    "Q^TQ=Q Q^T=I,\n",
    "\\]\n",
    "a $R$ je $m\\times n$ gornje trokutasta matrica.\n",
    "\n",
    "Ortonormiranu matricu kraće zovemo i __ortogonalna matrica__.\n",
    "\n",
    "Na primjer,\n",
    "\n",
    "$$\n",
    "\\begin{bmatrix} a_{11} & a_{12} & a_{13} \\\\\n",
    "a_{21} & a_{22} & a_{23} \\\\\n",
    "a_{31} & a_{32} & a_{33} \\\\\n",
    "a_{41} & a_{42} & a_{43} \\\\\n",
    "a_{51} & a_{52} & a_{53}\n",
    "\\end{bmatrix}\n",
    "=\n",
    "\\begin{bmatrix}\n",
    "q_{11} & q_{12} & q_{13} & q_{14} & q_{15} \\\\\n",
    "q_{21} & q_{22} & q_{23} & q_{24} & q_{25} \\\\\n",
    "q_{31} & q_{32} & q_{33} & q_{34} & q_{35} \\\\\n",
    "q_{41} & q_{42} & q_{43} & q_{44} & q_{45} \\\\\n",
    "q_{51} & q_{52} & q_{53} & q_{54} & q_{55}\n",
    "\\end{bmatrix}\n",
    "\\begin{bmatrix}\n",
    "r_{11} & r_{12} & r_{13} \\\\\n",
    "0 & r_{22} & r_{23} \\\\\n",
    "0 & 0 & r_{33} \\\\\n",
    "0 & 0 & 0 \\\\\n",
    "0 & 0 & 0 \n",
    "\\end{bmatrix}. \\tag{1}\n",
    "$$\n",
    "\n",
    "S (1) je definiram i __ekonomični QR rastav__\n",
    "\n",
    "$$\n",
    "\\begin{bmatrix} a_{11} & a_{12} & a_{13} \\\\\n",
    "a_{21} & a_{22} & a_{23} \\\\\n",
    "a_{31} & a_{32} & a_{33} \\\\\n",
    "a_{41} & a_{42} & a_{43} \\\\\n",
    "a_{51} & a_{52} & a_{53}\n",
    "\\end{bmatrix}\n",
    "=\n",
    "\\begin{bmatrix}\n",
    "q_{11} & q_{12} & q_{13} \\\\\n",
    "q_{21} & q_{22} & q_{23} \\\\\n",
    "q_{31} & q_{32} & q_{33} \\\\\n",
    "q_{41} & q_{42} & q_{43} \\\\\n",
    "q_{51} & q_{52} & q_{53}\n",
    "\\end{bmatrix}\n",
    "\\begin{bmatrix}\n",
    "r_{11} & r_{12} & r_{13} \\\\\n",
    "0 & r_{22} & r_{23} \\\\\n",
    "0 & 0 & r_{33}\n",
    "\\end{bmatrix}. \\tag{2}\n",
    "$$\n",
    "\n",
    "\n",
    "Izjednačavanje stupaca počevši od prvog daje: \n",
    "\n",
    "\\begin{align}\n",
    "t&=a_{:1}\\\\\n",
    "r_{11}&=\\|t\\|_2 \\\\\n",
    "q_{:1}&=t\\frac{1}{r_{11}}\\\\\n",
    "r_{12}&= q_{:1}^Ta_{:1} \\\\\n",
    "t&=a_{:2}-q_{:1}r_{12} \\\\\n",
    "r_{22}&=\\|t\\|_2 \\\\\n",
    "q_{:2}&=t\\frac{1}{r_{22}} \\\\\n",
    "r_{13}&=q_{:1}^Ta_{:3} \\\\\n",
    "r_{23}&=q_{:2}^Ta_{:3} \\\\\n",
    "t&=a_{:3}-q_{:1}r_{13}-q_{:2}r_{23}\\\\\n",
    "r_{33}&=\\|t\\|_2 \\\\\n",
    "q_{:3}&=t\\frac{1}{r_{33}}.\n",
    "\\end{align}\n",
    "\n",
    "Indukcijom slijedi __Gram-Schmidt-ov postupak ortogonalizacije__."
   ]
  },
  {
   "cell_type": "code",
   "execution_count": 1,
   "metadata": {
    "collapsed": false
   },
   "outputs": [
    {
     "data": {
      "text/plain": [
       "myGramSchmidtQR (generic function with 1 method)"
      ]
     },
     "execution_count": 1,
     "metadata": {},
     "output_type": "execute_result"
    }
   ],
   "source": [
    "function myGramSchmidtQR{T}(A::Array{T})\n",
    "    m,n=size(A)\n",
    "    R=zeros(Float64,n,n)\n",
    "    Q=Array(Float64,m,n)\n",
    "    R[1,1]=norm(A[:,1])\n",
    "    Q[:,1]=A[:,1]/R[1,1]\n",
    "    for k=2:n\n",
    "        for i=1:k-1\n",
    "            R[i,k]=Q[:,i]⋅A[:,k]\n",
    "        end\n",
    "        t=A[:,k]-sum([R[i,k]*Q[:,i] for i=1:k-1])\n",
    "        R[k,k]=norm(t)\n",
    "        Q[:,k]=t/R[k,k]\n",
    "    end\n",
    "    Q,R\n",
    "end "
   ]
  },
  {
   "cell_type": "code",
   "execution_count": 2,
   "metadata": {
    "collapsed": false
   },
   "outputs": [
    {
     "data": {
      "text/plain": [
       "(\n",
       "[0.0878571 0.427132 … -0.237135 -0.156486; 0.630281 -0.70425 … -0.186113 -0.0584778; … ; 0.271373 0.322519 … -0.366567 0.646157; 0.295431 0.172138 … 0.31371 -0.153881],\n",
       "\n",
       "[1.41466 1.41819 … 0.91099 1.17717; 0.0 0.911875 … 0.698977 0.774325; … ; 0.0 0.0 … 0.587086 0.281292; 0.0 0.0 … 0.0 0.478971])"
      ]
     },
     "execution_count": 2,
     "metadata": {},
     "output_type": "execute_result"
    }
   ],
   "source": [
    "A=rand(8,5)\n",
    "Q,R=myGramSchmidtQR(A)"
   ]
  },
  {
   "cell_type": "code",
   "execution_count": 3,
   "metadata": {
    "collapsed": false
   },
   "outputs": [
    {
     "data": {
      "text/plain": [
       "8×5 Array{Float64,2}:\n",
       "  0.0          0.0           0.0          -5.55112e-17   0.0        \n",
       "  0.0          5.55112e-17   0.0          -2.08167e-17  -2.77556e-17\n",
       "  0.0          0.0          -2.42861e-17  -6.93889e-18   0.0        \n",
       "  0.0          0.0           0.0           0.0           0.0        \n",
       "  5.55112e-17  0.0           0.0           0.0           0.0        \n",
       "  0.0          0.0           0.0          -1.11022e-16   0.0        \n",
       " -5.55112e-17  0.0           0.0           0.0           0.0        \n",
       "  5.55112e-17  0.0           2.77556e-17   5.55112e-17  -5.55112e-17"
      ]
     },
     "execution_count": 3,
     "metadata": {},
     "output_type": "execute_result"
    }
   ],
   "source": [
    "A-Q*R"
   ]
  },
  {
   "cell_type": "code",
   "execution_count": 4,
   "metadata": {
    "collapsed": false
   },
   "outputs": [
    {
     "data": {
      "text/plain": [
       "5×5 Array{Float64,2}:\n",
       "  1.0           5.2932e-18    2.09248e-16   1.64332e-16  -1.66533e-16\n",
       "  5.2932e-18    1.0          -4.59682e-17  -1.39382e-16   1.38778e-16\n",
       "  2.09248e-16  -4.59682e-17   1.0          -5.72697e-17  -3.88578e-16\n",
       "  1.64332e-16  -1.39382e-16  -5.72697e-17   1.0           8.32667e-17\n",
       " -1.66533e-16   1.38778e-16  -3.88578e-16   8.32667e-17   1.0        "
      ]
     },
     "execution_count": 4,
     "metadata": {},
     "output_type": "execute_result"
    }
   ],
   "source": [
    "Q'*Q"
   ]
  },
  {
   "cell_type": "markdown",
   "metadata": {},
   "source": [
    "Algoritam `myGramSchmidtQR()` je numerički nestabilan pa je bolje koristiti _modificirani Gram-Schmidt-ov algoritam_ ili _Householder-ove reflektore_ ili _Givens-ove rotacije_ (vidi [Matrix Computations, poglavlje 5][GVL13]).\n",
    "\n",
    "[GVL13]: https://books.google.hr/books?id=X5YfsuCWpxMC&printsec=frontcover&hl=hr#v=onepage&q&f=false \"G. Golub and C. F Van Loan, 'Matrix Computations', 4th Edition, John Hopkins, Baltimore, 2013\""
   ]
  },
  {
   "cell_type": "markdown",
   "metadata": {},
   "source": [
    "## Householderovi reflektori\n",
    "\n",
    "__QR rastav vektora__ $x$ jednak je\n",
    "\n",
    "$$\n",
    "H \\begin{bmatrix} x_1 \\\\ x_2 \\\\ \\vdots \\\\ x_m \n",
    "\\end{bmatrix}  =r,\n",
    "$$\n",
    "\n",
    "gdje je \n",
    "\n",
    "$$\n",
    "H=I - \\frac{2}{v^Tv}v v^T, \\qquad  \n",
    "v=\\begin{bmatrix}\n",
    "x_1\\pm \\|x\\|_2 \\\\ x_2 \\\\ x_3 \\\\ \\vdots \\\\ x_m\n",
    "\\end{bmatrix}.\n",
    "$$ \n",
    "\n",
    "__Householderov reflektor__ $H$ je __simetrična__ i __ortogonalna__ matrica (dokažite!). Ovisno o izboru predznaka u definicije vektora $v$ vrijedi\n",
    "\n",
    "$$\n",
    "r=\\begin{bmatrix} \\mp \\|x\\| \\\\ 0 \\\\ \\vdots \\\\ 0\n",
    "\\end{bmatrix}\n",
    "$$\n",
    "\n",
    "Zbog numeričke stabilnost se najčešće uzima\n",
    "\n",
    "$$\n",
    "v_1=x_1+\\mathop{\\mathrm{sign}} (x_1) \\|x\\|_2.\n",
    "$$\n",
    "\n",
    "Matrica $H$ se __ne računa eksplicitno__ već se produkt $Hx$ računa po formuli\n",
    "\n",
    "$$\n",
    "Hx=x-v\\frac{2v^Tx}{v^Tv}\n",
    "$$\n",
    "\n",
    "za koju je potrebno $O(6m)$ operacija."
   ]
  },
  {
   "cell_type": "code",
   "execution_count": 5,
   "metadata": {
    "collapsed": false
   },
   "outputs": [
    {
     "data": {
      "text/plain": [
       "myHouseholderVector (generic function with 1 method)"
      ]
     },
     "execution_count": 5,
     "metadata": {},
     "output_type": "execute_result"
    }
   ],
   "source": [
    "function myHouseholderVector{T}(x::Array{T})\n",
    "    # Vraca v\n",
    "    v=deepcopy(x)\n",
    "    v[1]=x[1]+sign(x[1])*norm(x)\n",
    "    v\n",
    "end"
   ]
  },
  {
   "cell_type": "code",
   "execution_count": 6,
   "metadata": {
    "collapsed": false
   },
   "outputs": [
    {
     "data": {
      "text/plain": [
       "8-element Array{Float64,1}:\n",
       " -1.90116\n",
       "  0.0    \n",
       "  0.0    \n",
       "  0.0    \n",
       "  0.0    \n",
       "  0.0    \n",
       "  0.0    \n",
       "  0.0    "
      ]
     },
     "execution_count": 6,
     "metadata": {},
     "output_type": "execute_result"
    }
   ],
   "source": [
    "x=rand(8)\n",
    "v=myHouseholderVector(x)\n",
    "β=(2/(v⋅v))*(v⋅x)\n",
    "x-β*v"
   ]
  },
  {
   "cell_type": "code",
   "execution_count": 7,
   "metadata": {
    "collapsed": false
   },
   "outputs": [
    {
     "data": {
      "text/plain": [
       "1.9011637385678988"
      ]
     },
     "execution_count": 7,
     "metadata": {},
     "output_type": "execute_result"
    }
   ],
   "source": [
    "norm(x)"
   ]
  },
  {
   "cell_type": "markdown",
   "metadata": {},
   "source": [
    "QR rastav matrice se računa rekurzivnim QR rastavom vektora pomoću Householderovih reflektora:"
   ]
  },
  {
   "cell_type": "code",
   "execution_count": 8,
   "metadata": {
    "collapsed": false
   },
   "outputs": [
    {
     "data": {
      "text/plain": [
       "myHouseholderQR (generic function with 1 method)"
      ]
     },
     "execution_count": 8,
     "metadata": {},
     "output_type": "execute_result"
    }
   ],
   "source": [
    "function myHouseholderQR{T}(A1::Array{T})\n",
    "    # Vraca Q i R\n",
    "    A=deepcopy(A1)\n",
    "    m,n=size(A)\n",
    "    # R=zeros(Float64,m,n)\n",
    "    Q=eye(Float64,m,m)\n",
    "    for k=1:n\n",
    "        v=myHouseholderVector(A[k:m,k])\n",
    "        β=(2/(v⋅v))*v\n",
    "        A[k:m,k:n]=A[k:m,k:n]-β*(v'*A[k:m,k:n])\n",
    "        Q[k:m,:]=Q[k:m,:]-β*(v'*Q[k:m,:])\n",
    "    end\n",
    "    R=triu(A)\n",
    "    Q',R\n",
    "end\n",
    "    "
   ]
  },
  {
   "cell_type": "code",
   "execution_count": 9,
   "metadata": {
    "collapsed": false
   },
   "outputs": [
    {
     "data": {
      "text/plain": [
       "8×5 Array{Float64,2}:\n",
       " 0.177083   0.218212   0.402715  0.96175    0.352683\n",
       " 0.0109619  0.860576   0.78396   0.0597564  0.496637\n",
       " 0.769124   0.115343   0.24995   0.340618   0.687614\n",
       " 0.158432   0.539803   0.466003  0.972886   0.694406\n",
       " 0.756395   0.752133   0.69224   0.803256   0.673002\n",
       " 0.0824303  0.944943   0.520098  0.562432   0.329217\n",
       " 0.753034   0.0116682  0.437111  0.0105164  0.079305\n",
       " 0.331772   0.303652   0.671118  0.43314    0.730943"
      ]
     },
     "execution_count": 9,
     "metadata": {},
     "output_type": "execute_result"
    }
   ],
   "source": [
    "A=rand(8,5)"
   ]
  },
  {
   "cell_type": "code",
   "execution_count": 10,
   "metadata": {
    "collapsed": false
   },
   "outputs": [
    {
     "data": {
      "text/plain": [
       "(\n",
       "[-0.128328 -0.0869354 … -0.375423 -0.435086; -0.00794384 -0.584304 … -0.0510726 -0.444599; … ; -0.545706 0.256528 … 0.427445 -0.0718147; -0.240428 -0.0909938 … -0.141419 0.525392],\n",
       "\n",
       "[-1.37993 -0.709199 … -1.00922 -1.11977; 0.0 -1.46318 … -0.941291 -0.823224; … ; 0.0 0.0 … 0.0 0.0; 0.0 0.0 … 0.0 0.0])"
      ]
     },
     "execution_count": 10,
     "metadata": {},
     "output_type": "execute_result"
    }
   ],
   "source": [
    "Q,R=myHouseholderQR(A)"
   ]
  },
  {
   "cell_type": "code",
   "execution_count": 11,
   "metadata": {
    "collapsed": false
   },
   "outputs": [
    {
     "data": {
      "text/plain": [
       "8×5 Array{Float64,2}:\n",
       " -1.37993      -0.709199     -1.06113      -1.00922      -1.11977    \n",
       " -5.7013e-19   -1.46318      -1.03293      -0.941291     -0.823224   \n",
       "  5.15603e-18   1.70553e-16   0.504603      0.145293      0.298461   \n",
       " -1.16249e-16   2.81716e-16  -6.16555e-17  -1.10212      -0.338898   \n",
       "  3.71063e-17   1.23978e-16   1.0704e-16    1.5301e-16    0.540761   \n",
       "  1.50379e-16   8.11763e-17   2.46153e-16   2.41403e-16   3.33067e-16\n",
       "  1.57764e-17  -6.56442e-17   1.10388e-16   8.5463e-17    5.55112e-17\n",
       " -7.07284e-17  -3.20889e-16  -1.63287e-16  -2.15563e-16  -1.66533e-16"
      ]
     },
     "execution_count": 11,
     "metadata": {},
     "output_type": "execute_result"
    }
   ],
   "source": [
    "Q'*A"
   ]
  },
  {
   "cell_type": "markdown",
   "metadata": {},
   "source": [
    "Program `myHouseholderQR()` je ilustrativan. Profesionalni programi imaju sljedeća svojstva:\n",
    "\n",
    "* računaju s blok matricama (uobičajena dimenzija bloka je 32 ili 64),\n",
    "* izračuna se vektor $\\hat v=v/v_1$. Vrijedi $\\hat v_1=1$, dok se ostali elemenenti vektora $\\hat v$ spremaju u strogi donji trokut matrice $A$,\n",
    "* ako se traži matrica $Q$, akumulacija se vrši unatrag koristeći spremljene vektore $v$ (tako se smanjuje broj operacija),\n",
    "* postoji opcija vraćanja ekonomičnog rastava,\n",
    "* postoji opcija računanja s __pivotiranjem__ - u svakom koraku se na prvo mjesto dovede stupac s najvećom normom pa je \n",
    "\n",
    "$$\n",
    "AP=QR.\n",
    "$$\n",
    "\n",
    "Vrijedi\n",
    "\n",
    "$$\n",
    "|R_{kk}|\\geq |R_{k+1,k+1}|\n",
    "$$\n",
    "\n",
    "pa se može utvrditi i numerički rank matrice."
   ]
  },
  {
   "cell_type": "code",
   "execution_count": 12,
   "metadata": {
    "collapsed": false
   },
   "outputs": [
    {
     "data": {
      "text/plain": [
       "(\n",
       "[-0.128328 -0.0869354 … -0.634699 -0.33697; -0.00794384 -0.584304 … 0.497022 0.135816; … ; -0.545706 0.256528 … 0.30321 -0.537367; -0.240428 -0.0909938 … -0.0110051 0.35621],\n",
       "\n",
       "[-1.37993 -0.709199 … -1.00922 -1.11977; 0.0 -1.46318 … -0.941291 -0.823224; … ; 0.0 0.0 … -1.10212 -0.338898; 0.0 0.0 … 0.0 0.540761])"
      ]
     },
     "execution_count": 12,
     "metadata": {},
     "output_type": "execute_result"
    }
   ],
   "source": [
    "Q1,R1=qr(A,thin=true)"
   ]
  },
  {
   "cell_type": "code",
   "execution_count": 13,
   "metadata": {
    "collapsed": false
   },
   "outputs": [
    {
     "data": {
      "text/plain": [
       "(\n",
       "[-0.542718 -0.219895 … 0.19402 0.381787; -0.0337207 -0.0136987 … -0.293091 0.307967; … ; -0.0059344 0.659774 … 0.368526 0.481772; -0.244422 0.123151 … -0.589246 0.422032],\n",
       "\n",
       "[-1.7721 -0.785872 … -1.31023 -1.19435; 0.0 1.13428 … 0.454493 0.463436; … ; 0.0 0.0 … -0.59643 -0.211044; 0.0 0.0 … 0.0 0.45358],\n",
       "\n",
       "[4,1,2,5,3])"
      ]
     },
     "execution_count": 13,
     "metadata": {},
     "output_type": "execute_result"
    }
   ],
   "source": [
    "Q2,R2,P2=qr(A,Val{true})"
   ]
  },
  {
   "cell_type": "code",
   "execution_count": 14,
   "metadata": {
    "collapsed": false
   },
   "outputs": [
    {
     "data": {
      "text/plain": [
       "8×5 Array{Float64,2}:\n",
       " 0.0          1.11022e-16  3.05311e-16   3.88578e-16   1.11022e-16\n",
       " 6.93889e-18  2.01228e-16  0.0           5.55112e-17  -1.11022e-16\n",
       " 0.0          0.0          6.93889e-17   0.0          -2.77556e-17\n",
       " 1.11022e-16  8.32667e-17  1.11022e-16   2.22045e-16   0.0        \n",
       " 0.0          0.0          1.11022e-16   0.0           1.11022e-16\n",
       " 1.11022e-16  1.38778e-17  1.11022e-16   1.11022e-16   0.0        \n",
       " 0.0          0.0          8.84709e-17  -2.77556e-17   5.55112e-17\n",
       " 5.55112e-17  0.0          1.66533e-16   0.0           1.11022e-16"
      ]
     },
     "execution_count": 14,
     "metadata": {},
     "output_type": "execute_result"
    }
   ],
   "source": [
    "Q2*R2-A[:,P2]"
   ]
  },
  {
   "cell_type": "markdown",
   "metadata": {
    "collapsed": true
   },
   "source": [
    "## Brzina\n",
    "\n",
    "Broj računskih operacija potrebnih za računanje QR rastava matrice $n\\times n$ je $O\\big(\\frac{4}{3}n^3\\big)$ za računanje matrice $R$ i  $O\\big(\\frac{4}{3}n^3\\big)$ za računanje matrice $Q$. \n"
   ]
  },
  {
   "cell_type": "code",
   "execution_count": 22,
   "metadata": {
    "collapsed": false
   },
   "outputs": [
    {
     "data": {
      "text/plain": [
       "1024×1024 Array{Float64,2}:\n",
       " 0.410922   0.676714   0.83091   …  0.215229  0.0208399   0.354748  \n",
       " 0.232272   0.0197824  0.127149     0.266586  0.158605    0.0626725 \n",
       " 0.295657   0.276835   0.679303     0.724286  0.477929    0.00347661\n",
       " 0.146043   0.996233   0.973362     0.632448  0.811111    0.700921  \n",
       " 0.061825   0.469724   0.645578     0.39306   0.42618     0.53583   \n",
       " 0.15379    0.546066   0.449039  …  0.184797  0.118424    0.585097  \n",
       " 0.481404   0.264733   0.829778     0.276212  0.919317    0.538355  \n",
       " 0.508099   0.33141    0.515086     0.110437  0.555823    0.665329  \n",
       " 0.0837506  0.572467   0.498615     0.47481   0.645745    0.527538  \n",
       " 0.191543   0.800075   0.478225     0.47663   0.475818    0.903638  \n",
       " 0.805134   0.310934   0.404971  …  0.279264  0.354862    0.747661  \n",
       " 0.124358   0.0514984  0.530625     0.209393  0.793842    0.202251  \n",
       " 0.177486   0.772825   0.617741     0.330819  0.519383    0.173045  \n",
       " ⋮                               ⋱                                  \n",
       " 0.668563   0.0521827  0.44692      0.688088  0.0753185   0.632963  \n",
       " 0.632799   0.190114   0.662959     0.518623  0.602219    0.859622  \n",
       " 0.762044   0.980097   0.263677     0.610465  0.679474    0.310358  \n",
       " 0.624279   0.820635   0.390293  …  0.730105  0.301217    0.936388  \n",
       " 0.869259   0.54471    0.018441     0.847417  0.610159    0.0614796 \n",
       " 0.376481   0.524119   0.242833     0.882465  0.00634341  0.870696  \n",
       " 0.7442     0.575153   0.679815     0.962181  0.943559    0.0105327 \n",
       " 0.231844   0.119499   0.096686     0.280985  0.839686    0.950574  \n",
       " 0.379704   0.210057   0.81874   …  0.660872  0.985502    0.879617  \n",
       " 0.923736   0.969799   0.369994     0.337133  0.110135    0.535357  \n",
       " 0.37237    0.309518   0.802017     0.32243   0.0913693   0.724302  \n",
       " 0.794048   0.161758   0.399973     0.430838  0.452191    0.784328  "
      ]
     },
     "execution_count": 22,
     "metadata": {},
     "output_type": "execute_result"
    }
   ],
   "source": [
    "n=1024\n",
    "A=rand(n,n)"
   ]
  },
  {
   "cell_type": "code",
   "execution_count": 23,
   "metadata": {
    "collapsed": false
   },
   "outputs": [
    {
     "name": "stdout",
     "output_type": "stream",
     "text": [
      "  0.291469 seconds (2.10 k allocations: 32.596 MB, 0.39% gc time)\n"
     ]
    }
   ],
   "source": [
    "@time qr(A);"
   ]
  },
  {
   "cell_type": "code",
   "execution_count": 20,
   "metadata": {
    "collapsed": false
   },
   "outputs": [
    {
     "name": "stdout",
     "output_type": "stream",
     "text": [
      "  0.062618 seconds (557 allocations: 6.307 MB)\n"
     ]
    }
   ],
   "source": [
    "@time qr(A,Val{true});"
   ]
  },
  {
   "cell_type": "code",
   "execution_count": 18,
   "metadata": {
    "collapsed": false
   },
   "outputs": [
    {
     "name": "stdout",
     "output_type": "stream",
     "text": [
      "  2.954223 seconds (29.02 k allocations: 3.358 GB, 16.66% gc time)\n"
     ]
    }
   ],
   "source": [
    "@time myHouseholderQR(A);"
   ]
  },
  {
   "cell_type": "markdown",
   "metadata": {},
   "source": [
    "## Točnost\n",
    "\n",
    "Za matrice $\\hat Q$ i $\\hat R$ izračunate Householder-ovom metodom vrijedi: \n",
    "\n",
    "\\begin{align*}\n",
    "\\hat Q^T\\hat Q& =I+E, \\qquad \\|E \\|_2\\approx \\varepsilon,\\\\ \n",
    "\\| A-\\hat Q\\hat R\\|_2& \\approx \\varepsilon\\|A\\|_2.\n",
    "\\end{align*}\n",
    "\n",
    "Također, postoji egzaktna ortogonalna matrica $Q$ za koju je \n",
    "\n",
    "$$\\| A- Q\\hat R\\|_2\\approx \\varepsilon\\|A\\|_2.\n",
    "$$"
   ]
  },
  {
   "cell_type": "code",
   "execution_count": null,
   "metadata": {
    "collapsed": true
   },
   "outputs": [],
   "source": []
  }
 ],
 "metadata": {
  "anaconda-cloud": {},
  "kernelspec": {
   "display_name": "Julia 0.5.0",
   "language": "julia",
   "name": "julia-0.5"
  },
  "language_info": {
   "file_extension": ".jl",
   "mimetype": "application/julia",
   "name": "julia",
   "version": "0.5.0"
  }
 },
 "nbformat": 4,
 "nbformat_minor": 0
}
