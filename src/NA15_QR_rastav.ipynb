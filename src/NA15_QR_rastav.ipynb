{
 "cells": [
  {
   "cell_type": "markdown",
   "metadata": {},
   "source": [
    "# QR rastav\n",
    "\n",
    "---\n",
    "\n",
    "__QR rastav__ matrice $A$ tipa $m\\times n$,  $m\\geq n$,\n",
    "glasi\n",
    "\n",
    "$$\n",
    "A=QR, \n",
    "$$\n",
    "\n",
    "pri čemu je $Q$ __ortonormirana matrica__ dimenzije $m\\times m$, odnosno\n",
    "\n",
    "$$\n",
    "Q^TQ=Q Q^T=I,\n",
    "$$\n",
    "\n",
    "a $R$ je $m\\times n$ gornje trokutasta matrica.\n",
    "\n",
    "Ortonormiranu matricu kraće zovemo i __ortogonalna matrica__.\n",
    "\n",
    "Na primjer,\n",
    "\n",
    "\\begin{align*}\n",
    "\\begin{bmatrix} a_{11} & a_{12} & a_{13} \\\\\n",
    "a_{21} & a_{22} & a_{23} \\\\\n",
    "a_{31} & a_{32} & a_{33} \\\\\n",
    "a_{41} & a_{42} & a_{43} \\\\\n",
    "a_{51} & a_{52} & a_{53}\n",
    "\\end{bmatrix}=\n",
    "\\begin{bmatrix}\n",
    "q_{11} & q_{12} & q_{13} & q_{14} & q_{15} \\\\\n",
    "q_{21} & q_{22} & q_{23} & q_{24} & q_{25} \\\\\n",
    "q_{31} & q_{32} & q_{33} & q_{34} & q_{35} \\\\\n",
    "q_{41} & q_{42} & q_{43} & q_{44} & q_{45} \\\\\n",
    "q_{51} & q_{52} & q_{53} & q_{54} & q_{55}\n",
    "\\end{bmatrix}\n",
    "\\begin{bmatrix}\n",
    "r_{11} & r_{12} & r_{13} \\\\\n",
    "0 & r_{22} & r_{23} \\\\\n",
    "0 & 0 & r_{33} \\\\\n",
    "0 & 0 & 0 \\\\\n",
    "0 & 0 & 0 \n",
    "\\end{bmatrix}. \\tag{1}\n",
    "\\end{align*}\n",
    "\n",
    "S (1) je definiram i __ekonomični QR rastav__\n",
    "\n",
    "\\begin{align*}\n",
    "\\begin{bmatrix} a_{11} & a_{12} & a_{13} \\\\\n",
    "a_{21} & a_{22} & a_{23} \\\\\n",
    "a_{31} & a_{32} & a_{33} \\\\\n",
    "a_{41} & a_{42} & a_{43} \\\\\n",
    "a_{51} & a_{52} & a_{53}\n",
    "\\end{bmatrix}=\n",
    "\\begin{bmatrix}\n",
    "q_{11} & q_{12} & q_{13} \\\\\n",
    "q_{21} & q_{22} & q_{23} \\\\\n",
    "q_{31} & q_{32} & q_{33} \\\\\n",
    "q_{41} & q_{42} & q_{43} \\\\\n",
    "q_{51} & q_{52} & q_{53}\n",
    "\\end{bmatrix}\n",
    "\\begin{bmatrix}\n",
    "r_{11} & r_{12} & r_{13} \\\\\n",
    "0 & r_{22} & r_{23} \\\\\n",
    "0 & 0 & r_{33}\n",
    "\\end{bmatrix}. \\tag{2}\n",
    "\\end{align*}\n",
    "\n",
    "\n",
    "Izjednačavanje stupaca počevši od prvog daje: \n",
    "\n",
    "\\begin{align*}\n",
    "t&=a_{:1}\\\\\n",
    "r_{11}&=\\|t\\|_2 \\\\\n",
    "q_{:1}&=t\\frac{1}{r_{11}}\\\\\n",
    "r_{12}&= q_{:1}^Ta_{:1} \\\\\n",
    "t&=a_{:2}-q_{:1}r_{12} \\\\\n",
    "r_{22}&=\\|t\\|_2 \\\\\n",
    "q_{:2}&=t\\frac{1}{r_{22}} \\\\\n",
    "r_{13}&=q_{:1}^Ta_{:3} \\\\\n",
    "r_{23}&=q_{:2}^Ta_{:3} \\\\\n",
    "t&=a_{:3}-q_{:1}r_{13}-q_{:2}r_{23}\\\\\n",
    "r_{33}&=\\|t\\|_2 \\\\\n",
    "q_{:3}&=t\\frac{1}{r_{33}}.\n",
    "\\end{align*}\n",
    "\n",
    "Indukcijom slijedi __Gram-Schmidt-ov postupak ortogonalizacije__."
   ]
  },
  {
   "cell_type": "code",
   "execution_count": 3,
   "metadata": {},
   "outputs": [
    {
     "data": {
      "text/plain": [
       "myGramSchmidtQR (generic function with 1 method)"
      ]
     },
     "execution_count": 3,
     "metadata": {},
     "output_type": "execute_result"
    }
   ],
   "source": [
    "function myGramSchmidtQR{T}(A::Array{T})\n",
    "    m,n=size(A)\n",
    "    R=zeros(Float64,n,n)\n",
    "    Q=Array{Float64}(m,n)\n",
    "    R[1,1]=norm(A[:,1])\n",
    "    Q[:,1]=A[:,1]/R[1,1]\n",
    "    for k=2:n\n",
    "        for i=1:k-1\n",
    "            R[i,k]=Q[:,i]⋅A[:,k]\n",
    "        end\n",
    "        t=A[:,k]-sum([R[i,k]*Q[:,i] for i=1:k-1])\n",
    "        R[k,k]=norm(t)\n",
    "        Q[:,k]=t/R[k,k]\n",
    "    end\n",
    "    Q,R\n",
    "end "
   ]
  },
  {
   "cell_type": "code",
   "execution_count": 4,
   "metadata": {},
   "outputs": [
    {
     "data": {
      "text/plain": [
       "([0.37937 -0.155578 … 0.564879 -0.289444; 0.542646 -0.40914 … -0.326667 -0.213058; … ; 0.452375 0.312017 … -0.313019 -0.415786; 0.0165221 0.745695 … -0.0718355 -0.034669], [1.61184 1.10999 … 0.995803 1.01647; 0.0 1.21442 … 0.332929 0.45807; … ; 0.0 0.0 … 0.945702 0.461073; 0.0 0.0 … 0.0 0.688163])"
      ]
     },
     "execution_count": 4,
     "metadata": {},
     "output_type": "execute_result"
    }
   ],
   "source": [
    "A=rand(8,5)\n",
    "Q,R=myGramSchmidtQR(A)"
   ]
  },
  {
   "cell_type": "code",
   "execution_count": 5,
   "metadata": {},
   "outputs": [
    {
     "data": {
      "text/plain": [
       "8×5 Array{Float64,2}:\n",
       " 0.37937    -0.155578    -0.314217    0.564879   -0.289444\n",
       " 0.542646   -0.40914      0.300542   -0.326667   -0.213058\n",
       " 0.326177    0.162874    -0.119921    0.305001    0.471188\n",
       " 0.276412    0.162084     0.27896    -0.424257    0.354297\n",
       " 0.104558    0.319528     0.749553    0.395748   -0.332457\n",
       " 0.403696   -0.00932943   0.0358295   0.203525    0.488546\n",
       " 0.452375    0.312017    -0.382716   -0.313019   -0.415786\n",
       " 0.0165221   0.745695    -0.095695   -0.0718355  -0.034669"
      ]
     },
     "execution_count": 5,
     "metadata": {},
     "output_type": "execute_result"
    }
   ],
   "source": [
    "Q"
   ]
  },
  {
   "cell_type": "code",
   "execution_count": 6,
   "metadata": {},
   "outputs": [
    {
     "data": {
      "text/plain": [
       "5×5 Array{Float64,2}:\n",
       "  1.0          -4.09451e-16  -6.96789e-17   8.75767e-17  -3.747e-16  \n",
       " -4.09451e-16   1.0           1.11211e-15  -1.3181e-16    1.13104e-15\n",
       " -6.96789e-17   1.11211e-15   1.0          -2.84046e-16  -4.44089e-16\n",
       "  8.75767e-17  -1.3181e-16   -2.84046e-16   1.0           0.0        \n",
       " -3.747e-16     1.13104e-15  -4.44089e-16   0.0           1.0        "
      ]
     },
     "execution_count": 6,
     "metadata": {},
     "output_type": "execute_result"
    }
   ],
   "source": [
    "Q'*Q"
   ]
  },
  {
   "cell_type": "code",
   "execution_count": 7,
   "metadata": {},
   "outputs": [
    {
     "data": {
      "text/plain": [
       "5×5 Array{Float64,2}:\n",
       " 1.61184  1.10999  1.42164   0.995803   1.01647 \n",
       " 0.0      1.21442  0.648255  0.332929   0.45807 \n",
       " 0.0      0.0      0.66043   0.48298   -0.156705\n",
       " 0.0      0.0      0.0       0.945702   0.461073\n",
       " 0.0      0.0      0.0       0.0        0.688163"
      ]
     },
     "execution_count": 7,
     "metadata": {},
     "output_type": "execute_result"
    }
   ],
   "source": [
    "R"
   ]
  },
  {
   "cell_type": "code",
   "execution_count": 9,
   "metadata": {},
   "outputs": [
    {
     "data": {
      "text/plain": [
       "8×5 Array{Float64,2}:\n",
       " 0.0          0.0           0.0          -1.11022e-16   0.0        \n",
       " 1.11022e-16  1.38778e-17  -1.11022e-16  -2.77556e-17   3.46945e-18\n",
       " 0.0          0.0           0.0           0.0           0.0        \n",
       " 0.0          0.0           0.0           1.38778e-17   0.0        \n",
       " 0.0          0.0           0.0           0.0          -6.93889e-17\n",
       " 0.0          0.0           0.0           0.0           0.0        \n",
       " 0.0          0.0           0.0           1.38778e-17   0.0        \n",
       " 0.0          0.0           0.0           0.0           0.0        "
      ]
     },
     "execution_count": 9,
     "metadata": {},
     "output_type": "execute_result"
    }
   ],
   "source": [
    "# Rezidual\n",
    "A-Q*R"
   ]
  },
  {
   "cell_type": "markdown",
   "metadata": {},
   "source": [
    "Algoritam `myGramSchmidtQR()` je numerički nestabilan pa je bolje koristiti _modificirani Gram-Schmidt-ov algoritam_ ili _Householder-ove reflektore_ ili _Givens-ove rotacije_ (vidi [Matrix Computations, poglavlje 5][GVL13]).\n",
    "\n",
    "[GVL13]: https://books.google.hr/books?id=X5YfsuCWpxMC&printsec=frontcover&hl=hr#v=onepage&q&f=false \"G. Golub and C. F Van Loan, 'Matrix Computations', 4th Edition, John Hopkins, Baltimore, 2013\""
   ]
  },
  {
   "cell_type": "markdown",
   "metadata": {},
   "source": [
    "## Householderovi reflektori\n",
    "\n",
    "__QR rastav vektora__ $x$ jednak je\n",
    "\n",
    "$$\n",
    "H \\begin{bmatrix} x_1 \\\\ x_2 \\\\ \\vdots \\\\ x_m \n",
    "\\end{bmatrix}  =r,\n",
    "$$\n",
    "\n",
    "gdje je \n",
    "\n",
    "$$\n",
    "H=I - \\frac{2}{v^Tv}v v^T, \\qquad  \n",
    "v=\\begin{bmatrix}\n",
    "x_1\\pm \\|x\\|_2 \\\\ x_2 \\\\ x_3 \\\\ \\vdots \\\\ x_m\n",
    "\\end{bmatrix}.\n",
    "$$ \n",
    "\n",
    "__Householderov reflektor__ $H$ je __simetrična__ i __ortogonalna__ matrica (dokažite!). Ovisno o izboru predznaka u definicije vektora $v$ vrijedi\n",
    "\n",
    "$$\n",
    "r=\\begin{bmatrix} \\mp \\|x\\| \\\\ 0 \\\\ \\vdots \\\\ 0\n",
    "\\end{bmatrix}\n",
    "$$\n",
    "\n",
    "Zbog numeričke stabilnost se najčešće uzima\n",
    "\n",
    "$$\n",
    "v_1=x_1+\\mathop{\\mathrm{sign}} (x_1) \\|x\\|_2.\n",
    "$$\n",
    "\n",
    "Matrica $H$ se __ne računa eksplicitno__ već se produkt $Hx$ računa po formuli\n",
    "\n",
    "$$\n",
    "Hx=x-v\\frac{2v^Tx}{v^Tv}\n",
    "$$\n",
    "\n",
    "za koju je potrebno $O(6m)$ operacija."
   ]
  },
  {
   "cell_type": "code",
   "execution_count": 10,
   "metadata": {},
   "outputs": [
    {
     "data": {
      "text/plain": [
       "myHouseholderVector (generic function with 1 method)"
      ]
     },
     "execution_count": 10,
     "metadata": {},
     "output_type": "execute_result"
    }
   ],
   "source": [
    "function myHouseholderVector{T}(x::Array{T})\n",
    "    # Vraca v\n",
    "    v=deepcopy(x)\n",
    "    v[1]=x[1]+sign(x[1])*norm(x)\n",
    "    v\n",
    "end"
   ]
  },
  {
   "cell_type": "code",
   "execution_count": 11,
   "metadata": {},
   "outputs": [
    {
     "data": {
      "text/plain": [
       "8-element Array{Float64,1}:\n",
       " -1.93816    \n",
       "  2.22045e-16\n",
       "  1.11022e-16\n",
       "  2.22045e-16\n",
       "  6.93889e-18\n",
       "  2.22045e-16\n",
       "  1.11022e-16\n",
       "  2.77556e-17"
      ]
     },
     "execution_count": 11,
     "metadata": {},
     "output_type": "execute_result"
    }
   ],
   "source": [
    "x=rand(8)\n",
    "v=myHouseholderVector(x)\n",
    "β=(2/(v⋅v))*(v⋅x)\n",
    "x-β*v"
   ]
  },
  {
   "cell_type": "code",
   "execution_count": 12,
   "metadata": {},
   "outputs": [
    {
     "data": {
      "text/plain": [
       "1.938164247390589"
      ]
     },
     "execution_count": 12,
     "metadata": {},
     "output_type": "execute_result"
    }
   ],
   "source": [
    "norm(x)"
   ]
  },
  {
   "cell_type": "markdown",
   "metadata": {},
   "source": [
    "QR rastav matrice se računa rekurzivnim QR rastavom vektora pomoću Householderovih reflektora:"
   ]
  },
  {
   "cell_type": "code",
   "execution_count": 13,
   "metadata": {},
   "outputs": [
    {
     "data": {
      "text/plain": [
       "myHouseholderQR (generic function with 1 method)"
      ]
     },
     "execution_count": 13,
     "metadata": {},
     "output_type": "execute_result"
    }
   ],
   "source": [
    "function myHouseholderQR{T}(A1::Array{T})\n",
    "    # Vraca Q i R\n",
    "    A=deepcopy(A1)\n",
    "    m,n=size(A)\n",
    "    # R=zeros(Float64,m,n)\n",
    "    Q=eye(Float64,m,m)\n",
    "    for k=1:n\n",
    "        v=myHouseholderVector(A[k:m,k])\n",
    "        β=(2/(v⋅v))*v\n",
    "        A[k:m,k:n]=A[k:m,k:n]-β*(v'*A[k:m,k:n])\n",
    "        Q[k:m,:]=Q[k:m,:]-β*(v'*Q[k:m,:])\n",
    "    end\n",
    "    R=triu(A)\n",
    "    Q',R\n",
    "end\n",
    "    "
   ]
  },
  {
   "cell_type": "code",
   "execution_count": 14,
   "metadata": {},
   "outputs": [
    {
     "data": {
      "text/plain": [
       "8×5 Array{Float64,2}:\n",
       " 0.439395   0.527456   0.0285663  0.9831    0.697332 \n",
       " 0.493809   0.272444   0.081249   0.594915  0.746454 \n",
       " 0.0909746  0.275137   0.292681   0.277465  0.744982 \n",
       " 0.121917   0.872876   0.414692   0.381815  0.0475354\n",
       " 0.628275   0.155216   0.758429   0.646601  0.225423 \n",
       " 0.966582   0.950689   0.223044   0.526109  0.0129389\n",
       " 0.805496   0.296282   0.786151   0.114928  0.673896 \n",
       " 0.557581   0.0229915  0.459101   0.114918  0.775812 "
      ]
     },
     "execution_count": 14,
     "metadata": {},
     "output_type": "execute_result"
    }
   ],
   "source": [
    "A=rand(8,5)"
   ]
  },
  {
   "cell_type": "code",
   "execution_count": 15,
   "metadata": {},
   "outputs": [
    {
     "data": {
      "text/plain": [
       "([-0.265024 0.236825 … 0.503125 0.259834; -0.297844 -0.0432189 … -0.547765 -0.563679; … ; -0.48584 -0.213555 … 0.49137 -0.36991; -0.336308 -0.323698 … -0.353287 0.681458], [-1.65795 -1.06497 … -1.12727 -1.13279; 0.0 1.03543 … 0.508927 -0.119713; … ; 0.0 0.0 … 0.0 0.0; 0.0 0.0 … 0.0 0.0])"
      ]
     },
     "execution_count": 15,
     "metadata": {},
     "output_type": "execute_result"
    }
   ],
   "source": [
    "Q,R=myHouseholderQR(A)"
   ]
  },
  {
   "cell_type": "code",
   "execution_count": 16,
   "metadata": {},
   "outputs": [
    {
     "data": {
      "text/plain": [
       "8×5 Array{Float64,2}:\n",
       " -1.65795      -1.06497      -1.03211      -1.12727      -1.13279    \n",
       "  3.98292e-17   1.03543      -0.0446286     0.508927     -0.119713   \n",
       " -5.04834e-17  -1.57064e-16  -0.807208      0.0915894    -0.252264   \n",
       " -1.99506e-17  -2.17067e-16   2.64173e-17   0.852255      0.564048   \n",
       "  7.52469e-17  -1.38135e-16   1.20228e-16  -2.64503e-17   1.01409    \n",
       " -3.86501e-17  -9.17561e-17  -8.51156e-17  -1.29287e-16  -5.55112e-17\n",
       "  6.32489e-17  -2.23473e-16   9.97496e-17  -8.34504e-17  -5.55112e-17\n",
       " -7.69854e-17  -1.01645e-16  -8.23727e-17  -2.52843e-16  -1.66533e-16"
      ]
     },
     "execution_count": 16,
     "metadata": {},
     "output_type": "execute_result"
    }
   ],
   "source": [
    "Q'*A"
   ]
  },
  {
   "cell_type": "code",
   "execution_count": 17,
   "metadata": {},
   "outputs": [
    {
     "data": {
      "text/plain": [
       "8×5 Array{Float64,2}:\n",
       " -1.65795  -1.06497  -1.03211    -1.12727    -1.13279 \n",
       "  0.0       1.03543  -0.0446286   0.508927   -0.119713\n",
       "  0.0       0.0      -0.807208    0.0915894  -0.252264\n",
       "  0.0       0.0       0.0         0.852255    0.564048\n",
       "  0.0       0.0       0.0         0.0         1.01409 \n",
       "  0.0       0.0       0.0         0.0         0.0     \n",
       "  0.0       0.0       0.0         0.0         0.0     \n",
       "  0.0       0.0       0.0         0.0         0.0     "
      ]
     },
     "execution_count": 17,
     "metadata": {},
     "output_type": "execute_result"
    }
   ],
   "source": [
    "R"
   ]
  },
  {
   "cell_type": "markdown",
   "metadata": {},
   "source": [
    "Program `myHouseholderQR()` je ilustrativan. Profesionalni programi imaju sljedeća svojstva:\n",
    "\n",
    "* računaju s blok matricama (uobičajena dimenzija bloka je 32 ili 64),\n",
    "* izračuna se vektor $\\hat v=v/v_1$. Vrijedi $\\hat v_1=1$, dok se ostali elemenenti vektora $\\hat v$ spremaju u strogi donji trokut matrice $A$,\n",
    "* ako se traži matrica $Q$, akumulacija se vrši unatrag koristeći spremljene vektore $v$ (tako se smanjuje broj operacija),\n",
    "* postoji opcija vraćanja ekonomičnog rastava,\n",
    "* postoji opcija računanja s __pivotiranjem__ - u svakom koraku se na prvo mjesto dovede stupac s najvećom normom pa je \n",
    "\n",
    "$$\n",
    "AP=QR.\n",
    "$$\n",
    "\n",
    "Vrijedi\n",
    "\n",
    "$$\n",
    "|R_{kk}|\\geq |R_{k+1,k+1}|\n",
    "$$\n",
    "\n",
    "pa se može utvrditi i numerički rank matrice."
   ]
  },
  {
   "cell_type": "code",
   "execution_count": 18,
   "metadata": {},
   "outputs": [
    {
     "data": {
      "text/plain": [
       "([-0.265024 0.236825 … 0.630355 0.141178; -0.297844 -0.0432189 … 0.299534 0.301958; … ; -0.48584 -0.213555 … -0.343603 0.202924; -0.336308 -0.323698 … -0.103708 0.378766], [-1.65795 -1.06497 … -1.12727 -1.13279; 0.0 1.03543 … 0.508927 -0.119713; … ; 0.0 0.0 … 0.852255 0.564048; 0.0 0.0 … 0.0 1.01409])"
      ]
     },
     "execution_count": 18,
     "metadata": {},
     "output_type": "execute_result"
    }
   ],
   "source": [
    "Q1,R1=qr(A,thin=true)"
   ]
  },
  {
   "cell_type": "code",
   "execution_count": 19,
   "metadata": {},
   "outputs": [
    {
     "data": {
      "text/plain": [
       "([-0.265024 -0.332724 … 0.375052 -0.482253; -0.297844 -0.342731 … 0.3631 -0.114991; … ; -0.48584 -0.103508 … -0.330933 0.398917; -0.336308 -0.330821 … -0.0584808 0.274743], [-1.65795 -1.13279 … -1.03211 -1.12727; 0.0 -1.19353 … -0.175088 -0.332363; … ; 0.0 0.0 … -0.788784 0.177502; 0.0 0.0 … 0.0 -0.744798], [1, 5, 2, 3, 4])"
      ]
     },
     "execution_count": 19,
     "metadata": {},
     "output_type": "execute_result"
    }
   ],
   "source": [
    "Q2,R2,P2=qr(A,Val{true})"
   ]
  },
  {
   "cell_type": "code",
   "execution_count": 20,
   "metadata": {},
   "outputs": [
    {
     "data": {
      "text/plain": [
       "8×5 Array{Float64,2}:\n",
       " -1.11022e-16  -1.11022e-16   0.0          -2.08167e-17  -1.11022e-16\n",
       "  5.55112e-17  -1.11022e-16   0.0          -1.38778e-17   0.0        \n",
       "  0.0           0.0           1.11022e-16   5.55112e-17   0.0        \n",
       "  0.0           0.0           0.0          -5.55112e-17   5.55112e-17\n",
       "  0.0          -2.77556e-17  -1.11022e-16   0.0           0.0        \n",
       " -1.11022e-16  -7.11237e-17  -1.11022e-16  -2.77556e-17   1.11022e-16\n",
       "  0.0           0.0          -5.55112e-17  -1.11022e-16  -8.32667e-17\n",
       "  0.0           0.0          -6.245e-17    -5.55112e-17  -6.93889e-17"
      ]
     },
     "execution_count": 20,
     "metadata": {},
     "output_type": "execute_result"
    }
   ],
   "source": [
    "Q2*R2-A[:,P2]"
   ]
  },
  {
   "cell_type": "markdown",
   "metadata": {
    "collapsed": true
   },
   "source": [
    "## Brzina\n",
    "\n",
    "Broj računskih operacija potrebnih za računanje QR rastava matrice $n\\times n$ je $O\\big(\\frac{4}{3}n^3\\big)$ za računanje matrice $R$ i  $O\\big(\\frac{4}{3}n^3\\big)$ za računanje matrice $Q$. \n"
   ]
  },
  {
   "cell_type": "code",
   "execution_count": 21,
   "metadata": {},
   "outputs": [
    {
     "data": {
      "text/plain": [
       "1024×1024 Array{Float64,2}:\n",
       " 0.866605   0.0779306   0.0615603  …  0.199131   0.19816     0.397063 \n",
       " 0.0529084  0.994249    0.159189      0.158162   0.298178    0.172508 \n",
       " 0.0994712  0.15845     0.460838      0.329061   0.766573    0.525905 \n",
       " 0.99793    0.830524    0.324872      0.861037   0.842216    0.754014 \n",
       " 0.588075   0.347994    0.647997      0.798834   0.46645     0.878832 \n",
       " 0.135255   0.662728    0.854228   …  0.686863   0.57091     0.732182 \n",
       " 0.332294   0.591219    0.829191      0.540038   0.844334    0.246814 \n",
       " 0.538261   0.289151    0.539448      0.52202    0.701769    0.458236 \n",
       " 0.947333   0.634147    0.451286      0.191489   0.0831428   0.538249 \n",
       " 0.104962   0.307512    0.542109      0.724294   0.663922    0.0999618\n",
       " 0.679028   0.426258    0.989972   …  0.612185   0.311797    0.609606 \n",
       " 0.527374   0.797792    0.290373      0.250077   0.583373    0.0140398\n",
       " 0.054275   0.303273    0.986941      0.921986   0.634162    0.823629 \n",
       " ⋮                                 ⋱                                  \n",
       " 0.403379   0.666379    0.88261       0.609195   0.286923    0.752541 \n",
       " 0.254272   0.534447    0.568413      0.0895236  0.744952    0.953146 \n",
       " 0.312307   0.726771    0.799201      0.479594   0.606886    0.18957  \n",
       " 0.319395   0.611435    0.0316707  …  0.658932   0.536265    0.701988 \n",
       " 0.685751   0.795362    0.428322      0.526356   0.0478972   0.763508 \n",
       " 0.688809   0.266478    0.815836      0.61398    0.762312    0.439835 \n",
       " 0.155128   0.234344    0.0118967     0.81822    0.239991    0.48089  \n",
       " 0.349063   0.0900684   0.33033       0.066536   0.592122    0.211169 \n",
       " 0.446421   0.123781    0.635075   …  0.20363    0.0700581   0.053543 \n",
       " 0.297052   0.00137046  0.464848      0.285539   0.00991843  0.214299 \n",
       " 0.736328   0.963483    0.494411      0.319645   0.0375206   0.799171 \n",
       " 0.82406    0.173736    0.48199       0.702295   0.913527    0.0126503"
      ]
     },
     "execution_count": 21,
     "metadata": {},
     "output_type": "execute_result"
    }
   ],
   "source": [
    "n=1024\n",
    "A=rand(n,n)"
   ]
  },
  {
   "cell_type": "code",
   "execution_count": 23,
   "metadata": {},
   "outputs": [
    {
     "name": "stdout",
     "output_type": "stream",
     "text": [
      "  0.292824 seconds (37 allocations: 32.564 MiB, 2.14% gc time)\n"
     ]
    }
   ],
   "source": [
    "@time qr(A);"
   ]
  },
  {
   "cell_type": "code",
   "execution_count": 24,
   "metadata": {},
   "outputs": [
    {
     "name": "stdout",
     "output_type": "stream",
     "text": [
      "  0.579707 seconds (31 allocations: 24.565 MiB, 4.25% gc time)\n"
     ]
    }
   ],
   "source": [
    "@time qr(A,Val{true});"
   ]
  },
  {
   "cell_type": "code",
   "execution_count": 25,
   "metadata": {},
   "outputs": [
    {
     "name": "stdout",
     "output_type": "stream",
     "text": [
      " 21.528258 seconds (37.20 k allocations: 26.755 GiB, 24.55% gc time)\n"
     ]
    }
   ],
   "source": [
    "@time myHouseholderQR(A);"
   ]
  },
  {
   "cell_type": "markdown",
   "metadata": {},
   "source": [
    "## Točnost\n",
    "\n",
    "Za matrice $\\hat Q$ i $\\hat R$ izračunate Householder-ovom metodom vrijedi: \n",
    "\n",
    "\\begin{align*}\n",
    "\\hat Q^T\\hat Q& =I+E, \\qquad \\|E \\|_2\\approx \\varepsilon,\\\\ \n",
    "\\| A-\\hat Q\\hat R\\|_2& \\approx \\varepsilon\\|A\\|_2.\n",
    "\\end{align*}\n",
    "\n",
    "Također, postoji egzaktna ortogonalna matrica $Q$ za koju je \n",
    "\n",
    "$$\\| A- Q\\hat R\\|_2\\approx \\varepsilon\\|A\\|_2.\n",
    "$$"
   ]
  },
  {
   "cell_type": "code",
   "execution_count": null,
   "metadata": {
    "collapsed": true
   },
   "outputs": [],
   "source": []
  }
 ],
 "metadata": {
  "anaconda-cloud": {},
  "kernelspec": {
   "display_name": "Julia 0.6.0",
   "language": "julia",
   "name": "julia-0.6"
  },
  "language_info": {
   "file_extension": ".jl",
   "mimetype": "application/julia",
   "name": "julia",
   "version": "0.6.0"
  }
 },
 "nbformat": 4,
 "nbformat_minor": 1
}
