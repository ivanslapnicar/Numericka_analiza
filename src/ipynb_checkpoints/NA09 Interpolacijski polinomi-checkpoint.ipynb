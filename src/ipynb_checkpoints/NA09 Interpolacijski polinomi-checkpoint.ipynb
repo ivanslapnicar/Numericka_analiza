{
 "cells": [
  {
   "cell_type": "markdown",
   "metadata": {},
   "source": [
    "# Interpolacijski polinomi\n",
    "\n",
    "\n",
    "Neka je zadana $n+1$ točka\n",
    "\n",
    "$$\n",
    "T_i=(x_i,y_i), \\quad i=0,1,\\ldots,n,\\quad x_i\\neq x_j.\n",
    "$$\n",
    "\n",
    "## Standardna baza\n",
    "\n",
    "Kroz zadane točke prolazi _interpolacijski polinom_ $p_n(x)$. Koeficijenti polinoma zadovoljavaju \n",
    "sustav linearnih jednadžbi $p_n(x_i)=y_i$, $i=0,\\ldots,n$, odnosno\n",
    "\n",
    "$$\n",
    "\\begin{bmatrix} \n",
    "1 & x_0 & x_0^2 & x_0^3 & \\cdots & x_0^n \\\\\n",
    "1 & x_1 & x_1^2 & x_1^3 & \\cdots & x_1^n \\\\\n",
    "\\vdots & & & & \\vdots \\\\\n",
    "1 & x_n & x_n^2 & x_n^3 & \\cdots & x_n^n \\\\\n",
    "\\end{bmatrix}\n",
    "\\begin{bmatrix}a_0\\\\ a_1 \\\\ \\vdots \\\\ a_n\\end{bmatrix}\n",
    "=\\begin{bmatrix} y_0 \\\\ y_1 \\\\ \\vdots \\\\ y_n\\end{bmatrix}\n",
    "$$\n",
    "\n",
    "Matrica sustava $A$ se zove _Vandermonde-ova matrica_. Njena determinanta dana je formulom\n",
    "\n",
    "$$ \n",
    "\\mathop{\\mathrm{det}}(A)= \\prod_{0\\leq j<i\\leq n}(x_i-x_j).\n",
    "$$\n",
    "\n",
    "Kako su sve apscise različite ($x_i\\neq x_j$ za $i\\neq j$), vrijedi $\\mathop{\\mathrm{det}}(A)\\neq 0$ pa je matrica $A$ regularna i zadani sustav ima jedinstveno rješenje - dakle, \n",
    "\n",
    "> interpolacijski polinom je _jedinstven_.\n"
   ]
  },
  {
   "cell_type": "code",
   "execution_count": 1,
   "metadata": {},
   "outputs": [],
   "source": [
    "using Polynomials\n",
    "using Plots"
   ]
  },
  {
   "cell_type": "code",
   "execution_count": 2,
   "metadata": {},
   "outputs": [
    {
     "data": {
      "text/plain": [
       "0.940515000715187"
      ]
     },
     "execution_count": 2,
     "metadata": {},
     "output_type": "execute_result"
    }
   ],
   "source": [
    "# Generirajmo slučajne točke\n",
    "using Random\n",
    "Random.seed!(123)\n",
    "n=6\n",
    "x=rand(n)\n",
    "y=rand(n)\n",
    "a=minimum(x)\n",
    "b=maximum(x)"
   ]
  },
  {
   "cell_type": "code",
   "execution_count": 8,
   "metadata": {},
   "outputs": [
    {
     "data": {
      "text/plain": [
       "6-element Array{Float64,1}:\n",
       " 0.7684476751965699\n",
       " 0.940515000715187 \n",
       " 0.6739586945680673\n",
       " 0.3954531123351086\n",
       " 0.3132439558075186\n",
       " 0.6625548164736534"
      ]
     },
     "execution_count": 8,
     "metadata": {},
     "output_type": "execute_result"
    }
   ],
   "source": [
    "x"
   ]
  },
  {
   "cell_type": "code",
   "execution_count": 6,
   "metadata": {},
   "outputs": [
    {
     "data": {
      "text/plain": [
       "Matrix (generic function with 1 method)"
      ]
     },
     "execution_count": 6,
     "metadata": {},
     "output_type": "execute_result"
    }
   ],
   "source": [
    "# Ova datoteka omogućuje manipulaciju s Vandermondeovim matricama\n",
    "include(\"Vandermonde.jl\")"
   ]
  },
  {
   "cell_type": "code",
   "execution_count": 7,
   "metadata": {},
   "outputs": [
    {
     "data": {
      "text/plain": [
       "6×6 Vandermonde{Float64}:\n",
       " 1.0  0.768448  0.590512   0.453777   0.348704    0.267961  \n",
       " 1.0  0.940515  0.884568   0.83195    0.782461    0.735917  \n",
       " 1.0  0.673959  0.45422    0.306126   0.206316    0.139049  \n",
       " 1.0  0.395453  0.156383   0.0618422  0.0244557   0.00967108\n",
       " 1.0  0.313244  0.0981218  0.0307361  0.00962788  0.00301588\n",
       " 1.0  0.662555  0.438979   0.290848   0.192702    0.127676  "
      ]
     },
     "execution_count": 7,
     "metadata": {},
     "output_type": "execute_result"
    }
   ],
   "source": [
    "A=Vandermonde(x)"
   ]
  },
  {
   "cell_type": "code",
   "execution_count": 9,
   "metadata": {},
   "outputs": [
    {
     "data": {
      "text/plain": [
       "6-element Array{Float64,1}:\n",
       "    461.08649192279745\n",
       "  -4416.860656642327  \n",
       "  16180.75751474636   \n",
       " -28352.751446521273  \n",
       "  23866.644576553008  \n",
       "  -7754.352137939532  "
      ]
     },
     "execution_count": 9,
     "metadata": {},
     "output_type": "execute_result"
    }
   ],
   "source": [
    "c=A\\y"
   ]
  },
  {
   "cell_type": "code",
   "execution_count": 10,
   "metadata": {},
   "outputs": [
    {
     "data": {
      "text/html": [
       "461.08649192279745 &#45; 4416.860656642327&#8729;x &#43; 16180.75751474636&#8729;x^2 &#45; 28352.751446521273&#8729;x^3 &#43; 23866.644576553008&#8729;x^4 &#45; 7754.352137939532&#8729;x^5"
      ],
      "text/latex": [
       "$461.08649192279745 - 4416.860656642327\\cdot x + 16180.75751474636\\cdot x^{2} - 28352.751446521273\\cdot x^{3} + 23866.644576553008\\cdot x^{4} - 7754.352137939532\\cdot x^{5}$"
      ],
      "text/plain": [
       "Poly(461.08649192279745 - 4416.860656642327*x + 16180.75751474636*x^2 - 28352.751446521273*x^3 + 23866.644576553008*x^4 - 7754.352137939532*x^5)"
      ]
     },
     "execution_count": 10,
     "metadata": {},
     "output_type": "execute_result"
    }
   ],
   "source": [
    "p=Poly(c)"
   ]
  },
  {
   "cell_type": "code",
   "execution_count": 5,
   "metadata": {},
   "outputs": [
    {
     "data": {
      "image/svg+xml": [
       "<?xml version=\"1.0\" encoding=\"utf-8\"?>\n",
       "<svg xmlns=\"http://www.w3.org/2000/svg\" xmlns:xlink=\"http://www.w3.org/1999/xlink\" width=\"600\" height=\"400\" viewBox=\"0 0 2400 1600\">\n",
       "<defs>\n",
       "  <clipPath id=\"clip1400\">\n",
       "    <rect x=\"0\" y=\"0\" width=\"2000\" height=\"2000\"/>\n",
       "  </clipPath>\n",
       "</defs>\n",
       "<defs>\n",
       "  <clipPath id=\"clip1401\">\n",
       "    <rect x=\"0\" y=\"0\" width=\"2400\" height=\"1600\"/>\n",
       "  </clipPath>\n",
       "</defs>\n",
       "<polygon clip-path=\"url(#clip1401)\" points=\"\n",
       "0,1600 2400,1600 2400,0 0,0 \n",
       "  \" fill=\"#ffffff\" fill-rule=\"evenodd\" fill-opacity=\"1\"/>\n",
       "<defs>\n",
       "  <clipPath id=\"clip1402\">\n",
       "    <rect x=\"480\" y=\"0\" width=\"1681\" height=\"1600\"/>\n",
       "  </clipPath>\n",
       "</defs>\n",
       "<polygon clip-path=\"url(#clip1401)\" points=\"\n",
       "161.394,1503.47 2321.26,1503.47 2321.26,47.2441 161.394,47.2441 \n",
       "  \" fill=\"#ffffff\" fill-rule=\"evenodd\" fill-opacity=\"1\"/>\n",
       "<defs>\n",
       "  <clipPath id=\"clip1403\">\n",
       "    <rect x=\"161\" y=\"47\" width=\"2161\" height=\"1457\"/>\n",
       "  </clipPath>\n",
       "</defs>\n",
       "<polyline clip-path=\"url(#clip1403)\" style=\"stroke:#000000; stroke-width:2; stroke-opacity:0.1; fill:none\" points=\"\n",
       "  179.501,1503.47 179.501,47.2441 \n",
       "  \"/>\n",
       "<polyline clip-path=\"url(#clip1403)\" style=\"stroke:#000000; stroke-width:2; stroke-opacity:0.1; fill:none\" points=\"\n",
       "  504.338,1503.47 504.338,47.2441 \n",
       "  \"/>\n",
       "<polyline clip-path=\"url(#clip1403)\" style=\"stroke:#000000; stroke-width:2; stroke-opacity:0.1; fill:none\" points=\"\n",
       "  829.175,1503.47 829.175,47.2441 \n",
       "  \"/>\n",
       "<polyline clip-path=\"url(#clip1403)\" style=\"stroke:#000000; stroke-width:2; stroke-opacity:0.1; fill:none\" points=\"\n",
       "  1154.01,1503.47 1154.01,47.2441 \n",
       "  \"/>\n",
       "<polyline clip-path=\"url(#clip1403)\" style=\"stroke:#000000; stroke-width:2; stroke-opacity:0.1; fill:none\" points=\"\n",
       "  1478.85,1503.47 1478.85,47.2441 \n",
       "  \"/>\n",
       "<polyline clip-path=\"url(#clip1403)\" style=\"stroke:#000000; stroke-width:2; stroke-opacity:0.1; fill:none\" points=\"\n",
       "  1803.69,1503.47 1803.69,47.2441 \n",
       "  \"/>\n",
       "<polyline clip-path=\"url(#clip1403)\" style=\"stroke:#000000; stroke-width:2; stroke-opacity:0.1; fill:none\" points=\"\n",
       "  2128.52,1503.47 2128.52,47.2441 \n",
       "  \"/>\n",
       "<polyline clip-path=\"url(#clip1403)\" style=\"stroke:#000000; stroke-width:2; stroke-opacity:0.1; fill:none\" points=\"\n",
       "  161.394,1339.09 2321.26,1339.09 \n",
       "  \"/>\n",
       "<polyline clip-path=\"url(#clip1403)\" style=\"stroke:#000000; stroke-width:2; stroke-opacity:0.1; fill:none\" points=\"\n",
       "  161.394,1081.77 2321.26,1081.77 \n",
       "  \"/>\n",
       "<polyline clip-path=\"url(#clip1403)\" style=\"stroke:#000000; stroke-width:2; stroke-opacity:0.1; fill:none\" points=\"\n",
       "  161.394,824.45 2321.26,824.45 \n",
       "  \"/>\n",
       "<polyline clip-path=\"url(#clip1403)\" style=\"stroke:#000000; stroke-width:2; stroke-opacity:0.1; fill:none\" points=\"\n",
       "  161.394,567.13 2321.26,567.13 \n",
       "  \"/>\n",
       "<polyline clip-path=\"url(#clip1403)\" style=\"stroke:#000000; stroke-width:2; stroke-opacity:0.1; fill:none\" points=\"\n",
       "  161.394,309.81 2321.26,309.81 \n",
       "  \"/>\n",
       "<polyline clip-path=\"url(#clip1403)\" style=\"stroke:#000000; stroke-width:2; stroke-opacity:0.1; fill:none\" points=\"\n",
       "  161.394,52.4903 2321.26,52.4903 \n",
       "  \"/>\n",
       "<polyline clip-path=\"url(#clip1401)\" style=\"stroke:#000000; stroke-width:4; stroke-opacity:1; fill:none\" points=\"\n",
       "  161.394,1503.47 2321.26,1503.47 \n",
       "  \"/>\n",
       "<polyline clip-path=\"url(#clip1401)\" style=\"stroke:#000000; stroke-width:4; stroke-opacity:1; fill:none\" points=\"\n",
       "  161.394,1503.47 161.394,47.2441 \n",
       "  \"/>\n",
       "<polyline clip-path=\"url(#clip1401)\" style=\"stroke:#000000; stroke-width:4; stroke-opacity:1; fill:none\" points=\"\n",
       "  179.501,1503.47 179.501,1481.63 \n",
       "  \"/>\n",
       "<polyline clip-path=\"url(#clip1401)\" style=\"stroke:#000000; stroke-width:4; stroke-opacity:1; fill:none\" points=\"\n",
       "  504.338,1503.47 504.338,1481.63 \n",
       "  \"/>\n",
       "<polyline clip-path=\"url(#clip1401)\" style=\"stroke:#000000; stroke-width:4; stroke-opacity:1; fill:none\" points=\"\n",
       "  829.175,1503.47 829.175,1481.63 \n",
       "  \"/>\n",
       "<polyline clip-path=\"url(#clip1401)\" style=\"stroke:#000000; stroke-width:4; stroke-opacity:1; fill:none\" points=\"\n",
       "  1154.01,1503.47 1154.01,1481.63 \n",
       "  \"/>\n",
       "<polyline clip-path=\"url(#clip1401)\" style=\"stroke:#000000; stroke-width:4; stroke-opacity:1; fill:none\" points=\"\n",
       "  1478.85,1503.47 1478.85,1481.63 \n",
       "  \"/>\n",
       "<polyline clip-path=\"url(#clip1401)\" style=\"stroke:#000000; stroke-width:4; stroke-opacity:1; fill:none\" points=\"\n",
       "  1803.69,1503.47 1803.69,1481.63 \n",
       "  \"/>\n",
       "<polyline clip-path=\"url(#clip1401)\" style=\"stroke:#000000; stroke-width:4; stroke-opacity:1; fill:none\" points=\"\n",
       "  2128.52,1503.47 2128.52,1481.63 \n",
       "  \"/>\n",
       "<polyline clip-path=\"url(#clip1401)\" style=\"stroke:#000000; stroke-width:4; stroke-opacity:1; fill:none\" points=\"\n",
       "  161.394,1339.09 193.792,1339.09 \n",
       "  \"/>\n",
       "<polyline clip-path=\"url(#clip1401)\" style=\"stroke:#000000; stroke-width:4; stroke-opacity:1; fill:none\" points=\"\n",
       "  161.394,1081.77 193.792,1081.77 \n",
       "  \"/>\n",
       "<polyline clip-path=\"url(#clip1401)\" style=\"stroke:#000000; stroke-width:4; stroke-opacity:1; fill:none\" points=\"\n",
       "  161.394,824.45 193.792,824.45 \n",
       "  \"/>\n",
       "<polyline clip-path=\"url(#clip1401)\" style=\"stroke:#000000; stroke-width:4; stroke-opacity:1; fill:none\" points=\"\n",
       "  161.394,567.13 193.792,567.13 \n",
       "  \"/>\n",
       "<polyline clip-path=\"url(#clip1401)\" style=\"stroke:#000000; stroke-width:4; stroke-opacity:1; fill:none\" points=\"\n",
       "  161.394,309.81 193.792,309.81 \n",
       "  \"/>\n",
       "<polyline clip-path=\"url(#clip1401)\" style=\"stroke:#000000; stroke-width:4; stroke-opacity:1; fill:none\" points=\"\n",
       "  161.394,52.4903 193.792,52.4903 \n",
       "  \"/>\n",
       "<g clip-path=\"url(#clip1401)\">\n",
       "<text style=\"fill:#000000; fill-opacity:1; font-family:Arial,Helvetica Neue,Helvetica,sans-serif; font-size:48px; text-anchor:middle;\" transform=\"rotate(0, 179.501, 1557.47)\" x=\"179.501\" y=\"1557.47\">0.3</text>\n",
       "</g>\n",
       "<g clip-path=\"url(#clip1401)\">\n",
       "<text style=\"fill:#000000; fill-opacity:1; font-family:Arial,Helvetica Neue,Helvetica,sans-serif; font-size:48px; text-anchor:middle;\" transform=\"rotate(0, 504.338, 1557.47)\" x=\"504.338\" y=\"1557.47\">0.4</text>\n",
       "</g>\n",
       "<g clip-path=\"url(#clip1401)\">\n",
       "<text style=\"fill:#000000; fill-opacity:1; font-family:Arial,Helvetica Neue,Helvetica,sans-serif; font-size:48px; text-anchor:middle;\" transform=\"rotate(0, 829.175, 1557.47)\" x=\"829.175\" y=\"1557.47\">0.5</text>\n",
       "</g>\n",
       "<g clip-path=\"url(#clip1401)\">\n",
       "<text style=\"fill:#000000; fill-opacity:1; font-family:Arial,Helvetica Neue,Helvetica,sans-serif; font-size:48px; text-anchor:middle;\" transform=\"rotate(0, 1154.01, 1557.47)\" x=\"1154.01\" y=\"1557.47\">0.6</text>\n",
       "</g>\n",
       "<g clip-path=\"url(#clip1401)\">\n",
       "<text style=\"fill:#000000; fill-opacity:1; font-family:Arial,Helvetica Neue,Helvetica,sans-serif; font-size:48px; text-anchor:middle;\" transform=\"rotate(0, 1478.85, 1557.47)\" x=\"1478.85\" y=\"1557.47\">0.7</text>\n",
       "</g>\n",
       "<g clip-path=\"url(#clip1401)\">\n",
       "<text style=\"fill:#000000; fill-opacity:1; font-family:Arial,Helvetica Neue,Helvetica,sans-serif; font-size:48px; text-anchor:middle;\" transform=\"rotate(0, 1803.69, 1557.47)\" x=\"1803.69\" y=\"1557.47\">0.8</text>\n",
       "</g>\n",
       "<g clip-path=\"url(#clip1401)\">\n",
       "<text style=\"fill:#000000; fill-opacity:1; font-family:Arial,Helvetica Neue,Helvetica,sans-serif; font-size:48px; text-anchor:middle;\" transform=\"rotate(0, 2128.52, 1557.47)\" x=\"2128.52\" y=\"1557.47\">0.9</text>\n",
       "</g>\n",
       "<g clip-path=\"url(#clip1401)\">\n",
       "<text style=\"fill:#000000; fill-opacity:1; font-family:Arial,Helvetica Neue,Helvetica,sans-serif; font-size:48px; text-anchor:end;\" transform=\"rotate(0, 137.394, 1356.59)\" x=\"137.394\" y=\"1356.59\">0.1</text>\n",
       "</g>\n",
       "<g clip-path=\"url(#clip1401)\">\n",
       "<text style=\"fill:#000000; fill-opacity:1; font-family:Arial,Helvetica Neue,Helvetica,sans-serif; font-size:48px; text-anchor:end;\" transform=\"rotate(0, 137.394, 1099.27)\" x=\"137.394\" y=\"1099.27\">0.2</text>\n",
       "</g>\n",
       "<g clip-path=\"url(#clip1401)\">\n",
       "<text style=\"fill:#000000; fill-opacity:1; font-family:Arial,Helvetica Neue,Helvetica,sans-serif; font-size:48px; text-anchor:end;\" transform=\"rotate(0, 137.394, 841.95)\" x=\"137.394\" y=\"841.95\">0.3</text>\n",
       "</g>\n",
       "<g clip-path=\"url(#clip1401)\">\n",
       "<text style=\"fill:#000000; fill-opacity:1; font-family:Arial,Helvetica Neue,Helvetica,sans-serif; font-size:48px; text-anchor:end;\" transform=\"rotate(0, 137.394, 584.63)\" x=\"137.394\" y=\"584.63\">0.4</text>\n",
       "</g>\n",
       "<g clip-path=\"url(#clip1401)\">\n",
       "<text style=\"fill:#000000; fill-opacity:1; font-family:Arial,Helvetica Neue,Helvetica,sans-serif; font-size:48px; text-anchor:end;\" transform=\"rotate(0, 137.394, 327.31)\" x=\"137.394\" y=\"327.31\">0.5</text>\n",
       "</g>\n",
       "<g clip-path=\"url(#clip1401)\">\n",
       "<text style=\"fill:#000000; fill-opacity:1; font-family:Arial,Helvetica Neue,Helvetica,sans-serif; font-size:48px; text-anchor:end;\" transform=\"rotate(0, 137.394, 69.9903)\" x=\"137.394\" y=\"69.9903\">0.6</text>\n",
       "</g>\n",
       "<circle clip-path=\"url(#clip1403)\" style=\"fill:#000000; stroke:none; fill-opacity:1\" cx=\"1701.19\" cy=\"88.4582\" r=\"18\"/>\n",
       "<circle clip-path=\"url(#clip1403)\" style=\"fill:#009af9; stroke:none; fill-opacity:1\" cx=\"1701.19\" cy=\"88.4582\" r=\"14\"/>\n",
       "<circle clip-path=\"url(#clip1403)\" style=\"fill:#000000; stroke:none; fill-opacity:1\" cx=\"2260.13\" cy=\"1462.26\" r=\"18\"/>\n",
       "<circle clip-path=\"url(#clip1403)\" style=\"fill:#009af9; stroke:none; fill-opacity:1\" cx=\"2260.13\" cy=\"1462.26\" r=\"14\"/>\n",
       "<circle clip-path=\"url(#clip1403)\" style=\"fill:#000000; stroke:none; fill-opacity:1\" cx=\"1394.26\" cy=\"905.147\" r=\"18\"/>\n",
       "<circle clip-path=\"url(#clip1403)\" style=\"fill:#009af9; stroke:none; fill-opacity:1\" cx=\"1394.26\" cy=\"905.147\" r=\"14\"/>\n",
       "<circle clip-path=\"url(#clip1403)\" style=\"fill:#000000; stroke:none; fill-opacity:1\" cx=\"489.568\" cy=\"1316.26\" r=\"18\"/>\n",
       "<circle clip-path=\"url(#clip1403)\" style=\"fill:#009af9; stroke:none; fill-opacity:1\" cx=\"489.568\" cy=\"1316.26\" r=\"14\"/>\n",
       "<circle clip-path=\"url(#clip1403)\" style=\"fill:#000000; stroke:none; fill-opacity:1\" cx=\"222.522\" cy=\"1175.26\" r=\"18\"/>\n",
       "<circle clip-path=\"url(#clip1403)\" style=\"fill:#009af9; stroke:none; fill-opacity:1\" cx=\"222.522\" cy=\"1175.26\" r=\"14\"/>\n",
       "<circle clip-path=\"url(#clip1403)\" style=\"fill:#000000; stroke:none; fill-opacity:1\" cx=\"1357.21\" cy=\"379.243\" r=\"18\"/>\n",
       "<circle clip-path=\"url(#clip1403)\" style=\"fill:#009af9; stroke:none; fill-opacity:1\" cx=\"1357.21\" cy=\"379.243\" r=\"14\"/>\n",
       "<polygon clip-path=\"url(#clip1401)\" points=\"\n",
       "1878.19,251.724 2249.26,251.724 2249.26,130.764 1878.19,130.764 \n",
       "  \" fill=\"#ffffff\" fill-rule=\"evenodd\" fill-opacity=\"1\"/>\n",
       "<polyline clip-path=\"url(#clip1401)\" style=\"stroke:#000000; stroke-width:4; stroke-opacity:1; fill:none\" points=\"\n",
       "  1878.19,251.724 2249.26,251.724 2249.26,130.764 1878.19,130.764 1878.19,251.724 \n",
       "  \"/>\n",
       "<circle clip-path=\"url(#clip1401)\" style=\"fill:#000000; stroke:none; fill-opacity:1\" cx=\"1986.19\" cy=\"191.244\" r=\"25\"/>\n",
       "<circle clip-path=\"url(#clip1401)\" style=\"fill:#009af9; stroke:none; fill-opacity:1\" cx=\"1986.19\" cy=\"191.244\" r=\"21\"/>\n",
       "<g clip-path=\"url(#clip1401)\">\n",
       "<text style=\"fill:#000000; fill-opacity:1; font-family:Arial,Helvetica Neue,Helvetica,sans-serif; font-size:48px; text-anchor:start;\" transform=\"rotate(0, 2070.19, 208.744)\" x=\"2070.19\" y=\"208.744\">Tocke</text>\n",
       "</g>\n",
       "</svg>\n"
      ]
     },
     "execution_count": 5,
     "metadata": {},
     "output_type": "execute_result"
    }
   ],
   "source": [
    "# Točke polinoma\n",
    "scatter(x,y,label=\"Tocke\")"
   ]
  },
  {
   "cell_type": "code",
   "execution_count": 11,
   "metadata": {},
   "outputs": [
    {
     "ename": "ErrorException",
     "evalue": "No user recipe defined for Poly{Float64}",
     "output_type": "error",
     "traceback": [
      "No user recipe defined for Poly{Float64}",
      "",
      "Stacktrace:",
      " [1] error(::String) at ./error.jl:33",
      " [2] convertToAnyVector(::Poly{Float64}, ::Dict{Symbol,Any}) at /home/jrun/.julia/packages/Plots/UQI78/src/series.jl:14",
      " [3] macro expansion at /home/jrun/.julia/packages/Plots/UQI78/src/series.jl:139 [inlined]",
      " [4] apply_recipe(::Dict{Symbol,Any}, ::Type{Plots.SliceIt}, ::Nothing, ::Poly{Float64}, ::Nothing) at /home/jrun/.julia/packages/RecipesBase/Uz5AO/src/RecipesBase.jl:275",
      " [5] _process_userrecipes(::Plots.Plot{Plots.GRBackend}, ::Dict{Symbol,Any}, ::Tuple{Poly{Float64}}) at /home/jrun/.julia/packages/Plots/UQI78/src/pipeline.jl:83",
      " [6] _plot!(::Plots.Plot{Plots.GRBackend}, ::Dict{Symbol,Any}, ::Tuple{Poly{Float64}}) at /home/jrun/.julia/packages/Plots/UQI78/src/plot.jl:178",
      " [7] #plot!#141 at /home/jrun/.julia/packages/Plots/UQI78/src/plot.jl:158 [inlined]",
      " [8] (::getfield(RecipesBase, Symbol(\"#kw##plot!\")))(::NamedTuple{(:label, :xlims, :ylims),Tuple{Array{String,1},Tuple{Int64,Int64},Tuple{Int64,Int64}}}, ::typeof(plot!), ::Plots.Plot{Plots.GRBackend}, ::Poly{Float64}) at ./none:0",
      " [9] #plot!#140(::Base.Iterators.Pairs{Symbol,Any,Tuple{Symbol,Symbol,Symbol},NamedTuple{(:label, :xlims, :ylims),Tuple{Array{String,1},Tuple{Int64,Int64},Tuple{Int64,Int64}}}}, ::Function, ::Poly{Float64}) at /home/jrun/.julia/packages/Plots/UQI78/src/plot.jl:150",
      " [10] (::getfield(RecipesBase, Symbol(\"#kw##plot!\")))(::NamedTuple{(:label, :xlims, :ylims),Tuple{Array{String,1},Tuple{Int64,Int64},Tuple{Int64,Int64}}}, ::typeof(plot!), ::Poly{Float64}) at ./none:0",
      " [11] top-level scope at In[11]:1"
     ]
    }
   ],
   "source": [
    "# Nacrtajmo polinom \n",
    "plot!(p,label=[\"Polinom\"],xlims=(0,1),ylims=(-100,100))"
   ]
  },
  {
   "cell_type": "code",
   "execution_count": 12,
   "metadata": {},
   "outputs": [
    {
     "data": {
      "image/svg+xml": [
       "<?xml version=\"1.0\" encoding=\"utf-8\"?>\n",
       "<svg xmlns=\"http://www.w3.org/2000/svg\" xmlns:xlink=\"http://www.w3.org/1999/xlink\" width=\"600\" height=\"400\" viewBox=\"0 0 2400 1600\">\n",
       "<defs>\n",
       "  <clipPath id=\"clip1600\">\n",
       "    <rect x=\"0\" y=\"0\" width=\"2000\" height=\"2000\"/>\n",
       "  </clipPath>\n",
       "</defs>\n",
       "<defs>\n",
       "  <clipPath id=\"clip1601\">\n",
       "    <rect x=\"0\" y=\"0\" width=\"2400\" height=\"1600\"/>\n",
       "  </clipPath>\n",
       "</defs>\n",
       "<polygon clip-path=\"url(#clip1601)\" points=\"\n",
       "0,1600 2400,1600 2400,0 0,0 \n",
       "  \" fill=\"#ffffff\" fill-rule=\"evenodd\" fill-opacity=\"1\"/>\n",
       "<defs>\n",
       "  <clipPath id=\"clip1602\">\n",
       "    <rect x=\"480\" y=\"0\" width=\"1681\" height=\"1600\"/>\n",
       "  </clipPath>\n",
       "</defs>\n",
       "<polygon clip-path=\"url(#clip1601)\" points=\"\n",
       "149.361,1503.47 2321.26,1503.47 2321.26,47.2441 149.361,47.2441 \n",
       "  \" fill=\"#ffffff\" fill-rule=\"evenodd\" fill-opacity=\"1\"/>\n",
       "<defs>\n",
       "  <clipPath id=\"clip1603\">\n",
       "    <rect x=\"149\" y=\"47\" width=\"2173\" height=\"1457\"/>\n",
       "  </clipPath>\n",
       "</defs>\n",
       "<polyline clip-path=\"url(#clip1603)\" style=\"stroke:#000000; stroke-width:2; stroke-opacity:0.1; fill:none\" points=\"\n",
       "  167.568,1503.47 167.568,47.2441 \n",
       "  \"/>\n",
       "<polyline clip-path=\"url(#clip1603)\" style=\"stroke:#000000; stroke-width:2; stroke-opacity:0.1; fill:none\" points=\"\n",
       "  494.215,1503.47 494.215,47.2441 \n",
       "  \"/>\n",
       "<polyline clip-path=\"url(#clip1603)\" style=\"stroke:#000000; stroke-width:2; stroke-opacity:0.1; fill:none\" points=\"\n",
       "  820.862,1503.47 820.862,47.2441 \n",
       "  \"/>\n",
       "<polyline clip-path=\"url(#clip1603)\" style=\"stroke:#000000; stroke-width:2; stroke-opacity:0.1; fill:none\" points=\"\n",
       "  1147.51,1503.47 1147.51,47.2441 \n",
       "  \"/>\n",
       "<polyline clip-path=\"url(#clip1603)\" style=\"stroke:#000000; stroke-width:2; stroke-opacity:0.1; fill:none\" points=\"\n",
       "  1474.16,1503.47 1474.16,47.2441 \n",
       "  \"/>\n",
       "<polyline clip-path=\"url(#clip1603)\" style=\"stroke:#000000; stroke-width:2; stroke-opacity:0.1; fill:none\" points=\"\n",
       "  1800.8,1503.47 1800.8,47.2441 \n",
       "  \"/>\n",
       "<polyline clip-path=\"url(#clip1603)\" style=\"stroke:#000000; stroke-width:2; stroke-opacity:0.1; fill:none\" points=\"\n",
       "  2127.45,1503.47 2127.45,47.2441 \n",
       "  \"/>\n",
       "<polyline clip-path=\"url(#clip1603)\" style=\"stroke:#000000; stroke-width:2; stroke-opacity:0.1; fill:none\" points=\"\n",
       "  149.361,1502.34 2321.26,1502.34 \n",
       "  \"/>\n",
       "<polyline clip-path=\"url(#clip1603)\" style=\"stroke:#000000; stroke-width:2; stroke-opacity:0.1; fill:none\" points=\"\n",
       "  149.361,1189.33 2321.26,1189.33 \n",
       "  \"/>\n",
       "<polyline clip-path=\"url(#clip1603)\" style=\"stroke:#000000; stroke-width:2; stroke-opacity:0.1; fill:none\" points=\"\n",
       "  149.361,876.33 2321.26,876.33 \n",
       "  \"/>\n",
       "<polyline clip-path=\"url(#clip1603)\" style=\"stroke:#000000; stroke-width:2; stroke-opacity:0.1; fill:none\" points=\"\n",
       "  149.361,563.326 2321.26,563.326 \n",
       "  \"/>\n",
       "<polyline clip-path=\"url(#clip1603)\" style=\"stroke:#000000; stroke-width:2; stroke-opacity:0.1; fill:none\" points=\"\n",
       "  149.361,250.321 2321.26,250.321 \n",
       "  \"/>\n",
       "<polyline clip-path=\"url(#clip1601)\" style=\"stroke:#000000; stroke-width:4; stroke-opacity:1; fill:none\" points=\"\n",
       "  149.361,1503.47 2321.26,1503.47 \n",
       "  \"/>\n",
       "<polyline clip-path=\"url(#clip1601)\" style=\"stroke:#000000; stroke-width:4; stroke-opacity:1; fill:none\" points=\"\n",
       "  149.361,1503.47 149.361,47.2441 \n",
       "  \"/>\n",
       "<polyline clip-path=\"url(#clip1601)\" style=\"stroke:#000000; stroke-width:4; stroke-opacity:1; fill:none\" points=\"\n",
       "  167.568,1503.47 167.568,1481.63 \n",
       "  \"/>\n",
       "<polyline clip-path=\"url(#clip1601)\" style=\"stroke:#000000; stroke-width:4; stroke-opacity:1; fill:none\" points=\"\n",
       "  494.215,1503.47 494.215,1481.63 \n",
       "  \"/>\n",
       "<polyline clip-path=\"url(#clip1601)\" style=\"stroke:#000000; stroke-width:4; stroke-opacity:1; fill:none\" points=\"\n",
       "  820.862,1503.47 820.862,1481.63 \n",
       "  \"/>\n",
       "<polyline clip-path=\"url(#clip1601)\" style=\"stroke:#000000; stroke-width:4; stroke-opacity:1; fill:none\" points=\"\n",
       "  1147.51,1503.47 1147.51,1481.63 \n",
       "  \"/>\n",
       "<polyline clip-path=\"url(#clip1601)\" style=\"stroke:#000000; stroke-width:4; stroke-opacity:1; fill:none\" points=\"\n",
       "  1474.16,1503.47 1474.16,1481.63 \n",
       "  \"/>\n",
       "<polyline clip-path=\"url(#clip1601)\" style=\"stroke:#000000; stroke-width:4; stroke-opacity:1; fill:none\" points=\"\n",
       "  1800.8,1503.47 1800.8,1481.63 \n",
       "  \"/>\n",
       "<polyline clip-path=\"url(#clip1601)\" style=\"stroke:#000000; stroke-width:4; stroke-opacity:1; fill:none\" points=\"\n",
       "  2127.45,1503.47 2127.45,1481.63 \n",
       "  \"/>\n",
       "<polyline clip-path=\"url(#clip1601)\" style=\"stroke:#000000; stroke-width:4; stroke-opacity:1; fill:none\" points=\"\n",
       "  149.361,1502.34 181.939,1502.34 \n",
       "  \"/>\n",
       "<polyline clip-path=\"url(#clip1601)\" style=\"stroke:#000000; stroke-width:4; stroke-opacity:1; fill:none\" points=\"\n",
       "  149.361,1189.33 181.939,1189.33 \n",
       "  \"/>\n",
       "<polyline clip-path=\"url(#clip1601)\" style=\"stroke:#000000; stroke-width:4; stroke-opacity:1; fill:none\" points=\"\n",
       "  149.361,876.33 181.939,876.33 \n",
       "  \"/>\n",
       "<polyline clip-path=\"url(#clip1601)\" style=\"stroke:#000000; stroke-width:4; stroke-opacity:1; fill:none\" points=\"\n",
       "  149.361,563.326 181.939,563.326 \n",
       "  \"/>\n",
       "<polyline clip-path=\"url(#clip1601)\" style=\"stroke:#000000; stroke-width:4; stroke-opacity:1; fill:none\" points=\"\n",
       "  149.361,250.321 181.939,250.321 \n",
       "  \"/>\n",
       "<g clip-path=\"url(#clip1601)\">\n",
       "<text style=\"fill:#000000; fill-opacity:1; font-family:Arial,Helvetica Neue,Helvetica,sans-serif; font-size:48px; text-anchor:middle;\" transform=\"rotate(0, 167.568, 1557.47)\" x=\"167.568\" y=\"1557.47\">0.3</text>\n",
       "</g>\n",
       "<g clip-path=\"url(#clip1601)\">\n",
       "<text style=\"fill:#000000; fill-opacity:1; font-family:Arial,Helvetica Neue,Helvetica,sans-serif; font-size:48px; text-anchor:middle;\" transform=\"rotate(0, 494.215, 1557.47)\" x=\"494.215\" y=\"1557.47\">0.4</text>\n",
       "</g>\n",
       "<g clip-path=\"url(#clip1601)\">\n",
       "<text style=\"fill:#000000; fill-opacity:1; font-family:Arial,Helvetica Neue,Helvetica,sans-serif; font-size:48px; text-anchor:middle;\" transform=\"rotate(0, 820.862, 1557.47)\" x=\"820.862\" y=\"1557.47\">0.5</text>\n",
       "</g>\n",
       "<g clip-path=\"url(#clip1601)\">\n",
       "<text style=\"fill:#000000; fill-opacity:1; font-family:Arial,Helvetica Neue,Helvetica,sans-serif; font-size:48px; text-anchor:middle;\" transform=\"rotate(0, 1147.51, 1557.47)\" x=\"1147.51\" y=\"1557.47\">0.6</text>\n",
       "</g>\n",
       "<g clip-path=\"url(#clip1601)\">\n",
       "<text style=\"fill:#000000; fill-opacity:1; font-family:Arial,Helvetica Neue,Helvetica,sans-serif; font-size:48px; text-anchor:middle;\" transform=\"rotate(0, 1474.16, 1557.47)\" x=\"1474.16\" y=\"1557.47\">0.7</text>\n",
       "</g>\n",
       "<g clip-path=\"url(#clip1601)\">\n",
       "<text style=\"fill:#000000; fill-opacity:1; font-family:Arial,Helvetica Neue,Helvetica,sans-serif; font-size:48px; text-anchor:middle;\" transform=\"rotate(0, 1800.8, 1557.47)\" x=\"1800.8\" y=\"1557.47\">0.8</text>\n",
       "</g>\n",
       "<g clip-path=\"url(#clip1601)\">\n",
       "<text style=\"fill:#000000; fill-opacity:1; font-family:Arial,Helvetica Neue,Helvetica,sans-serif; font-size:48px; text-anchor:middle;\" transform=\"rotate(0, 2127.45, 1557.47)\" x=\"2127.45\" y=\"1557.47\">0.9</text>\n",
       "</g>\n",
       "<g clip-path=\"url(#clip1601)\">\n",
       "<text style=\"fill:#000000; fill-opacity:1; font-family:Arial,Helvetica Neue,Helvetica,sans-serif; font-size:48px; text-anchor:end;\" transform=\"rotate(0, 125.361, 1519.84)\" x=\"125.361\" y=\"1519.84\">-1</text>\n",
       "</g>\n",
       "<g clip-path=\"url(#clip1601)\">\n",
       "<text style=\"fill:#000000; fill-opacity:1; font-family:Arial,Helvetica Neue,Helvetica,sans-serif; font-size:48px; text-anchor:end;\" transform=\"rotate(0, 125.361, 1206.83)\" x=\"125.361\" y=\"1206.83\">0</text>\n",
       "</g>\n",
       "<g clip-path=\"url(#clip1601)\">\n",
       "<text style=\"fill:#000000; fill-opacity:1; font-family:Arial,Helvetica Neue,Helvetica,sans-serif; font-size:48px; text-anchor:end;\" transform=\"rotate(0, 125.361, 893.83)\" x=\"125.361\" y=\"893.83\">1</text>\n",
       "</g>\n",
       "<g clip-path=\"url(#clip1601)\">\n",
       "<text style=\"fill:#000000; fill-opacity:1; font-family:Arial,Helvetica Neue,Helvetica,sans-serif; font-size:48px; text-anchor:end;\" transform=\"rotate(0, 125.361, 580.826)\" x=\"125.361\" y=\"580.826\">2</text>\n",
       "</g>\n",
       "<g clip-path=\"url(#clip1601)\">\n",
       "<text style=\"fill:#000000; fill-opacity:1; font-family:Arial,Helvetica Neue,Helvetica,sans-serif; font-size:48px; text-anchor:end;\" transform=\"rotate(0, 125.361, 267.821)\" x=\"125.361\" y=\"267.821\">3</text>\n",
       "</g>\n",
       "<polyline clip-path=\"url(#clip1603)\" style=\"stroke:#009af9; stroke-width:4; stroke-opacity:1; fill:none\" points=\"\n",
       "  210.829,1138.11 231.526,1252.17 252.223,1338.77 272.919,1400.59 293.616,1440.2 314.312,1459.99 335.009,1462.26 355.706,1449.17 376.402,1422.74 397.099,1384.89 \n",
       "  417.795,1337.43 438.492,1282.02 459.188,1220.23 479.885,1153.53 500.582,1083.26 521.278,1010.68 541.975,936.928 562.671,863.065 583.368,790.043 604.065,718.729 \n",
       "  624.761,649.901 645.458,584.25 666.154,522.386 686.851,464.84 707.547,412.064 728.244,364.439 748.941,322.276 769.637,285.814 790.334,255.233 811.03,230.648 \n",
       "  831.727,212.117 852.423,199.64 873.12,193.167 893.817,192.597 914.513,197.783 935.21,208.532 955.906,224.613 976.603,245.757 997.3,271.657 1018,301.978 \n",
       "  1038.69,336.354 1059.39,374.394 1080.09,415.682 1100.78,459.786 1121.48,506.252 1142.18,554.617 1162.87,604.403 1183.57,655.126 1204.27,706.297 1224.96,757.423 \n",
       "  1245.66,808.013 1266.36,857.582 1287.05,905.647 1307.75,951.74 1328.44,995.401 1349.14,1036.19 1369.84,1073.68 1390.53,1107.48 1411.23,1137.19 1431.93,1162.49 \n",
       "  1452.62,1183.04 1473.32,1198.56 1494.02,1208.81 1514.71,1213.57 1535.41,1212.67 1556.11,1206 1576.8,1193.49 1597.5,1175.1 1618.2,1150.88 1638.89,1120.91 \n",
       "  1659.59,1085.35 1680.29,1044.41 1700.98,998.365 1721.68,947.57 1742.38,892.447 1763.07,833.491 1783.77,771.277 1804.47,706.463 1825.16,639.788 1845.86,572.08 \n",
       "  1866.56,504.256 1887.25,437.327 1907.95,372.4 1928.65,310.681 1949.34,253.476 1970.04,202.199 1990.74,158.37 2011.43,123.621 2032.13,99.696 2052.83,88.4582 \n",
       "  2073.52,91.8891 2094.22,112.093 2114.91,151.302 2135.61,211.873 2156.31,296.299 2177,407.204 2197.7,547.353 2218.4,719.648 2239.09,927.138 2259.79,1173.02 \n",
       "  \n",
       "  \"/>\n",
       "<circle clip-path=\"url(#clip1603)\" style=\"fill:#000000; stroke:none; fill-opacity:1\" cx=\"1697.74\" cy=\"1005.91\" r=\"18\"/>\n",
       "<circle clip-path=\"url(#clip1603)\" style=\"fill:#e26f46; stroke:none; fill-opacity:1\" cx=\"1697.74\" cy=\"1005.91\" r=\"14\"/>\n",
       "<circle clip-path=\"url(#clip1603)\" style=\"fill:#000000; stroke:none; fill-opacity:1\" cx=\"2259.79\" cy=\"1173.02\" r=\"18\"/>\n",
       "<circle clip-path=\"url(#clip1603)\" style=\"fill:#e26f46; stroke:none; fill-opacity:1\" cx=\"2259.79\" cy=\"1173.02\" r=\"14\"/>\n",
       "<circle clip-path=\"url(#clip1603)\" style=\"fill:#000000; stroke:none; fill-opacity:1\" cx=\"1389.09\" cy=\"1105.25\" r=\"18\"/>\n",
       "<circle clip-path=\"url(#clip1603)\" style=\"fill:#e26f46; stroke:none; fill-opacity:1\" cx=\"1389.09\" cy=\"1105.25\" r=\"14\"/>\n",
       "<circle clip-path=\"url(#clip1603)\" style=\"fill:#000000; stroke:none; fill-opacity:1\" cx=\"479.363\" cy=\"1155.26\" r=\"18\"/>\n",
       "<circle clip-path=\"url(#clip1603)\" style=\"fill:#e26f46; stroke:none; fill-opacity:1\" cx=\"479.363\" cy=\"1155.26\" r=\"14\"/>\n",
       "<circle clip-path=\"url(#clip1603)\" style=\"fill:#000000; stroke:none; fill-opacity:1\" cx=\"210.829\" cy=\"1138.11\" r=\"18\"/>\n",
       "<circle clip-path=\"url(#clip1603)\" style=\"fill:#e26f46; stroke:none; fill-opacity:1\" cx=\"210.829\" cy=\"1138.11\" r=\"14\"/>\n",
       "<circle clip-path=\"url(#clip1603)\" style=\"fill:#000000; stroke:none; fill-opacity:1\" cx=\"1351.84\" cy=\"1041.28\" r=\"18\"/>\n",
       "<circle clip-path=\"url(#clip1603)\" style=\"fill:#e26f46; stroke:none; fill-opacity:1\" cx=\"1351.84\" cy=\"1041.28\" r=\"14\"/>\n",
       "<polygon clip-path=\"url(#clip1601)\" points=\"\n",
       "1958.43,312.204 2249.26,312.204 2249.26,130.764 1958.43,130.764 \n",
       "  \" fill=\"#ffffff\" fill-rule=\"evenodd\" fill-opacity=\"1\"/>\n",
       "<polyline clip-path=\"url(#clip1601)\" style=\"stroke:#000000; stroke-width:4; stroke-opacity:1; fill:none\" points=\"\n",
       "  1958.43,312.204 2249.26,312.204 2249.26,130.764 1958.43,130.764 1958.43,312.204 \n",
       "  \"/>\n",
       "<polyline clip-path=\"url(#clip1601)\" style=\"stroke:#009af9; stroke-width:4; stroke-opacity:1; fill:none\" points=\"\n",
       "  1982.43,191.244 2126.43,191.244 \n",
       "  \"/>\n",
       "<g clip-path=\"url(#clip1601)\">\n",
       "<text style=\"fill:#000000; fill-opacity:1; font-family:Arial,Helvetica Neue,Helvetica,sans-serif; font-size:48px; text-anchor:start;\" transform=\"rotate(0, 2150.43, 208.744)\" x=\"2150.43\" y=\"208.744\">y1</text>\n",
       "</g>\n",
       "<circle clip-path=\"url(#clip1601)\" style=\"fill:#000000; stroke:none; fill-opacity:1\" cx=\"2066.43\" cy=\"251.724\" r=\"25\"/>\n",
       "<circle clip-path=\"url(#clip1601)\" style=\"fill:#e26f46; stroke:none; fill-opacity:1\" cx=\"2066.43\" cy=\"251.724\" r=\"21\"/>\n",
       "<g clip-path=\"url(#clip1601)\">\n",
       "<text style=\"fill:#000000; fill-opacity:1; font-family:Arial,Helvetica Neue,Helvetica,sans-serif; font-size:48px; text-anchor:start;\" transform=\"rotate(0, 2150.43, 269.224)\" x=\"2150.43\" y=\"269.224\">y2</text>\n",
       "</g>\n",
       "</svg>\n"
      ]
     },
     "execution_count": 12,
     "metadata": {},
     "output_type": "execute_result"
    }
   ],
   "source": [
    "# Nacrtajmo polinom s našom funkcijom\n",
    "xx=range(a,stop=b,length=100)\n",
    "pS=polyval(p,xx)\n",
    "plot(xx,pS)\n",
    "scatter!(x,y)"
   ]
  },
  {
   "cell_type": "code",
   "execution_count": 13,
   "metadata": {},
   "outputs": [
    {
     "data": {
      "text/plain": [
       "861893.32989625"
      ]
     },
     "execution_count": 13,
     "metadata": {},
     "output_type": "execute_result"
    }
   ],
   "source": [
    "# Vandermondeova matrica ima veliku kondiciju\n",
    "using LinearAlgebra\n",
    "cond(A)"
   ]
  },
  {
   "cell_type": "markdown",
   "metadata": {},
   "source": [
    "Za rješavanje zadanog sustava standardnim putem potrebno je $O(n^3)$ računskih operacija, no postoje metode kojima se Vandermondeovi sustavi mogu riješiti s $O(n^2)$ operacija.\n",
    "\n",
    "Za izvrednjavanje polinoma u nekoj točki potrebno je $2n$ operacija (Hornerova shema).\n",
    "\n",
    "Vandermondeova matrice uglavnom imaju veliku kondiciju pa ovaj način računanja koeficijenata polinoma može biti nestabilan.\n",
    "Stoga se koriste i druge metode za računanje i izvredjavanje interpolacijskih polinoma.\n",
    "\n",
    "## Lagrangeov interpolacijski polinom\n",
    "\n",
    "Definirajmo $n+1$ polinom stupnja $n$:\n",
    "\n",
    "$$\n",
    "L_j(x)=\\prod_{\\displaystyle {i=0}\\atop {\\displaystyle i\\neq j}}^n \\frac{x-x_i}{x_j-x_i}.\n",
    "$$\n",
    "\n",
    "Vrijedi \n",
    "\n",
    "$$\n",
    "L_j(x_i)=\\begin{cases}0, \\quad i\\neq j \\\\ 1,\\quad i=j \\end{cases}\n",
    "$$\n",
    "\n",
    "pa je \n",
    "\n",
    "$$\n",
    "p_n(x)=y_0\\, L_0(x)+y_1 \\, L_1(x)+\\cdots + y_n\\,  L_n(x).\n",
    "$$\n",
    "\n",
    "Za računanje nazivnika polinoma prvi put je potrebno $O(n^2)$ operacija, ali se potom vrijednost \n",
    "$p_n(x)$ računa s $O(n)$ operacija (_objasnite kako!_). \n",
    "\n",
    "Navodimo implementaciju algoritma koja nije optimalno brza."
   ]
  },
  {
   "cell_type": "code",
   "execution_count": 14,
   "metadata": {},
   "outputs": [
    {
     "data": {
      "text/plain": [
       "L (generic function with 1 method)"
      ]
     },
     "execution_count": 14,
     "metadata": {},
     "output_type": "execute_result"
    }
   ],
   "source": [
    "L(t)=sum(y.*[prod(t .-x[[1:j-1;j+1:end]])/prod(x[j].-x[[1:j-1;j+1:end]]) \n",
    "        for j=1:n])"
   ]
  },
  {
   "cell_type": "code",
   "execution_count": 15,
   "metadata": {},
   "outputs": [],
   "source": [
    "pL=Array{Float64}(undef,length(xx))\n",
    "for i=1:length(xx)\n",
    "    pL[i]=L(xx[i])\n",
    "end"
   ]
  },
  {
   "cell_type": "code",
   "execution_count": 16,
   "metadata": {},
   "outputs": [
    {
     "data": {
      "text/plain": [
       "100-element Array{Float64,1}:\n",
       "  0.16366581948600145\n",
       " -0.2007324509228361 \n",
       " -0.4774084483260096 \n",
       " -0.6749383459019187 \n",
       " -0.8014639237229872 \n",
       " -0.8647020710175619 \n",
       " -0.8719542884318086 \n",
       " -0.830116190291611  \n",
       " -0.7456870068644734 \n",
       " -0.6247790866214116 \n",
       " -0.4731273984988569 \n",
       " -0.2960990341605527 \n",
       " -0.0987027102594526 \n",
       "  ⋮                  \n",
       "  3.4812235112573284 \n",
       "  3.5171267177465553 \n",
       "  3.506165555544255  \n",
       "  3.441615786251131  \n",
       "  3.316351365526813  \n",
       "  3.12283494082795   \n",
       "  2.8531083491463223 \n",
       "  2.4987831147469404 \n",
       "  2.051030946906131  \n",
       "  1.50057423764968   \n",
       "  0.8376765594908686 \n",
       "  0.05213316316865657"
      ]
     },
     "execution_count": 16,
     "metadata": {},
     "output_type": "execute_result"
    }
   ],
   "source": [
    "pL"
   ]
  },
  {
   "cell_type": "code",
   "execution_count": 17,
   "metadata": {},
   "outputs": [
    {
     "data": {
      "image/svg+xml": [
       "<?xml version=\"1.0\" encoding=\"utf-8\"?>\n",
       "<svg xmlns=\"http://www.w3.org/2000/svg\" xmlns:xlink=\"http://www.w3.org/1999/xlink\" width=\"600\" height=\"400\" viewBox=\"0 0 2400 1600\">\n",
       "<defs>\n",
       "  <clipPath id=\"clip1800\">\n",
       "    <rect x=\"0\" y=\"0\" width=\"2000\" height=\"2000\"/>\n",
       "  </clipPath>\n",
       "</defs>\n",
       "<defs>\n",
       "  <clipPath id=\"clip1801\">\n",
       "    <rect x=\"0\" y=\"0\" width=\"2400\" height=\"1600\"/>\n",
       "  </clipPath>\n",
       "</defs>\n",
       "<polygon clip-path=\"url(#clip1801)\" points=\"\n",
       "0,1600 2400,1600 2400,0 0,0 \n",
       "  \" fill=\"#ffffff\" fill-rule=\"evenodd\" fill-opacity=\"1\"/>\n",
       "<defs>\n",
       "  <clipPath id=\"clip1802\">\n",
       "    <rect x=\"480\" y=\"0\" width=\"1681\" height=\"1600\"/>\n",
       "  </clipPath>\n",
       "</defs>\n",
       "<polygon clip-path=\"url(#clip1801)\" points=\"\n",
       "149.361,1503.47 2321.26,1503.47 2321.26,47.2441 149.361,47.2441 \n",
       "  \" fill=\"#ffffff\" fill-rule=\"evenodd\" fill-opacity=\"1\"/>\n",
       "<defs>\n",
       "  <clipPath id=\"clip1803\">\n",
       "    <rect x=\"149\" y=\"47\" width=\"2173\" height=\"1457\"/>\n",
       "  </clipPath>\n",
       "</defs>\n",
       "<polyline clip-path=\"url(#clip1803)\" style=\"stroke:#000000; stroke-width:2; stroke-opacity:0.1; fill:none\" points=\"\n",
       "  167.568,1503.47 167.568,47.2441 \n",
       "  \"/>\n",
       "<polyline clip-path=\"url(#clip1803)\" style=\"stroke:#000000; stroke-width:2; stroke-opacity:0.1; fill:none\" points=\"\n",
       "  494.215,1503.47 494.215,47.2441 \n",
       "  \"/>\n",
       "<polyline clip-path=\"url(#clip1803)\" style=\"stroke:#000000; stroke-width:2; stroke-opacity:0.1; fill:none\" points=\"\n",
       "  820.862,1503.47 820.862,47.2441 \n",
       "  \"/>\n",
       "<polyline clip-path=\"url(#clip1803)\" style=\"stroke:#000000; stroke-width:2; stroke-opacity:0.1; fill:none\" points=\"\n",
       "  1147.51,1503.47 1147.51,47.2441 \n",
       "  \"/>\n",
       "<polyline clip-path=\"url(#clip1803)\" style=\"stroke:#000000; stroke-width:2; stroke-opacity:0.1; fill:none\" points=\"\n",
       "  1474.16,1503.47 1474.16,47.2441 \n",
       "  \"/>\n",
       "<polyline clip-path=\"url(#clip1803)\" style=\"stroke:#000000; stroke-width:2; stroke-opacity:0.1; fill:none\" points=\"\n",
       "  1800.8,1503.47 1800.8,47.2441 \n",
       "  \"/>\n",
       "<polyline clip-path=\"url(#clip1803)\" style=\"stroke:#000000; stroke-width:2; stroke-opacity:0.1; fill:none\" points=\"\n",
       "  2127.45,1503.47 2127.45,47.2441 \n",
       "  \"/>\n",
       "<polyline clip-path=\"url(#clip1803)\" style=\"stroke:#000000; stroke-width:2; stroke-opacity:0.1; fill:none\" points=\"\n",
       "  149.361,1502.34 2321.26,1502.34 \n",
       "  \"/>\n",
       "<polyline clip-path=\"url(#clip1803)\" style=\"stroke:#000000; stroke-width:2; stroke-opacity:0.1; fill:none\" points=\"\n",
       "  149.361,1189.33 2321.26,1189.33 \n",
       "  \"/>\n",
       "<polyline clip-path=\"url(#clip1803)\" style=\"stroke:#000000; stroke-width:2; stroke-opacity:0.1; fill:none\" points=\"\n",
       "  149.361,876.33 2321.26,876.33 \n",
       "  \"/>\n",
       "<polyline clip-path=\"url(#clip1803)\" style=\"stroke:#000000; stroke-width:2; stroke-opacity:0.1; fill:none\" points=\"\n",
       "  149.361,563.326 2321.26,563.326 \n",
       "  \"/>\n",
       "<polyline clip-path=\"url(#clip1803)\" style=\"stroke:#000000; stroke-width:2; stroke-opacity:0.1; fill:none\" points=\"\n",
       "  149.361,250.321 2321.26,250.321 \n",
       "  \"/>\n",
       "<polyline clip-path=\"url(#clip1801)\" style=\"stroke:#000000; stroke-width:4; stroke-opacity:1; fill:none\" points=\"\n",
       "  149.361,1503.47 2321.26,1503.47 \n",
       "  \"/>\n",
       "<polyline clip-path=\"url(#clip1801)\" style=\"stroke:#000000; stroke-width:4; stroke-opacity:1; fill:none\" points=\"\n",
       "  149.361,1503.47 149.361,47.2441 \n",
       "  \"/>\n",
       "<polyline clip-path=\"url(#clip1801)\" style=\"stroke:#000000; stroke-width:4; stroke-opacity:1; fill:none\" points=\"\n",
       "  167.568,1503.47 167.568,1481.63 \n",
       "  \"/>\n",
       "<polyline clip-path=\"url(#clip1801)\" style=\"stroke:#000000; stroke-width:4; stroke-opacity:1; fill:none\" points=\"\n",
       "  494.215,1503.47 494.215,1481.63 \n",
       "  \"/>\n",
       "<polyline clip-path=\"url(#clip1801)\" style=\"stroke:#000000; stroke-width:4; stroke-opacity:1; fill:none\" points=\"\n",
       "  820.862,1503.47 820.862,1481.63 \n",
       "  \"/>\n",
       "<polyline clip-path=\"url(#clip1801)\" style=\"stroke:#000000; stroke-width:4; stroke-opacity:1; fill:none\" points=\"\n",
       "  1147.51,1503.47 1147.51,1481.63 \n",
       "  \"/>\n",
       "<polyline clip-path=\"url(#clip1801)\" style=\"stroke:#000000; stroke-width:4; stroke-opacity:1; fill:none\" points=\"\n",
       "  1474.16,1503.47 1474.16,1481.63 \n",
       "  \"/>\n",
       "<polyline clip-path=\"url(#clip1801)\" style=\"stroke:#000000; stroke-width:4; stroke-opacity:1; fill:none\" points=\"\n",
       "  1800.8,1503.47 1800.8,1481.63 \n",
       "  \"/>\n",
       "<polyline clip-path=\"url(#clip1801)\" style=\"stroke:#000000; stroke-width:4; stroke-opacity:1; fill:none\" points=\"\n",
       "  2127.45,1503.47 2127.45,1481.63 \n",
       "  \"/>\n",
       "<polyline clip-path=\"url(#clip1801)\" style=\"stroke:#000000; stroke-width:4; stroke-opacity:1; fill:none\" points=\"\n",
       "  149.361,1502.34 181.939,1502.34 \n",
       "  \"/>\n",
       "<polyline clip-path=\"url(#clip1801)\" style=\"stroke:#000000; stroke-width:4; stroke-opacity:1; fill:none\" points=\"\n",
       "  149.361,1189.33 181.939,1189.33 \n",
       "  \"/>\n",
       "<polyline clip-path=\"url(#clip1801)\" style=\"stroke:#000000; stroke-width:4; stroke-opacity:1; fill:none\" points=\"\n",
       "  149.361,876.33 181.939,876.33 \n",
       "  \"/>\n",
       "<polyline clip-path=\"url(#clip1801)\" style=\"stroke:#000000; stroke-width:4; stroke-opacity:1; fill:none\" points=\"\n",
       "  149.361,563.326 181.939,563.326 \n",
       "  \"/>\n",
       "<polyline clip-path=\"url(#clip1801)\" style=\"stroke:#000000; stroke-width:4; stroke-opacity:1; fill:none\" points=\"\n",
       "  149.361,250.321 181.939,250.321 \n",
       "  \"/>\n",
       "<g clip-path=\"url(#clip1801)\">\n",
       "<text style=\"fill:#000000; fill-opacity:1; font-family:Arial,Helvetica Neue,Helvetica,sans-serif; font-size:48px; text-anchor:middle;\" transform=\"rotate(0, 167.568, 1557.47)\" x=\"167.568\" y=\"1557.47\">0.3</text>\n",
       "</g>\n",
       "<g clip-path=\"url(#clip1801)\">\n",
       "<text style=\"fill:#000000; fill-opacity:1; font-family:Arial,Helvetica Neue,Helvetica,sans-serif; font-size:48px; text-anchor:middle;\" transform=\"rotate(0, 494.215, 1557.47)\" x=\"494.215\" y=\"1557.47\">0.4</text>\n",
       "</g>\n",
       "<g clip-path=\"url(#clip1801)\">\n",
       "<text style=\"fill:#000000; fill-opacity:1; font-family:Arial,Helvetica Neue,Helvetica,sans-serif; font-size:48px; text-anchor:middle;\" transform=\"rotate(0, 820.862, 1557.47)\" x=\"820.862\" y=\"1557.47\">0.5</text>\n",
       "</g>\n",
       "<g clip-path=\"url(#clip1801)\">\n",
       "<text style=\"fill:#000000; fill-opacity:1; font-family:Arial,Helvetica Neue,Helvetica,sans-serif; font-size:48px; text-anchor:middle;\" transform=\"rotate(0, 1147.51, 1557.47)\" x=\"1147.51\" y=\"1557.47\">0.6</text>\n",
       "</g>\n",
       "<g clip-path=\"url(#clip1801)\">\n",
       "<text style=\"fill:#000000; fill-opacity:1; font-family:Arial,Helvetica Neue,Helvetica,sans-serif; font-size:48px; text-anchor:middle;\" transform=\"rotate(0, 1474.16, 1557.47)\" x=\"1474.16\" y=\"1557.47\">0.7</text>\n",
       "</g>\n",
       "<g clip-path=\"url(#clip1801)\">\n",
       "<text style=\"fill:#000000; fill-opacity:1; font-family:Arial,Helvetica Neue,Helvetica,sans-serif; font-size:48px; text-anchor:middle;\" transform=\"rotate(0, 1800.8, 1557.47)\" x=\"1800.8\" y=\"1557.47\">0.8</text>\n",
       "</g>\n",
       "<g clip-path=\"url(#clip1801)\">\n",
       "<text style=\"fill:#000000; fill-opacity:1; font-family:Arial,Helvetica Neue,Helvetica,sans-serif; font-size:48px; text-anchor:middle;\" transform=\"rotate(0, 2127.45, 1557.47)\" x=\"2127.45\" y=\"1557.47\">0.9</text>\n",
       "</g>\n",
       "<g clip-path=\"url(#clip1801)\">\n",
       "<text style=\"fill:#000000; fill-opacity:1; font-family:Arial,Helvetica Neue,Helvetica,sans-serif; font-size:48px; text-anchor:end;\" transform=\"rotate(0, 125.361, 1519.84)\" x=\"125.361\" y=\"1519.84\">-1</text>\n",
       "</g>\n",
       "<g clip-path=\"url(#clip1801)\">\n",
       "<text style=\"fill:#000000; fill-opacity:1; font-family:Arial,Helvetica Neue,Helvetica,sans-serif; font-size:48px; text-anchor:end;\" transform=\"rotate(0, 125.361, 1206.83)\" x=\"125.361\" y=\"1206.83\">0</text>\n",
       "</g>\n",
       "<g clip-path=\"url(#clip1801)\">\n",
       "<text style=\"fill:#000000; fill-opacity:1; font-family:Arial,Helvetica Neue,Helvetica,sans-serif; font-size:48px; text-anchor:end;\" transform=\"rotate(0, 125.361, 893.83)\" x=\"125.361\" y=\"893.83\">1</text>\n",
       "</g>\n",
       "<g clip-path=\"url(#clip1801)\">\n",
       "<text style=\"fill:#000000; fill-opacity:1; font-family:Arial,Helvetica Neue,Helvetica,sans-serif; font-size:48px; text-anchor:end;\" transform=\"rotate(0, 125.361, 580.826)\" x=\"125.361\" y=\"580.826\">2</text>\n",
       "</g>\n",
       "<g clip-path=\"url(#clip1801)\">\n",
       "<text style=\"fill:#000000; fill-opacity:1; font-family:Arial,Helvetica Neue,Helvetica,sans-serif; font-size:48px; text-anchor:end;\" transform=\"rotate(0, 125.361, 267.821)\" x=\"125.361\" y=\"267.821\">3</text>\n",
       "</g>\n",
       "<polyline clip-path=\"url(#clip1803)\" style=\"stroke:#009af9; stroke-width:4; stroke-opacity:1; fill:none\" points=\"\n",
       "  210.829,1138.11 231.526,1252.17 252.223,1338.77 272.919,1400.59 293.616,1440.2 314.312,1459.99 335.009,1462.26 355.706,1449.17 376.402,1422.74 397.099,1384.89 \n",
       "  417.795,1337.43 438.492,1282.02 459.188,1220.23 479.885,1153.53 500.582,1083.26 521.278,1010.68 541.975,936.928 562.671,863.065 583.368,790.043 604.065,718.729 \n",
       "  624.761,649.901 645.458,584.25 666.154,522.386 686.851,464.84 707.547,412.064 728.244,364.439 748.941,322.276 769.637,285.814 790.334,255.233 811.03,230.648 \n",
       "  831.727,212.117 852.423,199.64 873.12,193.167 893.817,192.597 914.513,197.783 935.21,208.532 955.906,224.613 976.603,245.757 997.3,271.657 1018,301.978 \n",
       "  1038.69,336.354 1059.39,374.394 1080.09,415.682 1100.78,459.786 1121.48,506.252 1142.18,554.617 1162.87,604.403 1183.57,655.126 1204.27,706.297 1224.96,757.423 \n",
       "  1245.66,808.013 1266.36,857.582 1287.05,905.647 1307.75,951.74 1328.44,995.401 1349.14,1036.19 1369.84,1073.68 1390.53,1107.48 1411.23,1137.19 1431.93,1162.49 \n",
       "  1452.62,1183.04 1473.32,1198.56 1494.02,1208.81 1514.71,1213.57 1535.41,1212.67 1556.11,1206 1576.8,1193.49 1597.5,1175.1 1618.2,1150.88 1638.89,1120.91 \n",
       "  1659.59,1085.35 1680.29,1044.41 1700.98,998.365 1721.68,947.57 1742.38,892.447 1763.07,833.491 1783.77,771.277 1804.47,706.463 1825.16,639.788 1845.86,572.08 \n",
       "  1866.56,504.256 1887.25,437.327 1907.95,372.4 1928.65,310.681 1949.34,253.476 1970.04,202.199 1990.74,158.37 2011.43,123.621 2032.13,99.696 2052.83,88.4582 \n",
       "  2073.52,91.8891 2094.22,112.093 2114.91,151.302 2135.61,211.873 2156.31,296.299 2177,407.204 2197.7,547.353 2218.4,719.648 2239.09,927.138 2259.79,1173.02 \n",
       "  \n",
       "  \"/>\n",
       "<circle clip-path=\"url(#clip1803)\" style=\"fill:#000000; stroke:none; fill-opacity:1\" cx=\"1697.74\" cy=\"1005.91\" r=\"18\"/>\n",
       "<circle clip-path=\"url(#clip1803)\" style=\"fill:#e26f46; stroke:none; fill-opacity:1\" cx=\"1697.74\" cy=\"1005.91\" r=\"14\"/>\n",
       "<circle clip-path=\"url(#clip1803)\" style=\"fill:#000000; stroke:none; fill-opacity:1\" cx=\"2259.79\" cy=\"1173.02\" r=\"18\"/>\n",
       "<circle clip-path=\"url(#clip1803)\" style=\"fill:#e26f46; stroke:none; fill-opacity:1\" cx=\"2259.79\" cy=\"1173.02\" r=\"14\"/>\n",
       "<circle clip-path=\"url(#clip1803)\" style=\"fill:#000000; stroke:none; fill-opacity:1\" cx=\"1389.09\" cy=\"1105.25\" r=\"18\"/>\n",
       "<circle clip-path=\"url(#clip1803)\" style=\"fill:#e26f46; stroke:none; fill-opacity:1\" cx=\"1389.09\" cy=\"1105.25\" r=\"14\"/>\n",
       "<circle clip-path=\"url(#clip1803)\" style=\"fill:#000000; stroke:none; fill-opacity:1\" cx=\"479.363\" cy=\"1155.26\" r=\"18\"/>\n",
       "<circle clip-path=\"url(#clip1803)\" style=\"fill:#e26f46; stroke:none; fill-opacity:1\" cx=\"479.363\" cy=\"1155.26\" r=\"14\"/>\n",
       "<circle clip-path=\"url(#clip1803)\" style=\"fill:#000000; stroke:none; fill-opacity:1\" cx=\"210.829\" cy=\"1138.11\" r=\"18\"/>\n",
       "<circle clip-path=\"url(#clip1803)\" style=\"fill:#e26f46; stroke:none; fill-opacity:1\" cx=\"210.829\" cy=\"1138.11\" r=\"14\"/>\n",
       "<circle clip-path=\"url(#clip1803)\" style=\"fill:#000000; stroke:none; fill-opacity:1\" cx=\"1351.84\" cy=\"1041.28\" r=\"18\"/>\n",
       "<circle clip-path=\"url(#clip1803)\" style=\"fill:#e26f46; stroke:none; fill-opacity:1\" cx=\"1351.84\" cy=\"1041.28\" r=\"14\"/>\n",
       "<polygon clip-path=\"url(#clip1801)\" points=\"\n",
       "1958.43,312.204 2249.26,312.204 2249.26,130.764 1958.43,130.764 \n",
       "  \" fill=\"#ffffff\" fill-rule=\"evenodd\" fill-opacity=\"1\"/>\n",
       "<polyline clip-path=\"url(#clip1801)\" style=\"stroke:#000000; stroke-width:4; stroke-opacity:1; fill:none\" points=\"\n",
       "  1958.43,312.204 2249.26,312.204 2249.26,130.764 1958.43,130.764 1958.43,312.204 \n",
       "  \"/>\n",
       "<polyline clip-path=\"url(#clip1801)\" style=\"stroke:#009af9; stroke-width:4; stroke-opacity:1; fill:none\" points=\"\n",
       "  1982.43,191.244 2126.43,191.244 \n",
       "  \"/>\n",
       "<g clip-path=\"url(#clip1801)\">\n",
       "<text style=\"fill:#000000; fill-opacity:1; font-family:Arial,Helvetica Neue,Helvetica,sans-serif; font-size:48px; text-anchor:start;\" transform=\"rotate(0, 2150.43, 208.744)\" x=\"2150.43\" y=\"208.744\">y1</text>\n",
       "</g>\n",
       "<circle clip-path=\"url(#clip1801)\" style=\"fill:#000000; stroke:none; fill-opacity:1\" cx=\"2066.43\" cy=\"251.724\" r=\"25\"/>\n",
       "<circle clip-path=\"url(#clip1801)\" style=\"fill:#e26f46; stroke:none; fill-opacity:1\" cx=\"2066.43\" cy=\"251.724\" r=\"21\"/>\n",
       "<g clip-path=\"url(#clip1801)\">\n",
       "<text style=\"fill:#000000; fill-opacity:1; font-family:Arial,Helvetica Neue,Helvetica,sans-serif; font-size:48px; text-anchor:start;\" transform=\"rotate(0, 2150.43, 269.224)\" x=\"2150.43\" y=\"269.224\">y2</text>\n",
       "</g>\n",
       "</svg>\n"
      ]
     },
     "execution_count": 17,
     "metadata": {},
     "output_type": "execute_result"
    }
   ],
   "source": [
    "plot(xx,pL)\n",
    "scatter!(x,y)"
   ]
  },
  {
   "cell_type": "code",
   "execution_count": 18,
   "metadata": {},
   "outputs": [
    {
     "data": {
      "text/plain": [
       "3.0824232055692846e-11"
      ]
     },
     "execution_count": 18,
     "metadata": {},
     "output_type": "execute_result"
    }
   ],
   "source": [
    "norm(pS-pL,Inf)"
   ]
  },
  {
   "cell_type": "code",
   "execution_count": 19,
   "metadata": {},
   "outputs": [
    {
     "data": {
      "text/plain": [
       "3.862793521245479e-10"
      ]
     },
     "execution_count": 19,
     "metadata": {},
     "output_type": "execute_result"
    }
   ],
   "source": [
    "norm(abs.((pS-pL)./pL),Inf)"
   ]
  },
  {
   "cell_type": "markdown",
   "metadata": {},
   "source": [
    "## Newtonov interpolacijski polinom\n",
    "\n",
    "Kod ovog polinoma koristi se baza\n",
    "\n",
    "$$\n",
    "1, x-x_0, (x-x_0)(x-x_1), (x-x_0)(x-x_1)(x-x_2),\\ldots,(x-x_0)(x-x_1)\\cdots (x-x_{n-1})\n",
    "$$\n",
    "\n",
    "pa je interpolacijski polinom dan s\n",
    "\n",
    "$$\n",
    "p_n(x)=c_0 + c_1(x-x_0)+c_2(x-x_0)(x-x_1)+\\cdots +c_n(x-x_0)(x-x_1)\\cdots (x-x_{n-1}).\n",
    "$$\n",
    "\n",
    "Koeficijenti interpolacijskog polinoma su rješenje _trokutastog_ sustava jednadžbi $Lc=y$,\n",
    "\n",
    "$$\n",
    "\\begin{bmatrix} \n",
    "1 & 0 & 0 & 0 & \\cdots & 0 \\\\\n",
    "1 & x_1-x_0 & 0 & 0 & \\cdots & 0 \\\\\n",
    "1 & x_2-x_0 & (x_2-x_0)(x_2-x_1) & 0 & \\cdots & 0 \\\\\n",
    "\\vdots & & & & \\vdots \\\\\n",
    "1 & x_n-x_0 & (x_n-x_0)(x_n-x_1) & (x_n-x_0)(x_n-x_1)(x_n-x_2) & \\cdots & (x_n-x_0)\\cdots (x_n-x_{n-1}) \\\\\n",
    "\\end{bmatrix}\n",
    "\\begin{bmatrix}c_0\\\\ c_1 \\\\ c_2 \\\\\\vdots \\\\ a_n\\end{bmatrix}\n",
    "=\\begin{bmatrix} y_0 \\\\ y_1 \\\\ y_2 \\\\ \\vdots \\\\ y_n\\end{bmatrix}.\n",
    "$$\n",
    "\n",
    "Za formiranje donje trokutaste matrice $L$ potrebno je $O(n^2)$ operacija. Za računanje koeficijenata $c_0,\\ldots,c_n$ potrebno je $O(n^2)$ operacija (rješavanje donje trokutastog sustava) i to rješenje je _stabilno_.\n",
    "\n",
    "Za računanje $p_n(x)$ koristi se postupak koji je vrlo sličan Hornerovoj shemi. "
   ]
  },
  {
   "cell_type": "code",
   "execution_count": 20,
   "metadata": {},
   "outputs": [
    {
     "data": {
      "text/plain": [
       "mynewton (generic function with 1 method)"
      ]
     },
     "execution_count": 20,
     "metadata": {},
     "output_type": "execute_result"
    }
   ],
   "source": [
    "# Računanje koeficijenata c\n",
    "function mynewton(x,y)\n",
    "    n=length(x)\n",
    "    L=zeros(n,n)\n",
    "    L[:,1]=ones(n)\n",
    "    for i=2:n\n",
    "        for j=2:i\n",
    "            L[i,j]=prod([x[i]-x[k] for k=1:j-1])\n",
    "        end\n",
    "    end\n",
    "    c=L\\y\n",
    "end  "
   ]
  },
  {
   "cell_type": "code",
   "execution_count": 21,
   "metadata": {},
   "outputs": [
    {
     "data": {
      "text/plain": [
       "6-element Array{Float64,1}:\n",
       "     0.5860221243068029\n",
       "    -3.1027910704660844\n",
       "   -24.241513560242726 \n",
       "   -58.174753424508765 \n",
       "  -106.85347267240657  \n",
       " -7754.3521378646965   "
      ]
     },
     "execution_count": 21,
     "metadata": {},
     "output_type": "execute_result"
    }
   ],
   "source": [
    "c=mynewton(x,y)"
   ]
  },
  {
   "cell_type": "code",
   "execution_count": 22,
   "metadata": {},
   "outputs": [
    {
     "data": {
      "text/plain": [
       "evalnewton (generic function with 1 method)"
      ]
     },
     "execution_count": 22,
     "metadata": {},
     "output_type": "execute_result"
    }
   ],
   "source": [
    "# Računanje vrijednosti Newtonovog polinoma zadanog s točkama x i \n",
    "# koeficijentima c u točki t \n",
    "function evalnewton(c,x,t::Number)\n",
    "    p=c[end]\n",
    "    for i=length(c)-1:-1:1\n",
    "        p=p*(t-x[i])+c[i]\n",
    "    end\n",
    "    p\n",
    "end"
   ]
  },
  {
   "cell_type": "code",
   "execution_count": 23,
   "metadata": {},
   "outputs": [],
   "source": [
    "pN=Array{Float64}(undef,length(xx))\n",
    "for i=1:length(xx)\n",
    "    pN[i]=evalnewton(c,x,xx[i])\n",
    "end"
   ]
  },
  {
   "cell_type": "code",
   "execution_count": 24,
   "metadata": {},
   "outputs": [
    {
     "data": {
      "image/svg+xml": [
       "<?xml version=\"1.0\" encoding=\"utf-8\"?>\n",
       "<svg xmlns=\"http://www.w3.org/2000/svg\" xmlns:xlink=\"http://www.w3.org/1999/xlink\" width=\"600\" height=\"400\" viewBox=\"0 0 2400 1600\">\n",
       "<defs>\n",
       "  <clipPath id=\"clip2000\">\n",
       "    <rect x=\"0\" y=\"0\" width=\"2000\" height=\"2000\"/>\n",
       "  </clipPath>\n",
       "</defs>\n",
       "<defs>\n",
       "  <clipPath id=\"clip2001\">\n",
       "    <rect x=\"0\" y=\"0\" width=\"2400\" height=\"1600\"/>\n",
       "  </clipPath>\n",
       "</defs>\n",
       "<polygon clip-path=\"url(#clip2001)\" points=\"\n",
       "0,1600 2400,1600 2400,0 0,0 \n",
       "  \" fill=\"#ffffff\" fill-rule=\"evenodd\" fill-opacity=\"1\"/>\n",
       "<defs>\n",
       "  <clipPath id=\"clip2002\">\n",
       "    <rect x=\"480\" y=\"0\" width=\"1681\" height=\"1600\"/>\n",
       "  </clipPath>\n",
       "</defs>\n",
       "<polygon clip-path=\"url(#clip2001)\" points=\"\n",
       "149.361,1503.47 2321.26,1503.47 2321.26,47.2441 149.361,47.2441 \n",
       "  \" fill=\"#ffffff\" fill-rule=\"evenodd\" fill-opacity=\"1\"/>\n",
       "<defs>\n",
       "  <clipPath id=\"clip2003\">\n",
       "    <rect x=\"149\" y=\"47\" width=\"2173\" height=\"1457\"/>\n",
       "  </clipPath>\n",
       "</defs>\n",
       "<polyline clip-path=\"url(#clip2003)\" style=\"stroke:#000000; stroke-width:2; stroke-opacity:0.1; fill:none\" points=\"\n",
       "  167.568,1503.47 167.568,47.2441 \n",
       "  \"/>\n",
       "<polyline clip-path=\"url(#clip2003)\" style=\"stroke:#000000; stroke-width:2; stroke-opacity:0.1; fill:none\" points=\"\n",
       "  494.215,1503.47 494.215,47.2441 \n",
       "  \"/>\n",
       "<polyline clip-path=\"url(#clip2003)\" style=\"stroke:#000000; stroke-width:2; stroke-opacity:0.1; fill:none\" points=\"\n",
       "  820.862,1503.47 820.862,47.2441 \n",
       "  \"/>\n",
       "<polyline clip-path=\"url(#clip2003)\" style=\"stroke:#000000; stroke-width:2; stroke-opacity:0.1; fill:none\" points=\"\n",
       "  1147.51,1503.47 1147.51,47.2441 \n",
       "  \"/>\n",
       "<polyline clip-path=\"url(#clip2003)\" style=\"stroke:#000000; stroke-width:2; stroke-opacity:0.1; fill:none\" points=\"\n",
       "  1474.16,1503.47 1474.16,47.2441 \n",
       "  \"/>\n",
       "<polyline clip-path=\"url(#clip2003)\" style=\"stroke:#000000; stroke-width:2; stroke-opacity:0.1; fill:none\" points=\"\n",
       "  1800.8,1503.47 1800.8,47.2441 \n",
       "  \"/>\n",
       "<polyline clip-path=\"url(#clip2003)\" style=\"stroke:#000000; stroke-width:2; stroke-opacity:0.1; fill:none\" points=\"\n",
       "  2127.45,1503.47 2127.45,47.2441 \n",
       "  \"/>\n",
       "<polyline clip-path=\"url(#clip2003)\" style=\"stroke:#000000; stroke-width:2; stroke-opacity:0.1; fill:none\" points=\"\n",
       "  149.361,1502.34 2321.26,1502.34 \n",
       "  \"/>\n",
       "<polyline clip-path=\"url(#clip2003)\" style=\"stroke:#000000; stroke-width:2; stroke-opacity:0.1; fill:none\" points=\"\n",
       "  149.361,1189.33 2321.26,1189.33 \n",
       "  \"/>\n",
       "<polyline clip-path=\"url(#clip2003)\" style=\"stroke:#000000; stroke-width:2; stroke-opacity:0.1; fill:none\" points=\"\n",
       "  149.361,876.33 2321.26,876.33 \n",
       "  \"/>\n",
       "<polyline clip-path=\"url(#clip2003)\" style=\"stroke:#000000; stroke-width:2; stroke-opacity:0.1; fill:none\" points=\"\n",
       "  149.361,563.326 2321.26,563.326 \n",
       "  \"/>\n",
       "<polyline clip-path=\"url(#clip2003)\" style=\"stroke:#000000; stroke-width:2; stroke-opacity:0.1; fill:none\" points=\"\n",
       "  149.361,250.321 2321.26,250.321 \n",
       "  \"/>\n",
       "<polyline clip-path=\"url(#clip2001)\" style=\"stroke:#000000; stroke-width:4; stroke-opacity:1; fill:none\" points=\"\n",
       "  149.361,1503.47 2321.26,1503.47 \n",
       "  \"/>\n",
       "<polyline clip-path=\"url(#clip2001)\" style=\"stroke:#000000; stroke-width:4; stroke-opacity:1; fill:none\" points=\"\n",
       "  149.361,1503.47 149.361,47.2441 \n",
       "  \"/>\n",
       "<polyline clip-path=\"url(#clip2001)\" style=\"stroke:#000000; stroke-width:4; stroke-opacity:1; fill:none\" points=\"\n",
       "  167.568,1503.47 167.568,1481.63 \n",
       "  \"/>\n",
       "<polyline clip-path=\"url(#clip2001)\" style=\"stroke:#000000; stroke-width:4; stroke-opacity:1; fill:none\" points=\"\n",
       "  494.215,1503.47 494.215,1481.63 \n",
       "  \"/>\n",
       "<polyline clip-path=\"url(#clip2001)\" style=\"stroke:#000000; stroke-width:4; stroke-opacity:1; fill:none\" points=\"\n",
       "  820.862,1503.47 820.862,1481.63 \n",
       "  \"/>\n",
       "<polyline clip-path=\"url(#clip2001)\" style=\"stroke:#000000; stroke-width:4; stroke-opacity:1; fill:none\" points=\"\n",
       "  1147.51,1503.47 1147.51,1481.63 \n",
       "  \"/>\n",
       "<polyline clip-path=\"url(#clip2001)\" style=\"stroke:#000000; stroke-width:4; stroke-opacity:1; fill:none\" points=\"\n",
       "  1474.16,1503.47 1474.16,1481.63 \n",
       "  \"/>\n",
       "<polyline clip-path=\"url(#clip2001)\" style=\"stroke:#000000; stroke-width:4; stroke-opacity:1; fill:none\" points=\"\n",
       "  1800.8,1503.47 1800.8,1481.63 \n",
       "  \"/>\n",
       "<polyline clip-path=\"url(#clip2001)\" style=\"stroke:#000000; stroke-width:4; stroke-opacity:1; fill:none\" points=\"\n",
       "  2127.45,1503.47 2127.45,1481.63 \n",
       "  \"/>\n",
       "<polyline clip-path=\"url(#clip2001)\" style=\"stroke:#000000; stroke-width:4; stroke-opacity:1; fill:none\" points=\"\n",
       "  149.361,1502.34 181.939,1502.34 \n",
       "  \"/>\n",
       "<polyline clip-path=\"url(#clip2001)\" style=\"stroke:#000000; stroke-width:4; stroke-opacity:1; fill:none\" points=\"\n",
       "  149.361,1189.33 181.939,1189.33 \n",
       "  \"/>\n",
       "<polyline clip-path=\"url(#clip2001)\" style=\"stroke:#000000; stroke-width:4; stroke-opacity:1; fill:none\" points=\"\n",
       "  149.361,876.33 181.939,876.33 \n",
       "  \"/>\n",
       "<polyline clip-path=\"url(#clip2001)\" style=\"stroke:#000000; stroke-width:4; stroke-opacity:1; fill:none\" points=\"\n",
       "  149.361,563.326 181.939,563.326 \n",
       "  \"/>\n",
       "<polyline clip-path=\"url(#clip2001)\" style=\"stroke:#000000; stroke-width:4; stroke-opacity:1; fill:none\" points=\"\n",
       "  149.361,250.321 181.939,250.321 \n",
       "  \"/>\n",
       "<g clip-path=\"url(#clip2001)\">\n",
       "<text style=\"fill:#000000; fill-opacity:1; font-family:Arial,Helvetica Neue,Helvetica,sans-serif; font-size:48px; text-anchor:middle;\" transform=\"rotate(0, 167.568, 1557.47)\" x=\"167.568\" y=\"1557.47\">0.3</text>\n",
       "</g>\n",
       "<g clip-path=\"url(#clip2001)\">\n",
       "<text style=\"fill:#000000; fill-opacity:1; font-family:Arial,Helvetica Neue,Helvetica,sans-serif; font-size:48px; text-anchor:middle;\" transform=\"rotate(0, 494.215, 1557.47)\" x=\"494.215\" y=\"1557.47\">0.4</text>\n",
       "</g>\n",
       "<g clip-path=\"url(#clip2001)\">\n",
       "<text style=\"fill:#000000; fill-opacity:1; font-family:Arial,Helvetica Neue,Helvetica,sans-serif; font-size:48px; text-anchor:middle;\" transform=\"rotate(0, 820.862, 1557.47)\" x=\"820.862\" y=\"1557.47\">0.5</text>\n",
       "</g>\n",
       "<g clip-path=\"url(#clip2001)\">\n",
       "<text style=\"fill:#000000; fill-opacity:1; font-family:Arial,Helvetica Neue,Helvetica,sans-serif; font-size:48px; text-anchor:middle;\" transform=\"rotate(0, 1147.51, 1557.47)\" x=\"1147.51\" y=\"1557.47\">0.6</text>\n",
       "</g>\n",
       "<g clip-path=\"url(#clip2001)\">\n",
       "<text style=\"fill:#000000; fill-opacity:1; font-family:Arial,Helvetica Neue,Helvetica,sans-serif; font-size:48px; text-anchor:middle;\" transform=\"rotate(0, 1474.16, 1557.47)\" x=\"1474.16\" y=\"1557.47\">0.7</text>\n",
       "</g>\n",
       "<g clip-path=\"url(#clip2001)\">\n",
       "<text style=\"fill:#000000; fill-opacity:1; font-family:Arial,Helvetica Neue,Helvetica,sans-serif; font-size:48px; text-anchor:middle;\" transform=\"rotate(0, 1800.8, 1557.47)\" x=\"1800.8\" y=\"1557.47\">0.8</text>\n",
       "</g>\n",
       "<g clip-path=\"url(#clip2001)\">\n",
       "<text style=\"fill:#000000; fill-opacity:1; font-family:Arial,Helvetica Neue,Helvetica,sans-serif; font-size:48px; text-anchor:middle;\" transform=\"rotate(0, 2127.45, 1557.47)\" x=\"2127.45\" y=\"1557.47\">0.9</text>\n",
       "</g>\n",
       "<g clip-path=\"url(#clip2001)\">\n",
       "<text style=\"fill:#000000; fill-opacity:1; font-family:Arial,Helvetica Neue,Helvetica,sans-serif; font-size:48px; text-anchor:end;\" transform=\"rotate(0, 125.361, 1519.84)\" x=\"125.361\" y=\"1519.84\">-1</text>\n",
       "</g>\n",
       "<g clip-path=\"url(#clip2001)\">\n",
       "<text style=\"fill:#000000; fill-opacity:1; font-family:Arial,Helvetica Neue,Helvetica,sans-serif; font-size:48px; text-anchor:end;\" transform=\"rotate(0, 125.361, 1206.83)\" x=\"125.361\" y=\"1206.83\">0</text>\n",
       "</g>\n",
       "<g clip-path=\"url(#clip2001)\">\n",
       "<text style=\"fill:#000000; fill-opacity:1; font-family:Arial,Helvetica Neue,Helvetica,sans-serif; font-size:48px; text-anchor:end;\" transform=\"rotate(0, 125.361, 893.83)\" x=\"125.361\" y=\"893.83\">1</text>\n",
       "</g>\n",
       "<g clip-path=\"url(#clip2001)\">\n",
       "<text style=\"fill:#000000; fill-opacity:1; font-family:Arial,Helvetica Neue,Helvetica,sans-serif; font-size:48px; text-anchor:end;\" transform=\"rotate(0, 125.361, 580.826)\" x=\"125.361\" y=\"580.826\">2</text>\n",
       "</g>\n",
       "<g clip-path=\"url(#clip2001)\">\n",
       "<text style=\"fill:#000000; fill-opacity:1; font-family:Arial,Helvetica Neue,Helvetica,sans-serif; font-size:48px; text-anchor:end;\" transform=\"rotate(0, 125.361, 267.821)\" x=\"125.361\" y=\"267.821\">3</text>\n",
       "</g>\n",
       "<polyline clip-path=\"url(#clip2003)\" style=\"stroke:#009af9; stroke-width:4; stroke-opacity:1; fill:none\" points=\"\n",
       "  210.829,1138.11 231.526,1252.17 252.223,1338.77 272.919,1400.59 293.616,1440.2 314.312,1459.99 335.009,1462.26 355.706,1449.17 376.402,1422.74 397.099,1384.89 \n",
       "  417.795,1337.43 438.492,1282.02 459.188,1220.23 479.885,1153.53 500.582,1083.26 521.278,1010.68 541.975,936.928 562.671,863.065 583.368,790.043 604.065,718.729 \n",
       "  624.761,649.901 645.458,584.25 666.154,522.386 686.851,464.84 707.547,412.064 728.244,364.439 748.941,322.276 769.637,285.814 790.334,255.233 811.03,230.648 \n",
       "  831.727,212.117 852.423,199.64 873.12,193.167 893.817,192.597 914.513,197.783 935.21,208.532 955.906,224.613 976.603,245.757 997.3,271.657 1018,301.978 \n",
       "  1038.69,336.354 1059.39,374.394 1080.09,415.682 1100.78,459.786 1121.48,506.252 1142.18,554.617 1162.87,604.403 1183.57,655.126 1204.27,706.297 1224.96,757.423 \n",
       "  1245.66,808.013 1266.36,857.582 1287.05,905.647 1307.75,951.74 1328.44,995.401 1349.14,1036.19 1369.84,1073.68 1390.53,1107.48 1411.23,1137.19 1431.93,1162.49 \n",
       "  1452.62,1183.04 1473.32,1198.56 1494.02,1208.81 1514.71,1213.57 1535.41,1212.67 1556.11,1206 1576.8,1193.49 1597.5,1175.1 1618.2,1150.88 1638.89,1120.91 \n",
       "  1659.59,1085.35 1680.29,1044.41 1700.98,998.365 1721.68,947.57 1742.38,892.447 1763.07,833.491 1783.77,771.277 1804.47,706.463 1825.16,639.788 1845.86,572.08 \n",
       "  1866.56,504.256 1887.25,437.327 1907.95,372.4 1928.65,310.681 1949.34,253.476 1970.04,202.199 1990.74,158.37 2011.43,123.621 2032.13,99.696 2052.83,88.4582 \n",
       "  2073.52,91.8891 2094.22,112.093 2114.91,151.302 2135.61,211.873 2156.31,296.299 2177,407.204 2197.7,547.353 2218.4,719.648 2239.09,927.138 2259.79,1173.02 \n",
       "  \n",
       "  \"/>\n",
       "<circle clip-path=\"url(#clip2003)\" style=\"fill:#000000; stroke:none; fill-opacity:1\" cx=\"1697.74\" cy=\"1005.91\" r=\"18\"/>\n",
       "<circle clip-path=\"url(#clip2003)\" style=\"fill:#e26f46; stroke:none; fill-opacity:1\" cx=\"1697.74\" cy=\"1005.91\" r=\"14\"/>\n",
       "<circle clip-path=\"url(#clip2003)\" style=\"fill:#000000; stroke:none; fill-opacity:1\" cx=\"2259.79\" cy=\"1173.02\" r=\"18\"/>\n",
       "<circle clip-path=\"url(#clip2003)\" style=\"fill:#e26f46; stroke:none; fill-opacity:1\" cx=\"2259.79\" cy=\"1173.02\" r=\"14\"/>\n",
       "<circle clip-path=\"url(#clip2003)\" style=\"fill:#000000; stroke:none; fill-opacity:1\" cx=\"1389.09\" cy=\"1105.25\" r=\"18\"/>\n",
       "<circle clip-path=\"url(#clip2003)\" style=\"fill:#e26f46; stroke:none; fill-opacity:1\" cx=\"1389.09\" cy=\"1105.25\" r=\"14\"/>\n",
       "<circle clip-path=\"url(#clip2003)\" style=\"fill:#000000; stroke:none; fill-opacity:1\" cx=\"479.363\" cy=\"1155.26\" r=\"18\"/>\n",
       "<circle clip-path=\"url(#clip2003)\" style=\"fill:#e26f46; stroke:none; fill-opacity:1\" cx=\"479.363\" cy=\"1155.26\" r=\"14\"/>\n",
       "<circle clip-path=\"url(#clip2003)\" style=\"fill:#000000; stroke:none; fill-opacity:1\" cx=\"210.829\" cy=\"1138.11\" r=\"18\"/>\n",
       "<circle clip-path=\"url(#clip2003)\" style=\"fill:#e26f46; stroke:none; fill-opacity:1\" cx=\"210.829\" cy=\"1138.11\" r=\"14\"/>\n",
       "<circle clip-path=\"url(#clip2003)\" style=\"fill:#000000; stroke:none; fill-opacity:1\" cx=\"1351.84\" cy=\"1041.28\" r=\"18\"/>\n",
       "<circle clip-path=\"url(#clip2003)\" style=\"fill:#e26f46; stroke:none; fill-opacity:1\" cx=\"1351.84\" cy=\"1041.28\" r=\"14\"/>\n",
       "<polygon clip-path=\"url(#clip2001)\" points=\"\n",
       "1958.43,312.204 2249.26,312.204 2249.26,130.764 1958.43,130.764 \n",
       "  \" fill=\"#ffffff\" fill-rule=\"evenodd\" fill-opacity=\"1\"/>\n",
       "<polyline clip-path=\"url(#clip2001)\" style=\"stroke:#000000; stroke-width:4; stroke-opacity:1; fill:none\" points=\"\n",
       "  1958.43,312.204 2249.26,312.204 2249.26,130.764 1958.43,130.764 1958.43,312.204 \n",
       "  \"/>\n",
       "<polyline clip-path=\"url(#clip2001)\" style=\"stroke:#009af9; stroke-width:4; stroke-opacity:1; fill:none\" points=\"\n",
       "  1982.43,191.244 2126.43,191.244 \n",
       "  \"/>\n",
       "<g clip-path=\"url(#clip2001)\">\n",
       "<text style=\"fill:#000000; fill-opacity:1; font-family:Arial,Helvetica Neue,Helvetica,sans-serif; font-size:48px; text-anchor:start;\" transform=\"rotate(0, 2150.43, 208.744)\" x=\"2150.43\" y=\"208.744\">y1</text>\n",
       "</g>\n",
       "<circle clip-path=\"url(#clip2001)\" style=\"fill:#000000; stroke:none; fill-opacity:1\" cx=\"2066.43\" cy=\"251.724\" r=\"25\"/>\n",
       "<circle clip-path=\"url(#clip2001)\" style=\"fill:#e26f46; stroke:none; fill-opacity:1\" cx=\"2066.43\" cy=\"251.724\" r=\"21\"/>\n",
       "<g clip-path=\"url(#clip2001)\">\n",
       "<text style=\"fill:#000000; fill-opacity:1; font-family:Arial,Helvetica Neue,Helvetica,sans-serif; font-size:48px; text-anchor:start;\" transform=\"rotate(0, 2150.43, 269.224)\" x=\"2150.43\" y=\"269.224\">y2</text>\n",
       "</g>\n",
       "</svg>\n"
      ]
     },
     "execution_count": 24,
     "metadata": {},
     "output_type": "execute_result"
    }
   ],
   "source": [
    "plot(xx,pN)\n",
    "scatter!(x,y)"
   ]
  },
  {
   "cell_type": "code",
   "execution_count": 25,
   "metadata": {},
   "outputs": [
    {
     "data": {
      "text/plain": [
       "3.862626068777873e-10"
      ]
     },
     "execution_count": 25,
     "metadata": {},
     "output_type": "execute_result"
    }
   ],
   "source": [
    "norm(abs.((pS-pN)./pN),Inf)"
   ]
  },
  {
   "cell_type": "code",
   "execution_count": 26,
   "metadata": {},
   "outputs": [
    {
     "data": {
      "text/plain": [
       "1.6745246754141728e-14"
      ]
     },
     "execution_count": 26,
     "metadata": {},
     "output_type": "execute_result"
    }
   ],
   "source": [
    "norm(abs.((pL-pN)./pN),Inf)"
   ]
  },
  {
   "cell_type": "markdown",
   "metadata": {},
   "source": [
    "Vidimo da su `pN` i `pL` bliže jedan drugome nego `pS` pa zaključujemo da su zaista točniji."
   ]
  }
 ],
 "metadata": {
  "@webio": {
   "lastCommId": null,
   "lastKernelId": null
  },
  "kernelspec": {
   "display_name": "Julia 1.0.3",
   "language": "julia",
   "name": "julia-1.0"
  },
  "language_info": {
   "file_extension": ".jl",
   "mimetype": "application/julia",
   "name": "julia",
   "version": "1.0.3"
  }
 },
 "nbformat": 4,
 "nbformat_minor": 1
}
