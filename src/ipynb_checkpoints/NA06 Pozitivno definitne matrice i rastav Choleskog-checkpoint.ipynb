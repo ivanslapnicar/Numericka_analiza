{
 "cells": [
  {
   "cell_type": "markdown",
   "metadata": {},
   "source": [
    "# Pozitivno definitne matrice i rastav Choleskog\n",
    "\n",
    "\n",
    "Matrica $A$ je _pozitivno definitna_ ako je simetrična i ako su sve njene svojstvene vrijednosti pozitivne.\n",
    "\n",
    "Pozitivno definitnu matricu možemo rastaviti (bez pivotiranja) kao\n",
    "\n",
    "$$\n",
    "A=L L^T\n",
    "$$\n",
    "pri čemu je $L$ donje trokutasta matrica s pozitivnim dijagonalnim elementima. Taj rastav se zove\n",
    "_rastav Choleskog_ (vidi [Numerička matematika, poglavlje 3.6][RS04]).\n",
    "\n",
    "[RS04]: http://www.mathos.unios.hr/pim/Materijali/Num.pdf \"R. Scitovski, 'Numerička matematika', Sveučilište u Osijeku, Osijek, 2004.\""
   ]
  },
  {
   "cell_type": "code",
   "execution_count": 1,
   "metadata": {},
   "outputs": [
    {
     "data": {
      "text/plain": [
       "mychol (generic function with 1 method)"
      ]
     },
     "execution_count": 1,
     "metadata": {},
     "output_type": "execute_result"
    }
   ],
   "source": [
    "function mychol(A1::Matrix{T}) where T\n",
    "    A=deepcopy(A1)\n",
    "    n,m=size(A)\n",
    "    for k=1:n\n",
    "        A[k,k]=sqrt(A[k,k])\n",
    "        for j=k+1:n\n",
    "            A[k,j]=A[k,j]/A[k,k]\n",
    "        end\n",
    "        for j=k+1:n\n",
    "            for i=k+1:n\n",
    "                A[i,j]=A[i,j]-A[k,i]*A[k,j]\n",
    "            end\n",
    "        end\n",
    "    end\n",
    "    triu(A)\n",
    "end"
   ]
  },
  {
   "cell_type": "code",
   "execution_count": 2,
   "metadata": {},
   "outputs": [
    {
     "data": {
      "text/plain": [
       "6×6 Array{Float64,2}:\n",
       " 3.49041  2.23412  1.72977   2.15338  1.94975   2.62838\n",
       " 2.23412  2.65293  1.60981   2.31483  1.63496   2.14129\n",
       " 1.72977  1.60981  1.93672   1.66675  0.965102  1.78474\n",
       " 2.15338  2.31483  1.66675   2.39547  1.5273    1.84986\n",
       " 1.94975  1.63496  0.965102  1.5273   1.29231   1.55062\n",
       " 2.62838  2.14129  1.78474   1.84986  1.55062   2.41783"
      ]
     },
     "execution_count": 2,
     "metadata": {},
     "output_type": "execute_result"
    }
   ],
   "source": [
    "A=rand(6,6)\n",
    "A=A*A'"
   ]
  },
  {
   "cell_type": "code",
   "execution_count": 3,
   "metadata": {},
   "outputs": [
    {
     "data": {
      "text/plain": [
       "Cholesky{Float64,Array{Float64,2}}\n",
       "U factor:\n",
       "6×6 UpperTriangular{Float64,Array{Float64,2}}:\n",
       " 1.86826  1.19583  0.925871  1.15261    1.04361    1.40685  \n",
       "  ⋅       1.10586  0.454511  0.846854   0.349936   0.415002 \n",
       "  ⋅        ⋅       0.93429   0.229771  -0.171467   0.314191 \n",
       "  ⋅        ⋅        ⋅        0.544978   0.123817  -0.358425 \n",
       "  ⋅        ⋅        ⋅         ⋅         0.189713   0.186797 \n",
       "  ⋅        ⋅        ⋅         ⋅          ⋅         0.0654761"
      ]
     },
     "execution_count": 3,
     "metadata": {},
     "output_type": "execute_result"
    }
   ],
   "source": [
    "using LinearAlgebra\n",
    "L=cholesky(A)"
   ]
  },
  {
   "cell_type": "code",
   "execution_count": 4,
   "metadata": {},
   "outputs": [
    {
     "data": {
      "text/plain": [
       "6×6 UpperTriangular{Float64,Array{Float64,2}}:\n",
       " 1.86826  1.19583  0.925871  1.15261    1.04361    1.40685  \n",
       "  ⋅       1.10586  0.454511  0.846854   0.349936   0.415002 \n",
       "  ⋅        ⋅       0.93429   0.229771  -0.171467   0.314191 \n",
       "  ⋅        ⋅        ⋅        0.544978   0.123817  -0.358425 \n",
       "  ⋅        ⋅        ⋅         ⋅         0.189713   0.186797 \n",
       "  ⋅        ⋅        ⋅         ⋅          ⋅         0.0654761"
      ]
     },
     "execution_count": 4,
     "metadata": {},
     "output_type": "execute_result"
    }
   ],
   "source": [
    "# Izvadimo L iz strukture\n",
    "L=L.U"
   ]
  },
  {
   "cell_type": "code",
   "execution_count": 5,
   "metadata": {},
   "outputs": [
    {
     "data": {
      "text/plain": [
       "6×6 Array{Float64,2}:\n",
       " 4.44089e-16  0.0  0.0  0.0  0.0  4.44089e-16\n",
       " 0.0          0.0  0.0  0.0  0.0  0.0        \n",
       " 0.0          0.0  0.0  0.0  0.0  0.0        \n",
       " 0.0          0.0  0.0  0.0  0.0  0.0        \n",
       " 0.0          0.0  0.0  0.0  0.0  0.0        \n",
       " 4.44089e-16  0.0  0.0  0.0  0.0  0.0        "
      ]
     },
     "execution_count": 5,
     "metadata": {},
     "output_type": "execute_result"
    }
   ],
   "source": [
    "L'*L-A"
   ]
  },
  {
   "cell_type": "code",
   "execution_count": 6,
   "metadata": {},
   "outputs": [
    {
     "data": {
      "text/plain": [
       "6×6 Array{Float64,2}:\n",
       " 1.86826  1.19583  0.925871  1.15261    1.04361    1.40685  \n",
       " 0.0      1.10586  0.454511  0.846854   0.349936   0.415002 \n",
       " 0.0      0.0      0.93429   0.229771  -0.171467   0.314191 \n",
       " 0.0      0.0      0.0       0.544978   0.123817  -0.358425 \n",
       " 0.0      0.0      0.0       0.0        0.189713   0.186797 \n",
       " 0.0      0.0      0.0       0.0        0.0        0.0654761"
      ]
     },
     "execution_count": 6,
     "metadata": {},
     "output_type": "execute_result"
    }
   ],
   "source": [
    "L1=mychol(A)"
   ]
  },
  {
   "cell_type": "code",
   "execution_count": 7,
   "metadata": {},
   "outputs": [
    {
     "data": {
      "text/plain": [
       "6×6 Array{Float64,2}:\n",
       " 4.44089e-16  0.0   0.0          0.0           0.0          0.0        \n",
       " 0.0          0.0   0.0          0.0           0.0          0.0        \n",
       " 0.0          0.0  -2.22045e-16  0.0          -1.11022e-16  0.0        \n",
       " 0.0          0.0   0.0          0.0           2.22045e-16  0.0        \n",
       " 0.0          0.0  -1.11022e-16  2.22045e-16   2.22045e-16  0.0        \n",
       " 0.0          0.0   0.0          0.0           0.0          4.44089e-16"
      ]
     },
     "execution_count": 7,
     "metadata": {},
     "output_type": "execute_result"
    }
   ],
   "source": [
    "L1'*L1-A"
   ]
  },
  {
   "cell_type": "code",
   "execution_count": null,
   "metadata": {},
   "outputs": [],
   "source": []
  }
 ],
 "metadata": {
  "@webio": {
   "lastCommId": "0a1896e424ee4778a4cf116f76a64818",
   "lastKernelId": "ad9dbee0-076c-4b09-911b-36bcc7913b12"
  },
  "kernelspec": {
   "display_name": "Julia 1.0.3",
   "language": "julia",
   "name": "julia-1.0"
  },
  "language_info": {
   "file_extension": ".jl",
   "mimetype": "application/julia",
   "name": "julia",
   "version": "1.0.3"
  }
 },
 "nbformat": 4,
 "nbformat_minor": 1
}
