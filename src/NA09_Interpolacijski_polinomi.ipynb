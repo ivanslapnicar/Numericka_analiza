{
 "cells": [
  {
   "cell_type": "markdown",
   "metadata": {},
   "source": [
    "# Interpolacijski polinomi\n",
    "---\n",
    "\n",
    "Neka je zadana $n+1$ točka\n",
    "\n",
    "$$\n",
    "T_i=(x_i,y_i), \\quad i=0,1,\\ldots,n,\\quad x_i\\neq x_j.\n",
    "$$\n",
    "\n",
    "## Standardna baza\n",
    "\n",
    "Kroz zadane točke prolazi _interpolacijski polinom_ $p_n(x)$. Koeficijenti polinoma zadovoljavaju \n",
    "sustav linearnih jednadžbi $p_n(x_i)=y_i$, $i=0,\\ldots,n$, odnosno\n",
    "\n",
    "$$\n",
    "\\begin{bmatrix} \n",
    "1 & x_0 & x_0^2 & x_0^3 & \\cdots & x_0^n \\\\\n",
    "1 & x_1 & x_1^2 & x_1^3 & \\cdots & x_1^n \\\\\n",
    "\\vdots & & & & \\vdots \\\\\n",
    "1 & x_n & x_n^2 & x_n^3 & \\cdots & x_n^n \\\\\n",
    "\\end{bmatrix}\n",
    "\\begin{bmatrix}a_0\\\\ a_1 \\\\ \\vdots \\\\ a_n\\end{bmatrix}\n",
    "=\\begin{bmatrix} y_0 \\\\ y_1 \\\\ \\vdots \\\\ y_n\\end{bmatrix}\n",
    "$$\n",
    "\n",
    "Matrica sustava $A$ se zove _Vandermonde-ova matrica_. Njena determinanta dana je formulom\n",
    "\n",
    "$$ \n",
    "\\mathop{\\mathrm{det}}(A)= \\prod_{0\\leq j<i\\leq n}(x_i-x_j).\n",
    "$$\n",
    "\n",
    "Kako su sve apscise različite ($x_i\\neq x_j$ za $i\\neq j$), vrijedi $\\mathop{\\mathrm{det}}(A)\\neq 0$ pa je matrica $A$ regularna i zadani sustav ima jedinstveno rješenje - dakle, \n",
    "> interpolacijski polinom je __jedinstven__."
   ]
  },
  {
   "cell_type": "code",
   "execution_count": 1,
   "metadata": {},
   "outputs": [
    {
     "name": "stderr",
     "output_type": "stream",
     "text": [
      "WARNING: Method definition (::Type{SpecialMatrices.Hankel{T} where T})(Array{T, 1}) in module SpecialMatrices at C:\\Users\\Ivan\\.julia\\v0.6\\SpecialMatrices\\src\\hankel.jl:4 overwritten at C:\\Users\\Ivan\\.julia\\v0.6\\SpecialMatrices\\src\\hankel.jl:6.\n"
     ]
    }
   ],
   "source": [
    "using Polynomials\n",
    "using SpecialMatrices\n",
    "using Winston"
   ]
  },
  {
   "cell_type": "code",
   "execution_count": 2,
   "metadata": {},
   "outputs": [
    {
     "data": {
      "text/html": [
       "0.8967256253675746"
      ],
      "text/plain": [
       "0.8967256253675746"
      ]
     },
     "execution_count": 2,
     "metadata": {},
     "output_type": "execute_result"
    }
   ],
   "source": [
    "n=6\n",
    "x=rand(n)\n",
    "y=rand(n)\n",
    "a=minimum(x)\n",
    "b=maximum(x)"
   ]
  },
  {
   "cell_type": "code",
   "execution_count": 3,
   "metadata": {},
   "outputs": [
    {
     "data": {
      "text/plain": [
       "6×6 SpecialMatrices.Vandermonde{Float64}:\n",
       " 1.0  0.657613  0.432455   0.284388   0.187017     0.122985  \n",
       " 1.0  0.120551  0.0145325  0.0017519  0.000211193  2.54595e-5\n",
       " 1.0  0.557166  0.310434   0.172963   0.0963691    0.0536935 \n",
       " 1.0  0.896726  0.804117   0.721072   0.646604     0.579826  \n",
       " 1.0  0.279973  0.0783852  0.0219458  0.00614423   0.00172022\n",
       " 1.0  0.887295  0.787293   0.698561   0.61983      0.549972  "
      ]
     },
     "execution_count": 3,
     "metadata": {},
     "output_type": "execute_result"
    }
   ],
   "source": [
    "A=Vandermonde(x)"
   ]
  },
  {
   "cell_type": "code",
   "execution_count": 4,
   "metadata": {},
   "outputs": [
    {
     "data": {
      "text/plain": [
       "6-element Array{Float64,1}:\n",
       "   -13.5234\n",
       "   240.677 \n",
       " -1350.05  \n",
       "  3240.96  \n",
       " -3492.98  \n",
       "  1389.03  "
      ]
     },
     "execution_count": 4,
     "metadata": {},
     "output_type": "execute_result"
    }
   ],
   "source": [
    "c=A\\y"
   ]
  },
  {
   "cell_type": "code",
   "execution_count": 5,
   "metadata": {},
   "outputs": [
    {
     "data": {
      "text/html": [
       "&#45;13.523447822295765 &#43; 240.67742187680568&#8729;x &#45; 1350.0483471087389&#8729;x^2 &#43; 3240.958696997954&#8729;x^3 &#45; 3492.976545581457&#8729;x^4 &#43; 1389.0284176218952&#8729;x^5"
      ],
      "text/plain": [
       "Poly(-13.523447822295765 + 240.67742187680568*x - 1350.0483471087389*x^2 + 3240.958696997954*x^3 - 3492.976545581457*x^4 + 1389.0284176218952*x^5)"
      ]
     },
     "execution_count": 5,
     "metadata": {},
     "output_type": "execute_result"
    }
   ],
   "source": [
    "p=Poly(c)"
   ]
  },
  {
   "cell_type": "code",
   "execution_count": 6,
   "metadata": {},
   "outputs": [
    {
     "data": {
      "image/png": "[encoded data removed]",
      "text/plain": [
       "Winston.FramedPlot(...)"
      ]
     },
     "execution_count": 6,
     "metadata": {},
     "output_type": "execute_result"
    }
   ],
   "source": [
    "plot(x,y,\"r*\")"
   ]
  },
  {
   "cell_type": "code",
   "execution_count": 7,
   "metadata": {},
   "outputs": [
    {
     "data": {
      "image/png": "[encoded data removed]",
      "text/plain": [
       "Winston.FramedPlot(...)"
      ]
     },
     "execution_count": 7,
     "metadata": {},
     "output_type": "execute_result"
    }
   ],
   "source": [
    "xx=linspace(a,b,100)\n",
    "pS=polyval(p,xx)\n",
    "plot(x,y,\"r*\",xx,pS)"
   ]
  },
  {
   "cell_type": "markdown",
   "metadata": {},
   "source": [
    "Za rješavanje zadanog sustava standardnim putem potrebno je $O(n^3)$ računskih operacija, no postoje metode kojima se Vandermondeovi sustavi mogu riješiti s $O(n^2)$ operacija.\n",
    "\n",
    "Za izvrednjavanje polinoma u nekoj točki potrebno je $2n$ operacija (Hornerova shema).\n",
    "\n",
    "Vandermondeova matrice uglavnom imaju veliku kondiciju pa ovaj način računanja koeficijenata polinoma može biti nestabilan.\n",
    "Stoga se koriste i druge metode za računanje i izvredjavanje interpolacijskih polinoma.\n",
    "\n",
    "## Lagrange-ov interpolacijski polinom\n",
    "\n",
    "Definirajmo $n+1$ polinom stupnja $n$:\n",
    "\n",
    "$$\n",
    "L_j(x)=\\prod_{\\displaystyle {i=0}\\atop {\\displaystyle i\\neq j}}^n \\frac{x-x_i}{x_j-x_i}.\n",
    "$$\n",
    "\n",
    "Vrijedi \n",
    "\n",
    "$$\n",
    "L_j(x_i)=\\begin{cases}0, \\quad i\\neq j \\\\ 1,\\quad i=j \\end{cases}\n",
    "$$\n",
    "\n",
    "pa je \n",
    "\n",
    "$$\n",
    "p_n(x)=y_0\\, L_0(x)+y_1 \\, L_1(x)+\\cdots + y_n\\,  L_n(x).\n",
    "$$\n",
    "\n",
    "Za računanje nazivnika polinoma prvi put je potrebno $O(n^2)$ operacija, ali se potom vrijednost \n",
    "$p_n(x)$ računa s $O(n)$ operacija. \n",
    "\n",
    "Navodimo implementaciju algoritma koja nije optimalno brza."
   ]
  },
  {
   "cell_type": "code",
   "execution_count": 8,
   "metadata": {},
   "outputs": [
    {
     "data": {
      "text/html": [
       "53046.69116775885"
      ],
      "text/plain": [
       "53046.69116775885"
      ]
     },
     "execution_count": 8,
     "metadata": {},
     "output_type": "execute_result"
    }
   ],
   "source": [
    "cond(A)"
   ]
  },
  {
   "cell_type": "code",
   "execution_count": 9,
   "metadata": {},
   "outputs": [
    {
     "data": {
      "text/plain": [
       "L (generic function with 1 method)"
      ]
     },
     "execution_count": 9,
     "metadata": {},
     "output_type": "execute_result"
    }
   ],
   "source": [
    "L(t)=sum(y.*[prod(t-x[[1:j-1;j+1:end]])/prod(x[j]-x[[1:j-1;j+1:end]]) for j=1:n])"
   ]
  },
  {
   "cell_type": "code",
   "execution_count": 10,
   "metadata": {
    "collapsed": true
   },
   "outputs": [],
   "source": [
    "pL=Array{Float64}(length(xx))\n",
    "for i=1:length(xx)\n",
    "    pL[i]=L(xx[i])\n",
    "end"
   ]
  },
  {
   "cell_type": "code",
   "execution_count": 11,
   "metadata": {},
   "outputs": [
    {
     "data": {
      "image/png": "[encoded data removed]",
      "text/plain": [
       "Winston.FramedPlot(...)"
      ]
     },
     "execution_count": 11,
     "metadata": {},
     "output_type": "execute_result"
    }
   ],
   "source": [
    "plot(x,y,\"r*\",xx,pL)"
   ]
  },
  {
   "cell_type": "code",
   "execution_count": 12,
   "metadata": {},
   "outputs": [
    {
     "data": {
      "text/html": [
       "5.522249324485529e-13"
      ],
      "text/plain": [
       "5.522249324485529e-13"
      ]
     },
     "execution_count": 12,
     "metadata": {},
     "output_type": "execute_result"
    }
   ],
   "source": [
    "norm(pS-pL,Inf)"
   ]
  },
  {
   "cell_type": "code",
   "execution_count": 13,
   "metadata": {},
   "outputs": [
    {
     "data": {
      "text/html": [
       "6.706587340365199e-11"
      ],
      "text/plain": [
       "6.706587340365199e-11"
      ]
     },
     "execution_count": 13,
     "metadata": {},
     "output_type": "execute_result"
    }
   ],
   "source": [
    "norm(abs.((pS-pL)./pL),Inf)"
   ]
  },
  {
   "cell_type": "markdown",
   "metadata": {},
   "source": [
    "## Newton-ov interpolacijski polinom\n",
    "\n",
    "Kod ovog polinoma koristi se baza\n",
    "\n",
    "$$\n",
    "1, x-x_0, (x-x_0)(x-x_1), (x-x_0)(x-x_1)(x-x_2),\\ldots,(x-x_0)(x-x_1)\\cdots (x-x_{n-1})\n",
    "$$\n",
    "\n",
    "pa je interpolacijski polinom dan s\n",
    "\n",
    "$$\n",
    "p_n(x)=c_0 + c_1(x-x_0)+c_2(x-x_0)(x-x_1)+\\cdots +c_n(x-x_0)(x-x_1)\\cdots (x-x_{n-1}).\n",
    "$$\n",
    "\n",
    "Koeficijenti interpolacijskog polinoma su rješenje _trokutastog_ sustava jednadžbi $Lc=y$, odnosno\n",
    "\n",
    "$$\n",
    "\\begin{bmatrix} \n",
    "1 & 0 & 0 & 0 & \\cdots & 0 \\\\\n",
    "1 & x_1-x_0 & 0 & 0 & \\cdots & 0 \\\\\n",
    "1 & x_2-x_0 & (x_2-x_0)(x_2-x_1) & 0 & \\cdots & 0 \\\\\n",
    "\\vdots & & & & \\vdots \\\\\n",
    "1 & x_n-x_0 & (x_n-x_0)(x_n-x_1) & (x_n-x_0)(x_n-x_1)(x_n-x_2) & \\cdots & (x_n-x_0)\\cdots (x_n-x_{n-1}) \\\\\n",
    "\\end{bmatrix}\n",
    "\\begin{bmatrix}c_0\\\\ c_1 \\\\ c_2 \\\\\\vdots \\\\ a_n\\end{bmatrix}\n",
    "=\\begin{bmatrix} y_0 \\\\ y_1 \\\\ y_2 \\\\ \\vdots \\\\ y_n\\end{bmatrix}.\n",
    "$$\n",
    "\n",
    "Za formiranje donje trokutaste matrice $L$ potrebno je $O(n^2)$ operacija. Za računanje koeficijenata $c_0,\\ldots,c_n$ potrebno je $O(n^2)$ operacija (rješavanje donje trokutastog sustava) i to rješenje je __stabilno__.\n",
    "\n",
    "Za računanje $p_n(x)$ koristi se postupak koji je vrlo sličan Hornerovoj shemi. "
   ]
  },
  {
   "cell_type": "code",
   "execution_count": 14,
   "metadata": {},
   "outputs": [
    {
     "data": {
      "text/plain": [
       "mynewton (generic function with 1 method)"
      ]
     },
     "execution_count": 14,
     "metadata": {},
     "output_type": "execute_result"
    }
   ],
   "source": [
    "# Računanje koeficijenata c\n",
    "function mynewton(x,y)\n",
    "    n=length(x)\n",
    "    L=zeros(Float64,n,n)\n",
    "    L[:,1]=ones(Float64,n)\n",
    "    for i=2:n\n",
    "        for j=2:i\n",
    "            L[i,j]=prod([x[i]-x[k] for k=1:j-1])\n",
    "        end\n",
    "    end\n",
    "    c=L\\collect(y)\n",
    "end  "
   ]
  },
  {
   "cell_type": "code",
   "execution_count": 15,
   "metadata": {},
   "outputs": [
    {
     "data": {
      "text/plain": [
       "6-element Array{Float64,1}:\n",
       "    0.186619\n",
       "   -1.22841 \n",
       "    6.92627 \n",
       "  -10.9287  \n",
       "   -3.69723 \n",
       " 1389.03    "
      ]
     },
     "execution_count": 15,
     "metadata": {},
     "output_type": "execute_result"
    }
   ],
   "source": [
    "c=mynewton(x,y)"
   ]
  },
  {
   "cell_type": "code",
   "execution_count": 16,
   "metadata": {},
   "outputs": [
    {
     "data": {
      "text/plain": [
       "evalnewton (generic function with 1 method)"
      ]
     },
     "execution_count": 16,
     "metadata": {},
     "output_type": "execute_result"
    }
   ],
   "source": [
    "# Računanje vrijednosti Newtonovog polinoma zadanog s točkama c i \n",
    "# koeficijentima x u točki t \n",
    "function evalnewton(c,x,t::Number)\n",
    "    p=c[end]\n",
    "    for i=length(c)-1:-1:1\n",
    "        p=p*(t-x[i])+c[i]\n",
    "    end\n",
    "    p\n",
    "end"
   ]
  },
  {
   "cell_type": "code",
   "execution_count": 17,
   "metadata": {
    "collapsed": true
   },
   "outputs": [],
   "source": [
    "pN=Array{Float64}(length(xx))\n",
    "for i=1:length(xx)\n",
    "    pN[i]=evalnewton(c,x,xx[i])\n",
    "end"
   ]
  },
  {
   "cell_type": "code",
   "execution_count": 18,
   "metadata": {},
   "outputs": [
    {
     "data": {
      "image/png": "[encoded data removed]",
      "text/plain": [
       "Winston.FramedPlot(...)"
      ]
     },
     "execution_count": 18,
     "metadata": {},
     "output_type": "execute_result"
    }
   ],
   "source": [
    "plot(x,y,\"r*\",xx,pN)"
   ]
  },
  {
   "cell_type": "code",
   "execution_count": 19,
   "metadata": {},
   "outputs": [
    {
     "data": {
      "text/html": [
       "6.712561732730569e-11"
      ],
      "text/plain": [
       "6.712561732730569e-11"
      ]
     },
     "execution_count": 19,
     "metadata": {},
     "output_type": "execute_result"
    }
   ],
   "source": [
    "norm(abs.((pS-pN)./pN),Inf)"
   ]
  },
  {
   "cell_type": "code",
   "execution_count": 20,
   "metadata": {},
   "outputs": [
    {
     "data": {
      "text/html": [
       "5.974392364969851e-14"
      ],
      "text/plain": [
       "5.974392364969851e-14"
      ]
     },
     "execution_count": 20,
     "metadata": {},
     "output_type": "execute_result"
    }
   ],
   "source": [
    "norm(abs.((pL-pN)./pN),Inf)"
   ]
  },
  {
   "cell_type": "markdown",
   "metadata": {},
   "source": [
    "> Vidimo da su `pN` i `pL` bliže jedan drugome nego `pS` pa zaključujemo da su zaista točniji. "
   ]
  },
  {
   "cell_type": "code",
   "execution_count": null,
   "metadata": {
    "collapsed": true
   },
   "outputs": [],
   "source": []
  }
 ],
 "metadata": {
  "kernelspec": {
   "display_name": "Julia 0.6.0",
   "language": "julia",
   "name": "julia-0.6"
  },
  "language_info": {
   "file_extension": ".jl",
   "mimetype": "application/julia",
   "name": "julia",
   "version": "0.6.0"
  }
 },
 "nbformat": 4,
 "nbformat_minor": 1
}
