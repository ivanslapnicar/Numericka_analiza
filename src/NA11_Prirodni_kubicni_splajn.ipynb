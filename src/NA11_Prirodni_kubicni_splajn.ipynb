{
 "cells": [
  {
   "cell_type": "markdown",
   "metadata": {},
   "source": [
    "# Prirodni kubični splajn\n",
    "---\n",
    "\n",
    "Neka je zadana funkcija $f(x)$ na intervalu $[a,b]$.\n",
    "\n",
    "Odaberimo $n+1$ točku \n",
    "\n",
    "$$\n",
    "a\\equiv x_0<x_1<x_2<\\cdots <x_n\\equiv b\n",
    "$$ \n",
    "\n",
    "i izračunajmo vrijednosti \n",
    "\n",
    "$$\n",
    "y_i=f(x_i), \\quad i=0,1,\\ldots,n.\n",
    "$$\n",
    " \n",
    "Na intervalu $[x_{i-1},x_i]$ funkciju $f$ aproksimiramo kubičnim polinomom $C_i$, gdje je $i=1,2,\\ldots,n$, \n",
    "tako da je na intervalu $[a,b]$ funkcija $f$ aproksimirana funkcijom \n",
    "\n",
    "$$\n",
    "C(x)=C_i(x), \\quad x\\in[x_{i-1},x_i]\n",
    "$$\n",
    "\n",
    "Od funkcije $C(x)$ tražimo \n",
    "\n",
    "* __neprekidnost__,\n",
    "* __neprekidnost prve derivacije__ i\n",
    "* __neprekidnost druge derivacije__.\n",
    "\n",
    "Dakle,\n",
    "\n",
    "$$\n",
    "C_i(x_{i-1})=y_{i-1}, \\quad i=1,\\ldots,n, \\\\\n",
    "C_i(x_{i})=y_{i} \\quad i=1,\\ldots, n,\\\\\n",
    "C'_i(x_i)=C'_{i+1}(x_i), \\quad i=1,\\ldots,n-1, \\\\\n",
    "C'_i(x_i)=C'_{i+1}(x_i), \\quad i=1,\\ldots,n-1. \n",
    "$$ \n",
    "\n",
    "> Imamo sustav od $4n-2$ jednadžbe i $4n$ nepoznanica (svaki od $n$ polinoma ima 4 koeficijenta).\n",
    "\n",
    "Vrijede sljedeće tvrdnje:\n",
    "\n",
    "$$\n",
    "C_i(x)=y_{i-1}-s_{i-1}\\frac{h_i^2}{6}+b_i(x-x_{i-1})+\\frac{s_{i-1}}{6h_i}(x_i-x)^3\n",
    "+\\frac{s_i}{6h_i}(x-x_{i-1})^3,\n",
    "$$\n",
    "\n",
    "gdje je \n",
    "\n",
    "$$\n",
    "b_i=d_i-(s_i-s_{i-1})\\frac{h_i}{6},\\\\\n",
    "d_i=\\frac{y_i-y_{i-1}}{h_i},\\\\\n",
    "h_i=x_i-x_{i-1},\n",
    "$$\n",
    "\n",
    "a brojevi $s_i$, $i=0,1,\\ldots,n$ zadovoljavaju sustav jednadžbi \n",
    "\n",
    "$$\n",
    "s_{i-1}h_i+2s_i(h_i+h_{i+1})+s_{i+1}h_{i+1}=6(d_{i+1}-d_i),\\quad i=1,\\ldots,n-1.\n",
    "$$\n",
    "\n",
    "> Ukoliko zadamo $s_0$ i $s_n$, tada sustav ima __jedinstveno__ rješenje. \n",
    "\n",
    "Najčešće se zadaju __prirodni uvjeti__ \n",
    "$$\n",
    "s_0=0, \\quad s_n=0.\n",
    "$$ \n",
    "\n",
    "U tom slučaju, $s_1,\\ldots,s_{n-1}$ su rješenja sustava\n",
    "\n",
    "$$\n",
    "\\begin{bmatrix} 2(h_1+h_2) & h_2 & 0 & \\cdots & 0 & 0 \\\\\n",
    "h_2 & 2(h_2+h_3) & h_3 & \\cdots & 0 & 0 \\\\\n",
    "0 & h_3 & 2(h_3+h_4) & \\cdots & 0 & 0 \\\\\n",
    "\\vdots & \\vdots & \\vdots & \\ddots & \\vdots & \\vdots \\\\\n",
    "0 & 0 & 0 & \\cdots & 2(h_{n-2}+h_{n-1}) & h_{n-1} \\\\\n",
    "0 & 0 & 0 & \\cdots & h_{n-1}  & 2(h_{n-1}+h_{n})\\\\\n",
    "\\end{bmatrix}\n",
    "\\begin{bmatrix}\n",
    "s_1\\\\ s_2 \\\\ s_3 \\\\ \\vdots \\\\ s_{n-2} \\\\ s_{n-1}\n",
    "\\end{bmatrix}\n",
    "=\n",
    "\\begin{bmatrix}\n",
    "6(d_2-d_1)\\\\\n",
    "6(d_3-d_2)\\\\\n",
    "6(d_4-d_3) \\\\\n",
    "\\vdots \\\\\n",
    "6(d_{n-1}-d_{n-2}\\\\\n",
    "6(d_n-d_{n-1})\n",
    "\\end{bmatrix}.\n",
    "$$\n",
    "\n",
    "Dokaz se nalazi u [Numerička matematika, str. 29][RS04].\n",
    "\n",
    "[RS04]: http://www.mathos.unios.hr/pim/Materijali/Num.pdf \"R. Scitovski, 'Numerička matematika', Sveučilište u Osijeku, Osijek, 2004.\"\n",
    "\n",
    "> Matrica sustava je _tridijagonalna i pozitivno definitna_ pa se sustav može riješiti metodom Choleskog (_bez pivotiranja_) u $O(n)$ operacija. \n",
    "\n",
    "\n",
    "\n",
    "Vrijede __ocjena pogreške__:\n",
    "\n",
    "$$\n",
    "\\max |f(x)-C(x)| \\leq \\frac{5}{384} \\max h_i^4 \\\\\n",
    "\\max |f'(x)-C'(x)| \\leq \\frac{1}{24} \\max h_i^3 \\\\\n",
    "\\max |f''(x)-C''(x)| \\leq \\frac{3}{8} \\max h_i^2. \n",
    "$$ \n",
    "\n",
    "> Ocjene se mogu promatrati i na svakom intervalu posebno."
   ]
  },
  {
   "cell_type": "markdown",
   "metadata": {},
   "source": [
    "## Primjer - Interpolacija slučajnih točaka"
   ]
  },
  {
   "cell_type": "code",
   "execution_count": 2,
   "metadata": {
    "collapsed": false
   },
   "outputs": [],
   "source": [
    "using Winston\n",
    "using SpecialMatrices\n",
    "using Polynomials"
   ]
  },
  {
   "cell_type": "code",
   "execution_count": 3,
   "metadata": {
    "collapsed": false
   },
   "outputs": [
    {
     "data": {
      "text/plain": [
       "4x4 SymTridiagonal{Float64}:\n",
       " 0.192537   0.0913829  0.0       0.0     \n",
       " 0.0913829  1.31615    0.566694  0.0     \n",
       " 0.0        0.566694   1.35318   0.109898\n",
       " 0.0        0.0        0.109898  0.292888"
      ]
     },
     "execution_count": 3,
     "metadata": {},
     "output_type": "execute_result"
    }
   ],
   "source": [
    "# Broj intervala\n",
    "n=5\n",
    "x=sort(rand(n+1))\n",
    "y=rand(n+1)\n",
    "h=x[2:end]-x[1:end-1]\n",
    "d=(y[2:end]-y[1:end-1])./h\n",
    "H=SymTridiagonal(2*(h[1:end-1]+h[2:end]),h[2:end-1])"
   ]
  },
  {
   "cell_type": "code",
   "execution_count": 4,
   "metadata": {
    "collapsed": false
   },
   "outputs": [
    {
     "data": {
      "text/plain": [
       "6-element Array{Float64,1}:\n",
       "    0.0    \n",
       " 1951.27   \n",
       " -128.576  \n",
       "   -3.27915\n",
       "  407.783  \n",
       "    0.0    "
      ]
     },
     "execution_count": 4,
     "metadata": {},
     "output_type": "execute_result"
    }
   ],
   "source": [
    "b1=6*(d[2:end]-d[1:end-1])\n",
    "s=H\\b1\n",
    "s=[0;s;0]"
   ]
  },
  {
   "cell_type": "code",
   "execution_count": 5,
   "metadata": {
    "collapsed": false
   },
   "outputs": [
    {
     "data": {
      "text/plain": [
       "5-element Array{Function,1}:\n",
       " (anonymous function)\n",
       " (anonymous function)\n",
       " (anonymous function)\n",
       " (anonymous function)\n",
       " (anonymous function)"
      ]
     },
     "execution_count": 5,
     "metadata": {},
     "output_type": "execute_result"
    }
   ],
   "source": [
    "# Definirajmo polinome\n",
    "b=d-(s[2:end]-s[1:end-1]).*h/6\n",
    "C=Array(Any,n)\n",
    "C=[xx-> y[i]-s[i]*h[i]^2/6+b[i]*(xx-x[i])+s[i]*(x[i+1]-xx)^3/(6*h[i])+s[i+1]*(xx-x[i])^3/(6*h[i]) for i=1:n]"
   ]
  },
  {
   "cell_type": "code",
   "execution_count": 6,
   "metadata": {
    "collapsed": false
   },
   "outputs": [],
   "source": [
    "# definirajmo točke za crtanje\n",
    "lsize=200\n",
    "xx=linspace(x[1],x[end],lsize)\n",
    "ySpline=Array(Float64,lsize)\n",
    "for i=1:lsize\n",
    "    for k=1:n\n",
    "        if xx[i]<=x[k+1]\n",
    "            ySpline[i]=C[k](xx[i])\n",
    "            break\n",
    "        end\n",
    "    end\n",
    "end"
   ]
  },
  {
   "cell_type": "code",
   "execution_count": 7,
   "metadata": {
    "collapsed": false
   },
   "outputs": [
    {
     "data": {
      "image/png": "[encoded data removed]",
      "text/plain": [
       "Winston.FramedPlot(...)"
      ]
     },
     "execution_count": 7,
     "metadata": {},
     "output_type": "execute_result"
    }
   ],
   "source": [
    "# Crtanje\n",
    "plot(x,y,\"r*\",xx,ySpline,\"b\")"
   ]
  },
  {
   "cell_type": "markdown",
   "metadata": {},
   "source": [
    "Usporedimo splajn s interpolacijskim polinomom:"
   ]
  },
  {
   "cell_type": "code",
   "execution_count": 8,
   "metadata": {
    "collapsed": false
   },
   "outputs": [
    {
     "data": {
      "image/png": "[encoded data removed]",
      "text/plain": [
       "Winston.FramedPlot(...)"
      ]
     },
     "execution_count": 8,
     "metadata": {},
     "output_type": "execute_result"
    }
   ],
   "source": [
    "A=Vandermonde(x)\n",
    "p=Poly(full(A)\\y)\n",
    "yPoly=polyval(p,xx)\n",
    "plot(x,y,\"r*\",xx,ySpline,\"b\",xx,yPoly,\"g\")"
   ]
  },
  {
   "cell_type": "markdown",
   "metadata": {},
   "source": [
    "Usporedimo splajn s interpolacijskim polinomom kada mijenjamo jednu točku:"
   ]
  },
  {
   "cell_type": "code",
   "execution_count": 9,
   "metadata": {
    "collapsed": false
   },
   "outputs": [
    {
     "data": {
      "text/html": [
       "<script charset=\"utf-8\">(function ($, undefined) {\n",
       "\n",
       "    function createElem(tag, attr, content) {\n",
       "\t// TODO: remove jQuery dependency\n",
       "\tvar el = $(\"<\" + tag + \"/>\").attr(attr);\n",
       "\tif (content) {\n",
       "\t    el.append(content);\n",
       "\t}\n",
       "\treturn el[0];\n",
       "    }\n",
       "\n",
       "    // A widget must expose an id field which identifies it to the backend,\n",
       "    // an elem attribute which is will be added to the DOM, and\n",
       "    // a getState() method which returns the value to be sent to the backend\n",
       "    // a sendUpdate() method which sends its current value to the backend\n",
       "    var Widget = {\n",
       "\tid: undefined,\n",
       "\telem: undefined,\n",
       "\tlabel: undefined,\n",
       "\tgetState: function () {\n",
       "\t    return this.elem.value;\n",
       "\t},\n",
       "\tsendUpdate: undefined\n",
       "    };\n",
       "\n",
       "    var Slider = function (typ, id, init) {\n",
       "\tvar attr = { type:  \"range\",\n",
       "\t\t     value: init.value,\n",
       "\t\t     min:   init.min,\n",
       "\t\t     max:   init.max,\n",
       "\t\t     step:  init.step },\n",
       "\t    elem = createElem(\"input\", attr),\n",
       "\t    self = this;\n",
       "\n",
       "\telem.onchange = function () {\n",
       "\t    self.sendUpdate();\n",
       "\t}\n",
       "\n",
       "\tthis.id = id;\n",
       "\tthis.elem = elem;\n",
       "\tthis.label = init.label;\n",
       "\n",
       "\tInputWidgets.commInitializer(this); // Initialize communication\n",
       "    }\n",
       "    Slider.prototype = Widget;\n",
       "\n",
       "    var Checkbox = function (typ, id, init) {\n",
       "\tvar attr = { type: \"checkbox\",\n",
       "\t\t     checked: init.value },\n",
       "\t    elem = createElem(\"input\", attr),\n",
       "\t    self = this;\n",
       "\n",
       "\tthis.getState = function () {\n",
       "\t    return elem.checked;\n",
       "\t}\n",
       "\telem.onchange = function () {\n",
       "\t    self.sendUpdate();\n",
       "\t}\n",
       "\n",
       "\tthis.id = id;\n",
       "\tthis.elem = elem;\n",
       "\tthis.label = init.label;\n",
       "\n",
       "\tInputWidgets.commInitializer(this);\n",
       "    }\n",
       "    Checkbox.prototype = Widget;\n",
       "\n",
       "    var Button = function (typ, id, init) {\n",
       "\tvar attr = { type:    \"button\",\n",
       "\t\t     value:   init.label },\n",
       "\t    elem = createElem(\"input\", attr),\n",
       "\t    self = this;\n",
       "\tthis.getState = function () {\n",
       "\t    return null;\n",
       "\t}\n",
       "\telem.onclick = function () {\n",
       "\t    self.sendUpdate();\n",
       "\t}\n",
       "\n",
       "\tthis.id = id;\n",
       "\tthis.elem = elem;\n",
       "\tthis.label = init.label;\n",
       "\n",
       "\tInputWidgets.commInitializer(this);\n",
       "    }\n",
       "    Button.prototype = Widget;\n",
       "\n",
       "    var Text = function (typ, id, init) {\n",
       "\tvar attr = { type:  \"text\",\n",
       "\t\t     placeholder: init.label,\n",
       "\t\t     value: init.value },\n",
       "\t    elem = createElem(\"input\", attr),\n",
       "\t    self = this;\n",
       "\tthis.getState = function () {\n",
       "\t    return elem.value;\n",
       "\t}\n",
       "\telem.onkeyup = function () {\n",
       "\t    self.sendUpdate();\n",
       "\t}\n",
       "\n",
       "\tthis.id = id;\n",
       "\tthis.elem = elem;\n",
       "\tthis.label = init.label;\n",
       "\n",
       "\tInputWidgets.commInitializer(this);\n",
       "    }\n",
       "    Text.prototype = Widget;\n",
       "\n",
       "    var Textarea = function (typ, id, init) {\n",
       "\tvar attr = { placeholder: init.label },\n",
       "\t    elem = createElem(\"textarea\", attr, init.value),\n",
       "\t    self = this;\n",
       "\tthis.getState = function () {\n",
       "\t    return elem.value;\n",
       "\t}\n",
       "\telem.onchange = function () {\n",
       "\t    self.sendUpdate();\n",
       "\t}\n",
       "\n",
       "\tthis.id = id;\n",
       "\tthis.elem = elem;\n",
       "\tthis.label = init.label;\n",
       "\n",
       "\tInputWidgets.commInitializer(this);\n",
       "    }\n",
       "    Textarea.prototype = Widget;\n",
       "\n",
       "    // RadioButtons\n",
       "    // Dropdown\n",
       "    // HTML\n",
       "    // Latex\n",
       "\n",
       "    var InputWidgets = {\n",
       "\tSlider: Slider,\n",
       "\tCheckbox: Checkbox,\n",
       "\tButton: Button,\n",
       "\tText: Text,\n",
       "\tTextarea: Textarea,\n",
       "\tdebug: false,\n",
       "\tlog: function () {\n",
       "\t    if (InputWidgets.debug) {\n",
       "\t\tconsole.log.apply(console, arguments);\n",
       "\t    }\n",
       "\t},\n",
       "\t// a central way to initalize communication\n",
       "\t// for widgets.\n",
       "\tcommInitializer: function (widget) {\n",
       "\t    widget.sendUpdate = function () {};\n",
       "\t}\n",
       "    };\n",
       "\n",
       "    window.InputWidgets = InputWidgets;\n",
       "\n",
       "})(jQuery, undefined);\n",
       "</script>"
      ]
     },
     "metadata": {},
     "output_type": "display_data"
    },
    {
     "data": {
      "text/html": [
       "<div id=\"interact-js-shim\">\n",
       "    <script charset=\"utf-8\">\n",
       "(function (IPython, $, _, MathJax, Widgets) {\n",
       "    $.event.special.destroyed = {\n",
       "\tremove: function(o) {\n",
       "\t    if (o.handler) {\n",
       "\t\to.handler.apply(this, arguments)\n",
       "\t    }\n",
       "\t}\n",
       "    }\n",
       "\n",
       "    var OutputArea = IPython.version >= \"4.0.0\" ? require(\"notebook/js/outputarea\").OutputArea : IPython.OutputArea;\n",
       "\n",
       "    var redrawValue = function (container, type, val) {\n",
       "\tvar selector = $(\"<div/>\");\n",
       "\tvar oa = new OutputArea(_.extend(selector, {\n",
       "\t    selector: selector,\n",
       "\t    prompt_area: true,\n",
       "\t    events: IPython.events,\n",
       "\t    keyboard_manager: IPython.keyboard_manager\n",
       "\t})); // Hack to work with IPython 2.1.0\n",
       "\n",
       "\tswitch (type) {\n",
       "\tcase \"image/png\":\n",
       "            var _src = 'data:' + type + ';base64,' + val;\n",
       "\t    $(container).find(\"img\").attr('src', _src);\n",
       "\t    break;\n",
       "\tdefault:\n",
       "\t    var toinsert = OutputArea.append_map[type].apply(\n",
       "\t\toa, [val, {}, selector]\n",
       "\t    );\n",
       "\t    $(container).empty().append(toinsert.contents());\n",
       "\t    selector.remove();\n",
       "\t}\n",
       "\tif (type === \"text/latex\" && MathJax) {\n",
       "\t    MathJax.Hub.Queue([\"Typeset\", MathJax.Hub, toinsert.get(0)]);\n",
       "\t}\n",
       "    }\n",
       "\n",
       "\n",
       "    $(document).ready(function() {\n",
       "\tWidgets.debug = false; // log messages etc in console.\n",
       "\tfunction initComm(evt, data) {\n",
       "\t    var comm_manager = data.kernel.comm_manager;\n",
       "        //_.extend(comm_manager.targets, require(\"widgets/js/widget\"))\n",
       "\t    comm_manager.register_target(\"Signal\", function (comm) {\n",
       "            comm.on_msg(function (msg) {\n",
       "                //Widgets.log(\"message received\", msg);\n",
       "                var val = msg.content.data.value;\n",
       "                $(\".signal-\" + comm.comm_id).each(function() {\n",
       "                var type = $(this).data(\"type\");\n",
       "                if (val[type]) {\n",
       "                    redrawValue(this, type, val[type], type);\n",
       "                }\n",
       "                });\n",
       "                delete val;\n",
       "                delete msg.content.data.value;\n",
       "            });\n",
       "\t    });\n",
       "\n",
       "\t    // coordingate with Comm and redraw Signals\n",
       "\t    // XXX: Test using Reactive here to improve performance\n",
       "\t    $([IPython.events]).on(\n",
       "\t\t'output_appended.OutputArea', function (event, type, value, md, toinsert) {\n",
       "\t\t    if (md && md.reactive) {\n",
       "                // console.log(md.comm_id);\n",
       "                toinsert.addClass(\"signal-\" + md.comm_id);\n",
       "                toinsert.data(\"type\", type);\n",
       "                // Signal back indicating the mimetype required\n",
       "                var comm_manager = IPython.notebook.kernel.comm_manager;\n",
       "                var comm = comm_manager.comms[md.comm_id];\n",
       "                comm.then(function (c) {\n",
       "                    c.send({action: \"subscribe_mime\",\n",
       "                       mime: type});\n",
       "                    toinsert.bind(\"destroyed\", function() {\n",
       "                        c.send({action: \"unsubscribe_mime\",\n",
       "                               mime: type});\n",
       "                    });\n",
       "                })\n",
       "\t\t    }\n",
       "\t    });\n",
       "\t}\n",
       "\n",
       "\ttry {\n",
       "\t    // try to initialize right away. otherwise, wait on the status_started event.\n",
       "\t    initComm(undefined, IPython.notebook);\n",
       "\t} catch (e) {\n",
       "\t    $([IPython.events]).on('kernel_created.Kernel kernel_created.Session', initComm);\n",
       "\t}\n",
       "    });\n",
       "})(IPython, jQuery, _, MathJax, InputWidgets);\n",
       "</script>\n",
       "    <script>\n",
       "        window.interactLoadedFlag = true\n",
       "       $(\"#interact-js-shim\").bind(\"destroyed\", function () {\n",
       "           if (window.interactLoadedFlag) {\n",
       "               console.warn(\"JavaScript required by Interact will be removed if you remove this cell or run using Interact more than once.\")\n",
       "           }\n",
       "       })\n",
       "       $([IPython.events]).on(\"kernel_starting.Kernel kernel_restarting.Kernel\", function () { window.interactLoadedFlag = false })\n",
       "   </script>\n",
       "</div>"
      ]
     },
     "metadata": {},
     "output_type": "display_data"
    }
   ],
   "source": [
    "using Interact"
   ]
  },
  {
   "cell_type": "code",
   "execution_count": 11,
   "metadata": {
    "collapsed": false
   },
   "outputs": [
    {
     "data": {
      "text/html": [],
      "text/plain": [
       "Interact.Slider{Float64}(Signal{Float64}(0.34959055766523645, nactions=0),\"xp\",0.34959055766523645,0.02959055766523644:0.01:0.6795905576652365,true)"
      ]
     },
     "metadata": {},
     "output_type": "display_data"
    },
    {
     "data": {
      "image/png": "[encoded data removed]",
      "text/plain": [
       "Winston.FramedPlot(...)"
      ]
     },
     "execution_count": 11,
     "metadata": {
      "comm_id": "4e8e92b4-6b6c-44f2-9c16-6112be8957a4",
      "reactive": true
     },
     "output_type": "execute_result"
    }
   ],
   "source": [
    "# Traje duze!\n",
    "point=3\n",
    "xc=deepcopy(x)\n",
    "\n",
    "ySpline=Array(Float64,lsize)\n",
    "yPoly=Array(Float64,lsize)\n",
    "C=Array(Any,n)\n",
    "\n",
    "@manipulate for xp=xc[point-1]:0.01:xc[point+1]\n",
    "    xc[point]=xp\n",
    "    h=xc[2:end]-xc[1:end-1]\n",
    "    d=(y[2:end]-y[1:end-1])./h\n",
    "    H=SymTridiagonal(2*(h[1:end-1]+h[2:end]),h[2:end-1])\n",
    "    b1=6*(d[2:end]-d[1:end-1])\n",
    "    s=H\\b1\n",
    "    s=[0;s;0]\n",
    "    b=d-(s[2:end]-s[1:end-1]).*h/6\n",
    "    C=[xx-> y[i]-s[i]*h[i]^2/6+b[i]*(xx-xc[i])+s[i]*(xc[i+1]-xx)^3/(6*h[i])+s[i+1]*(xx-xc[i])^3/(6*h[i]) for i=1:n]\n",
    "    for i=1:lsize\n",
    "        for k=1:n\n",
    "            if xx[i]<=xc[k+1]\n",
    "                ySpline[i]=C[k](xx[i])\n",
    "                break\n",
    "            end\n",
    "        end\n",
    "    end\n",
    "    A=Vandermonde(xc)\n",
    "    p=Poly(full(A)\\y)\n",
    "    yPoly=polyval(p,xx)\n",
    "    plot(xc,y,\"r*\",xx,ySpline,\"b\",xx,yPoly,\"g\")\n",
    "end"
   ]
  },
  {
   "cell_type": "markdown",
   "metadata": {},
   "source": [
    "## Primjer - Interpolacija funkcije $\\sin(x)$"
   ]
  },
  {
   "cell_type": "code",
   "execution_count": 13,
   "metadata": {
    "collapsed": false
   },
   "outputs": [
    {
     "data": {
      "text/html": [],
      "text/plain": [
       "Interact.Slider{Float64}(Signal{Float64}(1.2483185307179587, nactions=0),\"xp\",1.2483185307179587,0.6283185307179586:0.01:1.8783185307179586,true)"
      ]
     },
     "metadata": {},
     "output_type": "display_data"
    },
    {
     "data": {
      "image/png": "[encoded data removed]",
      "text/plain": [
       "Winston.FramedPlot(...)"
      ]
     },
     "execution_count": 13,
     "metadata": {
      "comm_id": "f85d4317-f065-403b-9f6f-c376a45f56b3",
      "reactive": true
     },
     "output_type": "execute_result"
    }
   ],
   "source": [
    "n=5\n",
    "a=0\n",
    "b=pi\n",
    "f(x)=sin(x)\n",
    "\n",
    "x=collect(linspace(a,b,n+1))\n",
    "y=f(x)\n",
    "lsize=200\n",
    "xx=collect(linspace(a,b,lsize))\n",
    "ySpline=Array(Float64,lsize)\n",
    "yPoly=Array(Float64,lsize)\n",
    "yFun=f(xx)\n",
    "\n",
    "point=3\n",
    "xc=deepcopy(x)\n",
    "yc=deepcopy(y)\n",
    "@manipulate for xp=xc[point-1]:0.01:xc[point+1]\n",
    "    # Splajn\n",
    "    xc[point]=xp\n",
    "    yc[point]=sin(xp)\n",
    "    h=xc[2:end]-xc[1:end-1]\n",
    "    d=(yc[2:end]-yc[1:end-1])./h\n",
    "    H=SymTridiagonal(2*(h[1:end-1]+h[2:end]),h[2:end-1])\n",
    "    b1=6*(d[2:end]-d[1:end-1])\n",
    "    s=H\\b1\n",
    "    s=[0;s;0]\n",
    "    b=d-(s[2:end]-s[1:end-1]).*h/6\n",
    "    C=Array{Any,n}\n",
    "    C=[xx-> yc[i]-s[i]*h[i]^2/6+b[i]*(xx-xc[i])+s[i]*(xc[i+1]-xx)^3/(6*h[i])+s[i+1]*(xx-xc[i])^3/(6*h[i]) for i=1:n]\n",
    "    for i=1:lsize\n",
    "        for k=1:n\n",
    "            if xx[i]<=xc[k+1]\n",
    "                ySpline[i]=C[k](xx[i])\n",
    "                break\n",
    "            end\n",
    "        end\n",
    "    end\n",
    "    \n",
    "    # Polinom\n",
    "    A=Vandermonde(xc)\n",
    "    p=Poly(full(A)\\yc)\n",
    "    yPoly=polyval(p,xx)\n",
    "    \n",
    "    plot(xc,yc,\"r*\",xx,ySpline,\"b\",xx,yPoly,\"g\",xx,yFun)\n",
    "    # Pogreske\n",
    "    # norm(ySpline[2:end-1]-yFun[2:end-1],Inf), norm((ySpline[2:end-1]-yFun[2:end-1])./yFun[2:end-1],Inf),\n",
    "    # norm(yPoly[2:end-1]-yFun[2:end-1],Inf), norm((yPoly[2:end-1]-yFun[2:end-1])./yFun[2:end-1],Inf)\n",
    "    \n",
    "end"
   ]
  },
  {
   "cell_type": "markdown",
   "metadata": {
    "collapsed": false
   },
   "source": [
    "## Primjer - Interpolacija funkcije $f(x)=1-|x-1|$, $x\\in[0,2]$"
   ]
  },
  {
   "cell_type": "code",
   "execution_count": 14,
   "metadata": {
    "collapsed": false
   },
   "outputs": [
    {
     "data": {
      "text/html": [],
      "text/plain": [
       "Interact.Slider{Float64}(Signal{Float64}(0.4, nactions=0),\"xp\",0.4,0.2:0.01:0.6,true)"
      ]
     },
     "metadata": {},
     "output_type": "display_data"
    },
    {
     "data": {
      "image/png": "[encoded data removed]",
      "text/plain": [
       "Winston.FramedPlot(...)"
      ]
     },
     "execution_count": 14,
     "metadata": {
      "comm_id": "9ae15fc0-07fc-494b-8b19-5eb5da1946fa",
      "reactive": true
     },
     "output_type": "execute_result"
    }
   ],
   "source": [
    "n=10\n",
    "a=0\n",
    "b=2\n",
    "f(x)=1-abs(x-1)\n",
    "\n",
    "# Ravnomjerno raspoređene točke\n",
    "x=collect(linspace(a,b,n+1))\n",
    "y=f(x)\n",
    "lsize=200\n",
    "xx=collect(linspace(a,b,lsize))\n",
    "ySpline=Array(Float64,lsize)\n",
    "yPoly=Array(Float64,lsize)\n",
    "yFun=f(xx)\n",
    "\n",
    "point=3\n",
    "xc=deepcopy(x)\n",
    "yc=deepcopy(y)\n",
    "@manipulate for xp=xc[point-1]:0.01:xc[point+1]\n",
    "    # Splajn\n",
    "    xc[point]=xp\n",
    "    yc[point]=sin(xp)\n",
    "    h=xc[2:end]-xc[1:end-1]\n",
    "    d=(yc[2:end]-yc[1:end-1])./h\n",
    "    H=SymTridiagonal(2*(h[1:end-1]+h[2:end]),h[2:end-1])\n",
    "    b1=6*(d[2:end]-d[1:end-1])\n",
    "    s=H\\b1\n",
    "    s=[0;s;0]\n",
    "    b=d-(s[2:end]-s[1:end-1]).*h/6\n",
    "    C=Array{Any,n}\n",
    "    C=[xx-> yc[i]-s[i]*h[i]^2/6+b[i]*(xx-xc[i])+s[i]*(xc[i+1]-xx)^3/(6*h[i])+s[i+1]*(xx-xc[i])^3/(6*h[i]) for i=1:n]\n",
    "    for i=1:lsize\n",
    "        for k=1:n\n",
    "            if xx[i]<=xc[k+1]\n",
    "                ySpline[i]=C[k](xx[i])\n",
    "                break\n",
    "            end\n",
    "        end\n",
    "    end\n",
    "    \n",
    "    # Polinom\n",
    "    A=Vandermonde(xc)\n",
    "    p=Poly(full(A)\\yc)\n",
    "    yPoly=polyval(p,xx)\n",
    "    \n",
    "    plot(xc,yc,\"r*\",xx,ySpline,\"b\",xx,yPoly,\"g\",xx,yFun)\n",
    "end"
   ]
  },
  {
   "cell_type": "code",
   "execution_count": null,
   "metadata": {
    "collapsed": true
   },
   "outputs": [],
   "source": []
  }
 ],
 "metadata": {
  "kernelspec": {
   "display_name": "Julia 0.4.0",
   "language": "julia",
   "name": "julia-0.4"
  },
  "language_info": {
   "file_extension": ".jl",
   "mimetype": "application/julia",
   "name": "julia",
   "version": "0.4.0"
  }
 },
 "nbformat": 4,
 "nbformat_minor": 0
}
