{
 "cells": [
  {
   "cell_type": "markdown",
   "metadata": {},
   "source": [
    "# Teorija smetnje, pogreška unatrag i stabilni algoritmi\n",
    "\n",
    "---\n",
    "\n",
    "## Teorija smetnje\n",
    "\n",
    "Odgovorimo na sljedeće pitanje:\n",
    "\n",
    "> __Koliko se mijenja rezulat u ovisnosti o promjeni ulaznih podataka?__\n",
    "\n",
    "Za funkciju $f(x)$ i za neki ulazni podatak $x$, želimo ocijeniti \n",
    "__apsolutnu pogrešku__\n",
    "\n",
    "$$\n",
    "\\| f(x+\\delta x)-f(x)\\|\n",
    "$$\n",
    "\n",
    "u odnosu na __promjenu__ ulaznog podatka za $\\delta x$ i __relativnu pogrešku__ \n",
    "\n",
    "$$\n",
    "\\frac{\\| f(x+\\delta x)-f(x)\\|}{\\| f(x) \\|}\n",
    "$$\n",
    "\n",
    "u odnosu na __relativnu promjenu__ ulaznog podataka $\\displaystyle\\frac{\\delta x}{x}$.\n",
    "\n",
    "Vrijedi\n",
    "\n",
    "$$\n",
    "\\| f(x+\\delta x)-f(x)\\| \\leq \\frac{\\| f(x+\\delta x)-f(x)\\|}{\\| \\delta x \\|} \\|\\delta x\\| \\equiv \\kappa \\|\\delta x\\|.\n",
    "$$\n",
    "\n",
    "Veličina $\\kappa$, koju zovemo __uvjetovanost__ ili __kondicija__, a koja podsjeća na derivaciju, kazuje koliko se najviše uveća smetnja u ulaznim podacima.\n",
    "\n",
    "Slično, u izrazu\n",
    "\n",
    "$$\n",
    "\\frac{\\| f(x+\\delta x)-f(x)\\|}{\\| f(x) \\|}\\leq \\frac{\\| f(x+\\delta x)-f(x)\\|\\cdot  \\|x\\| }{\\|\\delta x\\| \\cdot\\| f(x)\\|}\n",
    "\\cdot \\frac{\\|\\delta x\\|}{\\|x\\|} \\equiv \\kappa \\frac{\\|\\delta x\\|}{\\|x\\|}\n",
    "$$\n",
    "\n",
    "nam $\\kappa$ kazuje koliko se najviše relativno uveća relativna smetnja u ulaznim podacima."
   ]
  },
  {
   "cell_type": "markdown",
   "metadata": {},
   "source": [
    "## Pogreška unatrag\n",
    "\n",
    "Neka vrijednost funkcije $f(x)$ računamo pomoću algoritma $\\mathrm{alg(x)}$.\n",
    "__Pogreška algoritma__ je \n",
    "\n",
    "$$\n",
    "\\|\\mathrm{alg(x)}-f(x)\\|,\n",
    "$$\n",
    "\n",
    "a __relativna pogreška algoritma__ je \n",
    "\n",
    "$$\n",
    "\\frac{\\| \\mathrm{alg}(x)-f(x)\\|}{\\| f(x) \\|}.\n",
    "$$\n",
    "\n",
    "Ove pogreške je teško ili čak nemoguće procijeniti direktno. Stoga se promatra __pogreška unatrag__,\n",
    "\n",
    "$$\n",
    "\\mathrm{alg}(x)=f(x+\\delta x),\n",
    "$$\n",
    "odnosno\n",
    "\n",
    "> izračunata vrijednost funkcije $f$ za ulazni podatak $x$ jednaka je točnoj vrijednosti funkcije $f$ u smetanom ulaznom podatku za neku (nepoznatu) smetnju. "
   ]
  },
  {
   "cell_type": "markdown",
   "metadata": {},
   "source": [
    "## Stabilni algoritmi\n",
    "\n",
    "\n",
    "Algoritam je __stabilan__ ako uvijek vrijedi \n",
    "\n",
    "$$\n",
    "\\mathrm{alg}(x)=f(x+\\delta x)\n",
    "$$\n",
    "\n",
    "za neki mali $ \\delta x$."
   ]
  },
  {
   "cell_type": "code",
   "execution_count": null,
   "metadata": {
    "collapsed": true
   },
   "outputs": [],
   "source": []
  }
 ],
 "metadata": {
  "kernelspec": {
   "display_name": "Julia 0.4.0",
   "language": "julia",
   "name": "julia-0.4"
  },
  "language_info": {
   "file_extension": ".jl",
   "mimetype": "application/julia",
   "name": "julia",
   "version": "0.4.0"
  }
 },
 "nbformat": 4,
 "nbformat_minor": 0
}
