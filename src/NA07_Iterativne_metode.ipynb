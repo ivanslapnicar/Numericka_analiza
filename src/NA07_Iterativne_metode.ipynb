{
 "cells": [
  {
   "cell_type": "markdown",
   "metadata": {},
   "source": [
    "# Iterativne metode\n",
    "---\n",
    "\n",
    "Za velike sustave, a posebno za sustave s malom ispunom (malo elemenata različitih od nule), te ukoliko je matrica sustava __strogo dijagonalno dominantna__, rješenje se može brzo naći __iterativnim metodama__\n",
    "(vidi [Numerička matematika, poglavlje 3.8][RS04]):\n",
    "\n",
    "__Definicija.__ Funkcija $F:\\mathbb{R}^n\\to \\mathbb{R}^n$ je __kontrakcija__ ako postoji broj $q<1$ za koji vrijedi\n",
    "\n",
    "$$\n",
    "\\| F(x)-F(y)\\| < q\\|x-y\\|\\qquad \\forall x,y.\n",
    "$$\n",
    "\n",
    "__ Banachov teorem o fiksnoj točki.__ Ako je $F$ kontrakcija, tada niz definiran s\n",
    "\n",
    "$$ \n",
    "x_{k+1}=F(x_k)\n",
    "$$\n",
    "\n",
    "konvergira prema jedinstvenom vektoru $\\tilde x$ za kojeg vrijedi\n",
    "\n",
    "$$\n",
    "\\tilde x = F(\\tilde x).\n",
    "$$\n",
    "\n",
    "$\\tilde x$ se zove __fiksna točka__ funkcije $F$. Za pogrešku u $k$-tom koraku vrijede ocjene\n",
    "\n",
    "$$\n",
    "\\|x_k- \\tilde x\\| \\leq \\frac{q}{1-q} \\|x_k-x_{k-1}\\|\n",
    "$$\n",
    "\n",
    "i \n",
    "\n",
    "$$\n",
    "\\|x_k- \\tilde x\\| \\leq \\frac{q^k}{1-q} \\|x_1-x_{0}\\|,\n",
    "$$\n",
    "\n",
    "pri čemu je druga ocjena bolja. Brzina konvergencije je __linearna__,\n",
    "\n",
    "$$\n",
    "\\|x_{k+1}-\\tilde x\\| \\leq q\\| x_k-\\tilde x\\|.\n",
    "$$\n",
    "\n",
    "[RS04]: http://www.mathos.unios.hr/pim/Materijali/Num.pdf \"R. Scitovski, 'Numerička matematika', Sveučilište u Osijeku, Osijek, 2004.\""
   ]
  },
  {
   "cell_type": "markdown",
   "metadata": {},
   "source": [
    "\n",
    "## Jacobijeva i Gauss-Seidelova metoda\n",
    "\n",
    "Neke je \n",
    "\n",
    "$$F(x)=Bx+c,$$\n",
    "\n",
    "pri čemu je $B$ nesignularna matrica. Tada je\n",
    "\n",
    "$$\n",
    "\\| F(x)-F(y)\\|=\\| Bx+c-(By+c)\\|=\\|B(x-y)\\| \\leq \\|B\\| \\|x-y\\|,\n",
    "$$\n",
    "\n",
    "pa je $F$ kontrakcija ako i samo ako je\n",
    "\n",
    "$$\n",
    " \\|B\\|=q<1.\n",
    "$$\n",
    "\n",
    "Neka je zadan sustav  $Ax=b$. Matricu $A$ rastavimo kao\n",
    "\n",
    "$$\n",
    "A=D(L+I+U)\n",
    "$$\n",
    "\n",
    "pri čemu je $D$ dijagonalna matrica, $L$ strogo donje trokutasta matrica i $U$ strogo gornje trokutasta matrica.\n",
    "\n",
    "__Jacobijeva metoda__:  Neka je \n",
    "\n",
    "$$\n",
    "B=-(L+U), \\quad c=D^{-1}b.\n",
    "$$\n",
    "\n",
    "\n",
    "Ako je matrica $A$ _strogo dijagonalno dominantna_, \n",
    "\n",
    "$$\n",
    "\\| B\\|_{\\infty} = \\max_i \\sum_{{j=1} \\atop {j\\neq i}}^n \\frac{|a_{ij}|}{|a_{ii}|}<1,\n",
    "$$\n",
    "\n",
    "tada je preslikavanje $F$ kontrakcija (moguće je uzeti i druge norme).\n",
    "\n",
    "Niz \n",
    "\n",
    "$$\n",
    "x_{k+1}=-(L+U)x_k+c\n",
    "$$\n",
    "\n",
    "očito konvergira prema rješenju sustava $x$.\n",
    "\n",
    "__Gauss-Seidel-ova metoda__:  Neka je \n",
    "\n",
    "$$\n",
    "B=-(I+L)^{-1}U, \\quad c=(I+L)D^{-1}b.\n",
    "$$\n",
    "\n",
    "> Bez dokaza navodimo sljedeću tvrdnju: ako je matrica $A$ strogo dijagonalno dominantna,\n",
    "onda je preslikavanje $F$ kontrakcija pa\n",
    "\n",
    "niz\n",
    "\n",
    "$$\n",
    "x_{k+1}=-(I+L)^{-1}Ux_k+(I+L)^{-1}D^{-1}b,\n",
    "$$\n",
    "\n",
    "odnosno\n",
    "\n",
    "$$\n",
    "x_{k+1}=-Lx_{k+1}-Ux_k+D^{-1}b,\n",
    "$$\n",
    "\n",
    "konvergira prema rješenju sustava $x$."
   ]
  },
  {
   "cell_type": "code",
   "execution_count": 1,
   "metadata": {
    "collapsed": false
   },
   "outputs": [
    {
     "data": {
      "text/plain": [
       "myjacobi (generic function with 1 method)"
      ]
     },
     "execution_count": 1,
     "metadata": {},
     "output_type": "execute_result"
    }
   ],
   "source": [
    "function myjacobi{T}(A::Array{T},b::Array{T},x::Array{T})\n",
    "    D=diag(A)\n",
    "    L=tril(A,-1)./D\n",
    "    U=triu(A,1)./D\n",
    "    tol=1000*eps()\n",
    "    d=1.0\n",
    "    B=-(L+U)\n",
    "    c=b./D\n",
    "    q=norm(B,Inf)\n",
    "    # @show q\n",
    "    while d>tol\n",
    "        y=B*x+c\n",
    "        d=norm(x-y,Inf)\n",
    "        # @show d\n",
    "        x=y\n",
    "    end\n",
    "    x,d\n",
    "end"
   ]
  },
  {
   "cell_type": "code",
   "execution_count": 2,
   "metadata": {
    "collapsed": false
   },
   "outputs": [
    {
     "data": {
      "text/plain": [
       "8-element Array{Float64,1}:\n",
       " 0.805988\n",
       " 0.402526\n",
       " 0.161728\n",
       " 0.331226\n",
       " 0.543806\n",
       " 0.300015\n",
       " 0.920605\n",
       " 0.685248"
      ]
     },
     "execution_count": 2,
     "metadata": {},
     "output_type": "execute_result"
    }
   ],
   "source": [
    "n=8\n",
    "A=rand(n,n)\n",
    "# Napravimo matricu dijagonalno diminantnom\n",
    "A=A+n*I\n",
    "b=rand(n)"
   ]
  },
  {
   "cell_type": "code",
   "execution_count": 3,
   "metadata": {
    "collapsed": false
   },
   "outputs": [
    {
     "data": {
      "text/plain": [
       "8-element Array{Float64,1}:\n",
       " 0.910046 \n",
       " 0.247026 \n",
       " 0.134701 \n",
       " 0.909162 \n",
       " 0.133734 \n",
       " 0.0525133\n",
       " 0.517037 \n",
       " 0.0477407"
      ]
     },
     "execution_count": 3,
     "metadata": {},
     "output_type": "execute_result"
    }
   ],
   "source": [
    "# Pocetni vektor\n",
    "x0=rand(n)"
   ]
  },
  {
   "cell_type": "code",
   "execution_count": 4,
   "metadata": {
    "collapsed": false
   },
   "outputs": [
    {
     "data": {
      "text/plain": [
       "([0.07753311867593976,0.03550004464849055,0.0009601487497674296,0.027781229917682018,0.0432151734952167,0.01571276515024885,0.09252652473496706,0.07199801797186746],8.859579736508749e-14)"
      ]
     },
     "execution_count": 4,
     "metadata": {},
     "output_type": "execute_result"
    }
   ],
   "source": [
    "x,d=myjacobi(A,b,x0)"
   ]
  },
  {
   "cell_type": "code",
   "execution_count": 5,
   "metadata": {
    "collapsed": false
   },
   "outputs": [
    {
     "data": {
      "text/plain": [
       "8-element Array{Float64,1}:\n",
       " -1.83187e-13\n",
       " -1.65701e-13\n",
       " -2.15827e-13\n",
       " -2.42084e-13\n",
       " -2.64677e-13\n",
       " -2.27929e-13\n",
       " -2.17382e-13\n",
       " -1.67755e-13"
      ]
     },
     "execution_count": 5,
     "metadata": {},
     "output_type": "execute_result"
    }
   ],
   "source": [
    "r=A*x-b"
   ]
  },
  {
   "cell_type": "code",
   "execution_count": 6,
   "metadata": {
    "collapsed": false
   },
   "outputs": [
    {
     "data": {
      "text/plain": [
       "3.388749527609419e-13"
      ]
     },
     "execution_count": 6,
     "metadata": {},
     "output_type": "execute_result"
    }
   ],
   "source": [
    "# Provjerimo i normu relativnog reziduala\n",
    "norm(r)/(norm(A)*norm(x))"
   ]
  },
  {
   "cell_type": "code",
   "execution_count": 7,
   "metadata": {
    "collapsed": false
   },
   "outputs": [
    {
     "data": {
      "text/plain": [
       "mygaussseidel (generic function with 1 method)"
      ]
     },
     "execution_count": 7,
     "metadata": {},
     "output_type": "execute_result"
    }
   ],
   "source": [
    "function mygaussseidel{T}(A::Array{T},b::Array{T},x::Array{T})\n",
    "    D=diag(A)\n",
    "    L=tril(A,-1)./D\n",
    "    U=triu(A,1)./D\n",
    "    tol=1000*eps()\n",
    "    d=1.0\n",
    "    # B=-inv(I+L)*U\n",
    "    B=-(I+L)\\U\n",
    "    c=(I+L)\\(b./D)\n",
    "    @show norm(U,Inf)\n",
    "    y=Array(Float64,n)\n",
    "    while d>tol\n",
    "        y=B*x+c\n",
    "        d=norm(x-y)\n",
    "        x=y\n",
    "    end\n",
    "    x,d\n",
    "end"
   ]
  },
  {
   "cell_type": "code",
   "execution_count": 8,
   "metadata": {
    "collapsed": false
   },
   "outputs": [
    {
     "name": "stdout",
     "output_type": "stream",
     "text": [
      "norm(U,Inf) = 0.2932520086577795"
     ]
    },
    {
     "data": {
      "text/plain": [
       "([0.07753311867595566,0.035500044648507284,0.0009601487497859513,0.027781229917701676,0.043215173495238866,0.01571276515026942,0.09252652473498565,0.07199801797188302],3.0691503950227023e-14)"
      ]
     },
     "execution_count": 8,
     "metadata": {},
     "output_type": "execute_result"
    },
    {
     "name": "stdout",
     "output_type": "stream",
     "text": [
      "\n"
     ]
    }
   ],
   "source": [
    "x,d=mygaussseidel(A,b,x0)"
   ]
  },
  {
   "cell_type": "code",
   "execution_count": 9,
   "metadata": {
    "collapsed": false
   },
   "outputs": [
    {
     "data": {
      "text/plain": [
       "8-element Array{Float64,1}:\n",
       " -3.33067e-15\n",
       "  1.83187e-14\n",
       "  4.4964e-15 \n",
       " -7.88258e-15\n",
       " -5.66214e-15\n",
       " -1.33227e-15\n",
       "  0.0        \n",
       "  0.0        "
      ]
     },
     "execution_count": 9,
     "metadata": {},
     "output_type": "execute_result"
    }
   ],
   "source": [
    "A*x-b"
   ]
  },
  {
   "cell_type": "markdown",
   "metadata": {
    "collapsed": true
   },
   "source": [
    "Izmjerimo brzinu za veće matrice:"
   ]
  },
  {
   "cell_type": "code",
   "execution_count": 12,
   "metadata": {
    "collapsed": false
   },
   "outputs": [
    {
     "data": {
      "text/plain": [
       "1024-element Array{Float64,1}:\n",
       " 0.378894  \n",
       " 0.651432  \n",
       " 0.630875  \n",
       " 0.0203264 \n",
       " 0.0175869 \n",
       " 0.295135  \n",
       " 0.0911703 \n",
       " 0.702325  \n",
       " 0.698973  \n",
       " 0.0253697 \n",
       " 0.22753   \n",
       " 0.00961893\n",
       " 0.509391  \n",
       " ⋮         \n",
       " 0.283745  \n",
       " 0.791041  \n",
       " 0.673023  \n",
       " 0.67891   \n",
       " 0.820877  \n",
       " 0.567777  \n",
       " 0.366193  \n",
       " 0.475563  \n",
       " 0.467347  \n",
       " 0.110154  \n",
       " 0.116624  \n",
       " 0.467151  "
      ]
     },
     "execution_count": 12,
     "metadata": {},
     "output_type": "execute_result"
    }
   ],
   "source": [
    "n=1024\n",
    "A=rand(n,n)\n",
    "# Napravimo matricu dijagonalno diminantnom\n",
    "A=A+n*I\n",
    "b=rand(n)\n",
    "# Pocetni vektor\n",
    "x0=rand(n)"
   ]
  },
  {
   "cell_type": "code",
   "execution_count": 13,
   "metadata": {
    "collapsed": false
   },
   "outputs": [
    {
     "name": "stdout",
     "output_type": "stream",
     "text": [
      "norm(U,Inf) = 0.507507065706234"
     ]
    },
    {
     "data": {
      "text/plain": [
       "([0.000176004,0.000673611,0.000664871,0.000158958,0.000601059,0.000379377,2.76895e-5,0.000582457,0.000544852,0.00064735  …  0.000169899,0.000649278,7.37901e-5,0.000390983,0.000781368,0.000497694,0.000323859,0.000179222,0.00062723,0.000788838],1.192690366098764e-13)"
      ]
     },
     "execution_count": 13,
     "metadata": {},
     "output_type": "execute_result"
    },
    {
     "name": "stdout",
     "output_type": "stream",
     "text": [
      "\n",
      "  0.128129 seconds (575 allocations: 80.429 MB, 9.72% gc time)\n"
     ]
    }
   ],
   "source": [
    "@time mygaussseidel(A,b,x0)"
   ]
  },
  {
   "cell_type": "code",
   "execution_count": null,
   "metadata": {
    "collapsed": true
   },
   "outputs": [],
   "source": []
  }
 ],
 "metadata": {
  "kernelspec": {
   "display_name": "Julia 0.4.0",
   "language": "julia",
   "name": "julia-0.4"
  },
  "language_info": {
   "file_extension": ".jl",
   "mimetype": "application/julia",
   "name": "julia",
   "version": "0.4.0"
  }
 },
 "nbformat": 4,
 "nbformat_minor": 0
}
