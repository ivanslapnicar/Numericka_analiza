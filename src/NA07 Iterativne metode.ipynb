{
 "cells": [
  {
   "cell_type": "markdown",
   "metadata": {},
   "source": [
    "# Iterativne metode\n",
    "\n",
    "\n",
    "Za velike sustave, a posebno za sustave s malom ispunom (malo elemenata različitih od nule), te ukoliko je matrica sustava _strogo dijagonalno dominantna_, rješenje se može brzo naći _iterativnim metodama_\n",
    "(vidi [Numerička matematika, poglavlje 3.8][RS04]):\n",
    "\n",
    "__Definicija.__ Funkcija $F:\\mathbb{R}^n\\to \\mathbb{R}^n$ je _kontrakcija_ ako postoji broj $q<1$ za koji vrijedi\n",
    "\n",
    "$$\n",
    "\\| F(x)-F(y)\\| < q\\|x-y\\|\\qquad \\forall x,y.\n",
    "$$\n",
    "\n",
    "__Banachov teorem o fiksnoj točki.__\n",
    "Ako je $F$ kontrakcija, onda niz definiran s\n",
    "\n",
    "$$ \n",
    "x_{k+1}=F(x_k)\n",
    "$$\n",
    "\n",
    "konvergira prema jedinstvenom vektoru $\\tilde x$ za kojeg vrijedi\n",
    "\n",
    "$$\n",
    "\\tilde x = F(\\tilde x).\n",
    "$$\n",
    "\n",
    "$\\tilde x$ se zove _fiksna točka_ funkcije $F$. Za pogrešku u $k$-tom koraku vrijede ocjene\n",
    "\n",
    "$$\n",
    "\\|x_k- \\tilde x\\| \\leq \\frac{q}{1-q} \\|x_k-x_{k-1}\\|\n",
    "$$\n",
    "\n",
    "i \n",
    "\n",
    "$$\n",
    "\\|x_k- \\tilde x\\| \\leq \\frac{q^k}{1-q} \\|x_1-x_{0}\\|,\n",
    "$$\n",
    "\n",
    "pri čemu je druga ocjena bolja. Brzina konvergencije je _linearna_,\n",
    "\n",
    "$$\n",
    "\\|x_{k+1}-\\tilde x\\| \\leq q\\| x_k-\\tilde x\\|.\n",
    "$$\n",
    "\n",
    "[RS04]: http://www.mathos.unios.hr/pim/Materijali/Num.pdf \"R. Scitovski, 'Numerička matematika', Sveučilište u Osijeku, Osijek, 2004.\""
   ]
  },
  {
   "cell_type": "markdown",
   "metadata": {},
   "source": [
    "\n",
    "## Jacobi-jeva i Gauss-Seidel-ova metoda\n",
    "\n",
    "Neka je \n",
    "\n",
    "$$F(x)=Bx+c,$$\n",
    "\n",
    "pri čemu je $B$ kvadratna matrica. Tada je\n",
    "\n",
    "$$\n",
    "\\| F(x)-F(y)\\|=\\| Bx+c-(By+c)\\|=\\|B(x-y)\\| \\leq \\|B\\| \\|x-y\\|,\n",
    "$$\n",
    "\n",
    "pa je $F$ kontrakcija ako je\n",
    "\n",
    "$$\n",
    " \\|B\\|=q<1.\n",
    "$$\n",
    "\n",
    "Neka je zadan sustav  $Ax=b$. Matricu $A$ rastavimo kao\n",
    "\n",
    "$$\n",
    "A=D\\,(L+I+U)\n",
    "$$\n",
    "\n",
    "pri čemu je $D$ dijagonalna matrica, $L$ strogo donje trokutasta matrica i $U$ strogo gornje trokutasta matrica.\n",
    "\n",
    "### Jacobi-jeva metoda \n",
    "\n",
    "Neka je \n",
    "\n",
    "$$\n",
    "B=-(L+U), \\quad c=D^{-1}b.\n",
    "$$\n",
    "\n",
    "\n",
    "Ako je matrica $A$ _strogo dijagonalno dominantna_, \n",
    "\n",
    "$$\n",
    "\\| B\\|_{\\infty} = \\max_i \\sum_{{j=1} \\atop {j\\neq i}}^n \\frac{|a_{ij}|}{|a_{ii}|}<1,\n",
    "$$\n",
    "\n",
    "onda je preslikavanje $F$ kontrakcija (moguće je uzeti i druge norme) pa niz\n",
    "\n",
    "$$\n",
    "x_{k+1}=-(L+U)x_k+c\n",
    "$$\n",
    "\n",
    "konvergira prema rješenju sustava $x$.\n",
    "\n",
    "### Gauss-Seidel-ova metoda \n",
    "\n",
    "Neka je \n",
    "\n",
    "$$\n",
    "B=-(I+L)^{-1}U, \\quad c=(I+L)^{-1}\\, D^{-1}b.\n",
    "$$\n",
    "\n",
    "Bez dokaza navodimo sljedeću tvrdnju: ako je matrica $A$ strogo dijagonalno dominantna,\n",
    "onda je preslikavanje $F$ kontrakcija pa niz\n",
    "\n",
    "$$\n",
    "x_{k+1}=-(I+L)^{-1}Ux_k+(I+L)^{-1}D^{-1}b,\n",
    "$$\n",
    "\n",
    "odnosno\n",
    "\n",
    "$$\n",
    "x_{k+1}=-Lx_{k+1}-Ux_k+D^{-1}b,\n",
    "$$\n",
    "\n",
    "konvergira prema rješenju sustava $x$."
   ]
  },
  {
   "cell_type": "code",
   "execution_count": 1,
   "metadata": {},
   "outputs": [
    {
     "data": {
      "text/plain": [
       "myjacobi (generic function with 1 method)"
      ]
     },
     "execution_count": 1,
     "metadata": {},
     "output_type": "execute_result"
    }
   ],
   "source": [
    "function myjacobi(A::Array,b::Array,x::Array)\n",
    "    D=diag(A)\n",
    "    L=tril(A,-1)./D\n",
    "    U=triu(A,1)./D\n",
    "    tol=1000*eps()\n",
    "    d=1.0\n",
    "    B=-(L+U)\n",
    "    c=b./D\n",
    "    q=norm(B,Inf)\n",
    "    # @show q\n",
    "    while d>tol\n",
    "        y=B*x+c\n",
    "        d=norm(x-y,Inf)\n",
    "        # @show d\n",
    "        x=y\n",
    "    end\n",
    "    x,d\n",
    "end"
   ]
  },
  {
   "cell_type": "code",
   "execution_count": 2,
   "metadata": {},
   "outputs": [
    {
     "data": {
      "text/plain": [
       "8-element Array{Float64,1}:\n",
       " 0.924965\n",
       " 0.348939\n",
       " 0.784423\n",
       " 0.849775\n",
       " 0.119929\n",
       " 0.860143\n",
       " 0.576808\n",
       " 0.178059"
      ]
     },
     "execution_count": 2,
     "metadata": {},
     "output_type": "execute_result"
    }
   ],
   "source": [
    "srand(123)\n",
    "n=8\n",
    "A=rand(n,n)\n",
    "# Napravimo matricu dijagonalno dominantnom\n",
    "A=A+n*I\n",
    "b=rand(n)"
   ]
  },
  {
   "cell_type": "code",
   "execution_count": 3,
   "metadata": {},
   "outputs": [
    {
     "data": {
      "text/plain": [
       "8-element Array{Float64,1}:\n",
       " 0.951917  \n",
       " 0.8781    \n",
       " 0.00916625\n",
       " 0.595896  \n",
       " 0.954351  \n",
       " 0.841945  \n",
       " 0.296102  \n",
       " 0.855727  "
      ]
     },
     "execution_count": 3,
     "metadata": {},
     "output_type": "execute_result"
    }
   ],
   "source": [
    "# Početni vektor\n",
    "x0=rand(n)"
   ]
  },
  {
   "cell_type": "code",
   "execution_count": 4,
   "metadata": {},
   "outputs": [
    {
     "data": {
      "text/plain": [
       "8-element Array{Float64,1}:\n",
       "  0.0898031 \n",
       "  0.0143176 \n",
       "  0.0745687 \n",
       "  0.0821775 \n",
       " -0.00693184\n",
       "  0.0811161 \n",
       "  0.0568566 \n",
       " -0.00569884"
      ]
     },
     "execution_count": 4,
     "metadata": {},
     "output_type": "execute_result"
    }
   ],
   "source": [
    "x,d=myjacobi(A,b,x0)\n",
    "# Rješenje\n",
    "x"
   ]
  },
  {
   "cell_type": "code",
   "execution_count": 5,
   "metadata": {},
   "outputs": [
    {
     "data": {
      "text/plain": [
       "1.6361911825413245e-13"
      ]
     },
     "execution_count": 5,
     "metadata": {},
     "output_type": "execute_result"
    }
   ],
   "source": [
    "# Norma razlike dvije zadnje iteracije\n",
    "d"
   ]
  },
  {
   "cell_type": "code",
   "execution_count": 6,
   "metadata": {},
   "outputs": [
    {
     "data": {
      "text/plain": [
       "8-element Array{Float64,1}:\n",
       " -3.39839e-13\n",
       " -4.47198e-13\n",
       " -3.39839e-13\n",
       " -3.29958e-13\n",
       " -3.9721e-13 \n",
       " -5.33129e-13\n",
       " -2.73004e-13\n",
       " -4.26631e-13"
      ]
     },
     "execution_count": 6,
     "metadata": {},
     "output_type": "execute_result"
    }
   ],
   "source": [
    "# Rezidual\n",
    "r=A*x-b"
   ]
  },
  {
   "cell_type": "code",
   "execution_count": 7,
   "metadata": {},
   "outputs": [
    {
     "data": {
      "text/plain": [
       "2.629840024669059e-13"
      ]
     },
     "execution_count": 7,
     "metadata": {},
     "output_type": "execute_result"
    }
   ],
   "source": [
    "# Provjerimo i normu relativnog reziduala\n",
    "norm(r)/(vecnorm(A)*norm(x))"
   ]
  },
  {
   "cell_type": "code",
   "execution_count": 8,
   "metadata": {},
   "outputs": [
    {
     "data": {
      "text/plain": [
       "mygaussseidel (generic function with 1 method)"
      ]
     },
     "execution_count": 8,
     "metadata": {},
     "output_type": "execute_result"
    }
   ],
   "source": [
    "function mygaussseidel(A::Array,b::Array,x::Array)\n",
    "    D=diag(A)\n",
    "    L=tril(A,-1)./D\n",
    "    U=triu(A,1)./D\n",
    "    tol=1000*eps()\n",
    "    d=1.0\n",
    "    # B=-inv(I+L)*U\n",
    "    B=-(I+L)\\U\n",
    "    c=(I+L)\\(b./D)\n",
    "    # @show norm(U,Inf)\n",
    "    y=Array{Float64}(n)\n",
    "    while d>tol\n",
    "        y=B*x+c\n",
    "        d=norm(x-y)\n",
    "        x=y\n",
    "    end\n",
    "    x,d\n",
    "end"
   ]
  },
  {
   "cell_type": "code",
   "execution_count": 9,
   "metadata": {},
   "outputs": [
    {
     "data": {
      "text/plain": [
       "8-element Array{Float64,1}:\n",
       "  0.0898031 \n",
       "  0.0143176 \n",
       "  0.0745687 \n",
       "  0.0821775 \n",
       " -0.00693184\n",
       "  0.0811161 \n",
       "  0.0568566 \n",
       " -0.00569884"
      ]
     },
     "execution_count": 9,
     "metadata": {},
     "output_type": "execute_result"
    }
   ],
   "source": [
    "x,d=mygaussseidel(A,b,x0)\n",
    "# Rješenje\n",
    "x"
   ]
  },
  {
   "cell_type": "code",
   "execution_count": 10,
   "metadata": {},
   "outputs": [
    {
     "data": {
      "text/plain": [
       "7.736207519235691e-14"
      ]
     },
     "execution_count": 10,
     "metadata": {},
     "output_type": "execute_result"
    }
   ],
   "source": [
    "# Norma razlike dvije zadnje iteracije\n",
    "d"
   ]
  },
  {
   "cell_type": "code",
   "execution_count": 11,
   "metadata": {},
   "outputs": [
    {
     "data": {
      "text/plain": [
       "8-element Array{Float64,1}:\n",
       " -5.77316e-15\n",
       " -2.93654e-14\n",
       " -2.66454e-14\n",
       " -1.75415e-14\n",
       " -6.75848e-15\n",
       " -3.66374e-15\n",
       " -2.22045e-16\n",
       "  0.0        "
      ]
     },
     "execution_count": 11,
     "metadata": {},
     "output_type": "execute_result"
    }
   ],
   "source": [
    "# Rezidual\n",
    "A*x-b"
   ]
  },
  {
   "cell_type": "markdown",
   "metadata": {
    "collapsed": true
   },
   "source": [
    "Izmjerimo brzinu za veće matrice:"
   ]
  },
  {
   "cell_type": "code",
   "execution_count": 12,
   "metadata": {},
   "outputs": [
    {
     "data": {
      "text/plain": [
       "1024-element Array{Float64,1}:\n",
       " 0.535643 \n",
       " 0.766008 \n",
       " 0.44635  \n",
       " 0.305757 \n",
       " 0.756561 \n",
       " 0.159858 \n",
       " 0.91704  \n",
       " 0.64676  \n",
       " 0.0197729\n",
       " 0.297172 \n",
       " 0.728198 \n",
       " 0.586834 \n",
       " 0.461064 \n",
       " ⋮        \n",
       " 0.74365  \n",
       " 0.333398 \n",
       " 0.612098 \n",
       " 0.237285 \n",
       " 0.609827 \n",
       " 0.594452 \n",
       " 0.162617 \n",
       " 0.357514 \n",
       " 0.732225 \n",
       " 0.506276 \n",
       " 0.772186 \n",
       " 0.881906 "
      ]
     },
     "execution_count": 12,
     "metadata": {},
     "output_type": "execute_result"
    }
   ],
   "source": [
    "n=1024\n",
    "A=rand(n,n)\n",
    "# Napravimo matricu dijagonalno dominantnom\n",
    "A=A+n*I\n",
    "b=rand(n)\n",
    "# Pocetni vektor\n",
    "x0=rand(n)"
   ]
  },
  {
   "cell_type": "code",
   "execution_count": 17,
   "metadata": {},
   "outputs": [
    {
     "name": "stdout",
     "output_type": "stream",
     "text": [
      "  0.317902 seconds (77 allocations: 64.413 MiB, 37.88% gc time)\n"
     ]
    }
   ],
   "source": [
    "@time mygaussseidel(A,b,x0);"
   ]
  },
  {
   "cell_type": "code",
   "execution_count": 18,
   "metadata": {},
   "outputs": [
    {
     "name": "stdout",
     "output_type": "stream",
     "text": [
      "  0.128247 seconds (12 allocations: 8.016 MiB, 11.35% gc time)\n"
     ]
    }
   ],
   "source": [
    "@time A\\b;"
   ]
  }
 ],
 "metadata": {
  "kernelspec": {
   "display_name": "Julia 0.6.2",
   "language": "julia",
   "name": "julia-0.6"
  },
  "language_info": {
   "file_extension": ".jl",
   "mimetype": "application/julia",
   "name": "julia",
   "version": "0.6.2"
  }
 },
 "nbformat": 4,
 "nbformat_minor": 1
}
