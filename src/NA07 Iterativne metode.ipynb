{
 "cells": [
  {
   "cell_type": "markdown",
   "metadata": {},
   "source": [
    "# Iterativne metode\n",
    "\n",
    "\n",
    "Za velike sustave, a posebno za sustave s malom ispunom (malo elemenata različitih od nule), te ukoliko je matrica sustava _strogo dijagonalno dominantna_, rješenje se može brzo naći _iterativnim metodama_\n",
    "(vidi [Numerička matematika, poglavlje 3.8][RS04]):\n",
    "\n",
    "__Definicija.__ Funkcija $F:\\mathbb{R}^n\\to \\mathbb{R}^n$ je _kontrakcija_ ako postoji broj $q<1$ za koji vrijedi\n",
    "\n",
    "$$\n",
    "\\| F(x)-F(y)\\| < q\\|x-y\\|\\qquad \\forall x,y.\n",
    "$$\n",
    "\n",
    "__Banachov teorem o fiksnoj točki.__\n",
    "Ako je $F$ kontrakcija, onda niz definiran s\n",
    "\n",
    "$$ \n",
    "x_{k+1}=F(x_k)\n",
    "$$\n",
    "\n",
    "konvergira prema jedinstvenom vektoru $\\tilde x$ za kojeg vrijedi\n",
    "\n",
    "$$\n",
    "\\tilde x = F(\\tilde x).\n",
    "$$\n",
    "\n",
    "$\\tilde x$ se zove _fiksna točka_ funkcije $F$. Za pogrešku u $k$-tom koraku vrijede ocjene\n",
    "\n",
    "$$\n",
    "\\|x_k- \\tilde x\\| \\leq \\frac{q}{1-q} \\|x_k-x_{k-1}\\|\n",
    "$$\n",
    "\n",
    "i \n",
    "\n",
    "$$\n",
    "\\|x_k- \\tilde x\\| \\leq \\frac{q^k}{1-q} \\|x_1-x_{0}\\|,\n",
    "$$\n",
    "\n",
    "pri čemu je druga ocjena bolja. Brzina konvergencije je _linearna_,\n",
    "\n",
    "$$\n",
    "\\|x_{k+1}-\\tilde x\\| \\leq q\\| x_k-\\tilde x\\|.\n",
    "$$\n",
    "\n",
    "[RS04]: http://www.mathos.unios.hr/pim/Materijali/Num.pdf \"R. Scitovski, 'Numerička matematika', Sveučilište u Osijeku, Osijek, 2004.\""
   ]
  },
  {
   "cell_type": "markdown",
   "metadata": {},
   "source": [
    "\n",
    "## Jacobijeva i Gauss-Seidelova metoda\n",
    "\n",
    "Neka je \n",
    "\n",
    "$$F(x)=Bx+c,$$\n",
    "\n",
    "pri čemu je $B$ kvadratna matrica. Tada je\n",
    "\n",
    "$$\n",
    "\\| F(x)-F(y)\\|=\\| Bx+c-(By+c)\\|=\\|B(x-y)\\| \\leq \\|B\\| \\|x-y\\|,\n",
    "$$\n",
    "\n",
    "pa je $F$ kontrakcija ako je\n",
    "\n",
    "$$\n",
    " \\|B\\|=q<1.\n",
    "$$\n",
    "\n",
    "Neka je zadan sustav  $Ax=b$. Matricu $A$ rastavimo kao\n",
    "\n",
    "$$\n",
    "A=D\\,(L+I+U)\n",
    "$$\n",
    "\n",
    "pri čemu je $D$ dijagonalna matrica, $L$ strogo donje trokutasta matrica i $U$ strogo gornje trokutasta matrica.\n",
    "\n",
    "### Jacobijeva metoda \n",
    "\n",
    "Neka je \n",
    "\n",
    "$$\n",
    "B=-(L+U), \\quad c=D^{-1}b.\n",
    "$$\n",
    "\n",
    "\n",
    "Ako je matrica $A$ _strogo dijagonalno dominantna_, \n",
    "\n",
    "$$\n",
    "\\| B\\|_{\\infty} = \\max_i \\sum_{{j=1} \\atop {j\\neq i}}^n \\frac{|a_{ij}|}{|a_{ii}|}<1,\n",
    "$$\n",
    "\n",
    "onda je preslikavanje $F$ kontrakcija (moguće je uzeti i druge norme) pa niz\n",
    "\n",
    "$$\n",
    "x_{k+1}=-(L+U)x_k+c\n",
    "$$\n",
    "\n",
    "konvergira prema rješenju sustava $x$.\n",
    "\n",
    "### Gauss-Seidel-ova metoda \n",
    "\n",
    "Neka je \n",
    "\n",
    "$$\n",
    "B=-(I+L)^{-1}U, \\quad c=(I+L)^{-1}\\, D^{-1}b.\n",
    "$$\n",
    "\n",
    "Bez dokaza navodimo sljedeću tvrdnju: ako je matrica $A$ strogo dijagonalno dominantna,\n",
    "onda je preslikavanje $F$ kontrakcija pa niz\n",
    "\n",
    "$$\n",
    "x_{k+1}=-(I+L)^{-1}Ux_k+(I+L)^{-1}D^{-1}b,\n",
    "$$\n",
    "\n",
    "odnosno\n",
    "\n",
    "$$\n",
    "x_{k+1}=-Lx_{k+1}-Ux_k+D^{-1}b,\n",
    "$$\n",
    "\n",
    "konvergira prema rješenju sustava $x$."
   ]
  },
  {
   "cell_type": "code",
   "execution_count": 1,
   "metadata": {},
   "outputs": [
    {
     "data": {
      "text/plain": [
       "myjacobi (generic function with 1 method)"
      ]
     },
     "execution_count": 1,
     "metadata": {},
     "output_type": "execute_result"
    }
   ],
   "source": [
    "using LinearAlgebra\n",
    "function myjacobi(A::Array,b::Array,x::Array)\n",
    "    D=diag(A)\n",
    "    L=tril(A,-1)./D\n",
    "    U=triu(A,1)./D\n",
    "    tol=1000*eps()\n",
    "    d=1.0\n",
    "    B=-(L+U)\n",
    "    c=b./D\n",
    "    q=norm(B,Inf)\n",
    "    # @show q\n",
    "    while d>tol\n",
    "        y=B*x+c\n",
    "        d=norm(x-y,Inf)\n",
    "        # @show d\n",
    "        x=y\n",
    "    end\n",
    "    x,d\n",
    "end"
   ]
  },
  {
   "cell_type": "code",
   "execution_count": 2,
   "metadata": {},
   "outputs": [
    {
     "data": {
      "text/plain": [
       "8-element Array{Float64,1}:\n",
       " 0.9249649192337484 \n",
       " 0.34893902341348704\n",
       " 0.7844226234383731 \n",
       " 0.8497747226798917 \n",
       " 0.11992936825521072\n",
       " 0.8601428096736736 \n",
       " 0.5768075478278709 \n",
       " 0.17805867488523286"
      ]
     },
     "execution_count": 2,
     "metadata": {},
     "output_type": "execute_result"
    }
   ],
   "source": [
    "import Random\n",
    "Random.seed!(123)\n",
    "n=8\n",
    "A=rand(n,n)\n",
    "# Napravimo matricu dijagonalno dominantnom\n",
    "A=A+n*I\n",
    "b=rand(n)"
   ]
  },
  {
   "cell_type": "code",
   "execution_count": 3,
   "metadata": {},
   "outputs": [
    {
     "data": {
      "text/plain": [
       "8-element Array{Float64,1}:\n",
       " 0.9519169935552045  \n",
       " 0.8780997467517853  \n",
       " 0.009166252824636123\n",
       " 0.5958963124776646  \n",
       " 0.9543508839651555  \n",
       " 0.8419452294952618  \n",
       " 0.2961019161242846  \n",
       " 0.8557272304345225  "
      ]
     },
     "execution_count": 3,
     "metadata": {},
     "output_type": "execute_result"
    }
   ],
   "source": [
    "# Početni vektor\n",
    "x0=rand(n)"
   ]
  },
  {
   "cell_type": "code",
   "execution_count": 4,
   "metadata": {},
   "outputs": [
    {
     "data": {
      "text/plain": [
       "8-element Array{Float64,1}:\n",
       "  0.08980305378762726 \n",
       "  0.014317578796243843\n",
       "  0.07456867749469606 \n",
       "  0.0821775198466023  \n",
       " -0.006931841179289444\n",
       "  0.08111609269051698 \n",
       "  0.056856588309506684\n",
       " -0.005698840205529316"
      ]
     },
     "execution_count": 4,
     "metadata": {},
     "output_type": "execute_result"
    }
   ],
   "source": [
    "x,d=myjacobi(A,b,x0)\n",
    "# Rješenje\n",
    "x"
   ]
  },
  {
   "cell_type": "code",
   "execution_count": 5,
   "metadata": {},
   "outputs": [
    {
     "data": {
      "text/plain": [
       "1.6361911825413245e-13"
      ]
     },
     "execution_count": 5,
     "metadata": {},
     "output_type": "execute_result"
    }
   ],
   "source": [
    "# Norma razlike dvije zadnje iteracije\n",
    "d"
   ]
  },
  {
   "cell_type": "code",
   "execution_count": 6,
   "metadata": {},
   "outputs": [
    {
     "data": {
      "text/plain": [
       "8-element Array{Float64,1}:\n",
       " -3.3995029014022293e-13\n",
       " -4.472533454702443e-13 \n",
       " -3.397282455352979e-13 \n",
       " -3.3006930522105904e-13\n",
       " -3.97237798210881e-13  \n",
       " -5.331290964250002e-13 \n",
       " -2.73003841755326e-13  \n",
       " -4.266031972122164e-13 "
      ]
     },
     "execution_count": 6,
     "metadata": {},
     "output_type": "execute_result"
    }
   ],
   "source": [
    "# Rezidual\n",
    "r=A*x-b"
   ]
  },
  {
   "cell_type": "code",
   "execution_count": 7,
   "metadata": {},
   "outputs": [
    {
     "data": {
      "text/plain": [
       "2.6299688420966703e-13"
      ]
     },
     "execution_count": 7,
     "metadata": {},
     "output_type": "execute_result"
    }
   ],
   "source": [
    "# Provjerimo i normu relativnog reziduala\n",
    "norm(r)/(norm(A)*norm(x))"
   ]
  },
  {
   "cell_type": "code",
   "execution_count": 8,
   "metadata": {},
   "outputs": [
    {
     "data": {
      "text/plain": [
       "mygaussseidel (generic function with 1 method)"
      ]
     },
     "execution_count": 8,
     "metadata": {},
     "output_type": "execute_result"
    }
   ],
   "source": [
    "function mygaussseidel(A::Array,b::Array,x::Array)\n",
    "    D=diag(A)\n",
    "    L=tril(A,-1)./D\n",
    "    U=triu(A,1)./D\n",
    "    tol=1000*eps()\n",
    "    d=1.0\n",
    "    # B=-inv(I+L)*U\n",
    "    B=-(I+L)\\U\n",
    "    c=(I+L)\\(b./D)\n",
    "    # @show norm(U,Inf)\n",
    "    y=Vector{Float64}(undef,n)\n",
    "    while d>tol\n",
    "        y=B*x+c\n",
    "        d=norm(x-y)\n",
    "        x=y\n",
    "    end\n",
    "    x,d\n",
    "end"
   ]
  },
  {
   "cell_type": "code",
   "execution_count": 9,
   "metadata": {},
   "outputs": [
    {
     "data": {
      "text/plain": [
       "8-element Array{Float64,1}:\n",
       "  0.08980305378765455  \n",
       "  0.01431757879628013  \n",
       "  0.07456867749472151  \n",
       "  0.08217751984662743  \n",
       " -0.0069318411792575986\n",
       "  0.08111609269056344  \n",
       "  0.05685658830953137  \n",
       " -0.0056988402054908545"
      ]
     },
     "execution_count": 9,
     "metadata": {},
     "output_type": "execute_result"
    }
   ],
   "source": [
    "x,d=mygaussseidel(A,b,x0)\n",
    "# Rješenje\n",
    "x"
   ]
  },
  {
   "cell_type": "code",
   "execution_count": 10,
   "metadata": {},
   "outputs": [
    {
     "data": {
      "text/plain": [
       "7.735306213254282e-14"
      ]
     },
     "execution_count": 10,
     "metadata": {},
     "output_type": "execute_result"
    }
   ],
   "source": [
    "# Norma razlike dvije zadnje iteracije\n",
    "d"
   ]
  },
  {
   "cell_type": "code",
   "execution_count": 11,
   "metadata": {},
   "outputs": [
    {
     "data": {
      "text/plain": [
       "8-element Array{Float64,1}:\n",
       " -5.88418203051333e-15  \n",
       " -2.930988785010413e-14 \n",
       " -2.6645352591003757e-14\n",
       " -1.7430501486614958e-14\n",
       " -6.7307270867900115e-15\n",
       " -3.6637359812630166e-15\n",
       " -1.1102230246251565e-16\n",
       "  2.7755575615628914e-17"
      ]
     },
     "execution_count": 11,
     "metadata": {},
     "output_type": "execute_result"
    }
   ],
   "source": [
    "# Rezidual\n",
    "A*x-b"
   ]
  },
  {
   "cell_type": "markdown",
   "metadata": {
    "collapsed": true
   },
   "source": [
    "Izmjerimo brzinu za veće matrice:"
   ]
  },
  {
   "cell_type": "code",
   "execution_count": 12,
   "metadata": {},
   "outputs": [
    {
     "data": {
      "text/plain": [
       "1024-element Array{Float64,1}:\n",
       " 0.16641614093330026\n",
       " 0.602302264828624  \n",
       " 0.466840691287818  \n",
       " 0.39403858534532366\n",
       " 0.0791761643861233 \n",
       " 0.13658772904085992\n",
       " 0.6473994571097141 \n",
       " 0.18238250664440225\n",
       " 0.29197913832578726\n",
       " 0.10273804645853324\n",
       " 0.3907351461765771 \n",
       " 0.8087040779127272 \n",
       " 0.6398599234494022 \n",
       " ⋮                  \n",
       " 0.05098896595273139\n",
       " 0.26938136455069683\n",
       " 0.9663749687160927 \n",
       " 0.6569570021468696 \n",
       " 0.6384179322464334 \n",
       " 0.6936973328260423 \n",
       " 0.5029705029470937 \n",
       " 0.16629793407793225\n",
       " 0.7268488402721949 \n",
       " 0.18606528684826107\n",
       " 0.7721857392292089 \n",
       " 0.8819063375259617 "
      ]
     },
     "execution_count": 12,
     "metadata": {},
     "output_type": "execute_result"
    }
   ],
   "source": [
    "n=1024\n",
    "A=rand(n,n)\n",
    "# Napravimo matricu dijagonalno dominantnom\n",
    "A=A+n*I\n",
    "b=rand(n)\n",
    "# Pocetni vektor\n",
    "x0=rand(n)"
   ]
  },
  {
   "cell_type": "code",
   "execution_count": 16,
   "metadata": {},
   "outputs": [
    {
     "name": "stdout",
     "output_type": "stream",
     "text": [
      "  0.025047 seconds (73 allocations: 64.413 MiB)\n"
     ]
    }
   ],
   "source": [
    "@time mygaussseidel(A,b,x0);"
   ]
  },
  {
   "cell_type": "code",
   "execution_count": 17,
   "metadata": {},
   "outputs": [
    {
     "name": "stdout",
     "output_type": "stream",
     "text": [
      "  0.011337 seconds (9 allocations: 8.016 MiB)\n"
     ]
    }
   ],
   "source": [
    "@time A\\b;"
   ]
  },
  {
   "cell_type": "markdown",
   "metadata": {},
   "source": [
    "__Zadatak:__ Probajte preraditi programe tako da alociraju manje memorije."
   ]
  },
  {
   "cell_type": "code",
   "execution_count": null,
   "metadata": {},
   "outputs": [],
   "source": []
  }
 ],
 "metadata": {
  "@webio": {
   "lastCommId": "f8f948aaedc84efa8d3f0619aca88277",
   "lastKernelId": "125e93b8-dc01-4bdd-9435-33c524ac1a38"
  },
  "kernelspec": {
   "display_name": "Julia 1.1.0",
   "language": "julia",
   "name": "julia-1.1"
  },
  "language_info": {
   "file_extension": ".jl",
   "mimetype": "application/julia",
   "name": "julia",
   "version": "1.1.0"
  }
 },
 "nbformat": 4,
 "nbformat_minor": 1
}
