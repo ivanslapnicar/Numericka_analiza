{
 "cells": [
  {
   "cell_type": "markdown",
   "metadata": {},
   "source": [
    "# Metoda najmanjih kvadrata\n",
    "\n",
    "---\n",
    "\n",
    "Neka je zadan sustav s više jednadžbi od nepoznanica:\n",
    "\n",
    "$$Ax=b, \\quad m>n.\n",
    "$$\n",
    "\n",
    "Ako sustav ima rješenje, tada je je $Ax-b=0$, odnosno $\\| Ax-b\\|=0$ za neku od matričnih normi.\n",
    "\n",
    "Ako sustav nema rješenje, tada je prirodno tražiti rješenje za koje je \n",
    "\n",
    "$$\n",
    "\\|Ax-b \\|_{1,2,\\infty}\\to \\min\n",
    "$$\n",
    "\n",
    "za odabranu vektorsku normu.\n",
    "\n",
    "Ako je $\\mathop{\\mathrm{rang}} A=n$, tada se __jedinstveno__ rješenje $x$ za koje \n",
    "\n",
    "$$\n",
    "\\|Ax-b \\|_{2}\\to \\min\n",
    "$$\n",
    "\n",
    "dobije rješavanjem sustava __normalnih jednadžbi__:\n",
    "\n",
    "$$\n",
    "A^T A x=A^T b. \\tag{*}\n",
    "$$\n",
    "\n",
    "__Dokaz__: Definirajmo\n",
    "\n",
    "$$\n",
    "Q(x)=\\|Ax-b\\|_2^2=(x^TA^T-b^T)(Ax-b)=x^TA^T A x -2x^T A^T b+b^Tb.\n",
    "$$\n",
    "\n",
    "Vrijedi\n",
    "\n",
    "\\begin{align}\n",
    "Q(x+h)&=(x^T+h^T)A^TA(x+h)-2(x^T+h^T)A^Tb+b^Tb \\\\\n",
    "&=Q(x) +2h^T(A^TAx-A^Tb)+h^TA^TAh\\\\ &= Q(x)+\\|Ah\\|_2^2 \\\\\n",
    "&\\geq Q(x),\n",
    "\\end{align}\n",
    "\n",
    "pa se minimum zaista postiže u $x$.\n",
    "\n",
    "Rješenje je jedinstveno jer $Q(x)=Q(y)$ povlači $\\|Ax\\|_2=0$ pa je ili $h=0$ ili $\\mathop{\\mathrm{rang}} A<n$ što je kontradikcija. _QED_\n",
    "\n",
    "__Geometrijsko značenje__: Vektori $Ax$ i $Ax -b$ su međusobno okomiti, \n",
    "\n",
    "$$\n",
    "(Ax)^T\\cdot (Ax - b)=x^T (A^TAx - A^Tb)=0. \n",
    "$$ \n",
    "\n",
    "Dakle, $Ax$ je ortogonalna projekcija vektora $b$ na skup $\\{Ay:\\ y \\textrm{ proizvoljan}\\}$.\n",
    "\n",
    "__Kvaliteta prilagodbe__: Rješenje $x$ zove se __kvadratična prilagodba__ \n",
    "sustavu $A x=b$ u smislu najmanjih kvadrata. Kvalitetu prilagodbe mjerimo s\n",
    "\n",
    "$$\n",
    "q=\\sqrt{\\frac{Q(x)}{Q(0)}}=\\frac{\\|A x - b\\|_2}{\\|b\\|_2 }.\n",
    "$$"
   ]
  },
  {
   "cell_type": "markdown",
   "metadata": {},
   "source": [
    "## Primjer\n",
    "\n",
    "Riješimo sustav \n",
    "\\begin{align}\n",
    "x+y&=0\\\\\n",
    "y+z&=1\\\\\n",
    "x+z&=0\\\\\n",
    "-x+y+z&=1\\\\\n",
    "-x-z&=0\n",
    "\\end{align}\n",
    "u smislu najmanjih kvadrata."
   ]
  },
  {
   "cell_type": "code",
   "execution_count": 1,
   "metadata": {
    "collapsed": false
   },
   "outputs": [
    {
     "data": {
      "text/plain": [
       "5x3 Array{Rational{Int64},2}:\n",
       "  1//1  1//1   0//1\n",
       "  0//1  1//1   1//1\n",
       "  1//1  0//1   1//1\n",
       " -1//1  1//1   1//1\n",
       " -1//1  0//1  -1//1"
      ]
     },
     "execution_count": 1,
     "metadata": {},
     "output_type": "execute_result"
    }
   ],
   "source": [
    "A=[1//1 1 0;0 1 1;1 0 1;-1 1 1;-1 0 -1]"
   ]
  },
  {
   "cell_type": "code",
   "execution_count": 2,
   "metadata": {
    "collapsed": false
   },
   "outputs": [
    {
     "data": {
      "text/plain": [
       "5-element Array{Rational{Int64},1}:\n",
       " 0//1\n",
       " 1//1\n",
       " 0//1\n",
       " 1//1\n",
       " 0//1"
      ]
     },
     "execution_count": 2,
     "metadata": {},
     "output_type": "execute_result"
    }
   ],
   "source": [
    "b=collect([0//1,1,0,1,0])"
   ]
  },
  {
   "cell_type": "code",
   "execution_count": 3,
   "metadata": {
    "collapsed": false
   },
   "outputs": [
    {
     "data": {
      "text/plain": [
       "3-element Array{Rational{Int64},1}:\n",
       " -10//29\n",
       "  12//29\n",
       "  11//29"
      ]
     },
     "execution_count": 3,
     "metadata": {},
     "output_type": "execute_result"
    }
   ],
   "source": [
    "x=(A'*A)\\(A'*b)"
   ]
  },
  {
   "cell_type": "code",
   "execution_count": 4,
   "metadata": {
    "collapsed": false
   },
   "outputs": [
    {
     "data": {
      "text/plain": [
       "0.430923819458906"
      ]
     },
     "execution_count": 4,
     "metadata": {},
     "output_type": "execute_result"
    }
   ],
   "source": [
    "# Kvaliteta prilagodbe\n",
    "q=sqrt(norm(A*x-b)/norm(b))"
   ]
  },
  {
   "cell_type": "markdown",
   "metadata": {},
   "source": [
    "Ako je sustav predefiniran, standardna naredba odmah računa kvadratičnu prilagodbu, pri čemu se koristi QR rastav:"
   ]
  },
  {
   "cell_type": "code",
   "execution_count": 5,
   "metadata": {
    "collapsed": false
   },
   "outputs": [
    {
     "data": {
      "text/plain": [
       "3-element Array{Float64,1}:\n",
       " -0.344828\n",
       "  0.413793\n",
       "  0.37931 "
      ]
     },
     "execution_count": 5,
     "metadata": {},
     "output_type": "execute_result"
    }
   ],
   "source": [
    "x1=float(A)\\float(b)"
   ]
  },
  {
   "cell_type": "code",
   "execution_count": 6,
   "metadata": {
    "collapsed": false
   },
   "outputs": [
    {
     "data": {
      "text/plain": [
       "3-element Array{Float64,1}:\n",
       " -0.344828\n",
       "  0.413793\n",
       "  0.37931 "
      ]
     },
     "execution_count": 6,
     "metadata": {},
     "output_type": "execute_result"
    }
   ],
   "source": [
    "float(x)"
   ]
  },
  {
   "cell_type": "markdown",
   "metadata": {},
   "source": [
    "## Primjer"
   ]
  },
  {
   "cell_type": "code",
   "execution_count": 7,
   "metadata": {
    "collapsed": false
   },
   "outputs": [
    {
     "data": {
      "text/plain": [
       "20-element Array{Float64,1}:\n",
       " 0.166099 \n",
       " 0.989204 \n",
       " 0.772658 \n",
       " 0.257965 \n",
       " 0.530256 \n",
       " 0.01435  \n",
       " 0.432266 \n",
       " 0.480245 \n",
       " 0.0750227\n",
       " 0.05277  \n",
       " 0.0382423\n",
       " 0.484689 \n",
       " 0.50907  \n",
       " 0.933    \n",
       " 0.479462 \n",
       " 0.192384 \n",
       " 0.0113416\n",
       " 0.728678 \n",
       " 0.203411 \n",
       " 0.410308 "
      ]
     },
     "execution_count": 7,
     "metadata": {},
     "output_type": "execute_result"
    }
   ],
   "source": [
    "A=rand(20,10)\n",
    "b=rand(20)"
   ]
  },
  {
   "cell_type": "code",
   "execution_count": 8,
   "metadata": {
    "collapsed": false
   },
   "outputs": [
    {
     "data": {
      "text/plain": [
       "10-element Array{Float64,1}:\n",
       "  0.24593   \n",
       " -0.339952  \n",
       "  0.00144587\n",
       "  0.0650736 \n",
       "  0.142436  \n",
       " -0.248104  \n",
       "  0.343963  \n",
       "  0.321635  \n",
       "  0.0271387 \n",
       "  0.155659  "
      ]
     },
     "execution_count": 8,
     "metadata": {},
     "output_type": "execute_result"
    }
   ],
   "source": [
    "x=A\\b"
   ]
  },
  {
   "cell_type": "code",
   "execution_count": 9,
   "metadata": {
    "collapsed": false
   },
   "outputs": [
    {
     "data": {
      "text/plain": [
       "0.708789452606682"
      ]
     },
     "execution_count": 9,
     "metadata": {},
     "output_type": "execute_result"
    }
   ],
   "source": [
    "q=sqrt(norm(A*x-b)/norm(b))"
   ]
  },
  {
   "cell_type": "markdown",
   "metadata": {},
   "source": [
    "## Točnost\n",
    "\n",
    "__Osjetljivost problema najmanjih kvadarata__ dana je sljedećim ocjenama (vidi [Matrix Computations, poglavlje 5][GVL13]):\n",
    "\n",
    "Za matricu $A$ __kondiciju__ definiramo na sljedeći način:\n",
    "\n",
    "$$\n",
    "\\kappa_2(A)=\\sqrt{\\kappa(A^TA)}=\\|A\\|_2 \\|(A^TA)^{-1} A^T\\|_2.\n",
    "$$\n",
    "\n",
    "Neka su $x$ i $\\hat x$, kvadratične prilagodbe sustava $Ax=b$ i \n",
    "$(A+\\delta A)\\hat x=b+\\delta b$. __Reziduali__ su definirani s\n",
    "\n",
    "$$\n",
    "r=Ax-b\\\\\n",
    "\\hat r=(A+\\delta A)\\hat x-(b+\\delta b).\n",
    "$$\n",
    "\n",
    "Neka je \n",
    "\n",
    "$$\n",
    "\\epsilon=\\max \\bigg\\{ \\frac{\\|\\delta A\\|_2}{\\|A\\|_2},\\frac{\\|\\delta b\\|_2}{\\|b\\|_2}\\bigg\\}\n",
    "$$\n",
    "\n",
    "i neka je \n",
    "\n",
    "$$\n",
    "q=\\frac {\\|r\\|_2}{\\|b\\|_2}\\equiv\\sin\\theta <1.\n",
    "$$\n",
    "\n",
    "Vrijedi:\n",
    "\n",
    "$$\n",
    "\\frac{\\|\\hat x-x\\|_2}{\\|x\\|_2}\\leq \\epsilon \\bigg[\\frac{2\\kappa_2(A)}{\\cos \\theta} +\\tan\\theta \\kappa_2^2(A)\\bigg]+O(\\epsilon^2),\\\\\n",
    "\\frac{\\|\\hat r-r\\|_2}{\\|b\\|_2}\\leq \\epsilon [1+ 2\\kappa_2(A)](m-n)+O(\\epsilon^2).\n",
    "$$\n",
    "\n",
    "Vidimo da je rezidual manje osjetljiv od samog mjesta na kojem se postiže.\n",
    "\n",
    "[GVL13]: https://books.google.hr/books?id=X5YfsuCWpxMC&printsec=frontcover&hl=hr#v=onepage&q&f=false \"G. Golub and C. F Van Loan, 'Matrix Computations', 4th Edition, John Hopkins, Baltimore, 2013\""
   ]
  },
  {
   "cell_type": "code",
   "execution_count": 10,
   "metadata": {
    "collapsed": false
   },
   "outputs": [
    {
     "data": {
      "text/plain": [
       "20.588460242751626"
      ]
     },
     "execution_count": 10,
     "metadata": {},
     "output_type": "execute_result"
    }
   ],
   "source": [
    "cond(A)"
   ]
  },
  {
   "cell_type": "code",
   "execution_count": 11,
   "metadata": {
    "collapsed": false
   },
   "outputs": [
    {
     "data": {
      "text/plain": [
       "20x10 Array{Float64,2}:\n",
       " -1.9214e-5   -1.11937e-5  -4.53915e-5  …  -5.27373e-6  -8.53116e-6\n",
       " -2.58294e-5   2.71503e-5  -2.6394e-5       1.62489e-5   1.38992e-6\n",
       " -3.77477e-6   1.15398e-5   3.94376e-7     -3.22636e-6   3.05955e-6\n",
       "  1.6206e-5   -1.36506e-5   4.48609e-5     -1.38901e-5   2.13736e-5\n",
       " -3.62115e-5  -1.27123e-5  -2.27213e-5      5.84242e-6   2.29748e-5\n",
       " -3.32238e-5  -3.11676e-5   3.99667e-5  …  -1.54142e-5   2.85374e-5\n",
       " -4.84128e-5   1.8978e-5   -2.09586e-5      2.35373e-5  -4.02488e-5\n",
       "  1.2838e-5   -3.87604e-5   2.86235e-5     -2.02326e-5  -2.61881e-6\n",
       "  7.53995e-6  -4.1393e-5    1.9649e-5      -3.40317e-5  -2.71387e-5\n",
       "  2.28628e-5  -1.35953e-5  -1.89866e-5     -4.66765e-5   1.7548e-5 \n",
       " -3.03537e-5  -4.46729e-5  -2.12625e-6  …   4.46005e-5  -1.1126e-5 \n",
       "  3.28806e-5   1.70716e-5   3.17601e-5     -3.80589e-5  -4.75167e-6\n",
       "  2.50765e-5   3.63437e-5   2.94684e-6     -2.66497e-5   1.32845e-5\n",
       "  3.20586e-5  -1.5613e-5    3.05049e-5     -1.37526e-6   2.79822e-5\n",
       "  1.37132e-5  -2.83235e-6  -3.47794e-5      2.87951e-5  -4.44812e-5\n",
       " -9.30996e-6   2.61842e-5  -8.2086e-9   …  -3.21416e-5   1.74078e-5\n",
       " -2.60588e-5   1.43816e-5   5.01874e-6     -4.92704e-5   2.18001e-5\n",
       "  3.9136e-5    4.6938e-5   -2.34363e-5      1.41114e-6  -2.20314e-5\n",
       "  4.55298e-5   4.45267e-5  -2.04558e-5     -3.30039e-5  -2.99234e-5\n",
       "  2.81133e-5  -4.49312e-5  -1.48337e-5     -5.26012e-6  -2.82823e-5"
      ]
     },
     "execution_count": 11,
     "metadata": {},
     "output_type": "execute_result"
    }
   ],
   "source": [
    "δA=1e-4*(rand(20,10)-0.5)"
   ]
  },
  {
   "cell_type": "code",
   "execution_count": 12,
   "metadata": {
    "collapsed": false
   },
   "outputs": [
    {
     "data": {
      "text/plain": [
       "10-element Array{Float64,1}:\n",
       "  0.245941  \n",
       " -0.339802  \n",
       "  0.00152111\n",
       "  0.065012  \n",
       "  0.142383  \n",
       " -0.248017  \n",
       "  0.343945  \n",
       "  0.321716  \n",
       "  0.0269939 \n",
       "  0.155573  "
      ]
     },
     "execution_count": 12,
     "metadata": {},
     "output_type": "execute_result"
    }
   ],
   "source": [
    "x1=(A+δA)\\b"
   ]
  },
  {
   "cell_type": "code",
   "execution_count": 13,
   "metadata": {
    "collapsed": false
   },
   "outputs": [
    {
     "data": {
      "text/plain": [
       "20-element Array{Float64,1}:\n",
       "  0.10834  \n",
       " -0.31516  \n",
       " -0.194999 \n",
       "  0.164261 \n",
       " -0.119223 \n",
       "  0.119973 \n",
       "  0.121076 \n",
       " -0.220798 \n",
       "  0.379826 \n",
       "  0.20172  \n",
       "  0.478388 \n",
       " -0.142194 \n",
       " -0.316618 \n",
       " -0.305485 \n",
       " -0.248539 \n",
       "  0.0498334\n",
       "  0.430245 \n",
       " -0.191728 \n",
       " -0.090967 \n",
       "  0.0946719"
      ]
     },
     "execution_count": 13,
     "metadata": {},
     "output_type": "execute_result"
    }
   ],
   "source": [
    "r=A*x-b\n",
    "r1=(A+δA)*x-b"
   ]
  },
  {
   "cell_type": "code",
   "execution_count": 14,
   "metadata": {
    "collapsed": false
   },
   "outputs": [
    {
     "data": {
      "text/plain": [
       "(0.0003909913129679,3.4653198559193164e-5)"
      ]
     },
     "execution_count": 14,
     "metadata": {},
     "output_type": "execute_result"
    }
   ],
   "source": [
    "norm(x1-x)/norm(x), norm(r1-r)/norm(b)"
   ]
  },
  {
   "cell_type": "markdown",
   "metadata": {},
   "source": [
    "__Napomena__: Ako je $\\mathop{\\mathrm{rang}}A =n$, matrica $A^TA$ je simetrična i pozitivno definitna pa se sustav (*) može riješiti metodom Choleskog.\n",
    "\n",
    "Za izračunato rješenje $\\hat x$ vrijedi\n",
    "\n",
    "$$\n",
    "(A^TA +E)\\hat x=A^Tb,\n",
    "$$\n",
    "\n",
    "gdje je \n",
    "\n",
    "$$ \n",
    "\\|A\\|_2\\approx \\varepsilon \\| A^TA\\|_2,\n",
    "$$\n",
    "\n",
    "pa za relativnu pogrešku vrijedi ocjena\n",
    "\n",
    "$$\n",
    "\\frac{\\|\\hat x -x\\|_2}{\\|x\\|_2}\\approx \\varepsilon \\kappa_2(A^TA) =\\varepsilon \\kappa^2_2(A).\n",
    "$$\n",
    "\n",
    "\n",
    "> Dakle, relativna pogreška rješenja dobivenog pomoću metode normalnih jednadžbi ovisi o __kvadratu kondicije__ pa je bolje koristiti QR rastav."
   ]
  },
  {
   "cell_type": "code",
   "execution_count": null,
   "metadata": {
    "collapsed": true
   },
   "outputs": [],
   "source": []
  }
 ],
 "metadata": {
  "anaconda-cloud": {},
  "kernelspec": {
   "display_name": "Julia 0.4.5",
   "language": "julia",
   "name": "julia-0.4"
  },
  "language_info": {
   "file_extension": ".jl",
   "mimetype": "application/julia",
   "name": "julia",
   "version": "0.4.5"
  }
 },
 "nbformat": 4,
 "nbformat_minor": 0
}
