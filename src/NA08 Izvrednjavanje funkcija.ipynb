{
 "cells": [
  {
   "cell_type": "markdown",
   "metadata": {},
   "source": [
    "# Izvrednjavanje funkcija\n",
    "\n",
    "Računalo može izvoditi samo četiri osnovne operacije, `+`, `-`, `*` i `/` pa se sve ostale funkcije \n",
    "računaju pomoću polinoma (npr. Taylorova formula uz ocjenu ostatka ili bolje formule).\n",
    "\n",
    "Neka je zadan polinom _stupnja_ $n$:\n",
    "\n",
    "$$\n",
    "p_n(x)=a_0+a_1 x+a_2x^2+a_3 x^3+\\cdots + a_{n-1}x^{n-1}+a_n x^n,\\quad a_n\\neq 0.\n",
    "$$\n",
    "\n",
    "## Brzina\n",
    "\n",
    "Direktno računanje vrijednosti $p_n(x)$ treba $O(n^2)$ operacija.\n",
    "\n",
    "Uz __pamćenje potencija__ imamo sljedeći algoritam:"
   ]
  },
  {
   "cell_type": "code",
   "execution_count": 1,
   "metadata": {},
   "outputs": [],
   "source": [
    "using Polynomials"
   ]
  },
  {
   "cell_type": "code",
   "execution_count": 3,
   "metadata": {},
   "outputs": [
    {
     "data": {
      "text/plain": [
       "mypolyval (generic function with 1 method)"
      ]
     },
     "execution_count": 3,
     "metadata": {},
     "output_type": "execute_result"
    }
   ],
   "source": [
    "function mypolyval(p::Poly,x::Number)\n",
    "    s=p[0]\n",
    "    t=one(typeof(p[0]))\n",
    "    for i=1:length(p)-1\n",
    "        t*=x\n",
    "        s+=p[i]*t\n",
    "    end\n",
    "    s\n",
    "end "
   ]
  },
  {
   "cell_type": "code",
   "execution_count": 4,
   "metadata": {},
   "outputs": [
    {
     "data": {
      "text/html": [
       "1 &#43; 2&#8729;x &#43; 3&#8729;x<sup>2</sup> &#43; 4&#8729;x<sup>3</sup> &#43; 5&#8729;x<sup>4</sup>"
      ],
      "text/latex": [
       "$1 + 2\\cdot x + 3\\cdot x^{2} + 4\\cdot x^{3} + 5\\cdot x^{4}$"
      ],
      "text/plain": [
       "Poly(1 + 2*x + 3*x^2 + 4*x^3 + 5*x^4)"
      ]
     },
     "execution_count": 4,
     "metadata": {},
     "output_type": "execute_result"
    }
   ],
   "source": [
    "p=Poly([1,2,3,4,5])"
   ]
  },
  {
   "cell_type": "code",
   "execution_count": 5,
   "metadata": {},
   "outputs": [
    {
     "data": {
      "text/plain": [
       "547"
      ]
     },
     "execution_count": 5,
     "metadata": {},
     "output_type": "execute_result"
    }
   ],
   "source": [
    "mypolyval(p,3)"
   ]
  },
  {
   "cell_type": "code",
   "execution_count": 6,
   "metadata": {},
   "outputs": [
    {
     "data": {
      "text/plain": [
       "647.962560401659"
      ]
     },
     "execution_count": 6,
     "metadata": {},
     "output_type": "execute_result"
    }
   ],
   "source": [
    "mypolyval(p,π)"
   ]
  },
  {
   "cell_type": "markdown",
   "metadata": {},
   "source": [
    "Funkcija `mypolyval()` koristi $2n$ množenje i $n$ zbrajanja."
   ]
  },
  {
   "cell_type": "code",
   "execution_count": 9,
   "metadata": {},
   "outputs": [],
   "source": [
    "using Random\n",
    "Random.seed!(123)\n",
    "pbig=Poly(rand(1000));"
   ]
  },
  {
   "cell_type": "code",
   "execution_count": 10,
   "metadata": {},
   "outputs": [
    {
     "name": "stdout",
     "output_type": "stream",
     "text": [
      "  0.008259 seconds (26.95 k allocations: 1.398 MiB)\n"
     ]
    },
    {
     "data": {
      "text/plain": [
       "1.0876081198598302e176"
      ]
     },
     "execution_count": 10,
     "metadata": {},
     "output_type": "execute_result"
    }
   ],
   "source": [
    "@time mypolyval(pbig,1.5)"
   ]
  },
  {
   "cell_type": "code",
   "execution_count": 12,
   "metadata": {},
   "outputs": [
    {
     "name": "stdout",
     "output_type": "stream",
     "text": [
      "  0.000004 seconds (5 allocations: 176 bytes)\n"
     ]
    },
    {
     "data": {
      "text/plain": [
       "1.0876081198598281e176"
      ]
     },
     "execution_count": 12,
     "metadata": {},
     "output_type": "execute_result"
    }
   ],
   "source": [
    "@time polyval(pbig,1.5)"
   ]
  },
  {
   "cell_type": "markdown",
   "metadata": {},
   "source": [
    "__Hornerova shema__ (Horner, 1819, Newton 1669) treba $n$ množenja i $n$ zbrajanja:"
   ]
  },
  {
   "cell_type": "code",
   "execution_count": 13,
   "metadata": {},
   "outputs": [
    {
     "data": {
      "text/plain": [
       "myhorner (generic function with 1 method)"
      ]
     },
     "execution_count": 13,
     "metadata": {},
     "output_type": "execute_result"
    }
   ],
   "source": [
    "function myhorner(p::Poly,x::Number)\n",
    "    s=p[end]\n",
    "    for i=length(p)-2:-1:0\n",
    "        # s*=x\n",
    "        # s+=p[i]\n",
    "        s=s*x+p[i]\n",
    "    end\n",
    "    s\n",
    "end"
   ]
  },
  {
   "cell_type": "code",
   "execution_count": 14,
   "metadata": {},
   "outputs": [
    {
     "data": {
      "text/plain": [
       "547"
      ]
     },
     "execution_count": 14,
     "metadata": {},
     "output_type": "execute_result"
    }
   ],
   "source": [
    "myhorner(p,3)"
   ]
  },
  {
   "cell_type": "code",
   "execution_count": 16,
   "metadata": {},
   "outputs": [
    {
     "name": "stdout",
     "output_type": "stream",
     "text": [
      "  0.000005 seconds (5 allocations: 176 bytes)\n"
     ]
    },
    {
     "data": {
      "text/plain": [
       "1.0876081198598281e176"
      ]
     },
     "execution_count": 16,
     "metadata": {},
     "output_type": "execute_result"
    }
   ],
   "source": [
    "@time myhorner(pbig,1.5)"
   ]
  },
  {
   "cell_type": "markdown",
   "metadata": {},
   "source": [
    "Hornerova shema je __optimalna__ u smislu da je općenito za izvrednjavanje polinoma $p_n(x)$ potrebno barem $n$ množenja. \n",
    "\n",
    "(Mogući su, naravno, posebni slučajevi, kao $x^{100}$.) "
   ]
  },
  {
   "cell_type": "markdown",
   "metadata": {},
   "source": [
    "## Točnost\n",
    "\n",
    "Neka je $\\hat q$ vrijednost $p_n(x)$ izračunata u aritmetici s točnošću stroja $\\varepsilon$. Tada vrijedi ocjena\n",
    "(vidi [Accuracy and Stability of Numerical Algorithms, str. 105][Hig96]):\n",
    "\n",
    "$$\n",
    "\\big|\\, p_n(x)-\\hat q\\,\\big| \\leq \\frac{2n\\varepsilon}{1-2n\\varepsilon} \\sum_{i=0}^n |a_i||x|^i.\n",
    "$$\n",
    "\n",
    "[Hig96]: https://books.google.hr/books?id=5tv3HdF-0N8C&printsec=frontcover&hl=hr#v=onepage&q&f=false    \"Nick Higham, 'Accuracy and Stability of Numerical Algorithms', SIAM, Philadelphia, 1996\""
   ]
  },
  {
   "cell_type": "code",
   "execution_count": 17,
   "metadata": {},
   "outputs": [
    {
     "data": {
      "text/plain": [
       "41.142135623730965"
      ]
     },
     "execution_count": 17,
     "metadata": {},
     "output_type": "execute_result"
    }
   ],
   "source": [
    "p=Poly([1,2,3,4,5])\n",
    "myhorner(p,sqrt(2))"
   ]
  },
  {
   "cell_type": "code",
   "execution_count": 18,
   "metadata": {},
   "outputs": [
    {
     "data": {
      "text/html": [
       "1 &#43; 2&#8729;x &#43; 3&#8729;x<sup>2</sup> &#43; 4&#8729;x<sup>3</sup> &#43; 5&#8729;x<sup>4</sup>"
      ],
      "text/latex": [
       "$1 + 2\\cdot x + 3\\cdot x^{2} + 4\\cdot x^{3} + 5\\cdot x^{4}$"
      ],
      "text/plain": [
       "Poly(1 + 2*x + 3*x^2 + 4*x^3 + 5*x^4)"
      ]
     },
     "execution_count": 18,
     "metadata": {},
     "output_type": "execute_result"
    }
   ],
   "source": [
    "pb=Poly(map(BigInt,[1,2,3,4,5]))"
   ]
  },
  {
   "cell_type": "code",
   "execution_count": 19,
   "metadata": {},
   "outputs": [
    {
     "data": {
      "text/plain": [
       "41.14213562373095048801688724209698078569671875376948073176679737990732478462071"
      ]
     },
     "execution_count": 19,
     "metadata": {},
     "output_type": "execute_result"
    }
   ],
   "source": [
    "myhorner(pb,sqrt(map(BigFloat,2)))"
   ]
  },
  {
   "cell_type": "code",
   "execution_count": 20,
   "metadata": {},
   "outputs": [
    {
     "data": {
      "text/plain": [
       "2.0035837177182715e11"
      ]
     },
     "execution_count": 20,
     "metadata": {},
     "output_type": "execute_result"
    }
   ],
   "source": [
    "myhorner(p,sqrt(200000))"
   ]
  },
  {
   "cell_type": "code",
   "execution_count": 21,
   "metadata": {},
   "outputs": [
    {
     "data": {
      "text/plain": [
       "2.003583717718271573513413463506664716901809931137851879604936332676245815123154e+11"
      ]
     },
     "execution_count": 21,
     "metadata": {},
     "output_type": "execute_result"
    }
   ],
   "source": [
    "myhorner(pb,sqrt(map(BigFloat,200000)))"
   ]
  },
  {
   "cell_type": "code",
   "execution_count": 22,
   "metadata": {},
   "outputs": [
    {
     "data": {
      "text/html": [
       "&#45;3600.0000000000005 &#43; 10074.701294725885&#8729;x &#45; 10926.667524715478&#8729;x<sup>2</sup> &#43; 5983.714713523981&#8729;x<sup>3</sup> &#45; 1813.4835482706842&#8729;x<sup>4</sup> &#43; 308.2203461105329&#8729;x<sup>5</sup> &#45; 27.48528137423857&#8729;x<sup>6</sup> &#43; 1.0&#8729;x<sup>7</sup>"
      ],
      "text/latex": [
       "$-3600.0000000000005 + 10074.701294725885\\cdot x - 10926.667524715478\\cdot x^{2} + 5983.714713523981\\cdot x^{3} - 1813.4835482706842\\cdot x^{4} + 308.2203461105329\\cdot x^{5} - 27.48528137423857\\cdot x^{6} + 1.0\\cdot x^{7}$"
      ],
      "text/plain": [
       "Poly(-3600.0000000000005 + 10074.701294725885*x - 10926.667524715478*x^2 + 5983.714713523981*x^3 - 1813.4835482706842*x^4 + 308.2203461105329*x^5 - 27.48528137423857*x^6 + 1.0*x^7)"
      ]
     },
     "execution_count": 22,
     "metadata": {},
     "output_type": "execute_result"
    }
   ],
   "source": [
    "r=[1,sqrt(2),3,4,5,6,sqrt(50)]\n",
    "p=poly(r)"
   ]
  },
  {
   "cell_type": "code",
   "execution_count": 23,
   "metadata": {},
   "outputs": [
    {
     "data": {
      "text/html": [
       "&#45;3600.000000000000379131566326426658519951798233677472418044762658695390200591646 &#43; 10074.70129472588617359567977839658265635786507617888371518728718445601089115371&#8729;x &#45; 10926.66752471547708236282815742121598471939907533833099921843218238493022909097&#8729;x<sup>2</sup> &#43; 5983.714713523981214300865042833422625843619822133098010478145789559079048558488&#8729;x<sup>3</sup> &#45; 1813.483548270684199169749849270990311652746621526228579007918029208923371697892&#8729;x<sup>4</sup> &#43; 308.2203461105328434184026381162611967403808614536830831056798962741538616683101&#8729;x<sup>5</sup> &#45; 27.4852813742385706508031262274016626179218292236328125&#8729;x<sup>6</sup> &#43; 1.0&#8729;x<sup>7</sup>"
      ],
      "text/latex": [
       "$-3600.000000000000379131566326426658519951798233677472418044762658695390200591646 + 10074.70129472588617359567977839658265635786507617888371518728718445601089115371\\cdot x - 10926.66752471547708236282815742121598471939907533833099921843218238493022909097\\cdot x^{2} + 5983.714713523981214300865042833422625843619822133098010478145789559079048558488\\cdot x^{3} - 1813.483548270684199169749849270990311652746621526228579007918029208923371697892\\cdot x^{4} + 308.2203461105328434184026381162611967403808614536830831056798962741538616683101\\cdot x^{5} - 27.4852813742385706508031262274016626179218292236328125\\cdot x^{6} + 1.0\\cdot x^{7}$"
      ],
      "text/plain": [
       "Poly(-3600.000000000000379131566326426658519951798233677472418044762658695390200591646 + 10074.70129472588617359567977839658265635786507617888371518728718445601089115371*x - 10926.66752471547708236282815742121598471939907533833099921843218238493022909097*x^2 + 5983.714713523981214300865042833422625843619822133098010478145789559079048558488*x^3 - 1813.483548270684199169749849270990311652746621526228579007918029208923371697892*x^4 + 308.2203461105328434184026381162611967403808614536830831056798962741538616683101*x^5 - 27.4852813742385706508031262274016626179218292236328125*x^6 + 1.0*x^7)"
      ]
     },
     "execution_count": 23,
     "metadata": {},
     "output_type": "execute_result"
    }
   ],
   "source": [
    "pb=poly(map(BigFloat,r))"
   ]
  },
  {
   "cell_type": "code",
   "execution_count": 24,
   "metadata": {},
   "outputs": [
    {
     "data": {
      "text/plain": [
       "-16.501829900900248"
      ]
     },
     "execution_count": 24,
     "metadata": {},
     "output_type": "execute_result"
    }
   ],
   "source": [
    "myhorner(p,sqrt(2)+0.1)"
   ]
  },
  {
   "cell_type": "code",
   "execution_count": 25,
   "metadata": {},
   "outputs": [
    {
     "data": {
      "text/plain": [
       "-16.50182990089441570965221108407569790203119747704640347484765272697823211215861"
      ]
     },
     "execution_count": 25,
     "metadata": {},
     "output_type": "execute_result"
    }
   ],
   "source": [
    "myhorner(pb,sqrt(map(BigFloat,2))+0.1)"
   ]
  },
  {
   "cell_type": "code",
   "execution_count": 26,
   "metadata": {},
   "outputs": [
    {
     "data": {
      "text/plain": [
       "-1.307549271826299e14"
      ]
     },
     "execution_count": 26,
     "metadata": {},
     "output_type": "execute_result"
    }
   ],
   "source": [
    "myhorner(p,-sqrt(10000))"
   ]
  },
  {
   "cell_type": "code",
   "execution_count": 28,
   "metadata": {},
   "outputs": [
    {
     "data": {
      "text/plain": [
       "-1.307549271826298681134778698255153254173615274698734585218439050325472949865002e+14"
      ]
     },
     "execution_count": 28,
     "metadata": {},
     "output_type": "execute_result"
    }
   ],
   "source": [
    "myhorner(pb,-sqrt(map(BigFloat,10000)))"
   ]
  }
 ],
 "metadata": {
  "kernelspec": {
   "display_name": "Julia 1.1.0",
   "language": "julia",
   "name": "julia-1.1"
  },
  "language_info": {
   "file_extension": ".jl",
   "mimetype": "application/julia",
   "name": "julia",
   "version": "1.1.0"
  }
 },
 "nbformat": 4,
 "nbformat_minor": 1
}
