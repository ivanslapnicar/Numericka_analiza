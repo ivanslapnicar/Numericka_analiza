{
 "cells": [
  {
   "cell_type": "markdown",
   "metadata": {},
   "source": [
    "# Numerička integracija\n",
    "\n",
    "---\n",
    "\n",
    "## Newton-Cotes-ova formula\n",
    "\n",
    "Funkcija $f(x):[a,b]\\to\\mathbb{R}$ se interpolira polinomom stupnja $n$ u kroz $n+1$ ravnomjerno raspoređenih točaka te se integral aproksimira integralom interpolacijskog polinoma. Polinom možemo računati u Lagrange-ovom obliku  \n",
    "(vidi bilježnicu [NA09_Interpolacijski_polinomi.ipynb](NA09_Interpolacijski_polinomi.ipynb)):\n",
    "\n",
    "$$\n",
    "L_k(x)=\\prod_{{i=0}\\atop {i\\neq k}}^n \\frac{x-x_i}{x_k-x_i}\n",
    "$$\n",
    "\n",
    "Tada je \n",
    "\n",
    "$$\n",
    "f(x)\\approx P_n(x)=\\sum_{k=0}^n f(x_k) L_k(x),\n",
    "$$\n",
    "\n",
    "pa je \n",
    "\n",
    "$$\n",
    "\\int_a^b f(x)\\, dx\\approx \\int_a^b P_n(x) \\, dx=\\sum_{k=0}^n f(x_k) \\int_a^b L_k(x)\\, dx =(b-a)\\sum_{k=0}^n \\omega_k f(x_k). \\tag{1}\n",
    "$$\n",
    "\n",
    "Uz supstituciju $x=a+(b-a)t$, __težine__ $\\omega_k$ su\n",
    "\n",
    "$$\n",
    "\\omega_k=\\frac{1}{b-a}\\int_a^b L_k(x)\\, dx = \\int_0^1 \\prod_{{i=0}\\atop {i\\neq k}}^n \\frac{nt-i}{k-i}.\n",
    "$$\n",
    "\n",
    "### Trapezna formula\n",
    "\n",
    "Za $n=1$ Newton-Cotes-ova formula (1) daje \n",
    "\n",
    "$$\\omega_0=\\omega_1=\\frac{1}{2}.$$\n",
    "\n",
    "Interval $[a,b]$ podjelimo na $n$ jednakih podintervala,\n",
    "\n",
    "$$[x_{i-1},x_{i}],\\quad  i=1,2,\\ldots,n,$$ \n",
    "\n",
    "i uvedimo oznake\n",
    "\n",
    "$$ \n",
    "\\Delta x=\\frac{b-a}{n}, \\quad y_i=f(x_i).\n",
    "$$\n",
    "\n",
    "Primijena Newton-Cotes-ove formule na svaki podinterval i zbrajanje daje __trapeznu formulu__:\n",
    "\n",
    "$$\n",
    "I_n=\\Delta x\\bigg( \\frac{y_0}{2} +y_1+y_2+\\cdots +y_{n-1}+\\frac{y_n}{2}\\bigg).\n",
    "$$\n",
    "\n",
    "Vrijedi\n",
    "\n",
    "$$\n",
    "\\int_a^b f(x)\\, dx=I_n+R,\n",
    "$$ \n",
    "\n",
    "pri čemu je  __pogreška__ $R$ omeđena s\n",
    "\n",
    "$$\n",
    "|R|\\leq \\frac{b-a}{12}(\\Delta x)^2 \\max_{x\\in(a,b)} |f''(x)|.\n",
    "$$\n",
    "\n",
    "Izvod trapezne formule i ocjene pogreške dan je u knjigama\n",
    "[Numerička matematika, poglavlje 7.1][RS04] i \n",
    "[Matematika 2, poglavlje 2.7.2][IS08].\n",
    "\n",
    "[RS04]: http://www.mathos.unios.hr/pim/Materijali/Num.pdf \"R. Scitovski, 'Numerička matematika', Sveučilište u Osijeku, Osijek, 2004.\"\n",
    "\n",
    "[IS08]: http://lavica.fesb.hr/mat2/predavanja/node46.html \"I. Slapničar, 'Matematika 2', FESB, Split, 2008.\"\n",
    "\n",
    "### Simpsonova formula\n",
    "\n",
    "Za $n=2$ Newton-cotes-ova formula (1) daje \n",
    "\n",
    "$$\\omega_0=\\frac{1}{6},\\quad \\omega_1=\\frac{2}{3},\\quad \\omega_2=\\frac{1}{6}.$$\n",
    "\n",
    "Interval $[a,b]$ podjelimo na paran broj $n$ jednakih podintervala, na svaki podinterval\n",
    "\n",
    "$$[x_{2i-1},x_{2i+1}],\\quad i=1,2,\\ldots,\\frac{n}{2},$$\n",
    "\n",
    "primijenimo  Newton-Cotes-ovu formulu i zbrojimo, što daje __Simpsonovu formulu__:\n",
    "\n",
    "$$\n",
    "I_n=\\frac{\\Delta x}{3}\\big(y_0 +4(y_1+y_3\\cdots +y_{n-1})+2(y_2+y_4+\\cdots+y_{n-2})+y_n\\big).\n",
    "$$\n",
    "\n",
    "Vrijedi\n",
    "\n",
    "$$\n",
    "\\int_a^b f(x)\\, dx =I_n+R,\n",
    "$$\n",
    "\n",
    "pri čemu je __pogreška__ $R$ omeđena s\n",
    "\n",
    "$$\n",
    "|R|\\leq \\frac{b-a}{180}(\\Delta x)^4 \\max_{x\\in(a,b)} |f^{(4)}(x)|. \\tag{3}\n",
    "$$\n",
    "\n",
    "Za detalje vidi knjige \n",
    "[Numerička matematika, poglavlje 7.3][RS04] i \n",
    "[Matematika 2, poglavlje 2.7.3][IS08].\n",
    "\n",
    "### Richardson-ova ekstrapolacija\n",
    "\n",
    "Ocjena pogreške pomoću formula (2) i (3) može biti složena. __Richardsonova ekstrapolacija__ nam omogućava da, uz određene uvjete, pogrešku procijenimo koristeći aproksimaciju integrala s $n/2$ točaka.\n",
    "Ako se u ocjeni pogreške javlja član $(\\Delta x)^m$  ($m=2$ za trapeznu formulu i $m=4$ za Simpsonovu formulu), tada je pogreška približno manja od broja (vidi [Matematika 2, poglavlje 2.7.4][IS08])\n",
    "\n",
    "$$\n",
    "E=\\frac{\\big(\\frac{n}{2}\\big)^m}{n^m-\\big(\\frac{n}{2}\\big)^m}(I_n-I_{n/2}).\n",
    "$$\n",
    "\n",
    "Predznak broja $E$ daje i predznak pogreške, ondosno, ako je $E>0$, tada je približno\n",
    "\n",
    "$$\\int_a^b f(x)\\, dx\\in[I_n,I_n+E],$$\n",
    "\n",
    "a ako je $E\\leq 0$, tada je približno\n",
    "\n",
    "$$\\int_a^b f(x)\\, dx\\in[I_n+E,I_n].$$"
   ]
  },
  {
   "cell_type": "code",
   "execution_count": 1,
   "metadata": {
    "collapsed": false
   },
   "outputs": [
    {
     "data": {
      "text/plain": [
       "mytrapez (generic function with 1 method)"
      ]
     },
     "execution_count": 1,
     "metadata": {},
     "output_type": "execute_result"
    }
   ],
   "source": [
    "function mytrapez(f::Function,a::Number,b::Number,n::Int64)\n",
    "    # n je broj intervala\n",
    "    X=linspace(a,b,n+1)\n",
    "    Y=map(f,X)\n",
    "    Δx=(b-a)/n\n",
    "    I=Δx*(Y[1]/2+sum(Y[2:end-1])+Y[end]/2)\n",
    "    # Richardsonova ekstrapolacija\n",
    "    Ihalf=2*Δx*(Y[1]/2+sum(Y[3:2:end-2])+Y[end]/2)\n",
    "    E=(n/2)^2*(I-Ihalf)/(n^2-(n/2)^2)\n",
    "    I,E\n",
    "end "
   ]
  },
  {
   "cell_type": "code",
   "execution_count": 2,
   "metadata": {
    "collapsed": false
   },
   "outputs": [
    {
     "data": {
      "text/plain": [
       "mySimpson (generic function with 1 method)"
      ]
     },
     "execution_count": 2,
     "metadata": {},
     "output_type": "execute_result"
    }
   ],
   "source": [
    "function mySimpson(f::Function,a::Number,b::Number,n::Int64)\n",
    "    # n je broj intervala, djeljiv s 4\n",
    "    X=linspace(a,b,n+1)\n",
    "    Y=map(f,X)\n",
    "    Δx=(b-a)/n\n",
    "    I=Δx/3*(Y[1]+4*sum(Y[2:2:end-1])+2*sum(Y[3:2:end-2])+Y[end])\n",
    "    # Richardsonova ekstrapolacija\n",
    "    Ihalf=2*Δx/3*(Y[1]+4*sum(Y[3:4:end-2])+2*sum(Y[5:4:end-4])+Y[end])\n",
    "    E=(n/2)^4*(I-Ihalf)/(n^4-(n/2)^4)\n",
    "    I,E\n",
    "end "
   ]
  },
  {
   "cell_type": "markdown",
   "metadata": {},
   "source": [
    "### Primjer 1 - Eliptički integral\n",
    "\n",
    "\n",
    "\n",
    "Izračunajmo osminu opsega elipse s polu-osima $2$ i $1$ (vidi  [Matematika 2, poglavlje 2.7.1][IS08]):\n",
    "\n",
    "[IS08]: http://lavica.fesb.hr/mat2/predavanja/node46.html \"I. Slapničar, 'Matematika 2', FESB, Split, 2008.\""
   ]
  },
  {
   "cell_type": "code",
   "execution_count": 3,
   "metadata": {
    "collapsed": false
   },
   "outputs": [
    {
     "data": {
      "text/plain": [
       "((1.2110515487742433,0.00036371987130023875),(1.2110560275664024,1.172757710943273e-7),(1.2110560275684592,6.3652786745175644e-15))"
      ]
     },
     "execution_count": 3,
     "metadata": {},
     "output_type": "execute_result"
    }
   ],
   "source": [
    "f1(x)=sqrt(1-(3.0)/4*cos(x)^2)\n",
    "mytrapez(f1,0,π/2,4), mytrapez(f1,0,pi/2,10), mytrapez(f1,0,pi/2,24)"
   ]
  },
  {
   "cell_type": "code",
   "execution_count": 4,
   "metadata": {
    "collapsed": false
   },
   "outputs": [
    {
     "data": {
      "text/plain": [
       "((1.2114152686455435,-0.000611077902412586),(1.2110560276465434,-9.950273232028905e-8),(1.211056027568466,-6.556223564047059e-10))"
      ]
     },
     "execution_count": 4,
     "metadata": {},
     "output_type": "execute_result"
    }
   ],
   "source": [
    "mySimpson(f1,0,π/2,4), mySimpson(f1,0,π/2,16), mySimpson(f1,0,π/2,24)"
   ]
  },
  {
   "cell_type": "markdown",
   "metadata": {},
   "source": [
    "### Primjer 2 - $\\pi$\n",
    "\n",
    "Vrijedi \n",
    "\n",
    "$$\n",
    "\\int_0^1 \\frac{4}{1+x^2}\\, dx=\\pi.\n",
    "$$\n",
    "\n",
    "Aproksimirajmo $\\pi$ numeričkom integracijom i provjerimo pogrešku (vidi [Numerička matematika, poglavlje 7.3][RS04]).\n",
    "\n",
    "> Pomoću trapezne formula možemo dobiti najviše pet točnih decimala. \n",
    "Simpsonova formula je točnija, ali je konvergencija spora.\n",
    "\n",
    "[RS04]: http://www.mathos.unios.hr/pim/Materijali/Num.pdf \"R. Scitovski, 'Numerička matematika', Sveučilište u Osijeku, Osijek, 2004.\""
   ]
  },
  {
   "cell_type": "code",
   "execution_count": 5,
   "metadata": {
    "collapsed": false
   },
   "outputs": [
    {
     "data": {
      "text/plain": [
       "3.141592653589793238462643383279502884197169399375105820974944592307816406286198"
      ]
     },
     "execution_count": 5,
     "metadata": {},
     "output_type": "execute_result"
    }
   ],
   "source": [
    "πbig=BigFloat(pi)"
   ]
  },
  {
   "cell_type": "code",
   "execution_count": 6,
   "metadata": {
    "collapsed": false
   },
   "outputs": [
    {
     "name": "stdout",
     "output_type": "stream",
     "text": [
      "πapprox = mytrapez(f2,0,1,10) = (3.1399259889071587,0.0016666250320562053)"
     ]
    },
    {
     "data": {
      "text/plain": [
       "-1.666664682634555812309880018294349956446743125105820974944592307816406286198029e-03"
      ]
     },
     "execution_count": 6,
     "metadata": {},
     "output_type": "execute_result"
    },
    {
     "name": "stdout",
     "output_type": "stream",
     "text": [
      "\n"
     ]
    }
   ],
   "source": [
    "f2(x)=4/(1+x^2)\n",
    "@show πapprox=mytrapez(f2,0,1,10)\n",
    "πapprox[1]-πbig"
   ]
  },
  {
   "cell_type": "code",
   "execution_count": 7,
   "metadata": {
    "collapsed": false
   },
   "outputs": [
    {
     "name": "stdout",
     "output_type": "stream",
     "text": [
      "πapprox = mytrapez(f2,0,1,100) = (3.1415759869231286,1.66666666251795e-5)"
     ]
    },
    {
     "data": {
      "text/plain": [
       "-1.666666666467787203105955763210420601949703135582097494459230781640628619802945e-05"
      ]
     },
     "execution_count": 7,
     "metadata": {},
     "output_type": "execute_result"
    },
    {
     "name": "stdout",
     "output_type": "stream",
     "text": [
      "\n"
     ]
    }
   ],
   "source": [
    "@show πapprox=mytrapez(f2,0,1,100)\n",
    "πapprox[1]-πbig"
   ]
  },
  {
   "cell_type": "code",
   "execution_count": 8,
   "metadata": {
    "collapsed": false
   },
   "outputs": [
    {
     "name": "stdout",
     "output_type": "stream",
     "text": [
      "πapprox = mySimpson(f2,0,1,16) = (3.141592651224822,9.91774099882529e-9)"
     ]
    },
    {
     "data": {
      "text/plain": [
       "-2.364971452347017073514000073718958950156355820974944592307816406286198029453625e-09"
      ]
     },
     "execution_count": 8,
     "metadata": {},
     "output_type": "execute_result"
    },
    {
     "name": "stdout",
     "output_type": "stream",
     "text": [
      "\n"
     ]
    }
   ],
   "source": [
    "@show πapprox=mySimpson(f2,0,1,16)\n",
    "πapprox[1]-πbig"
   ]
  },
  {
   "cell_type": "code",
   "execution_count": 9,
   "metadata": {
    "collapsed": false
   },
   "outputs": [
    {
     "name": "stdout",
     "output_type": "stream",
     "text": [
      "πapprox = mySimpson(f2,0,1,64) = (3.1415926535892162,2.4253192047278085e-12)"
     ]
    },
    {
     "data": {
      "text/plain": [
       "-5.769943482751460737218416213332177344808209749445923078164062861980294536250318e-13"
      ]
     },
     "execution_count": 9,
     "metadata": {},
     "output_type": "execute_result"
    },
    {
     "name": "stdout",
     "output_type": "stream",
     "text": [
      "\n"
     ]
    }
   ],
   "source": [
    "@show πapprox=mySimpson(f2,0,1,64)\n",
    "πapprox[1]-πbig"
   ]
  },
  {
   "cell_type": "markdown",
   "metadata": {},
   "source": [
    "## Gauss-ova kvadratura\n",
    "\n",
    "Slično kao u formuli (1), integral aproksimiramo sumom umnožaka vrijednosti funkcije i odgovarajućih težina:\n",
    "\n",
    "$$\n",
    "\\int_{a}^b \\omega(x) f(x)\\, dx=\\sum_{k=1}^n \\omega_k f(x_k),\n",
    "$$\n",
    "\n",
    "gdje je $\\omega(x)$ neka __težinska funkcija__.\n",
    "\n",
    "Točke $x_k$ su nul-točke odgovarajućeg ortogonalnog polinoma $P_{n}(x)$ reda $n+1$, na primjer, __Legendre-ovih polinoma__ za $\\omega(x)=1$ i __Čebišev-ljevih polinoma__ za \n",
    "\n",
    "$$\\omega(x)=\\displaystyle\\frac{1}{\\sqrt{1-x^2}}$$\n",
    "\n",
    "(vidi bilježnicu [NA09_Interpolacijski_polinomi.ipynb](NA09_Interpolacijski_polinomi.ipynb)).\n",
    "\n",
    "Težine su jednake\n",
    "\n",
    "$$\n",
    "\\omega_k=\\int_a^b \\omega(x) \\prod_{{i=1}\\atop {i\\neq k}}^n\\frac{x-x_i}{x_k-x_i} \\, dx.\n",
    "$$\n",
    "\n",
    "__Pogreška__ je dana s\n",
    "\n",
    "$$\n",
    "E=\\frac{f^{(2n)}(\\xi)}{(2n)!}\\int_a^b \\omega(x) P_n^2(x)\\, dx.\n",
    "$$\n",
    "\n",
    "Za detalje vidi [Numerical Analysis, poglavlje 7.3][KC96].\n",
    "\n",
    "[KC96]: https://books.google.hr/books?id=kPDtAp3UZtIC&hl=hr&source=gbs_book_other_versions \"David Kincaid and Ward Cheney, 'Numerical Analysis: Mathematics of Scientific Computing', 2nd Edition, American Mathematical Society, 2002\"\n",
    "\n",
    "__Napomena__: Legendre-ovi i Čebišev-ljevi polinomi su definirani na intervalu $[-1,1]$ pa  \n",
    "koristimo transformaciju\n",
    "\n",
    "$$\n",
    "\\int_{a}^b \\omega(x) f(x)\\, dx = \\frac{b-a}{2} \\int_{-1}^1 f\\bigg(\\frac{b-a}{2}x+\\frac{a+b}{2}\\bigg) dx.\n",
    "$$"
   ]
  },
  {
   "cell_type": "markdown",
   "metadata": {},
   "source": [
    "### Postojeće rutine\n",
    "\n",
    "Profesionalne rutine za numeričku integraciju su složene, a većina programa ima ugrađene odgovarajuće rutine.\n",
    "Tako, na primjer, \n",
    "\n",
    "* Ṁatlab ima rutinu `quad` koja koristi adaptivnu Simpsonovu formulu, a \n",
    "* Julia ima rutinu `quadgk()` koja koristi adaptivnu  Gauss-kronrod kvadraturu.\n",
    "\n",
    "Julia također ima i paket `FastGaussQuadrature.jl` koji brzo računa točke i težine za zadani $n$ i razne težinske funkcije pa se pomoću točaka i težina lako izračuna integral."
   ]
  },
  {
   "cell_type": "code",
   "execution_count": 10,
   "metadata": {
    "collapsed": false
   },
   "outputs": [
    {
     "name": "stdout",
     "output_type": "stream",
     "text": [
      "search: "
     ]
    },
    {
     "data": {
      "text/latex": [
       "\\begin{verbatim}\n",
       "quadgk(f, a,b,c...; reltol=sqrt(eps), abstol=0, maxevals=10^7, order=7, norm=vecnorm)\n",
       "\\end{verbatim}\n",
       "Numerically integrate the function \\texttt{f(x)} from \\texttt{a} to \\texttt{b}, and optionally over additional intervals \\texttt{b} to \\texttt{c} and so on. Keyword options include a relative error tolerance \\texttt{reltol} (defaults to \\texttt{sqrt(eps)} in the precision of the endpoints), an absolute error tolerance \\texttt{abstol} (defaults to 0), a maximum number of function evaluations \\texttt{maxevals} (defaults to \\texttt{10^7}), and the \\texttt{order} of the integration rule (defaults to 7).\n",
       "Returns a pair \\texttt{(I,E)} of the estimated integral \\texttt{I} and an estimated upper bound on the absolute error \\texttt{E}. If \\texttt{maxevals} is not exceeded then \\texttt{E <= max(abstol, reltol*norm(I))} will hold. (Note that it is useful to specify a positive \\texttt{abstol} in cases where \\texttt{norm(I)} may be zero.)\n",
       "The endpoints \\texttt{a} etcetera can also be complex (in which case the integral is performed over straight-line segments in the complex plane). If the endpoints are \\texttt{BigFloat}, then the integration will be performed in \\texttt{BigFloat} precision as well (note: it is advisable to increase the integration \\texttt{order} in rough proportion to the precision, for smooth integrands). More generally, the precision is set by the precision of the integration endpoints (promoted to floating-point types).\n",
       "The integrand \\texttt{f(x)} can return any numeric scalar, vector, or matrix type, or in fact any type supporting \\texttt{+}, \\texttt{-}, multiplication by real values, and a \\texttt{norm} (i.e., any normed vector space). Alternatively, a different norm can be specified by passing a \\texttt{norm}-like function as the \\texttt{norm} keyword argument (which defaults to \\texttt{vecnorm}).\n",
       "[Only one-dimensional integrals are provided by this function. For multi-dimensional integration (cubature), there are many different algorithms (often much better than simple nested 1d integrals) and the optimal choice tends to be very problem-dependent. See the Julia external-package listing for available algorithms for multidimensional integration or other specialized tasks (such as integrals of highly oscillatory or singular functions).]\n",
       "The algorithm is an adaptive Gauss-Kronrod integration technique: the integral in each interval is estimated using a Kronrod rule (\\texttt{2*order+1} points) and the error is estimated using an embedded Gauss rule (\\texttt{order} points). The interval with the largest error is then subdivided into two intervals and the process is repeated until the desired error tolerance is achieved.\n",
       "These quadrature rules work best for smooth functions within each interval, so if your function has a known discontinuity or other singularity, it is best to subdivide your interval to put the singularity at an endpoint. For example, if \\texttt{f} has a discontinuity at \\texttt{x=0.7} and you want to integrate from 0 to 1, you should use \\texttt{quadgk(f, 0,0.7,1)} to subdivide the interval at the point of discontinuity. The integrand is never evaluated exactly at the endpoints of the intervals, so it is possible to integrate functions that diverge at the endpoints as long as the singularity is integrable (for example, a \\texttt{log(x)} or \\texttt{1/sqrt(x)} singularity).\n",
       "For real-valued endpoints, the starting and/or ending points may be infinite. (A coordinate transformation is performed internally to map the infinite interval to a finite one.)\n"
      ],
      "text/markdown": [
       "```\n",
       "quadgk(f, a,b,c...; reltol=sqrt(eps), abstol=0, maxevals=10^7, order=7, norm=vecnorm)\n",
       "```\n",
       "\n",
       "Numerically integrate the function `f(x)` from `a` to `b`, and optionally over additional intervals `b` to `c` and so on. Keyword options include a relative error tolerance `reltol` (defaults to `sqrt(eps)` in the precision of the endpoints), an absolute error tolerance `abstol` (defaults to 0), a maximum number of function evaluations `maxevals` (defaults to `10^7`), and the `order` of the integration rule (defaults to 7).\n",
       "\n",
       "Returns a pair `(I,E)` of the estimated integral `I` and an estimated upper bound on the absolute error `E`. If `maxevals` is not exceeded then `E <= max(abstol, reltol*norm(I))` will hold. (Note that it is useful to specify a positive `abstol` in cases where `norm(I)` may be zero.)\n",
       "\n",
       "The endpoints `a` etcetera can also be complex (in which case the integral is performed over straight-line segments in the complex plane). If the endpoints are `BigFloat`, then the integration will be performed in `BigFloat` precision as well (note: it is advisable to increase the integration `order` in rough proportion to the precision, for smooth integrands). More generally, the precision is set by the precision of the integration endpoints (promoted to floating-point types).\n",
       "\n",
       "The integrand `f(x)` can return any numeric scalar, vector, or matrix type, or in fact any type supporting `+`, `-`, multiplication by real values, and a `norm` (i.e., any normed vector space). Alternatively, a different norm can be specified by passing a `norm`-like function as the `norm` keyword argument (which defaults to `vecnorm`).\n",
       "\n",
       "[Only one-dimensional integrals are provided by this function. For multi-dimensional integration (cubature), there are many different algorithms (often much better than simple nested 1d integrals) and the optimal choice tends to be very problem-dependent. See the Julia external-package listing for available algorithms for multidimensional integration or other specialized tasks (such as integrals of highly oscillatory or singular functions).]\n",
       "\n",
       "The algorithm is an adaptive Gauss-Kronrod integration technique: the integral in each interval is estimated using a Kronrod rule (`2*order+1` points) and the error is estimated using an embedded Gauss rule (`order` points). The interval with the largest error is then subdivided into two intervals and the process is repeated until the desired error tolerance is achieved.\n",
       "\n",
       "These quadrature rules work best for smooth functions within each interval, so if your function has a known discontinuity or other singularity, it is best to subdivide your interval to put the singularity at an endpoint. For example, if `f` has a discontinuity at `x=0.7` and you want to integrate from 0 to 1, you should use `quadgk(f, 0,0.7,1)` to subdivide the interval at the point of discontinuity. The integrand is never evaluated exactly at the endpoints of the intervals, so it is possible to integrate functions that diverge at the endpoints as long as the singularity is integrable (for example, a `log(x)` or `1/sqrt(x)` singularity).\n",
       "\n",
       "For real-valued endpoints, the starting and/or ending points may be infinite. (A coordinate transformation is performed internally to map the infinite interval to a finite one.)\n"
      ],
      "text/plain": [
       "```\n",
       "quadgk(f, a,b,c...; reltol=sqrt(eps), abstol=0, maxevals=10^7, order=7, norm=vecnorm)\n",
       "```\n",
       "\n",
       "Numerically integrate the function `f(x)` from `a` to `b`, and optionally over additional intervals `b` to `c` and so on. Keyword options include a relative error tolerance `reltol` (defaults to `sqrt(eps)` in the precision of the endpoints), an absolute error tolerance `abstol` (defaults to 0), a maximum number of function evaluations `maxevals` (defaults to `10^7`), and the `order` of the integration rule (defaults to 7).\n",
       "\n",
       "Returns a pair `(I,E)` of the estimated integral `I` and an estimated upper bound on the absolute error `E`. If `maxevals` is not exceeded then `E <= max(abstol, reltol*norm(I))` will hold. (Note that it is useful to specify a positive `abstol` in cases where `norm(I)` may be zero.)\n",
       "\n",
       "The endpoints `a` etcetera can also be complex (in which case the integral is performed over straight-line segments in the complex plane). If the endpoints are `BigFloat`, then the integration will be performed in `BigFloat` precision as well (note: it is advisable to increase the integration `order` in rough proportion to the precision, for smooth integrands). More generally, the precision is set by the precision of the integration endpoints (promoted to floating-point types).\n",
       "\n",
       "The integrand `f(x)` can return any numeric scalar, vector, or matrix type, or in fact any type supporting `+`, `-`, multiplication by real values, and a `norm` (i.e., any normed vector space). Alternatively, a different norm can be specified by passing a `norm`-like function as the `norm` keyword argument (which defaults to `vecnorm`).\n",
       "\n",
       "[Only one-dimensional integrals are provided by this function. For multi-dimensional integration (cubature), there are many different algorithms (often much better than simple nested 1d integrals) and the optimal choice tends to be very problem-dependent. See the Julia external-package listing for available algorithms for multidimensional integration or other specialized tasks (such as integrals of highly oscillatory or singular functions).]\n",
       "\n",
       "The algorithm is an adaptive Gauss-Kronrod integration technique: the integral in each interval is estimated using a Kronrod rule (`2*order+1` points) and the error is estimated using an embedded Gauss rule (`order` points). The interval with the largest error is then subdivided into two intervals and the process is repeated until the desired error tolerance is achieved.\n",
       "\n",
       "These quadrature rules work best for smooth functions within each interval, so if your function has a known discontinuity or other singularity, it is best to subdivide your interval to put the singularity at an endpoint. For example, if `f` has a discontinuity at `x=0.7` and you want to integrate from 0 to 1, you should use `quadgk(f, 0,0.7,1)` to subdivide the interval at the point of discontinuity. The integrand is never evaluated exactly at the endpoints of the intervals, so it is possible to integrate functions that diverge at the endpoints as long as the singularity is integrable (for example, a `log(x)` or `1/sqrt(x)` singularity).\n",
       "\n",
       "For real-valued endpoints, the starting and/or ending points may be infinite. (A coordinate transformation is performed internally to map the infinite interval to a finite one.)\n"
      ]
     },
     "execution_count": 10,
     "metadata": {},
     "output_type": "execute_result"
    },
    {
     "name": "stdout",
     "output_type": "stream",
     "text": [
      "quadgk\n",
      "\n"
     ]
    }
   ],
   "source": [
    "? quadgk"
   ]
  },
  {
   "cell_type": "code",
   "execution_count": 11,
   "metadata": {
    "collapsed": false
   },
   "outputs": [
    {
     "data": {
      "text/plain": [
       "((1.2110560275684594,8.948231045025068e-11),(3.1415926535897936,2.6639561667707312e-9),3.141592653589793238462643383279502884197169399375105820974944592307816406286198)"
      ]
     },
     "execution_count": 11,
     "metadata": {},
     "output_type": "execute_result"
    }
   ],
   "source": [
    "quadgk(f1,0,π/2), quadgk(f2,0,1), πbig"
   ]
  },
  {
   "cell_type": "code",
   "execution_count": 12,
   "metadata": {
    "collapsed": true
   },
   "outputs": [],
   "source": [
    "using FastGaussQuadrature"
   ]
  },
  {
   "cell_type": "code",
   "execution_count": 13,
   "metadata": {
    "collapsed": false
   },
   "outputs": [
    {
     "name": "stdout",
     "output_type": "stream",
     "text": [
      "           FastGaussQuadrature    135 KB     Module : FastGaussQuadrature\n",
      "                gausschebyshev   6523 bytes  Function : FastGaussQuadrature.gau…\n",
      "                  gausshermite   2910 bytes  Function : FastGaussQuadrature.gau…\n",
      "                   gaussjacobi   2775 bytes  Function : FastGaussQuadrature.gau…\n",
      "                 gausslegendre   2920 bytes  Function : FastGaussQuadrature.gau…\n",
      "                  gausslobatto   2347 bytes  Function : FastGaussQuadrature.gau…\n",
      "                    gaussradau   1912 bytes  Function : FastGaussQuadrature.gau…\n"
     ]
    }
   ],
   "source": [
    "whos(FastGaussQuadrature)"
   ]
  },
  {
   "cell_type": "code",
   "execution_count": 14,
   "metadata": {
    "collapsed": false
   },
   "outputs": [
    {
     "data": {
      "text/html": [
       "2 methods for generic function <b>gausschebyshev</b>:<ul><li> gausschebyshev(n::<b>Int64</b>) at <a href=\"https://github.com/ajt60gaibb/FastGaussQuadrature.jl/tree/347a91e675a8a5f37fb8bc32212d18cdfc72e029/src/gausschebyshev.jl#L5\" target=\"_blank\">/home/slap/.julia/v0.4/FastGaussQuadrature/src/gausschebyshev.jl:5</a><li> gausschebyshev(n::<b>Int64</b>, kind::<b>Int64</b>) at <a href=\"https://github.com/ajt60gaibb/FastGaussQuadrature.jl/tree/347a91e675a8a5f37fb8bc32212d18cdfc72e029/src/gausschebyshev.jl#L5\" target=\"_blank\">/home/slap/.julia/v0.4/FastGaussQuadrature/src/gausschebyshev.jl:5</a></ul>"
      ],
      "text/plain": [
       "# 2 methods for generic function \"gausschebyshev\":\n",
       "gausschebyshev(n::Int64) at /home/slap/.julia/v0.4/FastGaussQuadrature/src/gausschebyshev.jl:5\n",
       "gausschebyshev(n::Int64, kind::Int64) at /home/slap/.julia/v0.4/FastGaussQuadrature/src/gausschebyshev.jl:5"
      ]
     },
     "execution_count": 14,
     "metadata": {},
     "output_type": "execute_result"
    }
   ],
   "source": [
    "# Na primjer\n",
    "methods(gausschebyshev)"
   ]
  },
  {
   "cell_type": "code",
   "execution_count": 15,
   "metadata": {
    "collapsed": false
   },
   "outputs": [
    {
     "data": {
      "text/plain": [
       "([-0.9951847266721968,-0.9569403357322088,-0.8819212643483549,-0.773010453362737,-0.6343932841636454,-0.4713967368259977,-0.29028467725446216,-0.09801714032956065,0.09801714032956077,0.29028467725446233,0.4713967368259978,0.6343932841636455,0.773010453362737,0.881921264348355,0.9569403357322088,0.9951847266721969],[0.19634954084936207,0.19634954084936207,0.19634954084936207,0.19634954084936207,0.19634954084936207,0.19634954084936207,0.19634954084936207,0.19634954084936207,0.19634954084936207,0.19634954084936207,0.19634954084936207,0.19634954084936207,0.19634954084936207,0.19634954084936207,0.19634954084936207,0.19634954084936207])"
      ]
     },
     "execution_count": 15,
     "metadata": {},
     "output_type": "execute_result"
    }
   ],
   "source": [
    "gausschebyshev(16)"
   ]
  },
  {
   "cell_type": "code",
   "execution_count": 16,
   "metadata": {
    "collapsed": false
   },
   "outputs": [
    {
     "data": {
      "text/plain": [
       "mapnodes (generic function with 1 method)"
      ]
     },
     "execution_count": 16,
     "metadata": {},
     "output_type": "execute_result"
    }
   ],
   "source": [
    "# Sada racunajmo integrale. U nasem slucaju je ω(x)=1 pa nam trebaju Legendre-ovi polinomi\n",
    "a=0\n",
    "b=π/2\n",
    "ξ,ω=gausslegendre(32)\n",
    "mapnodes(x)=(b-a)*x/2+(a+b)/2"
   ]
  },
  {
   "cell_type": "code",
   "execution_count": 17,
   "metadata": {
    "collapsed": false
   },
   "outputs": [
    {
     "data": {
      "text/plain": [
       "1.2110560275684594"
      ]
     },
     "execution_count": 17,
     "metadata": {},
     "output_type": "execute_result"
    }
   ],
   "source": [
    "# 1/8 opsega elipse\n",
    "(b-a)/2*dot(ω,map(f1,mapnodes(ξ)))"
   ]
  },
  {
   "cell_type": "code",
   "execution_count": 18,
   "metadata": {
    "collapsed": false
   },
   "outputs": [
    {
     "data": {
      "text/plain": [
       "(3.141592653589793,3.141592653589793238462643383279502884197169399375105820974944592307816406286198)"
      ]
     },
     "execution_count": 18,
     "metadata": {},
     "output_type": "execute_result"
    }
   ],
   "source": [
    "# π\n",
    "a=0\n",
    "b=1\n",
    "(b-a)/2*dot(ω,map(f2,mapnodes(ξ))),πbig"
   ]
  },
  {
   "cell_type": "markdown",
   "metadata": {},
   "source": [
    "## Clenshaw-Curtis-ova kvadratura\n",
    "\n",
    "Uz supstituciju $x=\\cos\\theta$, vrijedi\n",
    "\n",
    "$$\n",
    "\\int_{-1}^1f(x)\\, dx =\\int_0^\\pi f(\\cos\\theta)\\sin\\theta \\, d\\theta.\n",
    "$$\n",
    "\n",
    "pa se zadani integral računa integriranjem Fourier-ovog reda parnog proširenja funkcije na desnoj strani.\n",
    "\n",
    "__U RADU__"
   ]
  },
  {
   "cell_type": "code",
   "execution_count": null,
   "metadata": {
    "collapsed": true
   },
   "outputs": [],
   "source": []
  }
 ],
 "metadata": {
  "kernelspec": {
   "display_name": "Julia 0.4.0",
   "language": "julia",
   "name": "julia-0.4"
  },
  "language_info": {
   "file_extension": ".jl",
   "mimetype": "application/julia",
   "name": "julia",
   "version": "0.4.0"
  }
 },
 "nbformat": 4,
 "nbformat_minor": 0
}
