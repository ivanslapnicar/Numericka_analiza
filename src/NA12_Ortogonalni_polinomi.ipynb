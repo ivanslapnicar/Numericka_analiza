{
 "cells": [
  {
   "cell_type": "markdown",
   "metadata": {},
   "source": [
    "# Ortogonalni polinomi\n",
    "\n",
    "---\n",
    "\n",
    "Neka je \n",
    "\n",
    "$$\n",
    "L(x_0,x_1,\\ldots,x_n)\n",
    "$$\n",
    "\n",
    "(pot)prostor razapet linearno nezavisnim vektorima (ili funkcijama) $x_0,x_1,\\ldots,x_n$.\n",
    "\n",
    "> Radi se o skupu svih linearnih kombinacija zadanih vektora. \n",
    "\n",
    "Koristeći __Gram-Schmidt-ov postupak ortogonalizacije__ možemo izračunati __ortogonalnu bazu__ tog (pot)prostora \n",
    "\n",
    "$$\n",
    "y_0,y_1,\\ldots,y_n, \n",
    "$$\n",
    "\n",
    "za koju vrijedi\n",
    "\n",
    "$$\n",
    "(y_i,y_j)=0,\\quad i\\neq j. \\tag{1}\n",
    "$$\n",
    "\n",
    "Neka je \n",
    "\n",
    "\\begin{align}\n",
    "y_0&=x_0\\\\\n",
    "y_1&=x_1-\\frac{(x_1,y_0)}{(y_0,y_0)}y_0\\\\\n",
    "y_2&=x_2-\\frac{(x_2,y_0)}{(y_0,y_0)}y_0-\\frac{(x_2,y_1)}{(y_1,y_1)}y_1\\\\\n",
    "& \\vdots \\\\\n",
    "y_n&=x_n-\\sum_{j=0}^{n-1} \\frac{(x_n,y_j)}{(y_j,y_j)}y_j.\n",
    "\\end{align}\n",
    "\n",
    "Svaki $y_j$ je linearna kombinacija od $x_0,x_1,\\ldots,x_j$ pa su $y_j$ linearno nezavisni i vrijedi\n",
    "\n",
    "$$\n",
    "L(x_0,x_1,\\ldots,x_n)=L(y_0,y_1,\\ldots,y_n).\n",
    "$$\n",
    "\n",
    "Direktnom provjerom se vidi da vrijedi (1).\n",
    "\n",
    "__Težinski skalarni produkt__  funkcija $f$ i $g$ na intervalu $[a,b]$ s težinom $\\omega(x)>0$ je\n",
    "\n",
    "$$\n",
    "(f,g)_\\omega=\\int_a^b f(x)g(x)\\omega(x)\\, dx\n",
    "$$\n",
    "\n",
    "> Funkcije $f$ i $g$ su __ortogonalne__ ako je $(f,g)_\\omega=0$.\n",
    "\n",
    "__Ortogonalni polinomi__ nastaju ortogonalizacijom polinoma\n",
    "\n",
    "$$\n",
    "1,x,x^2,x^2,\\ldots,x^n. \\tag{2}\n",
    "$$"
   ]
  },
  {
   "cell_type": "markdown",
   "metadata": {},
   "source": [
    "## Legendre-ovi polinomi\n",
    "\n",
    "Ortogonalizirajmo sustav (2) uz\n",
    "\n",
    "$$\n",
    "[a,b]=[-1,1], \\quad \\omega(x)=1,\n",
    "$$\n",
    "\n",
    "koristeći paket `SymPy.jl` za simboličko računanje. "
   ]
  },
  {
   "cell_type": "code",
   "execution_count": 1,
   "metadata": {
    "collapsed": true
   },
   "outputs": [],
   "source": [
    "using SymPy"
   ]
  },
  {
   "cell_type": "code",
   "execution_count": 2,
   "metadata": {
    "collapsed": true
   },
   "outputs": [],
   "source": [
    "a=-1\n",
    "b=1\n",
    "n=symbols(\"n\",integer=true)\n",
    "# j=symbols(\"j\",integer=true)\n",
    "# k=symbols(\"k\",integer=true)\n",
    "n=8\n",
    "P=Array{Any}(n)\n",
    "x=Sym(\"x\")\n",
    "P[1]=x^0\n",
    "ω(x)=1\n",
    "for k=2:n\n",
    "    P[k]=x^(k-1)\n",
    "    for j=1:k-1\n",
    "        P[k]=P[k]-integrate(x->x^(k-1)*P[j]*ω(x),a,b)*P[j]/integrate(x->P[j]*P[j]*ω(x),a,b)\n",
    "    end\n",
    "end"
   ]
  },
  {
   "cell_type": "markdown",
   "metadata": {},
   "source": [
    "Kako `Julia` indeksiranje započima s 1, svi indeksi su pomaknuti, odnosno\n",
    "\n",
    "$$\n",
    "P_0(x)=P[1], \\ P_1(x)=P[2], \\ldots\n",
    "$$"
   ]
  },
  {
   "cell_type": "code",
   "execution_count": 3,
   "metadata": {},
   "outputs": [
    {
     "data": {
      "text/latex": [
       "$$1$$"
      ],
      "text/plain": [
       "1"
      ]
     },
     "execution_count": 3,
     "metadata": {},
     "output_type": "execute_result"
    }
   ],
   "source": [
    "P[1]"
   ]
  },
  {
   "cell_type": "code",
   "execution_count": 4,
   "metadata": {},
   "outputs": [
    {
     "data": {
      "text/latex": [
       "$$x^{3} - \\frac{3 x}{5}$$"
      ],
      "text/plain": [
       " 3   3*x\n",
       "x  - ---\n",
       "      5 "
      ]
     },
     "execution_count": 4,
     "metadata": {},
     "output_type": "execute_result"
    }
   ],
   "source": [
    "P[4]"
   ]
  },
  {
   "cell_type": "code",
   "execution_count": 5,
   "metadata": {},
   "outputs": [
    {
     "data": {
      "text/latex": [
       "$$x^{5} - \\frac{10 x^{3}}{9} + \\frac{5 x}{21}$$"
      ],
      "text/plain": [
       "         3      \n",
       " 5   10*x    5*x\n",
       "x  - ----- + ---\n",
       "       9      21"
      ]
     },
     "execution_count": 5,
     "metadata": {},
     "output_type": "execute_result"
    }
   ],
   "source": [
    "P[6]"
   ]
  },
  {
   "cell_type": "code",
   "execution_count": 6,
   "metadata": {},
   "outputs": [
    {
     "data": {
      "text/latex": [
       "$$x^{6} - \\frac{15 x^{4}}{11} + \\frac{5 x^{2}}{11} - \\frac{5}{231}$$"
      ],
      "text/plain": [
       "         4      2      \n",
       " 6   15*x    5*x     5 \n",
       "x  - ----- + ---- - ---\n",
       "       11     11    231"
      ]
     },
     "execution_count": 6,
     "metadata": {},
     "output_type": "execute_result"
    }
   ],
   "source": [
    "P[7]"
   ]
  },
  {
   "cell_type": "code",
   "execution_count": 7,
   "metadata": {},
   "outputs": [
    {
     "data": {
      "text/latex": [
       "$$x^{7} - \\frac{21 x^{5}}{13} + \\frac{105 x^{3}}{143} - \\frac{35 x}{429}$$"
      ],
      "text/plain": [
       "         5        3       \n",
       " 7   21*x    105*x    35*x\n",
       "x  - ----- + ------ - ----\n",
       "       13     143     429 "
      ]
     },
     "execution_count": 7,
     "metadata": {},
     "output_type": "execute_result"
    }
   ],
   "source": [
    "P[8]"
   ]
  },
  {
   "cell_type": "markdown",
   "metadata": {},
   "source": [
    "Polinomi $P_n$ su do na množenje konstantom jednaki __Legendre-ovim__ polinomima\n",
    "\n",
    "$$\n",
    "L_n(x)=\\frac{1}{2^n n!}\\frac{d^n}{dx^n}(x^2-1)^n, \\quad n=0,1,2,3,\\ldots\n",
    "$$"
   ]
  },
  {
   "cell_type": "code",
   "execution_count": 8,
   "metadata": {
    "collapsed": true
   },
   "outputs": [],
   "source": [
    "n=8\n",
    "L=Array{Any}(n)\n",
    "L[1]=x^0\n",
    "for k=1:n-1\n",
    "    L[k+1]=expand(diff((x^2-1)^k/(2^k*factorial(k)),x,k))\n",
    "end"
   ]
  },
  {
   "cell_type": "code",
   "execution_count": 10,
   "metadata": {},
   "outputs": [
    {
     "data": {
      "text/plain": [
       "(1, 1)"
      ]
     },
     "execution_count": 10,
     "metadata": {},
     "output_type": "execute_result"
    }
   ],
   "source": [
    "L[1], P[1]"
   ]
  },
  {
   "cell_type": "code",
   "execution_count": 11,
   "metadata": {},
   "outputs": [
    {
     "data": {
      "text/plain": [
       "(x, x)"
      ]
     },
     "execution_count": 11,
     "metadata": {},
     "output_type": "execute_result"
    }
   ],
   "source": [
    "L[2],P[2]"
   ]
  },
  {
   "cell_type": "code",
   "execution_count": 12,
   "metadata": {},
   "outputs": [
    {
     "data": {
      "text/plain": [
       "(5*x^3/2 - 3*x/2, x^3 - 3*x/5)"
      ]
     },
     "execution_count": 12,
     "metadata": {},
     "output_type": "execute_result"
    }
   ],
   "source": [
    "L[4],P[4]"
   ]
  },
  {
   "cell_type": "code",
   "execution_count": 13,
   "metadata": {},
   "outputs": [
    {
     "data": {
      "text/plain": [
       "(231*x^6/16 - 315*x^4/16 + 105*x^2/16 - 5/16, x^6 - 15*x^4/11 + 5*x^2/11 - 5/231)"
      ]
     },
     "execution_count": 13,
     "metadata": {},
     "output_type": "execute_result"
    }
   ],
   "source": [
    "L[7],P[7]"
   ]
  },
  {
   "cell_type": "code",
   "execution_count": 14,
   "metadata": {},
   "outputs": [
    {
     "data": {
      "text/latex": [
       "$$x^{6} - \\frac{15 x^{4}}{11} + \\frac{5 x^{2}}{11} - \\frac{5}{231}$$"
      ],
      "text/plain": [
       "         4      2      \n",
       " 6   15*x    5*x     5 \n",
       "x  - ----- + ---- - ---\n",
       "       11     11    231"
      ]
     },
     "execution_count": 14,
     "metadata": {},
     "output_type": "execute_result"
    }
   ],
   "source": [
    "P[7]"
   ]
  },
  {
   "cell_type": "code",
   "execution_count": 15,
   "metadata": {},
   "outputs": [
    {
     "data": {
      "text/latex": [
       "$$x^{6} - \\frac{15 x^{4}}{11} + \\frac{5 x^{2}}{11} - \\frac{5}{231}$$"
      ],
      "text/plain": [
       "         4      2      \n",
       " 6   15*x    5*x     5 \n",
       "x  - ----- + ---- - ---\n",
       "       11     11    231"
      ]
     },
     "execution_count": 15,
     "metadata": {},
     "output_type": "execute_result"
    }
   ],
   "source": [
    "L[7]*16/231"
   ]
  },
  {
   "cell_type": "markdown",
   "metadata": {},
   "source": [
    "Pored ortogonalnosti, vrijede sljedeća svojstva:\n",
    "\n",
    "* $L_n(x)$  ima $n$ različitih nul-točaka na intervalu $[-1,1]$, \n",
    "* vrijedi __tročlana rekurzivna formula__: \n",
    "\n",
    "$$ \n",
    "L_{n+1}(x)=\\frac{2n+1}{n+1}\\,x\\, L_n(x)-\\frac{n}{n+1} L_{n-1}(x).\n",
    "$$\n",
    "\n",
    "Izračunajmo polinome numerički i nacrtajmo ih:"
   ]
  },
  {
   "cell_type": "code",
   "execution_count": 16,
   "metadata": {},
   "outputs": [
    {
     "data": {
      "text/html": [
       "<div id=\"interact-js-shim\">\n",
       "    <script charset=\"utf-8\">\n",
       "(function (IPython, $, _, MathJax) {\n",
       "    $.event.special.destroyed = {\n",
       "\tremove: function(o) {\n",
       "\t    if (o.handler) {\n",
       "\t\to.handler.apply(this, arguments)\n",
       "\t    }\n",
       "\t}\n",
       "    }\n",
       "\n",
       "    var OutputArea = IPython.version >= \"4.0.0\" ? require(\"notebook/js/outputarea\").OutputArea : IPython.OutputArea;\n",
       "\n",
       "    var redrawValue = function (container, type, val) {\n",
       "\tvar selector = $(\"<div/>\");\n",
       "\tvar oa = new OutputArea(_.extend(selector, {\n",
       "\t    selector: selector,\n",
       "\t    prompt_area: true,\n",
       "\t    events: IPython.events,\n",
       "\t    keyboard_manager: IPython.keyboard_manager\n",
       "\t})); // Hack to work with IPython 2.1.0\n",
       "\n",
       "\tswitch (type) {\n",
       "\tcase \"image/png\":\n",
       "            var _src = 'data:' + type + ';base64,' + val;\n",
       "\t    $(container).find(\"img\").attr('src', _src);\n",
       "\t    break;\n",
       "\tcase \"text/latex\":\n",
       "\t\tif (MathJax){\n",
       "\t\t\tvar math = MathJax.Hub.getAllJax(container)[0];\n",
       "\t\t\tMathJax.Hub.Queue([\"Text\", math, val.replace(/^\\${1,2}|\\${1,2}$/g, '')]);\n",
       "\t\t\tbreak;\n",
       "\t\t}\n",
       "\tdefault:\n",
       "\t    var toinsert = OutputArea.append_map[type].apply(\n",
       "\t\toa, [val, {}, selector]\n",
       "\t    );\n",
       "\t    $(container).empty().append(toinsert.contents());\n",
       "\t    selector.remove();\n",
       "\t}\n",
       "    }\n",
       "\n",
       "\n",
       "    $(document).ready(function() {\n",
       "\tfunction initComm(evt, data) {\n",
       "\t    var comm_manager = data.kernel.comm_manager;\n",
       "        //_.extend(comm_manager.targets, require(\"widgets/js/widget\"))\n",
       "\t    comm_manager.register_target(\"Signal\", function (comm) {\n",
       "            comm.on_msg(function (msg) {\n",
       "                var val = msg.content.data.value;\n",
       "                $(\".signal-\" + comm.comm_id).each(function() {\n",
       "                var type = $(this).data(\"type\");\n",
       "                if (typeof(val[type]) !== \"undefined\" && val[type] !== null) {\n",
       "                    redrawValue(this, type, val[type], type);\n",
       "                }\n",
       "                });\n",
       "                delete val;\n",
       "                delete msg.content.data.value;\n",
       "            });\n",
       "\t    });\n",
       "\n",
       "\t    // coordingate with Comm and redraw Signals\n",
       "\t    // XXX: Test using Reactive here to improve performance\n",
       "\t    $([IPython.events]).on(\n",
       "\t\t'output_appended.OutputArea', function (event, type, value, md, toinsert) {\n",
       "\t\t    if (md && md.reactive) {\n",
       "                // console.log(md.comm_id);\n",
       "                toinsert.addClass(\"signal-\" + md.comm_id);\n",
       "                toinsert.data(\"type\", type);\n",
       "                // Signal back indicating the mimetype required\n",
       "                var comm_manager = IPython.notebook.kernel.comm_manager;\n",
       "                var comm = comm_manager.comms[md.comm_id];\n",
       "                comm.then(function (c) {\n",
       "                    c.send({action: \"subscribe_mime\",\n",
       "                       mime: type});\n",
       "                    toinsert.bind(\"destroyed\", function() {\n",
       "                        c.send({action: \"unsubscribe_mime\",\n",
       "                               mime: type});\n",
       "                    });\n",
       "                })\n",
       "\t\t    }\n",
       "\t    });\n",
       "\t}\n",
       "\n",
       "\ttry {\n",
       "\t    // try to initialize right away. otherwise, wait on the status_started event.\n",
       "\t    initComm(undefined, IPython.notebook);\n",
       "\t} catch (e) {\n",
       "\t    $([IPython.events]).on('kernel_created.Kernel kernel_created.Session', initComm);\n",
       "\t}\n",
       "    });\n",
       "})(IPython, jQuery, _, MathJax);\n",
       "</script>\n",
       "    <script>\n",
       "        window.interactLoadedFlag = true\n",
       "       $(\"#interact-js-shim\").bind(\"destroyed\", function () {\n",
       "           if (window.interactLoadedFlag) {\n",
       "               console.warn(\"JavaScript required by Interact will be removed if you remove this cell or run using Interact more than once.\")\n",
       "           }\n",
       "       })\n",
       "       $([IPython.events]).on(\"kernel_starting.Kernel kernel_restarting.Kernel\", function () { window.interactLoadedFlag = false })\n",
       "   </script>\n",
       "</div>"
      ]
     },
     "metadata": {},
     "output_type": "display_data"
    }
   ],
   "source": [
    "using Polynomials\n",
    "using Interact\n",
    "using Winston"
   ]
  },
  {
   "cell_type": "code",
   "execution_count": 17,
   "metadata": {
    "collapsed": true
   },
   "outputs": [],
   "source": [
    "n=40\n",
    "L=Array{Any}(n)\n",
    "L[1]=Polynomials.Poly([1])\n",
    "L[2]=Polynomials.Poly([0,1])\n",
    "for i=3:n\n",
    "    p=(2*i-3)*L[2]*L[i-1]/(i-1)-(i-2)*L[i-2]/(i-1)\n",
    "    L[i]=Polynomials.Poly(map(Float64,[p[j] for j=0:length(p)-1]))\n",
    "    # @show i, length(L[i])\n",
    "end"
   ]
  },
  {
   "cell_type": "code",
   "execution_count": 19,
   "metadata": {},
   "outputs": [
    {
     "data": {
      "application/vnd.jupyter.widget-view+json": {
       "model_id": "55be1396-f350-4831-8511-4d80e43a50c2",
       "version_major": 2,
       "version_minor": 0
      }
     },
     "metadata": {},
     "output_type": "display_data"
    },
    {
     "data": {
      "text/html": [],
      "text/plain": [
       "Interact.Options{:SelectionSlider,Int64}(5: \"input-2\" = 20 Int64 , \"k\", 20, \"20\", 20, Interact.OptionDict(DataStructures.OrderedDict(\"1\"=>1,\"2\"=>2,\"3\"=>3,\"4\"=>4,\"5\"=>5,\"6\"=>6,\"7\"=>7,\"8\"=>8,\"9\"=>9,\"10\"=>10…), Dict(18=>\"18\",30=>\"30\",33=>\"33\",32=>\"32\",2=>\"2\",40=>\"40\",16=>\"16\",11=>\"11\",21=>\"21\",39=>\"39\"…)), Any[], Any[], true, \"horizontal\")"
      ]
     },
     "metadata": {},
     "output_type": "display_data"
    },
    {
     "data": {
      "image/png": "[encoded data removed]",
      "text/plain": [
       "Winston.FramedPlot(...)"
      ]
     },
     "execution_count": 19,
     "metadata": {
      "comm_id": "eddb241e-f560-4248-ab46-63b6ce98d1d9",
      "reactive": true
     },
     "output_type": "execute_result"
    }
   ],
   "source": [
    "xx=linspace(-1,1,300)\n",
    "@manipulate for k=1:n\n",
    "    yy=polyval(L[k],xx)\n",
    "    Winston.plot(xx,yy,\"b\")\n",
    "end"
   ]
  },
  {
   "cell_type": "markdown",
   "metadata": {},
   "source": [
    "## Čebiševljevi polinomi\n",
    "\n",
    "__Čebiševljevi polinomi__ $T_n(x)$ nastaju ortogonalizacijom sustava (2) uz\n",
    "\n",
    "$$\n",
    "[a,b]=[-1,1], \\quad \\omega(x)=\\frac{1}{\\sqrt{1-x^2}}.\n",
    "$$\n",
    "\n",
    "Čebiševljevi polinomi imaju sljedeća svojstva:\n",
    "\n",
    "* vrijedi \n",
    "\n",
    "$$\n",
    "T_n(x)=\\cos(n\\arccos x),\\quad n=0,1,2,3,\\ldots,\n",
    "$$\n",
    "\n",
    "* $T_n(x)$  ima $n$ različitih nul-točaka na intervalu $[-1,1]$, \n",
    "\n",
    "$$ \n",
    "x_k=\\cos \\bigg(\\frac{2k-1}{n}\\frac{\\pi}{2} \\bigg), \\quad k=1,\\ldots,n,\n",
    "$$\n",
    "\n",
    "* vrijedi _tročlana rekurzivna formula_: \n",
    "\n",
    "\\begin{align*}\n",
    "T_0(x)&=1,\\\\\n",
    "T_1(x)&=x, \\\\ \n",
    "T_{n+1}(x)&=2\\,x\\,T_n(x)-T_{n-1}(x),\\quad n=1,2,3,\\ldots.\n",
    "\\end{align*}\n",
    " \n",
    "__Napomena__:\n",
    "\n",
    "Rekurzivna formula slijedi iz _adicione formule_\n",
    "\n",
    "$$\n",
    "\\cos(n+1)\\varphi+\\cos(n-1)\\varphi=2\\cos\\varphi\\cos n\\varphi.\n",
    "$$\n",
    "\n",
    "Ortogonalnost se dokazuje pomoću supstitucije \n",
    "\n",
    "$$\n",
    "\\arccos x=\\varphi.\n",
    "$$"
   ]
  },
  {
   "cell_type": "code",
   "execution_count": 20,
   "metadata": {
    "collapsed": true
   },
   "outputs": [],
   "source": [
    "# Simbolički\n",
    "n=8\n",
    "T=Array{Any}(n)\n",
    "T[1]=x^0\n",
    "T[2]=x\n",
    "for k=2:n-1\n",
    "    T[k+1]=expand(2*x*T[k]-T[k-1])\n",
    "end"
   ]
  },
  {
   "cell_type": "code",
   "execution_count": 21,
   "metadata": {},
   "outputs": [
    {
     "data": {
      "text/html": [
       "2*x^2 - 1"
      ],
      "text/plain": [
       "   2    \n",
       "2*x  - 1"
      ]
     },
     "execution_count": 21,
     "metadata": {},
     "output_type": "execute_result"
    }
   ],
   "source": [
    "T[3]"
   ]
  },
  {
   "cell_type": "code",
   "execution_count": 22,
   "metadata": {},
   "outputs": [
    {
     "data": {
      "text/html": [
       "32*x^6 - 48*x^4 + 18*x^2 - 1"
      ],
      "text/plain": [
       "    6       4       2    \n",
       "32*x  - 48*x  + 18*x  - 1"
      ]
     },
     "execution_count": 22,
     "metadata": {},
     "output_type": "execute_result"
    }
   ],
   "source": [
    "T[7]"
   ]
  },
  {
   "cell_type": "code",
   "execution_count": 23,
   "metadata": {},
   "outputs": [
    {
     "data": {
      "text/html": [
       "64*x^7 - 112*x^5 + 56*x^3 - 7*x"
      ],
      "text/plain": [
       "    7        5       3      \n",
       "64*x  - 112*x  + 56*x  - 7*x"
      ]
     },
     "execution_count": 23,
     "metadata": {},
     "output_type": "execute_result"
    }
   ],
   "source": [
    "T[8]"
   ]
  },
  {
   "cell_type": "code",
   "execution_count": 24,
   "metadata": {
    "collapsed": true
   },
   "outputs": [],
   "source": [
    "# Numerički\n",
    "n=50\n",
    "T=Array{Any}(n)\n",
    "T[1]=Polynomials.Poly([1])\n",
    "T[2]=Polynomials.Poly([0,1])\n",
    "for i=3:n\n",
    "    p=2*T[2]*T[i-1]-T[i-2]\n",
    "    T[i]=Polynomials.Poly(map(BigInt,[p[i] for i=0:length(p)-1]))\n",
    "    # @show i, length(T[i])\n",
    "end"
   ]
  },
  {
   "cell_type": "code",
   "execution_count": 25,
   "metadata": {},
   "outputs": [
    {
     "data": {
      "application/vnd.jupyter.widget-view+json": {
       "model_id": "ad8103be-ee84-4b0c-adb2-ef4dc5c673e9",
       "version_major": 2,
       "version_minor": 0
      }
     },
     "metadata": {},
     "output_type": "display_data"
    },
    {
     "data": {
      "text/html": [],
      "text/plain": [
       "Interact.Options{:SelectionSlider,Int64}(9: \"input-3\" = 25 Int64 , \"k\", 25, \"25\", 25, Interact.OptionDict(DataStructures.OrderedDict(\"1\"=>1,\"2\"=>2,\"3\"=>3,\"4\"=>4,\"5\"=>5,\"6\"=>6,\"7\"=>7,\"8\"=>8,\"9\"=>9,\"10\"=>10…), Dict(2=>\"2\",11=>\"11\",39=>\"39\",46=>\"46\",25=>\"25\",42=>\"42\",29=>\"29\",8=>\"8\",20=>\"20\",14=>\"14\"…)), Any[], Any[], true, \"horizontal\")"
      ]
     },
     "metadata": {},
     "output_type": "display_data"
    },
    {
     "data": {
      "image/png": "[encoded data removed]",
      "text/plain": [
       "Winston.FramedPlot(...)"
      ]
     },
     "execution_count": 25,
     "metadata": {
      "comm_id": "c53f80b8-0ef6-4325-8c6f-389336c881aa",
      "reactive": true
     },
     "output_type": "execute_result"
    }
   ],
   "source": [
    "xx=linspace(-1,1,300)\n",
    "@manipulate for k=1:n\n",
    "    yy=polyval(T[k],xx)\n",
    "    Winston.plot(xx,yy,\"b\")\n",
    "end"
   ]
  },
  {
   "cell_type": "markdown",
   "metadata": {
    "collapsed": true
   },
   "source": [
    "## Promjena intervala\n",
    "\n",
    "Ortogonalni sustav funkcija $\\Phi_i$ na intervalu $[-1,1]$ pomoću transformacije \n",
    "\n",
    "$$\n",
    "\\gamma :[a,b]\\to [-1,1],\\quad \\gamma(x)=\\frac{2x}{b-a}-\\frac{a+b}{b-a}\n",
    "$$\n",
    "\n",
    "prelazi u ortogonalni sustav funkcija na intervalu $[a,b]$\n",
    "\n",
    "$$\n",
    "\\Psi_i(x)=\\Phi_i(\\gamma(x)).\n",
    "$$"
   ]
  },
  {
   "cell_type": "code",
   "execution_count": 26,
   "metadata": {},
   "outputs": [
    {
     "data": {
      "application/vnd.jupyter.widget-view+json": {
       "model_id": "be4245d0-0040-4bc4-a8f3-48ee61427337",
       "version_major": 2,
       "version_minor": 0
      }
     },
     "metadata": {},
     "output_type": "display_data"
    },
    {
     "data": {
      "text/html": [],
      "text/plain": [
       "Interact.Options{:SelectionSlider,Int64}(13: \"input-4\" = 25 Int64 , \"k\", 25, \"25\", 25, Interact.OptionDict(DataStructures.OrderedDict(\"1\"=>1,\"2\"=>2,\"3\"=>3,\"4\"=>4,\"5\"=>5,\"6\"=>6,\"7\"=>7,\"8\"=>8,\"9\"=>9,\"10\"=>10…), Dict(2=>\"2\",11=>\"11\",39=>\"39\",46=>\"46\",25=>\"25\",42=>\"42\",29=>\"29\",8=>\"8\",20=>\"20\",14=>\"14\"…)), Any[], Any[], true, \"horizontal\")"
      ]
     },
     "metadata": {},
     "output_type": "display_data"
    },
    {
     "data": {
      "image/png": "[encoded data removed]",
      "text/plain": [
       "Winston.FramedPlot(...)"
      ]
     },
     "execution_count": 26,
     "metadata": {
      "comm_id": "3304b944-d2e2-4ef4-972c-a065c1a59d66",
      "reactive": true
     },
     "output_type": "execute_result"
    }
   ],
   "source": [
    "a=1\n",
    "b=4\n",
    "xx=linspace(a,b,300)\n",
    "γ=2*xx/(b-a)-(b+a)/(b-a)\n",
    "@manipulate for k=1:n\n",
    "    yy=polyval(T[k],γ)\n",
    "    Winston.plot(xx,yy,\"b\")\n",
    "end"
   ]
  },
  {
   "cell_type": "code",
   "execution_count": null,
   "metadata": {
    "collapsed": true
   },
   "outputs": [],
   "source": []
  }
 ],
 "metadata": {
  "kernelspec": {
   "display_name": "Julia 0.6.0",
   "language": "julia",
   "name": "julia-0.6"
  },
  "language_info": {
   "file_extension": ".jl",
   "mimetype": "application/julia",
   "name": "julia",
   "version": "0.6.0"
  }
 },
 "nbformat": 4,
 "nbformat_minor": 1
}
